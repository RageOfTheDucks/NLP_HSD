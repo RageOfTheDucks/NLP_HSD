{
  "nbformat": 4,
  "nbformat_minor": 0,
  "metadata": {
    "colab": {
      "provenance": []
    },
    "kernelspec": {
      "name": "python3",
      "display_name": "Python 3"
    },
    "language_info": {
      "name": "python"
    }
  },
  "cells": [
    {
      "cell_type": "code",
      "execution_count": null,
      "metadata": {
        "id": "wmc1W1Zs-LRU"
      },
      "outputs": [],
      "source": [
        "# Various pip\n",
        "!pip install tensorflow\n",
        "!pip install transformers\n",
        "!pip install datasets"
      ]
    },
    {
      "cell_type": "code",
      "source": [
        "# Dataframe management\n",
        "import pandas as pd\n",
        "\n",
        "# Data manipulation\n",
        "import numpy as np\n",
        "import random\n",
        "\n",
        "# NNs\n",
        "from tensorflow import keras\n",
        "import tensorflow as tf\n",
        "\n",
        "# Transformers\n",
        "import transformers\n",
        "\n",
        "# Convert to HuggingFace dataset\n",
        "import pyarrow as pa\n",
        "from datasets import Dataset\n",
        "import datasets"
      ],
      "metadata": {
        "id": "VodYSPHv-PNE"
      },
      "execution_count": null,
      "outputs": []
    },
    {
      "cell_type": "code",
      "source": [],
      "metadata": {
        "id": "FE5ygDEX-e10"
      },
      "execution_count": null,
      "outputs": []
    }
  ]
}