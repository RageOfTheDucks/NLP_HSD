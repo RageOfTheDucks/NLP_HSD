{
  "nbformat": 4,
  "nbformat_minor": 0,
  "metadata": {
    "colab": {
      "provenance": [],
      "gpuType": "T4"
    },
    "kernelspec": {
      "name": "python3",
      "display_name": "Python 3"
    },
    "language_info": {
      "name": "python"
    },
    "accelerator": "GPU",
    "widgets": {
      "application/vnd.jupyter.widget-state+json": {
        "50629fc92e4d47b89fc4fdbf36386581": {
          "model_module": "@jupyter-widgets/controls",
          "model_name": "HBoxModel",
          "model_module_version": "1.5.0",
          "state": {
            "_dom_classes": [],
            "_model_module": "@jupyter-widgets/controls",
            "_model_module_version": "1.5.0",
            "_model_name": "HBoxModel",
            "_view_count": null,
            "_view_module": "@jupyter-widgets/controls",
            "_view_module_version": "1.5.0",
            "_view_name": "HBoxView",
            "box_style": "",
            "children": [
              "IPY_MODEL_fcf2a16cb803464d8fc1be0bb7b3effb",
              "IPY_MODEL_41a3bf2e21484915b3f28f98deb8ed6a",
              "IPY_MODEL_4fd4a30f50dc4683be04819ef6445db1"
            ],
            "layout": "IPY_MODEL_3485e7ad9f97435f8d3003b42a4922c3"
          }
        },
        "fcf2a16cb803464d8fc1be0bb7b3effb": {
          "model_module": "@jupyter-widgets/controls",
          "model_name": "HTMLModel",
          "model_module_version": "1.5.0",
          "state": {
            "_dom_classes": [],
            "_model_module": "@jupyter-widgets/controls",
            "_model_module_version": "1.5.0",
            "_model_name": "HTMLModel",
            "_view_count": null,
            "_view_module": "@jupyter-widgets/controls",
            "_view_module_version": "1.5.0",
            "_view_name": "HTMLView",
            "description": "",
            "description_tooltip": null,
            "layout": "IPY_MODEL_7d85d4ac43d54426b1bb45cb1328b36c",
            "placeholder": "​",
            "style": "IPY_MODEL_f3bfdf889028468cae0734f9ddb1e002",
            "value": "Downloading (…)okenizer_config.json: 100%"
          }
        },
        "41a3bf2e21484915b3f28f98deb8ed6a": {
          "model_module": "@jupyter-widgets/controls",
          "model_name": "FloatProgressModel",
          "model_module_version": "1.5.0",
          "state": {
            "_dom_classes": [],
            "_model_module": "@jupyter-widgets/controls",
            "_model_module_version": "1.5.0",
            "_model_name": "FloatProgressModel",
            "_view_count": null,
            "_view_module": "@jupyter-widgets/controls",
            "_view_module_version": "1.5.0",
            "_view_name": "ProgressView",
            "bar_style": "success",
            "description": "",
            "description_tooltip": null,
            "layout": "IPY_MODEL_a24b5054ed964200a9dc38e69afb3675",
            "max": 29,
            "min": 0,
            "orientation": "horizontal",
            "style": "IPY_MODEL_1abf4dbcfdb44a64919203f9d0b2c705",
            "value": 29
          }
        },
        "4fd4a30f50dc4683be04819ef6445db1": {
          "model_module": "@jupyter-widgets/controls",
          "model_name": "HTMLModel",
          "model_module_version": "1.5.0",
          "state": {
            "_dom_classes": [],
            "_model_module": "@jupyter-widgets/controls",
            "_model_module_version": "1.5.0",
            "_model_name": "HTMLModel",
            "_view_count": null,
            "_view_module": "@jupyter-widgets/controls",
            "_view_module_version": "1.5.0",
            "_view_name": "HTMLView",
            "description": "",
            "description_tooltip": null,
            "layout": "IPY_MODEL_73ff1229ee1b4dff98c0508d827a15b5",
            "placeholder": "​",
            "style": "IPY_MODEL_552ebfc997da47f59b1b9acb1a40fb14",
            "value": " 29.0/29.0 [00:00&lt;00:00, 1.68kB/s]"
          }
        },
        "3485e7ad9f97435f8d3003b42a4922c3": {
          "model_module": "@jupyter-widgets/base",
          "model_name": "LayoutModel",
          "model_module_version": "1.2.0",
          "state": {
            "_model_module": "@jupyter-widgets/base",
            "_model_module_version": "1.2.0",
            "_model_name": "LayoutModel",
            "_view_count": null,
            "_view_module": "@jupyter-widgets/base",
            "_view_module_version": "1.2.0",
            "_view_name": "LayoutView",
            "align_content": null,
            "align_items": null,
            "align_self": null,
            "border": null,
            "bottom": null,
            "display": null,
            "flex": null,
            "flex_flow": null,
            "grid_area": null,
            "grid_auto_columns": null,
            "grid_auto_flow": null,
            "grid_auto_rows": null,
            "grid_column": null,
            "grid_gap": null,
            "grid_row": null,
            "grid_template_areas": null,
            "grid_template_columns": null,
            "grid_template_rows": null,
            "height": null,
            "justify_content": null,
            "justify_items": null,
            "left": null,
            "margin": null,
            "max_height": null,
            "max_width": null,
            "min_height": null,
            "min_width": null,
            "object_fit": null,
            "object_position": null,
            "order": null,
            "overflow": null,
            "overflow_x": null,
            "overflow_y": null,
            "padding": null,
            "right": null,
            "top": null,
            "visibility": null,
            "width": null
          }
        },
        "7d85d4ac43d54426b1bb45cb1328b36c": {
          "model_module": "@jupyter-widgets/base",
          "model_name": "LayoutModel",
          "model_module_version": "1.2.0",
          "state": {
            "_model_module": "@jupyter-widgets/base",
            "_model_module_version": "1.2.0",
            "_model_name": "LayoutModel",
            "_view_count": null,
            "_view_module": "@jupyter-widgets/base",
            "_view_module_version": "1.2.0",
            "_view_name": "LayoutView",
            "align_content": null,
            "align_items": null,
            "align_self": null,
            "border": null,
            "bottom": null,
            "display": null,
            "flex": null,
            "flex_flow": null,
            "grid_area": null,
            "grid_auto_columns": null,
            "grid_auto_flow": null,
            "grid_auto_rows": null,
            "grid_column": null,
            "grid_gap": null,
            "grid_row": null,
            "grid_template_areas": null,
            "grid_template_columns": null,
            "grid_template_rows": null,
            "height": null,
            "justify_content": null,
            "justify_items": null,
            "left": null,
            "margin": null,
            "max_height": null,
            "max_width": null,
            "min_height": null,
            "min_width": null,
            "object_fit": null,
            "object_position": null,
            "order": null,
            "overflow": null,
            "overflow_x": null,
            "overflow_y": null,
            "padding": null,
            "right": null,
            "top": null,
            "visibility": null,
            "width": null
          }
        },
        "f3bfdf889028468cae0734f9ddb1e002": {
          "model_module": "@jupyter-widgets/controls",
          "model_name": "DescriptionStyleModel",
          "model_module_version": "1.5.0",
          "state": {
            "_model_module": "@jupyter-widgets/controls",
            "_model_module_version": "1.5.0",
            "_model_name": "DescriptionStyleModel",
            "_view_count": null,
            "_view_module": "@jupyter-widgets/base",
            "_view_module_version": "1.2.0",
            "_view_name": "StyleView",
            "description_width": ""
          }
        },
        "a24b5054ed964200a9dc38e69afb3675": {
          "model_module": "@jupyter-widgets/base",
          "model_name": "LayoutModel",
          "model_module_version": "1.2.0",
          "state": {
            "_model_module": "@jupyter-widgets/base",
            "_model_module_version": "1.2.0",
            "_model_name": "LayoutModel",
            "_view_count": null,
            "_view_module": "@jupyter-widgets/base",
            "_view_module_version": "1.2.0",
            "_view_name": "LayoutView",
            "align_content": null,
            "align_items": null,
            "align_self": null,
            "border": null,
            "bottom": null,
            "display": null,
            "flex": null,
            "flex_flow": null,
            "grid_area": null,
            "grid_auto_columns": null,
            "grid_auto_flow": null,
            "grid_auto_rows": null,
            "grid_column": null,
            "grid_gap": null,
            "grid_row": null,
            "grid_template_areas": null,
            "grid_template_columns": null,
            "grid_template_rows": null,
            "height": null,
            "justify_content": null,
            "justify_items": null,
            "left": null,
            "margin": null,
            "max_height": null,
            "max_width": null,
            "min_height": null,
            "min_width": null,
            "object_fit": null,
            "object_position": null,
            "order": null,
            "overflow": null,
            "overflow_x": null,
            "overflow_y": null,
            "padding": null,
            "right": null,
            "top": null,
            "visibility": null,
            "width": null
          }
        },
        "1abf4dbcfdb44a64919203f9d0b2c705": {
          "model_module": "@jupyter-widgets/controls",
          "model_name": "ProgressStyleModel",
          "model_module_version": "1.5.0",
          "state": {
            "_model_module": "@jupyter-widgets/controls",
            "_model_module_version": "1.5.0",
            "_model_name": "ProgressStyleModel",
            "_view_count": null,
            "_view_module": "@jupyter-widgets/base",
            "_view_module_version": "1.2.0",
            "_view_name": "StyleView",
            "bar_color": null,
            "description_width": ""
          }
        },
        "73ff1229ee1b4dff98c0508d827a15b5": {
          "model_module": "@jupyter-widgets/base",
          "model_name": "LayoutModel",
          "model_module_version": "1.2.0",
          "state": {
            "_model_module": "@jupyter-widgets/base",
            "_model_module_version": "1.2.0",
            "_model_name": "LayoutModel",
            "_view_count": null,
            "_view_module": "@jupyter-widgets/base",
            "_view_module_version": "1.2.0",
            "_view_name": "LayoutView",
            "align_content": null,
            "align_items": null,
            "align_self": null,
            "border": null,
            "bottom": null,
            "display": null,
            "flex": null,
            "flex_flow": null,
            "grid_area": null,
            "grid_auto_columns": null,
            "grid_auto_flow": null,
            "grid_auto_rows": null,
            "grid_column": null,
            "grid_gap": null,
            "grid_row": null,
            "grid_template_areas": null,
            "grid_template_columns": null,
            "grid_template_rows": null,
            "height": null,
            "justify_content": null,
            "justify_items": null,
            "left": null,
            "margin": null,
            "max_height": null,
            "max_width": null,
            "min_height": null,
            "min_width": null,
            "object_fit": null,
            "object_position": null,
            "order": null,
            "overflow": null,
            "overflow_x": null,
            "overflow_y": null,
            "padding": null,
            "right": null,
            "top": null,
            "visibility": null,
            "width": null
          }
        },
        "552ebfc997da47f59b1b9acb1a40fb14": {
          "model_module": "@jupyter-widgets/controls",
          "model_name": "DescriptionStyleModel",
          "model_module_version": "1.5.0",
          "state": {
            "_model_module": "@jupyter-widgets/controls",
            "_model_module_version": "1.5.0",
            "_model_name": "DescriptionStyleModel",
            "_view_count": null,
            "_view_module": "@jupyter-widgets/base",
            "_view_module_version": "1.2.0",
            "_view_name": "StyleView",
            "description_width": ""
          }
        },
        "91e6c236b6ff484ea794966de6044ac4": {
          "model_module": "@jupyter-widgets/controls",
          "model_name": "HBoxModel",
          "model_module_version": "1.5.0",
          "state": {
            "_dom_classes": [],
            "_model_module": "@jupyter-widgets/controls",
            "_model_module_version": "1.5.0",
            "_model_name": "HBoxModel",
            "_view_count": null,
            "_view_module": "@jupyter-widgets/controls",
            "_view_module_version": "1.5.0",
            "_view_name": "HBoxView",
            "box_style": "",
            "children": [
              "IPY_MODEL_061bef4c20b2486189dde0f3e009a995",
              "IPY_MODEL_ecfebdd830524585a643e651e1a0d542",
              "IPY_MODEL_67e3ae1d93724b3ba08a8c2ba8f6c8d9"
            ],
            "layout": "IPY_MODEL_6b7333e7f761477788246cc3a7c0afef"
          }
        },
        "061bef4c20b2486189dde0f3e009a995": {
          "model_module": "@jupyter-widgets/controls",
          "model_name": "HTMLModel",
          "model_module_version": "1.5.0",
          "state": {
            "_dom_classes": [],
            "_model_module": "@jupyter-widgets/controls",
            "_model_module_version": "1.5.0",
            "_model_name": "HTMLModel",
            "_view_count": null,
            "_view_module": "@jupyter-widgets/controls",
            "_view_module_version": "1.5.0",
            "_view_name": "HTMLView",
            "description": "",
            "description_tooltip": null,
            "layout": "IPY_MODEL_cc10bd09f8684246a979dad8525b00db",
            "placeholder": "​",
            "style": "IPY_MODEL_aed7832cf3864e26ab1417af0725a6cf",
            "value": "Downloading (…)lve/main/config.json: 100%"
          }
        },
        "ecfebdd830524585a643e651e1a0d542": {
          "model_module": "@jupyter-widgets/controls",
          "model_name": "FloatProgressModel",
          "model_module_version": "1.5.0",
          "state": {
            "_dom_classes": [],
            "_model_module": "@jupyter-widgets/controls",
            "_model_module_version": "1.5.0",
            "_model_name": "FloatProgressModel",
            "_view_count": null,
            "_view_module": "@jupyter-widgets/controls",
            "_view_module_version": "1.5.0",
            "_view_name": "ProgressView",
            "bar_style": "success",
            "description": "",
            "description_tooltip": null,
            "layout": "IPY_MODEL_33b87904c8b8428692e6f81a0165857c",
            "max": 625,
            "min": 0,
            "orientation": "horizontal",
            "style": "IPY_MODEL_47355d258c684703940afc8ea797bf64",
            "value": 625
          }
        },
        "67e3ae1d93724b3ba08a8c2ba8f6c8d9": {
          "model_module": "@jupyter-widgets/controls",
          "model_name": "HTMLModel",
          "model_module_version": "1.5.0",
          "state": {
            "_dom_classes": [],
            "_model_module": "@jupyter-widgets/controls",
            "_model_module_version": "1.5.0",
            "_model_name": "HTMLModel",
            "_view_count": null,
            "_view_module": "@jupyter-widgets/controls",
            "_view_module_version": "1.5.0",
            "_view_name": "HTMLView",
            "description": "",
            "description_tooltip": null,
            "layout": "IPY_MODEL_b8ef1ae550654b48a5310026be9c213c",
            "placeholder": "​",
            "style": "IPY_MODEL_4020813323974d5eba34b53d1f6a448a",
            "value": " 625/625 [00:00&lt;00:00, 44.3kB/s]"
          }
        },
        "6b7333e7f761477788246cc3a7c0afef": {
          "model_module": "@jupyter-widgets/base",
          "model_name": "LayoutModel",
          "model_module_version": "1.2.0",
          "state": {
            "_model_module": "@jupyter-widgets/base",
            "_model_module_version": "1.2.0",
            "_model_name": "LayoutModel",
            "_view_count": null,
            "_view_module": "@jupyter-widgets/base",
            "_view_module_version": "1.2.0",
            "_view_name": "LayoutView",
            "align_content": null,
            "align_items": null,
            "align_self": null,
            "border": null,
            "bottom": null,
            "display": null,
            "flex": null,
            "flex_flow": null,
            "grid_area": null,
            "grid_auto_columns": null,
            "grid_auto_flow": null,
            "grid_auto_rows": null,
            "grid_column": null,
            "grid_gap": null,
            "grid_row": null,
            "grid_template_areas": null,
            "grid_template_columns": null,
            "grid_template_rows": null,
            "height": null,
            "justify_content": null,
            "justify_items": null,
            "left": null,
            "margin": null,
            "max_height": null,
            "max_width": null,
            "min_height": null,
            "min_width": null,
            "object_fit": null,
            "object_position": null,
            "order": null,
            "overflow": null,
            "overflow_x": null,
            "overflow_y": null,
            "padding": null,
            "right": null,
            "top": null,
            "visibility": null,
            "width": null
          }
        },
        "cc10bd09f8684246a979dad8525b00db": {
          "model_module": "@jupyter-widgets/base",
          "model_name": "LayoutModel",
          "model_module_version": "1.2.0",
          "state": {
            "_model_module": "@jupyter-widgets/base",
            "_model_module_version": "1.2.0",
            "_model_name": "LayoutModel",
            "_view_count": null,
            "_view_module": "@jupyter-widgets/base",
            "_view_module_version": "1.2.0",
            "_view_name": "LayoutView",
            "align_content": null,
            "align_items": null,
            "align_self": null,
            "border": null,
            "bottom": null,
            "display": null,
            "flex": null,
            "flex_flow": null,
            "grid_area": null,
            "grid_auto_columns": null,
            "grid_auto_flow": null,
            "grid_auto_rows": null,
            "grid_column": null,
            "grid_gap": null,
            "grid_row": null,
            "grid_template_areas": null,
            "grid_template_columns": null,
            "grid_template_rows": null,
            "height": null,
            "justify_content": null,
            "justify_items": null,
            "left": null,
            "margin": null,
            "max_height": null,
            "max_width": null,
            "min_height": null,
            "min_width": null,
            "object_fit": null,
            "object_position": null,
            "order": null,
            "overflow": null,
            "overflow_x": null,
            "overflow_y": null,
            "padding": null,
            "right": null,
            "top": null,
            "visibility": null,
            "width": null
          }
        },
        "aed7832cf3864e26ab1417af0725a6cf": {
          "model_module": "@jupyter-widgets/controls",
          "model_name": "DescriptionStyleModel",
          "model_module_version": "1.5.0",
          "state": {
            "_model_module": "@jupyter-widgets/controls",
            "_model_module_version": "1.5.0",
            "_model_name": "DescriptionStyleModel",
            "_view_count": null,
            "_view_module": "@jupyter-widgets/base",
            "_view_module_version": "1.2.0",
            "_view_name": "StyleView",
            "description_width": ""
          }
        },
        "33b87904c8b8428692e6f81a0165857c": {
          "model_module": "@jupyter-widgets/base",
          "model_name": "LayoutModel",
          "model_module_version": "1.2.0",
          "state": {
            "_model_module": "@jupyter-widgets/base",
            "_model_module_version": "1.2.0",
            "_model_name": "LayoutModel",
            "_view_count": null,
            "_view_module": "@jupyter-widgets/base",
            "_view_module_version": "1.2.0",
            "_view_name": "LayoutView",
            "align_content": null,
            "align_items": null,
            "align_self": null,
            "border": null,
            "bottom": null,
            "display": null,
            "flex": null,
            "flex_flow": null,
            "grid_area": null,
            "grid_auto_columns": null,
            "grid_auto_flow": null,
            "grid_auto_rows": null,
            "grid_column": null,
            "grid_gap": null,
            "grid_row": null,
            "grid_template_areas": null,
            "grid_template_columns": null,
            "grid_template_rows": null,
            "height": null,
            "justify_content": null,
            "justify_items": null,
            "left": null,
            "margin": null,
            "max_height": null,
            "max_width": null,
            "min_height": null,
            "min_width": null,
            "object_fit": null,
            "object_position": null,
            "order": null,
            "overflow": null,
            "overflow_x": null,
            "overflow_y": null,
            "padding": null,
            "right": null,
            "top": null,
            "visibility": null,
            "width": null
          }
        },
        "47355d258c684703940afc8ea797bf64": {
          "model_module": "@jupyter-widgets/controls",
          "model_name": "ProgressStyleModel",
          "model_module_version": "1.5.0",
          "state": {
            "_model_module": "@jupyter-widgets/controls",
            "_model_module_version": "1.5.0",
            "_model_name": "ProgressStyleModel",
            "_view_count": null,
            "_view_module": "@jupyter-widgets/base",
            "_view_module_version": "1.2.0",
            "_view_name": "StyleView",
            "bar_color": null,
            "description_width": ""
          }
        },
        "b8ef1ae550654b48a5310026be9c213c": {
          "model_module": "@jupyter-widgets/base",
          "model_name": "LayoutModel",
          "model_module_version": "1.2.0",
          "state": {
            "_model_module": "@jupyter-widgets/base",
            "_model_module_version": "1.2.0",
            "_model_name": "LayoutModel",
            "_view_count": null,
            "_view_module": "@jupyter-widgets/base",
            "_view_module_version": "1.2.0",
            "_view_name": "LayoutView",
            "align_content": null,
            "align_items": null,
            "align_self": null,
            "border": null,
            "bottom": null,
            "display": null,
            "flex": null,
            "flex_flow": null,
            "grid_area": null,
            "grid_auto_columns": null,
            "grid_auto_flow": null,
            "grid_auto_rows": null,
            "grid_column": null,
            "grid_gap": null,
            "grid_row": null,
            "grid_template_areas": null,
            "grid_template_columns": null,
            "grid_template_rows": null,
            "height": null,
            "justify_content": null,
            "justify_items": null,
            "left": null,
            "margin": null,
            "max_height": null,
            "max_width": null,
            "min_height": null,
            "min_width": null,
            "object_fit": null,
            "object_position": null,
            "order": null,
            "overflow": null,
            "overflow_x": null,
            "overflow_y": null,
            "padding": null,
            "right": null,
            "top": null,
            "visibility": null,
            "width": null
          }
        },
        "4020813323974d5eba34b53d1f6a448a": {
          "model_module": "@jupyter-widgets/controls",
          "model_name": "DescriptionStyleModel",
          "model_module_version": "1.5.0",
          "state": {
            "_model_module": "@jupyter-widgets/controls",
            "_model_module_version": "1.5.0",
            "_model_name": "DescriptionStyleModel",
            "_view_count": null,
            "_view_module": "@jupyter-widgets/base",
            "_view_module_version": "1.2.0",
            "_view_name": "StyleView",
            "description_width": ""
          }
        },
        "0634def395224700854ddaee15796aab": {
          "model_module": "@jupyter-widgets/controls",
          "model_name": "HBoxModel",
          "model_module_version": "1.5.0",
          "state": {
            "_dom_classes": [],
            "_model_module": "@jupyter-widgets/controls",
            "_model_module_version": "1.5.0",
            "_model_name": "HBoxModel",
            "_view_count": null,
            "_view_module": "@jupyter-widgets/controls",
            "_view_module_version": "1.5.0",
            "_view_name": "HBoxView",
            "box_style": "",
            "children": [
              "IPY_MODEL_74333a40efa24ce1af51bb42b891828f",
              "IPY_MODEL_7932a0d89ca649fd9cbdff11e6fc3908",
              "IPY_MODEL_566b7bb20d724d709cc2e5b2261a93bb"
            ],
            "layout": "IPY_MODEL_117bf2ebcfe147bca231f0ecc0dea25e"
          }
        },
        "74333a40efa24ce1af51bb42b891828f": {
          "model_module": "@jupyter-widgets/controls",
          "model_name": "HTMLModel",
          "model_module_version": "1.5.0",
          "state": {
            "_dom_classes": [],
            "_model_module": "@jupyter-widgets/controls",
            "_model_module_version": "1.5.0",
            "_model_name": "HTMLModel",
            "_view_count": null,
            "_view_module": "@jupyter-widgets/controls",
            "_view_module_version": "1.5.0",
            "_view_name": "HTMLView",
            "description": "",
            "description_tooltip": null,
            "layout": "IPY_MODEL_8a3483f5bf564e98a24882afb6a21d6f",
            "placeholder": "​",
            "style": "IPY_MODEL_cc2e8cfd9e5040f7a67a3be82add9dc8",
            "value": "Downloading (…)solve/main/vocab.txt: 100%"
          }
        },
        "7932a0d89ca649fd9cbdff11e6fc3908": {
          "model_module": "@jupyter-widgets/controls",
          "model_name": "FloatProgressModel",
          "model_module_version": "1.5.0",
          "state": {
            "_dom_classes": [],
            "_model_module": "@jupyter-widgets/controls",
            "_model_module_version": "1.5.0",
            "_model_name": "FloatProgressModel",
            "_view_count": null,
            "_view_module": "@jupyter-widgets/controls",
            "_view_module_version": "1.5.0",
            "_view_name": "ProgressView",
            "bar_style": "success",
            "description": "",
            "description_tooltip": null,
            "layout": "IPY_MODEL_5d34bbf15ef34358ac852af766e0c50e",
            "max": 995526,
            "min": 0,
            "orientation": "horizontal",
            "style": "IPY_MODEL_06ddac618c3c4e0a8b9288dbc04fa3b2",
            "value": 995526
          }
        },
        "566b7bb20d724d709cc2e5b2261a93bb": {
          "model_module": "@jupyter-widgets/controls",
          "model_name": "HTMLModel",
          "model_module_version": "1.5.0",
          "state": {
            "_dom_classes": [],
            "_model_module": "@jupyter-widgets/controls",
            "_model_module_version": "1.5.0",
            "_model_name": "HTMLModel",
            "_view_count": null,
            "_view_module": "@jupyter-widgets/controls",
            "_view_module_version": "1.5.0",
            "_view_name": "HTMLView",
            "description": "",
            "description_tooltip": null,
            "layout": "IPY_MODEL_aa15514d610a4b518b62f30c213932ad",
            "placeholder": "​",
            "style": "IPY_MODEL_ede1f85627c5452392eab960cb2fd440",
            "value": " 996k/996k [00:00&lt;00:00, 1.17MB/s]"
          }
        },
        "117bf2ebcfe147bca231f0ecc0dea25e": {
          "model_module": "@jupyter-widgets/base",
          "model_name": "LayoutModel",
          "model_module_version": "1.2.0",
          "state": {
            "_model_module": "@jupyter-widgets/base",
            "_model_module_version": "1.2.0",
            "_model_name": "LayoutModel",
            "_view_count": null,
            "_view_module": "@jupyter-widgets/base",
            "_view_module_version": "1.2.0",
            "_view_name": "LayoutView",
            "align_content": null,
            "align_items": null,
            "align_self": null,
            "border": null,
            "bottom": null,
            "display": null,
            "flex": null,
            "flex_flow": null,
            "grid_area": null,
            "grid_auto_columns": null,
            "grid_auto_flow": null,
            "grid_auto_rows": null,
            "grid_column": null,
            "grid_gap": null,
            "grid_row": null,
            "grid_template_areas": null,
            "grid_template_columns": null,
            "grid_template_rows": null,
            "height": null,
            "justify_content": null,
            "justify_items": null,
            "left": null,
            "margin": null,
            "max_height": null,
            "max_width": null,
            "min_height": null,
            "min_width": null,
            "object_fit": null,
            "object_position": null,
            "order": null,
            "overflow": null,
            "overflow_x": null,
            "overflow_y": null,
            "padding": null,
            "right": null,
            "top": null,
            "visibility": null,
            "width": null
          }
        },
        "8a3483f5bf564e98a24882afb6a21d6f": {
          "model_module": "@jupyter-widgets/base",
          "model_name": "LayoutModel",
          "model_module_version": "1.2.0",
          "state": {
            "_model_module": "@jupyter-widgets/base",
            "_model_module_version": "1.2.0",
            "_model_name": "LayoutModel",
            "_view_count": null,
            "_view_module": "@jupyter-widgets/base",
            "_view_module_version": "1.2.0",
            "_view_name": "LayoutView",
            "align_content": null,
            "align_items": null,
            "align_self": null,
            "border": null,
            "bottom": null,
            "display": null,
            "flex": null,
            "flex_flow": null,
            "grid_area": null,
            "grid_auto_columns": null,
            "grid_auto_flow": null,
            "grid_auto_rows": null,
            "grid_column": null,
            "grid_gap": null,
            "grid_row": null,
            "grid_template_areas": null,
            "grid_template_columns": null,
            "grid_template_rows": null,
            "height": null,
            "justify_content": null,
            "justify_items": null,
            "left": null,
            "margin": null,
            "max_height": null,
            "max_width": null,
            "min_height": null,
            "min_width": null,
            "object_fit": null,
            "object_position": null,
            "order": null,
            "overflow": null,
            "overflow_x": null,
            "overflow_y": null,
            "padding": null,
            "right": null,
            "top": null,
            "visibility": null,
            "width": null
          }
        },
        "cc2e8cfd9e5040f7a67a3be82add9dc8": {
          "model_module": "@jupyter-widgets/controls",
          "model_name": "DescriptionStyleModel",
          "model_module_version": "1.5.0",
          "state": {
            "_model_module": "@jupyter-widgets/controls",
            "_model_module_version": "1.5.0",
            "_model_name": "DescriptionStyleModel",
            "_view_count": null,
            "_view_module": "@jupyter-widgets/base",
            "_view_module_version": "1.2.0",
            "_view_name": "StyleView",
            "description_width": ""
          }
        },
        "5d34bbf15ef34358ac852af766e0c50e": {
          "model_module": "@jupyter-widgets/base",
          "model_name": "LayoutModel",
          "model_module_version": "1.2.0",
          "state": {
            "_model_module": "@jupyter-widgets/base",
            "_model_module_version": "1.2.0",
            "_model_name": "LayoutModel",
            "_view_count": null,
            "_view_module": "@jupyter-widgets/base",
            "_view_module_version": "1.2.0",
            "_view_name": "LayoutView",
            "align_content": null,
            "align_items": null,
            "align_self": null,
            "border": null,
            "bottom": null,
            "display": null,
            "flex": null,
            "flex_flow": null,
            "grid_area": null,
            "grid_auto_columns": null,
            "grid_auto_flow": null,
            "grid_auto_rows": null,
            "grid_column": null,
            "grid_gap": null,
            "grid_row": null,
            "grid_template_areas": null,
            "grid_template_columns": null,
            "grid_template_rows": null,
            "height": null,
            "justify_content": null,
            "justify_items": null,
            "left": null,
            "margin": null,
            "max_height": null,
            "max_width": null,
            "min_height": null,
            "min_width": null,
            "object_fit": null,
            "object_position": null,
            "order": null,
            "overflow": null,
            "overflow_x": null,
            "overflow_y": null,
            "padding": null,
            "right": null,
            "top": null,
            "visibility": null,
            "width": null
          }
        },
        "06ddac618c3c4e0a8b9288dbc04fa3b2": {
          "model_module": "@jupyter-widgets/controls",
          "model_name": "ProgressStyleModel",
          "model_module_version": "1.5.0",
          "state": {
            "_model_module": "@jupyter-widgets/controls",
            "_model_module_version": "1.5.0",
            "_model_name": "ProgressStyleModel",
            "_view_count": null,
            "_view_module": "@jupyter-widgets/base",
            "_view_module_version": "1.2.0",
            "_view_name": "StyleView",
            "bar_color": null,
            "description_width": ""
          }
        },
        "aa15514d610a4b518b62f30c213932ad": {
          "model_module": "@jupyter-widgets/base",
          "model_name": "LayoutModel",
          "model_module_version": "1.2.0",
          "state": {
            "_model_module": "@jupyter-widgets/base",
            "_model_module_version": "1.2.0",
            "_model_name": "LayoutModel",
            "_view_count": null,
            "_view_module": "@jupyter-widgets/base",
            "_view_module_version": "1.2.0",
            "_view_name": "LayoutView",
            "align_content": null,
            "align_items": null,
            "align_self": null,
            "border": null,
            "bottom": null,
            "display": null,
            "flex": null,
            "flex_flow": null,
            "grid_area": null,
            "grid_auto_columns": null,
            "grid_auto_flow": null,
            "grid_auto_rows": null,
            "grid_column": null,
            "grid_gap": null,
            "grid_row": null,
            "grid_template_areas": null,
            "grid_template_columns": null,
            "grid_template_rows": null,
            "height": null,
            "justify_content": null,
            "justify_items": null,
            "left": null,
            "margin": null,
            "max_height": null,
            "max_width": null,
            "min_height": null,
            "min_width": null,
            "object_fit": null,
            "object_position": null,
            "order": null,
            "overflow": null,
            "overflow_x": null,
            "overflow_y": null,
            "padding": null,
            "right": null,
            "top": null,
            "visibility": null,
            "width": null
          }
        },
        "ede1f85627c5452392eab960cb2fd440": {
          "model_module": "@jupyter-widgets/controls",
          "model_name": "DescriptionStyleModel",
          "model_module_version": "1.5.0",
          "state": {
            "_model_module": "@jupyter-widgets/controls",
            "_model_module_version": "1.5.0",
            "_model_name": "DescriptionStyleModel",
            "_view_count": null,
            "_view_module": "@jupyter-widgets/base",
            "_view_module_version": "1.2.0",
            "_view_name": "StyleView",
            "description_width": ""
          }
        },
        "dfa315365cd44979af166306db137651": {
          "model_module": "@jupyter-widgets/controls",
          "model_name": "HBoxModel",
          "model_module_version": "1.5.0",
          "state": {
            "_dom_classes": [],
            "_model_module": "@jupyter-widgets/controls",
            "_model_module_version": "1.5.0",
            "_model_name": "HBoxModel",
            "_view_count": null,
            "_view_module": "@jupyter-widgets/controls",
            "_view_module_version": "1.5.0",
            "_view_name": "HBoxView",
            "box_style": "",
            "children": [
              "IPY_MODEL_6c3c2a2d432e4492b8a09d28fe16d7fb",
              "IPY_MODEL_d451e2cbaa274232bca5fbd9f56aed5e",
              "IPY_MODEL_d5336997e8224e6caae0c8c272db0048"
            ],
            "layout": "IPY_MODEL_8771ac9bcfd0429cace8c1bf499d79e9"
          }
        },
        "6c3c2a2d432e4492b8a09d28fe16d7fb": {
          "model_module": "@jupyter-widgets/controls",
          "model_name": "HTMLModel",
          "model_module_version": "1.5.0",
          "state": {
            "_dom_classes": [],
            "_model_module": "@jupyter-widgets/controls",
            "_model_module_version": "1.5.0",
            "_model_name": "HTMLModel",
            "_view_count": null,
            "_view_module": "@jupyter-widgets/controls",
            "_view_module_version": "1.5.0",
            "_view_name": "HTMLView",
            "description": "",
            "description_tooltip": null,
            "layout": "IPY_MODEL_e180b370986142d5850b424b9c7a440f",
            "placeholder": "​",
            "style": "IPY_MODEL_5fd6a56f6ff94ae48aa6455be81d1f83",
            "value": "Downloading (…)/main/tokenizer.json: 100%"
          }
        },
        "d451e2cbaa274232bca5fbd9f56aed5e": {
          "model_module": "@jupyter-widgets/controls",
          "model_name": "FloatProgressModel",
          "model_module_version": "1.5.0",
          "state": {
            "_dom_classes": [],
            "_model_module": "@jupyter-widgets/controls",
            "_model_module_version": "1.5.0",
            "_model_name": "FloatProgressModel",
            "_view_count": null,
            "_view_module": "@jupyter-widgets/controls",
            "_view_module_version": "1.5.0",
            "_view_name": "ProgressView",
            "bar_style": "success",
            "description": "",
            "description_tooltip": null,
            "layout": "IPY_MODEL_9a6822a4447f42bf9de9da4f5a8e1282",
            "max": 1961828,
            "min": 0,
            "orientation": "horizontal",
            "style": "IPY_MODEL_ecc16adc9ef34431ae47e13eaac1acc2",
            "value": 1961828
          }
        },
        "d5336997e8224e6caae0c8c272db0048": {
          "model_module": "@jupyter-widgets/controls",
          "model_name": "HTMLModel",
          "model_module_version": "1.5.0",
          "state": {
            "_dom_classes": [],
            "_model_module": "@jupyter-widgets/controls",
            "_model_module_version": "1.5.0",
            "_model_name": "HTMLModel",
            "_view_count": null,
            "_view_module": "@jupyter-widgets/controls",
            "_view_module_version": "1.5.0",
            "_view_name": "HTMLView",
            "description": "",
            "description_tooltip": null,
            "layout": "IPY_MODEL_6989451d185c46a0889307563e5f9cc8",
            "placeholder": "​",
            "style": "IPY_MODEL_ff3783fe416c49b299cf19d1b32a5234",
            "value": " 1.96M/1.96M [00:01&lt;00:00, 1.87MB/s]"
          }
        },
        "8771ac9bcfd0429cace8c1bf499d79e9": {
          "model_module": "@jupyter-widgets/base",
          "model_name": "LayoutModel",
          "model_module_version": "1.2.0",
          "state": {
            "_model_module": "@jupyter-widgets/base",
            "_model_module_version": "1.2.0",
            "_model_name": "LayoutModel",
            "_view_count": null,
            "_view_module": "@jupyter-widgets/base",
            "_view_module_version": "1.2.0",
            "_view_name": "LayoutView",
            "align_content": null,
            "align_items": null,
            "align_self": null,
            "border": null,
            "bottom": null,
            "display": null,
            "flex": null,
            "flex_flow": null,
            "grid_area": null,
            "grid_auto_columns": null,
            "grid_auto_flow": null,
            "grid_auto_rows": null,
            "grid_column": null,
            "grid_gap": null,
            "grid_row": null,
            "grid_template_areas": null,
            "grid_template_columns": null,
            "grid_template_rows": null,
            "height": null,
            "justify_content": null,
            "justify_items": null,
            "left": null,
            "margin": null,
            "max_height": null,
            "max_width": null,
            "min_height": null,
            "min_width": null,
            "object_fit": null,
            "object_position": null,
            "order": null,
            "overflow": null,
            "overflow_x": null,
            "overflow_y": null,
            "padding": null,
            "right": null,
            "top": null,
            "visibility": null,
            "width": null
          }
        },
        "e180b370986142d5850b424b9c7a440f": {
          "model_module": "@jupyter-widgets/base",
          "model_name": "LayoutModel",
          "model_module_version": "1.2.0",
          "state": {
            "_model_module": "@jupyter-widgets/base",
            "_model_module_version": "1.2.0",
            "_model_name": "LayoutModel",
            "_view_count": null,
            "_view_module": "@jupyter-widgets/base",
            "_view_module_version": "1.2.0",
            "_view_name": "LayoutView",
            "align_content": null,
            "align_items": null,
            "align_self": null,
            "border": null,
            "bottom": null,
            "display": null,
            "flex": null,
            "flex_flow": null,
            "grid_area": null,
            "grid_auto_columns": null,
            "grid_auto_flow": null,
            "grid_auto_rows": null,
            "grid_column": null,
            "grid_gap": null,
            "grid_row": null,
            "grid_template_areas": null,
            "grid_template_columns": null,
            "grid_template_rows": null,
            "height": null,
            "justify_content": null,
            "justify_items": null,
            "left": null,
            "margin": null,
            "max_height": null,
            "max_width": null,
            "min_height": null,
            "min_width": null,
            "object_fit": null,
            "object_position": null,
            "order": null,
            "overflow": null,
            "overflow_x": null,
            "overflow_y": null,
            "padding": null,
            "right": null,
            "top": null,
            "visibility": null,
            "width": null
          }
        },
        "5fd6a56f6ff94ae48aa6455be81d1f83": {
          "model_module": "@jupyter-widgets/controls",
          "model_name": "DescriptionStyleModel",
          "model_module_version": "1.5.0",
          "state": {
            "_model_module": "@jupyter-widgets/controls",
            "_model_module_version": "1.5.0",
            "_model_name": "DescriptionStyleModel",
            "_view_count": null,
            "_view_module": "@jupyter-widgets/base",
            "_view_module_version": "1.2.0",
            "_view_name": "StyleView",
            "description_width": ""
          }
        },
        "9a6822a4447f42bf9de9da4f5a8e1282": {
          "model_module": "@jupyter-widgets/base",
          "model_name": "LayoutModel",
          "model_module_version": "1.2.0",
          "state": {
            "_model_module": "@jupyter-widgets/base",
            "_model_module_version": "1.2.0",
            "_model_name": "LayoutModel",
            "_view_count": null,
            "_view_module": "@jupyter-widgets/base",
            "_view_module_version": "1.2.0",
            "_view_name": "LayoutView",
            "align_content": null,
            "align_items": null,
            "align_self": null,
            "border": null,
            "bottom": null,
            "display": null,
            "flex": null,
            "flex_flow": null,
            "grid_area": null,
            "grid_auto_columns": null,
            "grid_auto_flow": null,
            "grid_auto_rows": null,
            "grid_column": null,
            "grid_gap": null,
            "grid_row": null,
            "grid_template_areas": null,
            "grid_template_columns": null,
            "grid_template_rows": null,
            "height": null,
            "justify_content": null,
            "justify_items": null,
            "left": null,
            "margin": null,
            "max_height": null,
            "max_width": null,
            "min_height": null,
            "min_width": null,
            "object_fit": null,
            "object_position": null,
            "order": null,
            "overflow": null,
            "overflow_x": null,
            "overflow_y": null,
            "padding": null,
            "right": null,
            "top": null,
            "visibility": null,
            "width": null
          }
        },
        "ecc16adc9ef34431ae47e13eaac1acc2": {
          "model_module": "@jupyter-widgets/controls",
          "model_name": "ProgressStyleModel",
          "model_module_version": "1.5.0",
          "state": {
            "_model_module": "@jupyter-widgets/controls",
            "_model_module_version": "1.5.0",
            "_model_name": "ProgressStyleModel",
            "_view_count": null,
            "_view_module": "@jupyter-widgets/base",
            "_view_module_version": "1.2.0",
            "_view_name": "StyleView",
            "bar_color": null,
            "description_width": ""
          }
        },
        "6989451d185c46a0889307563e5f9cc8": {
          "model_module": "@jupyter-widgets/base",
          "model_name": "LayoutModel",
          "model_module_version": "1.2.0",
          "state": {
            "_model_module": "@jupyter-widgets/base",
            "_model_module_version": "1.2.0",
            "_model_name": "LayoutModel",
            "_view_count": null,
            "_view_module": "@jupyter-widgets/base",
            "_view_module_version": "1.2.0",
            "_view_name": "LayoutView",
            "align_content": null,
            "align_items": null,
            "align_self": null,
            "border": null,
            "bottom": null,
            "display": null,
            "flex": null,
            "flex_flow": null,
            "grid_area": null,
            "grid_auto_columns": null,
            "grid_auto_flow": null,
            "grid_auto_rows": null,
            "grid_column": null,
            "grid_gap": null,
            "grid_row": null,
            "grid_template_areas": null,
            "grid_template_columns": null,
            "grid_template_rows": null,
            "height": null,
            "justify_content": null,
            "justify_items": null,
            "left": null,
            "margin": null,
            "max_height": null,
            "max_width": null,
            "min_height": null,
            "min_width": null,
            "object_fit": null,
            "object_position": null,
            "order": null,
            "overflow": null,
            "overflow_x": null,
            "overflow_y": null,
            "padding": null,
            "right": null,
            "top": null,
            "visibility": null,
            "width": null
          }
        },
        "ff3783fe416c49b299cf19d1b32a5234": {
          "model_module": "@jupyter-widgets/controls",
          "model_name": "DescriptionStyleModel",
          "model_module_version": "1.5.0",
          "state": {
            "_model_module": "@jupyter-widgets/controls",
            "_model_module_version": "1.5.0",
            "_model_name": "DescriptionStyleModel",
            "_view_count": null,
            "_view_module": "@jupyter-widgets/base",
            "_view_module_version": "1.2.0",
            "_view_name": "StyleView",
            "description_width": ""
          }
        },
        "7c9a6738b9584435ac4f1242948bfcf8": {
          "model_module": "@jupyter-widgets/controls",
          "model_name": "HBoxModel",
          "model_module_version": "1.5.0",
          "state": {
            "_dom_classes": [],
            "_model_module": "@jupyter-widgets/controls",
            "_model_module_version": "1.5.0",
            "_model_name": "HBoxModel",
            "_view_count": null,
            "_view_module": "@jupyter-widgets/controls",
            "_view_module_version": "1.5.0",
            "_view_name": "HBoxView",
            "box_style": "",
            "children": [
              "IPY_MODEL_d186cf36e63a427aaf5f9750d62c91e7",
              "IPY_MODEL_a63993dde8764f84b20ef8a49aaef7e3",
              "IPY_MODEL_16af34f800754b73b62e78314f99dda5"
            ],
            "layout": "IPY_MODEL_249a3cd37a934acdb7d3d2fa4db7a46c"
          }
        },
        "d186cf36e63a427aaf5f9750d62c91e7": {
          "model_module": "@jupyter-widgets/controls",
          "model_name": "HTMLModel",
          "model_module_version": "1.5.0",
          "state": {
            "_dom_classes": [],
            "_model_module": "@jupyter-widgets/controls",
            "_model_module_version": "1.5.0",
            "_model_name": "HTMLModel",
            "_view_count": null,
            "_view_module": "@jupyter-widgets/controls",
            "_view_module_version": "1.5.0",
            "_view_name": "HTMLView",
            "description": "",
            "description_tooltip": null,
            "layout": "IPY_MODEL_bd9c4a19dab943889313caf5e5de1505",
            "placeholder": "​",
            "style": "IPY_MODEL_fea9575c117d49c48f30decffa4e3818",
            "value": "Map:  97%"
          }
        },
        "a63993dde8764f84b20ef8a49aaef7e3": {
          "model_module": "@jupyter-widgets/controls",
          "model_name": "FloatProgressModel",
          "model_module_version": "1.5.0",
          "state": {
            "_dom_classes": [],
            "_model_module": "@jupyter-widgets/controls",
            "_model_module_version": "1.5.0",
            "_model_name": "FloatProgressModel",
            "_view_count": null,
            "_view_module": "@jupyter-widgets/controls",
            "_view_module_version": "1.5.0",
            "_view_name": "ProgressView",
            "bar_style": "",
            "description": "",
            "description_tooltip": null,
            "layout": "IPY_MODEL_8b4281fe61414c66949e473c94d30a6e",
            "max": 4957,
            "min": 0,
            "orientation": "horizontal",
            "style": "IPY_MODEL_6db833399e2849ee86a963798ecdda92",
            "value": 4957
          }
        },
        "16af34f800754b73b62e78314f99dda5": {
          "model_module": "@jupyter-widgets/controls",
          "model_name": "HTMLModel",
          "model_module_version": "1.5.0",
          "state": {
            "_dom_classes": [],
            "_model_module": "@jupyter-widgets/controls",
            "_model_module_version": "1.5.0",
            "_model_name": "HTMLModel",
            "_view_count": null,
            "_view_module": "@jupyter-widgets/controls",
            "_view_module_version": "1.5.0",
            "_view_name": "HTMLView",
            "description": "",
            "description_tooltip": null,
            "layout": "IPY_MODEL_8ef61d1ef4a04c9b866851a9ee4de9bc",
            "placeholder": "​",
            "style": "IPY_MODEL_fc5386e3142e49699f0274e75a9ab294",
            "value": " 4800/4957 [00:01&lt;00:00, 4403.78 examples/s]"
          }
        },
        "249a3cd37a934acdb7d3d2fa4db7a46c": {
          "model_module": "@jupyter-widgets/base",
          "model_name": "LayoutModel",
          "model_module_version": "1.2.0",
          "state": {
            "_model_module": "@jupyter-widgets/base",
            "_model_module_version": "1.2.0",
            "_model_name": "LayoutModel",
            "_view_count": null,
            "_view_module": "@jupyter-widgets/base",
            "_view_module_version": "1.2.0",
            "_view_name": "LayoutView",
            "align_content": null,
            "align_items": null,
            "align_self": null,
            "border": null,
            "bottom": null,
            "display": null,
            "flex": null,
            "flex_flow": null,
            "grid_area": null,
            "grid_auto_columns": null,
            "grid_auto_flow": null,
            "grid_auto_rows": null,
            "grid_column": null,
            "grid_gap": null,
            "grid_row": null,
            "grid_template_areas": null,
            "grid_template_columns": null,
            "grid_template_rows": null,
            "height": null,
            "justify_content": null,
            "justify_items": null,
            "left": null,
            "margin": null,
            "max_height": null,
            "max_width": null,
            "min_height": null,
            "min_width": null,
            "object_fit": null,
            "object_position": null,
            "order": null,
            "overflow": null,
            "overflow_x": null,
            "overflow_y": null,
            "padding": null,
            "right": null,
            "top": null,
            "visibility": "hidden",
            "width": null
          }
        },
        "bd9c4a19dab943889313caf5e5de1505": {
          "model_module": "@jupyter-widgets/base",
          "model_name": "LayoutModel",
          "model_module_version": "1.2.0",
          "state": {
            "_model_module": "@jupyter-widgets/base",
            "_model_module_version": "1.2.0",
            "_model_name": "LayoutModel",
            "_view_count": null,
            "_view_module": "@jupyter-widgets/base",
            "_view_module_version": "1.2.0",
            "_view_name": "LayoutView",
            "align_content": null,
            "align_items": null,
            "align_self": null,
            "border": null,
            "bottom": null,
            "display": null,
            "flex": null,
            "flex_flow": null,
            "grid_area": null,
            "grid_auto_columns": null,
            "grid_auto_flow": null,
            "grid_auto_rows": null,
            "grid_column": null,
            "grid_gap": null,
            "grid_row": null,
            "grid_template_areas": null,
            "grid_template_columns": null,
            "grid_template_rows": null,
            "height": null,
            "justify_content": null,
            "justify_items": null,
            "left": null,
            "margin": null,
            "max_height": null,
            "max_width": null,
            "min_height": null,
            "min_width": null,
            "object_fit": null,
            "object_position": null,
            "order": null,
            "overflow": null,
            "overflow_x": null,
            "overflow_y": null,
            "padding": null,
            "right": null,
            "top": null,
            "visibility": null,
            "width": null
          }
        },
        "fea9575c117d49c48f30decffa4e3818": {
          "model_module": "@jupyter-widgets/controls",
          "model_name": "DescriptionStyleModel",
          "model_module_version": "1.5.0",
          "state": {
            "_model_module": "@jupyter-widgets/controls",
            "_model_module_version": "1.5.0",
            "_model_name": "DescriptionStyleModel",
            "_view_count": null,
            "_view_module": "@jupyter-widgets/base",
            "_view_module_version": "1.2.0",
            "_view_name": "StyleView",
            "description_width": ""
          }
        },
        "8b4281fe61414c66949e473c94d30a6e": {
          "model_module": "@jupyter-widgets/base",
          "model_name": "LayoutModel",
          "model_module_version": "1.2.0",
          "state": {
            "_model_module": "@jupyter-widgets/base",
            "_model_module_version": "1.2.0",
            "_model_name": "LayoutModel",
            "_view_count": null,
            "_view_module": "@jupyter-widgets/base",
            "_view_module_version": "1.2.0",
            "_view_name": "LayoutView",
            "align_content": null,
            "align_items": null,
            "align_self": null,
            "border": null,
            "bottom": null,
            "display": null,
            "flex": null,
            "flex_flow": null,
            "grid_area": null,
            "grid_auto_columns": null,
            "grid_auto_flow": null,
            "grid_auto_rows": null,
            "grid_column": null,
            "grid_gap": null,
            "grid_row": null,
            "grid_template_areas": null,
            "grid_template_columns": null,
            "grid_template_rows": null,
            "height": null,
            "justify_content": null,
            "justify_items": null,
            "left": null,
            "margin": null,
            "max_height": null,
            "max_width": null,
            "min_height": null,
            "min_width": null,
            "object_fit": null,
            "object_position": null,
            "order": null,
            "overflow": null,
            "overflow_x": null,
            "overflow_y": null,
            "padding": null,
            "right": null,
            "top": null,
            "visibility": null,
            "width": null
          }
        },
        "6db833399e2849ee86a963798ecdda92": {
          "model_module": "@jupyter-widgets/controls",
          "model_name": "ProgressStyleModel",
          "model_module_version": "1.5.0",
          "state": {
            "_model_module": "@jupyter-widgets/controls",
            "_model_module_version": "1.5.0",
            "_model_name": "ProgressStyleModel",
            "_view_count": null,
            "_view_module": "@jupyter-widgets/base",
            "_view_module_version": "1.2.0",
            "_view_name": "StyleView",
            "bar_color": null,
            "description_width": ""
          }
        },
        "8ef61d1ef4a04c9b866851a9ee4de9bc": {
          "model_module": "@jupyter-widgets/base",
          "model_name": "LayoutModel",
          "model_module_version": "1.2.0",
          "state": {
            "_model_module": "@jupyter-widgets/base",
            "_model_module_version": "1.2.0",
            "_model_name": "LayoutModel",
            "_view_count": null,
            "_view_module": "@jupyter-widgets/base",
            "_view_module_version": "1.2.0",
            "_view_name": "LayoutView",
            "align_content": null,
            "align_items": null,
            "align_self": null,
            "border": null,
            "bottom": null,
            "display": null,
            "flex": null,
            "flex_flow": null,
            "grid_area": null,
            "grid_auto_columns": null,
            "grid_auto_flow": null,
            "grid_auto_rows": null,
            "grid_column": null,
            "grid_gap": null,
            "grid_row": null,
            "grid_template_areas": null,
            "grid_template_columns": null,
            "grid_template_rows": null,
            "height": null,
            "justify_content": null,
            "justify_items": null,
            "left": null,
            "margin": null,
            "max_height": null,
            "max_width": null,
            "min_height": null,
            "min_width": null,
            "object_fit": null,
            "object_position": null,
            "order": null,
            "overflow": null,
            "overflow_x": null,
            "overflow_y": null,
            "padding": null,
            "right": null,
            "top": null,
            "visibility": null,
            "width": null
          }
        },
        "fc5386e3142e49699f0274e75a9ab294": {
          "model_module": "@jupyter-widgets/controls",
          "model_name": "DescriptionStyleModel",
          "model_module_version": "1.5.0",
          "state": {
            "_model_module": "@jupyter-widgets/controls",
            "_model_module_version": "1.5.0",
            "_model_name": "DescriptionStyleModel",
            "_view_count": null,
            "_view_module": "@jupyter-widgets/base",
            "_view_module_version": "1.2.0",
            "_view_name": "StyleView",
            "description_width": ""
          }
        },
        "5187973bd2f4468ca1bc20adbdeb7147": {
          "model_module": "@jupyter-widgets/controls",
          "model_name": "HBoxModel",
          "model_module_version": "1.5.0",
          "state": {
            "_dom_classes": [],
            "_model_module": "@jupyter-widgets/controls",
            "_model_module_version": "1.5.0",
            "_model_name": "HBoxModel",
            "_view_count": null,
            "_view_module": "@jupyter-widgets/controls",
            "_view_module_version": "1.5.0",
            "_view_name": "HBoxView",
            "box_style": "",
            "children": [
              "IPY_MODEL_70e94a3465bd424e9faba60fa505bef5",
              "IPY_MODEL_9806cd12e6884671afcf89bcee71c88a",
              "IPY_MODEL_d1fe67c8de674946a1d2a05a801456c4"
            ],
            "layout": "IPY_MODEL_ab781b0bf37a4a54a59d96b88ab65083"
          }
        },
        "70e94a3465bd424e9faba60fa505bef5": {
          "model_module": "@jupyter-widgets/controls",
          "model_name": "HTMLModel",
          "model_module_version": "1.5.0",
          "state": {
            "_dom_classes": [],
            "_model_module": "@jupyter-widgets/controls",
            "_model_module_version": "1.5.0",
            "_model_name": "HTMLModel",
            "_view_count": null,
            "_view_module": "@jupyter-widgets/controls",
            "_view_module_version": "1.5.0",
            "_view_name": "HTMLView",
            "description": "",
            "description_tooltip": null,
            "layout": "IPY_MODEL_bbc90a2748a34367855eb889c6b6bb80",
            "placeholder": "​",
            "style": "IPY_MODEL_ff8b8c8b600c486582bbea811f236b45",
            "value": "Map:  94%"
          }
        },
        "9806cd12e6884671afcf89bcee71c88a": {
          "model_module": "@jupyter-widgets/controls",
          "model_name": "FloatProgressModel",
          "model_module_version": "1.5.0",
          "state": {
            "_dom_classes": [],
            "_model_module": "@jupyter-widgets/controls",
            "_model_module_version": "1.5.0",
            "_model_name": "FloatProgressModel",
            "_view_count": null,
            "_view_module": "@jupyter-widgets/controls",
            "_view_module_version": "1.5.0",
            "_view_name": "ProgressView",
            "bar_style": "",
            "description": "",
            "description_tooltip": null,
            "layout": "IPY_MODEL_1f4e1275cf144b31a48c098d1ef87f5b",
            "max": 4957,
            "min": 0,
            "orientation": "horizontal",
            "style": "IPY_MODEL_8b0e78d822d043ca868fa9c33d08f1ae",
            "value": 4957
          }
        },
        "d1fe67c8de674946a1d2a05a801456c4": {
          "model_module": "@jupyter-widgets/controls",
          "model_name": "HTMLModel",
          "model_module_version": "1.5.0",
          "state": {
            "_dom_classes": [],
            "_model_module": "@jupyter-widgets/controls",
            "_model_module_version": "1.5.0",
            "_model_name": "HTMLModel",
            "_view_count": null,
            "_view_module": "@jupyter-widgets/controls",
            "_view_module_version": "1.5.0",
            "_view_name": "HTMLView",
            "description": "",
            "description_tooltip": null,
            "layout": "IPY_MODEL_73bc11cfa1134efca30af09235ba703c",
            "placeholder": "​",
            "style": "IPY_MODEL_74d328ed6b2a477b919b297c2c1277c0",
            "value": " 4640/4957 [00:01&lt;00:00, 4270.15 examples/s]"
          }
        },
        "ab781b0bf37a4a54a59d96b88ab65083": {
          "model_module": "@jupyter-widgets/base",
          "model_name": "LayoutModel",
          "model_module_version": "1.2.0",
          "state": {
            "_model_module": "@jupyter-widgets/base",
            "_model_module_version": "1.2.0",
            "_model_name": "LayoutModel",
            "_view_count": null,
            "_view_module": "@jupyter-widgets/base",
            "_view_module_version": "1.2.0",
            "_view_name": "LayoutView",
            "align_content": null,
            "align_items": null,
            "align_self": null,
            "border": null,
            "bottom": null,
            "display": null,
            "flex": null,
            "flex_flow": null,
            "grid_area": null,
            "grid_auto_columns": null,
            "grid_auto_flow": null,
            "grid_auto_rows": null,
            "grid_column": null,
            "grid_gap": null,
            "grid_row": null,
            "grid_template_areas": null,
            "grid_template_columns": null,
            "grid_template_rows": null,
            "height": null,
            "justify_content": null,
            "justify_items": null,
            "left": null,
            "margin": null,
            "max_height": null,
            "max_width": null,
            "min_height": null,
            "min_width": null,
            "object_fit": null,
            "object_position": null,
            "order": null,
            "overflow": null,
            "overflow_x": null,
            "overflow_y": null,
            "padding": null,
            "right": null,
            "top": null,
            "visibility": "hidden",
            "width": null
          }
        },
        "bbc90a2748a34367855eb889c6b6bb80": {
          "model_module": "@jupyter-widgets/base",
          "model_name": "LayoutModel",
          "model_module_version": "1.2.0",
          "state": {
            "_model_module": "@jupyter-widgets/base",
            "_model_module_version": "1.2.0",
            "_model_name": "LayoutModel",
            "_view_count": null,
            "_view_module": "@jupyter-widgets/base",
            "_view_module_version": "1.2.0",
            "_view_name": "LayoutView",
            "align_content": null,
            "align_items": null,
            "align_self": null,
            "border": null,
            "bottom": null,
            "display": null,
            "flex": null,
            "flex_flow": null,
            "grid_area": null,
            "grid_auto_columns": null,
            "grid_auto_flow": null,
            "grid_auto_rows": null,
            "grid_column": null,
            "grid_gap": null,
            "grid_row": null,
            "grid_template_areas": null,
            "grid_template_columns": null,
            "grid_template_rows": null,
            "height": null,
            "justify_content": null,
            "justify_items": null,
            "left": null,
            "margin": null,
            "max_height": null,
            "max_width": null,
            "min_height": null,
            "min_width": null,
            "object_fit": null,
            "object_position": null,
            "order": null,
            "overflow": null,
            "overflow_x": null,
            "overflow_y": null,
            "padding": null,
            "right": null,
            "top": null,
            "visibility": null,
            "width": null
          }
        },
        "ff8b8c8b600c486582bbea811f236b45": {
          "model_module": "@jupyter-widgets/controls",
          "model_name": "DescriptionStyleModel",
          "model_module_version": "1.5.0",
          "state": {
            "_model_module": "@jupyter-widgets/controls",
            "_model_module_version": "1.5.0",
            "_model_name": "DescriptionStyleModel",
            "_view_count": null,
            "_view_module": "@jupyter-widgets/base",
            "_view_module_version": "1.2.0",
            "_view_name": "StyleView",
            "description_width": ""
          }
        },
        "1f4e1275cf144b31a48c098d1ef87f5b": {
          "model_module": "@jupyter-widgets/base",
          "model_name": "LayoutModel",
          "model_module_version": "1.2.0",
          "state": {
            "_model_module": "@jupyter-widgets/base",
            "_model_module_version": "1.2.0",
            "_model_name": "LayoutModel",
            "_view_count": null,
            "_view_module": "@jupyter-widgets/base",
            "_view_module_version": "1.2.0",
            "_view_name": "LayoutView",
            "align_content": null,
            "align_items": null,
            "align_self": null,
            "border": null,
            "bottom": null,
            "display": null,
            "flex": null,
            "flex_flow": null,
            "grid_area": null,
            "grid_auto_columns": null,
            "grid_auto_flow": null,
            "grid_auto_rows": null,
            "grid_column": null,
            "grid_gap": null,
            "grid_row": null,
            "grid_template_areas": null,
            "grid_template_columns": null,
            "grid_template_rows": null,
            "height": null,
            "justify_content": null,
            "justify_items": null,
            "left": null,
            "margin": null,
            "max_height": null,
            "max_width": null,
            "min_height": null,
            "min_width": null,
            "object_fit": null,
            "object_position": null,
            "order": null,
            "overflow": null,
            "overflow_x": null,
            "overflow_y": null,
            "padding": null,
            "right": null,
            "top": null,
            "visibility": null,
            "width": null
          }
        },
        "8b0e78d822d043ca868fa9c33d08f1ae": {
          "model_module": "@jupyter-widgets/controls",
          "model_name": "ProgressStyleModel",
          "model_module_version": "1.5.0",
          "state": {
            "_model_module": "@jupyter-widgets/controls",
            "_model_module_version": "1.5.0",
            "_model_name": "ProgressStyleModel",
            "_view_count": null,
            "_view_module": "@jupyter-widgets/base",
            "_view_module_version": "1.2.0",
            "_view_name": "StyleView",
            "bar_color": null,
            "description_width": ""
          }
        },
        "73bc11cfa1134efca30af09235ba703c": {
          "model_module": "@jupyter-widgets/base",
          "model_name": "LayoutModel",
          "model_module_version": "1.2.0",
          "state": {
            "_model_module": "@jupyter-widgets/base",
            "_model_module_version": "1.2.0",
            "_model_name": "LayoutModel",
            "_view_count": null,
            "_view_module": "@jupyter-widgets/base",
            "_view_module_version": "1.2.0",
            "_view_name": "LayoutView",
            "align_content": null,
            "align_items": null,
            "align_self": null,
            "border": null,
            "bottom": null,
            "display": null,
            "flex": null,
            "flex_flow": null,
            "grid_area": null,
            "grid_auto_columns": null,
            "grid_auto_flow": null,
            "grid_auto_rows": null,
            "grid_column": null,
            "grid_gap": null,
            "grid_row": null,
            "grid_template_areas": null,
            "grid_template_columns": null,
            "grid_template_rows": null,
            "height": null,
            "justify_content": null,
            "justify_items": null,
            "left": null,
            "margin": null,
            "max_height": null,
            "max_width": null,
            "min_height": null,
            "min_width": null,
            "object_fit": null,
            "object_position": null,
            "order": null,
            "overflow": null,
            "overflow_x": null,
            "overflow_y": null,
            "padding": null,
            "right": null,
            "top": null,
            "visibility": null,
            "width": null
          }
        },
        "74d328ed6b2a477b919b297c2c1277c0": {
          "model_module": "@jupyter-widgets/controls",
          "model_name": "DescriptionStyleModel",
          "model_module_version": "1.5.0",
          "state": {
            "_model_module": "@jupyter-widgets/controls",
            "_model_module_version": "1.5.0",
            "_model_name": "DescriptionStyleModel",
            "_view_count": null,
            "_view_module": "@jupyter-widgets/base",
            "_view_module_version": "1.2.0",
            "_view_name": "StyleView",
            "description_width": ""
          }
        },
        "c84e54269edc46419c6561e512b2c8bf": {
          "model_module": "@jupyter-widgets/controls",
          "model_name": "HBoxModel",
          "model_module_version": "1.5.0",
          "state": {
            "_dom_classes": [],
            "_model_module": "@jupyter-widgets/controls",
            "_model_module_version": "1.5.0",
            "_model_name": "HBoxModel",
            "_view_count": null,
            "_view_module": "@jupyter-widgets/controls",
            "_view_module_version": "1.5.0",
            "_view_name": "HBoxView",
            "box_style": "",
            "children": [
              "IPY_MODEL_efbd19c22d74464aa4f1c3ba04b34455",
              "IPY_MODEL_20ecbc61dad54a89af992b4e11712a4b",
              "IPY_MODEL_e56765a4c9824710b0db16b4d7f4ca0c"
            ],
            "layout": "IPY_MODEL_b57c305c6c144dec9b0eeddb58e8feff"
          }
        },
        "efbd19c22d74464aa4f1c3ba04b34455": {
          "model_module": "@jupyter-widgets/controls",
          "model_name": "HTMLModel",
          "model_module_version": "1.5.0",
          "state": {
            "_dom_classes": [],
            "_model_module": "@jupyter-widgets/controls",
            "_model_module_version": "1.5.0",
            "_model_name": "HTMLModel",
            "_view_count": null,
            "_view_module": "@jupyter-widgets/controls",
            "_view_module_version": "1.5.0",
            "_view_name": "HTMLView",
            "description": "",
            "description_tooltip": null,
            "layout": "IPY_MODEL_58e5bccfb03a41bea54ba54955445a26",
            "placeholder": "​",
            "style": "IPY_MODEL_097ca3c13d134d2bb6105a2a09495662",
            "value": "Downloading model.safetensors: 100%"
          }
        },
        "20ecbc61dad54a89af992b4e11712a4b": {
          "model_module": "@jupyter-widgets/controls",
          "model_name": "FloatProgressModel",
          "model_module_version": "1.5.0",
          "state": {
            "_dom_classes": [],
            "_model_module": "@jupyter-widgets/controls",
            "_model_module_version": "1.5.0",
            "_model_name": "FloatProgressModel",
            "_view_count": null,
            "_view_module": "@jupyter-widgets/controls",
            "_view_module_version": "1.5.0",
            "_view_name": "ProgressView",
            "bar_style": "success",
            "description": "",
            "description_tooltip": null,
            "layout": "IPY_MODEL_b4eac67d12cb4609994c0708c3a910f2",
            "max": 714290682,
            "min": 0,
            "orientation": "horizontal",
            "style": "IPY_MODEL_7bca0ca86165419db5415e2f3b2ff444",
            "value": 714290682
          }
        },
        "e56765a4c9824710b0db16b4d7f4ca0c": {
          "model_module": "@jupyter-widgets/controls",
          "model_name": "HTMLModel",
          "model_module_version": "1.5.0",
          "state": {
            "_dom_classes": [],
            "_model_module": "@jupyter-widgets/controls",
            "_model_module_version": "1.5.0",
            "_model_name": "HTMLModel",
            "_view_count": null,
            "_view_module": "@jupyter-widgets/controls",
            "_view_module_version": "1.5.0",
            "_view_name": "HTMLView",
            "description": "",
            "description_tooltip": null,
            "layout": "IPY_MODEL_8bf59e026a5e4f77bf64bce9fd7b2ae8",
            "placeholder": "​",
            "style": "IPY_MODEL_18aff37456b34146826b51f3d2647c61",
            "value": " 714M/714M [00:06&lt;00:00, 185MB/s]"
          }
        },
        "b57c305c6c144dec9b0eeddb58e8feff": {
          "model_module": "@jupyter-widgets/base",
          "model_name": "LayoutModel",
          "model_module_version": "1.2.0",
          "state": {
            "_model_module": "@jupyter-widgets/base",
            "_model_module_version": "1.2.0",
            "_model_name": "LayoutModel",
            "_view_count": null,
            "_view_module": "@jupyter-widgets/base",
            "_view_module_version": "1.2.0",
            "_view_name": "LayoutView",
            "align_content": null,
            "align_items": null,
            "align_self": null,
            "border": null,
            "bottom": null,
            "display": null,
            "flex": null,
            "flex_flow": null,
            "grid_area": null,
            "grid_auto_columns": null,
            "grid_auto_flow": null,
            "grid_auto_rows": null,
            "grid_column": null,
            "grid_gap": null,
            "grid_row": null,
            "grid_template_areas": null,
            "grid_template_columns": null,
            "grid_template_rows": null,
            "height": null,
            "justify_content": null,
            "justify_items": null,
            "left": null,
            "margin": null,
            "max_height": null,
            "max_width": null,
            "min_height": null,
            "min_width": null,
            "object_fit": null,
            "object_position": null,
            "order": null,
            "overflow": null,
            "overflow_x": null,
            "overflow_y": null,
            "padding": null,
            "right": null,
            "top": null,
            "visibility": null,
            "width": null
          }
        },
        "58e5bccfb03a41bea54ba54955445a26": {
          "model_module": "@jupyter-widgets/base",
          "model_name": "LayoutModel",
          "model_module_version": "1.2.0",
          "state": {
            "_model_module": "@jupyter-widgets/base",
            "_model_module_version": "1.2.0",
            "_model_name": "LayoutModel",
            "_view_count": null,
            "_view_module": "@jupyter-widgets/base",
            "_view_module_version": "1.2.0",
            "_view_name": "LayoutView",
            "align_content": null,
            "align_items": null,
            "align_self": null,
            "border": null,
            "bottom": null,
            "display": null,
            "flex": null,
            "flex_flow": null,
            "grid_area": null,
            "grid_auto_columns": null,
            "grid_auto_flow": null,
            "grid_auto_rows": null,
            "grid_column": null,
            "grid_gap": null,
            "grid_row": null,
            "grid_template_areas": null,
            "grid_template_columns": null,
            "grid_template_rows": null,
            "height": null,
            "justify_content": null,
            "justify_items": null,
            "left": null,
            "margin": null,
            "max_height": null,
            "max_width": null,
            "min_height": null,
            "min_width": null,
            "object_fit": null,
            "object_position": null,
            "order": null,
            "overflow": null,
            "overflow_x": null,
            "overflow_y": null,
            "padding": null,
            "right": null,
            "top": null,
            "visibility": null,
            "width": null
          }
        },
        "097ca3c13d134d2bb6105a2a09495662": {
          "model_module": "@jupyter-widgets/controls",
          "model_name": "DescriptionStyleModel",
          "model_module_version": "1.5.0",
          "state": {
            "_model_module": "@jupyter-widgets/controls",
            "_model_module_version": "1.5.0",
            "_model_name": "DescriptionStyleModel",
            "_view_count": null,
            "_view_module": "@jupyter-widgets/base",
            "_view_module_version": "1.2.0",
            "_view_name": "StyleView",
            "description_width": ""
          }
        },
        "b4eac67d12cb4609994c0708c3a910f2": {
          "model_module": "@jupyter-widgets/base",
          "model_name": "LayoutModel",
          "model_module_version": "1.2.0",
          "state": {
            "_model_module": "@jupyter-widgets/base",
            "_model_module_version": "1.2.0",
            "_model_name": "LayoutModel",
            "_view_count": null,
            "_view_module": "@jupyter-widgets/base",
            "_view_module_version": "1.2.0",
            "_view_name": "LayoutView",
            "align_content": null,
            "align_items": null,
            "align_self": null,
            "border": null,
            "bottom": null,
            "display": null,
            "flex": null,
            "flex_flow": null,
            "grid_area": null,
            "grid_auto_columns": null,
            "grid_auto_flow": null,
            "grid_auto_rows": null,
            "grid_column": null,
            "grid_gap": null,
            "grid_row": null,
            "grid_template_areas": null,
            "grid_template_columns": null,
            "grid_template_rows": null,
            "height": null,
            "justify_content": null,
            "justify_items": null,
            "left": null,
            "margin": null,
            "max_height": null,
            "max_width": null,
            "min_height": null,
            "min_width": null,
            "object_fit": null,
            "object_position": null,
            "order": null,
            "overflow": null,
            "overflow_x": null,
            "overflow_y": null,
            "padding": null,
            "right": null,
            "top": null,
            "visibility": null,
            "width": null
          }
        },
        "7bca0ca86165419db5415e2f3b2ff444": {
          "model_module": "@jupyter-widgets/controls",
          "model_name": "ProgressStyleModel",
          "model_module_version": "1.5.0",
          "state": {
            "_model_module": "@jupyter-widgets/controls",
            "_model_module_version": "1.5.0",
            "_model_name": "ProgressStyleModel",
            "_view_count": null,
            "_view_module": "@jupyter-widgets/base",
            "_view_module_version": "1.2.0",
            "_view_name": "StyleView",
            "bar_color": null,
            "description_width": ""
          }
        },
        "8bf59e026a5e4f77bf64bce9fd7b2ae8": {
          "model_module": "@jupyter-widgets/base",
          "model_name": "LayoutModel",
          "model_module_version": "1.2.0",
          "state": {
            "_model_module": "@jupyter-widgets/base",
            "_model_module_version": "1.2.0",
            "_model_name": "LayoutModel",
            "_view_count": null,
            "_view_module": "@jupyter-widgets/base",
            "_view_module_version": "1.2.0",
            "_view_name": "LayoutView",
            "align_content": null,
            "align_items": null,
            "align_self": null,
            "border": null,
            "bottom": null,
            "display": null,
            "flex": null,
            "flex_flow": null,
            "grid_area": null,
            "grid_auto_columns": null,
            "grid_auto_flow": null,
            "grid_auto_rows": null,
            "grid_column": null,
            "grid_gap": null,
            "grid_row": null,
            "grid_template_areas": null,
            "grid_template_columns": null,
            "grid_template_rows": null,
            "height": null,
            "justify_content": null,
            "justify_items": null,
            "left": null,
            "margin": null,
            "max_height": null,
            "max_width": null,
            "min_height": null,
            "min_width": null,
            "object_fit": null,
            "object_position": null,
            "order": null,
            "overflow": null,
            "overflow_x": null,
            "overflow_y": null,
            "padding": null,
            "right": null,
            "top": null,
            "visibility": null,
            "width": null
          }
        },
        "18aff37456b34146826b51f3d2647c61": {
          "model_module": "@jupyter-widgets/controls",
          "model_name": "DescriptionStyleModel",
          "model_module_version": "1.5.0",
          "state": {
            "_model_module": "@jupyter-widgets/controls",
            "_model_module_version": "1.5.0",
            "_model_name": "DescriptionStyleModel",
            "_view_count": null,
            "_view_module": "@jupyter-widgets/base",
            "_view_module_version": "1.2.0",
            "_view_name": "StyleView",
            "description_width": ""
          }
        }
      }
    }
  },
  "cells": [
    {
      "cell_type": "markdown",
      "source": [
        "# Initial setup\n"
      ],
      "metadata": {
        "id": "AcFopj-SDciW"
      }
    },
    {
      "cell_type": "markdown",
      "source": [
        "## Pip installs"
      ],
      "metadata": {
        "id": "NZna_D6IDjNC"
      }
    },
    {
      "cell_type": "code",
      "execution_count": 13,
      "metadata": {
        "id": "yql0MdLF97lf",
        "colab": {
          "base_uri": "https://localhost:8080/"
        },
        "outputId": "bf401bdd-921b-46d2-fa55-32e4587e7b4c"
      },
      "outputs": [
        {
          "output_type": "stream",
          "name": "stdout",
          "text": [
            "Requirement already satisfied: tensorflow in /usr/local/lib/python3.10/dist-packages (2.12.0)\n",
            "Requirement already satisfied: absl-py>=1.0.0 in /usr/local/lib/python3.10/dist-packages (from tensorflow) (1.4.0)\n",
            "Requirement already satisfied: astunparse>=1.6.0 in /usr/local/lib/python3.10/dist-packages (from tensorflow) (1.6.3)\n",
            "Requirement already satisfied: flatbuffers>=2.0 in /usr/local/lib/python3.10/dist-packages (from tensorflow) (23.5.26)\n",
            "Requirement already satisfied: gast<=0.4.0,>=0.2.1 in /usr/local/lib/python3.10/dist-packages (from tensorflow) (0.4.0)\n",
            "Requirement already satisfied: google-pasta>=0.1.1 in /usr/local/lib/python3.10/dist-packages (from tensorflow) (0.2.0)\n",
            "Requirement already satisfied: grpcio<2.0,>=1.24.3 in /usr/local/lib/python3.10/dist-packages (from tensorflow) (1.56.0)\n",
            "Requirement already satisfied: h5py>=2.9.0 in /usr/local/lib/python3.10/dist-packages (from tensorflow) (3.8.0)\n",
            "Requirement already satisfied: jax>=0.3.15 in /usr/local/lib/python3.10/dist-packages (from tensorflow) (0.4.10)\n",
            "Requirement already satisfied: keras<2.13,>=2.12.0 in /usr/local/lib/python3.10/dist-packages (from tensorflow) (2.12.0)\n",
            "Requirement already satisfied: libclang>=13.0.0 in /usr/local/lib/python3.10/dist-packages (from tensorflow) (16.0.0)\n",
            "Requirement already satisfied: numpy<1.24,>=1.22 in /usr/local/lib/python3.10/dist-packages (from tensorflow) (1.22.4)\n",
            "Requirement already satisfied: opt-einsum>=2.3.2 in /usr/local/lib/python3.10/dist-packages (from tensorflow) (3.3.0)\n",
            "Requirement already satisfied: packaging in /usr/local/lib/python3.10/dist-packages (from tensorflow) (23.1)\n",
            "Requirement already satisfied: protobuf!=4.21.0,!=4.21.1,!=4.21.2,!=4.21.3,!=4.21.4,!=4.21.5,<5.0.0dev,>=3.20.3 in /usr/local/lib/python3.10/dist-packages (from tensorflow) (3.20.3)\n",
            "Requirement already satisfied: setuptools in /usr/local/lib/python3.10/dist-packages (from tensorflow) (67.7.2)\n",
            "Requirement already satisfied: six>=1.12.0 in /usr/local/lib/python3.10/dist-packages (from tensorflow) (1.16.0)\n",
            "Requirement already satisfied: tensorboard<2.13,>=2.12 in /usr/local/lib/python3.10/dist-packages (from tensorflow) (2.12.3)\n",
            "Requirement already satisfied: tensorflow-estimator<2.13,>=2.12.0 in /usr/local/lib/python3.10/dist-packages (from tensorflow) (2.12.0)\n",
            "Requirement already satisfied: termcolor>=1.1.0 in /usr/local/lib/python3.10/dist-packages (from tensorflow) (2.3.0)\n",
            "Requirement already satisfied: typing-extensions>=3.6.6 in /usr/local/lib/python3.10/dist-packages (from tensorflow) (4.6.3)\n",
            "Requirement already satisfied: wrapt<1.15,>=1.11.0 in /usr/local/lib/python3.10/dist-packages (from tensorflow) (1.14.1)\n",
            "Requirement already satisfied: tensorflow-io-gcs-filesystem>=0.23.1 in /usr/local/lib/python3.10/dist-packages (from tensorflow) (0.32.0)\n",
            "Requirement already satisfied: wheel<1.0,>=0.23.0 in /usr/local/lib/python3.10/dist-packages (from astunparse>=1.6.0->tensorflow) (0.40.0)\n",
            "Requirement already satisfied: ml-dtypes>=0.1.0 in /usr/local/lib/python3.10/dist-packages (from jax>=0.3.15->tensorflow) (0.2.0)\n",
            "Requirement already satisfied: scipy>=1.7 in /usr/local/lib/python3.10/dist-packages (from jax>=0.3.15->tensorflow) (1.10.1)\n",
            "Requirement already satisfied: google-auth<3,>=1.6.3 in /usr/local/lib/python3.10/dist-packages (from tensorboard<2.13,>=2.12->tensorflow) (2.17.3)\n",
            "Requirement already satisfied: google-auth-oauthlib<1.1,>=0.5 in /usr/local/lib/python3.10/dist-packages (from tensorboard<2.13,>=2.12->tensorflow) (1.0.0)\n",
            "Requirement already satisfied: markdown>=2.6.8 in /usr/local/lib/python3.10/dist-packages (from tensorboard<2.13,>=2.12->tensorflow) (3.4.3)\n",
            "Requirement already satisfied: requests<3,>=2.21.0 in /usr/local/lib/python3.10/dist-packages (from tensorboard<2.13,>=2.12->tensorflow) (2.27.1)\n",
            "Requirement already satisfied: tensorboard-data-server<0.8.0,>=0.7.0 in /usr/local/lib/python3.10/dist-packages (from tensorboard<2.13,>=2.12->tensorflow) (0.7.1)\n",
            "Requirement already satisfied: werkzeug>=1.0.1 in /usr/local/lib/python3.10/dist-packages (from tensorboard<2.13,>=2.12->tensorflow) (2.3.6)\n",
            "Requirement already satisfied: cachetools<6.0,>=2.0.0 in /usr/local/lib/python3.10/dist-packages (from google-auth<3,>=1.6.3->tensorboard<2.13,>=2.12->tensorflow) (5.3.1)\n",
            "Requirement already satisfied: pyasn1-modules>=0.2.1 in /usr/local/lib/python3.10/dist-packages (from google-auth<3,>=1.6.3->tensorboard<2.13,>=2.12->tensorflow) (0.3.0)\n",
            "Requirement already satisfied: rsa<5,>=3.1.4 in /usr/local/lib/python3.10/dist-packages (from google-auth<3,>=1.6.3->tensorboard<2.13,>=2.12->tensorflow) (4.9)\n",
            "Requirement already satisfied: requests-oauthlib>=0.7.0 in /usr/local/lib/python3.10/dist-packages (from google-auth-oauthlib<1.1,>=0.5->tensorboard<2.13,>=2.12->tensorflow) (1.3.1)\n",
            "Requirement already satisfied: urllib3<1.27,>=1.21.1 in /usr/local/lib/python3.10/dist-packages (from requests<3,>=2.21.0->tensorboard<2.13,>=2.12->tensorflow) (1.26.16)\n",
            "Requirement already satisfied: certifi>=2017.4.17 in /usr/local/lib/python3.10/dist-packages (from requests<3,>=2.21.0->tensorboard<2.13,>=2.12->tensorflow) (2023.5.7)\n",
            "Requirement already satisfied: charset-normalizer~=2.0.0 in /usr/local/lib/python3.10/dist-packages (from requests<3,>=2.21.0->tensorboard<2.13,>=2.12->tensorflow) (2.0.12)\n",
            "Requirement already satisfied: idna<4,>=2.5 in /usr/local/lib/python3.10/dist-packages (from requests<3,>=2.21.0->tensorboard<2.13,>=2.12->tensorflow) (3.4)\n",
            "Requirement already satisfied: MarkupSafe>=2.1.1 in /usr/local/lib/python3.10/dist-packages (from werkzeug>=1.0.1->tensorboard<2.13,>=2.12->tensorflow) (2.1.3)\n",
            "Requirement already satisfied: pyasn1<0.6.0,>=0.4.6 in /usr/local/lib/python3.10/dist-packages (from pyasn1-modules>=0.2.1->google-auth<3,>=1.6.3->tensorboard<2.13,>=2.12->tensorflow) (0.5.0)\n",
            "Requirement already satisfied: oauthlib>=3.0.0 in /usr/local/lib/python3.10/dist-packages (from requests-oauthlib>=0.7.0->google-auth-oauthlib<1.1,>=0.5->tensorboard<2.13,>=2.12->tensorflow) (3.2.2)\n",
            "Requirement already satisfied: transformers in /usr/local/lib/python3.10/dist-packages (4.30.2)\n",
            "Requirement already satisfied: filelock in /usr/local/lib/python3.10/dist-packages (from transformers) (3.12.2)\n",
            "Requirement already satisfied: huggingface-hub<1.0,>=0.14.1 in /usr/local/lib/python3.10/dist-packages (from transformers) (0.16.4)\n",
            "Requirement already satisfied: numpy>=1.17 in /usr/local/lib/python3.10/dist-packages (from transformers) (1.22.4)\n",
            "Requirement already satisfied: packaging>=20.0 in /usr/local/lib/python3.10/dist-packages (from transformers) (23.1)\n",
            "Requirement already satisfied: pyyaml>=5.1 in /usr/local/lib/python3.10/dist-packages (from transformers) (6.0)\n",
            "Requirement already satisfied: regex!=2019.12.17 in /usr/local/lib/python3.10/dist-packages (from transformers) (2022.10.31)\n",
            "Requirement already satisfied: requests in /usr/local/lib/python3.10/dist-packages (from transformers) (2.27.1)\n",
            "Requirement already satisfied: tokenizers!=0.11.3,<0.14,>=0.11.1 in /usr/local/lib/python3.10/dist-packages (from transformers) (0.13.3)\n",
            "Requirement already satisfied: safetensors>=0.3.1 in /usr/local/lib/python3.10/dist-packages (from transformers) (0.3.1)\n",
            "Requirement already satisfied: tqdm>=4.27 in /usr/local/lib/python3.10/dist-packages (from transformers) (4.65.0)\n",
            "Requirement already satisfied: fsspec in /usr/local/lib/python3.10/dist-packages (from huggingface-hub<1.0,>=0.14.1->transformers) (2023.6.0)\n",
            "Requirement already satisfied: typing-extensions>=3.7.4.3 in /usr/local/lib/python3.10/dist-packages (from huggingface-hub<1.0,>=0.14.1->transformers) (4.6.3)\n",
            "Requirement already satisfied: urllib3<1.27,>=1.21.1 in /usr/local/lib/python3.10/dist-packages (from requests->transformers) (1.26.16)\n",
            "Requirement already satisfied: certifi>=2017.4.17 in /usr/local/lib/python3.10/dist-packages (from requests->transformers) (2023.5.7)\n",
            "Requirement already satisfied: charset-normalizer~=2.0.0 in /usr/local/lib/python3.10/dist-packages (from requests->transformers) (2.0.12)\n",
            "Requirement already satisfied: idna<4,>=2.5 in /usr/local/lib/python3.10/dist-packages (from requests->transformers) (3.4)\n",
            "Requirement already satisfied: datasets in /usr/local/lib/python3.10/dist-packages (2.13.1)\n",
            "Requirement already satisfied: numpy>=1.17 in /usr/local/lib/python3.10/dist-packages (from datasets) (1.22.4)\n",
            "Requirement already satisfied: pyarrow>=8.0.0 in /usr/local/lib/python3.10/dist-packages (from datasets) (9.0.0)\n",
            "Requirement already satisfied: dill<0.3.7,>=0.3.0 in /usr/local/lib/python3.10/dist-packages (from datasets) (0.3.6)\n",
            "Requirement already satisfied: pandas in /usr/local/lib/python3.10/dist-packages (from datasets) (1.5.3)\n",
            "Requirement already satisfied: requests>=2.19.0 in /usr/local/lib/python3.10/dist-packages (from datasets) (2.27.1)\n",
            "Requirement already satisfied: tqdm>=4.62.1 in /usr/local/lib/python3.10/dist-packages (from datasets) (4.65.0)\n",
            "Requirement already satisfied: xxhash in /usr/local/lib/python3.10/dist-packages (from datasets) (3.2.0)\n",
            "Requirement already satisfied: multiprocess in /usr/local/lib/python3.10/dist-packages (from datasets) (0.70.14)\n",
            "Requirement already satisfied: fsspec[http]>=2021.11.1 in /usr/local/lib/python3.10/dist-packages (from datasets) (2023.6.0)\n",
            "Requirement already satisfied: aiohttp in /usr/local/lib/python3.10/dist-packages (from datasets) (3.8.4)\n",
            "Requirement already satisfied: huggingface-hub<1.0.0,>=0.11.0 in /usr/local/lib/python3.10/dist-packages (from datasets) (0.16.4)\n",
            "Requirement already satisfied: packaging in /usr/local/lib/python3.10/dist-packages (from datasets) (23.1)\n",
            "Requirement already satisfied: pyyaml>=5.1 in /usr/local/lib/python3.10/dist-packages (from datasets) (6.0)\n",
            "Requirement already satisfied: attrs>=17.3.0 in /usr/local/lib/python3.10/dist-packages (from aiohttp->datasets) (23.1.0)\n",
            "Requirement already satisfied: charset-normalizer<4.0,>=2.0 in /usr/local/lib/python3.10/dist-packages (from aiohttp->datasets) (2.0.12)\n",
            "Requirement already satisfied: multidict<7.0,>=4.5 in /usr/local/lib/python3.10/dist-packages (from aiohttp->datasets) (6.0.4)\n",
            "Requirement already satisfied: async-timeout<5.0,>=4.0.0a3 in /usr/local/lib/python3.10/dist-packages (from aiohttp->datasets) (4.0.2)\n",
            "Requirement already satisfied: yarl<2.0,>=1.0 in /usr/local/lib/python3.10/dist-packages (from aiohttp->datasets) (1.9.2)\n",
            "Requirement already satisfied: frozenlist>=1.1.1 in /usr/local/lib/python3.10/dist-packages (from aiohttp->datasets) (1.3.3)\n",
            "Requirement already satisfied: aiosignal>=1.1.2 in /usr/local/lib/python3.10/dist-packages (from aiohttp->datasets) (1.3.1)\n",
            "Requirement already satisfied: filelock in /usr/local/lib/python3.10/dist-packages (from huggingface-hub<1.0.0,>=0.11.0->datasets) (3.12.2)\n",
            "Requirement already satisfied: typing-extensions>=3.7.4.3 in /usr/local/lib/python3.10/dist-packages (from huggingface-hub<1.0.0,>=0.11.0->datasets) (4.6.3)\n",
            "Requirement already satisfied: urllib3<1.27,>=1.21.1 in /usr/local/lib/python3.10/dist-packages (from requests>=2.19.0->datasets) (1.26.16)\n",
            "Requirement already satisfied: certifi>=2017.4.17 in /usr/local/lib/python3.10/dist-packages (from requests>=2.19.0->datasets) (2023.5.7)\n",
            "Requirement already satisfied: idna<4,>=2.5 in /usr/local/lib/python3.10/dist-packages (from requests>=2.19.0->datasets) (3.4)\n",
            "Requirement already satisfied: python-dateutil>=2.8.1 in /usr/local/lib/python3.10/dist-packages (from pandas->datasets) (2.8.2)\n",
            "Requirement already satisfied: pytz>=2020.1 in /usr/local/lib/python3.10/dist-packages (from pandas->datasets) (2022.7.1)\n",
            "Requirement already satisfied: six>=1.5 in /usr/local/lib/python3.10/dist-packages (from python-dateutil>=2.8.1->pandas->datasets) (1.16.0)\n",
            "Requirement already satisfied: wordfreq in /usr/local/lib/python3.10/dist-packages (3.0.3)\n",
            "Requirement already satisfied: ftfy>=6.1 in /usr/local/lib/python3.10/dist-packages (from wordfreq) (6.1.1)\n",
            "Requirement already satisfied: langcodes>=3.0 in /usr/local/lib/python3.10/dist-packages (from wordfreq) (3.3.0)\n",
            "Requirement already satisfied: msgpack>=1.0 in /usr/local/lib/python3.10/dist-packages (from wordfreq) (1.0.5)\n",
            "Requirement already satisfied: regex>=2021.7.6 in /usr/local/lib/python3.10/dist-packages (from wordfreq) (2022.10.31)\n",
            "Requirement already satisfied: wcwidth>=0.2.5 in /usr/local/lib/python3.10/dist-packages (from ftfy>=6.1->wordfreq) (0.2.6)\n"
          ]
        }
      ],
      "source": [
        "# Various pip\n",
        "!pip install tensorflow\n",
        "!pip install transformers\n",
        "!pip install datasets\n",
        "!pip install wordfreq"
      ]
    },
    {
      "cell_type": "markdown",
      "source": [
        "## Imports"
      ],
      "metadata": {
        "id": "YoUY_cYmDol_"
      }
    },
    {
      "cell_type": "code",
      "source": [
        "# Dataframe management\n",
        "import pandas as pd\n",
        "\n",
        "# Data manipulation\n",
        "import numpy as np\n",
        "import random\n",
        "\n",
        "# NNs\n",
        "from tensorflow import keras\n",
        "from keras.preprocessing.text import Tokenizer\n",
        "from keras.models import Sequential\n",
        "from keras.callbacks import EarlyStopping\n",
        "import tensorflow as tf\n",
        "from tensorflow.keras.models import Model\n",
        "\n",
        "# Transformers\n",
        "import transformers\n",
        "from transformers import TFAutoModelForSequenceClassification, AutoTokenizer\n",
        "\n",
        "# Convert to HuggingFace dataset\n",
        "import pyarrow as pa\n",
        "from datasets import Dataset\n",
        "import datasets\n",
        "\n",
        "# Sklearn for train test split\n",
        "from sklearn.model_selection import train_test_split\n",
        "from sklearn.metrics import confusion_matrix, ConfusionMatrixDisplay\n",
        "\n",
        "\n",
        "# Wordfreq to get the italian wordssss\n",
        "from wordfreq import top_n_list\n",
        "\n",
        "# File imports\n",
        "from google.colab import drive"
      ],
      "metadata": {
        "id": "cfPOO-k4c7UD"
      },
      "execution_count": 14,
      "outputs": []
    },
    {
      "cell_type": "markdown",
      "source": [
        "## Get the datasets"
      ],
      "metadata": {
        "id": "12F6RD44DuKL"
      }
    },
    {
      "cell_type": "code",
      "source": [
        "drive.mount('/content/drive')"
      ],
      "metadata": {
        "id": "mZyMkpHpkchl",
        "colab": {
          "base_uri": "https://localhost:8080/"
        },
        "outputId": "0dec6cc4-5d4a-4005-bb32-c1093ff65674"
      },
      "execution_count": 15,
      "outputs": [
        {
          "output_type": "stream",
          "name": "stdout",
          "text": [
            "Drive already mounted at /content/drive; to attempt to forcibly remount, call drive.mount(\"/content/drive\", force_remount=True).\n"
          ]
        }
      ]
    },
    {
      "cell_type": "code",
      "source": [
        "#PER FAVORE NON CANCELLATE :(\n",
        "PATH_ELISA_MAIN_DATA = '/content/drive/My Drive/NLP_HATESPEECH/data/mainDataEN.csv'\n",
        "PATH_ELISA_HASPEEDE2 = '/content/drive/My Drive/NLP_HATESPEECH/haspeede2_dev/haspeede2_dev_taskAB.tsv'\n",
        "PATH_ELISA_MISOGYNY_DATA = '/content/drive/My Drive/NLP_HATESPEECH/misogyny_data/AMI2020_TrainingSet/AMI2020_training_raw.tsv'"
      ],
      "metadata": {
        "id": "DOP8drdjlMY4"
      },
      "execution_count": 16,
      "outputs": []
    },
    {
      "cell_type": "markdown",
      "source": [
        "# Dataset preprocessing"
      ],
      "metadata": {
        "id": "GRjgpM1tEWYV"
      }
    },
    {
      "cell_type": "code",
      "source": [
        "# Get dataset\n",
        "df_en = pd.read_csv(PATH_ELISA_MAIN_DATA)\n",
        "df_ita_hs = pd.read_csv(PATH_ELISA_HASPEEDE2, sep='\\t')\n",
        "df_ita_m = pd.read_csv(PATH_ELISA_MISOGYNY_DATA, sep=\"\\t\")\n",
        "#df_en = pd.read_csv(\"mainDataEN.csv\")\n",
        "#df_ita_hs = pd.read_csv(\"haspeede2_dev_taskAB.tsv\", sep='\\t')\n",
        "#df_ita_m = pd.read_csv(\"AMI2020_training_raw.tsv\", sep=\"\\t\")"
      ],
      "metadata": {
        "id": "eJyOPELQc9U9"
      },
      "execution_count": 18,
      "outputs": []
    },
    {
      "cell_type": "code",
      "source": [
        "df_en.head()"
      ],
      "metadata": {
        "colab": {
          "base_uri": "https://localhost:8080/",
          "height": 206
        },
        "id": "ziXp1vhKn7hC",
        "outputId": "88246dc2-c682-4e27-a18b-b4085de47a1f"
      },
      "execution_count": 19,
      "outputs": [
        {
          "output_type": "execute_result",
          "data": {
            "text/plain": [
              "   Unnamed: 0  count  hate_speech  offensive_language  neither  class  \\\n",
              "0           0      3            0                   0        3      2   \n",
              "1           1      3            0                   3        0      1   \n",
              "2           2      3            0                   3        0      1   \n",
              "3           3      3            0                   2        1      1   \n",
              "4           4      6            0                   6        0      1   \n",
              "\n",
              "                                               tweet  \n",
              "0  !!! RT @mayasolovely: As a woman you shouldn't...  \n",
              "1  !!!!! RT @mleew17: boy dats cold...tyga dwn ba...  \n",
              "2  !!!!!!! RT @UrKindOfBrand Dawg!!!! RT @80sbaby...  \n",
              "3  !!!!!!!!! RT @C_G_Anderson: @viva_based she lo...  \n",
              "4  !!!!!!!!!!!!! RT @ShenikaRoberts: The shit you...  "
            ],
            "text/html": [
              "\n",
              "  <div id=\"df-216cd311-2bed-48fa-be30-d3ec74c93d74\">\n",
              "    <div class=\"colab-df-container\">\n",
              "      <div>\n",
              "<style scoped>\n",
              "    .dataframe tbody tr th:only-of-type {\n",
              "        vertical-align: middle;\n",
              "    }\n",
              "\n",
              "    .dataframe tbody tr th {\n",
              "        vertical-align: top;\n",
              "    }\n",
              "\n",
              "    .dataframe thead th {\n",
              "        text-align: right;\n",
              "    }\n",
              "</style>\n",
              "<table border=\"1\" class=\"dataframe\">\n",
              "  <thead>\n",
              "    <tr style=\"text-align: right;\">\n",
              "      <th></th>\n",
              "      <th>Unnamed: 0</th>\n",
              "      <th>count</th>\n",
              "      <th>hate_speech</th>\n",
              "      <th>offensive_language</th>\n",
              "      <th>neither</th>\n",
              "      <th>class</th>\n",
              "      <th>tweet</th>\n",
              "    </tr>\n",
              "  </thead>\n",
              "  <tbody>\n",
              "    <tr>\n",
              "      <th>0</th>\n",
              "      <td>0</td>\n",
              "      <td>3</td>\n",
              "      <td>0</td>\n",
              "      <td>0</td>\n",
              "      <td>3</td>\n",
              "      <td>2</td>\n",
              "      <td>!!! RT @mayasolovely: As a woman you shouldn't...</td>\n",
              "    </tr>\n",
              "    <tr>\n",
              "      <th>1</th>\n",
              "      <td>1</td>\n",
              "      <td>3</td>\n",
              "      <td>0</td>\n",
              "      <td>3</td>\n",
              "      <td>0</td>\n",
              "      <td>1</td>\n",
              "      <td>!!!!! RT @mleew17: boy dats cold...tyga dwn ba...</td>\n",
              "    </tr>\n",
              "    <tr>\n",
              "      <th>2</th>\n",
              "      <td>2</td>\n",
              "      <td>3</td>\n",
              "      <td>0</td>\n",
              "      <td>3</td>\n",
              "      <td>0</td>\n",
              "      <td>1</td>\n",
              "      <td>!!!!!!! RT @UrKindOfBrand Dawg!!!! RT @80sbaby...</td>\n",
              "    </tr>\n",
              "    <tr>\n",
              "      <th>3</th>\n",
              "      <td>3</td>\n",
              "      <td>3</td>\n",
              "      <td>0</td>\n",
              "      <td>2</td>\n",
              "      <td>1</td>\n",
              "      <td>1</td>\n",
              "      <td>!!!!!!!!! RT @C_G_Anderson: @viva_based she lo...</td>\n",
              "    </tr>\n",
              "    <tr>\n",
              "      <th>4</th>\n",
              "      <td>4</td>\n",
              "      <td>6</td>\n",
              "      <td>0</td>\n",
              "      <td>6</td>\n",
              "      <td>0</td>\n",
              "      <td>1</td>\n",
              "      <td>!!!!!!!!!!!!! RT @ShenikaRoberts: The shit you...</td>\n",
              "    </tr>\n",
              "  </tbody>\n",
              "</table>\n",
              "</div>\n",
              "      <button class=\"colab-df-convert\" onclick=\"convertToInteractive('df-216cd311-2bed-48fa-be30-d3ec74c93d74')\"\n",
              "              title=\"Convert this dataframe to an interactive table.\"\n",
              "              style=\"display:none;\">\n",
              "        \n",
              "  <svg xmlns=\"http://www.w3.org/2000/svg\" height=\"24px\"viewBox=\"0 0 24 24\"\n",
              "       width=\"24px\">\n",
              "    <path d=\"M0 0h24v24H0V0z\" fill=\"none\"/>\n",
              "    <path d=\"M18.56 5.44l.94 2.06.94-2.06 2.06-.94-2.06-.94-.94-2.06-.94 2.06-2.06.94zm-11 1L8.5 8.5l.94-2.06 2.06-.94-2.06-.94L8.5 2.5l-.94 2.06-2.06.94zm10 10l.94 2.06.94-2.06 2.06-.94-2.06-.94-.94-2.06-.94 2.06-2.06.94z\"/><path d=\"M17.41 7.96l-1.37-1.37c-.4-.4-.92-.59-1.43-.59-.52 0-1.04.2-1.43.59L10.3 9.45l-7.72 7.72c-.78.78-.78 2.05 0 2.83L4 21.41c.39.39.9.59 1.41.59.51 0 1.02-.2 1.41-.59l7.78-7.78 2.81-2.81c.8-.78.8-2.07 0-2.86zM5.41 20L4 18.59l7.72-7.72 1.47 1.35L5.41 20z\"/>\n",
              "  </svg>\n",
              "      </button>\n",
              "      \n",
              "  <style>\n",
              "    .colab-df-container {\n",
              "      display:flex;\n",
              "      flex-wrap:wrap;\n",
              "      gap: 12px;\n",
              "    }\n",
              "\n",
              "    .colab-df-convert {\n",
              "      background-color: #E8F0FE;\n",
              "      border: none;\n",
              "      border-radius: 50%;\n",
              "      cursor: pointer;\n",
              "      display: none;\n",
              "      fill: #1967D2;\n",
              "      height: 32px;\n",
              "      padding: 0 0 0 0;\n",
              "      width: 32px;\n",
              "    }\n",
              "\n",
              "    .colab-df-convert:hover {\n",
              "      background-color: #E2EBFA;\n",
              "      box-shadow: 0px 1px 2px rgba(60, 64, 67, 0.3), 0px 1px 3px 1px rgba(60, 64, 67, 0.15);\n",
              "      fill: #174EA6;\n",
              "    }\n",
              "\n",
              "    [theme=dark] .colab-df-convert {\n",
              "      background-color: #3B4455;\n",
              "      fill: #D2E3FC;\n",
              "    }\n",
              "\n",
              "    [theme=dark] .colab-df-convert:hover {\n",
              "      background-color: #434B5C;\n",
              "      box-shadow: 0px 1px 3px 1px rgba(0, 0, 0, 0.15);\n",
              "      filter: drop-shadow(0px 1px 2px rgba(0, 0, 0, 0.3));\n",
              "      fill: #FFFFFF;\n",
              "    }\n",
              "  </style>\n",
              "\n",
              "      <script>\n",
              "        const buttonEl =\n",
              "          document.querySelector('#df-216cd311-2bed-48fa-be30-d3ec74c93d74 button.colab-df-convert');\n",
              "        buttonEl.style.display =\n",
              "          google.colab.kernel.accessAllowed ? 'block' : 'none';\n",
              "\n",
              "        async function convertToInteractive(key) {\n",
              "          const element = document.querySelector('#df-216cd311-2bed-48fa-be30-d3ec74c93d74');\n",
              "          const dataTable =\n",
              "            await google.colab.kernel.invokeFunction('convertToInteractive',\n",
              "                                                     [key], {});\n",
              "          if (!dataTable) return;\n",
              "\n",
              "          const docLinkHtml = 'Like what you see? Visit the ' +\n",
              "            '<a target=\"_blank\" href=https://colab.research.google.com/notebooks/data_table.ipynb>data table notebook</a>'\n",
              "            + ' to learn more about interactive tables.';\n",
              "          element.innerHTML = '';\n",
              "          dataTable['output_type'] = 'display_data';\n",
              "          await google.colab.output.renderOutput(dataTable, element);\n",
              "          const docLink = document.createElement('div');\n",
              "          docLink.innerHTML = docLinkHtml;\n",
              "          element.appendChild(docLink);\n",
              "        }\n",
              "      </script>\n",
              "    </div>\n",
              "  </div>\n",
              "  "
            ]
          },
          "metadata": {},
          "execution_count": 19
        }
      ]
    },
    {
      "cell_type": "code",
      "source": [
        "df_ita_hs.head()"
      ],
      "metadata": {
        "colab": {
          "base_uri": "https://localhost:8080/",
          "height": 206
        },
        "id": "Wwt0tPytEa5d",
        "outputId": "699609a2-c3e6-4c6a-864d-5156172a2890"
      },
      "execution_count": 20,
      "outputs": [
        {
          "output_type": "execute_result",
          "data": {
            "text/plain": [
              "     id                                              text   hs  stereotype\n",
              "0  2066  È terrorismo anche questo, per mettere in uno ...   0           0\n",
              "1  2045  @user @user infatti finché ci hanno guadagnato...   0           0\n",
              "2    61  Corriere: Tangenti, Mafia Capitale dimenticata...   0           0\n",
              "3  1259  @user ad uno ad uno, perché quando i migranti ...   0           0\n",
              "4   949  Il divertimento del giorno? Trovare i patrioti...   0           0"
            ],
            "text/html": [
              "\n",
              "  <div id=\"df-ed7bde29-eae8-437e-aeab-3e7990f08ac2\">\n",
              "    <div class=\"colab-df-container\">\n",
              "      <div>\n",
              "<style scoped>\n",
              "    .dataframe tbody tr th:only-of-type {\n",
              "        vertical-align: middle;\n",
              "    }\n",
              "\n",
              "    .dataframe tbody tr th {\n",
              "        vertical-align: top;\n",
              "    }\n",
              "\n",
              "    .dataframe thead th {\n",
              "        text-align: right;\n",
              "    }\n",
              "</style>\n",
              "<table border=\"1\" class=\"dataframe\">\n",
              "  <thead>\n",
              "    <tr style=\"text-align: right;\">\n",
              "      <th></th>\n",
              "      <th>id</th>\n",
              "      <th>text</th>\n",
              "      <th>hs</th>\n",
              "      <th>stereotype</th>\n",
              "    </tr>\n",
              "  </thead>\n",
              "  <tbody>\n",
              "    <tr>\n",
              "      <th>0</th>\n",
              "      <td>2066</td>\n",
              "      <td>È terrorismo anche questo, per mettere in uno ...</td>\n",
              "      <td>0</td>\n",
              "      <td>0</td>\n",
              "    </tr>\n",
              "    <tr>\n",
              "      <th>1</th>\n",
              "      <td>2045</td>\n",
              "      <td>@user @user infatti finché ci hanno guadagnato...</td>\n",
              "      <td>0</td>\n",
              "      <td>0</td>\n",
              "    </tr>\n",
              "    <tr>\n",
              "      <th>2</th>\n",
              "      <td>61</td>\n",
              "      <td>Corriere: Tangenti, Mafia Capitale dimenticata...</td>\n",
              "      <td>0</td>\n",
              "      <td>0</td>\n",
              "    </tr>\n",
              "    <tr>\n",
              "      <th>3</th>\n",
              "      <td>1259</td>\n",
              "      <td>@user ad uno ad uno, perché quando i migranti ...</td>\n",
              "      <td>0</td>\n",
              "      <td>0</td>\n",
              "    </tr>\n",
              "    <tr>\n",
              "      <th>4</th>\n",
              "      <td>949</td>\n",
              "      <td>Il divertimento del giorno? Trovare i patrioti...</td>\n",
              "      <td>0</td>\n",
              "      <td>0</td>\n",
              "    </tr>\n",
              "  </tbody>\n",
              "</table>\n",
              "</div>\n",
              "      <button class=\"colab-df-convert\" onclick=\"convertToInteractive('df-ed7bde29-eae8-437e-aeab-3e7990f08ac2')\"\n",
              "              title=\"Convert this dataframe to an interactive table.\"\n",
              "              style=\"display:none;\">\n",
              "        \n",
              "  <svg xmlns=\"http://www.w3.org/2000/svg\" height=\"24px\"viewBox=\"0 0 24 24\"\n",
              "       width=\"24px\">\n",
              "    <path d=\"M0 0h24v24H0V0z\" fill=\"none\"/>\n",
              "    <path d=\"M18.56 5.44l.94 2.06.94-2.06 2.06-.94-2.06-.94-.94-2.06-.94 2.06-2.06.94zm-11 1L8.5 8.5l.94-2.06 2.06-.94-2.06-.94L8.5 2.5l-.94 2.06-2.06.94zm10 10l.94 2.06.94-2.06 2.06-.94-2.06-.94-.94-2.06-.94 2.06-2.06.94z\"/><path d=\"M17.41 7.96l-1.37-1.37c-.4-.4-.92-.59-1.43-.59-.52 0-1.04.2-1.43.59L10.3 9.45l-7.72 7.72c-.78.78-.78 2.05 0 2.83L4 21.41c.39.39.9.59 1.41.59.51 0 1.02-.2 1.41-.59l7.78-7.78 2.81-2.81c.8-.78.8-2.07 0-2.86zM5.41 20L4 18.59l7.72-7.72 1.47 1.35L5.41 20z\"/>\n",
              "  </svg>\n",
              "      </button>\n",
              "      \n",
              "  <style>\n",
              "    .colab-df-container {\n",
              "      display:flex;\n",
              "      flex-wrap:wrap;\n",
              "      gap: 12px;\n",
              "    }\n",
              "\n",
              "    .colab-df-convert {\n",
              "      background-color: #E8F0FE;\n",
              "      border: none;\n",
              "      border-radius: 50%;\n",
              "      cursor: pointer;\n",
              "      display: none;\n",
              "      fill: #1967D2;\n",
              "      height: 32px;\n",
              "      padding: 0 0 0 0;\n",
              "      width: 32px;\n",
              "    }\n",
              "\n",
              "    .colab-df-convert:hover {\n",
              "      background-color: #E2EBFA;\n",
              "      box-shadow: 0px 1px 2px rgba(60, 64, 67, 0.3), 0px 1px 3px 1px rgba(60, 64, 67, 0.15);\n",
              "      fill: #174EA6;\n",
              "    }\n",
              "\n",
              "    [theme=dark] .colab-df-convert {\n",
              "      background-color: #3B4455;\n",
              "      fill: #D2E3FC;\n",
              "    }\n",
              "\n",
              "    [theme=dark] .colab-df-convert:hover {\n",
              "      background-color: #434B5C;\n",
              "      box-shadow: 0px 1px 3px 1px rgba(0, 0, 0, 0.15);\n",
              "      filter: drop-shadow(0px 1px 2px rgba(0, 0, 0, 0.3));\n",
              "      fill: #FFFFFF;\n",
              "    }\n",
              "  </style>\n",
              "\n",
              "      <script>\n",
              "        const buttonEl =\n",
              "          document.querySelector('#df-ed7bde29-eae8-437e-aeab-3e7990f08ac2 button.colab-df-convert');\n",
              "        buttonEl.style.display =\n",
              "          google.colab.kernel.accessAllowed ? 'block' : 'none';\n",
              "\n",
              "        async function convertToInteractive(key) {\n",
              "          const element = document.querySelector('#df-ed7bde29-eae8-437e-aeab-3e7990f08ac2');\n",
              "          const dataTable =\n",
              "            await google.colab.kernel.invokeFunction('convertToInteractive',\n",
              "                                                     [key], {});\n",
              "          if (!dataTable) return;\n",
              "\n",
              "          const docLinkHtml = 'Like what you see? Visit the ' +\n",
              "            '<a target=\"_blank\" href=https://colab.research.google.com/notebooks/data_table.ipynb>data table notebook</a>'\n",
              "            + ' to learn more about interactive tables.';\n",
              "          element.innerHTML = '';\n",
              "          dataTable['output_type'] = 'display_data';\n",
              "          await google.colab.output.renderOutput(dataTable, element);\n",
              "          const docLink = document.createElement('div');\n",
              "          docLink.innerHTML = docLinkHtml;\n",
              "          element.appendChild(docLink);\n",
              "        }\n",
              "      </script>\n",
              "    </div>\n",
              "  </div>\n",
              "  "
            ]
          },
          "metadata": {},
          "execution_count": 20
        }
      ]
    },
    {
      "cell_type": "code",
      "source": [
        "df_ita_m.head()"
      ],
      "metadata": {
        "colab": {
          "base_uri": "https://localhost:8080/",
          "height": 206
        },
        "id": "VcDW1TxgEbCm",
        "outputId": "4192dea4-5add-4f0c-ed72-708c6edceae8"
      },
      "execution_count": 21,
      "outputs": [
        {
          "output_type": "execute_result",
          "data": {
            "text/plain": [
              "   id                                               text  misogynous  \\\n",
              "0   1  @KassemAmin4 @Laylasexgdr Fatti trovare  te lo...           1   \n",
              "1   2  @meb Tu dovresti ricominciare dai semafori a f...           1   \n",
              "2   3  Amore,sei presentabile? Xchè così via Skype ti...           1   \n",
              "3   4  @Il_nulla Salvo poi mandare la culona a Mosca,...           1   \n",
              "4   5  @GiorgiaMeloni @FratellidItaIia Vediamo Gentil...           1   \n",
              "\n",
              "   aggressiveness  \n",
              "0               1  \n",
              "1               1  \n",
              "2               1  \n",
              "3               0  \n",
              "4               1  "
            ],
            "text/html": [
              "\n",
              "  <div id=\"df-dbc413d5-3a14-4ce6-b816-fcc1e2e7297e\">\n",
              "    <div class=\"colab-df-container\">\n",
              "      <div>\n",
              "<style scoped>\n",
              "    .dataframe tbody tr th:only-of-type {\n",
              "        vertical-align: middle;\n",
              "    }\n",
              "\n",
              "    .dataframe tbody tr th {\n",
              "        vertical-align: top;\n",
              "    }\n",
              "\n",
              "    .dataframe thead th {\n",
              "        text-align: right;\n",
              "    }\n",
              "</style>\n",
              "<table border=\"1\" class=\"dataframe\">\n",
              "  <thead>\n",
              "    <tr style=\"text-align: right;\">\n",
              "      <th></th>\n",
              "      <th>id</th>\n",
              "      <th>text</th>\n",
              "      <th>misogynous</th>\n",
              "      <th>aggressiveness</th>\n",
              "    </tr>\n",
              "  </thead>\n",
              "  <tbody>\n",
              "    <tr>\n",
              "      <th>0</th>\n",
              "      <td>1</td>\n",
              "      <td>@KassemAmin4 @Laylasexgdr Fatti trovare  te lo...</td>\n",
              "      <td>1</td>\n",
              "      <td>1</td>\n",
              "    </tr>\n",
              "    <tr>\n",
              "      <th>1</th>\n",
              "      <td>2</td>\n",
              "      <td>@meb Tu dovresti ricominciare dai semafori a f...</td>\n",
              "      <td>1</td>\n",
              "      <td>1</td>\n",
              "    </tr>\n",
              "    <tr>\n",
              "      <th>2</th>\n",
              "      <td>3</td>\n",
              "      <td>Amore,sei presentabile? Xchè così via Skype ti...</td>\n",
              "      <td>1</td>\n",
              "      <td>1</td>\n",
              "    </tr>\n",
              "    <tr>\n",
              "      <th>3</th>\n",
              "      <td>4</td>\n",
              "      <td>@Il_nulla Salvo poi mandare la culona a Mosca,...</td>\n",
              "      <td>1</td>\n",
              "      <td>0</td>\n",
              "    </tr>\n",
              "    <tr>\n",
              "      <th>4</th>\n",
              "      <td>5</td>\n",
              "      <td>@GiorgiaMeloni @FratellidItaIia Vediamo Gentil...</td>\n",
              "      <td>1</td>\n",
              "      <td>1</td>\n",
              "    </tr>\n",
              "  </tbody>\n",
              "</table>\n",
              "</div>\n",
              "      <button class=\"colab-df-convert\" onclick=\"convertToInteractive('df-dbc413d5-3a14-4ce6-b816-fcc1e2e7297e')\"\n",
              "              title=\"Convert this dataframe to an interactive table.\"\n",
              "              style=\"display:none;\">\n",
              "        \n",
              "  <svg xmlns=\"http://www.w3.org/2000/svg\" height=\"24px\"viewBox=\"0 0 24 24\"\n",
              "       width=\"24px\">\n",
              "    <path d=\"M0 0h24v24H0V0z\" fill=\"none\"/>\n",
              "    <path d=\"M18.56 5.44l.94 2.06.94-2.06 2.06-.94-2.06-.94-.94-2.06-.94 2.06-2.06.94zm-11 1L8.5 8.5l.94-2.06 2.06-.94-2.06-.94L8.5 2.5l-.94 2.06-2.06.94zm10 10l.94 2.06.94-2.06 2.06-.94-2.06-.94-.94-2.06-.94 2.06-2.06.94z\"/><path d=\"M17.41 7.96l-1.37-1.37c-.4-.4-.92-.59-1.43-.59-.52 0-1.04.2-1.43.59L10.3 9.45l-7.72 7.72c-.78.78-.78 2.05 0 2.83L4 21.41c.39.39.9.59 1.41.59.51 0 1.02-.2 1.41-.59l7.78-7.78 2.81-2.81c.8-.78.8-2.07 0-2.86zM5.41 20L4 18.59l7.72-7.72 1.47 1.35L5.41 20z\"/>\n",
              "  </svg>\n",
              "      </button>\n",
              "      \n",
              "  <style>\n",
              "    .colab-df-container {\n",
              "      display:flex;\n",
              "      flex-wrap:wrap;\n",
              "      gap: 12px;\n",
              "    }\n",
              "\n",
              "    .colab-df-convert {\n",
              "      background-color: #E8F0FE;\n",
              "      border: none;\n",
              "      border-radius: 50%;\n",
              "      cursor: pointer;\n",
              "      display: none;\n",
              "      fill: #1967D2;\n",
              "      height: 32px;\n",
              "      padding: 0 0 0 0;\n",
              "      width: 32px;\n",
              "    }\n",
              "\n",
              "    .colab-df-convert:hover {\n",
              "      background-color: #E2EBFA;\n",
              "      box-shadow: 0px 1px 2px rgba(60, 64, 67, 0.3), 0px 1px 3px 1px rgba(60, 64, 67, 0.15);\n",
              "      fill: #174EA6;\n",
              "    }\n",
              "\n",
              "    [theme=dark] .colab-df-convert {\n",
              "      background-color: #3B4455;\n",
              "      fill: #D2E3FC;\n",
              "    }\n",
              "\n",
              "    [theme=dark] .colab-df-convert:hover {\n",
              "      background-color: #434B5C;\n",
              "      box-shadow: 0px 1px 3px 1px rgba(0, 0, 0, 0.15);\n",
              "      filter: drop-shadow(0px 1px 2px rgba(0, 0, 0, 0.3));\n",
              "      fill: #FFFFFF;\n",
              "    }\n",
              "  </style>\n",
              "\n",
              "      <script>\n",
              "        const buttonEl =\n",
              "          document.querySelector('#df-dbc413d5-3a14-4ce6-b816-fcc1e2e7297e button.colab-df-convert');\n",
              "        buttonEl.style.display =\n",
              "          google.colab.kernel.accessAllowed ? 'block' : 'none';\n",
              "\n",
              "        async function convertToInteractive(key) {\n",
              "          const element = document.querySelector('#df-dbc413d5-3a14-4ce6-b816-fcc1e2e7297e');\n",
              "          const dataTable =\n",
              "            await google.colab.kernel.invokeFunction('convertToInteractive',\n",
              "                                                     [key], {});\n",
              "          if (!dataTable) return;\n",
              "\n",
              "          const docLinkHtml = 'Like what you see? Visit the ' +\n",
              "            '<a target=\"_blank\" href=https://colab.research.google.com/notebooks/data_table.ipynb>data table notebook</a>'\n",
              "            + ' to learn more about interactive tables.';\n",
              "          element.innerHTML = '';\n",
              "          dataTable['output_type'] = 'display_data';\n",
              "          await google.colab.output.renderOutput(dataTable, element);\n",
              "          const docLink = document.createElement('div');\n",
              "          docLink.innerHTML = docLinkHtml;\n",
              "          element.appendChild(docLink);\n",
              "        }\n",
              "      </script>\n",
              "    </div>\n",
              "  </div>\n",
              "  "
            ]
          },
          "metadata": {},
          "execution_count": 21
        }
      ]
    },
    {
      "cell_type": "markdown",
      "source": [
        "## Uniform hate speech in a single column in the eng dataset"
      ],
      "metadata": {
        "id": "5iTeQH13Ehpp"
      }
    },
    {
      "cell_type": "code",
      "source": [
        "def is_hate_speech(df):\n",
        "  if df['class'] == 2:\n",
        "    return 0 # No hate speech\n",
        "  else:\n",
        "     return 1 # Hate speech\n",
        "\n",
        "df_en['hate_speech'] = df_en.apply(is_hate_speech, axis=1)\n",
        "\n",
        "df_en = df_en.drop(['Unnamed: 0','count', 'offensive_language', 'neither', 'class'], axis=1)"
      ],
      "metadata": {
        "id": "Z3TGRqK2dCoj"
      },
      "execution_count": 22,
      "outputs": []
    },
    {
      "cell_type": "markdown",
      "source": [
        "## Uniform hate speech in a single column in the ita datasets"
      ],
      "metadata": {
        "id": "_P3eFJtHEoAf"
      }
    },
    {
      "cell_type": "code",
      "source": [
        "# Stereotypes are considered as hate speech\n",
        "df_ita_hs['hate_speech'] = df_ita_hs['stereotype'] | df_ita_hs['hs']\n",
        "df_ita_hs = df_ita_hs.drop(['id', 'stereotype', 'hs'], axis=1)\n",
        "df_ita_hs = df_ita_hs.rename(columns={'text ': 'text'}) #there was a space\n",
        "\n",
        "# Merge 'misogynous' and 'aggressiveness' column into a new hate speech column.\n",
        "df_ita_m['hate_speech'] = df_ita_m['misogynous'] | df_ita_m['aggressiveness']\n",
        "df_ita_m = df_ita_m.drop(['id', 'misogynous', 'aggressiveness'], axis=1)"
      ],
      "metadata": {
        "id": "BVOPzSPtdKtn"
      },
      "execution_count": 23,
      "outputs": []
    },
    {
      "cell_type": "markdown",
      "source": [
        "## Create a single uniform ita dataset"
      ],
      "metadata": {
        "id": "ufvH_s0wFLu0"
      }
    },
    {
      "cell_type": "code",
      "source": [
        "# Concatenate the datasets vertically\n",
        "df_ita = pd.concat([df_ita_hs, df_ita_m], axis=0, ignore_index=True)\n",
        "\n",
        "# Reset the index of the merged dataset\n",
        "df_ita = df_ita.reset_index(drop=True)"
      ],
      "metadata": {
        "id": "JHRoWXmxpBne"
      },
      "execution_count": 24,
      "outputs": []
    },
    {
      "cell_type": "code",
      "source": [
        "df_en.head()"
      ],
      "metadata": {
        "colab": {
          "base_uri": "https://localhost:8080/",
          "height": 206
        },
        "id": "NR0_qOx4E3Da",
        "outputId": "f81042f0-1801-443d-8d0d-9812595cc2b8"
      },
      "execution_count": 25,
      "outputs": [
        {
          "output_type": "execute_result",
          "data": {
            "text/plain": [
              "   hate_speech                                              tweet\n",
              "0            0  !!! RT @mayasolovely: As a woman you shouldn't...\n",
              "1            1  !!!!! RT @mleew17: boy dats cold...tyga dwn ba...\n",
              "2            1  !!!!!!! RT @UrKindOfBrand Dawg!!!! RT @80sbaby...\n",
              "3            1  !!!!!!!!! RT @C_G_Anderson: @viva_based she lo...\n",
              "4            1  !!!!!!!!!!!!! RT @ShenikaRoberts: The shit you..."
            ],
            "text/html": [
              "\n",
              "  <div id=\"df-43c81fee-f055-4554-ab89-7d2e13a25221\">\n",
              "    <div class=\"colab-df-container\">\n",
              "      <div>\n",
              "<style scoped>\n",
              "    .dataframe tbody tr th:only-of-type {\n",
              "        vertical-align: middle;\n",
              "    }\n",
              "\n",
              "    .dataframe tbody tr th {\n",
              "        vertical-align: top;\n",
              "    }\n",
              "\n",
              "    .dataframe thead th {\n",
              "        text-align: right;\n",
              "    }\n",
              "</style>\n",
              "<table border=\"1\" class=\"dataframe\">\n",
              "  <thead>\n",
              "    <tr style=\"text-align: right;\">\n",
              "      <th></th>\n",
              "      <th>hate_speech</th>\n",
              "      <th>tweet</th>\n",
              "    </tr>\n",
              "  </thead>\n",
              "  <tbody>\n",
              "    <tr>\n",
              "      <th>0</th>\n",
              "      <td>0</td>\n",
              "      <td>!!! RT @mayasolovely: As a woman you shouldn't...</td>\n",
              "    </tr>\n",
              "    <tr>\n",
              "      <th>1</th>\n",
              "      <td>1</td>\n",
              "      <td>!!!!! RT @mleew17: boy dats cold...tyga dwn ba...</td>\n",
              "    </tr>\n",
              "    <tr>\n",
              "      <th>2</th>\n",
              "      <td>1</td>\n",
              "      <td>!!!!!!! RT @UrKindOfBrand Dawg!!!! RT @80sbaby...</td>\n",
              "    </tr>\n",
              "    <tr>\n",
              "      <th>3</th>\n",
              "      <td>1</td>\n",
              "      <td>!!!!!!!!! RT @C_G_Anderson: @viva_based she lo...</td>\n",
              "    </tr>\n",
              "    <tr>\n",
              "      <th>4</th>\n",
              "      <td>1</td>\n",
              "      <td>!!!!!!!!!!!!! RT @ShenikaRoberts: The shit you...</td>\n",
              "    </tr>\n",
              "  </tbody>\n",
              "</table>\n",
              "</div>\n",
              "      <button class=\"colab-df-convert\" onclick=\"convertToInteractive('df-43c81fee-f055-4554-ab89-7d2e13a25221')\"\n",
              "              title=\"Convert this dataframe to an interactive table.\"\n",
              "              style=\"display:none;\">\n",
              "        \n",
              "  <svg xmlns=\"http://www.w3.org/2000/svg\" height=\"24px\"viewBox=\"0 0 24 24\"\n",
              "       width=\"24px\">\n",
              "    <path d=\"M0 0h24v24H0V0z\" fill=\"none\"/>\n",
              "    <path d=\"M18.56 5.44l.94 2.06.94-2.06 2.06-.94-2.06-.94-.94-2.06-.94 2.06-2.06.94zm-11 1L8.5 8.5l.94-2.06 2.06-.94-2.06-.94L8.5 2.5l-.94 2.06-2.06.94zm10 10l.94 2.06.94-2.06 2.06-.94-2.06-.94-.94-2.06-.94 2.06-2.06.94z\"/><path d=\"M17.41 7.96l-1.37-1.37c-.4-.4-.92-.59-1.43-.59-.52 0-1.04.2-1.43.59L10.3 9.45l-7.72 7.72c-.78.78-.78 2.05 0 2.83L4 21.41c.39.39.9.59 1.41.59.51 0 1.02-.2 1.41-.59l7.78-7.78 2.81-2.81c.8-.78.8-2.07 0-2.86zM5.41 20L4 18.59l7.72-7.72 1.47 1.35L5.41 20z\"/>\n",
              "  </svg>\n",
              "      </button>\n",
              "      \n",
              "  <style>\n",
              "    .colab-df-container {\n",
              "      display:flex;\n",
              "      flex-wrap:wrap;\n",
              "      gap: 12px;\n",
              "    }\n",
              "\n",
              "    .colab-df-convert {\n",
              "      background-color: #E8F0FE;\n",
              "      border: none;\n",
              "      border-radius: 50%;\n",
              "      cursor: pointer;\n",
              "      display: none;\n",
              "      fill: #1967D2;\n",
              "      height: 32px;\n",
              "      padding: 0 0 0 0;\n",
              "      width: 32px;\n",
              "    }\n",
              "\n",
              "    .colab-df-convert:hover {\n",
              "      background-color: #E2EBFA;\n",
              "      box-shadow: 0px 1px 2px rgba(60, 64, 67, 0.3), 0px 1px 3px 1px rgba(60, 64, 67, 0.15);\n",
              "      fill: #174EA6;\n",
              "    }\n",
              "\n",
              "    [theme=dark] .colab-df-convert {\n",
              "      background-color: #3B4455;\n",
              "      fill: #D2E3FC;\n",
              "    }\n",
              "\n",
              "    [theme=dark] .colab-df-convert:hover {\n",
              "      background-color: #434B5C;\n",
              "      box-shadow: 0px 1px 3px 1px rgba(0, 0, 0, 0.15);\n",
              "      filter: drop-shadow(0px 1px 2px rgba(0, 0, 0, 0.3));\n",
              "      fill: #FFFFFF;\n",
              "    }\n",
              "  </style>\n",
              "\n",
              "      <script>\n",
              "        const buttonEl =\n",
              "          document.querySelector('#df-43c81fee-f055-4554-ab89-7d2e13a25221 button.colab-df-convert');\n",
              "        buttonEl.style.display =\n",
              "          google.colab.kernel.accessAllowed ? 'block' : 'none';\n",
              "\n",
              "        async function convertToInteractive(key) {\n",
              "          const element = document.querySelector('#df-43c81fee-f055-4554-ab89-7d2e13a25221');\n",
              "          const dataTable =\n",
              "            await google.colab.kernel.invokeFunction('convertToInteractive',\n",
              "                                                     [key], {});\n",
              "          if (!dataTable) return;\n",
              "\n",
              "          const docLinkHtml = 'Like what you see? Visit the ' +\n",
              "            '<a target=\"_blank\" href=https://colab.research.google.com/notebooks/data_table.ipynb>data table notebook</a>'\n",
              "            + ' to learn more about interactive tables.';\n",
              "          element.innerHTML = '';\n",
              "          dataTable['output_type'] = 'display_data';\n",
              "          await google.colab.output.renderOutput(dataTable, element);\n",
              "          const docLink = document.createElement('div');\n",
              "          docLink.innerHTML = docLinkHtml;\n",
              "          element.appendChild(docLink);\n",
              "        }\n",
              "      </script>\n",
              "    </div>\n",
              "  </div>\n",
              "  "
            ]
          },
          "metadata": {},
          "execution_count": 25
        }
      ]
    },
    {
      "cell_type": "code",
      "source": [
        "df_ita.head()"
      ],
      "metadata": {
        "colab": {
          "base_uri": "https://localhost:8080/",
          "height": 206
        },
        "id": "n9dZivWEE3Ol",
        "outputId": "8e447fa1-8f32-48e7-defb-1fa14ae984e5"
      },
      "execution_count": 26,
      "outputs": [
        {
          "output_type": "execute_result",
          "data": {
            "text/plain": [
              "                                                text  hate_speech\n",
              "0  È terrorismo anche questo, per mettere in uno ...            0\n",
              "1  @user @user infatti finché ci hanno guadagnato...            0\n",
              "2  Corriere: Tangenti, Mafia Capitale dimenticata...            0\n",
              "3  @user ad uno ad uno, perché quando i migranti ...            0\n",
              "4  Il divertimento del giorno? Trovare i patrioti...            0"
            ],
            "text/html": [
              "\n",
              "  <div id=\"df-ff581be5-3557-4b33-84ef-c9b7a971fe29\">\n",
              "    <div class=\"colab-df-container\">\n",
              "      <div>\n",
              "<style scoped>\n",
              "    .dataframe tbody tr th:only-of-type {\n",
              "        vertical-align: middle;\n",
              "    }\n",
              "\n",
              "    .dataframe tbody tr th {\n",
              "        vertical-align: top;\n",
              "    }\n",
              "\n",
              "    .dataframe thead th {\n",
              "        text-align: right;\n",
              "    }\n",
              "</style>\n",
              "<table border=\"1\" class=\"dataframe\">\n",
              "  <thead>\n",
              "    <tr style=\"text-align: right;\">\n",
              "      <th></th>\n",
              "      <th>text</th>\n",
              "      <th>hate_speech</th>\n",
              "    </tr>\n",
              "  </thead>\n",
              "  <tbody>\n",
              "    <tr>\n",
              "      <th>0</th>\n",
              "      <td>È terrorismo anche questo, per mettere in uno ...</td>\n",
              "      <td>0</td>\n",
              "    </tr>\n",
              "    <tr>\n",
              "      <th>1</th>\n",
              "      <td>@user @user infatti finché ci hanno guadagnato...</td>\n",
              "      <td>0</td>\n",
              "    </tr>\n",
              "    <tr>\n",
              "      <th>2</th>\n",
              "      <td>Corriere: Tangenti, Mafia Capitale dimenticata...</td>\n",
              "      <td>0</td>\n",
              "    </tr>\n",
              "    <tr>\n",
              "      <th>3</th>\n",
              "      <td>@user ad uno ad uno, perché quando i migranti ...</td>\n",
              "      <td>0</td>\n",
              "    </tr>\n",
              "    <tr>\n",
              "      <th>4</th>\n",
              "      <td>Il divertimento del giorno? Trovare i patrioti...</td>\n",
              "      <td>0</td>\n",
              "    </tr>\n",
              "  </tbody>\n",
              "</table>\n",
              "</div>\n",
              "      <button class=\"colab-df-convert\" onclick=\"convertToInteractive('df-ff581be5-3557-4b33-84ef-c9b7a971fe29')\"\n",
              "              title=\"Convert this dataframe to an interactive table.\"\n",
              "              style=\"display:none;\">\n",
              "        \n",
              "  <svg xmlns=\"http://www.w3.org/2000/svg\" height=\"24px\"viewBox=\"0 0 24 24\"\n",
              "       width=\"24px\">\n",
              "    <path d=\"M0 0h24v24H0V0z\" fill=\"none\"/>\n",
              "    <path d=\"M18.56 5.44l.94 2.06.94-2.06 2.06-.94-2.06-.94-.94-2.06-.94 2.06-2.06.94zm-11 1L8.5 8.5l.94-2.06 2.06-.94-2.06-.94L8.5 2.5l-.94 2.06-2.06.94zm10 10l.94 2.06.94-2.06 2.06-.94-2.06-.94-.94-2.06-.94 2.06-2.06.94z\"/><path d=\"M17.41 7.96l-1.37-1.37c-.4-.4-.92-.59-1.43-.59-.52 0-1.04.2-1.43.59L10.3 9.45l-7.72 7.72c-.78.78-.78 2.05 0 2.83L4 21.41c.39.39.9.59 1.41.59.51 0 1.02-.2 1.41-.59l7.78-7.78 2.81-2.81c.8-.78.8-2.07 0-2.86zM5.41 20L4 18.59l7.72-7.72 1.47 1.35L5.41 20z\"/>\n",
              "  </svg>\n",
              "      </button>\n",
              "      \n",
              "  <style>\n",
              "    .colab-df-container {\n",
              "      display:flex;\n",
              "      flex-wrap:wrap;\n",
              "      gap: 12px;\n",
              "    }\n",
              "\n",
              "    .colab-df-convert {\n",
              "      background-color: #E8F0FE;\n",
              "      border: none;\n",
              "      border-radius: 50%;\n",
              "      cursor: pointer;\n",
              "      display: none;\n",
              "      fill: #1967D2;\n",
              "      height: 32px;\n",
              "      padding: 0 0 0 0;\n",
              "      width: 32px;\n",
              "    }\n",
              "\n",
              "    .colab-df-convert:hover {\n",
              "      background-color: #E2EBFA;\n",
              "      box-shadow: 0px 1px 2px rgba(60, 64, 67, 0.3), 0px 1px 3px 1px rgba(60, 64, 67, 0.15);\n",
              "      fill: #174EA6;\n",
              "    }\n",
              "\n",
              "    [theme=dark] .colab-df-convert {\n",
              "      background-color: #3B4455;\n",
              "      fill: #D2E3FC;\n",
              "    }\n",
              "\n",
              "    [theme=dark] .colab-df-convert:hover {\n",
              "      background-color: #434B5C;\n",
              "      box-shadow: 0px 1px 3px 1px rgba(0, 0, 0, 0.15);\n",
              "      filter: drop-shadow(0px 1px 2px rgba(0, 0, 0, 0.3));\n",
              "      fill: #FFFFFF;\n",
              "    }\n",
              "  </style>\n",
              "\n",
              "      <script>\n",
              "        const buttonEl =\n",
              "          document.querySelector('#df-ff581be5-3557-4b33-84ef-c9b7a971fe29 button.colab-df-convert');\n",
              "        buttonEl.style.display =\n",
              "          google.colab.kernel.accessAllowed ? 'block' : 'none';\n",
              "\n",
              "        async function convertToInteractive(key) {\n",
              "          const element = document.querySelector('#df-ff581be5-3557-4b33-84ef-c9b7a971fe29');\n",
              "          const dataTable =\n",
              "            await google.colab.kernel.invokeFunction('convertToInteractive',\n",
              "                                                     [key], {});\n",
              "          if (!dataTable) return;\n",
              "\n",
              "          const docLinkHtml = 'Like what you see? Visit the ' +\n",
              "            '<a target=\"_blank\" href=https://colab.research.google.com/notebooks/data_table.ipynb>data table notebook</a>'\n",
              "            + ' to learn more about interactive tables.';\n",
              "          element.innerHTML = '';\n",
              "          dataTable['output_type'] = 'display_data';\n",
              "          await google.colab.output.renderOutput(dataTable, element);\n",
              "          const docLink = document.createElement('div');\n",
              "          docLink.innerHTML = docLinkHtml;\n",
              "          element.appendChild(docLink);\n",
              "        }\n",
              "      </script>\n",
              "    </div>\n",
              "  </div>\n",
              "  "
            ]
          },
          "metadata": {},
          "execution_count": 26
        }
      ]
    },
    {
      "cell_type": "code",
      "source": [
        "print(\"Ita dataframe length:\", len(df_ita))\n",
        "print(\"Eng dataframe length:\", len(df_en))"
      ],
      "metadata": {
        "colab": {
          "base_uri": "https://localhost:8080/"
        },
        "id": "n2Dsf6tWrgCe",
        "outputId": "3bc64d91-ff48-4e3c-b365-ff6eb118d0eb"
      },
      "execution_count": 27,
      "outputs": [
        {
          "output_type": "stream",
          "name": "stdout",
          "text": [
            "Ita dataframe length: 11837\n",
            "Eng dataframe length: 24783\n"
          ]
        }
      ]
    },
    {
      "cell_type": "code",
      "source": [
        "df_en"
      ],
      "metadata": {
        "colab": {
          "base_uri": "https://localhost:8080/",
          "height": 424
        },
        "id": "CnFFg3M3E5Q6",
        "outputId": "0e7a04d2-cfad-4084-b52e-d8738e11ed5d"
      },
      "execution_count": 28,
      "outputs": [
        {
          "output_type": "execute_result",
          "data": {
            "text/plain": [
              "       hate_speech                                              tweet\n",
              "0                0  !!! RT @mayasolovely: As a woman you shouldn't...\n",
              "1                1  !!!!! RT @mleew17: boy dats cold...tyga dwn ba...\n",
              "2                1  !!!!!!! RT @UrKindOfBrand Dawg!!!! RT @80sbaby...\n",
              "3                1  !!!!!!!!! RT @C_G_Anderson: @viva_based she lo...\n",
              "4                1  !!!!!!!!!!!!! RT @ShenikaRoberts: The shit you...\n",
              "...            ...                                                ...\n",
              "24778            1  you's a muthaf***in lie &#8220;@LifeAsKing: @2...\n",
              "24779            0  you've gone and broke the wrong heart baby, an...\n",
              "24780            1  young buck wanna eat!!.. dat nigguh like I ain...\n",
              "24781            1              youu got wild bitches tellin you lies\n",
              "24782            0  ~~Ruffled | Ntac Eileen Dahlia - Beautiful col...\n",
              "\n",
              "[24783 rows x 2 columns]"
            ],
            "text/html": [
              "\n",
              "  <div id=\"df-ac1830b0-4efc-41ac-a652-07f1a6ec7f8a\">\n",
              "    <div class=\"colab-df-container\">\n",
              "      <div>\n",
              "<style scoped>\n",
              "    .dataframe tbody tr th:only-of-type {\n",
              "        vertical-align: middle;\n",
              "    }\n",
              "\n",
              "    .dataframe tbody tr th {\n",
              "        vertical-align: top;\n",
              "    }\n",
              "\n",
              "    .dataframe thead th {\n",
              "        text-align: right;\n",
              "    }\n",
              "</style>\n",
              "<table border=\"1\" class=\"dataframe\">\n",
              "  <thead>\n",
              "    <tr style=\"text-align: right;\">\n",
              "      <th></th>\n",
              "      <th>hate_speech</th>\n",
              "      <th>tweet</th>\n",
              "    </tr>\n",
              "  </thead>\n",
              "  <tbody>\n",
              "    <tr>\n",
              "      <th>0</th>\n",
              "      <td>0</td>\n",
              "      <td>!!! RT @mayasolovely: As a woman you shouldn't...</td>\n",
              "    </tr>\n",
              "    <tr>\n",
              "      <th>1</th>\n",
              "      <td>1</td>\n",
              "      <td>!!!!! RT @mleew17: boy dats cold...tyga dwn ba...</td>\n",
              "    </tr>\n",
              "    <tr>\n",
              "      <th>2</th>\n",
              "      <td>1</td>\n",
              "      <td>!!!!!!! RT @UrKindOfBrand Dawg!!!! RT @80sbaby...</td>\n",
              "    </tr>\n",
              "    <tr>\n",
              "      <th>3</th>\n",
              "      <td>1</td>\n",
              "      <td>!!!!!!!!! RT @C_G_Anderson: @viva_based she lo...</td>\n",
              "    </tr>\n",
              "    <tr>\n",
              "      <th>4</th>\n",
              "      <td>1</td>\n",
              "      <td>!!!!!!!!!!!!! RT @ShenikaRoberts: The shit you...</td>\n",
              "    </tr>\n",
              "    <tr>\n",
              "      <th>...</th>\n",
              "      <td>...</td>\n",
              "      <td>...</td>\n",
              "    </tr>\n",
              "    <tr>\n",
              "      <th>24778</th>\n",
              "      <td>1</td>\n",
              "      <td>you's a muthaf***in lie &amp;#8220;@LifeAsKing: @2...</td>\n",
              "    </tr>\n",
              "    <tr>\n",
              "      <th>24779</th>\n",
              "      <td>0</td>\n",
              "      <td>you've gone and broke the wrong heart baby, an...</td>\n",
              "    </tr>\n",
              "    <tr>\n",
              "      <th>24780</th>\n",
              "      <td>1</td>\n",
              "      <td>young buck wanna eat!!.. dat nigguh like I ain...</td>\n",
              "    </tr>\n",
              "    <tr>\n",
              "      <th>24781</th>\n",
              "      <td>1</td>\n",
              "      <td>youu got wild bitches tellin you lies</td>\n",
              "    </tr>\n",
              "    <tr>\n",
              "      <th>24782</th>\n",
              "      <td>0</td>\n",
              "      <td>~~Ruffled | Ntac Eileen Dahlia - Beautiful col...</td>\n",
              "    </tr>\n",
              "  </tbody>\n",
              "</table>\n",
              "<p>24783 rows × 2 columns</p>\n",
              "</div>\n",
              "      <button class=\"colab-df-convert\" onclick=\"convertToInteractive('df-ac1830b0-4efc-41ac-a652-07f1a6ec7f8a')\"\n",
              "              title=\"Convert this dataframe to an interactive table.\"\n",
              "              style=\"display:none;\">\n",
              "        \n",
              "  <svg xmlns=\"http://www.w3.org/2000/svg\" height=\"24px\"viewBox=\"0 0 24 24\"\n",
              "       width=\"24px\">\n",
              "    <path d=\"M0 0h24v24H0V0z\" fill=\"none\"/>\n",
              "    <path d=\"M18.56 5.44l.94 2.06.94-2.06 2.06-.94-2.06-.94-.94-2.06-.94 2.06-2.06.94zm-11 1L8.5 8.5l.94-2.06 2.06-.94-2.06-.94L8.5 2.5l-.94 2.06-2.06.94zm10 10l.94 2.06.94-2.06 2.06-.94-2.06-.94-.94-2.06-.94 2.06-2.06.94z\"/><path d=\"M17.41 7.96l-1.37-1.37c-.4-.4-.92-.59-1.43-.59-.52 0-1.04.2-1.43.59L10.3 9.45l-7.72 7.72c-.78.78-.78 2.05 0 2.83L4 21.41c.39.39.9.59 1.41.59.51 0 1.02-.2 1.41-.59l7.78-7.78 2.81-2.81c.8-.78.8-2.07 0-2.86zM5.41 20L4 18.59l7.72-7.72 1.47 1.35L5.41 20z\"/>\n",
              "  </svg>\n",
              "      </button>\n",
              "      \n",
              "  <style>\n",
              "    .colab-df-container {\n",
              "      display:flex;\n",
              "      flex-wrap:wrap;\n",
              "      gap: 12px;\n",
              "    }\n",
              "\n",
              "    .colab-df-convert {\n",
              "      background-color: #E8F0FE;\n",
              "      border: none;\n",
              "      border-radius: 50%;\n",
              "      cursor: pointer;\n",
              "      display: none;\n",
              "      fill: #1967D2;\n",
              "      height: 32px;\n",
              "      padding: 0 0 0 0;\n",
              "      width: 32px;\n",
              "    }\n",
              "\n",
              "    .colab-df-convert:hover {\n",
              "      background-color: #E2EBFA;\n",
              "      box-shadow: 0px 1px 2px rgba(60, 64, 67, 0.3), 0px 1px 3px 1px rgba(60, 64, 67, 0.15);\n",
              "      fill: #174EA6;\n",
              "    }\n",
              "\n",
              "    [theme=dark] .colab-df-convert {\n",
              "      background-color: #3B4455;\n",
              "      fill: #D2E3FC;\n",
              "    }\n",
              "\n",
              "    [theme=dark] .colab-df-convert:hover {\n",
              "      background-color: #434B5C;\n",
              "      box-shadow: 0px 1px 3px 1px rgba(0, 0, 0, 0.15);\n",
              "      filter: drop-shadow(0px 1px 2px rgba(0, 0, 0, 0.3));\n",
              "      fill: #FFFFFF;\n",
              "    }\n",
              "  </style>\n",
              "\n",
              "      <script>\n",
              "        const buttonEl =\n",
              "          document.querySelector('#df-ac1830b0-4efc-41ac-a652-07f1a6ec7f8a button.colab-df-convert');\n",
              "        buttonEl.style.display =\n",
              "          google.colab.kernel.accessAllowed ? 'block' : 'none';\n",
              "\n",
              "        async function convertToInteractive(key) {\n",
              "          const element = document.querySelector('#df-ac1830b0-4efc-41ac-a652-07f1a6ec7f8a');\n",
              "          const dataTable =\n",
              "            await google.colab.kernel.invokeFunction('convertToInteractive',\n",
              "                                                     [key], {});\n",
              "          if (!dataTable) return;\n",
              "\n",
              "          const docLinkHtml = 'Like what you see? Visit the ' +\n",
              "            '<a target=\"_blank\" href=https://colab.research.google.com/notebooks/data_table.ipynb>data table notebook</a>'\n",
              "            + ' to learn more about interactive tables.';\n",
              "          element.innerHTML = '';\n",
              "          dataTable['output_type'] = 'display_data';\n",
              "          await google.colab.output.renderOutput(dataTable, element);\n",
              "          const docLink = document.createElement('div');\n",
              "          docLink.innerHTML = docLinkHtml;\n",
              "          element.appendChild(docLink);\n",
              "        }\n",
              "      </script>\n",
              "    </div>\n",
              "  </div>\n",
              "  "
            ]
          },
          "metadata": {},
          "execution_count": 28
        }
      ]
    },
    {
      "cell_type": "markdown",
      "source": [
        "### Verifying Class Imbalance"
      ],
      "metadata": {
        "id": "mRvOASifEkHi"
      }
    },
    {
      "cell_type": "code",
      "source": [
        "print(\"class imbalance for english data\")\n",
        "print(\"NON HS:\")\n",
        "print(df_en[df_en['hate_speech']==0].count())\n",
        "print(\"HS\")\n",
        "print(df_en[df_en['hate_speech']==1].count())"
      ],
      "metadata": {
        "colab": {
          "base_uri": "https://localhost:8080/"
        },
        "id": "Glj6DghaFIdW",
        "outputId": "87281965-da38-442d-d637-c5d096e856eb"
      },
      "execution_count": 29,
      "outputs": [
        {
          "output_type": "stream",
          "name": "stdout",
          "text": [
            "class imbalance for english data\n",
            "NON HS:\n",
            "hate_speech    4163\n",
            "tweet          4163\n",
            "dtype: int64\n",
            "HS\n",
            "hate_speech    20620\n",
            "tweet          20620\n",
            "dtype: int64\n"
          ]
        }
      ]
    },
    {
      "cell_type": "markdown",
      "source": [
        "English data are heavily imbalanced towards hate speech equal to 1 class."
      ],
      "metadata": {
        "id": "Z_ZxD9CCFjry"
      }
    },
    {
      "cell_type": "code",
      "source": [
        "print(\"class imbalance for italian data\")\n",
        "print(\"NON HS:\")\n",
        "print(df_ita[df_ita['hate_speech']==0].count())\n",
        "print(\"HS\")\n",
        "print(df_ita[df_ita['hate_speech']==1].count())"
      ],
      "metadata": {
        "colab": {
          "base_uri": "https://localhost:8080/"
        },
        "id": "eW4-5BcWFMWw",
        "outputId": "ef64bedd-fb63-4be8-b65b-f457b3dfbb0e"
      },
      "execution_count": 30,
      "outputs": [
        {
          "output_type": "stream",
          "name": "stdout",
          "text": [
            "class imbalance for italian data\n",
            "NON HS:\n",
            "text           5711\n",
            "hate_speech    5711\n",
            "dtype: int64\n",
            "HS\n",
            "text           6126\n",
            "hate_speech    6126\n",
            "dtype: int64\n"
          ]
        }
      ]
    },
    {
      "cell_type": "markdown",
      "source": [
        "## Perform train/test split"
      ],
      "metadata": {
        "id": "rprgmaLmF-G8"
      }
    },
    {
      "cell_type": "markdown",
      "source": [
        "### Italian dataframe"
      ],
      "metadata": {
        "id": "rQegSqy7GIYO"
      }
    },
    {
      "cell_type": "code",
      "source": [
        "# Training data for the italian dataframe\n",
        "train_ita, test_ita = train_test_split(df_ita, test_size=0.2)\n",
        "\n",
        "# Train\n",
        "X_train_ita = train_ita['text'].reset_index(drop=True)\n",
        "Y_train_ita = train_ita['hate_speech'].reset_index(drop=True)\n",
        "\n",
        "# Test\n",
        "X_test_ita = test_ita['text'].reset_index(drop=True)\n",
        "Y_test_ita = test_ita['hate_speech'].reset_index(drop=True)"
      ],
      "metadata": {
        "id": "dmsh83VNnCaF"
      },
      "execution_count": 31,
      "outputs": []
    },
    {
      "cell_type": "markdown",
      "source": [
        "### English dataframe"
      ],
      "metadata": {
        "id": "omTMCWwiGLJ8"
      }
    },
    {
      "cell_type": "code",
      "source": [
        "# Training data for the italian dataframe\n",
        "train_en, test_en = train_test_split(df_en, test_size=0.2)\n",
        "\n",
        "# Train\n",
        "X_train_en = train_en['tweet'].reset_index(drop=True)\n",
        "Y_train_en = train_en['hate_speech'].reset_index(drop=True)\n",
        "\n",
        "# Test\n",
        "X_test_en = test_en['tweet'].reset_index(drop=True)\n",
        "Y_test_en = test_en['hate_speech'].reset_index(drop=True)"
      ],
      "metadata": {
        "id": "XMPMJ2F5dOBv"
      },
      "execution_count": 32,
      "outputs": []
    },
    {
      "cell_type": "markdown",
      "source": [
        "# THE BIBLE I FOLLOW\n",
        "\n",
        "https://github.com/nlptown/nlp-notebooks/blob/master/Multilingual%20Embeddings%20-%203.%20Transfer%20Learning.ipynb\n",
        "\n",
        "---\n"
      ],
      "metadata": {
        "id": "q8kFkEm9JPbD"
      }
    },
    {
      "cell_type": "markdown",
      "source": [
        "# Model"
      ],
      "metadata": {
        "id": "yOD7AqoKMj8J"
      }
    },
    {
      "cell_type": "markdown",
      "source": [
        "## Multilingual word embeddings\n",
        "\n",
        "To have the multilingual embedding space we use aligned embeddings.\n",
        "\n",
        "Start by downloading set of embeddings from the MUSE library, are fastText Wikipedia supervised word embeddings.\n"
      ],
      "metadata": {
        "id": "Fao5qlZgjlsR"
      }
    },
    {
      "cell_type": "code",
      "source": [
        "!wget https://dl.fbaipublicfiles.com/arrival/vectors/wiki.multi.en.vec -O wiki.en.vec\n",
        "!wget https://dl.fbaipublicfiles.com/arrival/vectors/wiki.multi.it.vec -O wiki.it.vec"
      ],
      "metadata": {
        "colab": {
          "base_uri": "https://localhost:8080/"
        },
        "id": "DK1_T718dWiJ",
        "outputId": "6c61c09e-341f-401a-b01a-f4ac1e8a84af"
      },
      "execution_count": 33,
      "outputs": [
        {
          "output_type": "stream",
          "name": "stdout",
          "text": [
            "--2023-07-08 14:07:49--  https://dl.fbaipublicfiles.com/arrival/vectors/wiki.multi.en.vec\n",
            "Resolving dl.fbaipublicfiles.com (dl.fbaipublicfiles.com)... 52.84.251.106, 52.84.251.114, 52.84.251.15, ...\n",
            "Connecting to dl.fbaipublicfiles.com (dl.fbaipublicfiles.com)|52.84.251.106|:443... connected.\n",
            "HTTP request sent, awaiting response... 200 OK\n",
            "Length: 628614720 (599M) [text/plain]\n",
            "Saving to: ‘wiki.en.vec’\n",
            "\n",
            "wiki.en.vec         100%[===================>] 599.49M  3.15MB/s    in 2m 29s  \n",
            "\n",
            "2023-07-08 14:10:19 (4.02 MB/s) - ‘wiki.en.vec’ saved [628614720/628614720]\n",
            "\n",
            "--2023-07-08 14:10:20--  https://dl.fbaipublicfiles.com/arrival/vectors/wiki.multi.it.vec\n",
            "Resolving dl.fbaipublicfiles.com (dl.fbaipublicfiles.com)... 52.84.251.106, 52.84.251.15, 52.84.251.114, ...\n",
            "Connecting to dl.fbaipublicfiles.com (dl.fbaipublicfiles.com)|52.84.251.106|:443... connected.\n",
            "HTTP request sent, awaiting response... 200 OK\n",
            "Length: 628718043 (600M) [text/plain]\n",
            "Saving to: ‘wiki.it.vec’\n",
            "\n",
            "wiki.it.vec         100%[===================>] 599.59M  22.7MB/s    in 28s     \n",
            "\n",
            "2023-07-08 14:10:48 (21.6 MB/s) - ‘wiki.it.vec’ saved [628718043/628718043]\n",
            "\n"
          ]
        }
      ]
    },
    {
      "cell_type": "markdown",
      "source": [
        "The vec file are fastText Wikipedia supervised word embeddings for our languages (eng and ita) which are aligned in a single vector space.\n",
        "\n",
        "The main idea behind [Multilingual word Embeddings](https://github.com/facebookresearch/MUSE) is to align different word embeddings into a single shared spatial representation.\n",
        "\n",
        "Now, from the vec files we extract:\n",
        "- The list of the embedding\n",
        "- The dictionary in the form [\"word\": id] to create a link between each word in the embedding with its row in the embedding list (id)"
      ],
      "metadata": {
        "id": "ik5siIk3I8pw"
      }
    },
    {
      "cell_type": "code",
      "source": [
        "# Given the embeddings file path, produce the:\n",
        "#   - embeddings → list of the embeddings of the words in wiki\n",
        "#   - embedding_word2id → dictionary with each word and relative index in the embedding list\n",
        "def load_vectors(embedding_file_path):\n",
        "    print(\"Loading vectors from\", embedding_file_path)\n",
        "    embeddings = []\n",
        "    word2id = {}\n",
        "    with open(embedding_file_path, 'r', encoding='utf-8') as f:\n",
        "        next(f)\n",
        "        for i, line in enumerate(f):\n",
        "            word, emb = line.rstrip().split(' ', 1)\n",
        "            emb = np.fromstring(emb, sep=' ')\n",
        "            assert word not in word2id, 'word found twice'\n",
        "            embeddings.append(emb)\n",
        "            word2id[word] = len(word2id)\n",
        "\n",
        "    embeddings = np.vstack(embeddings)\n",
        "    return embeddings, word2id\n",
        "\n",
        "embeddings_en, embedding_word2id_en = load_vectors(\"wiki.en.vec\")\n",
        "embeddings_it, embedding_word2id_it = load_vectors(\"wiki.it.vec\")"
      ],
      "metadata": {
        "colab": {
          "base_uri": "https://localhost:8080/"
        },
        "id": "UewhUuhudY8Z",
        "outputId": "ed7a7f2d-8dde-471c-858f-bd93617e798c"
      },
      "execution_count": 34,
      "outputs": [
        {
          "output_type": "stream",
          "name": "stdout",
          "text": [
            "Loading vectors from wiki.en.vec\n",
            "Loading vectors from wiki.it.vec\n"
          ]
        }
      ]
    },
    {
      "cell_type": "code",
      "source": [
        "embeddings_en"
      ],
      "metadata": {
        "colab": {
          "base_uri": "https://localhost:8080/"
        },
        "id": "nNLAL_1NdlI8",
        "outputId": "9fc7f180-1a93-4cc6-b274-85790acd1a2c"
      },
      "execution_count": 35,
      "outputs": [
        {
          "output_type": "execute_result",
          "data": {
            "text/plain": [
              "array([[-0.0112864 , -0.00206967, -0.0515041 , ...,  0.0435525 ,\n",
              "        -0.00774608,  0.0724234 ],\n",
              "       [-0.0469256 , -0.00058526, -0.0750844 , ...,  0.0267626 ,\n",
              "        -0.0513555 ,  0.0166127 ],\n",
              "       [-0.0324474 , -0.0462027 , -0.00872643, ...,  0.0826505 ,\n",
              "        -0.0649553 ,  0.0175795 ],\n",
              "       ...,\n",
              "       [-0.0608303 , -0.0172956 , -0.101635  , ...,  0.102298  ,\n",
              "         0.0479459 ,  0.0387411 ],\n",
              "       [-0.0867473 , -0.00469176, -0.104337  , ..., -0.00478122,\n",
              "         0.130826  , -0.0207968 ],\n",
              "       [-0.0119003 , -0.0123243 , -0.065963  , ...,  0.0184328 ,\n",
              "        -0.0295059 , -0.0160871 ]])"
            ]
          },
          "metadata": {},
          "execution_count": 35
        }
      ]
    },
    {
      "cell_type": "code",
      "source": [
        "embedding_word2id_en"
      ],
      "metadata": {
        "colab": {
          "base_uri": "https://localhost:8080/"
        },
        "id": "mPszZPaPdmLh",
        "outputId": "1e634bff-b24f-4892-f0ef-0bb3cab5f1c6"
      },
      "execution_count": 36,
      "outputs": [
        {
          "output_type": "execute_result",
          "data": {
            "text/plain": [
              "{',': 0,\n",
              " '.': 1,\n",
              " 'the': 2,\n",
              " '</s>': 3,\n",
              " 'of': 4,\n",
              " '-': 5,\n",
              " 'in': 6,\n",
              " 'and': 7,\n",
              " \"'\": 8,\n",
              " ')': 9,\n",
              " '(': 10,\n",
              " 'to': 11,\n",
              " 'a': 12,\n",
              " 'is': 13,\n",
              " 'was': 14,\n",
              " 'on': 15,\n",
              " 's': 16,\n",
              " 'for': 17,\n",
              " 'as': 18,\n",
              " 'by': 19,\n",
              " 'that': 20,\n",
              " 'it': 21,\n",
              " 'with': 22,\n",
              " 'from': 23,\n",
              " 'at': 24,\n",
              " 'he': 25,\n",
              " 'this': 26,\n",
              " 'be': 27,\n",
              " 'i': 28,\n",
              " 'an': 29,\n",
              " 'utc': 30,\n",
              " 'his': 31,\n",
              " 'not': 32,\n",
              " '–': 33,\n",
              " 'are': 34,\n",
              " 'or': 35,\n",
              " 'talk': 36,\n",
              " 'which': 37,\n",
              " 'also': 38,\n",
              " 'has': 39,\n",
              " 'were': 40,\n",
              " 'but': 41,\n",
              " 'have': 42,\n",
              " '#': 43,\n",
              " 'one': 44,\n",
              " 'rd': 45,\n",
              " 'new': 46,\n",
              " 'first': 47,\n",
              " 'page': 48,\n",
              " 'no': 49,\n",
              " 'you': 50,\n",
              " 'they': 51,\n",
              " 'had': 52,\n",
              " 'article': 53,\n",
              " 't': 54,\n",
              " 'who': 55,\n",
              " '?': 56,\n",
              " 'all': 57,\n",
              " 'their': 58,\n",
              " 'there': 59,\n",
              " 'been': 60,\n",
              " 'made': 61,\n",
              " 'its': 62,\n",
              " 'people': 63,\n",
              " 'may': 64,\n",
              " 'after': 65,\n",
              " '%': 66,\n",
              " 'other': 67,\n",
              " 'should': 68,\n",
              " 'two': 69,\n",
              " 'score': 70,\n",
              " 'her': 71,\n",
              " 'can': 72,\n",
              " 'would': 73,\n",
              " 'more': 74,\n",
              " 'if': 75,\n",
              " 'she': 76,\n",
              " 'about': 77,\n",
              " 'when': 78,\n",
              " 'time': 79,\n",
              " 'team': 80,\n",
              " 'american': 81,\n",
              " 'such': 82,\n",
              " 'th': 83,\n",
              " 'do': 84,\n",
              " 'discussion': 85,\n",
              " 'links': 86,\n",
              " 'only': 87,\n",
              " 'some': 88,\n",
              " 'up': 89,\n",
              " 'see': 90,\n",
              " 'united': 91,\n",
              " 'years': 92,\n",
              " 'into': 93,\n",
              " '/': 94,\n",
              " 'school': 95,\n",
              " 'so': 96,\n",
              " 'world': 97,\n",
              " 'university': 98,\n",
              " 'during': 99,\n",
              " 'out': 100,\n",
              " 'state': 101,\n",
              " 'states': 102,\n",
              " 'national': 103,\n",
              " 'wikipedia': 104,\n",
              " 'year': 105,\n",
              " 'most': 106,\n",
              " 'city': 107,\n",
              " 'over': 108,\n",
              " 'used': 109,\n",
              " 'then': 110,\n",
              " 'd': 111,\n",
              " 'than': 112,\n",
              " 'county': 113,\n",
              " 'external': 114,\n",
              " 'm': 115,\n",
              " 'where': 116,\n",
              " 'will': 117,\n",
              " 'de': 118,\n",
              " 'what': 119,\n",
              " 'delete': 120,\n",
              " 'any': 121,\n",
              " 'these': 122,\n",
              " 'january': 123,\n",
              " 'march': 124,\n",
              " 'august': 125,\n",
              " 'july': 126,\n",
              " 'being': 127,\n",
              " 'film': 128,\n",
              " 'him': 129,\n",
              " 'many': 130,\n",
              " 'south': 131,\n",
              " 'september': 132,\n",
              " 'like': 133,\n",
              " 'between': 134,\n",
              " 'october': 135,\n",
              " 'three': 136,\n",
              " 'june': 137,\n",
              " 'well': 138,\n",
              " 'use': 139,\n",
              " 'war': 140,\n",
              " 'under': 141,\n",
              " 'them': 142,\n",
              " 'april': 143,\n",
              " 'we': 144,\n",
              " 'born': 145,\n",
              " 'december': 146,\n",
              " 'link': 147,\n",
              " 'while': 148,\n",
              " 'c': 149,\n",
              " 'later': 150,\n",
              " 'part': 151,\n",
              " 'november': 152,\n",
              " 'further': 153,\n",
              " 'players': 154,\n",
              " 'list': 155,\n",
              " 'please': 156,\n",
              " 'following': 157,\n",
              " 'my': 158,\n",
              " 'february': 159,\n",
              " 'known': 160,\n",
              " 'second': 161,\n",
              " 'u': 162,\n",
              " 'name': 163,\n",
              " 'group': 164,\n",
              " 'history': 165,\n",
              " 'series': 166,\n",
              " 'just': 167,\n",
              " 'e': 168,\n",
              " 'north': 169,\n",
              " 'work': 170,\n",
              " 'before': 171,\n",
              " 'since': 172,\n",
              " 'season': 173,\n",
              " 'both': 174,\n",
              " 'high': 175,\n",
              " 'st': 176,\n",
              " 'through': 177,\n",
              " 'district': 178,\n",
              " 'now': 179,\n",
              " '!': 180,\n",
              " 'comments': 181,\n",
              " 'because': 182,\n",
              " 'football': 183,\n",
              " 'music': 184,\n",
              " 'however': 185,\n",
              " 'diff': 186,\n",
              " 'century': 187,\n",
              " 'league': 188,\n",
              " 'edits': 189,\n",
              " 'debate': 190,\n",
              " 'title': 191,\n",
              " 'articles': 192,\n",
              " 'john': 193,\n",
              " 'same': 194,\n",
              " 'including': 195,\n",
              " 'could': 196,\n",
              " 'english': 197,\n",
              " 'album': 198,\n",
              " 'number': 199,\n",
              " 'against': 200,\n",
              " 'family': 201,\n",
              " 'user': 202,\n",
              " 'based': 203,\n",
              " 'area': 204,\n",
              " 'became': 205,\n",
              " 'york': 206,\n",
              " 'b': 207,\n",
              " 'life': 208,\n",
              " 'me': 209,\n",
              " 'british': 210,\n",
              " 'international': 211,\n",
              " 'game': 212,\n",
              " '\"': 213,\n",
              " 'above': 214,\n",
              " 'club': 215,\n",
              " 'your': 216,\n",
              " 'until': 217,\n",
              " 'early': 218,\n",
              " 'best': 219,\n",
              " 'west': 220,\n",
              " 'house': 221,\n",
              " 'company': 222,\n",
              " 'general': 223,\n",
              " 'left': 224,\n",
              " 'very': 225,\n",
              " 'here': 226,\n",
              " 'don': 227,\n",
              " 'living': 228,\n",
              " 'day': 229,\n",
              " 'several': 230,\n",
              " 'place': 231,\n",
              " 'party': 232,\n",
              " 'college': 233,\n",
              " 'result': 234,\n",
              " 'keep': 235,\n",
              " 'appropriate': 236,\n",
              " 'four': 237,\n",
              " 'subsequent': 238,\n",
              " 'even': 239,\n",
              " 'class': 240,\n",
              " 'government': 241,\n",
              " 'how': 242,\n",
              " 'called': 243,\n",
              " 'did': 244,\n",
              " 'each': 245,\n",
              " 'found': 246,\n",
              " 'center': 247,\n",
              " 'per': 248,\n",
              " 'style': 249,\n",
              " 'com': 250,\n",
              " 'long': 251,\n",
              " 'country': 252,\n",
              " 'back': 253,\n",
              " 'way': 254,\n",
              " 'does': 255,\n",
              " 'www': 256,\n",
              " 'modify': 257,\n",
              " 'end': 258,\n",
              " 'make': 259,\n",
              " 'public': 260,\n",
              " 'played': 261,\n",
              " 'p': 262,\n",
              " 'won': 263,\n",
              " 'another': 264,\n",
              " 'released': 265,\n",
              " 'added': 266,\n",
              " 'f': 267,\n",
              " 'support': 268,\n",
              " 'games': 269,\n",
              " 'former': 270,\n",
              " 'those': 271,\n",
              " 'films': 272,\n",
              " 'church': 273,\n",
              " 'east': 274,\n",
              " 'line': 275,\n",
              " 'major': 276,\n",
              " 'members': 277,\n",
              " 'good': 278,\n",
              " 'much': 279,\n",
              " 'image': 280,\n",
              " 'show': 281,\n",
              " 'still': 282,\n",
              " 'think': 283,\n",
              " 'below': 284,\n",
              " 'town': 285,\n",
              " 'last': 286,\n",
              " 'system': 287,\n",
              " 'right': 288,\n",
              " 'song': 289,\n",
              " 'non': 290,\n",
              " 'notable': 291,\n",
              " 'section': 292,\n",
              " 'single': 293,\n",
              " 'included': 294,\n",
              " 'align': 295,\n",
              " 'home': 296,\n",
              " 'women': 297,\n",
              " 'television': 298,\n",
              " '—': 299,\n",
              " 'seed': 300,\n",
              " 'member': 301,\n",
              " 'goals': 302,\n",
              " 'sources': 303,\n",
              " '}}': 304,\n",
              " 'book': 305,\n",
              " 'station': 306,\n",
              " 'order': 307,\n",
              " 'old': 308,\n",
              " 'information': 309,\n",
              " 'set': 310,\n",
              " 'own': 311,\n",
              " 'text': 312,\n",
              " 'band': 313,\n",
              " 'point': 314,\n",
              " 'local': 315,\n",
              " 'around': 316,\n",
              " 'river': 317,\n",
              " 'top': 318,\n",
              " 'main': 319,\n",
              " 'language': 320,\n",
              " 'french': 321,\n",
              " 'https': 322,\n",
              " 'named': 323,\n",
              " 'off': 324,\n",
              " 'us': 325,\n",
              " 'note': 326,\n",
              " 'career': 327,\n",
              " 'original': 328,\n",
              " 'age': 329,\n",
              " 'service': 330,\n",
              " 'established': 331,\n",
              " 'located': 332,\n",
              " 're': 333,\n",
              " 'said': 334,\n",
              " 'website': 335,\n",
              " 'population': 336,\n",
              " 'air': 337,\n",
              " 'german': 338,\n",
              " 'law': 339,\n",
              " 'military': 340,\n",
              " '}': 341,\n",
              " 'great': 342,\n",
              " 'ii': 343,\n",
              " 'within': 344,\n",
              " 'clubs': 345,\n",
              " 'published': 346,\n",
              " 'president': 347,\n",
              " 'park': 348,\n",
              " 'official': 349,\n",
              " '$': 350,\n",
              " 'r': 351,\n",
              " 'case': 352,\n",
              " '>': 353,\n",
              " 'london': 354,\n",
              " 'times': 355,\n",
              " 'although': 356,\n",
              " 'small': 357,\n",
              " 'third': 358,\n",
              " 'different': 359,\n",
              " 'due': 360,\n",
              " 'get': 361,\n",
              " 'village': 362,\n",
              " 'closed': 363,\n",
              " 'g': 364,\n",
              " 'art': 365,\n",
              " 'player': 366,\n",
              " 'final': 367,\n",
              " 'l': 368,\n",
              " 'community': 369,\n",
              " 'held': 370,\n",
              " 'n': 371,\n",
              " 'again': 372,\n",
              " 'began': 373,\n",
              " 'army': 374,\n",
              " 'award': 375,\n",
              " 'without': 376,\n",
              " 'death': 377,\n",
              " 'built': 378,\n",
              " 'men': 379,\n",
              " 'large': 380,\n",
              " 'site': 381,\n",
              " '+': 382,\n",
              " 'using': 383,\n",
              " 'deletion': 384,\n",
              " 'white': 385,\n",
              " 'along': 386,\n",
              " 'five': 387,\n",
              " 'central': 388,\n",
              " 'road': 389,\n",
              " 'children': 390,\n",
              " 'free': 391,\n",
              " 'took': 392,\n",
              " 'england': 393,\n",
              " 'include': 394,\n",
              " 'association': 395,\n",
              " 'down': 396,\n",
              " 'j': 397,\n",
              " 'given': 398,\n",
              " 'source': 399,\n",
              " 'x': 400,\n",
              " 'california': 401,\n",
              " 'man': 402,\n",
              " 'version': 403,\n",
              " 'written': 404,\n",
              " 'created': 405,\n",
              " 'media': 406,\n",
              " 'black': 407,\n",
              " 'though': 408,\n",
              " 'php': 409,\n",
              " 'report': 410,\n",
              " 'building': 411,\n",
              " 'la': 412,\n",
              " 'take': 413,\n",
              " 'division': 414,\n",
              " 'comment': 415,\n",
              " 'having': 416,\n",
              " 'king': 417,\n",
              " 'edit': 418,\n",
              " 'stadium': 419,\n",
              " 'died': 420,\n",
              " 'ship': 421,\n",
              " 'research': 422,\n",
              " 'record': 423,\n",
              " 'archive': 424,\n",
              " 'places': 425,\n",
              " 'undo': 426,\n",
              " 'cup': 427,\n",
              " 'records': 428,\n",
              " 'often': 429,\n",
              " 'few': 430,\n",
              " 'received': 431,\n",
              " 'side': 432,\n",
              " 'power': 433,\n",
              " 'education': 434,\n",
              " 'know': 435,\n",
              " 'category': 436,\n",
              " 'water': 437,\n",
              " 'political': 438,\n",
              " 'species': 439,\n",
              " 'field': 440,\n",
              " 'near': 441,\n",
              " '&': 442,\n",
              " 'co': 443,\n",
              " 'australia': 444,\n",
              " 'video': 445,\n",
              " 'need': 446,\n",
              " 'go': 447,\n",
              " 'island': 448,\n",
              " 'form': 449,\n",
              " 'find': 450,\n",
              " 'served': 451,\n",
              " 'play': 452,\n",
              " 'project': 453,\n",
              " 'o': 454,\n",
              " 'according': 455,\n",
              " '//en': 456,\n",
              " 'radio': 457,\n",
              " 'am': 458,\n",
              " 'works': 459,\n",
              " 'proposed': 460,\n",
              " 'every': 461,\n",
              " 'development': 462,\n",
              " 'example': 463,\n",
              " 'live': 464,\n",
              " 'union': 465,\n",
              " 'india': 466,\n",
              " 'next': 467,\n",
              " 'special': 468,\n",
              " 'court': 469,\n",
              " 'region': 470,\n",
              " 'h': 471,\n",
              " 'little': 472,\n",
              " 'short': 473,\n",
              " 'v': 474,\n",
              " 'william': 475,\n",
              " 'province': 476,\n",
              " 'western': 477,\n",
              " 'son': 478,\n",
              " 'france': 479,\n",
              " 'council': 480,\n",
              " 'others': 481,\n",
              " 'royal': 482,\n",
              " 'current': 483,\n",
              " 'street': 484,\n",
              " 'full': 485,\n",
              " 'red': 486,\n",
              " 'too': 487,\n",
              " 'department': 488,\n",
              " 'w': 489,\n",
              " 'san': 490,\n",
              " 'help': 491,\n",
              " 'subdivision_type': 492,\n",
              " 'among': 493,\n",
              " 've': 494,\n",
              " 'preserved': 495,\n",
              " 'james': 496,\n",
              " 'open': 497,\n",
              " 'force': 498,\n",
              " 'position': 499,\n",
              " 'head': 500,\n",
              " 'director': 501,\n",
              " 'father': 502,\n",
              " 'track': 503,\n",
              " 'http': 504,\n",
              " 'canada': 505,\n",
              " 'never': 506,\n",
              " 'australian': 507,\n",
              " 'id': 508,\n",
              " 'george': 509,\n",
              " 'org/w/index': 510,\n",
              " 'jpg': 511,\n",
              " 'level': 512,\n",
              " 'late': 513,\n",
              " 'summer': 514,\n",
              " 'society': 515,\n",
              " 'moved': 516,\n",
              " 'office': 517,\n",
              " 'period': 518,\n",
              " 'championship': 519,\n",
              " 'round': 520,\n",
              " 'story': 521,\n",
              " 'songs': 522,\n",
              " 'various': 523,\n",
              " 'file': 524,\n",
              " 'days': 525,\n",
              " 'land': 526,\n",
              " 'business': 527,\n",
              " 'tv': 528,\n",
              " 'subdivision_name': 529,\n",
              " 'reason': 530,\n",
              " 'america': 531,\n",
              " 'million': 532,\n",
              " 'european': 533,\n",
              " 'term': 534,\n",
              " 'al': 535,\n",
              " 'six': 536,\n",
              " 'uk': 537,\n",
              " 'post': 538,\n",
              " 'why': 539,\n",
              " 'produced': 540,\n",
              " 'making': 541,\n",
              " 'subject': 542,\n",
              " 'young': 543,\n",
              " 'total': 544,\n",
              " 'david': 545,\n",
              " 'science': 546,\n",
              " 'related': 547,\n",
              " 'rock': 548,\n",
              " 'archived': 549,\n",
              " 'railway': 550,\n",
              " 'become': 551,\n",
              " 'led': 552,\n",
              " 'students': 553,\n",
              " 'started': 554,\n",
              " 'news': 555,\n",
              " 'described': 556,\n",
              " '//www': 557,\n",
              " 'role': 558,\n",
              " 'election': 559,\n",
              " 'albums': 560,\n",
              " 'present': 561,\n",
              " 'indian': 562,\n",
              " 'kingdom': 563,\n",
              " 'books': 564,\n",
              " 'important': 565,\n",
              " 'northern': 566,\n",
              " 'love': 567,\n",
              " 'run': 568,\n",
              " 'canadian': 569,\n",
              " 'press': 570,\n",
              " 'rather': 571,\n",
              " 'k': 572,\n",
              " 'type': 573,\n",
              " 'act': 574,\n",
              " 'editor': 575,\n",
              " 'came': 576,\n",
              " 'schools': 577,\n",
              " 'program': 578,\n",
              " 'once': 579,\n",
              " 'issue': 580,\n",
              " 'social': 581,\n",
              " 'germany': 582,\n",
              " 'production': 583,\n",
              " 'male': 584,\n",
              " 'might': 585,\n",
              " 'awards': 586,\n",
              " 'points': 587,\n",
              " 'similar': 588,\n",
              " 'professional': 589,\n",
              " 'say': 590,\n",
              " 'background': 591,\n",
              " 'enough': 592,\n",
              " 'lead': 593,\n",
              " 'either': 594,\n",
              " 'common': 595,\n",
              " 'overlap': 596,\n",
              " 'data': 597,\n",
              " 'color': 598,\n",
              " 'better': 599,\n",
              " '•': 600,\n",
              " 'person': 601,\n",
              " 'services': 602,\n",
              " 'bgcolor': 603,\n",
              " 'museum': 604,\n",
              " 'battle': 605,\n",
              " 'went': 606,\n",
              " 'sports': 607,\n",
              " 'already': 608,\n",
              " 'currently': 609,\n",
              " 'hall': 610,\n",
              " 'buildings': 611,\n",
              " 'historic': 612,\n",
              " 'date': 613,\n",
              " 'deleted': 614,\n",
              " 'considered': 615,\n",
              " 'change': 616,\n",
              " 'location': 617,\n",
              " 'seems': 618,\n",
              " 'must': 619,\n",
              " 'yes': 620,\n",
              " 'our': 621,\n",
              " 'southern': 622,\n",
              " 'least': 623,\n",
              " 'lost': 624,\n",
              " 'something': 625,\n",
              " 'review': 626,\n",
              " 'together': 627,\n",
              " 'robert': 628,\n",
              " 'fact': 629,\n",
              " 'less': 630,\n",
              " 'japanese': 631,\n",
              " 'groups': 632,\n",
              " 'content': 633,\n",
              " 'birth_place': 634,\n",
              " 'involved': 635,\n",
              " 'isbn': 636,\n",
              " 'board': 637,\n",
              " 'japan': 638,\n",
              " 'control': 639,\n",
              " 'policy': 640,\n",
              " 'modern': 641,\n",
              " 'human': 642,\n",
              " 'half': 643,\n",
              " 'design': 644,\n",
              " 'event': 645,\n",
              " 'events': 646,\n",
              " 'available': 647,\n",
              " 'done': 648,\n",
              " 'washington': 649,\n",
              " 'real': 650,\n",
              " 'start': 651,\n",
              " 'personal': 652,\n",
              " 'action': 653,\n",
              " 'space': 654,\n",
              " 'areas': 655,\n",
              " 'doesn': 656,\n",
              " 'notability': 657,\n",
              " 'star': 658,\n",
              " 'really': 659,\n",
              " 'china': 660,\n",
              " 'possible': 661,\n",
              " 'paul': 662,\n",
              " 'working': 663,\n",
              " 'taken': 664,\n",
              " 'far': 665,\n",
              " 'going': 666,\n",
              " 'minister': 667,\n",
              " 'lake': 668,\n",
              " 'reported': 669,\n",
              " 'popular': 670,\n",
              " 'married': 671,\n",
              " 'founded': 672,\n",
              " 'europe': 673,\n",
              " 'author': 674,\n",
              " 'away': 675,\n",
              " 'independent': 676,\n",
              " 'process': 677,\n",
              " 'teams': 678,\n",
              " 'character': 679,\n",
              " 'low': 680,\n",
              " 'michael': 681,\n",
              " 'pages': 682,\n",
              " 'light': 683,\n",
              " 'big': 684,\n",
              " 'seen': 685,\n",
              " 'release': 686,\n",
              " 'want': 687,\n",
              " 'episode': 688,\n",
              " 'wrote': 689,\n",
              " 'republic': 690,\n",
              " 'thomas': 691,\n",
              " 'companies': 692,\n",
              " 'via': 693,\n",
              " 'russian': 694,\n",
              " 'thanks': 695,\n",
              " 'put': 696,\n",
              " 'race': 697,\n",
              " 'worked': 698,\n",
              " 'route': 699,\n",
              " 'recorded': 700,\n",
              " 'someone': 701,\n",
              " 'civil': 702,\n",
              " 'police': 703,\n",
              " 'charles': 704,\n",
              " 'listed': 705,\n",
              " 'users': 706,\n",
              " 'template': 707,\n",
              " 'instead': 708,\n",
              " 'eastern': 709,\n",
              " 'body': 710,\n",
              " 'question': 711,\n",
              " 'italian': 712,\n",
              " 'featured': 713,\n",
              " 'week': 714,\n",
              " 'editors': 715,\n",
              " 'texas': 716,\n",
              " 'chief': 717,\n",
              " 'close': 718,\n",
              " 'himself': 719,\n",
              " 'upon': 720,\n",
              " 'match': 721,\n",
              " 'q': 722,\n",
              " 'roman': 723,\n",
              " 'come': 724,\n",
              " 'opened': 725,\n",
              " 'tour': 726,\n",
              " 'sea': 727,\n",
              " 'actually': 728,\n",
              " 'cross': 729,\n",
              " 'playing': 730,\n",
              " 'health': 731,\n",
              " 'institute': 732,\n",
              " 'caps': 733,\n",
              " 'forces': 734,\n",
              " 'green': 735,\n",
              " 'rights': 736,\n",
              " 'evidence': 737,\n",
              " 'originally': 738,\n",
              " 'aircraft': 739,\n",
              " 'arts': 740,\n",
              " 'range': 741,\n",
              " 'probably': 742,\n",
              " 'consensus': 743,\n",
              " 'bar': 744,\n",
              " 'problem': 745,\n",
              " 'look': 746,\n",
              " 'issues': 747,\n",
              " 'alumni': 748,\n",
              " 'average': 749,\n",
              " 'network': 750,\n",
              " 'win': 751,\n",
              " 'shows': 752,\n",
              " 'wife': 753,\n",
              " 'returned': 754,\n",
              " 'night': 755,\n",
              " 'magazine': 756,\n",
              " 'centre': 757,\n",
              " 'joined': 758,\n",
              " 'usually': 759,\n",
              " 'middle': 760,\n",
              " 'completed': 761,\n",
              " 'elected': 762,\n",
              " 'significant': 763,\n",
              " 'african': 764,\n",
              " 'able': 765,\n",
              " 'google': 766,\n",
              " 'stage': 767,\n",
              " 'addition': 768,\n",
              " 'ireland': 769,\n",
              " 'today': 770,\n",
              " 'academy': 771,\n",
              " 'saint': 772,\n",
              " 'self': 773,\n",
              " 'itself': 774,\n",
              " 'continued': 775,\n",
              " 'stations': 776,\n",
              " 'mother': 777,\n",
              " 'appeared': 778,\n",
              " 'africa': 779,\n",
              " 'culture': 780,\n",
              " 'spanish': 781,\n",
              " 'grand': 782,\n",
              " 'committee': 783,\n",
              " 'things': 784,\n",
              " 'fire': 785,\n",
              " 'changed': 786,\n",
              " 'gold': 787,\n",
              " 'female': 788,\n",
              " 'course': 789,\n",
              " 'directed': 790,\n",
              " 'months': 791,\n",
              " 'whether': 792,\n",
              " 'chinese': 793,\n",
              " 'previous': 794,\n",
              " 'developed': 795,\n",
              " 'size': 796,\n",
              " 'mentioned': 797,\n",
              " 'add': 798,\n",
              " 'festival': 799,\n",
              " 'peter': 800,\n",
              " 'basketball': 801,\n",
              " 'across': 802,\n",
              " 'move': 803,\n",
              " 'performance': 804,\n",
              " 'standard': 805,\n",
              " 'means': 806,\n",
              " 'give': 807,\n",
              " 'training': 808,\n",
              " 'artist': 809,\n",
              " 'word': 810,\n",
              " 'blue': 811,\n",
              " 'primary': 812,\n",
              " 'announced': 813,\n",
              " 'value': 814,\n",
              " 'christian': 815,\n",
              " 'private': 816,\n",
              " 'catholic': 817,\n",
              " 'artists': 818,\n",
              " 'includes': 819,\n",
              " 'view': 820,\n",
              " 'thus': 821,\n",
              " 'almost': 822,\n",
              " 'baseball': 823,\n",
              " 'seven': 824,\n",
              " 'appears': 825,\n",
              " 'ever': 826,\n",
              " 'provide': 827,\n",
              " 'technology': 828,\n",
              " 'olympics': 829,\n",
              " 'future': 830,\n",
              " 'formed': 831,\n",
              " 'census': 832,\n",
              " 'nd': 833,\n",
              " 'images': 834,\n",
              " 'los': 835,\n",
              " 'results': 836,\n",
              " 'return': 837,\n",
              " 'quality': 838,\n",
              " 'construction': 839,\n",
              " 'zealand': 840,\n",
              " 'front': 841,\n",
              " 'cover': 842,\n",
              " 'model': 843,\n",
              " 'despite': 844,\n",
              " 'read': 845,\n",
              " 'material': 846,\n",
              " 'strong': 847,\n",
              " 'coach': 848,\n",
              " 'henry': 849,\n",
              " 'footballers': 850,\n",
              " 'mark': 851,\n",
              " 'rev': 852,\n",
              " 'organization': 853,\n",
              " 'studies': 854,\n",
              " 'federal': 855,\n",
              " 'richard': 856,\n",
              " 'html': 857,\n",
              " 'virginia': 858,\n",
              " 'car': 859,\n",
              " 'attack': 860,\n",
              " 'conference': 861,\n",
              " 'outside': 862,\n",
              " 'study': 863,\n",
              " 'brother': 864,\n",
              " 'names': 865,\n",
              " 'throughout': 866,\n",
              " 'writer': 867,\n",
              " 'characters': 868,\n",
              " 'musical': 869,\n",
              " 'nothing': 870,\n",
              " 'border': 871,\n",
              " 'medical': 872,\n",
              " 'countries': 873,\n",
              " 'past': 874,\n",
              " 'writing': 875,\n",
              " 'makes': 876,\n",
              " 'interest': 877,\n",
              " 'provided': 878,\n",
              " 'killed': 879,\n",
              " 'medal': 880,\n",
              " 'signed': 881,\n",
              " 'dr': 882,\n",
              " 'largest': 883,\n",
              " 'label': 884,\n",
              " 'fair': 885,\n",
              " 'search': 886,\n",
              " 'bay': 887,\n",
              " 'reference': 888,\n",
              " 'especially': 889,\n",
              " 'refer': 890,\n",
              " 'removed': 891,\n",
              " 'library': 892,\n",
              " 'eventually': 893,\n",
              " 'management': 894,\n",
              " 'references': 895,\n",
              " 'features': 896,\n",
              " 'navy': 897,\n",
              " 'guitar': 898,\n",
              " 'hill': 899,\n",
              " 'sure': 900,\n",
              " 'historical': 901,\n",
              " 'lower': 902,\n",
              " 'daughter': 903,\n",
              " 'appointed': 904,\n",
              " 'reading': 905,\n",
              " 'yet': 906,\n",
              " 'systems': 907,\n",
              " 'debut': 908,\n",
              " 'movement': 909,\n",
              " 'fc': 910,\n",
              " 'specific': 911,\n",
              " 'always': 912,\n",
              " 'actor': 913,\n",
              " 'natural': 914,\n",
              " 'clear': 915,\n",
              " 'coast': 916,\n",
              " 'let': 917,\n",
              " 'got': 918,\n",
              " 'chicago': 919,\n",
              " 'championships': 920,\n",
              " 'll': 921,\n",
              " 'pennsylvania': 922,\n",
              " 'ten': 923,\n",
              " 'performed': 924,\n",
              " 'individual': 925,\n",
              " 'designed': 926,\n",
              " 'rule': 927,\n",
              " 'etc': 928,\n",
              " 'lists': 929,\n",
              " 'paris': 930,\n",
              " 'thought': 931,\n",
              " 'brown': 932,\n",
              " 'hand': 933,\n",
              " 'needs': 934,\n",
              " 'reliable': 935,\n",
              " 'smith': 936,\n",
              " 'generally': 937,\n",
              " 'base': 938,\n",
              " 'sometimes': 939,\n",
              " 'florida': 940,\n",
              " 'capital': 941,\n",
              " 'valley': 942,\n",
              " 'bank': 943,\n",
              " 'gave': 944,\n",
              " 'ground': 945,\n",
              " 'reached': 946,\n",
              " 'italy': 947,\n",
              " 'energy': 948,\n",
              " 'believe': 949,\n",
              " 'leader': 950,\n",
              " 'active': 951,\n",
              " 'online': 952,\n",
              " 'block': 953,\n",
              " 'bridge': 954,\n",
              " 'families': 955,\n",
              " 'changes': 956,\n",
              " 'y': 957,\n",
              " 'followed': 958,\n",
              " 'industry': 959,\n",
              " 'collection': 960,\n",
              " 'request': 961,\n",
              " 'soon': 962,\n",
              " 'leading': 963,\n",
              " 'olympic': 964,\n",
              " 'sold': 965,\n",
              " 'writers': 966,\n",
              " 'professor': 967,\n",
              " 'studio': 968,\n",
              " 'mexico': 969,\n",
              " 'competition': 970,\n",
              " 'campaign': 971,\n",
              " 'org': 972,\n",
              " 'theatre': 973,\n",
              " 'anything': 974,\n",
              " 'particular': 975,\n",
              " 'empire': 976,\n",
              " 'length': 977,\n",
              " 'islands': 978,\n",
              " 'singer': 979,\n",
              " 'create': 980,\n",
              " 'redirect': 981,\n",
              " 'additional': 982,\n",
              " 'soviet': 983,\n",
              " 'market': 984,\n",
              " 'words': 985,\n",
              " 'producer': 986,\n",
              " 'notes': 987,\n",
              " 'hockey': 988,\n",
              " 'novel': 989,\n",
              " 'code': 990,\n",
              " 'referee': 991,\n",
              " 'fourth': 992,\n",
              " 'sport': 993,\n",
              " 'van': 994,\n",
              " 'mary': 995,\n",
              " 'airport': 996,\n",
              " 'sound': 997,\n",
              " 'status': 998,\n",
              " 'irish': 999,\n",
              " ...}"
            ]
          },
          "metadata": {},
          "execution_count": 36
        }
      ]
    },
    {
      "cell_type": "markdown",
      "source": [
        "### Test of the multilingual space"
      ],
      "metadata": {
        "id": "ESeC_mlwMRFX"
      }
    },
    {
      "cell_type": "code",
      "source": [
        "def get_nn(word, src_emb, src_word2id, tgt_emb, tgt_word2id, K=5):\n",
        "    print(\"Nearest neighbors of \\\"%s\\\":\" % word)\n",
        "\n",
        "    word_emb = src_emb[src_word2id[word]]\n",
        "    scores = (tgt_emb / np.linalg.norm(tgt_emb, 2, 1)[:, None]).dot(word_emb / np.linalg.norm(word_emb))\n",
        "    k_best = scores.argsort()[-K:][::-1]\n",
        "    for i, idx in enumerate(k_best):\n",
        "        print('%.4f - %s' % (scores[idx], list(tgt_word2id.keys())[list(tgt_word2id.values()).index(idx)]))"
      ],
      "metadata": {
        "id": "Q_Ai4xDIeP2L"
      },
      "execution_count": 37,
      "outputs": []
    },
    {
      "cell_type": "code",
      "source": [
        "# printing nearest neighbors in the source space eng → eng\n",
        "src_word = \"cake\"\n",
        "get_nn(src_word, embeddings_en, embedding_word2id_en, embeddings_en, embedding_word2id_en, K=5)"
      ],
      "metadata": {
        "colab": {
          "base_uri": "https://localhost:8080/"
        },
        "id": "TMKuRJMSe0I6",
        "outputId": "a0b209c5-de6f-4a07-e427-44c585bd5408"
      },
      "execution_count": 38,
      "outputs": [
        {
          "output_type": "stream",
          "name": "stdout",
          "text": [
            "Nearest neighbors of \"cake\":\n",
            "1.0000 - cake\n",
            "0.8562 - cakes\n",
            "0.7429 - pancakes\n",
            "0.7317 - pastry\n",
            "0.7199 - doughnuts\n"
          ]
        }
      ]
    },
    {
      "cell_type": "code",
      "source": [
        "# printing nearest neighbors in the target space eng → ita\n",
        "src_word = \"fuck\"\n",
        "get_nn(src_word, embeddings_en, embedding_word2id_en, embeddings_it, embedding_word2id_it, K=5)"
      ],
      "metadata": {
        "colab": {
          "base_uri": "https://localhost:8080/"
        },
        "id": "gSEezCvMgG5C",
        "outputId": "8ff74544-c553-4483-d04e-74c2489aeada"
      },
      "execution_count": 39,
      "outputs": [
        {
          "output_type": "stream",
          "name": "stdout",
          "text": [
            "Nearest neighbors of \"fuck\":\n",
            "0.6612 - cazzo\n",
            "0.6394 - fottuto\n",
            "0.6311 - vaffanculo\n",
            "0.6116 - culo\n",
            "0.6025 - stronzo\n"
          ]
        }
      ]
    },
    {
      "cell_type": "code",
      "source": [
        "import matplotlib.pyplot as plt\n",
        "from sklearn.decomposition import PCA\n",
        "\n",
        "pca = PCA(n_components=2, whiten=True)  # TSNE(n_components=2, n_iter=3000, verbose=2)\n",
        "pca.fit(np.vstack([embeddings_en, embeddings_it]))\n",
        "print('Variance explained: %.2f' % pca.explained_variance_ratio_.sum())\n",
        "\n",
        "def plot_similar_word(src_words, src_word2id, src_emb, tgt_words, tgt_word2id, tgt_emb, pca):\n",
        "\n",
        "    Y = []\n",
        "    word_labels = []\n",
        "    for sw in src_words:\n",
        "        Y.append(src_emb[src_word2id[sw]])\n",
        "        word_labels.append(sw)\n",
        "    for tw in tgt_words:\n",
        "        Y.append(tgt_emb[tgt_word2id[tw]])\n",
        "        word_labels.append(tw)\n",
        "\n",
        "    # find tsne coords for 2 dimensions\n",
        "    Y = pca.transform(Y)\n",
        "    x_coords = Y[:, 0]\n",
        "    y_coords = Y[:, 1]\n",
        "\n",
        "    # display scatter plot\n",
        "    plt.figure(figsize=(10, 8), dpi=80)\n",
        "    plt.scatter(x_coords, y_coords, marker='x')\n",
        "\n",
        "    for k, (label, x, y) in enumerate(zip(word_labels, x_coords, y_coords)):\n",
        "        color = 'blue' if k < len(src_words) else 'red'  # src words in blue / tgt words in red\n",
        "        plt.annotate(label, xy=(x, y), xytext=(0, 0), textcoords='offset points', fontsize=19,\n",
        "                     color=color, weight='bold')\n",
        "\n",
        "    plt.xlim(x_coords.min() - 0.2, x_coords.max() + 0.2)\n",
        "    plt.ylim(y_coords.min() - 0.2, y_coords.max() + 0.2)\n",
        "    plt.title('Visualization of the multilingual word embedding space')\n",
        "\n",
        "    plt.show()"
      ],
      "metadata": {
        "colab": {
          "base_uri": "https://localhost:8080/"
        },
        "id": "8BhWt-F6hfA0",
        "outputId": "3976b297-a56a-4ffb-be94-882731dc3e9e"
      },
      "execution_count": 40,
      "outputs": [
        {
          "output_type": "stream",
          "name": "stdout",
          "text": [
            "Variance explained: 0.06\n"
          ]
        }
      ]
    },
    {
      "cell_type": "code",
      "source": [
        "# get 5 random input words\n",
        "src_words = ['cat', 'cake', \"god\"]\n",
        "tgt_words = ['gatto', 'torta', \"dio\"]\n",
        "\n",
        "# assert words in dictionaries\n",
        "for sw in src_words:\n",
        "    assert sw in embedding_word2id_en, '\"%s\" not in source dictionary' % sw\n",
        "for tw in tgt_words:\n",
        "    assert tw in embedding_word2id_it, '\"%s\" not in target dictionary' % sw\n",
        "\n",
        "plot_similar_word(src_words, embedding_word2id_en, embeddings_en, tgt_words, embedding_word2id_it, embeddings_it, pca)"
      ],
      "metadata": {
        "colab": {
          "base_uri": "https://localhost:8080/",
          "height": 560
        },
        "id": "bxETGjCyhgag",
        "outputId": "cdb2a358-19cf-4a09-dca8-4ac3df5042c6"
      },
      "execution_count": 41,
      "outputs": [
        {
          "output_type": "display_data",
          "data": {
            "text/plain": [
              "<Figure size 800x640 with 1 Axes>"
            ],
            "image/png": "[encoded data removed]"
          },
          "metadata": {}
        }
      ]
    },
    {
      "cell_type": "markdown",
      "source": [
        "## Correctly format the texts"
      ],
      "metadata": {
        "id": "OJTmyjhEM-pJ"
      }
    },
    {
      "cell_type": "code",
      "source": [
        "# Deinfe some variables\n",
        "VOCABULARY_SIZE = 10000\n",
        "EMBEDDING_DIM = 300\n",
        "SEQ_LENGTH = 300\n",
        "\n",
        "# We insert <start>, <pad>, <unk>\n",
        "INDEX_FROM = 3"
      ],
      "metadata": {
        "id": "It59yuhZdnJ1"
      },
      "execution_count": 42,
      "outputs": []
    },
    {
      "cell_type": "code",
      "source": [
        "X_train_ita = ['<start> ' + x for x in X_train_ita]\n",
        "X_test_ita = ['<start> ' + x for x in X_test_ita]"
      ],
      "metadata": {
        "id": "KpLckA3PtIYR"
      },
      "execution_count": 43,
      "outputs": []
    },
    {
      "cell_type": "code",
      "source": [
        "X_train_en = ['<start> ' + x for x in X_train_en]\n",
        "X_test_en = ['<start> ' + x for x in X_test_en]"
      ],
      "metadata": {
        "id": "aoZymHl_ekd7"
      },
      "execution_count": 44,
      "outputs": []
    },
    {
      "cell_type": "code",
      "source": [
        "# create the tokenizer\n",
        "t = Tokenizer(oov_token=\"<unk>\", num_words=VOCABULARY_SIZE+INDEX_FROM-1, filters='!\"#$%&()*+,-./:;=?@[\\\\]^_`{|}~\\t\\n')\n",
        "\n",
        "# fit the tokenizer on the documents\n",
        "t.fit_on_texts(X_train_en)\n",
        "#t.fit_on_texts(X_train_ita)\n",
        "\n",
        "t.word_index['<pad>'] = 0\n",
        "t.index_word[0] = '<pad>'\n",
        "\n",
        "# summarize what was learned\n",
        "#print(t.word_counts)\n",
        "#print(t.document_count)\n",
        "#print(t.word_docs)\n",
        "print(\"List of all the words and relative (local) id: \\n\\n\", t.word_index)\n",
        "\n",
        "\n",
        "# integer encode documents\n",
        "X_train_ita = t.texts_to_sequences(X_train_ita)\n",
        "X_test_ita = t.texts_to_sequences(X_test_ita)\n",
        "\n",
        "X_train_en = t.texts_to_sequences(X_train_en)\n",
        "X_test_en = t.texts_to_sequences(X_test_en)"
      ],
      "metadata": {
        "colab": {
          "base_uri": "https://localhost:8080/"
        },
        "id": "nQyezUbwduAb",
        "outputId": "aa72283f-7c9c-4550-95ef-4d7cf1f08be3"
      },
      "execution_count": 45,
      "outputs": [
        {
          "output_type": "stream",
          "name": "stdout",
          "text": [
            "List of all the words and relative (local) id: \n",
            "\n",
            " {'<unk>': 1, '<start>': 2, 'a': 3, 'bitch': 4, 'i': 5, 'rt': 6, 'the': 7, 'you': 8, 'to': 9, 'and': 10, 'my': 11, 'that': 12, '128514': 13, 'bitches': 14, 't': 15, 'in': 16, 'co': 17, 'is': 18, 'http': 19, 'like': 20, 'me': 21, 'of': 22, 'on': 23, 'hoes': 24, 'be': 25, 'this': 26, 'pussy': 27, 'for': 28, 'it': 29, 'hoe': 30, 'with': 31, '8220': 32, '8221': 33, \"i'm\": 34, 'ass': 35, 'all': 36, 'up': 37, 'if': 38, 'your': 39, 'just': 40, 'but': 41, \"don't\": 42, 'get': 43, 'fuck': 44, 'so': 45, 'no': 46, 'they': 47, 'these': 48, 'when': 49, 'shit': 50, 'u': 51, 'got': 52, '8230': 53, 'nigga': 54, 'not': 55, 'she': 56, 'her': 57, 'was': 58, 'lol': 59, 'are': 60, 'at': 61, 'trash': 62, 'out': 63, 'have': 64, 'amp': 65, 'he': 66, 'about': 67, \"ain't\": 68, 'some': 69, 'what': 70, 'know': 71, 'do': 72, 'can': 73, 'niggas': 74, 'we': 75, 'them': 76, 'love': 77, 'how': 78, 'one': 79, \"it's\": 80, 'as': 81, 'who': 82, 'or': 83, 'yo': 84, 'fucking': 85, 'go': 86, 'now': 87, '128557': 88, 'want': 89, 'why': 90, 'from': 91, 'bad': 92, \"can't\": 93, 'then': 94, 'his': 95, 'good': 96, 'too': 97, 'man': 98, \"you're\": 99, 'im': 100, 'make': 101, 'say': 102, 'hate': 103, \"that's\": 104, 'look': 105, 'see': 106, 'off': 107, 'still': 108, 'ya': 109, 'never': 110, 'need': 111, 'an': 112, 'back': 113, 'only': 114, 'really': 115, 'think': 116, 'time': 117, 'will': 118, 'people': 119, 'faggot': 120, 'girl': 121, 'right': 122, \"y'all\": 123, 'white': 124, 'real': 125, 'being': 126, 'lmao': 127, 'here': 128, 'bird': 129, 'would': 130, 'more': 131, 'even': 132, 'over': 133, 'said': 134, 'by': 135, 'down': 136, 'their': 137, 'wit': 138, '128553': 139, 'than': 140, 'stop': 141, 'wanna': 142, 'had': 143, '128175': 144, 'dick': 145, 'call': 146, 'there': 147, 'let': 148, 'damn': 149, 'been': 150, 'tell': 151, 'bout': 152, 'day': 153, 'because': 154, '2': 155, 'new': 156, 'little': 157, 'dont': 158, 'gotta': 159, 'talk': 160, 'gt': 161, 'n': 162, 'him': 163, 'come': 164, 'take': 165, 'yankees': 166, 'da': 167, 'niggah': 168, '8217': 169, 'its': 170, 'has': 171, 'gonna': 172, 'lil': 173, 'charlie': 174, 'life': 175, 'every': 176, 'cause': 177, 'money': 178, 'always': 179, 'eat': 180, 'dat': 181, 'better': 182, 'ever': 183, 'girls': 184, 'retarded': 185, 'ghetto': 186, 'tho': 187, 'give': 188, 'going': 189, 'aint': 190, 'cunt': 191, '65039': 192, '128530': 193, 'twitter': 194, 'other': 195, 'talking': 196, \"i'll\": 197, 'dumb': 198, 'yellow': 199, '3': 200, 'big': 201, 'ur': 202, 'put': 203, 'fuckin': 204, 'where': 205, 'stupid': 206, 'into': 207, 'black': 208, 'nigger': 209, 'feel': 210, 'birds': 211, 'ugly': 212, 'did': 213, 'getting': 214, 'hit': 215, 'yall': 216, 'much': 217, 'keep': 218, 'yeah': 219, 'should': 220, '1': 221, 'fag': 222, 'fat': 223, 'same': 224, 'oh': 225, 'way': 226, 'today': 227, 'well': 228, 'boy': 229, 'am': 230, 'game': 231, 'after': 232, 'old': 233, 'mad': 234, 'smh': 235, 'em': 236, 'gone': 237, 'before': 238, 'made': 239, 'best': 240, 'cuz': 241, 'those': 242, 'could': 243, 'around': 244, 'side': 245, 'last': 246, 's': 247, 'https': 248, 'play': 249, 'ho': 250, 'happy': 251, 'called': 252, 'tryna': 253, 'night': 254, 'face': 255, 'b': 256, 'many': 257, 'us': 258, 'sex': 259, '128525': 260, 'colored': 261, 'mean': 262, 'another': 263, 'work': 264, 'nicca': 265, 'someone': 266, 'fucked': 267, '128128': 268, 'monkey': 269, 'school': 270, 'baby': 271, 'any': 272, 'something': 273, \"he's\": 274, 'head': 275, 'next': 276, 'thing': 277, 'crazy': 278, \"didn't\": 279, 'god': 280, 'name': 281, 'most': 282, 'first': 283, 'shut': 284, 'women': 285, 'were': 286, 'having': 287, 'thats': 288, 'broke': 289, \"'\": 290, 'watch': 291, \"she's\": 292, 'w': 293, 'two': 294, 'told': 295, 'looking': 296, 'lt': 297, 'bro': 298, 'hell': 299, 'try': 300, 'find': 301, 'while': 302, 'high': 303, 'haha': 304, 'doing': 305, 'start': 306, 'seen': 307, 'bruh': 308, 'friends': 309, 'gay': 310, 'stay': 311, 'house': 312, 'nothing': 313, 'again': 314, 'beat': 315, 'such': 316, 'our': 317, 'show': 318, 'loyal': 319, 'trying': 320, 'guys': 321, 'kill': 322, 'please': 323, '128079': 324, '4': 325, 'tonight': 326, 'done': 327, 'home': 328, 'gon': 329, 'year': 330, 'swear': 331, 'wrong': 332, '5': 333, '9733': 334, 'makes': 335, 'pretty': 336, 'trust': 337, '128527': 338, 'turn': 339, \"won't\": 340, 'ask': 341, 'wtf': 342, 'cute': 343, 'might': 344, 'does': 345, 'yes': 346, 'fight': 347, 'nig': 348, 'use': 349, 'ima': 350, 'phone': 351, 'care': 352, 'hard': 353, 'thought': 354, 'funny': 355, 'act': 356, \"i've\": 357, 'dude': 358, 'nobody': 359, 'days': 360, 'guy': 361, 'already': 362, 'everybody': 363, 'nah': 364, 'red': 365, 'tweet': 366, 'long': 367, 'wait': 368, 'hot': 369, 'tf': 370, '128109': 371, 'lot': 372, 'hair': 373, 'sorry': 374, 'wish': 375, 'mom': 376, 'd': 377, 'free': 378, 'making': 379, 'retard': 380, 'hope': 381, 'bring': 382, 'anything': 383, 'dis': 384, 'jason': 385, 'stfu': 386, '128076': 387, 'gets': 388, 'fake': 389, 'sure': 390, '128564': 391, 'live': 392, 'woman': 393, 'o': 394, 'world': 395, \"i'd\": 396, \"doesn't\": 397, 'hey': 398, 'straight': 399, 'went': 400, 'faggots': 401, '10': 402, 'guess': 403, 'cut': 404, 'pussies': 405, 'kieffer': 406, 'young': 407, '9995': 408, 'says': 409, 'kids': 410, 'own': 411, 'since': 412, 'buy': 413, 'suck': 414, 'nigguh': 415, '12288': 416, '9996': 417, 'r': 418, 'weed': 419, 'away': 420, 'car': 421, 'eating': 422, '128129': 423, 'song': 424, 'looks': 425, 'text': 426, 'though': 427, 'great': 428, 'full': 429, 'saying': 430, 'son': 431, 'bet': 432, \"they're\": 433, 'dem': 434, 'ok': 435, 'job': 436, 'both': 437, 'remember': 438, 'lmfao': 439, 'jus': 440, 'cant': 441, 'everything': 442, 'cool': 443, 'tweets': 444, 'calling': 445, 'niccas': 446, 'sleep': 447, 'wear': 448, 'females': 449, 'die': 450, 'ion': 451, 'thanks': 452, '128588': 453, '128064': 454, 'left': 455, 'half': 456, '128563': 457, 'pull': 458, 'single': 459, 'everyone': 460, 'yea': 461, '128526': 462, 'leave': 463, '128515': 464, 'follow': 465, 'basic': 466, 'brownies': 467, 'bae': 468, 'wants': 469, 'throw': 470, 'nice': 471, 'took': 472, 'type': 473, '6': 474, 'run': 475, 'bc': 476, 'probably': 477, 'niggers': 478, 'birthday': 479, \"wasn't\": 480, 'playing': 481, 'watching': 482, 'wife': 483, 'whole': 484, 'years': 485, 'porn': 486, 'maybe': 487, 'pic': 488, 'okay': 489, 'top': 490, 'needs': 491, 'morning': 492, 'team': 493, 'mind': 494, \"what's\": 495, 'believe': 496, 'redneck': 497, 'af': 498, \"there's\": 499, 'men': 500, 'lost': 501, 'party': 502, 'must': 503, 'iphone': 504, 'wanted': 505, 'things': 506, 'used': 507, 'omg': 508, 'c': 509, 'until': 510, 'mouth': 511, 'main': 512, 'music': 513, 'miss': 514, 'actually': 515, 'word': 516, 'person': 517, 'dyke': 518, 'without': 519, 'yet': 520, 'dead': 521, \"isn't\": 522, 'queer': 523, 'either': 524, 'outta': 525, 'smoke': 526, 'dog': 527, 'ex': 528, '128074': 529, 'respect': 530, 'line': 531, 'club': 532, 'myself': 533, 'friend': 534, 'mock': 535, 'else': 536, 'also': 537, 'girlfriend': 538, 'win': 539, 'brown': 540, 'catch': 541, 'through': 542, 'drunk': 543, 'coming': 544, 'thank': 545, 'food': 546, 'point': 547, '128520': 548, 'tried': 549, 'week': 550, 'stand': 551, 'dirty': 552, 'racist': 553, 'came': 554, 'crackers': 555, 'oreo': 556, 'rather': 557, '0': 558, 'true': 559, 'pregnant': 560, 'wow': 561, 'class': 562, 'heart': 563, 'goes': 564, '1041204': 565, 'ill': 566, 'change': 567, 'g': 568, 'chill': 569, 'eyes': 570, 'reason': 571, 'fact': 572, '128536': 573, 'wearing': 574, 'acting': 575, 'ready': 576, 'jihadi': 577, 'break': 578, 'hear': 579, 'enough': 580, 'gave': 581, 'y': 582, 'couple': 583, '7': 584, 'fun': 585, 'once': 586, 'm': 587, 'via': 588, 'body': 589, 'boys': 590, 'wonder': 591, 'saw': 592, \"couldn't\": 593, 'fags': 594, 'talkin': 595, 'place': 596, 'lame': 597, 'idk': 598, 'somebody': 599, 'walk': 600, 'tired': 601, 'sick': 602, '9': 603, 'fans': 604, 'ah': 605, 'flappy': 606, 'pay': 607, \"let's\": 608, 'sound': 609, 'video': 610, 'obama': 611, 'rich': 612, 'lie': 613, 'cold': 614, 'favorite': 615, 'gettin': 616, 'nasty': 617, 'early': 618, 'end': 619, 'oreos': 620, 'lady': 621, 'pop': 622, 'sit': 623, 'pics': 624, 'hurt': 625, 'none': 626, 'least': 627, 'comes': 628, 'naw': 629, 'cracker': 630, 'send': 631, 'lookin': 632, '128524': 633, 'dad': 634, 'taking': 635, 'yankee': 636, 'ago': 637, '128299': 638, '128540': 639, 'ppl': 640, 'literally': 641, 'yu': 642, \"wouldn't\": 643, 'date': 644, 'cry': 645, 'yourself': 646, 'pass': 647, 'light': 648, 'j': 649, 'xxx': 650, 'almost': 651, 'thinking': 652, 'problem': 653, 'few': 654, 'boyfriend': 655, '160': 656, 'booty': 657, 'imma': 658, 'drop': 659, 'android': 660, 'kid': 661, '20': 662, 'female': 663, 'serious': 664, 'anyone': 665, 'chick': 666, 'sometimes': 667, 'together': 668, 'k': 669, 'coon': 670, '128581': 671, 'move': 672, 'attention': 673, '100': 674, 'season': 675, 'check': 676, 'bed': 677, 'sad': 678, 'tomorrow': 679, 'times': 680, 'ha': 681, 'wet': 682, 'thirsty': 683, 'front': 684, 'outside': 685, 'ratchet': 686, 'ipad': 687, '8': 688, 'cheat': 689, 'nd': 690, 'unless': 691, 'mr': 692, 'picture': 693, 'games': 694, 'understand': 695, '128080': 696, 'smell': 697, 'open': 698, 'ma': 699, '128166': 700, 'instagram': 701, '127814': 702, 'water': 703, 'heard': 704, 'redskins': 705, 'shot': 706, 'till': 707, 'number': 708, 'niggaz': 709, 'slap': 710, '24': 711, 'may': 712, 'america': 713, 'sum': 714, 'different': 715, 'fine': 716, 'meet': 717, 'giving': 718, 'lose': 719, 'quit': 720, 'bye': 721, 'voice': 722, '128529': 723, 'teabagger': 724, 'finna': 725, \"you'll\": 726, '128545': 727, 'hella': 728, 'listen': 729, 'instead': 730, 'tranny': 731, '11': 732, '30': 733, 'low': 734, 'mine': 735, 'crying': 736, 'lmaoo': 737, 'sexy': 738, 'thot': 739, 'taste': 740, 'shoot': 741, 'telling': 742, 'quick': 743, \"who's\": 744, 'movie': 745, 'dress': 746, 'asian': 747, '2014': 748, 'e': 749, 'found': 750, 'killed': 751, 'truth': 752, 'cat': 753, 'laugh': 754, 'asked': 755, 'nudes': 756, 'drink': 757, 'against': 758, 'negro': 759, 'feelings': 760, 'annoying': 761, 'business': 762, 'skinny': 763, 'means': 764, 'kno': 765, 'pick': 766, 'running': 767, 'isis': 768, 'beautiful': 769, 'jay': 770, 'alone': 771, 'weak': 772, 'sole': 773, 'whatever': 774, 'hands': 775, 'bag': 776, '128513': 777, 'far': 778, '128532': 779, 'drive': 780, 'everyday': 781, 'self': 782, 'forget': 783, 'room': 784, 'huh': 785, 'ate': 786, 'mother': 787, 'social': 788, 'ball': 789, 'help': 790, 'weekend': 791, 'working': 792, 'uncle': 793, 'post': 794, 'bullshit': 795, 'public': 796, 'walking': 797, 'past': 798, 'soon': 799, 'likes': 800, 'chicken': 801, 'state': 802, 'met': 803, 'ride': 804, 'hand': 805, 'american': 806, '128131': 807, 'hold': 808, 'anymore': 809, \"aren't\": 810, 'wake': 811, 'started': 812, 'later': 813, 'doe': 814, 'ladies': 815, 'ones': 816, 'jesus': 817, 'which': 818, 'set': 819, 'cream': 820, '12': 821, 'kinda': 822, 'street': 823, 'sounds': 824, 'sell': 825, 'words': 826, 'perfect': 827, 'x': 828, 'family': 829, 'save': 830, 'glad': 831, 'teabaggers': 832, 'blue': 833, 'dawg': 834, 'pictures': 835, '128075': 836, 'twat': 837, 'prolly': 838, 'round': 839, 'very': 840, 'p': 841, 'tom': 842, 'knows': 843, 'relationship': 844, 'thick': 845, 'deep': 846, 'dudes': 847, 'hood': 848, 'lying': 849, 'don': 850, 'grow': 851, 'kick': 852, 'read': 853, 'followers': 854, 'hahaha': 855, 'goin': 856, 'tcot': 857, 'slope': 858, '128533': 859, 'lucky': 860, 'treat': 861, 'bunch': 862, 'slut': 863, 'matter': 864, 'city': 865, 'knew': 866, 'dey': 867, 'karma': 868, 'joe': 869, 'ice': 870, 'worried': 871, 'h': 872, 'country': 873, 'momma': 874, 'nothin': 875, 'king': 876, 'mf': 877, 'boss': 878, 'fucc': 879, 'folk': 880, 'retards': 881, 'fly': 882, 'brother': 883, 'hating': 884, 'biggest': 885, 'fam': 886, 'lmaooo': 887, 'under': 888, 'kind': 889, 'jeter': 890, 'story': 891, 'neck': 892, 'id': 893, 'cunts': 894, 'behind': 895, 'thinks': 896, 'fire': 897, 'clothes': 898, 'fall': 899, 'tl': 900, 'between': 901, 'yung': 902, 'using': 903, 'easy': 904, 'thru': 905, 'calls': 906, 'media': 907, 'rap': 908, 'park': 909, 'jihadis': 910, 'race': 911, 'become': 912, 'chicks': 913, '10084': 914, '128548': 915, 'hi': 916, 'f': 917, 'weird': 918, 'worth': 919, 'tha': 920, 'cheese': 921, 'seeing': 922, '99': 923, 'paper': 924, 'brownie': 925, 'texting': 926, '128584': 927, 'waiting': 928, '128567': 929, \"you've\": 930, 'chris': 931, 'less': 932, 'halloween': 933, 'friday': 934, 'daddy': 935, 'dope': 936, 'sister': 937, 'anyway': 938, 'lick': 939, 'al': 940, 'green': 941, 're': 942, 'proud': 943, 'themselves': 944, 'attitude': 945, 'roll': 946, 'ol': 947, '1st': 948, 'summer': 949, 'youre': 950, 'drake': 951, 'door': 952, 'mama': 953, 'fan': 954, 'balls': 955, 'aye': 956, '128555': 957, 'avi': 958, 'shirt': 959, 'baddest': 960, 'tweeting': 961, 'ugh': 962, 'whore': 963, 'support': 964, 'idntwearcondoms': 965, 'strong': 966, 'fresh': 967, 'asking': 968, 'slow': 969, 'jail': 970, \"we're\": 971, '128073': 972, 'fuzzy': 973, 'sweet': 974, 'learn': 975, 'scared': 976, 'fucks': 977, 'hungry': 978, 'niggahs': 979, 'swag': 980, 'realize': 981, 'died': 982, 'stuck': 983, 'asshole': 984, 'part': 985, '128523': 986, 'john': 987, 'taken': 988, 'la': 989, 'soul': 990, '128522': 991, 'ig': 992, 'stick': 993, 'yours': 994, 'naked': 995, 'mess': 996, 'won': 997, 'death': 998, 'second': 999, 'smack': 1000, 'close': 1001, 'crist': 1002, 'late': 1003, 'deserve': 1004, 'poor': 1005, 'sheen': 1006, 'mexican': 1007, 'confused': 1008, 'forgot': 1009, 'block': 1010, 'seem': 1011, 'speak': 1012, 'sucking': 1013, 'piece': 1014, 'grade': 1015, 'homie': 1016, 'feeling': 1017, 'laughing': 1018, 'special': 1019, 'lets': 1020, 'huntermoore': 1021, 'wack': 1022, 'fast': 1023, 'ebola': 1024, 'loves': 1025, 'trap': 1026, 'seriously': 1027, 'forever': 1028, 'bit': 1029, '15': 1030, 'future': 1031, 'played': 1032, 'looked': 1033, 'beer': 1034, 'cee': 1035, 'vs': 1036, 'cus': 1037, 'kiss': 1038, 'fa': 1039, 'buckm00se': 1040, 'takes': 1041, 'teeth': 1042, 'sayin': 1043, 'cock': 1044, 'teacher': 1045, 'rick': 1046, 'texas': 1047, 'control': 1048, 'clean': 1049, 'rose': 1050, 'rest': 1051, 'actin': 1052, 'middle': 1053, 'super': 1054, 'problems': 1055, 'hop': 1056, 'feet': 1057, 'chocolate': 1058, 'ran': 1059, 'scary': 1060, '1stblocjeremiah': 1061, 'wild': 1062, 'worst': 1063, 'excuse': 1064, 'ina': 1065, 'derek': 1066, '128528': 1067, 'level': 1068, 'especially': 1069, 'juice': 1070, 'throat': 1071, 'crib': 1072, 'claim': 1073, 'living': 1074, 'weather': 1075, 'shy': 1076, 'chug': 1077, 'lips': 1078, 'caught': 1079, 'million': 1080, 'tight': 1081, 'eye': 1082, 'throwing': 1083, 'during': 1084, 'woke': 1085, 'drugs': 1086, \"shouldn't\": 1087, 'skin': 1088, 'double': 1089, 'idgaf': 1090, 'nfl': 1091, 'deal': 1092, 'facebook': 1093, 'finger': 1094, 'blah': 1095, 'hillbilly': 1096, 'steal': 1097, 'slit': 1098, 'fell': 1099, 'weeks': 1100, 'cares': 1101, 'news': 1102, 'blunt': 1103, 'butt': 1104, 'ole': 1105, 'happen': 1106, 'basically': 1107, 'brought': 1108, '128069': 1109, 'argue': 1110, 'fool': 1111, 'turned': 1112, 'photo': 1113, '50': 1114, 'months': 1115, 'gun': 1116, 'minute': 1117, 'holy': 1118, 'sucks': 1119, 'youtube': 1120, 'short': 1121, 'whitey': 1122, 'didnt': 1123, \"haven't\": 1124, 'gold': 1125, 'child': 1126, 'joebudden': 1127, 'dry': 1128, 'lebron': 1129, 'wat': 1130, 'herself': 1131, 'bitter': 1132, 'sense': 1133, 'rock': 1134, 'hairy': 1135, 'tv': 1136, 'yesterday': 1137, 'joke': 1138, 'coons': 1139, 'wont': 1140, 'lonely': 1141, '100046729': 1142, 'bf': 1143, 'doin': 1144, 'course': 1145, 'three': 1146, 'shoes': 1147, 'blow': 1148, 'president': 1149, '8216': 1150, 'legs': 1151, 'songs': 1152, 'uh': 1153, 'step': 1154, 'honestly': 1155, 'loud': 1156, 'til': 1157, 'enjoy': 1158, 'massage': 1159, 'angry': 1160, 'knowing': 1161, 'star': 1162, 'pink': 1163, 'punk': 1164, 'kim': 1165, 'ape': 1166, 'finally': 1167, 'handle': 1168, 'lmaoooo': 1169, 'mlb': 1170, 'town': 1171, '187': 1172, '128176': 1173, 'random': 1174, 'bill': 1175, 'month': 1176, 'small': 1177, 'parents': 1178, 'smile': 1179, 'grandma': 1180, 'cops': 1181, 'nips': 1182, 'stank': 1183, 'nick': 1184, 'internet': 1185, 'apes': 1186, 'cheating': 1187, 'rice': 1188, 'facts': 1189, 'stadium': 1190, 'austin': 1191, 'sox': 1192, 'answer': 1193, 'childish': 1194, 'cook': 1195, 'alex': 1196, 'dnt': 1197, 'smart': 1198, 'xdsmooth': 1199, 'count': 1200, 'each': 1201, 'lives': 1202, 'seat': 1203, 'bomb': 1204, 'smoking': 1205, 'worry': 1206, 'causewereguys': 1207, 'fw': 1208, 'minutes': 1209, 'dare': 1210, 'kinghorsedick': 1211, 'tits': 1212, 'gucci': 1213, 'push': 1214, 'trippin': 1215, 'apparently': 1216, 'grown': 1217, 'complain': 1218, 'paid': 1219, 'mane': 1220, 'wassup': 1221, 'sitting': 1222, 'touch': 1223, 'dance': 1224, 'bus': 1225, 'fo': 1226, 'box': 1227, 'hang': 1228, 'except': 1229, 'east': 1230, '128149': 1231, 'mike': 1232, 'flip': 1233, 'shout': 1234, 'threw': 1235, 'power': 1236, 'idea': 1237, 'dinner': 1238, 'peace': 1239, 'somethin': 1240, 'football': 1241, 'field': 1242, 'test': 1243, 'stuff': 1244, '21': 1245, 'titties': 1246, 'nigs': 1247, 'morningjoe': 1248, 'suppose': 1249, '128586': 1250, 'hits': 1251, 'dropped': 1252, 'fairy': 1253, '128077': 1254, '128111': 1255, 'gop': 1256, 'sports': 1257, '58386': 1258, '171': 1259, 'hitting': 1260, 'selling': 1261, 'bought': 1262, 'hes': 1263, 'nope': 1264, 'warm': 1265, 'funnypicsdepot': 1266, 'across': 1267, '128293': 1268, '80sbaby4life': 1269, 'police': 1270, 'supposed': 1271, '9749': 1272, 'jig': 1273, 'near': 1274, 'regular': 1275, 'shitty': 1276, 'cripple': 1277, 'bigger': 1278, 'group': 1279, 'alright': 1280, '128107': 1281, 'lay': 1282, 'soles': 1283, 'rude': 1284, 'college': 1285, 'names': 1286, 'rednecks': 1287, 'spend': 1288, 'playin': 1289, 'alive': 1290, 'foh': 1291, 'clam': 1292, 'account': 1293, 'cuh': 1294, 'idc': 1295, 'punch': 1296, 'heat': 1297, 'pissed': 1298, 'beautifulkeezy': 1299, 'simple': 1300, 'lord': 1301, 'mocks': 1302, 'famous': 1303, 'driving': 1304, 'dreams': 1305, '8252': 1306, 'boring': 1307, '128591': 1308, 'human': 1309, 'monday': 1310, 'blocked': 1311, 'fuk': 1312, 'rated': 1313, 'anti': 1314, '000': 1315, 'mans': 1316, 'fck': 1317, 'retweet': 1318, '9992': 1319, 'chase': 1320, 'thug': 1321, 'extra': 1322, 'cake': 1323, 'starting': 1324, 'trynna': 1325, 'den': 1326, 'gym': 1327, 'aka': 1328, 'feed': 1329, 'write': 1330, 'hours': 1331, '128056': 1332, '128165': 1333, 'jealous': 1334, 'oomf': 1335, 'cop': 1336, 'bros': 1337, 'kanye': 1338, '233': 1339, 'period': 1340, 'van': 1341, 'speaking': 1342, 'offensive': 1343, 'exactly': 1344, '128521': 1345, 'army': 1346, 'moment': 1347, 'tyga': 1348, 'dm': 1349, 'dats': 1350, 'baker': 1351, '127867': 1352, 'sbsylvester': 1353, '1bookieg': 1354, 'dykes': 1355, 'married': 1356, '8212': 1357, 'vote': 1358, '128078': 1359, 'rip': 1360, 'dogs': 1361, 'messy': 1362, 'gang': 1363, 'unfollow': 1364, 'shake': 1365, 'singing': 1366, 'bread': 1367, 'worse': 1368, 'welcome': 1369, '1043323': 1370, 'longer': 1371, '128143': 1372, 'trip': 1373, 'lowkey': 1374, 'eyebrows': 1375, 'tip': 1376, 'queen': 1377, 'definitely': 1378, 'dollars': 1379, '25': 1380, '18': 1381, 'cats': 1382, 'cash': 1383, 'rihanna': 1384, 'animal': 1385, 'chance': 1386, 'christmas': 1387, 'coley': 1388, 'bone': 1389, 'zebra': 1390, 'piss': 1391, 'order': 1392, 'gas': 1393, 'flat': 1394, 'drinking': 1395, 'hat': 1396, 'wifey': 1397, 'babies': 1398, 'hos': 1399, 'expect': 1400, 'fried': 1401, 'drug': 1402, 'cousin': 1403, 'tbh': 1404, 'worm': 1405, 'quote': 1406, 'mo': 1407, 'often': 1408, 'era': 1409, 'anybody': 1410, 'baseball': 1411, 'player': 1412, 'nuts': 1413, '1043359': 1414, 'south': 1415, 'neva': 1416, 'el': 1417, 'choke': 1418, 'hahahaha': 1419, 'bust': 1420, 'friendlyassh0le': 1421, 'ignore': 1422, '128541': 1423, 'spa': 1424, '718': 1425, '622': 1426, '0221': 1427, 'l': 1428, 'happens': 1429, 'huge': 1430, 'sauce': 1431, 'vianawf': 1432, 'himself': 1433, 'z': 1434, 'thang': 1435, 'tongue': 1436, 'saturday': 1437, 'screen': 1438, 'cookies': 1439, 'bear': 1440, 'abo': 1441, 'kingtunchi': 1442, 'complete': 1443, 'milk': 1444, 'soft': 1445, 'ray': 1446, 'dese': 1447, 'kobe': 1448, 'jump': 1449, 'babe': 1450, 'dream': 1451, '10071': 1452, 'scott': 1453, 'chink': 1454, 'anyways': 1455, 'wyattnuckels': 1456, 'faithful': 1457, 'ring': 1458, 'boo': 1459, '17': 1460, 'question': 1461, 'daughter': 1462, 'needa': 1463, 'clearly': 1464, 'albino': 1465, 'winning': 1466, 'blood': 1467, 'tea': 1468, 'beaner': 1469, 'planet': 1470, 'yr': 1471, 'thinkin': 1472, 'folks': 1473, '9994': 1474, 'espn': 1475, 'de': 1476, 'pizza': 1477, 'turning': 1478, 'jordan': 1479, 'entire': 1480, '8211': 1481, 'chunky': 1482, 'cum': 1483, 'known': 1484, 'cheated': 1485, 'whipped': 1486, 'sooo': 1487, 'garbage': 1488, 'rob': 1489, 'band': 1490, '128694': 1491, 'panties': 1492, 'iam': 1493, 'war': 1494, 'freak': 1495, 'floor': 1496, 'crow': 1497, 'dark': 1498, 'letting': 1499, 'cars': 1500, 'york': 1501, 'charge': 1502, 'beef': 1503, 'bar': 1504, 'shawty': 1505, 'named': 1506, 'inside': 1507, 'color': 1508, 'apple': 1509, 'etc': 1510, 'brandon': 1511, '127881': 1512, 'difference': 1513, 'evaittakes': 1514, 'everywhere': 1515, 'candy': 1516, '128169': 1517, 'james': 1518, \"fuckin'\": 1519, 'fear': 1520, 'wiz': 1521, 'duck': 1522, 'dying': 1523, 'mall': 1524, 'nose': 1525, '127849': 1526, 'zero': 1527, '14': 1528, 'walked': 1529, 'sing': 1530, 'afraid': 1531, 'basketball': 1532, 'freshman': 1533, 'spic': 1534, 'pants': 1535, '1inkkofrosess': 1536, 'chillin': 1537, 'nip': 1538, 'bow': 1539, 'giants': 1540, 'wigga': 1541, 'spell': 1542, 'djzeeti': 1543, 'nut': 1544, 'happened': 1545, 'knock': 1546, 'total': 1547, 'rn': 1548, 'offended': 1549, 'riding': 1550, 'movies': 1551, 'daily': 1552, '300': 1553, 'sent': 1554, '128168': 1555, 'steve': 1556, 'streets': 1557, 'foreign': 1558, 'jk': 1559, 'built': 1560, 'florida': 1561, 'michael': 1562, 'sam': 1563, 'following': 1564, 'thereal': 1565, 'fighting': 1566, 'giant': 1567, 'paul': 1568, 'score': 1569, 'air': 1570, 'potato': 1571, 'major': 1572, 'ignorant': 1573, 'jawshoeeahhh': 1574, 'blame': 1575, 'fish': 1576, 'tells': 1577, 'tony': 1578, 'callin': 1579, 'brothers': 1580, 'trick': 1581, 'vintage': 1582, 'monroe': 1583, 'somewhere': 1584, 'jokes': 1585, 'na': 1586, 'purpose': 1587, 'mins': 1588, 'friendly': 1589, 'average': 1590, 'scally': 1591, 'bday': 1592, 'model': 1593, 'talks': 1594, 'age': 1595, 'putting': 1596, 'allowed': 1597, 'dumbass': 1598, 'fuc': 1599, '13': 1600, 'lunch': 1601, 'coffee': 1602, 'seconds': 1603, 'players': 1604, 'earth': 1605, 'weight': 1606, 'lazy': 1607, 'heads': 1608, 'keeps': 1609, 'match': 1610, 'turns': 1611, 'st': 1612, 'clown': 1613, 'size': 1614, 'shows': 1615, 'rape': 1616, 'felt': 1617, 'winter': 1618, 'showing': 1619, 'comin': 1620, '16': 1621, 'tht': 1622, 'beans': 1623, 'case': 1624, 'chinese': 1625, 'gook': 1626, 'beanies': 1627, 'japanese': 1628, 'teen': 1629, 'wen': 1630, 'yanks': 1631, \"i'ma\": 1632, 'pollo': 1633, 'tweeted': 1634, 'judge': 1635, 'attack': 1636, 'hide': 1637, 'children': 1638, 'michelle': 1639, 'liberal': 1640, 'buying': 1641, 'plays': 1642, 'term': 1643, 'pot': 1644, 'moving': 1645, 'shower': 1646, 'raised': 1647, 'raw': 1648, 'local': 1649, 'posting': 1650, 'irrelevant': 1651, 'alot': 1652, 'arguing': 1653, '40': 1654, 'excited': 1655, 'add': 1656, '23': 1657, 'dj': 1658, 'rain': 1659, 'hoosiers': 1660, 'card': 1661, 'snap': 1662, 'posted': 1663, 'lmfaoo': 1664, 'slide': 1665, 'nun': 1666, 'saving': 1667, 'store': 1668, 'moms': 1669, 'yah': 1670, 'a1': 1671, 'sloppy': 1672, 'tall': 1673, 'fr': 1674, 'missed': 1675, 'bein': 1676, 'wayne': 1677, 'doesnt': 1678, 'voiceofdstreetz': 1679, 'tree': 1680, 'record': 1681, 'blind': 1682, 'attractive': 1683, 'road': 1684, 'usually': 1685, 'slept': 1686, 'train': 1687, 'pimp': 1688, 'nerve': 1689, 'ctfu': 1690, '128139': 1691, 'window': 1692, 'admit': 1693, 'sleeping': 1694, 'ny': 1695, 'makeup': 1696, 'settle': 1697, 'ain': 1698, 'born': 1699, 'houston': 1700, 'feather': 1701, 'hour': 1702, 'barackobama': 1703, 'smfh': 1704, 'sold': 1705, '128554': 1706, 'midnight': 1707, 'dirt': 1708, 'marie': 1709, 'dam': 1710, 'teach': 1711, 'leg': 1712, 'captain': 1713, 'sexual': 1714, 'fob': 1715, 'wop': 1716, 'silly': 1717, 'share': 1718, 'shots': 1719, 'caymarieee': 1720, 'puts': 1721, 'doubt': 1722, 'generation': 1723, 'bum': 1724, 'watched': 1725, 'dms': 1726, 'wcw': 1727, 'pet': 1728, 'penis': 1729, 'law': 1730, 'message': 1731, 'agree': 1732, 'mixtape': 1733, 'goals': 1734, 'taylor': 1735, 'hatin': 1736, 'fit': 1737, 'followed': 1738, 'taught': 1739, 'aw': 1740, 'page': 1741, 'lovin': 1742, 'sunday': 1743, 'sir': 1744, 'leelucas': 1745, 'tbt': 1746, 'based': 1747, 'thunduh': 1748, 'mckinley719': 1749, 'losing': 1750, 'gov': 1751, 'showed': 1752, 'horny': 1753, 'lemme': 1754, 'credit': 1755, 'natural': 1756, '128184': 1757, 'twerk': 1758, 'stress': 1759, 'wall': 1760, 'syria': 1761, 'ashamed': 1762, 'cancer': 1763, 'jersey': 1764, 'homies': 1765, 'passed': 1766, 'mentions': 1767, 'cookie': 1768, 'inch': 1769, 'vine': 1770, 'bottle': 1771, 'corny': 1772, 'tryin': 1773, \"it'll\": 1774, 'jr': 1775, 'dear': 1776, 'grab': 1777, '127926': 1778, 'boobs': 1779, 'asks': 1780, 'chasing': 1781, '128534': 1782, '128686': 1783, 'brain': 1784, 'woof': 1785, 'neither': 1786, \"she'll\": 1787, 'amazing': 1788, 'stole': 1789, 'whoever': 1790, 'shorts': 1791, 'league': 1792, 'classic': 1793, 'dressed': 1794, 'breaking': 1795, 'safe': 1796, 'sportscenter': 1797, 'barely': 1798, 'vonshayeb': 1799, 'ik': 1800, 'breakfast': 1801, 'waste': 1802, 'easily': 1803, 'george': 1804, 'murder': 1805, 'crack': 1806, 'border': 1807, 'lmfaooo': 1808, '128546': 1809, 'buddy': 1810, 'leaving': 1811, 'yep': 1812, 'laid': 1813, 'stage': 1814, 'list': 1815, 'satisfied': 1816, 'episode': 1817, \"should've\": 1818, 'standing': 1819, 'nyrkelsmads': 1820, 'finish': 1821, 'hates': 1822, 'apart': 1823, '1017': 1824, 'court': 1825, 'talked': 1826, 'pacdagoat': 1827, 'stevestfler': 1828, 'tyler': 1829, 'luv': 1830, 'typical': 1831, 'weave': 1832, 'theonemiss': 1833, 'luu': 1834, 'btw': 1835, 'constantly': 1836, 'miley': 1837, 'nobeeetch': 1838, '128517': 1839, 'screaming': 1840, 'spot': 1841, 'spanish': 1842, 'pulled': 1843, 'nation': 1844, 'beating': 1845, 'seems': 1846, 'dating': 1847, 'twinkie': 1848, '128081': 1849, 'office': 1850, 'def': 1851, 'lakers': 1852, 'issue': 1853, 'capodaasshole': 1854, 'whiny': 1855, 'maniac3x': 1856, 'pops': 1857, 'beyond': 1858, 'killing': 1859, 'accept': 1860, 'career': 1861, '2nd': 1862, 'molly': 1863, 'older': 1864, 'nap': 1865, 'entertaining': 1866, '128571': 1867, 'mickey': 1868, 'awesome': 1869, 'beaners': 1870, 'squad': 1871, 'delete': 1872, 'gf': 1873, 'lilduval': 1874, 'personality': 1875, 'asses': 1876, '19': 1877, 'shoulda': 1878, 'sign': 1879, 'ferguson': 1880, 'americans': 1881, 'dollar': 1882, 'steveworks4you': 1883, 'takin': 1884, 'questions': 1885, 'havin': 1886, 'broken': 1887, 'plus': 1888, 'pure': 1889, 'hype': 1890, 'muslim': 1891, 'pig': 1892, 'gives': 1893, 'african': 1894, 'rappers': 1895, 'coach': 1896, 'lies': 1897, 'points': 1898, 'teaparty': 1899, 'royals': 1900, 'loose': 1901, 'feels': 1902, 'bored': 1903, 'sun': 1904, 'french': 1905, 'kicked': 1906, 'harry': 1907, 'emoji': 1908, 'bags': 1909, 'gtfo': 1910, 'callmerenee': 1911, 'flying': 1912, 'bud': 1913, 'leaves': 1914, 'solo': 1915, 'breed': 1916, \"would've\": 1917, 'thecoreyholcomb': 1918, 'update': 1919, \"you'd\": 1920, 'montana': 1921, 'ways': 1922, 'west': 1923, 'stealing': 1924, 'vagina': 1925, '8226': 1926, 'mrmooncricket': 1927, 'bra': 1928, 'cole': 1929, 'pathetic': 1930, 'reading': 1931, 'classy': 1932, 'mets': 1933, 'brag': 1934, 'bodies': 1935, 'sis': 1936, 'lightskin': 1937, 'sentence': 1938, 'meant': 1939, 'bio': 1940, 'slick': 1941, 'dre': 1942, 'des': 1943, 'thirst': 1944, 'grizzboadams': 1945, 'cuhcuhcuh': 1946, 'v': 1947, 'general': 1948, 'thompson': 1949, 'marriage': 1950, 'online': 1951, 'dc': 1952, 'album': 1953, 'tx': 1954, 'liked': 1955, 'beats': 1956, 'snow': 1957, 'iont': 1958, 'bars': 1959, 'brady': 1960, 'guinea': 1961, 'ordered': 1962, 'larry': 1963, '128170': 1964, 'wanting': 1965, 'wodaeeex3': 1966, 'yous': 1967, '90': 1968, 'thotcho': 1969, 'coward': 1970, 'justin': 1971, 'butter': 1972, 'iubb': 1973, 'flag': 1974, 'dicks': 1975, 'pair': 1976, 'area': 1977, 'ten': 1978, 'stopped': 1979, 'sharing': 1980, 'dip': 1981, 'exist': 1982, 'protect': 1983, 'hanging': 1984, 'knocked': 1985, 'corn': 1986, 'crew': 1987, 'mention': 1988, 'luck': 1989, 'draft': 1990, 'soo': 1991, '128072': 1992, 'advice': 1993, 'important': 1994, '100d': 1995, 'funky': 1996, 'savage': 1997, '128049': 1998, 'snapchat': 1999, 'twice': 2000, 'mimi': 2001, 'marry': 2002, 'along': 2003, '128298': 2004, 'italian': 2005, 'rapper': 2006, 'starts': 2007, '128539': 2008, 'wouldnt': 2009, 'hearing': 2010, 'lead': 2011, 'lmfaoooo': 2012, 'soccer': 2013, 'ryan': 2014, 'republican': 2015, 'listening': 2016, 'latina': 2017, 'sub': 2018, 'fault': 2019, 'xo': 2020, '8594': 2021, 'stomach': 2022, 'lately': 2023, 'mt': 2024, 'bobby': 2025, 'pipe': 2026, 'amber': 2027, 'lights': 2028, 'tough': 2029, 'mfs': 2030, 'mini': 2031, 'hun': 2032, 'system': 2033, 'kept': 2034, 'lit': 2035, 'jack': 2036, 'action': 2037, 'bang': 2038, 'bald': 2039, 'visit': 2040, 'twerking': 2041, 'surprised': 2042, 'tastes': 2043, '128518': 2044, 'paint': 2045, 'calm': 2046, 'miami': 2047, 'price': 2048, 'egg': 2049, 'everytime': 2050, 'zone': 2051, 'eh': 2052, 'horrible': 2053, 'thursday': 2054, 'charlie4927': 2055, 'headed': 2056, 'homeless': 2057, 'california': 2058, 'whiteponyjr': 2059, 'filled': 2060, 'hole': 2061, 'conversation': 2062, 'mix': 2063, 'trouble': 2064, 'tattoos': 2065, 'camera': 2066, 'fingers': 2067, 'lls': 2068, 'style': 2069, 'asleep': 2070, 'mi': 2071, 'jeans': 2072, 'deez': 2073, 'housewife': 2074, 'fries': 2075, 'bees': 2076, 'track': 2077, 'secret': 2078, '128070': 2079, 'loved': 2080, 'gift': 2081, 'playoffs': 2082, 'missing': 2083, 'vsamone': 2084, 'fucker': 2085, \"we'll\": 2086, 'hmu': 2087, 'slant': 2088, '127911': 2089, 'unlike': 2090, 'bottom': 2091, 'clams': 2092, 'scream': 2093, 'book': 2094, 'relationships': 2095, 'goofy': 2096, 'curve': 2097, 'proof': 2098, 'surprise': 2099, 'com': 2100, 'flash': 2101, 'hello': 2102, 'nyc': 2103, 'dump': 2104, 'smash': 2105, 'national': 2106, 'kevin': 2107, '128133': 2108, 'math': 2109, 'spit': 2110, 'duh': 2111, 'hick': 2112, 'socks': 2113, 'xoxo': 2114, '127936': 2115, 'crowd': 2116, 'hip': 2117, 'whats': 2118, 'faces': 2119, 'insecure': 2120, 'salute': 2121, 'pjnet': 2122, 'view': 2123, \"where's\": 2124, 'flu': 2125, 'beyonc': 2126, 'devil': 2127, 'fair': 2128, 'honky': 2129, 'land': 2130, 'non': 2131, 'fox': 2132, 'texted': 2133, 'reply': 2134, 'tank': 2135, 'shane': 2136, 'treated': 2137, 'chlldhoodruiner': 2138, 'nba': 2139, 'purple': 2140, 'pressed': 2141, 'yopapi': 2142, 'chulo': 2143, 'cans': 2144, 'hollywood': 2145, 'loser': 2146, 'smith': 2147, 'wears': 2148, 'reality': 2149, 'stone': 2150, 'angel': 2151, 'staring': 2152, 'snitch': 2153, 'itsnotharold': 2154, 'learned': 2155, 'evil': 2156, 'boosie': 2157, 'absolutely': 2158, 'quiet': 2159, 'david': 2160, 'impress': 2161, 'dswizzle3': 2162, 'carl': 2163, 'key': 2164, 'thou': 2165, 'disgusting': 2166, 'complaining': 2167, 'male': 2168, 'girlfriends': 2169, 'rule': 2170, 'paying': 2171, 'remind': 2172, 'bs': 2173, 'republicans': 2174, 'flight': 2175, 'join': 2176, 'killer': 2177, 'senior': 2178, 'sqquad': 2179, 'slapped': 2180, 'feelin': 2181, 'saved': 2182, 'truly': 2183, 'elchavaloko': 2184, 'vegas': 2185, 'plans': 2186, 'cover': 2187, 'timeline': 2188, 'broads': 2189, 'pigs': 2190, 'jobs': 2191, 'burn': 2192, 'homemade': 2193, 'realest': 2194, 'refer': 2195, 'idiot': 2196, 'busy': 2197, '35': 2198, 'muzzie': 2199, 'sluts': 2200, '127932': 2201, '1575': 2202, 'switch': 2203, 'leggings': 2204, 'boi': 2205, 'carry': 2206, 'petty': 2207, 'tricks': 2208, 'je': 2209, 'bless': 2210, 'eatin': 2211, 'soooo': 2212, '128569': 2213, 'realized': 2214, 'fashion': 2215, 'regardless': 2216, 'history': 2217, 'ac': 2218, '128544': 2219, 'ohh': 2220, 'lied': 2221, 'sumn': 2222, 'selfie': 2223, 'dawn': 2224, 'ms': 2225, 'blakeanderson21': 2226, 'shorty': 2227, 'shady': 2228, 'teams': 2229, 'wash': 2230, 'rid': 2231, 'catching': 2232, 'burnt': 2233, 'mikediggem': 2234, 'crap': 2235, 'q': 2236, 'pray': 2237, 'glasses': 2238, 'legal': 2239, 'promise': 2240, 'souljaboy': 2241, 'democrats': 2242, 'pain': 2243, 'thots': 2244, 'uses': 2245, 'owe': 2246, 'o3': 2247, 'millz': 2248, 'yup': 2249, 'eric': 2250, 'pom': 2251, 'miles': 2252, 'upset': 2253, 'greatest': 2254, 'tiny': 2255, 'locked': 2256, 'guns': 2257, 'selfies': 2258, 'afc': 2259, 'grass': 2260, 'comment': 2261, '80': 2262, 'assholes': 2263, 'dallas': 2264, 'challenge': 2265, 'taxstone': 2266, 'holding': 2267, 'sons': 2268, 'san': 2269, 'wide': 2270, 'choose': 2271, 'tour': 2272, 'bravo': 2273, 'aha': 2274, 'queers': 2275, 'target': 2276, 'opinion': 2277, 'worked': 2278, 'currently': 2279, 'scene': 2280, 'tickets': 2281, 'fb': 2282, 'laws': 2283, 'tee': 2284, 'wana': 2285, 'betta': 2286, 'magic': 2287, 'acts': 2288, 'illegal': 2289, 'ooh': 2290, 'series': 2291, 'faced': 2292, '128583': 2293, 'accident': 2294, 'absolute': 2295, 'pie': 2296, 'gunna': 2297, 'gabby': 2298, 'todd': 2299, 'wizkhalifa': 2300, 'martin': 2301, 'mostly': 2302, 'five': 2303, 'above': 2304, 'oriental': 2305, 'niqqa': 2306, 'alejandro': 2307, 'bihhh': 2308, 'final': 2309, \"man's\": 2310, 'prayingforhead': 2311, 'crime': 2312, 'tag': 2313, 'blonde': 2314, 'officiallyice': 2315, 'bucket': 2316, 'davis': 2317, 'coloured': 2318, 'orange': 2319, 'whoa': 2320, 'kissing': 2321, 'bright': 2322, 'coke': 2323, 'twinkies': 2324, 'cannot': 2325, 'israel': 2326, 'lad': 2327, 'plz': 2328, 'talmbout': 2329, 'das': 2330, 'shaped': 2331, 'walks': 2332, 'lildurk': 2333, 'sack': 2334, 'glass': 2335, 'shoutout': 2336, 'bull': 2337, 'bump': 2338, 'cowboys': 2339, 'drinks': 2340, 'chat': 2341, 'uce': 2342, 'matt': 2343, 'addicted': 2344, 'shame': 2345, 'birth': 2346, 'six': 2347, 'governor': 2348, 'closed': 2349, 'bo': 2350, '128561': 2351, 'iraq': 2352, 'kelly': 2353, '60': 2354, 'goal': 2355, 'numbers': 2356, 'darkskin': 2357, 'peter': 2358, 'honkey': 2359, 'desperate': 2360, 'search': 2361, 'amos': 2362, 'corner': 2363, 'plan': 2364, 'ap': 2365, 'disrespectful': 2366, 'island': 2367, 'clicquotsuave': 2368, 'cuff': 2369, 'shes': 2370, 'raise': 2371, 'knees': 2372, 'others': 2373, \"'em\": 2374, 'smokin': 2375, 'wins': 2376, 'base': 2377, 'wave': 2378, 'political': 2379, '128556': 2380, \"they'll\": 2381, 'pillow': 2382, 'states': 2383, 'note': 2384, 'forreal': 2385, 'kitty': 2386, 'boom': 2387, 'arrested': 2388, 'tattoo': 2389, 'trailer': 2390, 'hunglikerobby': 2391, 'een': 2392, 'neighborhood': 2393, 'callneeshcakey': 2394, 'nog': 2395, 'kitchen': 2396, 'goddamn': 2397, 'flock': 2398, 'craig': 2399, 'ground': 2400, 'choice': 2401, 'er': 2402, 'ova': 2403, 'dr': 2404, 'hipster': 2405, 'grand': 2406, 'international': 2407, 'fuckthemallcops': 2408, 'moves': 2409, 'simply': 2410, 'press': 2411, 'four': 2412, 'belong': 2413, 'chiefkeef': 2414, 'beard': 2415, 'blast': 2416, 'cali': 2417, 'ad': 2418, 'including': 2419, 'debate': 2420, 'honest': 2421, 'master': 2422, 'explain': 2423, 'logic': 2424, 'lyrics': 2425, '6th': 2426, 'vibe': 2427, 'sandwich': 2428, 'code': 2429, 'ta': 2430, 'ron': 2431, 'hbcufessions': 2432, 'kicks': 2433, 'comments': 2434, 'teachers': 2435, 'aid': 2436, 'cuffin': 2437, 'negros': 2438, 'response': 2439, 'salty': 2440, 'strap': 2441, 'eats': 2442, 'ike': 2443, 'favorites': 2444, 'johnny': 2445, 'chose': 2446, 'omfg': 2447, 'released': 2448, 'totally': 2449, 'value': 2450, 'emandm': 2451, 'version': 2452, 'jumped': 2453, 'sisters': 2454, 'faster': 2455, 'crystal': 2456, 'funniest': 2457, 'bouta': 2458, 'drama': 2459, 'titty': 2460, 'sweat': 2461, 'stripper': 2462, 'foot': 2463, 'sale': 2464, 'mook': 2465, 'mental': 2466, 'ca': 2467, 'diet': 2468, 'reaction': 2469, 'lebronvuitton': 2470, 'couch': 2471, 'homework': 2472, 'nipple': 2473, 'salad': 2474, 'og': 2475, 'spread': 2476, 'tylar': 2477, 'sneak': 2478, 'meat': 2479, 'indiana': 2480, 'loving': 2481, 'torahblaze': 2482, 'shyt': 2483, 'imagine': 2484, 'ended': 2485, 'clear': 2486, 'wee': 2487, 'fellas': 2488, 'kardashian': 2489, 'oscar': 2490, 'honey': 2491, 'sugar': 2492, 'kinghov1313': 2493, 'nor': 2494, 'morbidmermaid': 2495, 'government': 2496, 'atleast': 2497, 'concert': 2498, 'oskzilla': 2499, 'wasp': 2500, 'browns': 2501, 'msnbc': 2502, 'works': 2503, 'bounce': 2504, 'blew': 2505, 'legend': 2506, 'bestfriend': 2507, 'knw': 2508, 'brand': 2509, 'bound': 2510, 'anal': 2511, 'wise': 2512, 'yasss': 2513, 'oz': 2514, 'netflix': 2515, 'stalk': 2516, 'theonlyreed': 2517, 'given': 2518, 'dwight': 2519, 'jam': 2520, 'zach': 2521, 'draw': 2522, 'table': 2523, 'mature': 2524, 'makin': 2525, 'computer': 2526, 'tae': 2527, 'fasho': 2528, 'continue': 2529, 'chief': 2530, 'plano': 2531, 'crash': 2532, 'sudden': 2533, 'yelling': 2534, 'slowly': 2535, 'focus': 2536, 'assume': 2537, 'brooklyn': 2538, 'outchea': 2539, 'smashed': 2540, 'terms': 2541, 'jigg': 2542, 'hittin': 2543, 'coulda': 2544, 'thee': 2545, 'nowhere': 2546, 'fed': 2547, 'realniggasherm': 2548, 'costume': 2549, 'sosa': 2550, 'imneverchillin': 2551, 'chest': 2552, 'thevoiceofmiami': 2553, 'taecocky': 2554, 'pretend': 2555, 'hunterbuch66': 2556, 'juss': 2557, 'attitudes': 2558, 'porch': 2559, 'disrespect': 2560, '1043358': 2561, 'shits': 2562, \"he'll\": 2563, 'pills': 2564, 'hashtag': 2565, 'raped': 2566, 'benny': 2567, 'north': 2568, 'church': 2569, 'ladykimora': 2570, 'strippers': 2571, 'gram': 2572, 'racism': 2573, 'decided': 2574, 'besides': 2575, 'tail': 2576, 'macktology101': 2577, 'tupac': 2578, 'shaved': 2579, 'lock': 2580, 'interesting': 2581, 'hopes': 2582, 'toes': 2583, 'theres': 2584, 'moon': 2585, 'stevie': 2586, '22': 2587, 'title': 2588, 'mann': 2589, 'lilreese300': 2590, 'aerii': 2591, 'stephyrae7': 2592, 'bee': 2593, 'niglet': 2594, 'art': 2595, 'lip': 2596, '128543': 2597, 'brah': 2598, 'bringing': 2599, '1604': 2600, 'shine': 2601, 'juicy': 2602, 'yrs': 2603, 'abt': 2604, 'build': 2605, 'foul': 2606, 'marcus': 2607, 'supreme': 2608, 'johnson': 2609, 'fail': 2610, 'trill': 2611, 'asap': 2612, 'haters': 2613, 'hater': 2614, 'filthy': 2615, 'wetback': 2616, 'click': 2617, 'en': 2618, 'cup': 2619, 'relax': 2620, 'incredible': 2621, 'prude': 2622, '504': 2623, 'stalking': 2624, 'scare': 2625, 'sending': 2626, 'bronx': 2627, 'chanelisabeth': 2628, 'twitpic': 2629, 'nipples': 2630, 'thugs': 2631, 'badass': 2632, 'prom': 2633, 'sammylightning': 2634, 'fix': 2635, 'belly': 2636, 'shirts': 2637, 'douche': 2638, 'mac': 2639, 'sensitive': 2640, 'cuffing': 2641, 'pretending': 2642, 'wasting': 2643, 'texts': 2644, 'lived': 2645, 'cle': 2646, 'needed': 2647, 'falls': 2648, 'rockin': 2649, 'august': 2650, 'kudabrazyy': 2651, 'livin': 2652, 'wings': 2653, 'hurts': 2654, 'adult': 2655, 'convo': 2656, 'third': 2657, 'cotton': 2658, 'whip': 2659, 'dragon': 2660, 'uk': 2661, 'pockets': 2662, 'cam': 2663, 'dfkinlopes': 2664, 'sober': 2665, 'eyed': 2666, 'log': 2667, 'statement': 2668, '3rd': 2669, 'kxrxsxb': 2670, 'uniform': 2671, 'bob': 2672, 'harder': 2673, 'liberals': 2674, 'goat': 2675, 'hurry': 2676, 'private': 2677, 'exposed': 2678, 'experience': 2679, 'force': 2680, 'sexualgif': 2681, 'tie': 2682, 'nowadays': 2683, 'tacos': 2684, 'mouf': 2685, 'anaconda': 2686, 'cyrus': 2687, 'negative': 2688, 'yeen': 2689, 'blacks': 2690, 'twats': 2691, '1stname': 2692, 'failed': 2693, 'circle': 2694, 'iu': 2695, 'boat': 2696, 'likely': 2697, 'ghost': 2698, 'wine': 2699, 'slip': 2700, 'english': 2701, 'community': 2702, 'address': 2703, 'wilson': 2704, 'kidding': 2705, 'scale': 2706, 'obviously': 2707, 'tape': 2708, 'nappy': 2709, 'tan': 2710, 'str8': 2711, 'cards': 2712, 'strip': 2713, 'ing': 2714, 'stacydmomof5': 2715, 'cantucimblonde': 2716, 'pattism74': 2717, 'kacado': 2718, 'actual': 2719, 'tear': 2720, 'nuttin': 2721, 'beauty': 2722, 'splash': 2723, '128145': 2724, 'fighters': 2725, 'shop': 2726, 'freeze': 2727, 'cheap': 2728, 'burger': 2729, 'graham': 2730, 'staying': 2731, 'asf': 2732, '1041210': 2733, 'pocket': 2734, 'energy': 2735, 'jungle': 2736, 'gorgeouscamry': 2737, 'evanbecker513': 2738, 'definition': 2739, 'background': 2740, 'appreciate': 2741, 'lesbian': 2742, 'karmas': 2743, 'building': 2744, 'tears': 2745, 'theses': 2746, 'argument': 2747, '5th': 2748, 'xpriceless': 2749, 'towards': 2750, 'smells': 2751, 'eggplant': 2752, 'ned': 2753, 'ih8tvvitterhoes': 2754, 'tellin': 2755, 'virgin': 2756, 'washed': 2757, 'busted': 2758, 'current': 2759, 'adorable': 2760, 'issues': 2761, 'deserves': 2762, 'phones': 2763, 'related': 2764, 'cousins': 2765, 'sucked': 2766, 'lots': 2767, 'mark': 2768, 'fruit': 2769, 'oil': 2770, 'character': 2771, 'joy': 2772, '4th': 2773, 'hg': 2774, 'noticed': 2775, 'consider': 2776, 'ilovebamf': 2777, 'upon': 2778, 'arm': 2779, 'slopes': 2780, 'kay': 2781, 'radio': 2782, 'film': 2783, 'boots': 2784, 'ear': 2785, 'sean': 2786, 'rns': 2787, 'rate': 2788, 'wrote': 2789, 'aianhangover': 2790, 'figure': 2791, 'tale': 2792, 'sittin': 2793, 'cried': 2794, 'shave': 2795, 'russell': 2796, 'shall': 2797, 'report': 2798, 'grew': 2799, 'wigger': 2800, 'bowl': 2801, 'pit': 2802, 'normal': 2803, 'heaven': 2804, 'wind': 2805, 'kisses': 2806, 'walmart': 2807, 'notoriousbm95': 2808, 'virginia': 2809, 'mary': 2810, 'military': 2811, 'spear': 2812, 'student': 2813, 'official': 2814, 'viridoesitt': 2815, 'training': 2816, 'celebrate': 2817, 'az': 2818, 'chaysin': 2819, 'ref': 2820, 'sammi': 2821, 'boyden': 2822, 'pack': 2823, 'homeboy': 2824, 'respond': 2825, 'aunt': 2826, 'bullet': 2827, 'emotional': 2828, \"someone's\": 2829, 'min': 2830, 'accounts': 2831, 'loyalty': 2832, 'election': 2833, 'watermelon': 2834, 'gm': 2835, 'gator': 2836, 'kush': 2837, 'golden': 2838, 'scandal': 2839, 'yal': 2840, 'josh': 2841, 'yelled': 2842, 'murdered': 2843, 'lilbthebasedgod': 2844, 'slavery': 2845, 'starburst': 2846, 'democrat': 2847, 'dancing': 2848, 'steak': 2849, 'popped': 2850, 'purge': 2851, 'eagles': 2852, 'ego': 2853, 'freaky': 2854, 'automatically': 2855, 'contacts': 2856, 'tripping': 2857, 'trashy': 2858, 'justezzzee': 2859, 'ling': 2860, 'mixed': 2861, 'opening': 2862, 'stairs': 2863, 'creepy': 2864, 'atl': 2865, 'mistake': 2866, 'ben': 2867, 'bitching': 2868, 'lean': 2869, 'luke': 2870, 'anywhere': 2871, 'mass': 2872, '9786': 2873, 'washington': 2874, 'anglo': 2875, 'killin': 2876, 'alcohol': 2877, 'fav': 2878, 'liking': 2879, 'christ': 2880, 'wasnt': 2881, 'homo': 2882, 'fucken': 2883, 'vodka': 2884, 'majority': 2885, 'common': 2886, 'changed': 2887, 'lotta': 2888, 'astros': 2889, 'chinks': 2890, \"nigga's\": 2891, 'bitty': 2892, 'parties': 2893, 'popping': 2894, 'highly': 2895, 'fantasy': 2896, 'koleworld4': 2897, '128141': 2898, 'rite': 2899, 'slaying': 2900, 'stunt': 2901, 'cuts': 2902, 'nochillpaz': 2903, 'written': 2904, 'ewww': 2905, 'scum': 2906, 'project': 2907, 'yass': 2908, '8419': 2909, 'wedding': 2910, 'ive': 2911, 'fleek': 2912, 'stink': 2913, 'liveitupjersey': 2914, 'poop': 2915, 'clock': 2916, 'hiding': 2917, 'pill': 2918, 'ace': 2919, 'easier': 2920, 'sniff': 2921, 'emojis': 2922, 'mood': 2923, 'bank': 2924, 'print': 2925, 'chain': 2926, 'flex': 2927, 'pre': 2928, 'bbluedreamm': 2929, 'lilmenifee': 2930, 'voor': 2931, 'losangeles': 2932, 'mcdonalds': 2933, 'subtweet': 2934, 'mines': 2935, 'kitten': 2936, 'kike': 2937, 'holla': 2938, 'battle': 2939, 'deleted': 2940, '11wdnick': 2941, 'standards': 2942, 'poppin': 2943, 'mannn': 2944, 'savages': 2945, 'whose': 2946, 'status': 2947, 'outfit': 2948, 'pistol': 2949, '1041219': 2950, '200': 2951, 'hussle': 2952, 'taller': 2953, 'breaks': 2954, 'terrible': 2955, 'hr': 2956, 'uncleunco': 2957, 'bobbybotsods': 2958, 'racistnegro69': 2959, 'boutta': 2960, 'able': 2961, 'false': 2962, 'pose': 2963, 'foxnews': 2964, 'wasted': 2965, 'that1guyjeff': 2966, 'kazatta': 2967, 'turnup': 2968, 'pepper': 2969, 'lovely': 2970, 'hook': 2971, 'oml': 2972, 'association': 2973, 'll': 2974, 'hopefully': 2975, 'kaeejones': 2976, 'moron': 2977, 'diamond': 2978, 'con': 2979, 'terrorists': 2980, 'vice': 2981, 'ish': 2982, '128589': 2983, 'lingerie': 2984, 'stevestockmantx': 2985, 'stevstiffler': 2986, 'ketchup': 2987, 'priceless': 2988, 'crows': 2989, 'princess': 2990, 'justkarahn': 2991, 'muslims': 2992, 'justinmiculka01': 2993, 'loss': 2994, 'shoe': 2995, 'alabama': 2996, 'henny': 2997, 'slay': 2998, 'fml': 2999, 'service': 3000, 'shopping': 3001, 'info': 3002, 'students': 3003, 'fugly': 3004, 'places': 3005, 'kirk': 3006, 'celebrity': 3007, 'heydenbunsyolo': 3008, 'officially': 3009, 'mob': 3010, 'moaning': 3011, 'yard': 3012, 'mariners': 3013, 'preach': 3014, 'um': 3015, 'hypocrite': 3016, 'starbucks': 3017, 'patience': 3018, 'bitchin': 3019, 'craziestsex': 3020, 'effect': 3021, 'kayysavage': 3022, '9757': 3023, 'mouse': 3024, 'lake': 3025, 'brosconfessions': 3026, 'gots': 3027, 'atlanta': 3028, 'eyelashes': 3029, 'smoked': 3030, 'ending': 3031, 'pound': 3032, 'williams': 3033, 'miserable': 3034, '26': 3035, 'rakwonogod': 3036, 'upper': 3037, 'interview': 3038, 'tats': 3039, 'correct': 3040, '27': 3041, 'shooting': 3042, 'waking': 3043, '70': 3044, 'gabrielaangela4': 3045, 'quality': 3046, 'tool': 3047, 'fabianmleal': 3048, 'lamar': 3049, 'graduation': 3050, 'killallsimps': 3051, 'bieber': 3052, 'honkies': 3053, 'romo': 3054, 'zzachbarness': 3055, 'waddup': 3056, 'hovaa': 3057, '88': 3058, 'nicki': 3059, 'lee': 3060, 'eva': 3061, 'frm': 3062, 'minaj': 3063, 'dan': 3064, 'whenever': 3065, 'whips': 3066, 'curved': 3067, 'pumpkin': 3068, 'shiner': 3069, 'leprechaun': 3070, 'diss': 3071, 'crush': 3072, 'ears': 3073, 'gum': 3074, 'jew': 3075, 'bacon': 3076, 'dropping': 3077, 'mirror': 3078, '127850': 3079, 'caring': 3080, 'afford': 3081, 'cc': 3082, 'leo': 3083, 'bike': 3084, 'center': 3085, 'clothing': 3086, 'dildo': 3087, 'guala': 3088, 'revkahjc': 3089, 'mate': 3090, 'weeknd': 3091, 'strange': 3092, 'finding': 3093, 'turnt': 3094, 'silence': 3095, 'wid': 3096, 'x3': 3097, 'ciscoallday': 3098, \"today's\": 3099, 'struggle': 3100, 'popular': 3101, 'stud': 3102, 'iggy': 3103, 'clubs': 3104, 'entertain': 3105, 'z0mbiedance': 3106, 'spray': 3107, 'texans': 3108, 'farewellcaptain': 3109, 'woody': 3110, 'whereyohussleat': 3111, 'trashes': 3112, 'necessary': 3113, 'tonyjrodriguez': 3114, 'bat': 3115, 'slim': 3116, '127944': 3117, 'dee': 3118, 'influence': 3119, 'ungrateful': 3120, 'adam': 3121, 'jjauthor': 3122, 'yost': 3123, 've': 3124, \"'s\": 3125, 'counts': 3126, 'decide': 3127, 'bills': 3128, 'stuffed': 3129, 'walkin': 3130, 'cinnamon': 3131, 'milf': 3132, 'hug': 3133, 'chuck': 3134, 'collegefession': 3135, 'cavs': 3136, 'breath': 3137, 'possible': 3138, 'nike': 3139, 'retweets': 3140, 'omm': 3141, 'toe': 3142, 'assuming': 3143, 'whining': 3144, 'hilarious': 3145, '1041191': 3146, 'bey': 3147, 'marlin': 3148, 'fishyass': 3149, 'waka': 3150, 'feature': 3151, 'grind': 3152, 'empty': 3153, 'politics': 3154, 'disgrace': 3155, 'meaning': 3156, 'throbbing': 3157, 'matching': 3158, 'stands': 3159, 'kik': 3160, 'dink': 3161, 'cleveland': 3162, 'candidate': 3163, 'younger': 3164, 'prison': 3165, 'company': 3166, 'woulda': 3167, 'wondering': 3168, 'philly': 3169, 'ahead': 3170, 'quite': 3171, 'solid': 3172, 'marijuana': 3173, 'savanigga': 3174, 'ht': 3175, 'taco': 3176, 'steelers': 3177, 'cap': 3178, 'british': 3179, 'pm': 3180, 'loaded': 3181, 'lines': 3182, 'yungmigo': 3183, 'hated': 3184, 'kmichelle': 3185, 'spring': 3186, 'cheesecake': 3187, 'los': 3188, '1waynostra': 3189, 'example': 3190, 'steady': 3191, 'commercial': 3192, 'backpage': 3193, '128162': 3194, 'gotten': 3195, 'plot': 3196, 'twist': 3197, 'caption': 3198, 'gezus': 3199, 'finished': 3200, 'appear': 3201, '07cannon': 3202, 'sup': 3203, 'plastic': 3204, 'lo': 3205, 'anthonycumia': 3206, 'camp': 3207, 'talm': 3208, 'cocky': 3209, 'rangel': 3210, 'stolen': 3211, 'runs': 3212, 'runnin': 3213, 'anxiety': 3214, 'pro': 3215, 'tn': 3216, 'nights': 3217, 'bosh': 3218, 'networks': 3219, 'bpu86qzyft': 3220, 'nigglet': 3221, 'return': 3222, 'sorryimalex': 3223, 'workout': 3224, 'vote5sos': 3225, 'freedom': 3226, 'aids': 3227, 'tharealist': 3228, 'duty': 3229, 'hs': 3230, 'soup': 3231, 'refuse': 3232, 'rent': 3233, 'campaign': 3234, 'doors': 3235, 'trusted': 3236, 'iemonaids': 3237, '128551': 3238, 'thousand': 3239, 'frozen': 3240, 'mrs': 3241, 'gorgeous': 3242, 'highclasscapri': 3243, 'cowboy': 3244, 'leader': 3245, 'gossipcop': 3246, 'stoner': 3247, 'drove': 3248, 'rachel': 3249, 'serving': 3250, 'clutch': 3251, 'tries': 3252, 'ann': 3253, 'unfollowed': 3254, 'sweetest': 3255, 'becomes': 3256, 'sight': 3257, 'wus': 3258, 'thekaosyatti': 3259, 'tori': 3260, \"weren't\": 3261, 'fame': 3262, 'bush': 3263, 'nbs': 3264, 'whattheflocka': 3265, 'juanndacut': 3266, 'murphy': 3267, 'understood': 3268, 'animals': 3269, '128582': 3270, 'sooooo': 3271, 'jo': 3272, 'senorsteez': 3273, 'obsessed': 3274, 'glizzy': 3275, 'skyereyes': 3276, 'spirit': 3277, 'fancy': 3278, 'p2': 3279, 'awful': 3280, 'science': 3281, 'broad': 3282, 'bell': 3283, 'wrap': 3284, 'pee': 3285, 'borrow': 3286, 'heilsidious': 3287, 'beach': 3288, 'saudi': 3289, 'thottie': 3290, \"life's\": 3291, 'square': 3292, 'hockey': 3293, 'positive': 3294, 'recently': 3295, 'norahodonnell': 3296, 'picked': 3297, 'cloud': 3298, 'maury': 3299, 'carelessone92': 3300, 'profile': 3301, 'schools': 3302, 'currensy': 3303, 'spitta': 3304, 'rivers': 3305, 'pointless': 3306, 'legit': 3307, 'beefing': 3308, 'speech': 3309, 'dates': 3310, 'spook': 3311, 'nature': 3312, 'willing': 3313, 'jen': 3314, 'breadtruckkbri': 3315, 'lmaoooooo': 3316, 'idoclyfe': 3317, 'certain': 3318, '128134': 3319, 'congrats': 3320, 'patrick': 3321, 'merry': 3322, 'ugliest': 3323, 'slapping': 3324, 'ham': 3325, 'divamonroe2uhoe': 3326, 'kfromtheg': 3327, 'shade': 3328, 'ravens': 3329, 'pitiful': 3330, 'guarantee': 3331, 'wore': 3332, 'hippo': 3333, 'cameron': 3334, 'jimmy': 3335, 'murda94': 3336, 'brian': 3337, 'jacket': 3338, 'triple6em96': 3339, 'weet': 3340, 'niet': 3341, 'parking': 3342, 'bite': 3343, 'shitting': 3344, 'unfollowing': 3345, '127797': 3346, 'invite': 3347, 'clips': 3348, 'messing': 3349, 'actions': 3350, 'alotta': 3351, 'eggs': 3352, 'flawless': 3353, 'dike': 3354, 'defense': 3355, 'pierced': 3356, 'biden': 3357, 'winner': 3358, 'coast': 3359, 'saucygyro': 3360, 'rolled': 3361, 'joey': 3362, 'mic': 3363, 'threesome': 3364, 'catfish': 3365, 'sea': 3366, 'doo': 3367, 'talkn': 3368, 'mansion': 3369, 'pats': 3370, '128542': 3371, 'whine': 3372, 'snacka': 3373, 'stepping': 3374, \"gon'\": 3375, 'jake': 3376, 'nikki': 3377, 'motherfucker': 3378, 'fabbymichelle': 3379, 'isnt': 3380, 'yoga': 3381, 'jerk': 3382, 'esteem': 3383, 'foe': 3384, 'redskin': 3385, '128680': 3386, 'dreads': 3387, 'rollin': 3388, 'lmfaooooo': 3389, 'kensuttling': 3390, 'wishy': 3391, 'washy': 3392, 'doctor': 3393, \"could've\": 3394, 'turd': 3395, 'steven': 3396, 'daniels': 3397, 'briscoefunnyguy': 3398, 'jon': 3399, 'phil': 3400, 'further': 3401, '1996': 3402, 'turtle': 3403, 'bones': 3404, 'kendrick': 3405, 'gain': 3406, 'tax': 3407, 'quan': 3408, 'studio': 3409, 'member': 3410, '127811': 3411, 'rhythmixx': 3412, 'due': 3413, \"obama's\": 3414, 'shinsnipes': 3415, 'emabiggestfans1d': 3416, 'traffic': 3417, 'pulling': 3418, 'bully': 3419, 'toilet': 3420, 'ginasanabria': 3421, 'horse': 3422, 'whitdawgem': 3423, 'hicks': 3424, 'balling': 3425, 'ogbeard': 3426, 'willyroast2': 3427, 'ios': 3428, 'fellow': 3429, 'seats': 3430, 'bare': 3431, 'faded': 3432, 'wendydavistexas': 3433, 'sue': 3434, 'insurance': 3435, 'shutup': 3436, 'hillbillies': 3437, 'goodnight': 3438, 'famu': 3439, 'louievree': 3440, 'falling': 3441, 'whites': 3442, 'foreal': 3443, '2k': 3444, 'ridin': 3445, 'wbeezy': 3446, 'forward': 3447, 'chances': 3448, 'cnn': 3449, 'boats': 3450, 'robin': 3451, 'watchin': 3452, 'silver': 3453, 'troyal5': 3454, 'father': 3455, 'sucka': 3456, 'jayreidofficial': 3457, 'arguments': 3458, 'pushing': 3459, 'detroit': 3460, 'teapot': 3461, 'slaves': 3462, 'bunny': 3463, 'roasted': 3464, 'cheeks': 3465, 'answers': 3466, 'lyin': 3467, 'facing': 3468, 'zimmerman': 3469, 'perfectly': 3470, 'plane': 3471, 'mentally': 3472, \"we've\": 3473, 'nooo': 3474, 'darealquitam': 3475, 'wordtothewise': 3476, 'awake': 3477, 'enjoying': 3478, 'personal': 3479, 'decision': 3480, 'tweaking': 3481, '128565': 3482, 'doc': 3483, 'lololol': 3484, 'cigarettes': 3485, 'jones': 3486, 'flavored': 3487, 'tryn': 3488, 'gimme': 3489, 'tee13': 3490, 'softestmuffin': 3491, 'thoughts': 3492, 'nude': 3493, 'fil': 3494, 'signed': 3495, 'dolla': 3496, 'blowing': 3497, 'boyfriends': 3498, 'welfare': 3499, 'fist': 3500, \"'cause\": 3501, 'campus': 3502, 'ankles': 3503, 'harlem': 3504, 'treating': 3505, \"karma's\": 3506, 'choosin': 3507, 'taliban': 3508, 'ahaha': 3509, \"they'd\": 3510, 'sin': 3511, 'original': 3512, 'cleaning': 3513, 'carter': 3514, 'gmb': 3515, 'dice': 3516, 'epic': 3517, 'hmm': 3518, 'schedule': 3519, 'vision': 3520, 'azz': 3521, 'warning': 3522, 'ay': 3523, 'links': 3524, 'range': 3525, 'bake': 3526, 'nt': 3527, 'elementary': 3528, 'hugs': 3529, 'sucker': 3530, 'lvl': 3531, 'iammrechols': 3532, 'chilling': 3533, 'hypocrisy': 3534, 'dressing': 3535, 'spent': 3536, 'medical': 3537, 'resting': 3538, 'jets': 3539, 'saints': 3540, 'plate': 3541, 'naturally': 3542, 'trend': 3543, 'benz': 3544, 'woridstarhlphop': 3545, 'yardie': 3546, 'sideline': 3547, 'lipe': 3548, 'whores': 3549, 'beg': 3550, 'proven': 3551, 'nite': 3552, 'trade': 3553, 'mcm': 3554, 'un': 3555, 'tu': 3556, \"ex's\": 3557, 'compete': 3558, 'butts': 3559, 'lmaooooo': 3560, 'leavin': 3561, 'cb': 3562, 'woohdakidd': 3563, '74': 3564, 'discuss': 3565, 'anchor': 3566, 'role': 3567, 'multiple': 3568, 'rare': 3569, 'garrett': 3570, 'winker': 3571, 'catches': 3572, 'kincade00': 3573, 'rejectedpeanutsspecials': 3574, 'helped': 3575, 'jergucci': 3576, 'fishing': 3577, 'bands': 3578, 'ew': 3579, 'books': 3580, 'yg': 3581, 'opened': 3582, 'tweakin': 3583, 'humble': 3584, 'smith98': 3585, 'deserved': 3586, 'pimps': 3587, 'delaney': 3588, 'rings': 3589, 'beast': 3590, 'several': 3591, '9829': 3592, 'garden': 3593, 'elephant': 3594, \"wife's\": 3595, 'former': 3596, 'thatslutadrian': 3597, 'contact': 3598, 'thelittlefella': 3599, 'phase': 3600, 'flirting': 3601, 'floyd': 3602, 'brazilian': 3603, 'hero': 3604, 'rally': 3605, 'nails': 3606, 'spam': 3607, 'chucker': 3608, 'papa': 3609, 'manners': 3610, 'wth': 3611, 'cocaine': 3612, 'arrest': 3613, 'bait': 3614, 'pool': 3615, 'honor': 3616, '400': 3617, 'losbeonit': 3618, 'app': 3619, 'insta': 3620, 'legacy': 3621, 'shades': 3622, 'scientists': 3623, 'available': 3624, 'askin': 3625, 'nahh': 3626, 'sends': 3627, 'op': 3628, 'stacks': 3629, 'peyton': 3630, 'manning': 3631, 'thanksgiving': 3632, 'smco71': 3633, '128034': 3634, 'emotions': 3635, 'yokel': 3636, 'trippen': 3637, 'urge': 3638, 'became': 3639, 'ck': 3640, 'keys': 3641, 'danny': 3642, 'kenny': 3643, 'wright': 3644, 'lux': 3645, '1041185': 3646, 'femshaveballz': 3647, 'situation': 3648, 'selfish': 3649, 'pooh': 3650, 'mia': 3651, 'liveanduncut': 3652, '1bcarter': 3653, 'gossip': 3654, 'attacks': 3655, 'di': 3656, 'buck': 3657, 'noise': 3658, 'huffingtonpost': 3659, 'ds': 3660, 'motherfuckers': 3661, 'uberfacts': 3662, 'jzolly23': 3663, 'agreed': 3664, 'copy': 3665, 'zitlalyl': 3666, 'forehead': 3667, 'balboa': 3668, 'eaten': 3669, 'sand': 3670, 'ayo': 3671, '58399': 3672, 'toys': 3673, 'completely': 3674, 'hank': 3675, 'filth': 3676, '127838': 3677, 'shoved': 3678, 'restaurant': 3679, 'sweep': 3680, 'superman': 3681, 'weare': 3682, 'tonite': 3683, 'growing': 3684, 'pisses': 3685, 'bonnoxxx': 3686, 'swing': 3687, 'wcvb': 3688, 'swerve': 3689, 'heartless': 3690, 'flipping': 3691, 'claiming': 3692, 'species': 3693, 'grandpa': 3694, 'hawk': 3695, 'rod': 3696, 'worldstarfunny': 3697, 'slutty': 3698, 'residinero': 3699, '48': 3700, 'b4': 3701, '32': 3702, '128181': 3703, 'itself': 3704, 'gear': 3705, 'glory': 3706, '5sos': 3707, 'liquor': 3708, 'smiles': 3709, 'studying': 3710, 'picking': 3711, 'jsmart24': 3712, 'belt': 3713, 'mum': 3714, 'orleans': 3715, 'zooyorkinit': 3716, 'discovered': 3717, 'chipotle': 3718, 'cardinals': 3719, 'gorilla': 3720, 'southern': 3721, 'thoughtsofrandy': 3722, 'wh': 3723, 'slippery': 3724, '202sole': 3725, 'charles': 3726, 'unloyal': 3727, 'seansteiger31': 3728, 'frfr': 3729, 'waffle': 3730, 'sink': 3731, 'decent': 3732, 'sa': 3733, 'honkie': 3734, 'anytime': 3735, 'review': 3736, 'wipe': 3737, 'columbus': 3738, 'sport': 3739, 'shiznitt': 3740, 'punching': 3741, 'smelly': 3742, 'hotter': 3743, 'breast': 3744, 'brazil': 3745, 'homegirl': 3746, '64': 3747, 'worthless': 3748, 'otherwise': 3749, 'ross': 3750, '2015': 3751, 'ido': 3752, 'lottery': 3753, 'jim': 3754, 'beyonce': 3755, 'flexin': 3756, 'higher': 3757, 'flowers': 3758, 'kicking': 3759, 'opportunity': 3760, 'lingo': 3761, '128153': 3762, 'holiday': 3763, '127908': 3764, 'kevinthegee': 3765, 'remembers': 3766, '1stblock': 3767, 'severely': 3768, 'benghazi': 3769, 'blows': 3770, 'market': 3771, 'wheeler': 3772, 'kashhh': 3773, 'guessed': 3774, 'fu': 3775, 'jaimescudi': 3776, 'changing': 3777, 'kaycimalynn': 3778, 'darth': 3779, 'drawing': 3780, 'puss': 3781, 'sc': 3782, 'wood': 3783, 'artist': 3784, 'yaremisxo': 3785, 'insane': 3786, 'twins': 3787, 'arms': 3788, 'earn': 3789, 'nephew': 3790, 'lovee': 3791, '128120': 3792, 'pan': 3793, 'cooler': 3794, 'meanwhile': 3795, '128516': 3796, 'culture': 3797, 'troll': 3798, 'cruz': 3799, 'michigan': 3800, 'wing': 3801, 'chrisbrown': 3802, 'stretch': 3803, 'county': 3804, 'cuddle': 3805, 'percent': 3806, 'apples': 3807, 'cord': 3808, 'prettykells': 3809, 'raider': 3810, 'viri': 3811, 'destroying': 3812, '1585': 3813, 'belongs': 3814, 'tend': 3815, 'gays': 3816, 'kills': 3817, 'dumpster': 3818, 'fuccing': 3819, 'lack': 3820, \"she'd\": 3821, 'usa': 3822, 'justice': 3823, 'glo': 3824, 'heissarcastic': 3825, 'chip': 3826, 'knoww': 3827, 'subtweeting': 3828, 'plain': 3829, 'thincc': 3830, 'bacc': 3831, 'westsideflee': 3832, 'ook': 3833, 'ignoring': 3834, 'rise': 3835, 'busboysandpoets': 3836, 'guts': 3837, 'drivers': 3838, 'steezeyflow': 3839, 'levels': 3840, 'language': 3841, 'bm': 3842, 'hoser': 3843, 'ctfuu': 3844, 'mexicans': 3845, 'treasure': 3846, 'breathe': 3847, 'breitbartnews': 3848, 'diego': 3849, '44binko': 3850, '1043215': 3851, 'lastnight': 3852, 'michellemalkin': 3853, 'ed': 3854, 'shitpussiessay': 3855, 'attached': 3856, 'humor': 3857, 'sore': 3858, 'rem': 3859, 'survive': 3860, '9th': 3861, 'inning': 3862, 'htt': 3863, 'jury': 3864, 'moose': 3865, 'shylock': 3866, 'drown': 3867, 'ideas': 3868, 'garza': 3869, 'edges': 3870, 'comfortable': 3871, 'brianlovesass': 3872, 'covering': 3873, 'defeat': 3874, 'democratic': 3875, 'chaplin': 3876, 'playoff': 3877, 'edgarguillenjr': 3878, 'alert': 3879, 'practice': 3880, 'yourdudeferg': 3881, 'redbone': 3882, 'hospital': 3883, 'link': 3884, 'gingerdemoness': 3885, 'sees': 3886, 'nicole': 3887, 'ohio': 3888, 'rims': 3889, 'basedchasen': 3890, 'christian': 3891, 'yay': 3892, 'tampa': 3893, 'thedouch3': 3894, 'excuses': 3895, 'rd': 3896, 'pride': 3897, 'aware': 3898, 'weezy': 3899, 'thedarius': 3900, 'lifes': 3901, 'vivaalakatyy': 3902, 'hire': 3903, 'autocorrect': 3904, 'bloggerboxing': 3905, 'sike': 3906, 'decisions': 3907, 'satan': 3908, 'earlier': 3909, 'timbs': 3910, 'kingjames': 3911, 'ballin': 3912, 'ripvuhsace': 3913, 'manly': 3914, 'francoiskilljoy': 3915, 'ban': 3916, 'cramps': 3917, 'ps4': 3918, 'yer': 3919, 'tone': 3920, 'manziel': 3921, 'coolie': 3922, 'gbe300': 3923, 'greedy': 3924, 'kissed': 3925, 'awards': 3926, 'moan': 3927, 'deny': 3928, 'mitchellll13': 3929, 'enter': 3930, 'veronicagk': 3931, 'cross': 3932, 'bubble': 3933, 'paybacks': 3934, '1sonofyahweh': 3935, 'praise': 3936, 'andy': 3937, 'pinto': 3938, 'gotone': 3939, 'laying': 3940, 'expensive': 3941, 'djfeds': 3942, 'added': 3943, 'leather': 3944, 'ab': 3945, 'gaga': 3946, 'morgansmith': 3947, 'washing': 3948, 'nomo': 3949, 'curl': 3950, '65': 3951, 'damned': 3952, 'lover': 3953, 'woods': 3954, 'coloreds': 3955, 'chips': 3956, 'university': 3957, 'ruined': 3958, 'river': 3959, 'givin': 3960, 'oo': 3961, 'von': 3962, '47': 3963, 'rug': 3964, 'turntup': 3965, 'ncaa': 3966, 'suicide': 3967, 'bathroom': 3968, 'eddie': 3969, 'wishing': 3970, 'rocky': 3971, 'ie': 3972, 'smacking': 3973, 'billion': 3974, 'yas': 3975, 'bullying': 3976, 'poonsoaker': 3977, 'cdfu': 3978, 'cigarette': 3979, 'fixed': 3980, 'gut': 3981, 'blaxican': 3982, 'hart': 3983, 'threats': 3984, 'pepsi': 3985, 'royal': 3986, 'drtruth247': 3987, 'groupie': 3988, 'blowin': 3989, 'daniel': 3990, 'hunt': 3991, 'merica': 3992, 'insult': 3993, 'surgery': 3994, 'maxwell': 3995, 'inbox': 3996, 'ahh': 3997, 'maar': 3998, 'mn': 3999, 'hundred': 4000, 'karlamorenoo': 4001, 'moneydriven': 4002, 'ivanrabago': 4003, 'robbing': 4004, 'perarl': 4005, 'stripping': 4006, 'guilty': 4007, 'aside': 4008, 'js': 4009, 'wacko': 4010, 'ainn': 4011, 'spy': 4012, 'ops': 4013, 'fever': 4014, 'spitting': 4015, 'racial': 4016, 'recent': 4017, 'mustard': 4018, 'rihannahasaids': 4019, 'bananas': 4020, 'westside': 4021, 'elevator': 4022, 'desert': 4023, 'barack': 4024, 'britney': 4025, 'te': 4026, 'rat': 4027, 'homecoming': 4028, 'aim': 4029, 'payne': 4030, 'metal': 4031, 'lab': 4032, 'jiggaboo': 4033, 'thin': 4034, 'bold': 4035, 'expecting': 4036, 'ruin': 4037, 'bffl': 4038, 'keyshawnswag': 4039, 'morons': 4040, '9986': 4041, 'pilot': 4042, 'anger': 4043, 'kb': 4044, 'relate': 4045, 'hill': 4046, 'inconsiderate': 4047, 'conservative': 4048, 'conservatives': 4049, \"'blue\": 4050, \"clues'\": 4051, 'lib': 4052, 'peta': 4053, 'knowin': 4054, 'retweeting': 4055, 'create': 4056, 'denna': 4057, '1041636': 4058, 'wonderful': 4059, 'cuffed': 4060, 'cody': 4061, 'zip': 4062, 'lace': 4063, 'program': 4064, 'large': 4065, 'holes': 4066, 'bullets': 4067, 'msoltan18': 4068, \"5'10\": 4069, 'lesson': 4070, 'rub': 4071, 'chubby': 4072, 'psycho': 4073, 'expose': 4074, 'distance': 4075, '2am': 4076, 'choosing': 4077, 'function': 4078, 'reported': 4079, 'critical': 4080, 'jayy': 4081, 'colors': 4082, 'romney': 4083, 'chad': 4084, 'burning': 4085, 'boon': 4086, 'committed': 4087, 'plenty': 4088, 'glitteredinpink': 4089, 'reach': 4090, 'china': 4091, 'types': 4092, 'thts': 4093, 'naa': 4094, 'useless': 4095, 'thunder': 4096, '128068': 4097, 'suckin': 4098, 'gemini': 4099, 'citizens': 4100, 'image': 4101, 'ae': 4102, 'dusty': 4103, 'ampowerblog': 4104, 'award': 4105, 'ent': 4106, 'mile': 4107, 'moor': 4108, 'ily': 4109, 'mega': 4110, 'uhhh': 4111, \"dm's\": 4112, 'realtalk': 4113, 'jews': 4114, 'classes': 4115, 'taxes': 4116, \"here's\": 4117, 'piersmorgan': 4118, 'nowomanisright': 4119, 'crooked': 4120, 'roach': 4121, 'purse': 4122, 'immature': 4123, 'wojtata': 4124, 'trusting': 4125, 'tommy': 4126, 'motherfucking': 4127, 'cheefpolo': 4128, '55': 4129, 'hearts': 4130, 'nathanndevlin': 4131, 'pls': 4132, 'pole': 4133, 'protest': 4134, 'stressful': 4135, 'driver': 4136, 'handed': 4137, 'harley': 4138, 'throws': 4139, 'rolling': 4140, 'anthem': 4141, '1corinthians126': 4142, 'laundry': 4143, 'mikey': 4144, 'boston': 4145, 'touchdown': 4146, 'vertybstard': 4147, \"daddy's\": 4148, 'bossman': 4149, 'blessed': 4150, 'present': 4151, 'cutting': 4152, 'supporters': 4153, 'demon': 4154, 'ant': 4155, 'roses': 4156, 'sneaky': 4157, 'screw': 4158, 'samzbikowski': 4159, 'basedamerican': 4160, 'minded': 4161, 'raping': 4162, 'countries': 4163, '187xo': 4164, 'bjayblast': 4165, 'jerry': 4166, 'cheer': 4167, 'hurting': 4168, 'valentines': 4169, 'bragging': 4170, 'dez': 4171, 'itscoleharmon': 4172, 'davegetnmoney': 4173, 'berg': 4174, 'bother': 4175, 'cancel': 4176, 'nail': 4177, '1043291': 4178, 'dreaming': 4179, 'shape': 4180, 'macklemore': 4181, 'cont': 4182, 'stockboy': 4183, 'intentions': 4184, 'fredosantana300': 4185, 'bi': 4186, 'fathers': 4187, 'louis': 4188, 'relevant': 4189, '128142': 4190, 'denial': 4191, 'maniac': 4192, 'rebel': 4193, 'doll': 4194, '1000': 4195, 'according': 4196, 'yassss': 4197, '20k': 4198, 'victoria': 4199, 'feminist': 4200, 'zebras': 4201, 'pressure': 4202, 'equal': 4203, 'paradox': 4204, 'peep': 4205, 'wats': 4206, 'witcha': 4207, 'diving': 4208, 'hoodie': 4209, 'handsome': 4210, 'haircut': 4211, 'release': 4212, 'gap': 4213, 'salt': 4214, 'tease': 4215, 'muzzies': 4216, 'tied': 4217, 'congratulations': 4218, 'threaten': 4219, 'clap': 4220, 'delivering': 4221, 'barbod6fcb': 4222, 'treslyon': 4223, 'angels': 4224, 'witness': 4225, 'condoms': 4226, 'memphis': 4227, \"d's\": 4228, 'twerkin': 4229, 'lito': 4230, 'ight': 4231, 'blessjesus': 4232, 'ironsheik': 4233, 'longbongchris': 4234, 'irri': 4235, 'potatoes': 4236, 'papoose': 4237, 'wheel': 4238, 'bandwagon': 4239, 'pokemon': 4240, 'howard': 4241, 'moved': 4242, 'cheaper': 4243, 'elite': 4244, 'waynel': 4245, 'whether': 4246, 'accent': 4247, 'jeff': 4248, 'xbox': 4249, 'itsdesha': 4250, '128683': 4251, 'evolved': 4252, 'biggie': 4253, '128659': 4254, 'sassy': 4255, '45': 4256, 'jaw': 4257, 'suit': 4258, 'touched': 4259, 'xci': 4260, 'dutch': 4261, 'iowahawkblog': 4262, 'trevaughnlg': 4263, 'mayweather': 4264, 'represent': 4265, 'madison': 4266, 'toms': 4267, 'pimpin': 4268, '128152': 4269, 'squak': 4270, 'fully': 4271, 'het': 4272, 'soda': 4273, 'moet': 4274, 'ignorance': 4275, 'ariana': 4276, 'periods': 4277, 'root': 4278, 'afterwards': 4279, 'checking': 4280, 'gtf': 4281, 'lmaooooooo': 4282, 'cooked': 4283, 'meeting': 4284, 'overrated': 4285, 'nawl': 4286, 'reasons': 4287, 'proved': 4288, 'bloody': 4289, 'dems': 4290, 'cod': 4291, 'closer': 4292, 'chanel': 4293, 'ona': 4294, 'fave': 4295, 'nomore': 4296, '128155': 4297, 'devils': 4298, 'alike': 4299, 'migos': 4300, '41395': 4301, 'shocked': 4302, 'pac': 4303, 'dislike': 4304, 'renz360': 4305, 'revenge': 4306, 'defending': 4307, '128221': 4308, 'pt': 4309, 'possessed': 4310, 'meal': 4311, 'golf': 4312, 'faith': 4313, 'hunting': 4314, 'expected': 4315, 'bt': 4316, 'smiley': 4317, 'derekisnormal': 4318, 'elected': 4319, 'vet': 4320, 'deck': 4321, 'string': 4322, 'views': 4323, 'losers': 4324, 'injuns': 4325, 'videos': 4326, '127825': 4327, 'aliens': 4328, 'sh': 4329, 'impossible': 4330, 'heated': 4331, 'ultimate': 4332, 'planes': 4333, 'pissing': 4334, 'crusty': 4335, 'freemolly': 4336, 'girlthatsvonte': 4337, 'tracks': 4338, 'mediacrooks': 4339, 'blocking': 4340, 'whoop': 4341, 'letter': 4342, 'shittin': 4343, 'successful': 4344, 'heels': 4345, '1sleepinggiant': 4346, 'speed': 4347, 'jeezy': 4348, 'climate': 4349, 'genius': 4350, 'reg': 4351, 'mustache': 4352, 'fwm': 4353, 'passing': 4354, 'tyson': 4355, 'stressin': 4356, 'results': 4357, 'htgawm': 4358, 'gross': 4359, 'rts': 4360, 'russian': 4361, 'wan': 4362, 'nbc': 4363, 'murda': 4364, 'thighs': 4365, 'interested': 4366, 'nomeek': 4367, 'justmilz': 4368, 'leanandcuisine': 4369, 'keeping': 4370, '128138': 4371, 'cblaze': 4372, 'poo': 4373, 'mee': 4374, 'circles': 4375, 'hardcore': 4376, \"hasn't\": 4377, 'awkward': 4378, '95': 4379, 'helicopter': 4380, 'download': 4381, 'remix': 4382, 'sounding': 4383, 'fakingg': 4384, 'jimnorton': 4385, 'holder': 4386, 'awe': 4387, 'passion': 4388, '562': 4389, 'kincannon': 4390, 'gta': 4391, 'thousands': 4392, 'society': 4393, 'punched': 4394, 'customers': 4395, 'humbltonbanks': 4396, 'thomas': 4397, 'heavy': 4398, 'ford': 4399, 'fired': 4400, 'truck': 4401, 'senate': 4402, 'greyyygoose': 4403, 'pirates': 4404, 'itsfoodporn': 4405, '1041240': 4406, 'polo': 4407, 'yolo': 4408, 'nvm': 4409, 'tuesday': 4410, 'strength': 4411, 'space': 4412, 'cracked': 4413, 'libra': 4414, '1043351': 4415, 'ballout057': 4416, 'exes': 4417, '128123': 4418, 'fits': 4419, 'wut': 4420, \"trippin'\": 4421, 'dishes': 4422, 'beatin': 4423, 'txt': 4424, 'kings': 4425, 'yuh': 4426, 'stribpol': 4427, 'wigs': 4428, '9918': 4429, 'trippy': 4430, 'whitecholo23': 4431, 'spider': 4432, 'tips': 4433, 'vines': 4434, 'lauren': 4435, 'hall': 4436, 'hurricane': 4437, 'jewjitsugrl': 4438, 'darknight420': 4439, 'october': 4440, 'notice': 4441, 'jbilinovich': 4442, 'teddy': 4443, 'kkk': 4444, 'drops': 4445, 'rivera': 4446, 'jmuggaaa': 4447, 'humans': 4448, 'disgust': 4449, 'payback': 4450, 'essay': 4451, 'amy': 4452, 'fizz': 4453, 'clingy': 4454, 'flye': 4455, 'itsdorry': 4456, 'sweating': 4457, 'button': 4458, 'shark': 4459, 'rnadjorell': 4460, 'liars': 4461, 'extreme': 4462, 'eanahs': 4463, 'bbq': 4464, 'kerry': 4465, 'models': 4466, 'spelling': 4467, 'crown': 4468, '69': 4469, 'gaza': 4470, 'alsina': 4471, '9825': 4472, 'propaganda': 4473, 'concerned': 4474, 'irish': 4475, 'cups': 4476, 'keef': 4477, 'motherfuckin': 4478, 'bracefacee': 4479, 'ahhh': 4480, 'bulls': 4481, 'joeylattime': 4482, '1610': 4483, 'joint': 4484, 'imtoblame': 4485, 'joints': 4486, 'tatted': 4487, 'sticks': 4488, 'jenny': 4489, 'fisting': 4490, 'position': 4491, 'conference': 4492, 'champion': 4493, 'jwill252': 4494, 'southsidevic': 4495, 'alarm': 4496, '128550': 4497, '127882': 4498, 'baltimore': 4499, '128308': 4500, 'millions': 4501, 'toddie': 4502, 'soplayer': 4503, '2kkz': 4504, 'nicer': 4505, 'uber': 4506, 'snatch': 4507, 'flick': 4508, 'tests': 4509, 'leash': 4510, 'byeeeee': 4511, 'desi': 4512, 'pages': 4513, 'wrists': 4514, 'jrise88': 4515, 'explains': 4516, 'blackman38tide': 4517, 'champ': 4518, 'uhh': 4519, 'acknowledge': 4520, 'kittty': 4521, 'jpg': 4522, 'tayscalf': 4523, 'riff': 4524, 'kayliefarmer': 4525, 'showin': 4526, 'twin': 4527, \"shit's\": 4528, 'ericwithahotdad': 4529, 'prefer': 4530, 'channel': 4531, 'sleepy': 4532, 'form': 4533, 'abortion': 4534, 'th': 4535, 'vineforthebyrd': 4536, 'zack': 4537, '128110': 4538, 'whale': 4539, \"a's\": 4540, 'held': 4541, '217emmanuel': 4542, 'mexico': 4543, 'frankiejgrande': 4544, 'begging': 4545, 'seattle': 4546, 'memory': 4547, 'ryancruz': 4548, 'undercover': 4549, 'rarely': 4550, 'traded': 4551, 'informed': 4552, 'cssalazar15': 4553, 'owner': 4554, 'niece': 4555, 'elizabethbatman': 4556, 'sippin': 4557, 'sip': 4558, 'enemy': 4559, 'wallah': 4560, '49ant': 4561, '29': 4562, 'lane': 4563, 'craziest': 4564, 'however': 4565, 'considered': 4566, 'operation': 4567, 'atblackface': 4568, 'nekkohbk': 4569, 'convince': 4570, 'reathie': 4571, 'ozzie': 4572, 'hoping': 4573, 'headphones': 4574, 'prettier': 4575, 'brianholmes2700': 4576, 'obvious': 4577, 'missouri': 4578, 'ut': 4579, 'barrel': 4580, 'brandy': 4581, 'vivalaquintaa': 4582, 'happiness': 4583, 'favor': 4584, 'fukin': 4585, 'palmer': 4586, 'prophzilla': 4587, 'lifetime': 4588, 'curry': 4589, 'swore': 4590, 'brake': 4591, 'dust': 4592, 'anonymous': 4593, 'grandmas': 4594, 'bay': 4595, 'allah': 4596, 'perry': 4597, 'workin': 4598, 'iamkrause': 4599, 'feds': 4600, '7th': 4601, '128547': 4602, 'tryhardsilva': 4603, 'verse': 4604, 'education': 4605, 'dealing': 4606, 'forkicks': 4607, 'nigel': 4608, '128029': 4609, 'stylish': 4610, 'cartel': 4611, 'fold': 4612, 'weapons': 4613, 'defend': 4614, 'lighter': 4615, 'messages': 4616, 'pete': 4617, 'compared': 4618, 'tiffany': 4619, 'ayy': 4620, 'keanabermudez': 4621, 'breathing': 4622, 'soulja': 4623, 'rep': 4624, 'health': 4625, 'officials': 4626, 'recommend': 4627, 'dirrttyydan': 4628, 'mufucka': 4629, 'ga': 4630, '127942': 4631, 'drphildontehue': 4632, 'mocked': 4633, \"he'd\": 4634, 'needy': 4635, 'stood': 4636, 'bats': 4637, 'creep': 4638, 'mc': 4639, 'turkey': 4640, 'ours': 4641, 'jewish': 4642, \"how's\": 4643, 'hips': 4644, 'boa': 4645, 'evan': 4646, 'montea': 4647, 'abusive': 4648, '10060': 4649, 'santa': 4650, 'triggaplease': 4651, 'wiggers': 4652, 'broadcast': 4653, 'themayormatt': 4654, 'bash': 4655, 'soap': 4656, 'gurl': 4657, \"b's\": 4658, 'trigger': 4659, '1041653': 4660, 'peeps': 4661, 'freegeezy17': 4662, 'jcash': 4663, 'helmets': 4664, 'destiny': 4665, 'hunters': 4666, 'crossing': 4667, 'rapping': 4668, 'hired': 4669, 'inner': 4670, 'dril': 4671, 'firemunky': 4672, 'foley': 4673, 'greg': 4674, 'pullin': 4675, 'una': 4676, 'skit': 4677, 'craving': 4678, 'stare': 4679, \"c'mon\": 4680, 'scrappy': 4681, 'officer': 4682, 'jealousy': 4683, 'yesss': 4684, 'nobodycare': 4685, 'villagebae': 4686, 'costumes': 4687, 'bri': 4688, 'degrees': 4689, 'mrpoonsoaker': 4690, 'tanaka': 4691, 'blessing': 4692, 'hidey': 4693, 'anderson4': 4694, 'proseish': 4695, 'precious': 4696, 'sweater': 4697, 'hash': 4698, 'li': 4699, 'bruno': 4700, 'imaginary': 4701, 'unemployed': 4702, 'whos': 4703, 'swim': 4704, 'fitting': 4705, 'papers': 4706, 'cakes': 4707, 'curb': 4708, 'curse': 4709, 'tacalifornia': 4710, 'arigold': 4711, 'reds': 4712, 'singer': 4713, 'nina': 4714, 'paranoid': 4715, 'grey': 4716, 'greet': 4717, 'voted': 4718, 'supported': 4719, 'designer': 4720, 'nerves': 4721, 'abc': 4722, 'banana': 4723, 'lifeasking': 4724, 'grammar': 4725, 'yasssss': 4726, 'peachpapayya': 4727, 'davethebrave1': 4728, \"ya'll\": 4729, 'accidentally': 4730, 'kingcuh': 4731, 'steps': 4732, 'answered': 4733, 'northkorea': 4734, 'invited': 4735, 'denytheprophecy': 4736, 'snoop': 4737, 'kalikushdoll': 4738, 'bam': 4739, 'hypocritical': 4740, 'snitching': 4741, '05professor': 4742, 'mermaid': 4743, 'kickin': 4744, 'attempt': 4745, 'searching': 4746, 'karate': 4747, 'squinty': 4748, 'checks': 4749, 'therefore': 4750, 'daisymcgarr': 4751, 'chicago': 4752, 'larsen': 4753, 'wel': 4754, 'tyrese': 4755, 'bengali': 4756, 'dish': 4757, 'codes': 4758, 'que': 4759, 'dammit': 4760, 'wars': 4761, 'peckerwood': 4762, 'crust': 4763, 'blanket': 4764, 'iv': 4765, 'bryan': 4766, 'illiterate': 4767, 'violence': 4768, 'legendary': 4769, 'tedcruz': 4770, 'drafts': 4771, 'dime': 4772, 'depressed': 4773, 'nevermind': 4774, 'ryancommakerry': 4775, 'license': 4776, 'sources': 4777, 'ink': 4778, 'subject': 4779, 'creatures': 4780, 'soundcloud': 4781, 'secrets': 4782, 'liam': 4783, 'nest': 4784, 'baskgod': 4785, 'chucks': 4786, 'slipping': 4787, 'flexing': 4788, 'defiantly': 4789, 'ak': 4790, 'snip': 4791, 'roast': 4792, 'clan': 4793, 'lmfaooooooo': 4794, 'sour': 4795, '2x': 4796, 'flaws': 4797, 'tables': 4798, 'stock': 4799, 'slave': 4800, 'yee': 4801, 'benefits': 4802, 'gospel': 4803, '22edham': 4804, 'ronnie': 4805, 'hacked': 4806, 'boner': 4807, 'caroline': 4808, 'dolphins': 4809, 'penny': 4810, 'dipped': 4811, 'audience': 4812, 'camo': 4813, 'anthony': 4814, 'closest': 4815, 'solution': 4816, 'stinky': 4817, 'rough': 4818, 'tru': 4819, 'urself': 4820, 'miracle': 4821, 'leak': 4822, 'brings': 4823, 'memories': 4824, 'troymadden': 4825, 'stinks': 4826, \"ho's\": 4827, 'express': 4828, 'allow': 4829, \"avi's\": 4830, 'led': 4831, 'vonteeeeee': 4832, 'dumped': 4833, 'voices': 4834, 'deeper': 4835, 'jj': 4836, 'alan': 4837, 'casillas': 4838, 'fucced': 4839, 'africa': 4840, 'bij': 4841, 'dorsey': 4842, 'wishes': 4843, 'notch': 4844, 'drrrruuuu': 4845, '127925': 4846, 'bubbles': 4847, 'broski5519': 4848, 'olympics': 4849, 'neverforget': 4850, 'suggest': 4851, 'roberts': 4852, 'mcnarstle': 4853, '225': 4854, 'renaissancejay': 4855, 'boxes': 4856, 'angelo': 4857, 'jose': 4858, 'property': 4859, 'mute': 4860, 'spare': 4861, 'robert': 4862, 'kat': 4863, 'theyre': 4864, 'aight': 4865, 'ijs': 4866, 'ripped': 4867, 'rey': 4868, 'dmv': 4869, 'dom': 4870, 'actor': 4871, 'openly': 4872, 'boot': 4873, 'goodbye': 4874, 'goku': 4875, 'mk': 4876, 'disease': 4877, 'climb': 4878, 'corporate': 4879, 'drafted': 4880, 'crossed': 4881, 'cases': 4882, 'slackin': 4883, 'mellie': 4884, 'smdh': 4885, 'austing1135': 4886, 'metroadlib': 4887, 'pbo': 4888, 'somehow': 4889, 'strike': 4890, 'microwave': 4891, 'jumps': 4892, 'reference': 4893, 'professor': 4894, 'agenda': 4895, 'havent': 4896, 'fights': 4897, 'dads': 4898, 'proper': 4899, \"bro's\": 4900, 'violent': 4901, 'trent': 4902, 'jar': 4903, 'jenna': 4904, 'breezyfrmdablok': 4905, 'victory': 4906, 'avoid': 4907, 'spoil': 4908, 'bakegriffin': 4909, 'artists': 4910, 'primary': 4911, 'wreck': 4912, 'ordering': 4913, 'doh': 4914, 'hookers': 4915, 'schuder': 4916, 'yaboylilb': 4917, 'nigguhs': 4918, \"nothin'\": 4919, 'barber': 4920, 'touching': 4921, 'wannabe': 4922, 'saramariewelch': 4923, 'technically': 4924, '128552': 4925, 'sky': 4926, 'shawn': 4927, 'probs': 4928, 'hillary': 4929, 'email': 4930, 'roommate': 4931, 'options': 4932, 'sarcastic': 4933, 'england': 4934, 'commie': 4935, 'schulzgrayson': 4936, 'skank': 4937, 'als': 4938, 'dizzybala': 4939, 'temporary': 4940, 'indycar': 4941, 'moma': 4942, 'tags': 4943, 'snake': 4944, 'rickiroma': 4945, 'thrown': 4946, 'karlos': 4947, 'budah': 4948, 'cumming': 4949, 'mango': 4950, 'iron': 4951, 'lutsen': 4952, 'roaches': 4953, 'nem': 4954, 'versaceezy': 4955, 'allen': 4956, 'drag': 4957, 'hats': 4958, 'arrows': 4959, 'pal': 4960, 'powers': 4961, 'coolest': 4962, 'unicorncowboy': 4963, 'frontin': 4964, '128035': 4965, 'commitment': 4966, 'grease': 4967, '00': 4968, 'dodgers': 4969, 'basedpaco': 4970, '100k': 4971, 'inlove': 4972, 'nuh': 4973, 'rag': 4974, 'ichiro': 4975, 'gatorade': 4976, 'marco': 4977, 'lov3tadaisha': 4978, 'equality': 4979, 'vinyl': 4980, 'fckn': 4981, 'truenovacane': 4982, 'killa': 4983, 'cj': 4984, 'nohoesnextdoor': 4985, 'wnba': 4986, 'creeping': 4987, 'welp': 4988, 'badder': 4989, 'trunk': 4990, 'lolol': 4991, 'ayeeee': 4992, 'braids': 4993, 'overall': 4994, 'bunnies': 4995, 'mask': 4996, \"world's\": 4997, 'killquana': 4998, 'wa': 4999, 'dangerous': 5000, 'shove': 5001, 'rams': 5002, 'rylannwilliams': 5003, 'shmurda': 5004, 'teaching': 5005, '127807': 5006, 'fails': 5007, 'patty': 5008, 'tipsy': 5009, 'hideous': 5010, 'chin': 5011, 'pornhub': 5012, 'imtoomuch': 5013, 'zhugstubble': 5014, 'ads': 5015, 'cycle': 5016, 'cherry': 5017, 'jumping': 5018, 'bridge': 5019, 'judging': 5020, 'carrying': 5021, 'finae': 5022, 'bbw': 5023, 'wb': 5024, '3x': 5025, 'textin': 5026, 'factory': 5027, 'vic': 5028, 'khaki': 5029, 'smd': 5030, 'error': 5031, '1d': 5032, 'lovers': 5033, 'iggyazalea': 5034, 'parent': 5035, 'winston': 5036, 'password': 5037, 'coat': 5038, 'allergies': 5039, 'stoned': 5040, 'cough': 5041, 'pennythegoat': 5042, 'robertson': 5043, 'degenerateartist': 5044, 'witch': 5045, 'bricks': 5046, 'spice': 5047, 'nikowavy': 5048, 'promoters': 5049, 'arrogance': 5050, 'slayed': 5051, 'stars': 5052, 'site': 5053, 'owns': 5054, 'simplysoulful': 5055, 'active': 5056, 'bummy': 5057, 'daughters': 5058, 'midget': 5059, 'website': 5060, 'industry': 5061, 'umm': 5062, 'fill': 5063, 'boxing': 5064, 'irritated': 5065, 'guitar': 5066, 'hoskinsty96': 5067, 'kidd': 5068, 'abu': 5069, 'adolfhibsta': 5070, 'khloe': 5071, 'sings': 5072, 'injuries': 5073, 'ud': 5074, 'morals': 5075, 'stranger': 5076, 'jane': 5077, '2raw': 5078, 'lap': 5079, 'leopard': 5080, 'sidelines': 5081, 'kfc': 5082, 'iffy': 5083, 'religious': 5084, 'blasting': 5085, 'march': 5086, 'assholeofdayear': 5087, 'bugs': 5088, 'ari': 5089, 'lostb0y': 5090, '128663': 5091, 'nile': 5092, 'itsmander': 5093, 'maya': 5094, 'ninja': 5095, 'earned': 5096, 'skanks': 5097, 'sellin': 5098, 'clique': 5099, 'baeelectronica': 5100, 'central': 5101, 'ken': 5102, 'mayne': 5103, 'islamic': 5104, 'unique': 5105, 'compliment': 5106, 'bail': 5107, '1041196': 5108, 'japan': 5109, 'hahahah': 5110, \"somebody's\": 5111, 'iz': 5112, 'witchu': 5113, 'choices': 5114, 'wednesday': 5115, 'brains': 5116, 'corey': 5117, 'grande': 5118, 'commies': 5119, 'jundishes': 5120, 'resist': 5121, 'basis': 5122, 'worrying': 5123, 'casket': 5124, 'ohlawditsniesha': 5125, '14th': 5126, 'rocks': 5127, 'paula': 5128, 'flagrant': 5129, 'idiots': 5130, 'septic': 5131, 'thong': 5132, 'prove': 5133, 'krislisisms': 5134, 'spoiled': 5135, 'cola': 5136, 'charlotte': 5137, 'boof': 5138, 'seemed': 5139, 'created': 5140, 'rounds': 5141, 'bucketsmcnasty': 5142, 'algebra': 5143, 'ghettos': 5144, 'driven': 5145, 'ideology': 5146, 'neighbors': 5147, 'redsox': 5148, '00sexilexi00': 5149, 'champions': 5150, 'puff': 5151, 'marylene58': 5152, 'hearted': 5153, 'darkie': 5154, 'apply': 5155, 'rosestokoe': 5156, 'rosaalbae': 5157, 'morgan': 5158, 'bucks': 5159, 'material': 5160, 'shititslaura': 5161, 'infections': 5162, 'yaw': 5163, 'chu': 5164, 'powder': 5165, '1x': 5166, 'swearing': 5167, 'closeup': 5168, 'badd': 5169, 'kinky': 5170, 'accurate': 5171, 'latinas': 5172, 'fridge': 5173, 'tat': 5174, 'midcityace': 5175, 'proving': 5176, 'comeback': 5177, 'posts': 5178, 'damage': 5179, 'franklin': 5180, 'blaming': 5181, 'bg': 5182, 'males': 5183, 'feat': 5184, 'edit': 5185, 'funeral': 5186, 'cubs': 5187, 'skip': 5188, 'wetter': 5189, 'fade': 5190, 'opens': 5191, 'breezy': 5192, 'shrimp': 5193, 'divorced': 5194, 'elect': 5195, 'politicians': 5196, 'crushed': 5197, 'legends': 5198, 'snacks': 5199, 'quanb24': 5200, 'hustle': 5201, 'homes': 5202, 'picks': 5203, 'trending': 5204, 'cray': 5205, 'alicia': 5206, 'yell': 5207, 'keeper': 5208, 'ashy': 5209, 'urbanengiish': 5210, 'trophy': 5211, 'hav': 5212, 'superior': 5213, 'innocent': 5214, 'realskipbayless': 5215, 'olive': 5216, 'vegetables': 5217, 'newly': 5218, 'destrothenoble': 5219, 'nekolin': 5220, 'wage': 5221, 'obamacare': 5222, 'updated': 5223, 'fighter': 5224, 'per': 5225, \"people's\": 5226, 'lou': 5227, 'spiffy': 5228, 'reward': 5229, 'mymangot2jobs': 5230, 'avila': 5231, 'attend': 5232, 'offering': 5233, 'burgerking': 5234, 'ocean': 5235, 'grillo1': 5236, 'announced': 5237, 'cannon': 5238, 'ofay': 5239, 'gpa': 5240, 'tmacc': 5241, 'gfg': 5242, 'rolls': 5243, 'comedy': 5244, 'dummy': 5245, 'wig': 5246, 'closet': 5247, '128148': 5248, 'landed': 5249, 'arizona': 5250, 'donate': 5251, 'sarah': 5252, 'nine': 5253, 'okc': 5254, 'rubbing': 5255, '8th': 5256, 'tm': 5257, 'harmon': 5258, 'german': 5259, 'apologize': 5260, '127806': 5261, 'gtfoh': 5262, 'fucktyler': 5263, 'abstractlife': 5264, \"'bout\": 5265, 'thatangrynigga': 5266, 'ticket': 5267, 'tim': 5268, 'clark6': 5269, 'woyke': 5270, 'ehh': 5271, '9835': 5272, 'mentality': 5273, 'ccot': 5274, 'mileycyrus': 5275, 'fines': 5276, 'jetsandaswisher': 5277, '72': 5278, 'embarrassing': 5279, 'kyle': 5280, 'forcing': 5281, 'farm': 5282, 'sonia': 5283, 'criticises': 5284, 'clit': 5285, 'pounds': 5286, '150': 5287, 'blakkhoodie': 5288, 'twitchyteam': 5289, 'camel': 5290, 'amen': 5291, 'unnecessary': 5292, 'norris': 5293, 'l1ldebbie': 5294, 'tyleriam': 5295, 'sites': 5296, 'claims': 5297, 'fest': 5298, 'fart': 5299, 'charlierose': 5300, 'jdickerson': 5301, 'gifs': 5302, '127752': 5303, 'queens': 5304, '127938': 5305, 'ast': 5306, 'lanahudsonnn': 5307, 'peckerwoods': 5308, 'mas': 5309, 'joytooawesome': 5310, 'guinan': 5311, 'igiveemnathan': 5312, '128095': 5313, 'imo': 5314, 'oak': 5315, 'guilt': 5316, 'bytches': 5317, 'whilst': 5318, 'kylegotjokes': 5319, 'bruhhh': 5320, '1041243': 5321, 'budahefner74': 5322, '128130': 5323, 'bangers': 5324, 'emma': 5325, 'peanut': 5326, 'trolling': 5327, 'mick': 5328, 'screamin': 5329, 'babes': 5330, 'worms': 5331, 'lrt': 5332, 'unattractive': 5333, 'struggles': 5334, '128570': 5335, 'fabulous': 5336, 'dramatic': 5337, 'bin': 5338, 'yaself': 5339, 'nikko': 5340, 'discordianslip': 5341, 'darkness': 5342, 'joining': 5343, 'pineapples': 5344, 'whiney': 5345, 'viva': 5346, 'bastard': 5347, 'begin': 5348, 'signs': 5349, 'bothered': 5350, 'skills': 5351, 'tipped': 5352, 'verkannt': 5353, 'shikeattike': 5354, 'whattheffacts': 5355, 'genuinely': 5356, 'dino': 5357, 'baltsneakershow': 5358, 'tweetin': 5359, 'alu': 5360, 'thejournalist44': 5361, 'permission': 5362, 'probirdrights': 5363, 'compliments': 5364, 'funnyjulius': 5365, 'a2dao': 5366, 'curly': 5367, 'twisted': 5368, 'sandwiches': 5369, 'brendacoyt': 5370, 'shovel': 5371, 'labor': 5372, 'referring': 5373, 'hispanic': 5374, 'eternalhbic': 5375, 'talker': 5376, 'wolf': 5377, 'mngop': 5378, 'ebony': 5379, 'eagle': 5380, 'consistent': 5381, 'retired': 5382, 'hitler': 5383, 'lifeof': 5384, 'lmfaoooooo': 5385, \"ol'\": 5386, 'eevee': 5387, 'flirt': 5388, 'station': 5389, '2012': 5390, 'cryin': 5391, 'curls': 5392, 'poly': 5393, 'screwed': 5394, 'prices': 5395, 'titles': 5396, 'spicy': 5397, 'rikki': 5398, 'wifi': 5399, 'opposite': 5400, 'latino': 5401, 'delusional': 5402, 'repeat': 5403, 'notes': 5404, 'changes': 5405, 'scrolling': 5406, 'seniors': 5407, 'cruise': 5408, 'lawd': 5409, 'tropicalblanket': 5410, 'tigers': 5411, 'injury': 5412, 'slam': 5413, 'crybaby': 5414, 'amanda': 5415, 'sec': 5416, 'knicks': 5417, 'west305': 5418, '12290': 5419, 'harris': 5420, 'mutt': 5421, 'thumb': 5422, 'noodles': 5423, 'victorsmith90': 5424, 'vick': 5425, 'randomly': 5426, 'logo': 5427, 'kellienehls': 5428, 'griff': 5429, '2013': 5430, \"mcdonald's\": 5431, 'td': 5432, 'ratata': 5433, 'earrings': 5434, 'rant': 5435, 'quotes': 5436, 'koredeb9': 5437, 'nino': 5438, 'che': 5439, 'walker': 5440, 'standard': 5441, 'boney': 5442, 'herd': 5443, 'rhodes': 5444, 'kim92493': 5445, 'pies': 5446, 'sirhampton': 5447, 'cthagod': 5448, 'razor': 5449, 'husband': 5450, \"that'll\": 5451, '128587': 5452, 'oranges': 5453, 'miilkkk': 5454, 'ciara': 5455, 'chop': 5456, \"everybody's\": 5457, '1dittlinger': 5458, 'screamed': 5459, 'writes': 5460, 'choked': 5461, 'homosexual': 5462, 'aux': 5463, '215': 5464, 'rody': 5465, 'cashier': 5466, 'mornin': 5467, 'monster': 5468, 'leslieeeixta': 5469, 'mid': 5470, 'troops': 5471, '1577': 5472, 'custody': 5473, 'slightly': 5474, 'harm': 5475, 'lilthickgawdess': 5476, 'france': 5477, 'grave': 5478, 'zoo': 5479, 'foodpornsx': 5480, 'nosey': 5481, 'freddiegibbs': 5482, 'wearin': 5483, 'deses': 5484, 'dumber': 5485, '20tolife': 5486, 'sunset': 5487, 'snail': 5488, 'vets': 5489, 'towel': 5490, 'humanity': 5491, 'cay': 5492, 'trees': 5493, 'jordan536633': 5494, 'jaydillz': 5495, 'mlk': 5496, 'unbelievable': 5497, 'downtown': 5498, 'screams': 5499, 'dej': 5500, 'loaf': 5501, 'rb': 5502, 'ooo': 5503, 'dicc': 5504, 'members': 5505, 'yoself': 5506, 'policy': 5507, 'holds': 5508, 'forgetting': 5509, 'split': 5510, 'dnumberbefore2': 5511, 'laughin': 5512, 'tanning': 5513, 'rows': 5514, 'pufntrees': 5515, 'bean': 5516, 'exotic': 5517, 'duddy': 5518, 'spine': 5519, 'ability': 5520, 'teens': 5521, 'delicious': 5522, 'charger': 5523, 'cure': 5524, 'soooooo': 5525, 'misses': 5526, 'fatal': 5527, 'manager': 5528, 'wah': 5529, 'sounded': 5530, 'reminds': 5531, 'fxck': 5532, 'trifling': 5533, 'success': 5534, 'youu': 5535, '180': 5536, 'capotoheaven': 5537, 'stopping': 5538, 'stayed': 5539, 'gangster': 5540, 'suburban': 5541, '728': 5542, \"y'all's\": 5543, 'hobbies': 5544, 'tap': 5545, 'robinson': 5546, 'ricky': 5547, 'mj': 5548, 'iamadamg': 5549, 'presence': 5550, 'paki': 5551, 'complexmag': 5552, 'eem': 5553, 'waving': 5554, 'wussup': 5555, 'rockprincess818': 5556, 'progressive': 5557, 'nosfiend215': 5558, 'raff': 5559, 'hers': 5560, 'nugget69': 5561, 'danusaur': 5562, 'hitman': 5563, 'itch': 5564, 'bigshaadswerver': 5565, 'freezing': 5566, 'lahhh': 5567, 'toddkincannon': 5568, 'canadian': 5569, 'catchin': 5570, 'std': 5571, 'niggga': 5572, 'yeiiowbang': 5573, 'demand': 5574, 'backwards': 5575, 'perspective': 5576, 'deleting': 5577, 'omar': 5578, 'sperm': 5579, 'rocked': 5580, 'nuteila': 5581, \"zone'nn\": 5582, 'ecstasy': 5583, 'justinbieber': 5584, 'groovy': 5585, 'butthurt': 5586, 'vampires': 5587, 'spineless': 5588, \"pussy's\": 5589, 'minnesota': 5590, 'cosby': 5591, 'flyoutchase': 5592, 'bada': 5593, 'nikes': 5594, 'chandailbailey': 5595, 'hunturpls': 5596, 'digging': 5597, \"rally's\": 5598, 'lizard': 5599, 'dolo': 5600, 'rangers': 5601, 'gardner': 5602, 'scandalabc': 5603, 'aaron': 5604, 'x2': 5605, 'halfassed': 5606, 'rescue': 5607, 'disrupts': 5608, 'banking': 5609, 'spacejam': 5610, 'teeg': 5611, 'hangover': 5612, 'jemelehill': 5613, 'shamargothoes': 5614, 'projects': 5615, 'wyoming': 5616, 'hardy': 5617, 'election2014': 5618, 'whoelsebutkey': 5619, '420': 5620, 'discover': 5621, 'net': 5622, 'waar': 5623, 'denkt': 5624, 'weer': 5625, 'itssongoku': 5626, 'h0rheyd': 5627, 'topic': 5628, 'tater': 5629, 'baes': 5630, 'va': 5631, 'wheels': 5632, 'jorge': 5633, 'assault': 5634, 'trains': 5635, 'stamp': 5636, 'dalton': 5637, 'ryann': 5638, 'nigg': 5639, 'whippin': 5640, 'elise': 5641, 'sho': 5642, 'subtweets': 5643, 'kansas': 5644, 'stonisnipezz': 5645, 'boobah': 5646, 'monogamous': 5647, 'victim': 5648, 'adopted': 5649, 'remy': 5650, 'prayers': 5651, 'pitcher': 5652, 'ariaunadavon': 5653, 'alcoholism': 5654, 'tnasty4teen': 5655, 'faker': 5656, 'ahora': 5657, 'hubby': 5658, 'reportedly': 5659, 'versa': 5660, 'hornyfacts': 5661, 'mallymal': 5662, 'pecan': 5663, 'dryer': 5664, 'hulk': 5665, '128127': 5666, 'pounded': 5667, 'seven': 5668, 'drowned': 5669, 'funnyorfact': 5670, 'femaies': 5671, 'summerdawn': 5672, 'panthers': 5673, 'granny': 5674, 'gucci1017': 5675, 'mommajjojo': 5676, 'tastemygayness': 5677, 'stroke': 5678, 'pooted': 5679, 'muthafuckin': 5680, 'thuggin': 5681, 'sneakers': 5682, 'nearly': 5683, 'brotherbill7': 5684, 'simonson': 5685, 'gentle': 5686, 'sort': 5687, 'popcorn': 5688, 'prg': 5689, \"they've\": 5690, 'meh': 5691, 'necks': 5692, 'getcho': 5693, 'lolz': 5694, 'requirement': 5695, 'traveling': 5696, 'uggs': 5697, 'vikkinosecrets': 5698, 'seein': 5699, 'weidie1211': 5700, 'filet': 5701, 'mignon': 5702, 'buttons': 5703, 'sharpie': 5704, 'triple': 5705, 'xp': 5706, 'nagging': 5707, 'diabetes': 5708, 'sleepover': 5709, 'edouglas528': 5710, 'earl': 5711, 'sarahpalinusa': 5712, 'approve': 5713, 'ashley': 5714, 'harassing': 5715, 'figuring': 5716, 'getmeauxmoney': 5717, 'fuckers': 5718, 'ladyvodkax': 5719, \"ma'am\": 5720, 'wardrobe': 5721, 'counter': 5722, 'hung': 5723, 'fuckkk': 5724, 'brandnewandrew': 5725, 'hilariousbubble': 5726, 'kimkardashian': 5727, 'kanyewest': 5728, 'barryclerjuste': 5729, 'suffer': 5730, 'gregabbott': 5731, 'letsargueboxing': 5732, 'lube': 5733, 'dearleader10': 5734, 'reich': 5735, 'wu': 5736, 'tang': 5737, '98': 5738, 'fukn': 5739, 'tronkitty': 5740, '128158': 5741, 'meek': 5742, 'jeremy': 5743, 'josephtheflyguy': 5744, 'murica': 5745, 'asl': 5746, 'shown': 5747, 'syndrome': 5748, 'mydickiscalled': 5749, 'stupidity': 5750, 'limit': 5751, 'faceyspace': 5752, 'imjustceej': 5753, 'drc': 5754, 'slits': 5755, 'envy': 5756, 'passes': 5757, 'wi': 5758, 'invisible': 5759, 'painful': 5760, 'patriots': 5761, 'possession': 5762, 'sat': 5763, 'kit': 5764, 'miguel': 5765, 'wells': 5766, 'oldirtyjesus': 5767, 'watchu': 5768, 'puke': 5769, 'carne': 5770, 'refs': 5771, 'wes': 5772, 'foam': 5773, 'dripping': 5774, 'iadorewomen': 5775, 'couples': 5776, 'unfortunately': 5777, 'barbie': 5778, 'income': 5779, 'nuthin': 5780, '2a': 5781, 'nurse': 5782, 'crisis': 5783, 'gab': 5784, 'prince': 5785, 'fran': 5786, 'eli': 5787, 'youngricooo': 5788, 'vodkapapixo': 5789, 'jacklynannn': 5790, 'dory': 5791, 'nay': 5792, 'drmalvo': 5793, 'windturbines': 5794, 'compare': 5795, 'phat': 5796, 'phillytheboss': 5797, 'erikaj00': 5798, 'hazel': 5799, 'dot': 5800, 'spurs': 5801, 'ringing': 5802, 'mash': 5803, 'kimw16': 5804, 'butch': 5805, 'hardest': 5806, 'ortiz': 5807, 'burns': 5808, 'dresses': 5809, 'ceo': 5810, 'jaykelz': 5811, 'yacht': 5812, 'mountain': 5813, 'designed': 5814, 'annoy': 5815, 'turndowndre': 5816, 'kushdaddycorr': 5817, 'trob': 5818, 'automatic': 5819, 'whoops': 5820, 'basement': 5821, 'yfly23': 5822, 'yellows': 5823, 'rand': 5824, 'nickiminaj': 5825, 'cheesy': 5826, 'mocking': 5827, 'religion': 5828, 'curvables': 5829, 'piercings': 5830, 'webad': 5831, 'wepretty': 5832, 'gayvegas': 5833, 'louisville': 5834, 'cos': 5835, '800': 5836, 'betting': 5837, 'protests': 5838, 'lyssa': 5839, 'gates': 5840, 'thatboyado': 5841, 'menu': 5842, 'domes': 5843, 'november': 5844, 'vontethekidd': 5845, 'mommie': 5846, 'doesn': 5847, 'olivialuu3': 5848, 'victor': 5849, 'section': 5850, 'grant': 5851, 'lettherainefall': 5852, 'scott25': 5853, 'hows': 5854, 'wifed': 5855, 'uncivilized': 5856, 'jonez': 5857, 'correctly': 5858, 'lion': 5859, 'apologizing': 5860, 'betawards': 5861, 'col': 5862, 'separate': 5863, 'fleebiscuit': 5864, 'sits': 5865, 'stash': 5866, 'moral': 5867, 'ty': 5868, 'urbasicyabish': 5869, 'madden': 5870, 'depressing': 5871, 'drippin': 5872, 'jst': 5873, 'healthy': 5874, 'prez': 5875, 'cost': 5876, 'slayerific13': 5877, 'dairy': 5878, 'justdoitslow': 5879, 'smaller': 5880, 'lex': 5881, 'nerissaloren': 5882, 'thachosenkid321': 5883, 'cell': 5884, '90s': 5885, 'munchies': 5886, 'mskeekee90s': 5887, 'ndyy': 5888, 'amandabynes': 5889, 'champagne': 5890, 'nae': 5891, 'bombs': 5892, 'loosing': 5893, 'forced': 5894, 'thi': 5895, 'batch': 5896, 'fukkntyler': 5897, 'hotel': 5898, 'pleasure': 5899, \"must've\": 5900, 'constitution': 5901, 'anastacia': 5902, 'sheesh': 5903, '40oz': 5904, 'gurley': 5905, 'dana': 5906, 'rahshauna': 5907, 'oregon': 5908, 'wr': 5909, 'flesh': 5910, 'frizzle18': 5911, 'spooks': 5912, 'flaming': 5913, 'wisdom': 5914, 'severed': 5915, 'graphic': 5916, 'mythical': 5917, 'griffin': 5918, 'denver': 5919, 'tumblr': 5920, 'yeswedid': 5921, 'figured': 5922, 'tacky': 5923, 'tiffnasty': 5924, 'guwop': 5925, 'maaan': 5926, 'sammytbh': 5927, 'kris': 5928, 'acl': 5929, 'chosen': 5930, 'fufu': 5931, 'thus': 5932, 'hendrixoxo': 5933, 'flooding': 5934, 'danger': 5935, 'shutcho': 5936, 'hurricanesensei': 5937, 'maycie32': 5938, 'label': 5939, 'pudding': 5940, 'dies': 5941, 'tonk': 5942, 'evening': 5943, 'causing': 5944, 'nascar': 5945, 'whatsashirt': 5946, 'dean': 5947, 'amendment': 5948, 'dontkiara': 5949, 'criminals': 5950, 'kstar': 5951, 'saiyan': 5952, 'fourth': 5953, \"j's\": 5954, '100granhman': 5955, 'tackle': 5956, 'remains': 5957, 'nintendo': 5958, 'colemcdowell2': 5959, 'bossy': 5960, 'cuauhtli02': 5961, 'blankets': 5962, 'brendagisselca': 5963, 'witout': 5964, 'imtrillasfuk': 5965, 'juicygenie': 5966, 'ivan': 5967, 'involved': 5968, 'bestf': 5969, 'jackson': 5970, 'iii': 5971, 'explaining': 5972, 'jerrilyn71': 5973, 'broner': 5974, 'vbomb20': 5975, 'highschool': 5976, 'madd': 5977, 'poe': 5978, 'bbc': 5979, 'worlds': 5980, 'blk': 5981, 'whisper': 5982, 'ting': 5983, 'rahleefranklin': 5984, 'apologies': 5985, 'rishaawilliams': 5986, 'ilikecats74': 5987, 'sizzurp': 5988, 'bootyacid': 5989, 'joseline': 5990, 'grapes': 5991, 'fists': 5992, 'nowplaying': 5993, '1069thearrow': 5994, 'r5wuxa9jb6': 5995, 'inspiring': 5996, 'cameras': 5997, 'fooled': 5998, 'gung': 5999, 'afghanistan': 6000, 'multi': 6001, 'gawd': 6002, 'thehighestpeak': 6003, 'hermoufpiece': 6004, 'icy': 6005, 'nominee': 6006, \"baker's\": 6007, 'pat': 6008, 'abs': 6009, 'arvindkejriwal': 6010, 'interviews': 6011, 'skylar': 6012, 'lmfaoooooooooo': 6013, 'contract': 6014, 'lyfe': 6015, 'jennings': 6016, 'immediately': 6017, 'snoleezey801': 6018, 'grinding': 6019, '1nonlykeisha': 6020, 'stressed': 6021, 'panda': 6022, 'hag': 6023, 'shid': 6024, 'egypt': 6025, 'shaft': 6026, 'ummm': 6027, 'tre': 6028, 'shock': 6029, 'govt': 6030, 'idisrespecthoez': 6031, '127880': 6032, 'jameis': 6033, 'longlivechris': 6034, 'itskingdee': 6035, 'daddies': 6036, 'svenstweet': 6037, 'dillema': 6038, 'wltrrr': 6039, 'lor': 6040, 'dex': 6041, 'location': 6042, 'prize': 6043, 'dayum': 6044, 'relief': 6045, 'photoshop': 6046, 'cable': 6047, 'mccann': 6048, 'although': 6049, 'russel': 6050, 'fingered': 6051, 'meeeesh1395': 6052, 'todays': 6053, 'spiked': 6054, 'nailed': 6055, '3am': 6056, 'fallen': 6057, 'recap': 6058, '193': 6059, 'quina': 6060, 'jap': 6061, 'huhwhatsacondom': 6062, 'dro': 6063, 'drum': 6064, 'armor': 6065, 'tire': 6066, 'longest': 6067, 'vraag': 6068, 'uhm': 6069, 'poster': 6070, 'gentleman': 6071, 'bellaangeletti': 6072, 'abused': 6073, 'liidurk': 6074, 'directv': 6075, 'properly': 6076, 'dunked': 6077, 'disgraceful': 6078, 'brutal': 6079, 'swept': 6080, 'booth': 6081, 'skinnybee': 6082, 'zaneisclasker': 6083, 'unreal': 6084, 'tomcatstraight': 6085, 'maxon': 6086, 'maxoff5': 6087, 'therealalonig': 6088, 'dignifiedpurity': 6089, 'weights': 6090, 'rack': 6091, 'mis': 6092, 'uninformed': 6093, 'latest': 6094, 'bastards': 6095, 'silent': 6096, 'publicly': 6097, 'norapist': 6098, 'kwagiheath': 6099, 'lava': 6100, 'kattwilliams': 6101, 'whatupag': 6102, 'wax': 6103, 'visiting': 6104, 'jumbotron': 6105, 'salon': 6106, 'creator': 6107, 'pickles': 6108, 'theory': 6109, 'acceptable': 6110, 'plmpcess': 6111, 'thadisreal': 6112, 'dealer': 6113, 'phishlicia': 6114, 'jade': 6115, 'jakesiwy': 6116, 'panera': 6117, 'onna': 6118, 'ikesizzle': 6119, 'antonio': 6120, 'mvp': 6121, 'activities': 6122, 'boozer': 6123, 'beenbasedb': 6124, 'hogging': 6125, 'itsyour': 6126, 'chili': 6127, 'peppers': 6128, 'drunksixthgrade': 6129, 'direction': 6130, 'fucktravonn': 6131, 'erinscafe': 6132, 'memes': 6133, 'arlisdonotchill': 6134, 'subway': 6135, 'heavily': 6136, 'offense': 6137, 'throats': 6138, 'lml': 6139, 'rj': 6140, 'entirely': 6141, 'pimping': 6142, 'upgrade': 6143, 'nigeria': 6144, 'uncalled': 6145, 'tunchi': 6146, 'sellout': 6147, 'vocativ': 6148, 'marcfoor4': 6149, 'drew': 6150, 'salmon': 6151, 'finale': 6152, 'carlton': 6153, 'thisisyoungdj': 6154, 'raiders': 6155, 'tornado': 6156, 'davidam': 6157, 'downstairs': 6158, 'sides': 6159, 'suspect': 6160, 'saltine': 6161, 'frosting': 6162, 'nate': 6163, 'relationshipgoals': 6164, 'chasin': 6165, 'scoop': 6166, 'shefeelsd': 6167, 'participating': 6168, 'cantbelocal': 6169, 'avoiding': 6170, '10068': 6171, 'daijahshardaee': 6172, 'thecrownedhead': 6173, 'maker': 6174, 'patron': 6175, 'auto': 6176, 'mlg': 6177, 'lha': 6178, 'sav': 6179, 'faget': 6180, 'youknowmaxwell': 6181, 'clue': 6182, 'tons': 6183, 'frustrated': 6184, 'terrorism': 6185, 'sweaters': 6186, 'bella': 6187, 'skirt': 6188, 'cleats': 6189, 'cooking': 6190, 'slings': 6191, 'shaking': 6192, 'islam': 6193, 'playen': 6194, 'blacknerdjade': 6195, 'latry': 6196, 'indian': 6197, 'cheerios': 6198, 'errybody': 6199, 'notevanlarkin': 6200, 'mississippi': 6201, 'finest': 6202, 'scalp': 6203, 'olivia': 6204, '28': 6205, 'native': 6206, 'httr': 6207, 'valentine': 6208, 'breesindacut': 6209, 'bryant': 6210, 'charlies': 6211, 'artistdata': 6212, 'playa': 6213, 'pacmanjonez': 6214, 'garcialaura': 6215, 'downloaded': 6216, \"you's\": 6217, 'tapes': 6218, 'independent': 6219, 'celebrities': 6220, 'oakland': 6221, 'fuccin': 6222, '9728': 6223, 'caelang15': 6224, 'psh': 6225, 'boil': 6226, 'midniteboss': 6227, 'study': 6228, 'penguins': 6229, 'crank': 6230, 'elder': 6231, 'postprettypussy': 6232, 'organic': 6233, 'ufuckin': 6234, 'stackzz': 6235, 'dissing': 6236, 'soni99a': 6237, 'matters': 6238, '10052': 6239, 'genuine': 6240, 'budden': 6241, 'fallin': 6242, 'bun': 6243, 'maple': 6244, 'goodness': 6245, 'authority': 6246, 'thewalkingdead': 6247, 'practically': 6248, 'alfredo': 6249, 'susie': 6250, 'massachusetts': 6251, 'dailysexsupply': 6252, 'mullet': 6253, 'correction': 6254, 'partying': 6255, 'havemercyyy': 6256, 'sheets': 6257, 'gtta': 6258, 'h8uhoes': 6259, 'sized': 6260, 'whalelookyhere': 6261, 'pa': 6262, 'hairs': 6263, 'xavier': 6264, 'hooks': 6265, 'announce': 6266, 'tupactopus': 6267, 'boy420': 6268, 'brb': 6269, 'leftover': 6270, 'karlie': 6271, 'rudy': 6272, 'shainarakia': 6273, 'offer': 6274, '128164': 6275, 'specifically': 6276, 'neo': 6277, 'feathers': 6278, 'kc': 6279, 'lickin': 6280, 'witcho': 6281, 'uncomfortable': 6282, 'rayiopez': 6283, 'approaching': 6284, 'knob': 6285, 'saint': 6286, 'latte': 6287, 'bicep': 6288, 'verbally': 6289, 'abrupt': 6290, 'fro': 6291, 'tedofficialpage': 6292, 'flow': 6293, 'prevent': 6294, 'maxin': 6295, 'betha': 6296, 'sophomore': 6297, 'bol': 6298, 'rev': 6299, 'december': 6300, 'shaq': 6301, 'deaf': 6302, 'alexadelsanter': 6303, 'messed': 6304, 'grindin': 6305, 'header': 6306, 'poochda63': 6307, 'gatewood': 6308, 'issued': 6309, 'economy': 6310, 'cargos': 6311, 'godsmack': 6312, 'lowlife': 6313, '128566': 6314, 'served': 6315, 'tooracist': 6316, 'whatchu': 6317, 'pleased': 6318, 'dicked': 6319, 'strips': 6320, 'doctors': 6321, 'greene': 6322, 'itchin': 6323, 'promises': 6324, 'backup': 6325, 'grape': 6326, 'kool': 6327, 'hoodrat': 6328, 'events': 6329, '94': 6330, 'hawn24': 6331, 'security': 6332, 'homophobic': 6333, 'jacob': 6334, 'flows': 6335, 'mosquito': 6336, 'excitement': 6337, 'july': 6338, 'thejokerxo': 6339, 'mattress': 6340, 'charity': 6341, 'dogging': 6342, 'fought': 6343, 'ti': 6344, 'albums': 6345, 'childishcudl': 6346, 'beginning': 6347, 'magssca': 6348, 'puppy': 6349, 'hateful': 6350, 'jennifer': 6351, 'mccarthy': 6352, 'weekends': 6353, 'hobsondarlene': 6354, 'mommy': 6355, 'hedge': 6356, 'blades': 6357, 'nigerian': 6358, 'friendship': 6359, 'lasts': 6360, 'quickly': 6361, 'cornbread': 6362, 'honesty': 6363, 'coughing': 6364, 'chvmpagne': 6365, 'grades': 6366, 'matty': 6367, 'riders': 6368, 'ted': 6369, 'perform': 6370, 'vicd713ent': 6371, 'mewtwo': 6372, 'scratch': 6373, 'imik': 6374, 'wonders': 6375, 'lined': 6376, 'electric': 6377, 'lent': 6378, 'drunken': 6379, 'creepgoddess': 6380, 'foxx': 6381, 'diff': 6382, 'taylorcaniff': 6383, 'jtrimbl3': 6384, 'loses': 6385, 'forth': 6386, 'supporter': 6387, 'violets': 6388, 'madonna': 6389, 'chichi': 6390, 'iiak': 6391, 'ipod': 6392, 'retirement': 6393, 'mains': 6394, 'riri22barbie': 6395, 'yessssss': 6396, 'instant': 6397, 'pity': 6398, 'flyest': 6399, 'impressed': 6400, 'mizzcreme': 6401, 'lower': 6402, '44': 6403, 'rocking': 6404, '1043357': 6405, 'frat': 6406, 'dough': 6407, '128089': 6408, 'geez': 6409, 'mentioned': 6410, 'irs': 6411, 'stiff': 6412, 'cage': 6413, 'scroll': 6414, 'motivation': 6415, 'donald': 6416, 'sterling': 6417, 'cuhz': 6418, 'nashville': 6419, 'grabs': 6420, 'lips57': 6421, 'stops': 6422, 'facetime': 6423, 'wicked': 6424, 'vile': 6425, 'speaks': 6426, '128114': 6427, 'giggles': 6428, 'skinned': 6429, 'blizzylc': 6430, 'flew': 6431, 'naughty': 6432, 'hopping': 6433, 'iowa': 6434, 'ton': 6435, 'significant': 6436, 'trix2343': 6437, 'manzan0': 6438, 'offend': 6439, 'starving': 6440, 'lemon': 6441, 'regret': 6442, 'carpet': 6443, 'soldiers': 6444, 'executed': 6445, 'aa': 6446, 'dun54': 6447, 'debating': 6448, 'verseunanswered': 6449, 'hrs': 6450, 'toppy': 6451, 'woodchuck20': 6452, 'dallyjackson': 6453, 'motherofbraylon': 6454, 'uchiha': 6455, 'sasuke': 6456, 'shaving': 6457, 'drummerkid0328': 6458, 'banned': 6459, '128562': 6460, 'follows': 6461, 'waynedupreeshow': 6462, 'hussein': 6463, 'fri': 6464, 'nl': 6465, 'rad': 6466, 'dum': 6467, 'itskiaraaaa': 6468, 'rider': 6469, 'grows': 6470, 'paradise': 6471, 'nyjusdntgaf': 6472, 'qaeda': 6473, 'lure': 6474, 'sang': 6475, 'tuna': 6476, 'pau': 6477, 'tide': 6478, 'kayla': 6479, 'priorities': 6480, 'degree': 6481, 'avis': 6482, 'elissa': 6483, 'desire': 6484, 'fills': 6485, 'zoe': 6486, 'woah': 6487, 'smooth': 6488, 'unions': 6489, 'esn': 6490, 'derekjeter': 6491, 'makem': 6492, 'lads': 6493, 'include': 6494, 'aww': 6495, 'spots': 6496, 'among': 6497, 'lizabeth': 6498, 'daddy17': 6499, '07': 6500, 'tower': 6501, 'writing': 6502, 'dash': 6503, 'kikes': 6504, 'jacobbbacker': 6505, 'slides': 6506, 'iight': 6507, 'inhale': 6508, 'yadirasarmiento': 6509, 'pieces': 6510, 'ginger': 6511, 'depot': 6512, 'saxon': 6513, 'cocksucker': 6514, 'negativity': 6515, 'blog': 6516, 'jimachterfeld': 6517, 'vomit': 6518, 'b0ss561': 6519, 'branninwgl': 6520, 'darwinjames125': 6521, 'vibing': 6522, 'spics': 6523, 'lasted': 6524, 'ajalapilgrim': 6525, 'cryystalina': 6526, '500': 6527, 'ties': 6528, 'moses': 6529, 'workers': 6530, 'chaser': 6531, 'cani': 6532, 'jigga': 6533, 'trestiffer': 6534, '127809': 6535, '127813': 6536, 'adidas': 6537, 'soggy': 6538, 'strawberry': 6539, 'xenoss': 6540, 'dmx': 6541, 'patch': 6542, 'bradley': 6543, 'hahahahahaha': 6544, 'thejadednyer': 6545, 'aj': 6546, 'swagggg': 6547, 'shelby': 6548, 'alien': 6549, 'wedont': 6550, 'smokereg': 6551, 'contain': 6552, 'racists': 6553, 'fools': 6554, 'trinna': 6555, 'arent': 6556, 'keyshbechillin': 6557, 'diary': 6558, 'recruiting': 6559, 'finishing': 6560, 'tk': 6561, 'racks': 6562, 'lupe': 6563, 'overly': 6564, 'moe': 6565, 'peoples': 6566, 'billy': 6567, 'answering': 6568, 'wetbacks': 6569, 'descended': 6570, 'european': 6571, 'gutter': 6572, 'secondary': 6573, 'sedsince81': 6574, 'bumpin': 6575, 'democracy': 6576, 'mudda': 6577, 'toss': 6578, 'bleacherreport': 6579, 'kobebryant': 6580, 'jumper': 6581, '127829': 6582, 'tan1aaa': 6583, 'peachdulce': 6584, 'dragged': 6585, 'spraying': 6586, 'ayyy': 6587, 'pouyalilpou': 6588, 'poke': 6589, 'skippy': 6590, 'jet': 6591, 'pony': 6592, 'tech': 6593, 'irony': 6594, 'yuck': 6595, 'supporting': 6596, 'lessonswithkate': 6597, 'ou': 6598, 'reagan': 6599, 'gopblackchick': 6600, 'tristine214': 6601, 'iamshiraq': 6602, 'stressing': 6603, 'freddy': 6604, 'uncivilised': 6605, 'smurf': 6606, 'ras': 6607, 'rays': 6608, 'fee': 6609, '85': 6610, 'upstate': 6611, 'palomino52': 6612, 'horn': 6613, 'dif': 6614, 'tay': 6615, 'process': 6616, 'awill': 6617, '2reckless': 6618, 'jstarrtweets': 6619, 'stephen': 6620, 'wouldn': 6621, 'judges': 6622, 'personalities': 6623, 'yalls': 6624, 'amount': 6625, 'heauxmersimpson': 6626, 'mills02': 6627, 'photos': 6628, 'ruth': 6629, 'gehrig': 6630, 'innings': 6631, 'dunkin': 6632, 'marilyn': 6633, 'vuitton': 6634, 'avatar': 6635, 'darealalexinla': 6636, 'rodriguez5': 6637, 'goodmorning': 6638, 'chickencoleman': 6639, '9889': 6640, 'fuccn': 6641, 'karon': 6642, \"o's\": 6643, 'mocha': 6644, 'laceeybugg': 6645, 'sirrocobama': 6646, 'littlenamms': 6647, 'cho': 6648, '2016': 6649, '3b': 6650, 'coldest': 6651, 'ibarra95': 6652, 'handful': 6653, 'bumped': 6654, 'jackie': 6655, 'sweats': 6656, 'prime': 6657, 'louiev': 6658, 'rumors': 6659, 'chykalet': 6660, 'simons': 6661, 'uglyassayekay': 6662, 'scaring': 6663, 'revisit': 6664, 'michhelleashley': 6665, 'tetherball': 6666, 'arianagrande': 6667, 'caddy': 6668, 'knee': 6669, 'network': 6670, 'showmeatittie': 6671, 'plug': 6672, 'laughed': 6673, 'trayvon': 6674, 'source': 6675, 'emanuel': 6676, 'volunteer': 6677, 'palin': 6678, 'orioles': 6679, 'roads': 6680, '127922': 6681, 'acid': 6682, 'bragadayjah': 6683, 'adults': 6684, 'kwest': 6685, 'harden': 6686, 'mufuckas': 6687, 'ayee': 6688, 'macmiller': 6689, 'baller': 6690, 'thenna': 6691, 'ditch': 6692, 'threat': 6693, 'gene': 6694, 'gurujeremy': 6695, 'socass': 6696, 'zich': 6697, 'zijn': 6698, '127969': 6699, 'kissin': 6700, 'infected': 6701, 'plies': 6702, 'cd': 6703, 'andrew': 6704, 'od': 6705, 'maccabeez': 6706, 'polite': 6707, 'clever': 6708, 'nonsense': 6709, 'comparison': 6710, 'rubes': 6711, 'wizard': 6712, 'laurenjauregui': 6713, 'continues': 6714, 'wrapped': 6715, 'betodavidthomas': 6716, 'erica': 6717, 'rank': 6718, 'rashad': 6719, 'hv': 6720, 'kejriwal': 6721, 'coldhearted9': 6722, 'uncleruckus': 6723, 'bd': 6724, 'friggin': 6725, 'itty': 6726, 'anastasiapacana': 6727, 'wheres': 6728, \"lil'\": 6729, \"6'0\": 6730, 'nh': 6731, 'kenzieblake2015': 6732, 'mcadams': 6733, 'badge': 6734, 'backs': 6735, 'global': 6736, 'watches': 6737, 'progress': 6738, 'jamesokeefeiii': 6739, 'wagggggie': 6740, 'geekin': 6741, 'parker': 6742, 'ispeak': 6743, 'sarcasms': 6744, 'mdsaab1': 6745, 'osvaldovause': 6746, 'google': 6747, 'elizabeth': 6748, 'fin': 6749, 'emotion': 6750, 'poll': 6751, 'san9993': 6752, 'diponline': 6753, 'host': 6754, 'honestyhour': 6755, 'clowney': 6756, 'thoe': 6757, 'condo': 6758, 'dragons': 6759, 'jessicaaaaa': 6760, \"o'clock\": 6761, 'rules': 6762, 'draya': 6763, 'buzz': 6764, 'cease': 6765, 'soar': 6766, 'sets': 6767, 'starve': 6768, 'nerds': 6769, 'april': 6770, 'moanin': 6771, 'inbred': 6772, 'gordon': 6773, 'uuuup': 6774, 'caitnicole3': 6775, 'ups': 6776, 'convinced': 6777, 'carterboy': 6778, 'leake': 6779, 'cries': 6780, 'cleaned': 6781, 'functioning': 6782, 'reached': 6783, 'captured': 6784, 'liar': 6785, 'environment': 6786, 'backing': 6787, 'bugatti': 6788, 'tread': 6789, 'pin': 6790, 'congress': 6791, 'kash': 6792, 'poms': 6793, 'react': 6794, 'lotion': 6795, 'bitchy': 6796, '10024': 6797, '128171': 6798, 'didn': 6799, 'xmas': 6800, 'tires': 6801, 'rapperssaid': 6802, 'celebrated': 6803, 'leading': 6804, 'trolls': 6805, 'unblock': 6806, 'jayjuice22': 6807, 'pork': 6808, 'bottles': 6809, 'oops': 6810, 'ccass357': 6811, 'unto': 6812, 'flower': 6813, 'bumblebee': 6814, 'le': 6815, 'shouts': 6816, 'dodge': 6817, 'normally': 6818, 'theseanyv': 6819, 'mikeb': 6820, 'dig': 6821, 'flipped': 6822, 'awwwww': 6823, 'tender': 6824, 'jessecanon': 6825, 'tonykivarkis': 6826, 'mothers': 6827, 'gassing': 6828, 'happily': 6829, 'massive': 6830, 'mong': 6831, 'exit': 6832, 'incidents': 6833, 'bigotry': 6834, 'shoulder': 6835, \"children's\": 6836, 'duhh': 6837, 'hoop': 6838, 'baaaabyshaaaay': 6839, \"gabby's\": 6840, 'polosi': 6841, 'nifo': 6842, 'trail': 6843, 'nighas': 6844, 'lifestyle': 6845, 'spongebob': 6846, 'matthops82': 6847, 'ky': 6848, 'surely': 6849, 'cripples': 6850, 'squirt': 6851, 'drowning': 6852, 'rting': 6853, 'jaetips': 6854, 'lesser': 6855, 'wilde': 6856, 'dissin': 6857, 'lsu': 6858, 'dial': 6859, 'pacer': 6860, 'pecker': 6861, 'smarter': 6862, 'creating': 6863, 'hardly': 6864, 'mykat': 6865, 'meows': 6866, 'weis': 6867, 'nelly': 6868, 'tammy': 6869, 'vegasqueens': 6870, 'smacked': 6871, 'biology': 6872, 'bottoms': 6873, 'outfits': 6874, 'stackz': 6875, 'np': 6876, 'shik702': 6877, 'toughen': 6878, 'aj0427': 6879, 'hea': 6880, 'choking': 6881, 'menshumor': 6882, 'jackass': 6883, '128531': 6884, 'sane': 6885, 'ge': 6886, 'rubyfakhoury': 6887, 'usher': 6888, 'ian': 6889, 'snakes': 6890, \"i'mma\": 6891, 'sumthin': 6892, 'describe': 6893, 'titan21mtzzz': 6894, 'understands': 6895, 'psychology': 6896, 'signing': 6897, 'thenudesgod': 6898, 'cici': 6899, 'hoeing': 6900, 'galaxy': 6901, 'eww': 6902, 'theirs': 6903, 'ramona': 6904, 'brainer': 6905, 'physical': 6906, 'joedouglas1': 6907, 'pos': 6908, 'twatching': 6909, 'pacers': 6910, 'characters': 6911, 'crayons': 6912, 'confidence': 6913, 'ahah': 6914, 'tricking': 6915, 'chi': 6916, 'swallow': 6917, '128108': 6918, 'haired': 6919, 'lettin': 6920, 'watchlikeaking': 6921, 'bluejays': 6922, 'parts': 6923, 'scenario': 6924, 'london': 6925, 'tops': 6926, 'alexiscarfield': 6927, \"sheen's\": 6928, 'creek': 6929, 'deported': 6930, 'wrist': 6931, '58385': 6932, 'sequoia': 6933, 'gabris': 6934, 'fitness': 6935, 'shoots': 6936, 'nugget': 6937, 'vanilla': 6938, 'wisconsin': 6939, 'emmalouisasuttl': 6940, 'cemetery': 6941, 'wo': 6942, 'combo': 6943, 'staycoolwheels': 6944, 'canada': 6945, 'dattootiegurl': 6946, 'deadly': 6947, 'subbing': 6948, 'horses': 6949, 'tmz': 6950, 'halftime': 6951, 'mutual': 6952, 'muh': 6953, 'pineapple': 6954, 'basedgod': 6955, 'coupe': 6956, 'hmmm': 6957, 'csgo': 6958, 'lezzzbehonest': 6959, 'subs': 6960, 'toy': 6961, 'mack': 6962, 'traitor': 6963, 'warfare': 6964, 'birdhouse': 6965, 'boxingscene': 6966, 'bowling': 6967, 'zayzillaaa': 6968, 'joel': 6969, 'insults': 6970, 'particular': 6971, 'rugbysocklad': 6972, 'lovelifeest13': 6973, 'confront': 6974, 'joederosacomedy': 6975, 'nra': 6976, 'hostess': 6977, 'alpha': 6978, 'mud': 6979, 'sotrippywhit': 6980, 'fantastic': 6981, 'coffincreepxx': 6982, 'disrespected': 6983, 'valley': 6984, 'splurge': 6985, 'coconut': 6986, 'leezy': 6987, 'freetopher': 6988, 'righteous': 6989, 'clip': 6990, 'lbs': 6991, '1am': 6992, 'vivalakash': 6993, 'knowledge': 6994, 'marks': 6995, 'foolish': 6996, 'logan': 6997, 'dirkalisic': 6998, 'circus': 6999, '127800': 7000, 'gingerash2013': 7001, 'squid': 7002, 'typing': 7003, 'raven': 7004, 'eattin': 7005, 'marshmallows': 7006, 'maggie': 7007, 'hen314': 7008, 'eaglesnation': 7009, 'produced': 7010, 'felony': 7011, 'cocks': 7012, 'hiagokoury': 7013, 'sramirez07943': 7014, 'twinkle': 7015, 'stylezkey354': 7016, 'matches': 7017, 'replace': 7018, 'pulls': 7019, 'perfection': 7020, 'mayer': 7021, 'wesorrjames': 7022, 'smellin': 7023, 'increase': 7024, 'treatment': 7025, 'shallow': 7026, 'hefner': 7027, 'helping': 7028, 'yummy': 7029, 'voting': 7030, '10069': 7031, 'hooked': 7032, 'busting': 7033, 'hogg': 7034, 'stronger': 7035, 'maine': 7036, 'prob': 7037, 'burrito': 7038, 'licks': 7039, 'scrap': 7040, 'buys': 7041, 'opposed': 7042, 'handicapped': 7043, 'pow': 7044, 'bidenshairplugs': 7045, 'opp': 7046, 'munching': 7047, 'follower': 7048, 'commit': 7049, 'weiner': 7050, 'mil': 7051, 'biting': 7052, 'mattyfatass': 7053, 'traphouseeee': 7054, 'blu': 7055, 'phi': 7056, 'wifeys': 7057, 'wink': 7058, '2010': 7059, 'vampire': 7060, 'badnewsbridget': 7061, 'bigboybeezy': 7062, 'americ00n': 7063, 'blaxxxican': 7064, 'liv': 7065, 'uniforms': 7066, 'bumblebees': 7067, 'gooooo': 7068, 'dubstep': 7069, 'lmfaoooooooo': 7070, 'p0rsche': 7071, 'associate': 7072, 'pancake': 7073, 'habits': 7074, 'nhalegood': 7075, 'bleach': 7076, 'stain': 7077, 'noo': 7078, '1605': 7079, 'urhighnesss': 7080, 'concern': 7081, 'thebloodshow': 7082, \"women's\": 7083, 'steadmanterri': 7084, 'effort': 7085, 'urban': 7086, 'chuuu': 7087, 'lynn': 7088, 'concede': 7089, 'quan1t0': 7090, 'emo': 7091, 'cone': 7092, 'amo': 7093, 'tj': 7094, 'rave': 7095, 'rickyngan': 7096, 'versace': 7097, 'propose': 7098, 'papi': 7099, 'thatupsdude': 7100, 'madi': 7101, 'whom': 7102, 'challenges': 7103, 'recognize': 7104, 'coworker': 7105, 'drives': 7106, 'datboyrayt': 7107, 'wasn': 7108, 'constant': 7109, 'dtf': 7110, 'niggerfag': 7111, 'hoosiernation': 7112, 'realist': 7113, 'threatened': 7114, '0utcast': 7115, 'optimisticdoom': 7116, 'conceited': 7117, 'throwin': 7118, 'flavor': 7119, 'tasted': 7120, 'slappin': 7121, 'melo': 7122, 'obey': 7123, 'windows': 7124, 'perhaps': 7125, 'protected': 7126, 'fuckn': 7127, 'rico': 7128, 'extinct': 7129, 'panic': 7130, 'cockroaches': 7131, 'rodriguez': 7132, 'lana': 7133, 'frohorsemen': 7134, 'billperiman': 7135, 'commonblackgiri': 7136, 'gouache': 7137, 'tiki': 7138, 'board': 7139, 'defendwallst': 7140, '16stanleys': 7141, 'reports': 7142, 'toast': 7143, 'tanks': 7144, 'snipers': 7145, 'polls': 7146, 'broward': 7147, 'tfeh': 7148, 'amusing': 7149, 'eve': 7150, 'cristiannt': 7151, 'vice504fly': 7152, 'spark': 7153, 'froze': 7154, 'spiritual': 7155, 'harvard': 7156, 'knocking': 7157, 'roy': 7158, 'neymar': 7159, 'mcdonald': 7160, 'pointing': 7161, '128150': 7162, 'admits': 7163, 'jessie': 7164, 'yess': 7165, 'sob': 7166, 'swings': 7167, 'lewis': 7168, 'ohvixen': 7169, 'soldier': 7170, 'gmail': 7171, 'mail': 7172, '128167': 7173, 'dora': 7174, 'lance': 7175, 'ye': 7176, 'meds': 7177, 'forrest': 7178, 'gump': 7179, 'popitfor': 7180, 'tyrick': 7181, 'mullets': 7182, 'proves': 7183, 'trackinblackkev': 7184, 'alice': 7185, 'magical': 7186, 'disturbing': 7187, 'resort': 7188, 'celebrating': 7189, 'inthekcmix': 7190, 'packed': 7191, 'stonerboii2cold': 7192, 'ss': 7193, 'siri': 7194, 'dominiloka': 7195, 'firecashman': 7196, 'putin': 7197, 'armed': 7198, 'lovexlilyy': 7199, 'myspace': 7200, 'madamecrystalb': 7201, 'brad': 7202, 'rell': 7203, 'cheeky': 7204, 'isell': 7205, 'pussy4ebt': 7206, 'candy9': 7207, 'mabelsay': 7208, 'flaw': 7209, 'reals': 7210, 'planks': 7211, 'quads': 7212, 'pecs': 7213, 'radical': 7214, 'leads': 7215, 'celtics': 7216, '9899': 7217, 'johnfkennedy': 7218, 'spoke': 7219, '128549': 7220, 'liberal1': 7221, 'nooooo': 7222, 'calories': 7223, 'samples': 7224, 'vegan': 7225, 'minds': 7226, 'pineda': 7227, 'partner': 7228, 'chubbygirlgod': 7229, 'dblockdeuce': 7230, 'minor': 7231, 'buddies': 7232, 'jusdahl': 7233, 'failure': 7234, 'raging': 7235, 'triplecz': 7236, '3g': 7237, 'sheswantsthed': 7238, '1041184': 7239, 'don07052': 7240, 'dried': 7241, 'remain': 7242, 'stab': 7243, 'pubesonfleek': 7244, 'courts': 7245, 'stabbed': 7246, 'jama': 7247, 'familiar': 7248, 'loco': 7249, 'charlesbwaffle': 7250, 'guidance': 7251, 'courage': 7252, 'idiotic': 7253, 'necessarily': 7254, 'eventually': 7255, 'squirting': 7256, 'possibility': 7257, 'below': 7258, 'donquixtote': 7259, 'beiber': 7260, 'oscars': 7261, 'tonymartinezz15': 7262, 'orders': 7263, 'hills': 7264, 'dedicated': 7265, 'perez': 7266, 'resolution': 7267, 'deaths': 7268, 'therealtenski': 7269, 'replies': 7270, 'almightyvinny': 7271, 'tonycranshaw22': 7272, 'richhomiemeezy': 7273, 'buffalo': 7274, 'digger': 7275, '2pac': 7276, 'grrizziy': 7277, 'funnier': 7278, 'lisforlex': 7279, 'interference': 7280, 'vikyfdez15': 7281, 'hunter': 7282, 'blank': 7283, 'itunes': 7284, 'whatsoever': 7285, 'dantoomey2': 7286, \"men's\": 7287, 'ballet': 7288, 'saves': 7289, 'heh': 7290, 'commercials': 7291, 'gosling': 7292, 'qb': 7293, 'studs': 7294, '127851': 7295, 'ceeross': 7296, 'sandals': 7297, 'lmbo': 7298, 'torijberman': 7299, 'jamaica': 7300, '67': 7301, 'handy': 7302, 'taxi': 7303, 'covered': 7304, 'okies': 7305, 'embarrassment': 7306, 'liltunechi': 7307, 'jayswaggkillah': 7308, 'geno': 7309, 'meaner': 7310, '43': 7311, '128124': 7312, 'angela': 7313, 'temper': 7314, 'btown': 7315, 'big10': 7316, 'trey': 7317, 'songz': 7318, '128178': 7319, 'fawking': 7320, 'height': 7321, '128010': 7322, 'rickygervais': 7323, 'coverage': 7324, 'niga': 7325, 'uncr4fted': 7326, 'catholic': 7327, 'cbsthismorning': 7328, 'waymothegod': 7329, 'meer': 7330, 'stains': 7331, 'leftist': 7332, 'claps': 7333, 'goldiemack': 7334, 'convos': 7335, 'aloha': 7336, '128132': 7337, 'possibly': 7338, 'virus': 7339, 'bahaha': 7340, 'peso': 7341, 'bich': 7342, 'alll': 7343, 'consist': 7344, 'jazz': 7345, 'jumbo': 7346, 'brushes': 7347, 'iamnicklminaj': 7348, \"em'\": 7349, 'jakelewis44': 7350, 'cano': 7351, 'jefdabest': 7352, 'cranberry': 7353, 'vitamin': 7354, 'teflondon4200': 7355, 'jennyreyes42': 7356, 'giraffe': 7357, 'superb': 7358, 'wesdurham': 7359, 'jitt': 7360, 'labeled': 7361, 'wyo': 7362, 'getup': 7363, 'sooooooo': 7364, 'rammed': 7365, 'seahopke': 7366, 'zenterrorist86': 7367, 'aap': 7368, 'fkn': 7369, 'lamest': 7370, 'creepgawddess': 7371, 'sneeze': 7372, 'blessings': 7373, 'rhyme': 7374, 'tune': 7375, 'catfished': 7376, 'doodoo': 7377, 'refrigerator': 7378, 'ironing': 7379, 'jayzoverrated': 7380, '2charmss': 7381, 'cologne': 7382, 'mattietrump97': 7383, 'ssickstory': 7384, 'pr3ttyn33': 7385, 'worker': 7386, 'omarion': 7387, 'erry': 7388, 'itsyesie': 7389, 'breaded': 7390, 'vewxyz': 7391, 'imhis': 7392, 'katrina': 7393, 'hallways': 7394, 'dv': 7395, 'wedges': 7396, 'accused': 7397, 'soto': 7398, 'knowww': 7399, 'righttt': 7400, 'jakes': 7401, 'pete96': 7402, 'litigiousmind': 7403, 'autistic': 7404, 'branch': 7405, 'hermaphrodite': 7406, 'trans': 7407, 'logged': 7408, 'moyizzy': 7409, '1041222': 7410, 'beverlynohills': 7411, 'vibelord': 7412, 'chasebasford': 7413, 'kiela': 7414, 'breeding': 7415, 'jezzzz': 7416, 'jessica': 7417, 'studlydubly': 7418, 'travis': 7419, 'bossmobbe': 7420, 'realistt': 7421, 'rappersaid': 7422, 'nahhh': 7423, 'stinking': 7424, '02': 7425, 'whataburger': 7426, 'thx': 7427, 'neil': 7428, 'mufuckin': 7429, 'lan': 7430, 'chic': 7431, 'skype': 7432, 'barrybonds': 7433, 'sassyharryballs': 7434, 'mosa': 7435, 'coca': 7436, 'rbi': 7437, 'teixeira': 7438, 'fuckingcashbro': 7439, 'gyro': 7440, 'swirlg0ddess': 7441, 'gonn': 7442, 'tielermlg': 7443, 'licking': 7444, '05': 7445, 'trojan': 7446, 'computerworld': 7447, 'guardianinternational': 7448, 'poli': 7449, 'illegally': 7450, 'intellectual': 7451, 'dread': 7452, 'diploma': 7453, 'chow': 7454, 'relaxed': 7455, '128154': 7456, 'dollas': 7457, 'senator': 7458, 'enzi': 7459, 'versacesilk': 7460, 'ze': 7461, 'ongesteld': 7462, 'soort': 7463, 'billmanoussakis': 7464, 'themav41': 7465, 'dumbest': 7466, 'fuckboy': 7467, 'ashleyypat17': 7468, 'trillvanillaaa': 7469, 'dietrich1892': 7470, 'elennamichelle': 7471, 'biz': 7472, \"america's\": 7473, 'salacioussully': 7474, 'shift': 7475, 'sugarshai2': 7476, 'sharana': 7477, 'jigaboo': 7478, 'naezus': 7479, 'cotydankh': 7480, 'quicker': 7481, 'wantin': 7482, 'realraymondj': 7483, 'toothless': 7484, 'option': 7485, 'venue': 7486, 'loveme': 7487, 'warriors': 7488, 'loveit': 7489, 'bikini': 7490, 'drained': 7491, 'kenzayye': 7492, 'itsjaylaaa': 7493, 'shaded': 7494, 'gladly': 7495, 'felon': 7496, 'sadity': 7497, 'mx': 7498, 'punjab': 7499, 'veritaz': 7500, 'sorrynotsorry': 7501, 'trigga': 7502, 'delivered': 7503, 'parachute': 7504, 'struck': 7505, 'buster': 7506, 'stewart': 7507, 'yurista4life': 7508, 'weston': 7509, 'paulmoon8': 7510, 'stow': 7511, 'overused': 7512, 'liberty': 7513, 'bossbitchdaphne': 7514, 'hooping': 7515, 'raps': 7516, '128560': 7517, 'grams': 7518, 'swam': 7519, 'untouchable': 7520, 'proofread': 7521, 'edited': 7522, 'fergusonriot': 7523, 'johns': 7524, 'polar': 7525, 'eliminate': 7526, 'teabag': 7527, 'constancio': 7528, 'yapping': 7529, 'purposes': 7530, 'cushite': 7531, 'bussin': 7532, 'fritzy': 7533, 'lompartayy': 7534, 'jhuff': 7535, 'jumpers': 7536, 'whiteangelss84': 7537, 'fields': 7538, 'devante': 7539, 'puerto': 7540, 'rican': 7541, 'michaelgt03': 7542, 'nigeldixon1': 7543, 'hm': 7544, 'flexed': 7545, '128038': 7546, 'tweetlikeagiri': 7547, 'ebgbz1': 7548, 'russelltpot': 7549, 'russ': 7550, 'leandr321': 7551, '6pm': 7552, 'provide': 7553, 'crys': 7554, 'certainly': 7555, 'sherman': 7556, 'hooker': 7557, 'carroll': 7558, 'payroll': 7559, 'zelno96': 7560, 'shrugs': 7561, 'cosmeticjunkiee': 7562, 'celibate': 7563, 'froyo': 7564, 'hebrew': 7565, 'fite': 7566, 'trys': 7567, 'mleew17': 7568, 'dwn': 7569, 'ita': 7570, 'hunnit': 7571, 'goth': 7572, 'picker': 7573, 'dimejii': 7574, 'naira': 7575, 'wizkid': 7576, '9729': 7577, 'customer': 7578, 'risk': 7579, 'bonus': 7580, 'volunteers': 7581, 'esj': 7582, 'leon': 7583, 'regards': 7584, 'kingcvpital': 7585, 'hunnid': 7586, 'marshall': 7587, 'handjob': 7588, 'rubber': 7589, 'scrubs': 7590, 'galore': 7591, 'colorado': 7592, 'braxton': 7593, 'vans': 7594, 'aunts': 7595, 'fit4lifemike': 7596, 'screenshots': 7597, 'stunna': 7598, 'ws': 7599, 'workshop': 7600, 'hopper': 7601, 'cereal': 7602, 'ave': 7603, 'bosley': 7604, 'yungretweet': 7605, 'versharky': 7606, 'izthat': 7607, 'kenosha': 7608, 'trained': 7609, 'meghan': 7610, 'goods': 7611, 'donthypeme': 7612, 'peen': 7613, 'humming': 7614, 'hofsportstalk': 7615, 'rage': 7616, 'stapler': 7617, 'fullawhite': 7618, 'coco': 7619, 'kok': 7620, 'droppin': 7621, '128572': 7622, 'lupefiasco': 7623, 'talibkweli': 7624, 'educated': 7625, 'clients': 7626, 'payment': 7627, \"else's\": 7628, 'keith': 7629, 'skirts': 7630, 'recess': 7631, 'victoriakuhlman': 7632, 'vocatoaster': 7633, 'ching': 7634, 'chong': 7635, 'mcs': 7636, 'samromero95': 7637, 'mrluckytoyou': 7638, 'kitt': 7639, 'angle': 7640, 'zachthorpe78': 7641, 'lovemedarlingg': 7642, 'shutting': 7643, 'scottt3130': 7644, 'illest': 7645, '10longdong': 7646, 'fulla': 7647, '10x': 7648, 'trial': 7649, 'ibs': 7650, 'irritable': 7651, 'bizzy': 7652, 'urkindofbrand': 7653, 'asha': 7654, 'trait': 7655, '128679': 7656, 'trippinc': 7657, \"5'8\": 7658, 'greatscottnyc': 7659, 'kors': 7660, 'blackish': 7661, 'wrestle': 7662, 'moenkiana': 7663, 'settling': 7664, 'default': 7665, 'understanding': 7666, 'disrespecting': 7667, 'elements': 7668, 'roots': 7669, \"m's\": 7670, 'dragonballdeez': 7671, 'curvy': 7672, 'planned': 7673, 'fewjr': 7674, 'mobilesuitwaifu': 7675, 'debt': 7676, 'product': 7677, 'kats': 7678, 'llab': 7679, 'cussing': 7680, 'hulkamania': 7681, 'rope': 7682, 'hoo': 7683, 'spittin': 7684, 'pizzabeforehoes': 7685, 'weenis': 7686, 'santander': 7687, 'gallo': 7688, 'milca': 7689, 'amor': 7690, 'bench': 7691, 'snl': 7692, 'dye': 7693, 'newest': 7694, 'lois': 7695, 'lerner': 7696, 'grilled': 7697, 'mojizel': 7698, 'cdiddy': 7699, 'feeds': 7700, 'valuable': 7701, 'noindirect': 7702, 'bel': 7703, 'arroz': 7704, 'truestory': 7705, 'antijokejamal': 7706, \"neighbor's\": 7707, 'rko': 7708, 'stories': 7709, 'swerving': 7710, \"'these\": 7711, 'livestream': 7712, 'fe': 7713, 'wayyyyy': 7714, 'biker': 7715, 'urbancraziness': 7716, 'realer': 7717, 'indeed': 7718, 'strangers': 7719, 'beening': 7720, 'dini': 7721, 'khaled': 7722, 'flops': 7723, 'souls': 7724, '8am': 7725, 'smiling': 7726, 'tweef': 7727, 'anointed': 7728, 'humbled': 7729, 'dunk': 7730, 'ease': 7731, 'wexicanafro702': 7732, 'advantage': 7733, 'caleb': 7734, 'otbva': 7735, 'illness': 7736, 'claimin': 7737, 'cloudz': 7738, '8242': 7739, 'monkeys': 7740, 'amazes': 7741, 'passenger': 7742, 'bums': 7743, 'heavensenttynae': 7744, 'loosen': 7745, 'hungrier': 7746, 'profit': 7747, 'prepared': 7748, 'annnna': 7749, 'dav69': 7750, 'mutha': 7751, 'fence': 7752, 'vocabulary': 7753, 'jaylene': 7754, 'elvis': 7755, 'mysteriously': 7756, 'affordable': 7757, 'lin': 7758, 'vrtwxrk': 7759, 'yungchipotle': 7760, \"doctor's\": 7761, 'gloves': 7762, 'hahahahaha': 7763, 'renamed': 7764, 'creature': 7765, 'michalasmith4': 7766, 'grimes': 7767, 'abraham': 7768, 'lincoln': 7769, 'quints': 7770, 'blues': 7771, 'strikes': 7772, 'whipping': 7773, 'kayci': 7774, 'southernshirt': 7775, 'rupaulsdragrace': 7776, 'devin': 7777, 'justsayin': 7778, 'prevention': 7779, '128681': 7780, 'baabyd': 7781, 'luvv': 7782, 'kentucky': 7783, 'audizzle': 7784, \"'scandal'\": 7785, 'airs': 7786, 'acoustic': 7787, 'joshhandsomee87': 7788, 'platinum': 7789, 'witha': 7790, 'muhhfuckin': 7791, 'prettygrl': 7792, 'leprechauns': 7793, 'overpriced': 7794, 'inevitably': 7795, 'develop': 7796, 'moonwp': 7797, 'kjthegreat': 7798, 'jaspen7': 7799, 'breh': 7800, 'vip': 7801, 'shimmy': 7802, 'masturbated': 7803, 'catalog': 7804, 'procrastination': 7805, 'hol': 7806, 'igivepussycpr': 7807, 'idolize': 7808, 'victorb123': 7809, 'khshan': 7810, 'jeanne': 7811, 'starr': 7812, 'tuku': 7813, 'fie': 7814, 'damianhuffaker': 7815, 'xtruthseekerx': 7816, 'hobby': 7817, 'pinche': 7818, 'escobar': 7819, 'bho': 7820, 'maddieevaans': 7821, 'felicity182': 7822, 'realwalliewall': 7823, 'martinez': 7824, 'deuterostomes': 7825, 'mrfoolycooly': 7826, '2013faves': 7827, 'tribute': 7828, 'dingy': 7829, 'riwhey': 7830, 'lawyer': 7831, 'a47': 7832, 'twelve': 7833, 'stats': 7834, 'ign': 7835, 'nag': 7836, 'coolin': 7837, 'linebacker': 7838, '11088': 7839, 'rentals': 7840, 'ieatlightskins': 7841, 'growin': 7842, 'bria': 7843, 'reckless': 7844, 'bashing': 7845, 'assed': 7846, 'hidalgoparadise': 7847, 'therealmfast': 7848, 'memorabilia': 7849, 'underage': 7850, 'brenda': 7851, 'skelton': 7852, 'cloydrivers': 7853, 'jt': 7854, 'xxminijokerxx': 7855, 'kevinhart2reai': 7856, 'gotbunns': 7857, 'arizzleindacut': 7858, 'tutu': 7859, 'guycodes': 7860, 'robisrandomaf': 7861, 'bitchkrieg': 7862, 'phillips': 7863, 'histories': 7864, 'chadjordan23': 7865, 'honeybun': 7866, 'gota': 7867, \"dee's\": 7868, 'exact': 7869, 'ranae': 7870, 'eakaerick': 7871, 'commander': 7872, 'prematurely': 7873, 'delivery': 7874, '1000gramsbee': 7875, 'tristengqass': 7876, 'shootin': 7877, 'craigslist': 7878, '237': 7879, 'si': 7880, 'puedo': 7881, 'caesar': 7882, 'frito': 7883, 'lotto': 7884, 'causes': 7885, 'skillet': 7886, 'curving': 7887, 'anotherpotheadd': 7888, 'madddd': 7889, 'sneaks': 7890, 'nvr': 7891, 'hail': 7892, '49ers': 7893, 'sheep': 7894, 'cassidy': 7895, 'austinburge44': 7896, 'treagle05': 7897, 'tomcat': 7898, 'mamas': 7899, 'straps': 7900, 'apache': 7901, 'eggo': 7902, 'stature': 7903, 'tytytooflyy': 7904, 'tortoise': 7905, 'confirmed': 7906, 'expects': 7907, 'kinglekan90210': 7908, 'bible': 7909, 'grindr': 7910, 'profiles': 7911, 'rights': 7912, 'burned': 7913, 'hov': 7914, 'svl305': 7915, 'phoenix': 7916, 'unicorn': 7917, 'flood': 7918, 'requires': 7919, 'unhappy': 7920, 'taffy': 7921, 'ox': 7922, 'conan': 7923, 'charged': 7924, 'intro': 7925, 'backdoor': 7926, 'lethal': 7927, 'cocktail': 7928, 'cdc': 7929, 'jammin': 7930, 'eminem': 7931, 'mints': 7932, 'lulu': 7933, 'slamming': 7934, 'toeknee2gx': 7935, 'kallme': 7936, 'stoni': 7937, 'lindsay': 7938, 'lohan': 7939, '128103': 7940, 'fireworks': 7941, 'dougie': 7942, 'vandalsavage': 7943, 'mollies': 7944, '128266': 7945, 'oddfuckingtaco': 7946, 'meetthepress': 7947, 'hugmakeem': 7948, 'cutie': 7949, 'fatty': 7950, 'vinchi3': 7951, 'vivalaleexx': 7952, 'pravikingdino': 7953, 'weakenednachos': 7954, 'ep': 7955, 'strategy': 7956, 'mars': 7957, 'casio': 7958, 'datguy': 7959, 'angelsamuels': 7960, 'baestation': 7961, '128575': 7962, 'fse': 7963, 'awfully': 7964, '4ever': 7965, 'sagittarius': 7966, 'tanner': 7967, 'freefaceridess': 7968, 'bobbybudnic': 7969, \"brown's\": 7970, 'itsdc': 7971, 'almartinez32': 7972, 'theater': 7973, 'dessert': 7974, 'pp': 7975, 'awk': 7976, 'cheats': 7977, 'bans': 7978, 'amymek': 7979, 'spank': 7980, 'towherever': 7981, 'abel312': 7982, 'perks': 7983, 'perezhilton': 7984, 'filter': 7985, 'hw': 7986, 'keiveeb': 7987, 'nikaaaa3': 7988, 'fuse': 7989, 'caykelly16': 7990, '128574': 7991, 'comedianjayski': 7992, 'bayou': 7993, 'mofos': 7994, 'dingyyybritt': 7995, 'kindness': 7996, 'wht': 7997, 'hiphop': 7998, 'pen': 7999, '34': 8000, 'jb': 8001, 'whispering': 8002, 'referred': 8003, 'masses': 8004, 'tellmeboutlove': 8005, 'commented': 8006, 'prettygirl92': 8007, 'attracted': 8008, 'lesamonroe': 8009, 'daquan': 8010, 'yatchakhannah': 8011, \"we'd\": 8012, 'cheezmoejenkinz': 8013, '10am': 8014, 'hoosier': 8015, 'effective': 8016, 'coal': 8017, 'layin': 8018, 'sm': 8019, 'zee': 8020, 'cha': 8021, 'madflyentist': 8022, 'chokes': 8023, 'rft': 8024, 'jamal': 8025, 'bugattibeez': 8026, 'uglyassderrick': 8027, 'erbody': 8028, 'brandonernandez': 8029, 'tommycollins': 8030, 'wearerichnow': 8031, 'buffalobills': 8032, 'bleed': 8033, 'ambulance': 8034, 'sill': 8035, 'rats': 8036, 'babyanimalpics': 8037, 'koolz': 8038, 'aerin': 8039, 'brittany': 8040, 'praying': 8041, 'midsole': 8042, 'manstagram': 8043, 'detroitplayer': 8044, 'prettytreazure': 8045, 'fisherman': 8046, 'mayonnaise': 8047, 'sydneysantana': 8048, 'prairie': 8049, 'yattabing': 8050, 'niglets': 8051, \"girl's\": 8052, 'mein': 8053, 'whack': 8054, '305': 8055, 'wearegiricodes': 8056, 'thefakeespn': 8057, 'rutgers': 8058, 'repeatedly': 8059, 'kendra': 8060, 'jodeci': 8061, 'midterms': 8062, 'gee': 8063, 'brandontierney': 8064, 'nflonfox': 8065, 'path': 8066, 'deflect': 8067, 'clfrew27': 8068, 'overtime': 8069, 'yeezus': 8070, 'withaprettyface': 8071, 'gasoline': 8072, 'peteyhoti': 8073, 'throwback': 8074, 'mikes': 8075, 'autumnmaye': 8076, 'corrupt': 8077, 'ineyealee': 8078, 'sammich': 8079, 'abbey': 8080, 'xcorey21': 8081, 'brizgotti': 8082, 'lmaoooooooo': 8083, 'chollie': 8084, 'mitt': 8085, 'keyanalatricee': 8086, 'favoriting': 8087, 'befo': 8088, 'pedophile': 8089, 'promoting': 8090, 'liq': 8091, 'arrived': 8092, 'sbnation': 8093, 'fckd': 8094, 'truuu': 8095, 'loll': 8096, 'jada': 8097, 'jim777': 8098, 'hound': 8099, 'mrcook': 8100, 'nerdlifethuggin': 8101, 'es': 8102, 'shoulders': 8103, 'whatcha': 8104, 'morele': 8105, 'nerdatcooltable': 8106, 'pouring': 8107, 'wyd': 8108, 'anisa': 8109, 'reviews': 8110, 'warned': 8111, 'nickjspada': 8112, 'enxadasfelipe': 8113, 'kobane': 8114, 'tracking': 8115, 'sighs': 8116, \"china's\": 8117, 'rival': 8118, 'tense': 8119, 'broganwebber': 8120, 'thomasnye1': 8121, 'pictured': 8122, 'buss': 8123, '275yungsimmie': 8124, 'stackin': 8125, 'canceled': 8126, 'horoscope': 8127, 'odd': 8128, 'skulls': 8129, 'cappdaprez': 8130, 'jalenhendricks4': 8131, 'jones2': 8132, 'ancient': 8133, 'storybook': 8134, 'walkoff': 8135, 'bruises': 8136, 'infront': 8137, '97': 8138, 'kingxxlopez': 8139, 'beenslimm': 8140, '243': 8141, 'ri': 8142, 'iamkatjohnson': 8143, 'yaboyskeete': 8144, 'jazzriley': 8145, 'intelligence': 8146, 'introduce': 8147, 'betteraretulips': 8148, 'intentionally': 8149, 'yaboybillnye': 8150, 'idgt': 8151, 'twan': 8152, 'jody': 8153, '530': 8154, 'jp': 8155, 'deformed': 8156, 'fuckem': 8157, 'frances': 8158, \"dm'd\": 8159, 'fortune': 8160, 'skins': 8161, 'voxpulchra': 8162, 'se': 8163, 'psa': 8164, 'reduced': 8165, 'looooool': 8166, 'emails': 8167, 'natlfascist88': 8168, 'waspnse': 8169, 'traitors': 8170, 'aryan': 8171, 'houses': 8172, 'stupider': 8173, 'superhero': 8174, 'brolic': 8175, 'nickelback': 8176, 'pennant': 8177, 'bug': 8178, 'destroy': 8179, '162': 8180, 'mace': 8181, '1future': 8182, 'jamming': 8183, 'avery': 8184, 'revolving': 8185, 'surround': 8186, 'briiixo': 8187, 'moulinyan': 8188, 'chirping': 8189, 'featuring': 8190, 'sweeping': 8191, 'tow': 8192, 'botch': 8193, 'shootas': 8194, 'officers': 8195, 'southcarolina': 8196, 'cab': 8197, 'sammy': 8198, 'sweets': 8199, 'signedtothestreets2': 8200, 'uck': 8201, 'musings': 8202, 'eatmytweetzz': 8203, 'noisy': 8204, \"jenna's\": 8205, 'nawwww': 8206, 'couuuuuch': 8207, 'lohanthony': 8208, 'gl': 8209, 'vader': 8210, 'yoda': 8211, 'espndaniel': 8212, 'athlete': 8213, 'libs': 8214, '8482': 8215, 'tobinsupreme': 8216, 'tweenki': 8217, 'excellent': 8218, 'ivettebrianna': 8219, 'handsomeesco': 8220, 'efethegoddess': 8221, 'salomanizor': 8222, 'truths': 8223, 'script': 8224, 'haylebopp': 8225, 'nutella': 8226, 'shifting': 8227, 'crave': 8228, 'trel': 8229, 'collegehoops': 8230, 'leezusleeko': 8231, 'philadelphia': 8232, 'performance': 8233, 'weaves': 8234, 'willyc14': 8235, 'hlghkey': 8236, 'whens': 8237, '17th': 8238, 'tropicaldrew': 8239, 'mill': 8240, 'sweg': 8241, 'murphy3': 8242, 'sunshine': 8243, 'kaaat': 8244, 'sliding': 8245, 'calfee': 8246, 'focusing': 8247, 'jennyjohnsonhi5': 8248, 'gal': 8249, \"zoe's\": 8250, 'ericxmorrison': 8251, 'flashy': 8252, 'rock76': 8253, 'genesis': 8254, 'alliebruner': 8255, '161': 8256, 'djchubbeswagg': 8257, 'grateful': 8258, 'advil': 8259, 'smoothly': 8260, '3times': 8261, 'riot': 8262, 'tropicalkyle': 8263, 'grinand': 8264, 'murrman5': 8265, 'heyrmbr': 8266, 'strictly': 8267, 'rely': 8268, 'hc': 8269, 'dodo': 8270, 'worldnetdaily': 8271, 'datjollygirl': 8272, 'exempt': 8273, 'anime': 8274, 'peaches': 8275, 'finesse': 8276, 'syd': 8277, 'renae': 8278, '2014alyssa': 8279, 'silky': 8280, 'bathrobes': 8281, 'gabriel': 8282, 'montoya': 8283, 'sandy': 8284, 'mammy': 8285, 'fvnxy': 8286, 'sucky': 8287, 'likea': 8288, 'surfboard': 8289, 'hoodbibie': 8290, 'bruda': 8291, 'smackin': 8292, 'anotha': 8293, 'komt': 8294, 'busch': 8295, 'awww': 8296, 'muthafuckas': 8297, 'lumponthegrind': 8298, 'wags': 8299, 'beeasyjrizzy': 8300, 'sidewalk': 8301, 'martins': 8302, 'indi': 8303, 'meth': 8304, 'doit': 8305, 'pep': 8306, 'labugg09': 8307, 'slop': 8308, 'sarcasmleague': 8309, 'vertrellcarter': 8310, 'mediocre': 8311, 'survived': 8312, 'greinke': 8313, 'uptown': 8314, 'cadillac': 8315, 'tryhardalby': 8316, 'core': 8317, 'elan': 8318, 'port': 8319, 'viewing': 8320, 'ahki117': 8321, 'allhailtaron': 8322, 'itzbreak': 8323, 'appreciated': 8324, 'affection': 8325, 'scarry': 8326, 'cuttin': 8327, 'flats': 8328, 'prick': 8329, 'kuwait': 8330, 'nicks': 8331, 'equallydestruct': 8332, 'tweeter': 8333, 'conrad': 8334, 'lifting': 8335, 'billions': 8336, 'juniors': 8337, 'guynamedjordan': 8338, 'deymouth': 8339, 'djceeloss': 8340, 'awwww': 8341, 'devjayaintshit': 8342, 'plant': 8343, 'curriculum': 8344, 'mosoknowso': 8345, 'interest': 8346, 'hunned': 8347, 'letsgetit': 8348, 'jm': 8349, 'missstef0318': 8350, 'mariapetrova': 8351, 'regulations': 8352, 'mugshot': 8353, 'designs': 8354, 'ankle': 8355, 'woo': 8356, 'superrrrmcnasty': 8357, 'classroom': 8358, 'edm': 8359, 'berlin': 8360, 'germany': 8361, 'swiper252': 8362, 'sword': 8363, 'squeal': 8364, 'pearl': 8365, 'dpalmyx3': 8366, 'bdell1014': 8367, 'mount': 8368, 'becuz': 8369, 'transformer': 8370, 'deejay138': 8371, 'expand': 8372, 'smashin': 8373, 'fuuuuuck': 8374, 'govjaynixon': 8375, 'deon1093': 8376, 'nervous': 8377, '128037': 8378, 'x33': 8379, 'lameassnerd': 8380, 'jarievee': 8381, 'officialkingdre': 8382, 'dull': 8383, 'unknown': 8384, \"playin'\": 8385, '2oy4': 8386, 'spectacle': 8387, 'yoooo': 8388, 'motha': 8389, 'ogflash': 8390, 'dumbbbb': 8391, 'arrive': 8392, 'milz': 8393, 'flirts': 8394, 'herman': 8395, 'nyrblog': 8396, 'franchise': 8397, 'menstruai': 8398, 'weavuschrist': 8399, 'ayoo': 8400, 'panchoftf': 8401, 'cinco': 8402, 'lonnie': 8403, 'talented': 8404, 'drool': 8405, 'theholykuran': 8406, 'itsdomanic': 8407, 'hawaiinshirts': 8408, 'wuz': 8409, 'golly': 8410, 'cheatin': 8411, 'jennahnorberg': 8412, 'piercing': 8413, 'koniikonn': 8414, 'joes': 8415, 'umightnotgetin': 8416, 'beerandtacos': 8417, 'wethelastonesleft': 8418, 'dated': 8419, 'kingulyssesiv': 8420, 'buds': 8421, 'rigged': 8422, 'appointment': 8423, 'gassin': 8424, 'wendy': 8425, 'mailonline': 8426, 'slaps': 8427, 'spatula': 8428, 'choppa': 8429, 'onslaught': 8430, 'lp': 8431, 'ignorealllaws': 8432, 'fosters': 8433, 'bih': 8434, 'wheat': 8435, 'filling': 8436, 'jadegreenleaf': 8437, 'jeffersons': 8438, 'trannies': 8439, \"'what\": 8440, 'waymoflydenu': 8441, 'coins': 8442, 'depression': 8443, 'brief': 8444, 'freestyle': 8445, 'scumbag': 8446, 'sierra': 8447, 'wigga32': 8448, 'niqqas': 8449, 'rulers': 8450, 'rebelscience': 8451, 'whaddup': 8452, 'clouds': 8453, 'drinker': 8454, 'boyy': 8455, 'relieve': 8456, 'unexplainable': 8457, 'coakley': 8458, 'prime3': 8459, 'fad': 8460, 'equivalent': 8461, 'ratchets': 8462, 'bend': 8463, 'artbylecardin': 8464, 'amy0813amy': 8465, 'deeiiggee': 8466, 'sashaa': 8467, 'forms': 8468, 'weirdos': 8469, 'heather': 8470, 'lambo': 8471, 'lynkinthedog': 8472, 'michydoe': 8473, 'event': 8474, 'roles': 8475, 'notification': 8476, 'finds': 8477, '4l': 8478, 'laff': 8479, 'needle': 8480, 'fightciubs': 8481, 'resisting': 8482, 'savannaasanford': 8483, 'budget': 8484, 'receive': 8485, 'helps': 8486, 'grs': 8487, 'krabby': 8488, 'marrie': 8489, 'abuse': 8490, 'diamonds': 8491, 'ireland': 8492, '128119': 8493, 'rome': 8494, 'pedestal': 8495, 'levimitchell': 8496, 'vg3': 8497, 'obieonehhh': 8498, 'tier': 8499, 'vcortesusmc': 8500, 'hut': 8501, 'henry': 8502, 'segment': 8503, 'nelson': 8504, 'cheeseburger': 8505, '813': 8506, 'tdf': 8507, 'stupidest': 8508, 'sochittasal': 8509, 'askwhy05': 8510, 'guest': 8511, 'xpoppinwheelies': 8512, 'zekejmiller': 8513, 'marcacaputo': 8514, 'giuliani': 8515, 'chrismcdowell': 8516, 'lmfaooooooooooo': 8517, \"iggy's\": 8518, 'feeder': 8519, 'shiiiiiit': 8520, 'lessons': 8521, 'meijer': 8522, 'andrea': 8523, 'michele': 8524, 'douchebag': 8525, '2girls1richard': 8526, 'allll': 8527, 'michaeljhudson': 8528, 'employees': 8529, 'camels': 8530, 'ostriches': 8531, 'sept': 8532, 'vccamelraces': 8533, 'milkshake': 8534, 'nikkilenn': 8535, 'katiepavlich': 8536, 'bokoo': 8537, 'dafuq': 8538, 'peer': 8539, 'mids': 8540, 'areforkids': 8541, '2yrs': 8542, 'coo': 8543, 'airam12': 8544, 'actors': 8545, 'bretvondehl': 8546, 'baths': 8547, 'trips': 8548, 'trapped': 8549, 'embarrassed': 8550, 'logical': 8551, 'posing': 8552, 'marble': 8553, 'floors': 8554, 'omfgarsal': 8555, 'gen': 8556, 'stomped': 8557, 'lucy': 8558, 'abby': 8559, 'myniggakushy': 8560, 'silk': 8561, 'michelebachmann': 8562, 'sexualtruth': 8563, 'womans': 8564, 'treshon': 8565, 'scrooge': 8566, 'weakkk': 8567, 'mcflurry': 8568, 'hungarian': 8569, 'yooocaly': 8570, 'therealsaigon': 8571, 'dolangang': 8572, \"ko'd\": 8573, 'liamgeraldshone': 8574, 'arannicolwhufc': 8575, 'dsaend': 8576, 'porkhub': 8577, 'bitchniggaalexx': 8578, '1976': 8579, 'wolfgangabedeus': 8580, 'muzzy': 8581, 'pussybeezus': 8582, 'pappadeaux': 8583, 'squeeze': 8584, 'mckean': 8585, 'vomitdatruth': 8586, 'malikhasanimani': 8587, 'connects': 8588, 'poses': 8589, 'nwts': 8590, 'hundreds': 8591, 'haitian': 8592, 'southerners': 8593, 'gmalko1': 8594, 'alexxx': 8595, 'carr18': 8596, 'formal': 8597, 'iampikey': 8598, 'andyydotcom': 8599, 'jetsgreen': 8600, 'balloons': 8601, 'faux': 8602, 'pundits': 8603, 'molester': 8604, 'darling': 8605, 'absurd': 8606, 'msm': 8607, 'muhammad': 8608, 'minority': 8609, 'brainwashed': 8610, 'swamp': 8611, 'jlewyville': 8612, 'keyair': 8613, 'lease': 8614, 'asvprvchel': 8615, 'drfreezeburnn': 8616, 'objective': 8617, 'erudite1914': 8618, 'stump': 8619, 'bid': 8620, 'wade': 8621, 'missy': 8622, 'wrestling': 8623, 'imaplainjane': 8624, '128018': 8625, 'likka': 8626, 'feeding': 8627, 'ginamariez': 8628, 'sidbury': 8629, 'chaldeancutie': 8630, 'killsheredon': 8631, 'fuckd': 8632, 'peppermint': 8633, 'rooftops': 8634, 'smoker': 8635, 'mila': 8636, 'kunis': 8637, 'melisa': 8638, 'erwin': 8639, 'halotgmg': 8640, 'utah': 8641, 'differentlevels': 8642, 'horrific': 8643, 'n0tsteven': 8644, 'eviljeanyis': 8645, 'thewhite': 8646, 'leiacatherinexx': 8647, 'motown': 8648, 'unfaithful': 8649, 'payin': 8650, 'lifeasbros': 8651, 'chrissibaxter': 8652, 'appreciating': 8653, 'gansitos': 8654, 'principal': 8655, 'props': 8656, 'shvkxir': 8657, 'ej': 8658, 'ohsnapsitsshaq': 8659, 'decades': 8660, 'quad': 8661, 'deer': 8662, 'gravy': 8663, 'inc': 8664, 'lybr3': 8665, 'farts': 8666, 'holdin': 8667, 'dreamed': 8668, 'sleeve': 8669, 'beside': 8670, 'heeeey': 8671, 'basedomg': 8672, 'meeeeee': 8673, 'tr1zz': 8674, 'cqminaj': 8675, 'enthusiasm': 8676, 'faking': 8677, 'therealicetre': 8678, 'elbow': 8679, 'mcbob': 8680, 'pump': 8681, '7aidualc9': 8682, 'swagner': 8683, 'sharea40ounce': 8684, 'apmorales96': 8685, 'adamschein': 8686, 'tad': 8687, 'lakee': 8688, 'bowbow': 8689, 'koolqueef': 8690, 'rbk': 8691, 'steviej': 8692, 'picky': 8693, 'kuz': 8694, 'owning': 8695, 'mrste617': 8696, 'banjo': 8697, 'lola': 8698, 'nubile': 8699, 'shoves': 8700, 'gonewithkalijah': 8701, 'elijah': 8702, 'kiki': 8703, 'skinnysowhat': 8704, 'fraud': 8705, 'attendance': 8706, 'g27status': 8707, 'hauntingilinsky': 8708, 'jennaamendolare': 8709, 'vacation': 8710, 'mattrbennett209': 8711, 'chainz': 8712, 'farrar': 8713, 'upload': 8714, 'jonjanke': 8715, 'whooped': 8716, 'zoom': 8717, 'fisher': 8718, 'michaelbrown': 8719, 'dips': 8720, \"'i\": 8721, 'wasps': 8722, 'disappoint': 8723, 'guessing': 8724, 'mikeymikerowave': 8725, 'sneakerluke': 8726, 'joecushkush': 8727, '1969': 8728, 'mantle': 8729, 'georgegia': 8730, 'indirectly': 8731, 'peters': 8732, 'lgreiner3': 8733, 'raycewarden': 8734, 'bigjohn': 8735, 'studd': 8736, 'swole': 8737, 'aurora': 8738, 'mashed': 8739, 'schoolfession': 8740, 'jewelry': 8741, 'insects': 8742, 'fergie': 8743, 'killall': 8744, 'simps': 8745, 'channymaraj': 8746, 'yaya': 8747, 'vivala': 8748, 'tomb': 8749, 'beattyjustin': 8750, 'kyoppcoalition': 8751, 'hairline': 8752, 'kingdomminded': 8753, 'evaluate': 8754, 'alexissixela': 8755, 'needles': 8756, 'regarding': 8757, 'layer': 8758, 'stingy': 8759, 'hysteria': 8760, 'msjoseline': 8761, 'karlieu123': 8762, 'perpetually': 8763, 'roo': 8764, \"amber's\": 8765, 'jasperdolphin': 8766, 'theegreekgod': 8767, 'pencil': 8768, 'ianbmaggard': 8769, 'toaster': 8770, 'prosper': 8771, 'cinegram': 8772, 'dallywaggz12': 8773, '128117': 8774, '128135': 8775, '128096': 8776, 'whatta': 8777, 'maidana': 8778, '1041233': 8779, 'mightyy23': 8780, 'dawson': 8781, 'kesha': 8782, 'vondreaam': 8783, 'burbs': 8784, 'cigs': 8785, 'tone314': 8786, 'marywcvb': 8787, 'richard': 8788, 'swampscott': 8789, 'keepitplur': 8790, 'laleaa': 8791, 'nesha': 8792, 'will123': 8793, 'william': 8794, 'abcbirds1': 8795, 'wayans': 8796, 'conclusion': 8797, 'kimorablac': 8798, 'gamma': 8799, 'dizzy': 8800, 'phrases': 8801, 'relative': 8802, 'hoodrats': 8803, 'brittneycordova': 8804, 'handicap': 8805, 'goreing': 8806, 'cleary': 8807, 'youngrecklesss': 8808, 'rogers': 8809, 'tougher': 8810, 'intelwire': 8811, 'badly': 8812, 'hickeys': 8813, 'joshmtz1199': 8814, 'sockin': 8815, \"money's\": 8816, 'diz': 8817, 'commence': 8818, 'bombing': 8819, 'swung': 8820, 'organization': 8821, 'situations': 8822, 'chik': 8823, 'sometime': 8824, 'natalieschroyer': 8825, '128125': 8826, 'feminism': 8827, 'cigars': 8828, 'unlimited': 8829, 'adorebellaaa': 8830, 'miller': 8831, 'prettycha305': 8832, 'humanx86': 8833, 'lakeshorejohnny': 8834, 'sentences': 8835, 'poohsavage': 8836, 'planted': 8837, '128163': 8838, 'floridians': 8839, 'homeboys': 8840, 'mills': 8841, 'uboyrock17': 8842, 'dun': 8843, 'rosegoldracks': 8844, 'losthistories': 8845, 'advicee': 8846, 'depend': 8847, 'teamsters': 8848, 'freddie': 8849, 'benzino': 8850, 'marker': 8851, 'korean': 8852, 'stephghost': 8853, 'therapy': 8854, 'lht': 8855, '519': 8856, 'jonesss': 8857, 'skating': 8858, 'savior': 8859, 'mendes': 8860, 'pesky': 8861, 'lgbtq': 8862, 'chavodagreat': 8863, 'anniversary': 8864, 'solyybee': 8865, 'paltrow': 8866, 'itsgirllcode': 8867, 'whiggers': 8868, 'dority': 8869, 'employee': 8870, 'goon': 8871, 'nowashington': 8872, 'deemayweather': 8873, 'sissy': 8874, 'unt': 8875, 'pskinny31': 8876, 'nicolee': 8877, 'denzel': 8878, 'batman': 8879, 'pc': 8880, 'miragotthejuice': 8881, 'jimmyfallon': 8882, 'seahawks': 8883, 'steelobrim': 8884, 'fry': 8885, 'preaching': 8886, 'isa': 8887, 'supports': 8888, 'bostonglobe': 8889, 'midy': 8890, 'forged': 8891, 'bankrupted': 8892, 'catering': 8893, '2parasites': 8894, 'khan': 8895, 'terrorfranchise': 8896, 'leaf': 8897, 'bedtime': 8898, 'forgets': 8899, 'waves': 8900, 'advanced': 8901, 'yezidi': 8902, 'lnyhbt': 8903, 'isthatjamesbond': 8904, 'bluntsnextdoor': 8905, 'tino': 8906, \"'the\": 8907, 'tb12fan': 8908, 'genuinelyot': 8909, 'colder': 8910, 'liberation': 8911, 'codizzlleee': 8912, \"victoria's\": 8913, 'cocoa': 8914, 'dexfrost23': 8915, 'sodmg': 8916, 'fakest': 8917, 'probl': 8918, 'mariam': 8919, 'adrienbroner': 8920, 'oldpics': 8921, 'brianndominguez': 8922, 'moscato': 8923, 'mitchvorce': 8924, 'chelsea': 8925, 'elisa': 8926, 'simp': 8927, 'steel': 8928, 'apartment': 8929, 'reptar': 8930, 'santos': 8931, 'skinnykenny13': 8932, 'navy': 8933, 'tiger': 8934, 'savannacurry': 8935, 'philosophy': 8936, 'aaliyah': 8937, 'stunningstina': 8938, 'lexxx': 8939, 'ruger': 8940, 'dollaz': 8941, '128573': 8942, 'mixing': 8943, 'spaghetti': 8944, 'ungreatful': 8945, 'cheering': 8946, 'fenkell': 8947, 'missloloko': 8948, 'pgammo': 8949, 'prihncess': 8950, 'charcoal': 8951, 'owned': 8952, 'austinbedsaul': 8953, 'deadass': 8954, 'homohulk': 8955, 'unbearabletier': 8956, 'manual': 8957, 'personally': 8958, 'theejenbunny': 8959, 'thankful': 8960, 'reps': 8961, 'republicann': 8962, 'trimmed': 8963, 'vibrator': 8964, 'apthecreated': 8965, 'steezhoe': 8966, 'garcia': 8967, 'donnyoraha': 8968, 'tortillas': 8969, 'anncoulter': 8970, 'ambitiousbree': 8971, '9981': 8972, 'tit': 8973, '2many': 8974, 'maserati': 8975, 'demons': 8976, 'claiborne': 8977, 'me1st': 8978, 'bighomiemarkie': 8979, 'dirk': 8980, 'nowitzki': 8981, 'trackstar275': 8982, 'whits': 8983, 'pets': 8984, '0beyyourmaster': 8985, 'talkers': 8986, 'damiergenesis': 8987, 'digestive': 8988, 'iamyaokhari': 8989, 'dea': 8990, 'exhale': 8991, 'kingdom': 8992, 'singles': 8993, 'ravenpeltier': 8994, \"boyfriend's\": 8995, 'willstreakk': 8996, 'tycff10111': 8997, 'arod': 8998, 'headlock': 8999, 'scanning': 9000, 'nerd': 9001, 'hoodies': 9002, \"family's\": 9003, 'pnd': 9004, 'ovaries': 9005, 'kenneth': 9006, 'lemonade': 9007, 'qualities': 9008, 'chriscurtis410': 9009, 'uppers': 9010, 'werewolf': 9011, 'swimming': 9012, \"tomorrow's\": 9013, 'bniceloco': 9014, '3k': 9015, 'skies': 9016, '58381': 9017, 'babymama': 9018, \"mom's\": 9019, 'rottenstench': 9020, 'bbflockajames': 9021, 'annoyance': 9022, 'manchester': 9023, 'fenkellpayroll': 9024, 'thecrewfinest': 9025, \"barry's\": 9026, 'mcrib': 9027, 'dose': 9028, 'masturbate': 9029, 'accents': 9030, 'eddy': 9031, 'spotted': 9032, 'aekulze': 9033, 'disappeared': 9034, 'hiphopisdeaddd': 9035, 'hopsin': 9036, 'pontiac': 9037, 'xanshawty': 9038, 'pluggedinpiff': 9039, 'explained': 9040, 'prepare': 9041, 'impregnating': 9042, 'danced': 9043, \"gator's\": 9044, 'usin': 9045, 'thrill': 9046, '450': 9047, 'royalty': 9048, 'nobility': 9049, 'dwarf': 9050, 'infant': 9051, 'hampton': 9052, 'cindielu': 9053, 'hippiescrub': 9054, 'khalifa': 9055, 'tolerance': 9056, 'endorses': 9057, 'unpredictable': 9058, 'sprayed': 9059, 'artillery909': 9060, 'sickoe': 9061, 'sweetlou462': 9062, 'banks': 9063, 'iambitchassness': 9064, 'rookie': 9065, 'articulate': 9066, 'aura': 9067, 'teasing': 9068, 'banging': 9069, 'dombeets': 9070, 'bengals': 9071, 'bigga': 9072, 'northwestimperative': 9073, 'whigger': 9074, '2legit4that': 9075, 'chrisjustjoking': 9076, 'map': 9077, 'snobby': 9078, 'psherm07': 9079, 'echoeserrant': 9080, 'gigg423': 9081, 'jstines3': 9082, 'alec': 9083, 'movement': 9084, 'badnewsali': 9085, 'troy': 9086, 'kindly': 9087, 'damnitcorn': 9088, 'meechisdead': 9089, 'joshua': 9090, 'similar': 9091, '128519': 9092, 'ivy': 9093, 'scholar': 9094, 'promote': 9095, 'thecockiestman': 9096, 'freestyles': 9097, 'topics': 9098, 'thedrugtribe': 9099, 'wohs': 9100, 'frustration': 9101, '65533': 9102, 'aghh': 9103, 'acaciabrinley': 9104, 'killers': 9105, 'persianboi10': 9106, 'objects': 9107, 'joked': 9108, 'thetoddshow': 9109, 'rides': 9110, 'danvii': 9111, 'obehi007': 9112, 'werd': 9113, '128066': 9114, 'breasts': 9115, 'reduction': 9116, 'globe': 9117, 'ra': 9118, 'shia': 9119, 'rotate': 9120, 'playlist': 9121, 'raving': 9122, 'smokey': 9123, 'warrior': 9124, 'parry': 9125, 'frame': 9126, 'vickybeanmr': 9127, 'ahsfreakshow': 9128, 'horror': 9129, 'lcl03': 9130, 'misplaced': 9131, 'hiddencams': 9132, 'athletic': 9133, 'cud': 9134, 'bittytang': 9135, 'skipping': 9136, 'lettuce': 9137, 'vin': 9138, 'yeet': 9139, 'casserole': 9140, 'vonrichter': 9141, 'shell': 9142, 'heykeifer': 9143, 'beds': 9144, 'twenty': 9145, 'oklahoma': 9146, '250': 9147, 'lllexiss': 9148, 'lukejohnson06': 9149, 'laurenbeckkkk1': 9150, 'gitmo': 9151, 'freecev': 9152, 'minimum': 9153, 'anggxo': 9154, 'wwwobert': 9155, '2much': 9156, 'category': 9157, 'cutest': 9158, 'xomaryjeanxo': 9159, 'pusha': 9160, 'streams': 9161, 'ilgdaily': 9162, 'spreads': 9163, 'chappelle': 9164, 'icumyouleave': 9165, 'gwb': 9166, 'appointee': 9167, 'mflury30': 9168, 'supposedly': 9169, 'poak': 9170, 'pamaj': 9171, 'allsportsbruh': 9172, 'jayallday612': 9173, 'benihana': 9174, 'asss': 9175, '2chainz': 9176, 'mijo': 9177, 'lgi': 9178, 'peaceful': 9179, 'donuts': 9180, 'guaranteed': 9181, 'natty': 9182, 'borderline': 9183, 'jennydigi': 9184, 'nyquil': 9185, 'ebomb26': 9186, 'floating': 9187, 'yaaaas': 9188, 'julia': 9189, 'buckets': 9190, 'calistrong': 9191, 'bouncing': 9192, 'sactownproidgy': 9193, 'speakcomedy': 9194, 'yunglucy': 9195, 'clevesmith': 9196, 'juices': 9197, '127939': 9198, 'grumpy': 9199, 'laker': 9200, 'thebsharp': 9201, 'layaface': 9202, 'joba': 9203, 'chamberlain': 9204, 'barn': 9205, 'shyglizzy': 9206, 'nuggets': 9207, 'reelected': 9208, 'dawggg': 9209, 'kia': 9210, '83': 9211, '75': 9212, 'kp': 9213, 'checked': 9214, \"doin'\": 9215, 'spooky': 9216, 'january': 9217, 'boop': 9218, 'kingsleyyy': 9219, 'max': 9220, 'ponytail': 9221, \"sharkeisha'd\": 9222, 'compton': 9223, 'gallinofmilk': 9224, 'cesar': 9225, 'niggaa': 9226, '2b': 9227, 'jfromhuntington': 9228, 'spokesman': 9229, 'quenchyagirl': 9230, 'tupacselenas': 9231, 'aydontjudgeme': 9232, 'fuzzies': 9233, '0beythelau': 9234, 'touchin': 9235, 'bobbyshmurdags9': 9236, 'creoleblood': 9237, 'kelseyyvirginia': 9238, 'caylanashlee': 9239, 'posers': 9240, 'iite': 9241, 'unapologetiicb': 9242, 'rorschach7': 9243, 'disaster': 9244, 'carried': 9245, \"somethin'\": 9246, 'mcshay': 9247, 'golds': 9248, 'thas': 9249, 'otha': 9250, 'rpopbox': 9251, 'volleyball': 9252, 'worldcup2014': 9253, 'romantic': 9254, 'slurs': 9255, 'ne': 9256, 'widd': 9257, 'messin': 9258, 'growup': 9259, 'whitetrash': 9260, 'ski': 9261, 'veteran': 9262, 'sailor': 9263, 'lobstrthinktank': 9264, 'pzfeed': 9265, 'spike': 9266, 'rayrice': 9267, 'ferry': 9268, 'session': 9269, 'clueless': 9270, 'gals': 9271, 'manually': 9272, 'tlmothyy': 9273, 'caps': 9274, 'reshell': 9275, 'mission': 9276, 'ai': 9277, 'mccoy': 9278, 'stefanie': 9279, 'qtna': 9280, 'k8': 9281, 'vidal': 9282, 'alanaaaaaa': 9283, 'messiah': 9284, '1043360': 9285, 'foo': 9286, 'pearls': 9287, 'mnyves': 9288, 'obsession': 9289, 'ins': 9290, 'mindatease': 9291, 'carxlito': 9292, 'shittiest': 9293, 'andreaa': 9294, 'olvera': 9295, 'highest': 9296, 'hahah': 9297, 'ayyyethatschubb': 9298, 'universal': 9299, 'hypebeastaustin': 9300, '128684': 9301, '127864': 9302, 'alg': 9303, 'youuu': 9304, 'jonniesantana': 9305, 'flames': 9306, 'nicest': 9307, 'mlbnetwork': 9308, 'tuned': 9309, '1b': 9310, 'dliming35': 9311, 'lcistj': 9312, 'cumin': 9313, 'fukd': 9314, 'mikeceeno': 9315, 'littlepuffin': 9316, 'feb': 9317, 'retro': 9318, 'chaber': 9319, 'trout': 9320, 'hmmmm': 9321, 'mal': 9322, 'harveywordman': 9323, 'bojieasx': 9324, 'cocainemodel': 9325, 'ba': 9326, 'brandonprust8': 9327, 'ashton': 9328, 'philwotg': 9329, 'crazzzyyyyyy': 9330, 'nobetternoworst': 9331, 'schoolboyq': 9332, 'capitalized': 9333, 'confirmation': 9334, 'knife': 9335, 'messi': 9336, 'waist': 9337, 'knight': 9338, 'brat': 9339, 'wallstwatkins': 9340, 'muscles': 9341, 'oldyoung': 9342, 'ihop': 9343, 'united': 9344, '114': 9345, 'attract': 9346, 'augustalsina': 9347, 'verizon': 9348, 'extremely': 9349, 'hoesaaay': 9350, 'bizzle': 9351, \"hoe's\": 9352, 'grip': 9353, 'nightpurrowler': 9354, 'sfvsstl': 9355, 'bass': 9356, 'braveconwarrior': 9357, 'tna': 9358, 'impact': 9359, 'wccorosen': 9360, 'buggin': 9361, 'intense': 9362, 'firefight': 9363, 'hobbit': 9364, 'duckin': 9365, 'fope': 9366, 'mccloskey': 9367, 'suckedoff': 9368, 'calculate': 9369, 'circumference': 9370, 'malibu': 9371, 'rum': 9372, 'dong': 9373, 'ro': 9374, 'extracted': 9375, 'spellingbee': 9376, 'beverly': 9377, 'lpietrantonio': 9378, 'justsaying': 9379, 'janacek07': 9380, 'snd': 9381, 'flowing': 9382, 'dearionbasedgod': 9383, 'jays': 9384, 'chops': 9385, 'tweets2sweet': 9386, 'flaps': 9387, 'request': 9388, 'ruining': 9389, 'scores': 9390, 'outback': 9391, 'cass': 9392, 'deee': 9393, 'septembertha15': 9394, 'latin': 9395, 'trippygalll': 9396, 'cent': 9397, 'bettinavla': 9398, 'bios': 9399, 'lat': 9400, 'ummmm': 9401, 'tab': 9402, 'zramsin': 9403, 'dome': 9404, 'carrot': 9405, 'gotti': 9406, 'badadvicedog': 9407, 'egyptians': 9408, \"ysrah'al\": 9409, 'kushite': 9410, 'specially': 9411, \"that'd\": 9412, 'noinfidel33': 9413, 'alaska': 9414, 'switcharoo': 9415, 'le3ggg': 9416, 'cjayytaughther': 9417, 'strangepintura': 9418, 'arbogucci': 9419, 'phelps': 9420, 'xhollywoodcourt': 9421, 'sponsor': 9422, 'smelt': 9423, 'zvckslvt3r704': 9424, 'wodeh': 9425, 'jaynovel': 9426, 'tittyflex': 9427, 'decimate': 9428, 'lv': 9429, 'grandehead': 9430, 'cleans': 9431, 'tying': 9432, 'woridstarfunnyy': 9433, 'tempted': 9434, 'breakingbad': 9435, 'bridifferent': 9436, 'sweetheart': 9437, 'medal': 9438, 'privilege': 9439, 'jaibrooks1': 9440, 'jax': 9441, 'happyhour': 9442, 'bgc': 9443, 'r3lentlsstr0ll': 9444, 'contrary': 9445, 'belief': 9446, 'rsherman': 9447, 'bites': 9448, 'imnottwitfamous': 9449, \"'don't\": 9450, 'reproduce': 9451, 'nigggapino': 9452, 'alla': 9453, 'voter': 9454, 'mimistheone': 9455, 'sandusky': 9456, 'murk': 9457, 'jpantsdotcom': 9458, 'realtony': 9459, 'dolph': 9460, 'dave': 9461, 'encourage': 9462, 'hogan': 9463, 'buddha': 9464, 'nazi': 9465, 'squirter': 9466, 'ovo': 9467, 'rants': 9468, 'tick': 9469, 'jamesynba': 9470, 'thursdays': 9471, 'boujieassmeena': 9472, 'imlesliechow': 9473, 'halp': 9474, 'thotpockets': 9475, \"smith's\": 9476, 'devon': 9477, 'dewayneee': 9478, 'tinker': 9479, 'queensavage97': 9480, 'clinic': 9481, 'threatening': 9482, 'amnesty': 9483, 'egregious': 9484, 'queendev': 9485, 'lawyers': 9486, 'nicolejeanxoxo': 9487, 'trillog': 9488, 'malik': 9489, 'nyy': 9490, 'reconciliation': 9491, 'fashioniskei': 9492, 'unpunished': 9493, 'jdhayworth': 9494, 'dylan': 9495, 'skill': 9496, 'infamous': 9497, 'sneaking': 9498, 'cocaina': 9499, 'customs': 9500, 'engaged': 9501, 'freaksandgeeks': 9502, 'molssyo': 9503, 'currieburry': 9504, 'danielsizelove': 9505, 'darealdip': 9506, 'breeze': 9507, 'ward': 9508, 'tombradysego': 9509, 'freaking': 9510, 'packet': 9511, 'tendilkar': 9512, 'imsolk': 9513, '1v1': 9514, 'aplmom': 9515, 'nochill': 9516, 'pres': 9517, 'gwbush': 9518, 'lexipost30': 9519, 'tommyreainigga': 9520, 'gn': 9521, 'tneut10': 9522, 'knives': 9523, 'shayisdabomb': 9524, 'rainbowblake': 9525, 'hyped': 9526, 'unprotected': 9527, 'tryanna': 9528, 'wesgod': 9529, 'ramboe': 9530, 'rambo': 9531, 'ijrojo': 9532, 'krbfarms': 9533, 'cornfrmr': 9534, 'despise': 9535, 'uploaded': 9536, 'pronounce': 9537, 'latrobemark': 9538, 'donkey': 9539, 'tono': 9540, 'niggs': 9541, 'donniewahlberg': 9542, 'rachet': 9543, 'repmycityx': 9544, 'rachiesoul': 9545, 'adviljr': 9546, 'rotten': 9547, 'riprick': 9548, 'showers': 9549, 'hack': 9550, 'cuteness': 9551, 'toeing': 9552, 'rianscalia': 9553, 'bjs5555': 9554, 'passionate': 9555, 'sales': 9556, 'baabyshaay': 9557, 'cutter': 9558, 'juvenile': 9559, 'homegirls': 9560, 'bekkalina13': 9561, 'fallontonight': 9562, 'gangsters': 9563, '315': 9564, 'iixixiii': 9565, 'joking': 9566, 'ayeverb': 9567, 'managers': 9568, 'thicke': 9569, 'bougie': 9570, 'struggling': 9571, 'civil': 9572, 'deepest': 9573, 'dhugga': 9574, 'cpr': 9575, 'article': 9576, 'watson': 9577, 'apex': 9578, 'daishialopez': 9579, 'goldnsilvercoin': 9580, 'innat': 9581, 'vp': 9582, 'salsa': 9583, 'loriisright': 9584, 'surge': 9585, 'demo': 9586, 'dev': 9587, 'coop': 9588, 'tragic': 9589, 'joerogan': 9590, 'dimaggio': 9591, 'announcing': 9592, 'divorce': 9593, 'terrifying': 9594, 'alas': 9595, 'juelz': 9596, 'chuckers': 9597, 'meaghanyockey': 9598, 'tucked': 9599, 'iceom': 9600, 'besos': 9601, 'floralelephants': 9602, 'parasitic': 9603, 'trump': 9604, 'someones': 9605, 'thatdamnham': 9606, 'sentimental': 9607, 'recycling': 9608, 'limewire': 9609, 'witnessed': 9610, 'thatirvnation': 9611, 'eastern': 9612, 'extensions': 9613, 'lashes': 9614, 'richardson': 9615, '127770': 9616, 'slash': 9617, 'outman': 9618, 'replied': 9619, 'titans': 9620, 'brett': 9621, 'iced': 9622, 'snappy': 9623, 'bon': 9624, 'usweekly': 9625, 'bslfe': 9626, '3some': 9627, 'chiefs': 9628, 'kidnapping': 9629, 'nickswagypyoung': 9630, 'excessive': 9631, 'anellesofia': 9632, 'theofficialeg10': 9633, 'gi': 9634, 'hint': 9635, 'hentai': 9636, 'fuckingpatbro': 9637, 'vampirrrra': 9638, 'patterns': 9639, 'crochet': 9640, 'borders': 9641, 'conversations': 9642, 'cept': 9643, 'amazingtiming': 9644, 'drudge': 9645, 'zombie': 9646, 'felling': 9647, 'zorro': 9648, 'sucha': 9649, 'collect': 9650, 'blazethegreat': 9651, 'scorpio': 9652, 'capricorn': 9653, 'neon': 9654, 'b10oreo': 9655, 'shook': 9656, 'canyon': 9657, 'vnxthny': 9658, 'greghillwaaf': 9659, 'dnumberbefore': 9660, '128027': 9661, 'unfortunate': 9662, 'neeksbethatguy': 9663, 'naramy22': 9664, 'funnyquotees': 9665, 'uno': 9666, 'wished': 9667, 'mint': 9668, 'laptop': 9669, 'becoming': 9670, 'heir': 9671, 'joan': 9672, 'sitcom': 9673, 'birthed': 9674, 'nsa': 9675, 'scope': 9676, 'wongs': 9677, 'godly': 9678, 'darkies': 9679, 'brooo': 9680, '3d': 9681, 'nu': 9682, '241': 9683, 'illinois': 9684, 'heisman': 9685, 'diapers': 9686, 'yennno': 9687, 'gag': 9688, 'webb': 9689, 'gs': 9690, 'yada': 9691, 'allergic': 9692, 'craigslistlove': 9693, 'guide': 9694, 'kate': 9695, 'specific': 9696, 'rachh': 9697, 'burkhart': 9698, 'lunaraps': 9699, 'xmen': 9700, 'jesuschrist': 9701, 'cuzzo': 9702, 'competing': 9703, 'whut': 9704, 'chelseypaige42': 9705, 'bond': 9706, 'prospects': 9707, 'jtrevorhowerton': 9708, 'hollyrfisher': 9709, 'condition': 9710, 'bashed': 9711, 'belgrade': 9712, 'tattooed': 9713, 'damnit': 9714, 'blackhilton': 9715, 'details': 9716, 'journalist': 9717, 'comedyposts': 9718, 'fightsonvine': 9719, 'ladygaga': 9720, 'gangs': 9721, 'dangitstiff': 9722, 'stores': 9723, '2manylouboutins': 9724, \"it'd\": 9725, 'stewie': 9726, 'rippin': 9727, 'expired': 9728, 'norrisdagod': 9729, 'snowboarding': 9730, '9924': 9731, 'pus': 9732, 'fvtboy': 9733, 'liver': 9734, 'quathegreat': 9735, 'snapped': 9736, 'lander': 9737, 'fenna': 9738, 'myfriendbriana': 9739, 'freakoslam93': 9740, 'bears': 9741, 'whitehouse': 9742, 'tednugent': 9743, 'po': 9744, 'jesjosie': 9745, 'eff': 9746, 'principles': 9747, 'costs': 9748, '10067': 9749, 'realdonaldtrump': 9750, 'scarlett': 9751, 'thad': 9752, 'intensedesire': 9753, 'sethmacfarlane': 9754, '911': 9755, 'goauche': 9756, 'refusing': 9757, '70s': 9758, 'indirect': 9759, 'chipped': 9760, 'brick': 9761, 'diplomatic': 9762, 'sprite': 9763, 'arionnee': 9764, 'approach': 9765, 'poffalicious': 9766, 'shitballshonkey': 9767, 'transformthursday': 9768, 'vegasshowgirls': 9769, 'du': 9770, 'iamlaryn': 9771, 'mobilesuitkwamz': 9772, 'ioana': 9773, 'spiders': 9774, 'boxers': 9775, 'mnleg': 9776, 'natalie': 9777, 'cryaboutitnigga': 9778, 'circulating': 9779, 'weakkkkkkkk': 9780, 'betrayed': 9781, 'ont': 9782, 'quantryse': 9783, 'hockeypuck55': 9784, 'senatorreid': 9785, 'hah': 9786, 'bestie': 9787, 'cirocbwoy': 9788, 'kyariesda4': 9789, 'mixtapes': 9790, 'allied': 9791, 'pickin': 9792, 'asshat': 9793, 'vandalize': 9794, 'permanent': 9795, 'zneezy2good': 9796, 'levitating': 9797, 'kimchanel': 9798, \"where'd\": 9799, 'leagues': 9800, 'allknowa': 9801, 'minus': 9802, 'jactionj': 9803, 'myalynn': 9804, 'xnikiaaa': 9805, 'minimal': 9806, 'sandwhich': 9807, 'barbershop': 9808, 'jstac825': 9809, 'georgiathenewsa': 9810, 'some1': 9811, 'lik': 9812, 'meech': 9813, 'westyourmajesty': 9814, 'casper': 9815, 'degenerate': 9816, 'memorial': 9817, 'skrr': 9818, 'locations': 9819, 'wellheeledking': 9820, 'atg': 9821, 'cliff': 9822, 'potpwincess': 9823, 'puffin': 9824, 'paulconroy': 9825, 'offset': 9826, 'jukejuke': 9827, '218': 9828, 'marc': 9829, 'jennaferjenbub': 9830, '1041190': 9831, 'allegedly': 9832, 'gauntlet': 9833, '100s': 9834, 'kemora': 9835, 'dianaaaxo': 9836, '42': 9837, 'gretchen': 9838, 'mayaangeloufro': 9839, 'serve': 9840, 'correctional': 9841, 'vivalakristia': 9842, 'watdafckyoumean': 9843, 'ruffled': 9844, 'medicine': 9845, 'princessfaggit': 9846, 'headache': 9847, 'jackets': 9848, 'wimp': 9849, 'reserve': 9850, 'primo': 9851, 'quicc': 9852, 'deliaparedez': 9853, 'pilar': 9854, 'weakndmlg': 9855, 'tina': 9856, 'packages': 9857, 'samsung': 9858, 'lopezwhs': 9859, 'bucketsproverbs': 9860, 'efilnikcufecin7': 9861, 'djmemphis10': 9862, 'gladvillian': 9863, 'sesame': 9864, 'coilegefessions': 9865, 'jimjefferies': 9866, 'brave': 9867, 'candace': 9868, 'versacetweetgod': 9869, 'twincitytyson': 9870, 'cdashray': 9871, 'cmnw86': 9872, 'capcom': 9873, 'wieners': 9874, 'brush': 9875, 'christians': 9876, 'pr': 9877, '128558': 9878, 'flyer': 9879, 'horsepower': 9880, 'wedlock': 9881, 'briefs': 9882, 'heller': 9883, 'citizen': 9884, 'kane': 9885, 'groupies': 9886, 'semester': 9887, 'totes': 9888, 'chrisjones': 9889, 'spaceplankton': 9890, 'megynkelly': 9891, 'intolerant': 9892, 'penn': 9893, 'azlanthegoat': 9894, 'itsfrankybitch': 9895, 'mariano': 9896, 'stoneipa': 9897, 'smelling': 9898, 'tamm': 9899, 'scoring': 9900, 'iran': 9901, 'modern': 9902, 'posed': 9903, 'attraction': 9904, 'prey': 9905, 'owl': 9906, 'beers': 9907, '120': 9908, '99car': 9909, 'replaced': 9910, 'fstow': 9911, 'fallenloki': 9912, 'leek': 9913, 'verses': 9914, 'powdered': 9915, 'donut': 9916, 'ships': 9917, 'tong': 9918, 'flaky': 9919, 'moccasin': 9920, 'neighbor': 9921, 'brooooo': 9922, 'raychielovesu': 9923, 'insanity': 9924, 'sgt': 9925, 'sayy': 9926, 'mtaraban': 9927, 'popz': 9928, 'theme': 9929, 'yaboyroshi': 9930, 'charliesheen': 9931, 'ayylmaoanod': 9932, 'theejustinholt': 9933, 'eonline': 9934, 'limits': 9935, 'jasmin': 9936, 'therealoweifie': 9937, 'quiz': 9938, 'milwaukee': 9939, \"hadn't\": 9940, 'girardi': 9941, 'stat': 9942, 'nsnapbacks': 9943, 'thatniggatroy': 9944, 'oneshadowlove': 9945, 'hunger': 9946, 'races': 9947, 'whys': 9948, 'boosting': 9949, 'occasions': 9950, 'realizing': 9951, 'jerseys': 9952, 'yaz': 9953, 'goosemon420er': 9954, 'fsu': 9955, 'ikea': 9956, 'nair': 9957, 'mansionelan': 9958, 'impressive': 9959, 'iamken': 9960, 'fishin': 9961, 'pisces': 9962, 'goldfish': 9963, 'forcin': 9964, 'brighterdays': 9965, 'bigsean': 9966, 'stresses': 9967, 'ariennajanee': 9968, 'papigabs': 9969, 'lmfaooooooooo': 9970, 'joined': 9971, 'frisbee': 9972, 'vigxrarts': 9973, 'prayforjack': 9974, 'mmm': 9975, 'continually': 9976, 'gatsby': 9977, 'wontgetme': 9978, 'hisorraya': 9979, 'reserved': 9980, 'stoolpresidente': 9981, 'nj': 9982, 'anepicname': 9983, 'iambjraps': 9984, 'cheffin': 9985, 'girltimeusa': 9986, 'bride': 9987, 'spits': 9988, 'gig': 9989, 'nikkiconner13': 9990, 'ispeakmut': 9991, 'rezlife3': 9992, 'device': 9993, 'companies': 9994, 'brightest': 9995, 'contrarian': 9996, 'blunts': 9997, 'unhealthy': 9998, 'seth': 9999, 'fatter': 10000, 'whopper': 10001, 'serves': 10002, 'gracie': 10003, '127383': 10004, 'kem': 10005, 'ewwwwwww': 10006, 'dan1ellep': 10007, 'everclear': 10008, 'peterclifford1': 10009, 'marissaaxoo': 10010, 'flights': 10011, 'bobschieffer': 10012, 'butler': 10013, 'denise': 10014, '6pack': 10015, 'brisket': 10016, 'rudyjay711': 10017, 'kleopatra': 10018, 'rates': 10019, 'rino': 10020, 'tgdn': 10021, 'thedevonclarke': 10022, 'bruhh': 10023, 'skull': 10024, 'glowstruck': 10025, 'bombed': 10026, 'hennessey': 10027, 'bobble': 10028, 'virgins': 10029, 'titsofanarchy': 10030, 'defeating': 10031, 'erin': 10032, 'kuczaaak': 10033, 'tyg235': 10034, 'sperrys': 10035, 'ccobey': 10036, 'library': 10037, '2k14': 10038, 'clapping': 10039, 'creolebabybritt': 10040, 'slang': 10041, 'telly': 10042, 'loop': 10043, 'thankin': 10044, 'grabbed': 10045, 'faghettios': 10046, 'yds': 10047, 'ih8lightskins': 10048, 'phuck': 10049, 'tomato': 10050, 'bargain': 10051, 'freebies': 10052, 'morgaanita': 10053, 'dani': 10054, 'alves': 10055, 'gray': 10056, 'row': 10057, 'vincent': 10058, 'callme': 10059, 'jetson': 10060, 'tvs': 10061, 'bryanbalsamo': 10062, 'draws': 10063, 'hillbilliety': 10064, 'escape': 10065, 'beethoven': 10066, '0hallis0n': 10067, 'helloween': 10068, '30th': 10069, 'gif': 10070, \"sunday's\": 10071, 'kingl': 10072, 'soulless': 10073, 'royceda59': 10074, 'robdelaney': 10075, 'fuckkkkk': 10076, 'ittt': 10077, 'conf': 10078, 'amateur': 10079, 'punishment': 10080, \"'wow\": 10081, \"a'z\": 10082, 'selecta': 10083, 'ke': 10084, 'worshiping': 10085, 'jaytwofly': 10086, '191': 10087, 'bball': 10088, 'ends': 10089, 'pennsylvania': 10090, 'nomaambundy92': 10091, 'fifa': 10092, 'zombies': 10093, 'pinstripes': 10094, 'tent': 10095, 'kathy': 10096, 'doermer': 10097, 'bindle13': 10098, 'peteypab620': 10099, 'retire': 10100, 'moreno': 10101, 'swooped': 10102, 'desk': 10103, 'tampon': 10104, 'w1lliam': 10105, 'celestial': 10106, 'tess': 10107, 'stepakoff': 10108, 'desusnice': 10109, 'imaunicorn': 10110, 'twenties': 10111, 'application': 10112, 'agency': 10113, 'krispies': 10114, 'seeds': 10115, 'imgorgeous': 10116, 'fairflattaxnow': 10117, 'av': 10118, 'jaywiz614': 10119, 'batting': 10120, 'gd': 10121, 'gaf': 10122, 'jean': 10123, 'emergency': 10124, 'motion': 10125, 'hennyheathen': 10126, 'ash': 10127, 'ducking': 10128, 'preview': 10129, 'chowder': 10130, 'noooo': 10131, 'rvm3o': 10132, 'ritz': 10133, \"boy's\": 10134, 'lu': 10135, 'txtn': 10136, 'weaker': 10137, 'partynextdoor': 10138, 'cyfyre': 10139, 'trapicalgod': 10140, 'imperial': 10141, 'traditionally': 10142, 'preparing': 10143, 'aymrcarter': 10144, 'azalea': 10145, 'twaynesback': 10146, 'patpatbush': 10147, 'harsh': 10148, 'rainaluvsa': 10149, 'curious': 10150, 'freeyungnwild': 10151, 'roman': 10152, 'catholics': 10153, 'europe': 10154, 'awwwwww': 10155, 'yeast': 10156, 'travelnevada': 10157, 'virginiacity': 10158, 'vmas': 10159, \"woman's\": 10160, 'daaamian': 10161, 'derrick': 10162, 'anayal8ter': 10163, 'channing': 10164, 'tatum': 10165, 'shun': 10166, 'stokes': 10167, 'cheers': 10168, 'bmorehumble': 10169, 'chugs': 10170, 'floppy': 10171, 'jstkeepscrollin': 10172, 'steph': 10173, 'italy': 10174, 'whispers': 10175, 'coz': 10176, 'dragonflyjonez': 10177, 'qui': 10178, 'concentrate': 10179, 'discipline': 10180, 'swishas': 10181, 'erbs': 10182, 'rabehchararah1': 10183, 'antglizzygg': 10184, 'jawad89': 10185, 'mixxed': 10186, 'turnin': 10187, 'salome110thebe1': 10188, '600': 10189, 'mop': 10190, 'karrueche': 10191, 'overbites': 10192, 'maria': 10193, 'bois': 10194, 'noobde': 10195, 'preppy': 10196, 'ponies': 10197, 'wolves': 10198, '214bighappy': 10199, 'confusing': 10200, 'expression': 10201, 'regankelly91': 10202, 'amas': 10203, 'floydmayweather': 10204, 'tracy': 10205, 'studies': 10206, 'pittsburgh': 10207, 'icbc': 10208, '54': 10209, 'whackko': 10210, 'derrickjaxn': 10211, 'realnoth': 10212, 'niallofficial': 10213, 'noway': 10214, 'capital': 10215, 'dappermuke': 10216, 'sheryl': 10217, 'chantel': 10218, 'headless': 10219, 'duke': 10220, 'silverware': 10221, 'goatraplines': 10222, 'stoney': 10223, 'relating': 10224, 'mobbin': 10225, '93': 10226, 'blackmanusa': 10227, 'photography': 10228, 'spirituals': 10229, 'montrell': 10230, 'parked': 10231, 'lowest': 10232, 'juliebenz': 10233, 'blackjeezuss': 10234, 'pouch': 10235, 'ride907': 10236, 'maxdelacruz8': 10237, 'activity': 10238, 'gona': 10239, 'yeaaaaahhhh': 10240, 'ryeordie': 10241, 'peeped': 10242, 'sadiiex': 10243, 'mfka': 10244, 'headband': 10245, 'blackorchidm16': 10246, 'happend': 10247, 'spazz': 10248, 'isaidnick': 10249, 'aknadnrye': 10250, 'newton': 10251, 'commas': 10252, 'careful': 10253, 'desperately': 10254, 'seeking': 10255, 'easiest': 10256, 'asialacap': 10257, 'annie': 10258, 'drose': 10259, 'listened': 10260, 'dedication': 10261, 'eater': 10262, 'stance': 10263, 'favorited': 10264, 'harrysboylouis': 10265, 'faisal': 10266, 'nizam': 10267, 'raising': 10268, 'mawson38': 10269, 'spanked': 10270, 'payed': 10271, 'brilliant': 10272, 'aren': 10273, 'bj': 10274, 'someday': 10275, 'tub': 10276, 'colorful': 10277, 'quarter': 10278, 'unfair': 10279, 'needing': 10280, 'cartoon': 10281, 'brickk': 10282, 'amsterdam': 10283, 'nolove': 10284, 'moreloud': 10285, 'coors': 10286, 'lanebelgarde': 10287, 'a7xdemery': 10288, 'neal': 10289, 'popeyes': 10290, 'woahitsjulian': 10291, 'greek': 10292, 'me2': 10293, 'promised': 10294, 'denzy': 10295, 'omfgmeezy': 10296, 'yourselves': 10297, 'yaaaaaas': 10298, 'stonethegreat23': 10299, 'dickhead': 10300, 'agreement': 10301, 'chalmers': 10302, 'everybodyhatesx': 10303, 'packs': 10304, 'guard': 10305, 'odotkay': 10306, 'jimmys': 10307, 'wrestlers': 10308, 'poppy': 10309, 'nfc': 10310, 'trucks': 10311, 'shethetruththo': 10312, 'abed': 10313, 'sant': 10314, 'lmaooooooooooo': 10315, 'holyspirit': 10316, '128071': 10317, 'pearlblueyes': 10318, '1589': 10319, '1608': 10320, '1591': 10321, '1583': 10322, '1571': 10323, '1581': 10324, '1588': 10325, '1576': 10326, 'feebito': 10327, 'reverendgrim': 10328, 'disbelief': 10329, 'chirpin': 10330, 'revis': 10331, 'shaggy': 10332, 'lames': 10333, 'terror': 10334, 'densonkeith': 10335, 'outlook': 10336, 'ybetoot': 10337, 'areas': 10338, 'adopting': 10339, 'lydsortiz': 10340, 'fees': 10341, 'pornos': 10342, 'mana': 10343, 'friendzone': 10344, \"church's\": 10345, 'bama': 10346, 'bmorepocahontas': 10347, 'marathon': 10348, 'hello14': 10349, 'reddroostermann': 10350, 'curled': 10351, 'mynamesryann': 10352, 'graffiti': 10353, 'bemetor8': 10354, 'puremonotheist': 10355, 'uniteblue': 10356, 'testing': 10357, 'chatter': 10358, \"gf's\": 10359, 'markkelly1983': 10360, 'bronem': 10361, 'cornerboyp': 10362, 'whiteboicoleman': 10363, 'cave': 10364, 'corners': 10365, 'slidin': 10366, 'communion': 10367, 'cowboysnation': 10368, 'ilove': 10369, 'reneaa': 10370, 'missbre': 10371, 'galactic': 10372, 'gummy': 10373, 'sag': 10374, 'positions': 10375, 'partial': 10376, 'noworriezzzz': 10377, 'ruthless': 10378, 'unfunny': 10379, 'thejoelberggren': 10380, 'dhoopin32': 10381, 'tootsies': 10382, 'content': 10383, 'considering': 10384, 'pushes': 10385, 'tonydennis': 10386, 'lester': 10387, 'bland': 10388, 'barefoot': 10389, 'arabellaann': 10390, 'timtebow': 10391, 'oddbeast': 10392, 'ke2yourheart': 10393, 'closing': 10394, 'maxmayo77': 10395, 'pumps': 10396, 'consideration': 10397, 'jareerkassis': 10398, 'spew': 10399, 'pollos': 10400, \"l'ast\": 10401, 'estaban': 10402, 'happiest': 10403, 'mildly': 10404, 'existence': 10405, 'danram70': 10406, 'johntherealman': 10407, 'marackaf': 10408, 'americanwhitehm': 10409, 'dealt': 10410, 'slid': 10411, 'cheater': 10412, 'attacking': 10413, 'hoosierdaddy': 10414, 'extended': 10415, '9acino': 10416, 'trunks': 10417, 'snatched': 10418, 'elixer': 10419, 'lmfaoooooooooooo': 10420, 'honda': 10421, 'cmon': 10422, 'karmendanielle': 10423, 'jelly': 10424, 'sheet': 10425, 'leggsmania': 10426, 'ripping': 10427, 'drrake': 10428, 'mme1636': 10429, 'crisco': 10430, 'youth': 10431, 'serv': 10432, 'reaching': 10433, 'slowdollaz': 10434, 'womp': 10435, 'parched': 10436, 'sf': 10437, 'haunt': 10438, 'introducing': 10439, 'gangbang': 10440, 'balvarezzzz': 10441, 'nickname': 10442, 'tator': 10443, 'agent': 10444, 'soldier1eaodgrn': 10445, 'scarf': 10446, 'stiffer': 10447, 'enemies': 10448, 'jperzell': 10449, 'pyroballypoops': 10450, 'jesusmvela': 10451, 'enriquuee': 10452, 'persons': 10453, 'goooood': 10454, 'roster': 10455, 'pheonix': 10456, 'firebird': 10457, 'shortstop': 10458, 'brickyardbeezy': 10459, 'exposing': 10460, 'adding': 10461, 'chokmah': 10462, 'makob': 10463, 'negroes': 10464, 'gotcha': 10465, 'm203': 10466, 'bitchdicknigga': 10467, 'master11': 10468, 'rising': 10469, 'lop': 10470, 'deno': 10471, 'doddynyc': 10472, 'surfboard101': 10473, 'inktober': 10474, 'oldpainting': 10475, 'surf': 10476, 'fuss': 10477, 'shouldve': 10478, 'applebees': 10479, 'motto': 10480, 'amish': 10481, 'cig': 10482, 'guevara': 10483, 'bloods': 10484, 'deja': 10485, 'childhood': 10486, 'conscious': 10487, 'aj2amazing': 10488, 'justdoit': 10489, 'couldnt': 10490, \"deion's\": 10491, 'ounce': 10492, '52': 10493, 'hugh': 10494, 'amberrrnicollle': 10495, 'raunchy': 10496, 'sakurako': 10497, 'imfinddory': 10498, 'dablueprint': 10499, 'clay': 10500, 'crunch': 10501, 'schoolers': 10502, 'angelic': 10503, 'tokyo': 10504, 'trelaire1st': 10505, 'sel': 10506, 'turnout': 10507, 'mclaffytaffy': 10508, 'sincerely': 10509, 'kirby': 10510, 'luaboo': 10511, 'kaep': 10512, \"n'\": 10513, 'fudge': 10514, 'rhymes': 10515, 'smelled': 10516, 'l8v3': 10517, 'balance': 10518, 'typed': 10519, 'itsnotadam': 10520, 'swears': 10521, 'saran': 10522, 'cotto': 10523, 'codeword': 10524, 'ki': 10525, 'cocalove': 10526, 'thebombshellll': 10527, 'linda': 10528, 'mirah': 10529, '101': 10530, 'adrian1': 10531, 'knowsu': 10532, 'cussed': 10533, 'czickenshack': 10534, 'marclamonthill': 10535, 'nuffin': 10536, 'swipe': 10537, 'calamity': 10538, 'ray7': 10539, 'valentin': 10540, 'shouldnt': 10541, 'celeb': 10542, 'iiiirb': 10543, '1ortiz1': 10544, 'garage': 10545, 'fukk': 10546, 'cnt': 10547, 'gawker': 10548, 'maher': 10549, 'pbs': 10550, 'reads': 10551, 'responses': 10552, 'fbi': 10553, 'duckydynamo': 10554, 'whitney': 10555, 'weep': 10556, 'frank': 10557, 'nilaja': 10558, 'smokinonkaya': 10559, 'dah': 10560, 'yaknow': 10561, 'johnnyfootbali': 10562, 'kaepernick': 10563, 'biceps': 10564, 'usc': 10565, 'birkin': 10566, 'thegamecubeguy': 10567, '127482': 10568, '127480': 10569, 'empirestatebldg': 10570, 'ifwedate': 10571, 'rust': 10572, 'nogs': 10573, 'wishin': 10574, 'berry': 10575, 'facade': 10576, 'fixing': 10577, 'felferrara': 10578, 'tiffanycarter': 10579, 'treadmill': 10580, 'highway': 10581, 'wizards': 10582, 'dnd': 10583, 'stranded': 10584, 'backpack': 10585, 'cher': 10586, 'gangsta': 10587, 'yrwol7': 10588, 'kingjvsh': 10589, 'thareal': 10590, 'sharpton': 10591, 'rocko4real': 10592, 'condescending': 10593, 'britt': 10594, 'represents': 10595, 'gaping': 10596, 'iamjazz': 10597, 'fuckas': 10598, 'vday': 10599, 'gaymarriage': 10600, 'versacelaflare': 10601, 'matthometeam': 10602, 'diesel': 10603, 'hannahkubiak': 10604, 'bblu': 10605, 'yansii': 10606, '21st': 10607, 'snotty': 10608, 'michelledbeadle': 10609, 'pasta': 10610, 'blatantly': 10611, 'favors': 10612, 'duttyogshake': 10613, 'sheeba': 10614, 'fanboys': 10615, 'grammy': 10616, 'reflections': 10617, '1visionamd': 10618, 'moemartin44': 10619, 'classics': 10620, 'fiancee': 10621, 'tinnytimm': 10622, 'ic': 10623, 'digits': 10624, 'carnival': 10625, 'images': 10626, 'ptv': 10627, 'sws': 10628, 'pe': 10629, 'bvb': 10630, 'sample': 10631, 'turk': 10632, 'thinner': 10633, 'wearerepublicnotregime': 10634, 'criminal': 10635, 'impeachobama': 10636, 'sweatshirt': 10637, 'alexdavisraps': 10638, 'brothas': 10639, 'differences': 10640, 'datdudetorey': 10641, 'lurk': 10642, 'describes': 10643, 'xx': 10644, 'airsimba9': 10645, 'lipstick': 10646, 'superpowers': 10647, 'anthonybialy': 10648, 'maryland': 10649, 'nipsey': 10650, 'janay': 10651, 'domestic': 10652, 'swap': 10653, 'sportspickle': 10654, 'hormones': 10655, 'shelves': 10656, 'seagull': 10657, 'forces': 10658, 'blink': 10659, 'filed': 10660, '127873': 10661, 'fuking': 10662, 'thejudyann': 10663, 'paradoxicalmike': 10664, 'idavey': 10665, 'reggie': 10666, 'muthafucka': 10667, 'rocket': 10668, 'launcher': 10669, 'outbreak': 10670, 'yh': 10671, 'pitt': 10672, 'thatassholealan': 10673, 'turner': 10674, 'sluttyboy': 10675, 'apollo': 10676, 'fashioned': 10677, 'adambaldwin': 10678, 'niggaimtatted': 10679, \"what'd\": 10680, 'booking': 10681, 'crisp': 10682, 'rainbow': 10683, 'justreiatabie': 10684, 'politicsofamy': 10685, 'phrase': 10686, 'colts': 10687, 'icing': 10688, 'luckylancej': 10689, 'drmayaangelou': 10690, 'asians': 10691, 'edge': 10692, 'transactionrap': 10693, 'unk': 10694, 'serenity': 10695, 'thebovee': 10696, 'meter': 10697, 'dodged': 10698, 'bytch': 10699, 'mayday': 10700, 'blackrepublican': 10701, 'wealthy': 10702, 'mason': 10703, 'demanding': 10704, 'lineup': 10705, 'soriano': 10706, 'eurotrash': 10707, 'charlieecai': 10708, 'angie': 10709, 'lexy': 10710, 'sockfetish': 10711, 'officialccane': 10712, 'thirty': 10713, 'lime': 10714, 'slips': 10715, 'kj': 10716, \"governor's\": 10717, '1wayhustle': 10718, 'vid': 10719, 'madness': 10720, 'ogmarcusc': 10721, 'eastsidekris': 10722, 'elevators': 10723, 'oprahsidenigga': 10724, 'jdellasperanza': 10725, 'wbdyllon': 10726, \"6'\": 10727, 'boned': 10728, 'pilots': 10729, 'cwc2lwcv3t': 10730, 'tubby': 10731, 'fleece': 10732, 'blair': 10733, 'jrock': 10734, 'taefrmutw': 10735, 'hologram': 10736, 'combination': 10737, 'assure': 10738, 'noneshallpass97': 10739, 'lists': 10740, 'webster': 10741, 'baiting': 10742, 'tizzimarie': 10743, 'slushes': 10744, 'arsenal': 10745, 'gate': 10746, \"gov't\": 10747, 'ferrari': 10748, 'procreate': 10749, 'breeders': 10750, 'mckee': 10751, 'offered': 10752, 'herk87': 10753, 'chanting': 10754, 'fc': 10755, 'february': 10756, 'eduardo': 10757, 'wallet': 10758, 'pu': 10759, 'swizzzy': 10760, 'prov': 10761, 'iamshady': 10762, 'snack': 10763, '6months': 10764, 'letsgoyankees': 10765, 'deemed': 10766, 'walls': 10767, 'letmelive305': 10768, 'thor': 10769, 'nat': 10770, 'deals': 10771, 'rubbin': 10772, 'ericwooden21': 10773, 'sprint': 10774, 'buses': 10775, 'disney': 10776, 'zog': 10777, 'publicity': 10778, 'bent': 10779, 'jullie': 10780, 'kuch': 10781, 'ginzos': 10782, 'dimi': 10783, 'artale': 10784, 'billythathird': 10785, 'attacked': 10786, 'kendall': 10787, 'whiskers': 10788, 'ygjohnston': 10789, 'lbum': 10790, 'fotos': 10791, 'albert21': 10792, 'ceto': 10793, 'angelique': 10794, 'worryin': 10795, 'temple': 10796, 'startin': 10797, 'crumbs': 10798, '38': 10799, 'fazeybaby': 10800, 'vietnam': 10801, 'noah': 10802, 'happycolumbusday': 10803, 'fluffy': 10804, 'setting': 10805, 'ridiculous': 10806, \"ain'\": 10807, 'pancakes': 10808, 'offa': 10809, 'flakes': 10810, 'espinosa': 10811, 'fuq': 10812, 'translation': 10813, 'caramel': 10814, 'allowing': 10815, 'recorded': 10816, 'lockdown': 10817, 'astronaut': 10818, 'stache': 10819, 'idol': 10820, 'described': 10821, 'revelations': 10822, 'freeway': 10823, 'sting': 10824, 'gravity': 10825, 'jennahord12': 10826, '252': 10827, 'badnradbrad': 10828, 'drawers': 10829, 'raygine': 10830, 'bing': 10831, 'alliemathews': 10832, 'rebellious': 10833, 'psychotic': 10834, 'drizzy': 10835, \"devil's\": 10836, 'playground': 10837, 'cal': 10838, 'coaching': 10839, 'blakeanthony98': 10840, 'pleases': 10841, 'bandz': 10842, 'nit': 10843, '4get': 10844, 'batter': 10845, 'vofd': 10846, 'frost': 10847, 'faggit': 10848, 'scissor': 10849, 'witmyrudeass': 10850, '128559': 10851, 'irritating': 10852, 'uoeno': 10853, 'bumble': 10854, 'winnin': 10855, 'biking': 10856, 'fuckk': 10857, 'penitentiary': 10858, 'iamhusk': 10859, 'rightous': 10860, 'ballots': 10861, 'discriminate': 10862, 'gz': 10863, 'outcha': 10864, 'picslip': 10865, 'oss': 10866, 'collegehumor': 10867, 'investigate': 10868, 'iamthatprettymf': 10869, 'frooooontin': 10870, 'springtraining': 10871, 'kd': 10872, \"90's\": 10873, 'bong': 10874, 'rips': 10875, \"g's\": 10876, '127815': 10877, 'gellebeaux': 10878, 'puttin': 10879, 'scandalous': 10880, 'slutin': 10881, 'unsuccessful': 10882, 'warzone': 10883, 'reek': 10884, 'bb16': 10885, 'refused': 10886, 'therealjb1rd': 10887, 'dustinhooper225': 10888, 'noone': 10889, 'heres': 10890, 'almighty': 10891, 'kodymark1': 10892, 'jockin': 10893, 'sq': 10894, 'zekncashe': 10895, \"jordan's\": 10896, 'surprises': 10897, 'melts': 10898, 'southwest': 10899, 'airlines': 10900, 'broski': 10901, 'goons': 10902, 'kittygurl9714': 10903, 'sarahd': 10904, 'basedpapi1017': 10905, 'fuckkkk': 10906, 'neiltyson': 10907, 'whiteboytatted': 10908, 'staff': 10909, 'thoo': 10910, 'velvethammer': 10911, '10004': 10912, '61': 10913, 'slander': 10914, 'semi': 10915, 'leeyoo': 10916, 'serge': 10917, 'andrews': 10918, 'tennessee': 10919, 'bigmoneyniquee': 10920, 'larryx2010': 10921, 'tonybthrz': 10922, 'removes': 10923, 'noooooooo': 10924, 'johnniegoings': 10925, 'ps3': 10926, 'bruised': 10927, '56': 10928, 'worries': 10929, 'randy': 10930, 'esp': 10931, 'hyping': 10932, 'naomi': 10933, 'radius': 10934, 'collar': 10935, 'pinpoint': 10936, 'jordans': 10937, 'bdoe': 10938, 'holocaust': 10939, 'severe': 10940, 'durags4eva': 10941, 'pile': 10942, 'liljohn': 10943, 'fnv9': 10944, 'incredibly': 10945, 'null': 10946, 'micheals': 10947, 'ramon': 10948, 'godfather': 10949, 'bre': 10950, 'britneyspears': 10951, 'kermit': 10952, 'frog': 10953, 'mcnair': 10954, 'remove': 10955, 'madre': 10956, 'casino': 10957, \"george's\": 10958, 'palmers': 10959, 'bath': 10960, 'cruising': 10961, 'vinniepolitan': 10962, 'pablo': 10963, 'licker': 10964, 'danbilzerian': 10965, 'roscoedash': 10966, \"snortin'\": 10967, 'hangs': 10968, \"son's\": 10969, 'stuntin': 10970, 'narnfraud': 10971, 'conditions': 10972, 'spending': 10973, 'oysters': 10974, '127773': 10975, 'waters': 10976, 'introduced': 10977, 'playful': 10978, 'grocery': 10979, 'queenallyssa': 10980, 'ovotiluoverdose': 10981, 'pang': 10982, 'rotation': 10983, 'imdatnigga': 10984, 'scientific': 10985, 'hides': 10986, 'iconic': 10987, 'episodes': 10988, 'rec': 10989, 'potential': 10990, 'attorney': 10991, '127796': 10992, '30s': 10993, 'arkansas': 10994, 'tooeffincool': 10995, 'slimgirl': 10996, 'probz': 10997, 'scheming': 10998, 'jaime': 10999, 'uoon09k1dq': 11000, 'heeb': 11001, 'teena': 11002, 'russia': 11003, 'dancers': 11004, 'patrol': 11005, 'wealth': 11006, 'sheeple': 11007, 'thealexflores10': 11008, 'resorting': 11009, 'wal': 11010, 'mart': 11011, 'dab': 11012, '128137': 11013, 'paulgeorge': 11014, 'consensus': 11015, 'jazminesmazmine': 11016, 'breddifferent': 11017, 'shadow': 11018, 'sake': 11019, 'papaspaid': 11020, 'partners': 11021, '1deep': 11022, 'williard': 11023, 'ow': 11024, 'squash': 11025, 'cucumber': 11026, 'stays': 11027, 'sheseauxsaditty': 11028, 'lesbians': 11029, 'atmosphere': 11030, 'tighten': 11031, 'hearings': 11032, 'noshtickzone': 11033, 'leb': 11034, 'juniormaye8': 11035, 'heterosexuals': 11036, 'kep0ne': 11037, 'gelato': 11038, 'mydicklscailed': 11039, 'creampie': 11040, 'snapback': 11041, 'surrounded': 11042, 'opinionated': 11043, 'lars': 11044, 'tisk': 11045, '37': 11046, 'theyello1': 11047, 'snapping': 11048, 'pedro': 11049, 'clintswiftness': 11050, 'nohands': 11051, 'uninvited': 11052, 'tendencies': 11053, 'flame': 11054, 'refuses': 11055, 'wv': 11056, 'peel': 11057, 'blueeyebeaner': 11058, 'thedrunkstory': 11059, 'threes': 11060, 'younggizzle': 11061, 'hanson': 11062, 'shi': 11063, 'bizarre': 11064, 'kevhoeee916': 11065, 'candle': 11066, 'waits': 11067, 'sickipedia': 11068, 'jaunthegoat': 11069, 'boiled': 11070, 'teenagers': 11071, 'poeticgenius19': 11072, 'menace': 11073, 'claire': 11074, 'vivalamarley': 11075, 'grill': 11076, 'hellobaphomet': 11077, 'huf': 11078, 'doug': 11079, 'resides': 11080, 'impressions': 11081, 'trannys': 11082, 'muhfuckas': 11083, '11093': 11084, '127801': 11085, 'comedianspank': 11086, 'otl': 11087, '03': 11088, 'bitchess': 11089, 'sentedcruz': 11090, 'phenomenal': 11091, 'cums': 11092, '128058': 11093, 'shops': 11094, 'ramboutit': 11095, 'thugging': 11096, 'trentdamanz': 11097, 'perm': 11098, 'contribute': 11099, 'products': 11100, '21ccincinnati': 11101, 'dgaf': 11102, 'ali': 11103, 'starkfreeordie': 11104, 'freshmanadvice': 11105, 'rofl': 11106, 'hallway': 11107, 'toddler': 11108, 'xpdotjdot': 11109, 'airmaxlad1': 11110, 'trainers': 11111, 'stream': 11112, 'mrwest': 11113, 'groove': 11114, 'settled': 11115, 'trinity': 11116, 'pitbull': 11117, 'vacay': 11118, 'worstraplyrlcs': 11119, 'thequeensoxill': 11120, 'cants': 11121, 'fendi': 11122, 'josecanseco': 11123, 'pastors': 11124, 'presents': 11125, 'queenhoneyc': 11126, 'hugged': 11127, 'gnarles': 11128, 'webbie': 11129, 'loads': 11130, 'veshaacouture': 11131, 'display': 11132, 'juggin': 11133, 'cmre24': 11134, 'jc': 11135, '1221': 11136, 'whities': 11137, 'abc7': 11138, 'boyz': 11139, 'kekepalmer': 11140, 'penguingraham': 11141, 'strait': 11142, 'sharkeisha': 11143, 'ronandfezsxm': 11144, 'ft': 11145, 'limited': 11146, 'moke': 11147, \"dad's\": 11148, 'addiction': 11149, 'load': 11150, 'disappointed': 11151, 'ihate': 11152, 'gameday': 11153, 'chiraq': 11154, 'disabled': 11155, 'cheesus85': 11156, 'hmianturner': 11157, 'df': 11158, 'theuncurvable': 11159, 'trayn1gga': 11160, 'realsexnotes': 11161, 'poccets': 11162, 'gusta': 11163, 'wire': 11164, 'liga': 11165, '127877': 11166, '127876': 11167, 'speakers': 11168, 'rains': 11169, 'gaan': 11170, 'victorrico3': 11171, 'gah': 11172, 'poff': 11173, 'thetrackmamba': 11174, 'yooo': 11175, 'dinosaurs': 11176, 'destroyed': 11177, '6thgrader': 11178, 'impression': 11179, 'suddenly': 11180, 'fgcu': 11181, \"tonight's\": 11182, 'wires': 11183, 'eburnns': 11184, 'clerk': 11185, 'farewell': 11186, 'ibanexx': 11187, 'yun': 11188, 'kendramarie91': 11189, 'vngelinaa': 11190, 'monopoly': 11191, 'heeft': 11192, 'tinder': 11193, '127831': 11194, 'gutssidious': 11195, 'populated': 11196, 'waldo': 11197, 'zt': 11198, 'hawaiian': 11199, 'jacksparenohoe': 11200, 'arabia': 11201, 'iank12': 11202, 'ajdougherty13': 11203, 'elway': 11204, 'cambreezy': 11205, 'cooper': 11206, 'rbomem': 11207, 'edwards': 11208, 'cait': 11209, 'nickehlers01': 11210, 'shrek': 11211, 'brit': 11212, 'stratton': 11213, 'lawless': 11214, 'division': 11215, 'targeted': 11216, 'javiethecreator': 11217, 'selenaaaa': 11218, 'yuhh': 11219, 'pho': 11220, 'reveals': 11221, 'depends': 11222, 'lemarquand': 11223, 'humbleteej': 11224, 'wesgodlaflare': 11225, 'yeridzee': 11226, '127866': 11227, 'jmanziel2': 11228, 'japs': 11229, 'almightywayne': 11230, 'kimberlyyaye': 11231, '128590': 11232, 'subbin': 11233, 'devilgrimz': 11234, 'unarmed': 11235, 'wld': 11236, 'mittromney': 11237, 'stalkers': 11238, 'ajay': 11239, 'interior': 11240, 'zo': 11241, '128690': 11242, 'superbowl': 11243, 'psychic': 11244, 'filters': 11245, 'rio': 11246, 'web': 11247, 'toothed': 11248, 'appealing': 11249, 'beavis': 11250, 'butthead': 11251, 'diycookery': 11252, 'historygoon': 11253, 'sukmysweetness': 11254, 'ouch': 11255, 'pissin': 11256, 'disgraced': 11257, 'gilbert': 11258, 'debates': 11259, 'ghettoviine': 11260, 'wayyyy': 11261, 'element': 11262, 'bagging': 11263, 'ja': 11264, 'mij': 11265, '9898': 11266, 'keri': 11267, 'benjibrown1': 11268, 'tablet': 11269, 'reid': 11270, 'dive': 11271, 'fvck': 11272, 'bleedgreen': 11273, 'studied': 11274, 'fiji': 11275, 'torn': 11276, 'hive': 11277, 'cristian': 11278, 'dior': 11279, \"'ouija'\": 11280, 'speakin': 11281, 'owes': 11282, 'dancehall': 11283, \"bitch's\": 11284, 'davidly62793584': 11285, 'ascii': 11286, 'tubes': 11287, 'jingo': 11288, 'meaningless': 11289, '128272': 11290, 'mistakes': 11291, 'bebalizz123': 11292, 'b0ssladyre': 11293, 'stephenson': 11294, 'looming': 11295, 'ag': 11296, 'mitchell': 11297, 'alyssa': 11298, '87': 11299, 'roc': 11300, 'buyin': 11301, '27th': 11302, 'truedetective': 11303, 'mythology': 11304, 'theerniie': 11305, 'bombfantasyyy': 11306, 'bossed': 11307, 'dajetlyfe': 11308, 'decaf': 11309, 'game7': 11310, 'buff': 11311, '128105': 11312, 'tishforprez': 11313, 'slicing': 11314, 'asiahh': 11315, 'administration': 11316, 'lkxox': 11317, 'stereotypes': 11318, 'athletes': 11319, 'deadspin': 11320, '54oo': 11321, 'mauri': 11322, 'lien': 11323, 'ayyyyy': 11324, 'heartbreak': 11325, 'harleyyyquinn': 11326, 'brookebrooklyn': 11327, 'september': 11328, 'uptmillz': 11329, 'styles': 11330, 'erotic': 11331, 'nicekicks': 11332, 'feministajones': 11333, 'austinmahone': 11334, 'chrissy': 11335, 'cindy': 11336, 'spelled': 11337, 'ganks': 11338, 'shore': 11339, 'kinsl3y': 11340, 'chimps': 11341, 'ballot': 11342, 'errbody': 11343, 'jaymohr37': 11344, 'shawnirwin9': 11345, 'carbon': 11346, 'hoosierstate': 11347, 'xtaygottii': 11348, 'titan4ever2488': 11349, 'shawnharvey0': 11350, 'jessycaa': 11351, 'rubi': 11352, 'corylafon': 11353, 'gvmby': 11354, 'plants': 11355, 'cmchat': 11356, 'ballhawk': 11357, 'freakyt252': 11358, 'depth': 11359, 'sunsentinel': 11360, 'juggs201': 11361, 'swishers': 11362, 'ramesh': 11363, 'meow': 11364, 'aca': 11365, '175': 11366, 'theo': 11367, 'mozzarella': 11368, 'tketterhagen': 11369, 'survival': 11370, 'alexyvette8': 11371, 'sushi': 11372, 'alphabet': 11373, 'cassiusclay': 11374, '232': 11375, '1041205': 11376, 'complains': 11377, 'denken': 11378, 'mums': 11379, 'deshawn': 11380, 'bunga': 11381, 'celtic': 11382, 'waahh': 11383, 'aleksssa': 11384, 'justleshay': 11385, 'tia': 11386, 'fax': 11387, 'noreggieallow': 11388, 'xianilee': 11389, 'qbf150': 11390, 'judgemental': 11391, 'mutes': 11392, \"travvv's\": 11393, 'axm9pcw95t': 11394, 'corporations': 11395, '1999': 11396, 'codyaveresch': 11397, 'bugattis': 11398, 'stundentpainters': 11399, 'girly': 11400, 'robber': 11401, 'uuq0bw6vju': 11402, 'kelseyreneee': 11403, 'nandotrash': 11404, '773': 11405, 'cellphone': 11406, 'ebs': 11407, 'fallon': 11408, 'prank': 11409, 'xnzkzlly4g': 11410, 'mastersleepy': 11411, '1mannyonly': 11412, 'psfpugys1g': 11413, 'pinchsuckblow': 11414, 'lmoa': 11415, 'thomaskeneally': 11416, 'obersturmfuhrer': 11417, 'matthias': 11418, 'financial': 11419, 'labelling': 11420, 'daofficialprime': 11421, 'cofgrtw9br': 11422, 'jakeeye3': 11423, 'thefrogod': 11424, 'inspired': 11425, \"drake's\": 11426, 'vaulgcpkis': 11427, 'ibchrismoses': 11428, 'counted': 11429, 'gojackets973': 11430, 'gtvt1': 11431, 'lilbrisko': 11432, 'lawwwddd': 11433, 'johnnnyamor': 11434, 'npratc': 11435, 'bandana': 11436, 'orian': 11437, 'monsta': 11438, '2vhaceq4': 11439, 'alex05241': 11440, 'hannah': 11441, 'mariejosegmh': 11442, 'dwb666': 11443, 'tegenwoordig': 11444, 'vlees': 11445, 'eet': 11446, 'z4p52lbfek': 11447, 'doped': 11448, 'goodmanwood': 11449, 'snowpatricksday': 11450, 'lively': 11451, 'idf': 11452, 'istandwithisr': 11453, 'edits': 11454, 'findin': 11455, 'wrongfilmquotes': 11456, 'qa4o9dr4vp': 11457, 'nachopicasso': 11458, 'poopin': 11459, 'notjohnross': 11460, 'respectful': 11461, \"get'emm\": 11462, 'stognerallie': 11463, 'bryt': 11464, 'luh': 11465, 'myra': 11466, 'ahahahaa': 11467, 'futon': 11468, 'clumsy': 11469, 'baggin': 11470, 'bittersweet': 11471, 'mustash': 11472, 'protein': 11473, 'mattietrumpstipsforabetterlife': 11474, 'wlqnfdsx0a': 11475, 'porcha': 11476, 'hollar': 11477, 'princessmorggan': 11478, 'lel': 11479, 'dywanwii': 11480, 'scotja2': 11481, 'keyshawn': 11482, 'bloopersinlife': 11483, 'bldnkqugf3': 11484, 'choosinh': 11485, \"let''r\": 11486, 'africans': 11487, 'coldhearted': 11488, 'neverlovingsomeoneagain': 11489, 'dontneedanyone': 11490, 'therealtootie': 11491, 'backwoods': 11492, 'woe': 11493, 'ldr5s3kpng': 11494, 'quiccer': 11495, 'branding': 11496, 'prettyxeyes': 11497, 'fyi': 11498, 'r9juot4bgq': 11499, '9855': 11500, '40yiw6e2ch': 11501, 'briannachevonne': 11502, '2gether': 11503, 'itakeovertls': 11504, 'kiarithestone': 11505, 'intercept': 11506, 'equations': 11507, 'scrambled': 11508, 'nenakelly': 11509, 'runways': 11510, 'belo': 11511, 'aborted': 11512, '4lmtfnl2iy': 11513, 'kittycopter': 11514, 'aboutstrafe': 11515, 'nexsmitsky': 11516, 'cashhhhhh': 11517, 'truthandfashion': 11518, 'thejustinnn': 11519, 'realbrother0003': 11520, 'sinai': 11521, 'beheads': 11522, \"'spies\": 11523, \"jews'\": 11524, '3cdoseli1k': 11525, 'abdullah': 11526, 'qualification': 11527, 'cm': 11528, 'cokamoschiach': 11529, 'karass': 11530, 'chaves': 11531, 'aaliyahhhm': 11532, 'vgnwcfgvsj': 11533, 'pyrex': 11534, 'jcharles25': 11535, 'tkelce': 11536, 'ovgenocide': 11537, 'themightylayman': 11538, 'afrotino': 11539, 'davidian': 11540, 'avengers': 11541, 'brothaluke': 11542, 'bucky': 11543, 'bpfz7sl2mp': 11544, 'jaclyndeeter': 11545, 'transtrenda': 11546, 'hknutfdvjz': 11547, 'yeaa': 11548, 'tiff': 11549, 'diggztblb': 11550, 'ocsudvn5hy': 11551, 'babyy': 11552, 'moaaaanin': 11553, 'soulmates': 11554, 'lyl': 11555, 'vogue': 11556, 'pharrell': 11557, 'crimefetish': 11558, 'kwfrabguwj': 11559, '5ht61nmjj3': 11560, 'refresh': 11561, 'dhimmi': 11562, 'mayor': 11563, \"murray's\": 11564, \"city's\": 11565, 'kuhnatekuhnite': 11566, \"talkin'\": 11567, \"gettin'\": 11568, 'thelovemaster': 11569, 'skater': 11570, 'bankheist': 11571, 'shawnacarr99': 11572, 'damoniwantyou': 11573, 'tvd': 11574, 'theoriginals': 11575, 'ooc': 11576, 'gejuiy1xg0': 11577, 'suckerfreewes': 11578, 'yessesmith': 11579, 'winking': 11580, 'mariehippy': 11581, 'freaks': 11582, 'itskayven': 11583, 'responsibility': 11584, 'eharmony': 11585, 'soulmate': 11586, 'taquitos': 11587, 'bungeed': 11588, 'warren': 11589, 'thugmon3yy': 11590, 'glock': 11591, '128044': 11592, 'satisfying': 11593, 'climbing': 11594, 'speeding': 11595, 'xochaton': 11596, 'sicc': 11597, '6wi3epalwo': 11598, 'xmfcv9rmv5': 11599, 'steroid': 11600, 'forgiving': 11601, 'busterposey': 11602, \"takin'\": 11603, 'ballsack': 11604, \"olivia's\": 11605, 'terry': 11606, 'chappell': 11607, 'condawg907': 11608, 'newsbreaker': 11609, \"hernandez's\": 11610, 'k6x3dukhtf': 11611, 'chava': 11612, 'infest': 11613, 'jeffgallardo9': 11614, 'sonali1123': 11615, 'hwiplpuxpq': 11616, 'psvch': 11617, 'skidmarks': 11618, 'fucktards': 11619, 'teirra': 11620, \"siah's\": 11621, 'michellelevin': 11622, 'boo22': 11623, 'gamoot': 11624, 'khsv319gh9': 11625, 'samba': 11626, 't6wbovivo': 11627, 'cjduchesneau': 11628, 'bair': 11629, \"century's\": 11630, 'concrete': 11631, 'gallagheremily': 11632, 'nigra': 11633, 'rilantis': 11634, '1732': 11635, 'sloot': 11636, 'silencer': 11637, 'seventh': 11638, 'trophenboum': 11639, 'fadedf0rever': 11640, 'skndndnddnd': 11641, '4atrkjt0gp': 11642, 'fusionrocks': 11643, 'jumabr': 11644, 'challenger': 11645, 'alternate': 11646, 'kushed': 11647, '8lrhrzcauk': 11648, 'gottaphilme': 11649, 'fbfr8trtoy': 11650, 'mam': 11651, 'ren': 11652, 'doet': 11653, 'haar': 11654, 'rol': 11655, 'vragen': 11656, 'uit': 11657, 'sinclair': 11658, 'littlest': 11659, 'bwanaaa': 11660, 'eg6gxggzfc': 11661, 'seymor': 11662, 'buccs': 11663, 'zrastall17': 11664, 'eloquently': 11665, 'stated': 11666, 'coughlin': 11667, 'geriatric': 11668, 'lmfaohilarious': 11669, 'lmk3tx5vic': 11670, 'stoppin': 11671, 'tots': 11672, 'usz8gjnzl0': 11673, 'byrdy': 11674, 'herb': 11675, 'garin': 11676, 'laughter': 11677, 'ea': 11678, 'icumnpeace': 11679, 'scent': 11680, 'kylereinders': 11681, 'pharary04': 11682, 'truetorontogirl': 11683, 'masterchefjunior': 11684, 'lhs': 11685, '9eagkxdgh5': 11686, 'thriving': 11687, 'economic': 11688, 'sector': 11689, 'wobbles': 11690, 'supahfienmode': 11691, 'amazed': 11692, 'resilience': 11693, 'tsgnews': 11694, 'collegian': 11695, 'teletubby': 11696, 'charges': 11697, 'theft': 11698, 'leftovers': 11699, 'temp': 11700, 'wadi': 11701, 'iiarwatch': 11702, 'pubeless': 11703, 'runt': 11704, 'kraut': 11705, 'towelhead': 11706, 'blvkout': 11707, 'empressraw': 11708, 'xfn5gaurxm': 11709, 'crystalkethry': 11710, 'bestproadvice': 11711, 'zwnbhpdz8e': 11712, 'tattooing': 11713, 'shethepete': 11714, 'pokeflute': 11715, 'yfn3pdmdy1': 11716, 'iinky': 11717, 'chiefwuk': 11718, 'otf': 11719, 'hoovers': 11720, 'swaqmagician': 11721, 'dasss': 11722, 'brooklynkc23': 11723, 'stunningvisual': 11724, 'sumthinnueee': 11725, 'trashyyy': 11726, 'shyhoof': 11727, 'umbralfox': 11728, 'feyote': 11729, 'lamashtu': 11730, 'orgies': 11731, 'kw': 11732, 'q1yv6rhl0l': 11733, 'rashodjackson': 11734, 'clurfogarty': 11735, 'hipsters': 11736, 'barry': 11737, 'hearne': 11738, 'stunk': 11739, 'gypos': 11740, 'lilybean1313': 11741, 'jfrbkze1t5': 11742, 'sendin': 11743, 'imthatguy': 11744, 'dhuck': 11745, 'riotcast': 11746, 'weirdmedicine': 11747, 'bouts': 11748, 'vitaligro': 11749, 'xzimpx': 11750, 'grvndbxrry': 11751, 'travistefft': 11752, \"ant's\": 11753, 'loyalheart': 11754, 'transmitter': 11755, 'realdjtv': 11756, 'cycdbhbxkq': 11757, 'hurrrr': 11758, 'hopemcclintock': 11759, 'orozco23': 11760, 'longhairdontcare': 11761, 'countrygirl': 11762, 'yourewelcome': 11763, 'lovethisgirl': 11764, 'llw3imtcug': 11765, 'bitchmedia': 11766, 'momz': 11767, 'crangrape': 11768, \"titty'd\": 11769, 'dickgregory': 11770, 'evens': 11771, 'daylight': 11772, 'cells': 11773, 'pierce': 11774, 'tiight': 11775, 'aylkdsnksc': 11776, '7d0jeamuvf': 11777, 'nicoleageniie': 11778, 'steines': 11779, 'carol': 11780, 'lenny': 11781, 'beetle': 11782, 'mafiosoro': 11783, 'bigobundles': 11784, '200lbs': 11785, 'attempted': 11786, 'lvgfvbqkdz': 11787, 'pbebt': 11788, 'msblaqstallion': 11789, 'committee': 11790, 'royalswagg': 11791, 'coffybrownchi': 11792, 'refunds': 11793, 'segal': 11794, 'ponytails': 11795, 'broski519': 11796, 'f2oycfk90s': 11797, 'funnyjokebook': 11798, 'yourfavposts': 11799, 'd5dphkwi2l': 11800, 'abbywiseman1': 11801, 'janbaloch45': 11802, 'pakistani': 11803, 'kasur': 11804, 'jrxpbsl05y': 11805, 'marvisirmed': 11806, 'goshno': 11807, 'aliyanazki': 11808, 'librarianknight': 11809, 'templars': 11810, 'fm7udyku': 11811, 'couldve': 11812, 'mnf': 11813, 'trea': 11814, 'barney': 11815, 'paccage': 11816, 'dotn': 11817, 'jhafe': 11818, 'machiavelli': 11819, 'onlybiirdstweet': 11820, 'girlslovedrugs': 11821, 'lessthanjr': 11822, \"victims'\": 11823, 'families': 11824, 'bounty': 11825, 'balt': 11826, 'figuratively': 11827, 'letsmakeitawkward': 11828, 'justmadeitawkward': 11829, 'commments': 11830, 'fqcwzhmjom': 11831, 'schooling': 11832, \"92'\": 11833, 'simms': 11834, 'nigggas': 11835, 'kaymckinneyy': 11836, 'shenikaroberts': 11837, '57361': 11838, 'xochinadoll': 11839, 'caldito': 11840, 'estuvo': 11841, 'snuggle': 11842, 'snuggie': 11843, 'queeee': 11844, 'riiikkooo': 11845, 'orderin': 11846, 'patvpeters': 11847, 'ranchers': 11848, '1vynd9zbph': 11849, 'migrating': 11850, 'shorrtstop': 11851, 'taytuckfuck': 11852, 'b19': 11853, 'obeymy': 11854, 'realness': 11855, 'roryscovel': 11856, 'surprising': 11857, 'bravschi': 11858, 'kingdakkar': 11859, 'hzmf5mayva': 11860, '128122': 11861, 'jp4r2vpycb': 11862, 'laridodi': 11863, 'robs': 11864, '3xapayzbge': 11865, 'richbitxh': 11866, 'highwaisted': 11867, 'dopeshitonly': 11868, 'oral': 11869, '2gglyhm8qc': 11870, 'ian0012': 11871, 'hens': 11872, 'doves': 11873, 'partridge': 11874, 'antoniofrench': 11875, '2have': 11876, 'credibilityshot': 11877, 'justice4mikebrown': 11878, 'cankles': 11879, 'vortex': 11880, 'sequel': 11881, 'zxuxfxpzi7': 11882, 'dunces': 11883, 'groom': 11884, 'voters': 11885, 'thedumbestteabagger': 11886, 'rappin': 11887, '1proudmahomiee': 11888, '15iziryymj': 11889, 'dranumaya': 11890, 'r4fldz5sin': 11891, 'rspectmy': 11892, 'unanswerdverses': 11893, \"lamar's\": 11894, 'monetary': 11895, 'doyou': 11896, \"read'em\": 11897, 'zerah': 11898, 'chariots': 11899, 'mare': 11900, 'lpbeb04j4r': 11901, \"gwale'\": 11902, 'gwalas': 11903, 'pmo': 11904, 'specialed24': 11905, '2v4vspamru': 11906, 'illi708': 11907, 'biggiebossmane': 11908, \"katy's\": 11909, 'hbt2013mm': 11910, 'illegals': 11911, 'dathighyellaguy': 11912, 'udkcfhbuiz': 11913, 'taggs0967': 11914, 'caliboy4': 11915, 'slience': 11916, 'ceddy': 11917, 'ridah': 11918, 'dollah': 11919, 'franc': 11920, 'lukis': 11921, 'reginapucket': 11922, '6nqmor8ybc': 11923, 'sgp': 11924, 'mickeychristmas': 11925, 'maths': 11926, 'tokyojetz': 11927, 'xoxox': 11928, 'shanequintero': 11929, 'madisonmum': 11930, 'hoed': 11931, 'vadefisse': 11932, 'vv4dumme4a': 11933, 'mayormcginn': 11934, 'usmayors': 11935, 'senfeinstein': 11936, 'subhuman': 11937, 'unleashes': 11938, 'bethune': 11939, 'cookman': 11940, 'inmysexdreams': 11941, 'hoze': 11942, 'romeriohall': 11943, 'damontda': 11944, 'natemurdoch': 11945, 'jackdatow2335': 11946, 'mkpest002': 11947, 'oandapests': 11948, 'bossace555': 11949, 'geeking': 11950, 'preferably': 11951, 'sadisticbitch': 11952, \"'hello'\": 11953, 'keyboard': 11954, 'commando': 11955, 'goldkamp247': 11956, 'spurrier': 11957, 'sorta': 11958, 'historically': 11959, 'calles': 11960, 'keyna': 11961, 'executive': 11962, 'sweetkixx': 11963, 'ofmine': 11964, 'infatuation': 11965, 'coding': 11966, 'simonemariposa': 11967, 'vulgar': 11968, 'princetootrippy': 11969, 'renfro': 11970, 'adawg2016': 11971, 'adawg': 11972, 'rubinreport': 11973, 'turnipforwhat': 11974, 'turnip': 11975, 'succession': 11976, 'kingdomofwench': 11977, 'graceishuman': 11978, 'scr': 11979, 'boddies': 11980, '0iex8q4wml': 11981, 'snipersinperil': 11982, 'moree': 11983, 'nsxaacj4jg': 11984, 'naijaxclusive': 11985, 'thebossunicorn': 11986, '127769': 11987, '127776': 11988, 'spartacunt': 11989, 'usps': 11990, 'weaving': 11991, 'counties': 11992, 'bigbootyjudy814': 11993, 'itsfallbecause': 11994, 'lrihendry': 11995, 'cupp': 11996, 'u8nlywefio': 11997, 'wtnolosy4t': 11998, 'autavoeg2u': 11999, 'traemartinez': 12000, 'atrlfan': 12001, 'chocolvte': 12002, 'baesuschrist': 12003, 'alligator': 12004, 'imkadie': 12005, 'morganx3blowin': 12006, 'pocahontias': 12007, 'zoepassion': 12008, 'chupacabra': 12009, 'fuxk': 12010, 'gwhnz0jcb1': 12011, 'gvldrve': 12012, 'lyi': 12013, 'placing': 12014, 'sarahr': 12015, '82': 12016, 'douchetard': 12017, 'butterball': 12018, 'babyyhogg': 12019, 'vinceschilling': 12020, 'vince': 12021, 'natives': 12022, 'glossy': 12023, 'mccann23': 12024, 'tre123': 12025, 'imefficient': 12026, 'brwnskingirly': 12027, 'aggravating': 12028, 'muzzle': 12029, 'carsontyler85': 12030, 'betterwithpets': 12031, 'teamdonny': 12032, 'zgcnmr2kla': 12033, 'z59oy20tmp': 12034, 'dpd': 12035, 'regularly': 12036, 'retrolivin': 12037, 'bdha': 12038, 'zprnmy7kqr': 12039, 'heel': 12040, 'uya': 12041, 'impeachment': 12042, 'vocab': 12043, 'dehydrated': 12044, 'h4nur7zzb8': 12045, 'inches': 12046, 'mackinaintceezy': 12047, '0b0pz8j4cm': 12048, 'nomaryk': 12049, 'qpkcqhpyxp': 12050, 'reiddh': 12051, 'conceitednorezn': 12052, 'nw': 12053, 'youoksis': 12054, 'ages': 12055, 'k1olu522ft': 12056, 'burrgos': 12057, 'sierrabernia': 12058, 't2g': 12059, 'cincokilby': 12060, 'locals': 12061, 'lighters': 12062, 'chukaoffor': 12063, 'usfmd01saf': 12064, 'theperfectanswer': 12065, 'pettycrocker': 12066, 'jawn': 12067, \"donte's\": 12068, 'eliminated': 12069, 'alneezy': 12070, 'mauimescudi': 12071, 'echobunny9203': 12072, 'unsuspecting': 12073, 'targets': 12074, 'tron': 12075, 'assigned': 12076, 'hunna': 12077, 'wwecrowe': 12078, 'jerryspringer': 12079, 'applauding': 12080, 'wwe': 12081, 'roosters': 12082, \"boolin'\": 12083, 'bando': 12084, 'downsouthoutlaw': 12085, 'notokay': 12086, 'fucknigga': 12087, 'bigfinehorseee': 12088, 'o1pkdhyax9': 12089, 'kickers': 12090, 'mikeoe7765': 12091, 'talentless': 12092, 'skag': 12093, 'malfunction': 12094, 'sankpanksimona': 12095, 'darkmeathook': 12096, 'braisin': 12097, 'jaytee': 12098, 'tywahlbrink': 12099, 'stuffing': 12100, 'carlozxivir': 12101, 'awint94': 12102, 'tourching': 12103, 'mray9729': 12104, 'quecified': 12105, 'donsgdptvr': 12106, 'goatideas': 12107, 'frappuccino': 12108, 'o3qj8m1nff': 12109, 'cypher': 12110, 'skool': 12111, 'timber': 12112, \"o'neal\": 12113, 'umma': 12114, 'shinypb': 12115, 'rexy25': 12116, 'civic': 12117, 'lx': 12118, '180k': 12119, 'sneakyb': 12120, 'luey': 12121, 'kickn': 12122, 'whereyallatwitit': 12123, 'trickin': 12124, 'sfsneeejayy': 12125, 'ycuvypv1n0': 12126, 'd1': 12127, 'imaginary23': 12128, 'grimey': 12129, 'alyssamichh': 12130, 'wale': 12131, 'white4': 12132, 'hemsley': 12133, 'thinkpieces': 12134, 'fuckyea': 12135, 'uggboots': 12136, 'jellydoughnuts': 12137, 'vvit8hp40t': 12138, 'twothumbsupdgaf': 12139, 'misstannaebaby': 12140, '58400': 12141, 'witnessing': 12142, 'cuteemergency': 12143, 'jusy': 12144, 'hjnv01ntgb': 12145, 'basedboy': 12146, 'upallcamren': 12147, 'blasted': 12148, 'pppssshhh': 12149, 'aintnobread': 12150, 'chrisgeidner': 12151, 'mandate': 12152, 'nevada': 12153, 'unconstitutional': 12154, 'injun': 12155, 'mcdonavins': 12156, 'heroes': 12157, 'krayzie': 12158, 'pumpkins': 12159, 'sigmas': 12160, \"party's\": 12161, '128282': 12162, 'alyssawiens': 12163, 'sleigh': 12164, 'chills': 12165, 'terrorwatchusa': 12166, 'socal': 12167, 'kingxstoney': 12168, 'lisp': 12169, 'rellokid': 12170, 'dreamcast': 12171, 'thegoodfella': 12172, 'pours': 12173, 'pulledpork': 12174, 'babyjesus': 12175, 'lilsmokey': 12176, 'legion': 12177, 'vindictive': 12178, 'vengeful': 12179, 'ahhhh': 12180, \"niqqa's\": 12181, 'baldpussy': 12182, 'hoeass': 12183, '4g85sn1afx': 12184, 'kr3tz3r15': 12185, 'bainbridgians': 12186, 'ohmyjizzitsliv': 12187, 'tyracountryman': 12188, 'michelleharnois': 12189, 'spunk': 12190, 'cluis838': 12191, 'acewuzhere': 12192, '6am': 12193, 'redbook': 12194, 'leoncountrybwoy': 12195, 'yute': 12196, 'brows': 12197, 'darg': 12198, 'monseehuerta': 12199, 'tictacsforsex': 12200, 'therealiman': 12201, 'karl': 12202, 'lagerfeld': 12203, 'snowday2014': 12204, 'itusp1wvoi': 12205, 'bradshaw': 12206, 'blond': 12207, 'robocop': 12208, 'sacks': 12209, 's5wznkhjw4': 12210, 'brucevh': 12211, 'espnnfl': 12212, 'zmkwgnzoct': 12213, 'degg': 12214, \"cnn's\": 12215, 'correspondent': 12216, 'asslxrd': 12217, 'hwkj01': 12218, 'pushinweight': 12219, 'dmankow69': 12220, 'astropatriot': 12221, 'prr9jkrbsp': 12222, 'sonsof': 12223, 'realnigger': 12224, 'qualitaties': 12225, \"kenzie's\": 12226, \"lol'd\": 12227, 'xvwl4rgd7u': 12228, 'pigd': 12229, 'dozen': 12230, 'sikorskey': 12231, 'anaya': 12232, 'crowther': 12233, 'fredericks': 12234, 'tierrraaaaa': 12235, 'marlsoul': 12236, 'bekysawyer': 12237, \"johnson's\": 12238, 'muscle': 12239, 'wlvtlggdpg': 12240, 'weddle': 12241, 'jzbccsn75h': 12242, 'cracks': 12243, 'frannyhilison': 12244, 'pattiemallette': 12245, 'denim': 12246, 'tolerating': 12247, 'cuckoldcock': 12248, 'molotovhowdy': 12249, 'bulletdeezy': 12250, 'ass2fat': 12251, 'thundathighs': 12252, 'jellyrolls': 12253, 'imstillsexy': 12254, 'deme': 12255, 'asadita': 12256, 'madurito': 12257, 'thevrefs': 12258, 'hardardt7': 12259, 'tenure': 12260, 'mijdg6x6uc': 12261, 'dewis14': 12262, 'totheov': 12263, 'dbrad': 12264, 'coleduff24': 12265, 'peckadelic': 12266, 'bgulll1611': 12267, 'whammers': 12268, 'bill215': 12269, 'nel': 12270, 'ayden': 12271, 'cuteeeee': 12272, 'brandondgk420': 12273, 'boards': 12274, 'edition': 12275, 'wherzdabudd': 12276, 'docket': 12277, \"'misery'\": 12278, 'harassment': 12279, 'undeniable': 12280, 'breakherdown': 12281, 'houdiniofcod': 12282, 'blessjesusair': 12283, 'matthew': 12284, 'heavenly': 12285, 'emers': 12286, 'iamextra': 12287, 'justtoomuchcake': 12288, 'habichuelas': 12289, '64iwjvx2xe': 12290, 'chirp': 12291, 'teamiphone': 12292, 'iamdjsituation': 12293, \"friend's\": 12294, 'clutchaction': 12295, 'vl': 12296, 'aloneinmyownwar': 12297, 'uploading': 12298, 'easportsfifa': 12299, 'amazin': 12300, 'celebrations': 12301, 'anxious': 12302, 'classiertrash': 12303, 'mommemusthaves': 12304, 'mmmh': 12305, 'bptrtxcel0': 12306, 'kristincruz': 12307, 'exmoshow': 12308, 'romyraves': 12309, 'bling': 12310, 'dooms': 12311, 'gutta': 12312, 'dadon': 12313, 'nubuck': 12314, 'qivkeptlkj': 12315, 'teamboosieboo': 12316, 'crispyy': 12317, 'coronadior': 12318, \"loyal'\": 12319, 'barbers': 12320, 'alexiisstarr': 12321, 'occupyslu': 12322, 'cain': 12323, 'kinkygoose': 12324, 'mangos': 12325, 'anarchy': 12326, 'crippled': 12327, 'klttygirl': 12328, 'vvhehwdrwf': 12329, 'bryce': 12330, 'paychecks': 12331, 'f0mzqjwcrp': 12332, 'theshardyrebel': 12333, 'starbuckssanae': 12334, 'plagiarists': 12335, 'dbco': 12336, 'jtsijbulvc': 12337, 'jayondatass': 12338, 'dalmesquita13': 12339, 'imdevincarlson': 12340, 'myboy': 12341, \"everyone's\": 12342, 'amoz1939': 12343, 'haiku': 12344, 'mijikai': 12345, 'sideways': 12346, 'laughable': 12347, 'artalegaspare': 12348, 'flameeee': 12349, 'mtmcly': 12350, 'tricycle': 12351, 'angelaaau': 12352, 'theyalltatifans': 12353, 'beeguwop': 12354, 'sw3rkocw1c': 12355, 'maxnostalgia': 12356, 'f7d0mxcexj': 12357, 'dub': 12358, 'thedukeknight': 12359, 'cantista': 12360, 'brelston': 12361, 'henereyg': 12362, 'sfx': 12363, 'cape': 12364, 'tweefs': 12365, 'adubbffamous': 12366, '4meshewill': 12367, 'fukkk': 12368, 'isellgreencards': 12369, 'mssashabelle': 12370, 'pleasant': 12371, 'djdmt': 12372, 'discontinued': 12373, 'conmanbo': 12374, 'lastgreatstand': 12375, 'williamb': 12376, 'mixyarts': 12377, 'foles': 12378, '9ers': 12379, 'everyjuan': 12380, 'skullmandible': 12381, 'weve': 12382, 'white12': 12383, 'tools': 12384, 'huns': 12385, 'uztkgawtfm': 12386, 'decatur': 12387, 'mead': 12388, 'takeyaah': 12389, 'jhaocx1mtd': 12390, 'freshestcrook': 12391, 'mamatosha': 12392, 'bulb': 12393, 'samafuckinga': 12394, 'leyahhhh': 12395, 'transformers': 12396, 'dayma': 12397, 'micaela': 12398, 'tattedpapichulo': 12399, 'stomps': 12400, 'chnxcplzwr': 12401, 'noyvous': 12402, 'kathrynbruscobk': 12403, 'fposfldoxw': 12404, 'bloombergnews': 12405, 'eh6i7dojuz': 12406, 'checcin': 12407, 'bout2gocrazy': 12408, 'aintnolevelz2disshit': 12409, 'nzubuc2qpr': 12410, 'jessitron': 12411, 'bsilverstrim77': 12412, 'minnie': 12413, '804': 12414, 'dexluger': 12415, 'u1dqv3eev3': 12416, 'aftermath': 12417, 'nowwww': 12418, 'bangbros': 12419, 'honeybadger': 12420, 'angelalonz': 12421, 'outtapocketjuju': 12422, '2qjljj6tk5': 12423, 'thoughtkendali': 12424, 'lk8w8jjgli': 12425, 'honeysays': 12426, 'charging': 12427, 'warped': 12428, 'yayyyyy': 12429, 'gaaaaaaaaaaaay': 12430, 'garfield': 12431, 'yeahhhhhh': 12432, 'supermanu': 12433, 'nbasuperheroes': 12434, 'thinklikerandy': 12435, 'spongebobmemory': 12436, 'sash': 12437, 'flinging': 12438, 'stringing': 12439, 'slinging': 12440, 'slasher': 12441, 'lowkeystoner': 12442, '127946': 12443, 'ove': 12444, 'nighha': 12445, 'patchouli': 12446, 'earthpix': 12447, 'xnralt1phm': 12448, 'cashin': 12449, 'fucka': 12450, 'thnk': 12451, 'wishywashy': 12452, '9203': 12453, 'ihatemoon': 12454, 'vanish': 12455, 'raymond': 12456, 'felton': 12457, 'beckdeemyg': 12458, 'zjyxci9ram': 12459, 'iec6bdqzow': 12460, 'matress': 12461, 'hellmel': 12462, 'jayfacts': 12463, 'drewbrees': 12464, 'dailymail': 12465, 'apt': 12466, 'masks': 12467, 'atkloiqfzz': 12468, 'hvbhwjrken': 12469, 'hy0ung': 12470, 'toed': 12471, 'cobenotkobe': 12472, 'iamthedannibal': 12473, 'noblockheads': 12474, 'idivwbjqpa': 12475, 'xxsarafina': 12476, 'johnny55perez': 12477, 'iguess': 12478, 'theyll': 12479, 'brokeback': 12480, 'lenoirauteur': 12481, 'azealiabanks': 12482, 'pjs': 12483, 'cackling': 12484, 'odifass': 12485, 'tarekfatah': 12486, 'tariksalym': 12487, 'sactownprodigy': 12488, 'mavs': 12489, 'cowgirls': 12490, 'michealallen72': 12491, 'hangout': 12492, 'murdaaamike': 12493, 'trophies': 12494, 'bjergsen': 12495, 'rune': 12496, 'biglovemusic': 12497, 'tiddy': 12498, 'boominator': 12499, 'cureourcountry': 12500, 'clinton': 12501, 'hillaryslosers': 12502, 'candidates': 12503, 'r8fjtcsj5o': 12504, 'faammoverall': 12505, 'iucrwofdts': 12506, 'houuuse': 12507, 'pajamas': 12508, 'udigg': 12509, 'greekpharaoh': 12510, 'admitted': 12511, 'truefriendsarebasictogether': 12512, 'politico': 12513, 'rney': 12514, 'gallup': 12515, 'comfy': 12516, 'mafenske': 12517, 'believed': 12518, \"noah's\": 12519, 'arc': 12520, 'assign': 12521, \"minaj's\": 12522, 'gosox': 12523, 'gopats': 12524, 'jessmelkum': 12525, 'filtering': 12526, 'barb': 12527, 'a9k3hjjgg9': 12528, \"hester's\": 12529, 'parris69': 12530, 'danovskis': 12531, 'flappybprob': 12532, '273': 12533, '8255': 12534, 'lifeline': 12535, 'ghat': 12536, 'britain': 12537, 'coalition': 12538, '5gjsmrfzwj': 12539, 'hayden1': 12540, '55st': 12541, 'extradressing': 12542, 'mellow': 12543, 'tieddd': 12544, 'cater': 12545, 'ginagaus': 12546, 'crossbow': 12547, 'heyy': 12548, \"'it's\": 12549, 'vltspk8u4s': 12550, 'lamborghinibow': 12551, 'g6az9ryubq': 12552, 'imthatsubieguy': 12553, 'ciroc': 12554, 'ribo333': 12555, 'secupp': 12556, 'whiskeyqueeen': 12557, 'pdplive': 12558, '10th': 12559, '7xcl4kyiuv': 12560, 'lifeofshan': 12561, 'zcnp1ljoow': 12562, 'acre': 12563, 'mesha': 12564, 'nojas': 12565, 'jf6u54cmw3': 12566, 'rashaansalaami': 12567, 'concepts': 12568, 'sadtweet': 12569, '7j0hm1lp97': 12570, 'thirlrection': 12571, 'gringo': 12572, 'bonnet': 12573, 'squarebutts': 12574, '1bad': 12575, 'keyboards': 12576, 'mettadamnfool': 12577, 'k2tu1s85t6': 12578, 'drivemy': 12579, 'lexis': 12580, 'pgsvqt9p2d': 12581, '100x': 12582, 'dreammn': 12583, 'expectomichaela': 12584, 'messaged': 12585, 'stooooned': 12586, 'bsrwtmkw87': 12587, 'femaiestweets': 12588, 's1jagsjw6p': 12589, 'lykqlhq0wt': 12590, 'decreasing': 12591, 'mckooley': 12592, 'spite': 12593, 'tyeonhi': 12594, 'chasemylovex': 12595, 'sincerelytumblr': 12596, 'tcujpkoc': 12597, 'godzilla': 12598, 'here4timis': 12599, 'kissesxx': 12600, 'dealership': 12601, 'roofs': 12602, 'steveersh': 12603, 'quinthegreat': 12604, 'lucki': 12605, 'jhbqhpup2m': 12606, 'slurp': 12607, 'io': 12608, 'osi': 12609, 'tangi': 12610, 'tangible': 12611, 'terryn': 12612, 'atunga': 12613, 'lea': 12614, 'lahi': 12615, 'mai': 12616, 'notoriousbeep': 12617, 'folie': 12618, 'deux': 12619, 'fours': 12620, 'doggy': 12621, 'ez': 12622, 'taughtu': 12623, '5200lora': 12624, 'purelyfootball': 12625, 'kimabakken': 12626, 'almeria': 12627, 'chompers': 12628, 'candyass': 12629, 'hysterical': 12630, 'leticiamvrie': 12631, 'yungtweetgod': 12632, 'scaffoldjocky': 12633, 'willy': 12634, 'toby': 12635, 'mongoloid': 12636, 'rmp': 12637, 'raid': 12638, 'consciousfuck': 12639, 'ipedbpbjm5': 12640, 'grahamorama': 12641, 'c6nhwublxn': 12642, 'amazinmixbeauti': 12643, 'tommyguns': 12644, 'torah': 12645, 'kiarasmallzz': 12646, 'tiene': 12647, 'cansada': 12648, 'rbojwlariq': 12649, '1042390': 12650, 'aches': 12651, 'diggabitch': 12652, 'hittsblunt': 12653, 'ypwo5rqwld': 12654, 'youlove': 12655, 'girrrrl': 12656, 'crazzzzy': 12657, 'blackoutninja15': 12658, 'rnic': 12659, 'ogsitti': 12660, 'screenshot': 12661, 'j8jdic3wvg': 12662, 'yaboytosh': 12663, 'x0ghhf0imn': 12664, 'az5950': 12665, 'darrenburton': 12666, 'recyclables': 12667, 'angiee': 12668, 'r6te1dxp': 12669, 'niggieesmalls': 12670, 'mistressofsham': 12671, 'pees': 12672, 'djevilone': 12673, 'woodlands': 12674, 'juco': 12675, 'smallest': 12676, \"d1's\": 12677, 'guccisaybur': 12678, 'fishy': 12679, 'singers': 12680, '2trippymcneely': 12681, 'truesmokeryfb': 12682, 'messinwithsasquach': 12683, 'thatdamntwerk1': 12684, 'kohkohbxtchzz': 12685, 'daberellla': 12686, 'demolishing': 12687, 'awydbjxks4': 12688, 'racheldoesstuff': 12689, 'luuuuube': 12690, 'luuuube': 12691, 'dental': 12692, 'lbr': 12693, 'prettyne': 12694, 'prettyflvck0': 12695, '128665': 12696, 'oooh': 12697, \"bb's\": 12698, 'halftimespeech': 12699, 'theracedraft': 12700, 'uteutzkjok': 12701, 'sessy': 12702, 'msrock4ever': 12703, 'mcconnell': 12704, 'parasite': 12705, 'voteblue': 12706, 'alisonforky': 12707, 'thelovely': 12708, 'r2mhwqc2jt': 12709, 'wae': 12710, 'thrones': 12711, 'suchaprick': 12712, 'hopehegetskilled': 12713, 'littlesavage': 12714, 'questioned': 12715, 'traplord': 12716, '1takehov': 12717, \"reese's\": 12718, 'apolonio': 12719, '3niswlpnec': 12720, 'jimtalbot1963': 12721, 'theharris338': 12722, 'taymy': 12723, 'huffy': 12724, 'mouthed': 12725, 'girlbye': 12726, \"dn't\": 12727, 'hilareejay': 12728, 'beefin': 12729, 'uxszexguju': 12730, 'violation': 12731, 'ladiesluv': 12732, 'audi': 12733, 'gerfingerpoken2': 12734, 'nsme': 12735, 'redskind': 12736, 'deemef': 12737, 'crop': 12738, 'waisted': 12739, 'roulettista': 12740, 'mertesacker': 12741, 'dove': 12742, 'bb': 12743, \"actin'\": 12744, 'nicolleashby': 12745, 'chewy': 12746, 'pager': 12747, 'deprecating': 12748, 'straights': 12749, 'allies': 12750, 'crazyy': 12751, 'nyash': 12752, 'whisperer': 12753, 'imitate': 12754, 'fyps': 12755, 'jq3rb6gyqh': 12756, 'beardednixon': 12757, 'poont': 12758, 'swat': 12759, 'qruvcvnepv': 12760, 'decoy': 12761, '253hippy': 12762, 'j8b2jaadxk': 12763, 'brwnskinbeaute': 12764, 'tinypinkisboss': 12765, 'gedddit': 12766, 'profeten': 12767, \"'m\": 12768, 'niemand': 12769, 'exacte': 12770, 'leeftijden': 12771, 'aicha': 12772, 'opeens': 12773, 'zelfs': 12774, 'oud': 12775, 'hump': 12776, 'amcwalkingdead': 12777, '39fpsgb7hk': 12778, 'hbic': 12779, 'bobmuellerwkrn': 12780, 'trashed': 12781, 'draught': 12782, 'uvwkhpeswh': 12783, 'tfcbooks': 12784, 'vivek': 12785, 'balk': 12786, 'veyaqnaidg': 12787, 'meee': 12788, 'vhfbltqlnv': 12789, 'rayyyzor': 12790, '100gram': 12791, 'delight': 12792, 'poptart': 12793, 's6znlvlvli': 12794, 'braves': 12795, 'dcc': 12796, 'equipment': 12797, 'datexehmm': 12798, 'intimidate': 12799, 'monica': 12800, \"don'tbedumb\": 12801, 'jacuzzi': 12802, 'infamouscoryog': 12803, 'tiredoftyranny': 12804, 'roadside': 12805, 'detonate': 12806, 'corayma': 12807, 'luivillesluggah': 12808, 'trekgang': 12809, 'iucm6oevy3': 12810, 'smokeweed': 12811, 'teamloudpack': 12812, 'loveablepinky': 12813, 'dougbenson': 12814, 'lucasbros': 12815, 'gotdayum': 12816, 'noreigastacks': 12817, 'crutch': 12818, 'patrickkimmis': 12819, 'white1979': 12820, 'rotary': 12821, '240s': 12822, 'pornandcole': 12823, 'conoc': 12824, 'tus': 12825, 'ojos': 12826, 'vivir': 12827, 'ellos': 12828, 'ellehueyxiv': 12829, 'vainhumility': 12830, 'naming': 12831, '2times': 12832, 'relo': 12833, 'stvepvmzzz': 12834, 'recruited': 12835, 'buku': 12836, 'warehouse': 12837, 'oliver': 12838, 'kingluger': 12839, 'asada': 12840, 'tajadas': 12841, 'verde': 12842, 'queso': 12843, 'xbl': 12844, 'nexxx': 12845, 'moniqueeedavis': 12846, 'bayjackson3': 12847, 'dork': 12848, 'flciking': 12849, 'karessanv': 12850, 'sr0chfxl4g': 12851, 'ipreferariplz': 12852, 'coordinator': 12853, 'chancellor': 12854, 'bitchimasavage': 12855, 'domworldpeace': 12856, 'nab': 12857, 'daniellle': 12858, 'nfltalkrt': 12859, 'dou': 12860, 'shadows': 12861, 'gottttta': 12862, 'madddddd': 12863, 'senmikelee': 12864, \"mccain's\": 12865, 'standtall': 12866, 'myownfriend': 12867, 'shantrell': 12868, 'cuties': 12869, 'c7hj3dvngp': 12870, 'bandworld1': 12871, 'eyez': 12872, 'nydnsports': 12873, 'espo4710': 12874, 'stfrancisnews': 12875, 'juicccyray': 12876, 'queenoni': 12877, \"frontin'\": 12878, 'suspend': 12879, 'virginnnn': 12880, 'bitchimfancy': 12881, 'hardball': 12882, 'milbank': 12883, 'tendicies': 12884, 'infor': 12885, 'buckets5': 12886, 'nikedownluis15': 12887, 'illist': 12888, 'flash7414': 12889, 'oso': 12890, 'brandincooks': 12891, 'tracker': 12892, 'aeuekmhkqx': 12893, 'saertjemirror': 12894, 'amongst': 12895, 'analysis': 12896, 'clout': 12897, 'tacal': 12898, 'ibezo': 12899, 'flopping': 12900, 'plaid': 12901, 'douchekevin': 12902, 'gottem': 12903, 'scheich': 12904, 'nichollsodeon': 12905, 'ntg2b0qdmx': 12906, 'strangleme': 12907, 'mikelreparaz': 12908, 'wdywt': 12909, 'dkyqcnruno': 12910, 'doee': 12911, 'pusxy': 12912, 'medaoriginbitch': 12913, 'femalejokerhoee': 12914, 'scressful': 12915, 'restricton': 12916, 'revoked': 12917, 'we7obtketb': 12918, 'mindofamadd': 12919, 'melillitay': 12920, 'fitted': 12921, 'girbuad': 12922, 'lovecarolina': 12923, 'hx1wghjazy': 12924, 'wichard': 12925, 'fella': 12926, 'warrenholstein': 12927, 'mentallity': 12928, 'dogbountyhunter': 12929, 'warmachine170': 12930, 'chiricahua': 12931, 'eatmytazer': 12932, 'leggo': 12933, 'kingego': 12934, 'yflu32xh': 12935, 'johnathan': 12936, 'manup': 12937, 'brutus': 12938, 'charliedaniels': 12939, 'riahsm': 12940, 'hoesaintloyal': 12941, 'p4misiv5a1': 12942, 'leviticus': 12943, '58': 12944, 'zoakn1zlhm': 12945, 'privacy': 12946, 'chalecarlo5': 12947, 'bipolar': 12948, 'faaz71': 12949, 'taakstraf': 12950, 'herkenbaar': 12951, 'hesje': 12952, 'eigen': 12953, 'buurt': 12954, 'pleit': 12955, 'jaren': 12956, 'bevreesd': 12957, 'ooit': 12958, \"da'k\": 12959, 'wer': 12960, 'becool4': 12961, 'swahh': 12962, 'jvm1k8togx': 12963, 'therealkeyvone': 12964, 'rlly': 12965, 'yaseenxkahn': 12966, 'trishaann': 12967, 'vjtechsupport': 12968, 'youngmcfly': 12969, 'theonetruedisco': 12970, 'jackelope': 12971, 'pegasus': 12972, 'bearer': 12973, 'histo': 12974, 'fuckry': 12975, 'motivate': 12976, 'scoonz': 12977, \"crush's\": 12978, 'screenname': 12979, 'stared': 12980, 'killpiffy': 12981, 'pataki': 12982, 'laffy': 12983, 'xsalute': 12984, 'baddazz': 12985, 'conformation': 12986, 'zag': 12987, 'wii': 12988, 'controller': 12989, 'samross58': 12990, 'parseltounge': 12991, 'basilisk': 12992, 'obrien': 12993, 'mrzsixtrue': 12994, 'surrender': 12995, 'divinity': 12996, 'conquerors': 12997, 'apocalypse': 12998, '9qv5rsy1p3': 12999, 'biggerboat99': 13000, 'freegucci': 13001, 'freeradric': 13002, 'ja8t60vgge': 13003, 'unreported': 13004, 'mo2m6q3xtt': 13005, 'hesitate': 13006, 'kassigod': 13007, 'kels': 13008, 'oneill': 13009, 'wheneminemsaid': 13010, 'emkb7osgqd': 13011, 'kizzmybutt': 13012, 'jewlzsantana': 13013, 'scott1023': 13014, 'yrvqjxeyqo': 13015, 'doperthanyola': 13016, 'letsbereal': 13017, 'xobeauty': 13018, 'scoop82294': 13019, 'receipts': 13020, 'bitchyest': 13021, 'pachino': 13022, 'praising': 13023, 'celebs': 13024, 'theellenshow': 13025, 'dopeman': 13026, \"y'a\": 13027, 'korrect973': 13028, 'wuzzername': 13029, 'sorries': 13030, 'humxnerror': 13031, 'kenzo': 13032, 'detroitgirls': 13033, 'aasthaxoxo': 13034, 'gypmatic45': 13035, 'newsfeed': 13036, 'tfotrkw25v': 13037, 'riseofthefags69': 13038, 'tico': 13039, 'dreadjackson': 13040, 'expiration': 13041, 'homestand': 13042, '5ntacrq43m': 13043, 'removing': 13044, 'mrgam3r49': 13045, 'mallett': 13046, 'distracted': 13047, 'tgrozay': 13048, 'jell': 13049, 'guapoaficionado': 13050, 'idochips': 13051, 'badonka': 13052, 'ankh': 13053, 'ronald': 13054, 'iongi': 13055, 'ummmmmm': 13056, '4bvlsci5k5': 13057, 'bowyer': 13058, 'knighter01': 13059, 'caution': 13060, 'mccain': 13061, 'carny': 13062, 'zt690bktri': 13063, \"teacher's\": 13064, 'progress4ohio': 13065, 'bamitsjustmary': 13066, 'eccfbqzlkz': 13067, 'k1mb0slyc3': 13068, 'darrion': 13069, 'vxkcg4ygxf': 13070, 'parkerwidly': 13071, 'thankgod': 13072, 'missvoshay': 13073, 'vaientinescards': 13074, 'y75aw0olm3': 13075, 'ooooo': 13076, 'aamu': 13077, 'antbreezyobb': 13078, 'quest': 13079, 'ingredients': 13080, 'caribbean': 13081, 'jerked': 13082, 'otg': 13083, 'kapo': 13084, 'sotoo': 13085, 'dixiealley': 13086, 'wolfvanhalen': 13087, 'williebeaminn': 13088, 'coburn': 13089, 'tretyler': 13090, '108': 13091, 'okiecops': 13092, 'uncledaddy69': 13093, \"california's\": 13094, 'fuckked': 13095, 'celebovickotf': 13096, 'graduate': 13097, 'cnas': 13098, 'roastin': 13099, 'p43u1qubwk': 13100, 'dariusferg14': 13101, 'lilnthebasedgod': 13102, 'uloue2qx3p': 13103, 'materialized': 13104, 'atom': 13105, 'yahariah': 13106, 'septicais': 13107, 'qpzx198vnt': 13108, 'masque': 13109, 'frosstyy': 13110, 'bestsagittarius': 13111, 'compassionate': 13112, 'shanafin34': 13113, 'committ': 13114, 'cite': 13115, 'niiquebaby': 13116, 'iyuiuhqr0l': 13117, 'mea': 13118, 'marsdablackman': 13119, 'gpbi04yobq': 13120, 'hokage': 13121, 'notgrimey': 13122, 'naptural': 13123, 'vubkmfqyaj': 13124, 'timbersfc': 13125, 'chevron': 13126, 'stripe': 13127, 'brandee876': 13128, '1meyqq7b6g': 13129, 'kassidypeek': 13130, 'rebelganja': 13131, 'centreville': 13132, 'cville': 13133, 'hq4q6zfwjh': 13134, 'imperfections': 13135, 'broaddayjay': 13136, 'thermals': 13137, 'classicbray': 13138, 'gumzewrpy3': 13139, 'jesseleesoffer': 13140, 'ng5': 13141, 'tumblrfunniest': 13142, 'paperball': 13143, '215e0h0ps9': 13144, 'sandler': 13145, 'comedian': 13146, 'tazheadorn': 13147, 'klansman': 13148, 'salondotcom': 13149, 'foolishreporter': 13150, 'cx': 13151, 'withfinesse': 13152, '4got': 13153, 'santosvictorero': 13154, 'peddoc63': 13155, 'meme': 13156, 'kryshazeyy': 13157, 'combing': 13158, '2000': 13159, 'fixitjesusx': 13160, 'chrisprobst11': 13161, 'thorsyndirgard': 13162, 'goldie': 13163, 'brim': 13164, 'felonious': 13165, 'munk': 13166, 'antijokeapple': 13167, 'grad': 13168, 'utcoach': 13169, 'kasiaaa': 13170, 'errrnigga': 13171, 'teairri': 13172, 'melle': 13173, 'lmaoatbasics': 13174, 'madisonearhart': 13175, 'drinkbreak': 13176, 'treymcgruder233': 13177, 'dewd': 13178, 'leemcastro': 13179, 'blogger': 13180, 'moxy': 13181, 'credentials': 13182, 'weaaak': 13183, 'shiiittt': 13184, 'snitchn': 13185, 'itaint': 13186, 'celeynichole': 13187, 'shyanna': 13188, 'adogg': 13189, 'barker10': 13190, 'tworxrojei': 13191, 'starstunnatbgh': 13192, 'jimmymciver': 13193, '68w': 13194, 'jeffrey': 13195, 'dommer': 13196, 'ratchetandsassy': 13197, '80arx0qjxz': 13198, 'manatti23': 13199, 'adrien': 13200, 'freckbars': 13201, 'iamquinichole': 13202, 'battling': 13203, 'prime13': 13204, 'w7ohscbg3l': 13205, 'realscottietee': 13206, 'dlrk2i04ho': 13207, 'grandbaby': 13208, '9aayrrknbt': 13209, 'nyeoman': 13210, 'belichick': 13211, 'jomousley80': 13212, 'pilchards': 13213, 'krackerwheat': 13214, 'repeating': 13215, 'cpyo5yp005': 13216, 'kellyosbourne': 13217, 'ovaaaaaa': 13218, 'zeller': 13219, 'nominating': 13220, 'parodies': 13221, 'asinine': 13222, 'condemn': 13223, 'm6cnv3ysmv': 13224, 'humorisaweapon': 13225, 'kay239': 13226, 'yessssirrrrr': 13227, 'ceyb1b3rf0': 13228, 'zhou': 13229, 'ichrisp': 13230, 'nessauzc': 13231, '128094': 13232, 'vietnamese': 13233, 'jkqld5vodm': 13234, 'earlybird': 13235, 'sunrise': 13236, 'thebird': 13237, 'jerryreed': 13238, 'kuvq8upwuw': 13239, 'rasheed': 13240, 'lysettemariee': 13241, 'likemicah': 13242, 'onlyy': 13243, 'manchild1077': 13244, 'speedwagon': 13245, 'fatbands': 13246, 'smuts': 13247, 'underwear': 13248, 'corrinybug': 13249, 'carcarroni': 13250, 'sincerest': 13251, 'odlew11': 13252, 'reneashac': 13253, 'threehoez': 13254, 'poboy': 13255, 'pummeled': 13256, 'qsdw8mqnsl': 13257, 'rizkybiznezz': 13258, 'adamjferraro': 13259, 'dorky': 13260, 'streit': 13261, 'penetrated': 13262, '8ye0rtk7xc': 13263, 'amaurer13': 13264, 'ryanh': 13265, 'br7el4zxrw': 13266, 'bitten': 13267, 'goligoski': 13268, 'mcgrath': 13269, 'tourists': 13270, 'meadow': 13271, 'gasping': 13272, 'kickit': 13273, 'zones': 13274, 'sr1zcehx': 13275, 'grandeftlou': 13276, \"arizona's\": 13277, 'mellopsycho': 13278, 'whacker': 13279, 'bathtime': 13280, '7kpwadlf0r': 13281, 'awwwwe': 13282, 'secured': 13283, 'acliqhq5pv': 13284, 'fuccccck': 13285, '1041216': 13286, 'jayare': 13287, 'aly': 13288, 'somthing': 13289, 'chuckie': 13290, 'herps': 13291, 'bratty': 13292, 'phalaenadispar': 13293, 'natyyg': 13294, 'freeladdin': 13295, 'dfkymadk3b': 13296, 'forevs': 13297, 'jordan23junkies': 13298, 'speckled': 13299, 'cmencarini': 13300, 'nxj4qqgmx2': 13301, 'ozwashere': 13302, 'russonpolitics': 13303, 'magov': 13304, 'sofuckingswazye': 13305, 'bmxuyp8ehh': 13306, 'sparked': 13307, 'peels': 13308, 'vitaminsemen': 13309, 'classicpict': 13310, 'zstrqbpwpw': 13311, 'takers': 13312, 'trades': 13313, 'retrospidey': 13314, 'sumorerun': 13315, 'winningassnick': 13316, 'divorces': 13317, 'handcuffs': 13318, 'stroking': 13319, 'mandaxll2963': 13320, 'timopleasant': 13321, 'manichakr': 13322, 'itni': 13323, 'bahaduri': 13324, 'hamesha': 13325, 'marne': 13326, 'ko': 13327, 'tayyar': 13328, 'rehte': 13329, 'clarenceville': 13330, 'livlopezzz': 13331, 'cityboicoop': 13332, 'coochcakes': 13333, 'mypotnab': 13334, 'pant': 13335, 'lmpa15kaiz': 13336, 'terminated': 13337, \"rice's\": 13338, 'hurling': 13339, 'sonnen': 13340, 'jzsuschrist': 13341, 'acted': 13342, 'mart88': 13343, 'jaheim': 13344, 'donell': 13345, 'ginuwine': 13346, 'dru': 13347, 'subtweettweettweettweet': 13348, 'steam': 13349, 'ezo2quqvhu': 13350, 'emm': 13351, 'shiiii': 13352, 'yungtfti': 13353, 'eeeeeee': 13354, 'fg': 13355, 'impacted': 13356, '9taj2ouscc': 13357, 'flirtywords': 13358, 'mlperkinsjr': 13359, 'robertgbeckel': 13360, 'andreatantaros': 13361, 'thefive': 13362, 'skurred': 13363, 'kdwoapyvd0': 13364, 'whops': 13365, 'jamaicajones': 13366, 'rillo': 13367, 'virginiayumyum': 13368, 'fare': 13369, 'supermarket': 13370, 'kimikvi0': 13371, 'kevantee': 13372, \"let'r\": 13373, 'upwards': 13374, 'kmurder1000': 13375, 'kuntimkeesh': 13376, 'itsupwitpc': 13377, 'x2pac': 13378, 'thuglord': 13379, 'havana': 13380, 'happin': 13381, 'thareallilwang': 13382, 'jfcthdedcz': 13383, 'saraelizabethj4': 13384, 'napa': 13385, 'fewer': 13386, 'injured': 13387, 'deepinhergut': 13388, 'stunner': 13389, 'cattle': 13390, 'prod': 13391, 'newzhuddle': 13392, 'sammiches': 13393, 'ilovequi': 13394, 'tylercarboner': 13395, 'daveyy': 13396, 'lranderson': 13397, 'hypebeasts': 13398, 'deion': 13399, 'mvo': 13400, 'fascist': 13401, 'bealack': 13402, 'testicoli': 13403, 'lathered': 13404, 'rodmarley44': 13405, 'robbery': 13406, 'uchida': 13407, 'watt': 13408, 'alexfromtarget': 13409, 'chrisfromwalmart': 13410, 'l0xtpsig8z': 13411, 'mannykream': 13412, 'xiibyte': 13413, 'argus': 13414, 'wendygav': 13415, 'dolt': 13416, 'monetkittrell': 13417, 'spaceship': 13418, 'waledayday24': 13419, 'amazement': 13420, 'dec': 13421, 'zakkmcdaniel': 13422, 'utilties': 13423, 'technology': 13424, 'ycwfrv7syx': 13425, 'trhyfjoiwc': 13426, 'waxx': 13427, 'godofmilfs': 13428, 'servers': 13429, '8rbdheia': 13430, 'obv': 13431, 'allbad': 13432, 'jayfucknharris': 13433, 'youuuuu': 13434, 'ayeyoitsdupree': 13435, 'jadapose': 13436, 'uebuobwtbg': 13437, 'slickem': 13438, 'igggggy': 13439, 'yoi': 13440, 'lawtooraw': 13441, 'xa5ing0sc6': 13442, 'jamboree': 13443, 'nvln1xlinw': 13444, 'jc4bkbe8vt': 13445, '934': 13446, '8616': 13447, 'triccin': 13448, 'huggins': 13449, 'chinaafricablog': 13450, 'relations': 13451, \"'china\": 13452, \"allure'\": 13453, '7dwjovmeb': 13454, 'neemjemoeder': 13455, 'steek': 13456, 'vinger': 13457, 'neus': 13458, 'zelfde': 13459, 'nato': 13460, 'stenigt': 13461, 'vrouwen': 13462, 'bosjes': 13463, 'dbankss': 13464, 'orr': 13465, 'immigration': 13466, 'lindsey711xoxo': 13467, 'western': 13468, 'reporters': 13469, 'advertise': 13470, 'thechriscates': 13471, 'naaa': 13472, 'maddd': 13473, 'diein': 13474, 'emmysetter14': 13475, 'saterlyt': 13476, 'shoz': 13477, 'bayg': 13478, 'ul': 13479, 'swearingsport': 13480, \"pirlo's\": 13481, \"who'd\": 13482, 'tennis': 13483, 'shag': 13484, 'tlc': 13485, 'drdolittle': 13486, 'trwmr3hg8v': 13487, 'beijing': 13488, 'guoan': 13489, 'eeseor7iba': 13490, 'failing': 13491, 'xixmcmlxxxv': 13492, 'mouthlikelicka': 13493, 'microphone': 13494, 'checkin': 13495, 'beamiller': 13496, 'circled': 13497, 'theplanetvenus': 13498, 'morello': 13499, 'oitnb': 13500, 'hocus': 13501, 'pocus': 13502, 'lp9xd7qrzp': 13503, 'iampickuplines': 13504, 'fireman': 13505, 'seasons': 13506, 'carlos': 13507, 'ruiz': 13508, 'kimono': 13509, 'rmamisxw5c': 13510, 'woridstarrrr': 13511, 'ew029ozxvg': 13512, 'angus': 13513, 'returnto1776': 13514, 'zj1mk6w7ef': 13515, 'eachother': 13516, 'bullshittin': 13517, 'bevo': 13518, 'macin': 13519, 'crackin': 13520, 'sportswatch': 13521, 'advertising': 13522, '128252': 13523, 'lauderdale': 13524, 'unfilling': 13525, 'vcsnp9ejv9': 13526, 'fromtheshwa': 13527, 'anthonycampos23': 13528, 'smsc86mnbc': 13529, 'misterdimmadome': 13530, 'mutts': 13531, 'usgeminis': 13532, 'kaitlinfryer': 13533, 'oleeeee': 13534, 'marmar': 13535, 'shottie': 13536, 'lloyd': 13537, 'declared': 13538, 'emilyboomboom': 13539, 'harryslaststand': 13540, 'armisticeday': 13541, 'absent': 13542, 'pledge': 13543, 'morningmoneyben': 13544, 'peshmerga': 13545, 'heave': 13546, 'brightened': 13547, 'closes': 13548, 'dl390sbteq': 13549, 'andyherren': 13550, 'aarynelizagries': 13551, 'heavensway': 13552, 'ryantravers1': 13553, 'awfy': 13554, 'reidk': 13555, 'vinnyywright': 13556, 'flyyimpact': 13557, 'vqgezmmwws': 13558, 'vez': 13559, 'japoneses': 13560, 'crearon': 13561, 'atrapaba': 13562, 'ladrones': 13563, 'primero': 13564, 'khzl8pfgct': 13565, 'youboysingreen': 13566, 'rujnu1l7t8': 13567, 'janasiaaa': 13568, 'reject': 13569, 'dchestnut26': 13570, 'pregnancies': 13571, 'illionaire': 13572, 'dgotbricks': 13573, 'vixen': 13574, 'foothill': 13575, 'droided': 13576, 'droid': 13577, 'yeer': 13578, 'papale': 13579, 'beacg': 13580, 'bod': 13581, 'koolestbreeze': 13582, 'iw06cceknd': 13583, 'lavidajeannette': 13584, 'greyfoxxx': 13585, 'vegetarian': 13586, 'savagesaiyan4': 13587, 'doughboyfreco': 13588, 'hahahhaha': 13589, 'xgingeravenger': 13590, 'lacks': 13591, 'babbbbbbyyyy': 13592, 'moeeaseyamind': 13593, 'allly': 13594, 'sunn': 13595, 'youngmiddleeric': 13596, 'killas': 13597, 'ph': 13598, '1personidbitchslap': 13599, 'khamruz': 13600, 'fernandooo': 13601, 'manga': 13602, 'naam': 13603, 'engels': 13604, 'doods': 13605, 'dacht': 13606, 'eerst': 13607, 'iets': 13608, 'gargamel': 13609, 'heet': 13610, 'oja': 13611, 'azrael': 13612, 'jesseabrego': 13613, 'takeover': 13614, '4euk80ulis': 13615, 'hobson': 13616, 'snortcourt13': 13617, 'tripleaaayy1995': 13618, 'allen21': 13619, 'jbake0622': 13620, 'theo17100': 13621, 'byj1hoyhmg': 13622, 'itsdonleach': 13623, 'rozay': 13624, 'goyzfou46i': 13625, 'responsibilities': 13626, '7ufnj2njhp': 13627, 'o0can6gb1p': 13628, 'mondays': 13629, 'brandonjw02': 13630, 'nheecj7ukb': 13631, 'seanlo10s': 13632, 'swankpatrone': 13633, 'nonexistent': 13634, 'excessively': 13635, 'muffie': 13636, 'arthur': 13637, 'hose': 13638, 'cmacswjn5a': 13639, 'tuneluciano': 13640, 'issa': 13641, 'californiadmv': 13642, 'itslegzzyo': 13643, 'yelp': 13644, '9hifdczwqy': 13645, 'lifewitry': 13646, 'i8zxwkxk71': 13647, 'waxy': 13648, 'soften': 13649, 'unnatural': 13650, 'dietschmiet': 13651, 'shakilaahh': 13652, 'm6anq9cqs9': 13653, 'imxnii': 13654, 'pacsun': 13655, 'kanyefaaces': 13656, 'kn1ykrw4j4': 13657, 'wfantrades': 13658, 'nonsensical': 13659, 'c0ooydnq4m': 13660, 'chimpout': 13661, 'summers': 13662, 'aged': 13663, 'salvadoran': 13664, 'metlife': 13665, 'thnvlldut8': 13666, 'squirtology': 13667, 'xoo7ajnd8y': 13668, 'wavykirk': 13669, 'courtaintshit': 13670, 'hives': 13671, 'shaylovesya': 13672, 'fuwop': 13673, 'flavaaaaa': 13674, 'boygoten': 13675, 'n7kp7ds198': 13676, 'heroic': 13677, 'cashmere': 13678, 'nasir': 13679, 'bosslifepiff': 13680, 'stirring': 13681, 'pamiibabesh': 13682, 'gero': 13683, 'guz1012': 13684, 'materialgurlxo': 13685, 'shantaughtuwell': 13686, 'gladyouregone': 13687, 'curing': 13688, 'latter': 13689, 'rake': 13690, 'illuminati': 13691, 'ariesspears': 13692, 'zachfulton72': 13693, 'knoxville': 13694, 'boaaa': 13695, 'naeluckyass': 13696, 'ilovebigtracy': 13697, 'truulifewisdom': 13698, 'ave23': 13699, 'ikeepittooreal': 13700, 'otzfiqmwi0': 13701, 'sttooopp': 13702, 'tonygoldwyn': 13703, 'busters': 13704, 'blameamotherfucker': 13705, 'mikeimbriano': 13706, 'donnas': 13707, \"chaney's\": 13708, 'pthwskjhdy': 13709, 'patsgonnasubtweet': 13710, 'klvyupthatsm3': 13711, 'quanny': 13712, 'joseph': 13713, 'rinche': 13714, 'oogna1zncr': 13715, 'tracksideonline': 13716, 'ginadeb0': 13717, 'prejudice': 13718, 'paaullym': 13719, 'sonic': 13720, 'vibewithme': 13721, 'grandmama': 13722, 'fzb57ysxvz': 13723, 'spazzed': 13724, 'nicely': 13725, 'jtlzergxi0': 13726, 'lovezanda': 13727, 'nignoramus': 13728, 'suggestion': 13729, 'sheriff': 13730, 'sicko': 13731, 'simplest': 13732, 'lighten': 13733, 'kennedyleighxxx': 13734, 'ceut': 13735, 'bushco': 13736, \"o'neill\": 13737, 'trashing': 13738, 'lalacoutureexo': 13739, 'sgvbbrwog2': 13740, 'ble': 13741, '2sassymom': 13742, 'emoticons': 13743, 'motorola': 13744, 'princegreenjr': 13745, 'dgooods': 13746, 'shockingly': 13747, 'devoured': 13748, 'wyis0lvdsi': 13749, 'killdion': 13750, 'christianne': 13751, 'overripe': 13752, 'eggplants': 13753, 'uncletweet': 13754, 'appointed': 13755, 'responsible': 13756, 'maintain': 13757, 'lalageminiland': 13758, 'delaislaaa': 13759, 'ovoxo': 13760, 'alamillo': 13761, 'dailyrapfacts': 13762, 'djmustard': 13763, 'antville': 13764, 'idkconstancio': 13765, 'inbed': 13766, 'poppadom': 13767, 'livinthedream': 13768, 'obgyn': 13769, 'h0sqoptyfx': 13770, 'stitch': 13771, 'judgement': 13772, 'majjinn': 13773, 'buu': 13774, 'prim': 13775, 'sith': 13776, 'jedi': 13777, 'micdrop': 13778, 'pragathiguru': 13779, 'viswa': 13780, 'moulie': 13781, 'basedlightskin': 13782, 'wgd3mnd55v': 13783, 'bibie': 13784, 'sw0a1hqhyy': 13785, 'thriiiuminati': 13786, 'congressman': 13787, 'dfndcqwdax': 13788, 'joanwalsh': 13789, 'orchetect': 13790, \"35'\": 13791, 'pon3': 13792, 'cameo': 13793, 'tngseason4finale': 13794, 'mitrykizer': 13795, 'vaginaaholic': 13796, 'deeschronicles': 13797, 'precept': 13798, 'kilmeade': 13799, 'foxandfriends': 13800, 'lightskins': 13801, 'necessity': 13802, 'cruel': 13803, 'sofancyy': 13804, 'lxk0yycvr4': 13805, 'theeeese': 13806, 'bryanhoch': 13807, '113': 13808, 'pitchers': 13809, 'catchers': 13810, 'academic': 13811, 'wereyouraisedinabarn': 13812, 'zachbooty': 13813, 'dresser': 13814, 'bigcatcooke': 13815, 'elite8': 13816, 'awaits': 13817, 'sweet16': 13818, 'gpcyv2jyry': 13819, 'jrwrz': 13820, 'blinkers': 13821, 'moveoutmyway': 13822, 'chewing': 13823, \"passerby's\": 13824, 'requesting': 13825, 'mouthwork': 13826, 'moneymakers': 13827, 'thevinnette': 13828, 'seantheterrible': 13829, 'mustbecharm': 13830, 'ileny13': 13831, 'gisellemaryy': 13832, 'urbie': 13833, 'singlebecause': 13834, 'tgold32': 13835, 'connorbradley': 13836, 'phoney': 13837, 'dirtyxluxury': 13838, 'wilma': 13839, 'imjustvee': 13840, 'muthafxcka': 13841, 'khernns': 13842, 'vnpacheco21': 13843, 'xoxoclaire': 13844, 'treyhunter': 13845, 'medgmon': 13846, 'steezy': 13847, 'alexistiefa': 13848, 'coool': 13849, 'juliansantomaur': 13850, 'haylgroot': 13851, 'jennholly': 13852, 'downloading': 13853, 'axl': 13854, 'robot': 13855, 'kdot': 13856, 'i1rnkjmkeu': 13857, '127861': 13858, 'baileyadams22': 13859, '0ushmogzdr': 13860, 'mineeeee': 13861, 'zolmguj5hk': 13862, 'mortimer': 13863, 'wiigjosh': 13864, 'iowa51005': 13865, 'tc': 13866, 'live2014': 13867, 'complimentary': 13868, 'iroib': 13869, '1weypg8rer': 13870, 'straightup': 13871, 'nansemond': 13872, 'reasonswhywedontgetalong': 13873, 'zubiaa': 13874, '3o3': 13875, 'switches': 13876, 'khadijzah': 13877, 'mrfayoh': 13878, 'entertainment': 13879, 'embrace': 13880, 'partaking': 13881, 'deeswaggyjay93': 13882, 'hesitates': 13883, 'vianka': 13884, 'tailorlamar': 13885, 'luubgl9y5u': 13886, 'mvps': 13887, 'heismybitch': 13888, 'joleendoreen': 13889, 'jizzatthescene': 13890, 'atlantic': 13891, \"answer's\": 13892, 'simplyshaay': 13893, 'vibinwitthegods': 13894, 'digital': 13895, 'thorpe': 13896, 'emily': 13897, 'xiqirbq7mp': 13898, \"destiny's\": 13899, 'banqq': 13900, '1jayee': 13901, 'itskeejay': 13902, 'linkup': 13903, 'formed': 13904, 'initiating': 13905, 'm10eezy': 13906, 'repping': 13907, 'gypsydylann': 13908, 'vintagebeezy15': 13909, 'luhv': 13910, 'tioo': 13911, 'hay': 13912, 'rn0vrzfl6l': 13913, 'jaaziel': 13914, 'angles': 13915, 'stuff4blackppl': 13916, 'fletchworld73': 13917, 'winked': 13918, 'rotting': 13919, 'socket': 13920, 'xm': 13921, 'shesleslee': 13922, 'wendella': 13923, 'jlrapkdlys': 13924, 'coryw182': 13925, 'ajoyaaa': 13926, 'vhia': 13927, 'ursula': 13928, 'h07mrmawxp': 13929, 'buckwheat': 13930, 'porky': 13931, 'bo96nels2p': 13932, 'takeoff': 13933, 'surfer': 13934, 'bk5unhqo3z': 13935, 'callers': 13936, 'yrds': 13937, 'smith64': 13938, 'iexaminetitties': 13939, 'oc': 13940, 'yfubgwq4tw': 13941, 'rockiefresh': 13942, 'costly': 13943, '2fine4cheapwine': 13944, 'yahoo': 13945, 'heartlessfuck': 13946, 'dhsjournal': 13947, 'cp': 13948, 'loudest': 13949, 'hitters': 13950, 'yankeestadium': 13951, 'chesteredits': 13952, 'nacbiller': 13953, 'psyqo': 13954, 'viewfromboxseat': 13955, 'prtini': 13956, 'pr20chat': 13957, 'aladdin': 13958, 'diggins86': 13959, 'chloeonvine': 13960, 'jethromass': 13961, 'cxrs5bvhpw': 13962, 'ohhmyytodd': 13963, 'tmark617': 13964, 'tropicth': 13965, 'pens': 13966, 'derringereagle': 13967, 'rios1': 13968, 'fac': 13969, 'nadinelumley': 13970, 'hajihuntinggrl': 13971, 'life091': 13972, 'wagging': 13973, 'ybejeff': 13974, 'wgihekh5qb': 13975, '9am': 13976, 'earlobe': 13977, 'rplxlayloj': 13978, 'nastiest': 13979, '7su1uifuns': 13980, 'cuunthiaaa': 13981, 'itssjayda': 13982, 'leaisalioness': 13983, 'uykb0t3fba': 13984, 'gish': 13985, 'wunna': 13986, '2rhn5hpasb': 13987, 'druggzz': 13988, 'welt': 13989, 'mattwho': 13990, 'exchange': 13991, 'deliver': 13992, 'temptation': 13993, 'tagging': 13994, 'herassfat': 13995, 'redundant': 13996, 'hines': 13997, 'dracula': 13998, 'kidnap': 13999, 'axes': 14000, 'shetrillaryc': 14001, 'danicim': 14002, 'rosiezaya1': 14003, 'thornton': 14004, 'nevvvvva': 14005, 'carlavanderwaal': 14006, 'jaymaroley': 14007, 'syrie': 14008, 'volg': 14009, 'partisangirl': 14010, 'zij': 14011, 'vandaan': 14012, 'zal': 14013, 'precies': 14014, 'uitleggen': 14015, 'diettime': 14016, 'rontheanchorman': 14017, 'jmattear': 14018, 'kimball': 14019, 'x5gyz46kot': 14020, 'mavtv500': 14021, 'sch': 14022, 'colinfreeze': 14023, 'aimv7gib24': 14024, 'mlnestel': 14025, 'ajuau5ywiv': 14026, 'lorenzoluciano': 14027, 'iifetip': 14028, '40w2a8qlby': 14029, 'runofplay': 14030, 'goodbyebreakingbad': 14031, 'switchedatbirth': 14032, \"'no\": 14033, \"zone'\": 14034, 'ariza': 14035, 'itsmegrizz': 14036, 'uknow': 14037, 'thotslovenike': 14038, 'prissyneeer': 14039, 'swaggverified': 14040, 'tyjust': 14041, 'liketre': 14042, 'roeee': 14043, 'spannerhead29': 14044, 'basura': 14045, 'nshit': 14046, 'charmarie': 14047, 'byrd': 14048, 'azh2ql6lwn': 14049, 'soulyodeler': 14050, '6iuthyvhqm': 14051, 'gociveix': 14052, 'lyns': 14053, 'riri': 14054, 'heyzeus666': 14055, 'commentators': 14056, \"buddy's\": 14057, 'istayradasshit': 14058, 'mwie7fkbu0': 14059, 'foreall': 14060, 'formally': 14061, 'holmes0786': 14062, 'karenrfm': 14063, 'parenting': 14064, 'wrench': 14065, 'rooseveltspbs': 14066, 'dvrtime': 14067, 'wcve': 14068, 'amigo': 14069, 'stoked': 14070, 'ezzzylove': 14071, 'anntelnaes': 14072, 'ktnbyutykw': 14073, 'princexfbgm': 14074, '9z9pxvnf89': 14075, 'squaddd': 14076, 'freee': 14077, 'lilgrim': 14078, '4dafame': 14079, 'k1ngmello': 14080, 'ravie': 14081, 'loso': 14082, 'daytime': 14083, 'w8sh2alvia': 14084, 'cmcek4h6cv': 14085, 'escort': 14086, 'missions': 14087, 'universally': 14088, 'ocd': 14089, 'kellendaniel': 14090, 'buggs': 14091, 'viis': 14092, 'ivs': 14093, 'lajethrojenkins': 14094, 'yrpgm7jc1s': 14095, 'megancammalleri': 14096, 'perkins': 14097, 'notworldstar': 14098, 'llvitxwemx': 14099, 'commandments': 14100, '85z6pyxgpj': 14101, 'chokers': 14102, 'noheels': 14103, 'tsvumw92hu': 14104, 'menace2society': 14105, 'reconnaissance': 14106, 'jaredreve': 14107, 'hxhassan': 14108, 'hajjaj': 14109, 'ajmi': 14110, 'airport': 14111, 'zmlokfwdql': 14112, 'sidehoenextdoor': 14113, 'xoxoclauudia': 14114, 'yassssss': 14115, 'firstly': 14116, 'secondly': 14117, 'youd': 14118, 'taser': 14119, 'boos': 14120, 'savin': 14121, 'checkmyaura': 14122, 'malik07': 14123, 'kfqy4oufgo': 14124, 'freemax': 14125, 'skitdaddle': 14126, 'bxslcshjhe': 14127, 'ozps1zhobc': 14128, 'zzzentropy': 14129, 'trilla': 14130, 'peterpandacat': 14131, 'elegant': 14132, 'ouxwbytut6': 14133, 'turbo': 14134, 'himkk7fyxb': 14135, 'gforgent': 14136, 'sumblime': 14137, 'indiangiver': 14138, 'spandex': 14139, 'taylorgrisbhy': 14140, 'judgmen': 14141, 'bailed': 14142, 'aliyahgrubb': 14143, 'inboxing': 14144, 'kiking': 14145, 'dming': 14146, 'snapchatting': 14147, 'emailing': 14148, 'parsons': 14149, 'richiesuavee': 14150, 'zjjyrgcz9y': 14151, 'troyave': 14152, 'bestsongtohavesexto': 14153, 'bangbang': 14154, 'hunneds': 14155, 'sexually': 14156, 'uavdkzbaut': 14157, '700': 14158, 'weakening': 14159, 'environmental': 14160, 'infinitely': 14161, 'dipex': 14162, 'yrichn': 14163, 'ronny': 14164, 'kamm': 14165, 'forest': 14166, 'walkout': 14167, 'chuchi': 14168, '89hh52pcue': 14169, 'titanium': 14170, \"'winter'\": 14171, 'rrkxbwg1u4': 14172, 'versacegawdd': 14173, 'festivals': 14174, 'trapwithronnie': 14175, 'mitchtierney': 14176, 'omw': 14177, 'arabspring': 14178, 'stephmcmahon': 14179, 'checkpoint': 14180, '0l0kg': 14181, 'lpfjviwrqn': 14182, 'frenzy': 14183, 'sshop': 14184, 'badshah200': 14185, 'stlabubadu': 14186, 'threat2': 14187, 'apostate': 14188, 'kufar': 14189, 'cld': 14190, 'einvs4yqpf': 14191, 'jaystuh72': 14192, 'sportsdude53': 14193, 'redlegs': 14194, 'loyallll': 14195, 'michelleb': 14196, 'rapeyass': 14197, 'fireinfreetown': 14198, 'mileysbae': 14199, \"justin's\": 14200, 'wt5ssof9rw': 14201, 'ohhshedopee': 14202, 'toryrvgxr': 14203, 'gjxthtpjpu': 14204, 'choo': 14205, 'eleycome': 14206, 'eleygo': 14207, 'flings': 14208, 'cap1': 14209, 'younngmel': 14210, 'rainier': 14211, 'shooters': 14212, 'peeabut': 14213, 'sooner': 14214, 'fardousaa': 14215, 'drreams': 14216, 'ihitmodelsraw': 14217, \"another's\": 14218, 'lpynvqwxxx': 14219, 'seasonal': 14220, 'prayin': 14221, 'dmkbghai1z': 14222, 'uglyni99ah': 14223, 'flaco': 14224, 'katiebentel': 14225, 'pretti': 14226, 'thebashionista': 14227, 'blushin': 14228, 'blasio': 14229, 'nypd': 14230, 'yoouuuuu': 14231, 'hooouseee': 14232, 'hijack': 14233, 'presser': 14234, 'z2wko9ripz': 14235, 'wowitsdylan': 14236, 'themattanderson': 14237, 'ahaaaa': 14238, 'duhhrt': 14239, 'symptoms': 14240, 'ratedtfxrtaylor': 14241, 'bbcollins32': 14242, 'tbgyikpv1e': 14243, 'partna': 14244, '2weeks': 14245, 'somehoee': 14246, 'videriquamesse': 14247, 'executioner': 14248, \"mi6's\": 14249, 'inzpvpf2tn': 14250, 'istaylowkey': 14251, 'plnmhgu4yy': 14252, 'nicarrag': 14253, 'nashgrier': 14254, 'tuhhnaeee': 14255, 'forevea': 14256, 'helloookrisssy': 14257, 'witta': 14258, 'summa': 14259, 'lyingggggg': 14260, 'curti': 14261, 'jusguapo': 14262, 'scandai': 14263, 'suzi8loaoe': 14264, 'sjmjiysthi': 14265, 'nativecurator': 14266, 'changethename': 14267, 'redskinsfacts': 14268, '23vgqvehy5': 14269, 'newnewgotbandz': 14270, 'aleeed': 14271, 'unreads': 14272, 'msgs': 14273, 'kay25': 14274, 'whiteypants11': 14275, 'payton': 14276, 'ptd5rapztd': 14277, 'o7rexl0teu': 14278, 'liltreprod': 14279, 'ksteven37': 14280, 'kf6pgzvh5g': 14281, 'mykall': 14282, 'asfck': 14283, 'mrtqx99g5l': 14284, 'crayon': 14285, 'caked': 14286, 'vdnufgj37p': 14287, 'irregulargawd': 14288, \"phone's\": 14289, 'bu': 14290, 'rtgifs': 14291, 'dominique': 14292, '360': 14293, 'vs6e3z0c2u': 14294, 'baby24': 14295, 'alsarabsss': 14296, 'docked': 14297, 'icelestial': 14298, 'bosxe': 14299, 'amirite': 14300, 'bigot': 14301, 'dawnnadukes': 14302, 'votewendydavis': 14303, 'lnaew8ccod': 14304, \"'til\": 14305, 'turndown': 14306, 'follin': 14307, 'idontclaimhoes': 14308, 'proton': 14309, 'jailmail': 14310, 'cooopster98': 14311, 'chase123456718': 14312, 'gears': 14313, 'sombody': 14314, 'chrisssssyxo': 14315, 'lice': 14316, \"bf's\": 14317, 'runeshashamia': 14318, 'carpedehope': 14319, 'marielevisual': 14320, 'homegrown': 14321, 'misssneed': 14322, 'desiee': 14323, 'megann': 14324, 'rjakagunner': 14325, 'worship': 14326, 'talent': 14327, 'gotnohoes': 14328, 'pugs': 14329, 'stayin': 14330, 'gregorious13': 14331, 'dumpsters': 14332, 'ul4epha2qy': 14333, 'hmo9bxol0x': 14334, '0xdlxtoci8': 14335, 'guzxabjixj': 14336, \"chavez's\": 14337, 'glove': 14338, 'downs': 14339, 'sufaj32': 14340, 'cargo': 14341, 'juanyeeze': 14342, \"kill'lees\": 14343, 'kendracae': 14344, 'wompers': 14345, 'scoundrels': 14346, 'imaspiderg': 14347, 'millerlite': 14348, 'irejectslimhoes': 14349, 'princesslexii16': 14350, 'pimpc': 14351, 'clubbb': 14352, 'damnnnn': 14353, '45fv79cv0z': 14354, 'waited': 14355, 'snry6a7vyb': 14356, 'truebake': 14357, 'tajmahal': 14358, 'padrino': 14359, 'abellaxxx': 14360, 'broiler': 14361, 'parlay': 14362, 'notyourrealpapa': 14363, 'thingsiliketodo': 14364, 'serenading': 14365, 'zrgrizz': 14366, 'paling': 14367, 'minivan': 14368, 'killaaakam': 14369, 'bp': 14370, 'remote': 14371, 'controlled': 14372, 'mt3b09slod': 14373, '1040788': 14374, '1041237': 14375, 'yuuuuuuuuuaaaaaaa': 14376, 'slikhawk': 14377, 'gohawks': 14378, '0injjm374v': 14379, 'llvvzz': 14380, 'mascot': 14381, 'blessjesuslove': 14382, 'belated': 14383, 'sixty': 14384, 'fifth': 14385, 'agnes': 14386, 'aram2432': 14387, 'askd': 14388, 'westwest': 14389, 'phampel': 14390, 'woohoo': 14391, 'itsjustmexo': 14392, 'fuckheads': 14393, 'elizbian': 14394, 'sweeter': 14395, 'gushin': 14396, 'dignity': 14397, 'georjay': 14398, 'zoeboi03': 14399, 'bofl': 14400, \"po'\": 14401, 'metairie': 14402, 'idliketocare': 14403, 'idpetition': 14404, 'manifesto': 14405, 'twitlonger': 14406, 'adopt': 14407, 'nofuks007': 14408, 'osay': 14409, 'kq0r0a7z2g': 14410, 'crusts': 14411, 'bummed': 14412, 'jonahair23': 14413, 'stub': 14414, 'rilluh': 14415, 'ilikewgw': 14416, 'shortest': 14417, 'wuw': 14418, 'wun': 14419, 'uv': 14420, 'iamcolinquinn': 14421, 'reboot': 14422, 'dickhole': 14423, 'menaa1': 14424, 'duggy': 14425, 'mybuttsweats': 14426, 'rover': 14427, 'sloppily': 14428, \"again'\": 14429, 'littlechelleeee': 14430, 'obnoxious': 14431, 'audible': 14432, 'omha': 14433, 'williep252': 14434, 'fuckthesteelers': 14435, '9vemnxduql': 14436, 'httpjaebee': 14437, 'gettn': 14438, '127744': 14439, 'sweaterweather': 14440, 'booty4ever': 14441, 'zptckqybam': 14442, 'tannehill': 14443, 'livylohan': 14444, 'trappa': 14445, 'gmel': 14446, 'tinytino842': 14447, 'fumny': 14448, 'marcusdenton': 14449, 'ogbitchh': 14450, 'raythagawd': 14451, 'alistraivyn': 14452, 'beethetranny': 14453, 'darrionmarz': 14454, 'downloads': 14455, 'belindaav': 14456, 'trvvp': 14457, 'lc5gsfovxs': 14458, 'mika': 14459, 'dougnut': 14460, 'zahra': 14461, 'a29mllx62b': 14462, 'musicians': 14463, 'mackgotti': 14464, 'bai': 14465, 'bitcccccch': 14466, 'nhb8omaqkm': 14467, 'worldtraveis': 14468, '2tytqj3fec': 14469, \"ariana's\": 14470, 'alexissert': 14471, 'gasbag': 14472, 'julisa': 14473, 'utampa': 14474, 'grounds': 14475, 'heyamandakrebs': 14476, 'aceves': 14477, 'sabathia': 14478, 'denzie': 14479, 'wakes': 14480, 'berrydabody': 14481, 'sheisdope': 14482, 'wheeltod': 14483, 'dty2geavke': 14484, 'governorship': 14485, 'conceds': 14486, 'unfdqcqhyk': 14487, 'whoooo': 14488, 'loldyrus': 14489, '1300': 14490, 'sunny': 14491, 'eastsidedame': 14492, 'nolovee': 14493, 'carlybaejepsen': 14494, 'g0ldeng0ddess': 14495, 'marriott': 14496, 'playes': 14497, 'poof': 14498, 'vamoose': 14499, 'lynnogawa': 14500, 'kvioaiepcb': 14501, '5iiive': 14502, 'sb4': 14503, 'e8baxoypgg': 14504, 'coolgirl71899': 14505, 'bitchplease': 14506, 'uqq0k8h89l': 14507, 'zfunk007': 14508, 'realfortes': 14509, 'grudges': 14510, 'prominent': 14511, 'forums': 14512, '9vafk90dou': 14513, 'schedules': 14514, 'poole': 14515, 'direct': 14516, 'layovers': 14517, 'samfeistcnn': 14518, 'cnnpolitics': 14519, 'improvement': 14520, 'sonned': 14521, 'tvrczo99oe': 14522, 'h76rptl8wq': 14523, 'johnfaheyiii': 14524, 'noaa': 14525, 'earthdaynoaa': 14526, 'cashbethemotive': 14527, 'allovevie': 14528, 'waaaaannnnnt': 14529, \"halloween's\": 14530, '15k': 14531, 'confrused': 14532, 'yogottikom': 14533, 'nigggs': 14534, 'brooks': 14535, 'idontcare': 14536, 'kdstreak': 14537, 'imsad': 14538, 'feelinmarvelous': 14539, 'santi': 14540, 'bamoose12': 14541, 'qualitest': 14542, 'wisewordsfromwebb': 14543, 'jaaaaaade': 14544, 'theyloveblaq': 14545, 'athea': 14546, 'onnat': 14547, 'beeeitch': 14548, 'afterearth': 14549, 'gnarlsdarkley': 14550, 'randle': 14551, 'kwe5j13o9b': 14552, 'theoilogy': 14553, 'whooooo': 14554, 'chelsey': 14555, 'chew': 14556, 'footer': 14557, 'flemingryan5': 14558, '1eye': 14559, 'sngynagulc': 14560, 'breakkkk': 14561, 'ehasselbeck': 14562, 'jock': 14563, 'po0pdogg': 14564, 'loveable': 14565, 'aizah': 14566, 'chung': 14567, 'ofjlxao5sf': 14568, 'simplyforkicks': 14569, 'oop': 14570, 'ladarinaintshit': 14571, 'cellophane': 14572, 'formula': 14573, 'mild': 14574, 'howdydowdy11': 14575, 'gaywad': 14576, 'muzzled': 14577, 'fis8qnvlxu': 14578, 'examinercom': 14579, 'skurting': 14580, 'mothafuckin': 14581, 'jacobs': 14582, 'celebratin': 14583, 'pattychocmilk': 14584, 'loizi6fm6u': 14585, 'maddie': 14586, 'karissa': 14587, 'cierra': 14588, 'hearin': 14589, 'tuff': 14590, 'fuccd': 14591, 'gohard': 14592, 'daddy9': 14593, 'genetic': 14594, 'engineering': 14595, 'clones': 14596, 'ifihadme1': 14597, 'qlt02elfaf': 14598, 'ksecus': 14599, 'tankees': 14600, 'kishtwistemup': 14601, 'cyberobama': 14602, 'ereievant': 14603, 'tansformers4': 14604, 'cit': 14605, 'timoteoshonesto': 14606, \"4'\": 14607, 'weenie': 14608, 'jrs': 14609, \"mino's\": 14610, 'daboss': 14611, 'qr3oegnjli': 14612, 'virginities': 14613, 'mpoindc': 14614, 'waxman': 14615, 'leduff': 14616, 'jkfldghi': 14617, 'tittie': 14618, 'gatordwqam': 14619, 'agholor': 14620, 'cavanagh': 14621, 'anathema': 14622, 'merch': 14623, 'mari': 14624, 'daraobriain': 14625, 'voeckler': 14626, 'schleck': 14627, 'contador': 14628, 'bleekbrown': 14629, 'miramar': 14630, 'byejaliee5sos': 14631, 'mtvhottest': 14632, 'snipesjr': 14633, 'scratched': 14634, 'prettyjade': 14635, 'poc': 14636, 'dadude1914': 14637, 'rhianna': 14638, 'guysssss': 14639, 'itslizkhalifa': 14640, 'sorcery': 14641, 'kater': 14642, 'mitchbattiste': 14643, 'kanyeshrug': 14644, 'lipstickjovie': 14645, 'beyoncehair': 14646, 'jesscorsoncle': 14647, 'sitter': 14648, 'northeast': 14649, 'clepets': 14650, 'clevelan': 14651, 'liberienne': 14652, 'sextape': 14653, 'lustboy': 14654, 'kakao': 14655, 'tsm': 14656, 'wifingsquad2014': 14657, 'shedontbelongtoyou': 14658, 'shebelongstotheworld': 14659, '2anow': 14660, 'deeply': 14661, 'devotedly': 14662, 'waitress': 14663, 'fur': 14664, 'gla': 14665, 'digaveliavelife': 14666, 'statue': 14667, 'mouthpiece': 14668, 'xfleezus': 14669, 'j4ckmull': 14670, 'nye': 14671, 'data': 14672, 'kimble': 14673, 'zyelon': 14674, 'bovprgb4w9': 14675, 'looters': 14676, 'ebt': 14677, 'pays': 14678, 'lipstickyoda': 14679, 'respectable': 14680, 'lax': 14681, 'gooddeed': 14682, 'fant4stic63': 14683, 'bi1rq6a1ur': 14684, 'dodgerofzion': 14685, 'rooster': 14686, 'tray': 14687, 'rn0swwuiq9': 14688, 'mrgeology': 14689, 'cement': 14690, 'taxing': 14691, 'gobbling': 14692, 'lnfiicted': 14693, \"gif's\": 14694, 'television': 14695, 'council': 14696, 'y3gnt4l7vc': 14697, 'mraugustaisina': 14698, 'thereaipinkyxxx': 14699, 'mgkyd': 14700, 'saluting': 14701, 'swagfags': 14702, 'tiffanirenee3': 14703, 'ciddyp': 14704, 'cheerleader': 14705, 'cimarron': 14706, 'bap': 14707, 'clack': 14708, 'windy': 14709, 'buzzzzz': 14710, 'tegan': 14711, 'sara': 14712, 'alysssmithh': 14713, 'keveeed': 14714, 'x3oapfm3e8': 14715, 'iscoutgirls': 14716, 'darthmaverick7': 14717, 'xcntrik': 14718, 'religulous': 14719, 'chrispyosh': 14720, 'liyyy': 14721, 'sdoocy': 14722, 'outnumbered': 14723, 'thankfully': 14724, 'dismembered': 14725, 'notashley': 14726, 'jasmyncyniquee': 14727, 'subtweeted': 14728, 'zeke': 14729, 'selfcuttinggirl': 14730, 'dunce': 14731, 'lifee': 14732, 'drilled': 14733, 'z7ksrfpmz9': 14734, 'litterally': 14735, 'values': 14736, 'chucktodd': 14737, 'pitch': 14738, 'doorstep': 14739, 'melodies': 14740, 'schiffer': 14741, 'tcobryce': 14742, 'trustin': 14743, 'gullible': 14744, 'carded': 14745, 'framp': 14746, 'tunj': 14747, 'ainnn': 14748, 'iamjayla': 14749, 'oharrd': 14750, 'trev': 14751, 'buschi': 14752, 'thundercurlz': 14753, 'reallly': 14754, 'randall': 14755, 'yeathtsmybitch': 14756, 'outttta': 14757, 'pimpinnn': 14758, 'kevineffinskaff': 14759, 'stuft': 14760, 'buffalodave1': 14761, 'alexfoxx13': 14762, 'brandonkilexxx': 14763, 'jccharles8': 14764, 'tylergloyd': 14765, 'bansky': 14766, 'retirin': 14767, 'tweettully': 14768, 'chazer': 14769, \"lyte's\": 14770, 'theacetjshow': 14771, 'sculpture': 14772, '5izmlkvzzv': 14773, 'hornymen': 14774, 'linch': 14775, 'winksosa': 14776, 'aintshitsweet': 14777, 'rakwon': 14778, 'ogod': 14779, '5mnxkvayot': 14780, 'esco': 14781, 'tvvitterfamouse': 14782, '761mk9zkci': 14783, 'askdems': 14784, 'caucus': 14785, 'cuzz': 14786, 'soccergrlprobs': 14787, \"germany's\": 14788, 'dimitricrossin': 14789, 'belbert11': 14790, 'buhrowaustin': 14791, 'anzueto': 14792, 'mackey15': 14793, 'continuously': 14794, 'tweetgamelazy': 14795, 'jumpmastere8': 14796, 'dmcgowen1776': 14797, 'visitorvisiting': 14798, 'vinny': 14799, 'kkarleigh': 14800, 'toein': 14801, 'anabsurdbird': 14802, 'scruffy': 14803, 'favourite': 14804, 'muthaafuckin': 14805, 'wifing': 14806, 'purchases': 14807, 'wtmf': 14808, 'thunderpunched': 14809, 'tonipmusic': 14810, 'woahh': 14811, 'ahha': 14812, 'robe': 14813, 'kncwbpc8ez': 14814, 'nevertrustt': 14815, 'amcoiny0wg': 14816, 'iceteaa': 14817, 'chelousmuch': 14818, 'chicagotribune': 14819, 'refund': 14820, 'shortened': 14821, 'sammyk1429': 14822, 'cloydriverspics': 14823, \"flowin'\": 14824, \"shown'\": 14825, 'shotgunned': 14826, 'mer': 14827, 'zuai7qwbir': 14828, 'harbison92': 14829, 'turnthatshituplouder': 14830, 'techn9ne': 14831, 'teardrop': 14832, 'uuecu3abqv': 14833, 'cooties': 14834, 'herpes': 14835, 'bunnyasmin1125': 14836, 'ajade': 14837, 'wilw': 14838, 'shorter': 14839, 'mel': 14840, 'gibson': 14841, 'selina': 14842, 'dabbagh': 14843, 'hermanos': 14844, 'heisenberg': 14845, 'commits': 14846, 'grounder': 14847, 'innin': 14848, 'ohemmeg': 14849, 'facilitate': 14850, 'motorcycle': 14851, 'hereforeb': 14852, \"luu's\": 14853, 'jmellor432': 14854, 'bla': 14855, 'plash': 14856, 'mobb': 14857, 'fades': 14858, 'tyreon': 14859, 'marines': 14860, 'kvi2xs': 14861, 'yuomxtdht': 14862, 'calf': 14863, 'nunai': 14864, 'fund': 14865, 'rehabilitati': 14866, 'paetlxguoa': 14867, 'youngs': 14868, 'daithpotw5': 14869, 'nascara': 14870, 'domhowx': 14871, 'dwps7b4xju': 14872, 'crazzzy': 14873, 'fixit': 14874, 'obnoxiously': 14875, 'jacobcavenee': 14876, 'xdox4k8yqo': 14877, 'mitch77c': 14878, 'cottage': 14879, 'peppa': 14880, 'barbeeequeee': 14881, 'ueon': 14882, 'clai': 14883, 'nickfilancia80': 14884, 'clair3ismon3y': 14885, 'innerslutty': 14886, 'mideast': 14887, 'amina': 14888, 'ucmj': 14889, 'pshh': 14890, 'plbyuqgerg': 14891, 'suddenlink': 14892, 'guppies': 14893, 'moneychaserr': 14894, 'zrn': 14895, 'lemons': 14896, 'cocainebungy': 14897, '4realroy': 14898, 'nugs': 14899, '127795': 14900, 'beleiber': 14901, 'yagurlbubblez87': 14902, '40xjwfjbvl': 14903, 'fib': 14904, 'ndfootball': 14905, 'l9vmdnoxpg': 14906, 'ghettobird1er': 14907, 'defensive': 14908, 'dwig': 14909, 'selfiequeenbri': 14910, 'thattrilllife': 14911, 'sleept': 14912, 'steiny31': 14913, 'mekv4wyjvq': 14914, 'palms': 14915, '8ironz85': 14916, 'dcole': 14917, '33': 14918, 'bigtqmb': 14919, 'pillz78': 14920, 'kushdahgodd': 14921, 'callmedaishaa': 14922, 'pocahontas': 14923, 'rapture': 14924, 'mydickneedscpr': 14925, 'eefthf0tvb': 14926, 'ihqswj9vog': 14927, \"'92\": 14928, 'perot': 14929, 'sisteena': 14930, 'rsberto': 14931, 'haiti': 14932, 'ohyeahtrip': 14933, 'mushroom': 14934, \"countin'\": 14935, 'compares': 14936, '128156': 14937, 'fmjlvmeqdo': 14938, 'protrill': 14939, 'jammer': 14940, 'wrongwaybennett': 14941, 'eatta': 14942, 'bestofmessages': 14943, 'kiaoqyr3i4': 14944, 'kylamock2': 14945, 'scottlinnen': 14946, 'trench': 14947, 'fedora': 14948, 'iwatch': 14949, 'toddstarnes': 14950, 'representative': 14951, 'zbuo9zoj2e': 14952, 'yellitout': 14953, 'louud': 14954, 'latodd': 14955, 'honeyydip': 14956, 'gingersospicy': 14957, 'wheezy': 14958, 'chronic': 14959, 'gaaybriel': 14960, 'kenya': 14961, 'brandiiii': 14962, 'balloon': 14963, 'float': 14964, 'gregyballs': 14965, 'drewhelms21': 14966, 'uhhdrugs': 14967, 'dorks': 14968, 'magnets': 14969, 'xxehphwwwr': 14970, 'glitch': 14971, 'evolves': 14972, 'india': 14973, 'raheel': 14974, 'propphet': 14975, 'ram': 14976, 'sita': 14977, 'ijeahr3cji': 14978, 'apologise': 14979, 'politibunny': 14980, 'harass': 14981, 'dared': 14982, 'spendin': 14983, 'morningstusesh': 14984, '10aminfairview': 14985, 'layouts': 14986, 'pits': 14987, 'stankin': 14988, 'pushy': 14989, 'datboysmokeyy': 14990, 'pwi': 14991, 'pilgrims': 14992, 'corybooker': 14993, 'grannywinkle': 14994, 'hellyeah': 14995, 'bacongawd': 14996, '2prvskante': 14997, 'hleym0yc29': 14998, 'macon': 14999, 'rinky': 15000, 'infested': 15001, 'itssylviaplath': 15002, 'directions': 15003, 'thatgirlkhaila': 15004, 'gracias': 15005, 'por': 15006, 'jugar': 15007, 'corazon': 15008, 'ganarle': 15009, 'tommylasorda': 15010, '3fytvuznzb': 15011, 'tdot': 15012, 'italians': 15013, 'mangia': 15014, 'italianproblems': 15015, 'erineph': 15016, 'roth': 15017, 'swooping': 15018, 'wilkos': 15019, 'agqwqzwtzx': 15020, 'bias': 15021, 'sonsofanarchy': 15022, 'jamiedupree': 15023, 'willmcavoyacn': 15024, 'firstworldproblems': 15025, 'juxtaposition': 15026, 'goddess': 15027, 'lameapocalypses': 15028, 'elliott': 15029, 'bind': 15030, 'providing': 15031, 'tampico': 15032, 'cuteoverloads': 15033, 'gmk5dbjajq': 15034, 'gotnoset': 15035, 'cheetos': 15036, 'slumpin': 15037, 'brittanyaflores': 15038, 'kamri': 15039, 'notoyota': 15040, 'felz': 15041, 'troubleman': 15042, 'wsfights': 15043, 'ndm5dyslcf': 15044, 'christymack': 15045, 'chested': 15046, 'ldotnl5pna': 15047, 'whaddoyoumean': 15048, 'beardedgemini': 15049, 'geee': 15050, 'therealkevinmcb': 15051, 'sauerkraut': 15052, 'saul': 15053, 'rileyaintshit': 15054, 'fajita': 15055, 'corporatebarbie': 15056, 'eugh': 15057, 'kejonasavage': 15058, 'chocgirl': 15059, 'bouncers': 15060, 'eleven8': 15061, 'sadaclay': 15062, '5nwxpqxhnf': 15063, 'steakhouse': 15064, 'painting': 15065, 'clubbing': 15066, 'bam00se': 15067, 'insides': 15068, 'heterochromia': 15069, 'iridum': 15070, 'sarahlevitz': 15071, 'chrisworldpeace': 15072, 'typically': 15073, 'tw9nl5hkmt': 15074, 'damola49': 15075, 'ademulla': 15076, 'gayest': 15077, 'bigred2ots': 15078, 'whoswilly': 15079, 'collinflemons': 15080, 'polynesians': 15081, 'rubbers': 15082, 'u4dfp2xj9b': 15083, 'wouldve': 15084, 'nikejap': 15085, 'wjfjmsf8av': 15086, 'nipseyhussle': 15087, 'crenshaw': 15088, 'dblbyvx0pl': 15089, 'avlwkkd8rw': 15090, '128054': 15091, 'uhxtogp4jz': 15092, '4l0mrpditf': 15093, 'lexataughtyou': 15094, 'staple': 15095, 'brew': 15096, 'sophi': 15097, 'fvxkcollin': 15098, 'chjfoqzy6m': 15099, 'shroom': 15100, \"callin'\": 15101, 'dahomiefuzz': 15102, 'treaters': 15103, 'mrridethruthad': 15104, 'badbish': 15105, 'rollaan': 15106, 'somexlcan': 15107, 'kinggki': 15108, 'shld': 15109, \"'look\": 15110, \"smart'\": 15111, 'disgusted': 15112, 'gladbagflow': 15113, 'baesongz': 15114, 'ahmed': 15115, 'olympic': 15116, 'makesamproud': 15117, 'mqpqzlgckf': 15118, 'twerkn4boba': 15119, '3eigzh6q13': 15120, 'mayasolovely': 15121, 'sparrer': 15122, 'ukulele': 15123, 'realised': 15124, \"miami's\": 15125, 'saambrowning': 15126, 'meatloaf': 15127, 'pear': 15128, 'cobbler': 15129, 'fhc': 15130, 'michaelfraughto': 15131, 'madpatsfan1954': 15132, 'omgitsbabyjoe': 15133, 'landfill': 15134, 'jaureguisturnt': 15135, 'salivating': 15136, 'lethalbizzle': 15137, 'livestock': 15138, 'wrfv9ld6eo': 15139, 'nipping': 15140, 'o5v2e4lftm': 15141, 'behaved': 15142, \"mommy's\": 15143, 'audition': 15144, 'mcflurries': 15145, 'proudmom': 15146, '9hfnsmalcu': 15147, 'tedgibson': 15148, 'letterman': 15149, 'puddle': 15150, \"french's\": 15151, 'hipsterbreeez': 15152, 'briannalovesa': 15153, 'bruhlmaoo': 15154, '2rwy1h0d0f': 15155, 'poiintguard': 15156, 'whoiscoreyking': 15157, 'goodlucc': 15158, 'yaboykip': 15159, '56jkqioepe': 15160, 'antics': 15161, 'accuracy': 15162, 'jocelynb': 15163, 'sarahvicwood': 15164, 'natethaalmighty': 15165, 'grandfather': 15166, 'owipharaoh': 15167, 'rating': 15168, 'yflfubj2po': 15169, 'marcsx9': 15170, 'sicker': 15171, 'flags': 15172, 'niggy': 15173, 'gale12': 15174, 'bellakoval': 15175, 'candacevon': 15176, 'chemicalkidss': 15177, 'fqyxljyiet': 15178, 'illmissu': 15179, 'choochieee': 15180, 'diaval': 15181, 'virtue': 15182, 'girlposts': 15183, 'oubad': 15184, 'countryass': 15185, 'jamiewinn4': 15186, 'electrifying': 15187, 'porkers': 15188, 'pirelli': 15189, 'whit': 15190, 'jillxoxo12': 15191, 'nationalcomingoutday': 15192, 'fattyytooraw': 15193, 'ontario': 15194, 'nqsyeqhgoz': 15195, 'ipostdickprints': 15196, 'brendaaaa05': 15197, 'codine': 15198, 'regionally': 15199, 'huntley': 15200, 'gjbur29bku': 15201, 'dopealbanian': 15202, 'rob215': 15203, 'ot': 15204, 'ballardtheg': 15205, 'penne': 15206, 'steaming': 15207, 'br1mjkk8dz': 15208, 'thristy': 15209, \"walgreen's\": 15210, \"'two\": 15211, \"men'\": 15212, 'kvmdogdclq': 15213, 'dopechubbychick': 15214, 'eager': 15215, 'jennnveee': 15216, 'leotard': 15217, 'naybahoods': 15218, 'hfnsbupwma': 15219, 'lilrambo': 15220, 'dollvsh': 15221, 'ratchet2english': 15222, 'gabbys': 15223, 'qualitywords': 15224, 'imjoshdean': 15225, 'qulrtowmlb': 15226, 'itsdaniellef': 15227, 'adnanespn': 15228, 'ahl': 15229, 'aeros': 15230, 'transplanted': 15231, 'nemesis': 15232, 'determine': 15233, 'prosecutors': 15234, 'zimmy': 15235, 'traytray': 15236, 'bernadettvajda': 15237, 'gingers': 15238, 'builders': 15239, 'maxi': 15240, 'dweeb': 15241, 'hoadie1006': 15242, 'vermontgirlsbelike': 15243, 'vermontproblems': 15244, 'thisisvt': 15245, 'teddydeljones': 15246, 'liberalism': 15247, 'dolphrudager': 15248, 'jonnybones': 15249, 'himse': 15250, 'lanurse1': 15251, 'klsouth': 15252, '2ur': 15253, 'eloquent': 15254, 'ketamine': 15255, 'stalin': 15256, 'waspfacts': 15257, 'treaty': 15258, 'cocainecowboy': 15259, 'darkskinobama': 15260, 'hauling': 15261, 'xtima': 15262, 'gwenstefani': 15263, 'babydontlie': 15264, 'biebs': 15265, 'lildebo2391': 15266, 'flokid88': 15267, 'careless': 15268, 'benballer': 15269, 'nittiyayo': 15270, 'crumb': 15271, 'kayreneeee': 15272, 'kcsnowwhite7': 15273, 'samsaunders42': 15274, 'bamaboyybrandon': 15275, 'predict': 15276, 'danlukas12': 15277, 'qechhko42q': 15278, \"jai's\": 15279, 'irrational': 15280, 'jai': 15281, 'dboi509': 15282, 'twitterafterdark': 15283, 'tweetlikeyourbestfriend': 15284, 'lilkrebs': 15285, 'village': 15286, 'tayknosbest': 15287, 'hernandez': 15288, 'thatkid': 15289, 'vicente': 15290, 'joselopez222': 15291, 'bellos': 15292, 'baddiebelladona': 15293, 'lmfaaoo': 15294, 'donovan': 15295, \"dvd's\": 15296, '2realmacdatfee': 15297, 'gordonshuckrow': 15298, 'credibility': 15299, 'franchein': 15300, 'urs': 15301, 'ltao': 15302, 'lametears': 15303, 'rted': 15304, 'ramos': 15305, 'voguet': 15306, 'anat': 15307, 'ndmelhuwcg': 15308, 'etsy': 15309, 'bugout': 15310, 'ceiling': 15311, 'ally': 15312, 'partyprobs': 15313, 'arashmarkazi': 15314, 'clippers': 15315, 'opener': 15316, 'benton': 15317, 'carve': 15318, \"'james\": 15319, \"x'\": 15320, 'cultist': 15321, 'hereyezlow': 15322, 'thedingojohnson': 15323, 'skinnier': 15324, 'yagirlsmalls': 15325, 'iaughatmypain': 15326, 'bunz': 15327, 'meathead': 15328, 'hoeslovekitty': 15329, 'mitchellharri': 15330, 'immune': 15331, 'gweficrebh': 15332, 'rosco': 15333, 'jaiiiiibree': 15334, 'vwxlbmj7fy': 15335, 'snipes': 15336, 'voltorb': 15337, '7cwatskjwc': 15338, 'approved': 15339, '8madf35zxe': 15340, 'weyheymariam': 15341, 'jaymcnuggets': 15342, 'drk5c0txtq': 15343, 'assholejaay': 15344, 'bowlegged': 15345, 'wordscience': 15346, 'gwenyth': 15347, 'yepitstrey': 15348, \"5'o\": 15349, 'scottdeyager': 15350, 'photshopped': 15351, 'pinhead': 15352, 'johngalt': 15353, 'pistons': 15354, 'josephbananas': 15355, 'ethehustla': 15356, 'anyhow': 15357, 'sixten': 15358, 'damm': 15359, 'xplicitcontent': 15360, 'tractors': 15361, 'dgardner': 15362, 'yonifreedhoff': 15363, 'mortality': 15364, 'dono': 15365, 'shara': 15366, 'sususudafed': 15367, '1043473': 15368, 'expendable': 15369, \"beverley's\": 15370, 'koolassk': 15371, 'solves': 15372, 'badluckbella': 15373, 'yumiyoko': 15374, \"nog's\": 15375, 'saulsof1lthy': 15376, 'yalljustdontkno': 15377, 'millionaires': 15378, 'co69': 15379, 'drillin': 15380, 'cranked': 15381, 'ordinary': 15382, 'dfosx3xkqa': 15383, 'kade': 15384, 'melton': 15385, 'tattedbrunettex': 15386, 'hoesscreamtessa': 15387, 'bankrolls': 15388, 'hansolosson': 15389, 'lordwillin': 15390, 'iamscottybravo': 15391, 'greatness28': 15392, 'inky': 15393, 'cancelled': 15394, \"lerner's\": 15395, 'sista': 15396, 'earlylegend': 15397, 'elmo': 15398, 'jch9hqvlpl': 15399, \"fucc'n\": 15400, 'inhighschool': 15401, 'ntgonline': 15402, 'fitteds': 15403, 'showarrive': 15404, 'kylelewsader': 15405, 'oleanderplume': 15406, 'oleander': 15407, 'blowme': 15408, 'downlow': 15409, 'seaside': 15410, 'whaaat': 15411, 'theangryafrican': 15412, 'kiyxni': 15413, 'fuckcamoclark': 15414, 'dylan72892': 15415, 'nicolas': 15416, 'unrolls': 15417, 'xntftnwuvd': 15418, 'ngecuwehhb': 15419, 'politeasshole': 15420, \"'get\": 15421, \"even'\": 15422, 'uvjgbcpcbu': 15423, 'realsheembacc': 15424, 'treats': 15425, 'mighta': 15426, 'gail': 15427, 'tweebest': 15428, 'routine': 15429, 'xpjzivngao': 15430, 'niagra': 15431, 'bleedingtrap': 15432, '6kjgd0z1x2': 15433, 'lowkei': 15434, 'maarycatherinee': 15435, 'dawqq': 15436, 'agrovelax26': 15437, 'binniemouse': 15438, 'kinghendo95': 15439, 'upcoming': 15440, 'kingofthehill': 15441, 'thealexp': 15442, 'tcaputo44': 15443, 'wordsofadvice': 15444, 'panomera': 15445, 'joservmirez': 15446, 'lukebryanonline': 15447, 'burgers': 15448, 'dierksbentley': 15449, 'tonks': 15450, 'chrisyoungmusic': 15451, 'sccdyhe6ey': 15452, '18th': 15453, 'aqfleck': 15454, 'rmusshy': 15455, 'aa7z9x1kuw': 15456, 'sheemteam97': 15457, '127468': 15458, '127463': 15459, 'sativa87': 15460, 'realigion': 15461, 'miquelpaniscus': 15462, 'arcusgreatapes': 15463, 'graspunep': 15464, 'paris': 15465, 'lac': 15466, 'sassycrass': 15467, 'mlfucqiifa': 15468, 'shoq': 15469, 'copied': 15470, 'killoughcnn': 15471, 'turtleneck': 15472, 'um7ath7tht': 15473, 'brianabrazilian': 15474, 'congressional': 15475, 'hopeful': 15476, 'tisei': 15477, 'uycfeng3b9': 15478, 'idonttrustem': 15479, 'moonsnlullabies': 15480, 'dayreeee': 15481, 'hookahdrive': 15482, 'sc4k': 15483, 'annual': 15484, 'luncheon': 15485, 'renhotels': 15486, 'ericgordon': 15487, 'uj721fmsxb': 15488, 'yfn': 15489, 'cashkillem': 15490, '2fuxrzevtp': 15491, 'svvage': 15492, 'ebolian': 15493, 'lawmakers': 15494, 'legislation': 15495, 'shwqyb76pw': 15496, 'atspace': 15497, 'jamie': 15498, 'pharaohs': 15499, 'jmc2er32ka': 15500, 'deafreaperventus': 15501, 'wayward': 15502, 'murderous': 15503, 'intensifies': 15504, 'qbktwtwfcy': 15505, 'billieboymitch': 15506, 'imyella': 15507, 'morphed': 15508, 'desolation': 15509, 'smaug': 15510, 'bilbo': 15511, 'hobbits': 15512, 'lotr': 15513, 'skpkf0fgne': 15514, 'ray239': 15515, 'keui4xettd': 15516, 'thatindianbruh': 15517, '50k': 15518, 'm4akvz4jgd': 15519, 'overheard': 15520, 'wondered': 15521, 'ihatestevensing': 15522, '1800deeznuts': 15523, 'sterile': 15524, '128115': 15525, 'kecfnjyrwe': 15526, 'hilaryde92': 15527, 'wheelchair': 15528, 'kingcorey': 15529, 'alicia112794': 15530, 'realgilbert': 15531, 'helll': 15532, 'pimpinnpanderin': 15533, 'proofs': 15534, 'mvgt4l8': 15535, 'krazy': 15536, 'playn': 15537, 'zg6x4gdyrz': 15538, 'happppppy': 15539, 'birthdayyyy': 15540, 'yatu7pbshx': 15541, 'rodney': 15542, 'vinnyguadagnino': 15543, 'sarahninjaginga': 15544, 'gino': 15545, 'marley': 15546, 'becreative': 15547, 'sidekick': 15548, \"cutler's\": 15549, 'wassssupsarah': 15550, 'adays': 15551, 'studio6263': 15552, 'bids': 15553, 'fairies': 15554, '5oal2ehhg2': 15555, 'marketing': 15556, 'defiance': 15557, 'alextalksback': 15558, 'tolerated': 15559, 'missile': 15560, 'hegs': 15561, 'clubmetro': 15562, 'irlfatty': 15563, 'sklph3ttog': 15564, 'thotermelon': 15565, 'opportunities': 15566, 'goprograndprix': 15567, 'nk2co0snnv': 15568, 'coney': 15569, 'lous': 15570, 'deli': 15571, 'detroitniccainatlantaproblems': 15572, 'thrillamickilla': 15573, 'joedelawolfpack': 15574, 'brrr': 15575, 'dichter': 15576, 'sint': 15577, 'gebeuren': 15578, 'racistischer': 15579, 'drek': 15580, 'nagenoeg': 15581, 'alleen': 15582, 'prozwartepieten': 15583, 'hoek': 15584, 'engvolk': 15585, 'taylorlopez96': 15586, 'harleighpurolla': 15587, 'curlyhairkilla': 15588, 'rickbakas': 15589, \"keef's\": 15590, 'imknownasdevin': 15591, 'wu6jitce0u': 15592, 'blur': 15593, 'hillzzz': 15594, 'jediknightwing': 15595, 'pornstars': 15596, 'angelo25': 15597, 'jv1sa1b2xw': 15598, '7old2edb1r': 15599, 'tunis': 15600, '02e1ceoe3z': 15601, 'landontours': 15602, 'eda': 15603, 'gduenez': 15604, 'gzzrzjvvlv': 15605, 'eruditetina': 15606, 'orgleader': 15607, 'revjjackson': 15608, 'mikebrown': 15609, 'bigbird': 15610, 'existed': 15611, 'creators': 15612, 'sodomy': 15613, 'notsorry': 15614, 'bows': 15615, 'bitchmaster': 15616, 'fifty': 15617, 'abdashcole': 15618, '4x4': 15619, 'raptor': 15620, '70k': 15621, 'trxlllegend': 15622, '128112': 15623, 'iq': 15624, 'tdill11': 15625, 'vanluvz1': 15626, 'moneypulatief': 15627, 'globalriot': 15628, 'nee': 15629, 'langdurig': 15630, 'gepest': 15631, 'worden': 15632, 'zoals': 15633, 'zei': 15634, 'kiem': 15635, 'smoren': 15636, 'vb': 15637, 'optreden': 15638, 'whoisraymond': 15639, 'dcdpkr2yjc': 15640, 'drunktweets81': 15641, 'weeaboo': 15642, \"bridget's\": 15643, 'oal9wljmge': 15644, 'goodmoring': 15645, 'delivers': 15646, 'toyaaa': 15647, 'excite': 15648, 'jfkirtley': 15649, '1961': 15650, '76': 15651, '08': 15652, 'itsbrooke': 15653, '3gs': 15654, '54vf2r3s3a': 15655, 'aaymee29': 15656, 'spiffytwiley': 15657, 'okrah': 15658, 'bammy': 15659, 'moochie': 15660, 'averycash': 15661, 'tharock10': 15662, 'thefunnyteens': 15663, 'ltr4gi5muv': 15664, '8eq3xb8cjb': 15665, 'snuggly': 15666, 'thatniggacris': 15667, 'aiobo34baa': 15668, 'gahdamn': 15669, 'mistress': 15670, 'refurbished': 15671, 'horns': 15672, 'funsizedyogi': 15673, 'theblackvoice': 15674, 'davethegaybaby': 15675, 'remembering': 15676, 'quirks': 15677, 'onlybiebs1d': 15678, 'belieber': 15679, 'gee24': 15680, 'dgdynasty': 15681, '88tileternity': 15682, 'dictionary': 15683, 'especial': 15684, 'noap': 15685, 'tiffncompany': 15686, 'maca': 15687, 'mongering': 15688, 'wick': 15689, 'witchuuuu': 15690, 'things4flppl': 15691, 'foodtabloid': 15692, 'ij0idcaqml': 15693, 'wgilmxt0mc': 15694, 'brittish': 15695, 'jestonaelives': 15696, 'nvlzkshgaa': 15697, \"50's\": 15698, 'saaltweets': 15699, 'teachingchange': 15700, 'thatwhichistold': 15701, 'cuteasstab': 15702, 'stucc': 15703, 'awwadorable': 15704, '8wy8gdjiej': 15705, 'smlbound': 15706, 'lupoqat2r9': 15707, 'sem25live': 15708, 'siuxrh5sms': 15709, 'alfarkh': 15710, 'exjon': 15711, 'misdeeds': 15712, 'koskinen': 15713, 'guiltyzoe': 15714, '127821': 15715, 'risengrind': 15716, '558ewp9vf0': 15717, 'cenopant': 15718, 'bec': 15719, 'beli': 15720, 'ved': 15721, 'kimora': 15722, 'boobies': 15723, 'unlock': 15724, 'slice': 15725, 'xgb0th91lj': 15726, 'theprinceperez': 15727, \"messi's\": 15728, 'od1mquudnn': 15729, 'regularassron': 15730, 'dances': 15731, 'houstonrockets': 15732, 'dondonboi': 15733, 'mos': 15734, 'bullllllshiiiiitttt': 15735, 'goldiggers': 15736, '7ealhuta02': 15737, 'islands': 15738, 'genie': 15739, 'datz': 15740, 'fixmylife': 15741, 'mz': 15742, 'eccentricity': 15743, 'jeffblogwell': 15744, 'bubzayy': 15745, 'x1r34fmeae': 15746, 'andrizzy': 15747, 'drakes': 15748, 'raepaelmunturo': 15749, 'sae': 15750, 'feeld': 15751, 'kawkin': 15752, 'explainananimeplotbadly': 15753, 'futuristic': 15754, 'burritos': 15755, 'wassupbeama': 15756, 'kourt': 15757, 'odnpopl2of': 15758, 'conor': 15759, 'mcgregor': 15760, '77stephanieg77': 15761, 'portable': 15762, 'allllll': 15763, 'b1gsean21': 15764, 'hellen': 15765, 'keller': 15766, 'ameezysangels96': 15767, 'residents': 15768, 'paraphernalia': 15769, 'foreverschmoked': 15770, 'vertical': 15771, 'horizontal': 15772, 'jacobryanbruhn': 15773, 'thongs': 15774, 'tinykissable': 15775, 'braggin': 15776, 'carbonaro': 15777, \"nephew's\": 15778, 'laden': 15779, 'authenticity': 15780, 'alco': 15781, 'grayse': 15782, 'shaylay': 15783, 'uyvc2qdg': 15784, 'paulizzo2': 15785, 'homsec': 15786, 'lyndag1963': 15787, 'harf': 15788, 'dept': 15789, 'boojieque': 15790, 'webbmadethis': 15791, 'rwzr': 15792, 'drewbillionaire': 15793, \"rarri's\": 15794, 'givingup': 15795, 'fzvwc7askw': 15796, 'jnnqwisao5': 15797, 'fkkk': 15798, 'jacksonbynum': 15799, 'bowersocknick': 15800, 'citi': 15801, 'ghxxmb3m': 15802, '5yr': 15803, 'brees': 15804, 'offshore': 15805, 'leetreble': 15806, 'pocapetite': 15807, 'riyastunna': 15808, 'bestadvice': 15809, 'jerseywolfgod': 15810, 'mornings': 15811, 'tae627': 15812, 'tecoremix': 15813, 'choir': 15814, 'aj5hwhprwc': 15815, 'chffsdeddd': 15816, 'unnnnn': 15817, \"savin'\": 15818, 'pistols': 15819, 'hustlers': 15820, 'friendzoneceo': 15821, 'deadline': 15822, 'scripted': 15823, 'jayonnazarate': 15824, 'nkvy9nwyzj': 15825, 'bonita': 15826, '58382': 15827, '57933': 15828, '58167': 15829, 'brandi': 15830, \"cigarillo's\": 15831, 'droppers': 15832, 'jokersupdates': 15833, 'snob': 15834, 'stockton': 15835, 'fatherrr': 15836, 'petunia': 15837, 'brianhopecomedy': 15838, 'gawdd': 15839, 'throwed': 15840, 'saldana': 15841, 'shitless': 15842, 'prayer': 15843, 'hajj': 15844, '5ee3edxuoa': 15845, 'qwestsidefoolay': 15846, '1nzdvtqsuy': 15847, 'caliqueeen14': 15848, 'sleazy': 15849, 'nyjets': 15850, 'icebucketchallenge': 15851, 'imnussie': 15852, 'brownskinn': 15853, 'doublerornothin': 15854, 'gtflfgrmtz': 15855, 'kurt': 15856, 'cobain': 15857, 'lopez': 15858, 'lo520': 15859, 'newspaper': 15860, \"'r'\": 15861, 'drsxoztrui': 15862, '75lwvtd4oj': 15863, 'rebuild': 15864, 'itschee': 15865, 'ucv3hrjatv': 15866, 'c00ntact': 15867, 'kevini': 15868, 'bumcia': 15869, 'justbigethings': 15870, 'jants': 15871, 'shardae85yahoo': 15872, 'liquior': 15873, 'poemsporn': 15874, 'yandy': 15875, 'gentrified': 15876, 'sinf': 15877, 'boythats': 15878, 'aryah': 15879, 'foolishness': 15880, 'agg': 15881, 'takis': 15882, 'creeper': 15883, 'parthenon': 15884, 'joystick': 15885, 'contender': 15886, 'evachen212': 15887, 'q8shjifv': 15888, 'donnellrawlings': 15889, 'jetter': 15890, 'dopeboy': 15891, 'mabathoana': 15892, \"'distribution\": 15893, \"day'\": 15894, 'n9exnuvhks': 15895, 'swallowmychakra': 15896, 'dmeis72': 15897, 'snag': 15898, 'psbglhnq8q': 15899, 'raining': 15900, 'dickin': 15901, 'ucskiwfg10': 15902, 'hazelnut': 15903, 'lifelong': 15904, 'firstballot': 15905, 'unanimous': 15906, 'lcxancilleri': 15907, \"bambino'\": 15908, 'marlins': 15909, 'dandanmanlyman': 15910, 'swiggety': 15911, 'pickled': 15912, 'garlic': 15913, '0xkfnw3luf': 15914, 'mariaisab3lla': 15915, \"wiz's\": 15916, 'orator': 15917, 'stigma': 15918, 'remov': 15919, 'bratwurst': 15920, 'fartin': 15921, 'yayabad1': 15922, 'jasongregory674': 15923, 'devondude1234': 15924, 'mingtong007': 15925, 'lhq8guciaw': 15926, 'dimple': 15927, 'bethanylynn': 15928, 'sunflower1790': 15929, 'shelliecorreia': 15930, 'jan4usa': 15931, 'niggress': 15932, 'fruitsnack': 15933, 'kiingvon': 15934, 'clvrfboqbl': 15935, 'txxiddohd2': 15936, 'baddiewhitt': 15937, 'grigio': 15938, 'bastino': 15939, '128661': 15940, 'vhr6190': 15941, 'nudesforjordy': 15942, 'cenasux43': 15943, 'thebrianmo': 15944, 'allusion': 15945, 'robertbarber64': 15946, 'tbretreat': 15947, 'anony386': 15948, 'turntolive': 15949, 'causung': 15950, 'mischief': 15951, 'stainless': 15952, 'appliances': 15953, \"picka'nanny\": 15954, 'shedreamsthed': 15955, 'nisha': 15956, 'quenching': 15957, 'fountain': 15958, 'tsj': 15959, 'donefeedup': 15960, 'holysmokes': 15961, 'peopletoavoid': 15962, 'valerie': 15963, 'jarrett': 15964, 'reflex': 15965, 'brina': 15966, 'zaytovenn': 15967, 'shiddd': 15968, 'omarimrantweets': 15969, 'zookeeper': 15970, 'eiffel': 15971, 'mu': 15972, 'glorify': 15973, 'deadcollision': 15974, '1h08fxpkkq': 15975, 'tel': 15976, 'lew': 15977, 'differ': 15978, 'homeruns': 15979, 'tingly': 15980, 'derecho': 15981, 'thunderstorm': 15982, 'wvwx': 15983, 'juliamarie892': 15984, 'suline': 15985, 'violetethompson': 15986, 'camatuzzo': 15987, 'jerse': 15988, 'prescription': 15989, 'refill': 15990, 'jgabsss': 15991, 'stacey': 15992, 'pdlg46rjol': 15993, 'evaaaa': 15994, 'henderson': 15995, 'kilgore': 15996, 'longview': 15997, 'nooworrriess': 15998, 'vape': 15999, 'zjdlwiajeo': 16000, 'listsblacktwit': 16001, 'caping': 16002, 'hellondascale': 16003, '5kzqxf7zg9': 16004, 'xmvtz0gtpp': 16005, 'ho3micide': 16006, 'replying': 16007, 'loudly': 16008, 'netherlands': 16009, 'rosa': 16010, 'mexicano': 16011, 'shanniganssss14': 16012, 'emagsy21': 16013, 'wmhs': 16014, 'froxgawd': 16015, 'bwldjex8qg': 16016, 'differentials': 16017, 'caritoguey': 16018, \"02'\": 16019, '7s': 16020, 'scuffs': 16021, \"12's\": 16022, 'vehicle': 16023, 'fukkitsbrittney': 16024, 'dafuckinunicorn': 16025, 'moooob': 16026, 'inwardforfun': 16027, 'dennis': 16028, 'neiman': 16029, 'markus': 16030, 'hustlas': 16031, 'thebatman': 16032, 'jhazethagod': 16033, 'whomp': 16034, 'lego': 16035, 'oojqabwfwj': 16036, 'clorox': 16037, 'rothstein': 16038, 'raanonsense': 16039, 'iwantfranny': 16040, 'deadjake': 16041, 'amped': 16042, 'janeypew': 16043, 'r4apersec': 16044, 'ackin': 16045, 'latex': 16046, 'eljefedejefes4c': 16047, 'trillion': 16048, 'innis': 16049, 'osu': 16050, '490xl': 16051, \"o'reilly\": 16052, 'proposing': 16053, 'immigrants': 16054, 'wtzd2mibf6': 16055, 'mystroapollo': 16056, 'bitxhes': 16057, 'socked': 16058, 'rickey0511': 16059, 'exceptionally': 16060, 'heelys': 16061, 'glides': 16062, 'l2xzruqwkp': 16063, 'justan0th3r': 16064, 'anjahlamarie': 16065, 'pussyfootin': 16066, 'xxxmas': 16067, 'claws': 16068, 'o13': 16069, 'birdddd': 16070, 'longmoneytonyy': 16071, 'trickz': 16072, '8bippvuvzr': 16073, 'protestant': 16074, 'sharpayydoll': 16075, 'lansing': 16076, 'caseytu88662466': 16077, 'avail': 16078, 'housecracka': 16079, 'bernstein': 16080, 'blocks': 16081, 'kirstenkraft': 16082, 'blacc': 16083, 'triffling': 16084, 'thefatamy': 16085, 'laurasimpson19': 16086, 'jdjohnson7': 16087, 'karrueches': 16088, 'verified': 16089, 'rig': 16090, '23vnds': 16091, 'miracles': 16092, 'eecezjrx6c': 16093, '0dvazwlq2q': 16094, 'kboydee': 16095, 'tribalfollow': 16096, 'jonnytooswollen': 16097, 'thinknmoney': 16098, '365': 16099, 'wendys': 16100, 'tacobell': 16101, 'toyed': 16102, 'jc8azqu6nr': 16103, 'whenrappersaids': 16104, 'wf': 16105, 'deandre': 16106, 'banged': 16107, 'ecuador': 16108, 'trainwreck': 16109, 'formerly': 16110, 'fightnightx': 16111, 'nmf4life': 16112, 'mostdope6995': 16113, 'dipset': 16114, 'kenn': 16115, 'tonethaman55': 16116, 'fifacom': 16117, 'pepe': 16118, 'outstanding': 16119, 'tackles': 16120, 'papichuio': 16121, 'landonvanbus': 16122, 'tootiedee': 16123, 'duncanhines': 16124, 'bundy': 16125, \"'community\": 16126, \"organizer'\": 16127, 'shitneyw0rd': 16128, 'channels': 16129, 'arturo': 16130, 'lordflaconegro': 16131, 'trueee': 16132, 'dx': 16133, 'golilstacy': 16134, 'dkqhxpgokp': 16135, 'smutted': 16136, 'jis': 16137, 'itsqwan': 16138, 'slowjams': 16139, 'neveradullmoment': 16140, 'withthesebitches': 16141, 'liyahm0ne': 16142, 'imangie': 16143, 'insufferable': 16144, 'boppin': 16145, 'applaud': 16146, 'trillzo': 16147, 'qmg': 16148, 'fxckashuk': 16149, 'khyzzer1': 16150, 'flabby': 16151, 'turrible': 16152, 'louisiana': 16153, 'fiya': 16154, 'mormon': 16155, 'clangloisss': 16156, 'ilywhitesiders': 16157, 'leonbaptist': 16158, 'mouthy': 16159, 'cocomilan18': 16160, 'gotdamnchat': 16161, 'tbpcqwngqf': 16162, 'ayeee': 16163, 'grhtdie9dz': 16164, 'flavorpill': 16165, 'yisiai6s': 16166, 'nme': 16167, 'slizrd': 16168, 'wizrd': 16169, 'watkinsraequan': 16170, 'leap': 16171, 'mcgirt': 16172, 'otters': 16173, 'jerryrscuba': 16174, 'sharkhoes': 16175, 'godlevelshit510': 16176, 'adonnis': 16177, 'icjcf6km8v': 16178, 'somethinzfuckee': 16179, 'traybonmartin': 16180, 'jay050709': 16181, 'fox8': 16182, 'mamma': 16183, 'cuffyofee': 16184, \"houston's\": 16185, 'cr4zyf0ru': 16186, 'ambeerrxoxo': 16187, 'dustincarter16': 16188, 'hags12': 16189, 'tutors': 16190, 'tas': 16191, 'lucentvariable': 16192, 'reminder': 16193, 'jhonenv': 16194, 'thaelleword': 16195, 'brokehomielyn': 16196, 'qzc87dra9a': 16197, 'davidjones720': 16198, 'jigga504': 16199, 'miseducated411': 16200, 'yahshua': 16201, 'jesuslovinj': 16202, 'bothers': 16203, 'kissme': 16204, 'tooo': 16205, 'u9duc84iws': 16206, 'justjor': 16207, '5spmg': 16208, 'ggl': 16209, 'w58q6hr20j': 16210, 'fredabrahams': 16211, 'spies': 16212, 'spikedfins': 16213, 'rtnba': 16214, 'nfxnhhw0dj': 16215, 'agrees': 16216, 'moody': 16217, 'dadsbeingsilly': 16218, 'neonte': 16219, 'ec7dt54u': 16220, 'inhalelove': 16221, 'christeaa': 16222, 'babbyyy': 16223, 'xxcdqvzi9t': 16224, 'iambillyshears': 16225, 'xcallmeziaa': 16226, 'troubadour': 16227, 'rhyds': 16228, 'herrrrrr': 16229, 'nutts': 16230, 'gottliebshow': 16231, 'sbnationnba': 16232, 'c8d3sjoupj': 16233, 'disappoints': 16234, 'advicetowriters': 16235, 'angelou': 16236, 'poetry': 16237, 'dreamchaser': 16238, \"mcdonald'ss\": 16239, 'sneakerheadsean': 16240, 'revalution': 16241, 'expandin': 16242, 'directing': 16243, 'beautifully': 16244, 'dreadywhiteboy': 16245, 'jwanurebay': 16246, 'smith20': 16247, 'zluketheduke': 16248, 'hammered': 16249, 'kermitisasnitch': 16250, 'euool79wdq': 16251, 'custy': 16252, 'eyeonpolitics': 16253, 'chrisloesch': 16254, 'thestrangelog': 16255, 'nerf': 16256, 'ya3ne': 16257, 'justcallmebrit': 16258, '5am': 16259, 'vikkifusco': 16260, 'flyersfan': 16261, 'dominiquepurdy': 16262, 'tayjrobin': 16263, 'almondmlk': 16264, 'jamesanddaniel': 16265, 'janoskians': 16266, 'janoskianator': 16267, 'justinclark': 16268, 'jrsalzman': 16269, 'buzzfeed': 16270, 'convincing': 16271, 'imessage': 16272, 'mtupombe': 16273, '8rfdwxcz3g': 16274, 'newser': 16275, 'barcelona': 16276, 'homeland': 16277, 'acab': 16278, 'landofthefree': 16279, 'linzbella': 16280, 'whoapollo': 16281, '57423': 16282, '58380': 16283, '57607': 16284, '7yaydate': 16285, 'homophobia': 16286, 'fredo': 16287, 'nikkinigro22': 16288, 'fuh': 16289, 'oliviadesanfoot': 16290, 'iskypeyourmomz': 16291, 'trapgod3sss': 16292, 'jamba': 16293, 'klttykllla': 16294, 'uy6r3zxxnm': 16295, 'dickfurari': 16296, 'malt': 16297, 'h0jgortnf8': 16298, 'shelbyritner': 16299, 'kirstynehbu': 16300, 'youngscrap': 16301, 'sydhinton922': 16302, 'vinylgasm': 16303, 'machined': 16304, 'randality': 16305, 'sunelite1': 16306, 'func': 16307, 'fucccccccked': 16308, 'upppppp': 16309, 'brownshirts': 16310, 'punks': 16311, 'chant': 16312, '9nburmtj': 16313, '21cvasquez': 16314, 'bigg': 16315, 'boss23': 16316, 'kf6pxgkjxr': 16317, 'amarierubio': 16318, 'crappyfactsare': 16319, 'buns': 16320, 'chemical': 16321, 'azodicarbonamide': 16322, 'mats': 16323, 'h2rqf5oqwb': 16324, 'ucfgawd': 16325, \"a'shanni\": 16326, 'hawkinsusa': 16327, \"footin'\": 16328, 'disperse': 16329, 'savings': 16330, 'maliktender': 16331, 'gayer': 16332, 'kyanne': 16333, 'kegals': 16334, 'darienbaby': 16335, 'wams': 16336, 'marioolvera94': 16337, 'durag': 16338, 'monumental': 16339, 'duraghistoryweek': 16340, 'yupp': 16341, 'kriscope95': 16342, 'brodywaynelyles': 16343, 'thugnasty': 16344, 'mcc10ud': 16345, 'toward': 16346, 'qna9ogveww': 16347, 'sickgirl12345': 16348, 'nn4odizr8l': 16349, 'priyaohol': 16350, 'ykyfijzgsi': 16351, 'ryanhoover': 16352, 'geek': 16353, 'luckily': 16354, 'canibus': 16355, 'imt': 16356, 'joell': 16357, 'krs': 16358, 'tweetlikepontiacholmes': 16359, 'sprinkler': 16360, 'stencils': 16361, '3foyaywlws': 16362, 'spammed': 16363, 'mvckfadden': 16364, \"'eff\": 16365, \"davis'\": 16366, 'wapbchhuru': 16367, 'juliadbrock': 16368, 'jae': 16369, 'poppa': 16370, 'realydotgdot': 16371, 'shellet1986': 16372, 'therealaaw': 16373, 'googly': 16374, 'windpushedgrass': 16375, 'pallbearers': 16376, \"jimmy's\": 16377, 'billyraycyrus': 16378, 'buffprobzzz': 16379, 'prolongshop': 16380, 'decor': 16381, '10m': 16382, '33ft': 16383, 'outdoor': 16384, 'indoor': 16385, '2ew0jjhb6n': 16386, 'newlegendaryera': 16387, 'unrealistic': 16388, 'interchangeable': 16389, 'bezel': 16390, 'thatsaproblem': 16391, 'evandmyers': 16392, 'nineinchessoft': 16393, 'benghazzi': 16394, 'nws': 16395, 'mccubbin': 16396, 'nicetry': 16397, 'l1ltr4p': 16398, 'directly': 16399, 'wey': 16400, 'stanking': 16401, 'dank': 16402, 'leighvl': 16403, 'rasta': 16404, 'hba': 16405, 'twitterlurking': 16406, 'rosecrans': 16407, 'moles': 16408, 'december8th': 16409, 'rfradsham': 16410, 'hells': 16411, 'shibermetimbers': 16412, 'petahhdagod': 16413, 'gluug7qz2p': 16414, 'p0psson': 16415, 'iamlexj': 16416, 'halloweencostume': 16417, '2uzoh6frzg': 16418, 'relentless': 16419, 'edclv': 16420, 'q1uhzepiyw': 16421, 'mtbornnard': 16422, 'mojo': 16423, 'lexxxilove': 16424, 'ey7lmc5i2w': 16425, 'qveen': 16426, \"driver's\": 16427, 'licenses': 16428, '3vklymjwjs': 16429, 'noamnesty': 16430, 'parting': 16431, 'southside': 16432, 'brasso': 16433, 'tunes': 16434, 'maintenance': 16435, 'creepingsharia': 16436, 'syrian': 16437, 'lfhcto8777': 16438, 'toomessedup': 16439, '9gw3iybyh3': 16440, 'gkzj7qndif': 16441, 'principals': 16442, 'xsimoneeeeeeeee': 16443, 'jayymfcarter': 16444, 'trillmnded': 16445, 'reminded': 16446, 'janelle': 16447, 'monae': 16448, 'perplexed': 16449, 'drumlin': 16450, 'pookiehuny': 16451, 'endoftheworldconfessions': 16452, 'rwsurfergirl': 16453, 'trashbucketchallenge': 16454, 'tmtww': 16455, 'learnsomethlng': 16456, '2months': 16457, 'jarjar': 16458, 'sukka': 16459, 'camanderson31': 16460, 'proceeds': 16461, 'm8l0nvaim2': 16462, 'bigdawgsergio': 16463, 'squeezing': 16464, 'hahaa': 16465, 'bandmankevo': 16466, 'pnvmaacwy0': 16467, 'l0sernigga': 16468, 'hotniggadarius': 16469, 'vexda': 16470, 'lollis': 16471, 'bcwit2nuz5': 16472, 'tacorell': 16473, 'adrianalisett': 16474, 'zulema': 16475, 'orgasm': 16476, 'flexfoee': 16477, 'chojis': 16478, 'suite': 16479, 'ciavdia': 16480, 'drastically': 16481, 'niggerfood': 16482, 'niggerperson': 16483, 'kaylaa': 16484, 'gdiiwrdgno': 16485, 'newyorktaughtme': 16486, 'mattiesavage': 16487, 'zpiiwrdfaj': 16488, 'dynasty': 16489, 'danieldavidlee': 16490, 'xoxoshima': 16491, 'slimy': 16492, 'nhl13': 16493, 'chiefgaming': 16494, 'scraped': 16495, 'powpowtheeend': 16496, 'karyewest': 16497, '6god': 16498, 'ltt5r4drwl': 16499, 'thegooglefactz': 16500, 'mcwilliamsbrett': 16501, 'killlllllas': 16502, 'misscleobb': 16503, 'rachelereilly': 16504, 'brendonvbb12': 16505, 'rachels': 16506, 'rach': 16507, 'snutty': 16508, 'audio': 16509, 'x70otlh3': 16510, 'otvw1vldpy': 16511, 'mouzone': 16512, 'senseiquan': 16513, 'superficial': 16514, 'kin2p59nje': 16515, 'myers12': 16516, 'basedgvbe': 16517, 'ramaxe1965': 16518, 'dubya': 16519, 'nkcxczwrxa': 16520, '10thamendment': 16521, 'brendantevlin': 16522, 'terrorist': 16523, 'qztxjv9x8j': 16524, 're2pect': 16525, 'drydenneal': 16526, 'leaux': 16527, 'worstrapiyrics': 16528, 'savannahx': 16529, 'chart': 16530, 'pricklypear': 16531, 'clfjkt4iz4': 16532, 'cortez': 16533, \"john's\": 16534, \"assoc's\": 16535, 'xfsezszu0m': 16536, 'beforeitsnews': 16537, 'helen': 16538, 'vh1adeneca': 16539, '260chocolate': 16540, '4sunshinejones1': 16541, 'cooooool': 16542, 'sirasshole': 16543, 'karrenchi': 16544, 'stri': 16545, 'nadixo': 16546, 'joelxmontoya': 16547, 'y21pyz5rai': 16548, 'ewwww': 16549, 'abortionfunds': 16550, 'profound': 16551, 'hospitality': 16552, 'patients': 16553, 'distances': 16554, 'idonthavetimefor': 16555, 'dominoes': 16556, 'crooklynxdodger': 16557, 'qs9xueu1va': 16558, 'eeeeeen': 16559, 'studhardt22': 16560, 'ruslan': 16561, '2accountsgate': 16562, 'melobaby': 16563, 'cussss': 16564, 'doesss': 16565, 'titaaar15': 16566, 'chaniiyyaa': 16567, 'utterly': 16568, 'crawford96m': 16569, 'mattabbatacola': 16570, 'kebinblodgett': 16571, 'steeloh': 16572, 'belasco': 16573, 'lizziecuevas': 16574, 'yfrog': 16575, 'h300cwrj': 16576, 'charlezhussle81': 16577, 'francisjstn': 16578, 'omgitskaric': 16579, 'creampied': 16580, 'rg3pobakkd': 16581, 'jayboogie': 16582, 'dickau': 16583, 'ockxaythak': 16584, 'fye': 16585, 'recycled': 16586, 'loy': 16587, 'unbothered': 16588, 'threatenwho': 16589, 'agricouture': 16590, 'ringkledsuccess': 16591, 'badgalcash': 16592, 'qv1ruzgsfj': 16593, 'backstabbing': 16594, 'deceives': 16595, 'justlove': 16596, 'nohate': 16597, 'alias': 16598, 'mandylea25': 16599, 'tinslee': 16600, 'toljqdxee3': 16601, 'staristhefuture': 16602, 'fathom': 16603, 'alexi': 16604, 'thowd214': 16605, 'pharaoh': 16606, 'sarcophagus': 16607, 'soaked': 16608, 'sinked': 16609, 'melted': 16610, 'linc': 16611, '15minute': 16612, 'loans': 16613, 'ballzahoy': 16614, 'runn': 16615, 'ryantburnss': 16616, 'goalkeeper': 16617, 'asaakira': 16618, 'iphone6': 16619, 'd1tbytc7qb': 16620, 'tinks': 16621, 'jukeyxo': 16622, 'beenflynsolo': 16623, 'funnnnnnn': 16624, 'molwf0py': 16625, 'noll': 16626, 'tt': 16627, 'draymond': 16628, 'saaani': 16629, 'wetin': 16630, 'behaving': 16631, 'funnyguy': 16632, 'elsewhere': 16633, 'orbit': 16634, 'thecrave': 16635, 'farquaad': 16636, 'quotable': 16637, 'sneakbo': 16638, 'stormzy1': 16639, 'misters206': 16640, 'jezzy': 16641, 'reggaeton': 16642, 'bachata': 16643, 'jams': 16644, 'amazingatheist': 16645, 'flailing': 16646, 'incoherently': 16647, \"you'r\": 16648, 'bahr': 16649, 'mosh': 16650, 'eliriprashad': 16651, 'doppz': 16652, 'salting': 16653, 'physically': 16654, 'hounding': 16655, 'adityarajkaul': 16656, 'bansal': 16657, 'gadkari': 16658, 'anil': 16659, 'lundenm': 16660, 'stability': 16661, \"starters'\": 16662, 'emergen': 16663, 'vakill': 16664, 'nrmc483m': 16665, 'misread': 16666, 'sympathize': 16667, 'frankthefob': 16668, 'properetacet': 16669, 'yahdontsay': 16670, 'quarters': 16671, '128347': 16672, 'candid': 16673, 'hidden': 16674, 'ikpj0etz71': 16675, 'arial': 16676, 'exercising': 16677, 'n3dnrsi352': 16678, 'uon': 16679, 'chesterfield': 16680, 'backyard': 16681, 'viwmjjjxot': 16682, 'discourage': 16683, \"thatangrynigga's\": 16684, 'pimpsquadjones': 16685, 'onyur': 16686, 'bringin': 16687, 'naewoodster': 16688, 'mjayskillz': 16689, 'mw5kaojkxb': 16690, 'franquitouno': 16691, '2fj7wrdtq3': 16692, 'plainblack': 16693, 'ohleyo': 16694, 'chenzo1': 16695, 'hairstylist': 16696, 'beenie': 16697, 'unnforgivable': 16698, 'angiecuh': 16699, 'tsjmaq62yb': 16700, 'fatality': 16701, 'i3drcdivn8': 16702, 'ihuntgoblins': 16703, 'sinatraa': 16704, 'primes': 16705, 'dominated': 16706, 'lbj': 16707, \"mj's\": 16708, 'unn': 16709, 'zannlxrd': 16710, 'nationaldoughnutday': 16711, '5fjforyy2e': 16712, 'thefatkidjames': 16713, 'vinehumor': 16714, 'crashing': 16715, 'kuldr4mabp': 16716, 'theboss': 16717, 'leslie': 16718, 'linnlondon1': 16719, 'ufcajnnqtz': 16720, '128016': 16721, 'thingamabobs': 16722, 'holt3': 16723, 'lirwgwkdze': 16724, 'everybodyhatesv': 16725, 'umadddt': 16726, 'claw': 16727, 'coreystweetnass': 16728, 'yyq2d6jujd': 16729, 'yards': 16730, 'trashhhhhhhh': 16731, 'xii': 16732, 'promoter': 16733, 'parhambryce': 16734, 'gufkoy44tk': 16735, '3n7m4pfnmx': 16736, 'teabagged': 16737, 'openwide': 16738, 'bitchniggabob': 16739, 'pushin': 16740, 'staten': 16741, 'probation': 16742, 'measly': 16743, '506': 16744, 'patsfanjoe32': 16745, 'honk': 16746, 'miembrotropa': 16747, 'funnysayings': 16748, 'information': 16749, 'baybay': 16750, 'capitolevan': 16751, 'aireekatk': 16752, 'iamsaintbryan': 16753, 'stinachase': 16754, 'campkevin': 16755, 'gorg': 16756, 'june': 16757, 'mfvcmym': 16758, 'enlarge': 16759, 'blindside': 16760, 'themilkman57': 16761, 'talkier': 16762, 'hadddd': 16763, 'bagged': 16764, 'tristabee': 16765, 'youuuuuu': 16766, 'holdmypursegirl': 16767, 'idfwu': 16768, 'hspiotta': 16769, 'groovymovie': 16770, 'belgian': 16771, 'busto': 16772, 'mirrorweirdnews': 16773, 'showering': 16774, 'viral': 16775, 'cwc0b0z9pb': 16776, 'brodybolerjack': 16777, 'tonyjohns000': 16778, \"86'd\": 16779, 'nypost': 16780, 'ved4yyztok': 16781, 'hahahahahah': 16782, 'michaelangelo': 16783, 'yaaaaaaasss': 16784, 'theyellonegro': 16785, 't4war9g8ct': 16786, 'randypop84': 16787, 'austdun': 16788, 'kvchef26': 16789, 'qokhlnxai1': 16790, 'therisingstar23': 16791, 'trendin': 16792, 'thefitgawd': 16793, '0idy5oskrf': 16794, 'tsmith4569': 16795, 'einsteinparody': 16796, 'waterproof': 16797, 'plannedsickdays': 16798, \"djk's\": 16799, 'wiki': 16800, 'incident': 16801, 'teewat': 16802, 'brawl': 16803, 'niamani': 16804, 'clemheem': 16805, 'ood1r2wvu6': 16806, 'baldhead': 16807, 'robertcdick': 16808, 'votingmatters': 16809, 'philthycleo': 16810, 'statin': 16811, 'identified': 16812, 'abdurahman': 16813, 'britani': 16814, 'ksowd8rrck': 16815, 'fuckhistattoos': 16816, 'jpkdkpbjxh': 16817, 'canker': 16818, 'sores': 16819, 'hinder': 16820, 'missmulgra': 16821, 'markudall2014': 16822, 'corygardner': 16823, 'bradley22': 16824, 'roniqueraw32': 16825, 'rarest': 16826, 'shaydmvsfinest': 16827, 'tinkkbaddass': 16828, '7wq5qzsils': 16829, 'withluv': 16830, 'kira': 16831, 'jproskowglobal': 16832, 'profiling': 16833, 'bul6issmfh': 16834, 'dif6d6eyin': 16835, 'x6koqsvcua': 16836, 'activist': 16837, 'farcical': 16838, 'wesley': 16839, 'dkiqodlaop': 16840, 'n9vwx4r9yn': 16841, 'stoop': 16842, 'bib': 16843, 'havnt': 16844, 'nerdkiller669': 16845, 'vaca': 16846, 'daniellaparella': 16847, 'citygirl': 16848, 'plaquemine': 16849, 'lydia': 16850, 'rodill': 16851, 'teez': 16852, 'kissmy': 16853, 'klassy': 16854, 'inviting': 16855, 'kaepernick7': 16856, 'mikecheck': 16857, '123': 16858, 'youtu': 16859, 'thls': 16860, 'tmufkc': 16861, 'cruelladetrill': 16862, 'howw': 16863, 'yutwatching': 16864, 'migrate': 16865, 'ballgame': 16866, 'rodgers': 16867, 'chews': 16868, 'coolatta': 16869, 'munster': 16870, 'firestone': 16871, \"guy's\": 16872, 'rnixx': 16873, \"drug's\": 16874, 'thatloserbrooke': 16875, 'hvn6knce6d': 16876, 'tianna': 16877, 'iacovone': 16878, 'trece': 16879, 'treatin': 16880, 'dimes': 16881, 'hernandez719': 16882, 'balla': 16883, 'bellys': 16884, 'lanaaabanana': 16885, 'bligh': 16886, 'stacy': 16887, 'lattisaw': 16888, 'fuckkennyj': 16889, 'sowavytee': 16890, 'justified': 16891, \"'lawlessness'\": 16892, 'qptreda6yv': 16893, 'nom': 16894, 'crowds': 16895, 'bandannas': 16896, 'uu': 16897, 'taywest': 16898, '39yopnqqau': 16899, 'eskimokim': 16900, 'wecameasjanie': 16901, 'skyler': 16902, 'loaning': 16903, '200k': 16904, 'haymon': 16905, 'tarver': 16906, 'cuteforfall': 16907, 'd3blsbpryd': 16908, 'jaidtaylorlive': 16909, 'isaiah': 16910, 'fasting': 16911, 'mergardolivia': 16912, 'melanin': 16913, 'chargers': 16914, 'boltupdoe': 16915, 'laurengardner8': 16916, 'nottinghill': 16917, 'theplasticpope': 16918, 'olenohoes': 16919, 'gasp': 16920, 'yendys45': 16921, 'iamryanraw': 16922, 'whoisjayhall': 16923, 'sexiest': 16924, 'anon': 16925, 'thedickuno': 16926, 'har': 16927, 'extras': 16928, 'chantegooden': 16929, 'rabchenko': 16930, 'gibsons': 16931, 'filmfatale': 16932, 'grandbabies': 16933, 'rockets': 16934, 'iosarfs3ro': 16935, 'contest': 16936, 'iammarshall27': 16937, 'chased': 16938, 'vacant': 16939, 'l3ahpar': 16940, 'ckillatrippy': 16941, 'legoheeadd': 16942, 'nwax': 16943, '0a2dy3vzkm': 16944, 'try8lvyo9o': 16945, 'mcnab': 16946, 'loredo': 16947, 'taylorrdiane': 16948, 'riananewman': 16949, '7n5x9fyvip': 16950, 'enervated': 16951, 'cardinal': 16952, 'seafood': 16953, 'solely': 16954, 'unrespectable': 16955, 'leogarris': 16956, 'ratha': 16957, 'kati': 16958, 'dupree843': 16959, '1upxvdjjna': 16960, 'daylynnb': 16961, '4tr0n3': 16962, 'flowaaabomb': 16963, 'imcnasty': 16964, 'rejected': 16965, 'roxy': 16966, 'michiganmade': 16967, 'theeaglefazi': 16968, 'balochistan': 16969, 'sindh': 16970, 'asvholejay': 16971, 'rosters': 16972, 'moovin': 16973, 'hoovas': 16974, '1040784': 16975, 'poisoning': 16976, 'lildoll': 16977, 'suspending': 16978, 'iterations': 16979, 'regional': 16980, 'suspended': 16981, 'within': 16982, 'hollah': 16983, 'yoooou': 16984, 'fangs': 16985, 'oreocookieballs': 16986, 'i3iyrl72sd': 16987, 'wnzbh': 16988, '2011': 16989, '33ck': 16990, 'hadley106': 16991, 'zimm16': 16992, 'bailey': 16993, 'asaprelli': 16994, 'fvckin': 16995, 'ddebrinar': 16996, 'nayarivera': 16997, 'gpnd50i5of': 16998, 'thisisricklol': 16999, 'imsledgren': 17000, 'yearbook': 17001, 'keymikeskully': 17002, 'whe': 17003, 'oe0vjuopwd': 17004, 'tmaeleen': 17005, 'dashevsky': 17006, 'taber': 17007, 'davidalderman77': 17008, 'gonetofar': 17009, 'horseradish': 17010, 'dyed': 17011, \"one's\": 17012, 'brute': 17013, 'knockout': 17014, 'tkos': 17015, 'kimburrleeeanne': 17016, 'marginalize': 17017, 'roseee': 17018, 'worldstarbests': 17019, 'ihqgu7dp5m': 17020, 'wtx': 17021, 'reevesjunya': 17022, 'themostannoyingthingsinlife': 17023, 'yankeeswfan': 17024, 'scout': 17025, 'prado': 17026, 'underrated': 17027, 'mummies': 17028, 'alizahwi': 17029, 'tongues': 17030, '31': 17031, 'countin': 17032, 'finalist': 17033, 'imy': 17034, 'makeit': 17035, 'amiller': 17036, 'hoodieallen': 17037, 'sassytbh': 17038, 'happenings': 17039, 'fuckfriendzones': 17040, 'qx7bzlfh': 17041, 'williamfbrasky': 17042, 'therandomboner': 17043, 'billmaher': 17044, 'saggy': 17045, 'yaaboijimmy': 17046, 'jvx0phe6po': 17047, 'brennanculp': 17048, 'overplayed': 17049, 'itv': 17050, 'creativecarley': 17051, 'marsasteenhoek': 17052, '4vhc5o7rz5': 17053, 'invading': 17054, 'chiminea': 17055, 'saintrph': 17056, 'kimmarcumtexas': 17057, 'selenalinn': 17058, 'uabiqvi6a6': 17059, 'presentation': 17060, 'feedme': 17061, 'gramatically': 17062, 'freeelchapo': 17063, \"montana's\": 17064, 'f3t97ymmd5': 17065, 'kingdingdong22': 17066, 'jz4lyhsrhc': 17067, 'bmarshall': 17068, 'yusufyuie': 17069, 'cary': 17070, 'williamsc': 17071, 'typa': 17072, 'msfzie1mae': 17073, 'youngblackbitch': 17074, 'raspy': 17075, 'combine': 17076, 'su5ixwrthq': 17077, 'lifeasstoner': 17078, '3tz7dyatfu': 17079, 'ochocinco': 17080, 'overnight': 17081, 'annabella': 17082, 'eaglesandheat': 17083, 'bpfillherup': 17084, 'soleuniv': 17085, 'nings': 17086, 'naadectqak': 17087, 'sock': 17088, 'majornews911': 17089, 'su9jblplro': 17090, 'nijel': 17091, 'brickannn': 17092, 'gabejgonzalez': 17093, 'leija': 17094, '140': 17095, 'giselle': 17096, 'horan13': 17097, 'dirtyeaffiliate': 17098, 'juggling': 17099, 'grinded': 17100, 'amcon': 17101, 'retroreasoning': 17102, 'rpgs': 17103, 'thenymphotweets': 17104, 'hickies': 17105, 'lamont21225': 17106, \"timberland's\": 17107, 'edmondson': 17108, 'm4jtngejth': 17109, 'sexxielexxie': 17110, 'solochills': 17111, 'nolackingg': 17112, 'queenc': 17113, 'tibaburger': 17114, 'coronas': 17115, 'tasty': 17116, 'hermione': 17117, 'chamber': 17118, 'twerkteam': 17119, 'olmelonhead': 17120, '21wovyb50m': 17121, 'dmxplroaj2': 17122, 'melt': 17123, 'thesis': 17124, 'uncouth': 17125, 'sentenced': 17126, 'atm': 17127, 'freshalina': 17128, 'nunchucks': 17129, 'elza': 17130, 'whipppppppen': 17131, 'drifting': 17132, 'waqamr4bgu': 17133, 'cashman': 17134, 'snytv': 17135, 'carterreynolds': 17136, 'mahone': 17137, 'decider': 17138, 'starred': 17139, 'nsz6xgjklv': 17140, 'yank': 17141, 'thefuckery': 17142, 'preeeeeeeach': 17143, 'achilles': 17144, 'pullz': 17145, 'assss': 17146, 'mkgrljrhcl': 17147, 'radiotour': 17148, 'duchess': 17149, 'cambridge': 17150, '8vvnu9drfm': 17151, 'facetious': 17152, 'qbs': 17153, 'andyserkis': 17154, 'owgocjxpxs': 17155, 'computerscience': 17156, 'shayconnnor': 17157, 'ayejayydoe': 17158, 'uvs9e1gxpf': 17159, 'bigmac6374': 17160, 'revive': 17161, 'yeyo478': 17162, 'helenbabeey': 17163, 'h0ixjzh0tz': 17164, 'michigannews13': 17165, \"chairmanl's\": 17166, 'cashoutmolly': 17167, 'established': 17168, 'collin': 17169, 'geer': 17170, 'pansy': 17171, 'punchin': 17172, 'tounge': 17173, \"macy's\": 17174, 'dstacks': 17175, 'livid': 17176, 'noexcuses': 17177, 'bb16zachrance': 17178, 'booshie': 17179, 'godrocamora416': 17180, 'ultragoogle': 17181, 'puto': 17182, 'macklemoore': 17183, 'waiters': 17184, 'tipping': 17185, 'oval': 17186, 'beaadawgg': 17187, 'trashiest': 17188, 'deeharris': 17189, 'deztinis': 17190, 'yob': 17191, '3spfhbbkvd': 17192, 'whaaaat': 17193, 'joltng': 17194, 'niger': 17195, 'raided': 17196, \"nicki's\": 17197, '0panscimew': 17198, 'lyzs1pu25i': 17199, '2ec829l7qx': 17200, '3waezgcovi': 17201, 'keshun': 17202, 'kampeas': 17203, 'womanoverboard': 17204, 'coffeemanelliot': 17205, 'pxwlzkwacs': 17206, 'jayyrosayy': 17207, 'jess': 17208, 'utragers': 17209, 'colt': 17210, 'hookem': 17211, '128002': 17212, 'cheyagurr': 17213, 'ripcaps': 17214, 'jordiiin': 17215, 'thxm7hjo07': 17216, 'tevgonzalez': 17217, 'alicianotalisha': 17218, 'pcd2slvkxy': 17219, '4owe': 17220, 'gaielrpdik': 17221, 'dcplod': 17222, 'sharia': 17223, 'boils': 17224, 'fundamentalists': 17225, 'oppressors': 17226, 'persecu': 17227, '8hdtphph51': 17228, 'phatsyeo215': 17229, 'jsndxuypdn': 17230, 'nesby': 17231, 'chubb': 17232, 'staydelusional': 17233, 'patisdope': 17234, 'twisttwizzy': 17235, 'snoopdogg': 17236, 'starlavafox': 17237, 'wrapping': 17238, 'ih': 17239, 'wassuh': 17240, 'staking': 17241, 'simultaneously': 17242, 'ifollowlesbians': 17243, 'candles': 17244, 'thingys': 17245, 'orlando': 17246, 'bumpy': 17247, 'suspects': 17248, 'indonesia': 17249, 'uighurs': 17250, '58idicahzt': 17251, 'uighur': 17252, 'prc': 17253, 'isoldyodaddrugs': 17254, '128247': 17255, 'goredskins': 17256, 'yankeeography': 17257, \"d'backs\": 17258, '2001': 17259, 'drugfree': 17260, 'datzme': 17261, 'charloosss': 17262, 'nicoleariel': 17263, 'tonygetsbjs': 17264, 'didntdonuffin': 17265, 'dreaaalove': 17266, 'squirtin': 17267, 'barbaraf321': 17268, 'thirtybirdy': 17269, 'needasnickersanda2piece': 17270, 'nf': 17271, 'swagishsternes': 17272, 'raincaudillo': 17273, 'infinity': 17274, 'sexmatical': 17275, 'wgvceponh8': 17276, 'highhhhh': 17277, 'stonernation': 17278, 'lifecomplete': 17279, 'poppunksucks': 17280, 'dyldobaggenss': 17281, 'illegallybadd': 17282, \"rt'in\": 17283, 'freeee': 17284, 'halibut': 17285, 'iamyoungroc': 17286, 'freshrhymes': 17287, 'jerksquad': 17288, 'slowstir': 17289, 'nissa': 17290, 'jadee': 17291, 'hunninck': 17292, 'dreaf': 17293, 'proudly': 17294, 'artiequitter': 17295, 'plsfl84cdp': 17296, 'kidnapyogranny': 17297, 'entertains': 17298, 'suckmybenjamin': 17299, 'twatchin': 17300, 'nie': 17301, 'preemasterflex': 17302, 'stpaul': 17303, 'lebanese': 17304, 'nigha': 17305, 'yeayoureadindis': 17306, 'twinzncontrol': 17307, 'donjuuuan': 17308, 'qlomazph9a': 17309, 'nastybaby': 17310, 'shhh': 17311, 'skeeerra': 17312, 'satisfy': 17313, 'hollor': 17314, 'pussyjuices': 17315, 'wdmjeff': 17316, 'gravel': 17317, 'sbpart01': 17318, 'melodybrooke11': 17319, 'phantom': 17320, 'teixeiramark25': 17321, 'lolzzz': 17322, 'sonup': 17323, 'qp': 17324, 'llamf': 17325, 'boiz': 17326, 'darf': 17327, 'switzerland': 17328, 'alienaum': 17329, 'hackey': 17330, 'sacker': 17331, 'jacker': 17332, 'slapper': 17333, 'j23app': 17334, 'remastered': 17335, '314254': 17336, '003': 17337, 'nboaxg1s19': 17338, 'stable': 17339, 'btmlynnkzp': 17340, 'nimrod': 17341, 'deeeeaaaadd': 17342, '410': 17343, 'isneeze': 17344, 'glitter': 17345, 'token': 17346, 'ft5c4yhrag': 17347, 'cur': 17348, 'fiascos': 17349, 'illegitimate': 17350, 'jafricanflow': 17351, 'damnlifepics': 17352, 'qwufy11crq': 17353, 'trife': 17354, 'bitchsides': 17355, 'ihy': 17356, 'cdnballjunkie': 17357, 'ibaka': 17358, 'h8lgitfyie': 17359, \"smokin'\": 17360, 'bathsalt': 17361, 'runner': 17362, 'bbbnnnnnnas': 17363, \"molly'd\": 17364, \"mornin'\": 17365, 'trevondelorean': 17366, 'erinfbaaby': 17367, '2chainzz2pumps': 17368, 'ybxifwtugu': 17369, 'staygetnutty': 17370, 'kaileenrenee': 17371, 'realkidlegend': 17372, 'phonies': 17373, 'butterfliesblue': 17374, 'ladysofchoice': 17375, 'circulated': 17376, 'pun8fnvbal': 17377, 'adamrotter': 17378, 'prust': 17379, 'fz6lxcs3ok': 17380, 'mtlhockey': 17381, 'naaaa': 17382, 'whitest': 17383, 'samtrap84': 17384, 'spanks': 17385, 'marcusbutlertv': 17386, 'cinema': 17387, 'zaksitton': 17388, 'fuckwatyuhherrd': 17389, 'dominiggaaa': 17390, 'reallyaintshit': 17391, '3p9chkhey8': 17392, 'merrie': 17393, 'distinctive': 17394, 'mae': 17395, 'icodymontana': 17396, 'xdannyxbrownx': 17397, 'pumped': 17398, '4dhwui5ard': 17399, 'longway': 17400, 'valerie91097': 17401, 'flattered': 17402, 'scorre': 17403, 'harveylevintmz': 17404, 'sal': 17405, 'ferderline': 17406, 'stevennn17': 17407, 'downswinging': 17408, 'brendon': 17409, 'urie': 17410, 'niceeeguy': 17411, 'truefriendtuesday': 17412, '7dsz3vcysz': 17413, 'tonyo97': 17414, 'generic': 17415, 'rises': 17416, 'qrhwqtueu1': 17417, 'doestaxxx': 17418, 'sus': 17419, 'charmin': 17420, 'jiggas': 17421, '602strangeangel': 17422, 'swags': 17423, 'rib': 17424, 'kxhzjwg4ii': 17425, 'emmskayy': 17426, 'jayleno': 17427, 'captioned': 17428, 'claritin': 17429, 'bandanas': 17430, 'drier': 17431, 'ortizjunior': 17432, 'hv4k1yzach': 17433, 'righteouz': 17434, 'growejr': 17435, 'stayclassay': 17436, 'austinz18': 17437, 'emilysteers': 17438, 'morgantayler': 17439, 'twittahcween': 17440, 'degrade': 17441, 'shuuutt': 17442, 'iittt': 17443, 'woodpusha': 17444, 'hickey': 17445, 'redd': 17446, 'junk': 17447, 'rehab': 17448, 'unpleasant': 17449, 'behaviors': 17450, 'participants': 17451, 'njjga7s5lq': 17452, 'cowards': 17453, 'sparky': 17454, 'julius': 17455, 'sharaplus2': 17456, 'askaugust': 17457, 'wired': 17458, 'nza3zuwugp': 17459, 'p8f8gmkufy': 17460, 'hg6oo3x3o6': 17461, 'a2rbvebeg1': 17462, 'cooks': 17463, 'cheesed': 17464, 'ryder': 17465, 'keiffer': 17466, 'santanadagreat': 17467, \"'new\": 17468, \"boyfriend'\": 17469, 'pinchbach': 17470, \"wukong's\": 17471, 'factsionary': 17472, 'gwylpgc9lp': 17473, 'dasani': 17474, 'roodee': 17475, 'rckxynwtvx': 17476, 'nuttz': 17477, '10x90': 17478, 'seth14': 17479, 'sammyskinner': 17480, 'shvkeir': 17481, 'suess': 17482, 'instructions': 17483, 'fucccccckn': 17484, '1fn2tegzhh': 17485, 'cm55jy52j4': 17486, 'edhifnsrfr': 17487, 'hbmostdope': 17488, 'kmoquality': 17489, 'scholen': 17490, 'directie': 17491, 'leerkrachten': 17492, 'pest': 17493, 'kunt': 17494, 'voorstellen': 17495, 'groot': 17496, 'pestproblematiek': 17497, 'onder': 17498, 'leerlingen': 17499, 'fettii': 17500, '58143': 17501, '58113': 17502, '128213': 17503, '128218': 17504, 'yoboijackson': 17505, 'ashleighrollin': 17506, 'nlcs': 17507, 'murderhigashi': 17508, 'hankjohnson11': 17509, 'fishes': 17510, 'dock': 17511, 'restaurants': 17512, 'preparations': 17513, 'gibbs': 17514, \"bo's\": 17515, 'havok': 17516, 'blown': 17517, 'drunktalk': 17518, 'development': 17519, 'maqdisi': 17520, 'theorist': 17521, 'hoppk92': 17522, 'shutupandplay': 17523, 'i9txjsdozz': 17524, 'schola': 17525, 'gomes': 17526, 'mainetheck': 17527, 'sterling31': 17528, 'cutienamedkitty': 17529, 'imagineherface': 17530, '7pm': 17531, 'doggie': 17532, 'vsoqnuoh5v': 17533, 'dipshit': 17534, 'silences': 17535, 'osagqo567k': 17536, 'jordan54': 17537, 'weilanthony': 17538, 'gulping': 17539, 'dorian': 17540, 'vanity': 17541, 'brooksbeau': 17542, 'spree': 17543, 'followmebeau': 17544, 'loveeeee': 17545, 'cuming': 17546, 'sooooooooooon': 17547, 'queendulaaa': 17548, 'wwyd': 17549, 'blanking': 17550, 'beroyalkc': 17551, 'jcsqhezorl': 17552, 'ship': 17553, 'partake': 17554, 'whatwouldyouchangeaboutyourpast': 17555, 'haliemaranda': 17556, 'ragingbabe': 17557, 'v2l7gmva8t': 17558, 'alp': 17559, 'mikaylahh': 17560, '128048': 17561, 'saxophone': 17562, 'breezysofresh24': 17563, '151': 17564, 'jaredlikelndn': 17565, 'professionally': 17566, 'untalented': 17567, 'lexisperez': 17568, 'jenebramel': 17569, 'lancemcalister': 17570, 'burfict': 17571, 'nicholas': 17572, 'rushlow': 17573, 'theophylline': 17574, 'crystalline': 17575, 'compound': 17576, 'holtz': 17577, 'unfathomable': 17578, 'hilarity': 17579, 'brice2254': 17580, 'bpg': 17581, 'countermoonbat': 17582, 'aske': 17583, 'slapabitch': 17584, 'dominicrock55': 17585, '7f2dw6smr8': 17586, 'floatin': 17587, 'humplayproblems': 17588, 'lucricus': 17589, 'dagger': 17590, 'dezzzybo': 17591, 'aaronthegoat': 17592, 'dvzegkebgv': 17593, 'mike97': 17594, 'zednanreh': 17595, 'inmyzoneeee': 17596, 'so4copppu9': 17597, 'nahhhhh': 17598, 'lynch': 17599, 'ggas': 17600, 'xy6v2ytyas': 17601, 'hatred': 17602, 'staccs': 17603, 'wnt': 17604, 'dabxkiddjoe': 17605, 'scmkp1nygu': 17606, 'johnny3': 17607, 'hpguilty': 17608, 'smiilze': 17609, 'accepted': 17610, 'mrnbaallday': 17611, '9l5e8kkw7d': 17612, 'aceptar': 17613, 'este': 17614, 'luz': 17615, 'rojo': 17616, 'bilingual': 17617, 'basketballpics': 17618, 'accnt': 17619, 'sfgiants': 17620, 'bumgarner': 17621, 'roids': 17622, 'grwn': 17623, 'loven': 17624, 'monn': 17625, 'neyyy': 17626, 'the1dscoop': 17627, 'omy': 17628, \"'send\": 17629, \"pic'\": 17630, \"roni's\": 17631, 'jalenwanna': 17632, 'brookeschade': 17633, 'piperleigh': 17634, 'baylee247': 17635, 'esckmotrent': 17636, 'nextttt': 17637, 'xjkudt4bub': 17638, 'soofcknhomo': 17639, '128226': 17640, 'bossmelle': 17641, 'thekylehardy': 17642, 'stonecold': 17643, 'okvjxdl7zw': 17644, '08cqv2vccx': 17645, 'andrewluck23': 17646, 'ocare': 17647, 'independents': 17648, 'flgovscott': 17649, 'xmaiya': 17650, 'xmonike': 17651, 'urdaddy936192': 17652, 'lum1996': 17653, 'yohidef': 17654, 'ovoxokatie': 17655, 'iheart': 17656, 'youkeish': 17657, 'prattling': 17658, 'youhavejustbeenblocked': 17659, 'robertenders': 17660, 'nsngq3q0': 17661, 'hozay': 17662, 'stack': 17663, '1poloboy': 17664, 'lacz1e6tg7': 17665, 'semimooch': 17666, 'whatnot': 17667, 'ohkwcg9ldw': 17668, 'jxgbwz8bho': 17669, 'flawging': 17670, 'scrapy': 17671, 'pipes': 17672, 'rebeccaisfresh': 17673, 'rxrowjmbw0': 17674, 'idisdummies': 17675, 'coherent': 17676, 'sulunatdigga': 17677, 'deiongottastfu': 17678, 'haircuts': 17679, 'ltf': 17680, 'preciate': 17681, \"mtzra'ym\": 17682, 'inheritance': 17683, 'ethiopians': 17684, 'dailytiz': 17685, 'socialize': 17686, 'redmillennial': 17687, 'ioc': 17688, 'esxkwb4qnh': 17689, 'sniffsockslad': 17690, 'xydb1rchxh': 17691, 'marissarose': 17692, 'lolahas': 17693, '336': 17694, 'ramen': 17695, 'odicho': 17696, 'assyria': 17697, 'airwolf1967': 17698, 'twshannon': 17699, 'der': 17700, 'roadrunnin': 17701, '05235fd083ad408': 17702, \"sessy's\": 17703, 'jessielee1028': 17704, 'hawkdaddy300': 17705, 'gavinmhawks21': 17706, 'michellecole': 17707, 'x5fesfa1vb': 17708, 'cogitoergobibo': 17709, 'penske': 17710, 'wouldmakealottasense': 17711, 'snyder': 17712, 'manure': 17713, 'hankwilliams': 17714, 'xkwon1l0nb': 17715, 'teenagesleuth': 17716, 'nzhxa8gua5': 17717, 'northsidegreg': 17718, 'opieradio': 17719, 'dina51814': 17720, '6nokkwikrl': 17721, 'jruiz': 17722, 'missyankee': 17723, 'sportsteamnews': 17724, 'ijustbechillinn': 17725, 'cprice': 17726, 'dentist': 17727, 'gums': 17728, 'receding': 17729, 'warn': 17730, 'lexi': 17731, 'trutherbot': 17732, 'capacitor': 17733, 'baeemot812': 17734, 'biiiiitch': 17735, 'nhldevils': 17736, 'henrique': 17737, 'njdevils': 17738, '06': 17739, 'regulation': 17740, 'mkonvchg4r': 17741, 'wu7r3obxhr': 17742, 'westbrook': 17743, 'teammates': 17744, 'minhazmerchant': 17745, 'scrapehouse': 17746, 'visits': 17747, 'specialty': 17748, 'sophiero3': 17749, 'aching': 17750, 'missrobinv': 17751, 'goldigging': 17752, 'uncircumcised': 17753, 'cory': 17754, 'indianapolis': 17755, 'baddie': 17756, 'nvuhknan5m': 17757, 'everrrrrr': 17758, 'bynum': 17759, 'waived': 17760, 'kenzie': 17761, 'negroizzle': 17762, 'iheinz2012': 17763, 'overture': 17764, 'awhooker': 17765, 'cisheteros': 17766, 'darne': 17767, 'racismisaliveandwellbro': 17768, 'conduct': 17769, 'missyy': 17770, \"havin'\": 17771, 'captions': 17772, 'foodpornphotos': 17773, 'yboqrrtjyt': 17774, 'zuvwccn0iv': 17775, 'xanaxdreams': 17776, \"5'7\": 17777, '159': 17778, 'turntttt': 17779, 'satanstongue': 17780, \"dude'\": 17781, 'napkin': 17782, 'honking': 17783, 'unnagroundking': 17784, 'bonfire': 17785, 'ejthr33': 17786, 'fosho': 17787, 'il': 17788, 'grenell': 17789, \"wapo's\": 17790, 'sargent': 17791, \"'proves\": 17792, \"point'\": 17793, 'proponents': 17794, 'kg3newoyiy': 17795, 'hertrumetier': 17796, 'weirdo': 17797, 'arkgfy02pt': 17798, 'bitcheslovestar': 17799, \"mary's\": 17800, 'bbcandice': 17801, 'dorothy5334': 17802, 'joygrenade': 17803, 'jermhudson': 17804, 'lanele123': 17805, 'naaaaa': 17806, 'theartoftrill': 17807, 'kaysavage': 17808, \"ian's\": 17809, 'jalenrose': 17810, 'ped': 17811, 'users': 17812, 'jacksondundan': 17813, 'luvcake': 17814, 'jperez003': 17815, 'corysayfukem': 17816, 'refreshin': 17817, 'natexhate': 17818, 'woridstarfvnny': 17819, 'alysssa': 17820, '2qysct5ink': 17821, 'coincidence': 17822, 'pactha': 17823, 'socialist': 17824, 'sisternoles': 17825, 'benjaminnorton': 17826, 'nazis': 17827, 'aqsa': 17828, 'highsociety26': 17829, 'drayaface': 17830, 'malaysiapargo': 17831, 'attire': 17832, 'basketballwivesla': 17833, 'drayamondays': 17834, 'mala': 17835, 'athem': 17836, 'thickkkkkk': 17837, 'splitting': 17838, 'poles': 17839, 'daaamn': 17840, 'kingtralle': 17841, 'lpptofmj5r': 17842, '299': 17843, 'tch': 17844, \"hoe'n\": 17845, 'nookie': 17846, 'girllll': 17847, 'rudenation21': 17848, 'ax': 17849, 'lordemusic': 17850, 'curator': 17851, 'soundtrack': 17852, 'mockingjay': 17853, 'hayes2345': 17854, 'besties': 17855, 'beause': 17856, 'luther': 17857, 'littlejohn': 17858, 'treal': 17859, 'urmagesty': 17860, 'lecturing': 17861, 'vercetti': 17862, 'nybo16rmsh': 17863, 'ambassador': 17864, 'hustlin': 17865, 'ecvvmwfh88': 17866, \"tannehill's\": 17867, 'dogshit': 17868, 'rileyybryn': 17869, 'sheaa': 17870, 'vdajfvlwyp': 17871, 'yptz9o4sis': 17872, 'boonies': 17873, 'millionaire': 17874, 'hillaryclinton': 17875, 'hillary2016': 17876, 'kingmiller': 17877, 'sotyannaxo': 17878, 'vibes': 17879, 'carlybutler96': 17880, 'nazario1017': 17881, 'danabashcnn': 17882, 'vastly': 17883, 'boehner': 17884, 'ese': 17885, 'miro': 17886, 'alunwj9sck': 17887, 'bigbootybishopp': 17888, 'lassen': 17889, 'youll': 17890, 'wayyyeee': 17891, 'waaaaay': 17892, 'o6r9byt5de': 17893, 'badbitch': 17894, 'joeanoaireigns': 17895, 'kardashians': 17896, 'jazzybo': 17897, 'z6hq1kq6ib': 17898, 'ninooo': 17899, 'confessions': 17900, 'philhughes': 17901, 'burden': 17902, 'nastycopper': 17903, 'blurry': 17904, 'markhoppus': 17905, 'civilised': 17906, 'ajbruno14': 17907, 'rolex': 17908, 'dribble': 17909, 'gospursgo': 17910, 'slbgng': 17911, 'kmne99r3re': 17912, 'gullymacknc': 17913, 'upie2wpj0b': 17914, 'bsd': 17915, 'hahahahahahah': 17916, 'thewagnerer': 17917, 'thediorhomie': 17918, 'deltron': 17919, 'treszthebest': 17920, 'medzzzx': 17921, 'tsnzjgpye4': 17922, 'wbu': 17923, 'meekmill': 17924, 'gjulio34': 17925, 'forgiato': 17926, 'itsdavedude': 17927, 'bi9rbvjtun': 17928, 'talleywacker': 17929, 'uughh': 17930, 'uuuu': 17931, 'farted': 17932, 'mfa': 17933, 'drip': 17934, '1043292': 17935, 'i3wohnqo7s': 17936, 'wuss': 17937, 'rkk5vawij1': 17938, 'ronson': 17939, 'skykardashian': 17940, 'jusabadgirl': 17941, 'lifeas': 17942, 'gdkelijah': 17943, 'xr0hgold5m': 17944, '11th': 17945, 'cherrybby': 17946, 'lyricalsunset': 17947, 'lilmisscuntcake': 17948, 'boner4tuna': 17949, 'tcc': 17950, 'grouchy': 17951, 'vortmax29': 17952, 'llmajer': 17953, 'dmb1031': 17954, 'frogtox': 17955, 'kishkaandpipiks': 17956, 'thatguybryant28': 17957, 'loyalshawn': 17958, 'betwn': 17959, 'selenas': 17960, 'legiqn': 17961, 'girll': 17962, 'brandontweets': 17963, 'mjrypfcjpd': 17964, 'darlene': 17965, 'backatown': 17966, 'pritchett': 17967, 'lb274gh': 17968, 'e60': 17969, 'averyrondinelli': 17970, 'competition': 17971, 'mandingo': 17972, 'neeshhuh': 17973, 'mariah7147': 17974, 'vontey': 17975, '128173': 17976, 'hii': 17977, 'rangatang': 17978, 'ohmygod': 17979, 'addicted2guys': 17980, 'simplyaddictedtoguys': 17981, '1jl4hi8zmf': 17982, 'coleflexxx': 17983, 'fingering': 17984, '128203': 17985, 'rubs': 17986, 'bsails33': 17987, '127917': 17988, 'richhomielexx': 17989, 'stu': 17990, 'kysportsradio': 17991, 'bases': 17992, 'unc': 17993, 'rogues': 17994, 'fashoo': 17995, 'sleytmf': 17996, 'vxbjg26gsz': 17997, 'dinora': 17998, 'joethemailman': 17999, 'emilyrs': 18000, 'victims': 18001, 'elated': 18002, 'creative': 18003, 'sugga': 18004, '0ddment': 18005, 'jewtanski': 18006, 'frownie': 18007, 'silverswright': 18008, 'electricity': 18009, 'ladybitch': 18010, 'angllee2500': 18011, 'offending': 18012, 'chilly': 18013, '8rle3jnr': 18014, 'goproud': 18015, 'mjxcx': 18016, '8cjuavl3ct': 18017, 'thatboyking': 18018, 'hahahahahahahahaha': 18019, '50centmovie': 18020, 'beforeiselfdestruct': 18021, '210': 18022, 'clicquot': 18023, 'bh': 18024, 'lexilanxon': 18025, 'altosteel115': 18026, 'tm28mh5xg2': 18027, 'blubloods': 18028, 'cbsnews': 18029, 'cbs': 18030, 'castabignet': 18031, 'istonertweets': 18032, 'ijacwo6ob8': 18033, 'dizzleofficial': 18034, 'inna': 18035, 'antsyinpantsy': 18036, 'soil': 18037, 'captfaggotpants': 18038, 'forrt': 18039, 'choosable': 18040, 'kdy74ohutw': 18041, 'cleanup': 18042, 'notsheriffwoody': 18043, 'elijahfnbaby': 18044, 'blaze': 18045, 'jello': 18046, 'achosenword': 18047, 'weepy': 18048, 'fog': 18049, 'conjuring': 18050, 'insidious': 18051, 'shxtwesleysays': 18052, 'foster': 18053, 'risbmdzy26': 18054, 'lyndsay': 18055, 'mobile': 18056, 'zeecobb': 18057, 'buttocks': 18058, 'ricochavo': 18059, 'damiah': 18060, 'daddyx3': 18061, 'bolton': 18062, 'carlcjsmith': 18063, 'mac18': 18064, 'sheppast': 18065, 'groves': 18066, 'xba6wwvo7m': 18067, 'shotty': 18068, 'johndeere': 18069, '4455': 18070, 'ifinqwvrad': 18071, 'possiblydana': 18072, '6lvif0nurf': 18073, 'runwithcharlie': 18074, 'wy': 18075, 'tntweeters': 18076, 'cir': 18077, 'prinncesskimm': 18078, 'radiomaru': 18079, 'zerohedge': 18080, 'nar': 18081, 'n0gu5j7dqx': 18082, 'wuwbyu2oyj': 18083, 'ewh': 18084, '5000': 18085, 'g3kmmz4jt6': 18086, 'dcsu5vqbpl': 18087, '3amado': 18088, 'carrillo': 18089, 'ooooostopflexingforigandtwitter': 18090, 'unzip': 18091, 'leafs': 18092, 'earlychristmas': 18093, 'looting': 18094, 'caseofthekink': 18095, 'sarry': 18096, 'pimpslapncow': 18097, '4sabx0mcus': 18098, \"billyjoel's\": 18099, 'ngzhimyvsf': 18100, 'sbs': 18101, 'hemmings': 18102, 'mandela': 18103, \"'them'\": 18104, 'michaelsafady': 18105, 'handles': 18106, 'hp': 18107, 'iamswagnificant': 18108, 'niiiieeegggaaa': 18109, 'chamsface4music': 18110, 'nateklempa': 18111, 'rootsportspit': 18112, 'wvu': 18113, 'fug': 18114, 'edd': 18115, 'shmoove': 18116, 'yeterday': 18117, 'controllin': 18118, 'ind1von4jh': 18119, 'qpde1l6zai': 18120, 'chaos': 18121, 'showofhands': 18122, 'flyguyerv': 18123, '127344': 18124, 'femalelogic': 18125, 'meowmariss': 18126, 'legionary1488': 18127, 'jomavaesjos': 18128, 'ebloa': 18129, 'lilmissstoney': 18130, 'wowfoodpics': 18131, 'ye22nl8bse': 18132, 'ktthegod': 18133, 'revaluate': 18134, 'johnlacarbiere': 18135, 'thatgapeach': 18136, 'erdikken': 18137, 'fads': 18138, 'martens': 18139, 'girbaud': 18140, 'accountants': 18141, 'jncos': 18142, 'domin': 18143, 'ag2pearl': 18144, 'k4iweugnyx': 18145, 'researched': 18146, 'elicit': 18147, 'fgkf5auklo': 18148, 'insulted': 18149, 'joyce': 18150, 'alpha95': 18151, 'nubie': 18152, 'wilding': 18153, 'wxwrbee0ok': 18154, 'paixj': 18155, 'eazy': 18156, 'officialskais': 18157, 'seeeexxaaaay': 18158, 'heatherelisep': 18159, 'thornton25': 18160, 'tbsd5jbjzx': 18161, 'raqqa': 18162, \"radke's\": 18163, 'fronz': 18164, 'themanoncampus': 18165, '5hawtyyy': 18166, 'legapsi06': 18167, '10mins': 18168, 'thy': 18169, 'cullenbunn': 18170, 'baylee': 18171, 'pud': 18172, 'fester': 18173, 'chainsaws': 18174, 'rot': 18175, 'punishermax': 18176, 'guinness': 18177, 'douc': 18178, 'lexxaye': 18179, 'dp': 18180, 'penetration': 18181, 'oath': 18182, 'routed': 18183, 'stacymungo': 18184, 'thedrewm3': 18185, 'uovtvg5nnm': 18186, 'ernest': 18187, 'boatbuilder': 18188, 'steez': 18189, 'rir': 18190, 'tagged': 18191, 'atypicalfemaie': 18192, 'oottkuxkra': 18193, 'showtimemajed': 18194, 'mauroranallo': 18195, 'gautreau': 18196, 'babyydrey': 18197, 'isint': 18198, '1954': 18199, 'bls7dalmif': 18200, 'tapout': 18201, 'pupaplqnhk': 18202, 'loveoohyie': 18203, 'skyylevelmedia': 18204, 'holipalooza': 18205, 'ashaa': 18206, 'logging': 18207, 'shakez843': 18208, 'bartenders': 18209, 'peddicord8': 18210, 'whisperdispatch': 18211, \"me'\": 18212, 'esqpoliti': 18213, 'herfarm': 18214, 'thedemocrats': 18215, 'dumbasses': 18216, 'shills': 18217, 'dummies': 18218, 'jeffgill24': 18219, 'bohner': 18220, 'sequester': 18221, 'jenneracosta': 18222, 'denying': 18223, 'towns': 18224, 'kinks': 18225, 'kateelliottsff': 18226, 'mah5h': 18227, 'pogo': 18228, 'joshbuddy': 18229, 'intrigues': 18230, 'repulses': 18231, 'upton': 18232, 'fend': 18233, 'manpower': 18234, 'cokvne': 18235, 'doltyourselfs': 18236, 'annacoman': 18237, 'foto': 18238, 'mimiblargh': 18239, 'birbs': 18240, 'nwjummewnj': 18241, 'supurmario27': 18242, '1timmytee': 18243, 'uhhee': 18244, 'fabulousanimals': 18245, 'kienzle': 18246, 'j5pa2bou23': 18247, 'blastmccurdy': 18248, 'hemroid': 18249, 'kiaranicole': 18250, 'joaries': 18251, 'wingatelfc': 18252, 'chanchan': 18253, 'peruvian': 18254, 'rmcelhenney': 18255, 'whichever': 18256, 'awarde': 18257, 'thathaleyway': 18258, 'kdawgg065': 18259, 'aahahah': 18260, 'robprovince': 18261, 'hypocrites': 18262, 'fredrpvasquez': 18263, 'yeahhhh': 18264, 'sheen300': 18265, 'burrow': 18266, 'pessimistic': 18267, '0malbndkn9': 18268, 'ayyceethegreat': 18269, 'urbandictionary': 18270, 'the2kgod': 18271, 'hjklnhdrwt': 18272, 'x6y5xkkpmq': 18273, 'raleighbeougher': 18274, 'r0habeqhsu': 18275, 'justinhall3434': 18276, 'sleepin': 18277, 'napturallydev': 18278, 'heyjaiiiii': 18279, 'halfcrazy610': 18280, 'orajel': 18281, 'maricelabela': 18282, 'shining': 18283, '127775': 18284, 'ekwnl6bau4': 18285, 'nuke': 18286, 'eclojovwg7': 18287, 'abigayvazquez': 18288, 'nicole214': 18289, 'tonyjetsfoo': 18290, 'jasonastley': 18291, 'exe': 18292, 'richhomiekevin': 18293, 'dangerously': 18294, 'asidebitchmadethis': 18295, 'pkvtascecv': 18296, 'gdoublet': 18297, 'brianmc630': 18298, 'finntasticccc': 18299, 'sky106radio': 18300, 'oldies': 18301, 'zaaaammnn': 18302, 'aidangee1': 18303, 'w3prpiahzq': 18304, 'mahoghanyxo': 18305, 'watchmyjumper': 18306, 'iike': 18307, 'liiilbxrde': 18308, 'gmcyhdtb': 18309, 'activism': 18310, 'lovindadrew': 18311, 'disparaging': 18312, 'pjmclaugh': 18313, 'nobz13': 18314, 'ffpu1w': 18315, 'comics': 18316, 'mykalaj': 18317, 'whitakerc54': 18318, 'worldseries': 18319, '27andcounting': 18320, 'mlbtheshow12': 18321, 'tdmrbsnp': 18322, 'ro4reals': 18323, 'nichytay': 18324, 'croquettes': 18325, 'lilboodyjudy': 18326, 'kevinkoski': 18327, 'tebowing': 18328, 'favre': 18329, 'exp': 18330, 'venti': 18331, 'hipotle': 18332, 'qdufivvwha': 18333, 'torrence': 18334, 'bons': 18335, 'komo': 18336, '50ye6jaadu': 18337, 'teamrealbooty': 18338, 'vchxqgmbde': 18339, 'pullup': 18340, '40st': 18341, 'h2hv64h9wh': 18342, 'laydeesweets': 18343, 'theyaintknow': 18344, 'vivalajuicyy69': 18345, 'changin': 18346, 'jank': 18347, 'ikatrice': 18348, 'agoooo': 18349, 'musclezauber': 18350, \"gun's\": 18351, 'thatd': 18352, 'abduction': 18353, 'linked': 18354, 'x6sip3woxb': 18355, 'joshrogin': 18356, 'elilake': 18357, 'swaggy': 18358, 'bigmeat2000': 18359, 'siblings': 18360, 'alleycelestine': 18361, 'saiddd': 18362, 'jeesh': 18363, \"murphy's\": 18364, 'umpire': 18365, 'tiara': 18366, 'rachelle': 18367, '1wsyi6gdvp': 18368, 'fatandfly88': 18369, 'hazelebaby': 18370, 'godprotectshisangels': 18371, 'sips': 18372, 'decks': 18373, 'asagiraffes': 18374, 'yaatsf52tu': 18375, 'glennsoucy1': 18376, 'collector': 18377, 'vtc661dc65': 18378, 'ian1': 18379, 'iambobo': 18380, 'gonorrhea': 18381, 'countryredbelle': 18382, 'tge': 18383, 'stormydaniels': 18384, 'filing': 18385, 'noneeee': 18386, 'mystikalgod666': 18387, 'ufqhqsc7xv': 18388, 'closely': 18389, 'approximating': 18390, 'ragdoll': 18391, 'cosplay': 18392, 'twpg0xxwbb': 18393, 'cyberbullouing': 18394, 'olds': 18395, \"'''\": 18396, 'rasgyut6pj': 18397, 'jerkin': 18398, 'allfucksgiven': 18399, 'bombay': 18400, 'freudian': 18401, 'egp': 18402, 'guamo': 18403, 'sonicboombrad': 18404, 'dickpunch': 18405, 'neontreezz': 18406, 'pocbeauty': 18407, 'doublestandard': 18408, 'ct': 18409, 'slitting': 18410, 'sukasuiti': 18411, \"spinelli's\": 18412, 'thinh': 18413, '2jvckobnb8': 18414, 'tmoney': 18415, 'presa': 18416, 'cn0vtrk8da': 18417, 'cumminssamantha': 18418, 'butterfly': 18419, 'ladybug': 18420, 'edging': 18421, 'trim': 18422, 'fotjbqwyeg': 18423, 'zykerria': 18424, 'amburger': 18425, 'lexiisounique': 18426, 'azmonsoon': 18427, 'azflooding': 18428, 'shananigans': 18429, 'savanaharanda': 18430, 'rubberchloe': 18431, 'ud5xkianvt': 18432, 'bladder': 18433, 'lowe': 18434, 'd5yxgliokl': 18435, 'robertbevan77': 18436, 'uocspykssc': 18437, 'pice': 18438, 'officialsmith': 18439, 'pollito': 18440, 'cruzaba': 18441, 'frontera': 18442, 'tropieza': 18443, 'oxcoyauji1': 18444, 'asapcruz': 18445, 'jazsmin': 18446, 'tbhbooty': 18447, 'vory1vgh4u': 18448, 'soho': 18449, 'workaholicblake': 18450, 'lurkin': 18451, 'realthickjazz': 18452, 'vector': 18453, 'mikedevrnja': 18454, 'gayd69': 18455, 'boujjhetto': 18456, 'dislikes': 18457, 'sm1rsmolez': 18458, 'stormy': 18459, 'aries': 18460, 'taurus': 18461, 'virgo': 18462, 'aq': 18463, 'awareness': 18464, 'kinkymuslim': 18465, 'segwaysurfer': 18466, 'lemzsfqvel': 18467, 'highwayy': 18468, 'colon': 18469, 'gigzo0ntpd': 18470, 'plaza': 18471, 'flee': 18472, 'asipof': 18473, 'devydevblack': 18474, 'youngdg': 18475, 'sharpener': 18476, 'peytonreeces': 18477, 'leezythewarrior': 18478, 'crooks': 18479, 'sunflowertrue13': 18480, 'styled': 18481, 'dahliafoxx': 18482, 'pinksapph': 18483, 'welcomed': 18484, 'reflects': 18485, 'behi': 18486, 'fempop': 18487, 'officialsed': 18488, 'cheyennedoan': 18489, 'judiebaby': 18490, 'keshonna': 18491, 'alexander': 18492, 'gregg': 18493, '357': 18494, 'moorehnter': 18495, 'yuoqmghvbf': 18496, 'klokus': 18497, '1ia8nx6zrs': 18498, 'heartbroken': 18499, 'goalsminded': 18500, 'xcaramel': 18501, 'jonesx': 18502, 'sweetalliee': 18503, 'day200': 18504, 'paigelebeau1': 18505, 'chronicbitchface': 18506, 'sorryimscary': 18507, 'lilith': 18508, 'fpu2fay9co': 18509, 'oiixcfos3m': 18510, 'osipbkpr9h': 18511, 'stoppaonline': 18512, 'kirkobangz': 18513, 'marijuanaposts': 18514, 'mma': 18515, 'handsomeassdada': 18516, 'prostituting': 18517, 'escorting': 18518, 'resulting': 18519, 'mw3': 18520, 'turt': 18521, 'mernin': 18522, '3zptpqfktl': 18523, 'cohwer': 18524, 'stanford': 18525, 'bwtis': 18526, 'sympathy': 18527, 'dshmee': 18528, 'cinnnthia': 18529, 'englandbailey': 18530, 'vzygni9qtq': 18531, 'dropkickkk': 18532, 'polish': 18533, 'chipping': 18534, 'josepheach': 18535, 'emand': 18536, \"veryone's\": 18537, 'oney': 18538, 'bjects': 18539, 'ollectively': 18540, 'edistributed': 18541, 'upporters': 18542, 'management': 18543, 'therapist': 18544, 'casey': 18545, 'livinglegend10': 18546, 'herlipstho': 18547, 'keepupwithle': 18548, 'xkyo6drmsh': 18549, 'spencelynn': 18550, 'dreamchasers2': 18551, 'celebrityleakedphotos': 18552, 'erased': 18553, 'ywaq3hg0wf': 18554, \"x's\": 18555, 'dolodwills': 18556, 'wessern': 18557, 'rx8ynpg1yd': 18558, 'walken4gop': 18559, 'gru': 18560, 'scootin': 18561, 'theafricansiren': 18562, 'suspicious': 18563, 'janky': 18564, 'coping': 18565, 'sickdrawings': 18566, 'tcprvbgspt': 18567, \"ez's\": 18568, '120sports': 18569, 'qdldmwbwxj': 18570, 'guyspictures': 18571, 'dewe9ttuz5': 18572, 'bartending': 18573, 'bartender': 18574, 'pains': 18575, 'yes117': 18576, 'northern': 18577, 'undefeated': 18578, 'sells': 18579, 'menstrual': 18580, 'pads': 18581, 'ontarget': 18582, 'clappmeat': 18583, 'xloitersquadx': 18584, 'drewhite3': 18585, 'annually': 18586, 'mongerls': 18587, 'slum': 18588, '1488': 18589, 'ayeofool': 18590, 'lasagna': 18591, 'shawnhindriix': 18592, 'dustincmc': 18593, 'kevinkillsthngs': 18594, 'ojvrdy': 18595, 'bloked': 18596, 'erikcochrane': 18597, 'tonydecola': 18598, 'intrested': 18599, 'bellabelcastro': 18600, 'ideepudj': 18601, 'omwaed2pcj': 18602, \"sti's\": 18603, 'sadailday': 18604, 'drnrdx': 18605, 'brandonfxrd': 18606, 'tocj1wxryk': 18607, 'medication': 18608, 'breakup': 18609, 'm4w': 18610, 'dillard': 18611, 'bruhkiarathrowd': 18612, 'itsjordyyyn': 18613, 'beckwith74': 18614, 'ryandolan123': 18615, '2lkukctpf0': 18616, 'iemn1u0gm5': 18617, 'mutant': 18618, 'echbhike': 18619, 'xavi': 18620, 'hrheyyoirp': 18621, 'dymondmarie1': 18622, 'dkellz34': 18623, '71ivr8islk': 18624, 'courtesy': 18625, 'bainbridge': 18626, 'isl': 18627, 'cellar': 18628, \"let'em\": 18629, '2ssss': 18630, \"'every\": 18631, \"it'\": 18632, 'lillivonschtupp': 18633, '13damage': 18634, 'brazenmodels': 18635, 'magazine': 18636, 'chromeasome': 18637, \"pecker's\": 18638, 'offensively': 18639, 'honeybooboo': 18640, 'gazelles': 18641, 'stephenking': 18642, 'tydollasign': 18643, 'ouuua': 18644, 'siana': 18645, 'namu': 18646, \"ta'e\": 18647, 'bnightengale': 18648, 'feinsandnydn': 18649, 'ranger': 18650, 'scouts': 18651, 'argylegray': 18652, '6hofblxaul': 18653, 'infidelalie': 18654, 'rinds': 18655, 'breebree1731': 18656, 'cyc9madjpq': 18657, 'mikelahenry': 18658, 'winnnnnnnnn': 18659, 'addition': 18660, 'expectations': 18661, 'keirranicolee': 18662, 'csalazar': 18663, '04': 18664, 'hacky': 18665, 'soomonique': 18666, 'tamu': 18667, 'newscommenter': 18668, 'gatewaypundit': 18669, '3yrs': 18670, 'restau': 18671, 'tweetnasschiqk': 18672, 'kitlange': 18673, 'oppressing': 18674, 'shoving': 18675, 'reconsider': 18676, 'charlene': 18677, 'wifioverhoes': 18678, 'jacquebland': 18679, 'pointed': 18680, 'impartial': 18681, 'wheresshitgoing': 18682, 'breeds': 18683, 'realniccasalute': 18684, 'commenting': 18685, 'spiderman': 18686, 'uyjgzux4cc': 18687, 'shabbashone': 18688, 'juywznabp5': 18689, 'jewelsanddrugs9': 18690, 'madonnas': 18691, 'chalked': 18692, 'cheetahxcheeks': 18693, 'iamkingrico': 18694, 'cakedjake': 18695, 'chello': 18696, 'kontra402': 18697, 'jazminejanay': 18698, 'pfsnlm07il': 18699, 'rosemary': 18700, 'lehmberg': 18701, 'comedycentral': 18702, 'motherf': 18703, 'ker': 18704, 'beerfest': 18705, '1jngk3mxfh': 18706, 'stew4': 18707, 'grader': 18708, 'kortneyalexis': 18709, 'messagetomyfuturespouse': 18710, 'cleanin': 18711, 'shaw': 18712, 'actrist': 18713, 'sheebonyblack': 18714, 'hotkommodity05': 18715, 'ywz59nbnr7': 18716, 'ripienaar': 18717, 'presenters': 18718, 'mlky9zsen2': 18719, 'cornball': 18720, 'cjfz9dauyl': 18721, 'invr9wnccv': 18722, 'launching': 18723, 'otter': 18724, 'bigstaxxboss': 18725, 'dontforget': 18726, 'tonymoore': 18727, 'cabinet': 18728, 'sp5zrufvkl': 18729, 'madisonbeck143': 18730, 'mahnameisjared': 18731, 'drugsforsteph': 18732, '127935': 18733, 'b0ujib00ty': 18734, 'prope': 18735, 'killah': 18736, 'kae': 18737, 'gmjkolmcyq': 18738, 'goddamit': 18739, 'xcla5xpmlx': 18740, 'saymyname': 18741, 'redfernave': 18742, 'tfti': 18743, 'believes': 18744, '9lporcb8w0': 18745, 'jtfooooo': 18746, 'brandonbangerz': 18747, 'mostafa092': 18748, 'sharkiesha': 18749, 'skilled': 18750, 'caged': 18751, 'mayaangelou': 18752, 'morganbaileyyy': 18753, 'acidlacedbong': 18754, 'neecol': 18755, 'drako': 18756, '713': 18757, 'bac': 18758, 'vite': 18759, 'partay': 18760, 'lashontae': 18761, 'treysongzson': 18762, 'errrrything': 18763, 'natedavvg': 18764, 'damianshughes': 18765, 'verch': 18766, 'marlene': 18767, 'lymmanny': 18768, 'tattedhms': 18769, 'hml': 18770, 'brogod': 18771, 'nouhxhlsha': 18772, 'antiamnesty': 18773, 'appsame': 18774, 'naturalized': 18775, 'citizenship': 18776, 'origin': 18777, 'chriswebby': 18778, 'burgular': 18779, 'whichisit': 18780, 'princevelly': 18781, 'magicjohnson': 18782, '1bigmick': 18783, 'quintessential': 18784, 'embodiment': 18785, 'femininity': 18786, 'tayisbaee': 18787, 'rgja7cfoit': 18788, 'kenzystuart1': 18789, 'oxdictionary': 18790, 'caiivs': 18791, 'werent': 18792, 'repcon': 18793, 'comparing': 18794, 'mykvh': 18795, 'supasaiyansarah': 18796, 'brokeass': 18797, 'madeadonplay': 18798, 'damestr8cash': 18799, 'reno': 18800, 'cowgirl': 18801, 'nitc': 18802, 'trina': 18803, '2013shit': 18804, 'hornyfuck': 18805, 'bestoffod': 18806, 'vu3xnalags': 18807, 'bdarnon': 18808, 'quechele': 18809, 'hispanics': 18810, 'visually': 18811, 'toetancchamon': 18812, 'checken': 18813, 'ging': 18814, \"zo'n\": 18815, 'heftige': 18816, 'wond': 18817, 'verwacht': 18818, 'heftig': 18819, 'sterkte': 18820, 'beterschap': 18821, 'hoor': 18822, 'blkarab24': 18823, 'sandiego': 18824, 'qmuiepcljc': 18825, 'jpizzle651': 18826, 'caress': 18827, 'runners': 18828, 'h6e278e85s': 18829, 'beaten': 18830, 'johansson': 18831, 'cbahf9r9xd': 18832, 'bjwalkinrivers': 18833, 'bord': 18834, 'fuckjng': 18835, 'weef': 18836, 'fitm': 18837, 'castle': 18838, 'vinladen2': 18839, 'allowance': 18840, 'singl': 18841, 'thelibraicon': 18842, 'wenotsocks': 18843, 'cradle': 18844, 'sterm26': 18845, 'realjameswoods': 18846, 'ranking': 18847, 'halfjewish': 18848, 'stills': 18849, '6uowecbuqo': 18850, 'rational': 18851, 'popebeloud': 18852, 'grandhustla': 18853, 'milesthompson': 18854, 'g3ze8bqlpg': 18855, 'cambryh': 18856, 'zetti': 18857, 'flyover': 18858, \"'member\": 18859, 'quadraphonic': 18860, 'stereo': 18861, 'coolio': 18862, '1984': 18863, 'retjvhgj1h': 18864, '5tasiq5yo8': 18865, 'hunching': 18866, 'mmpfeii': 18867, 'ticiaverveer': 18868, 'meroe': 18869, 'sudan': 18870, 'occupied': 18871, 'dannyyy': 18872, 'newwww': 18873, 'sandles': 18874, 'asaptwelvyy': 18875, 'bettyboo': 18876, 'tibridotcom': 18877, 'izziorizzi': 18878, 'spitted': 18879, 'hollerin': 18880, 'unpregnant': 18881, 'gbbiob1ots': 18882, 'pfeif': 18883, 'biddin': 18884, 'simplyalize': 18885, 'xonayyy': 18886, 'ugglyyy': 18887, 'cvjadmypg6': 18888, 'indicamangoes': 18889, 'situps': 18890, 'schlabach': 18891, 'mcmurphyespn': 18892, 'ywvvg51z6w': 18893, 'seanmdav': 18894, 'blakehounshell': 18895, 'barrels': 18896, 'tylergposey': 18897, 'ianbohen': 18898, 'berzerker': 18899, 'zchbqxfa0g': 18900, 'birdieb420': 18901, 'nowb': 18902, 'michaelray': 18903, 'tp05ia7jbx': 18904, '128576': 18905, 'orientation': 18906, 'meetin': 18907, '5bbmhaphrd': 18908, 'imshawntee': 18909, 'wishfulthinking': 18910, 'yungrajee': 18911, 'jb7j3zsbam': 18912, 'suckmy': 18913, 'volnation': 18914, 'muhfugginjkells': 18915, 'brzlcfy7xe': 18916, 'tarantulas': 18917, 'bkraised718': 18918, 'sierrabell15': 18919, 'finnj97': 18920, 'breathtaker': 18921, 'ull': 18922, 'searcy': 18923, 'alison': 18924, 'nlisa': 18925, 'discussing': 18926, 'bes': 18927, 'commonmankfan': 18928, 'obeykingkelvin': 18929, 'mellydaking': 18930, 'tfcinxlqhv': 18931, \"choosin'\": 18932, 'mrfourtwentyy': 18933, 'whistle': 18934, 'spvogfyxzt': 18935, 'blinders': 18936, 'bergbrain': 18937, \"aren'tcha\": 18938, 'jkx6dsqxcq': 18939, 'thenotoriousd': 18940, 'fuccck': 18941, 'levar': 18942, 'burton': 18943, 'shatner': 18944, 'mr2damngood4u': 18945, 'dbbxsow8m2': 18946, 'bestvinefights': 18947, 'x59d4kmy7p': 18948, 'tdwp327': 18949, 'pigments': 18950, 'coccus': 18951, 'costa': 18952, 'cochineal': 18953, 'insect': 18954, 'vasquez': 18955, 'reaffirms': 18956, 'rowdy': 18957, 'edgarpixar': 18958, 'overdosing': 18959, 'denote': 18960, 'skimp': 18961, 'mannydiesel': 18962, 'artoffloyd': 18963, 'terrell': 18964, 'owens': 18965, 'sttbs73': 18966, 'defunding': 18967, 'veterans': 18968, '1mvetmarch': 18969, 'evolving': 18970, 'msu': 18971, 'reassess': 18972, 'izzo': 18973, 'daugherty': 18974, 'munn': 18975, 'boko': 18976, 'haram': 18977, 'jiggyjust': 18978, 'nankdatthang': 18979, 'hamburger': 18980, 'mybeautyy': 18981, 'squaw': 18982, 'insidejoke': 18983, 'loveandhiphop': 18984, 'ilovemytroops': 18985, 'senatortimscott': 18986, 'michael28754837': 18987, 'itsjustjill': 18988, 'repudiated': 18989, '2u10aolkxg': 18990, 'asaplex': 18991, 'drugssss': 18992, 'blackrichyrich': 18993, 'slobin': 18994, \"i'\": 18995, 'hairypotterz': 18996, 'iamtysonbettis': 18997, 'babyspittle': 18998, 'kimmyincali': 18999, 'martinishark': 19000, 'widows': 19001, 'irsuns': 19002, 'tcsiji6a0d': 19003, 'illwill': 19004, 'marcellusrexxx': 19005, 'bitchimgoonin': 19006, 'yoooodem': 19007, 'fxi7gkauh2': 19008, 'barks': 19009, 'marchforinnov': 19010, 'renegademo': 19011, 'l2ipe6uvqh': 19012, 'creation': 19013, 'overbreeding': 19014, 'samirahusic': 19015, 'whata': 19016, 'ginobli': 19017, 'delta': 19018, 'celebration': 19019, 'daijak': 19020, 'whitetears': 19021, 'lessonoftheday': 19022, 'zlyouell': 19023, 'spongebobvlnes': 19024, 'saplings': 19025, \"heidi's\": 19026, \"emm's\": 19027, 'historyinpics': 19028, 'atop': 19029, 'balcony': 19030, 'chancellery': 19031, 'fred': 19032, 'ramage': 19033, '1945': 19034, 'hltkroqrys': 19035, 'turdjerguson': 19036, 'liquorface': 19037, 'fakes': 19038, 'larissa': 19039, 'shetwirlsmykan3': 19040, 'dontesydnor': 19041, 'iizydfbzcg': 19042, 'thastonernation': 19043, 'llewyn': 19044, 'abound': 19045, 'ferocious': 19046, 'babynacca': 19047, 'pipethefckdown': 19048, 'tones': 19049, 'lousiville': 19050, 'skimaskjojo': 19051, 'birdcage': 19052, 'byyyyyyrrrrrrrrrrrrr': 19053, 'handled': 19054, 'summer2014': 19055, 'hydro': 19056, 'prettyblaack': 19057, 'overthinking': 19058, 'podcasts': 19059, 'uppercut': 19060, 'teuqy9hf': 19061, 'mytweets': 19062, 'ptqa8lzqea': 19063, 'brycehamilton11': 19064, 'lapdances': 19065, 'theorlandojones': 19066, 'wc4ub0un6b': 19067, 'youngjefe': 19068, 'darker': 19069, 'monicawarren16': 19070, 'pumprules': 19071, 'seater': 19072, 'yokohamas': 19073, 'vogues': 19074, 'schieffer': 19075, 'smitten': 19076, '1965': 19077, 'hellobrooklynn': 19078, 'sparing': 19079, 'q3fskcy6l2': 19080, 'oi': 19081, 'pazzsince95': 19082, 'celrcwziq3': 19083, 'killyouself': 19084, 'zodiac': 19085, 'ouh': 19086, 'overdoing': 19087, 'littleelexx': 19088, 'hippieproblemz': 19089, 'headstand': 19090, 'blowy': 19091, 'eatting': 19092, 'youngtravo': 19093, 'jeromesantonio': 19094, 'boybandproject': 19095, 'thezacmann': 19096, 'jsonmytweet': 19097, 'muurdasteven': 19098, 'buttsigns': 19099, 'wpia0bvgju': 19100, 'lessgiri': 19101, 'theyself': 19102, 'truu': 19103, 'dynamite': 19104, 'core4': 19105, 'bl2v1v2n9t': 19106, 'capflowwatch': 19107, 'lze2e0wuyv': 19108, 'rescued': 19109, 'ad7yy4cuqt': 19110, 'phillydaboss323': 19111, 'bendoneit': 19112, 'youngmintono': 19113, 'yptxvbb3sk': 19114, 'babineaux': 19115, 'iongotnotype': 19116, \"hatin'\": 19117, 'gln': 19118, 'capotej': 19119, 'flowz': 19120, 'iforeign': 19121, \"strong's\": 19122, 'sqedbgu34k': 19123, 'photoshopped': 19124, 'smmfh': 19125, '5e2fkq3q2t': 19126, 'kiara': 19127, 'rickjamesbitch': 19128, 'englandlauren': 19129, 'iain4harrison': 19130, 'oliviaboncic': 19131, \"'honor'\": 19132, 'barbecue': 19133, \"'grills\": 19134, \"out'\": 19135, 'ymcmb': 19136, 'dkvnjmcarz': 19137, 'nataiiaxxx': 19138, 'bbyotneebn': 19139, '7pzrbwx0nu': 19140, 'raglyscrag': 19141, 'saverearose': 19142, 'hgmdurjfyt': 19143, 'robfee': 19144, 'narcissistic': 19145, 'rileyy': 19146, 'babyyy': 19147, '128013': 19148, 'freakyabandoned': 19149, 'asylum': 19150, \"1980's\": 19151, '03s8desezq': 19152, 'garvey': 19153, 'oppose': 19154, 'communists': 19155, 'w2pon': 19156, 'wyeisha': 19157, 'brits': 19158, 'comets': 19159, 'oliviagobert': 19160, 'zsaazfl0p5': 19161, 'ignorantlesbian': 19162, 'ikickbabies': 19163, 'alfanolisa': 19164, '1791': 19165, 'mariachappellen': 19166, 'baiters': 19167, 'manijeetwa': 19168, 'habeshasuperman': 19169, 'veto': 19170, 'allaboutmanfeet': 19171, '3gzupfumev': 19172, 'mwootey420': 19173, 'chael': 19174, 'suplexin': 19175, 'noticias': 19176, 'ltimahora': 19177, 'republicano': 19178, 'elegido': 19179, 'gobernador': 19180, 'apracecall': 19181, 'qkbwq': 19182, 'rlfclifestyle': 19183, 'lilimaeee': 19184, 'tiathegawd': 19185, '01takesthelead': 19186, 'whipers': 19187, 'nov': 19188, '00pm': 19189, 'preoccupied': 19190, 'reasonswecantbetogether': 19191, 'feisty': 19192, 'bigdickdoane': 19193, 'francisco': 19194, 'andrenickatina': 19195, 'macdonalds': 19196, 'devilish': 19197, '2day': 19198, 'homey': 19199, 'b1991': 19200, 'markie': 19201, 'marines1994': 19202, 'daggone': 19203, 'midwestmiles': 19204, 'fined': 19205, 'wheretheyheadsat': 19206, 'elementjetson': 19207, 'mothafuggin': 19208, 'shojoaie': 19209, 'scampi': 19210, 'chickengeorge': 19211, 'qfqyc7g7px': 19212, 'teanna': 19213, 'cleaner': 19214, 'greatnegrodamus': 19215, 'falcants': 19216, 'blakedabasedson': 19217, '50s': 19218, '20s': 19219, 'superi0r': 19220, '422': 19221, 'oedkehyyxj': 19222, 'learning': 19223, '4vqh4zbwml': 19224, 'braiding': 19225, '3high': 19226, 'muscular': 19227, '8vg3matceu': 19228, 'weiners': 19229, 'reverse': 19230, 'trotin': 19231, 'thotin': 19232, 'snitched': 19233, 'facility': 19234, 'stayyegolden': 19235, 'lakeshow73': 19236, 'optimism': 19237, 'legsfordayyys': 19238, 'haneema': 19239, 'whiteprivilege': 19240, 'alcs': 19241, 'steinbrenner': 19242, 'glorydays': 19243, 'iyqrbn2amf': 19244, 'oniinebaby': 19245, 'longlivelilray': 19246, 'chronicles': 19247, 'noon': 19248, 'adorezoey': 19249, 'crook': 19250, 'flhippie': 19251, 'amennn': 19252, 'womenlovebrickz': 19253, 'drewmking': 19254, 'joely': 19255, 'dace': 19256, 'sooooooooooooo': 19257, 'kevinkevmooney': 19258, 'lellerbe': 19259, 'yoh': 19260, 'dtb': 19261, 'hollered': 19262, 'wavey': 19263, 'xdalovelytishai': 19264, 'verusfacts': 19265, '81pvuhnhat': 19266, 'neni': 19267, 'graduated': 19268, 'chalupa': 19269, 'trinaaa': 19270, 'katrinaaaa': 19271, 'diishaidiamond': 19272, 'alexrice': 19273, 'leen': 19274, 'thatnycshit': 19275, 'bitchesbelike': 19276, 'newyorkgirlsbelike': 19277, 'hoodbitches': 19278, 'oxtails': 19279, 'blasphemy': 19280, 'boneless': 19281, 'kailanlee': 19282, 'thexbone': 19283, 'twitch': 19284, 'drippen': 19285, 'vanillaaaaa': 19286, 'killaaaa': 19287, 'imonmylevelgtb': 19288, 'kanga': 19289, 'ruthie': 19290, 'sabdaddyy': 19291, 'xournvvayp': 19292, 'slur': 19293, 'swift': 19294, 'lizzs': 19295, 'lockeroom': 19296, 'k6aiivu6ph': 19297, 'ohhhchad': 19298, 'carterazoo': 19299, 'rocafella123': 19300, 'goldielocks512': 19301, 'nydailynews': 19302, 'newsflash': 19303, 'easton': 19304, 'pburg': 19305, 'diseases': 19306, 'trillions': 19307, 'iihcpfiyqu': 19308, 'owieee': 19309, 'vxads6boha': 19310, 'yunglust': 19311, 'hannahtherapper': 19312, 'yeezy': 19313, '4ol82rdeqx': 19314, 'lolaaisdope': 19315, 'trailor': 19316, 'crzy4tay': 19317, 'youve': 19318, 'slinkjohnson': 19319, 'patent': 19320, 'disposable': 19321, 'sanitary': 19322, 'discreet': 19323, 'ekepsjwcyu': 19324, 'mashable': 19325, 'bendgate': 19326, 'ajflpcj7yr': 19327, 'asvspiqxmh': 19328, 'hypper': 19329, 'ghostriderj1': 19330, 'digit': 19331, 'zibnjmiilj': 19332, 'savethesehos': 19333, 'rjaiohrphw': 19334, 'tanktopshotta': 19335, 'blaspheme': 19336, 'strings': 19337, 'originally': 19338, 'ravenalegria13': 19339, 'prattprattpratt': 19340, 'smirnoff': 19341, 'simmons': 19342, 'cakebosslex': 19343, 'laughatproblems': 19344, 'jdxid5i9dk': 19345, 'ode': 19346, 'clzcdxx': 19347, 'elf': 19348, 'letsquotecomedy': 19349, 'ltdbnlmovu': 19350, 'pacernation': 19351, 'breadsticks': 19352, 'shaunroberts': 19353, 'shessoblessed': 19354, 'kutztown': 19355, 'tpm': 19356, 'goper': 19357, 'doubles': 19358, 'backpedals': 19359, 'qwlpxxsuib': 19360, 'turmoil': 19361, 'settlling': 19362, 'mathanugg': 19363, 'copacetic': 19364, 'fuccseth': 19365, 'keg': 19366, 'mukk3bottu': 19367, 'guiltypleasure': 19368, 'jeronimosolano': 19369, 'icarleybby': 19370, 'bsoyll83iz': 19371, 'inde': 19372, 'attempting': 19373, 'acknowledging': 19374, 'austinnn': 19375, 'balled': 19376, 'fzrodl': 19377, 'exception': 19378, 'gilda': 19379, 'radner': 19380, 'tvmu2oyjqx': 19381, 'funcy': 19382, 'wedemgirlz': 19383, 'riverajustin': 19384, 'imback': 19385, 'newtwitter': 19386, 'jazwau': 19387, \"friends'\": 19388, 'hostel': 19389, '3tilinfinity': 19390, 'joshgiii': 19391, '4ovgz3lhqu': 19392, 'peekin': 19393, 'tl352dmt1n': 19394, 'spatoon': 19395, 'cart': 19396, 'yeeyee': 19397, 'mowder03': 19398, 'majorslander': 19399, 'drakelistener': 19400, 'charlseykay': 19401, 'homeee': 19402, 'founder': 19403, 'marvel': 19404, 'eternallygrateful': 19405, 'heinz': 19406, 'singlelife': 19407, 'teddybear': 19408, 'xnastyy': 19409, 'sisssyhaymaan': 19410, 'massacred': 19411, 'pastor': 19412, \"'worst\": 19413, \"ever'\": 19414, \"'pro'\": 19415, 'manages': 19416, '0ntcwbrmmk': 19417, 'polarisclub': 19418, 'loyalist': 19419, 'plea': 19420, 'paigehardesty': 19421, 'induztriouz': 19422, 'believer': 19423, 'kingsimi': 19424, 'heyitskitten': 19425, 'betty': 19426, 'seymourblanco': 19427, 'rlrnybfedt': 19428, 'wooden': 19429, 'lokihulibele': 19430, 'aamaadmiparty': 19431, 'maoists': 19432, 'congies': 19433, 'interlagos': 19434, 'grips': 19435, 'f1': 19436, 'wec': 19437, 'normingtontj': 19438, 'ferg7': 19439, 'fvfx': 19440, 'numerous': 19441, 'amounts': 19442, 'pickup': 19443, 'thechicagobaker': 19444, 'stopbeingfamous': 19445, 'raniakhalek': 19446, 'josesitoriveraa': 19447, 'marshe': 19448, 'istandy': 19449, 'assyrian': 19450, 'peterson': 19451, 'rq978': 19452, 'dcolbray88': 19453, 'ohkillem': 19454, 'ballininhd': 19455, 'jaymewes': 19456, '8e0aqmial8': 19457, 'vap': 19458, 'f0tpxsupkx': 19459, 'caddyshack': 19460, 'pretentious': 19461, 'realbobbyjay': 19462, 'jakewaller97': 19463, 'baxiffkd9w': 19464, 'nmua12yr2w': 19465, 'qi1yqnmemw': 19466, 'oeauxmar': 19467, 'smashing': 19468, 'fucboy': 19469, 'fuhnance': 19470, 'paragraphs': 19471, 'adorbs': 19472, 'litter': 19473, '35nmr4auqg': 19474, 'laken': 19475, 'heavner': 19476, 'prettttttty': 19477, 'amazi': 19478, 'muafucka': 19479, 'gvvenivere': 19480, 'randos': 19481, 'omgitsjudiee': 19482, 'prettymillz': 19483, 'jrgg9eq4xv': 19484, 'krenshaw': 19485, 'iluvfashion618': 19486, 'stony': 19487, 'brook': 19488, 'saya': 19489, 'natsukawa': 19490, 'licked': 19491, 'japaneses': 19492, 'e1va9eiiz3': 19493, 'kgokey17': 19494, 'patbeeh95': 19495, 'toq4bfwnzg': 19496, 'mj2307': 19497, 'winnnn': 19498, 'laurenramirez16': 19499, 'satsuiyeshadou': 19500, 'enti': 19501, 'wks': 19502, 'consistency': 19503, 'atlienz404': 19504, 'nmoxkm4pwx': 19505, 'temples': 19506, \"soul's\": 19507, 'frc': 19508, 'teenage': 19509, 'alaysiamichelle': 19510, 'almightyburr': 19511, 'kurngb': 19512, 'mfw': 19513, 'scripture': 19514, '9zdsku0lbo': 19515, 'ix': 19516, 'dawnbazely': 19517, 'graces': 19518, 'snuggling': 19519, 'paused': 19520, 'pqedosoglo': 19521, 'dayton': 19522, 'spokes': 19523, 'tinashe': 19524, 'vlnhyahaew': 19525, 'yungfree504': 19526, 'romero': 19527, 'khorasan': 19528, 'arabic': 19529, 'invention': 19530, 'thequeentommy': 19531, 'disparagement': 19532, 'hoelpcbbg6': 19533, '6oldar': 19534, 'lovelyweird0': 19535, 'xmnim9yivn': 19536, 'emmgoldla': 19537, 'goldschmied': 19538, 'whoo': 19539, 'potter': 19540, '1nfsh5sccr': 19541, 'fritag': 19542, 'junkie': 19543, 'metalhammer': 19544, 'maiden': 19545, 'busking': 19546, 'balham': 19547, 'dvr': 19548, 'wj0nycel8h': 19549, 'homer': 19550, 'notesforgirlz': 19551, 'd4opanpwzb': 19552, 'linnyitssn': 19553, 'towers': 19554, \"kim's\": 19555, 'returns': 19556, 'megankjanes23': 19557, 'rhythm': 19558, 'kingcedd': 19559, 'porter21': 19560, '1mdot': 19561, 'falisha': 19562, 'esex': 19563, 'ruskii': 19564, 'heartburn': 19565, 'erikxrosa': 19566, 'frenemies': 19567, 'derekisom': 19568, 'bras': 19569, 'vwt4i9poc2': 19570, 'tjdunn23': 19571, 'hosers': 19572, 'shrekkalove': 19573, 'atcq': 19574, \"tip's\": 19575, 'looped': 19576, \"phife's\": 19577, 'dontcallmekyrie': 19578, 'scratches': 19579, 'chinitaaah': 19580, 'strippin': 19581, 'blrn8dzya3': 19582, 'stephpaulus': 19583, 'qfdbbu4hpv': 19584, 'mathewsjw': 19585, 'aufmcz01y3': 19586, 'thotsnextdoor': 19587, 'wetness': 19588, 'simonee': 19589, 'poobie': 19590, 'exurbankevin': 19591, 'subbeck': 19592, 'mandylougraham': 19593, 'mirdinero': 19594, 'dokzmu8i0f': 19595, 'chinatown': 19596, 'bulldozed': 19597, 'whizkhidk': 19598, 'amberadamzzz': 19599, '8986': 19600, 'chrisbegettinit': 19601, 'shank': 19602, 'ceviche': 19603, 'juicistrawberry': 19604, 'feztht70s': 19605, 'owne': 19606, 'gloryyyy18': 19607, '3rdeyechillin': 19608, 'opnminds': 19609, 'webbers': 19610, 'dmilz4': 19611, 'sz13': 19612, 'vnds': 19613, 'restorers': 19614, 'separation': 19615, 'fogged': 19616, 'yc81vg2kg1': 19617, 'butteryassrobb': 19618, 'krispy': 19619, 'kreme': 19620, 'witdajuice': 19621, 'fu4dbqeotn': 19622, 'derekt529': 19623, 'buckupside': 19624, 'coneee': 19625, 'ddictedtohoes': 19626, 'xqyjbkzanv': 19627, 'fuked': 19628, 'shuldnt': 19629, 'stanky': 19630, 'danielleekendra': 19631, 'wiggas': 19632, 'stamps': 19633, 'soah0z1juv': 19634, 'danstfler': 19635, 'khsampba68': 19636, 'patapon': 19637, 'ushishi': 19638, 'beatboxing': 19639, 'uppa': 19640, 'bodmonting': 19641, 'honorary': 19642, 'kik2clean': 19643, 'oz2pndngj0': 19644, 'justicechrist': 19645, 'chillasstweets': 19646, 'beautifulbeeee': 19647, 'alfwpumnls': 19648, '128240': 19649, 'vjegtjep3x': 19650, 'childrens': 19651, 'mflagginski': 19652, 'milwaukie': 19653, 'bikes': 19654, \"dui's\": 19655, 'fronted': 19656, 'parrot': 19657, 'prelude': 19658, 'papo': 19659, 'fonseca': 19660, 'ploppy74': 19661, 'chains': 19662, 'yeahhhhhhh': 19663, 'okkkk': 19664, 'james01': 19665, 'kiante': 19666, 'kidnoble': 19667, 'believing': 19668, 'baldheadass': 19669, 'rs9jj9psc3': 19670, 'cheyennewright': 19671, 'villasenor': 19672, 'kxngtae': 19673, 'petertrvjillo': 19674, 'attackoftitan': 19675, 'adultswim': 19676, 'han': 19677, '2fly3xl': 19678, 'registering': 19679, 'hzaorfuv5x': 19680, 'coreyroyalty': 19681, 'iss': 19682, 'services': 19683, 'fvckmike': 19684, 'orangutan': 19685, 'actress': 19686, 'haner6b9ts': 19687, 'amandaner': 19688, 'royaltyclubvp': 19689, '128036': 19690, 'tooting': 19691, 'heisme': 19692, 'iamhim': 19693, 'judahworldchamp': 19694, 'dives': 19695, 'divers': 19696, 'wor': 19697, 'johnel': 19698, 'killakev27': 19699, 'caddilac': 19700, 'luxury': 19701, 'virginity': 19702, 'stevenlevandows': 19703, 'brakes': 19704, 'simplyperfectt': 19705, 'connecticut': 19706, 'bykfaoyk6y': 19707, 'f8grqk3tc8': 19708, 'relates': 19709, 'noonecares': 19710, 'spay': 19711, 'smithaaaaaa': 19712, 'vern': 19713, 'asiacakesss': 19714, 'microwaveable': 19715, '239rell': 19716, '2million': 19717, 'guesss': 19718, 'g20': 19719, \"'might'\": 19720, '0bama': 19721, 'attribute': 19722, 'etellurian': 19723, 'bicycle': 19724, 'learnsomethingeveryday': 19725, 'legendarye': 19726, 'dionprimo': 19727, 'departed': 19728, 'ezraxdavis': 19729, 'chris2x': 19730, 'nevadapr': 19731, 'shxt': 19732, 'declothed': 19733, 'wln': 19734, 'beepbeepamanda': 19735, 'pirate': 19736, 'morton': 19737, 'impersonation': 19738, 'wannabekanye': 19739, 'uod2f5wtkv': 19740, 'ronniecaine': 19741, \"'how\": 19742, \"now'\": 19743, 'lucyyluux': 19744, 'timmyn90': 19745, 'graduating': 19746, 'bmoremartyr': 19747, 'shiannealvarez': 19748, 'dominion': 19749, 'xcx': 19750, 'gmfu': 19751, '8n9mi46cbu': 19752, 'aidaapple14': 19753, 'talkmaster': 19754, 'nunn': 19755, 'founders': 19756, 'constitut': 19757, 'luchiecapone': 19758, 'mayasvritaa': 19759, \"boston's\": 19760, 'brotherhood': 19761, '4ifjwoesdr': 19762, 'realjtp': 19763, 'humonthese': 19764, 'bender': 19765, 'jn8exkxf': 19766, \"cruise's\": 19767, \"'tiger\": 19768, \"blood'\": 19769, '718queens': 19770, 'jared': 19771, 'leto': 19772, 'unrecognizable': 19773, 'jdydff': 19774, 'collegeboy3000': 19775, 'classclownkjl': 19776, 'fubu': 19777, 'eomrmqwnqt': 19778, 'serio': 19779, 'wassuo': 19780, 'cutie98': 19781, 'carharttdarlin': 19782, 'therealcoolie': 19783, 'raqithunda': 19784, 'badgering': 19785, 'ethic': 19786, 'submission': 19787, 'confronts': 19788, 'hahahhahaa': 19789, 'princebama': 19790, 'fru': 19791, 'lox': 19792, 't5': 19793, 'route': 19794, 'grier': 19795, 'uf': 19796, 'overseas': 19797, 'chingonabe': 19798, 'mjs79': 19799, 'genos': 19800, 'elmaestro1': 19801, 'theatlantic': 19802, 'escapes': 19803, 'q9yuyvel': 19804, 'theatlanticwire': 19805, 'malicious': 19806, 'ratch': 19807, 'agcpqly5wi': 19808, 'iamxjones': 19809, 'tameka': 19810, 'farve': 19811, 'stuckup': 19812, 'entree': 19813, 'truckshorsesdog': 19814, 'coincky': 19815, '53bnmfyqza': 19816, 'jaylynnkoliba': 19817, '3hunnad': 19818, 'nxpjprhsbu': 19819, '10milekid': 19820, 'socialite': 19821, 'dragrace': 19822, 'dragqueen': 19823, 'hdd8tbmyaj': 19824, 'teammarlo': 19825, 'bitterarab': 19826, 'ridicule': 19827, 'bussiness': 19828, 'jooselhynn': 19829, 'rollingwithtrin': 19830, 'knowwww': 19831, 'receptionist': 19832, 'ashtonmartin97': 19833, 'whitfordzach29': 19834, 'karahn': 19835, 'measure': 19836, 'butters': 19837, 'lands': 19838, 'harryrellofonte': 19839, 'durin': 19840, 'shonni': 19841, 'maizenblue23': 19842, 'waynesworld171': 19843, 'svsu': 19844, 'pinky': 19845, 'tierd': 19846, 'austinrea': 19847, 'christopher': 19848, 'smashes': 19849, 'bxqd30z6nb': 19850, 'gbgjiuiref': 19851, 'cfl': 19852, 'lb': 19853, 'solomon': 19854, 'elimimian': 19855, 'opponent': 19856, 'eyjinwiwwe': 19857, 'idont': 19858, '127827': 19859, 'scarborough': 19860, 'nastyy': 19861, 'farto': 19862, 'outterspaceswag': 19863, 'chipchipperson': 19864, 'chippah': 19865, 'hangin': 19866, 'polopowell': 19867, 'bham': 19868, 'vee': 19869, 'adderall': 19870, 'l4aocjczsh': 19871, 'stonernan': 19872, 'bewbzy': 19873, 'm8': 19874, 'crotch': 19875, 'igniting': 19876, \"'06\": 19877, 'yokidaintmine': 19878, 'liquid': 19879, 'batgangbitchh': 19880, 'lodmtpapi': 19881, 'dt9nua4u7a': 19882, 'bossbytchh': 19883, 'seh': 19884, 'curtain': 19885, 'ahmesehwetness': 19886, 'titled': 19887, 'bestofnike': 19888, 'nikeporn': 19889, 'nn4vo90htj': 19890, 'heyshelby': 19891, 'griiind': 19892, 'luuuuuuv': 19893, 'jaspoo': 19894, 'basedzae': 19895, 'tr1ll': 19896, 'tmrw': 19897, 'l00py': 19898, 'cabhotties': 19899, \"marlboro's\": 19900, 'machine': 19901, 'haleybeeee': 19902, 'mostdoubt3d6': 19903, 'emilymorring': 19904, 'drift': 19905, 'bigquinn': 19906, 'diego11': 19907, 'volcano': 19908, 'mikeydjaro': 19909, 'joeytaormina': 19910, 'hildismom': 19911, '6onyrmggnd': 19912, 'redmeat': 19913, 'bocgeogaddi': 19914, 'iprincechance': 19915, 'handmade': 19916, 'handcut': 19917, 'marinated': 19918, 'alatrice16': 19919, 'bakedbrotatoes': 19920, 'perpetrate': 19921, 'nitro': 19922, 'm4': 19923, 'collossal': 19924, 'kellz622': 19925, 'wintergirl93': 19926, \"tahmooressi's\": 19927, \"preezy's\": 19928, 'supportive': 19929, 'contrarian11': 19930, 'msg': 19931, '1990': 19932, 'vehicles': 19933, 'intoxication': 19934, 'trvpgxdx': 19935, 'keisha': 19936, 'swallowed': 19937, 'xjaai': 19938, 'disfigure': 19939, 'tgif': 19940, 'noragrets': 19941, 'alsonobeermoney': 19942, 'migosatl': 19943, 'betterlatethannever': 19944, \"tillmans'\": 19945, 'wif': 19946, 'regents': 19947, 'ibethathigh': 19948, 'brainwork': 19949, 'pacemakers': 19950, 'engineers': 19951, 'wilds': 19952, 'fk': 19953, 'lmmfaooooo': 19954, 'mstseeet4r': 19955, 'lucci': 19956, 'dpc': 19957, 'blissfully': 19958, 'thinker': 19959, 'chump': 19960, 'foreigngawdess': 19961, 'elmarauder': 19962, 'lightest': 19963, 'chestnut': 19964, 'welcomehome': 19965, '500k': 19966, 'spends': 19967, \"'above\": 19968, \"fray'\": 19969, \"'they're\": 19970, \"same'\": 19971, 'mushy': 19972, 'moderate': 19973, 'zboiyjnfl9': 19974, 'aubreykelson': 19975, \"'ell\": 19976, '9veupu85wj': 19977, 'chopper': 19978, 'bk': 19979, 'yesallmen': 19980, 'ekdsi8pqdd': 19981, '3carryonitems': 19982, 'gran': 19983, 'sarccasmictw': 19984, 'yalll': 19985, 'flinched': 19986, 'otonir2yex': 19987, 'chatted': 19988, 'xxviii': 19989, 'liii': 19990, 'thicker': 19991, 'mustaches': 19992, 'ogelizabeth': 19993, 'youngmoneykem': 19994, 'scottvohar': 19995, 'archielacombe': 19996, 'scoutingforfifa': 19997, 'theburntchip': 19998, 'joelburtfifa': 19999, 'jpizzlefifa': 20000, 'joeprich': 20001, 'dracheofficial': 20002, 'alt': 20003, 'f4': 20004, 'programs': 20005, 'yungdipio': 20006, 'rafter': 20007, 'drunkest': 20008, 'wherescolman': 20009, 'pknlcylu': 20010, 'haannnn': 20011, 'angrybraveheart': 20012, 'sheikhkhalifapm': 20013, 'mtn': 20014, 'ore': 20015, 'sped': 20016, 'u50omk2jy6': 20017, 'smichellelo': 20018, 'liberia': 20019, 'rerouted': 20020, 'michaelarenella': 20021, 'scottpelley': 20022, 'ntx': 20023, '9yib45ud6c': 20024, 'queenittybitty': 20025, 'aero': 20026, 'skippylongdick': 20027, 'reall': 20028, 'nigga69': 20029, 'jenetteeem': 20030, 'beyonceland': 20031, 'gala': 20032, 'proposal': 20033, 'bock': 20034, 'coals': 20035, 'sportsgrind': 20036, 'simulator': 20037, 'amandashow': 20038, 'bigdaddysniper': 20039, 'ivory': 20040, 'v6ibgutmwq': 20041, 'theoregonianboo': 20042, 'repbonamici': 20043, 'forbid': 20044, 'chrisbrownn14': 20045, 'massah': 20046, 'luvin': 20047, \"jamammi's\": 20048, 'fakin': 20049, 'funk': 20050, 'istandwithrand': 20051, 'leaders': 20052, 'bachmann': 20053, '2afight': 20054, 'iw6ht090s8': 20055, 'rednationrising': 20056, 'liquidate': 20057, 'bakers': 20058, 'gtwmjmgt': 20059, 'uesygaqlhx': 20060, 'kappas': 20061, 'iota': 20062, 'professors': 20063, 'stillandru': 20064, 'diggins': 20065, 'blangblangsich': 20066, 'tinted': 20067, 'jolly': 20068, 'rancher': 20069, 'iamjamienicole': 20070, 'keyshia': 20071, 'horizon': 20072, 'megaldon': 20073, 'vegeta': 20074, 'teamgoku': 20075, 'delaylay': 20076, 'mickdaddy': 20077, 'dtqgxjkjv7': 20078, 'elaineeespinoza': 20079, 'beth': 20080, 'autoworid': 20081, 'venom': 20082, 'i8egmnkaj9': 20083, 'lovelydomo': 20084, 'saquurmezi': 20085, 'noturavurage': 20086, 'barter': 20087, 'morningmika': 20088, 'mpajkwjbzp': 20089, 'megatron': 20090, 'stafford': 20091, 'glads': 20092, 'soyvice': 20093, 'enforcement': 20094, 'malware': 20095, 'pcworld': 20096, 'enforcem': 20097, 'npvp80gfh6': 20098, 'darthputinkgb': 20099, 'ranked': 20100, 'alongside': 20101, 'lech': 20102, '322': 20103, '281': 20104, 'communism': 20105, 'tayhaswagg': 20106, 'truuuu': 20107, 'teamadeezy': 20108, 'pussyed': 20109, 'juicyyyjayyyy': 20110, 'apevontarskin': 20111, 'cmi': 20112, 'xtee': 20113, 'ohx': 20114, 'wdmc': 20115, 'rhion': 20116, 'xcy9qe5yab': 20117, 'melodicthunder': 20118, 'ishaboibrandon': 20119, 'depending': 20120, 'redemptionzayn': 20121, 'aydanmccoy': 20122, '4gkgam6aeo': 20123, 'hellootitty': 20124, 'printers': 20125, 'printer': 20126, 'areuseriousrn': 20127, 'centuries': 20128, 'reactionaries': 20129, 'drudgies': 20130, 'libertaritards': 20131, 'churchofbasebal': 20132, 'therealtahiry': 20133, 'hy9cty37sw': 20134, 'datruthh': 20135, 'thelaurenway': 20136, 'threesomes': 20137, 'rm0ksy99bc': 20138, 'veronicalewis': 20139, 'squander': 20140, 'karlina': 20141, 'cooch': 20142, 'itching': 20143, 'uti': 20144, 'blurbette': 20145, 'thepbg': 20146, 'xfbbm7cjty': 20147, 'uckin': 20148, 'freebees': 20149, 'centered': 20150, 'gr8': 20151, 'berto': 20152, 'stevemaxboxing': 20153, 'egotistical': 20154, 'thoroughly': 20155, 'intoxicated': 20156, 'forf': 20157, 'mendous23': 20158, 'rhapsody': 20159, 'ockfromdablock': 20160, 'sulnmnc': 20161, 'misskathevo': 20162, 'nofilter': 20163, 'occasion': 20164, \"manning's\": 20165, 'remarkable': 20166, '477': 20167, 'completions': 20168, 'lyciaaa': 20169, 'youaremoreattractive': 20170, 'inferior': 20171, 'billionairecrow': 20172, 'neelahrelates': 20173, 'bola': 20174, 'sturgis': 20175, 'townracer': 20176, 'kareem': 20177, 'mallenokc': 20178, 'royceyoung': 20179, 'smithsonianapa': 20180, 'ripe': 20181, \"30's\": 20182, \"apaches'\": 20183, 'mm': 20184, 'markrothschild1': 20185, 'nofear3136': 20186, 'lanna70115': 20187, 'ranting': 20188, 'therealjohn': 20189, 'tekiaa': 20190, 'dgaffff': 20191, 'checker': 20192, 'ratchetsue': 20193, 'nabilabuamirah': 20194, 'lyinest': 20195, 'district': 20196, 'yhe': 20197, 'veyjlyxhzt': 20198, 'cdfuuu': 20199, 'cinwicked': 20200, 'baboo': 20201, 'sportswithjohn': 20202, 'referee': 20203, 'skid': 20204, 'kix': 20205, 'cinderella': 20206, 'jovi': 20207, 'leppard': 20208, 'whitesnake': 20209, 'vinnie': 20210, 'invasion': 20211, 'ratt': 20212, 'scorpions': 20213, 'sloppery': 20214, 'damnfucknee': 20215, 'waitin': 20216, 'trapfuhrer': 20217, 'jx7mc32bkv': 20218, 'theaveragerocks': 20219, 'snort': 20220, 'boiling': 20221, 'chasemychucks': 20222, '675': 20223, 'fuckittt': 20224, 'dfe8mf2q28': 20225, 'jreynolds': 20226, 'n5uucdtdxt': 20227, 'chhicoo': 20228, 'k7myvflwfg': 20229, 'pm5aa6plw0': 20230, 'saidtina': 20231, 'kayt27': 20232, 'martymard': 20233, 'bigmamaatee': 20234, 'aspiring': 20235, 'dutchbrosplease': 20236, 'kuntrytawk93': 20237, 'sexualgxfs': 20238, 'f1tjl9xnct': 20239, 'nytimes': 20240, 'mn4zfw3p5g': 20241, 'cheerstokellin': 20242, 'nicee': 20243, 'raul': 20244, 'leura': 20245, 'reasonable': 20246, 'endorsed': 20247, 'brands': 20248, 'shivermetimbers': 20249, 'danielm023': 20250, 'redbonejasssy': 20251, 'amnesty2016': 20252, 'unfuckingfollow': 20253, 'xalmdxr2a3': 20254, 'fuckthesehoes': 20255, 'sapphire': 20256, '18k': 20257, 'alexandra': 20258, 'emerald': 20259, '5j3lrxgrcn': 20260, 'swamper60': 20261, 'helloweenorg': 20262, 'tw0jeexqty': 20263, 'jetpacks': 20264, 'counting': 20265, 'buncha': 20266, \"5'3\": 20267, 'warthog': 20268, 'osoplain': 20269, 'crumble': 20270, 'iheinz201': 20271, 'oct': 20272, 'thirst22': 20273, 'justifying': 20274, 'url': 20275, 'whatupwxll': 20276, 'dhem': 20277, 'obsessing': 20278, 'selxnaa': 20279, 'cheez': 20280, 'lays': 20281, 'monstrous': 20282, '1042469': 20283, 'jimmies': 20284, '1043353': 20285, 'mxwtt9h4nc': 20286, 'banters': 20287, 'gushy': 20288, 'roleplayinggames': 20289, 'u0yhwkd34c': 20290, '0xhpbrl9eq': 20291, 'revolutionuk': 20292, 'torturers': 20293, 'droids': 20294, 'patton': 20295, 'ceomiamimike': 20296, '901k2lounge': 20297, '0nv9chtwos': 20298, 'torch': 20299, 'drain': 20300, 'finessed': 20301, 'drugz': 20302, 'koloobmvfa': 20303, 'jamesnasty': 20304, 'gfs': 20305, 'hath': 20306, 'fanfare': 20307, 'funkqdelic': 20308, 'flaka': 20309, 'dxpperjay': 20310, 'wifiandporn': 20311, 'llaboutbenji': 20312, 'petite': 20313, 'pbu9nlxanp': 20314, 'judgmentalnyer': 20315, 'eveisapisces': 20316, 'beaviscumia': 20317, 'jimmysdong': 20318, 'inkmehoe': 20319, 'flightyung': 20320, 'druggys': 20321, 'dopest': 20322, 'homelessbitch': 20323, 'kyleefagnola': 20324, 'yahhtriick': 20325, 'crushes': 20326, 'tweetmetfout': 20327, 'robinfury': 20328, 'phonte': 20329, 'denies': 20330, 'contacting': 20331, 'qhra6oalrr': 20332, 'instance': 20333, \"twinkie's\": 20334, 'sacred': 20335, 'salmeron': 20336, 'lovesexdeath': 20337, 'nadiaxo': 20338, 'hootiegang4ever': 20339, 'splashgang': 20340, 'livefromthe': 20341, 'protectyournet': 20342, \"'1more\": 20343, '5d42kqvo50': 20344, 'clarity': 20345, 'shakiyateniece': 20346, 'addict': 20347, 'abitiixmhz': 20348, 'everybodyyyyy': 20349, 'fuckingggggg': 20350, 'flawgen': 20351, 'bitchjones92': 20352, 'r37cejcjou': 20353, 'feelinyurthroat': 20354, 'beta': 20355, '1pbgyaow3n': 20356, 'toucherandrich': 20357, 'lexvan13': 20358, 'thea': 20359, 'thestrugle': 20360, \"'n\": 20361, 'bunnydahoney': 20362, 'thickest': 20363, 'a6r9u18efs': 20364, \"denny's\": 20365, 'dabosss': 20366, 'brusly': 20367, 'kevinlove': 20368, 'freeajay': 20369, 'idunno': 20370, \"'absolved'\": 20371, 'suburbs': 20372, 'albertogomez51': 20373, 'originvlepic': 20374, 'meaty': 20375, 'shadowbeatz': 20376, 'kyr': 20377, 'sp33dy': 20378, 'wills': 20379, 'bishhh': 20380, 'nonstop': 20381, 'unis': 20382, 'calliou': 20383, 'dobt': 20384, 'mahoganylox': 20385, '03otpzxcbi': 20386, 'actabunnifoofoo': 20387, 'lamps': 20388, 'koiyatheperv': 20389, 'koiya': 20390, 'vent': 20391, 'bron': 20392, 'tore': 20393, 'heidi': 20394, 'utttlmolxo': 20395, 'knickrumors': 20396, 'superstar': 20397, 'mattharvey33': 20398, 'knickstape': 20399, 'g5fqgte2s0': 20400, 'skim': 20401, 'tylerzirhut': 20402, 'gqf2dombtd': 20403, 'bossbitch122513': 20404, 'musta': 20405, 'foodtown': 20406, 'rutba': 20407, 'anbar': 20408, 'province': 20409, 'k6j37j2sgl': 20410, 'patties': 20411, 'acaciamakayla': 20412, 'thenitpickster': 20413, 'recognition': 20414, 'reminding': 20415, 'wuzzy': 20416, 'gi9on86igv': 20417, 'hlkdtsgkwu': 20418, 'darion': 20419, 'composure': 20420, 'crawfish': 20421, 'bobbyhorai': 20422, 'fucksamattawithyou': 20423, 'pooest': 20424, 'pettyfcknann': 20425, 'gimmmmmie': 20426, 'sayitaintchey': 20427, 'lactose': 20428, 'enjoyyaday': 20429, 'jaredlambert21': 20430, \"brandon's\": 20431, 'marsrader': 20432, 'scales': 20433, 'nzv80jrmig': 20434, 'xclairemckx': 20435, 'veuve': 20436, 'cliquot': 20437, 'burdis': 20438, 'nickgoldapp': 20439, 'nebraska': 20440, 'skyrim': 20441, 'illogical': 20442, 'prettyboss': 20443, '2064': 20444, 'capitalt': 20445, 'e0jva37bim': 20446, 'wrks': 20447, 'lmaosofunny': 20448, '5xwhydp7u8': 20449, 'stayliftedd': 20450, 'ashleyrike': 20451, 'xi5aod1fao': 20452, 'jewros': 20453, 'wzymxoljnt': 20454, 'garland': 20455, 'pdaburei': 20456, 'tweetfrmthesole': 20457, 'opuvgy5bjf': 20458, 'gaines': 20459, 'atf': 20460, 'prosecuting': 20461, 'confirm': 20462, 'director': 20463, 'diamondbacks': 20464, 'basedlarock': 20465, 'thedondrew': 20466, 'premiumpete': 20467, 'mw9qxg3vfw': 20468, 'endlesslove': 20469, 'scripts': 20470, 'gummies': 20471, 'tart': 20472, 'powerades': 20473, 'yuhhh': 20474, 'responding': 20475, 'balkan': 20476, 'hyposhitical': 20477, 'joenbc': 20478, 'records': 20479, 'y3sybsvpv4': 20480, 'gygrzycijq': 20481, 'godamn': 20482, 'cougar': 20483, 'wyf4ew32hf': 20484, 'spankeddd': 20485, 'slower': 20486, 'hiteshrangra': 20487, 'yok': 20488, 'teekaydont': 20489, 'vkyjgriiff': 20490, 'aliyahkorea': 20491, 'whiteculture': 20492, 'mahxnesthot': 20493, 'mhmm': 20494, 'pcmag': 20495, 'debatable': 20496, 'files': 20497, 'mulligan': 20498, 'forthemen': 20499, '6jtlueuqkg': 20500, 'sclafani': 20501, 'shmoney': 20502, 'evby': 20503, \"og's\": 20504, 'spoilt': 20505, 'arrogant': 20506, 'ohwell': 20507, 'nhl14': 20508, 'erikacarissa': 20509, 'donnie': 20510, 'dubz': 20511, 'pals': 20512, 'stoplivingafuckinglie': 20513, 'hatredisincreasing': 20514, 'somthinboutsara': 20515, 'protocols': 20516, 'wuh': 20517, 'cecil': 20518, 'mickalabickham': 20519, 'fastballs': 20520, 'ejpdwls5qj': 20521, 'garcia3': 20522, 'stoopid': 20523, 'randypawlik': 20524, 'centimeter': 20525, 'grownassmidget': 20526, '126': 20527, 'svg7diiczg': 20528, 'keno': 20529, 'bowls': 20530, 'ibepocahontas': 20531, 'g77bwiax7f': 20532, 'sapete': 20533, 'vi': 20534, 'odio': 20535, 'finito': 20536, 'outs': 20537, 'panhandle': 20538, 'overlords': 20539, 'yokels': 20540, 'surviving': 20541, 'reesezamora': 20542, 'daxmw23': 20543, 'dax': 20544, 'oven': 20545, 'sshitty': 20546, \"'spanish\": 20547, \"orange'\": 20548, 'wikiparaz': 20549, \"caleb's\": 20550, \"hanna's\": 20551, 'killem': 20552, 'skylarlogsdon': 20553, 'itskilla': 20554, '169': 20555, 'aurabogado': 20556, 'alaquannd': 20557, 'salutemyrainbow': 20558, 'thatkiduriah': 20559, 'jffxnwv1di': 20560, 'ifricanbabiiesx': 20561, 'amyklobuchar': 20562, 'lezarub': 20563, 'tragedy6358': 20564, 'fruity': 20565, 'quaffing': 20566, 'val': 20567, 'dualwieldkatana': 20568, 'dwghtga936': 20569, 'youss': 20570, 'saddybey': 20571, 'izgkpcqio0': 20572, 'haitiancocaine': 20573, 'achieve': 20574, 'badguy': 20575, 'eliwallach': 20576, 'noose': 20577, 'rigs': 20578, 'leevancleef': 20579, 'iphones': 20580, 'taypaynay': 20581, 'cebros': 20582, 'mhm': 20583, 'gables': 20584, 'chanelleleee': 20585, 'dcxdftjsjt': 20586, '4hhxk9mkhe': 20587, 'favalorogfavs': 20588, 'wenh08': 20589, '6u2kbykq2n': 20590, 'fatpo': 20591, 'schressful': 20592, 'xofantasybby': 20593, 'nuestrabellezalatina': 20594, 'callmebuffy': 20595, 'lovelymariiee': 20596, 'jgpiw1kder': 20597, 'rachijuana': 20598, 'knvcklepvck': 20599, 'omf': 20600, 'impersonating': 20601, 'additional': 20602, 'mariachi': 20603, 'waldon': 20604, 'onlife': 20605, 'hughspliffner': 20606, 'shotmoistboyce': 20607, 'aluy9eo3xk': 20608, 'judged': 20609, 'whitepower': 20610, 'intimidated': 20611, 'rovers': 20612, 'gorge': 20613, 'h0cft5wcbv': 20614, 'disposed': 20615, 'fink': 20616, 'afta': 20617, 'marvz': 20618, 'subliminal': 20619, 'blatt': 20620, 'yahoofinance': 20621, 'stocks': 20622, 'mrmlxacoxx': 20623, 'monistat': 20624, 'krisdarebel': 20625, 'dsdfeji65u': 20626, 'c7r3wrcpk0': 20627, 'msbtxo': 20628, 'jockey': 20629, 'x02xmavequ': 20630, 'tra': 20631, 'shutupcrybaby': 20632, 'boutique': 20633, 'mgeminiquotes': 20634, 'killen': 20635, 'badassjae': 20636, 'wanta': 20637, 'dealers': 20638, 'hou': 20639, 'meetushere': 20640, '06olvik6ld': 20641, 'numba': 20642, 'visible': 20643, 'financially': 20644, 'obamac0re': 20645, 'tarikusalim': 20646, 'jaygrant': 20647, 'overboard': 20648, 'dodges': 20649, 'blyyoltp0k': 20650, 'udrewhendersonu': 20651, 'chocolatey': 20652, 'breaker': 20653, 'sweaty': 20654, 'gather': 20655, 'odtchpd5g7': 20656, 'materialistic': 20657, 'omadoee': 20658, 'foreverrrr': 20659, 'younnnnng': 20660, 'flask': 20661, 'nerping': 20662, 'lobster': 20663, 'quahog': 20664, 'uajukcoafv': 20665, 'refight': 20666, 'velvethoopd': 20667, 'ecs7nlekka': 20668, 'kristynedwards': 20669, 'princesscookieneckbackcrack': 20670, 'gett': 20671, 'jakiekoelewijn': 20672, 'jaezona': 20673, 'yakked': 20674, 'zw8x7yrmi8': 20675, \"one'a\": 20676, 'tches': 20677, 'thinkn': 20678, 'manhood': 20679, '3wypsnrlu3': 20680, 'cox': 20681, 'murdock': 20682, \"marvel's\": 20683, 'daredevil': 20684, 'nycc': 20685, 'siyucgok8j': 20686, 'thew': 20687, 'soak': 20688, 'ukcdym7kbx': 20689, 'infidelpamelalc': 20690, 'roblockk': 20691, 'g9w10smqdr': 20692, 'vicmackey': 20693, 'theshield': 20694, 'preacher': 20695, 'redha': 20696, 'lari': 20697, 'hampered': 20698, 'nusra': 20699, 'fatwas': 20700, 'mynameshouldbe': 20701, 'kerrythekilla': 20702, 'jooooooked': 20703, 'topmodelciara': 20704, 'ponk': 20705, 'hous': 20706, 'rivenbarkyahoo': 20707, 'hale': 20708, 'leaning': 20709, 'hebronville': 20710, 'eliot': 20711, 'mmmmmether': 20712, 'peighxo': 20713, 'piccolo': 20714, 'suprised': 20715, 'zn1a0gstpc': 20716, 'jitterbug': 20717, 'task': 20718, 'ch': 20719, 'concretesledge': 20720, 'gwyneth': 20721, 'jsimsromance': 20722, 'epps': 20723, 'overdoselove': 20724, 'o3k4wlrztp': 20725, 'prodsjewel': 20726, 'sreadthepeace': 20727, 'yungmindless': 20728, 'peacepunkprince': 20729, 'ephrwxmbhr': 20730, 'jojo': 20731, '51213': 20732, 'boob': 20733, 'yfsl9rnk0j': 20734, 'alexschnider': 20735, 'niiice': 20736, 'schinder': 20737, 'shuffle': 20738, 'shitted': 20739, 'reneexomarie': 20740, 'g3muxm2ldx': 20741, 'wobbled': 20742, 'bloodofjupiter': 20743, 'trillbillgates': 20744, 'stephenwildboy': 20745, 'mik3ipnle6': 20746, 'honchopikasoe': 20747, 'ifshecantsuckthedickright': 20748, 'spankin': 20749, 'bots': 20750, 'loverhateme': 20751, 'hrvjzuxlyw': 20752, 'suhh': 20753, 'loan': 20754, 'toodope': 20755, 'bigpoppadot': 20756, 'tnd': 20757, 'atrocities': 20758, 'auramea': 20759, 'norma': 20760, 'abrehamdadi': 20761, 'toxicityy1': 20762, 'gwen': 20763, \"stefani's\": 20764, 'hilary': 20765, 'duff': 20766, 'judg': 20767, 'holyjacob': 20768, 'inbaltimore': 20769, 'everyby': 20770, 'pubsubs': 20771, 'adessences': 20772, 'tzanchan86': 20773, 'genocide': 20774, 'combatants': 20775, 'warsaw': 20776, 'simplyaj22': 20777, 'damian': 20778, 'wolfpackalan': 20779, 'codelez': 20780, \"11's\": 20781, 'hennessy': 20782, 'h37nsqcmar': 20783, 'jaxon1114': 20784, 'f1choia21g': 20785, 'nigea': 20786, 'jgalt666': 20787, 'exploiting': 20788, 'repubs': 20789, 'surgeon': 20790, 'ummmsassy': 20791, '3m1brilvfp': 20792, 'breedxo': 20793, 'heroineaddict': 20794, \"'twin\": 20795, \"peaks'\": 20796, \"outdoors'\": 20797, 'hand2dahairline': 20798, 'hkxebfwdyz': 20799, 'ahve': 20800, 'arcade': 20801, 'diggin': 20802, 'entitled': 20803, 'mbw44': 20804, 'luzerne': 20805, 'balenceeaga': 20806, 'aienneluckera': 20807, 'q5yhjtbcnr': 20808, 'jbrendaro30': 20809, 'zgabrail': 20810, 'ramsin1995': 20811, 'gabeeli8': 20812, 'jacob2times': 20813, 'nigggaaa': 20814, 'thebank': 20815, 'drbrewwatkins': 20816, 'dwyd4rrm7v': 20817, 'cheddar85': 20818, 'goodies': 20819, 'basedanarchy': 20820, 'twbse6eij7': 20821, 'socially': 20822, 'lop1ly4hvs': 20823, 'idosexwell': 20824, 'mamijuuki': 20825, 'baddiies': 20826, 'ajukiwebster': 20827, 'ounces': 20828, 'djsir': 20829, 'freshley': 20830, '9bgr2766k8': 20831, \"we'ont\": 20832, 'erybdyhatesriss': 20833, 'theblondebetch': 20834, 'collinbrennan': 20835, 'taymaegotem': 20836, 'joh2guy': 20837, 'bundyranch': 20838, 'ouuuuufffff': 20839, 'apology': 20840, 'semitic': 20841, 'secretary': 20842, 'flooded': 20843, 'jt6qxws0km': 20844, 'deamor': 20845, 'murdershe': 20846, 'c4leigh': 20847, 'zycuodiwkz': 20848, 'registration': 20849, '2005': 20850, 'mded4a2soy': 20851, 'weres': 20852, 'taddsaelee': 20853, 'kayhay14': 20854, 'vibemagazine': 20855, 'notorious': 20856, 'wallace': 20857, '3kzjj7nqpp': 20858, 'wownc0a70p': 20859, 'spld2zible': 20860, 'lexhound': 20861, '87pest': 20862, 'inviatations': 20863, 'migsmichelen': 20864, 'mooks': 20865, 'connecting': 20866, 'tiffantasticc': 20867, '5eva': 20868, 'puig': 20869, 'appearance': 20870, 'chiief': 20871, 'pboy562': 20872, 'qzxi0iufcf': 20873, \"lebron's\": 20874, 'inkmyholebody': 20875, 'gsghizmdmw': 20876, 'farmer': 20877, 'alexnolan1990': 20878, 'claddos': 20879, 'takutaneka': 20880, 'beware': 20881, 'lensed': 20882, 'sunnies': 20883, 'hiccup': 20884, 'portray': 20885, 'ranch': 20886, 'eminemxher': 20887, 'noveminember': 20888, '1meniz4urw': 20889, 'swaaggyyv': 20890, 'clash': 20891, 'clans': 20892, 'kamikaze': 20893, 'fightpacquiao': 20894, '50tysonrap': 20895, 'dadonherself': 20896, 'flatfoot': 20897, 'realityybites': 20898, 'rj1vix7vcz': 20899, 'lakers4life24': 20900, 'phuneas': 20901, 'kolinskyy': 20902, 'hikes': 20903, 'atomic': 20904, 'bathrobe': 20905, 'victorias': 20906, 'tylerfucks': 20907, 'fuggin': 20908, 'beamthat': 20909, 'reside': 20910, 'cartier': 20911, 'gfyrq2vfyz': 20912, 'legendfuck': 20913, 'jessicacassell1': 20914, 'spiritweek': 20915, 'constantini': 20916, \"imflyinjryan's\": 20917, 'cruze2014': 20918, 'world214': 20919, 'freeblizz': 20920, 'ilysm': 20921, 'revlon': 20922, 'lesserfilms': 20923, 'kyles': 20924, 'skankymunter': 20925, 'jburnone': 20926, 'jumosq': 20927, 'zachkruse2': 20928, 'sobs': 20929, 'kiper': 20930, 'jaredfayne': 20931, 'u8uk4v7nwn': 20932, 'ashanti': 20933, 'fiirting': 20934, 'jzkkivuvjc': 20935, 'victoriadahl': 20936, 'donnajherren': 20937, \"motherfucker's\": 20938, 'corpse': 20939, 'imdope': 20940, 'gethigh': 20941, 'urinnerdevil': 20942, 'yje9lunwvp': 20943, 'mawdern': 20944, 'moneyhg': 20945, 'trek': 20946, 'breely216': 20947, 'recommended': 20948, 'complacent': 20949, 'errday': 20950, 'sumtime': 20951, 'jcope12003': 20952, 'msmansk': 20953, 'boycottcriminalintent': 20954, 'thaqueen': 20955, '128273': 20956, 'mvcnpytxo8': 20957, 'drizzyswerve96': 20958, '0kkaren': 20959, 'barnicle': 20960, 'oj': 20961, 'ratings': 20962, 'whse': 20963, 'mgr': 20964, 'girlboy': 20965, 'marksidaway': 20966, 'xfactor': 20967, 'auditions': 20968, 'dublin': 20969, 'auditioned': 20970, 'marybyrnemusic': 20971, 'neveragain': 20972, 'izflyudugs': 20973, 'scoon': 20974, 'neat': 20975, 'ainna': 20976, 'onedirection': 20977, '9o1zfvlezv': 20978, 'aussiegrit': 20979, 'httbu4omzy': 20980, 'webber': 20981, 'fiawec': 20982, '6hcota': 20983, 'whitepeopletalk': 20984, 'jlojpg': 20985, 'trapgurlron': 20986, 'collabs': 20987, 'booyyyyyy': 20988, 'johnbishop100': 20989, 'inconspicuous': 20990, 'kqyizmzb': 20991, 'wimmie': 20992, 'shithole': 20993, 'summfest': 20994, 'andreberto': 20995, 'peds': 20996, 'roid': 20997, 'mygotti': 20998, 'simplylucylu': 20999, 'congregate': 21000, 'poverty': 21001, 'roams': 21002, 'hearttbreakerr': 21003, 'reggies': 21004, 'screezy': 21005, 'fandomapology': 21006, '5sosfamand1dfandomfollowparty': 21007, 'fennecuskitsune': 21008, 'mah': 21009, 'alxjames10': 21010, 'carton': 21011, 'stuf': 21012, '127804': 21013, '127913': 21014, '49kywznotu': 21015, 'jazzy': 21016, 'luvvs': 21017, 'porsche': 21018, 'extendo': 21019, 'extension': 21020, 'maddiekreykrey': 21021, 'badunching': 21022, '3x1nolv356': 21023, 'schemes': 21024, 'pastel': 21025, 'westvirginia': 21026, 'suzan': 21027, 'sofa': 21028, 'enstjlxb2h': 21029, 'mysportslegion': 21030, 'pascuzzo': 21031, '438f': 21032, 'rlhhim98fl': 21033, 'jeggings': 21034, 'dessib': 21035, 'forte': 21036, 'trucked': 21037, \"killin'\": 21038, 'nbp': 21039, 'trenttruce': 21040, 'patrickos': 21041, 'steim7i09p': 21042, 'emmadiabetes': 21043, 'norwalk': 21044, 'dodger': 21045, 'ruckin': 21046, 'uh6osapcmw': 21047, 'thesethotsareforeveryone': 21048, 'gwop': 21049, 'slothng': 21050, 'nicoromero23': 21051, 'pacific': 21052, 'trillsteez': 21053, 'sincerelylivy': 21054, 'marshabitch': 21055, 'dispossession': 21056, 'v14jktlz': 21057, 'reconquista': 21058, 'valet': 21059, 'lordddd': 21060, 'wcd3v5sej2': 21061, 'domizdope': 21062, 'denominator': 21063, 'lovelyatotheb': 21064, 'parkside': 21065, 'tees': 21066, 'thecarnage07': 21067, 'blondes': 21068, 'dtjy9rhtdf': 21069, 'pzpi8ruq4f': 21070, 'mjdwarner': 21071, 'sylvieamx': 21072, \"anybody's\": 21073, 'rigghhht': 21074, 'wkfjfjknci': 21075, 'howardroper': 21076, 'remarks': 21077, 'sawpjdtign': 21078, 'wastedenergy': 21079, 'fckyolifestyle': 21080, 'chandraingram95': 21081, 'hitter': 21082, 'mig': 21083, 'uel04': 21084, 'ily2': 21085, 'tuq0uad8bk': 21086, 'trapgodcon': 21087, 'terryak907': 21088, 'olmstead': 21089, 'g3bok10pjz': 21090, 'boootyyyyy': 21091, 'neeeeed': 21092, 'heinie': 21093, 'kiddin': 21094, 'taylerhatesyou': 21095, 'htownsnunu': 21096, 'youcanhaveher': 21097, 'yourstruelysam': 21098, 'ih8uhoes': 21099, 'nekko': 21100, 'hbk': 21101, 'condone': 21102, 'slimblanco': 21103, 'ysdrillary': 21104, 'whitekidwraps': 21105, 'mydadatthestore': 21106, 'spectate': 21107, 'ovalames': 21108, 'responds': 21109, 'scc8stdmgu': 21110, 'dekalb': 21111, 'wheretheydothatat': 21112, 'suns': 21113, 'wembley': 21114, 'harrryaf': 21115, 'pmfr5eopwo': 21116, 'justcurrieon': 21117, 'christooshifty': 21118, 'miketattaglia': 21119, 'paparockk': 21120, 't5zkmd8xeh': 21121, 'lrg': 21122, 'sterne': 21123, 'gracebr92073005': 21124, 'bushmeat': 21125, 'txwench': 21126, 'iceyy505': 21127, 'nysanimal': 21128, \"donovan's\": 21129, 'raeleenehoe': 21130, 'taysymonee': 21131, 'lqxvllvzhj': 21132, 'voz': 21133, 'mando': 21134, 'plzing': 21135, 'iamniarich': 21136, 'b1qbndpxdv': 21137, \"chara's\": 21138, 'sporting': 21139, 'yowza': 21140, 'imfinatweetthat': 21141, 'seperate': 21142, 'niggad': 21143, \"domino's\": 21144, 'pand': 21145, 'hajihuntingpat': 21146, 'paulsmitheringa': 21147, 'taxman206': 21148, 'spazzin': 21149, 'scarce': 21150, 'yuckhalin': 21151, 'copped': 21152, 'drob30': 21153, 'hotshot': 21154, 'lilywalshh': 21155, 'kiiingjaay': 21156, 'photographed': 21157, 'q0sm89oolh': 21158, 'pattty': 21159, 'bore': 21160, '06e77bgwbx': 21161, 'lulwhore': 21162, 'ryannotsheckler': 21163, 'yagirlflutter': 21164, 'raajans': 21165, 'lilfrenchy': 21166, 'staciaburbidge': 21167, 'carrielusch': 21168, 'vacante': 21169, 'musty': 21170, 'erything': 21171, '6wkvvpsxqp': 21172, 'yid': 21173, 'nid': 21174, 'midwest': 21175, 'parkerhouk1': 21176, 'ponzi': 21177, 'scheme': 21178, 's7aoy8adsi': 21179, 'marthayabish': 21180, 'bwahaaaa': 21181, '62s7bgmypx': 21182, 'y6x6eagw20': 21183, 'gillbowski7': 21184, 'masiblatnoy': 21185, 'drobaby': 21186, 'fuckkn': 21187, 'kassiehamilton': 21188, 'lehrer': 21189, 'kass': 21190, 'reminiscin': 21191, 'swinger': 21192, 'sported': 21193, 'jcapswgr': 21194, 'semen': 21195, 'alberta': 21196, 'brampton': 21197, 'flourish': 21198, 'chillroppy': 21199, 'bvdgxl': 21200, '2z2jlzyjum': 21201, 'wboundurant92': 21202, 'subsciously': 21203, 'naiepolag': 21204, 'copying': 21205, 'curveme': 21206, 'macklemroe': 21207, 'cussdjesrk': 21208, 'professorx': 21209, 'mndspeak88': 21210, 'greysanatomy': 21211, 'ashactually': 21212, 'suave': 21213, 'mfer': 21214, 'jlm': 21215, 'sofpizzie': 21216, 'thesexiertwin': 21217, 'photoset': 21218, 'sziqi92sbv': 21219, 'gabrielleheaton': 21220, 'shmurdagang': 21221, 'dayd': 21222, 'presidents': 21223, 'khaye': 21224, 'freakin': 21225, 'moneyyoung': 21226, 'evn': 21227, 'rooting': 21228, 'banwagoning': 21229, 'upp': 21230, 'bellybutton': 21231, '1983': 21232, 'spenceyy': 21233, 'scanger': 21234, 'dalvina': 21235, 'iget': 21236, 'pmorglh2kp': 21237, 'nikkiiibeeee': 21238, 'ohhhh': 21239, 'wu0ard7yif': 21240, 'wednesdaydreams': 21241, 'heeellllooo': 21242, 'ayoobreezy': 21243, 'lakeshowqueen': 21244, 'vishaldagod': 21245, '2necklaceez': 21246, 'yaaa': 21247, 'thanggg': 21248, 'julian': 21249, 'eldman': 21250, 'bpptg2pskf': 21251, 'thatsovictorzzz': 21252, '1armaun': 21253, 'erase': 21254, 'communication': 21255, 'ywegzs78om': 21256, 'mhaiphrpbn': 21257, 'dedicating': 21258, 'dj3srlwbtk': 21259, 'bootygangcult': 21260, 'ijtjvyy2vy': 21261, 'pennies': 21262, 'jindal': 21263, 'enhanced': 21264, 'w0cyecqklo': 21265, 'bobklap': 21266, 'betances': 21267, 'starter': 21268, 'rasor': 21269, \"surfboard'n\": 21270, 'whenarappersaid': 21271, 'zkvwfk18d0': 21272, 'stanleystinks': 21273, 'kylekallgren': 21274, 'benevolentdjinn': 21275, 'twig': 21276, 'solelyjones': 21277, '6s': 21278, 'mnicolee': 21279, 'boost': 21280, 'weeknds': 21281, 'gothic': 21282, 'alyssadugan15': 21283, 'ajkfan': 21284, 'blogging': 21285, 'rube': 21286, 'tittielift': 21287, 'millercoors': 21288, 'babydaddy': 21289, 'jayonna': 21290, 'aide': 21291, 'jayten9': 21292, 'alway': 21293, 'nuffsaid15': 21294, '9ukd8wtz6x': 21295, 'saveahoe': 21296, 'hoefact': 21297, '03sohp4p41': 21298, 'nerdy': 21299, 'apparel': 21300, 'huqvanuwxh': 21301, 'l8qx8rmjrg': 21302, 'unansweredquot': 21303, \"ludacris's\": 21304, 'sexyunderhere': 21305, 'asides': 21306, 'nebuladallas': 21307, 'wwc': 21308, 'u3kkrlwoqk': 21309, 'littlelouie33': 21310, 'sajeffress': 21311, 'iamqueenlatifah': 21312, 'plated': 21313, 'letz': 21314, 'vocal': 21315, 'nagasaki': 21316, 'hiroshima': 21317, 'emoto': 21318, 'ch0xfvekz9': 21319, 'awaaaaay': 21320, 'ellie': 21321, 'teas': 21322, 'cafeshaw': 21323, 'bingo': 21324, 'liessss': 21325, 'tiemyduragboo': 21326, 'ohhhhh': 21327, 'lmp5beplvy': 21328, 'jwilko7': 21329, 'runna': 21330, 'squawk': 21331, 'dfl': 21332, 'winkler': 21333, 'bleat': 21334, 'kerb': 21335, 'knowwwww': 21336, 'pacman': 21337, 'sb': 21338, 'k0394o7z8d': 21339, 'dilemma617': 21340, 'datguybren': 21341, 'rodriguezliam': 21342, 'scorpion': 21343, 'mrnwachukwu': 21344, 'coasting': 21345, 'awwyeahmaddie': 21346, 'yjpsmas4k2': 21347, 'ashlynohma': 21348, 'dmd': 21349, 'catholicmomva': 21350, 'dewing': 21351, 'lonernigga': 21352, 'jobbe03': 21353, 'pandaenchilada': 21354, 'yjfh2havav': 21355, 'yoooooooooooooo': 21356, 'schlumped': 21357, 'squaaaaad': 21358, 'advances': 21359, '5h': 21360, 'realjackneisen': 21361, 'wud': 21362, '3136139299': 21363, 'dvds': 21364, 'rhinerunit': 21365, 'tranquillity': 21366, 'daddykn0wsbest': 21367, 'foams': 21368, 'arsed': 21369, 'nisa': 21370, 'ahs': 21371, 'freakshow': 21372, 'cheralynvb': 21373, 'lauriemckinley': 21374, 'sapiosexual': 21375, 'neutron': 21376, 'chainwax': 21377, 'speakerboehner': 21378, 'karlrove': 21379, 'frankluntz': 21380, 'shayna1': 21381, 'cared': 21382, 'luccivee': 21383, '2wj4wdd0': 21384, 'notoriousjb': 21385, 'sincethecubswonaworldseries': 21386, 'caseyveggies': 21387, 'mictorrance': 21388, 'disliking': 21389, 'devonceeknowles': 21390, 'elxi5kys5b': 21391, 'geale': 21392, 'gealemundine2': 21393, 'cubvn': 21394, 'naturalbadassss': 21395, 'benkasso': 21396, 'thur': 21397, 'somebodys': 21398, 'imlovinglucy': 21399, 'mikemastroccco': 21400, 'rhiannamator': 21401, 'stephanie': 21402, 'yungill314': 21403, 'lifestyles': 21404, 'magnum': 21405, \"i''d\": 21406, 'comebacks': 21407, 'devineleven': 21408, 'motherjones': 21409, 'grandkids': 21410, 'xqmxhkaswt': 21411, 'rbitegrnhm': 21412, 'katherinerrrr': 21413, 'mascato': 21414, 'zayn': 21415, 'reel': 21416, 'tamela': 21417, 'unaccomplished': 21418, 'leechee420': 21419, 'gnc': 21420, 'looke': 21421, 'goodday': 21422, 'itsmeesperanza': 21423, 'xezfp0uyba': 21424, 'mutateroos': 21425, 'seminoles': 21426, 'seminole': 21427, 'tribe': 21428, 'hit4475tyz': 21429, 'timbvtcher': 21430, 'upppp': 21431, 'lungfiber': 21432, 'ballers': 21433, 'starters': 21434, 'hoopin': 21435, 'somewhat': 21436, 'collage': 21437, 'jewels': 21438, 'cartiers': 21439, 'meals': 21440, 'clich': 21441, 'blackymiles': 21442, 'baking': 21443, 'hydrogen': 21444, 'peroxide': 21445, 'paste': 21446, 'washer': 21447, 'ilostmysanity': 21448, '5earthquake': 21449, 'ymqwtsvd0h': 21450, 'dvpedreams': 21451, 'drizzown': 21452, 'percolate': 21453, 'kcraigwell': 21454, 'likkle': 21455, 'lik3xpz6ez': 21456, 'ajayb': 21457, 'y4dxfh8nlv': 21458, 'otp': 21459, 'thetypicalchick': 21460, 'luvpug': 21461, 'nurses': 21462, 'thesicthem': 21463, 'averaicon': 21464, 'lrishgiri': 21465, 'oakridgestars': 21466, 'izzyjsmom': 21467, 'iambo': 21468, 'asideofbacon': 21469, 'f1sh': 21470, 'mickeyhart': 21471, 'reed': 21472, 'cluck': 21473, 'raiallure': 21474, 'rippimpc': 21475, 'sadr': 21476, 'baghdad': 21477, 'sumo': 21478, 'sleezy': 21479, 'asphalt': 21480, 'discou': 21481, 'lowwwww': 21482, 'noddin': 21483, 'repetitively': 21484, 'uniquelytierra': 21485, 'brucewayneakia': 21486, '0lrdpized0': 21487, 'c0mmonly': 21488, 'scorpiogans93': 21489, 'ecliptik': 21490, 'muthafukin': 21491, 'reacting': 21492, 'vain': 21493, \"females'\": 21494, 'context': 21495, 'boyswhotakepicsinsuits': 21496, 'orlzfqgiyv': 21497, 'pk0nejiovh': 21498, \"'hey\": 21499, \"nah'\": 21500, 'morris': 21501, 'dreamy': 21502, 'nkyathappala': 21503, 'gottagetthe30': 21504, 'pornographic': 21505, 'rugarickrockers': 21506, 'entrance': 21507, 'chandlerparsons': 21508, 'nihhas': 21509, 'bearded': 21510, 'herkfacts': 21511, 'bugalou': 21512, 'powerful': 21513, 'happyhumpday': 21514, 'r8jsymib5b': 21515, \"v's\": 21516, 'lettyguerrero3': 21517, 'bitvj': 21518, 'dividendmaster': 21519, 'karaoke': 21520, 'chapsnat': 21521, 'raslfxof5d': 21522, 'mickeyblowsyourmind': 21523, 'bpgdvs8qd2': 21524, 'cousintoucher': 21525, '1cc7gu4e7o': 21526, 'izkoa2xb': 21527, 'mshkl': 21528, '1574': 21529, '1603': 21530, '1606': 21531, '1586': 21532, '1548': 21533, '1582': 21534, '1578': 21535, '1593': 21536, '1594': 21537, '1590': 21538, '1607': 21539, '0lowkclb': 21540, 'shantaughther': 21541, 'missunfoolish': 21542, 'michonne': 21543, 'gutted': 21544, 'yessssssss': 21545, 'rode': 21546, 'charlemagne': 21547, 'wett': 21548, 'lisadep': 21549, 'amck73': 21550, 'prenup': 21551, \"'magine\": 21552, 'iamcache': 21553, 'glue': 21554, 'dreamhampton': 21555, 'critiques': 21556, 'thenetherlands': 21557, 'unwashed': 21558, 'phonics': 21559, 'lovemydogduck': 21560, 'posterboi': 21561, 'gcan28': 21562, 'jeremywgr': 21563, 'approached': 21564, 'scolded': 21565, 'conservativela': 21566, 'earnest': 21567, 'wagons': 21568, 'detailed': 21569, 'whitttoocold': 21570, 'bitchen': 21571, 'yeaaa': 21572, 'nicknamed': 21573, 'garylopez': 21574, 'versaceameezy': 21575, '0mk1w8reak': 21576, 'ponderous': 21577, 'lmaoooooooooooooooooooooooooooo': 21578, 'chiefkeef3oo': 21579, 'risking': 21580, 'waaaaaa': 21581, 'viplounge901': 21582, 'nolinenowait': 21583, 'meetmethere': 21584, 'zqvgmlzqfe': 21585, 'goldwhippp': 21586, 'mavkus': 21587, 'victooreeuhhh': 21588, 'strung': 21589, 'checkmylingo': 21590, 'kingpin': 21591, 'drgbekvzun': 21592, 'alleyesonkie': 21593, 'sexxistud': 21594, 'nexusaltase': 21595, 'hitching': 21596, 'deuce1990': 21597, 'yaaasss': 21598, 'lovemsliz': 21599, 'michaeldbirch': 21600, 'willywelfare': 21601, 'kaedashian': 21602, 'dropolo': 21603, 'rancho': 21604, 'impersonators': 21605, 'ni': 21606, 'instagrams': 21607, 'dukealexmoore': 21608, 'malibus': 21609, 'skinedddd': 21610, 'sggokjtsch': 21611, 'iamtreyu': 21612, 'jtimberlake': 21613, 'cabaret': 21614, 'jt2020tour': 21615, '0i54t117x9': 21616, 'witches': 21617, 'arosati96': 21618, 'bromance': 21619, 'discounts': 21620, 'lowww': 21621, 'fareal': 21622, 'upenn': 21623, 'epidemic': 21624, 'verb': 21625, 'mrbrenbren': 21626, 'maaannnnn': 21627, 'chiefcaitlin': 21628, 'alexis': 21629, 'mahnal': 21630, 'getlostfakebitch': 21631, \"amaris'\": 21632, 'smiled': 21633, 'mugged': 21634, 'mugg': 21635, 'diets': 21636, 'alcoholics': 21637, 'veggies': 21638, 'halfbakd': 21639, 'bby': 21640, 'funnel': 21641, 'nopedo': 21642, 'shuggajets': 21643, 'iaintasiantho': 21644, 'inzezv9a1n': 21645, 'prolli': 21646, 'mundyspeaks': 21647, 'w2kkny4nvy': 21648, 'igo': 21649, 'papii': 21650, 'tiderecruits101': 21651, 'allegations': 21652, 'bedroom': 21653, 'naive': 21654, 'satanic': 21655, '3hawjfavuz': 21656, 'looong': 21657, 'daaaamn': 21658, 'snapbacktc': 21659, 'shrug': 21660, 'mkellyredmen25': 21661, 'xyivsrbsop': 21662, 'istg': 21663, 'wkczwwg6': 21664, 'explosions': 21665, 'taylormrake': 21666, 'j0lwd4s9d5': 21667, 'amaaari': 21668, 'wbpictures': 21669, 'theatre': 21670, 'annabelle': 21671, 'toyamiani': 21672, 'farrakhan': 21673, 'thetime': 21674, 'opposing': 21675, 'methnotweed': 21676, 'discrimination': 21677, 'xidfepyyie': 21678, 'theryanadams': 21679, 'vickstar': 21680, 'isabel': 21681, 'kyleighhmariee': 21682, 'tezcapone': 21683, 'bz4ybovcfl': 21684, 'prolyy': 21685, 'midywidey': 21686, 'rea': 21687, 'bluffin': 21688, 'actresses': 21689, 'pissy': 21690, 'trickn': 21691, 'hangn': 21692, 'haifuckedyogirl': 21693, 'ksazoyurxv': 21694, 'poked': 21695, 'fredseviltwin': 21696, 'monroedoll': 21697, 'writers': 21698, 'hellfire': 21699, 'missiles': 21700, 'vaporize': 21701, 'imgorejess': 21702, 'actuarialreport': 21703, 'drvglordkush': 21704, 'xffuo73q3a': 21705, 'l8cuvnznwm': 21706, 'voem': 21707, 'drills': 21708, 'anjel': 21709, 'naaaawwwww': 21710, 'ypvntydu28': 21711, 'tee92': 21712, 'armani': 21713, 'bliss': 21714, 'jeopardy': 21715, 'k2ibflgs4z': 21716, 'calvin': 21717, 'annis': 21718, '8s0cil5z': 21719, 'lawn': 21720, 'mower': 21721, 'headlights': 21722, 'reallife': 21723, 'alledged': 21724, 'frenchman': 21725, 'algeria': 21726, 'akelvoneal': 21727, \"moe's\": 21728, 'giggling': 21729, 'tic': 21730, 'tacs': 21731, 'marrying': 21732, 'missyf922': 21733, 'yesssss': 21734, 'rjvovoo53l': 21735, 'quecaine': 21736, 'meridian': 21737, 'trestin': 21738, 'knegandhiespn': 21739, 'loqueellassaben': 21740, 'esa': 21741, 'gente': 21742, 'odia': 21743, '8zr3e0ysoe': 21744, 'tq1ies1jlg': 21745, 'letsdancemofos': 21746, 'swatted': 21747, 'allymarshalll': 21748, 'riddance': 21749, 'deqbjlftxz': 21750, 'rebellblume': 21751, 'inda': 21752, 'daark': 21753, 'gonzalez': 21754, 'username': 21755, 'terribly': 21756, 'd0peshit0nly': 21757, 'yhanaaaa': 21758, 'dthang': 21759, 'lilnino': 21760, 'hennhenn430': 21761, 'katiedodds15': 21762, 'twajtr8evj': 21763, 'tommymanson': 21764, 'damino96': 21765, 'bitzy': 21766, 'percocet': 21767, 'promo': 21768, 'huskies': 21769, 'mikeaveli': 21770, 'thursty': 21771, 'dunking': 21772, 'handling': 21773, 'pup': 21774, 'ziggybadass': 21775, 'jbrownsugaa': 21776, 'patient': 21777, 'yungnaughti': 21778, 'diy': 21779, 'awhile': 21780, 'tbtweets': 21781, 'fsohioguy': 21782, 'broom': 21783, 'redstwitterfam': 21784, 'kandiraven': 21785, 'motomoto': 21786, 'theshugavery': 21787, 'namaste': 21788, 'spookyblack': 21789, 'theeesickestkid': 21790, 'muzik': 21791, 'hknkpj8ugu': 21792, 'badskinwavyhair': 21793, 'sugarcode': 21794, 'kiid': 21795, 'thatguy': 21796, 'theroachdean': 21797, 'toodangerous': 21798, 'tyxhqzqnqr': 21799, 'boast': 21800, 'uo': 21801, 'ceelos': 21802, 'ho3': 21803, 'angelsoswavey': 21804, 'belts': 21805, 'wallets': 21806, 'porkchop': 21807, 'canned': 21808, 'carrots': 21809, 'celery': 21810, 'cayenne': 21811, 'jackwadeshow': 21812, 'accuses': 21813, \"rick's\": 21814, 'dictated': 21815, 'corp': 21816, 'albinos': 21817, 'astigmatisms': 21818, 'spasms': 21819, 'blindness': 21820, 'faults': 21821, 'dabgodbaby': 21822, 'unhinged': 21823, 'rickraze': 21824, 'dezhoesaintloyal': 21825, 'bbuff30': 21826, 'sophiefairman1': 21827, 'grouch': 21828, 'preaches': 21829, 'fbguck7wc1': 21830, 'a875silva': 21831, 'alexishope': 21832, 'sez': 21833, 'pandering': 21834, 'jizzbag': 21835, 'deseanjackson11': 21836, 'deangelohall23': 21837, 'b1b': 21838, 'lancer': 21839, 'cue': 21840, \"left's\": 21841, 'i5obsnjj': 21842, 'a1lovely': 21843, 'timers': 21844, 'maps': 21845, 'charts': 21846, 'hhpruzxr0j': 21847, 'adolfniggler': 21848, '060glx19or': 21849, 'noodle': 21850, 'ibekev': 21851, 'vacarro': 21852, 'ogjaredh': 21853, 'holdmyheart': 21854, 'noofatchicks': 21855, 'ehgpt5baa2': 21856, 'thecomedyhumor': 21857, 'moxmrsoov9': 21858, 'h456d': 21859, 'sone': 21860, 'claudialena8': 21861, 'kannon': 21862, 'mylife': 21863, 'likwidcyance': 21864, 'drinkin': 21865, 'l7': 21866, 'pwflbd3e': 21867, 'germansquidd': 21868, 'gusunger': 21869, 'releasing': 21870, 'spiritualized': 21871, 'jamesdajewison': 21872, 'jewbacca': 21873, '3kpy22pi0e': 21874, 'farwells': 21875, 'boyyy': 21876, '127940': 21877, 'w7qbm72oyo': 21878, 'thatfalcongirl': 21879, 'hahahhaa': 21880, 'uglyass': 21881, 'zoning': 21882, '6zwo2a5wgi': 21883, 'mussels': 21884, 'str888': 21885, 'bestofads': 21886, 'cannibalism': 21887, 'versions': 21888, 'tales': 21889, 'prnj8efaoi': 21890, 'dammithamm': 21891, 'pentagon': 21892, 'ydotm': 21893, 'colarbearr': 21894, 'hoeslovemytweet': 21895, 'shirleeey': 21896, 'jg0ol54ney': 21897, 'chrislhayes': 21898, 'jfk': 21899, 'sleeps': 21900, 'jonhorsthoyer': 21901, 'redeeming': 21902, \"'only\": 21903, \"nobody's\": 21904, 'decline': 21905, 'bellicheck': 21906, 'itsbeebitch': 21907, 'farmers': 21908, 'wl3mtg': 21909, 'phuckedfame': 21910, '127817': 21911, 'cfhis3l8bt': 21912, 'facingreality': 21913, 'frowned': 21914, 'nautiwashere': 21915, 'benshapiro': 21916, 'babel': 21917, 'juanadog': 21918, 'dallying': 21919, 'dilly': 21920, 'exclusively': 21921, 'analyzer': 21922, 'whitman': 21923, 'mode': 21924, 'lispy': 21925, 'tara': 21926, 'cloudydino': 21927, 'nahhhhhh': 21928, 'purchased': 21929, \"grandfather's\": 21930, 'weirdtweets': 21931, 'w13nfgbhsb': 21932, 'girltalk26': 21933, 'competitive': 21934, 'youwillnotbetakenseriouslyif': 21935, 'kedollarsignha': 21936, '3jk4kr44x3': 21937, 'potent': 21938, 'jawdan': 21939, 'bbm': 21940, 'oiidxkl32a': 21941, 'hittas': 21942, 'hj8gaffzam': 21943, 'iamhick3y': 21944, 'chillbr0chill': 21945, 'nyomi': 21946, 'banxxx': 21947, 'gr627ldfaa': 21948, 'lattimes': 21949, 'jetsnation6297': 21950, 'babyxshad': 21951, 'discredited': 21952, 'factual': 21953, 'moocher': 21954, 'desamador': 21955, 'blowback': 21956, 'notmorris': 21957, 'palestinians': 21958, '251': 21959, 'rs': 21960, 'dadee': 21961, 'bowdownn': 21962, 'unclean': 21963, 'vbar': 21964, 'stmarksplace': 21965, 'eastvillage': 21966, 'richmahogany': 21967, 'piubuqxb9y': 21968, 'dos': 21969, 'dando': 21970, 'vueltas': 21971, 'poller': 21972, 'mientras': 21973, 'cocinando': 21974, 'cuando': 21975, 'fxeeajmyfz': 21976, 'getemkee': 21977, 'igotem': 21978, \"10's\": 21979, 'mackwop': 21980, 'ashmarie': 21981, 'appropriate': 21982, 'limitlessmudi': 21983, 'yodeddyugly': 21984, 'panicking': 21985, 'wwn': 21986, 'vanishing': 21987, 'burg': 21988, 'jdimenstein': 21989, 'jagexlyon': 21990, 'imredhoe': 21991, 'mainline': 21992, 'imnotaplayertho': 21993, 'jbhjmpy1gx': 21994, 'thesaidabdi': 21995, 'clicks': 21996, 'nehmebazzi': 21997, 'justdoj': 21998, 'tweegrams': 21999, 'iammariahj': 22000, 'zdwd3l8m': 22001, 'mentioning': 22002, 'z9cgljtkow': 22003, 'rebukedsagacity': 22004, '2jvetnqnaa': 22005, 'kellinquinn': 22006, 'weaselfbaby': 22007, 'xddlyr1apq': 22008, 'frau': 22009, 'buflo': 22010, 'twofucks': 22011, 'dalli': 22012, 'prestigious': 22013, 'establishments': 22014, 'bigxcool': 22015, '2014samanthakay': 22016, 'xojennygirl': 22017, 'marack': 22018, 'hermosa': 22019, 'natalielynnn': 22020, 'mumbo': 22021, 'freeblazegawd': 22022, 'lmsoooo': 22023, 'kathleen': 22024, 'herne': 22025, 'kierstenhammond': 22026, 'mybad': 22027, 'smpitrczsa': 22028, 'mantanuskathunderfuck': 22029, 'sativadominant': 22030, 'tdjuj7q0qj': 22031, 'juliet': 22032, 'munguia': 22033, 'versacecum': 22034, 'strapped': 22035, 'trvpunzill': 22036, 'missouri11': 22037, 'insecurities': 22038, 'sloots': 22039, 'basednafrican': 22040, 'cp2c1iqria': 22041, 'tayisbae': 22042, 'stiligucci': 22043, 'spxrklybubbles': 22044, 'crushwb': 22045, 'inb4': 22046, 'suiting': 22047, 'madrid2': 22048, 'sanders': 22049, 'watered': 22050, 'wleerpcv': 22051, 'onset': 22052, 'shang': 22053, 'tep': 22054, 'corbynkelly13': 22055, 'bracelets': 22056, 'tannermcdowell': 22057, 'ihvxyab2vn': 22058, 'thrillllllllll': 22059, '6chtqnr3mu': 22060, 'colin': 22061, 'soloexmachina': 22062, 'washin': 22063, 'flamingo': 22064, 'youuuu': 22065, 'erintaylor14': 22066, 'brios82': 22067, 'ajam': 22068, 'corruptamerica': 22069, 'heartache': 22070, 'kattpacwilliams': 22071, 'trading': 22072, 'pla': 22073, 'r4lw4kkfr1': 22074, 'allisons': 22075, 'kittykins': 22076, 'ladymercia': 22077, \"'terror\": 22078, \"twins'\": 22079, 'brides': 22080, 'trhnmdvncm': 22081, 'drill': 22082, 'dwsyb5boda': 22083, 'f0pvulnf4c': 22084, 'lasthurrahthendietstarts': 22085, 'wrecking': 22086, '631k': 22087, 'dreadheadari': 22088, 'wheet': 22089, '22duces20': 22090, 'ptk6czttks': 22091, 'whiteboyyx01': 22092, 'kz3eij4ugm': 22093, 'itsmeekmill': 22094, 'kxyix': 22095, 'tommyshiner': 22096, 'bishop': 22097, 'screenshotting': 22098, 'prettyndhated': 22099, 'makenzies': 22100, 'jacey': 22101, 'bff': 22102, 'focused': 22103, 'admirable': 22104, 'ratted': 22105, 'tomyfutureson': 22106, 'f4cstdqgec': 22107, 'thefoodbibie': 22108, 'qudw3wqd7r': 22109, 'guypbenson': 22110, 'lefties': 22111, 'bridgeghazi': 22112, 'frivolous': 22113, 'equating': 22114, 'tylerschuster88': 22115, 'b4jcmctewq': 22116, 'thrkaobdvj': 22117, 'nobel': 22118, 'gle9rsfkwj': 22119, 'therealcvl': 22120, 'coryholmes24': 22121, 'kbye': 22122, 'harmssy': 22123, 'strangekeith': 22124, 'quanndadon': 22125, 'blackkingz': 22126, 'ezuqc2knyg': 22127, 'eases': 22128, 'bitchassness': 22129, 'moedeloach': 22130, 'jennakimjones': 22131, 'barrack': 22132, 'vinegar': 22133, 'tal': 22134, 'packing': 22135, 'savant': 22136, 'sandos': 22137, 'jasonjwilde': 22138, 'incompletion': 22139, 'slants': 22140, 'stares': 22141, 'stahp': 22142, 'goodie': 22143, 'mikeypdacav5': 22144, 'mirandawigley': 22145, 'edenbaby101': 22146, 'jcsayre19': 22147, 'heelcastle': 22148, 'dcx': 22149, 'omgggggggggg': 22150, 'fing': 22151, 'anorexic': 22152, 'mortgage': 22153, 'alisonkent': 22154, 'montlake': 22155, 'sc3ajxcirb': 22156, 'blacked': 22157, 'organize': 22158, 'destination': 22159, 'zrexxx': 22160, 'recieve': 22161, 'creepiest': 22162, '2013taughtme': 22163, 'smokindrankin': 22164, 'lamasterboy': 22165, 'tube': 22166, 'shabbacranks': 22167, 'hotwata': 22168, 'andsss': 22169, '3phonekibagami': 22170, '3phone': 22171, 'hiden': 22172, 'hl6swlygfv': 22173, 'rxtjwwkfhj': 22174, 'pahahaha': 22175, 'diehard': 22176, 'debacle': 22177, 'pam': 22178, 'tot': 22179, 'tightey': 22180, 'xlbhdjfbf4': 22181, 'carmelioanthony': 22182, 'wtfuxupjessie': 22183, 'unclaimed': 22184, 'unicorns': 22185, 'humpday': 22186, 'salsteelo': 22187, 'maggietanquary': 22188, 'reptile': 22189, 'jsyaogup4s': 22190, 'reliever': 22191, 'ionlygoraw': 22192, 'wsozqw8ynt': 22193, 'gabbella03': 22194, 'dickie': 22195, 'privileges': 22196, 'gott': 22197, 'vnnforum': 22198, 'marxist': 22199, 'promoted': 22200, 'semitism': 22201, 'incentive': 22202, 'mjcandance': 22203, 'devoted2mariah': 22204, 'bettathanleruns': 22205, 'mznursebee14': 22206, 'chaannyyyy': 22207, 'ryanmattheww7': 22208, 'beautyfull': 22209, 'mrrigginss': 22210, 'foes': 22211, 'yrn': 22212, 'bitchslapthursdays': 22213, '2nite': 22214, 'iggohwewfh': 22215, 'chile': 22216, 'qjipw0syeh': 22217, 'morganwelborn': 22218, 'gillette': 22219, 'chynaakdave': 22220, 'lancethespoken': 22221, 'chiefsatwar': 22222, 'heru': 22223, 'horus': 22224, '5nhtjox': 22225, 'johnwells': 22226, 'igns': 22227, 'ayooteezy': 22228, 'johnydeep': 22229, 'amillinati': 22230, 'fletchermassie': 22231, 'telcoag': 22232, 'rcb05': 22233, 'necessitate': 22234, 'applies': 22235, 'snooty': 22236, 'anacortes': 22237, 'dwammm': 22238, 'movers': 22239, 'pbn': 22240, 'goldmind': 22241, 'sarcasticc': 22242, 'briangaar': 22243, 'tyranny': 22244, 'anderson6benton': 22245, 'fivefifths': 22246, 'twantargaryen': 22247, 'hh50p5pytx': 22248, 'collections': 22249, 'www': 22250, 'lrtkaqjuc3g': 22251, 'rollypolly1x': 22252, 'privaledge': 22253, 'whoooooaaa': 22254, 'wmz8s3j6ig': 22255, 'shoning': 22256, 'unintended': 22257, 'consequences': 22258, 'trays': 22259, 'uneaten': 22260, 'aamjhhow7y': 22261, '1ck21iveup': 22262, 'id4xcmv9zu': 22263, 'yolspkhic0': 22264, 'dempster': 22265, 'gagged': 22266, 'detective': 22267, 'ruinadessert': 22268, 'nomg': 22269, 'foreseeable': 22270, '0yadezrrer': 22271, 'penisgravy': 22272, 'swingin': 22273, 'tomcrean': 22274, 'creanandcrimson': 22275, 'koed': 22276, 'fuckgm': 22277, 'madstatic414': 22278, 'saulewright': 22279, 'gq': 22280, \"nuttin'\": 22281, 'nolan': 22282, 'yobritttany': 22283, 'imcoollike': 22284, 'tr8b5d7u': 22285, 'seminar': 22286, 'kaitlyninst0ne': 22287, 'chip216': 22288, 'nas': 22289, \"'looking\": 22290, \"glasses'\": 22291, 'kel': 22292, 'antoinette8': 22293, 'xblackoutbarbie': 22294, 'souvenir': 22295, 'iguanas': 22296, 'toinight': 22297, '107': 22298, 'j4rhambu': 22299, 'jaymesshaylan': 22300, 'fuuck': 22301, 'jalens': 22302, 'comeout': 22303, 'wahine': 22304, 'happysunday': 22305, 'l73hik0iz8': 22306, '128315': 22307, 'pnoaawenkv': 22308, 'holyfield67': 22309, 'accidents': 22310, 'ieds': 22311, 'detonated': 22312, 'juphsx1zps': 22313, 'yelafox': 22314, 'saharbabyy': 22315, 'disguise': 22316, 'curfew': 22317, 'barge': 22318, 'malachic1997': 22319, 'converse': 22320, '650': 22321, '0j96w8ofmq': 22322, 'foamwright': 22323, '5umpdoeorz': 22324, 'proudlyliberal2': 22325, 'funqxo8o4o': 22326, 'coaches': 22327, 'shakiraevanss': 22328, 'criticize': 22329, 'kingof334mobb': 22330, 'snakecharmsdump': 22331, '4b427dqzcv': 22332, 'joseguapo': 22333, 'harlancoben': 22334, 'draketakecare12': 22335, 'sharpening': 22336, 'germanshepher10': 22337, 'crookedwren': 22338, 'allahpundit': 22339, 'jammiewf': 22340, 'datachick': 22341, 'righties': 22342, 'cons': 22343, 'summn': 22344, 'lissette': 22345, 'glz': 22346, 'bish': 22347, 'magicjuice': 22348, 'giantduck': 22349, 'pittsburghduck': 22350, 'wpxi': 22351, 'nofliter': 22352, 'duckburgh': 22353, 'anax2lzcri': 22354, 'karlenaskiff': 22355, 'luchadora41': 22356, 'prohibition': 22357, 'segregation': 22358, 'sworn': 22359, 'ohwowthatsawk': 22360, 'ihopesomeday': 22361, 'cuba': 22362, 'culwvpcpa7': 22363, 'rbigwood': 22364, 'gameofarmsamc': 22365, 'exciting': 22366, 'spilt': 22367, 'qcrta7h80x': 22368, 'yglukeg': 22369, 'highland': 22370, 'bitchk': 22371, 'lovebelow': 22372, 'bdvg': 22373, 'skunk': 22374, 'obispo': 22375, 'boowhop': 22376, 'funccy': 22377, 'guareenteed': 22378, '4hzzrqjhaq': 22379, 'stephdamartian': 22380, 'endearing': 22381, '106': 22382, 'fxzycvvnpq': 22383, 'slots': 22384, 'save20': 22385, 'checkout': 22386, 'x5bq5vzppk': 22387, 'estellleeee': 22388, 'blholla': 22389, 'theyoungdread': 22390, 'jog': 22391, 'saab1': 22392, 'anywere': 22393, 'thecooleyshow': 22394, 'palm': 22395, 'loveourwomen': 22396, 'dopekorean': 22397, 'ratios': 22398, 'cspen335': 22399, \"'dodo'\": 22400, '0qhypwxzyh': 22401, 'roberto': 22402, 'daney': 22403, 'onionsports': 22404, 'unveil': 22405, 'monument': 22406, 'vv6urct4jd': 22407, 'gwbnhdyhml': 22408, 'worstpeanutsspecialever': 22409, 'officialamiyah': 22410, 'xpsegyefcb': 22411, '1onlysolo': 22412, 'starlitodontrip': 22413, 'forbes': 22414, 'mammals': 22415, 'reptiles': 22416, 'amphibians': 22417, 'vanished': 22418, '1970': 22419, 'mimizth0oz': 22420, 'levisnink': 22421, 'uidvqxuge2': 22422, 'unlocking': 22423, 'badges': 22424, 'stickers': 22425, 'traumatized': 22426, 'marcostc': 22427, 'nage': 22428, 'palace': 22429, 'sllmshady': 22430, 'hailie': 22431, 'vlpr7tmcas': 22432, 'jdollasignnn': 22433, 'xcianna': 22434, \"popeye's\": 22435, '9elp4xye9d': 22436, 'fuxin': 22437, 'uniiquemariee': 22438, 'idkmadz': 22439, 'sinexderek': 22440, 'gothoproblems': 22441, 'annoyed': 22442, 'bixxhmakemerich': 22443, 'youngcon1266': 22444, 'enlist': 22445, 'cxzfajqufv': 22446, 'wedontlovehoes': 22447, 'firm': 22448, 'heynessagirl': 22449, 'misterrrager': 22450, 'brony': 22451, 'equestriagirls': 22452, 'kriegsson': 22453, 'traditions': 22454, 'feeelgreatness': 22455, 'patriotsorg': 22456, 'ragheads': 22457, 'ju': 22458, 'cuntrag': 22459, 'diversion': 22460, 'malnourished': 22461, 'shittt': 22462, 'alondra': 22463, 'mitrebox': 22464, 'useful': 22465, 'hammer': 22466, 'hoppondis': 22467, 'k7wqlawrwm': 22468, 'sneezes': 22469, 'jq3p3nyeaz': 22470, 'cbazzthagreat': 22471, 'hygiene': 22472, 'par': 22473, 'flinch': 22474, 'terryisbetter': 22475, 'complained': 22476, 'swirls': 22477, 'finer': 22478, 'pubes': 22479, 'curlsgoddess': 22480, 'lilbrownbear330': 22481, 'gaffeoke': 22482, 'willbur64': 22483, 'wolzgotbolz': 22484, 'inediblefood': 22485, 'quickscoping': 22486, 'setup': 22487, 'thewoundgod': 22488, 'chefwaites': 22489, 'wackproducer': 22490, 'jeihgdwlai': 22491, 'donnydinero': 22492, 'deluxe': 22493, 'timin': 22494, 'smalltownproblems': 22495, 'neversaiditwasabadthing': 22496, 'brooksndunn': 22497, \"dre's\": 22498, 'beanrozay': 22499, 'tnkthemonstah': 22500, 'governing': 22501, 'stockmantheliar': 22502, 'kmordnezrz': 22503, 'lnsanetweets': 22504, 'pinkiedeville': 22505, 'capt': 22506, 'slapa': 22507, 'rapist': 22508, 'centeral': 22509, 'knia': 22510, 'amareee': 22511, '7riwuwamlz': 22512, '9pm': 22513, 'smasey': 22514, '1on1': 22515, 'whooping': 22516, 'jcastrosieira': 22517, 'kkdh6dtlfl': 22518, 'steep': 22519, 'pothead': 22520, 'downfall': 22521, 'xjayyandrew': 22522, 'ennuitimes': 22523, 'craigcalcaterra': 22524, 'balkamania': 22525, 'webantonyt': 22526, 'kirbys08': 22527, 'milesm': 22528, 'wykh16plek': 22529, 'detroitche': 22530, 'nainpwxtjc': 22531, 'dbn': 22532, 'kev': 22533, '7s0v4pm7ib': 22534, 'greece': 22535, 'lonz': 22536, '4c': 22537, 'neice': 22538, 'lrydtd5mqb': 22539, 'lookwhogotit': 22540, \"upton's\": 22541, 'leaked': 22542, '11015': 22543, 'bw7lda56mi': 22544, 'swztntfdgn': 22545, 'tbwonqmnjv': 22546, 'aschops': 22547, 'scumbags': 22548, 'tanishalixpussy': 22549, 'blake': 22550, 'vjcf0r6thu': 22551, 'scoob3y': 22552, 'strolling': 22553, 'bru': 22554, 'xiixx': 22555, 'realjonathanp': 22556, 'extremegifs': 22557, 'ug3p4d9bsk': 22558, 'callemgt': 22559, 'forevermem85': 22560, 'itslevelstoothisshit': 22561, 'primomars': 22562, 'slo': 22563, 'litebrite': 22564, 'nimbus': 22565, 'ashlingwilde': 22566, 'dumby': 22567, 'govs310': 22568, 'taythebaddie': 22569, 'fuktylar': 22570, '8lpcnhm9xb': 22571, 't0wnbyvlrz': 22572, 'oghm5uyvuc': 22573, 'bullpen': 22574, 'noggas': 22575, 'gvldenbeauty': 22576, 'woozy': 22577, 'datfullerkid': 22578, 'gimped': 22579, 'imgooby': 22580, 'rustymk2': 22581, 'mighty': 22582, 'gifts': 22583, 'untouchablevick': 22584, 'selenaelisandra': 22585, 'df4vfusqzj': 22586, 'wintervphillips': 22587, 'steals': 22588, 'junndem': 22589, 'norsu2': 22590, 'inequality': 22591, '6fmioxuigk': 22592, 'veers': 22593, 'notflappybird': 22594, '688': 22595, 'sarcassmlol': 22596, 'jinkies': 22597, 'velma': 22598, 'scooby': 22599, 'drunkorton': 22600, 'interests': 22601, 'rusty': 22602, 'axe': 22603, 'ncpostgrad': 22604, 'jameznate': 22605, 'coughlan616': 22606, 'zionist': 22607, 'antisemite': 22608, 'yourmajestyv': 22609, 'nataleovrerytng': 22610, 'igq8v6rihh': 22611, \"s'mores\": 22612, 'oneandonlytina': 22613, 'ditched': 22614, 'neverrr': 22615, 'u0fdwrv17y': 22616, 'pimpunclejoe': 22617, 'mygoalfor2012': 22618, 'unhoe': 22619, 'nieceyy': 22620, 'handing': 22621, 'guides': 22622, 'manuals': 22623, 'jaaay': 22624, \"8's\": 22625, 'codghostsscrims': 22626, 'shawnabner': 22627, 'flappybirdisruiningmylife': 22628, 'melky': 22629, 'beejohns1': 22630, 'thestrangest': 22631, 'dtavohn269': 22632, 'storm': 22633, 'brewing': 22634, 'kod': 22635, 'precisely': 22636, 'harold': 22637, '516jake': 22638, 'hungover': 22639, 'yyyyyeelllloooowwwwww': 22640, 'outlawdipper': 22641, 'mudjug1': 22642, 'dbh': 22643, 'hje7v4awdw': 22644, 'farting': 22645, 'basketballs': 22646, 'thecommoncock': 22647, 'fliirtnextdoor': 22648, 'wintertime': 22649, 'djsuggablack': 22650, 'fdc54x3cb0': 22651, 'uayef5mb0p': 22652, 'simoncowell': 22653, 'deeznutsdoe': 22654, 'hibbert': 22655, 'register': 22656, 'rehashing': 22657, 'lamee': 22658, 'cadaver': 22659, 'blvcksxul': 22660, 'vao8ovq4xm': 22661, 'theericglife': 22662, 'politicallaughs': 22663, 'explosion': 22664, 'ww2': 22665, 'navajo': 22666, 'ouxoqdhmid': 22667, 'andrewtaran': 22668, 'thehermancain': 22669, 'hsadkzcain': 22670, 'explode': 22671, 'youngcoke': 22672, 'onthiscloud': 22673, 'p7zwaoxi4l': 22674, 'stillmatic': 22675, 'gettemm': 22676, 'xndseanx': 22677, 'moshing': 22678, 'r94': 22679, 'angellongoria1': 22680, 'mstamarshawnice': 22681, 'enon': 22682, 'reformed': 22683, 'muching': 22684, 'derooo': 22685, 'officialskai': 22686, 'attitud': 22687, 'gusandrews': 22688, 'lambdamoo': 22689, 'wbaqq5vfpd': 22690, 'mythoughts': 22691, 'heals': 22692, 'glljaqb6ty': 22693, 'doper': 22694, '447wgksvvg': 22695, 'hannnnnn': 22696, 'hayfever': 22697, 'blade': 22698, 'everynight': 22699, 'eemoneee': 22700, 'girlboo': 22701, 'greggutfeld': 22702, 'bronzebomber': 22703, 'ckbs6wczu1': 22704, 'smite': 22705, 'tbqjhev08b': 22706, 'varepall': 22707, \"'believe\": 22708, \"over'\": 22709, 'i8nolg9m6o': 22710, 'evader': 22711, 'mryungone': 22712, 'chippewaskylark': 22713, 'critique': 22714, 'banko': 22715, 'ronneagle': 22716, 'alejvndrv': 22717, 'beth4158': 22718, 'echo': 22719, 'retarted': 22720, '128652': 22721, 'savingnohoes': 22722, '6wvjrc3m1q': 22723, 'awoke': 22724, 'darksklndrake': 22725, 'uujeaxzbyw': 22726, 'streetz': 22727, 'ryanbowersob': 22728, 'gleesh': 22729, 'fukks': 22730, 'eryday': 22731, 'lexxinnn': 22732, 'addicting': 22733, 'twitta': 22734, 'ogkaykay': 22735, \"congressman's\": 22736, 'ltzwujc0vs': 22737, 'charmed': 22738, '2nx6nloxoe': 22739, 'insideyou': 22740, 'hehe': 22741, 'consrvativediva': 22742, \"islam's\": 22743, \"'illiberal\": 22744, \"beliefs'\": 22745, '5pq91jxoev': 22746, 'captaincoximus': 22747, 'signal': 22748, 'scottyrackss': 22749, 'cholas': 22750, 'igot': 22751, 'xxxtra': 22752, 'skrong': 22753, 'lamo': 22754, 'lilmrsspiffy': 22755, 'mes': 22756, 'jadefiree': 22757, 'radiofreenorthwest': 22758, 'covington': 22759, 'awakening': 22760, 't9jyhancpr': 22761, 'ditto': 22762, 'slate': 22763, 'legisl': 22764, 'rafidangelo': 22765, 'del': 22766, 'laaahstyeb': 22767, 'kilaurenk': 22768, 'mcbitcherson': 22769, 'alexbenovich': 22770, 'sair': 22771, 'ashit': 22772, 'moetzart': 22773, 'divonte': 22774, 'josecarcamo03': 22775, 'spying': 22776, 'notoriousb': 22777, 'ripwhitney': 22778, 'imasavagebruh': 22779, 'frankxlz': 22780, 'jhqpwop4wk': 22781, 'niccol3': 22782, 'balless': 22783, 'swaagg': 22784, 'bankruptcy': 22785, 'kaya': 22786, 'relatabie': 22787, 'pregant': 22788, 'nooooooooo': 22789, 'dontae': 22790, 'conceived': 22791, 'proboscis': 22792, 'igotdrunkand': 22793, 'alfieheydrich': 22794, 'protesting': 22795, 'gos': 22796, 'fergerson': 22797, 'jameswinfield': 22798, 'sarkisian': 22799, 'quits': 22800, 'joosdsubir': 22801, 'jamilaahhh': 22802, 'coochie': 22803, 'bustin': 22804, 'prada': 22805, 'bendin': 22806, 'crackling': 22807, 'imagrumpycat': 22808, 'p9mmbzqmih': 22809, 'evilmiketomlin': 22810, 'lrcb0vabig': 22811, 'mabelistocute': 22812, 'prettychels': 22813, 'osmanmasabah': 22814, 'bxtch': 22815, 'gbosmg': 22816, 'pumping': 22817, 'andtits23': 22818, 'toronto': 22819, 'terrytgood': 22820, '1dancingcrane': 22821, 'moors': 22822, 'bobbyblu': 22823, '247': 22824, '1tdz1eq3vm': 22825, 'derby': 22826, 'bayleigh': 22827, 'judy': 22828, 'smoove': 22829, 'ur5n1iuwjm': 22830, 'cheetah': 22831, 'shines': 22832, '3fp2pg85mb': 22833, 'jusfinlbieber': 22834, 'goddesslaney': 22835, 'lajouetreine': 22836, 'bouncin': 22837, 'jordyxrivera': 22838, 'meanie': 22839, 'cays': 22840, '1stblocklokee': 22841, '131st': 22842, 'zima': 22843, 'zaymxsdza3': 22844, 'anyones': 22845, 'shacking': 22846, 'puffy': 22847, 'tasogarenoraiko': 22848, 'damara': 22849, 'gladiola': 22850, 'brownboy': 22851, 'yojhan174': 22852, 'indyfam': 22853, 'gresham': 22854, 'bouldercrest': 22855, 'fvojgh6bp8': 22856, 'femaiestruggle': 22857, 'poxpyq5eiy': 22858, 'arafa': 22859, 'holiest': 22860, 'pilgrimage': 22861, '46yfuflyzv': 22862, 'alisha': 22863, 'restructured': 22864, 'narrative': 22865, 'outline': 22866, \"dante's\": 22867, 'inferno': 22868, 'dante': 22869, 'doctorofthedead': 22870, 'violet': 22871, 'poems': 22872, 'nutty': 22873, 'niff': 22874, 'shai': 22875, 'cannoli': 22876, 'oeijhsqc2d': 22877, 'dylanhornick': 22878, 'rivvv': 22879, 'bailing': 22880, 'vagitarian': 22881, 'confuse': 22882, 'nanoseconds': 22883, 'shareefkeyes': 22884, 'therealwesjames': 22885, 'andreshakti': 22886, 'stim': 22887, 'eeek': 22888, 'kinklive': 22889, '41apcwsmqn': 22890, 'wbur': 22891, 'smuggler': 22892, 'ux4anxeawd': 22893, 'briahna': 22894, 'junglefeverfren': 22895, 'kevkid79': 22896, 'oyster': 22897, 'jimzub': 22898, 'ronda': 22899, 'tuf': 22900, 'hydrant': 22901, 'cp24': 22902, 'shantelb': 22903, \"5's\": 22904, 'thinkingofjacob': 22905, 'macdemy': 22906, 'czeo': 22907, 'freshcigarette': 22908, 'everyo': 22909, '3mins': 22910, 'maid': 22911, 'str8up': 22912, 'twittwithjosh': 22913, 'vitriol': 22914, 'creates': 22915, 'libtard': 22916, 'gratitude': 22917, 'whitesidemzu': 22918, 'chelleeee': 22919, \"wench's\": 22920, 'tp1sa5u8uo': 22921, 'zion': 22922, 'espnmag': 22923, 'msuwxc3tyx': 22924, '0tkum7lh1f': 22925, 'traypizzy': 22926, \"dressin'\": 22927, 'willie': 22928, 'edshclcjrk': 22929, 'arrsted': 22930, '5tnwq2e7q5': 22931, 'talofabreeze': 22932, 'demands': 22933, 'package': 22934, '3rbxlchr4f': 22935, 'evettecoleman': 22936, 'beheader': 22937, 'sotloff': 22938, \"'arab\": 22939, \"collector'\": 22940, 'rl7f2qv56f': 22941, 'mcflurr': 22942, 'yungkatana': 22943, 'lg83fwldwp': 22944, 'milkthecity': 22945, 'respecttheculture': 22946, 'lfpq4fhr9f': 22947, 'taria': 22948, 'filterless': 22949, 'dari': 22950, 'antzinherpantz': 22951, 'tagjue7mr7': 22952, 'bclaymoore': 22953, \"girlfriend's\": 22954, 'mopes': 22955, 'explainafilmplotbadly': 22956, 'judgmentalgay': 22957, 'yaaas': 22958, 'hunty': 22959, 'slaaaayy': 22960, 'foreverrrjadaaa': 22961, 'stevenson': 22962, 'bonesaw00': 22963, 'anderson': 22964, '9doibskt17': 22965, 'dents': 22966, 'ncoleycole': 22967, 'p50wtgrz8a': 22968, 'ryaaaan': 22969, 'duct': 22970, 'kubiak': 22971, 'painkillers': 22972, 'jrstws': 22973, 'qnoftherealm': 22974, 'savvyhuman': 22975, 'scdorn': 22976, 'plainunamerican': 22977, 'erickinnc': 22978, 'puterprsn': 22979, 'tomwfry': 22980, '416': 22981, 'kendricklamar': 22982, 'calomitchell': 22983, 'mikeluckas': 22984, 'kazooie': 22985, 'copperpeony': 22986, 'libshateus': 22987, 'carni': 22988, 'suchy': 22989, 'youcansitwithus': 22990, 'pettigrew33': 22991, 'rawest': 22992, 'djvlad': 22993, 'therealjrsmith': 22994, 'superweak': 22995, 'miserably': 22996, 'crappy': 22997, 'initiative': 22998, 'milesss': 22999, 'som': 23000, 'installment': 23001, 'quotinghistory': 23002, 'jshcalderon': 23003, 'embassy': 23004, \"nato's\": 23005, 'satellite': 23006, 'xklxbyxzbg': 23007, 'goldenarmada': 23008, 'durags': 23009, 'panty': 23010, 'nylon': 23011, '35otesnwmx': 23012, 'shaaaaayy': 23013, 'sicken': 23014, 'ohhnickharmon': 23015, 'chats': 23016, 'meetings': 23017, 'outrageous': 23018, 'thevibeking': 23019, 'censored': 23020, 'mrrickyguevara': 23021, 'if4k4v74ro': 23022, 'neodaregularguy': 23023, 'cookin': 23024, 'leeches': 23025, 'itssdaviddd': 23026, 'thegodmother': 23027, 'allstar': 23028, 'weeekend': 23029, 'mardi': 23030, 'gras': 23031, 'cooling': 23032, 'abundance': 23033, 'jasminee': 23034, 'gamboa': 23035, '92flicl627': 23036, 'chicoflicoflame': 23037, 'cribs': 23038, 'rarehiphoppic': 23039, 'locexe8rcd': 23040, 'handcuff': 23041, 'linsanity22': 23042, 'derrrrrrr': 23043, 'showman': 23044, 'brantality': 23045, 'hunterxsfob': 23046, 'e4p56jkqcx': 23047, \"pharaoh's\": 23048, 'thotful': 23049, 'menthols': 23050, 'bigksmoove': 23051, 'briere': 23052, 'bakedalaska': 23053, 'wxgtxa7sya': 23054, 'radar': 23055, 'thefunnyvine': 23056, 'cagp3niofd': 23057, 'janitor': 23058, 'walterthecat121': 23059, 'galliumrblx': 23060, 'pantiedropin': 23061, 'naya': 23062, 'aljctstl82': 23063, 'suedelounge': 23064, 'richgirls': 23065, 'suiradkilam': 23066, 'sd': 23067, 'emojii': 23068, 'zizfh2ffrd': 23069, 'eddiekinggg': 23070, 'resilient': 23071, 'amys22cents': 23072, 'educating': 23073, 'lvcnedp4pt': 23074, 'mannnnn': 23075, 'intensity': 23076, 'bankhead': 23077, 'bkbap': 23078, 'contributes': 23079, 'xkf59tovck': 23080, 'tomarnold': 23081, 'dada': 23082, 'cand': 23083, 'shreks': 23084, 'century': 23085, 'daiinuh': 23086, 'bishhhhhh': 23087, 'waasup': 23088, 'utzj6i5uhj': 23089, 'donttouchme': 23090, 'kourtj3000': 23091, 'leeandrea': 23092, 'jonyprivat': 23093, 'lacking': 23094, 'ijdhkwdkoq': 23095, 'jens': 23096, 'thatsafact': 23097, 'tjl0326': 23098, 'jnh': 23099, 'huntsthewind': 23100, 'yck16zinzz': 23101, 'twootwentyone12': 23102, \"dippin'\": 23103, 'lilway': 23104, 'shool': 23105, 'joshkline1992': 23106, 'kaaatt0': 23107, 'snatching': 23108, 'leisuuuure': 23109, 'iaintshitbruh': 23110, 'friended': 23111, 'interrupted': 23112, 'ry3ocbwvtn': 23113, 'j906t5ze2r': 23114, 'oversteppin': 23115, 'boundires': 23116, 'gooo': 23117, 'transaparent': 23118, 'grandpas': 23119, 'bypass': 23120, 'fowls': 23121, 'lrtc1': 23122, 'magnus': 23123, 'particularly': 23124, 'unhelpful': 23125, 'pantera': 23126, 'srn5yc16': 23127, 'chrisrock': 23128, 'huggin': 23129, 'normsanders': 23130, 'protegykid': 23131, 'lisaaross': 23132, 'pattern': 23133, '0lrablmhb2': 23134, '99zvbmyve9': 23135, 'abels': 23136, 'masochist': 23137, 'disability': 23138, 'icampintense': 23139, 'aaronworthing': 23140, 'carolcnn': 23141, 'g0kl3zbtao': 23142, 'boisterous': 23143, 'belligerent': 23144, 'buffaloes': 23145, 'alliterationtuesday': 23146, 'damnismartallofasudden': 23147, \"lookin'\": 23148, 'reclaim': 23149, 'bona': 23150, 'fides': 23151, 'mrtruthandsoul': 23152, 'hookup': 23153, 'horseman': 23154, 'brainwash': 23155, 'wowwww': 23156, 'adoreelenaa': 23157, 'bygbootiejuliie': 23158, 'doms': 23159, 'sangin': 23160, 'partnas': 23161, 'mat': 23162, 'rallycap': 23163, 'xtmmuzyk': 23164, 'iftheygunnedmedown': 23165, 'xwmkac1aw6': 23166, 'zeitgeistbabe': 23167, 'lincromero7': 23168, 'jtstover': 23169, 'theobamadiary': 23170, 'rebhug': 23171, 'blinked': 23172, 'rene': 23173, 'gadecowboy': 23174, 'subwayseries': 23175, 'msteffens32': 23176, 'perceived': 23177, 'injustice': 23178, 'leadoff': 23179, 'nicky0472': 23180, 'rickahyatt': 23181, 'manchurian': 23182, 'tonysinchak': 23183, 'marijauna': 23184, 'wannnnaaa': 23185, 'yappin': 23186, 'vital': 23187, 'polis': 23188, 'hazard': 23189, 'disappear': 23190, 'borrelli': 23191, 'kathinator6': 23192, 'saispas': 23193, 'c3vy1xuoha': 23194, 'reebok': 23195, 'diabetic': 23196, 'poisonedkissx3': 23197, '999': 23198, 'slams': 23199, 'rejecting': 23200, 'nchn9crlcj': 23201, 'gey': 23202, 'uk3ba': 23203, 'khloewithouthec': 23204, 'typicalminions': 23205, 'lplayefi7q': 23206, 'norbit': 23207, 'eskimo': 23208, 'nandagorgeous': 23209, 'bmth': 23210, 'adtr': 23211, 'ymas': 23212, 'om': 23213, 'miw': 23214, 'btf': 23215, 'wcar': 23216, 'mcr': 23217, 'afi': 23218, 'wim': 23219, 'cte': 23220, 'nsn': 23221, 'watic': 23222, 'bfmv': 23223, 'taughtmeh': 23224, 'xernee18': 23225, '69zrz3mmnm': 23226, '4psdx11uu1': 23227, 'rednexican69': 23228, 'collaborating': 23229, 'oray': 23230, 'dominican': 23231, 'ajjacobs': 23232, '1932': 23233, 'assassinate': 23234, 'pleaseoptionthistweetnow': 23235, 'stewart9': 23236, 'jacqueline': 23237, 'tavares': 23238, 'dariusjulion': 23239, 'yannapyt': 23240, 'squishy': 23241, 'pulp': 23242, 'thejoeyswoll': 23243, 'slippin': 23244, 'eyebrow': 23245, 'crazier': 23246, 'potus': 23247, 'violated': 23248, 'sovereignty': 23249, 'diseased': 23250, 'haitians': 23251, 'jusangel': 23252, 'thtsher': 23253, 'justdome': 23254, '128664': 23255, 'cumwiththewind': 23256, 'vincestaples': 23257, 'ibyepassdeshoes': 23258, 'wsimdnbbjr': 23259, 'telephones': 23260, 'moc': 23261, 'cbnjo5wj': 23262, 'zq8utplyfk': 23263, 'interject': 23264, 'basics': 23265, 'knowyourplace': 23266, 'lavalourry': 23267, 'ppint': 23268, 'rgbqesssha': 23269, 'tegustaaa': 23270, 'pitching': 23271, 'ceasefire': 23272, 'ods': 23273, 'trinidad': 23274, 'oppurtunity': 23275, 'freshfaces': 23276, 'nunnie': 23277, 'babee': 23278, 'bentley': 23279, 'fairly': 23280, 'colston': 23281, 'steamed': 23282, 'greens': 23283, 'roger': 23284, 'kxha1ztyms': 23285, 'consequence': 23286, '60s': 23287, 'sortabad': 23288, 'scripps': 23289, \"'knaidel'\": 23290, 'blahblah': 23291, 'furrybah': 23292, 'paypay': 23293, 'ttevy': 23294, 'iamkilo': 23295, 'ufo': 23296, 'sanctity': 23297, 'misskai': 23298, 'constituants': 23299, 'swayhasanswers': 23300, '9jkaywgevz': 23301, 'stevoburns561': 23302, 'imswaveynshit': 23303, 'swur': 23304, 'jono': 23305, 'krhymez': 23306, 'cluuuuub': 23307, 'tonyhilfiger': 23308, 'cs9dfgl7ew': 23309, 'onedirectum': 23310, 'therainbowgirlz': 23311, 'spaz': 23312, 'soulfulsiren': 23313, 'vizyisignant': 23314, 'waives': 23315, 'lawrence': 23316, 'kvgoxkn9vg': 23317, 'adbxqltdjj': 23318, 'photogenic': 23319, 'archives': 23320, 'thatandyross': 23321, 'thunderball': 23322, '007': 23323, 'on5t60rmfb': 23324, 'listing': 23325, \"tyler's\": 23326, 'ugottaeattheass': 23327, 'vastmfjphu': 23328, 'globalgrindnews': 23329, 'n6ucidnuuu': 23330, 'phatty': 23331, 'lob': 23332, 'bananasunshinee': 23333, 'childishgarbino': 23334, \"danny's\": 23335, 'fkdeyzqt': 23336, 'freexvidi': 23337, 'enymsaj': 23338, 'whoraisedyou': 23339, 'lavishlolaaaaaa': 23340, '58407': 23341, 'turtlewoman777': 23342, 'respectors': 23343, 'postseasons': 23344, 'mrstories': 23345, \"why're\": 23346, '49snpmqnmw': 23347, 'catfishin': 23348, 'chelsearaine': 23349, 'neonics': 23350, 'kestrel': 23351, 'lowes': 23352, 'ecowed': 23353, 'stopitnow': 23354, 'brownandbella': 23355, 'yassssssssssssss': 23356, 'ambitiouscam': 23357, '666joselopez': 23358, 'victorasap': 23359, 'n9dmdtvwts': 23360, 'amyrosekathryn': 23361, 'painted': 23362, '8pyhwe4l8s': 23363, 'icantmiss': 23364, 'rustyrockets': 23365, 'revamping': 23366, 'alammus': 23367, 'compensate': 23368, 'mbrtvpuakt': 23369, 'smiie': 23370, 'fgtzqwnsxk': 23371, 'phreshagu': 23372, 'yourhoesstink': 23373, 'butttttt': 23374, 'queenalyzee': 23375, 'ratchetness': 23376, 'nevalyric': 23377, 'jeancartier': 23378, 'cloutgod': 23379, 'cob': 23380, 'trey3': 23381, 'gangstaz': 23382, 'wives': 23383, 'leczepivs7': 23384, 'slapp': 23385, 'bengybenfrank': 23386, 'laurarosencohen': 23387, 'askdrmann': 23388, 'amici': 23389, 'behalf': 23390, 'pgwashere': 23391, 'falcons': 23392, 'wackson': 23393, 'linguini': 23394, 'fancily': 23395, 'ericajenee': 23396, 'shedazzle': 23397, 'upsaught': 23398, 'wondertrade': 23399, 'wobbuffet': 23400, 'fuuuck': 23401, 'mrlondon': 23402, 'awjdyd8uzk': 23403, 'isaidthatshit': 23404, 'lmfaoooooooooooooooo': 23405, '2chainzlyrics': 23406, 'pztst16cew': 23407, 'katy': 23408, 'prietito': 23409, 'jigaboos': 23410, 'homewreckers': 23411, 'torriable': 23412, 'mojogreen1217': 23413, 'tuck': 23414, 'yelln': 23415, 'datnigga': 23416, 'laced': 23417, 'oghasnt': 23418, 'sweetakin': 23419, '8oxlqvqbrc': 23420, \"judyann's\": 23421, 'sinsofmyfather': 23422, 'darthvenn': 23423, '34dcwjkvef': 23424, 'zactly': 23425, 'joique': 23426, 'longexposure': 23427, 'lightwriting': 23428, 'um8lbsd6p9': 23429, 'sullystyle': 23430, 'c3n6vkd0': 23431, 'fk5vzalc54': 23432, 'complexmorality': 23433, 'ov5q8lvsjn': 23434, 'genetnbarockbox': 23435, 'roadrage': 23436, '954nole': 23437, 'gluten': 23438, 'rounding': 23439, 'panel': 23440, '1995': 23441, 'pamschep': 23442, 'spamblocked': 23443, 'spewing': 23444, 'calfreedommom': 23445, 'ralphyboyusa': 23446, 'scottddolan': 23447, 'jflocka': 23448, 'fuckkkkkkkkkkkkk': 23449, '128047': 23450, '8ynqyyaojo': 23451, 'daa': 23452, 'keem': 23453, 'tyleroakley': 23454, 'chef': 23455, 'chrisbrazell': 23456, 'squared': 23457, 'fzx4ws7eee': 23458, 'expressing': 23459, 'mxbgfpvicf': 23460, 'biiimurray': 23461, 'storage': 23462, 'spacecraft': 23463, 'daggerbyte': 23464, 'sewn': 23465, 'ezadick': 23466, 'roberto0oo0': 23467, 'petrie22': 23468, \"matt's\": 23469, 'americanized': 23470, 'textith': 23471, 'chicodelainky': 23472, 'writer': 23473, 'untrue': 23474, 'yepillposts': 23475, 'pj8qsbte2l': 23476, 'rikanya': 23477, 'brandan420': 23478, 'julio': 23479, 'isurdaddy': 23480, 'churches': 23481, 'legally': 23482, 'saina': 23483, 'faal': 23484, 'martian': 23485, 'mulah': 23486, 'onadreamchase': 23487, 'kingeljay': 23488, 'iwanthis': 23489, 'barnyard': 23490, 'missabby': 23491, 'kostaskarelis': 23492, 'cincy': 23493, 'stillcle': 23494, 'cleallday': 23495, 'gobrowns': 23496, 'cuddling': 23497, 'hwkfme75kx': 23498, 'rltlvygptl': 23499, 'cashhaddict': 23500, 'xenakix2243': 23501, 'spinning': 23502, 'raindrops': 23503, 'pu7uqxjfmc': 23504, 'sunyhd': 23505, 'abouta': 23506, '30pm': 23507, 'mutations': 23508, 'evolution': 23509, 'proliferation': 23510, 'stepheeezyy': 23511, 'slag': 23512, 'canucks': 23513, 'generalization': 23514, 'blinded': 23515, 'uniys': 23516, 'riptheogkoolaid': 23517, 'daveswerve': 23518, 'gingerbread': 23519, 'winzvfxdl8': 23520, 'artadame1': 23521, 'enlarged': 23522, 'kingwalt': 23523, 'w93': 23524, 'tailgate': 23525, 'jasonmoriarty13': 23526, 'lucas': 23527, 'dans': 23528, 'internal': 23529, '35am': 23530, 'nosleep': 23531, 'dlogue22': 23532, 'girllssues': 23533, 'chrome': 23534, 'dannymndz93': 23535, 'pogue': 23536, 'dalilaaaaaa': 23537, 'nu6gjyqdjj': 23538, 'csg4oopgky': 23539, 'jessietorr': 23540, 'thnx': 23541, 'twdkckktaz': 23542, 'adddisonn': 23543, 'maxima': 23544, 'onlyinamichaelmyersmovie': 23545, 'pebbles2day': 23546, 'queenshyba': 23547, 'callmekennn': 23548, 'xlxdfzxs9s': 23549, 'e3hhznthrk': 23550, 'cleef': 23551, 'arples': 23552, 'werks': 23553, 'yehits': 23554, 'nigca': 23555, 'puzzy': 23556, 'czxrv9to4a': 23557, 'eazy26': 23558, 'baldheaded': 23559, 'fdyojpt9xg': 23560, 'chuckling': 23561, 'revealing': 23562, 'qdfhyalka1': 23563, 'pablofunes': 23564, 'oversized': 23565, 'gentrification': 23566, 'headaches': 23567, 'peeper1016': 23568, 'preferring': 23569, 'welding': 23570, 'eeeen': 23571, 'chughes717': 23572, 'tyzebruh': 23573, 'jewelery': 23574, 'shinin': 23575, 'linaahmadi': 23576, 'birdgang316': 23577, 'birdgang': 23578, '36': 23579, 'staggering': 23580, 'avg': 23581, 'tweetsandfreaks': 23582, 'ellsbury': 23583, 'cf': 23584, 'beltran': 23585, 'dh': 23586, 'lf': 23587, 'solarte': 23588, 'rf': 23589, 'racked': 23590, 'shapely': 23591, 'manbooty': 23592, 'goodwood': 23593, 'clippings': 23594, 'rwd': 23595, '5ugfhrdrxt': 23596, 'huner5150': 23597, 'pussys': 23598, 'rickandbubba': 23599, 'leikant': 23600, 'sneakersex': 23601, 'trainersex': 23602, 'tubivxbxco': 23603, 'scallies': 23604, 'dubtheproducer': 23605, 'thatsit': 23606, 'o9ekmrw5wk': 23607, 'soxdawg': 23608, 'rawr': 23609, 'skinrubberboi': 23610, 'frenchscally': 23611, '5idq3r5akz': 23612, 'illmak3ufamous': 23613, 'filrting': 23614, 'efromthelost': 23615, 'doggpound': 23616, 'baske': 23617, '5thharmony': 23618, 'user': 23619, 'solutions': 23620, 'teecakessss': 23621, 'sierrasamone': 23622, 'treyspears3': 23623, 'fucktard': 23624, 'ng0gywaehf': 23625, 'kingdrayn': 23626, 'rosebeforehoes2': 23627, 'spermicidal': 23628, 'tel1967': 23629, 'darn': 23630, 'vddjq4l0mg': 23631, 'famousnileearls': 23632, 'jcttrnurm0': 23633, 'makennam': 23634, 'honors': 23635, 'taylanicolexo': 23636, 'weightiifters': 23637, 'photographer': 23638, 'believethat': 23639, 'cantknockthahussle': 23640, 'o5orzo1o19': 23641, 'fucktardmobile': 23642, '8e3kxegmjo': 23643, \"mello's\": 23644, 'ranger1325': 23645, 'whined': 23646, 'advancedwarfaredayzero': 23647, 'amoreshonta': 23648, 'westdontcare': 23649, 'spoken': 23650, 'txccy3xiec': 23651, 'chloe': 23652, 'paintings': 23653, 'mythological': 23654, 'derekpayne': 23655, 'ssn': 23656, 'poon': 23657, 'lightweight': 23658, 'heavyweight': 23659, 'trentlilweezy': 23660, 'nx2tqimo2a': 23661, 'terri': 23662, 'georgia': 23663, 'fwuh5pvnjk': 23664, 'audacity': 23665, 'dswaggin6': 23666, 'justdavilaa': 23667, 'xaviee': 23668, 'quise4144': 23669, '4xgeqmrzq5': 23670, 'bigghostltd': 23671, 's311oc3ek9': 23672, 'beigegawdd': 23673, 'softer': 23674, 'pandah': 23675, 'dalmatian': 23676, 'stating': 23677, 'shared': 23678, 'keitholbermann': 23679, 'youngscooter': 23680, 'absoulxo': 23681, 'rapaboutcereal': 23682, 'eyb3b08btm': 23683, 'theellemac': 23684, 'essence': 23685, 'zertec': 23686, 'jiz': 23687, 'lambs': 23688, 'giannenichole': 23689, 'twitters': 23690, 'isu': 23691, 'ticker': 23692, 'twtr': 23693, 'unchained': 23694, 'hxyyujmorm': 23695, 'potentially': 23696, 'agitprop': 23697, 'marketwisenick': 23698, 'jaxx': 23699, 'staxx': 23700, 'baranosky': 23701, '39': 23702, 'kodydgpgja': 23703, 'prettygirlneice': 23704, '95toinfinite': 23705, \"no's\": 23706, 'powlengmawi': 23707, 'nakalagay': 23708, 'ng': 23709, 'handout': 23710, 'tapos': 23711, 'lalagay': 23712, 'pad': 23713, 'tylergimblin': 23714, \"pickin'\": 23715, 'ldxnpohlyd': 23716, 'camoquay': 23717, 'webo': 23718, 'unite': 23719, 'caveman': 23720, 'nnn': 23721, 'gferguson8': 23722, 'opatz1': 23723, 'limber': 23724, 'limbo': 23725, 'lamborghini': 23726, 'joscarjr': 23727, 'paullemat': 23728, 'spin': 23729, 'shutemdown': 23730, 'xgy7gigon8': 23731, 'd4bpfhpj6x': 23732, 'asillypsycho': 23733, '217': 23734, 'hehehehehe': 23735, 'infuriated': 23736, 'requests': 23737, 'participated': 23738, 'bombings': 23739, 'theblacktictac': 23740, 'timberlake': 23741, 'crazyassholes': 23742, 'oblige': 23743, 'jackthejokster': 23744, 'jtj2jjtfto': 23745, 'y0kt02hlm1': 23746, 'saira': 23747, 'legislature': 23748, 'v01w8uamjy': 23749, 'tehduckii': 23750, 'flawged': 23751, 'ni2oqv0njd': 23752, 'tripppped': 23753, 'wildin': 23754, \"epps's\": 23755, \"coach's\": 23756, 'tamorite': 23757, 'ypqpmdpfgg': 23758, 'nd2ytjkxgv': 23759, 'geeked': 23760, 'jalendgaf': 23761, 'courtniclark': 23762, 'treyjohnican': 23763, 'possum': 23764, 'runyacheckup': 23765, 'accurately': 23766, 'horsenuts': 23767, 'clark': 23768, 'bradmich4real': 23769, 'michaelragen': 23770, 'somesuchandco': 23771, 'rtextralife': 23772, 'wojtkiw': 23773, 'alfie': 23774, 'utw': 23775, 'rohan': 23776, 's0kavo4d3e': 23777, 'trav': 23778, 'uptight': 23779, 'carrahs': 23780, 'xpsc3makgj': 23781, 'arches': 23782, 'pitched': 23783, 'pieceofshittbh': 23784, 'jf9o9vjcbl': 23785, 'modavis': 23786, 'mgzjpp0rfs': 23787, 'hispaniclinkns': 23788, 'mentor': 23789, 'ericksen': 23790, 'journos': 23791, 'kathleenparker': 23792, 'jeremiahkoeking': 23793, 'certificates': 23794, 'completion': 23795, '128195': 23796, 'kenfolk': 23797, 'limousine': 23798, 'medz4u': 23799, 'chrispowellswag': 23800, 'nicky': 23801, 'hickman': 23802, 'whaaaaaat': 23803, 'cromotoasted': 23804, 'booties': 23805, 'climaxed': 23806, 'poniesforever7': 23807, 'walkinghashtag': 23808, 'dumbcollegefun': 23809, 'deen': 23810, 'aioifhxdmt': 23811, 'tmundal': 23812, 'moist': 23813, 'bint': 23814, 'lobbed': 23815, 'jnunchuckfuck': 23816, 'anticvlum': 23817, 'imsosouthern706': 23818, '2pltxgqiqe': 23819, 'vackra': 23820, 'lognn': 23821, 'bitchs': 23822, 'therealduxy': 23823, 'tkfan01': 23824, 'jeezus': 23825, 'imediatly': 23826, 'thereval': 23827, 'informant': 23828, '3ocxpxlydt': 23829, 'esquire': 23830, 'jessespector': 23831, 'ohuhwhoops': 23832, \"stacy's\": 23833, 'whsvgrantcruise': 23834, 'sanity': 23835, 'lauramartyy': 23836, 'liberal2': 23837, 'instafrontin': 23838, '3nn47qas': 23839, '3abde': 23840, 'youneed': 23841, 'jasmine': 23842, 'yanoozaj': 23843, 'lvg': 23844, 'welbeck': 23845, 'gorgeouss': 23846, 'kee': 23847, 'pringlezxii': 23848, 'arguin': 23849, 'slutttt': 23850, 'layers': 23851, \"satan's\": 23852, 'thingy': 23853, 'markoketchuck': 23854, \"girls'\": 23855, 'jrealmo': 23856, 'communities': 23857, 'hustled': 23858, 'biggreek79': 23859, 'baskett': 23860, 'planetpob': 23861, 'seauxcocoa': 23862, 'nostalgic': 23863, 'adamsandy52': 23864, 'joiiiie': 23865, 'sylviaobell': 23866, 'tsu': 23867, 'hc2k14': 23868, 'yxhdisziml': 23869, 'chillvitooo': 23870, 'killswitch': 23871, 'm7gexesuag': 23872, 'tryed': 23873, 'bigd757': 23874, 'georganaaa': 23875, 'grls': 23876, 'princesses': 23877, 'yeaaah': 23878, 'tryhard': 23879, 'perro': 23880, 'mariekiebarone': 23881, 'x5livg2b0q': 23882, 'detroitsweets': 23883, 'amosporr': 23884, 'smalltits': 23885, 'stepdad': 23886, 'ay6grntouw': 23887, 'gfu': 23888, '3kkvidm5': 23889, 'hahahahahahahahahahaha': 23890, 'antoinettea': 23891, '15a': 23892, 'dadamnbone': 23893, 'yungpineapple': 23894, 'hsrjqyxzj8': 23895, 'hazlenut': 23896, 'renoconfession': 23897, 'flute': 23898, 'springs': 23899, 'cameltoes': 23900, 'dreadheadkidd69': 23901, 'boogawolf': 23902, 'g0rillaz0e': 23903, 'protecttheanimals': 23904, 'hellobrookland': 23905, 'monroestmarket': 23906, 'cider': 23907, 'sliders': 23908, 'bw9uytlqu1': 23909, 'sneakin': 23910, 'thedoniv': 23911, 'morally': 23912, 'kidknapped': 23913, 'shitter': 23914, 'gape': 23915, 'gassss': 23916, 'saddened': 23917, 'wekdl09bq5': 23918, 'lul': 23919, '128275': 23920, 'tbhjuststop': 23921, 'broncos': 23922, 'mobjoe': 23923, 'teased': 23924, '1oyster1': 23925, 'mawbar': 23926, 'freecb': 23927, 'arizonasfinest6': 23928, 'willgoes': 23929, 'mousee': 23930, 'frican': 23931, 'briii': 23932, 'classmates': 23933, 'nayminaj': 23934, 'weaaakkk': 23935, 'juiceman829': 23936, 'realmichaelkay': 23937, 'disposition': 23938, \"payback's\": 23939, 'charleslacross': 23940, 'gat': 23941, 'cuffablepisces': 23942, 'top10qbs': 23943, '17sa90xg2h': 23944, 'czarofswag': 23945, 'holidayseasonlive': 23946, 'pygosk0qcp': 23947, 'lounge': 23948, 'hueh4hcxx7': 23949, 'yaris': 23950, 'hid': 23951, 'adorianloveee': 23952, 'oixhg4jtv8': 23953, 'nittyscottmc': 23954, '75uftruvdz': 23955, 'woot': 23956, 'completed': 23957, 'sixth': 23958, 'thomas71096': 23959, 'squares': 23960, 'peers': 23961, 'nbcsports': 23962, 'ejected': 23963, 'substance': 23964, '7c3ekgdovb': 23965, 'toddirwin1': 23966, 'forgetabout': 23967, 'slouch': 23968, 'ctrembz': 23969, '9hyk5v0p': 23970, 'xiaobiniimessy': 23971, 'cockroach': 23972, 'richiechristie1': 23973, 'tigher': 23974, 'alllll': 23975, '3hrs': 23976, '128055': 23977, 'chunk': 23978, 'unswole': 23979, 'haggling': 23980, 'capitalism': 23981, 'receatter': 23982, 'indiegamepickuplines': 23983, 'grossman52': 23984, 'worldcup': 23985, 'holographic': 23986, 'bryanroxall': 23987, 'freshness': 23988, 'babys': 23989, 'mommas': 23990, 'twittersphere': 23991, 'tumbirrelate': 23992, 'oqfyogsldx': 23993, 'gmaslsk': 23994, 'tinkers': 23995, 'spouting': 23996, 'yahhhhhh': 23997, 'yahhhh': 23998, 'johnelhadleyjr': 23999, 'shegotthis': 24000, 'davidcomanhidy': 24001, 'centerplate': 24002, 'cruelty': 24003, 'saveanimals': 24004, 'petition': 24005, 't07kz5myev': 24006, 'feeeeeling': 24007, 'feelliiiing': 24008, 'gwdrums': 24009, \"creed's\": 24010, 'helloooo': 24011, 'duep': 24012, 'occasionally': 24013, 'jvp731': 24014, 'keselowski': 24015, 'mattkenseth': 24016, 'newman': 24017, 'eegee': 24018, 'fillwerrell': 24019, 'bnasty00037': 24020, 'refrain': 24021, 'crc': 24022, 'puravida': 24023, 'dcagrh4sle': 24024, 'w5atfrslkk': 24025, 'marleylowkey': 24026, 'nickleberry': 24027, 'therby': 24028, 'mfoani': 24029, 'pleaseee': 24030, 'tyjoncuffee': 24031, 'traphoussseeeee': 24032, 'boldest': 24033, 'lezgnik': 24034, 'weibo': 24035, 'censors': 24036, '87nsk91rjr': 24037, 'j3aakxwife': 24038, 'whyyyyy': 24039, 'vaginal': 24040, 'inflammed': 24041, 'waldokillz3': 24042, '128': 24043, 'ughvrrdirz': 24044, 'dajhane9': 24045, 'opmdp5rglv': 24046, 'fingernails': 24047, 'shanemoses625': 24048, 'lawyering': 24049, 'gga': 24050, 'niggahyfenasian': 24051, 'e0mtospl6k': 24052, 'yoiorosa': 24053, 'annijohnesce': 24054, 'undrgrundghosts': 24055, 'thse': 24056, 'mybspkdzv2': 24057, 'iknow': 24058, 'stopp': 24059, 'davidlyon1690': 24060, 'shannonmacleod': 24061, 'peruse': 24062, 'darkkskys': 24063, 'hoppin': 24064, 'doobie': 24065, 'ihopeitssuposetobetonight': 24066, 'luree': 24067, 'specials': 24068, 'yurpx99hdb': 24069, 'butterpecantan': 24070, 'nitty': 24071, 'jollies': 24072, 'hry3svlwgs': 24073, 'kayylamarieeee': 24074, 'burke113': 24075, 'donthebear': 24076, 'repressed': 24077, 'freaknation69': 24078, 'kg17wwi0vx': 24079, 'seatbelts': 24080, 'beeping': 24081, 'scronybitch': 24082, 'richarddeitsch': 24083, '5xvpwwfrub': 24084, 'addressed': 24085, 'fuckboylog': 24086, 'realerthanplies': 24087, 'autyaut': 24088, 'befriend': 24089, 'accountable': 24090, 'frankieboyle': 24091, 'clegg': 24092, 'miliband': 24093, 'dmeqqfl8x1': 24094, \"wild'ning\": 24095, 'fatslutty': 24096, 'oxy': 24097, 'conleyfanclub': 24098, 'bigjonbul': 24099, 'knowingly': 24100, 'secluded': 24101, 'balmy': 24102, 'autumn': 24103, 'whateverduuude': 24104, 'xoxokelsey': 24105, 'iamlekan': 24106, 'damolabond': 24107, 'replay': 24108, 'biggmoe': 24109, 'thatsjuuja': 24110, 'marshallsots': 24111, 'duuuuuuu': 24112, 'drew4130': 24113, 'mailgal2000': 24114, 'sewer': 24115, 'seriouslee': 24116, 'publix': 24117, 'rilgvboghl': 24118, 'undignified': 24119, 'transfer': 24120, 'dawdling': 24121, 'emluwbbogw': 24122, 'foodbibie': 24123, 'yw299xjzb2': 24124, 'reiatethings': 24125, 'sprayinpray': 24126, 'recall': 24127, 'hoped': 24128, 'assholeoftheyear': 24129, 'isss': 24130, 'perk': 24131, 'uflorida': 24132, 'gatorzonefb': 24133, 'mcgee': 24134, 'wvdlscodvw': 24135, '127984': 24136, 'ourgreatamerica': 24137, 'mikemike2real': 24138, 'elliptical': 24139, 'mystical': 24140, 'caghblkaxq': 24141, 'demographics': 24142, 'vhy5s2apcn': 24143, 'heffner': 24144, 'victoriaaokk': 24145, 'sevensixxx': 24146, 'annouced': 24147, 'drafting': 24148, 'o1a0oqaxut': 24149, 'beurs': 24150, 'aryanliving': 24151, 'basedgodtobi': 24152, 'bf8bgcaoei': 24153, 'g4k2dz4wsv': 24154, 'tmlt': 24155, '9975ts': 24156, 'senwarren': 24157, 'conscienceless': 24158, 'laat': 24159, 'zihni': 24160, 'ozdil': 24161, 'gemene': 24162, 'trollen': 24163, 'durven': 24164, 'mening': 24165, 'twijfel': 24166, 'nemen': 24167, 'zegje': 24168, 'thingsiwillteachmychild': 24169, 'vinnyliarda': 24170, 'fuckdimmy': 24171, 'vinnysnotmadon': 24172, 'billgetsbuns': 24173, 'blisstabitha': 24174, 'homeowner': 24175, 'vluewugclg': 24176, 'flies': 24177, 'adjustment': 24178, 'intercourse': 24179, 'intrepidokie': 24180, 'respecting': 24181, \"6'2\": 24182, 'guessin': 24183, 'hisself': 24184, 'idriphelicks': 24185, 'choppin': 24186, 'csitaly': 24187, 'ts3': 24188, 'mirajane': 24189, 'strauss': 24190, 'sims': 24191, 'b4i8eimux2': 24192, '2more': 24193, \"d'usse\": 24194, 'tyrone': 24195, 'rwwvzjuuzk': 24196, 'sistas': 24197, 'spon': 24198, 'broadwaymensa': 24199, 'capuano': 24200, 'chit': 24201, 'ipynkaqufz': 24202, 'ninodaplug': 24203, 'visionaryj': 24204, \"sellin'\": 24205, 'kikis': 24206, 'ajcolemanbaby': 24207, 'munnaaaa': 24208, 'buckeyewearing': 24209, 'cooney': 24210, 'nflcommish': 24211, '1b822azxiq': 24212, 'faints': 24213, 'resumes': 24214, 'shiver': 24215, 'stubborn': 24216, 'schitt': 24217, 'officiallyshay': 24218, 'ttzsxbts74': 24219, 'seventeen': 24220, 'chalk': 24221, 'coffin': 24222, 'ssnalerts': 24223, '49': 24224, '46': 24225, 'mmkygcyvg1': 24226, 'sayfie': 24227, 'flapol': 24228, 'freddurst': 24229, \"dat's\": 24230, 'endless': 24231, 'kimbosabe': 24232, 'possibles': 24233, 'donated': 24234, 'pigeons': 24235, 'flocking': 24236, 'zell': 24237, 'gotdaloud': 24238, \"rt'ing\": 24239, 'jhene': 24240, 'aiko': 24241, 'spiteful': 24242, 'pwilliamsd': 24243, 'striped': 24244, 'tshirt': 24245, 'shocks': 24246, 'darkskinned': 24247, 'mulatto': 24248, '8tzvbbzxa1': 24249, 'amusement': 24250, 'ihgu1zuyzt': 24251, 'menachemdreyfus': 24252, 'shabbat': 24253, 'heil': 24254, 'i2ose': 24255, 'barajas': 24256, '8xqcxuo': 24257, 'slygirl08': 24258, 'checha': 24259, 'buffet': 24260, 'qwxb4wbfzq': 24261, 'gabalini': 24262, 'lifenewshq': 24263, 'fonda': 24264, 'betdat': 24265, 'bravo615': 24266, 'nikkigentry843': 24267, 'cajun': 24268, 'peach': 24269, 'ert': 24270, 'kaseymizell': 24271, 'bpjwl1ao2e': 24272, 'lexiluckersykes': 24273, 'richest': 24274, 'karlmarx': 24275, 'colonialism': 24276, 'governmentaffairs': 24277, 'd5spvgjxto': 24278, 'exblrnsyzv': 24279, 'rattlesnake': 24280, 'rattlers': 24281, 'pwfo8jhaoa': 24282, 'almightycboogie': 24283, 'benbornreadysmu': 24284, 'aixoa7m7bt': 24285, 'joecaroselli1': 24286, 'royallykate': 24287, \"ocean's\": 24288, 'affiliated': 24289, 'sguzinski': 24290, 'dslr': 24291, 'bogglethemind83': 24292, 'portugal': 24293, 'whoopass': 24294, 'bi6hop': 24295, 'buttholeteeth': 24296, 'notint': 24297, 'jetlife': 24298, 'duncanidunno': 24299, 'windshields': 24300, 'coorslightca': 24301, 'drinkers': 24302, \"we'r\": 24303, 'adrianmayer99': 24304, 'josephnoonan2': 24305, 'glaad': 24306, 'braces': 24307, 'luis3baez': 24308, 'belle': 24309, 'arranged': 24310, 'triggatrav187': 24311, 'neiallure': 24312, '313': 24313, 'winterlove': 24314, 'kellerman': 24315, 'scorecards': 24316, 'rightful': 24317, 'mercy': 24318, 'stoppage': 24319, 'liddoprincess': 24320, 'd6': 24321, '9b': 24322, 'lhvgnyzckr': 24323, '6eelumjbme': 24324, 'smokee': 24325, 'smb': 24326, '3pm': 24327, 'afternoon': 24328, 'hiimanasshole': 24329, 'emosquad2k10': 24330, 'kl5kbdibkh': 24331, 'goooo': 24332, 'brokenpiecesmsc': 24333, 'daunfuqwitable1': 24334, 'yawl': 24335, 'aspirations': 24336, 'bellaafoxx': 24337, 'shameless': 24338, 'bugoutsss': 24339, 'semper': 24340, 'fiibitch': 24341, 'farra': 24342, 'riverside': 24343, 'clapclapclap': 24344, 'laziest': 24345, 'noregrets': 24346, 'witnesslaron': 24347, 'tsmstrxqx7': 24348, 'yungethiopian': 24349, 'mugs': 24350, 'hoodrichnick': 24351, 'nopopularity': 24352, 'looove': 24353, 'rebecca7054': 24354, 'caitlinbartlett': 24355, '2pp9rbohy4': 24356, 'thai': 24357, 'lnvrx9rndz': 24358, 'itslostdory': 24359, 'swimmin': 24360, 'ghostattics': 24361, 'merky': 24362, 'huffposttaste': 24363, 'k8zup4ynzf': 24364, 'amuzatglx8': 24365, 'westsideallure': 24366, \"redman's\": 24367, 'taexchanae': 24368, 'dumps': 24369, '0124jessi': 24370, 'wrd': 24371, 'almuirsi': 24372, 'askaboutbrandy': 24373, 'crownkingz': 24374, 'lancaster': 24375, 'nien': 24376, 'nunb': 24377, 'cartels': 24378, 'andyheybro': 24379, 'distant': 24380, 'guitars': 24381, 'frankiee': 24382, '559': 24383, 'lovey': 24384, 'internets': 24385, 'remixes': 24386, 'searchin': 24387, 'cube': 24388, 'grinch': 24389, 'zfearless': 24390, 'fadeaway': 24391, '4s': 24392, 'deraydavis': 24393, 'kristenbitess': 24394, 'tabather': 24395, 'peaceloveweed': 24396, 'belvita': 24397, 'dcvvetxeq1': 24398, 'meechgod': 24399, 'wheretheyatdo': 24400, 'thaddiemac': 24401, 'gir': 24402, 'giantsniners85': 24403, 'squirrelly': 24404, 'skinnietalls': 24405, 'billratchet': 24406, 'vottomanempire': 24407, 'wierd': 24408, 'nickstape15': 24409, 'emilyanne': 24410, 'mmyar': 24411, 'x8jllf0fa9': 24412, 'daretnzr': 24413, 'aliabunimah': 24414, 'gaywrites': 24415, 'highlights': 24416, 'xzq9xmaqtf': 24417, 'hibben': 24418, 'sponkymusiclady': 24419, 'imposter': 24420, 'saviour': 24421, 'envious': 24422, 'xspkccaypi': 24423, 'shawnnasanford': 24424, 'meganmonday13': 24425, 'kelsss': 24426, 'russnelligan': 24427, 'karynpolito': 24428, 'declares': 24429, 'charlieforgov': 24430, 'hykwrvd': 24431, 'okummsjeyi': 24432, '1smedia': 24433, 'figgthzk0l': 24434, 'rojustdgaf': 24435, 'landoup': 24436, 'itsdollycouture': 24437, 'oijizl0naf': 24438, \"mf's\": 24439, 'alchohol': 24440, 'backward': 24441, 'petehelm': 24442, 'burying': 24443, 'tanajiamonay': 24444, \"lawrence's\": 24445, 'killsemaj': 24446, 'tearing': 24447, 'dodging': 24448, '9o31krmeso': 24449, '10yrs': 24450, 'ber': 24451, 'sblmnl': 24452, 'crmnl': 24453, 'emd': 24454, 'sydneys': 24455, 'gotti300': 24456, 'photoshopping': 24457, '007m': 24458, 'sashanexx': 24459, 'lymlquclwj': 24460, 'noleydunlap': 24461, 'mistaturk5': 24462, 'staviebby2010': 24463, 'mmmm': 24464, 'porcelina33': 24465, \"handin'\": 24466, 'redron100': 24467, 'method': 24468, 'colonial': 24469, 'employed': 24470, 'playbook': 24471, 'wtfdawkins': 24472, 'dam0n': 24473, 'youresilly': 24474, 'freeky': 24475, 'indy': 24476, 'titz': 24477, 'cantstanducunt': 24478, \"beef'd\": 24479, 'volumes': 24480, 'halleybrenks3': 24481, 'e350': 24482, 'amg': 24483, 'fixupmayte': 24484, 'therealyoungzel': 24485, 'muk': 24486, 'ceasar': 24487, 'teeenytori': 24488, 'blzznts': 24489, 'arnt': 24490, 'bigbluexpress': 24491, 'weari': 24492, 'yams': 24493, 'richiedev': 24494, 'converses': 24495, 'coleymonique': 24496, 'wxvvtem0fc': 24497, 'mickieemoscoto': 24498, 'oclexcsgsp': 24499, 'yrfdaiooyz': 24500, 'danielgennaoui': 24501, 'gi2rrlgro6': 24502, 'wildlife': 24503, 'tbhjust': 24504, 'lilshwenda': 24505, 'x41q6luh37': 24506, 'w9qi4bilkt': 24507, 'eppemqfxxo': 24508, 'goood': 24509, 'krystalschnutz': 24510, 'randomthought': 24511, 'randomthot': 24512, 'shitiwouldneverdo': 24513, 'pucture': 24514, 'twit': 24515, 'gulls': 24516, 'begrudgingly': 24517, 'bentaterb': 24518, 'j1pwlaercu': 24519, 'jewis': 24520, 'battering': 24521, 'x1qgftkb4o': 24522, 'sketch': 24523, 'dkiswinning': 24524, 'gameplan': 24525, 'spellings': 24526, 'cokefuckedyou': 24527, 'insomnia': 24528, 'brunette': 24529, 'orp642pomf': 24530, 'treyzupzay': 24531, 'dattboiiraq': 24532, 'thatboysmurf': 24533, 'blackkhippiee': 24534, 'rileycooper': 24535, 'ammendment': 24536, 'eyelid': 24537, 'spasming': 24538, 'mascara': 24539, 'arguement': 24540, 'argurment': 24541, 'choate': 24542, 'smacks': 24543, 'mnymknmich': 24544, 'weknow': 24545, 'nigor': 24546, 'tataaa': 24547, 'dieing': 24548, 'uaf57jyioi': 24549, 'karynhalpin': 24550, 'foreskins': 24551, 'circumcise': 24552, 'foreskin': 24553, 'kliontiii': 24554, 'usual': 24555, 'uptownraised': 24556, 'doctorhawrse': 24557, 'diverged': 24558, '246': 24559, 'tunheimr': 24560, 'illroots': 24561, 'vernon1488': 24562, 'hayleyy': 24563, 'savageater': 24564, 'shed': 24565, 'howtogetagirl': 24566, 'go58ct7ue7': 24567, 'faz': 24568, 'isfdudu9bx': 24569, 'debmuhfknvera': 24570, 'trentskii': 24571, 'bangin': 24572, 'freshprince': 24573, 'summertime': 24574, 'spectin': 24575, 'dine': 24576, 'leynachristina': 24577, 'milfmob': 24578, 'obese': 24579, 'alexrojas': 24580, 'lungs': 24581, 'frendafox': 24582, 'melinwy': 24583, 'noahcrothman': 24584, 'juicetweet': 24585, 'thinksarcasm': 24586, 'ggchanel': 24587, 'jigsaw': 24588, 'wgyl5upjqq': 24589, 'workaholicadam': 24590, '8pm': 24591, 'badongle': 24592, 'j9oc6an2': 24593, '01vjzqnahh': 24594, 'gabbyella': 24595, 'rae16': 24596, \"stephenking's\": 24597, 'hoppykercheval': 24598, 'sunglasses': 24599, 'soprised': 24600, 'rocawe': 24601, 'centaur': 24602, 'ughhh': 24603, 'brotherdiabeats': 24604, 'dalailamaposts': 24605, 'groupon': 24606, 'tkpokv3ncd': 24607, 'thrillx3': 24608, 'burkes': 24609, 'hpxudcuneq': 24610, 'guwopp1017': 24611, 'katieloukarl': 24612, 'w5g2zhzku6': 24613, 'chruch': 24614, 'youngsharpblack': 24615, 'poeticallylucky': 24616, 'witchcraft': 24617, 'entertained': 24618, 'caused': 24619, 'kfocht735': 24620, 'combining': 24621, 'fortunate': 24622, 'kayfliii': 24623, 'bobcostas': 24624, 'murderin': 24625, 'norte': 24626, 'lilly': 24627, 'kooleycobain': 24628, 'likin': 24629, 'uhcokee': 24630, 'thejsimps': 24631, 'cheeto': 24632, 'coleslaw': 24633, 'sniveling': 24634, 'thecumiashow': 24635, 'ambernicolee05': 24636, 'dreamgirl': 24637, 'wooonnnttt': 24638, 'equals': 24639, \"bush's\": 24640, 'ghettogirls': 24641, 'yigkbrldhb': 24642, 'jz2wrvaxai': 24643, 'khdz1vdnsk': 24644, 'bigggdickbandit': 24645, 'hbbex5cieb': 24646, 'edgar': 24647, 'bautista': 24648, 'fetish': 24649, 'e96cq8kkbo': 24650, 'iamdaharper': 24651, 'gotchya': 24652, 'lovenati': 24653, 'jihadist': 24654, 'crosshairs': 24655, 'witchsistah': 24656, 'rocki': 24657, 'schoolboyg': 24658, 'hawking': 24659, 'wq5yxwghd9': 24660, 'ygaddie': 24661, 'liddo': 24662, 'shorty10': 24663, 'itold': 24664, 'cuzzints': 24665, 'bol1dby4ol': 24666, 'likejordangaf': 24667, 'mikie360': 24668, '30k': 24669, '7pqs8a2zlt': 24670, 'profesional': 24671, 'enjoyed': 24672, 'mrdelightfullll': 24673, 'treybizzy': 24674, 'kivnaaa': 24675, 'majestic': 24676, 'gotonelessproblemwithoutya': 24677, 'ekfovvcwht': 24678, 'thebardockobama': 24679, 'uni': 24680, 'suuuucks': 24681, 'xywpaslcob': 24682, 'waavylee': 24683, 'vg5dbqh8at': 24684, 'littlemspaige': 24685, 'sizes': 24686, 'thief': 24687, \"osama's\": 24688, \"tlc's\": 24689, 'chilli': 24690, 'bullied': 24691, 'moustache': 24692, '57608': 24693, 'nessie': 24694, 'arena': 24695, 'iwaited5yearsforfobandiallgotwasthisshittyarena': 24696, 'sykeeee': 24697, 'loveeee': 24698, 'ittttt': 24699, 'xchaazelle': 24700, 'gahdamnanimal': 24701, 'biscuits': 24702, 'melissatweets': 24703, \"christie's\": 24704, 'bridgegate': 24705, \"perry's\": 24706, 'danielle': 24707, 'meeeee': 24708, 'grasswire': 24709, 'fpd': 24710, 'sennasheed': 24711, 'puiwlunbiz': 24712, 'prego': 24713, 'analyzing': 24714, 'masahiro': 24715, 'yankeesondemand': 24716, 'l2gjbodnkm': 24717, 'impactparasite': 24718, 'danifreshh': 24719, 'toma': 24720, 'eso': 24721, 'panama': 24722, 'dcowboys2188': 24723, 'weeden': 24724, 'felonsplease': 24725, 'broadcasters': 24726, 'bruhhhh': 24727, 'rapbars': 24728, 'cuhcuhcraig': 24729, 'kawhi': 24730, 'leonard': 24731, 'hiiphop': 24732, 'usgiazsdwv': 24733, 'pacc': 24734, 'leftists': 24735, '9eyi0k8w': 24736, '37738921': 24737, '127868': 24738, 'cheques': 24739, 'tnicolle': 24740, 'rauzi': 24741, 'equally': 24742, 'tenebris': 24743, 'cor': 24744, 'rogue': 24745, 'therealrickyb21': 24746, 'interrogation': 24747, 'amend': 24748, 'freed': 24749, 'loophole': 24750, 'varsity': 24751, 'ironwood': 24752, 'samjalexander': 24753, 'cvnlm1i3ls': 24754, 'worldwarzee': 24755, 'staytrippyyyy': 24756, 'captelliott': 24757, 'nfn': 24758, 'thomas16v': 24759, 'mefmpb3aw5': 24760, 'theomaxximus': 24761, 'gerryshalloweenparty': 24762, '3ycrsrnjhc': 24763, 'deans': 24764, 'k3cb7yvvgy': 24765, 'awad': 24766, 'sociological': 24767, 'stripesallure': 24768, 'incomplete': 24769, '127887': 24770, 'whimzee': 24771, 'dockozlowski': 24772, 'standwithcruz': 24773, 'keepcruzing': 24774, 'pun': 24775, 'goldiethegamma': 24776, 'cloprestiwfan': 24777, 'slot': 24778, 'patdollard': 24779, 'danwolken': 24780, 'opinions': 24781, 'integrity': 24782, 'tryout': 24783, 'tryouts': 24784, 'tycotatts': 24785, 'allisonnamaya': 24786, '127386': 24787, 'paajzu0um4': 24788, 'fredbrooklyn': 24789, 'doublegunschip': 24790, 'tainted': 24791, 'mostsecretfacts': 24792, \"twitter's\": 24793, 'slickvick47': 24794, 'itstattoos': 24795, 'warrant': 24796, 'frankie': 24797, 'jacaxeltlu': 24798, 'darnell': 24799, 'juveunited': 24800, 'subbed': 24801, 'diva': 24802, 'mightymorph': 24803, 'peckers': 24804, 'tcby': 24805, 'jackireininga': 24806, 'auvqnogvdy': 24807, 'wclemons': 24808, 'shrinks': 24809, 'maybe6789': 24810, 'glqzwtgmj9': 24811, 'amgllcceo': 24812, 'yzs9dqvqdv': 24813, 'svs8idzjyp': 24814, 'woridstarcomedy': 24815, 'pfmrduhoxb': 24816, 'someonebelow': 24817, 'exceptional': 24818, 'shiteee': 24819, 'tkdfighter': 24820, 'betysweetcocker': 24821, 'rednationblogga': 24822, 'aaliyahh': 24823, 'sherinavictoria': 24824, 'grub': 24825, 'tabatha': 24826, 'jimboberson': 24827, 'khulekile': 24828, '32220': 24829, 'ohhhhhh': 24830, 'ogkels': 24831, 'jonnnycashh': 24832, 'pollution': 24833, 'munafal777': 24834, 'bukpsychodrama': 24835, \"'magic\": 24836, 'shadyladyhh': 24837, 'topblokebill': 24838, 'arii': 24839, 'nv': 24840, 'pghisydeyb': 24841, 'ashcrackk': 24842, 'hahahh': 24843, 'wisebrethrenwords': 24844, 'wildblood817': 24845, \"'2'\": 24846, 'ostfobgufa': 24847, 'espnnewyork': 24848, 'cruisin': 24849, \"64'\": 24850, '6jo2sayr96': 24851, 'trustnunbut100s': 24852, 'pleeeease': 24853, 'wonkasm': 24854, 'cravings': 24855, 'lanaecute': 24856, 'moisessp14': 24857, 'fleetweeknyc': 24858, 'troopthanks': 24859, 'bofa': 24860, 'billboard': 24861, 'fal': 24862, 'tunchei': 24863, 'brenddan': 24864, '11pm': 24865, 'shmediumproblems': 24866, 'shirley': 24867, '2dhlgxcvg2': 24868, 'alley': 24869, 'raccoon': 24870, 'dxum7': 24871, 'bothering': 24872, 'kingdineroo': 24873, 'o0rraj8vij': 24874, 'cmpunk': 24875, 'nochillscottyd': 24876, 'grahams': 24877, 'witdiigcye': 24878, 'coppo': 24879, 'zoo757': 24880, 'disrespectfulty': 24881, 'g8m1teyzpt': 24882, 'desean': 24883, '96': 24884, \"worryin'\": 24885, 'frosted': 24886, 'lipgloss': 24887, 'conanobrien': 24888, 'pharr': 24889, 'rbcwsvvdjy': 24890, 'huff': 24891, 'obutta': 24892, 'justspeedy': 24893, 'sqvyksdkwu': 24894, 'izzy': 24895, 'kissmysmilee': 24896, 'argenivee': 24897, 'alissaonelove': 24898, 'yooooo': 24899, 'missyantzah': 24900, 'regard': 24901, 'luisaco': 24902, 'gorgeousera': 24903, 'lyndsi': 24904, 'viktoriagracee': 24905, 'officialzyon777': 24906, 'd6irwminqo': 24907, 'indiamone': 24908, 'darealwalt': 24909, 'greaterthn': 24910, '864ii0yiov': 24911, 'lqvldxowsh': 24912, 'sweettay': 24913, 'pennsylvanians': 24914, 'tweetlikelexi': 24915, 'ohaistepj': 24916, 'lenadunham': 24917, 'nutjob': 24918, 'datingtrick': 24919, 'xicana': 24920, 'scruffdaddy': 24921, 'bqiu9q7qjv': 24922, 'csfigyqut4': 24923, 'victoriag3618': 24924, '1starflow': 24925, 'rbcrxmrtqp': 24926, 'antiheroko': 24927, 'gagatom1': 24928, 'malefoot': 24929, '4qe1hdkk8i': 24930, 'kingcurtisjayy': 24931, 'iameviltebow': 24932, 'sirbhill': 24933, '0ufahhyrue': 24934, 'markroundtreejr': 24935, 'rnvd2nlcdr': 24936, 'hiring': 24937, \"vic's\": 24938, 'marcsesslernfl': 24939, 'fellaz': 24940, 'waverly': 24941, 'ly': 24942, 'akyqk2': 24943, '1goodlookingman': 24944, 'garner': 24945, '412': 24946, 'heyyyyyyyyyyy': 24947, 'trueenoughehh': 24948, 'zksyuwv8qv': 24949, 'bess': 24950, 'iaintgottarap': 24951, 'ead': 24952, 'rita': 24953, 'applebum': 24954, 'dexter': 24955, 'mukeworld': 24956, 'deiukesionai': 24957, 'knifes': 24958, 'whyyousoshort': 24959, 'chrisis': 24960, 'botta': 24961, 'conversatin': 24962, 'yolythegod': 24963, 'inconsistent': 24964, 'pdiglrbhjz': 24965, 'ashhruggiero': 24966, 'tornadoes': 24967, 'ipostbadtweets': 24968, 'ofcourse': 24969, 'dingbat': 24970, 'justyeahdude': 24971, 'tricky': 24972, 'nickyh20': 24973, 'sp6o6voydw': 24974, 'lgbt': 24975, 'ssm': 24976, 'americanmirror': 24977, 'praedor': 24978, 'lnmyopinion': 24979, 'shortcut': 24980, 'exclusive': 24981, 'trustisbroken': 24982, \"wild'n\": 24983, 'digherlow': 24984, 'feverspell': 24985, '1dgroupiegossip': 24986, 'bundle': 24987, 'eaaaazzzz': 24988, 'mammas': 24989, \"wcw's\": 24990, 'magician': 24991, 'richhomiejuan': 24992, \"donald's\": 24993, 'tankgonzalez': 24994, 'iammissramirez': 24995, 'fcfsbvaphh': 24996, 'jpayneancap': 24997, 'sybilll': 24998, 'diannewing2': 24999, 'mylibertymygun': 25000, 'sdalexander11': 25001, 'aoakleyc': 25002, 'prog': 25003, 'itstoofuckingeasy': 25004, 'vivaronron': 25005, 'yadadpipesmaggs': 25006, 'zhojnaokme': 25007, 'bigchapo': 25008, '4ch': 25009, 'merched': 25010, 'gee96': 25011, 'claimed': 25012, 'htuk4uszjo': 25013, 'boomin': 25014, '100000': 25015, 'validation': 25016, 'bbqd': 25017, 'khloekardashian': 25018, 'appears': 25019, 'goldflacko': 25020, 'thotting': 25021, 'overwhelmed': 25022, 'chirps': 25023, 'glows': 25024, 'yaboyboone': 25025, 'twotone': 25026, 'sheswatspoppin': 25027, 'letters': 25028, 'beibers': 25029, 'qvqfto6vut': 25030, 'whodatth0': 25031, 'aaadontplayy': 25032, 'kna2u0d2o0': 25033, 'skraw': 25034, 'explore': 25035, '321': 25036, 'ger0ipabpa': 25037, 'viciousmoe': 25038, 'fatass': 25039, 'crucible': 25040, 'rochaaxx': 25041, 'sumpin': 25042, 'iameastatlanta': 25043, 'alk': 25044, 'baqotivity': 25045, 'cringiest': 25046, '4370': 25047, 'sunnyslope': 25048, 'tenn': 25049, '38141': 25050, 'tickle': 25051, 'theboondocks': 25052, 'yeprealposts': 25053, 'selena': 25054, 'mothered': 25055, 'phsdhxjm6e': 25056, 'federal': 25057, 'proposed': 25058, 'awb': 25059, 'antigun': 25060, 'imnotmakingitup': 25061, 'drizzytaughtbre': 25062, 'aubreychester': 25063, 'youda': 25064, 'teamzimmerman': 25065, 'm5v4xkg7by': 25066, 'damonethedon': 25067, \"google's\": 25068, 'whilin': 25069, 'rocketeer': 25070, 'cardboard': 25071, 'carries': 25072, 'fleeing': 25073, 'tidyterrorist': 25074, 'sb3u1xpeg4': 25075, '147': 25076, 'oitscrunch': 25077, 'manddddddd': 25078, 'lawsofsex': 25079, 'cyb3rvibes': 25080, 'sejlasmajlovic': 25081, '1wt6bblidp': 25082, '128053': 25083, 'goshawk': 25084, 'accipiter': 25085, 'tachiro': 25086, 'accipitridae': 25087, 'fou': 25088, 't9xi8iwocs': 25089, 'doemostdope': 25090, 'booner': 25091, 'boone': 25092, 'boone5356': 25093, 'mdnate': 25094, 'drumstick': 25095, 'acn8j59r6b': 25096, 'thebooty': 25097, 'ohgawd': 25098, '7fcckrhxji': 25099, 'bangbangbirdgang': 25100, 'keos': 25101, 'gunnplay': 25102, 'glenn': 25103, 'mariopalush': 25104, 'ukof7k2rrh': 25105, 'gwvanykzoo': 25106, 'metro': 25107, 'heck': 25108, 'scrum': 25109, 'fallsevens': 25110, 'distonga': 25111, 'niniwubbsme': 25112, 'rugby': 25113, '6vufvao2ek': 25114, 'suckers': 25115, 'reblogged': 25116, 'eaterrrrrrrrr': 25117, 'wheelin': 25118, 'negrorayrice': 25119, 'natezoo919': 25120, 'greco': 25121, '1978': 25122, 'nationalcatday': 25123, 'climatechange': 25124, 'briwh0': 25125, 'involve': 25126, \"'smackin\": 25127, \"money'\": 25128, 'uuuuhhuuhhhhhp': 25129, 'reassurance': 25130, '745': 25131, 'beaned': 25132, 'err': 25133, 'wobn': 25134, 'wefo': 25135, 'thingspeoplesay': 25136, 'fatamypost': 25137, 'lzlunyh5xo': 25138, 'dominiquecs': 25139, 'slogandomono': 25140, '5grand': 25141, 'museum': 25142, 'admission': 25143, 'rollieghost': 25144, 'vivalajayxoxo': 25145, 'abus': 25146, 'tklxuuxo': 25147, 'tommahoney91': 25148, 'seasoning': 25149, 'thehangingwire': 25150, 'rabies': 25151, \"hoppin'\": 25152, \"poppin'\": 25153, 'campbell': 25154, 'annacoman2': 25155, 'principle': 25156, 'kofi': 25157, 'forming': 25158, 'lpcs9abo7w': 25159, 'camopearls': 25160, 'hollering': 25161, 'sza': 25162, 'freckles': 25163, 'markb': 25164, 'athletics': 25165, 'goaliebill328': 25166, 'sarobards': 25167, 'julesofthesmile': 25168, 'neliuspamela': 25169, 'publiusscion': 25170, 'jixwxexnie': 25171, 'christianbale': 25172, 'naishaa': 25173, 'crackerboyy': 25174, 'abreumegan': 25175, 'postin': 25176, 'littlelinnda': 25177, 'nasshrodriguez': 25178, 'linndaroose': 25179, 'puckluckbitch': 25180, 'relaxvibes': 25181, 'lampreymilt': 25182, 'delschilling': 25183, 'bertloch': 25184, 'nada': 25185, 'inspirenaima': 25186, 'dreamshakesbn': 25187, 'darlincory': 25188, 'kikistfu': 25189, 'brianstann': 25190, 'jimdaves': 25191, 'exploding': 25192, 'ducks': 25193, 'spohtpl8uv': 25194, 'washtimes': 25195, 'appearing': 25196, '3yqfr9lzsr': 25197, 'd15': 25198, 'willow': 25199, 'pocohontas': 25200, 'hadda': 25201, 'austinthaintern': 25202, 'rayrayospeciial': 25203, 'thegoodlife': 25204, 'jthomas309': 25205, 'saqlawiya': 25206, 'asserted': 25207, 'yesallwomen': 25208, 'slingin': 25209, 'randies': 25210, 'watcha': 25211, 'believes116': 25212, 'ichoosetobeabstinent': 25213, 'koedj': 25214, 'countertops': 25215, 'oldpicsarchive': 25216, 'stiddhk3wt': 25217, 'brauc': 25218, 'mrrichierich': 25219, 'bcniggas': 25220, 'beesands10': 25221, 'bucs': 25222, 'runuldorants': 25223, 'padre': 25224, 'jairusbyrd': 25225, 'neworleans': 25226, '0000000000000': 25227, 'fuckbyrd': 25228, 'whone': 25229, 'juwanna': 25230, 'omer': 25231, 'asik': 25232, 'murky': 25233, 'youngprince': 25234, 'arzysauced': 25235, 'robbed': 25236, 'whorefandom': 25237, 'herbal': 25238, 'mush': 25239, 'woahrach': 25240, 'tomolson8': 25241, 'drunks': 25242, 'mshomicide': 25243, 'wettest': 25244, '7zr8daxng4': 25245, 'bms': 25246, 'thadcastle': 25247, 'overstating': 25248, 'goodgraces': 25249, 'ituahyhc0r': 25250, 'susannewhite': 25251, 'savoury': 25252, 'vipperloid': 25253, 'tl2nfxorsu': 25254, 'breezbyya': 25255, 'caitlyn': 25256, 'beautyofasinner': 25257, 'rin49m54fk': 25258, 'clyburn': 25259, 'pharaohjas': 25260, '127378': 25261, 'dyeay2t5aa': 25262, 'rav': 25263, '200x2': 25264, 'opalrose4ursoul': 25265, 'trethreat': 25266, 'mobengalfan': 25267, 'disl': 25268, 'mikehoho': 25269, 'itdircnt7y': 25270, 'penguin': 25271, 'stroked': 25272, 'browngal': 25273, 'kfhj8lwhbs': 25274, 'creativity': 25275, 'wierdness': 25276, 'nbombs': 25277, 'ican': 25278, 'onlyb': 25279, 'nika': 25280, 'deecatanz': 25281, 'snowman': 25282, 'fapplebee': 25283, 'hypothesiz': 25284, \"grandma's\": 25285, 'zv8zsmhnlm': 25286, 'catchmeifyoucan': 25287, 'wedaopps': 25288, 'fukemweball': 25289, 'atlassmugged': 25290, 'casual': 25291, 'jingoi': 25292, 'gfohputvhp': 25293, \"free'd\": 25294, 'ohshititsrandy': 25295, 'rauruw7my6': 25296, 'slack': 25297, 'jawed': 25298, 've1pwfrz9t': 25299, 'jackbpr': 25300, 'baldwin': 25301, 'forgiven': 25302, 'transgressions': 25303, '9oq5gtpmxx': 25304, 'bizpacrevi': 25305, 'cierravillela': 25306, 'jazqui': 25307, 'partially': 25308, 'kristin12909': 25309, 'westt': 25310, 'lm': 25311, 'looklike': 25312, 'yujjdmtdc4': 25313, 'real5hfacts': 25314, 'jakeywakeyz': 25315, 'reallyhighideas': 25316, 'ohthatslee': 25317, 'uhoh': 25318, 'lu58himxxs': 25319, 'naaah': 25320, 'manbeardrgn': 25321, 'hekterr': 25322, 'wann': 25323, \"postin'\": 25324, \"thinkin'\": 25325, '36cvhp6c70': 25326, 'jaykollskstp': 25327, 'fuming': 25328, 'asthma': 25329, 'subnorbot1': 25330, 'puta': 25331, 'carlosnoodles': 25332, \"niro's\": 25333, 'highschoolsuckz': 25334, 'robbiegallinis': 25335, 'nigorprobz': 25336, 'maad': 25337, 'interrupting': 25338, 'sullivanmcpig': 25339, 'captcha': 25340, 'bot': 25341, 'decipher': 25342, 'jqmil7rjat': 25343, 'autopsies': 25344, 'sthemisfit': 25345, 'missbl0ndee': 25346, 'forestgump': 25347, 'lissa': 25348, 'sassylibrarian1': 25349, 'taotao': 25350, 'salupa': 25351, 'tingtingbabyyyy': 25352, 'tilt': 25353, 'stuffkaysays': 25354, 'itstylerstarr': 25355, 'tamed': 25356, 'cajuncharm': 25357, 'therealquilly': 25358, 'kart': 25359, 'cupcakes': 25360, 'tighter': 25361, 'eph4': 25362, 'constitutional': 25363, 'contempt': 25364, 'roppmotnbd': 25365, 'kmdk83': 25366, 'beautifulmined': 25367, 'raced': 25368, 'controls': 25369, 'barrackobama': 25370, 'unexceptional': 25371, 'clingers': 25372, 'wacker': 25373, 'orangeone4': 25374, 'asshats': 25375, 'pinoccio': 25376, 'llive': 25377, '128014': 25378, 'xbla': 25379, 'whoscherry': 25380, 'dunderbail': 25381, 'whatabarber': 25382, 'niggie95': 25383, 'yaboysloth': 25384, '128585': 25385, 'atound': 25386, 'midsection': 25387, 'baaih': 25388, 'dphkpab4c7': 25389, '1pmagspkud': 25390, 'torrez': 25391, 'shawnzie3': 25392, 'foxtrot': 25393, 'kilo': 25394, 'greekkid31': 25395, 'tarasetmayer': 25396, 'thewilldunne': 25397, 'guidos': 25398, 'themoreyouknow': 25399, 'ogeezlouise': 25400, 'su2hnfq6s8': 25401, 'm9wynrltwz': 25402, 'she2foreign': 25403, 'tracee': 25404, 'kanyebreast': 25405, 'chihuahuas': 25406, 'indigenouspeoplesday': 25407, 'pygmie': 25408, 'gamble': 25409, 'livibadd88': 25410, 'steveeearley': 25411, 'thechaseusa': 25412, 'marklabbett': 25413, 'daedeezyy': 25414, 'hugging': 25415, 'campos': 25416, 'uli': 25417, 'hesgay': 25418, 'weighing': 25419, '145lbs': 25420, 'nobodyknowshisrace': 25421, 'shoreline': 25422, 'parakeet': 25423, 'bq3cbipk6s': 25424, 'sublet': 25425, 'shitfahdsays': 25426, 'forsake': 25427, 'granniewinkle': 25428, '35ossuuwnh': 25429, 'samuela': 25430, 'qtr6lzcsdj': 25431, 'restrictions': 25432, 'cocakoula': 25433, 'feenin': 25434, 'koula': 25435, 'unkept': 25436, 'bape': 25437, 'princedemitri': 25438, 'theweek': 25439, 'russlljones': 25440, 'hitchens': 25441, 'atheist': 25442, 'heidil': 25443, 'pigfucking': 25444, 'itsjustme7o7': 25445, 'mzkerievans': 25446, 'ctbauza': 25447, 'ecosystem': 25448, 'o7q3cmdpnt': 25449, 'birffday': 25450, 'lyricsyouliketoscream': 25451, 'toppin2': 25452, 'hooligans': 25453, 'gready': 25454, 'kicker': 25455, 'moneyy': 25456, 'whr': 25457, 'tnkidsfoodporn': 25458, 'swiftee': 25459, 'disturbed': 25460, 'lesbolife': 25461, 'vddth2mq1i': 25462, 'halfricannnnn': 25463, 'vin17bricksquad': 25464, 'submarine': 25465, '127754': 25466, 'ieatheartsbitch': 25467, 'prettyflyyhippy': 25468, 'mlvassallo': 25469, 'redheadray': 25470, 'blackboard': 25471, 'disc': 25472, 'dionairish': 25473, 'meechebadass': 25474, 'shanked': 25475, 'pancreas': 25476, 'allan': 25477, 'gatorades': 25478, 'puddings': 25479, 'pringles': 25480, '365oqx2stx': 25481, 'vinnycrack': 25482, 'dhrvcnrr1h': 25483, 'baethingape': 25484, 'okr3seyfbj': 25485, 'sarawright89': 25486, 'n0qkb1qo7h': 25487, 'usabillofrights': 25488, 'psychological': 25489, 'dhimmis': 25490, 'm8zlty0fzs': 25491, 'robbins': 25492, 'optimusodd': 25493, 'intimidator': 25494, 'anunnakigod': 25495, 'ylkr2gej1z': 25496, 'krispy717': 25497, 'headbutt': 25498, 'evelyn': 25499, 'bl': 25500, 'breaking11': 25501, 'yaboisergio': 25502, 'janessaangelina': 25503, 'sextaik': 25504, 'ayungin': 25505, 'soalmondie': 25506, '4lokos': 25507, 'ovomar23': 25508, 'highfromthe90s': 25509, 'jaygorgeous': 25510, \"bestfriend's\": 25511, 'stroll': 25512, 'jerome': 25513, 'wea': 25514, 'shiesty': 25515, 'happening': 25516, 'mguiducci': 25517, 'nickbrown85': 25518, 'wts6nm3egc': 25519, 'stlnetworkguru': 25520, 'christine': 25521, 'laporta': 25522, 'mosen': 25523, 'chappellenadal': 25524, 'chaco': 25525, 'banner': 25526, 'reaper': 25527, 'drones': 25528, 'ibsczelxxe': 25529, 'penetrate': 25530, 'leggy': 25531, 'lfkqrc0zxn': 25532, 'pickinupgirls': 25533, 'hamburgers': 25534, 'koolqueeftribute': 25535, 'thedillon1': 25536, 'travel': 25537, 'kittie': 25538, 'tattedup': 25539, 'lucybeeee': 25540, '8qla3jsglg': 25541, 'flawwssss': 25542, 'cnnbrk': 25543, 'karmic': 25544, 'ivanj': 25545, 'reyes': 25546, 'tylawson3': 25547, \"marco's\": 25548, 'e0cnf1nwsi': 25549, 'frumpy': 25550, 'hayyylayyy': 25551, 'merit': 25552, 'djsliime': 25553, 'shanedennis37': 25554, 'sassymermaidxo': 25555, 'mdflbr': 25556, 'cheeseburgers': 25557, 'imahomie': 25558, 'jkbridgeturstraight': 25559, 'handshake': 25560, 'sweetie': 25561, 'uopgipopws': 25562, 'rivera9roberto': 25563, 'ahahahh': 25564, 'ping': 25565, 'uza': 25566, 'mrgdii': 25567, 'chloeforsale': 25568, 'wigg': 25569, 'splitsecond84': 25570, 'armybulldog20': 25571, 'acmehandle': 25572, 'russians': 25573, 'rebels': 25574, 'newyork': 25575, 'taz': 25576, 'furniture': 25577, 'bdubs': 25578, 'drunkystory': 25579, 'debbie': 25580, 'magnedeth': 25581, 'favoritism': 25582, 'invoke': 25583, '3yrcyc9ezc': 25584, 'cranky': 25585, 'sprays': 25586, 'febreeze': 25587, 'djphilip': 25588, '128214': 25589, 'bathe': 25590, 'giantraiderking': 25591, 'ios8': 25592, 'romanowski': 25593, 'okoruoni': 25594, 'thumbelina': 25595, \"flamin'\": 25596, 'amandamarcotte': 25597, 'interrupt': 25598, 'quibble': 25599, 'derailing': 25600, 'h5p2yxsu1h': 25601, 'spewed': 25602, 'husbandry': 25603, 'hitched': 25604, 'misty': 25605, 'merely': 25606, 'indicator': 25607, 'indiviuals': 25608, 'jerseyzbest74': 25609, 'artprize': 25610, 'kenwood': 25611, 'weallknowa': 25612, 'shawnda': 25613, 'markadkins2': 25614, 'projectdrugs': 25615, 'ikayking': 25616, 'ghostwritamusic': 25617, 'wil': 25618, 'brunzilla': 25619, 'pushinuproses': 25620, 'shea': 25621, 'moisture': 25622, 'cvs': 25623, 'bhasfurter': 25624, 'anita': 25625, 'farid': 25626, 'angjly': 25627, 'baseballfact': 25628, \"steinbrenner's\": 25629, 'interfere': 25630, 'promising': 25631, 'traveled': 25632, 'brooksheineman': 25633, 'youngpeezyy': 25634, '512jorge': 25635, 'officialreplay': 25636, 'thotology': 25637, 'asia': 25638, 'torres': 25639, 'scallynikelad': 25640, 'sleazytwinks': 25641, 'opcinjen': 25642, 'jloukqdcom': 25643, 'trainer': 25644, 'charcharkuhlman': 25645, 'parks': 25646, 'diaryofaboss': 25647, 'benjis': 25648, 'ueonoyungjumbo': 25649, 'gabriella': 25650, 'birthd': 25651, 'momsdemand': 25652, 'gunsense': 25653, 'gregorykohler': 25654, \"'stable\": 25655, 'enduring': 25656, \"units'\": 25657, '9zwr3o33iu': 25658, 'james3': 25659, 'haydenhill13': 25660, 'khalilreed': 25661, 'freemarket': 25662, 'bangladesh': 25663, 'randpaul': 25664, 'eachotha': 25665, 'mfas': 25666, 'dontgetit': 25667, 'cameron92': 25668, 'ons': 25669, 'strictlykeyz': 25670, 'viagra': 25671, 'funnie': 25672, 'corleyhuff': 25673, 'vitchhhh': 25674, 'hudoha6yqe': 25675, 'rayban': 25676, '128270': 25677, '128294': 25678, '128174': 25679, 'subordinate': 25680, 'rdaonqvr1h': 25681, 'innewzealand': 25682, 'justcallmetajj': 25683, 'ninodemayo': 25684, \"carter's\": 25685, 'honeysuckle': 25686, 'tav': 25687, 'canonically': 25688, 'texarkana': 25689, 'chellyhernandez': 25690, 'calld': 25691, 'usen': 25692, 'nathanmbennett2': 25693, '1josh': 25694, 'warwick3': 25695, 'swill': 25696, 'yvngherbo': 25697, 'prayinforgems': 25698, 'lyssaboo': 25699, 'acne': 25700, 'hplo9jap9k': 25701, 'summit': 25702, '5dimes': 25703, 'greaseball': 25704, 'chloekosik': 25705, 'kaylamauser': 25706, 'escorts': 25707, 'hustlaz': 25708, 'hittaz': 25709, 'truuuchains': 25710, 'crocodile': 25711, 'cruzanchoklate': 25712, 'flounder': 25713, 'hairychestsdoee': 25714, 'foolishsmoker': 25715, 'champaign': 25716, 'rhetorically': 25717, 'cpac2014': 25718, 'connorbagen': 25719, 'poetic': 25720, 'filthiest': 25721, 'ju84cixp7z': 25722, 'imsoooomad': 25723, 'oomfs': 25724, 'yasminmarie23': 25725, 's5yvav8g7l': 25726, 'hucked': 25727, 'insulate': 25728, 'improve': 25729, 'empirical': 25730, 'outcomes': 25731, 'phenomenally': 25732, 'dale': 25733, 'thr': 25734, 'shakey': 25735, 'lowkeychayy': 25736, 'promotion': 25737, 'sweetpotatertot': 25738, 'sexist': 25739, 'x3bwnm3jii': 25740, '1776': 25741, 'ikeepitrealer': 25742, 'jayz': 25743, 'nuzmxspxus': 25744, 'ijustbesinginn': 25745, 'christinekktv': 25746, 'arapahoe': 25747, 'basin': 25748, 'lovelandskiarea': 25749, 'cowx': 25750, 'skiseason': 25751, 'byee': 25752, 'iverrishaa': 25753, 'jonraff': 25754, 'dishin': 25755, 'soy': 25756, 'brent': 25757, 'utter': 25758, 'reunion': 25759, 'vguclaennt': 25760, 'imoverseas': 25761, 'disqualified': 25762, 'newborn': 25763, 'talents': 25764, 'andrewtylerdick': 25765, 'zwhite93': 25766, 'wildcat': 25767, 'murray': 25768, 'jaaayleno': 25769, 'teamignant': 25770, 'hoodcomedy': 25771, 'flytv': 25772, 'lolatl': 25773, '3nkvbpr9qr': 25774, 'dfa73': 25775, 'hellyeahcalum': 25776, 'instyle': 25777, 'sophhh': 25778, 'xpress': 25779, 'rmautzjcpy': 25780, 'alexisdiamond': 25781, 'buut': 25782, 'thaats': 25783, 'peoplewhomademy2013': 25784, 'mikeyblackheart': 25785, 'defends': 25786, 'oliviamrose': 25787, 'camxo': 25788, 'playstation': 25789, 'allieperalta': 25790, 'pushaxrocca': 25791, 'mceh9g6rmu': 25792, 'hitmanholla': 25793, 'hitm': 25794, 'renew': 25795, 'handlers': 25796, 'kxng': 25797, 'jase': 25798, 'bremarie17': 25799, 'kqmbzm7h8y': 25800, '13th': 25801, 'corie': 25802, 'intrigue': 25803, 'scotch': 25804, 'lifeflightgirl': 25805, 'spouse': 25806, 'd26': 25807, 'heree': 25808, 'gi3xxzbbq9': 25809, '2qwepnux': 25810, 'coexist': 25811, 'meshal': 25812, 'occupiers': 25813, 'xdcuusba2f': 25814, 'trendingtopiic': 25815, 'empowered': 25816, 'tym': 25817, 'lyt': 25818, 'agdacoroner': 25819, 'iwlag2j5sl': 25820, '919prince': 25821, '2f2rerrgsm': 25822, 'liftingprobz': 25823, '8ike4m29co': 25824, 'piercethetit': 25825, 'theerealgemini': 25826, 'macs': 25827, 'boogie': 25828, 'fugazi3011': 25829, 'convenient': 25830, 'rooms': 25831, 'reevaluate': 25832, 'yahweh': 25833, 'hovers': 25834, 'wxes0dqrp9': 25835, 'ticked': 25836, 'gabrielle': 25837, 'zoomed': 25838, 'layvbieiml': 25839, 'hmmmmm': 25840, 'gravedigger': 25841, 'spookybroadway': 25842, 'ronniemack12': 25843, 'littering': 25844, 'mucka': 25845, 'intentionaltalk': 25846, 'marmalade': 25847, 'askkevin': 25848, 'bossydiva': 25849, 'agony': 25850, 'mula': 25851, 'kurtbusiek': 25852, 'oft': 25853, 'nipsllp': 25854, 'xriykfgg3q': 25855, 'icyunv': 25856, 'shakia': 25857, 'magellan': 25858, 'physguy2': 25859, 'submix8c': 25860, 'youmad': 25861, 'l2fm9cfgfw': 25862, 'thier': 25863, 'imakittttyy': 25864, 'supernatural': 25865, 'ccm3aoisbp': 25866, 'alcoholic': 25867, 'downed': 25868, 'doinv': 25869, 'lightskinned': 25870, 'gremlin': 25871, 'trillasfvck': 25872, 'scootiemcb': 25873, 'grisham': 25874, 'fountains': 25875, 'fury': 25876, 'davidprice': 25877, 'lanky': 25878, 'niyas': 25879, 'destani': 25880, 'stopsavinthesehoes': 25881, 'bradleey': 25882, 'dickdankstardly': 25883, 'theoscars2014': 25884, 'ineogli7g9': 25885, 'rackedupshad': 25886, 'cuss': 25887, 'pkxb40jtto': 25888, 'skrabah': 25889, 'tactgear': 25890, 'flawed': 25891, 'chp': 25892, 'brpd': 25893, 'jammy': 25894, 'purnt': 25895, 'no85er': 25896, 'inme': 25897, 'dori': 25898, '128032': 25899, 'munro': 25900, 'astroscounty': 25901, 'luhnow': 25902, 'farrahisawhore': 25903, 'persianfarrah': 25904, 'sadonna': 25905, 'rae': 25906, 'tissue': 25907, 'showysantoro': 25908, 'badgaltitii': 25909, 'sakuras': 25910, 'rawstongeorge': 25911, 'distilled9water': 25912, 'wizzyjr': 25913, 'otz0fgdvpr': 25914, 'vexedmentals': 25915, 'treati': 25916, \"psycho's\": 25917, 'jaredphillis': 25918, 'princessshy': 25919, 'zucchini': 25920, 'judgepeopleatschoolday': 25921, 'jamieeee': 25922, 'thrust': 25923, 'hxmlh6qxqb': 25924, 'thump': 25925, 'ldb9afwvdm': 25926, 'thugginlegally': 25927, 'appleciderpapi': 25928, 'godievel': 25929, 'nicki3pretty': 25930, 'classless': 25931, 'rle': 25932, 'lirryfeelsugh': 25933, 'jayjroc': 25934, '1ic1h0ib8u': 25935, 'chanaee': 25936, 'b5xbkamv4x': 25937, 'glitteryglossy': 25938, \"ross'\": 25939, 'youngamari': 25940, 'bucketlist': 25941, 'taynic': 25942, 'slandered': 25943, 'alyricz': 25944, 'ghws4tjt': 25945, 'kiaaxo': 25946, 'sweetbre': 25947, 'beingmsdaisy': 25948, 'uzvnxqfmfn': 25949, 'audrianareye': 25950, 'ashleyasatu': 25951, 'uglass': 25952, 'mauriokart': 25953, 'esq': 25954, 'phallic': 25955, 'wobble': 25956, 'wibbler': 25957, 'qoxkqbyxhe': 25958, 'solo36': 25959, 'nelsontavares82': 25960, 'nyrangers': 25961, 'bruinsfan': 25962, 'priscocbs': 25963, '1xxguktjp8': 25964, 'sunnyignant': 25965, 'pros': 25966, 'huj': 25967, 'cyber': 25968, 'bulling': 25969, 'lesterrnem': 25970, 'w2n19vgbv3': 25971, 'timbers': 25972, 'jreebo': 25973, 'chav': 25974, 'feqxgn0w6i': 25975, 'tunechi': 25976, 'latinkings': 25977, 'thqcheerios': 25978, 'ywj1i0wma9': 25979, 'puppet': 25980, 'bisexual': 25981, 'dasianah': 25982, 'kenlypls': 25983, 'skeetworld': 25984, 'iacceptnudes': 25985, 'skiny': 25986, 'n4bzyk1dh4': 25987, 'jimmerfredette': 25988, 'rained': 25989, 'deser': 25990, 'brianfromwork': 25991, 'thatonegirlpink': 25992, 'tuquick': 25993, 'agonyquotez': 25994, 'hilton': 25995, 'gonabe': 25996, 'bellodisastro': 25997, '9x0ckrtgvr': 25998, 'ariestheog': 25999, 'androgyneadvent': 26000, 'wholesome': 26001, 'allielexilove': 26002, 'carmel': 26003, 'sticking': 26004, \"fluzzy07's\": 26005, 'savenohoes': 26006, 'z3p8sxqtt3': 26007, 'clearlyspoken': 26008, 'bxtches': 26009, 'sunkissedsexii': 26010, 'moneyhighpapi': 26011, 'kialloyd22': 26012, \"name's\": 26013, 'urstruly': 26014, 'tommrow': 26015, 'dak': 26016, 'whi': 26017, 'kaewhy270': 26018, '0xljzwbtkr': 26019, 'connerjay': 26020, '4jciu8vhzv': 26021, 'monkbent': 26022, 'hillgasm': 26023, 'crutches': 26024, 'playcalling': 26025, 'ags': 26026, 'indefensible': 26027, 'tucsonchld': 26028, 'eden': 26029, 'pollute': 26030, 'scuf': 26031, 'frail': 26032, 'laughs': 26033, 'emmanuelrodz11': 26034, 'willian': 26035, 'atownbrown08': 26036, 'carminezozzora': 26037, 'drestiles': 26038, 'occdissent': 26039, 'coulter': 26040, 'gettingreal': 26041, 'michael4h2o': 26042, 'inmate': 26043, 'sums': 26044, \"lebronjames'\": 26045, 'a68mtzqoel': 26046, 'bmrzfwstva': 26047, '60th': 26048, 'ljejfufulk': 26049, 'thesexfacts101': 26050, 'bountyhunters4lyfe': 26051, 'kong': 26052, 'hannahpike': 26053, 'southpark': 26054, 'familyguyonfox': 26055, 'nwn9qrt5xd': 26056, \"pigs'\": 26057, 'goldglovetv': 26058, 'somalian': 26059, 'teamwhitegirls': 26060, 'swirltheworld': 26061, 'dominickle': 26062, \"'views\": 26063, 'brace': 26064, 'ogd': 26065, 'haleyjoanis': 26066, 'crissstaaaaal': 26067, 'wept': 26068, 'thurmanmunson': 26069, 'pg': 26070, 'fitzgerald': 26071, '79': 26072, 'serena': 26073, 'prone': 26074, 'thancc': 26075, 'analicialouise': 26076, 'tevin': 26077, 'proofgelato': 26078, 'raspberry': 26079, 'gin': 26080, 'sorbet': 26081, 'gelatocart': 26082, 'funnyogtweets': 26083, 'tyzuro7qr5': 26084, 'aqcgkbxkcm': 26085, 'trucker': 26086, 'combmyafro': 26087, 'pearl4': 26088, 'blocklist': 26089, 'convert': 26090, 'topless': 26091, 'sosaonthebeat': 26092, 'cartridge': 26093, 'moniierozay': 26094, 'hollyrpeete': 26095, 'alberdough': 26096, 'cashing': 26097, 'cajon': 26098, 'calwood': 26099, 'steer': 26100, 'gutierrez': 26101, 'alf': 26102, 'tri': 26103, 'agru': 26104, 'lamessican': 26105, 'confirms': 26106, '3xneg5mnrk': 26107, 'levis': 26108, 'awwadorabie': 26109, 'w7yr5xklsc': 26110, '100band': 26111, 'sorority': 26112, 'flea': 26113, 'swanny': 26114, 'bitchiedior': 26115, 'portsmouth': 26116, 'yostknowsmost': 26117, 'idowntown': 26118, 'skipped': 26119, 'sotribe': 26120, 'kasey': 26121, 'wheretheyatdoe': 26122, \"battery's\": 26123, 'lamarxo': 26124, 'followin': 26125, 'ssbeirne': 26126, 'lakeerie': 26127, 'ttl10nqbzj': 26128, 'thuged': 26129, 'moar': 26130, 'puffs': 26131, 'sholzbee': 26132, 'doristafoya1': 26133, 'jagauress': 26134, 'walter': 26135, 'lynnemrnp': 26136, 'anthems': 26137, 'inspected': 26138, 'pussayyy': 26139, 'allahs': 26140, 'crest': 26141, 'jabroni': 26142, 'vdpiq8zuxo': 26143, 'savagejayy': 26144, 'jrsmith12': 26145, 'acehudsonjr': 26146, '6zuxaqeavl': 26147, 'omoide': 26148, 'yokocho': 26149, 'shinjuku': 26150, 'mich': 26151, '7j2uxi5501': 26152, 'crackerjhak': 26153, 'phony': 26154, 'karltonhinez': 26155, 'ctmwgweknl': 26156, 'darkliquanigga': 26157, 'wfuncleellis': 26158, 'djlouis12': 26159, 'weakass': 26160, 'drex': 26161, 'hudson': 26162, 'gallagher': 26163, 'dejaaleeann': 26164, 'coleman2': 26165, 'azaelia': 26166, 'davis0529': 26167, 'mikemiss975': 26168, 'feliciawolfee': 26169, 'wintersmith': 26170, 'taveras': 26171, 'sonoma': 26172, 'gutto': 26173, 'thisdayinmetal': 26174, 'apr': 26175, '29th': 26176, '1997': 26177, 'waspofficial': 26178, 'taketheaddiction': 26179, 'mytorturedeyes': 26180, 'heavymetal': 26181, 'yawlknow': 26182, 'sessions': 26183, 'ycg': 26184, 'zrbdumjqu8': 26185, 'farfrmaverage': 26186, 'upd': 26187, 'dik': 26188, 'suker': 26189, 'stepped': 26190, 'scoreless': 26191, 'bambino': 26192, \"baby's\": 26193, 'itzshowtim3': 26194, 'darky': 26195, 'boondocks': 26196, 'ug647wuie4': 26197, 'dwade': 26198, 'snfaf5uxxb': 26199, 'tsa': 26200, \"darby's\": 26201, 'etdkzfrrzk': 26202, 'bitchbeeasy': 26203, 'tights': 26204, 'kip': 26205, 'tokuda': 26206, 'niggerize': 26207, 'pd': 26208, 'solodahsystem': 26209, '915': 26210, 'hannahalisee': 26211, 'hans': 26212, 'fbd': 26213, 'traitorous': 26214, 'pelosi': 26215, 'parading': 26216, 'bloodboiling': 26217, 'itslexishope': 26218, 'rd81tnco4f': 26219, 'thk9mnqtrg': 26220, 'ayefuckwoody': 26221, 'coryburgess87': 26222, 'alexpappas': 26223, 'electronic': 26224, 'qtpehb2sex': 26225, 'squidward': 26226, 'pjphvgw4f2': 26227, 'xfactorau': 26228, 'ramlogan': 26229, 'uwi': 26230, \"homo's\": 26231, \"hetero's\": 26232, 'ugzyrtkabw': 26233, 'appropriately': 26234, 'barkingcarnival': 26235, 'sgb9ryvdmb': 26236, 'acres': 26237, 'makerr': 26238, 'mrhoopa23': 26239, 'gill': 26240, 'tournament': 26241, '20pics': 26242, 'rewind': 26243, 'ooooow': 26244, 'vienna': 26245, 'sausage': 26246, 'yy1gj6oeds': 26247, 'pussay': 26248, 'innovative': 26249, 'unresolved': 26250, 'deviledlegs': 26251, 'goats': 26252, 'petals': 26253, 'chopped': 26254, 'bubbl': 26255, 'shackelford': 26256, 'dyslexia': 26257, 'australia': 26258, 'xyzxv5lzs1': 26259, 'kaffirs': 26260, 'hairdo': 26261, 'lmwqj1etoa': 26262, 'feelins': 26263, 'pc0fcynofu': 26264, 'festival': 26265, 'obeyyreggie': 26266, 'tedddydgaf': 26267, 'welldamndymo': 26268, 'yourside': 26269, 'iluvdrugz': 26270, 'disguste': 26271, 'musedbymusic': 26272, 'wantttt': 26273, 'empresstata': 26274, 'affair': 26275, 'lovelesslovely': 26276, 'kwitchabichen25': 26277, 'aklve': 26278, 'rn6nnnynxv': 26279, 'calvii': 26280, 'troncat1003': 26281, 'giv3a': 26282, 'bkent': 26283, '3xinzjnm2u': 26284, 'benga': 26285, 'avengerstratus': 26286, 'pale': 26287, 'dontouch': 26288, 'mimiswagnotes': 26289, 'flyin': 26290, 'onlyhiphopfacts': 26291, 'furbush': 26292, 'whydidigoogle': 26293, 'ayeeexo': 26294, 'kendavidoff': 26295, \"mlb's\": 26296, 'wowsopunny': 26297, 'zloaj7tjy6': 26298, 'ed1': 26299, 'ed2': 26300, '1503': 26301, 'radiator': 26302, '3xx': 26303, '1nknfzqbo9': 26304, 'ayyyeeee': 26305, 'babbbyyy': 26306, 'rpseqjd3': 26307, 'keebler': 26308, 'elves': 26309, 'legalized': 26310, 'lookingformore': 26311, 'hlqal7cigf': 26312, 'irl': 26313, 'chicagobulls': 26314, 'pinkchocolatebk': 26315, 'charliedayquote': 26316, 'viet': 26317, 'nam': 26318, 'colman': 26319, 'cathedral': 26320, 'mosque': 26321, '4ahp4t86bp': 26322, 'bulldogged': 26323, 'sceoqiqbme': 26324, 'sexin': 26325, 'postbadbitches': 26326, 'rpo0quumbm': 26327, 'drugzzz': 26328, 'princeeric11': 26329, 'reasonsiunfollowedyou': 26330, 'neomd71': 26331, \"qb's\": 26332, 'duel': 26333, 'appreciates': 26334, 'bigel179': 26335, 'metronorth': 26336, 'toobad': 26337, 'metsfan': 26338, 'queensallday': 26339, 'fckwatchuthink': 26340, 'doitlikejaye': 26341, 'innocentmarina6': 26342, 'scented': 26343, \"daughter's\": 26344, \"vet's\": 26345, 'callaway': 26346, 'erection': 26347, 'ajerned': 26348, 'impulse9': 26349, 'gogh': 26350, 'hockeydrunk': 26351, 'snickers': 26352, '59': 26353, 'bigtits': 26354, 'preggie': 26355, 'swollen': 26356, 'itcpebcem4': 26357, 'releases': 26358, 'teelaydee': 26359, 'allzmicelz': 26360, 'dwkd2djorv': 26361, 'babbbygirl0317': 26362, 'notorioussulo': 26363, 'grabbing': 26364, 'imagination': 26365, 'jfo4eczmul': 26366, 'brianstelter': 26367, 'advertised': 26368, 'taxis': 26369, 'inkedup': 26370, 'dounealdy': 26371, 'moderation': 26372, 'ruckus': 26373, 'thekitchensheat': 26374, 'dennisssbeauty': 26375, 'vivalazulema': 26376, 'xpqktltnkh': 26377, 'fuckherrightinthepussy': 26378, 'rhinestoned': 26379, 'waaay': 26380, 'dinherfriends': 26381, 'xbone': 26382, 'outduels': 26383, 'keuchel': 26384, 'hijjauktjn': 26385, \"'comin\": 26386, 'chvrlesgoldie': 26387, 'jawga': 26388, 'officialdthrash': 26389, 'jawgaboyz': 26390, 'thekingscottyd': 26391, 'psq': 26392, 'loadupp': 26393, 'faithfull': 26394, 'lockers': 26395, 'tvvitterroasts': 26396, 'creamteam': 26397, 'cockbreath': 26398, 'malibubarbie': 26399, 'milds': 26400, 'braid': 26401, 'gelled': 26402, 'dashiki': 26403, 'discussion': 26404, 'kiddsmy': 26405, 'pyt': 26406, 'bubbafishh': 26407, 'sydneysoleil': 26408, 'highkey': 26409, 'thygoat': 26410, 'itsvinnydoe': 26411, 'dolphin': 26412, 'feliciano': 26413, 'ogsmoky': 26414, 'thebravebird': 26415, 'yourenotmytype': 26416, 'fresher': 26417, 'reflected': 26418, 'wce': 26419, 'obscurespinosa': 26420, 'iamjonahhili': 26421, 'numb': 26422, 'yassssssssss': 26423, 'realm': 26424, 'selfs': 26425, 'wwhd': 26426, 'hustlelinaa': 26427, 'alexdunlapnfl': 26428, 'klbj': 26429, 'eba': 26430, 'sandman': 26431, 'shyswag69': 26432, 'torres5salvador': 26433, 'seanphathaway': 26434, 'conclusions': 26435, 'itunesmusic': 26436, 'cuner': 26437, 'itsjustshay': 26438, 'puddy': 26439, 'simonenicole3': 26440, 'maddiedelahouss': 26441, 'nafxa8pdpa': 26442, 'trillycjuicy': 26443, 'encountered': 26444, 'savethebs': 26445, 'itsdlow': 26446, 'gocruise': 26447, 'ouju8laxr1': 26448, 'msmyag': 26449, 'houseeee': 26450, 'camerondurant15': 26451, 'vroomdet': 26452, 'opea4': 26453, 'quita': 26454, 'missmollylo': 26455, 'thegamerkingkev': 26456, 'magaluf': 26457, 'probly': 26458, 'shoppin': 26459, 'assholee813': 26460, 'cuposyrup': 26461, 'twee': 26462, 'swiftly': 26463, 'wtxeom': 26464, 'bvttousaibonez': 26465, 'andhiphop': 26466, 'midgetmadz': 26467, 'limp': 26468, 'footed': 26469, 'isolated': 26470, 'hamster': 26471, 'drboycewatkins1': 26472, 'minstrel': 26473, 'fvxxk': 26474, 'ultimatepickupline': 26475, 'whith': 26476, 'shemoansnookie': 26477, 'outlast': 26478, 'nunez': 26479, 'shakestweetz': 26480, 'philbarron': 26481, 'javachik': 26482, 'infection': 26483, 'fightin': 26484, 'dminion25': 26485, 'experimenting': 26486, 'iph': 26487, 'morgans': 26488, 'zappa': 26489, \"60's\": 26490, 'joker': 26491, \"ye'll\": 26492, 'monogrammedprep': 26493, 'xleaaahh': 26494, 'lbcc': 26495, 'tmroja': 26496, 'dudewithahighkd': 26497, 'jeffreyhaas': 26498, 'juddnation': 26499, 'romeotorres99': 26500, 'andymilonakis': 26501, \"beyonce's\": 26502, 'gezzy504': 26503, 'kyulqzobc6': 26504, 'intellectsrus': 26505, 'femaleproblems': 26506, \"valentine's\": 26507, 'jaded': 26508, 'alexismota29': 26509, 'giacier': 26510, 'calistrong1': 26511, 'chulo25': 26512, 'pinkducktwist': 26513, 'makemespazz': 26514, 'thekingsimp': 26515, 'arhyscamu6': 26516, 'influential': 26517, 'trends': 26518, 'drying': 26519, 'scams': 26520, 'jrjthv25t2': 26521, 'worthy': 26522, 'kto40': 26523, 'cgt4fkr2yx': 26524, 'basebaiivines': 26525, 'pine': 26526, 'tar': 26527, 'pjrkjeay6h': 26528, 'mentalities': 26529, 'katmurda': 26530, 'hanima': 26531, 'macc': 26532, 'maccin': 26533, 'enngram': 26534, 'kelliestebbins': 26535, 'crazygirlgab': 26536, 'sacrament': 26537, '17andlovinit': 26538, 'mingling': 26539, '5reiztq2ls': 26540, 'kamkamluvsblk': 26541, 'rudolph': 26542, 'misfit': 26543, 'resolved': 26544, 'pushupsensei': 26545, 'sizzlin': 26546, 'uzi': 26547, 'shoutouts': 26548, 'kaetlin': 26549, 'tymoore': 26550, 'necakytdi1': 26551, 'kingshelton': 26552, 'iubl31qn6y': 26553, 'greeneggs': 26554, 'fajitas': 26555, 'caramelkushh': 26556, 'wyandanch': 26557, 'zoned': 26558, 'brody': 26559, 'jmk0728': 26560, 'urjndmgdrj': 26561, 'seoredondo': 26562, 'by1j7hmq3z': 26563, 'lawful': 26564, 'gethenian': 26565, 'ffffffffffffuck': 26566, 'baratheon': 26567, 'rebellions': 26568, 'bleeding': 26569, 'trakkboidelf': 26570, 'linkedin': 26571, 'uw3r0snjvk': 26572, 'redbone9922': 26573, 'flyers4cup': 26574, 'smartphone': 26575, 'erikawcvb': 26576, 'marthacoakley': 26577, '11am': 26578, 'wingsoverhoes': 26579, 'dattniggamatt': 26580, 'slithered': 26581, 'coil': 26582, 'puckered': 26583, 'collagen': 26584, 'muhfuckin': 26585, 'budapecanshellz': 26586, \"rice'd\": 26587, 'tx51afhddf': 26588, 'iamyalanda': 26589, 'adept': 26590, 'exlibris': 26591, 'robbyohn': 26592, 'kimberley': 26593, 'scariest': 26594, 'hollowdadonlom': 26595, 'bi6fgp5vgo': 26596, 'keepdatshit100': 26597, 'twittah': 26598, 'chaboylilbill': 26599, 'lightup': 26600, 'sketchers': 26601, 'blinding': 26602, 'reeks': 26603, 'reacts': 26604, 'ww3': 26605, 'marchmadness': 26606, 'factor': 26607, 'ree2': 26608, 'coolstorysam': 26609, 'morgannndee': 26610, 'defect': 26611, 'peinrwszzq': 26612, 'thekizzler': 26613, 'chrissfmori': 26614, 'skyrocketed': 26615, 'sharply': 26616, 'cruz1': 26617, 'exsposin': 26618, 'pribski86': 26619, 'quirkisms': 26620, 'compassion': 26621, 'swiperthefaux': 26622, 'fbz29anavh': 26623, 'lorenasgonzalez': 26624, 'assemblywoman': 26625, 'unionmember': 26626, 'laborday': 26627, 'pablomucholive': 26628, 'vytcij5s3v': 26629, 'liltwist': 26630, 'diplo': 26631, '4xkufnzc': 26632, 'thangs': 26633, \"'damn\": 26634, \"'newest\": 26635, \"privilege'\": 26636, 'zlpfzsitom': 26637, 'singin': 26638, 'nower': 26639, 'defenition': 26640, 'jetzlyfe412': 26641, 'texaskid1980': 26642, 'sociopath': 26643, 'canttrustanyone': 26644, 'hatefakepeople': 26645, 'ronanfarrow': 26646, 'hyu': 26647, 'bathing': 26648, 'toujoours': 26649, 'describing': 26650, 'mayarsharkawi': 26651, 'jtwuu9cysr': 26652, 'dismissed': 26653, 'begbie': 26654, 'marchese': 26655, 'gambler': 26656, 'gmk': 26657, 'kuroda': 26658, 'trixx': 26659, 'itsjustlindaa': 26660, 'xojaclyn': 26661, 'ollie': 26662, 'incarnation': 26663, 'theprinceofnj': 26664, 'jackies': 26665, 'blondeproblems': 26666, 'pontotoc2': 26667, 'hs3nifmuek': 26668, 'glued': 26669, 'pik': 26670, 'biebz': 26671, 'jereme': 26672, 'b1yhx9zusv': 26673, 'shescreams': 26674, 'mami': 26675, 'y1t8ctqn4u': 26676, 'bongripbo': 26677, 'philhecken': 26678, 'terren': 26679, 'nflbadwitch': 26680, 'thejazzybelle': 26681, 'slickbackjr': 26682, 'kkuzv5pddr': 26683, 'trelekidd': 26684, 'jabarithegreat': 26685, '4uvjjbeqdd': 26686, 'commune': 26687, 'railroad': 26688, 'rdqdymvkjt': 26689, 'rushameezy': 26690, 'yexystusm8': 26691, 'traphouseeeeeeee': 26692, 'dilemma': 26693, 'shortsaid': 26694, 'michelleobama': 26695, 'elitist': 26696, 'wvnextin6': 26697, 'esophagus': 26698, 'blessedale': 26699, 'cbfollowheidi': 26700, 'literate': 26701, 'kiantedevuan': 26702, 'speaker': 26703, 'disagree': 26704, 'loyalest': 26705, 'dogethedog': 26706, 'potassium': 26707, 'xinhdwytqs': 26708, 'harmonica': 26709, 'tajacasanova': 26710, 'macy': 26711, 'engweiler': 26712, 'mariancristinax': 26713, 'universe': 26714, 'canunot': 26715, 'fuckoff': 26716, 'flirtin': 26717, 'bpshow': 26718, 'currenttv': 26719, 'lancejw113': 26720, 'hoez4sale': 26721, 'rivalry': 26722, '6oyslovekeena': 26723, 'itat': 26724, 'upay': 26725, 'brz8imk5vk': 26726, 'itzsweetz': 26727, 'ooop': 26728, 'qt': 26729, 'spankxboogey': 26730, 'tonktrippin': 26731, 'kaylonnnnn': 26732, 'tapatio': 26733, 'assistance': 26734, 'careers': 26735, 'jewelxo': 26736, 'gaming': 26737, 'katie': 26738, 'luckyl3ft': 26739, 'najmaaa': 26740, 'elastic': 26741, 'itssamcollins': 26742, 'thepartycodes': 26743, 'luccixo': 26744, 'o0agdd9fqh': 26745, 'braved': 26746, 'temperatures': 26747, 'pw': 26748, 'calc': 26749, 'indication': 26750, 'thurl': 26751, 'deeeez': 26752, 'simulation': 26753, 'zc3k9ndb1t': 26754, 'peas': 26755, 'ibuprofen': 26756, 'mohawk': 26757, 'scrub': 26758, 'englishbrit123': 26759, 'mcsully': 26760, 'pour': 26761, 'sliden': 26762, 'slippen': 26763, 'hinrich': 26764, 'salamancode': 26765, 'rhjsll9i9f': 26766, 'asyjv2k4tt': 26767, 'gambling': 26768, 'longestmonday': 26769, 'declare': 26770, 'thegreat': 26771, 'reppin': 26772, 'ewing': 26773, '6z7snf26xh': 26774, 'shellygrimage': 26775, 'downie': 26776, 'brunch': 26777, 'mimosas': 26778, 'bvsedchink': 26779, 'skateboarding': 26780, 'vbczp6hmt7': 26781, 'amjemiebenn': 26782, 'aaahhhhh': 26783, 'polokingbc': 26784, 'ge9koimygj': 26785, 'highofftatianna': 26786, 'hanna': 26787, 'treydoe': 26788, 'hallderik': 26789, '270': 26790, '510988': 26791, 'jleydcegf0': 26792, 'scotty160': 26793, 'jimmycollinsss': 26794, 'secretasianman': 26795, 'maven': 26796, 'trapfui': 26797, 'throwbac': 26798, 'administrators': 26799, 'sfirsvdy': 26800, 'rewarded': 26801, 'jogonzalez': 26802, 'shinglewarf': 26803, 'zlzg6sjbbh': 26804, 'strvp': 26805, 'h8uqdrjecb': 26806, 'sexism': 26807, 'rbesofii': 26808, 'gtln1tpmgi': 26809, 'zeemonstaa': 26810, 'abouttime': 26811, 'tryhardtee': 26812, 'c3': 26813, 'dagladiator': 26814, 'malzeno': 26815, 'loyalboy': 26816, 'jn0iebdnzq': 26817, 'clowns': 26818, 'ciaraaas': 26819, 'd23mkpgmxu': 26820, 'lifted23': 26821, 'jeremyclarkson': 26822, 'lords': 26823, 'justinrogo01': 26824, 'boooooooo': 26825, 'chillindillan71': 26826, 'virleehol': 26827, 'lancesilver1': 26828, 'christiec733': 26829, 'waynebogda': 26830, 'conservative9': 26831, 'specky': 26832, 'lesbo': 26833, 'coolcunts': 26834, 'absoluteyvile': 26835, 'chivasgee': 26836, 'losoworld': 26837, 'nikka': 26838, 'chevrolet': 26839, 'legroom': 26840, 'ventilation': 26841, 'professional': 26842, 'chevy': 26843, 'cheetahbluntz': 26844, 'shhhhh': 26845, 'wwltv': 26846, 'arrow': 26847, 'q1kqt6stwl': 26848, 'jinxy': 26849, 'ronkieshietta': 26850, 'ww': 26851, 'nycs': 26852, 'syst': 26853, 'clubinsomnia': 26854, 'thnxx1lc1m': 26855, 'kamaalrkhan': 26856, 'apka': 26857, 'waise': 26858, 'bhi': 26859, 'khatam': 26860, 'chukka': 26861, 'amar': 26862, 'singh': 26863, 'kejr': 26864, 'mothafucker': 26865, 'mmmhmmm': 26866, 'outrage': 26867, 'qtiteze7bh': 26868, 'nudhr': 26869, 'grandmoma': 26870, 'madamecurry': 26871, 'erlktweets': 26872, 'royalriahh': 26873, 'antsoo305': 26874, 'lexii': 26875, 'flossinlawson11': 26876, 'kunta': 26877, 'kintes': 26878, 'veqzf9ik6q': 26879, 'snags': 26880, 'flips': 26881, 'ydu4pr531r': 26882, 'sadomisogynist': 26883, \"mo'ne\": 26884, 'kkeldalegend': 26885, 'vcbkacqbhv': 26886, 'jqlst70msm': 26887, 'ix03vrk0ki': 26888, 'iamricolove': 26889, 'contortionist': 26890, 'thir': 26891, 'ocho': 26892, 'chula': 26893, 'vista': 26894, '95bbmgjijf': 26895, 'jonj': 26896, 'bangxbroz': 26897, 'saan': 26898, 'wrecked': 26899, 'patarnold95': 26900, 'gtm': 26901, 'lmmfao': 26902, 'alejandra': 26903, 'p13': 26904, 'mister': 26905, 'abel': 26906, 'resign': 26907, 'julie': 26908, 'bedrock': 26909, 'talltrappin88': 26910, 'riptallt': 26911, 'hotzgeor': 26912, 'workforce': 26913, 'nc': 26914, 'thomtillis': 26915, 'ahhh23': 26916, 'shill': 26917, 'commonwhitegiri': 26918, 'snapchats': 26919, 'sittn': 26920, 'fucccckkkkkk': 26921, 'princessalyssxo': 26922, 'caseykim12': 26923, 'policies': 26924, 'sluttish': 26925, 'babyjaypops': 26926, 'greatwhiteprivilege': 26927, 'mikfblnzii': 26928, 'igbbreezy': 26929, 'lxddifeexw': 26930, 'demimariemorin': 26931, 'imustbestupid': 26932, 'sotu': 26933, 'yey8ml5snk': 26934, 'regalodejah': 26935, 'ausettt': 26936, 'g8kdlxfqm2': 26937, 'doyoudream': 26938, 'basedlordjesus': 26939, 'crucify': 26940, 'zoyz9pc1eh': 26941, 'icewear': 26942, 'vezzo': 26943, 'reactions': 26944, 'rager': 26945, 'dacoolestlame': 26946, 'bcu': 26947, 'ucf': 26948, 'getatme': 26949, 'fuckmongo': 26950, 'naynayismongo': 26951, 'ravenxmiyagi': 26952, 'kingcaillou': 26953, 'f7ptmbsslu': 26954, 'dna': 26955, 'richgurltira': 26956, 'theonlybdavey': 26957, 'uggo': 26958, 'inkoverhoes': 26959, 'espnsecondtake': 26960, 'h0wappsmgg': 26961, 'ilovetmills': 26962, \"boo'd\": 26963, 'grusty': 26964, 'mitch': 26965, 'krebs14': 26966, 'jehnayy': 26967, 'dammitslimm': 26968, 'gatorhoops': 26969, 'advised': 26970, 'keithscho': 26971, 'innocence': 26972, 'muhammed': 26973, 'samjlayman': 26974, 'highmore': 26975, 'wacthh': 26976, 'lites': 26977, 'las': 26978, 'bourbon': 26979, 'crowe': 26980, 'fashow': 26981, 'adrizzzle': 26982, 'brotha': 26983, '1nonlydirtymike': 26984, 'iqixxx1znv': 26985, 'yooperslayer': 26986, 'banning': 26987, 'crackas': 26988, 'gimmeablackemoji': 26989, 'trapping': 26990, 'kirkfranklin': 26991, 'flier': 26992, 'canary': 26993, 'pong': 26994, 'iethaldose': 26995, 'obamastrawman': 26996, \"clinton's\": 26997, 'danielbiltmore': 26998, 'lexc': 26999, 'purposely': 27000, 'tylersteak89': 27001, 'caboose': 27002, 'sassisissy': 27003, 'hanger': 27004, 'gouged': 27005, 'harmless': 27006, 'fetus': 27007, 'keke': 27008, 'jeremiah': 27009, '337': 27010, 'teejustyce': 27011, '128106': 27012, '5vegg6': 27013, 'marca': 27014, 'connor': 27015, 'lovearmeireee': 27016, 'thotbucket': 27017, 'scottyplagues': 27018, 'dancingxburrito': 27019, 'reganleahhh': 27020, 'lowcountry': 27021, 'affleck': 27022, 'desrve': 27023, 'xobrandy': 27024, 'invest': 27025, 'curtains': 27026, 'bony': 27027, \"swisher's\": 27028, 'thinccin': 27029, 'emilyscraba': 27030, 'skidmark': 27031, 'resistant': 27032, 'tighty': 27033, 'uncrustables': 27034, 'evu04p6sur': 27035, 'rllllytired': 27036, 'energetic': 27037, 'goldenbella': 27038, 'janet': 27039, \"jackson's\": 27040, 'playersmy': 27041, 'shooter': 27042, 'calvin2000': 27043, 'concerning': 27044, 'katiecouric': 27045, 'forwd': 27046, 'geekylesbianscientists': 27047, 'theblairbetch': 27048, 'douglasrichardsonships': 27049, 'zahyxtavvo': 27050, 'software': 27051, 'damages': 27052, 'tcjhtfxbhc': 27053, 'afuehring': 27054, 'cooper907': 27055, 'mueller': 27056, 'reason18': 27057, 'hollisbiggs': 27058, 'squeakkgod': 27059, 'opps': 27060, 'extender': 27061, 'zigeuner': 27062, 'rapists': 27063, 'getyourlife': 27064, 'nbnbgycfmi': 27065, 'getyamindright': 27066, 'giannaamarieeee': 27067, 'schmucc': 27068, 'etaks2evil': 27069, '3529gvbxkt': 27070, 'kiaspeaks': 27071, 'controlling': 27072, 'bestfriends': 27073, 'kinfolk': 27074, 'straatvogels': 27075, 'twittering': 27076, 'wruocdvkjt': 27077, 'huffpostimpact': 27078, '8853': 27079, 'djgs6rgdfv': 27080, 'haley': 27081, 'dych': 27082, 'confident': 27083, 'toulababy': 27084, 'c9ti4fkskn': 27085, 'faction': 27086, 'fezbandname': 27087, 'officiala1king': 27088, '2t1ukudqbw': 27089, 'ha1u4tioav': 27090, 'jonnyfootbali': 27091, 'touchdowns': 27092, \"month's\": 27093, 'deeds': 27094, 'wher': 27095, \"''single\": 27096, \"af''\": 27097, 'spiff': 27098, 'queenreenie': 27099, 'tbm1dil55n': 27100, 'intheovenjews': 27101, 'slavecatcher88': 27102, 'ovenjew': 27103, 'yungxprnce': 27104, 'uhmime9psw': 27105, 'gostampsgo84': 27106, 'gavin': 27107, 'mcinnes': 27108, 'healthcare': 27109, \"down's\": 27110, 'heyyy': 27111, 'roethlisberger': 27112, 'expunged': 27113, 'bodybymalone': 27114, 'mohe': 27115, 'thickumms': 27116, 'realfannymagnet': 27117, 'lecture': 27118, 'sequins': 27119, 'jehsee': 27120, 'mxchaelji': 27121, 'sirraycharles': 27122, 'hilly': 27123, '127874': 27124, '127856': 27125, 'spliff': 27126, 'buckcherry': 27127, 'lightskingawdd': 27128, 'bummer': 27129, 'plasma': 27130, 'cryancarfield': 27131, 'pizzas': 27132, 'lunatic': 27133, '916': 27134, 'bibliography': 27135, 'hadnt': 27136, 'skate808s': 27137, 'msfoxybaby': 27138, 'imaddictedto': 27139, 'truuuuuu': 27140, 'beautifullapril': 27141, 'binging': 27142, 'butted': 27143, 'zuko': 27144, 'shawnpitts77': 27145, 'vineyard': 27146, 'chubbies': 27147, 'blueblueshair': 27148, 'l8gne4xxzg': 27149, '1v4dpwheul': 27150, 'superstars': 27151, 'sett': 27152, 'coliegeprobs': 27153, 'bloomington': 27154, 'resurrection': 27155, 'melecht': 27156, 'apartheid': 27157, 'pedestrian': 27158, 'immaculate': 27159, 'jazzyclarks': 27160, 'unfollwed': 27161, 'plantation': 27162, 'kyliejenner': 27163, 'cipwztvnuo': 27164, 'mademyselfher': 27165, 'eeeeeeeee': 27166, 'bandresdiana': 27167, \"story's\": 27168, 'xvgtwooasp': 27169, 'mulatta': 27170, 'thejournalista': 27171, 'huny': 27172, 'gwarbucks': 27173, 'tygress': 27174, 'hntrmoore': 27175, 'cougar745iii': 27176, 'stereotypi': 27177, \"'minimum\": 27178, \"fee'\": 27179, 'gjkxmziizs': 27180, 'functionally': 27181, 'hodgeasia': 27182, 'prettymofocka': 27183, 'whascameradan': 27184, 'goldietaylor': 27185, 'thegrio': 27186, 'puppets': 27187, 'unify': 27188, 'eco': 27189, '51st': 27190, 'ksiqmy4w8d': 27191, 'angrywillhelms': 27192, 'politically': 27193, 'intellectually': 27194, 'schargel': 27195, 'marsvalo': 27196, 'viewers': 27197, 'eyyyy': 27198, 'lebouf': 27199, 'whynot': 27200, 'f2l8dpbres': 27201, 'ploy': 27202, 'gulf': 27203, 'publish': 27204, 'sunnis': 27205, 'pfxyby2c15': 27206, '128182': 27207, 'thejigisup': 27208, '8w9ag3bx1a': 27209, 'f0pgdalfaa': 27210, 'ganglandabby': 27211, '808noheartbreak': 27212, 'appreciation': 27213, 'shawnieceqb': 27214, 'hilfiger': 27215, 'robbin': 27216, 'scenes': 27217, 'wuteva': 27218, 'marvelous': 27219, 'badmatatan': 27220, 'tb06nygmcv': 27221, 'jahmall': 27222, 'blueunicorns': 27223, 'eivjyapkud': 27224, 'upstairs': 27225, 'heartlle': 27226, \"that've\": 27227, \"cuffin'\": 27228, 'kelvinkayyy': 27229, 'bruv': 27230, 'welcum': 27231, 'niggur': 27232, 'impresses': 27233, 'greenmile': 27234, 'zonozi': 27235, 'lipsdriprubies': 27236, 'p0rnopuppy': 27237, 'waynebrady': 27238, 'chu22': 27239, 'ryanriehle': 27240, 'ethiopian': 27241, 'starvin': 27242, 'buyfoodlittleguy': 27243, 'tresharenee': 27244, 'hiiighem143': 27245, 'snorted': 27246, 'comprehension': 27247, 'callous': 27248, 'boyyyyyyyy': 27249, 'burry': 27250, 'tightgripp': 27251, 'snows': 27252, 'brandonbaray': 27253, 'lillian': 27254, 'straightcash08': 27255, 'hiyathanda': 27256, 'alps': 27257, 'ynevereleven': 27258, 'vernnotice': 27259, 'cs': 27260, 'forgivemehera': 27261, \"myself'\": 27262, 'protecting': 27263, 'bussing': 27264, 'replacement': 27265, 'cast': 27266, 'midterm': 27267, 'yf1o8h99uz': 27268, 'kandyyammsz': 27269, 'funkydineva': 27270, 'commend': 27271, 'juumane': 27272, 'deodorant': 27273, 'vsrayshd5y': 27274, 'quezada': 27275, 'carlos7': 27276, 'ripstephanie': 27277, 'aeropostale': 27278, 'xm5s5hn7tq': 27279, 'ballout': 27280, 'scab': 27281, 'sweatshop': 27282, 'ivyleague1908': 27283, 'shat': 27284, 'dirtroaddon': 27285, 'deltas': 27286, '3lojkqm8zg': 27287, \"richie's\": 27288, 'sarahksilverman': 27289, 'boazziz': 27290, 'inurselisa': 27291, 'blackredsoxfan': 27292, 'jc2theq': 27293, 'dragonball': 27294, 'lilfridayhoe': 27295, 'teeeerenee': 27296, 'relavent': 27297, 'helliesmalls': 27298, 'nqylxquloc': 27299, 'roseanne': 27300, 'zzzquil': 27301, 'hoodiest': 27302, 'dere': 27303, 'osnapitzthorne': 27304, 'ome23y': 27305, 'edgewood': 27306, 'kirogx': 27307, 'bazinga': 27308, 'fvckzaina': 27309, 'jl7j8xpiih': 27310, 'alexalltimelow': 27311, 'jackalltimelow': 27312, 'tweetstar10': 27313, '176': 27314, 'businessopportunity': 27315, 'basedjane': 27316, 'annalise': 27317, 'xkch9wjuag': 27318, 'dvabpmgqjo': 27319, 'shythugg': 27320, 'beauutifulnae': 27321, 'wildnigga': 27322, 'zelda': 27323, 'cp88aa7pms': 27324, 'lilbthebiggsgod': 27325, 'kirkland': 27326, 'biggs': 27327, 'okaaaaay': 27328, 'robert4709': 27329, 'jazkccc9le': 27330, '4dvj9shrj5': 27331, 'firearmsdaily': 27332, 'statistics': 27333, 'fd': 27334, 'sparkles': 27335, 'hallelujah': 27336, 'lavergne': 27337, 'vein': 27338, 'angola': 27339, 'supa': 27340, 'amyalkon': 27341, 'admins': 27342, \"kids'\": 27343, 'funds': 27344, 'raynexxx': 27345, 'nhl': 27346, 'natsukun1': 27347, 'drecordero': 27348, 'premier': 27349, 'droolin': 27350, 'boutchu': 27351, 'imalagirl': 27352, 'drizz': 27353, 'lakerking': 27354, 'invader': 27355, 'zim': 27356, 'kyyckry6qk': 27357, 'booby': 27358, 'f30ly2jiqp': 27359, 'iggaoog0k7': 27360, 'sacto': 27361, 'dondelarente': 27362, 'kandi': 27363, 'burress': 27364, 'fuxing': 27365, 'xscape': 27366, 'lakerstv': 27367, 'scrimmage': 27368, '3njzfytc1r': 27369, 'ilovedrunkgirls': 27370, 'dseanassafool': 27371, 'ypggsf64ea': 27372, 'luda': 27373, 'blackbeauty515': 27374, 'ufywcc9xci': 27375, 'cuteciothes': 27376, 'shelbie': 27377, 'reaaallly': 27378, 'samistonge': 27379, 'rush': 27380, 'ilk': 27381, 'britnigiles': 27382, 'geewillikers': 27383, 'chitlings': 27384, 'taylorlynn': 27385, 'isley': 27386, 'bkplt6d9ax': 27387, '26th': 27388, 'fuckwhatyouheard': 27389, 'rascally': 27390, 'firefighters': 27391, 'biggovernment': 27392, 'oy': 27393, 'vey': 27394, 'boosierene': 27395, 'waive': 27396, 'gstar': 27397, 'suspenders': 27398, 'dissenters': 27399, 'patiently': 27400, 'awaiting': 27401, 'thirsting': 27402, 'dnainfochi': 27403, 'replacing': 27404, 'boundary': 27405, \"park's\": 27406, 'variety': 27407, 'migratory': 27408, 'swilla': 27409, 'mel0': 27410, 'yell0w': 27411, 'rachael': 27412, 'goss': 27413, 'bibles': 27414, 'leche14': 27415, 'hayyllss': 27416, 'amjyek77qa': 27417, 'imdiketurner': 27418, 'dwdg7dnwxw': 27419, 'cloudprojection': 27420, 'shud': 27421, '4p3mk58gc4': 27422, 'sheisjasnicole': 27423, 'vodkathoughts': 27424, 'powered': 27425, 'jaceyjanette': 27426, 'crackhead': 27427, 'cheaters': 27428, 'maaco': 27429, 'nq56zkpjhj': 27430, 'pacos': 27431, 'idt': 27432, 'janisjayy': 27433, 'owne1235': 27434, 'cydgoop9yz': 27435, 'washingtonpost': 27436, 'w9ctzkcxcj': 27437, 'gjk1979': 27438, 'fluutekies': 27439, 'moniquesparla': 27440, 'maanden': 27441, 'pers': 27442, 'stel': 27443, 'hoeren': 27444, 'felipefrost23': 27445, 'accustomed': 27446, 'muchyour': 27447, 'pekholt': 27448, \"symone's\": 27449, 'mkx0d4bh2q': 27450, 'guardian': 27451, 'argentina': 27452, 'twirling': 27453, 'towels': 27454, 'ijifh5fvo0': 27455, 'getty': 27456, 'rckp': 27457, 'yoked': 27458, 'truckpartstores': 27459, 'intended': 27460, 'convoy': 27461, 'vast': 27462, 'skits': 27463, 'lag': 27464, 'idfk': 27465, 'bitchimastunna': 27466, 'bubba': 27467, 'lissetelisa': 27468, 'juan': 27469, 'tbb': 27470, 'ryrystine': 27471, 'bombass': 27472, 'andrewbryant': 27473, 'velweb': 27474, 'vitamins': 27475, 'heimlich': 27476, 'maneuver': 27477, 'ayeeeee': 27478, 'rightinher': 27479, 'pssy': 27480, '3yw7mhlrhu': 27481, 'bayless': 27482, 'hull': 27483, 'fcbarcelona': 27484, 'strikers': 27485, 'clasico': 27486, 've6rhxss4x': 27487, 'yjhuba6huw': 27488, 'follownova': 27489, 'zachirving': 27490, 'whass': 27491, 'hannin': 27492, 'jl4guiej84': 27493, 'erinsabersix': 27494, 'bandos': 27495, 'slayer': 27496, 'helm': 27497, 'droppies': 27498, 'collinaudre': 27499, 'waco': 27500, 'joebiden': 27501, 'irritatedwoman': 27502, 'bqx1iev0wd': 27503, 'motor': 27504, 'idclogan': 27505, 'upholds': 27506, 'detest': 27507, 'scottvtracy': 27508, 'abuyazidmuawiya': 27509, 'amustafaanbari1': 27510, 'reinforcing': 27511, 'stereotype': 27512, 'uneducated': 27513, 'itsz': 27514, 'princessz': 27515, 'phocus': 27516, 'bossshltonly': 27517, 'o7uskcmfcd': 27518, 'othot': 27519, \"30'd\": 27520, 'elderlwm': 27521, 'southeastqueen': 27522, 'alwaysonwatch': 27523, 'globalforceforgood': 27524, 'keshhh': 27525, 'bulldogs': 27526, 'hellocupkake': 27527, 'mza361': 27528, 'nicoleadietrich': 27529, 'cersei': 27530, 'valued': 27531, 'bakedbeansbro': 27532, 'gvgmjj6vyi': 27533, 'stvtch': 27534, 'shamu': 27535, 'seaword': 27536, 'bitterness': 27537, 'izzetheproducer': 27538, 'ibuki': 27539, 'rosebud': 27540, 'kpxrszvd9k': 27541, 'nassau': 27542, 'stephanieschall': 27543, 'reinhard96': 27544, 'just2savage': 27545, 'flotation': 27546, 'kimberlymt413': 27547, 'nuggas': 27548, 'jaaaayr': 27549, 'youngjeezy': 27550, 'trappin': 27551, 'seenitall': 27552, 'seenitalltheautobiography': 27553, 'fckwhatyathink': 27554, 's2g': 27555, 'sqbyduizr8': 27556, 'wfopitei': 27557, 'pissyopants1': 27558, 'sourpowerdre': 27559, 'monique504q': 27560, 'byekandace': 27561, 'kstills': 27562, 'haztv': 27563, 'darriondadon': 27564, 'omgod': 27565, 'kobeshia': 27566, '2bfbfbvlva': 27567, 'janesports': 27568, '15m': 27569, \"sarahspain's\": 27570, 'column': 27571, 'ridiculousness': 27572, 'uglygawd': 27573, 'thirsts': 27574, 'ov': 27575, 'dugoutlegends': 27576, 'fractures': 27577, '130': 27578, 'ironhorse': 27579, 'o6sofyoh': 27580, 'emmaleeenaa': 27581, 'chaserojo': 27582, 'girlfriendnotes': 27583, 'rayhudson': 27584, 'bestthe': 27585, 'pious': 27586, 'scarlet': 27587, 'winds': 27588, 'sobbing': 27589, 'erybody': 27590, 'auditorium': 27591, 'v8tgqheag8': 27592, 'dedepayton': 27593, 'althea': 27594, '1usagrunt': 27595, 'questioniaskmyself': 27596, 'tuh': 27597, 'solve': 27598, 'crowded': 27599, 'hott': 27600, 'heauxs': 27601, 'juiccey': 27602, 'juliesnark': 27603, 'tellyjellybelly': 27604, \"water's\": 27605, 'biackiechan': 27606, 'tonedagawd': 27607, 'curtdatnigga': 27608, 'maddiston': 27609, 'timmurphyy': 27610, 'ultra': 27611, 'zing': 27612, 'ufgatorfamily': 27613, 'incase': 27614, 'lj168ktccp': 27615, 'hairstyle': 27616, 'invisiblebird': 27617, 'iltshxlyjd': 27618, 'willed': 27619, 'bignorton': 27620, 'niggasuprized': 27621, 'pombuenaa': 27622, 'averagexbishop': 27623, 'rcummings8': 27624, 'circumstances': 27625, 'bobgnarlee': 27626, 'whereisperry': 27627, 'fr1aaiv42x': 27628, '103': 27629, 'm00n': 27630, 'jtl7uis2ym': 27631, 'khamillkilroy': 27632, 'blakcocaine': 27633, 'dacing': 27634, 'stadiums': 27635, 'diaphragm': 27636, 'nikkiinick22': 27637, 'gwendolync28': 27638, 'kitcoskjones': 27639, 'e35igelt4w': 27640, 'startmikevike': 27641, 'convenience': 27642, 'keystone': 27643, 'hampshire': 27644, 'dakota': 27645, 'bryanstars': 27646, 'relapse': 27647, 'symphony': 27648, 'parade': 27649, 'paramore': 27650, 'bachelor': 27651, 'stooped': 27652, 'badazz': 27653, 'jspates': 27654, 'wym': 27655, 'ambitious': 27656, 'thisty': 27657, \"6'1\": 27658, 'mohamed': 27659, '2yuidrln3k': 27660, 'z8gaiwllye': 27661, 'thetumblrposts': 27662, '6ovxrttxtn': 27663, 'tina16': 27664, 'dblite': 27665, 'charm': 27666, 'openwrt': 27667, 'arduino': 27668, 'gyp': 27669, '4jrj1ezc1s': 27670, 'muffin': 27671, 'kevinkong713': 27672, 'fisted': 27673, 'cowardly': 27674, 'doeeee': 27675, 'fratfession': 27676, 'sigma': 27677, 'epsilon': 27678, 'aurie': 27679, 'lfwc3lsrjo': 27680, 'soopdevilles': 27681, 'dami3n00': 27682, 'yctt56cxk5': 27683, \"'red\": 27684, \"lines'\": 27685, 'lyrical': 27686, 'u3pzev9e9q': 27687, 'tol': 27688, 'on4s': 27689, 'trued': 27690, 'freeybb': 27691, 'sirens': 27692, 't33': 27693, 'krizanovic': 27694, 'hwnah5btw6': 27695, 'bumoose': 27696, 'kcjhoop': 27697, 'flite': 27698, 'op5stgzx2k': 27699, 'supper': 27700, 'stonyxx': 27701, 'ahhhhh': 27702, 'vg9m9lskel': 27703, 'breezypetey': 27704, 'spence1reed': 27705, 'candielissa': 27706, 'twitrless': 27707, 'elissareillys': 27708, 'helenkimfitz76': 27709, 'grotesmurf0': 27710, 'illmartino': 27711, 'kangucup3': 27712, 'goh': 27713, 'anoniemeaso': 27714, 'pauze': 27715, 'steeds': 27716, 'hoofdstuk': 27717, 'haal': 27718, \"m'n\": 27719, 'djweezlove': 27720, 'versi': 27721, 'porno': 27722, 'capitalizing': 27723, 'schleeeeeeeeeeppppppp': 27724, 'chadmfverbeck': 27725, 'richnow': 27726, 'prople': 27727, 'mrnationwide': 27728, 'monahan': 27729, 'tooturntnacho': 27730, 'duhitsadrii': 27731, 'vsgcwtn4j6': 27732, 'blndsundoll4mj': 27733, 'vocies': 27734, 'lockthatbitchup': 27735, 'faaaaggggottttt': 27736, 'sidelined': 27737, 'concussion': 27738, 'stalker': 27739, 'pickett': 27740, 'badddddd': 27741, 'magnums': 27742, 'shirty': 27743, 'things4whiteppl': 27744, '55bxg7pbng': 27745, 'rik': 27746, 'fiair': 27747, 'y09waoe4em': 27748, '127830': 27749, '127837': 27750, '127844': 27751, '127835': 27752, 'assgods': 27753, 'imdatdudefish': 27754, 'thotgoals': 27755, 'fetching': 27756, 'concourse': 27757, 'mistaken': 27758, 'missundersto': 27759, 'naughtyturnons': 27760, 'masteroshi': 27761, 'migosconcert': 27762, 'hotnigga': 27763, 'eminoelle': 27764, 'soab': 27765, '6cgdxrzo8w': 27766, 'whoistie': 27767, 'stooping': 27768, 'cheyycheyy8': 27769, 'smileitsalexx': 27770, 'mhmmm': 27771, 'boburnham': 27772, 'straggots': 27773, '11k': 27774, 'rockwell': 27775, 'lynchberg': 27776, 'armo': 27777, '5lfxmdyu2g': 27778, '63': 27779, 'roulette': 27780, 'luvvida': 27781, 'pissinindabedassboy': 27782, 'bestassbestface': 27783, 'gainz': 27784, 'mirin': 27785, 'slone': 27786, 'jccwatch': 27787, 'socalledleader': 27788, 'icewataa': 27789, 'mhs': 27790, 'jvbir': 27791, 'jacquibreed': 27792, 'conserv': 27793, 'tribune': 27794, 'sugapuss': 27795, 'lnsightful': 27796, 'kindergarden': 27797, 'swahili': 27798, 'suaw': 27799, 'ceallaighaine': 27800, 'heal': 27801, 'dancerproblems': 27802, 'bain': 27803, 'lh4uzqxbei': 27804, 'emmanillanilla': 27805, 'tailgating': 27806, 'switched': 27807, 'lanes': 27808, 'biatch': 27809, 'trevaughn3': 27810, 'adriwadrri': 27811, 'knockdowns': 27812, 'mafreedom': 27813, 'connection': 27814, 'legitimizing': 27815, \"std's\": 27816, 'deviancy': 27817, 'itsjusmejojo': 27818, 'marsh': 27819, 'mellows': 27820, 'mayoral': 27821, 'rwhgmrlazx': 27822, 'somethingigetalot': 27823, 'itsclaribelyo': 27824, 'hibernating': 27825, 'bluprint': 27826, 'scooting': 27827, 'dependent': 27828, 'tambout': 27829, 'blaaksuedepumps': 27830, '445': 27831, 'keim': 27832, 'shepnewsteam': 27833, 'natal': 27834, 'mendoz': 27835, 'imgonzoe': 27836, 'bf90amgwpo': 27837, 'talibanshawtyy': 27838, 'sugaarcanee': 27839, 'peterdavidsonii': 27840, 'thw': 27841, 'fargo': 27842, 'aquarium': 27843, 'parr': 27844, 'dregambiino': 27845, 'flo': 27846, 'swfpgrbliv': 27847, 'ltomasiello75': 27848, 'lift': 27849, 'boutcrazed': 27850, 'presidentrjrock': 27851, 'aldofelix': 27852, 'izzayy': 27853, 'shitttt': 27854, 'andrewwayne2': 27855, 'terio': 27856, 'nudesaremylife': 27857, \"'bitches'\": 27858, 'individually': 27859, 'katt': 27860, 'letmicahdown': 27861, 'purplecaine': 27862, 'kiralajasmine': 27863, 'traps': 27864, 'richxinxflavor': 27865, 'polliepopthadj': 27866, 'alightskinnigga': 27867, 'ynbwcmgeb4': 27868, 'sbacilio1224': 27869, 'neta': 27870, 'naah': 27871, 'submissive': 27872, 'zac': 27873, \"efron's\": 27874, 'noshame': 27875, 'gayboyproblems': 27876, 'ayemr': 27877, 'foreman': 27878, '61zy8cc47j': 27879, 'thatssoryannn': 27880, 'kannie': 27881, 'vonnie': 27882, 'crissi': 27883, 'hawaii': 27884, 'iza7lil1oz': 27885, 'soundtracktoky': 27886, 'jennymccarthy': 27887, 'kxllcity': 27888, '3peat': 27889, 'mdizzle9000': 27890, 'msvavavoom': 27891, 'forevernee': 27892, 'bestofworldstar': 27893, 'ijs0b0vtoy': 27894, 'cramping': 27895, 'bornhvstler': 27896, 'hoethea': 27897, 'fuckssss': 27898, 'colinkane': 27899, 'pacing': 27900, 'pursue': 27901, 'sonniejohnson': 27902, 'births': 27903, 'latinos': 27904, 'tnt': 27905, 'acdc': 27906, 'amil': 27907, 'brrrrangadang': 27908, 'katewhinehall': 27909, 'butchered': 27910, 'sellis1994': 27911, 'coryritter': 27912, 'rtoohill': 27913, 'farmersims': 27914, 'agronomist': 27915, 'instigate': 27916, 'involving': 27917, 'jd': 27918, 'beyoncehasstd': 27919, 'xpphpxd46p': 27920, 'associates': 27921, 'goofball': 27922, 'pl7qsas15b': 27923, 'equalizer': 27924, 'facial': 27925, 'facialized': 27926, 'kd9nu3tmwz': 27927, 'thenewsat': 27928, 'newsatquestions': 27929, 'jesse': 27930, 'pinkman': 27931, 'machinegunkelly': 27932, 'ceeismee': 27933, 'autozone': 27934, 'wiper': 27935, 'tifqceests': 27936, 'compromise': 27937, 'hashtags': 27938, 'makeshitup': 27939, 'justification': 27940, 'a6giljee4x': 27941, 'steppers': 27942, 'pablyandrew': 27943, 'mccartney': 27944, 'woodall': 27945, 'jbsoprano': 27946, 'suga': 27947, 'titts69': 27948, 'succsess': 27949, 'msaprylj': 27950, 'wombraider773': 27951, 'yoo': 27952, '4sqz7tvp4v': 27953, 'o8jozokfei': 27954, 'biggg': 27955, 'mackkk': 27956, 'kthxbai': 27957, 'geezuss562': 27958, 'fuxker': 27959, 'elleeebeee': 27960, 'nurbstheocho8': 27961, 'credits': 27962, 'seagulls': 27963, 'nemo': 27964, 'dropdeadfred11': 27965, 'thepizzafacts': 27966, 'ey': 27967, 'dougiyfe': 27968, 'tatyanashells': 27969, 'y89oj5yh9m': 27970, 'rellos': 27971, 'igottfanss': 27972, 'thuglifeisdead': 27973, 'lucia': 27974, 'barbara': 27975, 'dnrcmkg5oo': 27976, 'athietechamp': 27977, 'hobokarl': 27978, 'rambling': 27979, 'lustful': 27980, 'a5': 27981, 'bitchhh': 27982, 'smackhighaz': 27983, 'seton': 27984, 'realthreat': 27985, 'nv5qbzaviv': 27986, 'abstraktalante': 27987, 'bumpkin': 27988, 'abpfzgju': 27989, 'twentysix': 27990, 'pappy': 27991, '5x2': 27992, 'sable': 27993, 'paintbrushes': 27994, '4gybei5mkl': 27995, 'saimigi': 27996, 'digiflorals': 27997, 'hunnids': 27998, 'dop3sweet': 27999, 'ohk': 28000, 'koko': 28001, 'shaven': 28002, 'beekayns': 28003, 'proficient': 28004, 'memorization': 28005, 'hiv': 28006, 'swirl': 28007, 'kingkwama': 28008, \"hoe'd\": 28009, 'hd': 28010, 'bearfaced': 28011, 'yusa': 28012, 'sexualmedic': 28013, 'qq94n1rd5n': 28014, 'lima': 28015, 'fears': 28016, 'aprivilege': 28017, 'disingenuous': 28018, 'mybabyisallgrownup': 28019, '128161': 28020, 'ay30mayne': 28021, 'mindless': 28022, 'donaldblack1995': 28023, 'deadlygilinsky': 28024, 'weedhumor': 28025, 'gateway': 28026, 'increased': 28027, 'hunkie': 28028, 'democr': 28029, 'hjhdyhdhlgjdftilh': 28030, 'christianvansly': 28031, 'barca': 28032, 'lebrons': 28033, 'scholarship': 28034, \"usin'\": 28035, 'weavetrip': 28036, 'sails': 28037, 'workouthumor': 28038, 'jik7ofqmbe': 28039, 'markiiejay': 28040, 'loxodonta': 28041, 'antisemitism': 28042, 'condemns': 28043, 'shylocks': 28044, 'onnaa': 28045, 'allyssasss': 28046, 'bleus': 28047, 'fucn': 28048, 'chillllll': 28049, 'ouutttt': 28050, 'oluwakaponeski': 28051, 'ontop': 28052, 'sulerte26': 28053, 'acquire': 28054, 'rsmi4p7o6u': 28055, 'beautifulcallen': 28056, 'jt12': 28057, 'quisiera': 28058, 'amarte': 28059, 'dijo': 28060, 'krfe8nxwnz': 28061, 'hetro': 28062, 'takee': 28063, 'benzo': 28064, 'dillyduzit': 28065, 'bitterchick': 28066, 'bowf': 28067, 'misszindzi': 28068, 'apablo29': 28069, 'swaggot': 28070, 'therealcortlan': 28071, 'optic': 28072, 'nadeshot': 28073, 'prosyndicate': 28074, 'qwcuna7vcv': 28075, 'megamindnick': 28076, 'franch': 28077, 'heffa': 28078, 'dbab': 28079, 'holloway': 28080, '12th': 28081, 'dyyvrejam3': 28082, 'persona': 28083, 'paymon': 28084, \"'09\": 28085, 'guccimanequote1': 28086, 'qs': 28087, 'pixie': 28088, 'turtles': 28089, 'outlawed': 28090, 'rediculed': 28091, 'vilified': 28092, \"president's\": 28093, 'selfmadephat': 28094, 'sfvcndhwzv': 28095, 'urges': 28096, 'restraint': 28097, 'butchers': 28098, 'chelseaxlaser': 28099, 'heterosexual': 28100, 'trayvonmartin': 28101, 'peanuts': 28102, 'halfway': 28103, 'cremes': 28104, 'worldseriesgame3': 28105, 'pence': 28106, 'vyvanse': 28107, 'imtall': 28108, 'brandonjennings': 28109, 'bushalmighty': 28110, 'kazooook': 28111, 's9gmtevpat': 28112, 'tikiti': 28113, 'ashtray': 28114, '8ze8aqy0': 28115, 'aprilstearns': 28116, 'gn192': 28117, 'rwnj': 28118, \"d'souza\": 28119, 'weirdlilthingz': 28120, 'lexieeller': 28121, 'ihavesex': 28122, 'shiit': 28123, 'barbies': 28124, 'realzachk0enn': 28125, 'itsonlyjess': 28126, 'lukefriendyy': 28127, 'selectionsunday': 28128, '2for5': 28129, 'abam30gsk4': 28130, \"watchin'\": 28131, \"makin'\": 28132, 'linguine': 28133, 'otis': 28134, 'redding': 28135, 'tynodollasign': 28136, 'fym': 28137, 'bsbhforum': 28138, 'beatthehabs': 28139, 'nyr': 28140, 'okvhwhy3vh': 28141, 'canadiensmtl': 28142, 'hog': 28143, 'pxmga68nc1': 28144, 'tprevwfq0s': 28145, 'rii': 28146, 'wbcfredjr': 28147, 'holic': 28148, 'hospice': 28149, 'doody': 28150, 'household': 28151, \"friggin'\": 28152, 'therealgeorgez': 28153, 'bubblegum': 28154, 'squats': 28155, 'distract': 28156, 'icu': 28157, 'sincerelyayla': 28158, 'newyorkcity': 28159, 'cpsqueak': 28160, 'behave': 28161, 'hibachi': 28162, 'jemapelledalila': 28163, '1oo': 28164, 'yeahhhmans': 28165, 'kimcampano': 28166, 'popup82': 28167, 'concentration': 28168, 'aleahmonique': 28169, 'turnoff': 28170, 'faggs': 28171, 'blacklisted': 28172, 'tehgodclan': 28173, 'xuccwoetmn': 28174, 'sparklelikezen': 28175, 'highrus': 28176, 'shylooooeee': 28177, 'wxkj826b1e': 28178, 'pomegranate': 28179, 'balanced': 28180, 'crispy': 28181, 'vouch': 28182, 'bruins': 28183, 'scouting': 28184, 'firechoreli': 28185, 'yongguk': 28186, 'ajumma': 28187, 'gyyeayzrjy': 28188, 'hotdogs': 28189, 'dtholcomb32': 28190, 'cushion': 28191, 'gottaluvlexci': 28192, 'placement': 28193, 'kayyy': 28194, 'hirin': 28195, 'f0ntmvcdio': 28196, 'missingtheaussies': 28197, 'jihadistjoe': 28198, 'honour': 28199, 'slaughter': 28200, 'lyric': 28201, 'simplycaitlin': 28202, 'viixxiv': 28203, 'gwt19xixuz': 28204, 'simpsonsqotd': 28205, 'kearney': 28206, 'dk7rcqm1fs': 28207, 'intvw': 28208, 'itwas': 28209, 'dswizzle': 28210, 'glittery': 28211, 'lyb3thm199': 28212, 'breebgorgeous': 28213, 'byers': 28214, 'whecp5kdci': 28215, 'rightwingertoo': 28216, 'solar': 28217, '8zqnlr5fh5': 28218, 'lwdxrvjceu': 28219, 'depresseddarth': 28220, 'meets': 28221, 'm9unrz6syr': 28222, 'jadenleann': 28223, 'krug': 28224, 'speculation': 28225, 'cdnrod': 28226, 'preventing': 28227, 'in2': 28228, 'i70shutdown': 28229, 'roe': 28230, 'flightrisk': 28231, \"95's\": 28232, 'ughh': 28233, '2live': 28234, 'jesstoth': 28235, 'burner': 28236, 'fab': 28237, 'blastography': 28238, 'rniswirvinn': 28239, 'lilkev': 28240, 'pykjhqbp19': 28241, 'macklovin': 28242, 'motherfuckas': 28243, 'trbopwkaug': 28244, 'outgoing': 28245, 'czarzellem': 28246, 'stoprush': 28247, 'amhistorymuseum': 28248, 'redskinsblow': 28249, 'asvab': 28250, 'bel7unzglt': 28251, 'purrdylaylayxxx': 28252, 'tqs3wpa6o7': 28253, '405': 28254, 'ewuin0jt3y': 28255, 'th7nniwju8': 28256, 'haseenabakhtali': 28257, 'steen020': 28258, 'madraq': 28259, 'altyd': 28260, 'geweest': 28261, 'vaak': 28262, 'zegt': 28263, 'dit': 28264, 'nooit': 28265, 'lozewoorden': 28266, 'puntjebijpaaltje': 28267, 'vertonen': 28268, 'dierngedrag': 28269, 'flowerlela': 28270, 'imtiaralesha': 28271, 'traceydee98': 28272, 'stevedischiavi': 28273, \"'walking\": 28274, \"dead'\": 28275, 'mend': 28276, 'usmc': 28277, 'jaystacks25': 28278, 'baseddizenn': 28279, 'lq0xiuqjmr': 28280, 'slumber': 28281, 'fap': 28282, 'acmobbdeep': 28283, 'sugarhillgang00': 28284, 'flyers': 28285, 'crr': 28286, 'militia': 28287, 'alexisxisabel': 28288, 'launches': 28289, 'godaddy': 28290, 'sopa': 28291, 'oroozco16': 28292, 'beyoutiful': 28293, 'pris': 28294, 'fd5cioehgg': 28295, 'diaries': 28296, 'katgraham': 28297, 'furrystoat': 28298, 'nohomo': 28299, 'sexuality': 28300, 'biertempfeltrib': 28301, 'jimbowdenespnxm': 28302, 'polanco': 28303, 'cleaners': 28304, 'y6pfs0kpvz': 28305, 'wizdom': 28306, 'baptism': 28307, 'sven': 28308, 'hij': 28309, 'lichter': 28310, 'kleur': 28311, 'beter': 28312, 'kompas': 28313, 'werkt': 28314, 'kleurenblind': 28315, '10006': 28316, '2fbkhkqija': 28317, 'basicbitches': 28318, 'lenses': 28319, 'uberfoxy': 28320, 'linniekravitz': 28321, 'dasmycxodb': 28322, 'traditional': 28323, 'religions': 28324, 'baked': 28325, 'elenaraquel': 28326, 'annnnd': 28327, 'unwrap': 28328, 'outraged': 28329, 'dabbba': 28330, 'pinchehonkey': 28331, 'tractor': 28332, 'socosopretty': 28333, 'mlbstatoftheday': 28334, '1914': 28335, '91': 28336, '121': 28337, 'broculture': 28338, 'knocks': 28339, 'mortal': 28340, 'kombat': 28341, 'liu': 28342, 'kang': 28343, 'cooned': 28344, 'merk': 28345, 'awwsome': 28346, 'spinrilla': 28347, 'owxtdrkwbc': 28348, 'mold': 28349, 'shelbylavelle': 28350, 'dasmacker': 28351, 'umchillbreaux': 28352, 'erickruiz45': 28353, 'lastqueencyn': 28354, 'ddjsb5itcd': 28355, 'hayybacon': 28356, 'phizzyph0': 28357, 'twitterlessalex': 28358, 'britbritt22': 28359, 'loren': 28360, 'oq3jnn7fwo': 28361, 'outtheordinary1': 28362, 'p0wers': 28363, 'egoatizm': 28364, 'blaztful': 28365, 'themoeeee': 28366, 'thegawd': 28367, 'ants': 28368, 'sneweather': 28369, 'naziabee': 28370, 'treasures': 28371, 'access': 28372, 'bigbagofscum': 28373, 'md': 28374, 'diagnosis': 28375, '1captaindrew': 28376, 'supp': 28377, 'knockin': 28378, 'dent': 28379, 'cwhqm47v6t': 28380, 'idgafmode': 28381, 'jedah': 28382, 'nottin': 28383, 'baconparadox': 28384, 'saraschaefer1': 28385, 'douglas': 28386, 'jllve': 28387, 'peidroh': 28388, '85swwyxmnz': 28389, 'maaaaannnn': 28390, 'abrown252': 28391, 'doseofoc': 28392, 'attempts': 28393, 'mundy': 28394, '8ha6xac0h5': 28395, 'persian': 28396, 'yokbfilthy': 28397, 'k3l15zobgz': 28398, 'foreverfamous': 28399, 'qm5xdxnqyn': 28400, 'kyranadiya': 28401, 'h1ubsvbkgl': 28402, 'kknd87mv4b': 28403, 'kag0xfdd1s': 28404, 'idntluvhoes': 28405, 'twostarscoob': 28406, 'choosy': 28407, 'yungugiy': 28408, 'kpips': 28409, '7yvxijmmcp': 28410, 'wilnerness590': 28411, 'jmart96': 28412, 'relievers': 28413, 'waanderlusting': 28414, 'justinswift7oh2': 28415, 'censorship': 28416, 'empowering': 28417, 'censoring': 28418, 'wholesale': 28419, 'nawfside': 28420, 'o0sk0sm40f': 28421, 'godiva': 28422, 'osypnadyto': 28423, 'darrenrovell': 28424, 'gravweldon': 28425, 'kvzhlmcsls': 28426, 'dicklicker': 28427, 'fudg': 28428, 'uw': 28429, 'dolly': 28430, 'parton': 28431, 'broneadams': 28432, 'ismashedyogurl': 28433, 'jonathan': 28434, 'bino': 28435, '128209': 28436, 'cactus': 28437, 'laquishabae': 28438, 'arresting': 28439, 'fastfoodstrike': 28440, 'talkhawkz': 28441, 'kmm': 28442, 'traplordgrant': 28443, 'reused': 28444, 'allthingsfresh3': 28445, 'anandpradhan': 28446, 'kavita': 28447, 'krishnan': 28448, 'anand': 28449, 'salwar': 28450, 'digvijaysingh': 28451, 'blessedarti': 28452, 'justhad': 28453, 'fierce': 28454, 'swagg': 28455, '0ddtoddler': 28456, 'colormeprettyyy': 28457, 'tavia': 28458, 'pounding': 28459, 'pulsing': 28460, 'thrills': 28461, 'lvodrmiwih': 28462, 'vinyldanyl': 28463, 'bleedinglsd': 28464, '1yimftrtzw': 28465, 'define': 28466, 'linguistics': 28467, 'olde': 28468, 'derivatives': 28469, 'thingsnottodoonafirstdate': 28470, 'anoyin': 28471, 'eidolon': 28472, 'ebooks': 28473, 'dreamt': 28474, 'chanseydarapper': 28475, 'dwyanewade': 28476, 'makeyourownway': 28477, 'wayofwade': 28478, 'aravosis': 28479, 'wad': 28480, 'dloesch': 28481, 'chisme': 28482, \"cannon's\": 28483, 'meldigio': 28484, \"y'alls\": 28485, 'thatscomplex': 28486, 'uhaon0tjdw': 28487, 'toothpaste': 28488, 'coles': 28489, 'immigrant': 28490, 'kevnasto': 28491, 'eie8d8c5cj': 28492, 'holmezz': 28493, 'mwxqnjm4so': 28494, 'cuzimdaddy': 28495, '5feet': 28496, '0inches': 28497, 'dreamvillainous': 28498, 'searches': 28499, 'nearest': 28500, 'kaylynkitz': 28501, 'hears': 28502, 'brookbristow': 28503, 'bigassmoustache': 28504, 'tyrinflyguy': 28505, 'lonniedukes': 28506, 'hak': 28507, '0xabad1dea': 28508, 'qa': 28509, 'unit': 28510, 'capri': 28511, 'pellucidstyles': 28512, 'thatbajankidd': 28513, 'neveraskablackperson': 28514, 'landroverusa': 28515, 'disco': 28516, 'recovery': 28517, 'thejess': 28518, 'lynne': 28519, 'itzmeggo': 28520, 'rollyup23': 28521, 'hoooow': 28522, 'theironpony': 28523, '3redspositives': 28524, 'arella': 28525, 'pedicures': 28526, 'crw': 28527, 'wrenching': 28528, 'shaniqua': 28529, 'asssofathairsoreal': 28530, 'endeth': 28531, 'granted': 28532, 'pucksk8r': 28533, 'ware': 28534, 'chrisheben': 28535, \"motherfuckin'\": 28536, \"slingin'\": 28537, '2aueveeawn': 28538, '10yadnrfks': 28539, 'qsgycvcvap': 28540, 'beam': 28541, 'heavens': 28542, 'deedee': 28543, \"timmy's\": 28544, 'gmix': 28545, 'reginaldspears': 28546, 'brantly': 28547, 'disconnected': 28548, 'shmediums': 28549, 'kindergarten': 28550, 'yasser': 28551, 'hajar': 28552, 'undergroundculture': 28553, 'makeanothahov': 28554, 'enuff': 28555, 'takendown': 28556, 'humping': 28557, 'rong': 28558, 'geechiegal843': 28559, 'ee': 28560, 'thecheekyd': 28561, 'majorleauge': 28562, 'worshipped': 28563, 'whosealisha': 28564, 'spun': 28565, 'successes': 28566, 'm6r2lwafrv': 28567, 'cooliedaggera': 28568, 'ruga': 28569, 'bussed': 28570, 'cookie86': 28571, \"ds's\": 28572, 'antonio10': 28573, 'miguelito': 28574, 'sorry4thewait': 28575, 'clashes': 28576, 'domo': 28577, 'peru': 28578, 'jdsvcgqfqn': 28579, 'seeeeen': 28580, 'faceeeee': 28581, 'maa': 28582, 'zlarge20': 28583, 'snuff': 28584, 'prostitutes': 28585, 'montagkeys': 28586, 'sloth': 28587, 'department': 28588, 'isn': 28589, '7vh4typmht': 28590, 'hustling': 28591, 'montulos': 28592, 'espa': 28593, 'fuuuuuuuuck': 28594, 'snowpiercer': 28595, 'kevinedwardsjr': 28596, 'bungie': 28597, 'givng': 28598, 'nno': 28599, 'caratcutclarity': 28600, 'jayucci': 28601, 'mfz': 28602, 'laser': 28603, 'beam26': 28604, 'xmason4lifex': 28605, 'tqmmnmkcyn': 28606, 'pumpkinheaddd': 28607, 'kingryin': 28608, 'nishachante': 28609, 'perro5070': 28610, 's6yj748if1': 28611, 'yurugly': 28612, 'thepharaoh': 28613, 'zapollo0803': 28614, 'mildlydarkskin': 28615, 'inspect': 28616, 'ntac': 28617, 'eileen': 28618, 'dahlia': 28619, 'coll': 28620, 'h0dyebvnzb': 28621, 'yeaimmaboss': 28622, 'lamp': 28623, 'fussy': 28624, 'mercurian': 28625, 'retrograde': 28626, 'affecting': 28627, 'yrnreggie': 28628, 'fcqfdki4zn': 28629, \"'shawty'\": 28630, 'tropical': 28631, 'upscale': 28632, 'darthdanaa': 28633, 'kvrmaa': 28634, 'studyfn': 28635, 'vlzed': 28636, 'scrawny': 28637, 'kierstens': 28638, '128025': 28639, 'simplyhype': 28640, '6rlenkr7ee': 28641, 'zzzzzz': 28642, 'mtchll': 28643, 'shaeboogie': 28644, 'fp3r6mkbac': 28645, 'bsa': 28646, 'hamseabdala': 28647, 'wde24qtbf6': 28648, 'judkins': 28649, 'fzuxlpcmpv': 28650, 'iammaliachigh': 28651, 'backpagepussy': 28652, 'de9o4ttths': 28653, 'washpost': 28654, \"crist's\": 28655, 'davidmasciotra': 28656, 'mfdwxmg8ic': 28657, 'headace': 28658, 'summ': 28659, 'maratheemodel': 28660, 'phila': 28661, 'heartofahustlah': 28662, 'feyenody': 28663, 'ieder': 28664, \"'t\": 28665, 'zijne': 28666, 'zaken': 28667, 'mag': 28668, 'noemen': 28669, 'wilt': 28670, 'namelijk': 28671, 'erg': 28672, 'vrijheid': 28673, 'meningsuiting': 28674, '128309': 28675, 'jvi4xrffod': 28676, 'x0jdphnw53': 28677, 'rightway2': 28678, 'mrwoofless': 28679, 'keepingupw': 28680, 'substitute': 28681, 'cocoqte': 28682, 'supbishes': 28683, 'joanna52011': 28684, 'lettuceprey8': 28685, 'bghtsjipne': 28686, 'hotsausage': 28687, 'doj': 28688, 'ufrr2rdcxm': 28689, 'danwashburn': 28690, 'muammar': 28691, 'gaddafi': 28692, '7g70popw': 28693, 'brendanschaub': 28694, 'tebow': 28695, 'privately': 28696, 'taped': 28697, 'miavenise': 28698, 'chiefope': 28699, 'badcombinations': 28700, 'usage': 28701, 'scored': 28702, 'yjowfmzikf': 28703, 'weazy': 28704, 'birdman': 28705, 'wxnx94bzoc': 28706, '201': 28707, 'itswhittytitty': 28708, 'damnear': 28709, 'goofstroop': 28710, \"huntin'\": 28711, 'npiq0js5uz': 28712, 'booksofgodwidom': 28713, 'proverbs': 28714, 'cometh': 28715, 'schooigiri': 28716, 'sirratchettness': 28717, 'tsallabt': 28718, 'cocked': 28719, 'gvfpk65ah5': 28720, 'zulu': 28721, 'niccib': 28722, 'zekedafreekk': 28723, 'latifah': 28724, 'contemplate': 28725, 'idgf': 28726, 'paullowry42': 28727, 'dishing': 28728, 'pts': 28729, 'gbush': 28730, 'sins': 28731, 'mayi': 28732, 'worsum': 28733, 'game6': 28734, 'torturebaseball': 28735, '1johnnycinco': 28736, 'chasemanhatttan': 28737, 'cantlie': 28738, 'furqan': 28739, 'wages': 28740, 'ideological': 28741, 'a9ynuopyvy': 28742, 'jakeysinclair': 28743, 'kamenmypants': 28744, 'assless': 28745, 'chaps': 28746, 'teezy': 28747, \"anyone's\": 28748, 'eit': 28749, 'laindiekid': 28750, 'selfiesonselfies': 28751, 'fcmlvtigbl': 28752, 'taunting': 28753, 'spreading': 28754, 'paranoia': 28755, 'tents': 28756, 'appeared': 28757, 'daesh': 28758, 'mosul': 28759, 'gh3ebbfb3t': 28760, 'lynnn': 28761, 'ohhhme': 28762, 'mlswmlarkf': 28763, 'brandynasty': 28764, 'donapollosan': 28765, 'viper5816': 28766, 'sen': 28767, 'bjowvabwhi': 28768, 'townhallcom': 28769, 'c4jnqwp9dw': 28770, 'mug': 28771, 'pow2shkwiz': 28772, 'kxnggerald': 28773, 'nations': 28774, 'ge6tnhxzaf': 28775, 'jeremyadams': 28776, 'aixvatjqxu': 28777, 'therealdiamondj': 28778, 'crowned': 28779, 'ghoul': 28780, 'ducey': 28781, 'douchy': 28782, 'azgov': 28783, 'azvotes': 28784, 'zoneing': 28785, 'omen': 28786, 'romans': 28787, 'trojans': 28788, 'tydunne': 28789, 'jameson': 28790, 'induced': 28791, 'briceokc': 28792, 'gfys': 28793, 'snitches': 28794, 'intention': 28795, 'zs05enjjwm': 28796, 'lloyd7121': 28797, 'petermickley': 28798, 'approximately': 28799, 'seal': 28800, 'hogannohulk': 28801, 'terrance': 28802, 'whohurtyou': 28803, 'imikedunn': 28804, 'rhonda': 28805, 'rousey': 28806, 'cellular': 28807, 'mlbfancave': 28808, 'konerko': 28809, 'st6qgjy0j6': 28810, '7zbgvh': 28811, '1oohx1y6xt': 28812, 'mite': 28813, 'seductiveally': 28814, 'sunstylesshinex': 28815, 'jyw85vmp8k': 28816, 'fourzerotwo': 28817, 'overpowered': 28818, 'slaughters': 28819, '2escape': 28820, 'sahara': 28821, 'mikeygotsteeze': 28822, 'sumgurl07': 28823, 'itweetfacts': 28824, 'z4u6npordz': 28825, 'dollywood': 28826, 'jllkzbhyoy': 28827, 'noelleonfox7': 28828, 'protestors': 28829, 'txxnmbpooa': 28830, '10hsw': 28831, 'myluca01': 28832, 'denisgorman': 28833, 'peddle': 28834, 'iesofab': 28835, 'likkadawgg': 28836, 'azl9o3pyze': 28837, 'hahhaha': 28838, 'pandaapussy': 28839, 'cockiest': 28840, 'vabtwin8211': 28841, 'sosadtoday': 28842, 'nomeatballs': 28843, 'velvet': 28844, 'krakin': 28845, 'ipem': 28846, 'lgcm88hsnp': 28847, 'cinammon': 28848, '1041681': 28849, '1041629': 28850, 'oy4x1yxhze': 28851, 'performed': 28852, 'mtv': 28853, 'brookenicole': 28854, 'questionoftheday': 28855, 'keauram': 28856, 'whitegoddesss': 28857, 'repost': 28858, 'gcsrbhqoqp': 28859, 'sycksyllables': 28860, 'l8wqzduzze': 28861, '293ymzdmun': 28862, 'revdennismiller': 28863, 'shuts': 28864, 'libdog': 28865, 'bark': 28866, 'punt': 28867, 'cuncher': 28868, 'plurizard': 28869, 'bridges': 28870, 'grudge': 28871, 'garciac28': 28872, 'enz': 28873, 'packers': 28874, 'pools': 28875, 'glenbrittle': 28876, 'isle': 28877, 'skye': 28878, 'scotland': 28879, 'cyi6xsvn97': 28880, 'itslenyybitch': 28881, '1marsb': 28882, 'mon': 28883, 'flintstone': 28884, 'hazelinaaax3': 28885, 'hrbek': 28886, 'kristiexox3': 28887, 'horoscopes': 28888, 'lilmissrightie': 28889, 'benghazis': 28890, 'loner': 28891, 'brandonbeslydin': 28892, 'southridge': 28893, 'eatmytattoos': 28894, 'sodamntrue': 28895, 'brianduroha1': 28896, '9xjtimrcsg': 28897, 'reedzy': 28898, 'shepissglitter': 28899, 'vrtg3dtnxc': 28900, 'irepfrisco': 28901, 'carolina': 28902, 'agie': 28903, 'sweet36': 28904, 'vedantebreh12': 28905, 'thewashoeclub': 28906, 'nedrock83': 28907, 'protocol': 28908, 'vintagevixen': 28909, 'ifthepurgewasreal': 28910, 'prostitute': 28911, 'madam': 28912, 'sasha': 28913, 'ii': 28914, 'atfierce': 28915, 'queenkhia': 28916, 'joshraggs': 28917, 'holdmycrown': 28918, 'daniellurrr': 28919, 'fkinlive': 28920, 'generous': 28921, 'mrredmartian': 28922, 'd1sinceday1': 28923, 'lagging': 28924, '215potter': 28925, 'quitting': 28926, 'ispfemme': 28927, '1tzpbhgmhp': 28928, 'ewerickson': 28929, 'jimnastikowski': 28930, '3quarters2day': 28931, 'memorize': 28932, 'highlight': 28933, 'shite': 28934, 'bosleyxavier': 28935, 'riptre96': 28936, 'teamjfk': 28937, 'ttukingsbury': 28938, 'morphing': 28939, 'flamboyant': 28940, 'onlyattheducksgame': 28941, 'rachaelkbrown': 28942, 'billybutlerkc': 28943, 'yaaagirlllmeggx': 28944, 'mesmart029': 28945, 'anilkohli54': 28946, 'madhutrehan': 28947, 'sard': 28948, 'beautysraj': 28949, 'g6xgmaqk52': 28950, 'mrspinkyyyy': 28951, 'commongaytweets': 28952, 'dammed': 28953, 'yello': 28954, 'bzrdl3kf7u': 28955, 'yummys': 28956, 'strocorleone': 28957, 'seeding': 28958, 'confrontation': 28959, 'masturbating': 28960, 'sticker': 28961, 'windsor': 28962, '127470': 28963, '127481': 28964, 'itsmekevin10': 28965, 'josie618': 28966, 'zaidsaracini': 28967, 'tbpouto6zr': 28968, 'y1rpitkiaf': 28969, 'jersrswhue': 28970, 'kevinmarin27': 28971, 'shawne': 28972, 'tex': 28973, 'drapermark37': 28974, 'tusks': 28975, 'pooci': 28976, 'btweekin': 28977, '88the7ezp7': 28978, 'mywaafd1yb': 28979, 'northphilliest': 28980, 'curbyourhoe': 28981, 'ao': 28982, 'mmaeo2gwes': 28983, 'ohsodestinee': 28984, 'xoodimpless': 28985, 'pleadin': 28986, '5ths': 28987, 'awesomeness': 28988, 'keejvwbgbr': 28989, 'favstartweets': 28990, 'vrsl': 28991, 'go1xtsuv6o': 28992, 'yerrp08': 28993, 'hoggin': 28994, 'bgally17': 28995, 'teammate': 28996, 'tld': 28997, 'wrongs': 28998, 'igg': 28999, 'aired': 29000, 'dickheads': 29001, 'iayanna': 29002, '6rv4jijprd': 29003, 'carin': 29004, 'enterin': 29005, 'j0mael': 29006, 'nz74wbsdbh': 29007, 'fanduel': 29008, 'seannn181': 29009, 'receipt': 29010, 'xya7alduhu': 29011, 'bbcwhorship': 29012, 'zficqys3dy': 29013, 'seed': 29014, 'wshh': 29015, 'sandraguzman': 29016, 'drhoagie': 29017, \"alzheimer's\": 29018, 'suffers': 29019, 'mak': 29020, 'flossing': 29021, 'zaybillions': 29022, \"kayne's\": 29023, 'ibsffuqag4': 29024, 'selection': 29025, 'shosdu7ryp': 29026, 'anne': 29027, 'mua87becca': 29028, 'yzjvcu77nf': 29029, 'starzz2929': 29030, 'beyoncesgedtest': 29031, 'connect': 29032, 'lfu19f4ovk': 29033, 'theeeee': 29034, 'emmasayshai': 29035, 'icanhashtaghoweveriwant': 29036, 'zv1cpk1iy8': 29037, 'xk1rpf1npy': 29038, 'capture': 29039, 'deliciously': 29040, 'jenebooks': 29041, 'indie': 29042, 'genre': 29043, 'tends': 29044, 'deepapi1800': 29045, 'skippin': 29046, 'nenosmarma': 29047, 'andrewzoudo': 29048, 'yazz': 29049, 'applewood': 29050, 'ssparklesdaily': 29051, 'survivors': 29052, 'katelyn': 29053, 'lomax': 29054, \"'doctor'\": 29055, 'examine': 29056, 'testicles': 29057, 'painlessly': 29058, '5hetoweses': 29059, 'baylor': 29060, 'clinchmtn316': 29061, 'sixonesixband': 29062, 'hoesss': 29063, 'generate': 29064, 'nodejs': 29065, 'node': 29066, 'lrjwdfhv7t': 29067, 'jiare': 29068, 'twayne1010': 29069, \"manson's\": 29070, 'difficult': 29071, 'planning': 29072, 'honeymoon': 29073, 'manny': 29074, 'bermudez2': 29075, 'danaperino': 29076, '7vjwdcdtxv': 29077, 'incessant': 29078, 'that1kidzi': 29079, 'ohioans': 29080, 'clowned': 29081, 'teamed': 29082, 'kylerea03': 29083, 'pharmacist': 29084, 'stillwai': 29085, '128658': 29086, 'irealfrankocean': 29087, 'gw00bnbzqr': 29088, 'queenbitchhhh': 29089, 'briana': 29090, 'rashae': 29091, '1markus': 29092, 'makeitsndgood': 29093, 'jhuuzpgr': 29094, 'uganda': 29095, 'freemasonry': 29096, 'julesdanesy': 29097, 'presses': 29098, 'teef': 29099, 'fantasygames': 29100, 'trainvideo': 29101, 'dangle': 29102, 'bic': 29103, 'barkley': 29104, 'pik5sse3ka': 29105, 'torture': 29106, 'murderer': 29107, 'vb8c2pjnvi': 29108, 'commonquestioniget': 29109, 'uou': 29110, 'buckcity': 29111, 'thatlatsonkidd': 29112, 'switcheroo': 29113, 'teenaaasty': 29114, 'yyfcnfqzpc': 29115, 'seamstress': 29116, 'lmaoooort': 29117, 'lotus': 29118, 'healed': 29119, 'leoparcy': 29120, 'gobble': 29121, 'blockhead': 29122, 'mandatory': 29123, 'darealkha': 29124, 'hollywoodlavish': 29125, 'anarchistrev': 29126, 'rallying': 29127, 'degrasse': 29128, 'assumptions': 29129, 'tlec4vkuyd': 29130, 'on1y': 29131, \"tf'\": 29132, 'joshuahall': 29133, 'jon3s': 29134, 'tarynupsheets': 29135, 'flde7s4slc': 29136, 'josef': 29137, 'pitted': 29138, 'slight': 29139, 'remaining': 29140, 'laps': 29141, 'indyfest': 29142, 'itrapwatermelon': 29143, 'tweety': 29144, 'jbnonm3n1p': 29145, 'unqualified': 29146, 'appeal': 29147, 'nansemonds': 29148, 'gunrunning': 29149, 'raggedy': 29150, 'validated': 29151, \"cr's\": 29152, 'ried': 29153, 'obamas': 29154, 'senators': 29155, 'thomasemmanuelm': 29156, 'chuassup': 29157, 'castie': 29158, 'kekelovingmytwo': 29159, 'offsetyrn': 29160, 'quavo': 29161, 'crowing': 29162, 'luvkittensdaily': 29163, '5zmzvt0sul': 29164, 'nytminuscontext': 29165, 'gardy': 29166, 'yardy': 29167, 'affect': 29168, 'dp4': 29169, 'hinvxbup31': 29170, 'nightvaleradio': 29171, 'oily': 29172, 'bulbous': 29173, 'shrieking': 29174, 'lbvs': 29175, 'vivian': 29176, 'larryelder': 29177, 'alberto': 29178, 'gonzales': 29179, 'meli': 29180, 'mybaby': 29181, 'a27c1xuezp': 29182, 'kelsiebelsi': 29183, 'patriot': 29184, 'docs357': 29185, 'koichiccheryl': 29186, 'bja': 29187, 'tw': 29188, 'davesgrill': 29189, 'streaks': 29190, 'combed': 29191, 'o3hika2fin': 29192, 'fitzpatrick': 29193, 'moneyhabitz17': 29194, 'hillbillys': 29195, 'chefpolio': 29196, 'foreigncrazi': 29197, 'roasts': 29198, 'charliea': 29199, 'landez07': 29200, 'claes': 29201, 'qc5if6g4fg': 29202, 'mothafucka': 29203, 'flaidfirnruht': 29204, 'atoma87': 29205, 'mn0tf3dgo7': 29206, 'adamharmon': 29207, 'jeffjeffallen': 29208, 'thankyouariana': 29209, 'xrklonwzgn': 29210, 'farther': 29211, 'diiiccckkk': 29212, 'hoomie': 29213, 'demi': 29214, 'eggleton': 29215, '60k': 29216, 'dyi': 29217, 'cecetooshort': 29218, \"exe's\": 29219, 'revenant0202': 29220, 'boooooi': 29221, 'tmi': 29222, 'makamj': 29223, 'channnteeel': 29224, 'jerks': 29225, 'plow': 29226, 'hwbwj9ui': 29227, 'phillip': 29228, 'bkyeouwwv2': 29229, 'anarcho': 29230, 'anarchism': 29231, 'grouping': 29232, 'individuals': 29233, 'iy6gro4t8z': 29234, 'toddknife': 29235, 'ajbernal17': 29236, 'wishfulll': 29237, 'stagbechillin': 29238, '6fa2iixs6m': 29239, 'looney': 29240, 'knightfanneal': 29241, 'ucfpinkparty': 29242, 'knights': 29243, 'comeatmeut': 29244, 'bullskickass': 29245, 'bullsnation': 29246, 'medellin': 29247, 'ticckler': 29248, '2015seniorprobs': 29249, 'nigas': 29250, 'goose': 29251, 'oomef': 29252, 'thigh': 29253, 'gaps': 29254, 'sketchball': 29255, 'wankin': 29256, 'freckle': 29257, 'bootlegged': 29258, 'jmac': 29259, 'au': 29260, 'brocklesnitch': 29261, 'qquit': 29262, 'kinloch': 29263, 'maaaaan': 29264, 'halawa0402': 29265, 'kqrmhszmpj': 29266, 'repgutierrez': 29267, 'duke27': 29268, 'yeaboo': 29269, 'olmajvztpr': 29270, 'goodkidleo': 29271, 'kxngnandi': 29272, '6fm6uigkdm': 29273, 'garricka': 29274, 'lhhatlreunion': 29275, 'stargotthatdope': 29276, 'eaglesfan167': 29277, '5hrs': 29278, 'brite': 29279, 'bagpipes': 29280, 'pudingtane': 29281, 'washingtondc': 29282, 'yungobg': 29283, 'chayeezy': 29284, 'devoted': 29285, 'dta': 29286, 'teeaduh': 29287, 'ethnicity': 29288, 'laurenmane': 29289, 'gesture': 29290, 'bbn': 29291, 'twits': 29292, 'listener': 29293, 'novacancies': 29294, 'zeetisgirls': 29295, 'tgqzqszji1': 29296, 'bounced': 29297, 'kaprecesun': 29298, 'jiggers': 29299, 'unnm233mfq': 29300, 'adina': 29301, 'staywavybruh': 29302, 'shaqualidaemommy': 29303, 'barackeishamommy': 29304, 'tomyfacebro': 29305, 'graceexo': 29306, 'kingsleeynyc': 29307, 'hectic': 29308, 'jigging': 29309, 'wflzyxmvk6': 29310, 'd4xajbeib1': 29311, 'brezsha': 29312, 'imani': 29313, 'sirjakel': 29314, 'tiqqz': 29315, 'ebonyrogue': 29316, 'tierra': 29317, 'danikawillow': 29318, 'khou': 29319, 'longhorn': 29320, 'logos': 29321, \"players'\": 29322, 'hvnujt6ss2': 29323, 'contacted': 29324, 'ridley': 29325, 'soaking': 29326, '8hrkgfyuk8': 29327, 'msparka1': 29328, 'junebugg': 29329, 'booskerz': 29330, 'pi064ylhf6': 29331, '2blunts1jorge': 29332, 'bullhunitproof': 29333, 'niggerous': 29334, 'hardnucklife': 29335, 'kamehamehaaaaaaa': 29336, 'virtually': 29337, 'protections': 29338, 'acceptance': 29339, 'alabamian': 29340, 'sluggernation': 29341, 'p72': 29342, 'authentic': 29343, 'joshin7': 29344, 'bullshitin': 29345, 'asourappletree': 29346, 'grousings': 29347, 'kv': 29348, 'prawda': 29349, 'gkujxiadep': 29350, 'w7vkbt2nbp': 29351, 'hbjdgvenxa': 29352, 'carmeloanthony': 29353, 'prs2lwatk7': 29354, 'nsanemujer': 29355, 'notreallygryan': 29356, 'twolvegirl': 29357, 'mzkimberz': 29358, 'alwayznpolo': 29359, 'belowthaabelt': 29360, 'durant': 29361, 'harveyyy': 29362, 'ff': 29363, '127802': 29364, '127774': 29365, 'jxqontfiuq': 29366, '80s': 29367, 'zgfv8z3hqc': 29368, 'anuglynigga': 29369, 'vbd4zhjrof': 29370, 'twatch': 29371, 'wsbg': 29372, 'styl': 29373, 'ming': 29374, 'kcrwtbcqzd': 29375, 'courting': 29376, 'tera1patrick': 29377, 'bung': 29378, \"don'\": 29379, 'beautiifulvixen': 29380, 'sheanxiv': 29381, 'brussel': 29382, 'sprouts': 29383, 'cordon': 29384, 'bleu': 29385, 'foods': 29386, 'biunts': 29387, '127805': 29388, 'ledbetter': 29389, 'iw9wpg1sfy': 29390, 'pointstacked': 29391, 'scottiken': 29392, 'ding': 29393, 'rose1': 29394, 'dunleavy': 29395, 'thesupernegro': 29396, 'remotely': 29397, 'tkwwapczgr': 29398, 'spinellis': 29399, 'louisvillepurge': 29400, 'chieflottahoes': 29401, 'rollers': 29402, 'mmadifresh': 29403, 'dangers': 29404, '9hkpdwq7vr': 29405, 'mattwalshblog': 29406, 'salutemiswag': 29407, 'ayyyyeeeee': 29408, 'igbanamibani': 29409, 'tsb0xljrny': 29410, 'c7h0tfjdet': 29411, 'asdfgheatherr': 29412, 'thrill3r': 29413, 'underchilde': 29414, 'swingers': 29415, 'rameyhoe': 29416, 'noun': 29417, 'perverted': 29418, 'airplane': 29419, 'titl': 29420, 'goldbonequeen': 29421, 'sadboy': 29422, 'worldwidee': 29423, 'tonynolanlive': 29424, 'java': 29425, 'pissrs': 29426, 'ddaaawwgggffaaaccee': 29427, 'cccaalldddeerooonn': 29428, 'aktin': 29429, 'felt4dnd': 29430, 'alanisnews': 29431, 'setlist': 29432, 'mainestatepier': 29433, 'td3bi3ev2g': 29434, 'thewayoftheid': 29435, 'viola': 29436, 'sans': 29437, 'classically': 29438, 'sadderdre': 29439, 'headass': 29440, 'tlkn': 29441, 'lekarmasucre': 29442, 'learnteachwin': 29443, 'bamberdelver': 29444, 'lees': 29445, 'gepeste': 29446, 'jongen': 29447, 'probeert': 29448, 'verdedigen': 29449, 'ingezonden': 29450, 'volkskrant': 29451, 'pesten': 29452, 'academiemm': 29453, 'aod': 29454, 'ahmiryoung': 29455, 'maokzqlaos': 29456, 'keebithalal': 29457, 'loganswarning': 29458, 'islamofascist': 29459, 'cow': 29460, 'retort': 29461, 'idiocy': 29462, 'dearfeministmen': 29463, 'sacrificing': 29464, 'assumed': 29465, 'cre': 29466, 'l46q7moggr': 29467, 'sheeze': 29468, 'ithinkthatway': 29469, 'obvu5zn3zc': 29470, 'lookinnnass': 29471, 'callherebby': 29472, 'jermsallover': 29473, 'humor18plus': 29474, 'vsy3ejfzhf': 29475, 'randymower': 29476, 'ulclfuf8nc': 29477, '1rxyqoosm0': 29478, 'stark': 29479, 'jzl7filv0q': 29480, 'p8hvkhrh2n': 29481, 'thepoke': 29482, 'aberdeen': 29483, 'photobombing': 29484, 'dailymirror': 29485, 'qdclxyjoct': 29486, 'columbian': 29487, 'bitcheatme': 29488, 'xirt5pqhbx': 29489, 'militant': 29490, 'notfeeding': 29491, 'stencil': 29492, 'typeface': 29493, 'font': 29494, 'ateam': 29495, 'ghnenlmlje': 29496, 'ohhwhoops': 29497, 'prints': 29498, 'fukniccas': 29499, 'joeyg': 29500, '145': 29501, 'animeking420': 29502, '6ssxopuhge': 29503, 'ruley': 29504, 'ry': 29505, '012llzcmsu': 29506, 'mcclearyb0y': 29507, 'memethagreat': 29508, 'bachman': 29509, 'purrls': 29510, 'blackjesus': 29511, 'aaronmacgruder': 29512, 'mollyx': 29513, 'lessgirl': 29514, 'satisfies': 29515, 'volume': 29516, \"'you'd\": 29517, \"woman'\": 29518, 'diaryofamadblackwoman': 29519, 'overpaid': 29520, 'pullout': 29521, 'anchors': 29522, 'mharrisperry': 29523, 'blogredmachine': 29524, 'joeyvotto': 29525, 'soetoro': 29526, 'downsize': 29527, \"'oppressive'\": 29528, 'sewing': 29529, 'presentable': 29530, 'isisfeminism': 29531, 'sn5kuwmx78': 29532, 'prettytea': 29533, 'vag': 29534, 'goingtogethurtagain': 29535, 'tylercarter4l': 29536, 'mayra2563': 29537, 'oxycontin': 29538, \"wearin'\": 29539, 'oxymoron': 29540, 'dikes': 29541, 'runway': 29542, 'takeit': 29543, 'cerious': 29544, '1vtqx9ioxk': 29545, 'efxqnxeewq': 29546, 'rawker8': 29547, 'ronnie2k': 29548, 'nba2k': 29549, 'diandrasaysso': 29550, 'andre': 29551, \"3000's\": 29552, 'couldbeeashia': 29553, 'f5': 29554, 'pointy': 29555, 'reed8608': 29556, 'comedytruth': 29557, 'p2kb2tfyxr': 29558, 'emotionally': 29559, 'damaged': 29560, 'liftin': 29561, 'dampness': 29562, 'thekiddfranky': 29563, 'sew': 29564, 'temptations': 29565, 'michaelblackson': 29566, 'griner': 29567, 'deemazz': 29568, 'jmccown11': 29569, 'a3gf4iaps9': 29570, 'lovehim': 29571, 'lantern': 29572, 'clowning': 29573, 'freeeeezing': 29574, 'paco': 29575, 'giftedhussle94': 29576, 'trefreedawg': 29577, 'sumbody': 29578, 'darksknstruggle': 29579, 'hwm427bw7v': 29580, 'kristinhersh': 29581, 'wyatt': 29582, 'vivmmxii': 29583, 'micheleod1': 29584, 'flipthesenate': 29585, 'chicagopolitics': 29586, 'smuggled': 29587, 'tunnel': 29588, 'suffering': 29589, 'hamas': 29590, 'jusiee1yhk': 29591, 'themuslimissue': 29592, 'amizzyy': 29593, 'cuzin': 29594, 'snupe': 29595, 'courtneyykay': 29596, 'bitchez': 29597, 'bbhairs': 29598, 'rosee': 29599, 'considerate': 29600, 'transhuman': 29601, 'tucking': 29602, 'emperorira': 29603, 'vjvxwlrjop': 29604, 'preconceived': 29605, 'notions': 29606, 'confined': 29607, 'investment': 29608, 'defies': 29609, 'youpeople': 29610, 'fins': 29611, 'finnegan': 29612, 'certified': 29613, 'unrequited': 29614, \"putin's\": 29615, 'youknowme': 29616, '74ulxaf': 29617, 'colombia': 29618, 'jeut1isq1f': 29619, 'beanreturns': 29620, 'd6halitfmp': 29621, 'bargamentoo': 29622, 'ef3okldrog': 29623, 'snipe': 29624, 'lifemade': 29625, 'forthebros': 29626, 'nbyjumikqa': 29627, 'bluebloods': 29628, 'perched': 29629, 'odhq52qile': 29630, 'govcharliebrown': 29631, 'haslam': 29632, 'unitebluetn': 29633, 'drugulaa': 29634, 'dukeofzamunda': 29635, 'refers': 29636, 'wallofthewasatch': 29637, 'sarahmcintiree': 29638, 'ultimately': 29639, 'drippn': 29640, 'glorifying': 29641, 'littlgfunk': 29642, 'dfcuknawesum': 29643, 'wackest': 29644, 'tricethatruth': 29645, 'alexgc24t4': 29646, 'phenomenalro': 29647, 'iamtahyi': 29648, 'truedreadhead': 29649, 'jboxjohnson': 29650, 'terrywigley': 29651, '8xytlsf0vt': 29652, 'toodopeforlife': 29653, 'lmfaooooooopoooooo': 29654, 'djkayyohh': 29655, 'auntie': 29656, 'e5kllhp0cv': 29657, 'luxurious': 29658, 'oreolove': 29659, 'stufoflegend': 29660, 'ss4': 29661, 'vivelacourtney': 29662, 'xanax': 29663, 'prettyflacko21': 29664, 'axolrose': 29665, 'yourwifecantread': 29666, 'ondat': 29667, 'othershit': 29668, 'downey': 29669, 'dues': 29670, '5gt6zvgqxy': 29671, 'growword': 29672, 'zaycoolaf': 29673, 'intervals': 29674, 'ntxprogressive': 29675, 'eaton': 29676, 'honn': 29677, 'peice': 29678, 'gluton': 29679, 'factsaboutpigs': 29680, 'gallons': 29681, \"arabia's\": 29682, 'coreywhitejr3': 29683, 'fazedavls': 29684, 'wvyy': 29685, 'haze': 29686, 'fazeoutcst': 29687, 'gobbledy': 29688, 'golfwangslut25': 29689, 'motivated': 29690, 'abou': 29691, 'gfcrich': 29692, 'eisenbackemily': 29693, 'eggnog': 29694, 'berk': 29695, 'blaring': 29696, 'ukothl3moh': 29697, 'accelerated': 29698, 'warholian': 29699, 'notion': 29700, 'wrinkled': 29701, 'bx2mxv2oso': 29702, 'ratchetest': 29703, 'tweaker': 29704, 'fuckeveryword': 29705, 'backtrack': 29706, 'lesleysuttling': 29707, 'concession': 29708, 'recount': 29709, 'mvhectyuys': 29710, 'youn': 29711, 'drslaten': 29712, 'hackers': 29713, 'shoplifters': 29714, 'mckinseey': 29715, 'greener': 29716, 'lettybro': 29717, 'cdn0deycko': 29718, 'v6v0d77obm': 29719, 'smashavelli': 29720, 'howdhow': 29721, '1o7ajdbjlc': 29722, 'waaaay': 29723, 'babyrachi': 29724, 'finessin': 29725, 'mannnnnn': 29726, 'bitched': 29727, '128121': 29728, 'ualjxapmkj': 29729, 'chvntre': 29730, 'deadgrl': 29731, '666': 29732, 'reprint': 29733, 'mcgetbizzy': 29734, 'ww3xbbujg7': 29735, 'kenobi': 29736, 'locally': 29737, 'donations': 29738, 'christy': 29739, 'b00gie': 29740, 'supply': 29741, 'shenellyb': 29742, 'imchiefy': 29743, 'powerofthep': 29744, 'frankthetank215': 29745, '1800s': 29746, 'beliefs': 29747, 'frankensteinmd': 29748, 'kikme': 29749, \"'95\": 29750, '128118': 29751, \"hillary's\": 29752, 'verbal': 29753, 'aggressive': 29754, 'interactions': 29755, 'maxabrahms': 29756, 'nogovy': 29757, 'blackgirls': 29758, 'i2nnm1z1': 29759, 'loool': 29760, 'slightlyadjusted': 29761, 'alls': 29762, 'plkfb3lnem': 29763, 'redtail': 29764, 'tjanr2pb': 29765, 'omggggg': 29766, 'ehavior': 29767, 'femaletexts': 29768, 'xfrnq6um1o': 29769, 'pimpchampaign': 29770, 'fattravis': 29771, '6200': 29772, 'robfernau': 29773, 'piled': 29774, 'ucla': 29775, 'recession': 29776, 'omgitstamz': 29777, 'korina': 29778, 'craycray': 29779, 'kummar': 29780, 'kilt': 29781, 'glizzygang': 29782, 'yardies': 29783, 'yaa': 29784, 'brooke': 29785, 'pinkie': 29786, 'imadeherwise': 29787, 'petey': 29788, 'freek': 29789, 'makepeace': 29790, 'donno': 29791, 'demz': 29792, 'gurll': 29793, 'keeks': 29794, 'curves': 29795, 'jaelynbeeee': 29796, 'itt': 29797, 'docrocktex26': 29798, 'africanprinces': 29799, 'lyrically': 29800, 'shmalec13': 29801, 'reeds': 29802, 'certification': 29803, 'quietly': 29804, 'quinn': 29805, 'bt7hf28u0d': 29806, 'oscarstyless': 29807, 'thebrandymedel': 29808, 'chitlins': 29809, 'haahaa': 29810, \"mata'i\": 29811, 'ngeli': 29812, 'jonsweethearts': 29813, 'argie': 29814, 'yuu': 29815, 'hinouchi': 29816, 'creamed': 29817, 'elxktxi1lv': 29818, 'isaabbellla': 29819, 'cheeseball': 29820, 'shalewis09': 29821, 'degrading': 29822, 'louder': 29823, 'connycarvajal': 29824, 'anallanusa32': 29825, '128060': 29826, 'willball4life': 29827, 'kaylahprettymom': 29828, 'girlllaaaa': 29829, 'b2k': 29830, 'defence': 29831, 'gk5wbobjtc': 29832, 'sheboons': 29833, 'slllick': 29834, 'midwestxpride': 29835, 'yoliethejew': 29836, 'zeeti': 29837, 'carey': 29838, 'ventura': 29839, 'ei': 29840, 'sacramento': 29841, 'queenveronica': 29842, 'ynf': 29843, 'troypanamera': 29844, 'worley': 29845, 'nachos': 29846, 'navyasslos': 29847, 'helmsley': 29848, 'gmi': 29849, 'j12': 29850, 'trulyguy': 29851, 'betray': 29852, '8hnw9qewsm': 29853, 'makedclisten': 29854, 't7rujtkei1': 29855, 'witchothirstyaz': 29856, 'dtla': 29857, 'europeans': 29858, 'heyyayled': 29859, 'samharrisorg': 29860, 'driswitdacake': 29861, 'fwu': 29862, 'j3uf1tyubo': 29863, 'erm': 29864, 'guccii1017': 29865, 'autograph': 29866, 'scheelp': 29867, 'lzl0jlhdvk': 29868, 'dnb0q5phvk': 29869, 'fraudulent': 29870, 'zuxdnp3xr1': 29871, 'zooted': 29872, 'myfriendsrap': 29873, 'le1r8tiwd1': 29874, 'digo13nieto': 29875, 'cashandboobies': 29876, 'kidnapped': 29877, 'wic': 29878, 'verniemack': 29879, 'sweetromance': 29880, 'redeemed1952': 29881, 'azws': 29882, 'nigggga': 29883, 'hust': 29884, 'pushed': 29885, 'calmed': 29886, 'mclovin': 29887, '128008': 29888, '128700': 29889, 'thefactsbook': 29890, 'ybcsutdgmw': 29891, 'nnwums32b4': 29892, 'succulant': 29893, 'epba8t5afi': 29894, 'hoodsbuttcrack': 29895, 'vegebitemeash': 29896, 'pakistan': 29897, 'prowl': 29898, 'nosie': 29899, 'surething': 29900, 'esl': 29901, 'hiddencam': 29902, 'bt8c6qqctd': 29903, 'mastr': 29904, 'hernandezeli': 29905, 'wingstop': 29906, 'kg4hunnid': 29907, 'genosmith7': 29908, 'leeniepunkin': 29909, 'qkk26wyvfc': 29910, 'textnow': 29911, 'hdm': 29912, 'mynamesahmed': 29913, 'tonyr0ckyhorror': 29914, 'teaches': 29915, 'grace': 29916, 'hal3ygang': 29917, 'beggin': 29918, 'microwaves': 29919, 'catchup': 29920, 'falicia': 29921, 'gapeach': 29922, 'godbody': 29923, 'ream': 29924, 'xb4dkwuoki': 29925, 'jacobkesler': 29926, 'kibaby': 29927, 'adamdavis': 29928, 'cr': 29929, 'iwillstillrise': 29930, 'gatornation': 29931, 'edgewater': 29932, 'compels': 29933, '8hkc56j7c9': 29934, 'pertile': 29935, 'zipperheads': 29936, 'aishamoodmills': 29937, '6tklgup2wh': 29938, 'q0wswxe7fw': 29939, 'ktkasey': 29940, 'youregayif': 29941, '1227jarred': 29942, 'sipping': 29943, 'slurpee': 29944, 'rennystevens': 29945, 'ryanrod': 29946, 'amazinthegreat': 29947, 'fucki': 29948, 'littlecball': 29949, '11wd': 29950, 'd9rize': 29951, 'd9oxy': 29952, 'tittyy': 29953, 'fl': 29954, 'whad6vfago': 29955, 'collection': 29956, 'decreased': 29957, 'mattancheyta': 29958, 'glamazon': 29959, 'welovequeens': 29960, 'c7rv2dil7g': 29961, 'nannie': 29962, 'nicolehayley': 29963, 'donny': 29964, '2faces': 29965, 'lastwordevan': 29966, 'eligible': 29967, 'ulcer': 29968, 'duhhvenuhh': 29969, 'wifebeater': 29970, 'islamnation': 29971, 'kurdish': 29972, 'bomber': 29973, 'undermines': 29974, 'advance': 29975, 'helenyvonnem': 29976, 'tokmetzis': 29977, 'dreigdwergen': 29978, 'haatsmurfen': 29979, 'roze': 29980, 'khmer': 29981, 'slagveld': 29982, 'lhvkkkhqdf': 29983, 'decorrespondent': 29984, 'g00n': 29985, \"rex's\": 29986, 'sawdust': 29987, 'sodium': 29988, 'unsavory': 29989, 'easter': 29990, 'nfg': 29991, 'wge': 29992, 'findtheeggs': 29993, 'eggsareinherass': 29994, 'pnqlgwznd3': 29995, 'tolkienproverb': 29996, 'sorrow': 29997, \"gary's\": 29998, 'rickspringfield': 29999, \"'gary's\": 30000, \"girl'\": 30001, 'lonlontheone': 30002, 'juandameskin': 30003, 'itsdrecord': 30004, 'undo': 30005, 'throught': 30006, 'spawn': 30007, 'atrue': 30008, '1kqnw4lj': 30009, 'teamgladney': 30010, 'bigmacknigga': 30011, 'dooo': 30012, 'toothbrush': 30013, 'gnargie': 30014, 'hermosaalma': 30015, 'mpazq3jswf': 30016, 'chiko600': 30017, 'keonamoore': 30018, 'bidness': 30019, 'kxmi85gqp2': 30020, '9in5iysnpi': 30021, 'mbxvss': 30022, 'shoe1945': 30023, '333england': 30024, 'emrgencykittens': 30025, 'calico': 30026, 'jalyl7h60f': 30027, 'eatthepeas': 30028, 'thecheapone': 30029, 'adventure': 30030, 'rosie': 30031, 'politicususa': 30032, 'seanrosssapp': 30033, 'bespectacle': 30034, 'mourning': 30035, 'cultural': 30036, 'zeitgeist': 30037, '81': 30038, 'yamanakavalerio': 30039, 'omgggg': 30040, 'nano': 30041, 'justwordsx': 30042, 'joeo670': 30043, 'bernsein': 30044, 'bernstine': 30045, 'dejloaf': 30046, 'bo1': 30047, 'thegodwriter': 30048, 'mw2': 30049, 'grumpycattalkin': 30050, 'fairweather': 30051, 'respectbox': 30052, 'lefthooklounge': 30053, 'chefboirlee': 30054, 'sundays': 30055, 'veeveeveeveevee': 30056, 'bidens': 30057, \"'stranger\": 30058, \"danger'\": 30059, 'chadmatz': 30060, 'rachelcoursey': 30061, 'alexamees2': 30062, 'xyngdzldrb': 30063, 'moniee': 30064, 'jasminepore': 30065, 'sion': 30066, 'mao': 30067, 'samklef': 30068, 'naija': 30069, 'pub': 30070, 'sternshow': 30071, 'secretly': 30072, 'lookng': 30073, \"lee's\": 30074, '4getaboutit': 30075, 'screwdrivers': 30076, 'toque': 30077, 'canadianisms': 30078, 'lufacmlo20': 30079, 'nationalpost': 30080, 'jonica': 30081, '55th': 30082, 'whatskillfeed': 30083, '2r8wqge8cr': 30084, 'flatter': 30085, 'pattonoswalt': 30086, 'mua60ppvel': 30087, 'despite': 30088, 'portland': 30089, 'floppers': 30090, 'gallery': 30091, 'enterprise': 30092, 'pz55t90z': 30093, 'items': 30094, '0s8phidlge': 30095, 'matthasthemusic': 30096, 'selfpaidyayo': 30097, 'ogmaco': 30098, 'maco': 30099, 'workmann': 30100, 'bitin': 30101, 'errthan': 30102, 'maxicat': 30103, 'moceubrutf': 30104, 'whosjuly': 30105, \"o'brien\": 30106, 'gfcsarhtjt': 30107, 'returnthefavor': 30108, 'illino': 30109, 'curtin': 30110, 'harvest14': 30111, 'brentjff': 30112, 'rgetr4tv4s': 30113, 'mei': 30114, 'haruka': 30115, 'jncmczefss': 30116, 'tmobile': 30117, 'atysyc': 30118, 'redeem': 30119, 'p9jddvsrvb': 30120, 'seduce': 30121, 'genetically': 30122, 'gorillas': 30123, 'twe': 30124, 'dvd': 30125, 'excusemydank': 30126, 'ndhqmn3lvu': 30127, 'fazespacely': 30128, '10xs': 30129, 'plotting': 30130, 'puppies': 30131, 'wegiants': 30132, 'spiraling': 30133, 'downward': 30134, 'stubbs': 30135, '10thingsthatgetsonmynerves': 30136, \"beggin'\": 30137, 'complemented': 30138, 'rickandmorty': 30139, 'booya': 30140, 'gnuts': 30141, 'ashspeaks': 30142, 'thtniggaxzavier': 30143, \"c's\": 30144, \"e's\": 30145, 'bracken': 30146, 'fakes1z2wl': 30147, 'ellese97': 30148, 'rhyming': 30149, 'jjusmaxx': 30150, 'wined': 30151, 'dined': 30152, 'mannypacquiao': 30153, 'ccobb1573': 30154, 'fhhbbrmybn': 30155, 'perved': 30156, 'blackchiquitita': 30157, 'thatmanpalmer': 30158, 'buttcheek': 30159, 'yn6guyouq6': 30160, 'qtiptheabstract': 30161, 'inductee': 30162, 'downnnn': 30163, 'hillllll': 30164, 'gry': 30165, 'fukkin': 30166, 'wicha': 30167, 'paige': 30168, 'jaymohrsports': 30169, 'kerrtheresa': 30170, 'moderator': 30171, 'naughtyboymusic': 30172, 'gc': 30173, 'dmxsot02qg': 30174, 'mykel': 30175, 'sayrayarriaga': 30176, 'llkuz6vtai': 30177, 'tekken': 30178, 'hawkblogger': 30179, 'jags': 30180, 'neebaddazz': 30181, 'geddit': 30182, 'stackmodus': 30183, 'hpv': 30184, 'swells': 30185, 'justdreaa': 30186, 'kamrenee': 30187, 'hannerr': 30188, 'fraternize': 30189, 'fawfulfan': 30190, 'bigkahuna919191': 30191, 'alfranken': 30192, 'nico': 30193, 'lildarrell12': 30194, 'scientifically': 30195, 'gahbage': 30196, 'ee2l5': 30197, 'thinkkk': 30198, 'shee': 30199, 'maaaa': 30200, 'otheeeeeeeer': 30201, 'bearing': 30202, 'cjjsanchez': 30203, 'delao': 30204, 'haywood': 30205, 'unanswered': 30206, 'cg': 30207, 'flagged': 30208, 'frf23wllbv': 30209, 'masturbation': 30210, 'mastu': 30211, 'ofggmlxqaj': 30212, 'cpac': 30213, 'shannityshair': 30214, 'thefriddle': 30215, 'glock4piper': 30216, 'alleygirl2409': 30217, 'drknioe6vh': 30218, 'coachktola': 30219, 'supremacist': 30220, 'fergus': 30221, 'bitchslovemosa': 30222, 'mosagang': 30223, '0g1j8bibpl': 30224, 'daqraca': 30225, 'af4t3mtmxu': 30226, 'gk2winhbkw': 30227, 'mightyfar': 30228, 'ufcs': 30229, \"ugg's\": 30230, 'stopwhitepeople': 30231, '105': 30232, 'dougherty06': 30233, 'tacopablo': 30234, 'thottyglo': 30235, 'ursi7ajump': 30236, 'dukefan': 30237, 'kentuckyfanpage': 30238, 'losses': 30239, 'thirstin': 30240, 'improving': 30241, 'nacho': 30242, 'doritos': 30243, 'codeejames': 30244, '6uz9e9zlvq': 30245, 'ewihbsqek8': 30246, 'shinigami': 30247, 'tiny2youhoes': 30248, 'naawww': 30249, 'stockman': 30250, 'chemistry': 30251, 'niether': 30252, 'zvjroxgndq': 30253, 'mommymonday': 30254, 'jenerationpr': 30255, 'theskimm': 30256, 'vicious': 30257, 'emissions': 30258, 'exhaling': 30259, 'adds': 30260, 'dioxide': 30261, 'beedontcare': 30262, 'codyzeller': 30263, 'ufmje1gk': 30264, 'lilbro': 30265, 'x4f6va7g5q': 30266, 'vnmdsat7gs': 30267, 'swishaas': 30268, 'adrenaline': 30269, 'assjpg': 30270, 'bigbrotherleak': 30271, 'relatabowl': 30272, 'jz9itvjck0': 30273, 'laneishaaaa': 30274, 'awee': 30275, 'interception': 30276, '3much4thesehoez': 30277, 'withdac': 30278, 'camblunt': 30279, 'e12ylm2yva': 30280, 'halo': 30281, 'mkkberger': 30282, 'mlwberger': 30283, 'bigbergerc': 30284, 'krueger': 30285, 'wheneva': 30286, 'bdoulaoblongata': 30287, 'ympzhmzuxg': 30288, \"scramblin'\": 30289, 'barackomamba': 30290, 'mtzjaac0w2': 30291, 'deeray': 30292, 'purp': 30293, 'kristajaymfc': 30294, 'onlyrosee': 30295, 'tricksnipers': 30296, '89': 30297, 'sewage': 30298, 'ioeno': 30299, 'bullhammerpt': 30300, 'trillsmith': 30301, 'onthewrite': 30302, 'peezy': 30303, '1043214': 30304, 'receivers': 30305, 'stripey': 30306, 'thefunnyvines': 30307, 'xuve34qenh': 30308, 'yolk': 30309, 'inboxes': 30310, 'bq3g01rxkn': 30311, 'stellatex': 30312, 'mansplaining': 30313, 'adios': 30314, 'darahkcarter': 30315, 'pohlman2': 30316, \"whatupag's\": 30317, 'lxonrmtqtk': 30318, 'universionrblx': 30319, 'dmvfollowers': 30320, 'calumlove1997': 30321, 'havti': 30322, 'apolonia': 30323, 'misspells': 30324, 'phalarope': 30325, 'resembles': 30326, 'sandpiper': 30327, 'dreaded': 30328, 'schwa': 30329, 'callmeshay': 30330, 'whammmmed': 30331, 'swervee': 30332, 'bighead': 30333, 'retweetin': 30334, 'irwinhype': 30335, 'loyalpeopleonly': 30336, '1ti5k1f1sf': 30337, 'traptized': 30338, 'vjxacsafxt': 30339, 'lelittlelisa': 30340, \"ramsey's\": 30341, 'flake': 30342, 'jadelovescats': 30343, 'steaight': 30344, '1043293': 30345, 'steffyballin': 30346, 'benched': 30347, 'taughtyouwell': 30348, '6tzyxgvqzv': 30349, 'youknowdoby': 30350, 'superheroreport': 30351, 'rf5dtvqwi6': 30352, 'schooldance': 30353, 'duval': 30354, 'mikepps': 30355, 'gary': 30356, \"sheffield's\": 30357, 'jacking': 30358, 'folllowesteban': 30359, 'soxandjox': 30360, 'g8rvuhcebn': 30361, 'zdf98bpf94': 30362, 'mannybdlopez': 30363, 'f0ddbfezb6': 30364, 'shyyyyyt': 30365, 'shayalicious': 30366, 'fulltime': 30367, 'avelindner': 30368, 'yanno': 30369, 'pause': 30370, 'gayle': 30371, 'japped': 30372, 'transformed': 30373, 'aidkdmztln': 30374, 'stern': 30375, 'yaaboyshiki': 30376, 'sunburnt': 30377, 'prvncesssss': 30378, 'lilnas': 30379, 'ravenkiann': 30380, 'signsofcockblockin': 30381, 'tribexyunglion': 30382, 'fuckniggahs': 30383, 'ceoo': 30384, 'posltlvevlbe': 30385, 'timraw': 30386, 'judgment': 30387, 'hxhsharingan666': 30388, \"runnin'\": 30389, 'hellokittymnw': 30390, 'restrain': 30391, 'assignment': 30392, 'dne': 30393, 'plasticdom': 30394, 'glimpses': 30395, 'eqocianz77': 30396, 'shimshammy': 30397, 'czth5nhudu': 30398, 'tmt': 30399, 'chrisrmz95': 30400, 'deemarieeeee': 30401, 'nomatter': 30402, 'zzkagxivlu': 30403, 'myassholesowet': 30404, 'lemochamojito': 30405, 'p2x2qbejoh': 30406, 'otdsfinest': 30407, 'yellin': 30408, 'bktrack': 30409, 'nikecaptain': 30410, 'implying': 30411, 'outfield': 30412, 'rp3gz6mdbf': 30413, 'yankeeson': 30414, 'unholy': 30415, 'harbor': 30416, 'sangelina': 30417, 'redtvvitter': 30418, 'w4zzhr6kum': 30419, 'scro': 30420, \"lot's\": 30421, 'tards': 30422, 'wander': 30423, 'whatimcraving': 30424, 'vnksmith16': 30425, 'browns2014draft': 30426, 'qkfywnfzqu': 30427, 'carpool': 30428, 'waved': 30429, 'matt29': 30430, 'corybandz': 30431, 'toksvisions': 30432, 'suzidodt': 30433, \"there'd\": 30434, 'sydswag2': 30435, 'raerecum': 30436, 'monique': 30437, 'morehart': 30438, 'cjc': 30439, 'joshuatyl0r': 30440, 'bcs': 30441, '314': 30442, 'revenue': 30443, 'lemming': 30444, 'havoc': 30445, 'congratulate': 30446, 'villanueva': 30447, 'jamesyoucunt': 30448, 'grizzly': 30449, '4zsxc': 30450, 'rolly': 30451, \"joke's\": 30452, 'emotionalswag15': 30453, 'crewz76': 30454, 'offs': 30455, 'umjpu8gt': 30456, 'grindingdude': 30457, '13hours': 30458, 'killery': 30459, 'abadbitchcost': 30460, 'imdaddytho': 30461, 'brentlanders6': 30462, 'quasi': 30463, 'whiteironband': 30464, 'huntin': 30465, 'koozie': 30466, 'd6sbsyann2': 30467, 'akayankeee': 30468, 'stung': 30469, 'cayucs8o01': 30470, 'indxgo': 30471, 'navy8r': 30472, 'sierra0559': 30473, 'reasontoexitanobamaspeech': 30474, 'raci': 30475, 'imsie8mkjm': 30476, 'masika': 30477, 'genetics': 30478, 'congo': 30479, 'frequently': 30480, 'omari': 30481, 'infiltration': 30482, 'priesthood': 30483, 'calissstaaa': 30484, 'carolinebakkk': 30485, 'appetite': 30486, 'thirties': 30487, 'falloutbird': 30488, 'chvzwtvltg': 30489, 'fullacharisma': 30490, 'rasengan': 30491, 'lilhakbeatz': 30492, 'returnofthemarc': 30493, 'tosoon': 30494, 'zephthegreat': 30495, 'lashana': 30496, 'sinead': 30497, 'loveamari': 30498, 'looser': 30499, 'lizardlicktowin': 30500, 'cmchatlive': 30501, '2get': 30502, 'stations': 30503, 'usagov': 30504, 'endangered': 30505, 'ojscnnmyem': 30506, 'raaain': 30507, 'ottawapolitico': 30508, 'edict': 30509, \"govt's\": 30510, 'secondline': 30511, 'bridgewater': 30512, 'zwaaad': 30513, 'yaniggabuu': 30514, 'janemba': 30515, 'oooow': 30516, 'advocate': 30517, 'pagenaud': 30518, 'jm4biagxu8': 30519, '3cij': 30520, 'llishah': 30521, 'acronym': 30522, 'rrqzsym4ty': 30523, 'hokuboku': 30524, 'mitchsunderland': 30525, 'ezra': 30526, 'superhe': 30527, 'shiiiit': 30528, 'holmes': 30529, 'gotsta': 30530, \"mother's\": 30531, '24hrs': 30532, '40s': 30533, 'saviassstr33tz': 30534, 'snails': 30535, 'pace': 30536, 'legitimately': 30537, 'wearable': 30538, 'mariamyepii': 30539, 'vanessa': 30540, '1kellibelle': 30541, '4yyvxesnur': 30542, 'natitude': 30543, 'gobuycomb': 30544, 'dgk': 30545, 'chainskibum': 30546, 'dragonballz': 30547, 'gus': 30548, '802': 30549, 'cripes': 30550, 'a3gpdurama': 30551, 'exs': 30552, 'tamar': 30553, 'irie': 30554, 'twerktape': 30555, 'phantomgourmet': 30556, 'baileys': 30557, 'suggestions': 30558, 'greenfestival': 30559, '640': 30560, 'scdzndk2aq': 30561, 'dceni33': 30562, \"tour's\": 30563, 'underachieved': 30564, 'daliasza': 30565, 'gambino': 30566, '8ejohdldd9': 30567, 'nallah': 30568, 'mckenxcassie': 30569, 'yezhxqvy02': 30570, 'jeremyplatt': 30571, 'dogg': 30572, 'sleepe21': 30573, 'titanfall': 30574, 'liltbrodie': 30575, 'bytu7zj0tx': 30576, 'zt0mm': 30577, 'chelsiielynn': 30578, 'ronaldo': 30579, 'bumping': 30580, 'smilin': 30581, 'wnna': 30582, 'trillesty': 30583, 'a1rwick': 30584, 'sesh': 30585, 'glodupshawdy': 30586, 'manonthe': 30587, 'ninathegoat': 30588, 'yungrape': 30589, 'oodbptgv1n': 30590, 'tylerssooclutch': 30591, 'boringgggg': 30592, 'xans': 30593, 'rhook220': 30594, 'ohwait': 30595, 'itskate': 30596, 'ejperuski5634': 30597, 'iamenidcoleslaw': 30598, 'geyser': 30599, 'dunky': 30600, 'hoeless55': 30601, 'theasacrawford': 30602, 'sipped': 30603, 'schoolboycole': 30604, 'evem': 30605, 'shmoke': 30606, 'snapchatt': 30607, 'nan': 30608, 'irritate': 30609, 'mesquito': 30610, 'poped': 30611, 'tic14tac': 30612, \"'why\": 30613, \"purse'\": 30614, 'bpbibkat3x': 30615, \"green's\": 30616, 'nursing': 30617, 'jefe': 30618, '663399becca': 30619, '8b0ftjgost': 30620, 'danilonavarro85': 30621, 'twaimz': 30622, 'toddgunter': 30623, 'shaquita': 30624, 'marvelcomicswag': 30625, 'richie': 30626, 'lilwayne': 30627, 'wegomakeit': 30628, 'frum': 30629, 'dawngoodspeed': 30630, 'lachlan': 30631, 'lgzzyusekz': 30632, '2jcvv7qxqf': 30633, 'whiff': 30634, 'combined': 30635, 'honda200': 30636, 'zhandlen': 30637, 'delillo': 30638, 'resisted': 30639, 'shelf': 30640, 'dy7qt1jtlg': 30641, 'axelandrewsss': 30642, '127919': 30643, 'tyrxny': 30644, 'recipe': 30645, 'kaila': 30646, 'youngin': 30647, 'bayleebork': 30648, '2playa': 30649, '01': 30650, 'transfered': 30651, 'illneverunderstandwhy': 30652, 'guido': 30653, 'shitbag': 30654, '2pofgc7ohc': 30655, 'andersondrlja': 30656, '128151': 30657, 'ilovemakonnen': 30658, \"l's\": 30659, 'marcus2kings': 30660, 'inmiddleschool': 30661, 'mckenzienoel': 30662, 'cxslug': 30663, 'ccs': 30664, 'awf': 30665, 'existentialism': 30666, 'mtvhottestlanadelrey': 30667, 'coolers': 30668, 'diana': 30669, 'boyzzzzzz': 30670, 'mobute': 30671, 'gubernatorial': 30672, 'confess': 30673, 'aerosmith': 30674, 'dreamon': 30675, 'ledzeppelin': 30676, '8kuzapfcmf': 30677, 'oldmanro': 30678, 'animated': 30679, 'giannarromano': 30680, 'deze': 30681, 'ssb5erhd': 30682, 'scurl': 30683, 'gerry': 30684, '6lyzrxj5wn': 30685, 'kitkat': 30686, 'themanacho': 30687, 'oitnbhumor': 30688, '0yzgrtegaq': 30689, 'theschwagqueen': 30690, 'editorial': 30691, 't21z2ybzlq': 30692, 'smokedoutquille': 30693, 'maaad': 30694, 'g5yjyjeoem': 30695, 'fic4fnrutz': 30696, 'qwyenton': 30697, 'sisson11noah': 30698, 'katiefraaancis': 30699, 'kaaspiet': 30700, 'bloempiet': 30701, 'gekkigheid': 30702, 'simpele': 30703, 'oplossing': 30704, 'tegen': 30705, 'racisme': 30706, 'maken': 30707, 'zolang': 30708, 'blanke': 30709, 'beslissing': 30710, 'wooooh': 30711, 'meowfiesta': 30712, 'danielmtz1997': 30713, 'rzfhabwtsv': 30714, 'njt': 30715, 'crittamo': 30716, 'd4icvcz1bk': 30717, 'realjohnbrannon': 30718, 'juanitaap': 30719, 'lorde': 30720, 'sagg': 30721, 'superdickrikki': 30722, 'research': 30723, 'usaa': 30724, 'smartest': 30725, 'thatboyace71': 30726, 'bitchhhhhhh': 30727, 'jrlikeswhisky': 30728, 'zwithr': 30729, '1anmkm4o9y': 30730, 'ileanageorgina': 30731, 'rajput': 30732, 'hindu': 30733, 'shivsainik': 30734, 'shri': 30735, 'jadhav': 30736, 'rameshjadhav': 30737, 'littlemissariee': 30738, 'dickmatized': 30739, 'pye': 30740, 'dec15': 30741, 'undesirables': 30742, '24k': 30743, 'rillos': 30744, 'uncleblazer': 30745, 'lildickytweets': 30746, 'eugene': 30747, 'kjzh0u4usz': 30748, 'erv': 30749, 'gulfwings14': 30750, 'zlatan': 30751, 'therealelp': 30752, 'hacks': 30753, 'stephencdo': 30754, 'potosino': 30755, 'nroth44': 30756, 'qztnw6cdki': 30757, 'dineroloco': 30758, 'gbleighton': 30759, 'stalled': 30760, 'wib': 30761, 'bunk': 30762, 'bqwlz5mbso': 30763, 'welghtroom': 30764, '1alaaz': 30765, 'nathirhussein': 30766, \"qaeda's\": 30767, 'viacom': 30768, 'enron': 30769, 'gallop': 30770, 'mmkay': 30771, 'curiosity': 30772, 'ligzdounj5': 30773, 'getchu': 30774, 'medrano420': 30775, 'posh': 30776, 'lhhatl': 30777, 'grohl': 30778, 'wineprobz': 30779, 'zachreini': 30780, 'crhedrys': 30781, 'stopwhitepeople2014': 30782, 'keegdcjs5k': 30783, \"nature's\": 30784, 'majesty': 30785, 'crab': 30786, 'ia5kfou2b3': 30787, 'baylaagottabody': 30788, 'greatrt': 30789, 'keyawnagallatin': 30790, 'chatt': 30791, 'eb': 30792, 'bigbbrown': 30793, 'csvndy': 30794, 'iudvnqckb4': 30795, 'pompous': 30796, 'mayweathercotto': 30797, 'dsrtvet': 30798, 'tjoy7': 30799, 'nonwhatsoever': 30800, 'sim': 30801, 'pronounced': 30802, 'efsvjpqrwq': 30803, 'keltor': 30804, 'beeee': 30805, 'brokanese': 30806, 'datniggat': 30807, 'nubianreine': 30808, 'anyday': 30809, 'condeezy3': 30810, 'swimm': 30811, 'elvisknievil': 30812, 'hover': 30813, 'dependence': 30814, 'pricless': 30815, 'qmu2um1nc3': 30816, 'designswithsoul': 30817, 'aerinblazin': 30818, 'gorgeousleeiyah': 30819, 'huh4hbkywy': 30820, \"6'7\": 30821, 'fuhk': 30822, 'rstffagdwy': 30823, 'result': 30824, 'turtlemcnasty': 30825, 'mikeprysner': 30826, 'cvublngxkj': 30827, 'meshia': 30828, 'toooo': 30829, 'joeysulipeck': 30830, 'myfoxmemphis': 30831, 'lizzardjurado': 30832, 'ooze': 30833, '7dbmdas6om': 30834, 'llcoolj': 30835, 'apostles': 30836, 'bspence5': 30837, 'census': 30838, 'tempest': 30839, '5mil': 30840, 'bl0ndeb1tch': 30841, 'hahahahaa': 30842, 'karina': 30843, 'lanemichelle': 30844, 'mitchmancuso': 30845, 'brantprintup': 30846, 'tun': 30847, 'motel': 30848, 'dreamgirlsonly': 30849, 'w43kps9zp0': 30850, 'ruled': 30851, 'tastiest': 30852, 'shesoviciouzz': 30853, 'warwith1gun': 30854, 'irielee12': 30855, 'dpylqzg1': 30856, 'poison': 30857, 'carmeelacuuh': 30858, 'natashablah': 30859, 'geezzzus': 30860, 'krillz': 30861, 'aanpsujmyi': 30862, 'jizcalifuh': 30863, 'metaphor': 30864, 'durtmchurtt': 30865, 'conway': 30866, 'twitty': 30867, 'offends': 30868, 'garytiffany': 30869, 'uncles': 30870, 'ogmonday': 30871, 'kxngfrxsh': 30872, 'prvnceflvcko': 30873, 'pbsamermasters': 30874, 'newhart': 30875, 'comedic': 30876, 'yosx2vdajb': 30877, 'americanmasters': 30878, 'gew': 30879, '63fmrf0g5j': 30880, 'thecelebrittany': 30881, 'unbutton': 30882, 'yfucn0dwzq': 30883, 'premature': 30884, 'danicafjelstul': 30885, 'mannnn': 30886, 'laaaeee': 30887, 'regina': 30888, 'bttoczqk5s': 30889, 'initial': 30890, 'char': 30891, 'broiled': 30892, 'saut': 30893, 'spinach': 30894, 'artichoke': 30895, 'vwjwlghrgo': 30896, 'he19tifqfx': 30897, 'dookiewithme': 30898, 'itsablackguy': 30899, 'assholefrmny': 30900, 'cl4jhgmxpi': 30901, 'charlesbarrkley': 30902, 'bnp': 30903, 'overrun': 30904, 'mongrels': 30905, 'perish': 30906, 'oweesheredd': 30907, 'youz': 30908, 'mckenzie': 30909, 'notcute': 30910, 'awkwardposts': 30911, 'ev2quysbpo': 30912, 'keenoklutch': 30913, 'ashamador': 30914, \"fo'\": 30915, 'muthaufckin': 30916, 'christrondsen': 30917, 'im5band': 30918, 'askim5': 30919, 'squirrel': 30920, \"depp's\": 30921, 'djgoofy500': 30922, 'stilettos': 30923, 'campaignseason': 30924, 'mikeofdoom': 30925, 'muxtc1fhmh': 30926, 'backless': 30927, 'dressess': 30928, 'spoiling': 30929, 'laflaregodjosh': 30930, 'odds': 30931, 'brittanny188': 30932, 'kirchner7': 30933, 'lilylovescamel': 30934, 'auroraabartlett': 30935, 'deletes': 30936, 'dame': 30937, 'adamweinstein': 30938, 'selective': 30939, 'scottydoesntn0': 30940, 'carefully': 30941, 'backbone': 30942, 'jhannahhh': 30943, \"zimmerman's\": 30944, 'courtney': 30945, 'admiralackbar3': 30946, 'allahthefairy': 30947, 'tayyibn': 30948, 'pdikbrvcj8': 30949, 'hottest': 30950, 'vacations': 30951, 'pusses': 30952, 'bidlpeoa3p': 30953, 'quilzel': 30954, 'erecycle': 30955, '6lrxiqsi8b': 30956, 'onetimeformoet': 30957, '32ft': 30958, 'greatwhite': 30959, 'okaysomaybeimlying': 30960, 'butiwasfishing': 30961, 'n86ew3zhep': 30962, 'cnnmoney': 30963, 'pflatel2sx': 30964, 'bongwynnn': 30965, 'deb': 30966, 'yxmhy17o1u': 30967, 'ramzyjay': 30968, 'toov1uty6h': 30969, 'arcticfox2016': 30970, 'm94rx': 30971, 'p4jodam2fm': 30972, 'jailed': 30973, 'treason': 30974, \"jesus'll\": 30975, 'thorough': 30976, 'heroine': 30977, 'ghettoannabelle': 30978, 'hanginwitcoop': 30979, 'eery': 30980, '7ctlw9enjx': 30981, 'thattallcashier': 30982, 'damcgrizzlybear': 30983, 'pkzmkn2wko': 30984, 'mova': 30985, 'efcuttin': 30986, 'clownin': 30987, 'atlanticcity': 30988, 'b6opj6d25y': 30989, 'andresdavid': 30990, 'privileged': 30991, 'emilywcvb': 30992, 'newscenter': 30993, 'projecting': 30994, 'margin': 30995, '1qc9q6p1cl': 30996, 'kbhicks': 30997, 'bateman': 30998, 'thomkins': 30999, 'couldntbehappier': 31000, 'thugga': 31001, \"suck'em\": 31002, 'scanbc': 31003, 'ig4hunnit': 31004, 'zcvdyvhvc7': 31005, '20mins': 31006, 'daniellecarr01': 31007, 'victoriasecret': 31008, 'ibnlkwuuns': 31009, 'lowworldsfinest': 31010, 'borgore': 31011, 'iycmi': 31012, 'meeshdc': 31013, 'condemning': 31014, 'abuser': 31015, 'donaire': 31016, 'lataa': 31017, 'bryanna': 31018, '1bree': 31019, 'bree': 31020, 'dutchy': 31021, 'isny': 31022, 'smackhead': 31023, 'sagarikaghose': 31024, 'rajdeep': 31025, 'afboycie': 31026, 'brocklesnar': 31027, 'daft': 31028, 'linnykravtiz': 31029, 'mona': 31030, 'lisa': 31031, 'dj3odvdap0': 31032, 'knotch': 31033, 'chubbylumpkins': 31034, 'steubenville': 31035, 'rollen': 31036, 'och': 31037, 'wonderbaarlijk': 31038, 'jan': 31039, 'alweer': 31040, 'marokkaanse': 31041, 'bner': 31042, 'aan': 31043, 'stok': 31044, 'fatima': 31045, 'lamyea': 31046, 'tofik': 31047, 'abdelka': 31048, 'gevonden': 31049, 'charleeredz13': 31050, 'trace': 31051, 'malone': 31052, 'tracieeeeee': 31053, 'wha': 31054, 'showtime': 31055, 'tec': 31056, 'dipping': 31057, 'creamy': 31058, 'toolbox': 31059, 'starin': 31060, 'kakestevens': 31061, 'mandaclementine': 31062, 'gatoraide': 31063, 'andrewjburns1': 31064, 'emnado1qoj': 31065, 'crystalcheyenne': 31066, 'sariyadaniellee': 31067, 'sues': 31068, 'hoponthebeast': 31069, 'kd3iseiold': 31070, 'yungxsmba': 31071, \"massah's\": 31072, 'heelsoversneaks': 31073, 'slicknet': 31074, 'netmag': 31075, 'nrana777': 31076, 'briccone79': 31077, 'pvvrivierenland': 31078, 'moest': 31079, 'plisie': 31080, 'meteen': 31081, 'juistja': 31082, 'willen': 31083, 'mensen': 31084, 'vertellen': 31085, 'freelikeabird': 31086, 'itstheboomshow': 31087, 'fricknawesome': 31088, 'nreid27': 31089, 'getwitme': 31090, 'mikcakers': 31091, 'tdzxbl6isf': 31092, 'way2fengshui': 31093, '2tonedasupastar': 31094, 'zwrimdzqnv': 31095, 'dcornothing': 31096, 'swagggbro': 31097, 'rod4short': 31098, '279': 31099, 'kyn7izfw4i': 31100, 'texashickspanic': 31101, 'randycaliboi': 31102, 'rwvyvpye2n': 31103, 'gy9urbtq1q': 31104, 'wsj': 31105, 'michane': 31106, 'danieebro': 31107, 'ispeakcomedy': 31108, 'crazyyy': 31109, 'hfktledkpa': 31110, 'tarrant': 31111, 'wasteoftime': 31112, 'badlvck': 31113, 'lickmywhooooop': 31114, 'ensnf9rgph': 31115, 'tommayydoee': 31116, 'badonkadonks': 31117, 'beji': 31118, 'identify': 31119, 'gillis': 31120, 'lunches': 31121, 'bankroll': 31122, 'svo': 31123, 'staceynodash': 31124, 'parallel': 31125, 'redscarebot': 31126, '9773': 31127, 'lnqnpchcia': 31128, 'hackin': 31129, 'matthews': 31130, 'nspan17': 31131, 'bender3395': 31132, 'grin': 31133, 'krisinizu': 31134, 'snappin': 31135, 'lindseylove': 31136, '2jcql8pflc': 31137, 'slittin': 31138, 'ashlynwynns': 31139, 'jmc2488': 31140, 'thatsfoodporn': 31141, 'obytemi3ed': 31142, 'pluck': 31143, 'heidypalma21': 31144, 'sexualgifss': 31145, '1vhc9lqskg': 31146, 'jessyca': 31147, 'daysi': 31148, 'kcarmouche': 31149, 'nachumlist': 31150, 'nwgij1mjia': 31151, 'ton3zz': 31152, 'swirling': 31153, 'thachicagobull': 31154, 'dimpledjoint': 31155, 'curtyndacut': 31156, 'zedd': 31157, 'drettab': 31158, 'foriegn': 31159, 'garcia13': 31160, 'officialvondell': 31161, 'mygirlfriendnotallowedto': 31162, 'milkshakes': 31163, 'vandtrailroad': 31164, 'didyouknow': 31165, 'comstock': 31166, 'lode': 31167, 'largest': 31168, 'wealthiest': 31169, 'bookie': 31170, 'creepyscout': 31171, 'bouncer': 31172, \"ballin'\": 31173, 'semaj': 31174, 'hoee': 31175, 'tiffanyluxride': 31176, 'squish': 31177, 'darealnano1900': 31178, 'biiiiiiiitch': 31179, 'niggggg': 31180, 'fuckboirik': 31181, 'youza': 31182, 'attainable': 31183, 'xthemaddhatter': 31184, 'polierburrr': 31185, 'r0seaddams': 31186, 'wwsinej': 31187, 'sarahauten': 31188, 'chair': 31189, 'finallevel': 31190, '17k': 31191, 'cutespartacus': 31192, 'retriever': 31193, 'dammn': 31194, 'potheads': 31195, 'nezzie': 31196, 'nezz': 31197, 'realffriends': 31198, 'aesthetic': 31199, 'cyopcv8oq8': 31200, 'lmaoooooooooooo': 31201, 'skyscrapers': 31202, 'koc9uybfqv': 31203, 'eckman': 31204, '127812': 31205, 'blackberrytroll': 31206, 'determined': 31207, 'actuality': 31208, 'shavonne': 31209, 'extend': 31210, 'awwe': 31211, 'perf': 31212, 'patrickquelo': 31213, 'bumps': 31214, 'underground': 31215, 'koreyona': 31216, 'streaming': 31217, 's6hy2evoat': 31218, 'lifeasababe': 31219, 'pinkypromise': 31220, 'webradius': 31221, 'solemnwatch': 31222, 'ylvtluzsi0': 31223, 'ruby': 31224, 'chiquito': 31225, 'dubpeeworld': 31226, 'shovels': 31227, 'littledebbie': 31228, 'ooilml6m': 31229, 'gertrude': 31230, 'larue': 31231, 'abbeygoldd': 31232, 'joo': 31233, 'musts': 31234, 'stealin': 31235, 'oviedo': 31236, 'debarge': 31237, 'acealford': 31238, 'vzwsupport': 31239, 's3': 31240, '4g': 31241, 'ronsonsolaqa': 31242, 'rac': 31243, '922': 31244, 'rubberbandits': 31245, 'ritchie': 31246, '03pgoqqjys': 31247, 'tweekin': 31248, 'av9ypjtwxn': 31249, 'wvjoe911': 31250, 'hkmfpnruku': 31251, 'aoas': 31252, 'byeeee': 31253, 'grapevine': 31254, 'lewisville': 31255, '8zcjww56zz': 31256, 'mightbekoi': 31257, 'troyy': 31258, 'edward': 31259, 'sparkled': 31260, 'sagaciousq': 31261, 'kamehameha': 31262, 'obito': 31263, 'fittin': 31264, 'aypwhr0j62': 31265, 'thebootycluh': 31266, 'xoxomooky': 31267, 'yoursel': 31268, 'nocontextads': 31269, 'gladys': 31270, 'lqbu0jg3br': 31271, 'floridalex51': 31272, 'pummel': 31273, 'whatareollies': 31274, 'friendzoned': 31275, 'daaaaaaaam': 31276, 'peterose': 31277, '1941': 31278, 'indians': 31279, 'streak': 31280, 'laralogan': 31281, 'j0kcejqd0j': 31282, 'sicilianinheels': 31283, 'y3lla': 31284, 'chrissynich': 31285, 'uppity': 31286, 'siding': 31287, 'grim': 31288, 'beyondbanksy': 31289, 'breakingnews': 31290, 'streetart': 31291, 'mural': 31292, 'duo': 31293, 'etamcru': 31294, 'georgekelleyjr': 31295, \"parent's\": 31296, 'rononealdc': 31297, 'tg': 31298, 'hawks': 31299, 'y0sja0dyfm': 31300, 'tylerdunn22': 31301, 'kaaygq': 31302, 'icejjfish': 31303, 'sialovely': 31304, 'jxtvd6dvdu': 31305, 'bywatergal': 31306, 'capped': 31307, 'hof': 31308, 'ppppoppin': 31309, 'poppers': 31310, 'bitchezzz': 31311, 'maverick': 31312, 'communicating': 31313, 'comrade': 31314, 'imperialist': 31315, 'birdie': 31316, '38gz1jerps': 31317, 'lupemecoje': 31318, 'votes': 31319, '9artp5ymbs': 31320, 'every1': 31321, 'bigass': 31322, 'pussya': 31323, 'jennybaquing': 31324, 'restricted': 31325, 'pvtruest': 31326, 'nevertrustabitch': 31327, 'hermit': 31328, 'thrush': 31329, 'chepa': 31330, 'irma': 31331, 'jharmelink182': 31332, 'cinndyyxoxo': 31333, 'briannniloo': 31334, 'googling': 31335, 'toooooo': 31336, 'jalen': 31337, 'notpresly': 31338, 'dmt': 31339, 'hoodjesusyo': 31340, 'sinner': 31341, 'jemima': 31342, 'disown': 31343, 'm1qiwk4xzg': 31344, 'fitcchh': 31345, 'entmagazine': 31346, 'magisto': 31347, 'digitalskeptic': 31348, 'fwy': 31349, 'diamondloudkush': 31350, 'ollusion': 31351, 'ollusions': 31352, 'fuivthvzyn': 31353, 'doprettyshiz': 31354, 'juvie': 31355, 'hollygolawly': 31356, 'metropole': 31357, '21clouisville': 31358, 'lkzlqqj7w1': 31359, 'stalkin': 31360, 'ch3burashka': 31361, 'roro': 31362, 'sophie': 31363, 'fhfgbsihhe': 31364, 'cuhh': 31365, 'uma': 31366, 'gogetit': 31367, 'marqsback': 31368, 'xzi': 31369, 'flyguychanze': 31370, 'vinny2vicious': 31371, 'lordknows': 31372, 'nng2e1wmx9': 31373, 'sexreiationship': 31374, 'maiapapayyya': 31375, 'offgridsurvival': 31376, 'epa': 31377, 'zealous': 31378, 'forgive': 31379, 'winnie': 31380, '0gexxj3svv': 31381, 'ruizmaria15': 31382, 'ourcofe': 31383, 'ordination': 31384, 'weaken': 31385, 'gardens': 31386, 'hoein': 31387, 'trillest': 31388, '304': 31389, 'dateing': 31390, 'magnet': 31391, 'crunk': 31392, 'bodiedxo': 31393, 'towie': 31394, 'yu3xkxbcyt': 31395, 'charlieking85': 31396, 'angelis': 31397, 'messier': 31398, 'environmentally': 31399, 'unfriendly': 31400, 'spouts': 31401, 'innov82bgr8': 31402, 'swine': 31403, 'bloomberg': 31404, 'pseudobread': 31405, 'completes': 31406, 'motif': 31407, 'nests': 31408, 'downspouts': 31409, 'iideaiid': 31410, 'jquiiin': 31411, 'jebidiah': 31412, 'mygirlcannot': 31413, 'malloryynfante': 31414, 'krustyiscute': 31415, 'jkatz': 31416, 'kaylee': 31417, 'binion14': 31418, 'mcoznht7n2': 31419, 'relentiessness': 31420, 'gbr2yv669y': 31421, 'resurrected': 31422, 'howler': 31423, 'asains': 31424, 'miketaylorshow': 31425, 'fallinginthedraft': 31426, 'fuckyouisaac': 31427, 'owwkiana': 31428, 'zd3vctxgxh': 31429, 'womanlogic': 31430, 'nripmcpnge': 31431, 'rudepost': 31432, '0zsu3zqixd': 31433, 'slammed': 31434, 'bromine': 31435, 'holmium': 31436, 'rell1hundo': 31437, 'presidentialpounding': 31438, \"sterling's\": 31439, 'richardbspencer': 31440, 'senrandpaul': 31441, 'zpkimh9ftg': 31442, 'sarcasm': 31443, 'fleeto': 31444, 'klutzy': 31445, 'ahimla2': 31446, 'arse': 31447, 'biotch': 31448, 'hellhole': 31449, 'callen': 31450, 'niggar': 31451, 'astonishing': 31452, 'toco': 31453, \"diana's\": 31454, 'barbienixon': 31455, '2minutes': 31456, 'fanny': 31457, 'inly': 31458, 'helgasfishtales': 31459, 'kimlau': 31460, 'taradise': 31461, 'grail': 31462, 'mentoring': 31463, 'kourtney': 31464, 'kylie': 31465, 'cantor': 31466, 'qjyuw4ox0o': 31467, 'miranda': 31468, 'directioner': 31469, 'thankyoupaulforconfirminglarry': 31470, 'biscuit': 31471, 'aaroncarter': 31472, 'drita': 31473, 'foolin': 31474, 'item': 31475, 'cumshot': 31476, 'uonsdrauv0': 31477, 'troyaikman': 31478, 'wastedsatan': 31479, 'ane': 31480, 'florence': 31481, '4dm8fpcb2d': 31482, 'hannahjoeckel': 31483, 'backkkk': 31484, 'cherokee': 31485, 'nets': 31486, 'littlecbeadles': 31487, 'pedroballout': 31488, 'apeezybaby': 31489, \"year's\": 31490, 'nye14': 31491, 'drunkinlove': 31492, 'fsga5wtkxn': 31493, 'jusxdoit': 31494, \"hangin'\": 31495, 'hellaratchet': 31496, 'backpacks': 31497, 'htownzoutlaw713': 31498, 'keshawn': 31499, 'soooooooooo': 31500, 'nothinglikeit15': 31501, 'lassie': 31502, 'greggs': 31503, 'nobod': 31504, 'richardengel': 31505, \"love'em\": 31506, 'sneakerhead226': 31507, '6g7jnmow': 31508, 'shessuchadoll': 31509, 'drewwhosurdaddy': 31510, 'w7tej28anr': 31511, 'taylorsimonee': 31512, '<pad>': 0}\n"
          ]
        }
      ]
    },
    {
      "cell_type": "code",
      "source": [
        "#for italian\n",
        "X_train_ita = tf.keras.utils.pad_sequences(X_train_ita, maxlen=SEQ_LENGTH)\n",
        "X_test_ita = tf.keras.utils.pad_sequences(X_test_ita, maxlen=SEQ_LENGTH)"
      ],
      "metadata": {
        "id": "qOKJMaeXttcV"
      },
      "execution_count": 46,
      "outputs": []
    },
    {
      "cell_type": "code",
      "source": [
        "#for english\n",
        "X_train_en = tf.keras.utils.pad_sequences(X_train_en, maxlen=SEQ_LENGTH)\n",
        "X_test_en = tf.keras.utils.pad_sequences(X_test_en, maxlen=SEQ_LENGTH)"
      ],
      "metadata": {
        "id": "9UL6HbxQd2bn"
      },
      "execution_count": 47,
      "outputs": []
    },
    {
      "cell_type": "code",
      "source": [
        "len(X_train_en[76])"
      ],
      "metadata": {
        "colab": {
          "base_uri": "https://localhost:8080/"
        },
        "id": "ONHZoC9YmqiA",
        "outputId": "31b6a68b-5d6f-4a97-f660-e7104c824beb"
      },
      "execution_count": 48,
      "outputs": [
        {
          "output_type": "execute_result",
          "data": {
            "text/plain": [
              "300"
            ]
          },
          "metadata": {},
          "execution_count": 48
        }
      ]
    },
    {
      "cell_type": "markdown",
      "source": [
        "## Create the \"local\" embedding matrix\n",
        "\n",
        "Now that we have:\n",
        "- Embedding list\n",
        "- Dictionary word → embedding id\n",
        "- Local id representation of the words extracted from the tweets\n",
        "\n",
        "We need to create the link between our found words and their representation in our multilingual embedding space.\n",
        "\n",
        "We create an embedding matrix where each row contains the embedding of the word indexed by its row number (local id)."
      ],
      "metadata": {
        "id": "wp1hFCIJOBVH"
      }
    },
    {
      "cell_type": "code",
      "source": [
        "def create_embedding_matrix(target_word2id, embedding_word2id, embeddings, num_rows, num_columns):\n",
        "    embedding_matrix = np.zeros((num_rows, num_columns))\n",
        "    for word, i in target_word2id.items():\n",
        "        if i >= num_rows:\n",
        "            break\n",
        "        if word in embedding_word2id:\n",
        "            embedding_matrix[i] = embeddings[embedding_word2id[word]]\n",
        "    return embedding_matrix"
      ],
      "metadata": {
        "id": "S30rkshBhn71"
      },
      "execution_count": 49,
      "outputs": []
    },
    {
      "cell_type": "code",
      "source": [
        "word2id_en = t.word_index\n",
        "word2id_it = t.word_index\n",
        "\n",
        "embedding_matrix_it = create_embedding_matrix(word2id_it, embedding_word2id_it, embeddings_it, VOCABULARY_SIZE+INDEX_FROM-1, EMBEDDING_DIM)\n",
        "embedding_matrix_en = create_embedding_matrix(word2id_en, embedding_word2id_en, embeddings_en, VOCABULARY_SIZE+INDEX_FROM-1, EMBEDDING_DIM)"
      ],
      "metadata": {
        "id": "oqBoJGyueD-8"
      },
      "execution_count": 50,
      "outputs": []
    },
    {
      "cell_type": "code",
      "source": [
        "embedding_matrix_it"
      ],
      "metadata": {
        "colab": {
          "base_uri": "https://localhost:8080/"
        },
        "id": "McKo8Gg8uVCQ",
        "outputId": "09b6f8f4-941c-45b3-d41b-14a92cee2199"
      },
      "execution_count": 51,
      "outputs": [
        {
          "output_type": "execute_result",
          "data": {
            "text/plain": [
              "array([[ 0.        ,  0.        ,  0.        , ...,  0.        ,\n",
              "         0.        ,  0.        ],\n",
              "       [ 0.        ,  0.        ,  0.        , ...,  0.        ,\n",
              "         0.        ,  0.        ],\n",
              "       [ 0.        ,  0.        ,  0.        , ...,  0.        ,\n",
              "         0.        ,  0.        ],\n",
              "       ...,\n",
              "       [-0.0365198 , -0.0529181 , -0.079978  , ...,  0.0740944 ,\n",
              "         0.00250093,  0.0662877 ],\n",
              "       [ 0.        ,  0.        ,  0.        , ...,  0.        ,\n",
              "         0.        ,  0.        ],\n",
              "       [ 0.        ,  0.        ,  0.        , ...,  0.        ,\n",
              "         0.        ,  0.        ]])"
            ]
          },
          "metadata": {},
          "execution_count": 51
        }
      ]
    },
    {
      "cell_type": "code",
      "source": [
        "embedding_matrix_en"
      ],
      "metadata": {
        "colab": {
          "base_uri": "https://localhost:8080/"
        },
        "id": "WygrIqSSiqjE",
        "outputId": "38c591f5-e960-4330-ea3a-057c1f4cb92e"
      },
      "execution_count": 52,
      "outputs": [
        {
          "output_type": "execute_result",
          "data": {
            "text/plain": [
              "array([[ 0.00000e+00,  0.00000e+00,  0.00000e+00, ...,  0.00000e+00,\n",
              "         0.00000e+00,  0.00000e+00],\n",
              "       [ 0.00000e+00,  0.00000e+00,  0.00000e+00, ...,  0.00000e+00,\n",
              "         0.00000e+00,  0.00000e+00],\n",
              "       [ 0.00000e+00,  0.00000e+00,  0.00000e+00, ...,  0.00000e+00,\n",
              "         0.00000e+00,  0.00000e+00],\n",
              "       ...,\n",
              "       [ 3.05832e-02, -6.34159e-02, -7.57920e-02, ...,  4.42223e-02,\n",
              "        -3.30002e-02,  5.60978e-02],\n",
              "       [-3.16791e-02, -2.64557e-05, -1.04310e-01, ...,  5.05094e-02,\n",
              "         1.13158e-01,  1.58598e-02],\n",
              "       [-4.15937e-02,  2.00666e-02, -2.61785e-02, ...,  2.71017e-02,\n",
              "         4.85948e-03, -3.77326e-02]])"
            ]
          },
          "metadata": {},
          "execution_count": 52
        }
      ]
    },
    {
      "cell_type": "markdown",
      "source": [
        "## Baseline"
      ],
      "metadata": {
        "id": "fkWAVdMDCzgu"
      }
    },
    {
      "cell_type": "markdown",
      "source": [],
      "metadata": {
        "id": "V4vGvJIBEC5X"
      }
    },
    {
      "cell_type": "code",
      "source": [
        "from sklearn.naive_bayes import BernoulliNB\n",
        "\n",
        "nb_clf = BernoulliNB()\n",
        "nb_clf.fit(X_train_en, Y_train_en)"
      ],
      "metadata": {
        "colab": {
          "base_uri": "https://localhost:8080/",
          "height": 75
        },
        "id": "PLwHi8VfEEVL",
        "outputId": "337b66c2-9248-47db-e796-a49d2adc6b79"
      },
      "execution_count": 53,
      "outputs": [
        {
          "output_type": "execute_result",
          "data": {
            "text/plain": [
              "BernoulliNB()"
            ],
            "text/html": [
              "<style>#sk-container-id-1 {color: black;background-color: white;}#sk-container-id-1 pre{padding: 0;}#sk-container-id-1 div.sk-toggleable {background-color: white;}#sk-container-id-1 label.sk-toggleable__label {cursor: pointer;display: block;width: 100%;margin-bottom: 0;padding: 0.3em;box-sizing: border-box;text-align: center;}#sk-container-id-1 label.sk-toggleable__label-arrow:before {content: \"▸\";float: left;margin-right: 0.25em;color: #696969;}#sk-container-id-1 label.sk-toggleable__label-arrow:hover:before {color: black;}#sk-container-id-1 div.sk-estimator:hover label.sk-toggleable__label-arrow:before {color: black;}#sk-container-id-1 div.sk-toggleable__content {max-height: 0;max-width: 0;overflow: hidden;text-align: left;background-color: #f0f8ff;}#sk-container-id-1 div.sk-toggleable__content pre {margin: 0.2em;color: black;border-radius: 0.25em;background-color: #f0f8ff;}#sk-container-id-1 input.sk-toggleable__control:checked~div.sk-toggleable__content {max-height: 200px;max-width: 100%;overflow: auto;}#sk-container-id-1 input.sk-toggleable__control:checked~label.sk-toggleable__label-arrow:before {content: \"▾\";}#sk-container-id-1 div.sk-estimator input.sk-toggleable__control:checked~label.sk-toggleable__label {background-color: #d4ebff;}#sk-container-id-1 div.sk-label input.sk-toggleable__control:checked~label.sk-toggleable__label {background-color: #d4ebff;}#sk-container-id-1 input.sk-hidden--visually {border: 0;clip: rect(1px 1px 1px 1px);clip: rect(1px, 1px, 1px, 1px);height: 1px;margin: -1px;overflow: hidden;padding: 0;position: absolute;width: 1px;}#sk-container-id-1 div.sk-estimator {font-family: monospace;background-color: #f0f8ff;border: 1px dotted black;border-radius: 0.25em;box-sizing: border-box;margin-bottom: 0.5em;}#sk-container-id-1 div.sk-estimator:hover {background-color: #d4ebff;}#sk-container-id-1 div.sk-parallel-item::after {content: \"\";width: 100%;border-bottom: 1px solid gray;flex-grow: 1;}#sk-container-id-1 div.sk-label:hover label.sk-toggleable__label {background-color: #d4ebff;}#sk-container-id-1 div.sk-serial::before {content: \"\";position: absolute;border-left: 1px solid gray;box-sizing: border-box;top: 0;bottom: 0;left: 50%;z-index: 0;}#sk-container-id-1 div.sk-serial {display: flex;flex-direction: column;align-items: center;background-color: white;padding-right: 0.2em;padding-left: 0.2em;position: relative;}#sk-container-id-1 div.sk-item {position: relative;z-index: 1;}#sk-container-id-1 div.sk-parallel {display: flex;align-items: stretch;justify-content: center;background-color: white;position: relative;}#sk-container-id-1 div.sk-item::before, #sk-container-id-1 div.sk-parallel-item::before {content: \"\";position: absolute;border-left: 1px solid gray;box-sizing: border-box;top: 0;bottom: 0;left: 50%;z-index: -1;}#sk-container-id-1 div.sk-parallel-item {display: flex;flex-direction: column;z-index: 1;position: relative;background-color: white;}#sk-container-id-1 div.sk-parallel-item:first-child::after {align-self: flex-end;width: 50%;}#sk-container-id-1 div.sk-parallel-item:last-child::after {align-self: flex-start;width: 50%;}#sk-container-id-1 div.sk-parallel-item:only-child::after {width: 0;}#sk-container-id-1 div.sk-dashed-wrapped {border: 1px dashed gray;margin: 0 0.4em 0.5em 0.4em;box-sizing: border-box;padding-bottom: 0.4em;background-color: white;}#sk-container-id-1 div.sk-label label {font-family: monospace;font-weight: bold;display: inline-block;line-height: 1.2em;}#sk-container-id-1 div.sk-label-container {text-align: center;}#sk-container-id-1 div.sk-container {/* jupyter's `normalize.less` sets `[hidden] { display: none; }` but bootstrap.min.css set `[hidden] { display: none !important; }` so we also need the `!important` here to be able to override the default hidden behavior on the sphinx rendered scikit-learn.org. See: https://github.com/scikit-learn/scikit-learn/issues/21755 */display: inline-block !important;position: relative;}#sk-container-id-1 div.sk-text-repr-fallback {display: none;}</style><div id=\"sk-container-id-1\" class=\"sk-top-container\"><div class=\"sk-text-repr-fallback\"><pre>BernoulliNB()</pre><b>In a Jupyter environment, please rerun this cell to show the HTML representation or trust the notebook. <br />On GitHub, the HTML representation is unable to render, please try loading this page with nbviewer.org.</b></div><div class=\"sk-container\" hidden><div class=\"sk-item\"><div class=\"sk-estimator sk-toggleable\"><input class=\"sk-toggleable__control sk-hidden--visually\" id=\"sk-estimator-id-1\" type=\"checkbox\" checked><label for=\"sk-estimator-id-1\" class=\"sk-toggleable__label sk-toggleable__label-arrow\">BernoulliNB</label><div class=\"sk-toggleable__content\"><pre>BernoulliNB()</pre></div></div></div></div></div>"
            ]
          },
          "metadata": {},
          "execution_count": 53
        }
      ]
    },
    {
      "cell_type": "code",
      "source": [
        "test_ds_predicted = nb_clf.predict(X_test_en)\n",
        "test_ds_predicted"
      ],
      "metadata": {
        "colab": {
          "base_uri": "https://localhost:8080/"
        },
        "id": "jgKLHcADERHz",
        "outputId": "9aa5a9e7-c271-4482-8c8d-f926942cff4f"
      },
      "execution_count": 54,
      "outputs": [
        {
          "output_type": "execute_result",
          "data": {
            "text/plain": [
              "array([1, 1, 1, ..., 1, 0, 1])"
            ]
          },
          "metadata": {},
          "execution_count": 54
        }
      ]
    },
    {
      "cell_type": "code",
      "source": [
        "from sklearn import metrics\n",
        "print(metrics.classification_report(Y_test_en,test_ds_predicted))"
      ],
      "metadata": {
        "colab": {
          "base_uri": "https://localhost:8080/"
        },
        "id": "6km44DDnEV3s",
        "outputId": "291bc584-f6ec-4ee8-9eef-039e54bbfd99"
      },
      "execution_count": 55,
      "outputs": [
        {
          "output_type": "stream",
          "name": "stdout",
          "text": [
            "              precision    recall  f1-score   support\n",
            "\n",
            "           0       0.23      0.40      0.29       867\n",
            "           1       0.85      0.72      0.78      4090\n",
            "\n",
            "    accuracy                           0.67      4957\n",
            "   macro avg       0.54      0.56      0.54      4957\n",
            "weighted avg       0.74      0.67      0.70      4957\n",
            "\n"
          ]
        }
      ]
    },
    {
      "cell_type": "markdown",
      "source": [
        "## LSTM Model\n",
        "\n",
        "From: https://github.com/mdabashar/Deep-Learning-Algorithms/blob/master/LSTM%20Hate%20Speech%20Detection.ipynb\n",
        "\n",
        "BASELINE: https://www.researchgate.net/figure/Baseline-LSTM-model-architecture_fig2_363399494"
      ],
      "metadata": {
        "id": "bpfTasTC8ZAq"
      }
    },
    {
      "cell_type": "code",
      "source": [
        "WEIGHTS = embedding_matrix_en #embedding_matrix_it\n",
        "\n",
        "#baseline LSTM architecture from the paper\n",
        "def lstm_model(embedding_matrix=WEIGHTS, input_length = SEQ_LENGTH):\n",
        "    input = keras.layers.Input(shape=(SEQ_LENGTH,), dtype='int32')\n",
        "    encoder = keras.layers.Embedding(VOCABULARY_SIZE+INDEX_FROM-1, EMBEDDING_DIM, weights=[embedding_matrix], input_length=input_length, trainable=False)(input)\n",
        "    x = keras.layers.Bidirectional(keras.layers.LSTM(32, dropout=0.5, return_sequences=True))(encoder)\n",
        "    x = keras.layers.Bidirectional(keras.layers.LSTM(64, dropout=0.5,return_sequences=True))(x)\n",
        "    x = keras.layers.Flatten()(x)\n",
        "    x = keras.layers.Dense(64)(x)\n",
        "    x = keras.layers.Dense(1)(x)\n",
        "    output = keras.layers.Activation('sigmoid')(x)\n",
        "    model = Model(inputs=[input], outputs=[output])\n",
        "    model.compile(loss='binary_crossentropy', optimizer='adam', metrics=['accuracy']) #adamW\n",
        "    return model\n",
        "\n",
        "lstm_model = lstm_model()\n",
        "lstm_model.summary()"
      ],
      "metadata": {
        "colab": {
          "base_uri": "https://localhost:8080/"
        },
        "id": "U8UwntEi8bOx",
        "outputId": "ccde5d4e-1be2-413d-ca86-4c84cda2f5e1"
      },
      "execution_count": 56,
      "outputs": [
        {
          "output_type": "stream",
          "name": "stdout",
          "text": [
            "Model: \"model\"\n",
            "_________________________________________________________________\n",
            " Layer (type)                Output Shape              Param #   \n",
            "=================================================================\n",
            " input_1 (InputLayer)        [(None, 300)]             0         \n",
            "                                                                 \n",
            " embedding (Embedding)       (None, 300, 300)          3000600   \n",
            "                                                                 \n",
            " bidirectional (Bidirectiona  (None, 300, 64)          85248     \n",
            " l)                                                              \n",
            "                                                                 \n",
            " bidirectional_1 (Bidirectio  (None, 300, 128)         66048     \n",
            " nal)                                                            \n",
            "                                                                 \n",
            " flatten (Flatten)           (None, 38400)             0         \n",
            "                                                                 \n",
            " dense (Dense)               (None, 64)                2457664   \n",
            "                                                                 \n",
            " dense_1 (Dense)             (None, 1)                 65        \n",
            "                                                                 \n",
            " activation (Activation)     (None, 1)                 0         \n",
            "                                                                 \n",
            "=================================================================\n",
            "Total params: 5,609,625\n",
            "Trainable params: 2,609,025\n",
            "Non-trainable params: 3,000,600\n",
            "_________________________________________________________________\n"
          ]
        }
      ]
    },
    {
      "cell_type": "code",
      "source": [
        "from sklearn.utils.class_weight import compute_class_weight\n",
        "\n",
        "class_weights = compute_class_weight(class_weight = \"balanced\", classes = np.unique(Y_train_en), y = Y_train_en)\n",
        "class_weights = dict(zip(np.unique(Y_train_en), class_weights))\n",
        "class_weights"
      ],
      "metadata": {
        "colab": {
          "base_uri": "https://localhost:8080/"
        },
        "id": "etXERPWGIy4O",
        "outputId": "61f4370f-8cdd-46c6-dbfa-a62268735d23"
      },
      "execution_count": 57,
      "outputs": [
        {
          "output_type": "execute_result",
          "data": {
            "text/plain": [
              "{0: 3.0075849514563107, 1: 0.599697519661222}"
            ]
          },
          "metadata": {},
          "execution_count": 57
        }
      ]
    },
    {
      "cell_type": "code",
      "source": [
        "NUM_EPOCHS=20\n",
        "BATCH_SIZE=32\n",
        "\n",
        "earlystop = EarlyStopping(monitor='val_loss', patience=2)\n",
        "\n",
        "lstm_model.fit(X_train_en, Y_train_en, validation_data=(X_test_en, Y_test_en), epochs=NUM_EPOCHS, batch_size=BATCH_SIZE, callbacks=[earlystop], class_weight=class_weights)\n",
        "\n",
        "print(\"\\n\")\n",
        "\n",
        "# Final evaluation of the model\n",
        "scores = lstm_model.evaluate(X_test_en, Y_test_en)\n",
        "print(\"Accuracy: %.2f%%\" % (scores[1]*100))"
      ],
      "metadata": {
        "id": "49l06MzbAUWk"
      },
      "execution_count": null,
      "outputs": []
    },
    {
      "cell_type": "code",
      "source": [
        "#Predict\n",
        "y_prediction = lstm_model.predict(X_test_en)\n",
        "y_prediction = (y_prediction >= 0.5).astype(int)\n",
        "\n",
        "#Create confusion matrix and normalizes it over predicted (columns)\n",
        "cm = confusion_matrix(Y_test_en, y_prediction , normalize='pred')\n",
        "\n",
        "disp = ConfusionMatrixDisplay(confusion_matrix=cm)\n",
        "disp.plot()\n",
        "plt.show()"
      ],
      "metadata": {
        "colab": {
          "base_uri": "https://localhost:8080/",
          "height": 374
        },
        "id": "mUzRChU2b5Y8",
        "outputId": "24fff478-087d-4864-cdc2-30a4e9b38d59"
      },
      "execution_count": 59,
      "outputs": [
        {
          "output_type": "stream",
          "name": "stdout",
          "text": [
            "155/155 [==============================] - 4s 16ms/step\n"
          ]
        },
        {
          "output_type": "error",
          "ename": "KeyboardInterrupt",
          "evalue": "ignored",
          "traceback": [
            "\u001b[0;31m---------------------------------------------------------------------------\u001b[0m",
            "\u001b[0;31mKeyboardInterrupt\u001b[0m                         Traceback (most recent call last)",
            "\u001b[0;32m<ipython-input-59-d5f43d3cd96c>\u001b[0m in \u001b[0;36m<cell line: 2>\u001b[0;34m()\u001b[0m\n\u001b[1;32m      1\u001b[0m \u001b[0;31m#Predict\u001b[0m\u001b[0;34m\u001b[0m\u001b[0;34m\u001b[0m\u001b[0m\n\u001b[0;32m----> 2\u001b[0;31m \u001b[0my_prediction\u001b[0m \u001b[0;34m=\u001b[0m \u001b[0mlstm_model\u001b[0m\u001b[0;34m.\u001b[0m\u001b[0mpredict\u001b[0m\u001b[0;34m(\u001b[0m\u001b[0mX_test_en\u001b[0m\u001b[0;34m)\u001b[0m\u001b[0;34m\u001b[0m\u001b[0;34m\u001b[0m\u001b[0m\n\u001b[0m\u001b[1;32m      3\u001b[0m \u001b[0my_prediction\u001b[0m \u001b[0;34m=\u001b[0m \u001b[0;34m(\u001b[0m\u001b[0my_prediction\u001b[0m \u001b[0;34m>=\u001b[0m \u001b[0;36m0.5\u001b[0m\u001b[0;34m)\u001b[0m\u001b[0;34m.\u001b[0m\u001b[0mastype\u001b[0m\u001b[0;34m(\u001b[0m\u001b[0mint\u001b[0m\u001b[0;34m)\u001b[0m\u001b[0;34m\u001b[0m\u001b[0;34m\u001b[0m\u001b[0m\n\u001b[1;32m      4\u001b[0m \u001b[0;34m\u001b[0m\u001b[0m\n\u001b[1;32m      5\u001b[0m \u001b[0;31m#Create confusion matrix and normalizes it over predicted (columns)\u001b[0m\u001b[0;34m\u001b[0m\u001b[0;34m\u001b[0m\u001b[0m\n",
            "\u001b[0;32m/usr/local/lib/python3.10/dist-packages/keras/utils/traceback_utils.py\u001b[0m in \u001b[0;36merror_handler\u001b[0;34m(*args, **kwargs)\u001b[0m\n\u001b[1;32m     63\u001b[0m         \u001b[0mfiltered_tb\u001b[0m \u001b[0;34m=\u001b[0m \u001b[0;32mNone\u001b[0m\u001b[0;34m\u001b[0m\u001b[0;34m\u001b[0m\u001b[0m\n\u001b[1;32m     64\u001b[0m         \u001b[0;32mtry\u001b[0m\u001b[0;34m:\u001b[0m\u001b[0;34m\u001b[0m\u001b[0;34m\u001b[0m\u001b[0m\n\u001b[0;32m---> 65\u001b[0;31m             \u001b[0;32mreturn\u001b[0m \u001b[0mfn\u001b[0m\u001b[0;34m(\u001b[0m\u001b[0;34m*\u001b[0m\u001b[0margs\u001b[0m\u001b[0;34m,\u001b[0m \u001b[0;34m**\u001b[0m\u001b[0mkwargs\u001b[0m\u001b[0;34m)\u001b[0m\u001b[0;34m\u001b[0m\u001b[0;34m\u001b[0m\u001b[0m\n\u001b[0m\u001b[1;32m     66\u001b[0m         \u001b[0;32mexcept\u001b[0m \u001b[0mException\u001b[0m \u001b[0;32mas\u001b[0m \u001b[0me\u001b[0m\u001b[0;34m:\u001b[0m\u001b[0;34m\u001b[0m\u001b[0;34m\u001b[0m\u001b[0m\n\u001b[1;32m     67\u001b[0m             \u001b[0mfiltered_tb\u001b[0m \u001b[0;34m=\u001b[0m \u001b[0m_process_traceback_frames\u001b[0m\u001b[0;34m(\u001b[0m\u001b[0me\u001b[0m\u001b[0;34m.\u001b[0m\u001b[0m__traceback__\u001b[0m\u001b[0;34m)\u001b[0m\u001b[0;34m\u001b[0m\u001b[0;34m\u001b[0m\u001b[0m\n",
            "\u001b[0;31mKeyboardInterrupt\u001b[0m: "
          ]
        }
      ]
    },
    {
      "cell_type": "code",
      "source": [
        "fake_tweet = \"i fucking love pizza\"\n",
        "fake_tweet = t.texts_to_sequences([fake_tweet])\n",
        "fake_tweet = tf.keras.utils.pad_sequences(fake_tweet, maxlen=SEQ_LENGTH)\n",
        "\n",
        "lstm_model.predict(fake_tweet)"
      ],
      "metadata": {
        "id": "MFOkazh2gw3X"
      },
      "execution_count": null,
      "outputs": []
    },
    {
      "cell_type": "markdown",
      "source": [
        "## Definition of the model\n",
        "\n",
        "Basic convolutional network taken from [this blog](https://machinelearningmastery.com/predict-sentiment-movie-reviews-using-deep-learning/), single-value output ranging from 0 to 1 indicating if its a hate speech tweet or not.\n",
        "\n",
        "Convolutional neural networks were designed to honor the spatial structure in image data while being robust to the position and orientation of learned objects in the scene.\n",
        "\n",
        "This same principle can be used on sequences, such as the one-dimensional sequence of words in a movie review. The same properties that make the CNN model attractive for learning to recognize objects in images can help to learn structure in paragraphs of words, namely the techniques invariance to the specific position of features."
      ],
      "metadata": {
        "id": "67Tz8V3zPDZ0"
      }
    },
    {
      "cell_type": "code",
      "source": [
        "WEIGHTS = embedding_matrix_en #embedding_matrix_it\n",
        "\n",
        "# Model\n",
        "model = Sequential()\n",
        "# ------\n",
        "model.add(keras.layers.Embedding(VOCABULARY_SIZE+INDEX_FROM-1, EMBEDDING_DIM, input_length=SEQ_LENGTH, weights=[WEIGHTS], trainable=False))\n",
        "# ------\n",
        "model.add(keras.layers.Conv1D(filters=32, kernel_size=3, padding='same', activation='relu'))\n",
        "model.add(keras.layers.MaxPooling1D(pool_size=2))\n",
        "model.add(keras.layers.Flatten())\n",
        "model.add(keras.layers.Dense(250, activation='relu'))\n",
        "model.add(keras.layers.Dense(1, activation='sigmoid'))\n",
        "\n",
        "# Compile\n",
        "model.compile(loss='binary_crossentropy', optimizer='adam', metrics=['accuracy'])\n",
        "\n",
        "print(model.summary())"
      ],
      "metadata": {
        "id": "qr8-ooyVj56r"
      },
      "execution_count": null,
      "outputs": []
    },
    {
      "cell_type": "code",
      "source": [
        "NUM_EPOCHS=5\n",
        "BATCH_SIZE=64\n",
        "\n",
        "earlystop = EarlyStopping(monitor='val_loss', patience=2)\n",
        "\n",
        "model.fit(X_train_en, Y_train_en, validation_data=(X_test_en, Y_test_en),\n",
        "          epochs=NUM_EPOCHS, batch_size=BATCH_SIZE, callbacks=[earlystop], class_weight=class_weights )\n",
        "\n",
        "print(\"\\n\")\n",
        "\n",
        "# Final evaluation of the model\n",
        "scores = model.evaluate(X_test_en, Y_test_en)\n",
        "print(\"Accuracy: %.2f%%\" % (scores[1]*100))"
      ],
      "metadata": {
        "id": "3qKxqpfYlcvt"
      },
      "execution_count": null,
      "outputs": []
    },
    {
      "cell_type": "code",
      "source": [
        "#Predict\n",
        "y_prediction = model.predict(X_test_en)\n",
        "y_prediction = (y_prediction >= 0.5).astype(int)\n",
        "\n",
        "\n",
        "#Create confusion matrix and normalizes it over predicted (columns)\n",
        "cm = confusion_matrix(Y_test_en, y_prediction , normalize='pred')\n",
        "\n",
        "disp = ConfusionMatrixDisplay(confusion_matrix=cm)\n",
        "disp.plot()\n",
        "plt.show()"
      ],
      "metadata": {
        "id": "NmVR4eT1QkLn"
      },
      "execution_count": null,
      "outputs": []
    },
    {
      "cell_type": "code",
      "source": [
        "subset = 10\n",
        "ground_truth_subset = Y_test_ita[:subset]\n",
        "prediction_subset = predicted_labels[:subset]\n",
        "text_subset = test_ita['text'].iloc[:subset]  #Non penso faccia lo stesso subset di ground_truth_subset\n",
        "\n",
        "for i in range (0, subset):\n",
        "  #TODO VEDERE DEL TESTO\n",
        "  print(\"Sample %d - Actual: %d, Predicted: %d\" % (i+1, ground_truth_subset[i], prediction_subset[i]))"
      ],
      "metadata": {
        "id": "c3KXVrLmviqy"
      },
      "execution_count": null,
      "outputs": []
    },
    {
      "cell_type": "markdown",
      "source": [
        "### Some tests"
      ],
      "metadata": {
        "id": "5Kcvw-h_IT4k"
      }
    },
    {
      "cell_type": "code",
      "source": [
        "id = 15\n",
        "tweet = np.array([X_test_en[id]])\n",
        "\n",
        "print(test_en.iloc[id]['tweet'], \" | \", test_en.iloc[id]['hate_speech'])\n",
        "model.predict(tweet)"
      ],
      "metadata": {
        "id": "k_Ta47lHsI9t"
      },
      "execution_count": null,
      "outputs": []
    },
    {
      "cell_type": "code",
      "source": [
        "fake_tweet = \"i fucking love pizzaaaaaaaaaaaaaaaa!!!!\"\n",
        "fake_tweet = t.texts_to_sequences([fake_tweet])\n",
        "fake_tweet = tf.keras.utils.pad_sequences(fake_tweet, maxlen=SEQ_LENGTH)\n",
        "\n",
        "model.predict(fake_tweet)"
      ],
      "metadata": {
        "id": "mBuoGjfeHZeM"
      },
      "execution_count": null,
      "outputs": []
    },
    {
      "cell_type": "code",
      "source": [
        "word2id_it = {word: idx+INDEX_FROM for idx, word in enumerate(top_n_list('it', VOCABULARY_SIZE))}\n",
        "word2id_it[\"<pad>\"] = 0\n",
        "word2id_it[\"<start>\"] = 2\n",
        "word2id_it[\"<unk>\"] = 1\n",
        "\n",
        "embedding_matrix_it = create_embedding_matrix(word2id_it, embedding_word2id_it, embeddings_it, VOCABULARY_SIZE+INDEX_FROM-1, EMBEDDING_DIM)"
      ],
      "metadata": {
        "id": "YUkTTheZJas3"
      },
      "execution_count": null,
      "outputs": []
    },
    {
      "cell_type": "code",
      "source": [
        "model.layers[0].set_weights([embedding_matrix_it])"
      ],
      "metadata": {
        "id": "QC3jUmFzK2GI"
      },
      "execution_count": null,
      "outputs": []
    },
    {
      "cell_type": "code",
      "source": [
        "#Predict\n",
        "y_prediction = model.predict(X_test_ita)\n",
        "y_prediction = (y_prediction >= 0.5).astype(int)\n",
        "\n",
        "\n",
        "#Create confusion matrix and normalizes it over predicted (columns)\n",
        "cm = confusion_matrix(Y_test_ita, y_prediction , normalize='pred')\n",
        "\n",
        "disp = ConfusionMatrixDisplay(confusion_matrix=cm)\n",
        "disp.plot()\n",
        "plt.show()"
      ],
      "metadata": {
        "id": "WhgMlSpnK52S"
      },
      "execution_count": null,
      "outputs": []
    },
    {
      "cell_type": "code",
      "source": [
        "fake_tweet = \"\"\n",
        "fake_tweet = t.texts_to_sequences([fake_tweet])\n",
        "fake_tweet = tf.keras.utils.pad_sequences(fake_tweet, maxlen=SEQ_LENGTH)\n",
        "\n",
        "model.predict(fake_tweet)"
      ],
      "metadata": {
        "id": "CSPVlNCKOMJt"
      },
      "execution_count": null,
      "outputs": []
    },
    {
      "cell_type": "markdown",
      "source": [
        "alora\n",
        "\n",
        "non funziona molto bene anche se ho seguito per bene tutto quello che fa il tipo\n",
        "\n",
        "1. secondo me è proprio per differenze linguistiche, teoricamente con i pesi dell'embedding in inglese ha capito come classificare i tweet riconoscendo la presenza di certe parole, e di conseguenza la loro posizione nello spazio dell'embedding\n",
        "  \n",
        "  cambiando l'embedding lui si aspetta di trovare parole brutte in certe posizioni spaziali con determinate relazioni che probabilmente non si preservano nello spazio italiano\n",
        "\n",
        "2. nonostante i risultati sia in inglese che in ita non siano poi così male, secondo me non performa comunque bene, ma credo la motivazione sia 50/50 dati e modello\n",
        "\n",
        "3. i dati non sono un gran chè (come sono classificati) e con il nostro modello semplice semplice secondo me scegle le label in maniera conservativa, sparando 1 appena trova una minima parolaccia\n",
        "\n",
        "4. in italiano non ho la più pallida idea di cosa reputi parolaccia, puoi scrivere le peggio cose e non lo labellllerà come offesa, sus......\n",
        "\n",
        "update rispetto qua sopra\n",
        "\n",
        "1. Non è vero, ho dimostrato che l'embedding è quello multilingual, quindi fico, parole più o meno nella stessa posizione poichè lo spazio è \"allineato\"\n",
        "\n",
        "  Il problema è che l'allineamento non è perfetto, cercando per NN si trovano le parole, ma ovviamente non sono vicine vicine, probabilmente questo nel modello fa si che la sua convinzione nel define qualcosa hate sia meno forte rispetto che in inglese, tipo poco sopra 0.5\n",
        "\n",
        "2. in realtà no, dipende dal modello. Essendo cnn come detto cerca corrispondenze spaziali e quindi secondo me ha imparato a riconoscere certe parole come \"nono word\" e ogni volta che le trova aumenta notevolmente la probabilità di essere classificato hs (e.g i fucking love pizzzza)\n",
        "\n",
        "3. forse si i dati non sono un granchè, e labella in maniera conservativa come detto in punto 2. Il vero problema forse sta anche nella differenza di come sono le frasi in italiano rispetto l'inglese. Forse in eng gli insulti sono più diretti/semplici (?) mentre in italiano sono molto più lunghi e boh incentrati sui migranti/politica (?)\n",
        "\n",
        "4. Confermo :)\n"
      ],
      "metadata": {
        "id": "lbZNBPhoQAdv"
      }
    },
    {
      "cell_type": "markdown",
      "source": [
        "---\n",
        "\n",
        "# TODO\n",
        "\n",
        "- stampicciare modificando la rete LSTM (se abbiamo voglia anche la cnn)\n",
        "- abbiamo gestico class imbalance in naive baises?\n",
        "- facciamo un pelo di random undersampling(?)\n",
        "- METTERE NOSTRO CARO AMICO BERT, multilinguale sta volta\n",
        "\n",
        "---"
      ],
      "metadata": {
        "id": "AXGWeO8-jHsG"
      }
    },
    {
      "cell_type": "code",
      "source": [
        "model_checkpoint = \"bert-base-multilingual-cased\""
      ],
      "metadata": {
        "id": "coHihnOLeJtA"
      },
      "execution_count": 60,
      "outputs": []
    },
    {
      "cell_type": "code",
      "source": [
        "tokenizer = AutoTokenizer.from_pretrained(model_checkpoint)"
      ],
      "metadata": {
        "id": "4UvH1RKJdww4",
        "colab": {
          "base_uri": "https://localhost:8080/",
          "height": 145,
          "referenced_widgets": [
            "50629fc92e4d47b89fc4fdbf36386581",
            "fcf2a16cb803464d8fc1be0bb7b3effb",
            "41a3bf2e21484915b3f28f98deb8ed6a",
            "4fd4a30f50dc4683be04819ef6445db1",
            "3485e7ad9f97435f8d3003b42a4922c3",
            "7d85d4ac43d54426b1bb45cb1328b36c",
            "f3bfdf889028468cae0734f9ddb1e002",
            "a24b5054ed964200a9dc38e69afb3675",
            "1abf4dbcfdb44a64919203f9d0b2c705",
            "73ff1229ee1b4dff98c0508d827a15b5",
            "552ebfc997da47f59b1b9acb1a40fb14",
            "91e6c236b6ff484ea794966de6044ac4",
            "061bef4c20b2486189dde0f3e009a995",
            "ecfebdd830524585a643e651e1a0d542",
            "67e3ae1d93724b3ba08a8c2ba8f6c8d9",
            "6b7333e7f761477788246cc3a7c0afef",
            "cc10bd09f8684246a979dad8525b00db",
            "aed7832cf3864e26ab1417af0725a6cf",
            "33b87904c8b8428692e6f81a0165857c",
            "47355d258c684703940afc8ea797bf64",
            "b8ef1ae550654b48a5310026be9c213c",
            "4020813323974d5eba34b53d1f6a448a",
            "0634def395224700854ddaee15796aab",
            "74333a40efa24ce1af51bb42b891828f",
            "7932a0d89ca649fd9cbdff11e6fc3908",
            "566b7bb20d724d709cc2e5b2261a93bb",
            "117bf2ebcfe147bca231f0ecc0dea25e",
            "8a3483f5bf564e98a24882afb6a21d6f",
            "cc2e8cfd9e5040f7a67a3be82add9dc8",
            "5d34bbf15ef34358ac852af766e0c50e",
            "06ddac618c3c4e0a8b9288dbc04fa3b2",
            "aa15514d610a4b518b62f30c213932ad",
            "ede1f85627c5452392eab960cb2fd440",
            "dfa315365cd44979af166306db137651",
            "6c3c2a2d432e4492b8a09d28fe16d7fb",
            "d451e2cbaa274232bca5fbd9f56aed5e",
            "d5336997e8224e6caae0c8c272db0048",
            "8771ac9bcfd0429cace8c1bf499d79e9",
            "e180b370986142d5850b424b9c7a440f",
            "5fd6a56f6ff94ae48aa6455be81d1f83",
            "9a6822a4447f42bf9de9da4f5a8e1282",
            "ecc16adc9ef34431ae47e13eaac1acc2",
            "6989451d185c46a0889307563e5f9cc8",
            "ff3783fe416c49b299cf19d1b32a5234"
          ]
        },
        "outputId": "0cd62ee8-fd99-4552-ea17-a444a1857b43"
      },
      "execution_count": 61,
      "outputs": [
        {
          "output_type": "display_data",
          "data": {
            "text/plain": [
              "Downloading (…)okenizer_config.json:   0%|          | 0.00/29.0 [00:00<?, ?B/s]"
            ],
            "application/vnd.jupyter.widget-view+json": {
              "version_major": 2,
              "version_minor": 0,
              "model_id": "50629fc92e4d47b89fc4fdbf36386581"
            }
          },
          "metadata": {}
        },
        {
          "output_type": "display_data",
          "data": {
            "text/plain": [
              "Downloading (…)lve/main/config.json:   0%|          | 0.00/625 [00:00<?, ?B/s]"
            ],
            "application/vnd.jupyter.widget-view+json": {
              "version_major": 2,
              "version_minor": 0,
              "model_id": "91e6c236b6ff484ea794966de6044ac4"
            }
          },
          "metadata": {}
        },
        {
          "output_type": "display_data",
          "data": {
            "text/plain": [
              "Downloading (…)solve/main/vocab.txt:   0%|          | 0.00/996k [00:00<?, ?B/s]"
            ],
            "application/vnd.jupyter.widget-view+json": {
              "version_major": 2,
              "version_minor": 0,
              "model_id": "0634def395224700854ddaee15796aab"
            }
          },
          "metadata": {}
        },
        {
          "output_type": "display_data",
          "data": {
            "text/plain": [
              "Downloading (…)/main/tokenizer.json:   0%|          | 0.00/1.96M [00:00<?, ?B/s]"
            ],
            "application/vnd.jupyter.widget-view+json": {
              "version_major": 2,
              "version_minor": 0,
              "model_id": "dfa315365cd44979af166306db137651"
            }
          },
          "metadata": {}
        }
      ]
    },
    {
      "cell_type": "code",
      "source": [
        "hg_train_en = datasets.Dataset(pa.Table.from_pandas(train_en))\n",
        "hg_test_en = datasets.Dataset(pa.Table.from_pandas(test_en))\n",
        "\n",
        "hg_test_ita = datasets.Dataset(pa.Table.from_pandas(test_ita))\n",
        "\n",
        "hg_ds = datasets.DatasetDict({\"train\":hg_train_en, \"test\":hg_test_en})\n",
        "\n",
        "hg_ds[\"train\"] = hg_ds[\"train\"].remove_columns([\"__index_level_0__\"]) # remove unwanted column\n",
        "hg_ds[\"test\"] = hg_ds[\"test\"].remove_columns([\"__index_level_0__\"]) # remove unwanted column\n",
        "hg_ds[\"train\"] = hg_ds[\"test\"].rename_column(\"hate_speech\", \"label\")\n",
        "hg_ds[\"test\"] = hg_ds[\"test\"].rename_column(\"hate_speech\", \"label\")"
      ],
      "metadata": {
        "id": "PlhMjT6BoMOU"
      },
      "execution_count": 62,
      "outputs": []
    },
    {
      "cell_type": "code",
      "source": [
        "hg_ds"
      ],
      "metadata": {
        "colab": {
          "base_uri": "https://localhost:8080/"
        },
        "id": "TUFT6pl-oq78",
        "outputId": "40b5cd7a-26be-49f9-fe19-4bede6cc2d79"
      },
      "execution_count": 63,
      "outputs": [
        {
          "output_type": "execute_result",
          "data": {
            "text/plain": [
              "DatasetDict({\n",
              "    train: Dataset({\n",
              "        features: ['label', 'tweet'],\n",
              "        num_rows: 4957\n",
              "    })\n",
              "    test: Dataset({\n",
              "        features: ['label', 'tweet'],\n",
              "        num_rows: 4957\n",
              "    })\n",
              "})"
            ]
          },
          "metadata": {},
          "execution_count": 63
        }
      ]
    },
    {
      "cell_type": "code",
      "source": [
        "def preprocess_functions(batch):\n",
        "  # Tokenize the input data\n",
        "  return tokenizer(\n",
        "    batch[\"tweet\"],\n",
        "    #max_length=SEQ_LENGTH,\n",
        "    #padding=True,\n",
        "    truncation=True)"
      ],
      "metadata": {
        "id": "g--0QGEZo_sU"
      },
      "execution_count": 64,
      "outputs": []
    },
    {
      "cell_type": "code",
      "source": [
        "tokenized_datasets_en = hg_ds.map(preprocess_functions, batch_size=32, batched=True)\n",
        "#tokenized_datasets_en.set_format(type=\"tensorflow\", columns=[\"input_ids\", \"attention_mask\"])"
      ],
      "metadata": {
        "colab": {
          "base_uri": "https://localhost:8080/",
          "height": 17,
          "referenced_widgets": [
            "7c9a6738b9584435ac4f1242948bfcf8",
            "d186cf36e63a427aaf5f9750d62c91e7",
            "a63993dde8764f84b20ef8a49aaef7e3",
            "16af34f800754b73b62e78314f99dda5",
            "249a3cd37a934acdb7d3d2fa4db7a46c",
            "bd9c4a19dab943889313caf5e5de1505",
            "fea9575c117d49c48f30decffa4e3818",
            "8b4281fe61414c66949e473c94d30a6e",
            "6db833399e2849ee86a963798ecdda92",
            "8ef61d1ef4a04c9b866851a9ee4de9bc",
            "fc5386e3142e49699f0274e75a9ab294",
            "5187973bd2f4468ca1bc20adbdeb7147",
            "70e94a3465bd424e9faba60fa505bef5",
            "9806cd12e6884671afcf89bcee71c88a",
            "d1fe67c8de674946a1d2a05a801456c4",
            "ab781b0bf37a4a54a59d96b88ab65083",
            "bbc90a2748a34367855eb889c6b6bb80",
            "ff8b8c8b600c486582bbea811f236b45",
            "1f4e1275cf144b31a48c098d1ef87f5b",
            "8b0e78d822d043ca868fa9c33d08f1ae",
            "73bc11cfa1134efca30af09235ba703c",
            "74d328ed6b2a477b919b297c2c1277c0"
          ]
        },
        "id": "gYXCqH7ZpwMk",
        "outputId": "79d097ac-8358-4ede-cb59-adc94b90d120"
      },
      "execution_count": 65,
      "outputs": [
        {
          "output_type": "display_data",
          "data": {
            "text/plain": [
              "Map:   0%|          | 0/4957 [00:00<?, ? examples/s]"
            ],
            "application/vnd.jupyter.widget-view+json": {
              "version_major": 2,
              "version_minor": 0,
              "model_id": "7c9a6738b9584435ac4f1242948bfcf8"
            }
          },
          "metadata": {}
        },
        {
          "output_type": "display_data",
          "data": {
            "text/plain": [
              "Map:   0%|          | 0/4957 [00:00<?, ? examples/s]"
            ],
            "application/vnd.jupyter.widget-view+json": {
              "version_major": 2,
              "version_minor": 0,
              "model_id": "5187973bd2f4468ca1bc20adbdeb7147"
            }
          },
          "metadata": {}
        }
      ]
    },
    {
      "cell_type": "code",
      "source": [
        "tokenized_datasets_en"
      ],
      "metadata": {
        "colab": {
          "base_uri": "https://localhost:8080/"
        },
        "id": "0JECYMkqqAQV",
        "outputId": "91111dea-f840-465d-f26c-4963bff4f510"
      },
      "execution_count": 66,
      "outputs": [
        {
          "output_type": "execute_result",
          "data": {
            "text/plain": [
              "DatasetDict({\n",
              "    train: Dataset({\n",
              "        features: ['label', 'tweet', 'input_ids', 'token_type_ids', 'attention_mask'],\n",
              "        num_rows: 4957\n",
              "    })\n",
              "    test: Dataset({\n",
              "        features: ['label', 'tweet', 'input_ids', 'token_type_ids', 'attention_mask'],\n",
              "        num_rows: 4957\n",
              "    })\n",
              "})"
            ]
          },
          "metadata": {},
          "execution_count": 66
        }
      ]
    },
    {
      "cell_type": "code",
      "source": [
        "tokenized_datasets_en['train'][0]"
      ],
      "metadata": {
        "colab": {
          "base_uri": "https://localhost:8080/"
        },
        "id": "i24yALqYlVRr",
        "outputId": "7126a505-f9d1-4514-a87e-4e811a4d90a3"
      },
      "execution_count": 67,
      "outputs": [
        {
          "output_type": "execute_result",
          "data": {
            "text/plain": [
              "{'label': 1,\n",
              " 'tweet': 'Take yo hoe ass to sleep',\n",
              " 'input_ids': [101, 21200, 13672, 22735, 13935, 10114, 63658, 102],\n",
              " 'token_type_ids': [0, 0, 0, 0, 0, 0, 0, 0],\n",
              " 'attention_mask': [1, 1, 1, 1, 1, 1, 1, 1]}"
            ]
          },
          "metadata": {},
          "execution_count": 67
        }
      ]
    },
    {
      "cell_type": "code",
      "source": [
        "model = TFAutoModelForSequenceClassification.from_pretrained(\n",
        "    model_checkpoint, num_labels=2\n",
        ")"
      ],
      "metadata": {
        "colab": {
          "base_uri": "https://localhost:8080/",
          "height": 138,
          "referenced_widgets": [
            "c84e54269edc46419c6561e512b2c8bf",
            "efbd19c22d74464aa4f1c3ba04b34455",
            "20ecbc61dad54a89af992b4e11712a4b",
            "e56765a4c9824710b0db16b4d7f4ca0c",
            "b57c305c6c144dec9b0eeddb58e8feff",
            "58e5bccfb03a41bea54ba54955445a26",
            "097ca3c13d134d2bb6105a2a09495662",
            "b4eac67d12cb4609994c0708c3a910f2",
            "7bca0ca86165419db5415e2f3b2ff444",
            "8bf59e026a5e4f77bf64bce9fd7b2ae8",
            "18aff37456b34146826b51f3d2647c61"
          ]
        },
        "id": "4KYEaYTHf_rx",
        "outputId": "614608c6-d322-48fc-dd4f-2c3a3ba5314a"
      },
      "execution_count": 68,
      "outputs": [
        {
          "output_type": "display_data",
          "data": {
            "text/plain": [
              "Downloading model.safetensors:   0%|          | 0.00/714M [00:00<?, ?B/s]"
            ],
            "application/vnd.jupyter.widget-view+json": {
              "version_major": 2,
              "version_minor": 0,
              "model_id": "c84e54269edc46419c6561e512b2c8bf"
            }
          },
          "metadata": {}
        },
        {
          "output_type": "stream",
          "name": "stderr",
          "text": [
            "All PyTorch model weights were used when initializing TFBertForSequenceClassification.\n",
            "\n",
            "Some weights or buffers of the TF 2.0 model TFBertForSequenceClassification were not initialized from the PyTorch model and are newly initialized: ['classifier.weight', 'classifier.bias']\n",
            "You should probably TRAIN this model on a down-stream task to be able to use it for predictions and inference.\n"
          ]
        }
      ]
    },
    {
      "cell_type": "code",
      "source": [
        "from transformers import DataCollatorWithPadding\n",
        "\n",
        "data_collator = DataCollatorWithPadding(tokenizer=tokenizer, return_tensors=\"tf\")"
      ],
      "metadata": {
        "id": "l3P4WFwwxGZ6"
      },
      "execution_count": 69,
      "outputs": []
    },
    {
      "cell_type": "code",
      "source": [
        "tf_train_set = tokenized_datasets_en[\"train\"].to_tf_dataset(\n",
        "    columns=[\"attention_mask\", \"input_ids\", \"label\"],\n",
        "    shuffle=True,\n",
        "    batch_size=16,\n",
        "    collate_fn=data_collator\n",
        ")\n",
        "\n",
        "tf_test_set = tokenized_datasets_en[\"test\"].to_tf_dataset(\n",
        "    columns=[\"attention_mask\", \"input_ids\", \"label\"],\n",
        "    shuffle=False,\n",
        "    batch_size=16,\n",
        "    collate_fn=data_collator\n",
        ")"
      ],
      "metadata": {
        "colab": {
          "base_uri": "https://localhost:8080/"
        },
        "id": "gaHbNXHdxeq8",
        "outputId": "b796cef0-46c9-434a-cfb7-3635b4cd7db8"
      },
      "execution_count": 70,
      "outputs": [
        {
          "output_type": "stream",
          "name": "stderr",
          "text": [
            "You're using a BertTokenizerFast tokenizer. Please note that with a fast tokenizer, using the `__call__` method is faster than using a method to encode the text followed by a call to the `pad` method to get a padded encoding.\n"
          ]
        }
      ]
    },
    {
      "cell_type": "code",
      "source": [
        "from transformers import create_optimizer\n",
        "\n",
        "batch_size = 16\n",
        "num_epochs = 5\n",
        "batches_per_epoch = len(tokenized_datasets_en[\"train\"]) // batch_size\n",
        "total_train_steps = int(batches_per_epoch * num_epochs)\n",
        "optimizer, schedule = create_optimizer(init_lr=2e-5, num_warmup_steps=0, num_train_steps=total_train_steps)"
      ],
      "metadata": {
        "id": "B0m6uViWr7k7"
      },
      "execution_count": 71,
      "outputs": []
    },
    {
      "cell_type": "code",
      "source": [
        "lista = list(class_weights.values())\n",
        "w = tf.gather(lista, 0)\n",
        "loss = w * 0.23423\n",
        "loss"
      ],
      "metadata": {
        "colab": {
          "base_uri": "https://localhost:8080/"
        },
        "id": "m4miy5E6AQU9",
        "outputId": "d4f89afb-90e6-4987-80a9-b37b83f964b3"
      },
      "execution_count": 72,
      "outputs": [
        {
          "output_type": "execute_result",
          "data": {
            "text/plain": [
              "<tf.Tensor: shape=(), dtype=float64, numpy=0.7044666231796116>"
            ]
          },
          "metadata": {},
          "execution_count": 72
        }
      ]
    },
    {
      "cell_type": "code",
      "source": [
        "def weightedLoss(weights=tf.constant([1,1])):\n",
        "\n",
        "    def innerLoss(true, pred):\n",
        "        w = tf.gather(weights, true) #(batch, labels, 1)\n",
        "       # w = tf.reshape(w, (-1,label)) #(batch, labels)\n",
        "\n",
        "        loss = tf.keras.losses.BinaryCrossentropy(true, pred) #(batch, labels)\n",
        "        loss = w * loss\n",
        "\n",
        "        return loss\n",
        "\n",
        "    return innerLoss"
      ],
      "metadata": {
        "id": "3HIBL753-WWv"
      },
      "execution_count": 73,
      "outputs": []
    },
    {
      "cell_type": "code",
      "source": [
        "def create_weighted_binary_crossentropy(zero_weight, one_weight):\n",
        "\n",
        "    def weighted_binary_crossentropy(y_true, y_pred):\n",
        "\n",
        "        # Original binary crossentropy (see losses.py):\n",
        "        # K.mean(K.binary_crossentropy(y_true, y_pred), axis=-1)\n",
        "\n",
        "        # Calculate the binary crossentropy\n",
        "        b_ce = K.binary_crossentropy(y_true, y_pred)\n",
        "\n",
        "        # Apply the weights\n",
        "        weight_vector = y_true * one_weight + (1. - y_true) * zero_weight\n",
        "        weighted_b_ce = weight_vector * b_ce\n",
        "\n",
        "        # Return the mean error\n",
        "        return K.mean(weighted_b_ce)\n",
        "\n",
        "    return weighted_binary_crossentropy"
      ],
      "metadata": {
        "id": "bLMmQ0MZCQ45"
      },
      "execution_count": 74,
      "outputs": []
    },
    {
      "cell_type": "code",
      "source": [
        "class_weights.get(0)"
      ],
      "metadata": {
        "colab": {
          "base_uri": "https://localhost:8080/"
        },
        "id": "gdeY5h0kIiJ5",
        "outputId": "87fb8823-42b7-4552-8dfe-c2c2d212c065"
      },
      "execution_count": 75,
      "outputs": [
        {
          "output_type": "execute_result",
          "data": {
            "text/plain": [
              "3.0075849514563107"
            ]
          },
          "metadata": {},
          "execution_count": 75
        }
      ]
    },
    {
      "cell_type": "code",
      "source": [
        "def weighted_binary_crossentropy(y_true, y_pred):\n",
        "    # Apply weights based on class labels\n",
        "    weights = y_true * class_weights.get(0) + (1 - y_true) * class_weights.get(1)\n",
        "    weights = tf.cast(weights, tf.float32)\n",
        "    loss = tf.keras.losses.SparseCategoricalCrossentropy(from_logits=True)\n",
        "    weighted_loss = loss(y_true, y_pred) * weights\n",
        "    return tf.keras.metrics.Mean(name='mean')(weighted_loss)"
      ],
      "metadata": {
        "id": "0v54SpqRLSIt"
      },
      "execution_count": 89,
      "outputs": []
    },
    {
      "cell_type": "code",
      "source": [
        "def weighted_binary_crossentropy2(y_true, y_pred):     # Apply weights based on class labels\n",
        "  weights = y_true * class_weights.get(0) + (1 - y_true) * class_weights.get(1)\n",
        "  #loss = tf.keras.losses.SparseCategoricalCrossentropy(from_logits=True)\n",
        "  loss = tf.keras.losses.BinaryCrossentropy(from_logits=False)\n",
        "  weighted_loss = loss(y_true, y_pred) * float(weights)\n",
        "  mean_loss = tf.reduce_mean(weighted_loss)\n",
        "  return mean_loss#tf.keras.metrics.Mean(weighted_loss)"
      ],
      "metadata": {
        "id": "7PyiNEu4Phzo"
      },
      "execution_count": 105,
      "outputs": []
    },
    {
      "cell_type": "code",
      "source": [
        "list(class_weights.values())"
      ],
      "metadata": {
        "colab": {
          "base_uri": "https://localhost:8080/"
        },
        "id": "zhiy57do_rZf",
        "outputId": "58e7f412-3beb-44cf-fb2c-a6f035c66d9b"
      },
      "execution_count": 78,
      "outputs": [
        {
          "output_type": "execute_result",
          "data": {
            "text/plain": [
              "[3.0075849514563107, 0.599697519661222]"
            ]
          },
          "metadata": {},
          "execution_count": 78
        }
      ]
    },
    {
      "cell_type": "code",
      "source": [
        "loss = tf.keras.losses.SparseCategoricalCrossentropy(from_logits=True)\n",
        "#loss = tf.keras.losses.BinaryCrossentropy(from_logits = True)\n",
        "\n",
        "model.compile(optimizer=optimizer, loss=weighted_binary_crossentropy2)\n",
        "\n",
        "#model.compile(optimizer=optimizer, loss=loss)"
      ],
      "metadata": {
        "id": "ftOKWMWUxzGy"
      },
      "execution_count": 106,
      "outputs": []
    },
    {
      "cell_type": "code",
      "source": [
        "model.fit(x=tf_train_set, validation_data=tf_test_set, epochs=3)"
      ],
      "metadata": {
        "colab": {
          "base_uri": "https://localhost:8080/",
          "height": 346
        },
        "id": "m-ICbAdvsP9W",
        "outputId": "d315f1e9-3d6a-43d0-aff4-082c6667a297"
      },
      "execution_count": 107,
      "outputs": [
        {
          "output_type": "stream",
          "name": "stdout",
          "text": [
            "Epoch 1/3\n",
            "180/310 [================>.............] - ETA: 36s - loss: 6.0491"
          ]
        },
        {
          "output_type": "error",
          "ename": "KeyboardInterrupt",
          "evalue": "ignored",
          "traceback": [
            "\u001b[0;31m---------------------------------------------------------------------------\u001b[0m",
            "\u001b[0;31mKeyboardInterrupt\u001b[0m                         Traceback (most recent call last)",
            "\u001b[0;32m<ipython-input-107-95ccc96bd211>\u001b[0m in \u001b[0;36m<cell line: 1>\u001b[0;34m()\u001b[0m\n\u001b[0;32m----> 1\u001b[0;31m \u001b[0mmodel\u001b[0m\u001b[0;34m.\u001b[0m\u001b[0mfit\u001b[0m\u001b[0;34m(\u001b[0m\u001b[0mx\u001b[0m\u001b[0;34m=\u001b[0m\u001b[0mtf_train_set\u001b[0m\u001b[0;34m,\u001b[0m \u001b[0mvalidation_data\u001b[0m\u001b[0;34m=\u001b[0m\u001b[0mtf_test_set\u001b[0m\u001b[0;34m,\u001b[0m \u001b[0mepochs\u001b[0m\u001b[0;34m=\u001b[0m\u001b[0;36m3\u001b[0m\u001b[0;34m)\u001b[0m\u001b[0;34m\u001b[0m\u001b[0;34m\u001b[0m\u001b[0m\n\u001b[0m",
            "\u001b[0;32m/usr/local/lib/python3.10/dist-packages/keras/utils/traceback_utils.py\u001b[0m in \u001b[0;36merror_handler\u001b[0;34m(*args, **kwargs)\u001b[0m\n\u001b[1;32m     63\u001b[0m         \u001b[0mfiltered_tb\u001b[0m \u001b[0;34m=\u001b[0m \u001b[0;32mNone\u001b[0m\u001b[0;34m\u001b[0m\u001b[0;34m\u001b[0m\u001b[0m\n\u001b[1;32m     64\u001b[0m         \u001b[0;32mtry\u001b[0m\u001b[0;34m:\u001b[0m\u001b[0;34m\u001b[0m\u001b[0;34m\u001b[0m\u001b[0m\n\u001b[0;32m---> 65\u001b[0;31m             \u001b[0;32mreturn\u001b[0m \u001b[0mfn\u001b[0m\u001b[0;34m(\u001b[0m\u001b[0;34m*\u001b[0m\u001b[0margs\u001b[0m\u001b[0;34m,\u001b[0m \u001b[0;34m**\u001b[0m\u001b[0mkwargs\u001b[0m\u001b[0;34m)\u001b[0m\u001b[0;34m\u001b[0m\u001b[0;34m\u001b[0m\u001b[0m\n\u001b[0m\u001b[1;32m     66\u001b[0m         \u001b[0;32mexcept\u001b[0m \u001b[0mException\u001b[0m \u001b[0;32mas\u001b[0m \u001b[0me\u001b[0m\u001b[0;34m:\u001b[0m\u001b[0;34m\u001b[0m\u001b[0;34m\u001b[0m\u001b[0m\n\u001b[1;32m     67\u001b[0m             \u001b[0mfiltered_tb\u001b[0m \u001b[0;34m=\u001b[0m \u001b[0m_process_traceback_frames\u001b[0m\u001b[0;34m(\u001b[0m\u001b[0me\u001b[0m\u001b[0;34m.\u001b[0m\u001b[0m__traceback__\u001b[0m\u001b[0;34m)\u001b[0m\u001b[0;34m\u001b[0m\u001b[0;34m\u001b[0m\u001b[0m\n",
            "\u001b[0;32m/usr/local/lib/python3.10/dist-packages/keras/engine/training.py\u001b[0m in \u001b[0;36mfit\u001b[0;34m(self, x, y, batch_size, epochs, verbose, callbacks, validation_split, validation_data, shuffle, class_weight, sample_weight, initial_epoch, steps_per_epoch, validation_steps, validation_batch_size, validation_freq, max_queue_size, workers, use_multiprocessing)\u001b[0m\n\u001b[1;32m   1683\u001b[0m                         ):\n\u001b[1;32m   1684\u001b[0m                             \u001b[0mcallbacks\u001b[0m\u001b[0;34m.\u001b[0m\u001b[0mon_train_batch_begin\u001b[0m\u001b[0;34m(\u001b[0m\u001b[0mstep\u001b[0m\u001b[0;34m)\u001b[0m\u001b[0;34m\u001b[0m\u001b[0;34m\u001b[0m\u001b[0m\n\u001b[0;32m-> 1685\u001b[0;31m                             \u001b[0mtmp_logs\u001b[0m \u001b[0;34m=\u001b[0m \u001b[0mself\u001b[0m\u001b[0;34m.\u001b[0m\u001b[0mtrain_function\u001b[0m\u001b[0;34m(\u001b[0m\u001b[0miterator\u001b[0m\u001b[0;34m)\u001b[0m\u001b[0;34m\u001b[0m\u001b[0;34m\u001b[0m\u001b[0m\n\u001b[0m\u001b[1;32m   1686\u001b[0m                             \u001b[0;32mif\u001b[0m \u001b[0mdata_handler\u001b[0m\u001b[0;34m.\u001b[0m\u001b[0mshould_sync\u001b[0m\u001b[0;34m:\u001b[0m\u001b[0;34m\u001b[0m\u001b[0;34m\u001b[0m\u001b[0m\n\u001b[1;32m   1687\u001b[0m                                 \u001b[0mcontext\u001b[0m\u001b[0;34m.\u001b[0m\u001b[0masync_wait\u001b[0m\u001b[0;34m(\u001b[0m\u001b[0;34m)\u001b[0m\u001b[0;34m\u001b[0m\u001b[0;34m\u001b[0m\u001b[0m\n",
            "\u001b[0;32m/usr/local/lib/python3.10/dist-packages/tensorflow/python/util/traceback_utils.py\u001b[0m in \u001b[0;36merror_handler\u001b[0;34m(*args, **kwargs)\u001b[0m\n\u001b[1;32m    148\u001b[0m     \u001b[0mfiltered_tb\u001b[0m \u001b[0;34m=\u001b[0m \u001b[0;32mNone\u001b[0m\u001b[0;34m\u001b[0m\u001b[0;34m\u001b[0m\u001b[0m\n\u001b[1;32m    149\u001b[0m     \u001b[0;32mtry\u001b[0m\u001b[0;34m:\u001b[0m\u001b[0;34m\u001b[0m\u001b[0;34m\u001b[0m\u001b[0m\n\u001b[0;32m--> 150\u001b[0;31m       \u001b[0;32mreturn\u001b[0m \u001b[0mfn\u001b[0m\u001b[0;34m(\u001b[0m\u001b[0;34m*\u001b[0m\u001b[0margs\u001b[0m\u001b[0;34m,\u001b[0m \u001b[0;34m**\u001b[0m\u001b[0mkwargs\u001b[0m\u001b[0;34m)\u001b[0m\u001b[0;34m\u001b[0m\u001b[0;34m\u001b[0m\u001b[0m\n\u001b[0m\u001b[1;32m    151\u001b[0m     \u001b[0;32mexcept\u001b[0m \u001b[0mException\u001b[0m \u001b[0;32mas\u001b[0m \u001b[0me\u001b[0m\u001b[0;34m:\u001b[0m\u001b[0;34m\u001b[0m\u001b[0;34m\u001b[0m\u001b[0m\n\u001b[1;32m    152\u001b[0m       \u001b[0mfiltered_tb\u001b[0m \u001b[0;34m=\u001b[0m \u001b[0m_process_traceback_frames\u001b[0m\u001b[0;34m(\u001b[0m\u001b[0me\u001b[0m\u001b[0;34m.\u001b[0m\u001b[0m__traceback__\u001b[0m\u001b[0;34m)\u001b[0m\u001b[0;34m\u001b[0m\u001b[0;34m\u001b[0m\u001b[0m\n",
            "\u001b[0;32m/usr/local/lib/python3.10/dist-packages/tensorflow/python/eager/polymorphic_function/polymorphic_function.py\u001b[0m in \u001b[0;36m__call__\u001b[0;34m(self, *args, **kwds)\u001b[0m\n\u001b[1;32m    892\u001b[0m \u001b[0;34m\u001b[0m\u001b[0m\n\u001b[1;32m    893\u001b[0m       \u001b[0;32mwith\u001b[0m \u001b[0mOptionalXlaContext\u001b[0m\u001b[0;34m(\u001b[0m\u001b[0mself\u001b[0m\u001b[0;34m.\u001b[0m\u001b[0m_jit_compile\u001b[0m\u001b[0;34m)\u001b[0m\u001b[0;34m:\u001b[0m\u001b[0;34m\u001b[0m\u001b[0;34m\u001b[0m\u001b[0m\n\u001b[0;32m--> 894\u001b[0;31m         \u001b[0mresult\u001b[0m \u001b[0;34m=\u001b[0m \u001b[0mself\u001b[0m\u001b[0;34m.\u001b[0m\u001b[0m_call\u001b[0m\u001b[0;34m(\u001b[0m\u001b[0;34m*\u001b[0m\u001b[0margs\u001b[0m\u001b[0;34m,\u001b[0m \u001b[0;34m**\u001b[0m\u001b[0mkwds\u001b[0m\u001b[0;34m)\u001b[0m\u001b[0;34m\u001b[0m\u001b[0;34m\u001b[0m\u001b[0m\n\u001b[0m\u001b[1;32m    895\u001b[0m \u001b[0;34m\u001b[0m\u001b[0m\n\u001b[1;32m    896\u001b[0m       \u001b[0mnew_tracing_count\u001b[0m \u001b[0;34m=\u001b[0m \u001b[0mself\u001b[0m\u001b[0;34m.\u001b[0m\u001b[0mexperimental_get_tracing_count\u001b[0m\u001b[0;34m(\u001b[0m\u001b[0;34m)\u001b[0m\u001b[0;34m\u001b[0m\u001b[0;34m\u001b[0m\u001b[0m\n",
            "\u001b[0;32m/usr/local/lib/python3.10/dist-packages/tensorflow/python/eager/polymorphic_function/polymorphic_function.py\u001b[0m in \u001b[0;36m_call\u001b[0;34m(self, *args, **kwds)\u001b[0m\n\u001b[1;32m    931\u001b[0m       \u001b[0;31m# In this case we have not created variables on the first call. So we can\u001b[0m\u001b[0;34m\u001b[0m\u001b[0;34m\u001b[0m\u001b[0m\n\u001b[1;32m    932\u001b[0m       \u001b[0;31m# run the first trace but we should fail if variables are created.\u001b[0m\u001b[0;34m\u001b[0m\u001b[0;34m\u001b[0m\u001b[0m\n\u001b[0;32m--> 933\u001b[0;31m       \u001b[0mresults\u001b[0m \u001b[0;34m=\u001b[0m \u001b[0mself\u001b[0m\u001b[0;34m.\u001b[0m\u001b[0m_variable_creation_fn\u001b[0m\u001b[0;34m(\u001b[0m\u001b[0;34m*\u001b[0m\u001b[0margs\u001b[0m\u001b[0;34m,\u001b[0m \u001b[0;34m**\u001b[0m\u001b[0mkwds\u001b[0m\u001b[0;34m)\u001b[0m\u001b[0;34m\u001b[0m\u001b[0;34m\u001b[0m\u001b[0m\n\u001b[0m\u001b[1;32m    934\u001b[0m       \u001b[0;32mif\u001b[0m \u001b[0mself\u001b[0m\u001b[0;34m.\u001b[0m\u001b[0m_created_variables\u001b[0m \u001b[0;32mand\u001b[0m \u001b[0;32mnot\u001b[0m \u001b[0mALLOW_DYNAMIC_VARIABLE_CREATION\u001b[0m\u001b[0;34m:\u001b[0m\u001b[0;34m\u001b[0m\u001b[0;34m\u001b[0m\u001b[0m\n\u001b[1;32m    935\u001b[0m         raise ValueError(\"Creating variables on a non-first call to a function\"\n",
            "\u001b[0;32m/usr/local/lib/python3.10/dist-packages/tensorflow/python/eager/polymorphic_function/tracing_compiler.py\u001b[0m in \u001b[0;36m__call__\u001b[0;34m(self, *args, **kwargs)\u001b[0m\n\u001b[1;32m    141\u001b[0m       (concrete_function,\n\u001b[1;32m    142\u001b[0m        filtered_flat_args) = self._maybe_define_function(args, kwargs)\n\u001b[0;32m--> 143\u001b[0;31m     return concrete_function._call_flat(\n\u001b[0m\u001b[1;32m    144\u001b[0m         filtered_flat_args, captured_inputs=concrete_function.captured_inputs)  # pylint: disable=protected-access\n\u001b[1;32m    145\u001b[0m \u001b[0;34m\u001b[0m\u001b[0m\n",
            "\u001b[0;32m/usr/local/lib/python3.10/dist-packages/tensorflow/python/eager/polymorphic_function/monomorphic_function.py\u001b[0m in \u001b[0;36m_call_flat\u001b[0;34m(self, args, captured_inputs, cancellation_manager)\u001b[0m\n\u001b[1;32m   1755\u001b[0m         and executing_eagerly):\n\u001b[1;32m   1756\u001b[0m       \u001b[0;31m# No tape is watching; skip to running the function.\u001b[0m\u001b[0;34m\u001b[0m\u001b[0;34m\u001b[0m\u001b[0m\n\u001b[0;32m-> 1757\u001b[0;31m       return self._build_call_outputs(self._inference_function.call(\n\u001b[0m\u001b[1;32m   1758\u001b[0m           ctx, args, cancellation_manager=cancellation_manager))\n\u001b[1;32m   1759\u001b[0m     forward_backward = self._select_forward_and_backward_functions(\n",
            "\u001b[0;32m/usr/local/lib/python3.10/dist-packages/tensorflow/python/eager/polymorphic_function/monomorphic_function.py\u001b[0m in \u001b[0;36mcall\u001b[0;34m(self, ctx, args, cancellation_manager)\u001b[0m\n\u001b[1;32m    379\u001b[0m       \u001b[0;32mwith\u001b[0m \u001b[0m_InterpolateFunctionError\u001b[0m\u001b[0;34m(\u001b[0m\u001b[0mself\u001b[0m\u001b[0;34m)\u001b[0m\u001b[0;34m:\u001b[0m\u001b[0;34m\u001b[0m\u001b[0;34m\u001b[0m\u001b[0m\n\u001b[1;32m    380\u001b[0m         \u001b[0;32mif\u001b[0m \u001b[0mcancellation_manager\u001b[0m \u001b[0;32mis\u001b[0m \u001b[0;32mNone\u001b[0m\u001b[0;34m:\u001b[0m\u001b[0;34m\u001b[0m\u001b[0;34m\u001b[0m\u001b[0m\n\u001b[0;32m--> 381\u001b[0;31m           outputs = execute.execute(\n\u001b[0m\u001b[1;32m    382\u001b[0m               \u001b[0mstr\u001b[0m\u001b[0;34m(\u001b[0m\u001b[0mself\u001b[0m\u001b[0;34m.\u001b[0m\u001b[0msignature\u001b[0m\u001b[0;34m.\u001b[0m\u001b[0mname\u001b[0m\u001b[0;34m)\u001b[0m\u001b[0;34m,\u001b[0m\u001b[0;34m\u001b[0m\u001b[0;34m\u001b[0m\u001b[0m\n\u001b[1;32m    383\u001b[0m               \u001b[0mnum_outputs\u001b[0m\u001b[0;34m=\u001b[0m\u001b[0mself\u001b[0m\u001b[0;34m.\u001b[0m\u001b[0m_num_outputs\u001b[0m\u001b[0;34m,\u001b[0m\u001b[0;34m\u001b[0m\u001b[0;34m\u001b[0m\u001b[0m\n",
            "\u001b[0;32m/usr/local/lib/python3.10/dist-packages/tensorflow/python/eager/execute.py\u001b[0m in \u001b[0;36mquick_execute\u001b[0;34m(op_name, num_outputs, inputs, attrs, ctx, name)\u001b[0m\n\u001b[1;32m     50\u001b[0m   \u001b[0;32mtry\u001b[0m\u001b[0;34m:\u001b[0m\u001b[0;34m\u001b[0m\u001b[0;34m\u001b[0m\u001b[0m\n\u001b[1;32m     51\u001b[0m     \u001b[0mctx\u001b[0m\u001b[0;34m.\u001b[0m\u001b[0mensure_initialized\u001b[0m\u001b[0;34m(\u001b[0m\u001b[0;34m)\u001b[0m\u001b[0;34m\u001b[0m\u001b[0;34m\u001b[0m\u001b[0m\n\u001b[0;32m---> 52\u001b[0;31m     tensors = pywrap_tfe.TFE_Py_Execute(ctx._handle, device_name, op_name,\n\u001b[0m\u001b[1;32m     53\u001b[0m                                         inputs, attrs, num_outputs)\n\u001b[1;32m     54\u001b[0m   \u001b[0;32mexcept\u001b[0m \u001b[0mcore\u001b[0m\u001b[0;34m.\u001b[0m\u001b[0m_NotOkStatusException\u001b[0m \u001b[0;32mas\u001b[0m \u001b[0me\u001b[0m\u001b[0;34m:\u001b[0m\u001b[0;34m\u001b[0m\u001b[0;34m\u001b[0m\u001b[0m\n",
            "\u001b[0;31mKeyboardInterrupt\u001b[0m: "
          ]
        }
      ]
    },
    {
      "cell_type": "code",
      "source": [
        "sentences = [\n",
        "    \"I love pizza!\",\n",
        "    \"I fucking love pizza!!!11!1!!\"\n",
        "]"
      ],
      "metadata": {
        "id": "hzFSDq021HNE"
      },
      "execution_count": null,
      "outputs": []
    },
    {
      "cell_type": "code",
      "source": [
        "tokenized = tokenizer(sentences, return_tensors=\"np\", padding=\"longest\")\n",
        "\n",
        "outputs = model(tokenized).logits\n",
        "\n",
        "classifications = np.argmax(outputs, axis=1)\n",
        "print(classifications)"
      ],
      "metadata": {
        "id": "UHBes-7a0xbS"
      },
      "execution_count": null,
      "outputs": []
    }
  ]
}