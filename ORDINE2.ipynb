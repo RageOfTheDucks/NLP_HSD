{
  "nbformat": 4,
  "nbformat_minor": 0,
  "metadata": {
    "colab": {
      "provenance": [],
      "gpuType": "T4"
    },
    "kernelspec": {
      "name": "python3",
      "display_name": "Python 3"
    },
    "language_info": {
      "name": "python"
    },
    "accelerator": "GPU",
    "widgets": {
      "application/vnd.jupyter.widget-state+json": {
        "fb0d77b645fe4ab3b22ed3dd305e425d": {
          "model_module": "@jupyter-widgets/controls",
          "model_name": "HBoxModel",
          "model_module_version": "1.5.0",
          "state": {
            "_dom_classes": [],
            "_model_module": "@jupyter-widgets/controls",
            "_model_module_version": "1.5.0",
            "_model_name": "HBoxModel",
            "_view_count": null,
            "_view_module": "@jupyter-widgets/controls",
            "_view_module_version": "1.5.0",
            "_view_name": "HBoxView",
            "box_style": "",
            "children": [
              "IPY_MODEL_7523d6f7ef174e07984899d20a7b5ee5",
              "IPY_MODEL_189cece37cf64725a6c0c92e3c065737",
              "IPY_MODEL_e7c579cfa5f24a23a41d0bbf99887acb"
            ],
            "layout": "IPY_MODEL_38336bac8e734118b9f36444c3d729be"
          }
        },
        "7523d6f7ef174e07984899d20a7b5ee5": {
          "model_module": "@jupyter-widgets/controls",
          "model_name": "HTMLModel",
          "model_module_version": "1.5.0",
          "state": {
            "_dom_classes": [],
            "_model_module": "@jupyter-widgets/controls",
            "_model_module_version": "1.5.0",
            "_model_name": "HTMLModel",
            "_view_count": null,
            "_view_module": "@jupyter-widgets/controls",
            "_view_module_version": "1.5.0",
            "_view_name": "HTMLView",
            "description": "",
            "description_tooltip": null,
            "layout": "IPY_MODEL_98ea132020b44b0bb950d34667017741",
            "placeholder": "​",
            "style": "IPY_MODEL_6e0fe298543d42ff91290ba47470cb2b",
            "value": "Map:  90%"
          }
        },
        "189cece37cf64725a6c0c92e3c065737": {
          "model_module": "@jupyter-widgets/controls",
          "model_name": "FloatProgressModel",
          "model_module_version": "1.5.0",
          "state": {
            "_dom_classes": [],
            "_model_module": "@jupyter-widgets/controls",
            "_model_module_version": "1.5.0",
            "_model_name": "FloatProgressModel",
            "_view_count": null,
            "_view_module": "@jupyter-widgets/controls",
            "_view_module_version": "1.5.0",
            "_view_name": "ProgressView",
            "bar_style": "",
            "description": "",
            "description_tooltip": null,
            "layout": "IPY_MODEL_57d525939dcc4ba08dbcda2828fb0a8a",
            "max": 4957,
            "min": 0,
            "orientation": "horizontal",
            "style": "IPY_MODEL_699734122f184e21b3a403f20362ce6a",
            "value": 4957
          }
        },
        "e7c579cfa5f24a23a41d0bbf99887acb": {
          "model_module": "@jupyter-widgets/controls",
          "model_name": "HTMLModel",
          "model_module_version": "1.5.0",
          "state": {
            "_dom_classes": [],
            "_model_module": "@jupyter-widgets/controls",
            "_model_module_version": "1.5.0",
            "_model_name": "HTMLModel",
            "_view_count": null,
            "_view_module": "@jupyter-widgets/controls",
            "_view_module_version": "1.5.0",
            "_view_name": "HTMLView",
            "description": "",
            "description_tooltip": null,
            "layout": "IPY_MODEL_39e53f0f7248431280781df7f7cc8fbe",
            "placeholder": "​",
            "style": "IPY_MODEL_8a7ff3f866fe48eba755ead20e07df0a",
            "value": " 4480/4957 [00:00&lt;00:00, 5595.93 examples/s]"
          }
        },
        "38336bac8e734118b9f36444c3d729be": {
          "model_module": "@jupyter-widgets/base",
          "model_name": "LayoutModel",
          "model_module_version": "1.2.0",
          "state": {
            "_model_module": "@jupyter-widgets/base",
            "_model_module_version": "1.2.0",
            "_model_name": "LayoutModel",
            "_view_count": null,
            "_view_module": "@jupyter-widgets/base",
            "_view_module_version": "1.2.0",
            "_view_name": "LayoutView",
            "align_content": null,
            "align_items": null,
            "align_self": null,
            "border": null,
            "bottom": null,
            "display": null,
            "flex": null,
            "flex_flow": null,
            "grid_area": null,
            "grid_auto_columns": null,
            "grid_auto_flow": null,
            "grid_auto_rows": null,
            "grid_column": null,
            "grid_gap": null,
            "grid_row": null,
            "grid_template_areas": null,
            "grid_template_columns": null,
            "grid_template_rows": null,
            "height": null,
            "justify_content": null,
            "justify_items": null,
            "left": null,
            "margin": null,
            "max_height": null,
            "max_width": null,
            "min_height": null,
            "min_width": null,
            "object_fit": null,
            "object_position": null,
            "order": null,
            "overflow": null,
            "overflow_x": null,
            "overflow_y": null,
            "padding": null,
            "right": null,
            "top": null,
            "visibility": "hidden",
            "width": null
          }
        },
        "98ea132020b44b0bb950d34667017741": {
          "model_module": "@jupyter-widgets/base",
          "model_name": "LayoutModel",
          "model_module_version": "1.2.0",
          "state": {
            "_model_module": "@jupyter-widgets/base",
            "_model_module_version": "1.2.0",
            "_model_name": "LayoutModel",
            "_view_count": null,
            "_view_module": "@jupyter-widgets/base",
            "_view_module_version": "1.2.0",
            "_view_name": "LayoutView",
            "align_content": null,
            "align_items": null,
            "align_self": null,
            "border": null,
            "bottom": null,
            "display": null,
            "flex": null,
            "flex_flow": null,
            "grid_area": null,
            "grid_auto_columns": null,
            "grid_auto_flow": null,
            "grid_auto_rows": null,
            "grid_column": null,
            "grid_gap": null,
            "grid_row": null,
            "grid_template_areas": null,
            "grid_template_columns": null,
            "grid_template_rows": null,
            "height": null,
            "justify_content": null,
            "justify_items": null,
            "left": null,
            "margin": null,
            "max_height": null,
            "max_width": null,
            "min_height": null,
            "min_width": null,
            "object_fit": null,
            "object_position": null,
            "order": null,
            "overflow": null,
            "overflow_x": null,
            "overflow_y": null,
            "padding": null,
            "right": null,
            "top": null,
            "visibility": null,
            "width": null
          }
        },
        "6e0fe298543d42ff91290ba47470cb2b": {
          "model_module": "@jupyter-widgets/controls",
          "model_name": "DescriptionStyleModel",
          "model_module_version": "1.5.0",
          "state": {
            "_model_module": "@jupyter-widgets/controls",
            "_model_module_version": "1.5.0",
            "_model_name": "DescriptionStyleModel",
            "_view_count": null,
            "_view_module": "@jupyter-widgets/base",
            "_view_module_version": "1.2.0",
            "_view_name": "StyleView",
            "description_width": ""
          }
        },
        "57d525939dcc4ba08dbcda2828fb0a8a": {
          "model_module": "@jupyter-widgets/base",
          "model_name": "LayoutModel",
          "model_module_version": "1.2.0",
          "state": {
            "_model_module": "@jupyter-widgets/base",
            "_model_module_version": "1.2.0",
            "_model_name": "LayoutModel",
            "_view_count": null,
            "_view_module": "@jupyter-widgets/base",
            "_view_module_version": "1.2.0",
            "_view_name": "LayoutView",
            "align_content": null,
            "align_items": null,
            "align_self": null,
            "border": null,
            "bottom": null,
            "display": null,
            "flex": null,
            "flex_flow": null,
            "grid_area": null,
            "grid_auto_columns": null,
            "grid_auto_flow": null,
            "grid_auto_rows": null,
            "grid_column": null,
            "grid_gap": null,
            "grid_row": null,
            "grid_template_areas": null,
            "grid_template_columns": null,
            "grid_template_rows": null,
            "height": null,
            "justify_content": null,
            "justify_items": null,
            "left": null,
            "margin": null,
            "max_height": null,
            "max_width": null,
            "min_height": null,
            "min_width": null,
            "object_fit": null,
            "object_position": null,
            "order": null,
            "overflow": null,
            "overflow_x": null,
            "overflow_y": null,
            "padding": null,
            "right": null,
            "top": null,
            "visibility": null,
            "width": null
          }
        },
        "699734122f184e21b3a403f20362ce6a": {
          "model_module": "@jupyter-widgets/controls",
          "model_name": "ProgressStyleModel",
          "model_module_version": "1.5.0",
          "state": {
            "_model_module": "@jupyter-widgets/controls",
            "_model_module_version": "1.5.0",
            "_model_name": "ProgressStyleModel",
            "_view_count": null,
            "_view_module": "@jupyter-widgets/base",
            "_view_module_version": "1.2.0",
            "_view_name": "StyleView",
            "bar_color": null,
            "description_width": ""
          }
        },
        "39e53f0f7248431280781df7f7cc8fbe": {
          "model_module": "@jupyter-widgets/base",
          "model_name": "LayoutModel",
          "model_module_version": "1.2.0",
          "state": {
            "_model_module": "@jupyter-widgets/base",
            "_model_module_version": "1.2.0",
            "_model_name": "LayoutModel",
            "_view_count": null,
            "_view_module": "@jupyter-widgets/base",
            "_view_module_version": "1.2.0",
            "_view_name": "LayoutView",
            "align_content": null,
            "align_items": null,
            "align_self": null,
            "border": null,
            "bottom": null,
            "display": null,
            "flex": null,
            "flex_flow": null,
            "grid_area": null,
            "grid_auto_columns": null,
            "grid_auto_flow": null,
            "grid_auto_rows": null,
            "grid_column": null,
            "grid_gap": null,
            "grid_row": null,
            "grid_template_areas": null,
            "grid_template_columns": null,
            "grid_template_rows": null,
            "height": null,
            "justify_content": null,
            "justify_items": null,
            "left": null,
            "margin": null,
            "max_height": null,
            "max_width": null,
            "min_height": null,
            "min_width": null,
            "object_fit": null,
            "object_position": null,
            "order": null,
            "overflow": null,
            "overflow_x": null,
            "overflow_y": null,
            "padding": null,
            "right": null,
            "top": null,
            "visibility": null,
            "width": null
          }
        },
        "8a7ff3f866fe48eba755ead20e07df0a": {
          "model_module": "@jupyter-widgets/controls",
          "model_name": "DescriptionStyleModel",
          "model_module_version": "1.5.0",
          "state": {
            "_model_module": "@jupyter-widgets/controls",
            "_model_module_version": "1.5.0",
            "_model_name": "DescriptionStyleModel",
            "_view_count": null,
            "_view_module": "@jupyter-widgets/base",
            "_view_module_version": "1.2.0",
            "_view_name": "StyleView",
            "description_width": ""
          }
        },
        "765735018a744c20ad58549a6e55e225": {
          "model_module": "@jupyter-widgets/controls",
          "model_name": "HBoxModel",
          "model_module_version": "1.5.0",
          "state": {
            "_dom_classes": [],
            "_model_module": "@jupyter-widgets/controls",
            "_model_module_version": "1.5.0",
            "_model_name": "HBoxModel",
            "_view_count": null,
            "_view_module": "@jupyter-widgets/controls",
            "_view_module_version": "1.5.0",
            "_view_name": "HBoxView",
            "box_style": "",
            "children": [
              "IPY_MODEL_a0130f345211471baea225b9895775d9",
              "IPY_MODEL_6e473df4672a4923a86b66fc378ba779",
              "IPY_MODEL_ebaffbdcc590441bb3b3288ef3b1f42e"
            ],
            "layout": "IPY_MODEL_263804c78d2f43f995630f0d08e86856"
          }
        },
        "a0130f345211471baea225b9895775d9": {
          "model_module": "@jupyter-widgets/controls",
          "model_name": "HTMLModel",
          "model_module_version": "1.5.0",
          "state": {
            "_dom_classes": [],
            "_model_module": "@jupyter-widgets/controls",
            "_model_module_version": "1.5.0",
            "_model_name": "HTMLModel",
            "_view_count": null,
            "_view_module": "@jupyter-widgets/controls",
            "_view_module_version": "1.5.0",
            "_view_name": "HTMLView",
            "description": "",
            "description_tooltip": null,
            "layout": "IPY_MODEL_b5c2079a4c7b4d459e4af66d5c63296b",
            "placeholder": "​",
            "style": "IPY_MODEL_d000e1c415124f239701fdc39d955e89",
            "value": "Map: 100%"
          }
        },
        "6e473df4672a4923a86b66fc378ba779": {
          "model_module": "@jupyter-widgets/controls",
          "model_name": "FloatProgressModel",
          "model_module_version": "1.5.0",
          "state": {
            "_dom_classes": [],
            "_model_module": "@jupyter-widgets/controls",
            "_model_module_version": "1.5.0",
            "_model_name": "FloatProgressModel",
            "_view_count": null,
            "_view_module": "@jupyter-widgets/controls",
            "_view_module_version": "1.5.0",
            "_view_name": "ProgressView",
            "bar_style": "",
            "description": "",
            "description_tooltip": null,
            "layout": "IPY_MODEL_ad408975742a40b8a698ca5a06e0652a",
            "max": 4957,
            "min": 0,
            "orientation": "horizontal",
            "style": "IPY_MODEL_9618c5fadefe4511887e8aec84124e71",
            "value": 4957
          }
        },
        "ebaffbdcc590441bb3b3288ef3b1f42e": {
          "model_module": "@jupyter-widgets/controls",
          "model_name": "HTMLModel",
          "model_module_version": "1.5.0",
          "state": {
            "_dom_classes": [],
            "_model_module": "@jupyter-widgets/controls",
            "_model_module_version": "1.5.0",
            "_model_name": "HTMLModel",
            "_view_count": null,
            "_view_module": "@jupyter-widgets/controls",
            "_view_module_version": "1.5.0",
            "_view_name": "HTMLView",
            "description": "",
            "description_tooltip": null,
            "layout": "IPY_MODEL_3f4d2d6358254ed58b8dfb39c2a4c601",
            "placeholder": "​",
            "style": "IPY_MODEL_93f290bf200a44eb9acacb8486395f51",
            "value": " 4957/4957 [00:00&lt;00:00, 7206.47 examples/s]"
          }
        },
        "263804c78d2f43f995630f0d08e86856": {
          "model_module": "@jupyter-widgets/base",
          "model_name": "LayoutModel",
          "model_module_version": "1.2.0",
          "state": {
            "_model_module": "@jupyter-widgets/base",
            "_model_module_version": "1.2.0",
            "_model_name": "LayoutModel",
            "_view_count": null,
            "_view_module": "@jupyter-widgets/base",
            "_view_module_version": "1.2.0",
            "_view_name": "LayoutView",
            "align_content": null,
            "align_items": null,
            "align_self": null,
            "border": null,
            "bottom": null,
            "display": null,
            "flex": null,
            "flex_flow": null,
            "grid_area": null,
            "grid_auto_columns": null,
            "grid_auto_flow": null,
            "grid_auto_rows": null,
            "grid_column": null,
            "grid_gap": null,
            "grid_row": null,
            "grid_template_areas": null,
            "grid_template_columns": null,
            "grid_template_rows": null,
            "height": null,
            "justify_content": null,
            "justify_items": null,
            "left": null,
            "margin": null,
            "max_height": null,
            "max_width": null,
            "min_height": null,
            "min_width": null,
            "object_fit": null,
            "object_position": null,
            "order": null,
            "overflow": null,
            "overflow_x": null,
            "overflow_y": null,
            "padding": null,
            "right": null,
            "top": null,
            "visibility": "hidden",
            "width": null
          }
        },
        "b5c2079a4c7b4d459e4af66d5c63296b": {
          "model_module": "@jupyter-widgets/base",
          "model_name": "LayoutModel",
          "model_module_version": "1.2.0",
          "state": {
            "_model_module": "@jupyter-widgets/base",
            "_model_module_version": "1.2.0",
            "_model_name": "LayoutModel",
            "_view_count": null,
            "_view_module": "@jupyter-widgets/base",
            "_view_module_version": "1.2.0",
            "_view_name": "LayoutView",
            "align_content": null,
            "align_items": null,
            "align_self": null,
            "border": null,
            "bottom": null,
            "display": null,
            "flex": null,
            "flex_flow": null,
            "grid_area": null,
            "grid_auto_columns": null,
            "grid_auto_flow": null,
            "grid_auto_rows": null,
            "grid_column": null,
            "grid_gap": null,
            "grid_row": null,
            "grid_template_areas": null,
            "grid_template_columns": null,
            "grid_template_rows": null,
            "height": null,
            "justify_content": null,
            "justify_items": null,
            "left": null,
            "margin": null,
            "max_height": null,
            "max_width": null,
            "min_height": null,
            "min_width": null,
            "object_fit": null,
            "object_position": null,
            "order": null,
            "overflow": null,
            "overflow_x": null,
            "overflow_y": null,
            "padding": null,
            "right": null,
            "top": null,
            "visibility": null,
            "width": null
          }
        },
        "d000e1c415124f239701fdc39d955e89": {
          "model_module": "@jupyter-widgets/controls",
          "model_name": "DescriptionStyleModel",
          "model_module_version": "1.5.0",
          "state": {
            "_model_module": "@jupyter-widgets/controls",
            "_model_module_version": "1.5.0",
            "_model_name": "DescriptionStyleModel",
            "_view_count": null,
            "_view_module": "@jupyter-widgets/base",
            "_view_module_version": "1.2.0",
            "_view_name": "StyleView",
            "description_width": ""
          }
        },
        "ad408975742a40b8a698ca5a06e0652a": {
          "model_module": "@jupyter-widgets/base",
          "model_name": "LayoutModel",
          "model_module_version": "1.2.0",
          "state": {
            "_model_module": "@jupyter-widgets/base",
            "_model_module_version": "1.2.0",
            "_model_name": "LayoutModel",
            "_view_count": null,
            "_view_module": "@jupyter-widgets/base",
            "_view_module_version": "1.2.0",
            "_view_name": "LayoutView",
            "align_content": null,
            "align_items": null,
            "align_self": null,
            "border": null,
            "bottom": null,
            "display": null,
            "flex": null,
            "flex_flow": null,
            "grid_area": null,
            "grid_auto_columns": null,
            "grid_auto_flow": null,
            "grid_auto_rows": null,
            "grid_column": null,
            "grid_gap": null,
            "grid_row": null,
            "grid_template_areas": null,
            "grid_template_columns": null,
            "grid_template_rows": null,
            "height": null,
            "justify_content": null,
            "justify_items": null,
            "left": null,
            "margin": null,
            "max_height": null,
            "max_width": null,
            "min_height": null,
            "min_width": null,
            "object_fit": null,
            "object_position": null,
            "order": null,
            "overflow": null,
            "overflow_x": null,
            "overflow_y": null,
            "padding": null,
            "right": null,
            "top": null,
            "visibility": null,
            "width": null
          }
        },
        "9618c5fadefe4511887e8aec84124e71": {
          "model_module": "@jupyter-widgets/controls",
          "model_name": "ProgressStyleModel",
          "model_module_version": "1.5.0",
          "state": {
            "_model_module": "@jupyter-widgets/controls",
            "_model_module_version": "1.5.0",
            "_model_name": "ProgressStyleModel",
            "_view_count": null,
            "_view_module": "@jupyter-widgets/base",
            "_view_module_version": "1.2.0",
            "_view_name": "StyleView",
            "bar_color": null,
            "description_width": ""
          }
        },
        "3f4d2d6358254ed58b8dfb39c2a4c601": {
          "model_module": "@jupyter-widgets/base",
          "model_name": "LayoutModel",
          "model_module_version": "1.2.0",
          "state": {
            "_model_module": "@jupyter-widgets/base",
            "_model_module_version": "1.2.0",
            "_model_name": "LayoutModel",
            "_view_count": null,
            "_view_module": "@jupyter-widgets/base",
            "_view_module_version": "1.2.0",
            "_view_name": "LayoutView",
            "align_content": null,
            "align_items": null,
            "align_self": null,
            "border": null,
            "bottom": null,
            "display": null,
            "flex": null,
            "flex_flow": null,
            "grid_area": null,
            "grid_auto_columns": null,
            "grid_auto_flow": null,
            "grid_auto_rows": null,
            "grid_column": null,
            "grid_gap": null,
            "grid_row": null,
            "grid_template_areas": null,
            "grid_template_columns": null,
            "grid_template_rows": null,
            "height": null,
            "justify_content": null,
            "justify_items": null,
            "left": null,
            "margin": null,
            "max_height": null,
            "max_width": null,
            "min_height": null,
            "min_width": null,
            "object_fit": null,
            "object_position": null,
            "order": null,
            "overflow": null,
            "overflow_x": null,
            "overflow_y": null,
            "padding": null,
            "right": null,
            "top": null,
            "visibility": null,
            "width": null
          }
        },
        "93f290bf200a44eb9acacb8486395f51": {
          "model_module": "@jupyter-widgets/controls",
          "model_name": "DescriptionStyleModel",
          "model_module_version": "1.5.0",
          "state": {
            "_model_module": "@jupyter-widgets/controls",
            "_model_module_version": "1.5.0",
            "_model_name": "DescriptionStyleModel",
            "_view_count": null,
            "_view_module": "@jupyter-widgets/base",
            "_view_module_version": "1.2.0",
            "_view_name": "StyleView",
            "description_width": ""
          }
        }
      }
    }
  },
  "cells": [
    {
      "cell_type": "markdown",
      "source": [
        "# Initial setup\n"
      ],
      "metadata": {
        "id": "AcFopj-SDciW"
      }
    },
    {
      "cell_type": "markdown",
      "source": [
        "## Pip installs"
      ],
      "metadata": {
        "id": "NZna_D6IDjNC"
      }
    },
    {
      "cell_type": "code",
      "execution_count": 87,
      "metadata": {
        "id": "yql0MdLF97lf",
        "colab": {
          "base_uri": "https://localhost:8080/"
        },
        "outputId": "6a23ff85-fc26-4c80-e5a9-7f19d4501876"
      },
      "outputs": [
        {
          "output_type": "stream",
          "name": "stdout",
          "text": [
            "Requirement already satisfied: tensorflow in /usr/local/lib/python3.10/dist-packages (2.12.0)\n",
            "Requirement already satisfied: absl-py>=1.0.0 in /usr/local/lib/python3.10/dist-packages (from tensorflow) (1.4.0)\n",
            "Requirement already satisfied: astunparse>=1.6.0 in /usr/local/lib/python3.10/dist-packages (from tensorflow) (1.6.3)\n",
            "Requirement already satisfied: flatbuffers>=2.0 in /usr/local/lib/python3.10/dist-packages (from tensorflow) (23.5.26)\n",
            "Requirement already satisfied: gast<=0.4.0,>=0.2.1 in /usr/local/lib/python3.10/dist-packages (from tensorflow) (0.4.0)\n",
            "Requirement already satisfied: google-pasta>=0.1.1 in /usr/local/lib/python3.10/dist-packages (from tensorflow) (0.2.0)\n",
            "Requirement already satisfied: grpcio<2.0,>=1.24.3 in /usr/local/lib/python3.10/dist-packages (from tensorflow) (1.56.0)\n",
            "Requirement already satisfied: h5py>=2.9.0 in /usr/local/lib/python3.10/dist-packages (from tensorflow) (3.8.0)\n",
            "Requirement already satisfied: jax>=0.3.15 in /usr/local/lib/python3.10/dist-packages (from tensorflow) (0.4.10)\n",
            "Requirement already satisfied: keras<2.13,>=2.12.0 in /usr/local/lib/python3.10/dist-packages (from tensorflow) (2.12.0)\n",
            "Requirement already satisfied: libclang>=13.0.0 in /usr/local/lib/python3.10/dist-packages (from tensorflow) (16.0.0)\n",
            "Requirement already satisfied: numpy<1.24,>=1.22 in /usr/local/lib/python3.10/dist-packages (from tensorflow) (1.22.4)\n",
            "Requirement already satisfied: opt-einsum>=2.3.2 in /usr/local/lib/python3.10/dist-packages (from tensorflow) (3.3.0)\n",
            "Requirement already satisfied: packaging in /usr/local/lib/python3.10/dist-packages (from tensorflow) (23.1)\n",
            "Requirement already satisfied: protobuf!=4.21.0,!=4.21.1,!=4.21.2,!=4.21.3,!=4.21.4,!=4.21.5,<5.0.0dev,>=3.20.3 in /usr/local/lib/python3.10/dist-packages (from tensorflow) (3.20.3)\n",
            "Requirement already satisfied: setuptools in /usr/local/lib/python3.10/dist-packages (from tensorflow) (67.7.2)\n",
            "Requirement already satisfied: six>=1.12.0 in /usr/local/lib/python3.10/dist-packages (from tensorflow) (1.16.0)\n",
            "Requirement already satisfied: tensorboard<2.13,>=2.12 in /usr/local/lib/python3.10/dist-packages (from tensorflow) (2.12.3)\n",
            "Requirement already satisfied: tensorflow-estimator<2.13,>=2.12.0 in /usr/local/lib/python3.10/dist-packages (from tensorflow) (2.12.0)\n",
            "Requirement already satisfied: termcolor>=1.1.0 in /usr/local/lib/python3.10/dist-packages (from tensorflow) (2.3.0)\n",
            "Requirement already satisfied: typing-extensions>=3.6.6 in /usr/local/lib/python3.10/dist-packages (from tensorflow) (4.6.3)\n",
            "Requirement already satisfied: wrapt<1.15,>=1.11.0 in /usr/local/lib/python3.10/dist-packages (from tensorflow) (1.14.1)\n",
            "Requirement already satisfied: tensorflow-io-gcs-filesystem>=0.23.1 in /usr/local/lib/python3.10/dist-packages (from tensorflow) (0.32.0)\n",
            "Requirement already satisfied: wheel<1.0,>=0.23.0 in /usr/local/lib/python3.10/dist-packages (from astunparse>=1.6.0->tensorflow) (0.40.0)\n",
            "Requirement already satisfied: ml-dtypes>=0.1.0 in /usr/local/lib/python3.10/dist-packages (from jax>=0.3.15->tensorflow) (0.2.0)\n",
            "Requirement already satisfied: scipy>=1.7 in /usr/local/lib/python3.10/dist-packages (from jax>=0.3.15->tensorflow) (1.10.1)\n",
            "Requirement already satisfied: google-auth<3,>=1.6.3 in /usr/local/lib/python3.10/dist-packages (from tensorboard<2.13,>=2.12->tensorflow) (2.17.3)\n",
            "Requirement already satisfied: google-auth-oauthlib<1.1,>=0.5 in /usr/local/lib/python3.10/dist-packages (from tensorboard<2.13,>=2.12->tensorflow) (1.0.0)\n",
            "Requirement already satisfied: markdown>=2.6.8 in /usr/local/lib/python3.10/dist-packages (from tensorboard<2.13,>=2.12->tensorflow) (3.4.3)\n",
            "Requirement already satisfied: requests<3,>=2.21.0 in /usr/local/lib/python3.10/dist-packages (from tensorboard<2.13,>=2.12->tensorflow) (2.27.1)\n",
            "Requirement already satisfied: tensorboard-data-server<0.8.0,>=0.7.0 in /usr/local/lib/python3.10/dist-packages (from tensorboard<2.13,>=2.12->tensorflow) (0.7.1)\n",
            "Requirement already satisfied: werkzeug>=1.0.1 in /usr/local/lib/python3.10/dist-packages (from tensorboard<2.13,>=2.12->tensorflow) (2.3.6)\n",
            "Requirement already satisfied: cachetools<6.0,>=2.0.0 in /usr/local/lib/python3.10/dist-packages (from google-auth<3,>=1.6.3->tensorboard<2.13,>=2.12->tensorflow) (5.3.1)\n",
            "Requirement already satisfied: pyasn1-modules>=0.2.1 in /usr/local/lib/python3.10/dist-packages (from google-auth<3,>=1.6.3->tensorboard<2.13,>=2.12->tensorflow) (0.3.0)\n",
            "Requirement already satisfied: rsa<5,>=3.1.4 in /usr/local/lib/python3.10/dist-packages (from google-auth<3,>=1.6.3->tensorboard<2.13,>=2.12->tensorflow) (4.9)\n",
            "Requirement already satisfied: requests-oauthlib>=0.7.0 in /usr/local/lib/python3.10/dist-packages (from google-auth-oauthlib<1.1,>=0.5->tensorboard<2.13,>=2.12->tensorflow) (1.3.1)\n",
            "Requirement already satisfied: urllib3<1.27,>=1.21.1 in /usr/local/lib/python3.10/dist-packages (from requests<3,>=2.21.0->tensorboard<2.13,>=2.12->tensorflow) (1.26.16)\n",
            "Requirement already satisfied: certifi>=2017.4.17 in /usr/local/lib/python3.10/dist-packages (from requests<3,>=2.21.0->tensorboard<2.13,>=2.12->tensorflow) (2023.5.7)\n",
            "Requirement already satisfied: charset-normalizer~=2.0.0 in /usr/local/lib/python3.10/dist-packages (from requests<3,>=2.21.0->tensorboard<2.13,>=2.12->tensorflow) (2.0.12)\n",
            "Requirement already satisfied: idna<4,>=2.5 in /usr/local/lib/python3.10/dist-packages (from requests<3,>=2.21.0->tensorboard<2.13,>=2.12->tensorflow) (3.4)\n",
            "Requirement already satisfied: MarkupSafe>=2.1.1 in /usr/local/lib/python3.10/dist-packages (from werkzeug>=1.0.1->tensorboard<2.13,>=2.12->tensorflow) (2.1.3)\n",
            "Requirement already satisfied: pyasn1<0.6.0,>=0.4.6 in /usr/local/lib/python3.10/dist-packages (from pyasn1-modules>=0.2.1->google-auth<3,>=1.6.3->tensorboard<2.13,>=2.12->tensorflow) (0.5.0)\n",
            "Requirement already satisfied: oauthlib>=3.0.0 in /usr/local/lib/python3.10/dist-packages (from requests-oauthlib>=0.7.0->google-auth-oauthlib<1.1,>=0.5->tensorboard<2.13,>=2.12->tensorflow) (3.2.2)\n",
            "Requirement already satisfied: transformers in /usr/local/lib/python3.10/dist-packages (4.30.2)\n",
            "Requirement already satisfied: filelock in /usr/local/lib/python3.10/dist-packages (from transformers) (3.12.2)\n",
            "Requirement already satisfied: huggingface-hub<1.0,>=0.14.1 in /usr/local/lib/python3.10/dist-packages (from transformers) (0.16.2)\n",
            "Requirement already satisfied: numpy>=1.17 in /usr/local/lib/python3.10/dist-packages (from transformers) (1.22.4)\n",
            "Requirement already satisfied: packaging>=20.0 in /usr/local/lib/python3.10/dist-packages (from transformers) (23.1)\n",
            "Requirement already satisfied: pyyaml>=5.1 in /usr/local/lib/python3.10/dist-packages (from transformers) (6.0)\n",
            "Requirement already satisfied: regex!=2019.12.17 in /usr/local/lib/python3.10/dist-packages (from transformers) (2022.10.31)\n",
            "Requirement already satisfied: requests in /usr/local/lib/python3.10/dist-packages (from transformers) (2.27.1)\n",
            "Requirement already satisfied: tokenizers!=0.11.3,<0.14,>=0.11.1 in /usr/local/lib/python3.10/dist-packages (from transformers) (0.13.3)\n",
            "Requirement already satisfied: safetensors>=0.3.1 in /usr/local/lib/python3.10/dist-packages (from transformers) (0.3.1)\n",
            "Requirement already satisfied: tqdm>=4.27 in /usr/local/lib/python3.10/dist-packages (from transformers) (4.65.0)\n",
            "Requirement already satisfied: fsspec in /usr/local/lib/python3.10/dist-packages (from huggingface-hub<1.0,>=0.14.1->transformers) (2023.6.0)\n",
            "Requirement already satisfied: typing-extensions>=3.7.4.3 in /usr/local/lib/python3.10/dist-packages (from huggingface-hub<1.0,>=0.14.1->transformers) (4.6.3)\n",
            "Requirement already satisfied: urllib3<1.27,>=1.21.1 in /usr/local/lib/python3.10/dist-packages (from requests->transformers) (1.26.16)\n",
            "Requirement already satisfied: certifi>=2017.4.17 in /usr/local/lib/python3.10/dist-packages (from requests->transformers) (2023.5.7)\n",
            "Requirement already satisfied: charset-normalizer~=2.0.0 in /usr/local/lib/python3.10/dist-packages (from requests->transformers) (2.0.12)\n",
            "Requirement already satisfied: idna<4,>=2.5 in /usr/local/lib/python3.10/dist-packages (from requests->transformers) (3.4)\n",
            "Requirement already satisfied: datasets in /usr/local/lib/python3.10/dist-packages (2.13.1)\n",
            "Requirement already satisfied: numpy>=1.17 in /usr/local/lib/python3.10/dist-packages (from datasets) (1.22.4)\n",
            "Requirement already satisfied: pyarrow>=8.0.0 in /usr/local/lib/python3.10/dist-packages (from datasets) (9.0.0)\n",
            "Requirement already satisfied: dill<0.3.7,>=0.3.0 in /usr/local/lib/python3.10/dist-packages (from datasets) (0.3.6)\n",
            "Requirement already satisfied: pandas in /usr/local/lib/python3.10/dist-packages (from datasets) (1.5.3)\n",
            "Requirement already satisfied: requests>=2.19.0 in /usr/local/lib/python3.10/dist-packages (from datasets) (2.27.1)\n",
            "Requirement already satisfied: tqdm>=4.62.1 in /usr/local/lib/python3.10/dist-packages (from datasets) (4.65.0)\n",
            "Requirement already satisfied: xxhash in /usr/local/lib/python3.10/dist-packages (from datasets) (3.2.0)\n",
            "Requirement already satisfied: multiprocess in /usr/local/lib/python3.10/dist-packages (from datasets) (0.70.14)\n",
            "Requirement already satisfied: fsspec[http]>=2021.11.1 in /usr/local/lib/python3.10/dist-packages (from datasets) (2023.6.0)\n",
            "Requirement already satisfied: aiohttp in /usr/local/lib/python3.10/dist-packages (from datasets) (3.8.4)\n",
            "Requirement already satisfied: huggingface-hub<1.0.0,>=0.11.0 in /usr/local/lib/python3.10/dist-packages (from datasets) (0.16.2)\n",
            "Requirement already satisfied: packaging in /usr/local/lib/python3.10/dist-packages (from datasets) (23.1)\n",
            "Requirement already satisfied: pyyaml>=5.1 in /usr/local/lib/python3.10/dist-packages (from datasets) (6.0)\n",
            "Requirement already satisfied: attrs>=17.3.0 in /usr/local/lib/python3.10/dist-packages (from aiohttp->datasets) (23.1.0)\n",
            "Requirement already satisfied: charset-normalizer<4.0,>=2.0 in /usr/local/lib/python3.10/dist-packages (from aiohttp->datasets) (2.0.12)\n",
            "Requirement already satisfied: multidict<7.0,>=4.5 in /usr/local/lib/python3.10/dist-packages (from aiohttp->datasets) (6.0.4)\n",
            "Requirement already satisfied: async-timeout<5.0,>=4.0.0a3 in /usr/local/lib/python3.10/dist-packages (from aiohttp->datasets) (4.0.2)\n",
            "Requirement already satisfied: yarl<2.0,>=1.0 in /usr/local/lib/python3.10/dist-packages (from aiohttp->datasets) (1.9.2)\n",
            "Requirement already satisfied: frozenlist>=1.1.1 in /usr/local/lib/python3.10/dist-packages (from aiohttp->datasets) (1.3.3)\n",
            "Requirement already satisfied: aiosignal>=1.1.2 in /usr/local/lib/python3.10/dist-packages (from aiohttp->datasets) (1.3.1)\n",
            "Requirement already satisfied: filelock in /usr/local/lib/python3.10/dist-packages (from huggingface-hub<1.0.0,>=0.11.0->datasets) (3.12.2)\n",
            "Requirement already satisfied: typing-extensions>=3.7.4.3 in /usr/local/lib/python3.10/dist-packages (from huggingface-hub<1.0.0,>=0.11.0->datasets) (4.6.3)\n",
            "Requirement already satisfied: urllib3<1.27,>=1.21.1 in /usr/local/lib/python3.10/dist-packages (from requests>=2.19.0->datasets) (1.26.16)\n",
            "Requirement already satisfied: certifi>=2017.4.17 in /usr/local/lib/python3.10/dist-packages (from requests>=2.19.0->datasets) (2023.5.7)\n",
            "Requirement already satisfied: idna<4,>=2.5 in /usr/local/lib/python3.10/dist-packages (from requests>=2.19.0->datasets) (3.4)\n",
            "Requirement already satisfied: python-dateutil>=2.8.1 in /usr/local/lib/python3.10/dist-packages (from pandas->datasets) (2.8.2)\n",
            "Requirement already satisfied: pytz>=2020.1 in /usr/local/lib/python3.10/dist-packages (from pandas->datasets) (2022.7.1)\n",
            "Requirement already satisfied: six>=1.5 in /usr/local/lib/python3.10/dist-packages (from python-dateutil>=2.8.1->pandas->datasets) (1.16.0)\n",
            "Requirement already satisfied: wordfreq in /usr/local/lib/python3.10/dist-packages (3.0.3)\n",
            "Requirement already satisfied: ftfy>=6.1 in /usr/local/lib/python3.10/dist-packages (from wordfreq) (6.1.1)\n",
            "Requirement already satisfied: langcodes>=3.0 in /usr/local/lib/python3.10/dist-packages (from wordfreq) (3.3.0)\n",
            "Requirement already satisfied: msgpack>=1.0 in /usr/local/lib/python3.10/dist-packages (from wordfreq) (1.0.5)\n",
            "Requirement already satisfied: regex>=2021.7.6 in /usr/local/lib/python3.10/dist-packages (from wordfreq) (2022.10.31)\n",
            "Requirement already satisfied: wcwidth>=0.2.5 in /usr/local/lib/python3.10/dist-packages (from ftfy>=6.1->wordfreq) (0.2.6)\n"
          ]
        }
      ],
      "source": [
        "# Various pip\n",
        "!pip install tensorflow\n",
        "!pip install transformers\n",
        "!pip install datasets\n",
        "!pip install wordfreq"
      ]
    },
    {
      "cell_type": "markdown",
      "source": [
        "## Imports"
      ],
      "metadata": {
        "id": "YoUY_cYmDol_"
      }
    },
    {
      "cell_type": "code",
      "source": [
        "# Dataframe management\n",
        "import pandas as pd\n",
        "\n",
        "# Data manipulation\n",
        "import numpy as np\n",
        "import random\n",
        "\n",
        "# NNs\n",
        "from tensorflow import keras\n",
        "from keras.preprocessing.text import Tokenizer\n",
        "from keras.models import Sequential\n",
        "from keras.callbacks import EarlyStopping\n",
        "import tensorflow as tf\n",
        "from tensorflow.keras.models import Model\n",
        "\n",
        "# Transformers\n",
        "import transformers\n",
        "from transformers import TFAutoModelForSequenceClassification, AutoTokenizer\n",
        "\n",
        "# Convert to HuggingFace dataset\n",
        "import pyarrow as pa\n",
        "from datasets import Dataset\n",
        "import datasets\n",
        "\n",
        "# Sklearn for train test split\n",
        "from sklearn.model_selection import train_test_split\n",
        "from sklearn.metrics import confusion_matrix, ConfusionMatrixDisplay\n",
        "\n",
        "\n",
        "# Wordfreq to get the italian wordssss\n",
        "from wordfreq import top_n_list\n",
        "\n",
        "# File imports\n",
        "# from google.colab import drive"
      ],
      "metadata": {
        "id": "cfPOO-k4c7UD"
      },
      "execution_count": 88,
      "outputs": []
    },
    {
      "cell_type": "markdown",
      "source": [
        "## Get the datasets"
      ],
      "metadata": {
        "id": "12F6RD44DuKL"
      }
    },
    {
      "cell_type": "code",
      "source": [
        "# drive.mount('/content/drive')"
      ],
      "metadata": {
        "id": "mZyMkpHpkchl"
      },
      "execution_count": 89,
      "outputs": []
    },
    {
      "cell_type": "code",
      "source": [
        "#PER FAVORE NON CANCELLATE :(\n",
        "#PATH_ELISA_MAIN_DATA = '/content/drive/My Drive/NLP_HATESPEECH/data/mainDataEN.csv'\n",
        "#PATH_ELISA_HASPEEDE2 = '/content/drive/My Drive/NLP_HATESPEECH/haspeede2_dev/haspeede2_dev_taskAB.tsv'\n",
        "#PATH_ELISA_MISOGYNY_DATA = '/content/drive/My Drive/NLP_HATESPEECH/misogyny_data/AMI2020_TrainingSet/AMI2020_training_raw.tsv'"
      ],
      "metadata": {
        "id": "DOP8drdjlMY4"
      },
      "execution_count": 90,
      "outputs": []
    },
    {
      "cell_type": "markdown",
      "source": [
        "# Dataset preprocessing"
      ],
      "metadata": {
        "id": "GRjgpM1tEWYV"
      }
    },
    {
      "cell_type": "code",
      "source": [
        "# Get dataset\n",
        "#df_en = pd.read_csv(PATH_ELISA_MAIN_DATA)\n",
        "#df_ita_hs = pd.read_csv(PATH_ELISA_HASPEEDE2, sep='\\t')\n",
        "#df_ita_m = pd.read_csv(PATH_ELISA_MISOGYNY_DATA, sep=\"\\t\")\n",
        "df_en = pd.read_csv(\"mainDataEN.csv\")\n",
        "df_ita_hs = pd.read_csv(\"haspeede2_dev_taskAB.tsv\", sep='\\t')\n",
        "df_ita_m = pd.read_csv(\"AMI2020_training_raw.tsv\", sep=\"\\t\")"
      ],
      "metadata": {
        "id": "eJyOPELQc9U9"
      },
      "execution_count": 91,
      "outputs": []
    },
    {
      "cell_type": "code",
      "source": [
        "df_en.head()"
      ],
      "metadata": {
        "colab": {
          "base_uri": "https://localhost:8080/",
          "height": 206
        },
        "id": "ziXp1vhKn7hC",
        "outputId": "a76636a6-31f3-47e8-8644-c7aff866279e"
      },
      "execution_count": 92,
      "outputs": [
        {
          "output_type": "execute_result",
          "data": {
            "text/plain": [
              "   Unnamed: 0  count  hate_speech  offensive_language  neither  class  \\\n",
              "0           0      3            0                   0        3      2   \n",
              "1           1      3            0                   3        0      1   \n",
              "2           2      3            0                   3        0      1   \n",
              "3           3      3            0                   2        1      1   \n",
              "4           4      6            0                   6        0      1   \n",
              "\n",
              "                                               tweet  \n",
              "0  !!! RT @mayasolovely: As a woman you shouldn't...  \n",
              "1  !!!!! RT @mleew17: boy dats cold...tyga dwn ba...  \n",
              "2  !!!!!!! RT @UrKindOfBrand Dawg!!!! RT @80sbaby...  \n",
              "3  !!!!!!!!! RT @C_G_Anderson: @viva_based she lo...  \n",
              "4  !!!!!!!!!!!!! RT @ShenikaRoberts: The shit you...  "
            ],
            "text/html": [
              "\n",
              "  <div id=\"df-099f613c-9f71-428a-8ca5-d5efb3eb54c1\">\n",
              "    <div class=\"colab-df-container\">\n",
              "      <div>\n",
              "<style scoped>\n",
              "    .dataframe tbody tr th:only-of-type {\n",
              "        vertical-align: middle;\n",
              "    }\n",
              "\n",
              "    .dataframe tbody tr th {\n",
              "        vertical-align: top;\n",
              "    }\n",
              "\n",
              "    .dataframe thead th {\n",
              "        text-align: right;\n",
              "    }\n",
              "</style>\n",
              "<table border=\"1\" class=\"dataframe\">\n",
              "  <thead>\n",
              "    <tr style=\"text-align: right;\">\n",
              "      <th></th>\n",
              "      <th>Unnamed: 0</th>\n",
              "      <th>count</th>\n",
              "      <th>hate_speech</th>\n",
              "      <th>offensive_language</th>\n",
              "      <th>neither</th>\n",
              "      <th>class</th>\n",
              "      <th>tweet</th>\n",
              "    </tr>\n",
              "  </thead>\n",
              "  <tbody>\n",
              "    <tr>\n",
              "      <th>0</th>\n",
              "      <td>0</td>\n",
              "      <td>3</td>\n",
              "      <td>0</td>\n",
              "      <td>0</td>\n",
              "      <td>3</td>\n",
              "      <td>2</td>\n",
              "      <td>!!! RT @mayasolovely: As a woman you shouldn't...</td>\n",
              "    </tr>\n",
              "    <tr>\n",
              "      <th>1</th>\n",
              "      <td>1</td>\n",
              "      <td>3</td>\n",
              "      <td>0</td>\n",
              "      <td>3</td>\n",
              "      <td>0</td>\n",
              "      <td>1</td>\n",
              "      <td>!!!!! RT @mleew17: boy dats cold...tyga dwn ba...</td>\n",
              "    </tr>\n",
              "    <tr>\n",
              "      <th>2</th>\n",
              "      <td>2</td>\n",
              "      <td>3</td>\n",
              "      <td>0</td>\n",
              "      <td>3</td>\n",
              "      <td>0</td>\n",
              "      <td>1</td>\n",
              "      <td>!!!!!!! RT @UrKindOfBrand Dawg!!!! RT @80sbaby...</td>\n",
              "    </tr>\n",
              "    <tr>\n",
              "      <th>3</th>\n",
              "      <td>3</td>\n",
              "      <td>3</td>\n",
              "      <td>0</td>\n",
              "      <td>2</td>\n",
              "      <td>1</td>\n",
              "      <td>1</td>\n",
              "      <td>!!!!!!!!! RT @C_G_Anderson: @viva_based she lo...</td>\n",
              "    </tr>\n",
              "    <tr>\n",
              "      <th>4</th>\n",
              "      <td>4</td>\n",
              "      <td>6</td>\n",
              "      <td>0</td>\n",
              "      <td>6</td>\n",
              "      <td>0</td>\n",
              "      <td>1</td>\n",
              "      <td>!!!!!!!!!!!!! RT @ShenikaRoberts: The shit you...</td>\n",
              "    </tr>\n",
              "  </tbody>\n",
              "</table>\n",
              "</div>\n",
              "      <button class=\"colab-df-convert\" onclick=\"convertToInteractive('df-099f613c-9f71-428a-8ca5-d5efb3eb54c1')\"\n",
              "              title=\"Convert this dataframe to an interactive table.\"\n",
              "              style=\"display:none;\">\n",
              "        \n",
              "  <svg xmlns=\"http://www.w3.org/2000/svg\" height=\"24px\"viewBox=\"0 0 24 24\"\n",
              "       width=\"24px\">\n",
              "    <path d=\"M0 0h24v24H0V0z\" fill=\"none\"/>\n",
              "    <path d=\"M18.56 5.44l.94 2.06.94-2.06 2.06-.94-2.06-.94-.94-2.06-.94 2.06-2.06.94zm-11 1L8.5 8.5l.94-2.06 2.06-.94-2.06-.94L8.5 2.5l-.94 2.06-2.06.94zm10 10l.94 2.06.94-2.06 2.06-.94-2.06-.94-.94-2.06-.94 2.06-2.06.94z\"/><path d=\"M17.41 7.96l-1.37-1.37c-.4-.4-.92-.59-1.43-.59-.52 0-1.04.2-1.43.59L10.3 9.45l-7.72 7.72c-.78.78-.78 2.05 0 2.83L4 21.41c.39.39.9.59 1.41.59.51 0 1.02-.2 1.41-.59l7.78-7.78 2.81-2.81c.8-.78.8-2.07 0-2.86zM5.41 20L4 18.59l7.72-7.72 1.47 1.35L5.41 20z\"/>\n",
              "  </svg>\n",
              "      </button>\n",
              "      \n",
              "  <style>\n",
              "    .colab-df-container {\n",
              "      display:flex;\n",
              "      flex-wrap:wrap;\n",
              "      gap: 12px;\n",
              "    }\n",
              "\n",
              "    .colab-df-convert {\n",
              "      background-color: #E8F0FE;\n",
              "      border: none;\n",
              "      border-radius: 50%;\n",
              "      cursor: pointer;\n",
              "      display: none;\n",
              "      fill: #1967D2;\n",
              "      height: 32px;\n",
              "      padding: 0 0 0 0;\n",
              "      width: 32px;\n",
              "    }\n",
              "\n",
              "    .colab-df-convert:hover {\n",
              "      background-color: #E2EBFA;\n",
              "      box-shadow: 0px 1px 2px rgba(60, 64, 67, 0.3), 0px 1px 3px 1px rgba(60, 64, 67, 0.15);\n",
              "      fill: #174EA6;\n",
              "    }\n",
              "\n",
              "    [theme=dark] .colab-df-convert {\n",
              "      background-color: #3B4455;\n",
              "      fill: #D2E3FC;\n",
              "    }\n",
              "\n",
              "    [theme=dark] .colab-df-convert:hover {\n",
              "      background-color: #434B5C;\n",
              "      box-shadow: 0px 1px 3px 1px rgba(0, 0, 0, 0.15);\n",
              "      filter: drop-shadow(0px 1px 2px rgba(0, 0, 0, 0.3));\n",
              "      fill: #FFFFFF;\n",
              "    }\n",
              "  </style>\n",
              "\n",
              "      <script>\n",
              "        const buttonEl =\n",
              "          document.querySelector('#df-099f613c-9f71-428a-8ca5-d5efb3eb54c1 button.colab-df-convert');\n",
              "        buttonEl.style.display =\n",
              "          google.colab.kernel.accessAllowed ? 'block' : 'none';\n",
              "\n",
              "        async function convertToInteractive(key) {\n",
              "          const element = document.querySelector('#df-099f613c-9f71-428a-8ca5-d5efb3eb54c1');\n",
              "          const dataTable =\n",
              "            await google.colab.kernel.invokeFunction('convertToInteractive',\n",
              "                                                     [key], {});\n",
              "          if (!dataTable) return;\n",
              "\n",
              "          const docLinkHtml = 'Like what you see? Visit the ' +\n",
              "            '<a target=\"_blank\" href=https://colab.research.google.com/notebooks/data_table.ipynb>data table notebook</a>'\n",
              "            + ' to learn more about interactive tables.';\n",
              "          element.innerHTML = '';\n",
              "          dataTable['output_type'] = 'display_data';\n",
              "          await google.colab.output.renderOutput(dataTable, element);\n",
              "          const docLink = document.createElement('div');\n",
              "          docLink.innerHTML = docLinkHtml;\n",
              "          element.appendChild(docLink);\n",
              "        }\n",
              "      </script>\n",
              "    </div>\n",
              "  </div>\n",
              "  "
            ]
          },
          "metadata": {},
          "execution_count": 92
        }
      ]
    },
    {
      "cell_type": "code",
      "source": [
        "df_ita_hs.head()"
      ],
      "metadata": {
        "colab": {
          "base_uri": "https://localhost:8080/",
          "height": 206
        },
        "id": "Wwt0tPytEa5d",
        "outputId": "02d709d8-1c92-40a5-869c-2de528b2e799"
      },
      "execution_count": 93,
      "outputs": [
        {
          "output_type": "execute_result",
          "data": {
            "text/plain": [
              "     id                                              text   hs  stereotype\n",
              "0  2066  È terrorismo anche questo, per mettere in uno ...   0           0\n",
              "1  2045  @user @user infatti finché ci hanno guadagnato...   0           0\n",
              "2    61  Corriere: Tangenti, Mafia Capitale dimenticata...   0           0\n",
              "3  1259  @user ad uno ad uno, perché quando i migranti ...   0           0\n",
              "4   949  Il divertimento del giorno? Trovare i patrioti...   0           0"
            ],
            "text/html": [
              "\n",
              "  <div id=\"df-a196572d-527d-432e-b715-c14332d99b1a\">\n",
              "    <div class=\"colab-df-container\">\n",
              "      <div>\n",
              "<style scoped>\n",
              "    .dataframe tbody tr th:only-of-type {\n",
              "        vertical-align: middle;\n",
              "    }\n",
              "\n",
              "    .dataframe tbody tr th {\n",
              "        vertical-align: top;\n",
              "    }\n",
              "\n",
              "    .dataframe thead th {\n",
              "        text-align: right;\n",
              "    }\n",
              "</style>\n",
              "<table border=\"1\" class=\"dataframe\">\n",
              "  <thead>\n",
              "    <tr style=\"text-align: right;\">\n",
              "      <th></th>\n",
              "      <th>id</th>\n",
              "      <th>text</th>\n",
              "      <th>hs</th>\n",
              "      <th>stereotype</th>\n",
              "    </tr>\n",
              "  </thead>\n",
              "  <tbody>\n",
              "    <tr>\n",
              "      <th>0</th>\n",
              "      <td>2066</td>\n",
              "      <td>È terrorismo anche questo, per mettere in uno ...</td>\n",
              "      <td>0</td>\n",
              "      <td>0</td>\n",
              "    </tr>\n",
              "    <tr>\n",
              "      <th>1</th>\n",
              "      <td>2045</td>\n",
              "      <td>@user @user infatti finché ci hanno guadagnato...</td>\n",
              "      <td>0</td>\n",
              "      <td>0</td>\n",
              "    </tr>\n",
              "    <tr>\n",
              "      <th>2</th>\n",
              "      <td>61</td>\n",
              "      <td>Corriere: Tangenti, Mafia Capitale dimenticata...</td>\n",
              "      <td>0</td>\n",
              "      <td>0</td>\n",
              "    </tr>\n",
              "    <tr>\n",
              "      <th>3</th>\n",
              "      <td>1259</td>\n",
              "      <td>@user ad uno ad uno, perché quando i migranti ...</td>\n",
              "      <td>0</td>\n",
              "      <td>0</td>\n",
              "    </tr>\n",
              "    <tr>\n",
              "      <th>4</th>\n",
              "      <td>949</td>\n",
              "      <td>Il divertimento del giorno? Trovare i patrioti...</td>\n",
              "      <td>0</td>\n",
              "      <td>0</td>\n",
              "    </tr>\n",
              "  </tbody>\n",
              "</table>\n",
              "</div>\n",
              "      <button class=\"colab-df-convert\" onclick=\"convertToInteractive('df-a196572d-527d-432e-b715-c14332d99b1a')\"\n",
              "              title=\"Convert this dataframe to an interactive table.\"\n",
              "              style=\"display:none;\">\n",
              "        \n",
              "  <svg xmlns=\"http://www.w3.org/2000/svg\" height=\"24px\"viewBox=\"0 0 24 24\"\n",
              "       width=\"24px\">\n",
              "    <path d=\"M0 0h24v24H0V0z\" fill=\"none\"/>\n",
              "    <path d=\"M18.56 5.44l.94 2.06.94-2.06 2.06-.94-2.06-.94-.94-2.06-.94 2.06-2.06.94zm-11 1L8.5 8.5l.94-2.06 2.06-.94-2.06-.94L8.5 2.5l-.94 2.06-2.06.94zm10 10l.94 2.06.94-2.06 2.06-.94-2.06-.94-.94-2.06-.94 2.06-2.06.94z\"/><path d=\"M17.41 7.96l-1.37-1.37c-.4-.4-.92-.59-1.43-.59-.52 0-1.04.2-1.43.59L10.3 9.45l-7.72 7.72c-.78.78-.78 2.05 0 2.83L4 21.41c.39.39.9.59 1.41.59.51 0 1.02-.2 1.41-.59l7.78-7.78 2.81-2.81c.8-.78.8-2.07 0-2.86zM5.41 20L4 18.59l7.72-7.72 1.47 1.35L5.41 20z\"/>\n",
              "  </svg>\n",
              "      </button>\n",
              "      \n",
              "  <style>\n",
              "    .colab-df-container {\n",
              "      display:flex;\n",
              "      flex-wrap:wrap;\n",
              "      gap: 12px;\n",
              "    }\n",
              "\n",
              "    .colab-df-convert {\n",
              "      background-color: #E8F0FE;\n",
              "      border: none;\n",
              "      border-radius: 50%;\n",
              "      cursor: pointer;\n",
              "      display: none;\n",
              "      fill: #1967D2;\n",
              "      height: 32px;\n",
              "      padding: 0 0 0 0;\n",
              "      width: 32px;\n",
              "    }\n",
              "\n",
              "    .colab-df-convert:hover {\n",
              "      background-color: #E2EBFA;\n",
              "      box-shadow: 0px 1px 2px rgba(60, 64, 67, 0.3), 0px 1px 3px 1px rgba(60, 64, 67, 0.15);\n",
              "      fill: #174EA6;\n",
              "    }\n",
              "\n",
              "    [theme=dark] .colab-df-convert {\n",
              "      background-color: #3B4455;\n",
              "      fill: #D2E3FC;\n",
              "    }\n",
              "\n",
              "    [theme=dark] .colab-df-convert:hover {\n",
              "      background-color: #434B5C;\n",
              "      box-shadow: 0px 1px 3px 1px rgba(0, 0, 0, 0.15);\n",
              "      filter: drop-shadow(0px 1px 2px rgba(0, 0, 0, 0.3));\n",
              "      fill: #FFFFFF;\n",
              "    }\n",
              "  </style>\n",
              "\n",
              "      <script>\n",
              "        const buttonEl =\n",
              "          document.querySelector('#df-a196572d-527d-432e-b715-c14332d99b1a button.colab-df-convert');\n",
              "        buttonEl.style.display =\n",
              "          google.colab.kernel.accessAllowed ? 'block' : 'none';\n",
              "\n",
              "        async function convertToInteractive(key) {\n",
              "          const element = document.querySelector('#df-a196572d-527d-432e-b715-c14332d99b1a');\n",
              "          const dataTable =\n",
              "            await google.colab.kernel.invokeFunction('convertToInteractive',\n",
              "                                                     [key], {});\n",
              "          if (!dataTable) return;\n",
              "\n",
              "          const docLinkHtml = 'Like what you see? Visit the ' +\n",
              "            '<a target=\"_blank\" href=https://colab.research.google.com/notebooks/data_table.ipynb>data table notebook</a>'\n",
              "            + ' to learn more about interactive tables.';\n",
              "          element.innerHTML = '';\n",
              "          dataTable['output_type'] = 'display_data';\n",
              "          await google.colab.output.renderOutput(dataTable, element);\n",
              "          const docLink = document.createElement('div');\n",
              "          docLink.innerHTML = docLinkHtml;\n",
              "          element.appendChild(docLink);\n",
              "        }\n",
              "      </script>\n",
              "    </div>\n",
              "  </div>\n",
              "  "
            ]
          },
          "metadata": {},
          "execution_count": 93
        }
      ]
    },
    {
      "cell_type": "code",
      "source": [
        "df_ita_m.head()"
      ],
      "metadata": {
        "colab": {
          "base_uri": "https://localhost:8080/",
          "height": 206
        },
        "id": "VcDW1TxgEbCm",
        "outputId": "44d6c8d0-6532-461d-808b-047da73b78d3"
      },
      "execution_count": 94,
      "outputs": [
        {
          "output_type": "execute_result",
          "data": {
            "text/plain": [
              "   id                                               text  misogynous  \\\n",
              "0   1  @KassemAmin4 @Laylasexgdr Fatti trovare  te lo...           1   \n",
              "1   2  @meb Tu dovresti ricominciare dai semafori a f...           1   \n",
              "2   3  Amore,sei presentabile? Xchè così via Skype ti...           1   \n",
              "3   4  @Il_nulla Salvo poi mandare la culona a Mosca,...           1   \n",
              "4   5  @GiorgiaMeloni @FratellidItaIia Vediamo Gentil...           1   \n",
              "\n",
              "   aggressiveness  \n",
              "0               1  \n",
              "1               1  \n",
              "2               1  \n",
              "3               0  \n",
              "4               1  "
            ],
            "text/html": [
              "\n",
              "  <div id=\"df-08ff4d1e-d398-4c8e-9c28-719b9f47db44\">\n",
              "    <div class=\"colab-df-container\">\n",
              "      <div>\n",
              "<style scoped>\n",
              "    .dataframe tbody tr th:only-of-type {\n",
              "        vertical-align: middle;\n",
              "    }\n",
              "\n",
              "    .dataframe tbody tr th {\n",
              "        vertical-align: top;\n",
              "    }\n",
              "\n",
              "    .dataframe thead th {\n",
              "        text-align: right;\n",
              "    }\n",
              "</style>\n",
              "<table border=\"1\" class=\"dataframe\">\n",
              "  <thead>\n",
              "    <tr style=\"text-align: right;\">\n",
              "      <th></th>\n",
              "      <th>id</th>\n",
              "      <th>text</th>\n",
              "      <th>misogynous</th>\n",
              "      <th>aggressiveness</th>\n",
              "    </tr>\n",
              "  </thead>\n",
              "  <tbody>\n",
              "    <tr>\n",
              "      <th>0</th>\n",
              "      <td>1</td>\n",
              "      <td>@KassemAmin4 @Laylasexgdr Fatti trovare  te lo...</td>\n",
              "      <td>1</td>\n",
              "      <td>1</td>\n",
              "    </tr>\n",
              "    <tr>\n",
              "      <th>1</th>\n",
              "      <td>2</td>\n",
              "      <td>@meb Tu dovresti ricominciare dai semafori a f...</td>\n",
              "      <td>1</td>\n",
              "      <td>1</td>\n",
              "    </tr>\n",
              "    <tr>\n",
              "      <th>2</th>\n",
              "      <td>3</td>\n",
              "      <td>Amore,sei presentabile? Xchè così via Skype ti...</td>\n",
              "      <td>1</td>\n",
              "      <td>1</td>\n",
              "    </tr>\n",
              "    <tr>\n",
              "      <th>3</th>\n",
              "      <td>4</td>\n",
              "      <td>@Il_nulla Salvo poi mandare la culona a Mosca,...</td>\n",
              "      <td>1</td>\n",
              "      <td>0</td>\n",
              "    </tr>\n",
              "    <tr>\n",
              "      <th>4</th>\n",
              "      <td>5</td>\n",
              "      <td>@GiorgiaMeloni @FratellidItaIia Vediamo Gentil...</td>\n",
              "      <td>1</td>\n",
              "      <td>1</td>\n",
              "    </tr>\n",
              "  </tbody>\n",
              "</table>\n",
              "</div>\n",
              "      <button class=\"colab-df-convert\" onclick=\"convertToInteractive('df-08ff4d1e-d398-4c8e-9c28-719b9f47db44')\"\n",
              "              title=\"Convert this dataframe to an interactive table.\"\n",
              "              style=\"display:none;\">\n",
              "        \n",
              "  <svg xmlns=\"http://www.w3.org/2000/svg\" height=\"24px\"viewBox=\"0 0 24 24\"\n",
              "       width=\"24px\">\n",
              "    <path d=\"M0 0h24v24H0V0z\" fill=\"none\"/>\n",
              "    <path d=\"M18.56 5.44l.94 2.06.94-2.06 2.06-.94-2.06-.94-.94-2.06-.94 2.06-2.06.94zm-11 1L8.5 8.5l.94-2.06 2.06-.94-2.06-.94L8.5 2.5l-.94 2.06-2.06.94zm10 10l.94 2.06.94-2.06 2.06-.94-2.06-.94-.94-2.06-.94 2.06-2.06.94z\"/><path d=\"M17.41 7.96l-1.37-1.37c-.4-.4-.92-.59-1.43-.59-.52 0-1.04.2-1.43.59L10.3 9.45l-7.72 7.72c-.78.78-.78 2.05 0 2.83L4 21.41c.39.39.9.59 1.41.59.51 0 1.02-.2 1.41-.59l7.78-7.78 2.81-2.81c.8-.78.8-2.07 0-2.86zM5.41 20L4 18.59l7.72-7.72 1.47 1.35L5.41 20z\"/>\n",
              "  </svg>\n",
              "      </button>\n",
              "      \n",
              "  <style>\n",
              "    .colab-df-container {\n",
              "      display:flex;\n",
              "      flex-wrap:wrap;\n",
              "      gap: 12px;\n",
              "    }\n",
              "\n",
              "    .colab-df-convert {\n",
              "      background-color: #E8F0FE;\n",
              "      border: none;\n",
              "      border-radius: 50%;\n",
              "      cursor: pointer;\n",
              "      display: none;\n",
              "      fill: #1967D2;\n",
              "      height: 32px;\n",
              "      padding: 0 0 0 0;\n",
              "      width: 32px;\n",
              "    }\n",
              "\n",
              "    .colab-df-convert:hover {\n",
              "      background-color: #E2EBFA;\n",
              "      box-shadow: 0px 1px 2px rgba(60, 64, 67, 0.3), 0px 1px 3px 1px rgba(60, 64, 67, 0.15);\n",
              "      fill: #174EA6;\n",
              "    }\n",
              "\n",
              "    [theme=dark] .colab-df-convert {\n",
              "      background-color: #3B4455;\n",
              "      fill: #D2E3FC;\n",
              "    }\n",
              "\n",
              "    [theme=dark] .colab-df-convert:hover {\n",
              "      background-color: #434B5C;\n",
              "      box-shadow: 0px 1px 3px 1px rgba(0, 0, 0, 0.15);\n",
              "      filter: drop-shadow(0px 1px 2px rgba(0, 0, 0, 0.3));\n",
              "      fill: #FFFFFF;\n",
              "    }\n",
              "  </style>\n",
              "\n",
              "      <script>\n",
              "        const buttonEl =\n",
              "          document.querySelector('#df-08ff4d1e-d398-4c8e-9c28-719b9f47db44 button.colab-df-convert');\n",
              "        buttonEl.style.display =\n",
              "          google.colab.kernel.accessAllowed ? 'block' : 'none';\n",
              "\n",
              "        async function convertToInteractive(key) {\n",
              "          const element = document.querySelector('#df-08ff4d1e-d398-4c8e-9c28-719b9f47db44');\n",
              "          const dataTable =\n",
              "            await google.colab.kernel.invokeFunction('convertToInteractive',\n",
              "                                                     [key], {});\n",
              "          if (!dataTable) return;\n",
              "\n",
              "          const docLinkHtml = 'Like what you see? Visit the ' +\n",
              "            '<a target=\"_blank\" href=https://colab.research.google.com/notebooks/data_table.ipynb>data table notebook</a>'\n",
              "            + ' to learn more about interactive tables.';\n",
              "          element.innerHTML = '';\n",
              "          dataTable['output_type'] = 'display_data';\n",
              "          await google.colab.output.renderOutput(dataTable, element);\n",
              "          const docLink = document.createElement('div');\n",
              "          docLink.innerHTML = docLinkHtml;\n",
              "          element.appendChild(docLink);\n",
              "        }\n",
              "      </script>\n",
              "    </div>\n",
              "  </div>\n",
              "  "
            ]
          },
          "metadata": {},
          "execution_count": 94
        }
      ]
    },
    {
      "cell_type": "markdown",
      "source": [
        "## Uniform hate speech in a single column in the eng dataset"
      ],
      "metadata": {
        "id": "5iTeQH13Ehpp"
      }
    },
    {
      "cell_type": "code",
      "source": [
        "def is_hate_speech(df):\n",
        "  if df['class'] == 2:\n",
        "    return 0 # No hate speech\n",
        "  else:\n",
        "     return 1 # Hate speech\n",
        "\n",
        "df_en['hate_speech'] = df_en.apply(is_hate_speech, axis=1)\n",
        "\n",
        "df_en = df_en.drop(['Unnamed: 0','count', 'offensive_language', 'neither', 'class'], axis=1)"
      ],
      "metadata": {
        "id": "Z3TGRqK2dCoj"
      },
      "execution_count": 95,
      "outputs": []
    },
    {
      "cell_type": "markdown",
      "source": [
        "## Uniform hate speech in a single column in the ita datasets"
      ],
      "metadata": {
        "id": "_P3eFJtHEoAf"
      }
    },
    {
      "cell_type": "code",
      "source": [
        "# Stereotypes are considered as hate speech\n",
        "df_ita_hs['hate_speech'] = df_ita_hs['stereotype'] | df_ita_hs['hs']\n",
        "df_ita_hs = df_ita_hs.drop(['id', 'stereotype', 'hs'], axis=1)\n",
        "df_ita_hs = df_ita_hs.rename(columns={'text ': 'text'}) #there was a space\n",
        "\n",
        "# Merge 'misogynous' and 'aggressiveness' column into a new hate speech column.\n",
        "df_ita_m['hate_speech'] = df_ita_m['misogynous'] | df_ita_m['aggressiveness']\n",
        "df_ita_m = df_ita_m.drop(['id', 'misogynous', 'aggressiveness'], axis=1)"
      ],
      "metadata": {
        "id": "BVOPzSPtdKtn"
      },
      "execution_count": 96,
      "outputs": []
    },
    {
      "cell_type": "markdown",
      "source": [
        "## Create a single uniform ita dataset"
      ],
      "metadata": {
        "id": "ufvH_s0wFLu0"
      }
    },
    {
      "cell_type": "code",
      "source": [
        "# Concatenate the datasets vertically\n",
        "df_ita = pd.concat([df_ita_hs, df_ita_m], axis=0, ignore_index=True)\n",
        "\n",
        "# Reset the index of the merged dataset\n",
        "df_ita = df_ita.reset_index(drop=True)"
      ],
      "metadata": {
        "id": "JHRoWXmxpBne"
      },
      "execution_count": 97,
      "outputs": []
    },
    {
      "cell_type": "code",
      "source": [
        "df_en.head()"
      ],
      "metadata": {
        "colab": {
          "base_uri": "https://localhost:8080/",
          "height": 206
        },
        "id": "NR0_qOx4E3Da",
        "outputId": "ba0397e0-49f7-424f-8ba4-d5fae0736d5d"
      },
      "execution_count": 98,
      "outputs": [
        {
          "output_type": "execute_result",
          "data": {
            "text/plain": [
              "   hate_speech                                              tweet\n",
              "0            0  !!! RT @mayasolovely: As a woman you shouldn't...\n",
              "1            1  !!!!! RT @mleew17: boy dats cold...tyga dwn ba...\n",
              "2            1  !!!!!!! RT @UrKindOfBrand Dawg!!!! RT @80sbaby...\n",
              "3            1  !!!!!!!!! RT @C_G_Anderson: @viva_based she lo...\n",
              "4            1  !!!!!!!!!!!!! RT @ShenikaRoberts: The shit you..."
            ],
            "text/html": [
              "\n",
              "  <div id=\"df-50ea284e-2231-42c1-908c-2c7e8fb0e42c\">\n",
              "    <div class=\"colab-df-container\">\n",
              "      <div>\n",
              "<style scoped>\n",
              "    .dataframe tbody tr th:only-of-type {\n",
              "        vertical-align: middle;\n",
              "    }\n",
              "\n",
              "    .dataframe tbody tr th {\n",
              "        vertical-align: top;\n",
              "    }\n",
              "\n",
              "    .dataframe thead th {\n",
              "        text-align: right;\n",
              "    }\n",
              "</style>\n",
              "<table border=\"1\" class=\"dataframe\">\n",
              "  <thead>\n",
              "    <tr style=\"text-align: right;\">\n",
              "      <th></th>\n",
              "      <th>hate_speech</th>\n",
              "      <th>tweet</th>\n",
              "    </tr>\n",
              "  </thead>\n",
              "  <tbody>\n",
              "    <tr>\n",
              "      <th>0</th>\n",
              "      <td>0</td>\n",
              "      <td>!!! RT @mayasolovely: As a woman you shouldn't...</td>\n",
              "    </tr>\n",
              "    <tr>\n",
              "      <th>1</th>\n",
              "      <td>1</td>\n",
              "      <td>!!!!! RT @mleew17: boy dats cold...tyga dwn ba...</td>\n",
              "    </tr>\n",
              "    <tr>\n",
              "      <th>2</th>\n",
              "      <td>1</td>\n",
              "      <td>!!!!!!! RT @UrKindOfBrand Dawg!!!! RT @80sbaby...</td>\n",
              "    </tr>\n",
              "    <tr>\n",
              "      <th>3</th>\n",
              "      <td>1</td>\n",
              "      <td>!!!!!!!!! RT @C_G_Anderson: @viva_based she lo...</td>\n",
              "    </tr>\n",
              "    <tr>\n",
              "      <th>4</th>\n",
              "      <td>1</td>\n",
              "      <td>!!!!!!!!!!!!! RT @ShenikaRoberts: The shit you...</td>\n",
              "    </tr>\n",
              "  </tbody>\n",
              "</table>\n",
              "</div>\n",
              "      <button class=\"colab-df-convert\" onclick=\"convertToInteractive('df-50ea284e-2231-42c1-908c-2c7e8fb0e42c')\"\n",
              "              title=\"Convert this dataframe to an interactive table.\"\n",
              "              style=\"display:none;\">\n",
              "        \n",
              "  <svg xmlns=\"http://www.w3.org/2000/svg\" height=\"24px\"viewBox=\"0 0 24 24\"\n",
              "       width=\"24px\">\n",
              "    <path d=\"M0 0h24v24H0V0z\" fill=\"none\"/>\n",
              "    <path d=\"M18.56 5.44l.94 2.06.94-2.06 2.06-.94-2.06-.94-.94-2.06-.94 2.06-2.06.94zm-11 1L8.5 8.5l.94-2.06 2.06-.94-2.06-.94L8.5 2.5l-.94 2.06-2.06.94zm10 10l.94 2.06.94-2.06 2.06-.94-2.06-.94-.94-2.06-.94 2.06-2.06.94z\"/><path d=\"M17.41 7.96l-1.37-1.37c-.4-.4-.92-.59-1.43-.59-.52 0-1.04.2-1.43.59L10.3 9.45l-7.72 7.72c-.78.78-.78 2.05 0 2.83L4 21.41c.39.39.9.59 1.41.59.51 0 1.02-.2 1.41-.59l7.78-7.78 2.81-2.81c.8-.78.8-2.07 0-2.86zM5.41 20L4 18.59l7.72-7.72 1.47 1.35L5.41 20z\"/>\n",
              "  </svg>\n",
              "      </button>\n",
              "      \n",
              "  <style>\n",
              "    .colab-df-container {\n",
              "      display:flex;\n",
              "      flex-wrap:wrap;\n",
              "      gap: 12px;\n",
              "    }\n",
              "\n",
              "    .colab-df-convert {\n",
              "      background-color: #E8F0FE;\n",
              "      border: none;\n",
              "      border-radius: 50%;\n",
              "      cursor: pointer;\n",
              "      display: none;\n",
              "      fill: #1967D2;\n",
              "      height: 32px;\n",
              "      padding: 0 0 0 0;\n",
              "      width: 32px;\n",
              "    }\n",
              "\n",
              "    .colab-df-convert:hover {\n",
              "      background-color: #E2EBFA;\n",
              "      box-shadow: 0px 1px 2px rgba(60, 64, 67, 0.3), 0px 1px 3px 1px rgba(60, 64, 67, 0.15);\n",
              "      fill: #174EA6;\n",
              "    }\n",
              "\n",
              "    [theme=dark] .colab-df-convert {\n",
              "      background-color: #3B4455;\n",
              "      fill: #D2E3FC;\n",
              "    }\n",
              "\n",
              "    [theme=dark] .colab-df-convert:hover {\n",
              "      background-color: #434B5C;\n",
              "      box-shadow: 0px 1px 3px 1px rgba(0, 0, 0, 0.15);\n",
              "      filter: drop-shadow(0px 1px 2px rgba(0, 0, 0, 0.3));\n",
              "      fill: #FFFFFF;\n",
              "    }\n",
              "  </style>\n",
              "\n",
              "      <script>\n",
              "        const buttonEl =\n",
              "          document.querySelector('#df-50ea284e-2231-42c1-908c-2c7e8fb0e42c button.colab-df-convert');\n",
              "        buttonEl.style.display =\n",
              "          google.colab.kernel.accessAllowed ? 'block' : 'none';\n",
              "\n",
              "        async function convertToInteractive(key) {\n",
              "          const element = document.querySelector('#df-50ea284e-2231-42c1-908c-2c7e8fb0e42c');\n",
              "          const dataTable =\n",
              "            await google.colab.kernel.invokeFunction('convertToInteractive',\n",
              "                                                     [key], {});\n",
              "          if (!dataTable) return;\n",
              "\n",
              "          const docLinkHtml = 'Like what you see? Visit the ' +\n",
              "            '<a target=\"_blank\" href=https://colab.research.google.com/notebooks/data_table.ipynb>data table notebook</a>'\n",
              "            + ' to learn more about interactive tables.';\n",
              "          element.innerHTML = '';\n",
              "          dataTable['output_type'] = 'display_data';\n",
              "          await google.colab.output.renderOutput(dataTable, element);\n",
              "          const docLink = document.createElement('div');\n",
              "          docLink.innerHTML = docLinkHtml;\n",
              "          element.appendChild(docLink);\n",
              "        }\n",
              "      </script>\n",
              "    </div>\n",
              "  </div>\n",
              "  "
            ]
          },
          "metadata": {},
          "execution_count": 98
        }
      ]
    },
    {
      "cell_type": "code",
      "source": [
        "df_ita.head()"
      ],
      "metadata": {
        "colab": {
          "base_uri": "https://localhost:8080/",
          "height": 206
        },
        "id": "n9dZivWEE3Ol",
        "outputId": "8fb2955c-455f-43b6-e9bc-5764879b1ad8"
      },
      "execution_count": 99,
      "outputs": [
        {
          "output_type": "execute_result",
          "data": {
            "text/plain": [
              "                                                text  hate_speech\n",
              "0  È terrorismo anche questo, per mettere in uno ...            0\n",
              "1  @user @user infatti finché ci hanno guadagnato...            0\n",
              "2  Corriere: Tangenti, Mafia Capitale dimenticata...            0\n",
              "3  @user ad uno ad uno, perché quando i migranti ...            0\n",
              "4  Il divertimento del giorno? Trovare i patrioti...            0"
            ],
            "text/html": [
              "\n",
              "  <div id=\"df-e487457b-08ae-46ff-89f0-c032bf4965f4\">\n",
              "    <div class=\"colab-df-container\">\n",
              "      <div>\n",
              "<style scoped>\n",
              "    .dataframe tbody tr th:only-of-type {\n",
              "        vertical-align: middle;\n",
              "    }\n",
              "\n",
              "    .dataframe tbody tr th {\n",
              "        vertical-align: top;\n",
              "    }\n",
              "\n",
              "    .dataframe thead th {\n",
              "        text-align: right;\n",
              "    }\n",
              "</style>\n",
              "<table border=\"1\" class=\"dataframe\">\n",
              "  <thead>\n",
              "    <tr style=\"text-align: right;\">\n",
              "      <th></th>\n",
              "      <th>text</th>\n",
              "      <th>hate_speech</th>\n",
              "    </tr>\n",
              "  </thead>\n",
              "  <tbody>\n",
              "    <tr>\n",
              "      <th>0</th>\n",
              "      <td>È terrorismo anche questo, per mettere in uno ...</td>\n",
              "      <td>0</td>\n",
              "    </tr>\n",
              "    <tr>\n",
              "      <th>1</th>\n",
              "      <td>@user @user infatti finché ci hanno guadagnato...</td>\n",
              "      <td>0</td>\n",
              "    </tr>\n",
              "    <tr>\n",
              "      <th>2</th>\n",
              "      <td>Corriere: Tangenti, Mafia Capitale dimenticata...</td>\n",
              "      <td>0</td>\n",
              "    </tr>\n",
              "    <tr>\n",
              "      <th>3</th>\n",
              "      <td>@user ad uno ad uno, perché quando i migranti ...</td>\n",
              "      <td>0</td>\n",
              "    </tr>\n",
              "    <tr>\n",
              "      <th>4</th>\n",
              "      <td>Il divertimento del giorno? Trovare i patrioti...</td>\n",
              "      <td>0</td>\n",
              "    </tr>\n",
              "  </tbody>\n",
              "</table>\n",
              "</div>\n",
              "      <button class=\"colab-df-convert\" onclick=\"convertToInteractive('df-e487457b-08ae-46ff-89f0-c032bf4965f4')\"\n",
              "              title=\"Convert this dataframe to an interactive table.\"\n",
              "              style=\"display:none;\">\n",
              "        \n",
              "  <svg xmlns=\"http://www.w3.org/2000/svg\" height=\"24px\"viewBox=\"0 0 24 24\"\n",
              "       width=\"24px\">\n",
              "    <path d=\"M0 0h24v24H0V0z\" fill=\"none\"/>\n",
              "    <path d=\"M18.56 5.44l.94 2.06.94-2.06 2.06-.94-2.06-.94-.94-2.06-.94 2.06-2.06.94zm-11 1L8.5 8.5l.94-2.06 2.06-.94-2.06-.94L8.5 2.5l-.94 2.06-2.06.94zm10 10l.94 2.06.94-2.06 2.06-.94-2.06-.94-.94-2.06-.94 2.06-2.06.94z\"/><path d=\"M17.41 7.96l-1.37-1.37c-.4-.4-.92-.59-1.43-.59-.52 0-1.04.2-1.43.59L10.3 9.45l-7.72 7.72c-.78.78-.78 2.05 0 2.83L4 21.41c.39.39.9.59 1.41.59.51 0 1.02-.2 1.41-.59l7.78-7.78 2.81-2.81c.8-.78.8-2.07 0-2.86zM5.41 20L4 18.59l7.72-7.72 1.47 1.35L5.41 20z\"/>\n",
              "  </svg>\n",
              "      </button>\n",
              "      \n",
              "  <style>\n",
              "    .colab-df-container {\n",
              "      display:flex;\n",
              "      flex-wrap:wrap;\n",
              "      gap: 12px;\n",
              "    }\n",
              "\n",
              "    .colab-df-convert {\n",
              "      background-color: #E8F0FE;\n",
              "      border: none;\n",
              "      border-radius: 50%;\n",
              "      cursor: pointer;\n",
              "      display: none;\n",
              "      fill: #1967D2;\n",
              "      height: 32px;\n",
              "      padding: 0 0 0 0;\n",
              "      width: 32px;\n",
              "    }\n",
              "\n",
              "    .colab-df-convert:hover {\n",
              "      background-color: #E2EBFA;\n",
              "      box-shadow: 0px 1px 2px rgba(60, 64, 67, 0.3), 0px 1px 3px 1px rgba(60, 64, 67, 0.15);\n",
              "      fill: #174EA6;\n",
              "    }\n",
              "\n",
              "    [theme=dark] .colab-df-convert {\n",
              "      background-color: #3B4455;\n",
              "      fill: #D2E3FC;\n",
              "    }\n",
              "\n",
              "    [theme=dark] .colab-df-convert:hover {\n",
              "      background-color: #434B5C;\n",
              "      box-shadow: 0px 1px 3px 1px rgba(0, 0, 0, 0.15);\n",
              "      filter: drop-shadow(0px 1px 2px rgba(0, 0, 0, 0.3));\n",
              "      fill: #FFFFFF;\n",
              "    }\n",
              "  </style>\n",
              "\n",
              "      <script>\n",
              "        const buttonEl =\n",
              "          document.querySelector('#df-e487457b-08ae-46ff-89f0-c032bf4965f4 button.colab-df-convert');\n",
              "        buttonEl.style.display =\n",
              "          google.colab.kernel.accessAllowed ? 'block' : 'none';\n",
              "\n",
              "        async function convertToInteractive(key) {\n",
              "          const element = document.querySelector('#df-e487457b-08ae-46ff-89f0-c032bf4965f4');\n",
              "          const dataTable =\n",
              "            await google.colab.kernel.invokeFunction('convertToInteractive',\n",
              "                                                     [key], {});\n",
              "          if (!dataTable) return;\n",
              "\n",
              "          const docLinkHtml = 'Like what you see? Visit the ' +\n",
              "            '<a target=\"_blank\" href=https://colab.research.google.com/notebooks/data_table.ipynb>data table notebook</a>'\n",
              "            + ' to learn more about interactive tables.';\n",
              "          element.innerHTML = '';\n",
              "          dataTable['output_type'] = 'display_data';\n",
              "          await google.colab.output.renderOutput(dataTable, element);\n",
              "          const docLink = document.createElement('div');\n",
              "          docLink.innerHTML = docLinkHtml;\n",
              "          element.appendChild(docLink);\n",
              "        }\n",
              "      </script>\n",
              "    </div>\n",
              "  </div>\n",
              "  "
            ]
          },
          "metadata": {},
          "execution_count": 99
        }
      ]
    },
    {
      "cell_type": "code",
      "source": [
        "print(\"Ita dataframe length:\", len(df_ita))\n",
        "print(\"Eng dataframe length:\", len(df_en))"
      ],
      "metadata": {
        "colab": {
          "base_uri": "https://localhost:8080/"
        },
        "id": "n2Dsf6tWrgCe",
        "outputId": "b58e1e6d-2418-4810-9059-f4324f8d2138"
      },
      "execution_count": 100,
      "outputs": [
        {
          "output_type": "stream",
          "name": "stdout",
          "text": [
            "Ita dataframe length: 11837\n",
            "Eng dataframe length: 24783\n"
          ]
        }
      ]
    },
    {
      "cell_type": "code",
      "source": [
        "df_en"
      ],
      "metadata": {
        "colab": {
          "base_uri": "https://localhost:8080/",
          "height": 423
        },
        "id": "CnFFg3M3E5Q6",
        "outputId": "0a29ca0f-ee7b-4451-c758-ca310539c31e"
      },
      "execution_count": 101,
      "outputs": [
        {
          "output_type": "execute_result",
          "data": {
            "text/plain": [
              "       hate_speech                                              tweet\n",
              "0                0  !!! RT @mayasolovely: As a woman you shouldn't...\n",
              "1                1  !!!!! RT @mleew17: boy dats cold...tyga dwn ba...\n",
              "2                1  !!!!!!! RT @UrKindOfBrand Dawg!!!! RT @80sbaby...\n",
              "3                1  !!!!!!!!! RT @C_G_Anderson: @viva_based she lo...\n",
              "4                1  !!!!!!!!!!!!! RT @ShenikaRoberts: The shit you...\n",
              "...            ...                                                ...\n",
              "24778            1  you's a muthaf***in lie &#8220;@LifeAsKing: @2...\n",
              "24779            0  you've gone and broke the wrong heart baby, an...\n",
              "24780            1  young buck wanna eat!!.. dat nigguh like I ain...\n",
              "24781            1              youu got wild bitches tellin you lies\n",
              "24782            0  ~~Ruffled | Ntac Eileen Dahlia - Beautiful col...\n",
              "\n",
              "[24783 rows x 2 columns]"
            ],
            "text/html": [
              "\n",
              "  <div id=\"df-1133d2f7-ab97-4608-b50b-de301997b93e\">\n",
              "    <div class=\"colab-df-container\">\n",
              "      <div>\n",
              "<style scoped>\n",
              "    .dataframe tbody tr th:only-of-type {\n",
              "        vertical-align: middle;\n",
              "    }\n",
              "\n",
              "    .dataframe tbody tr th {\n",
              "        vertical-align: top;\n",
              "    }\n",
              "\n",
              "    .dataframe thead th {\n",
              "        text-align: right;\n",
              "    }\n",
              "</style>\n",
              "<table border=\"1\" class=\"dataframe\">\n",
              "  <thead>\n",
              "    <tr style=\"text-align: right;\">\n",
              "      <th></th>\n",
              "      <th>hate_speech</th>\n",
              "      <th>tweet</th>\n",
              "    </tr>\n",
              "  </thead>\n",
              "  <tbody>\n",
              "    <tr>\n",
              "      <th>0</th>\n",
              "      <td>0</td>\n",
              "      <td>!!! RT @mayasolovely: As a woman you shouldn't...</td>\n",
              "    </tr>\n",
              "    <tr>\n",
              "      <th>1</th>\n",
              "      <td>1</td>\n",
              "      <td>!!!!! RT @mleew17: boy dats cold...tyga dwn ba...</td>\n",
              "    </tr>\n",
              "    <tr>\n",
              "      <th>2</th>\n",
              "      <td>1</td>\n",
              "      <td>!!!!!!! RT @UrKindOfBrand Dawg!!!! RT @80sbaby...</td>\n",
              "    </tr>\n",
              "    <tr>\n",
              "      <th>3</th>\n",
              "      <td>1</td>\n",
              "      <td>!!!!!!!!! RT @C_G_Anderson: @viva_based she lo...</td>\n",
              "    </tr>\n",
              "    <tr>\n",
              "      <th>4</th>\n",
              "      <td>1</td>\n",
              "      <td>!!!!!!!!!!!!! RT @ShenikaRoberts: The shit you...</td>\n",
              "    </tr>\n",
              "    <tr>\n",
              "      <th>...</th>\n",
              "      <td>...</td>\n",
              "      <td>...</td>\n",
              "    </tr>\n",
              "    <tr>\n",
              "      <th>24778</th>\n",
              "      <td>1</td>\n",
              "      <td>you's a muthaf***in lie &amp;#8220;@LifeAsKing: @2...</td>\n",
              "    </tr>\n",
              "    <tr>\n",
              "      <th>24779</th>\n",
              "      <td>0</td>\n",
              "      <td>you've gone and broke the wrong heart baby, an...</td>\n",
              "    </tr>\n",
              "    <tr>\n",
              "      <th>24780</th>\n",
              "      <td>1</td>\n",
              "      <td>young buck wanna eat!!.. dat nigguh like I ain...</td>\n",
              "    </tr>\n",
              "    <tr>\n",
              "      <th>24781</th>\n",
              "      <td>1</td>\n",
              "      <td>youu got wild bitches tellin you lies</td>\n",
              "    </tr>\n",
              "    <tr>\n",
              "      <th>24782</th>\n",
              "      <td>0</td>\n",
              "      <td>~~Ruffled | Ntac Eileen Dahlia - Beautiful col...</td>\n",
              "    </tr>\n",
              "  </tbody>\n",
              "</table>\n",
              "<p>24783 rows × 2 columns</p>\n",
              "</div>\n",
              "      <button class=\"colab-df-convert\" onclick=\"convertToInteractive('df-1133d2f7-ab97-4608-b50b-de301997b93e')\"\n",
              "              title=\"Convert this dataframe to an interactive table.\"\n",
              "              style=\"display:none;\">\n",
              "        \n",
              "  <svg xmlns=\"http://www.w3.org/2000/svg\" height=\"24px\"viewBox=\"0 0 24 24\"\n",
              "       width=\"24px\">\n",
              "    <path d=\"M0 0h24v24H0V0z\" fill=\"none\"/>\n",
              "    <path d=\"M18.56 5.44l.94 2.06.94-2.06 2.06-.94-2.06-.94-.94-2.06-.94 2.06-2.06.94zm-11 1L8.5 8.5l.94-2.06 2.06-.94-2.06-.94L8.5 2.5l-.94 2.06-2.06.94zm10 10l.94 2.06.94-2.06 2.06-.94-2.06-.94-.94-2.06-.94 2.06-2.06.94z\"/><path d=\"M17.41 7.96l-1.37-1.37c-.4-.4-.92-.59-1.43-.59-.52 0-1.04.2-1.43.59L10.3 9.45l-7.72 7.72c-.78.78-.78 2.05 0 2.83L4 21.41c.39.39.9.59 1.41.59.51 0 1.02-.2 1.41-.59l7.78-7.78 2.81-2.81c.8-.78.8-2.07 0-2.86zM5.41 20L4 18.59l7.72-7.72 1.47 1.35L5.41 20z\"/>\n",
              "  </svg>\n",
              "      </button>\n",
              "      \n",
              "  <style>\n",
              "    .colab-df-container {\n",
              "      display:flex;\n",
              "      flex-wrap:wrap;\n",
              "      gap: 12px;\n",
              "    }\n",
              "\n",
              "    .colab-df-convert {\n",
              "      background-color: #E8F0FE;\n",
              "      border: none;\n",
              "      border-radius: 50%;\n",
              "      cursor: pointer;\n",
              "      display: none;\n",
              "      fill: #1967D2;\n",
              "      height: 32px;\n",
              "      padding: 0 0 0 0;\n",
              "      width: 32px;\n",
              "    }\n",
              "\n",
              "    .colab-df-convert:hover {\n",
              "      background-color: #E2EBFA;\n",
              "      box-shadow: 0px 1px 2px rgba(60, 64, 67, 0.3), 0px 1px 3px 1px rgba(60, 64, 67, 0.15);\n",
              "      fill: #174EA6;\n",
              "    }\n",
              "\n",
              "    [theme=dark] .colab-df-convert {\n",
              "      background-color: #3B4455;\n",
              "      fill: #D2E3FC;\n",
              "    }\n",
              "\n",
              "    [theme=dark] .colab-df-convert:hover {\n",
              "      background-color: #434B5C;\n",
              "      box-shadow: 0px 1px 3px 1px rgba(0, 0, 0, 0.15);\n",
              "      filter: drop-shadow(0px 1px 2px rgba(0, 0, 0, 0.3));\n",
              "      fill: #FFFFFF;\n",
              "    }\n",
              "  </style>\n",
              "\n",
              "      <script>\n",
              "        const buttonEl =\n",
              "          document.querySelector('#df-1133d2f7-ab97-4608-b50b-de301997b93e button.colab-df-convert');\n",
              "        buttonEl.style.display =\n",
              "          google.colab.kernel.accessAllowed ? 'block' : 'none';\n",
              "\n",
              "        async function convertToInteractive(key) {\n",
              "          const element = document.querySelector('#df-1133d2f7-ab97-4608-b50b-de301997b93e');\n",
              "          const dataTable =\n",
              "            await google.colab.kernel.invokeFunction('convertToInteractive',\n",
              "                                                     [key], {});\n",
              "          if (!dataTable) return;\n",
              "\n",
              "          const docLinkHtml = 'Like what you see? Visit the ' +\n",
              "            '<a target=\"_blank\" href=https://colab.research.google.com/notebooks/data_table.ipynb>data table notebook</a>'\n",
              "            + ' to learn more about interactive tables.';\n",
              "          element.innerHTML = '';\n",
              "          dataTable['output_type'] = 'display_data';\n",
              "          await google.colab.output.renderOutput(dataTable, element);\n",
              "          const docLink = document.createElement('div');\n",
              "          docLink.innerHTML = docLinkHtml;\n",
              "          element.appendChild(docLink);\n",
              "        }\n",
              "      </script>\n",
              "    </div>\n",
              "  </div>\n",
              "  "
            ]
          },
          "metadata": {},
          "execution_count": 101
        }
      ]
    },
    {
      "cell_type": "markdown",
      "source": [
        "### Verifying Class Imbalance"
      ],
      "metadata": {
        "id": "mRvOASifEkHi"
      }
    },
    {
      "cell_type": "code",
      "source": [
        "print(\"class imbalance for english data\")\n",
        "print(\"NON HS:\")\n",
        "print(df_en[df_en['hate_speech']==0].count())\n",
        "print(\"HS\")\n",
        "print(df_en[df_en['hate_speech']==1].count())"
      ],
      "metadata": {
        "colab": {
          "base_uri": "https://localhost:8080/"
        },
        "id": "Glj6DghaFIdW",
        "outputId": "10bbdeb5-30fb-421f-b460-ee51da0d4f14"
      },
      "execution_count": 102,
      "outputs": [
        {
          "output_type": "stream",
          "name": "stdout",
          "text": [
            "class imbalance for english data\n",
            "NON HS:\n",
            "hate_speech    4163\n",
            "tweet          4163\n",
            "dtype: int64\n",
            "HS\n",
            "hate_speech    20620\n",
            "tweet          20620\n",
            "dtype: int64\n"
          ]
        }
      ]
    },
    {
      "cell_type": "markdown",
      "source": [
        "English data are heavily imbalanced towards hate speech equal to 1 class."
      ],
      "metadata": {
        "id": "Z_ZxD9CCFjry"
      }
    },
    {
      "cell_type": "code",
      "source": [
        "print(\"class imbalance for italian data\")\n",
        "print(\"NON HS:\")\n",
        "print(df_ita[df_ita['hate_speech']==0].count())\n",
        "print(\"HS\")\n",
        "print(df_ita[df_ita['hate_speech']==1].count())"
      ],
      "metadata": {
        "colab": {
          "base_uri": "https://localhost:8080/"
        },
        "id": "eW4-5BcWFMWw",
        "outputId": "38c11e29-5988-4ed9-bd39-90fa6820e65a"
      },
      "execution_count": 103,
      "outputs": [
        {
          "output_type": "stream",
          "name": "stdout",
          "text": [
            "class imbalance for italian data\n",
            "NON HS:\n",
            "text           5711\n",
            "hate_speech    5711\n",
            "dtype: int64\n",
            "HS\n",
            "text           6126\n",
            "hate_speech    6126\n",
            "dtype: int64\n"
          ]
        }
      ]
    },
    {
      "cell_type": "markdown",
      "source": [
        "## Perform train/test split"
      ],
      "metadata": {
        "id": "rprgmaLmF-G8"
      }
    },
    {
      "cell_type": "markdown",
      "source": [
        "### Italian dataframe"
      ],
      "metadata": {
        "id": "rQegSqy7GIYO"
      }
    },
    {
      "cell_type": "code",
      "source": [
        "# Training data for the italian dataframe\n",
        "train_ita, test_ita = train_test_split(df_ita, test_size=0.2)\n",
        "\n",
        "# Train\n",
        "X_train_ita = train_ita['text'].reset_index(drop=True)\n",
        "Y_train_ita = train_ita['hate_speech'].reset_index(drop=True)\n",
        "\n",
        "# Test\n",
        "X_test_ita = test_ita['text'].reset_index(drop=True)\n",
        "Y_test_ita = test_ita['hate_speech'].reset_index(drop=True)"
      ],
      "metadata": {
        "id": "dmsh83VNnCaF"
      },
      "execution_count": 104,
      "outputs": []
    },
    {
      "cell_type": "markdown",
      "source": [
        "### English dataframe"
      ],
      "metadata": {
        "id": "omTMCWwiGLJ8"
      }
    },
    {
      "cell_type": "code",
      "source": [
        "# Training data for the italian dataframe\n",
        "train_en, test_en = train_test_split(df_en, test_size=0.2)\n",
        "\n",
        "# Train\n",
        "X_train_en = train_en['tweet'].reset_index(drop=True)\n",
        "Y_train_en = train_en['hate_speech'].reset_index(drop=True)\n",
        "\n",
        "# Test\n",
        "X_test_en = test_en['tweet'].reset_index(drop=True)\n",
        "Y_test_en = test_en['hate_speech'].reset_index(drop=True)"
      ],
      "metadata": {
        "id": "XMPMJ2F5dOBv"
      },
      "execution_count": 105,
      "outputs": []
    },
    {
      "cell_type": "markdown",
      "source": [
        "# THE BIBLE I FOLLOW\n",
        "\n",
        "https://github.com/nlptown/nlp-notebooks/blob/master/Multilingual%20Embeddings%20-%203.%20Transfer%20Learning.ipynb\n",
        "\n",
        "---\n"
      ],
      "metadata": {
        "id": "q8kFkEm9JPbD"
      }
    },
    {
      "cell_type": "markdown",
      "source": [
        "# Model"
      ],
      "metadata": {
        "id": "yOD7AqoKMj8J"
      }
    },
    {
      "cell_type": "markdown",
      "source": [
        "## Multilingual word embeddings\n",
        "\n",
        "To have the multilingual embedding space we use aligned embeddings.\n",
        "\n",
        "Start by downloading set of embeddings from the MUSE library, are fastText Wikipedia supervised word embeddings.\n"
      ],
      "metadata": {
        "id": "Fao5qlZgjlsR"
      }
    },
    {
      "cell_type": "code",
      "source": [
        "!wget https://dl.fbaipublicfiles.com/arrival/vectors/wiki.multi.en.vec -O wiki.en.vec\n",
        "!wget https://dl.fbaipublicfiles.com/arrival/vectors/wiki.multi.it.vec -O wiki.it.vec"
      ],
      "metadata": {
        "colab": {
          "base_uri": "https://localhost:8080/"
        },
        "id": "DK1_T718dWiJ",
        "outputId": "79c67022-9c01-4332-f94c-8f42ef6a0f88"
      },
      "execution_count": 20,
      "outputs": [
        {
          "output_type": "stream",
          "name": "stdout",
          "text": [
            "--2023-07-05 14:28:52--  https://dl.fbaipublicfiles.com/arrival/vectors/wiki.multi.en.vec\n",
            "Resolving dl.fbaipublicfiles.com (dl.fbaipublicfiles.com)... 13.35.8.29, 13.35.8.19, 13.35.8.35, ...\n",
            "Connecting to dl.fbaipublicfiles.com (dl.fbaipublicfiles.com)|13.35.8.29|:443... connected.\n",
            "HTTP request sent, awaiting response... 200 OK\n",
            "Length: 628614720 (599M) [text/plain]\n",
            "Saving to: ‘wiki.en.vec’\n",
            "\n",
            "wiki.en.vec         100%[===================>] 599.49M  16.1MB/s    in 34s     \n",
            "\n",
            "2023-07-05 14:29:27 (17.8 MB/s) - ‘wiki.en.vec’ saved [628614720/628614720]\n",
            "\n",
            "--2023-07-05 14:29:27--  https://dl.fbaipublicfiles.com/arrival/vectors/wiki.multi.it.vec\n",
            "Resolving dl.fbaipublicfiles.com (dl.fbaipublicfiles.com)... 13.35.8.51, 13.35.8.19, 13.35.8.29, ...\n",
            "Connecting to dl.fbaipublicfiles.com (dl.fbaipublicfiles.com)|13.35.8.51|:443... connected.\n",
            "HTTP request sent, awaiting response... 200 OK\n",
            "Length: 628718043 (600M) [text/plain]\n",
            "Saving to: ‘wiki.it.vec’\n",
            "\n",
            "wiki.it.vec         100%[===================>] 599.59M  22.3MB/s    in 33s     \n",
            "\n",
            "2023-07-05 14:30:01 (18.1 MB/s) - ‘wiki.it.vec’ saved [628718043/628718043]\n",
            "\n"
          ]
        }
      ]
    },
    {
      "cell_type": "markdown",
      "source": [
        "The vec file are fastText Wikipedia supervised word embeddings for our languages (eng and ita) which are aligned in a single vector space.\n",
        "\n",
        "The main idea behind [Multilingual word Embeddings](https://github.com/facebookresearch/MUSE) is to align different word embeddings into a single shared spatial representation.\n",
        "\n",
        "Now, from the vec files we extract:\n",
        "- The list of the embedding\n",
        "- The dictionary in the form [\"word\": id] to create a link between each word in the embedding with its row in the embedding list (id)"
      ],
      "metadata": {
        "id": "ik5siIk3I8pw"
      }
    },
    {
      "cell_type": "code",
      "source": [
        "# Given the embeddings file path, produce the:\n",
        "#   - embeddings → list of the embeddings of the words in wiki\n",
        "#   - embedding_word2id → dictionary with each word and relative index in the embedding list\n",
        "def load_vectors(embedding_file_path):\n",
        "    print(\"Loading vectors from\", embedding_file_path)\n",
        "    embeddings = []\n",
        "    word2id = {}\n",
        "    with open(embedding_file_path, 'r', encoding='utf-8') as f:\n",
        "        next(f)\n",
        "        for i, line in enumerate(f):\n",
        "            word, emb = line.rstrip().split(' ', 1)\n",
        "            emb = np.fromstring(emb, sep=' ')\n",
        "            assert word not in word2id, 'word found twice'\n",
        "            embeddings.append(emb)\n",
        "            word2id[word] = len(word2id)\n",
        "\n",
        "    embeddings = np.vstack(embeddings)\n",
        "    return embeddings, word2id\n",
        "\n",
        "embeddings_en, embedding_word2id_en = load_vectors(\"wiki.en.vec\")\n",
        "embeddings_it, embedding_word2id_it = load_vectors(\"wiki.it.vec\")"
      ],
      "metadata": {
        "colab": {
          "base_uri": "https://localhost:8080/"
        },
        "id": "UewhUuhudY8Z",
        "outputId": "8f9863fe-5a91-4003-9493-908dc74c66db"
      },
      "execution_count": 21,
      "outputs": [
        {
          "output_type": "stream",
          "name": "stdout",
          "text": [
            "Loading vectors from wiki.en.vec\n",
            "Loading vectors from wiki.it.vec\n"
          ]
        }
      ]
    },
    {
      "cell_type": "code",
      "source": [
        "embeddings_en"
      ],
      "metadata": {
        "colab": {
          "base_uri": "https://localhost:8080/"
        },
        "id": "nNLAL_1NdlI8",
        "outputId": "0bcf1d52-f47b-4d18-b47c-519251623938"
      },
      "execution_count": 22,
      "outputs": [
        {
          "output_type": "execute_result",
          "data": {
            "text/plain": [
              "array([[-0.0112864 , -0.00206967, -0.0515041 , ...,  0.0435525 ,\n",
              "        -0.00774608,  0.0724234 ],\n",
              "       [-0.0469256 , -0.00058526, -0.0750844 , ...,  0.0267626 ,\n",
              "        -0.0513555 ,  0.0166127 ],\n",
              "       [-0.0324474 , -0.0462027 , -0.00872643, ...,  0.0826505 ,\n",
              "        -0.0649553 ,  0.0175795 ],\n",
              "       ...,\n",
              "       [-0.0608303 , -0.0172956 , -0.101635  , ...,  0.102298  ,\n",
              "         0.0479459 ,  0.0387411 ],\n",
              "       [-0.0867473 , -0.00469176, -0.104337  , ..., -0.00478122,\n",
              "         0.130826  , -0.0207968 ],\n",
              "       [-0.0119003 , -0.0123243 , -0.065963  , ...,  0.0184328 ,\n",
              "        -0.0295059 , -0.0160871 ]])"
            ]
          },
          "metadata": {},
          "execution_count": 22
        }
      ]
    },
    {
      "cell_type": "code",
      "source": [
        "embedding_word2id_en"
      ],
      "metadata": {
        "colab": {
          "base_uri": "https://localhost:8080/"
        },
        "id": "mPszZPaPdmLh",
        "outputId": "727a27cf-1a3f-446e-a04d-2b76881354dd"
      },
      "execution_count": 23,
      "outputs": [
        {
          "output_type": "execute_result",
          "data": {
            "text/plain": [
              "{',': 0,\n",
              " '.': 1,\n",
              " 'the': 2,\n",
              " '</s>': 3,\n",
              " 'of': 4,\n",
              " '-': 5,\n",
              " 'in': 6,\n",
              " 'and': 7,\n",
              " \"'\": 8,\n",
              " ')': 9,\n",
              " '(': 10,\n",
              " 'to': 11,\n",
              " 'a': 12,\n",
              " 'is': 13,\n",
              " 'was': 14,\n",
              " 'on': 15,\n",
              " 's': 16,\n",
              " 'for': 17,\n",
              " 'as': 18,\n",
              " 'by': 19,\n",
              " 'that': 20,\n",
              " 'it': 21,\n",
              " 'with': 22,\n",
              " 'from': 23,\n",
              " 'at': 24,\n",
              " 'he': 25,\n",
              " 'this': 26,\n",
              " 'be': 27,\n",
              " 'i': 28,\n",
              " 'an': 29,\n",
              " 'utc': 30,\n",
              " 'his': 31,\n",
              " 'not': 32,\n",
              " '–': 33,\n",
              " 'are': 34,\n",
              " 'or': 35,\n",
              " 'talk': 36,\n",
              " 'which': 37,\n",
              " 'also': 38,\n",
              " 'has': 39,\n",
              " 'were': 40,\n",
              " 'but': 41,\n",
              " 'have': 42,\n",
              " '#': 43,\n",
              " 'one': 44,\n",
              " 'rd': 45,\n",
              " 'new': 46,\n",
              " 'first': 47,\n",
              " 'page': 48,\n",
              " 'no': 49,\n",
              " 'you': 50,\n",
              " 'they': 51,\n",
              " 'had': 52,\n",
              " 'article': 53,\n",
              " 't': 54,\n",
              " 'who': 55,\n",
              " '?': 56,\n",
              " 'all': 57,\n",
              " 'their': 58,\n",
              " 'there': 59,\n",
              " 'been': 60,\n",
              " 'made': 61,\n",
              " 'its': 62,\n",
              " 'people': 63,\n",
              " 'may': 64,\n",
              " 'after': 65,\n",
              " '%': 66,\n",
              " 'other': 67,\n",
              " 'should': 68,\n",
              " 'two': 69,\n",
              " 'score': 70,\n",
              " 'her': 71,\n",
              " 'can': 72,\n",
              " 'would': 73,\n",
              " 'more': 74,\n",
              " 'if': 75,\n",
              " 'she': 76,\n",
              " 'about': 77,\n",
              " 'when': 78,\n",
              " 'time': 79,\n",
              " 'team': 80,\n",
              " 'american': 81,\n",
              " 'such': 82,\n",
              " 'th': 83,\n",
              " 'do': 84,\n",
              " 'discussion': 85,\n",
              " 'links': 86,\n",
              " 'only': 87,\n",
              " 'some': 88,\n",
              " 'up': 89,\n",
              " 'see': 90,\n",
              " 'united': 91,\n",
              " 'years': 92,\n",
              " 'into': 93,\n",
              " '/': 94,\n",
              " 'school': 95,\n",
              " 'so': 96,\n",
              " 'world': 97,\n",
              " 'university': 98,\n",
              " 'during': 99,\n",
              " 'out': 100,\n",
              " 'state': 101,\n",
              " 'states': 102,\n",
              " 'national': 103,\n",
              " 'wikipedia': 104,\n",
              " 'year': 105,\n",
              " 'most': 106,\n",
              " 'city': 107,\n",
              " 'over': 108,\n",
              " 'used': 109,\n",
              " 'then': 110,\n",
              " 'd': 111,\n",
              " 'than': 112,\n",
              " 'county': 113,\n",
              " 'external': 114,\n",
              " 'm': 115,\n",
              " 'where': 116,\n",
              " 'will': 117,\n",
              " 'de': 118,\n",
              " 'what': 119,\n",
              " 'delete': 120,\n",
              " 'any': 121,\n",
              " 'these': 122,\n",
              " 'january': 123,\n",
              " 'march': 124,\n",
              " 'august': 125,\n",
              " 'july': 126,\n",
              " 'being': 127,\n",
              " 'film': 128,\n",
              " 'him': 129,\n",
              " 'many': 130,\n",
              " 'south': 131,\n",
              " 'september': 132,\n",
              " 'like': 133,\n",
              " 'between': 134,\n",
              " 'october': 135,\n",
              " 'three': 136,\n",
              " 'june': 137,\n",
              " 'well': 138,\n",
              " 'use': 139,\n",
              " 'war': 140,\n",
              " 'under': 141,\n",
              " 'them': 142,\n",
              " 'april': 143,\n",
              " 'we': 144,\n",
              " 'born': 145,\n",
              " 'december': 146,\n",
              " 'link': 147,\n",
              " 'while': 148,\n",
              " 'c': 149,\n",
              " 'later': 150,\n",
              " 'part': 151,\n",
              " 'november': 152,\n",
              " 'further': 153,\n",
              " 'players': 154,\n",
              " 'list': 155,\n",
              " 'please': 156,\n",
              " 'following': 157,\n",
              " 'my': 158,\n",
              " 'february': 159,\n",
              " 'known': 160,\n",
              " 'second': 161,\n",
              " 'u': 162,\n",
              " 'name': 163,\n",
              " 'group': 164,\n",
              " 'history': 165,\n",
              " 'series': 166,\n",
              " 'just': 167,\n",
              " 'e': 168,\n",
              " 'north': 169,\n",
              " 'work': 170,\n",
              " 'before': 171,\n",
              " 'since': 172,\n",
              " 'season': 173,\n",
              " 'both': 174,\n",
              " 'high': 175,\n",
              " 'st': 176,\n",
              " 'through': 177,\n",
              " 'district': 178,\n",
              " 'now': 179,\n",
              " '!': 180,\n",
              " 'comments': 181,\n",
              " 'because': 182,\n",
              " 'football': 183,\n",
              " 'music': 184,\n",
              " 'however': 185,\n",
              " 'diff': 186,\n",
              " 'century': 187,\n",
              " 'league': 188,\n",
              " 'edits': 189,\n",
              " 'debate': 190,\n",
              " 'title': 191,\n",
              " 'articles': 192,\n",
              " 'john': 193,\n",
              " 'same': 194,\n",
              " 'including': 195,\n",
              " 'could': 196,\n",
              " 'english': 197,\n",
              " 'album': 198,\n",
              " 'number': 199,\n",
              " 'against': 200,\n",
              " 'family': 201,\n",
              " 'user': 202,\n",
              " 'based': 203,\n",
              " 'area': 204,\n",
              " 'became': 205,\n",
              " 'york': 206,\n",
              " 'b': 207,\n",
              " 'life': 208,\n",
              " 'me': 209,\n",
              " 'british': 210,\n",
              " 'international': 211,\n",
              " 'game': 212,\n",
              " '\"': 213,\n",
              " 'above': 214,\n",
              " 'club': 215,\n",
              " 'your': 216,\n",
              " 'until': 217,\n",
              " 'early': 218,\n",
              " 'best': 219,\n",
              " 'west': 220,\n",
              " 'house': 221,\n",
              " 'company': 222,\n",
              " 'general': 223,\n",
              " 'left': 224,\n",
              " 'very': 225,\n",
              " 'here': 226,\n",
              " 'don': 227,\n",
              " 'living': 228,\n",
              " 'day': 229,\n",
              " 'several': 230,\n",
              " 'place': 231,\n",
              " 'party': 232,\n",
              " 'college': 233,\n",
              " 'result': 234,\n",
              " 'keep': 235,\n",
              " 'appropriate': 236,\n",
              " 'four': 237,\n",
              " 'subsequent': 238,\n",
              " 'even': 239,\n",
              " 'class': 240,\n",
              " 'government': 241,\n",
              " 'how': 242,\n",
              " 'called': 243,\n",
              " 'did': 244,\n",
              " 'each': 245,\n",
              " 'found': 246,\n",
              " 'center': 247,\n",
              " 'per': 248,\n",
              " 'style': 249,\n",
              " 'com': 250,\n",
              " 'long': 251,\n",
              " 'country': 252,\n",
              " 'back': 253,\n",
              " 'way': 254,\n",
              " 'does': 255,\n",
              " 'www': 256,\n",
              " 'modify': 257,\n",
              " 'end': 258,\n",
              " 'make': 259,\n",
              " 'public': 260,\n",
              " 'played': 261,\n",
              " 'p': 262,\n",
              " 'won': 263,\n",
              " 'another': 264,\n",
              " 'released': 265,\n",
              " 'added': 266,\n",
              " 'f': 267,\n",
              " 'support': 268,\n",
              " 'games': 269,\n",
              " 'former': 270,\n",
              " 'those': 271,\n",
              " 'films': 272,\n",
              " 'church': 273,\n",
              " 'east': 274,\n",
              " 'line': 275,\n",
              " 'major': 276,\n",
              " 'members': 277,\n",
              " 'good': 278,\n",
              " 'much': 279,\n",
              " 'image': 280,\n",
              " 'show': 281,\n",
              " 'still': 282,\n",
              " 'think': 283,\n",
              " 'below': 284,\n",
              " 'town': 285,\n",
              " 'last': 286,\n",
              " 'system': 287,\n",
              " 'right': 288,\n",
              " 'song': 289,\n",
              " 'non': 290,\n",
              " 'notable': 291,\n",
              " 'section': 292,\n",
              " 'single': 293,\n",
              " 'included': 294,\n",
              " 'align': 295,\n",
              " 'home': 296,\n",
              " 'women': 297,\n",
              " 'television': 298,\n",
              " '—': 299,\n",
              " 'seed': 300,\n",
              " 'member': 301,\n",
              " 'goals': 302,\n",
              " 'sources': 303,\n",
              " '}}': 304,\n",
              " 'book': 305,\n",
              " 'station': 306,\n",
              " 'order': 307,\n",
              " 'old': 308,\n",
              " 'information': 309,\n",
              " 'set': 310,\n",
              " 'own': 311,\n",
              " 'text': 312,\n",
              " 'band': 313,\n",
              " 'point': 314,\n",
              " 'local': 315,\n",
              " 'around': 316,\n",
              " 'river': 317,\n",
              " 'top': 318,\n",
              " 'main': 319,\n",
              " 'language': 320,\n",
              " 'french': 321,\n",
              " 'https': 322,\n",
              " 'named': 323,\n",
              " 'off': 324,\n",
              " 'us': 325,\n",
              " 'note': 326,\n",
              " 'career': 327,\n",
              " 'original': 328,\n",
              " 'age': 329,\n",
              " 'service': 330,\n",
              " 'established': 331,\n",
              " 'located': 332,\n",
              " 're': 333,\n",
              " 'said': 334,\n",
              " 'website': 335,\n",
              " 'population': 336,\n",
              " 'air': 337,\n",
              " 'german': 338,\n",
              " 'law': 339,\n",
              " 'military': 340,\n",
              " '}': 341,\n",
              " 'great': 342,\n",
              " 'ii': 343,\n",
              " 'within': 344,\n",
              " 'clubs': 345,\n",
              " 'published': 346,\n",
              " 'president': 347,\n",
              " 'park': 348,\n",
              " 'official': 349,\n",
              " '$': 350,\n",
              " 'r': 351,\n",
              " 'case': 352,\n",
              " '>': 353,\n",
              " 'london': 354,\n",
              " 'times': 355,\n",
              " 'although': 356,\n",
              " 'small': 357,\n",
              " 'third': 358,\n",
              " 'different': 359,\n",
              " 'due': 360,\n",
              " 'get': 361,\n",
              " 'village': 362,\n",
              " 'closed': 363,\n",
              " 'g': 364,\n",
              " 'art': 365,\n",
              " 'player': 366,\n",
              " 'final': 367,\n",
              " 'l': 368,\n",
              " 'community': 369,\n",
              " 'held': 370,\n",
              " 'n': 371,\n",
              " 'again': 372,\n",
              " 'began': 373,\n",
              " 'army': 374,\n",
              " 'award': 375,\n",
              " 'without': 376,\n",
              " 'death': 377,\n",
              " 'built': 378,\n",
              " 'men': 379,\n",
              " 'large': 380,\n",
              " 'site': 381,\n",
              " '+': 382,\n",
              " 'using': 383,\n",
              " 'deletion': 384,\n",
              " 'white': 385,\n",
              " 'along': 386,\n",
              " 'five': 387,\n",
              " 'central': 388,\n",
              " 'road': 389,\n",
              " 'children': 390,\n",
              " 'free': 391,\n",
              " 'took': 392,\n",
              " 'england': 393,\n",
              " 'include': 394,\n",
              " 'association': 395,\n",
              " 'down': 396,\n",
              " 'j': 397,\n",
              " 'given': 398,\n",
              " 'source': 399,\n",
              " 'x': 400,\n",
              " 'california': 401,\n",
              " 'man': 402,\n",
              " 'version': 403,\n",
              " 'written': 404,\n",
              " 'created': 405,\n",
              " 'media': 406,\n",
              " 'black': 407,\n",
              " 'though': 408,\n",
              " 'php': 409,\n",
              " 'report': 410,\n",
              " 'building': 411,\n",
              " 'la': 412,\n",
              " 'take': 413,\n",
              " 'division': 414,\n",
              " 'comment': 415,\n",
              " 'having': 416,\n",
              " 'king': 417,\n",
              " 'edit': 418,\n",
              " 'stadium': 419,\n",
              " 'died': 420,\n",
              " 'ship': 421,\n",
              " 'research': 422,\n",
              " 'record': 423,\n",
              " 'archive': 424,\n",
              " 'places': 425,\n",
              " 'undo': 426,\n",
              " 'cup': 427,\n",
              " 'records': 428,\n",
              " 'often': 429,\n",
              " 'few': 430,\n",
              " 'received': 431,\n",
              " 'side': 432,\n",
              " 'power': 433,\n",
              " 'education': 434,\n",
              " 'know': 435,\n",
              " 'category': 436,\n",
              " 'water': 437,\n",
              " 'political': 438,\n",
              " 'species': 439,\n",
              " 'field': 440,\n",
              " 'near': 441,\n",
              " '&': 442,\n",
              " 'co': 443,\n",
              " 'australia': 444,\n",
              " 'video': 445,\n",
              " 'need': 446,\n",
              " 'go': 447,\n",
              " 'island': 448,\n",
              " 'form': 449,\n",
              " 'find': 450,\n",
              " 'served': 451,\n",
              " 'play': 452,\n",
              " 'project': 453,\n",
              " 'o': 454,\n",
              " 'according': 455,\n",
              " '//en': 456,\n",
              " 'radio': 457,\n",
              " 'am': 458,\n",
              " 'works': 459,\n",
              " 'proposed': 460,\n",
              " 'every': 461,\n",
              " 'development': 462,\n",
              " 'example': 463,\n",
              " 'live': 464,\n",
              " 'union': 465,\n",
              " 'india': 466,\n",
              " 'next': 467,\n",
              " 'special': 468,\n",
              " 'court': 469,\n",
              " 'region': 470,\n",
              " 'h': 471,\n",
              " 'little': 472,\n",
              " 'short': 473,\n",
              " 'v': 474,\n",
              " 'william': 475,\n",
              " 'province': 476,\n",
              " 'western': 477,\n",
              " 'son': 478,\n",
              " 'france': 479,\n",
              " 'council': 480,\n",
              " 'others': 481,\n",
              " 'royal': 482,\n",
              " 'current': 483,\n",
              " 'street': 484,\n",
              " 'full': 485,\n",
              " 'red': 486,\n",
              " 'too': 487,\n",
              " 'department': 488,\n",
              " 'w': 489,\n",
              " 'san': 490,\n",
              " 'help': 491,\n",
              " 'subdivision_type': 492,\n",
              " 'among': 493,\n",
              " 've': 494,\n",
              " 'preserved': 495,\n",
              " 'james': 496,\n",
              " 'open': 497,\n",
              " 'force': 498,\n",
              " 'position': 499,\n",
              " 'head': 500,\n",
              " 'director': 501,\n",
              " 'father': 502,\n",
              " 'track': 503,\n",
              " 'http': 504,\n",
              " 'canada': 505,\n",
              " 'never': 506,\n",
              " 'australian': 507,\n",
              " 'id': 508,\n",
              " 'george': 509,\n",
              " 'org/w/index': 510,\n",
              " 'jpg': 511,\n",
              " 'level': 512,\n",
              " 'late': 513,\n",
              " 'summer': 514,\n",
              " 'society': 515,\n",
              " 'moved': 516,\n",
              " 'office': 517,\n",
              " 'period': 518,\n",
              " 'championship': 519,\n",
              " 'round': 520,\n",
              " 'story': 521,\n",
              " 'songs': 522,\n",
              " 'various': 523,\n",
              " 'file': 524,\n",
              " 'days': 525,\n",
              " 'land': 526,\n",
              " 'business': 527,\n",
              " 'tv': 528,\n",
              " 'subdivision_name': 529,\n",
              " 'reason': 530,\n",
              " 'america': 531,\n",
              " 'million': 532,\n",
              " 'european': 533,\n",
              " 'term': 534,\n",
              " 'al': 535,\n",
              " 'six': 536,\n",
              " 'uk': 537,\n",
              " 'post': 538,\n",
              " 'why': 539,\n",
              " 'produced': 540,\n",
              " 'making': 541,\n",
              " 'subject': 542,\n",
              " 'young': 543,\n",
              " 'total': 544,\n",
              " 'david': 545,\n",
              " 'science': 546,\n",
              " 'related': 547,\n",
              " 'rock': 548,\n",
              " 'archived': 549,\n",
              " 'railway': 550,\n",
              " 'become': 551,\n",
              " 'led': 552,\n",
              " 'students': 553,\n",
              " 'started': 554,\n",
              " 'news': 555,\n",
              " 'described': 556,\n",
              " '//www': 557,\n",
              " 'role': 558,\n",
              " 'election': 559,\n",
              " 'albums': 560,\n",
              " 'present': 561,\n",
              " 'indian': 562,\n",
              " 'kingdom': 563,\n",
              " 'books': 564,\n",
              " 'important': 565,\n",
              " 'northern': 566,\n",
              " 'love': 567,\n",
              " 'run': 568,\n",
              " 'canadian': 569,\n",
              " 'press': 570,\n",
              " 'rather': 571,\n",
              " 'k': 572,\n",
              " 'type': 573,\n",
              " 'act': 574,\n",
              " 'editor': 575,\n",
              " 'came': 576,\n",
              " 'schools': 577,\n",
              " 'program': 578,\n",
              " 'once': 579,\n",
              " 'issue': 580,\n",
              " 'social': 581,\n",
              " 'germany': 582,\n",
              " 'production': 583,\n",
              " 'male': 584,\n",
              " 'might': 585,\n",
              " 'awards': 586,\n",
              " 'points': 587,\n",
              " 'similar': 588,\n",
              " 'professional': 589,\n",
              " 'say': 590,\n",
              " 'background': 591,\n",
              " 'enough': 592,\n",
              " 'lead': 593,\n",
              " 'either': 594,\n",
              " 'common': 595,\n",
              " 'overlap': 596,\n",
              " 'data': 597,\n",
              " 'color': 598,\n",
              " 'better': 599,\n",
              " '•': 600,\n",
              " 'person': 601,\n",
              " 'services': 602,\n",
              " 'bgcolor': 603,\n",
              " 'museum': 604,\n",
              " 'battle': 605,\n",
              " 'went': 606,\n",
              " 'sports': 607,\n",
              " 'already': 608,\n",
              " 'currently': 609,\n",
              " 'hall': 610,\n",
              " 'buildings': 611,\n",
              " 'historic': 612,\n",
              " 'date': 613,\n",
              " 'deleted': 614,\n",
              " 'considered': 615,\n",
              " 'change': 616,\n",
              " 'location': 617,\n",
              " 'seems': 618,\n",
              " 'must': 619,\n",
              " 'yes': 620,\n",
              " 'our': 621,\n",
              " 'southern': 622,\n",
              " 'least': 623,\n",
              " 'lost': 624,\n",
              " 'something': 625,\n",
              " 'review': 626,\n",
              " 'together': 627,\n",
              " 'robert': 628,\n",
              " 'fact': 629,\n",
              " 'less': 630,\n",
              " 'japanese': 631,\n",
              " 'groups': 632,\n",
              " 'content': 633,\n",
              " 'birth_place': 634,\n",
              " 'involved': 635,\n",
              " 'isbn': 636,\n",
              " 'board': 637,\n",
              " 'japan': 638,\n",
              " 'control': 639,\n",
              " 'policy': 640,\n",
              " 'modern': 641,\n",
              " 'human': 642,\n",
              " 'half': 643,\n",
              " 'design': 644,\n",
              " 'event': 645,\n",
              " 'events': 646,\n",
              " 'available': 647,\n",
              " 'done': 648,\n",
              " 'washington': 649,\n",
              " 'real': 650,\n",
              " 'start': 651,\n",
              " 'personal': 652,\n",
              " 'action': 653,\n",
              " 'space': 654,\n",
              " 'areas': 655,\n",
              " 'doesn': 656,\n",
              " 'notability': 657,\n",
              " 'star': 658,\n",
              " 'really': 659,\n",
              " 'china': 660,\n",
              " 'possible': 661,\n",
              " 'paul': 662,\n",
              " 'working': 663,\n",
              " 'taken': 664,\n",
              " 'far': 665,\n",
              " 'going': 666,\n",
              " 'minister': 667,\n",
              " 'lake': 668,\n",
              " 'reported': 669,\n",
              " 'popular': 670,\n",
              " 'married': 671,\n",
              " 'founded': 672,\n",
              " 'europe': 673,\n",
              " 'author': 674,\n",
              " 'away': 675,\n",
              " 'independent': 676,\n",
              " 'process': 677,\n",
              " 'teams': 678,\n",
              " 'character': 679,\n",
              " 'low': 680,\n",
              " 'michael': 681,\n",
              " 'pages': 682,\n",
              " 'light': 683,\n",
              " 'big': 684,\n",
              " 'seen': 685,\n",
              " 'release': 686,\n",
              " 'want': 687,\n",
              " 'episode': 688,\n",
              " 'wrote': 689,\n",
              " 'republic': 690,\n",
              " 'thomas': 691,\n",
              " 'companies': 692,\n",
              " 'via': 693,\n",
              " 'russian': 694,\n",
              " 'thanks': 695,\n",
              " 'put': 696,\n",
              " 'race': 697,\n",
              " 'worked': 698,\n",
              " 'route': 699,\n",
              " 'recorded': 700,\n",
              " 'someone': 701,\n",
              " 'civil': 702,\n",
              " 'police': 703,\n",
              " 'charles': 704,\n",
              " 'listed': 705,\n",
              " 'users': 706,\n",
              " 'template': 707,\n",
              " 'instead': 708,\n",
              " 'eastern': 709,\n",
              " 'body': 710,\n",
              " 'question': 711,\n",
              " 'italian': 712,\n",
              " 'featured': 713,\n",
              " 'week': 714,\n",
              " 'editors': 715,\n",
              " 'texas': 716,\n",
              " 'chief': 717,\n",
              " 'close': 718,\n",
              " 'himself': 719,\n",
              " 'upon': 720,\n",
              " 'match': 721,\n",
              " 'q': 722,\n",
              " 'roman': 723,\n",
              " 'come': 724,\n",
              " 'opened': 725,\n",
              " 'tour': 726,\n",
              " 'sea': 727,\n",
              " 'actually': 728,\n",
              " 'cross': 729,\n",
              " 'playing': 730,\n",
              " 'health': 731,\n",
              " 'institute': 732,\n",
              " 'caps': 733,\n",
              " 'forces': 734,\n",
              " 'green': 735,\n",
              " 'rights': 736,\n",
              " 'evidence': 737,\n",
              " 'originally': 738,\n",
              " 'aircraft': 739,\n",
              " 'arts': 740,\n",
              " 'range': 741,\n",
              " 'probably': 742,\n",
              " 'consensus': 743,\n",
              " 'bar': 744,\n",
              " 'problem': 745,\n",
              " 'look': 746,\n",
              " 'issues': 747,\n",
              " 'alumni': 748,\n",
              " 'average': 749,\n",
              " 'network': 750,\n",
              " 'win': 751,\n",
              " 'shows': 752,\n",
              " 'wife': 753,\n",
              " 'returned': 754,\n",
              " 'night': 755,\n",
              " 'magazine': 756,\n",
              " 'centre': 757,\n",
              " 'joined': 758,\n",
              " 'usually': 759,\n",
              " 'middle': 760,\n",
              " 'completed': 761,\n",
              " 'elected': 762,\n",
              " 'significant': 763,\n",
              " 'african': 764,\n",
              " 'able': 765,\n",
              " 'google': 766,\n",
              " 'stage': 767,\n",
              " 'addition': 768,\n",
              " 'ireland': 769,\n",
              " 'today': 770,\n",
              " 'academy': 771,\n",
              " 'saint': 772,\n",
              " 'self': 773,\n",
              " 'itself': 774,\n",
              " 'continued': 775,\n",
              " 'stations': 776,\n",
              " 'mother': 777,\n",
              " 'appeared': 778,\n",
              " 'africa': 779,\n",
              " 'culture': 780,\n",
              " 'spanish': 781,\n",
              " 'grand': 782,\n",
              " 'committee': 783,\n",
              " 'things': 784,\n",
              " 'fire': 785,\n",
              " 'changed': 786,\n",
              " 'gold': 787,\n",
              " 'female': 788,\n",
              " 'course': 789,\n",
              " 'directed': 790,\n",
              " 'months': 791,\n",
              " 'whether': 792,\n",
              " 'chinese': 793,\n",
              " 'previous': 794,\n",
              " 'developed': 795,\n",
              " 'size': 796,\n",
              " 'mentioned': 797,\n",
              " 'add': 798,\n",
              " 'festival': 799,\n",
              " 'peter': 800,\n",
              " 'basketball': 801,\n",
              " 'across': 802,\n",
              " 'move': 803,\n",
              " 'performance': 804,\n",
              " 'standard': 805,\n",
              " 'means': 806,\n",
              " 'give': 807,\n",
              " 'training': 808,\n",
              " 'artist': 809,\n",
              " 'word': 810,\n",
              " 'blue': 811,\n",
              " 'primary': 812,\n",
              " 'announced': 813,\n",
              " 'value': 814,\n",
              " 'christian': 815,\n",
              " 'private': 816,\n",
              " 'catholic': 817,\n",
              " 'artists': 818,\n",
              " 'includes': 819,\n",
              " 'view': 820,\n",
              " 'thus': 821,\n",
              " 'almost': 822,\n",
              " 'baseball': 823,\n",
              " 'seven': 824,\n",
              " 'appears': 825,\n",
              " 'ever': 826,\n",
              " 'provide': 827,\n",
              " 'technology': 828,\n",
              " 'olympics': 829,\n",
              " 'future': 830,\n",
              " 'formed': 831,\n",
              " 'census': 832,\n",
              " 'nd': 833,\n",
              " 'images': 834,\n",
              " 'los': 835,\n",
              " 'results': 836,\n",
              " 'return': 837,\n",
              " 'quality': 838,\n",
              " 'construction': 839,\n",
              " 'zealand': 840,\n",
              " 'front': 841,\n",
              " 'cover': 842,\n",
              " 'model': 843,\n",
              " 'despite': 844,\n",
              " 'read': 845,\n",
              " 'material': 846,\n",
              " 'strong': 847,\n",
              " 'coach': 848,\n",
              " 'henry': 849,\n",
              " 'footballers': 850,\n",
              " 'mark': 851,\n",
              " 'rev': 852,\n",
              " 'organization': 853,\n",
              " 'studies': 854,\n",
              " 'federal': 855,\n",
              " 'richard': 856,\n",
              " 'html': 857,\n",
              " 'virginia': 858,\n",
              " 'car': 859,\n",
              " 'attack': 860,\n",
              " 'conference': 861,\n",
              " 'outside': 862,\n",
              " 'study': 863,\n",
              " 'brother': 864,\n",
              " 'names': 865,\n",
              " 'throughout': 866,\n",
              " 'writer': 867,\n",
              " 'characters': 868,\n",
              " 'musical': 869,\n",
              " 'nothing': 870,\n",
              " 'border': 871,\n",
              " 'medical': 872,\n",
              " 'countries': 873,\n",
              " 'past': 874,\n",
              " 'writing': 875,\n",
              " 'makes': 876,\n",
              " 'interest': 877,\n",
              " 'provided': 878,\n",
              " 'killed': 879,\n",
              " 'medal': 880,\n",
              " 'signed': 881,\n",
              " 'dr': 882,\n",
              " 'largest': 883,\n",
              " 'label': 884,\n",
              " 'fair': 885,\n",
              " 'search': 886,\n",
              " 'bay': 887,\n",
              " 'reference': 888,\n",
              " 'especially': 889,\n",
              " 'refer': 890,\n",
              " 'removed': 891,\n",
              " 'library': 892,\n",
              " 'eventually': 893,\n",
              " 'management': 894,\n",
              " 'references': 895,\n",
              " 'features': 896,\n",
              " 'navy': 897,\n",
              " 'guitar': 898,\n",
              " 'hill': 899,\n",
              " 'sure': 900,\n",
              " 'historical': 901,\n",
              " 'lower': 902,\n",
              " 'daughter': 903,\n",
              " 'appointed': 904,\n",
              " 'reading': 905,\n",
              " 'yet': 906,\n",
              " 'systems': 907,\n",
              " 'debut': 908,\n",
              " 'movement': 909,\n",
              " 'fc': 910,\n",
              " 'specific': 911,\n",
              " 'always': 912,\n",
              " 'actor': 913,\n",
              " 'natural': 914,\n",
              " 'clear': 915,\n",
              " 'coast': 916,\n",
              " 'let': 917,\n",
              " 'got': 918,\n",
              " 'chicago': 919,\n",
              " 'championships': 920,\n",
              " 'll': 921,\n",
              " 'pennsylvania': 922,\n",
              " 'ten': 923,\n",
              " 'performed': 924,\n",
              " 'individual': 925,\n",
              " 'designed': 926,\n",
              " 'rule': 927,\n",
              " 'etc': 928,\n",
              " 'lists': 929,\n",
              " 'paris': 930,\n",
              " 'thought': 931,\n",
              " 'brown': 932,\n",
              " 'hand': 933,\n",
              " 'needs': 934,\n",
              " 'reliable': 935,\n",
              " 'smith': 936,\n",
              " 'generally': 937,\n",
              " 'base': 938,\n",
              " 'sometimes': 939,\n",
              " 'florida': 940,\n",
              " 'capital': 941,\n",
              " 'valley': 942,\n",
              " 'bank': 943,\n",
              " 'gave': 944,\n",
              " 'ground': 945,\n",
              " 'reached': 946,\n",
              " 'italy': 947,\n",
              " 'energy': 948,\n",
              " 'believe': 949,\n",
              " 'leader': 950,\n",
              " 'active': 951,\n",
              " 'online': 952,\n",
              " 'block': 953,\n",
              " 'bridge': 954,\n",
              " 'families': 955,\n",
              " 'changes': 956,\n",
              " 'y': 957,\n",
              " 'followed': 958,\n",
              " 'industry': 959,\n",
              " 'collection': 960,\n",
              " 'request': 961,\n",
              " 'soon': 962,\n",
              " 'leading': 963,\n",
              " 'olympic': 964,\n",
              " 'sold': 965,\n",
              " 'writers': 966,\n",
              " 'professor': 967,\n",
              " 'studio': 968,\n",
              " 'mexico': 969,\n",
              " 'competition': 970,\n",
              " 'campaign': 971,\n",
              " 'org': 972,\n",
              " 'theatre': 973,\n",
              " 'anything': 974,\n",
              " 'particular': 975,\n",
              " 'empire': 976,\n",
              " 'length': 977,\n",
              " 'islands': 978,\n",
              " 'singer': 979,\n",
              " 'create': 980,\n",
              " 'redirect': 981,\n",
              " 'additional': 982,\n",
              " 'soviet': 983,\n",
              " 'market': 984,\n",
              " 'words': 985,\n",
              " 'producer': 986,\n",
              " 'notes': 987,\n",
              " 'hockey': 988,\n",
              " 'novel': 989,\n",
              " 'code': 990,\n",
              " 'referee': 991,\n",
              " 'fourth': 992,\n",
              " 'sport': 993,\n",
              " 'van': 994,\n",
              " 'mary': 995,\n",
              " 'airport': 996,\n",
              " 'sound': 997,\n",
              " 'status': 998,\n",
              " 'irish': 999,\n",
              " ...}"
            ]
          },
          "metadata": {},
          "execution_count": 23
        }
      ]
    },
    {
      "cell_type": "markdown",
      "source": [
        "### Test of the multilingual space"
      ],
      "metadata": {
        "id": "ESeC_mlwMRFX"
      }
    },
    {
      "cell_type": "code",
      "source": [
        "def get_nn(word, src_emb, src_word2id, tgt_emb, tgt_word2id, K=5):\n",
        "    print(\"Nearest neighbors of \\\"%s\\\":\" % word)\n",
        "\n",
        "    word_emb = src_emb[src_word2id[word]]\n",
        "    scores = (tgt_emb / np.linalg.norm(tgt_emb, 2, 1)[:, None]).dot(word_emb / np.linalg.norm(word_emb))\n",
        "    k_best = scores.argsort()[-K:][::-1]\n",
        "    for i, idx in enumerate(k_best):\n",
        "        print('%.4f - %s' % (scores[idx], list(tgt_word2id.keys())[list(tgt_word2id.values()).index(idx)]))"
      ],
      "metadata": {
        "id": "Q_Ai4xDIeP2L"
      },
      "execution_count": 24,
      "outputs": []
    },
    {
      "cell_type": "code",
      "source": [
        "# printing nearest neighbors in the source space eng → eng\n",
        "src_word = \"cake\"\n",
        "get_nn(src_word, embeddings_en, embedding_word2id_en, embeddings_en, embedding_word2id_en, K=5)"
      ],
      "metadata": {
        "colab": {
          "base_uri": "https://localhost:8080/"
        },
        "id": "TMKuRJMSe0I6",
        "outputId": "2f18b6bb-7256-4389-8b75-ad63b4a518f1"
      },
      "execution_count": 25,
      "outputs": [
        {
          "output_type": "stream",
          "name": "stdout",
          "text": [
            "Nearest neighbors of \"cake\":\n",
            "1.0000 - cake\n",
            "0.8562 - cakes\n",
            "0.7429 - pancakes\n",
            "0.7317 - pastry\n",
            "0.7199 - doughnuts\n"
          ]
        }
      ]
    },
    {
      "cell_type": "code",
      "source": [
        "# printing nearest neighbors in the target space eng → ita\n",
        "src_word = \"fuck\"\n",
        "get_nn(src_word, embeddings_en, embedding_word2id_en, embeddings_it, embedding_word2id_it, K=5)"
      ],
      "metadata": {
        "colab": {
          "base_uri": "https://localhost:8080/"
        },
        "id": "gSEezCvMgG5C",
        "outputId": "88e2fa4c-6182-44aa-cb67-56a0d80eed23"
      },
      "execution_count": 26,
      "outputs": [
        {
          "output_type": "stream",
          "name": "stdout",
          "text": [
            "Nearest neighbors of \"fuck\":\n",
            "0.6612 - cazzo\n",
            "0.6394 - fottuto\n",
            "0.6311 - vaffanculo\n",
            "0.6116 - culo\n",
            "0.6025 - stronzo\n"
          ]
        }
      ]
    },
    {
      "cell_type": "code",
      "source": [
        "import matplotlib.pyplot as plt\n",
        "from sklearn.decomposition import PCA\n",
        "\n",
        "pca = PCA(n_components=2, whiten=True)  # TSNE(n_components=2, n_iter=3000, verbose=2)\n",
        "pca.fit(np.vstack([embeddings_en, embeddings_it]))\n",
        "print('Variance explained: %.2f' % pca.explained_variance_ratio_.sum())\n",
        "\n",
        "def plot_similar_word(src_words, src_word2id, src_emb, tgt_words, tgt_word2id, tgt_emb, pca):\n",
        "\n",
        "    Y = []\n",
        "    word_labels = []\n",
        "    for sw in src_words:\n",
        "        Y.append(src_emb[src_word2id[sw]])\n",
        "        word_labels.append(sw)\n",
        "    for tw in tgt_words:\n",
        "        Y.append(tgt_emb[tgt_word2id[tw]])\n",
        "        word_labels.append(tw)\n",
        "\n",
        "    # find tsne coords for 2 dimensions\n",
        "    Y = pca.transform(Y)\n",
        "    x_coords = Y[:, 0]\n",
        "    y_coords = Y[:, 1]\n",
        "\n",
        "    # display scatter plot\n",
        "    plt.figure(figsize=(10, 8), dpi=80)\n",
        "    plt.scatter(x_coords, y_coords, marker='x')\n",
        "\n",
        "    for k, (label, x, y) in enumerate(zip(word_labels, x_coords, y_coords)):\n",
        "        color = 'blue' if k < len(src_words) else 'red'  # src words in blue / tgt words in red\n",
        "        plt.annotate(label, xy=(x, y), xytext=(0, 0), textcoords='offset points', fontsize=19,\n",
        "                     color=color, weight='bold')\n",
        "\n",
        "    plt.xlim(x_coords.min() - 0.2, x_coords.max() + 0.2)\n",
        "    plt.ylim(y_coords.min() - 0.2, y_coords.max() + 0.2)\n",
        "    plt.title('Visualization of the multilingual word embedding space')\n",
        "\n",
        "    plt.show()"
      ],
      "metadata": {
        "colab": {
          "base_uri": "https://localhost:8080/"
        },
        "id": "8BhWt-F6hfA0",
        "outputId": "9f5e318d-a215-4442-fbb6-9992c890885e"
      },
      "execution_count": 27,
      "outputs": [
        {
          "output_type": "stream",
          "name": "stdout",
          "text": [
            "Variance explained: 0.06\n"
          ]
        }
      ]
    },
    {
      "cell_type": "code",
      "source": [
        "# get 5 random input words\n",
        "src_words = ['cat', 'cake', \"god\"]\n",
        "tgt_words = ['gatto', 'torta', \"dio\"]\n",
        "\n",
        "# assert words in dictionaries\n",
        "for sw in src_words:\n",
        "    assert sw in embedding_word2id_en, '\"%s\" not in source dictionary' % sw\n",
        "for tw in tgt_words:\n",
        "    assert tw in embedding_word2id_it, '\"%s\" not in target dictionary' % sw\n",
        "\n",
        "plot_similar_word(src_words, embedding_word2id_en, embeddings_en, tgt_words, embedding_word2id_it, embeddings_it, pca)"
      ],
      "metadata": {
        "colab": {
          "base_uri": "https://localhost:8080/",
          "height": 560
        },
        "id": "bxETGjCyhgag",
        "outputId": "cdf90379-bfb7-427f-aee2-c8400dcf96d3"
      },
      "execution_count": 28,
      "outputs": [
        {
          "output_type": "display_data",
          "data": {
            "text/plain": [
              "<Figure size 800x640 with 1 Axes>"
            ],
            "image/png": "[encoded data removed]"
          },
          "metadata": {}
        }
      ]
    },
    {
      "cell_type": "markdown",
      "source": [
        "## Correctly format the texts"
      ],
      "metadata": {
        "id": "OJTmyjhEM-pJ"
      }
    },
    {
      "cell_type": "code",
      "source": [
        "# Deinfe some variables\n",
        "VOCABULARY_SIZE = 10000\n",
        "EMBEDDING_DIM = 300\n",
        "SEQ_LENGTH = 300\n",
        "\n",
        "# We insert <start>, <pad>, <unk>\n",
        "INDEX_FROM = 3"
      ],
      "metadata": {
        "id": "It59yuhZdnJ1"
      },
      "execution_count": 29,
      "outputs": []
    },
    {
      "cell_type": "code",
      "source": [
        "X_train_ita = ['<start> ' + x for x in X_train_ita]\n",
        "X_test_ita = ['<start> ' + x for x in X_test_ita]"
      ],
      "metadata": {
        "id": "KpLckA3PtIYR"
      },
      "execution_count": 30,
      "outputs": []
    },
    {
      "cell_type": "code",
      "source": [
        "X_train_en = ['<start> ' + x for x in X_train_en]\n",
        "X_test_en = ['<start> ' + x for x in X_test_en]"
      ],
      "metadata": {
        "id": "aoZymHl_ekd7"
      },
      "execution_count": 31,
      "outputs": []
    },
    {
      "cell_type": "code",
      "source": [
        "# create the tokenizer\n",
        "t = Tokenizer(oov_token=\"<unk>\", num_words=VOCABULARY_SIZE+INDEX_FROM-1, filters='!\"#$%&()*+,-./:;=?@[\\\\]^_`{|}~\\t\\n')\n",
        "\n",
        "# fit the tokenizer on the documents\n",
        "t.fit_on_texts(X_train_en)\n",
        "#t.fit_on_texts(X_train_ita)\n",
        "\n",
        "t.word_index['<pad>'] = 0\n",
        "t.index_word[0] = '<pad>'\n",
        "\n",
        "# summarize what was learned\n",
        "#print(t.word_counts)\n",
        "#print(t.document_count)\n",
        "#print(t.word_docs)\n",
        "print(\"List of all the words and relative (local) id: \\n\\n\", t.word_index)\n",
        "\n",
        "\n",
        "# integer encode documents\n",
        "X_train_ita = t.texts_to_sequences(X_train_ita)\n",
        "X_test_ita = t.texts_to_sequences(X_test_ita)\n",
        "\n",
        "X_train_en = t.texts_to_sequences(X_train_en)\n",
        "X_test_en = t.texts_to_sequences(X_test_en)"
      ],
      "metadata": {
        "colab": {
          "base_uri": "https://localhost:8080/"
        },
        "id": "nQyezUbwduAb",
        "outputId": "6900fa1f-4a4d-4df7-c12f-e018247118e5"
      },
      "execution_count": 32,
      "outputs": [
        {
          "output_type": "stream",
          "name": "stdout",
          "text": [
            "List of all the words and relative (local) id: \n",
            "\n",
            " {'<unk>': 1, '<start>': 2, 'a': 3, 'bitch': 4, 'i': 5, 'rt': 6, 'the': 7, 'you': 8, 'to': 9, 'and': 10, 'my': 11, 'that': 12, '128514': 13, 't': 14, 'bitches': 15, 'in': 16, 'co': 17, 'is': 18, 'http': 19, 'me': 20, 'like': 21, 'of': 22, 'on': 23, 'hoes': 24, 'be': 25, 'pussy': 26, 'this': 27, 'for': 28, 'it': 29, 'hoe': 30, 'with': 31, '8220': 32, '8221': 33, \"i'm\": 34, 'ass': 35, 'your': 36, 'up': 37, 'all': 38, 'if': 39, 'but': 40, 'just': 41, \"don't\": 42, 'fuck': 43, 'get': 44, 'so': 45, 'no': 46, 'they': 47, 'when': 48, 'these': 49, 'got': 50, '8230': 51, 'shit': 52, 'u': 53, 'nigga': 54, 'are': 55, 'not': 56, 'was': 57, 'she': 58, 'her': 59, 'trash': 60, 'lol': 61, 'at': 62, 'out': 63, 'have': 64, 'amp': 65, 'he': 66, \"ain't\": 67, 'some': 68, 'about': 69, 'what': 70, 'do': 71, 'know': 72, 'niggas': 73, 'can': 74, 'we': 75, 'them': 76, 'one': 77, 'how': 78, 'who': 79, 'love': 80, 'or': 81, \"it's\": 82, 'as': 83, 'now': 84, 'fucking': 85, 'go': 86, 'yo': 87, '128557': 88, 'bad': 89, 'from': 90, \"can't\": 91, 'want': 92, 'why': 93, 'man': 94, 'his': 95, 'then': 96, 'good': 97, \"you're\": 98, 'im': 99, 'too': 100, 'make': 101, 'still': 102, 'ya': 103, 'off': 104, \"that's\": 105, 'see': 106, 'look': 107, 'only': 108, 'hate': 109, 'need': 110, 'think': 111, 'back': 112, 'time': 113, 'an': 114, 'will': 115, 'say': 116, 'really': 117, \"y'all\": 118, 'real': 119, 'never': 120, 'faggot': 121, 'people': 122, 'girl': 123, 'lmao': 124, 'white': 125, 'right': 126, 'being': 127, 'would': 128, 'here': 129, 'bird': 130, '128553': 131, 'even': 132, 'more': 133, 'by': 134, 'said': 135, 'let': 136, 'wit': 137, 'had': 138, 'over': 139, 'dick': 140, 'wanna': 141, 'their': 142, 'been': 143, 'there': 144, 'than': 145, 'day': 146, 'stop': 147, 'da': 148, '2': 149, 'little': 150, 'down': 151, 'bout': 152, 'because': 153, 'yankees': 154, 'come': 155, 'life': 156, 'gotta': 157, 'tell': 158, 'gt': 159, 'call': 160, '128175': 161, 'talk': 162, 'damn': 163, 'dont': 164, 'dat': 165, 'has': 166, 'lil': 167, 'its': 168, 'always': 169, 'him': 170, 'charlie': 171, 'cause': 172, 'n': 173, 'going': 174, 'every': 175, 'take': 176, 'better': 177, 'gonna': 178, '65039': 179, '8217': 180, 'eat': 181, 'ghetto': 182, 'new': 183, 'dumb': 184, 'ugly': 185, 'ever': 186, 'money': 187, 'girls': 188, 'retarded': 189, '128530': 190, 'niggah': 191, 'into': 192, 'yellow': 193, 'where': 194, 'big': 195, 'other': 196, '3': 197, 'give': 198, 'tho': 199, 'aint': 200, 'talking': 201, 'am': 202, 'fuckin': 203, 'cunt': 204, 'twitter': 205, 'stupid': 206, 'did': 207, 'ur': 208, \"i'll\": 209, 'getting': 210, 'way': 211, 'put': 212, 'yall': 213, 'nigger': 214, 'yeah': 215, 'fag': 216, 'hit': 217, 'same': 218, 'fat': 219, 'feel': 220, '1': 221, 'much': 222, 'black': 223, 'birds': 224, 'keep': 225, 'ho': 226, 'mad': 227, 'today': 228, 'should': 229, 's': 230, 'https': 231, 'old': 232, 'oh': 233, 'best': 234, 'game': 235, 'well': 236, 'after': 237, 'boy': 238, 'made': 239, 'those': 240, 'last': 241, 'cuz': 242, 'could': 243, 'smh': 244, \"he's\": 245, 'em': 246, 'side': 247, 'around': 248, 'play': 249, 'called': 250, 'mean': 251, 'b': 252, 'next': 253, 'monkey': 254, 'before': 255, 'happy': 256, 'gone': 257, 'us': 258, 'many': 259, 'fucked': 260, 'colored': 261, 'someone': 262, 'night': 263, '128525': 264, 'tryna': 265, 'first': 266, 'sex': 267, 'another': 268, 'something': 269, '128128': 270, 'face': 271, 'shut': 272, 'any': 273, 'thing': 274, 'school': 275, 'two': 276, 'nicca': 277, \"didn't\": 278, 'god': 279, 'name': 280, 'crazy': 281, 'baby': 282, 'were': 283, \"she's\": 284, 'work': 285, '12288': 286, 'most': 287, 'bro': 288, 'nothing': 289, 'women': 290, 'such': 291, 'thats': 292, 'head': 293, 'doing': 294, 'find': 295, 'told': 296, 'again': 297, 'w': 298, 'hell': 299, 'start': 300, 'having': 301, 'try': 302, 'show': 303, 'looking': 304, 'haha': 305, 'while': 306, 'beat': 307, 'gay': 308, 'high': 309, '128079': 310, 'broke': 311, 'tonight': 312, 'seen': 313, 'loyal': 314, 'year': 315, 'friends': 316, '9733': 317, 'lt': 318, 'watch': 319, '4': 320, 'dude': 321, 'bruh': 322, \"'\": 323, 'guys': 324, 'cute': 325, 'nah': 326, 'done': 327, 'swear': 328, 'kill': 329, 'tweet': 330, 'stay': 331, 'home': 332, 'ask': 333, 'thought': 334, 'wrong': 335, '5': 336, 'does': 337, 'our': 338, 'funny': 339, 'ima': 340, 'turn': 341, 'pretty': 342, 'use': 343, 'gon': 344, 'phone': 345, 'mom': 346, 'house': 347, 'trying': 348, 'hard': 349, 'faggots': 350, 'might': 351, '128564': 352, 'already': 353, \"i've\": 354, 'o': 355, 'please': 356, \"won't\": 357, 'red': 358, 'fight': 359, 'wtf': 360, 'trust': 361, 'yes': 362, 'straight': 363, 'buy': 364, 'hot': 365, 'everybody': 366, '9996': 367, 'hope': 368, 'world': 369, 'wish': 370, 'sorry': 371, '128527': 372, 'dis': 373, 'niccas': 374, 'days': 375, 'act': 376, '128129': 377, 'nobody': 378, 'making': 379, 'free': 380, '128076': 381, 'gets': 382, 'guy': 383, 'nig': 384, 'bring': 385, 'car': 386, 'looks': 387, 'fake': 388, 'makes': 389, 'long': 390, 'wait': 391, 'd': 392, 'kids': 393, 'retard': 394, 'live': 395, 'great': 396, 'suck': 397, 'young': 398, 'care': 399, 'though': 400, 'nigguh': 401, 'both': 402, 'jus': 403, 'went': 404, 'son': 405, '128588': 406, 'hair': 407, 'lot': 408, 'jason': 409, 'anything': 410, 'guess': 411, 'throw': 412, 'song': 413, 'sure': 414, 'cut': 415, 'cool': 416, '9995': 417, '10': 418, 'tf': 419, 'saying': 420, 'dem': 421, 'ok': 422, 'pussies': 423, 'since': 424, 'r': 425, 'woman': 426, 'away': 427, 'hey': 428, 'full': 429, \"they're\": 430, 'says': 431, 'half': 432, \"doesn't\": 433, 'cant': 434, 'remember': 435, 'everyone': 436, 'calling': 437, 'kieffer': 438, '128526': 439, 'weed': 440, 'own': 441, 'whole': 442, 'single': 443, 'probably': 444, 'tweets': 445, 'thanks': 446, 'text': 447, 'eating': 448, \"i'd\": 449, 'stfu': 450, 'everything': 451, '128064': 452, 'job': 453, 'follow': 454, 'bet': 455, 'sleep': 456, 'leave': 457, 'word': 458, 'lmfao': 459, 'yet': 460, 'type': 461, \"there's\": 462, 'pull': 463, 'playing': 464, 'brownies': 465, 'men': 466, 'music': 467, 'af': 468, 'queer': 469, 'mind': 470, 'omg': 471, 'top': 472, 'bc': 473, 'females': 474, '128515': 475, 'morning': 476, 'die': 477, 'without': 478, 'either': 479, \"what's\": 480, 'until': 481, 'team': 482, 'redneck': 483, 'yea': 484, 'nice': 485, 'niggers': 486, 'pic': 487, 'mouth': 488, 'birthday': 489, 'basic': 490, '128074': 491, 'run': 492, 'food': 493, 'wants': 494, 'years': 495, 'wife': 496, 'party': 497, \"wasn't\": 498, 'took': 499, '128563': 500, 'wanted': 501, '6': 502, 'once': 503, 'left': 504, 'maybe': 505, 'lost': 506, 'wear': 507, 'believe': 508, 'actually': 509, 'needs': 510, 'c': 511, 'watching': 512, 'else': 513, 'okay': 514, 'ion': 515, 'miss': 516, 'boys': 517, 'things': 518, \"isn't\": 519, 'pay': 520, '0': 521, 'thank': 522, 'person': 523, 'dog': 524, 'came': 525, 'respect': 526, 'sick': 527, 'saw': 528, 'used': 529, 'porn': 530, 'iphone': 531, 'must': 532, 'fun': 533, 'week': 534, 'main': 535, 'nasty': 536, 'outta': 537, 'dead': 538, 'tried': 539, 'line': 540, 'win': 541, 'friend': 542, \"couldn't\": 543, 'mock': 544, 'bae': 545, 'via': 546, 'acting': 547, 'coming': 548, 'smoke': 549, 'y': 550, 'stand': 551, 'ready': 552, 'also': 553, 'favorite': 554, 'fact': 555, '128536': 556, 'wearing': 557, 'crackers': 558, 'break': 559, 'brown': 560, 'comes': 561, 'drunk': 562, 'light': 563, 'girlfriend': 564, 'video': 565, 'booty': 566, 'fags': 567, '128520': 568, 'myself': 569, 'through': 570, 'pregnant': 571, '1041204': 572, 'place': 573, 'dyke': 574, 'oreo': 575, 'couple': 576, 'fans': 577, 'change': 578, 'racist': 579, 'ex': 580, 'rather': 581, 'body': 582, 'sit': 583, 'point': 584, 'somebody': 585, 'listen': 586, 'jihadi': 587, 'eyes': 588, 'naw': 589, 'gettin': 590, 'talkin': 591, 'tired': 592, 'chill': 593, 'idk': 594, 'club': 595, '128540': 596, 'lookin': 597, 'finna': 598, 'hear': 599, 'walk': 600, 'thinking': 601, 'wonder': 602, 'wow': 603, '9': 604, '128166': 605, '7': 606, 'female': 607, 'together': 608, 'true': 609, 'reason': 610, \"wouldn't\": 611, 'bye': 612, 'gave': 613, 'yankee': 614, 'none': 615, 'outside': 616, 'heart': 617, 'cry': 618, 'least': 619, 'cold': 620, 'move': 621, 'lame': 622, 'm': 623, 'pics': 624, 'fine': 625, 'niggaz': 626, 'taking': 627, 'g': 628, 'nd': 629, 'water': 630, 'dad': 631, 'lie': 632, 'class': 633, 'number': 634, 'rich': 635, '128529': 636, 'games': 637, 'problem': 638, 'goes': 639, 'cracker': 640, 'help': 641, 'flappy': 642, 'j': 643, 'hurt': 644, '127814': 645, 'instagram': 646, 'ha': 647, '128545': 648, 'ah': 649, 'wet': 650, 'imma': 651, 'dirty': 652, 'yu': 653, 'catch': 654, 'ill': 655, '160': 656, 'end': 657, 'kid': 658, 'yourself': 659, 'boyfriend': 660, 'send': 661, 'enough': 662, 'bed': 663, 'early': 664, '128299': 665, 'thirsty': 666, 'sexy': 667, 'ppl': 668, 'obama': 669, 'front': 670, 'pick': 671, 'may': 672, \"let's\": 673, 'date': 674, 'ratchet': 675, 'heard': 676, 'self': 677, 'check': 678, 'anyone': 679, 'few': 680, '128581': 681, 'coon': 682, '128524': 683, 'relationship': 684, 'sometimes': 685, 'giving': 686, 'pop': 687, 'redskins': 688, 'city': 689, 'sound': 690, 'found': 691, 'lose': 692, 'p': 693, 'unless': 694, 'season': 695, 'drop': 696, 'literally': 697, '20': 698, 'chick': 699, '128080': 700, 'lady': 701, 'serious': 702, 'low': 703, 'sad': 704, '100': 705, 'oreos': 706, 'dudes': 707, '24': 708, 'weekend': 709, 'times': 710, 'read': 711, 'ago': 712, 'tomorrow': 713, 'picture': 714, 'wake': 715, 'crying': 716, 'meet': 717, 'hahaha': 718, 'attention': 719, 'started': 720, 'cheat': 721, 'feelings': 722, 'bunch': 723, 'uncle': 724, 'android': 725, 'xxx': 726, '128131': 727, 'mine': 728, 'which': 729, 'k': 730, \"you'll\": 731, 'ate': 732, 'slap': 733, 'smell': 734, 'twat': 735, 'negro': 736, 'tranny': 737, 'voice': 738, 'teabagger': 739, 'hella': 740, 'quick': 741, 'lying': 742, 'family': 743, 'almost': 744, '30': 745, 'quit': 746, 'ride': 747, 'thot': 748, 'sweet': 749, 'against': 750, 'different': 751, 'weak': 752, 'slut': 753, 'america': 754, 'asian': 755, 'mother': 756, 'annoying': 757, 'ones': 758, 'taste': 759, 'don': 760, 'hold': 761, 'means': 762, 'matter': 763, 'ma': 764, 'drink': 765, 'kno': 766, 'working': 767, 'pass': 768, 'tcot': 769, 'mr': 770, 'skinny': 771, \"who's\": 772, 'telling': 773, 'understand': 774, 'ipad': 775, 'far': 776, 'hand': 777, 'sum': 778, 'anymore': 779, 'soon': 780, 'drive': 781, 'till': 782, 'lmaoo': 783, 'truth': 784, 'shoot': 785, 'hood': 786, 'round': 787, 'business': 788, '8': 789, 'room': 790, 'beautiful': 791, 'shot': 792, 'words': 793, \"aren't\": 794, 'ball': 795, 'teabaggers': 796, '12': 797, 'nudes': 798, 'dawg': 799, 'everyday': 800, 'isis': 801, 'cunts': 802, 'instead': 803, 'alone': 804, 'movie': 805, '128532': 806, '128533': 807, 'prolly': 808, 'met': 809, 'jay': 810, 'king': 811, 'killed': 812, 'hi': 813, 'dress': 814, 'likes': 815, 'waiting': 816, 'perfect': 817, 'cat': 818, 'rap': 819, 'hands': 820, 'asked': 821, 'post': 822, 'under': 823, 'tl': 824, 'thru': 825, 'thick': 826, 'running': 827, 'fire': 828, 'boss': 829, '10084': 830, 'h': 831, 'weird': 832, 'e': 833, 'nothin': 834, 'fly': 835, 'sole': 836, 'very': 837, 'deep': 838, 'tom': 839, 'treat': 840, 'cream': 841, 'rick': 842, 'skin': 843, 'open': 844, 'blue': 845, '11': 846, 'using': 847, 'x': 848, 'set': 849, 'public': 850, 'jihadis': 851, 'jesus': 852, '128584': 853, 'sell': 854, 'ice': 855, 'bag': 856, 'chicks': 857, 'texting': 858, 'kinda': 859, 'knows': 860, \"you've\": 861, 'later': 862, 'ig': 863, 'yung': 864, 'ladies': 865, 'huh': 866, 'doe': 867, 'whatever': 868, 'al': 869, 'race': 870, 'momma': 871, 'worth': 872, 'glad': 873, 'hungry': 874, 'between': 875, 'slope': 876, 'retards': 877, 'goin': 878, 'whore': 879, 'country': 880, 'street': 881, 'chris': 882, 'middle': 883, 'pictures': 884, 'f': 885, '128548': 886, 'brownie': 887, 'door': 888, 'crist': 889, 'control': 890, 'loves': 891, 'taken': 892, 'sounds': 893, 'knew': 894, 'lets': 895, 'grow': 896, '128075': 897, 'park': 898, 'drake': 899, 'clothes': 900, 'paper': 901, 'kiss': 902, 'fam': 903, 'lmaooo': 904, 'social': 905, 'save': 906, 'neck': 907, 'strong': 908, 'support': 909, 'sayin': 910, 'stick': 911, '128513': 912, 'fucc': 913, 'behind': 914, 'state': 915, 'mf': 916, 'past': 917, 'chicken': 918, 'thinks': 919, 'tv': 920, 'part': 921, 'beer': 922, 'laugh': 923, '128555': 924, 'problems': 925, 'mama': 926, 'tweeting': 927, 'avi': 928, 'clean': 929, 'folk': 930, 'themselves': 931, 'anyway': 932, 'walking': 933, 'kick': 934, 'sister': 935, 'dey': 936, 'hating': 937, '128567': 938, 'fresh': 939, 'la': 940, 'proud': 941, '1st': 942, 'idgaf': 943, 'caught': 944, 'takes': 945, 'followers': 946, 'brother': 947, 'worried': 948, 'rest': 949, 'forget': 950, 'karma': 951, '99': 952, 'roll': 953, 'poor': 954, 'daddy': 955, 'shirt': 956, 'fuzzy': 957, 'become': 958, 'fan': 959, 'baddest': 960, 'biggest': 961, 'realize': 962, 'smack': 963, 'late': 964, 'green': 965, 'dope': 966, 'huntermoore': 967, 'fast': 968, 'learn': 969, 'john': 970, 'forgot': 971, 'blunt': 972, 'sheen': 973, 'ol': 974, 'worst': 975, '100046729': 976, 'scared': 977, 'den': 978, 'second': 979, 'mess': 980, 'summer': 981, 'kind': 982, 'seriously': 983, 'halloween': 984, 'calls': 985, 'story': 986, 'forever': 987, 'turned': 988, 'piece': 989, 'asking': 990, \"we're\": 991, 'american': 992, 'attitude': 993, 'grade': 994, 'playin': 995, 'bullshit': 996, 'yours': 997, 'joke': 998, 'close': 999, 'ran': 1000, 'joe': 1001, 'soul': 1002, 'claim': 1003, 'buckm00se': 1004, 'seem': 1005, 'fucks': 1006, '128073': 1007, 'seeing': 1008, 'jeter': 1009, 'block': 1010, 'easy': 1011, 'less': 1012, 'gold': 1013, 'tha': 1014, 'cheese': 1015, 'swag': 1016, 'blow': 1017, 'wat': 1018, 'facts': 1019, '128528': 1020, 'dry': 1021, 'gun': 1022, 'asshole': 1023, 'lebron': 1024, 'played': 1025, 'balls': 1026, 'wack': 1027, 'weather': 1028, 'shoes': 1029, 'loud': 1030, 'aye': 1031, 'media': 1032, '15': 1033, 'youre': 1034, 'wild': 1035, 'level': 1036, 'hop': 1037, 'finally': 1038, '128523': 1039, 'answer': 1040, 'whitey': 1041, 'fall': 1042, 'deal': 1043, 'sucking': 1044, 'speak': 1045, 'months': 1046, '128293': 1047, 'random': 1048, 'feet': 1049, 'uh': 1050, 'idntwearcondoms': 1051, 'juice': 1052, 'lucky': 1053, 'confused': 1054, 'slow': 1055, '128069': 1056, 'homie': 1057, 'death': 1058, '2014': 1059, 'laughing': 1060, 'jail': 1061, 'niggahs': 1062, 'naked': 1063, 'during': 1064, 'hairy': 1065, 'three': 1066, 'died': 1067, 'bit': 1068, 'facebook': 1069, 'lives': 1070, 'finger': 1071, 'special': 1072, '128591': 1073, 'won': 1074, 'honestly': 1075, 'vs': 1076, 'hillbilly': 1077, 'ugh': 1078, 'boring': 1079, 'super': 1080, 'sucks': 1081, 'hang': 1082, 'friday': 1083, 'teacher': 1084, 're': 1085, 'childish': 1086, 'lonely': 1087, 'cock': 1088, 'alex': 1089, 'town': 1090, 'bomb': 1091, 'eye': 1092, 'double': 1093, 'weeks': 1094, 'scary': 1095, 'dream': 1096, 'fool': 1097, 'star': 1098, 'football': 1099, 'ebola': 1100, 'steal': 1101, 'fo': 1102, 'actin': 1103, 'ina': 1104, 'count': 1105, 'internet': 1106, 'excuse': 1107, '128522': 1108, 'angry': 1109, 'throwing': 1110, 'nick': 1111, '9749': 1112, 'complain': 1113, 'photo': 1114, 'thug': 1115, 'didnt': 1116, 'slit': 1117, 'feeling': 1118, 'mane': 1119, 'threw': 1120, 'stuck': 1121, 'living': 1122, 'short': 1123, 'cares': 1124, 'mexican': 1125, 'nfl': 1126, '8212': 1127, 'lick': 1128, 'bought': 1129, '128143': 1130, '187': 1131, 'texas': 1132, 'lmaoooo': 1133, 'cheating': 1134, 'yesterday': 1135, 'id': 1136, 'handle': 1137, 'nips': 1138, 'teeth': 1139, 'jk': 1140, 'course': 1141, 'dropped': 1142, 'pink': 1143, 'punk': 1144, 'chug': 1145, 'blame': 1146, 'joebudden': 1147, 'blood': 1148, 'massage': 1149, 'wyattnuckels': 1150, 'cee': 1151, 'monday': 1152, 'moment': 1153, 'tight': 1154, '171': 1155, 'lips': 1156, '128056': 1157, 'nope': 1158, 'beautifulkeezy': 1159, 'l': 1160, 'test': 1161, '128149': 1162, 'famous': 1163, 'cuh': 1164, 'bitter': 1165, 'president': 1166, 'future': 1167, 'sox': 1168, 'derek': 1169, 'each': 1170, 'trap': 1171, 'blah': 1172, 'chocolate': 1173, 'happens': 1174, '1stblocjeremiah': 1175, 'mo': 1176, 'dark': 1177, 'mike': 1178, 'butt': 1179, 'crib': 1180, 'definitely': 1181, '128077': 1182, '128176': 1183, 'ole': 1184, 'babe': 1185, 'month': 1186, 'til': 1187, 'mans': 1188, 'trynna': 1189, 'child': 1190, 'stank': 1191, 'jump': 1192, 'animal': 1193, \"haven't\": 1194, 'college': 1195, 'except': 1196, 'argue': 1197, 'kim': 1198, 'grown': 1199, 'bone': 1200, 'boo': 1201, 'shout': 1202, 'youtube': 1203, 'brought': 1204, 'especially': 1205, 'cus': 1206, 'rock': 1207, 'shy': 1208, 'throat': 1209, 'bf': 1210, 'huge': 1211, 'selling': 1212, 'nigs': 1213, 'slide': 1214, '80sbaby4life': 1215, 'sense': 1216, 'clearly': 1217, 'gop': 1218, 'deserve': 1219, 'grandma': 1220, 'million': 1221, '128165': 1222, 'looked': 1223, 'news': 1224, 'beef': 1225, '9992': 1226, 'attractive': 1227, 'small': 1228, 'dese': 1229, 'rice': 1230, 'power': 1231, \"shouldn't\": 1232, 'idc': 1233, 'seat': 1234, 'queen': 1235, 'touch': 1236, 'minute': 1237, 'happen': 1238, 'de': 1239, 'tbh': 1240, 'based': 1241, 'trippin': 1242, 'chase': 1243, 'coons': 1244, 'parents': 1245, 'paid': 1246, 'bros': 1247, 'expect': 1248, 'dm': 1249, 'group': 1250, 'jealous': 1251, 'supposed': 1252, 'lay': 1253, 'fa': 1254, 'dinner': 1255, 'woke': 1256, 'james': 1257, 'oomf': 1258, 'fell': 1259, 'welcome': 1260, 'legs': 1261, 'jig': 1262, 'police': 1263, 'doin': 1264, 'flip': 1265, 'drugs': 1266, 'callmerenee': 1267, 'smoking': 1268, 'anti': 1269, 'rednecks': 1270, 'near': 1271, 'step': 1272, 'apparently': 1273, 'player': 1274, 'winning': 1275, 'peace': 1276, 'shake': 1277, 'simple': 1278, 'ray': 1279, 'smile': 1280, 'kanye': 1281, 'earth': 1282, 'feed': 1283, 'ring': 1284, 'dnt': 1285, 'soft': 1286, 'ape': 1287, 'hour': 1288, 'kinghorsedick': 1289, 'extra': 1290, 'baseball': 1291, 'nuts': 1292, 'names': 1293, 'major': 1294, 'austin': 1295, '128586': 1296, 'idea': 1297, 'losing': 1298, 'inside': 1299, 'hits': 1300, 'retweet': 1301, 'bill': 1302, 'abo': 1303, 'herself': 1304, 'cheated': 1305, 'titties': 1306, 'fuk': 1307, 'everywhere': 1308, 'trip': 1309, 'dare': 1310, 'suppose': 1311, '128078': 1312, 'dats': 1313, 'east': 1314, 'pants': 1315, 'warm': 1316, 'mlb': 1317, 'heat': 1318, 'tyga': 1319, 'punch': 1320, 'enjoy': 1321, 'wifey': 1322, 'scott': 1323, 'smart': 1324, 'offensive': 1325, 'stadium': 1326, 'across': 1327, 'potato': 1328, 'unfollow': 1329, 'color': 1330, 'chunky': 1331, 'dance': 1332, 'human': 1333, 'candy': 1334, 'cake': 1335, 'account': 1336, 'box': 1337, 'holy': 1338, 'purpose': 1339, 'walked': 1340, 'alright': 1341, 'order': 1342, 'headed': 1343, 'rose': 1344, 'rude': 1345, 'hahahaha': 1346, 'dumbass': 1347, 'xdsmooth': 1348, 'fairy': 1349, '128111': 1350, 'war': 1351, 'bday': 1352, 'somethin': 1353, 'anyways': 1354, 'south': 1355, 'stuff': 1356, '8216': 1357, 'friendlyassh0le': 1358, 'gucci': 1359, 'sports': 1360, 'dykes': 1361, 'bottle': 1362, 'clam': 1363, 'air': 1364, 'cousin': 1365, 'basically': 1366, 'worry': 1367, 'vote': 1368, 'bar': 1369, 'duck': 1370, 'rain': 1371, '128521': 1372, 'starting': 1373, 'knowing': 1374, 'driving': 1375, 'causewereguys': 1376, 'shitty': 1377, 'named': 1378, 'morningjoe': 1379, 'bus': 1380, 'safe': 1381, 'thang': 1382, 'singing': 1383, 'married': 1384, 'drinking': 1385, 'dreams': 1386, 'giants': 1387, 'pissed': 1388, 'trick': 1389, 'cash': 1390, 'often': 1391, 'apes': 1392, 'rated': 1393, 'hos': 1394, 'twice': 1395, 'cripple': 1396, 'ignorant': 1397, 'jokes': 1398, 'a1': 1399, 'tits': 1400, 'funnypicsdepot': 1401, 'alive': 1402, 'killing': 1403, 'himself': 1404, '13': 1405, 'etc': 1406, 'neva': 1407, '1bookieg': 1408, 'hes': 1409, 'aka': 1410, 'eyebrows': 1411, 'vianawf': 1412, 'grizzboadams': 1413, 'hoosiers': 1414, 'tree': 1415, 'fw': 1416, 'difference': 1417, 'makeup': 1418, '18': 1419, '21': 1420, '25': 1421, 'draft': 1422, 'dam': 1423, 'riding': 1424, 'yanks': 1425, 'lies': 1426, 'blocked': 1427, 'worm': 1428, 'field': 1429, '128694': 1430, '127926': 1431, 'cops': 1432, 'cars': 1433, 'tip': 1434, 'somewhere': 1435, 'apple': 1436, 'cats': 1437, 'add': 1438, '000': 1439, 'sitting': 1440, 'cook': 1441, 'typical': 1442, 'showed': 1443, 'gas': 1444, '17': 1445, '16': 1446, 'worse': 1447, 'raw': 1448, 'tells': 1449, 'crow': 1450, 'bigger': 1451, 'coffee': 1452, '1inkkofrosess': 1453, 'kobe': 1454, 'quote': 1455, 'choke': 1456, 'wont': 1457, 'children': 1458, 'offended': 1459, 'fried': 1460, \"fuckin'\": 1461, '10071': 1462, 'lunch': 1463, 'hours': 1464, 'cop': 1465, 'charge': 1466, 'garbage': 1467, 'gives': 1468, 'crack': 1469, 'whipped': 1470, '9994': 1471, 'total': 1472, 'bust': 1473, 'coley': 1474, 'songs': 1475, 'ignore': 1476, 'minutes': 1477, 'florida': 1478, 'dying': 1479, 'rihanna': 1480, 'freak': 1481, 'winter': 1482, 'hitting': 1483, 'djzeeti': 1484, 'chance': 1485, 'bein': 1486, 'dogs': 1487, '58386': 1488, '50': 1489, 'window': 1490, 'longer': 1491, 'saturday': 1492, 'irrelevant': 1493, 'pet': 1494, 'babies': 1495, 'baker': 1496, 'plays': 1497, 'surprised': 1498, '8211': 1499, 'usually': 1500, 'lord': 1501, 'beaner': 1502, 'folks': 1503, 'nip': 1504, 'weave': 1505, 'missed': 1506, 'piss': 1507, 'thinkin': 1508, 'hates': 1509, 'happened': 1510, 'soles': 1511, 'sign': 1512, 'messy': 1513, 'wassup': 1514, 'cum': 1515, 'bear': 1516, 'watched': 1517, 'known': 1518, 'panties': 1519, 'zero': 1520, 'pig': 1521, 'mins': 1522, 'hat': 1523, 'wiz': 1524, 'sbsylvester': 1525, 'wop': 1526, 'sold': 1527, 'rn': 1528, 'following': 1529, 'gang': 1530, 'exactly': 1531, 'george': 1532, 'law': 1533, 'tht': 1534, 'write': 1535, 'army': 1536, 'silly': 1537, 'entire': 1538, '127849': 1539, 'needa': 1540, 'leelucas': 1541, 'rip': 1542, 'z': 1543, 'push': 1544, 'drug': 1545, '128517': 1546, 'doesnt': 1547, 'letting': 1548, 'planet': 1549, 'spa': 1550, '718': 1551, '622': 1552, '0221': 1553, 'delete': 1554, 'alot': 1555, 'albino': 1556, 'vintage': 1557, 'dating': 1558, 'sir': 1559, 'regular': 1560, 'gym': 1561, 'knock': 1562, 'store': 1563, '127881': 1564, 'nut': 1565, '127867': 1566, 'gook': 1567, 'boobs': 1568, '14': 1569, 'coach': 1570, 'spend': 1571, 'grab': 1572, 'iont': 1573, 'mall': 1574, 'feels': 1575, 'born': 1576, 'tea': 1577, 'asks': 1578, '1017': 1579, 'era': 1580, 'cookies': 1581, 'band': 1582, 'bread': 1583, 'talks': 1584, 'paul': 1585, 'wcw': 1586, 'nyrkelsmads': 1587, 'jr': 1588, 'scally': 1589, 'natural': 1590, 'sloppy': 1591, 'keeps': 1592, 'moms': 1593, 'basketball': 1594, 'espn': 1595, 'sauce': 1596, 'hide': 1597, 'awesome': 1598, 'st': 1599, 'weight': 1600, 'arguing': 1601, '128107': 1602, 'michael': 1603, 'brandon': 1604, 'floor': 1605, \"would've\": 1606, 'jordan': 1607, 'period': 1608, 'chillin': 1609, '233': 1610, 'nun': 1611, 'taught': 1612, 'fck': 1613, 'zebra': 1614, 'jack': 1615, 'complete': 1616, 'soccer': 1617, 'office': 1618, 'sam': 1619, 'lowkey': 1620, 'score': 1621, 'brain': 1622, 'question': 1623, 'standing': 1624, 'blind': 1625, 'nation': 1626, 'giant': 1627, 'tongue': 1628, 'local': 1629, 'speaking': 1630, 'hatin': 1631, 'bottom': 1632, 'stage': 1633, 'mocks': 1634, 'excited': 1635, 'raised': 1636, 'tall': 1637, 'foh': 1638, 'liberal': 1639, 'allowed': 1640, 'dms': 1641, 'fuc': 1642, 'fighting': 1643, 'na': 1644, 'heads': 1645, 'constantly': 1646, 'complaining': 1647, 'kicked': 1648, 'lemme': 1649, 'yr': 1650, 'el': 1651, '8252': 1652, 'inch': 1653, 'montana': 1654, 'sooo': 1655, 'playoffs': 1656, 'teach': 1657, 'teaparty': 1658, 'moving': 1659, 'def': 1660, 'political': 1661, '23': 1662, 'snap': 1663, 'smfh': 1664, '300': 1665, 'streets': 1666, 'christmas': 1667, '128133': 1668, 'agree': 1669, 'bobby': 1670, 'york': 1671, 'foreign': 1672, 'dressed': 1673, 'luck': 1674, 'spot': 1675, 'fit': 1676, 'putting': 1677, 'talked': 1678, 'gunna': 1679, 'share': 1680, 'evaittakes': 1681, 'daughter': 1682, 'comin': 1683, 'age': 1684, 'lead': 1685, 'teen': 1686, 'daily': 1687, 'beans': 1688, 'clown': 1689, 'tough': 1690, 'screaming': 1691, 'lildurk': 1692, 'snow': 1693, 'smith': 1694, 'spell': 1695, 'followed': 1696, 'coward': 1697, 'chink': 1698, '8594': 1699, 'callin': 1700, 'republican': 1701, 'selfies': 1702, 'elchavaloko': 1703, 'turning': 1704, 'pizza': 1705, 'shane': 1706, 'easily': 1707, 'slept': 1708, 'stress': 1709, 'felt': 1710, 'screen': 1711, 'pot': 1712, 'shots': 1713, 'mentions': 1714, 'lakers': 1715, 'bow': 1716, 'hello': 1717, 'faithful': 1718, 'lazy': 1719, 'jawshoeeahhh': 1720, 'sqquad': 1721, 'cookie': 1722, 'movies': 1723, 'com': 1724, 'seconds': 1725, 'credit': 1726, 'havin': 1727, 'bum': 1728, 'term': 1729, 'non': 1730, 'penis': 1731, 'idiot': 1732, 'meat': 1733, 'turns': 1734, 'size': 1735, 'chinese': 1736, 'rape': 1737, 'yah': 1738, 'saving': 1739, 'model': 1740, 'betta': 1741, 'train': 1742, 'sent': 1743, '128168': 1744, 'series': 1745, 'murder': 1746, 'iam': 1747, 'rob': 1748, 'accept': 1749, 'voiceofdstreetz': 1750, 'afraid': 1751, 'milk': 1752, \"should've\": 1753, 'missing': 1754, 'wins': 1755, \"she'll\": 1756, 'card': 1757, 'track': 1758, 'molly': 1759, \"i'ma\": 1760, 'flat': 1761, 'puts': 1762, 'wen': 1763, 'van': 1764, 'opinion': 1765, 'bald': 1766, 'brothers': 1767, 'fault': 1768, 'key': 1769, 'leg': 1770, 'rapper': 1771, 'dirt': 1772, \"we'll\": 1773, 'cans': 1774, 'slapped': 1775, 'lmfaoo': 1776, 'ik': 1777, 'republicans': 1778, 'feather': 1779, 'pimp': 1780, 'california': 1781, 'houston': 1782, '40': 1783, 'miley': 1784, 'guns': 1785, '128541': 1786, '128561': 1787, 'french': 1788, 'deez': 1789, 'meant': 1790, 'wigga': 1791, 'lit': 1792, 'record': 1793, 'dear': 1794, 'action': 1795, 'everytime': 1796, 'justin': 1797, 'pair': 1798, 'asses': 1799, 'steve': 1800, 'road': 1801, 'slick': 1802, 'personality': 1803, 'album': 1804, '80': 1805, 'lmfaoooo': 1806, 'thirst': 1807, '128139': 1808, 'monroe': 1809, 'general': 1810, 'marriage': 1811, 'loved': 1812, 'btw': 1813, 'protect': 1814, 'soo': 1815, 'whiteponyjr': 1816, 'tupac': 1817, 'kevin': 1818, 'episode': 1819, 'base': 1820, 'posted': 1821, 'lights': 1822, 'classy': 1823, 'anybody': 1824, 'treated': 1825, 'pulled': 1826, 'faces': 1827, 'unlike': 1828, 'rappers': 1829, 'plans': 1830, 'crowd': 1831, 'slant': 1832, 'comment': 1833, 'leaving': 1834, 'squad': 1835, 'teams': 1836, \"it'll\": 1837, 'thunduh': 1838, '1043359': 1839, 'butter': 1840, 'beanies': 1841, 'taylor': 1842, 'lilduval': 1843, 'eats': 1844, 'math': 1845, 'attack': 1846, 'sharing': 1847, 'fear': 1848, 'tbt': 1849, 'savage': 1850, 'camera': 1851, 'moon': 1852, 'dollars': 1853, 'twerking': 1854, 'older': 1855, 'vine': 1856, 'chasing': 1857, 'judge': 1858, 'fob': 1859, 'maniac3x': 1860, 'guinea': 1861, 'ten': 1862, 'sexual': 1863, 'mention': 1864, 'yep': 1865, 'ny': 1866, 'tx': 1867, 'dre': 1868, 'cuhcuhcuh': 1869, 'sportscenter': 1870, 'xo': 1871, 'hollywood': 1872, 'freshman': 1873, 'ca': 1874, '90': 1875, 'vonshayeb': 1876, 'purple': 1877, 'tweeted': 1878, 'marry': 1879, '128534': 1880, '1043323': 1881, 'michelle': 1882, 'regardless': 1883, 'ctfu': 1884, 'average': 1885, 'tyler': 1886, 'friendly': 1887, 'snapchat': 1888, 'changed': 1889, 'pops': 1890, 'shoulda': 1891, 'border': 1892, 'shawty': 1893, 'emoji': 1894, 'page': 1895, 'toes': 1896, 'nose': 1897, 'wayne': 1898, 'buddy': 1899, 'faced': 1900, 'paint': 1901, 'mix': 1902, 'stealing': 1903, 'hanging': 1904, 'list': 1905, 'sentence': 1906, 'callneeshcakey': 1907, 'wodaeeex3': 1908, 'career': 1909, 'listening': 1910, 'beating': 1911, 'sub': 1912, 'vegas': 1913, 'lyrics': 1914, 'bud': 1915, 'salute': 1916, 'orange': 1917, 'cole': 1918, 'african': 1919, 'pressed': 1920, 'pollo': 1921, 'fish': 1922, 'showing': 1923, 'pie': 1924, 'wanting': 1925, 'shower': 1926, 'royals': 1927, '128170': 1928, 'finish': 1929, 'whoever': 1930, 'twinkie': 1931, 'clear': 1932, 'buying': 1933, 'tryin': 1934, 'tony': 1935, 'tellin': 1936, 'satisfied': 1937, 'charlie4927': 1938, 'generation': 1939, 'honky': 1940, 'closed': 1941, '128109': 1942, 'iubb': 1943, 'waste': 1944, 'matt': 1945, 'blew': 1946, 'zach': 1947, 'chat': 1948, 'caymarieee': 1949, 'luv': 1950, 'dj': 1951, 'nerve': 1952, 'pacdagoat': 1953, 'assholes': 1954, 'thereal': 1955, 'hip': 1956, 'pure': 1957, 'thompson': 1958, 'stevestfler': 1959, 'lately': 1960, 'kingtunchi': 1961, 'barackobama': 1962, 'midnight': 1963, 'classic': 1964, 'certain': 1965, 'woof': 1966, 'stunt': 1967, 'bs': 1968, 'takin': 1969, 'bra': 1970, 'ryan': 1971, 'current': 1972, 'cowboys': 1973, 'johnny': 1974, 'address': 1975, 'bars': 1976, 'ms': 1977, 'remind': 1978, 'six': 1979, 'kidding': 1980, 'prayingforhead': 1981, 'price': 1982, 'ain': 1983, 'appreciate': 1984, 'breaking': 1985, 'scream': 1986, 'scale': 1987, 'stephyrae7': 1988, 'brag': 1989, '128518': 1990, 'captain': 1991, 'impress': 1992, 'shoutout': 1993, 'thecoreyholcomb': 1994, '128686': 1995, 'busy': 1996, 'stole': 1997, 'four': 1998, 'eric': 1999, 'starts': 2000, 'pray': 2001, 'seems': 2002, 'mickey': 2003, \"you'd\": 2004, 'beyonc': 2005, 'pro': 2006, 'ling': 2007, 'duh': 2008, 'players': 2009, 'fr': 2010, '128081': 2011, 'salty': 2012, 'sunday': 2013, 'o3': 2014, 'millz': 2015, 'amazing': 2016, '128184': 2017, 'loose': 2018, 'bang': 2019, '60': 2020, 'pockets': 2021, 'timeline': 2022, 'ashamed': 2023, 'harry': 2024, 'election': 2025, 'cover': 2026, 'absolutely': 2027, 'works': 2028, 'lmfaooo': 2029, 'browns': 2030, 'feelin': 2031, 'hick': 2032, 'league': 2033, 'mi': 2034, 'homies': 2035, 'questions': 2036, 'stomach': 2037, 'smokin': 2038, 'ways': 2039, 'trailer': 2040, 'truly': 2041, '8226': 2042, 'mckinley719': 2043, 'message': 2044, 'goals': 2045, 'final': 2046, 'area': 2047, 'italian': 2048, 'spread': 2049, '127911': 2050, 'whats': 2051, 'breakfast': 2052, 'syria': 2053, 'wana': 2054, 'hun': 2055, 'eatin': 2056, 'issue': 2057, 'lebronvuitton': 2058, 'posting': 2059, 'twerk': 2060, 'realest': 2061, 'corn': 2062, 'pathetic': 2063, 'thursday': 2064, 'sing': 2065, 'thots': 2066, 'upset': 2067, 'knocked': 2068, 'solo': 2069, 'devil': 2070, 'miles': 2071, 'walmart': 2072, 'horny': 2073, 'bees': 2074, 'mets': 2075, 'kush': 2076, 'fashion': 2077, 'sis': 2078, 'possible': 2079, 'church': 2080, 'steveworks4you': 2081, 'leaves': 2082, 'force': 2083, 'shorts': 2084, 'scare': 2085, 'built': 2086, 'relationships': 2087, 'forreal': 2088, 'lesbian': 2089, 'bodies': 2090, 'liked': 2091, 'cotton': 2092, 'socks': 2093, 'assume': 2094, 'broken': 2095, 'exist': 2096, 'pack': 2097, '35': 2098, 'iu': 2099, 'oriental': 2100, 'table': 2101, '8419': 2102, 'afc': 2103, 'secret': 2104, 'absolute': 2105, 'update': 2106, 'tastes': 2107, 'couch': 2108, 'mixtape': 2109, 'statement': 2110, '128049': 2111, 'crew': 2112, 'beyond': 2113, 'holding': 2114, 'bouta': 2115, 'advice': 2116, 'chiefkeef': 2117, 'points': 2118, 'filled': 2119, 'whiny': 2120, 'clicquotsuave': 2121, 'radio': 2122, '19': 2123, 'important': 2124, 'proof': 2125, 'crash': 2126, 'sale': 2127, 'vagina': 2128, 'nipples': 2129, 'dump': 2130, 'adorable': 2131, 'graham': 2132, 'bored': 2133, 'racism': 2134, 'snitch': 2135, 'uce': 2136, 'hashtag': 2137, 'nobeeetch': 2138, 'aw': 2139, 'sucked': 2140, '128569': 2141, 'chanelisabeth': 2142, 'rule': 2143, 'housewife': 2144, 'stopped': 2145, 'doubt': 2146, 'caption': 2147, '2nd': 2148, 'sluts': 2149, 'gots': 2150, 'pom': 2151, 'senior': 2152, 'corny': 2153, 'sleeping': 2154, 'wee': 2155, 'rent': 2156, 'twinkies': 2157, 'bio': 2158, 'gf': 2159, 'marie': 2160, 'capodaasshole': 2161, 'wind': 2162, 'salad': 2163, 'five': 2164, 'locked': 2165, 'americans': 2166, 'breed': 2167, 'fox': 2168, 'mikediggem': 2169, 'pee': 2170, '128298': 2171, 'bucket': 2172, 'cuts': 2173, 'favorites': 2174, 'mfs': 2175, 'boosie': 2176, 'match': 2177, 'cyrus': 2178, 'das': 2179, 'ta': 2180, 'v': 2181, 'aunt': 2182, 'cancer': 2183, 'simply': 2184, 'goofy': 2185, 'hipster': 2186, 'honkey': 2187, 'catching': 2188, 'debate': 2189, 'toe': 2190, 'chulo': 2191, 'lightskin': 2192, '9786': 2193, 'spic': 2194, 'asleep': 2195, 'court': 2196, 'shows': 2197, 'larry': 2198, 'breath': 2199, 'um': 2200, 'pjnet': 2201, '128554': 2202, 'plus': 2203, 'jim': 2204, 'west': 2205, 'girlfriends': 2206, 'fair': 2207, 'legal': 2208, 'fucker': 2209, 'switch': 2210, 'goddamn': 2211, 'texts': 2212, '1575': 2213, '127932': 2214, 'todd': 2215, '6th': 2216, 'tattoos': 2217, 'latina': 2218, 'peter': 2219, 'broads': 2220, 'homework': 2221, 'wall': 2222, 'evil': 2223, 'barely': 2224, 'ap': 2225, 'petty': 2226, 'stalk': 2227, 'unfollowed': 2228, 'bravo': 2229, 'hilarious': 2230, \"they'll\": 2231, 'stone': 2232, 'grand': 2233, 'case': 2234, 'theonemiss': 2235, 'luu': 2236, 'darkskin': 2237, 'juicy': 2238, '128571': 2239, 'lls': 2240, 'learned': 2241, 'killer': 2242, 'david': 2243, 'dicks': 2244, '504': 2245, 'justezzzee': 2246, 'nights': 2247, 'tee': 2248, 'selfie': 2249, 'bless': 2250, 'ferguson': 2251, 'fav': 2252, 'crystal': 2253, 'amos': 2254, 'kinghov1313': 2255, 'worked': 2256, 'loser': 2257, 'fucken': 2258, 'str8': 2259, 'tail': 2260, 'raise': 2261, 'indiana': 2262, 'walks': 2263, 'master': 2264, 'woody': 2265, 'pretend': 2266, 'status': 2267, 'lovin': 2268, 'settle': 2269, 'smash': 2270, 'sweat': 2271, 'jam': 2272, 'wash': 2273, 'dollar': 2274, 'wrote': 2275, 'killin': 2276, 'film': 2277, '128583': 2278, \"where's\": 2279, 'theonlyreed': 2280, 'filthy': 2281, 'cali': 2282, 'porch': 2283, \"'em\": 2284, 'land': 2285, 'goal': 2286, 'cannot': 2287, 'dr': 2288, 'ordered': 2289, 'ova': 2290, 'entertaining': 2291, 'taxstone': 2292, 'whoa': 2293, 'flight': 2294, 'chlldhoodruiner': 2295, 'liveitupjersey': 2296, \"he'll\": 2297, 'mrmooncricket': 2298, 'japanese': 2299, 'og': 2300, 'dswizzle3': 2301, 'flying': 2302, 'gabby': 2303, 'sup': 2304, 'nap': 2305, 'funky': 2306, 'mt': 2307, 'clams': 2308, 'service': 2309, 'fingers': 2310, 'heaven': 2311, 'choice': 2312, 'hbcufessions': 2313, '22': 2314, 'book': 2315, 'ac': 2316, 'ht': 2317, 'apart': 2318, 'nyc': 2319, 'totally': 2320, 'shirts': 2321, 'homemade': 2322, 'min': 2323, 'pistol': 2324, 'disrespectful': 2325, '200': 2326, 'ohh': 2327, 'whine': 2328, 'realized': 2329, 'join': 2330, 'amber': 2331, 'talmbout': 2332, 'burger': 2333, 'reality': 2334, 'including': 2335, 'shorty': 2336, 'quiet': 2337, 'fb': 2338, 'jobs': 2339, 'neither': 2340, 'mrs': 2341, 'lock': 2342, 'governor': 2343, 'reading': 2344, 'tag': 2345, '128141': 2346, 'mary': 2347, 'leggings': 2348, 'gov': 2349, 'ace': 2350, 'pipe': 2351, '128544': 2352, 'sons': 2353, 'curve': 2354, 'douche': 2355, 'torahblaze': 2356, 'staring': 2357, 'mini': 2358, 'plan': 2359, 'reply': 2360, 'kitchen': 2361, '127797': 2362, 'passed': 2363, 'miami': 2364, 'focus': 2365, 'online': 2366, 'burn': 2367, 'admit': 2368, 'tank': 2369, 'yup': 2370, 'hurry': 2371, 'badass': 2372, 'defense': 2373, 'burnt': 2374, 'zone': 2375, 'sneak': 2376, 'fellas': 2377, 'birth': 2378, 'yopapi': 2379, 'glass': 2380, 'mac': 2381, 'foot': 2382, 'shaped': 2383, 'disgusting': 2384, 'needed': 2385, 'vsamone': 2386, 'plz': 2387, 'automatically': 2388, 'government': 2389, 'haters': 2390, 'figure': 2391, 'louievree': 2392, 'flash': 2393, 'background': 2394, 'nicki': 2395, '128546': 2396, 'kensuttling': 2397, 'dc': 2398, '128169': 2399, 'laws': 2400, 'blast': 2401, 'insecure': 2402, 'cards': 2403, 'wears': 2404, 'taco': 2405, 'mimi': 2406, 'phil': 2407, '100d': 2408, 'slopes': 2409, 'fruit': 2410, 'whereyohussleat': 2411, 'wide': 2412, 'eh': 2413, 'boyfriends': 2414, 'muzzie': 2415, 'dragon': 2416, 'finished': 2417, 'knw': 2418, 'hiding': 2419, \"nigga's\": 2420, 'chaysin': 2421, 'spook': 2422, 'hater': 2423, 'ayo': 2424, 'stolen': 2425, 'saved': 2426, 'wine': 2427, 'bush': 2428, 'thou': 2429, 'father': 2430, 'definition': 2431, 'diet': 2432, 'coulda': 2433, 'sweetest': 2434, 'selfish': 2435, 'search': 2436, 'terms': 2437, 'failed': 2438, 'value': 2439, 'deserved': 2440, 'dip': 2441, 'wore': 2442, 'crap': 2443, 'bitching': 2444, 'ike': 2445, 'arrested': 2446, 'stacydmomof5': 2447, 'pattism74': 2448, 'cantucimblonde': 2449, 'kacado': 2450, 'carl': 2451, 'acts': 2452, 'bags': 2453, 'drinks': 2454, 'mature': 2455, 'kudabrazyy': 2456, 'aha': 2457, 'style': 2458, 'spanish': 2459, 'iraq': 2460, 'lotta': 2461, 'paying': 2462, 'homeless': 2463, 'egg': 2464, 'creepy': 2465, 'plano': 2466, 'snacks': 2467, 'successful': 2468, 'bringing': 2469, 'beaners': 2470, 'freaky': 2471, 'ned': 2472, \"someone's\": 2473, 'laid': 2474, 'spit': 2475, 'knees': 2476, 'experience': 2477, '27': 2478, 'wizkhalifa': 2479, 'sink': 2480, 'hopes': 2481, 'gimme': 2482, 'normal': 2483, 'martin': 2484, 'gtfo': 2485, 'trade': 2486, 'alcohol': 2487, 'north': 2488, '128556': 2489, 'ciscoallday': 2490, 'asf': 2491, 'yal': 2492, 'eddie': 2493, 'mistake': 2494, 'gift': 2495, 'lad': 2496, 'ew': 2497, 'poppin': 2498, 'oil': 2499, 'trusted': 2500, 'nike': 2501, 'chicago': 2502, 'phones': 2503, 'aids': 2504, 'jeans': 2505, 'flu': 2506, 'explain': 2507, 'logic': 2508, 'belt': 2509, 'tae': 2510, 'accident': 2511, 'hmu': 2512, 'horrible': 2513, 'ilovebamf': 2514, 'sending': 2515, 'liquor': 2516, 'outchea': 2517, 'magic': 2518, 'fed': 2519, 'along': 2520, 'blonde': 2521, 'upon': 2522, 'thevoiceofmiami': 2523, 'titty': 2524, 'yous': 2525, 'celebrity': 2526, 'contacts': 2527, 'nuttin': 2528, 'sandwich': 2529, 'beard': 2530, 'challenge': 2531, 'teachers': 2532, 'student': 2533, 'tiny': 2534, 'vote5sos': 2535, 'blessed': 2536, 'sorryimalex': 2537, 'san': 2538, 'tattoo': 2539, 'bound': 2540, 'cleveland': 2541, 'q': 2542, 'nowadays': 2543, 'ive': 2544, 'en': 2545, 'candidate': 2546, '3rd': 2547, 'gotten': 2548, 'waking': 2549, 'thotcho': 2550, \"man's\": 2551, 'owe': 2552, 'fugly': 2553, 'kardashian': 2554, 'press': 2555, 'international': 2556, 'flag': 2557, 'concert': 2558, 'shes': 2559, 'alejandro': 2560, 'bihhh': 2561, 'stalking': 2562, 'slavery': 2563, 'bob': 2564, 'celebrate': 2565, 'brand': 2566, 'yelling': 2567, 'visit': 2568, 'system': 2569, 'crows': 2570, 'easier': 2571, 'rid': 2572, 'shine': 2573, 'shitting': 2574, 'bump': 2575, 'kills': 2576, 'spent': 2577, 'ad': 2578, 'maniac': 2579, 'democrat': 2580, 'wise': 2581, 'brooklyn': 2582, 'boi': 2583, 'jumped': 2584, 'oz': 2585, 'tripping': 2586, 'goodnight': 2587, 'whip': 2588, 'character': 2589, 'besides': 2590, 'sisters': 2591, 'yasss': 2592, 'je': 2593, 'kxrxsxb': 2594, 'niqqa': 2595, 'itsnotharold': 2596, 'cuff': 2597, 'note': 2598, 'promise': 2599, 'bright': 2600, 'issues': 2601, 'mannn': 2602, 'jimmy': 2603, 'history': 2604, 'liking': 2605, 'atleast': 2606, 'davis': 2607, 'pre': 2608, 'common': 2609, 'makin': 2610, 'coloured': 2611, 'island': 2612, 'building': 2613, 'honey': 2614, 'mixed': 2615, 'imagine': 2616, 'anywhere': 2617, 'officiallyice': 2618, 'tickets': 2619, 'military': 2620, 'washington': 2621, 'terrorists': 2622, 'surprise': 2623, 'queers': 2624, 'homo': 2625, 'hopefully': 2626, 'belong': 2627, 'eagles': 2628, 'hated': 2629, 'spray': 2630, 'beauty': 2631, 'collegefession': 2632, 'xoxo': 2633, '1stname': 2634, 'moves': 2635, 'arm': 2636, 'anaconda': 2637, 'chain': 2638, 'chief': 2639, 'shall': 2640, 'sudden': 2641, 'staying': 2642, 'glasses': 2643, 'anglo': 2644, 'ultimate': 2645, 'parties': 2646, 'nipple': 2647, '128659': 2648, 'goat': 2649, '1604': 2650, '128680': 2651, 'popped': 2652, 'legend': 2653, 'pepper': 2654, 'earlier': 2655, 'taecocky': 2656, 'juss': 2657, 'bell': 2658, 'title': 2659, 'copy': 2660, 'gorgeous': 2661, 'hype': 2662, 'shooting': 2663, 'slapping': 2664, 'states': 2665, 'prude': 2666, 'pit': 2667, 'brazil': 2668, 'species': 2669, 'aerii': 2670, 'respond': 2671, 'backpage': 2672, 'turtle': 2673, 'jusdahl': 2674, 'zebras': 2675, '1bcarter': 2676, 'broad': 2677, 'boon': 2678, 'naturally': 2679, 'joy': 2680, 'carry': 2681, 'nappy': 2682, 'assuming': 2683, 'sooooo': 2684, 'purse': 2685, 'energy': 2686, 'tear': 2687, 'er': 2688, 'hunglikerobby': 2689, 'revkahjc': 2690, 'mook': 2691, \"'s\": 2692, 'pain': 2693, 'baltimore': 2694, '128539': 2695, 'moaning': 2696, '88': 2697, 'catfish': 2698, 'texted': 2699, 'smith98': 2700, 'dressing': 2701, 'nba': 2702, 'shaved': 2703, 'strap': 2704, 'tacos': 2705, 'smashed': 2706, 'negative': 2707, 'prettykells': 2708, 'detroit': 2709, 'majority': 2710, 'enemy': 2711, 'omfg': 2712, 'kay': 2713, '128145': 2714, 'wigger': 2715, 'bitty': 2716, 'popping': 2717, 'los': 2718, 'wondering': 2719, 'cuffed': 2720, 'mood': 2721, 'minaj': 2722, 'kitty': 2723, 'afford': 2724, 'tour': 2725, 'given': 2726, 'chest': 2727, 'likely': 2728, 'wasp': 2729, '9757': 2730, 'th': 2731, 'murdered': 2732, 'soooo': 2733, 'yaremisxo': 2734, 'dez': 2735, 'emotional': 2736, 'whining': 2737, 'funniest': 2738, 'mark': 2739, 'raped': 2740, 'sumn': 2741, 'lots': 2742, 'dawn': 2743, 'busted': 2744, 'entertain': 2745, 'lmaooooo': 2746, 'saudi': 2747, 'corner': 2748, 'community': 2749, 'hypocrite': 2750, 'strippers': 2751, 'ahead': 2752, 'woohdakidd': 2753, '74': 2754, 'freeze': 2755, 'jungle': 2756, 'wave': 2757, 'graduation': 2758, 'emojis': 2759, 'tie': 2760, 'doc': 2761, 'sack': 2762, 'woulda': 2763, 'fancy': 2764, 'adam': 2765, 'kissing': 2766, 'heartless': 2767, 'uses': 2768, 'josh': 2769, 'yg': 2770, 'zimmerman': 2771, 'runs': 2772, 'hussle': 2773, 'awkward': 2774, 'changing': 2775, 'shits': 2776, 'notoriousbm95': 2777, 'woridstarhlphop': 2778, 'chinks': 2779, 'becomes': 2780, 'ing': 2781, 'residinero': 2782, 'lip': 2783, 'trouble': 2784, 'lmfaooooo': 2785, 'purge': 2786, 'mariners': 2787, 'pills': 2788, 'students': 2789, 'bacon': 2790, 'ross': 2791, 'pocket': 2792, 'dates': 2793, 'oscar': 2794, 'johnson': 2795, '4th': 2796, 'desperate': 2797, 'fries': 2798, 'honest': 2799, 'theses': 2800, 'doo': 2801, 'opening': 2802, 'ended': 2803, 'cheap': 2804, 'crime': 2805, 'thoughts': 2806, 'uk': 2807, 'example': 2808, 'draw': 2809, 'calm': 2810, 'popcorn': 2811, 'virginia': 2812, 'democrats': 2813, 'pillow': 2814, 'ona': 2815, 'gabrielaangela4': 2816, 'muslim': 2817, 'nails': 2818, 'talm': 2819, 'aid': 2820, 'vibe': 2821, 'speech': 2822, 'gezus': 2823, 'bowl': 2824, 'breaks': 2825, 'situation': 2826, 'choose': 2827, 'cuddle': 2828, 'cavs': 2829, 'comments': 2830, 'wus': 2831, 'foul': 2832, 'hittin': 2833, 'des': 2834, 'killallsimps': 2835, 'imtoblame': 2836, 'ground': 2837, 'brady': 2838, 'liberals': 2839, '1043358': 2840, 'ben': 2841, 'enjoying': 2842, 'answers': 2843, 'build': 2844, 'gram': 2845, 'wings': 2846, 'rakwonogod': 2847, 'wrap': 2848, 'thee': 2849, 'interview': 2850, 'nog': 2851, 'tweakin': 2852, 'twats': 2853, 'wetback': 2854, '9986': 2855, 'uniform': 2856, 'sexualgif': 2857, 'hugs': 2858, 'towards': 2859, 'ladykimora': 2860, 'lilreese300': 2861, 'lamar': 2862, 'wasnt': 2863, 'bee': 2864, 'starburst': 2865, 'clock': 2866, 'wilson': 2867, 'ooh': 2868, 'azz': 2869, 'tan': 2870, \"weren't\": 2871, 'sean': 2872, '127944': 2873, 'haircut': 2874, 'wasting': 2875, 'false': 2876, 'virgin': 2877, 'glizzy': 2878, 'matching': 2879, 'slutty': 2880, 'flock': 2881, 'bestfriend': 2882, 'numbers': 2883, 'karmas': 2884, 'addicted': 2885, 'language': 2886, 'yard': 2887, 'cc': 2888, 'attitudes': 2889, 'nor': 2890, 'msnbc': 2891, 'bounce': 2892, 'koleworld4': 2893, 'scum': 2894, 'sober': 2895, '128543': 2896, 'wedding': 2897, 'sniff': 2898, 'starbucks': 2899, 'vice': 2900, '1waynostra': 2901, '128134': 2902, 'girlthatsvonte': 2903, 'material': 2904, 'tharealist': 2905, 'harder': 2906, 'turnt': 2907, 'lilbthebasedgod': 2908, 'hunterbuch66': 2909, 'cle': 2910, 'ivanrabago': 2911, 'abt': 2912, 'mentally': 2913, 'exposed': 2914, 'signs': 2915, 'sosa': 2916, 'bands': 2917, 'joey': 2918, 'filth': 2919, 'dike': 2920, 'conversation': 2921, 'jacket': 2922, 'sammylightning': 2923, 'kincade00': 2924, 'stairs': 2925, 'actual': 2926, '128127': 2927, 'whenever': 2928, 'kicks': 2929, 'fuckthemallcops': 2930, 'jen': 2931, 'british': 2932, 'male': 2933, 'netflix': 2934, 'campaign': 2935, 'jersey': 2936, 'standards': 2937, \"she'd\": 2938, 'trill': 2939, 'contact': 2940, 'blakeanderson21': 2941, 'flawless': 2942, 'mostly': 2943, 'kelly': 2944, 'diss': 2945, 'official': 2946, 'ears': 2947, 'illegal': 2948, 'slay': 2949, 'due': 2950, 'xbox': 2951, 'greatest': 2952, 'cocky': 2953, 'cord': 2954, 'breadtruckkbri': 2955, 'borrow': 2956, 'necessary': 2957, '1041210': 2958, '128663': 2959, '128589': 2960, 'rachel': 2961, 'thugs': 2962, 'bullet': 2963, 'b4': 2964, 'nomo': 2965, 'tone': 2966, 'hole': 2967, 'pimps': 2968, 'decide': 2969, 'vodka': 2970, 'bey': 2971, 'whips': 2972, 'gossip': 2973, 'patrick': 2974, 'silence': 2975, 'scene': 2976, 'books': 2977, 'kisses': 2978, 'steady': 2979, 'private': 2980, 'english': 2981, 'cuffing': 2982, 'deleted': 2983, 'stevestockmantx': 2984, 'leo': 2985, 'falls': 2986, 'longbongchris': 2987, 'crush': 2988, 'above': 2989, 'released': 2990, 'profile': 2991, 'traded': 2992, '45': 2993, 'sea': 2994, 'lawd': 2995, 'obsessed': 2996, 'popular': 2997, 'craziestsex': 2998, 'lived': 2999, 'art': 3000, 'pose': 3001, 'een': 3002, 'htt': 3003, 'fantasy': 3004, 'thoughtsofrandy': 3005, 'revenge': 3006, 'az': 3007, 'twitpic': 3008, 'theres': 3009, 'texans': 3010, 'stands': 3011, 'frfr': 3012, 'matters': 3013, 'splash': 3014, 'gain': 3015, 'elementary': 3016, 'chilling': 3017, 'stevstiffler': 3018, 'bo': 3019, 'suckin': 3020, 'zzachbarness': 3021, 'nathanndevlin': 3022, 'grass': 3023, \"gon'\": 3024, 'stink': 3025, 'thanksgiving': 3026, 'currently': 3027, 'beach': 3028, 'disrespect': 3029, 'coolie': 3030, 'taller': 3031, 'terrible': 3032, 'pm': 3033, 'jo': 3034, 'lvl': 3035, 'morgan': 3036, 'kendrick': 3037, 'roses': 3038, 'pointless': 3039, 'loss': 3040, 'rivers': 3041, 'tonite': 3042, 'response': 3043, 'ih8tvvitterhoes': 3044, \"karma's\": 3045, 'position': 3046, 'guilty': 3047, 'witcha': 3048, 'p2': 3049, 'darknight420': 3050, 'aianhangover': 3051, 'nikki': 3052, 'august': 3053, 'boots': 3054, '128155': 3055, \"could've\": 3056, 'hats': 3057, 'shady': 3058, 'facing': 3059, 'payback': 3060, 'christian': 3061, 'mental': 3062, 'treating': 3063, 'russell': 3064, 'discuss': 3065, 'signed': 3066, 'jaimescudi': 3067, 'worthless': 3068, 'program': 3069, 'yost': 3070, 'agreed': 3071, 'brian': 3072, 'gator': 3073, 'relax': 3074, 'sugar': 3075, 'view': 3076, \"today's\": 3077, 'jew': 3078, 'sky': 3079, 'code': 3080, 'choosin': 3081, '48': 3082, 'bunny': 3083, 'jet': 3084, 'bike': 3085, 'project': 3086, 'morbidmermaid': 3087, 'evanbecker513': 3088, 'ghost': 3089, 'officially': 3090, 'kaeejones': 3091, 'lines': 3092, 'adult': 3093, 'levels': 3094, 'nephew': 3095, 'blacks': 3096, 'disgrace': 3097, 'kirk': 3098, 'benny': 3099, 'miserable': 3100, \"hasn't\": 3101, 'maxin': 3102, 'betha': 3103, 'university': 3104, 'seats': 3105, 'lovely': 3106, 'fail': 3107, 'dfkinlopes': 3108, 'grew': 3109, 'quite': 3110, 'spear': 3111, 'isnt': 3112, 'survive': 3113, 'reaction': 3114, 'flexin': 3115, 'shade': 3116, 'correct': 3117, '2015': 3118, 'continue': 3119, 'loyalty': 3120, 'refer': 3121, 'mann': 3122, 'app': 3123, 'sammi': 3124, 'boyden': 3125, 'third': 3126, 'kayysavage': 3127, 'rollin': 3128, 'tricks': 3129, 'claiming': 3130, 'tweetin': 3131, 'teddy': 3132, 'ugliest': 3133, 'hurts': 3134, 'dallas': 3135, 'beats': 3136, 'watchin': 3137, 'nbs': 3138, 'con': 3139, 'blowing': 3140, 'decision': 3141, 'shame': 3142, 'slowly': 3143, '202sole': 3144, 'victoria': 3145, 'zitlalyl': 3146, 'square': 3147, 'hr': 3148, 'diamond': 3149, 'garrett': 3150, 'winker': 3151, 'bronx': 3152, 'seansteiger31': 3153, 'spoil': 3154, 'bare': 3155, '127936': 3156, 'meaning': 3157, 'ankles': 3158, 'worldstarfunny': 3159, 'mic': 3160, 'arms': 3161, 'stars': 3162, '128181': 3163, 'honkies': 3164, 'nahh': 3165, 'nigglet': 3166, 'twist': 3167, 'lovee': 3168, 'hicks': 3169, 'shopping': 3170, 'fabianmleal': 3171, '127942': 3172, 'norahodonnell': 3173, \"obama's\": 3174, 'workout': 3175, '187xo': 3176, 'truck': 3177, 'anal': 3178, 'mob': 3179, 'clubs': 3180, 'cooler': 3181, 'comfortable': 3182, '128551': 3183, 'insta': 3184, 'cup': 3185, 'hearing': 3186, 'ruined': 3187, 'divamonroe2uhoe': 3188, '65': 3189, 'tim': 3190, 'sensitive': 3191, 'bank': 3192, 'print': 3193, 'meanwhile': 3194, 'stuffed': 3195, 'congrats': 3196, 'ear': 3197, 'tape': 3198, 'stripper': 3199, 'romo': 3200, 'trashy': 3201, 'tee13': 3202, 'softestmuffin': 3203, 'lo': 3204, 'dan': 3205, 'justkarahn': 3206, 'ginasanabria': 3207, 'bieber': 3208, 'sucka': 3209, 'jones': 3210, 'polo': 3211, 'holiday': 3212, 'yelled': 3213, 'pretending': 3214, 'spirit': 3215, 'belly': 3216, 'floyd': 3217, 'express': 3218, 'shiznitt': 3219, 'lied': 3220, 'rejectedpeanutsspecials': 3221, 'subtweeting': 3222, 'dwight': 3223, 'prom': 3224, 'walkin': 3225, 'peyton': 3226, 'awful': 3227, 'un': 3228, 'eyelashes': 3229, 'awe': 3230, 'became': 3231, 'x3': 3232, 'wcvb': 3233, 'cheeks': 3234, 'z0mbiedance': 3235, 'belongs': 3236, 'tweaking': 3237, 'shop': 3238, 'skills': 3239, 'hug': 3240, 'legit': 3241, 'eggplant': 3242, 'ketchup': 3243, 'mines': 3244, 'christ': 3245, 'slim': 3246, 'eva': 3247, 'tryn': 3248, 'muslims': 3249, 'thottie': 3250, 'decent': 3251, 'eyed': 3252, 'stoner': 3253, 'tries': 3254, 'ghettos': 3255, 'flex': 3256, 'souljaboy': 3257, 'info': 3258, 'hovaa': 3259, 'training': 3260, 'lake': 3261, 'subtweet': 3262, 'nowhere': 3263, 'version': 3264, 'mirror': 3265, 'tale': 3266, 'stevie': 3267, 'slaying': 3268, 'taliban': 3269, 'association': 3270, 'fleek': 3271, 'xpriceless': 3272, 'dancing': 3273, 'woods': 3274, 'science': 3275, 'manning': 3276, 'hmm': 3277, 'hotter': 3278, 'morons': 3279, 'deserves': 3280, 'bpu86qzyft': 3281, 'cnn': 3282, 'slam': 3283, '32': 3284, 'steak': 3285, 'kaycimalynn': 3286, 'tu': 3287, 'benz': 3288, 'scandal': 3289, 'resting': 3290, 'earn': 3291, 'unloyal': 3292, 'clutch': 3293, 'center': 3294, 'hillbillies': 3295, 'bitchin': 3296, 'ref': 3297, 'farewellcaptain': 3298, 'member': 3299, 'report': 3300, 'aside': 3301, '127811': 3302, '128226': 3303, 'rhythmixx': 3304, 'costume': 3305, 'angel': 3306, 'pierced': 3307, 'banana': 3308, 'loving': 3309, 'iemonaids': 3310, 'sin': 3311, \"mcdonald's\": 3312, 'nvm': 3313, 'highclasscapri': 3314, 'boxing': 3315, 'cam': 3316, 'gm': 3317, 'cancel': 3318, 'jigg': 3319, '127806': 3320, 'kazatta': 3321, 'log': 3322, 'higher': 3323, 'related': 3324, 'circle': 3325, '127850': 3326, 'pitiful': 3327, 'thedarius': 3328, 'craig': 3329, 'twerkin': 3330, 'target': 3331, 'ahh': 3332, '2k': 3333, 'niglet': 3334, 'marlin': 3335, 'fishyass': 3336, 'picking': 3337, 'treasure': 3338, 'gorilla': 3339, 'flipping': 3340, 'losangeles': 3341, 'iggy': 3342, 'sittin': 3343, 'quality': 3344, 'stretch': 3345, 'savages': 3346, 'sand': 3347, 'frm': 3348, 'designer': 3349, 'buck': 3350, 'ocean': 3351, 'recently': 3352, 'hurting': 3353, 'uber': 3354, 'sweater': 3355, 'mississippi': 3356, 'basedamerican': 3357, 'urban': 3358, 'colors': 3359, 'cleaning': 3360, 'feature': 3361, 'slaves': 3362, 'anchor': 3363, 'intentions': 3364, 'opened': 3365, 'dice': 3366, 'hawk': 3367, 'dutch': 3368, 'saucygyro': 3369, '5th': 3370, 'hook': 3371, 'manners': 3372, 'idoclyfe': 3373, 'actions': 3374, '127882': 3375, 'rangel': 3376, 'tori': 3377, 'suit': 3378, 'leader': 3379, 'pound': 3380, 'chipotle': 3381, 'chances': 3382, 'cheesecake': 3383, 'fired': 3384, 'talkn': 3385, 'brah': 3386, 'henny': 3387, 'jayreidofficial': 3388, 'tend': 3389, 'nomore': 3390, 'ncaa': 3391, 'iammrechols': 3392, 'finding': 3393, 'lover': 3394, 'cure': 3395, 'links': 3396, 'thomas': 3397, 'whores': 3398, 'wasted': 3399, 'sa': 3400, 'bi': 3401, 'yungmigo': 3402, 'sneaky': 3403, 'faster': 3404, 'bottles': 3405, 'thatslutadrian': 3406, 'rounds': 3407, 'macktology101': 3408, 'zoo': 3409, 'reach': 3410, 'gbe300': 3411, 'runnin': 3412, 'ego': 3413, 'range': 3414, '128138': 3415, '00': 3416, 'ight': 3417, 'places': 3418, '1sleepinggiant': 3419, 'laa': 3420, 'lean': 3421, 'ewww': 3422, 'jzolly23': 3423, 'wbeezy': 3424, 'aww': 3425, 'bam': 3426, 'mia': 3427, 'justice': 3428, 'curved': 3429, 'personal': 3430, 'upper': 3431, 'wheeler': 3432, '128516': 3433, 'flye': 3434, 'return': 3435, 'market': 3436, 'wearin': 3437, 'lilmenifee': 3438, 'noticed': 3439, 'image': 3440, 'tuesday': 3441, 'expensive': 3442, 'traitor': 3443, 'lipe': 3444, 'kicking': 3445, 'emotions': 3446, 'gross': 3447, 'ending': 3448, 'laughed': 3449, 'serving': 3450, 'eggs': 3451, '225': 3452, 'bri': 3453, 'wendydavistexas': 3454, 'grind': 3455, 'wouldnt': 3456, '16stanleys': 3457, 'proven': 3458, 'ampowerblog': 3459, 'that1guyjeff': 3460, 'icy': 3461, 'racistnegro69': 3462, 'cinnamon': 3463, 'recent': 3464, 'pigs': 3465, 'company': 3466, 'txt': 3467, 'punching': 3468, 'tylar': 3469, 'rolled': 3470, 'cell': 3471, 'ron': 3472, 'urge': 3473, 'flirting': 3474, 'according': 3475, 'laughin': 3476, 'priceless': 3477, 'perfectly': 3478, '44binko': 3479, '26': 3480, 'argument': 3481, 'types': 3482, 'insult': 3483, 'others': 3484, 'breh': 3485, 'troyal5': 3486, 'gotone': 3487, 'louis': 3488, '9825': 3489, 'chubby': 3490, 'website': 3491, 'ignoring': 3492, 'eaten': 3493, 'ofay': 3494, 'inning': 3495, '12290': 3496, 'critical': 3497, 'oskzilla': 3498, 'spring': 3499, 'pan': 3500, 'flavored': 3501, 'homeboy': 3502, 'curry': 3503, 'wut': 3504, 'franklin': 3505, 'whoop': 3506, 'daniels': 3507, 'doctor': 3508, 'outfit': 3509, '127908': 3510, 'cont': 3511, 'abortion': 3512, 'shiner': 3513, 'yrs': 3514, 'op': 3515, 'di': 3516, 'caring': 3517, 'cardinals': 3518, 'falling': 3519, 'losbeonit': 3520, 'll': 3521, 'heated': 3522, 'ish': 3523, 'hurricane': 3524, 'bandwagon': 3525, 'reathie': 3526, 'cameron': 3527, 'livin': 3528, '11wdnick': 3529, 'bathroom': 3530, 'senorsteez': 3531, 'hire': 3532, 'que': 3533, 'shylock': 3534, '7th': 3535, 'harley': 3536, 'bones': 3537, 'alabama': 3538, 'cross': 3539, \"how's\": 3540, 'bend': 3541, '128152': 3542, 'large': 3543, 'daniel': 3544, 'minded': 3545, 'suicide': 3546, 'francoiskilljoy': 3547, 'discovered': 3548, 'kitten': 3549, 'currensy': 3550, 'spitta': 3551, 'anthony': 3552, 'hs': 3553, 'camp': 3554, 'fixed': 3555, 'atlanta': 3556, 'arguments': 3557, 'waynel': 3558, 'parking': 3559, 'didn': 3560, 'arizona': 3561, 'trippy': 3562, 'closet': 3563, 'computer': 3564, 'refuse': 3565, 'weare': 3566, 'heydenbunsyolo': 3567, 'husband': 3568, 'curse': 3569, 'positive': 3570, 'defending': 3571, 'root': 3572, 'kissed': 3573, 'anthonycumia': 3574, '1stblock': 3575, 'gum': 3576, 'several': 3577, 'dropping': 3578, 'realtalk': 3579, 'watermelon': 3580, 'homegirl': 3581, 'milf': 3582, 'lingerie': 3583, 'plastic': 3584, '5sos': 3585, 'holds': 3586, 'russian': 3587, 'catches': 3588, 'chuck': 3589, 'crossed': 3590, 'convo': 3591, 'restaurant': 3592, 'triple': 3593, 'wage': 3594, 'nickiminaj': 3595, 'faith': 3596, 'cried': 3597, 'studio': 3598, 'cigarette': 3599, 'relate': 3600, 'struggle': 3601, 'rebel': 3602, 'clips': 3603, 'skyereyes': 3604, 'mvp': 3605, 'slave': 3606, 'conservatives': 3607, 'hypocrisy': 3608, 'iggyazalea': 3609, 'hockey': 3610, '41395': 3611, 'frozen': 3612, 'washed': 3613, 'wishy': 3614, 'washy': 3615, 'cutting': 3616, 'throws': 3617, 'femshaveballz': 3618, 'throbbing': 3619, 'drama': 3620, 'drivers': 3621, 'blows': 3622, 'genius': 3623, 'review': 3624, 'fighters': 3625, 'bull': 3626, 'humor': 3627, 'study': 3628, 'yuh': 3629, 'jiggaboo': 3630, 'yoga': 3631, 'whitdawgem': 3632, '64': 3633, 'bills': 3634, 'clothing': 3635, 'hornyfacts': 3636, 'poop': 3637, 'emabiggestfans1d': 3638, 'beatin': 3639, 'mayweather': 3640, 'pill': 3641, 'coast': 3642, 'remembers': 3643, 'pressure': 3644, 'below': 3645, '127825': 3646, 'guard': 3647, 'pulling': 3648, 'charles': 3649, 'rate': 3650, 'brosconfessions': 3651, 'imneverchillin': 3652, 'savanigga': 3653, 'democratic': 3654, 'fu': 3655, 'ripvuhsace': 3656, 'unfollowing': 3657, 'discover': 3658, 'supporters': 3659, 'touchdown': 3660, 'michigan': 3661, '1996': 3662, 'bitchy': 3663, 'motherfucking': 3664, 'sue': 3665, 'pounds': 3666, 'coloreds': 3667, 'ari': 3668, 'gmb': 3669, 'leprechaun': 3670, 'sun': 3671, 'dee': 3672, 'innocent': 3673, 'realist': 3674, 'kfromtheg': 3675, 'fukin': 3676, 'khaki': 3677, 'stood': 3678, 'shades': 3679, 'foxnews': 3680, 'immediately': 3681, 'opportunity': 3682, 'princess': 3683, 'chose': 3684, 'uberfacts': 3685, 'decided': 3686, 'feminist': 3687, 'huffingtonpost': 3688, 'jane': 3689, 'holla': 3690, 'rite': 3691, 'lmaooooooo': 3692, 'cowboy': 3693, 'thekaosyatti': 3694, 'philly': 3695, 'passing': 3696, 'cap': 3697, 'dealing': 3698, 'jjauthor': 3699, 'krislisisms': 3700, 'lyin': 3701, 'mlk': 3702, 'orleans': 3703, 'doors': 3704, 'lauren': 3705, 'breathe': 3706, 'appear': 3707, 'elephant': 3708, 'edgarguillenjr': 3709, 'ridin': 3710, '128582': 3711, 'ainn': 3712, '9829': 3713, 'crybaby': 3714, 'pats': 3715, 'chip': 3716, 'troll': 3717, 'interesting': 3718, 'jews': 3719, 'saints': 3720, 'grandpa': 3721, 'sideline': 3722, 'national': 3723, '95': 3724, 'atl': 3725, 'retweets': 3726, 'whether': 3727, 'delaney': 3728, 'fame': 3729, 'drove': 3730, 'whattheflocka': 3731, 'rare': 3732, 'moor': 3733, 'dumpster': 3734, 'invite': 3735, 'rings': 3736, 'nooo': 3737, 'equal': 3738, 'potatoes': 3739, 'drew': 3740, 'kevinthegee': 3741, \"dm's\": 3742, 'arigold': 3743, 'ahaha': 3744, 'mcm': 3745, 'amanda': 3746, 'balling': 3747, 'wussup': 3748, '128070': 3749, 'lmaoooooo': 3750, 'remix': 3751, 'tags': 3752, 'slippery': 3753, 'cloud': 3754, 'omm': 3755, 'slip': 3756, 'bananas': 3757, 'turntup': 3758, '1sonofyahweh': 3759, 'irish': 3760, 'pool': 3761, 'plane': 3762, 'bully': 3763, \"'cause\": 3764, 'bobbybotsods': 3765, 'uncleunco': 3766, 'ruth': 3767, 'ohio': 3768, 'alotta': 3769, 'mexico': 3770, 'bite': 3771, 'seattle': 3772, 'incredible': 3773, 'murphy': 3774, 'aware': 3775, 'honor': 3776, 'destroying': 3777, 'adolfhibsta': 3778, 'lifeof': 3779, 'umm': 3780, 'comeback': 3781, 'cousins': 3782, 'anxiety': 3783, 'patience': 3784, 'garden': 3785, 'coke': 3786, 'held': 3787, 'threesome': 3788, 'thrown': 3789, 'saiyan': 3790, 'essay': 3791, 'obvious': 3792, 'compared': 3793, 'counts': 3794, 'libra': 3795, 'stacks': 3796, 'mouf': 3797, 'battle': 3798, 'yer': 3799, 'darth': 3800, 'dish': 3801, 'spam': 3802, 'blowin': 3803, 'sport': 3804, 'aux': 3805, 'boats': 3806, 'fits': 3807, 'negros': 3808, 'boom': 3809, 'praise': 3810, 'justinmiculka01': 3811, 'prison': 3812, 'dreads': 3813, 'hg': 3814, 'kmichelle': 3815, 'dies': 3816, 'fellow': 3817, 'bulls': 3818, 'sucker': 3819, 'realniggasherm': 3820, 'heels': 3821, 'nochillpaz': 3822, 'redskin': 3823, 'mouse': 3824, 'otherwise': 3825, 'percent': 3826, '1585': 3827, '400': 3828, 'boat': 3829, '127838': 3830, 'ravens': 3831, 'kincannon': 3832, 'harvard': 3833, 'fabbymichelle': 3834, 'miilkkk': 3835, 'spaghetti': 3836, 'pinto': 3837, 'created': 3838, 'ehh': 3839, 'jrise88': 3840, 'welp': 3841, 'mydickiscalled': 3842, 'smoked': 3843, 'ye': 3844, 'veronicagk': 3845, 'planes': 3846, 'plain': 3847, 'septic': 3848, 'gossipcop': 3849, 'hunt': 3850, 'nt': 3851, 'moron': 3852, 'perry': 3853, 'trey': 3854, 'picked': 3855, 'expected': 3856, 'bastards': 3857, 'blocking': 3858, '2010': 3859, 'ido': 3860, 'possessed': 3861, 'screamed': 3862, 'awards': 3863, 'space': 3864, 'traveling': 3865, 'overrated': 3866, 'practice': 3867, 'models': 3868, 'yokel': 3869, 'damage': 3870, 'divorced': 3871, '128162': 3872, 'elevator': 3873, 'amendment': 3874, 'written': 3875, 'breast': 3876, 'robin': 3877, 'dime': 3878, 'cocaine': 3879, 'flowers': 3880, 'fest': 3881, 'stepping': 3882, 'mk': 3883, 'sends': 3884, 'shave': 3885, 'weapons': 3886, 'nomeek': 3887, 'justmilz': 3888, 'kingl': 3889, 'messages': 3890, 'snatch': 3891, 'interested': 3892, 'quan': 3893, 'bbluedreamm': 3894, 'solid': 3895, 'vertybstard': 3896, 'nite': 3897, 'security': 3898, 'growing': 3899, 'shocked': 3900, 'severely': 3901, 'loaded': 3902, 'lux': 3903, 'murda': 3904, 'figured': 3905, 'rnadjorell': 3906, 'shyt': 3907, 'pisses': 3908, 'biggie': 3909, 'jeezy': 3910, 'hero': 3911, 'tampa': 3912, 'satan': 3913, 'therefore': 3914, 'activities': 3915, 'mustache': 3916, 'metal': 3917, 'viridoesitt': 3918, 'hart': 3919, 'drops': 3920, 'wagggggie': 3921, '2x': 3922, 'chickencoleman': 3923, 'peep': 3924, 'guessed': 3925, 'feds': 3926, 'sec': 3927, 'thejournalist44': 3928, '1000': 3929, 'however': 3930, \"people's\": 3931, 'politics': 3932, 'paradox': 3933, 'stranger': 3934, 'scaring': 3935, 'jerk': 3936, 'autocorrect': 3937, \"ya'll\": 3938, 'nude': 3939, 'lana': 3940, 'tool': 3941, 'dishes': 3942, 'emandm': 3943, 'shititslaura': 3944, 'bake': 3945, '1041196': 3946, 'eevee': 3947, 'unicorncowboy': 3948, 'shitpussiessay': 3949, 'roaches': 3950, 'dig': 3951, 'jackie': 3952, 'drafts': 3953, 'judging': 3954, 'sellout': 3955, 'gorgeouscamry': 3956, 'apologize': 3957, 'papoose': 3958, 'drummerkid0328': 3959, 'china': 3960, 'alike': 3961, '128158': 3962, 'basement': 3963, 'camel': 3964, 'present': 3965, '20tolife': 3966, 'genuine': 3967, 'ck': 3968, 'imo': 3969, 'kashhh': 3970, 'whos': 3971, 'boutta': 3972, 'award': 3973, 'lingo': 3974, 'attempt': 3975, 'madden': 3976, 'smiley': 3977, 'ironsheik': 3978, 'sees': 3979, 'dizzybala': 3980, 'huhwhatsacondom': 3981, 'killa': 3982, \"a's\": 3983, 'horse': 3984, 'manziel': 3985, 'proved': 3986, 'demon': 3987, 'moved': 3988, \"they'd\": 3989, 'motherfucker': 3990, 'heissarcastic': 3991, 'amy': 3992, 'fade': 3993, 'daughters': 3994, 'disgust': 3995, 'fave': 3996, 'uhhh': 3997, 'river': 3998, 'pooted': 3999, 'mail': 4000, 'bonnoxxx': 4001, 'shutup': 4002, 'replied': 4003, 'snoop': 4004, 'bait': 4005, 'release': 4006, 'tumblr': 4007, 'conference': 4008, 'rider': 4009, 'mate': 4010, 'cody': 4011, 'mask': 4012, 'cuauhtli02': 4013, 'greyyygoose': 4014, 'spongebob': 4015, 'nuh': 4016, 'rub': 4017, 'southsidevic': 4018, '05': 4019, 'defend': 4020, 'jaw': 4021, 'pac': 4022, 'reward': 4023, 'als': 4024, 'metroadlib': 4025, 'ctfuu': 4026, 'punched': 4027, 'irri': 4028, 'able': 4029, 'medical': 4030, 'briscoefunnyguy': 4031, 'fml': 4032, 'customer': 4033, 'pride': 4034, 'fever': 4035, 'eachother': 4036, 'understood': 4037, 'humble': 4038, 'grandmas': 4039, 'males': 4040, 'rd': 4041, 'neighbors': 4042, 'benghazi': 4043, 'professor': 4044, 'hoser': 4045, 'rns': 4046, 'ideology': 4047, 'hank': 4048, '128072': 4049, 'bt': 4050, 'chucker': 4051, 'fart': 4052, 'leanandcuisine': 4053, 'alpha': 4054, 'urself': 4055, 'studying': 4056, 'het': 4057, 'karlamorenoo': 4058, 'bruhhh': 4059, 'pirates': 4060, 'cheefpolo': 4061, 'devils': 4062, 'wantin': 4063, 'threats': 4064, 'immature': 4065, 'pity': 4066, 'vick': 4067, 'pepsi': 4068, 'sounded': 4069, 'mee': 4070, 'hotel': 4071, 'operation': 4072, 'maxwell': 4073, 'barrybonds': 4074, 'deny': 4075, 'chaplin': 4076, 'accounts': 4077, 'schuder': 4078, 'march': 4079, 'sticks': 4080, 'paula': 4081, 'gurujeremy': 4082, 'denial': 4083, 'sweating': 4084, 'hardcore': 4085, 'cd': 4086, 'blk': 4087, 'lesson': 4088, 'snack': 4089, 'plate': 4090, 'rally': 4091, 'sh': 4092, 'scientists': 4093, 'gear': 4094, 'doctors': 4095, 'finae': 4096, 'leavin': 4097, 'cheer': 4098, 'gays': 4099, 'britney': 4100, 'teixeira': 4101, 'yaw': 4102, 'basedpaco': 4103, 'nicer': 4104, 'donate': 4105, 'dink': 4106, 'alan': 4107, 'casillas': 4108, 'kyle': 4109, 'xci': 4110, 'epic': 4111, 'lifeasking': 4112, 'speed': 4113, 'rims': 4114, 'fro': 4115, 'fisting': 4116, 'horses': 4117, 'pushing': 4118, 'nevermind': 4119, 'poochda63': 4120, 'nae': 4121, 'rts': 4122, 'yell': 4123, '70': 4124, 'link': 4125, 'dave': 4126, 'artists': 4127, 'shallow': 4128, 'rant': 4129, 'rikki': 4130, 'isell': 4131, 'pussy4ebt': 4132, 'abu': 4133, 'circles': 4134, 'ripped': 4135, 'moose': 4136, 'rockin': 4137, 'turnup': 4138, 'supreme': 4139, 'smells': 4140, 'wh': 4141, 'nowomanisright': 4142, 'periods': 4143, 'repeat': 4144, 'busting': 4145, 'citizens': 4146, 'neighborhood': 4147, 'fuccing': 4148, 'glo': 4149, 'ay': 4150, 'tonyjrodriguez': 4151, 'decisions': 4152, 'wan': 4153, 'willing': 4154, 'latest': 4155, 'jwill252': 4156, 'jenny': 4157, 'mikey': 4158, 'rod': 4159, 'consider': 4160, 'holes': 4161, 'blunts': 4162, 'liveanduncut': 4163, 'barryclerjuste': 4164, 'roasted': 4165, 'wood': 4166, 'traffic': 4167, 'yolo': 4168, 'razor': 4169, 'thunder': 4170, 'twins': 4171, 'superman': 4172, 'causing': 4173, 'demand': 4174, 'cblaze': 4175, '1041185': 4176, '1041240': 4177, 'beast': 4178, 'arrest': 4179, 'kik': 4180, '0utcast': 4181, 'lololol': 4182, 'nino': 4183, 'obviously': 4184, 'dislike': 4185, 'tax': 4186, 'injury': 4187, 'thts': 4188, 'commie': 4189, 'deck': 4190, 'maar': 4191, 'smco71': 4192, 'yas': 4193, 'hispanic': 4194, 'ups': 4195, 'cuffin': 4196, 'mick': 4197, 'ogbeard': 4198, 'ungrateful': 4199, 'inconsiderate': 4200, 'sheswantsthed': 4201, 'htgawm': 4202, 'a2dao': 4203, 'stock': 4204, 'tears': 4205, 'kb': 4206, 'resist': 4207, 'insurance': 4208, 'parent': 4209, 'threat': 4210, 'jbilinovich': 4211, 'keyshawnswag': 4212, 'southern': 4213, 'networks': 4214, '562': 4215, 'article': 4216, 'snacka': 4217, '07cannon': 4218, 'stripping': 4219, 'motherfuckin': 4220, 'quotes': 4221, 'boston': 4222, 'triple6em96': 4223, 'happiness': 4224, '1041191': 4225, 'lmfaooooooo': 4226, 'continues': 4227, '2am': 4228, '128221': 4229, 'mexicans': 4230, 'caroline': 4231, 'waka': 4232, 'letter': 4233, 'illiterate': 4234, 'nature': 4235, 'macklemore': 4236, 'moet': 4237, 'lastnight': 4238, 'steven': 4239, '128068': 4240, 'freedom': 4241, 'kwest': 4242, 'officer': 4243, 'strip': 4244, 'commercial': 4245, 'vic': 4246, 'defeat': 4247, '128542': 4248, 'toilet': 4249, 'flirt': 4250, 'marcus': 4251, 'wigs': 4252, 'tracks': 4253, 'verse': 4254, '28': 4255, 'lito': 4256, '1043215': 4257, 'dems': 4258, 'wa': 4259, 'role': 4260, 'kenny': 4261, 'ga': 4262, 'nikes': 4263, 'google': 4264, 'inlove': 4265, 'soda': 4266, 'holder': 4267, 'mansion': 4268, 'awake': 4269, 'covering': 4270, 'cooked': 4271, 'westsideflee': 4272, 'asap': 4273, 'maury': 4274, 'davethebrave1': 4275, 'smelly': 4276, 'dorsey': 4277, 'fought': 4278, 'cargos': 4279, 'vocativ': 4280, 'silver': 4281, 'knowin': 4282, 'cakes': 4283, 'doll': 4284, 'station': 4285, 'useless': 4286, 'yesss': 4287, 'pineapples': 4288, 'itself': 4289, 'helicopter': 4290, 'fist': 4291, 'luke': 4292, 'allah': 4293, 'jewjitsugrl': 4294, 'payne': 4295, 'rocks': 4296, 'msoltan18': 4297, 'melo': 4298, 'retweeting': 4299, 'crooked': 4300, 'bean': 4301, 'barrel': 4302, 'royal': 4303, 'offer': 4304, 'tayscalf': 4305, 'moneydriven': 4306, 'icbc': 4307, 'european': 4308, 'grave': 4309, 'evolved': 4310, 'vonteeeeee': 4311, 'peckerwood': 4312, 'sore': 4313, 'spelling': 4314, 'plenty': 4315, 'bada': 4316, 'showin': 4317, 'meal': 4318, 'astros': 4319, 'notice': 4320, 'tats': 4321, 'damned': 4322, '128308': 4323, 'wi': 4324, 'apples': 4325, 'highly': 4326, 'valentine': 4327, 'poo': 4328, 'pilot': 4329, 'influence': 4330, 'darealquitam': 4331, 'county': 4332, 'zooyorkinit': 4333, 'schools': 4334, 'voor': 4335, 'rihannahasaids': 4336, 'tn': 4337, 'moral': 4338, 'dolla': 4339, 'smacking': 4340, '2kkz': 4341, 'fil': 4342, 'welfare': 4343, 'effect': 4344, 'enter': 4345, 'fallin': 4346, 'daijahshardaee': 4347, 'phase': 4348, 'dusty': 4349, 'reg': 4350, 'sexualtruth': 4351, 'blackman38tide': 4352, 'kept': 4353, 'skinned': 4354, 'carter': 4355, 'yardie': 4356, 'ie': 4357, 'ccass357': 4358, 'west305': 4359, 'strange': 4360, 'split': 4361, 'humbltonbanks': 4362, 'bbq': 4363, 'manager': 4364, 'cha': 4365, 'weezy': 4366, 'lottery': 4367, 'anytime': 4368, 'allen': 4369, 'havent': 4370, 'claims': 4371, 'guarantee': 4372, 'monster': 4373, 'helped': 4374, '128148': 4375, 'stressed': 4376, 'plot': 4377, 'stupidity': 4378, 'vegetables': 4379, 'eli': 4380, 'itscoleharmon': 4381, 'coconut': 4382, 'spy': 4383, 'slayed': 4384, 'blessjesus': 4385, 'network': 4386, 'artist': 4387, 'lou': 4388, 'fasho': 4389, 'voted': 4390, 'valentines': 4391, 'edges': 4392, 'knocking': 4393, 'mum': 4394, 'brazilian': 4395, 'cups': 4396, 'hill': 4397, 'groupie': 4398, 'bloody': 4399, 'cigarettes': 4400, 'glory': 4401, 'eanahs': 4402, 'foley': 4403, 'ladyvodkax': 4404, 'sip': 4405, 'handsome': 4406, 'spoiled': 4407, 'te': 4408, 'site': 4409, 'vivaalakatyy': 4410, 'trashes': 4411, 'cay': 4412, '05professor': 4413, 'whatchu': 4414, 'staycoolwheels': 4415, 'burning': 4416, 'form': 4417, 'disease': 4418, 'thighs': 4419, 'schedule': 4420, 'offense': 4421, 'ds': 4422, 'sang': 4423, 'shaking': 4424, 'foreal': 4425, 'reported': 4426, 'trolling': 4427, 'barbod6fcb': 4428, 'original': 4429, 'trend': 4430, '128120': 4431, 'sassy': 4432, 'marijuana': 4433, 'considered': 4434, 'soup': 4435, 'mayne': 4436, 'hips': 4437, 'fizz': 4438, 'vision': 4439, 'secrets': 4440, 'elissa': 4441, 'weet': 4442, 'niet': 4443, 'shoe': 4444, 'fix': 4445, 'sells': 4446, 'joint': 4447, 'greg': 4448, 'hoodie': 4449, 'trifling': 4450, 'keeping': 4451, 'lion': 4452, 'clap': 4453, 'jameis': 4454, 'winston': 4455, 'mommy': 4456, 'canadian': 4457, 'columbus': 4458, 'famu': 4459, 'poms': 4460, 'glitteredinpink': 4461, 'ty': 4462, 'oregon': 4463, \"wife's\": 4464, 'grinding': 4465, 'health': 4466, 'redsox': 4467, 'racial': 4468, 'ford': 4469, 'fwm': 4470, 'mega': 4471, 'nra': 4472, 'theyre': 4473, 'golden': 4474, 'viva': 4475, 'forgetting': 4476, 'williams': 4477, 'pow': 4478, 'morals': 4479, 'handed': 4480, 'eve': 4481, 'sob': 4482, '1610': 4483, 'gingerdemoness': 4484, 'string': 4485, 'yass': 4486, 'squak': 4487, 'lads': 4488, 'diving': 4489, 'itsdorry': 4490, 'mcdonalds': 4491, 'delivering': 4492, 'mngop': 4493, 'stribpol': 4494, 'jordans': 4495, 'gtta': 4496, 'beefing': 4497, 'redbone': 4498, 'cray': 4499, 'js': 4500, 'tennessee': 4501, 'gatorade': 4502, 'desi': 4503, 'paki': 4504, 'jon': 4505, 'meeeesh1395': 4506, 'violence': 4507, 'shape': 4508, 'france': 4509, 'farm': 4510, 'gurl': 4511, 'goodmorning': 4512, 'whattheffacts': 4513, 'highest': 4514, 'diesel': 4515, 'yoself': 4516, 'wordtothewise': 4517, 'crust': 4518, 'prophzilla': 4519, 'spice': 4520, 'studs': 4521, 'sirhampton': 4522, 'barack': 4523, \"j's\": 4524, 'per': 4525, 'tastemygayness': 4526, '128142': 4527, 'chucks': 4528, 'basedgod': 4529, 'dtf': 4530, 'jeff': 4531, 'saltine': 4532, 'gullible': 4533, 'sheets': 4534, 'chrisbrown': 4535, 'bby': 4536, 'hw': 4537, 'inbred': 4538, 'hippo': 4539, 'maker': 4540, 'triggaplease': 4541, 'backing': 4542, 'cheering': 4543, 'kings': 4544, 'wax': 4545, 'rules': 4546, 'embarrassing': 4547, 'dedicated': 4548, 'fighter': 4549, 'pal': 4550, 'syndrome': 4551, '180': 4552, 'phat': 4553, 'jigga': 4554, 'stayed': 4555, 'dino': 4556, 'jap': 4557, 'joytooawesome': 4558, 'dreaming': 4559, 'buys': 4560, 'heilsidious': 4561, 'bossman': 4562, 'hired': 4563, 'moe': 4564, 'ops': 4565, 'sized': 4566, 'condoms': 4567, 'excuses': 4568, 'muzzies': 4569, 'cruz': 4570, 'impossible': 4571, 'fuckers': 4572, \"life's\": 4573, 'misses': 4574, 'rico': 4575, 'mykat': 4576, 'meows': 4577, 'wasn': 4578, 'tuna': 4579, 'winner': 4580, 'yeen': 4581, 'freddiegibbs': 4582, 'iron': 4583, 'sour': 4584, 'guitar': 4585, 'deaf': 4586, 'mc': 4587, 'nicole': 4588, 'moma': 4589, 'jessicaaaaa': 4590, 'kattwilliams': 4591, 'hoosiernation': 4592, 'evan': 4593, 'grant': 4594, 'october': 4595, '128110': 4596, 'cease': 4597, 'nascar': 4598, 'therealjb1rd': 4599, 'teaching': 4600, 'djfeds': 4601, 'phishlicia': 4602, 'arianagrande': 4603, '127744': 4604, 'jayy': 4605, 'mitchellll13': 4606, 'h0rheyd': 4607, 'ohlawditsniesha': 4608, 'drawing': 4609, 'peachpapayya': 4610, 'animals': 4611, 'rubbing': 4612, 'pump': 4613, 'pumpkin': 4614, 'sort': 4615, 'woyke': 4616, 'muhfuckas': 4617, 'coat': 4618, 'nina': 4619, 'overall': 4620, 'among': 4621, 'correction': 4622, 'scrappy': 4623, 'ignorance': 4624, 'extreme': 4625, 'mn': 4626, 'papa': 4627, 'playoff': 4628, 'pleased': 4629, \"everybody's\": 4630, 'tops': 4631, 'sike': 4632, 'tanning': 4633, 'breezyfrmdablok': 4634, 'avoid': 4635, 'ant': 4636, 'virginiacity': 4637, 'sleepy': 4638, 'irritated': 4639, 'champion': 4640, 'comparison': 4641, 'blaming': 4642, 'constant': 4643, 'coo': 4644, 'brianlovesass': 4645, 'temporary': 4646, 'rat': 4647, \"bro's\": 4648, 'craving': 4649, 'compete': 4650, 'aliens': 4651, 'ortiz': 4652, '2012': 4653, 'urbanengiish': 4654, 'patron': 4655, 'fully': 4656, 'tables': 4657, 'peanut': 4658, 'seemed': 4659, 'cannon': 4660, 'ti': 4661, 'cheaper': 4662, '191': 4663, 'se': 4664, '241': 4665, '243': 4666, '164': 4667, '176': 4668, 'lmfaoooooooo': 4669, 'cryin': 4670, 'prg': 4671, 'versace': 4672, 'handling': 4673, 'flipped': 4674, 'kingcuh': 4675, 'itsmander': 4676, 'ahhh': 4677, 'jsmart24': 4678, 'blog': 4679, 'classes': 4680, 'armor': 4681, 'thenna': 4682, 'bryant': 4683, 'clingy': 4684, 'available': 4685, 'accidentally': 4686, 'giraffe': 4687, 'bigotry': 4688, 'lower': 4689, 'gangs': 4690, \"you's\": 4691, 'pitcher': 4692, 'trannies': 4693, 'rhodes': 4694, 'kim92493': 4695, 'dipped': 4696, 'vile': 4697, 'dads': 4698, 'pimpin': 4699, 'touched': 4700, 'magssca': 4701, 'gap': 4702, 'confusing': 4703, 'yourdudeferg': 4704, 'migos': 4705, 'samzbikowski': 4706, 'kidd': 4707, 'thousand': 4708, 'tanaka': 4709, 'uninvited': 4710, 'noooo': 4711, 'joeylattime': 4712, 'closer': 4713, 'budahefner74': 4714, 'sweep': 4715, 'vbomb20': 4716, 'flow': 4717, 'butch': 4718, 'nikko': 4719, 'midcityace': 4720, 'lov3tadaisha': 4721, 'iamkrause': 4722, 'shoots': 4723, 'seahawks': 4724, 'robbing': 4725, \"5'10\": 4726, 'tiki': 4727, 'permission': 4728, 'earned': 4729, 'yay': 4730, 'whilst': 4731, 'agency': 4732, 'ian': 4733, 'trent': 4734, '1d': 4735, 'nigg': 4736, 'familiar': 4737, 'tasted': 4738, 'fxck': 4739, 'answering': 4740, 'hearts': 4741, 'dmx': 4742, 'zhugstubble': 4743, 'balboa': 4744, 'admits': 4745, 'drag': 4746, 'cage': 4747, 'feminism': 4748, 'bay': 4749, 'pancakes': 4750, 'crusty': 4751, 'lnsanetweets': 4752, 'sarcastic': 4753, 'talker': 4754, 'tronkitty': 4755, 'keys': 4756, 'emma': 4757, 'bij': 4758, 'neverforget': 4759, 'brainer': 4760, 'fatal': 4761, 'drunksixthgrade': 4762, 'dougie': 4763, 'cubs': 4764, '128572': 4765, 'careful': 4766, 'dramatic': 4767, 'kat': 4768, 'duddy': 4769, 'bucketsmcnasty': 4770, 'queens': 4771, 'booth': 4772, 'paybacks': 4773, 'walker': 4774, '55': 4775, 'younger': 4776, 'attract': 4777, 'una': 4778, 'disrupts': 4779, 'banking': 4780, 'corey': 4781, 'ps4': 4782, 'larsen': 4783, 'montea': 4784, 'sources': 4785, 'fucktravonn': 4786, 'notch': 4787, 'gtf': 4788, 'smd': 4789, 'december': 4790, 'bubbles': 4791, 'thelittlefella': 4792, 'commies': 4793, 'millions': 4794, 'laff': 4795, 'download': 4796, 'bloggerboxing': 4797, 'robertson': 4798, 'rise': 4799, 'busboysandpoets': 4800, 'leak': 4801, 'po': 4802, 'jergucci': 4803, 'flew': 4804, '128683': 4805, 'slbgng': 4806, 'struggles': 4807, 'kkk': 4808, 'attend': 4809, 'commit': 4810, 'blessing': 4811, 'leather': 4812, 'rb': 4813, 'added': 4814, 'greedy': 4815, 'sarah': 4816, '10060': 4817, 'accurate': 4818, 'windows': 4819, 'bash': 4820, 'murda94': 4821, 'breesindacut': 4822, 'contract': 4823, 'email': 4824, 'flesh': 4825, 'comedy': 4826, 'bible': 4827, 'tyleriam': 4828, 'elite': 4829, 'rodriguez5': 4830, 'unattractive': 4831, 'remains': 4832, 'acknowledge': 4833, 'drtruth247': 4834, 'seven': 4835, 'priorities': 4836, 'gta': 4837, 'puke': 4838, 'ounce': 4839, 'bg': 4840, 'merry': 4841, 'soap': 4842, 'sides': 4843, 'golf': 4844, 'silent': 4845, 'cod': 4846, 'wheel': 4847, 'bombs': 4848, 'cherry': 4849, 'surgery': 4850, 'squinty': 4851, 'empty': 4852, 'april': 4853, 'product': 4854, 'trending': 4855, 'charlierose': 4856, 'jdickerson': 4857, 'raping': 4858, 'twitchyteam': 4859, 'reviews': 4860, 'karate': 4861, 'drown': 4862, 'reasons': 4863, 'mermaid': 4864, 'mountain': 4865, 'checking': 4866, 'mustard': 4867, 'oml': 4868, 'distance': 4869, 'frat': 4870, 'flyoutchase': 4871, 'toddie': 4872, 'soplayer': 4873, '128550': 4874, 'stressin': 4875, 'scrolling': 4876, 'include': 4877, 'separate': 4878, 'gut': 4879, 'ag': 4880, 'vets': 4881, 'thatangrynigga': 4882, 'fitness': 4883, 'fines': 4884, 'garza': 4885, 'fishing': 4886, 'che': 4887, 'scandalous': 4888, 'spurs': 4889, 'waffle': 4890, 'riders': 4891, '9th': 4892, 'robert': 4893, 'israel': 4894, 'ook': 4895, '22edham': 4896, 'blades': 4897, 'goth': 4898, \"that'll\": 4899, \"ex's\": 4900, 'conservative': 4901, 'constitution': 4902, 'mile': 4903, 'troops': 4904, 'lostb0y': 4905, 'washing': 4906, 'degrees': 4907, 'mentality': 4908, 'sippin': 4909, 'stiff': 4910, 'supporting': 4911, 'smiles': 4912, '1043351': 4913, 'yaboylilb': 4914, 'pufntrees': 4915, 'fabulous': 4916, 'owns': 4917, 'wishes': 4918, 'keanabermudez': 4919, 'iiak': 4920, 'toss': 4921, 'nikowavy': 4922, 'danny': 4923, 'begin': 4924, 'missouri': 4925, 'quarter': 4926, 'dom': 4927, 'homecoming': 4928, 'reports': 4929, 'clue': 4930, 'draya': 4931, 'sidelines': 4932, 'fights': 4933, 'camo': 4934, 'recognize': 4935, 'writes': 4936, 'plug': 4937, 'nikaaaa3': 4938, 'wells': 4939, 'ariana': 4940, 'verkannt': 4941, 'freemolly': 4942, 'grabs': 4943, 'woo': 4944, 'lrt': 4945, 'blanket': 4946, '128549': 4947, 'beyonce': 4948, 'meeting': 4949, 'gemini': 4950, 'rookie': 4951, 'itty': 4952, 'dryer': 4953, '1x': 4954, 'blakkhoodie': 4955, 'hookers': 4956, 'lifestyle': 4957, 'dril': 4958, 'opens': 4959, 'bat': 4960, 'proving': 4961, 'sherman': 4962, 'midget': 4963, 'deses': 4964, 'ordering': 4965, 'leslieeeixta': 4966, 'shark': 4967, 'cumming': 4968, 'poe': 4969, 'justinbieber': 4970, 'champagne': 4971, 'tyson': 4972, 'alsina': 4973, 'commercials': 4974, 'german': 4975, 'messing': 4976, 'checks': 4977, 'puff': 4978, 'spitting': 4979, 'senate': 4980, 'cooking': 4981, 'papi': 4982, 'hobbies': 4983, 'wheels': 4984, 'evening': 4985, 'cartoon': 4986, 'fathers': 4987, 'ads': 4988, 'nearly': 4989, 'minnesota': 4990, 'backwards': 4991, 'countries': 4992, 'reference': 4993, 'exotic': 4994, 'banned': 4995, 'wright': 4996, 'lolol': 4997, 'begging': 4998, 'fukkntyler': 4999, 'tyrese': 5000, 'injuns': 5001, 'custody': 5002, 've': 5003, 'simplysoulful': 5004, 'cb': 5005, 'ricky': 5006, 'ily': 5007, 'wiggers': 5008, 'charlotte': 5009, 'steezeyflow': 5010, 'idiots': 5011, 'casket': 5012, '127809': 5013, 'showmeatittie': 5014, 'leash': 5015, 'fakingg': 5016, 'naa': 5017, 'cassidy': 5018, 'manly': 5019, '150': 5020, 'vikkinosecrets': 5021, 'nochill': 5022, 'avila': 5023, 'hardly': 5024, 'pies': 5025, 'lettin': 5026, 'passion': 5027, 'vice504fly': 5028, 'pbo': 5029, 'drphildontehue': 5030, \"woman's\": 5031, 'hah': 5032, 'views': 5033, 'viri': 5034, 'shove': 5035, 'renz360': 5036, 'success': 5037, 'wes': 5038, 'ras': 5039, 'bother': 5040, 'joedouglas1': 5041, 'hung': 5042, 'liam': 5043, 'kingjames': 5044, 'vet': 5045, 'koredeb9': 5046, 'campus': 5047, 'pornhub': 5048, 'rem': 5049, 'brianholmes2700': 5050, 'burgerking': 5051, 'bubble': 5052, 'rvm3o': 5053, 'subway': 5054, 'penny': 5055, 'strike': 5056, 'exes': 5057, 'jmuggaaa': 5058, 'denytheprophecy': 5059, 'disgraceful': 5060, 'theory': 5061, 'congratulations': 5062, 'screams': 5063, 'compliment': 5064, 'creeping': 5065, 'voting': 5066, '114': 5067, 'hillary': 5068, 'nowplaying': 5069, 'foolish': 5070, 'frontin': 5071, 'driven': 5072, 'tiffnasty': 5073, 'piersmorgan': 5074, 'itsdesha': 5075, 'jonniesantana': 5076, 'orioles': 5077, 'kayliefarmer': 5078, 'kike': 5079, 'kentucky': 5080, 'champions': 5081, 'iffy': 5082, 'skip': 5083, 'paranoid': 5084, 'rarely': 5085, 'jackets': 5086, 'audience': 5087, 'givin': 5088, 'unions': 5089, 'freaking': 5090, \"c'mon\": 5091, 'trunk': 5092, 'deported': 5093, 'chik': 5094, 'central': 5095, 'desert': 5096, 'perez': 5097, 'sc': 5098, 'pat': 5099, 'screwed': 5100, 'results': 5101, 'ed': 5102, '1041636': 5103, 'albums': 5104, '217emmanuel': 5105, 'yess': 5106, 'ccot': 5107, 'nervous': 5108, 'fuccin': 5109, 'further': 5110, 'palmer': 5111, 'versa': 5112, 'grey': 5113, \"d's\": 5114, 'acceptable': 5115, 'itsfoodporn': 5116, 'sissy': 5117, 'extinct': 5118, 'videos': 5119, 'turkey': 5120, 'ours': 5121, 'pencil': 5122, \"america's\": 5123, 'pickles': 5124, 'expecting': 5125, 'jackass': 5126, 'truenovacane': 5127, 'dumber': 5128, 'touching': 5129, 'machine': 5130, \"o's\": 5131, 'weeknd': 5132, 'von': 5133, 'guinan': 5134, 'hmmm': 5135, 'jakelewis44': 5136, 'goodbye': 5137, 'wifi': 5138, 'losers': 5139, 'pole': 5140, 'probirdrights': 5141, 'choosing': 5142, 'driver': 5143, 'oranges': 5144, 'mj': 5145, 'kylegotjokes': 5146, 'sneakers': 5147, 'condo': 5148, 'piercings': 5149, 'davegetnmoney': 5150, 'flagrant': 5151, 'spiffy': 5152, 'curious': 5153, 'smooth': 5154, 'pleasure': 5155, '128552': 5156, 'fucktyler': 5157, 'guts': 5158, 'northkorea': 5159, 'wyd': 5160, 'carelessone92': 5161, 'bid': 5162, 'outbreak': 5163, 'seth': 5164, 'beers': 5165, 'bats': 5166, 'creep': 5167, 'changes': 5168, 'mashed': 5169, 'favor': 5170, 'hoskinsty96': 5171, 'pc': 5172, 'gmail': 5173, 'pullin': 5174, 'unique': 5175, '128266': 5176, 'bangers': 5177, '00sexilexi00': 5178, 'charlesbwaffle': 5179, 'guidance': 5180, 'ability': 5181, 'santa': 5182, 'fill': 5183, 'mil': 5184, 'ecstasy': 5185, 'tigers': 5186, 'blasting': 5187, 'algebra': 5188, 'lupefiasco': 5189, 'preach': 5190, 'austing1135': 5191, 'prettier': 5192, 'channymaraj': 5193, 'lee': 5194, 'thecrownedhead': 5195, 'riff': 5196, 'fridge': 5197, 'coolest': 5198, 'trigger': 5199, 'swerve': 5200, 'photos': 5201, 'discordianslip': 5202, 'tires': 5203, 'imaginary': 5204, 'aknadnrye': 5205, 'tatted': 5206, 'bumpin': 5207, 'positions': 5208, 'rep': 5209, 'broski5519': 5210, 'jamesokeefeiii': 5211, 'shittin': 5212, '100k': 5213, 'answered': 5214, 'degree': 5215, 'vampires': 5216, 'nfc': 5217, 'realskipbayless': 5218, 'qb': 5219, 'ballin': 5220, 'costumes': 5221, 'dresses': 5222, 'honkie': 5223, '128130': 5224, 'whisper': 5225, 'describe': 5226, 'blaxican': 5227, 'papers': 5228, 'foe': 5229, 'wardrobe': 5230, 'explains': 5231, 'complexmag': 5232, 'tied': 5233, 'property': 5234, 'treatment': 5235, 'openly': 5236, '8th': 5237, 'spooks': 5238, 'askin': 5239, 'faded': 5240, 'feat': 5241, 'rocky': 5242, 'button': 5243, 'zack': 5244, \"gabby's\": 5245, 'propaganda': 5246, 'limit': 5247, 'ann': 5248, 'webad': 5249, 'wepretty': 5250, 'gayvegas': 5251, 'le': 5252, 'tests': 5253, 'memory': 5254, 'moan': 5255, 'spider': 5256, 'thewalkingdead': 5257, 'tips': 5258, 'puppy': 5259, 'liars': 5260, 'corporate': 5261, 'industry': 5262, 'wth': 5263, 'li': 5264, '128153': 5265, 'bricks': 5266, 'mutt': 5267, 'electric': 5268, 'shinsnipes': 5269, 'wars': 5270, 'kinky': 5271, 'hormones': 5272, 'creatures': 5273, 'sizzurp': 5274, 'bootyacid': 5275, 'ilikecats74': 5276, '127922': 5277, 'gehrig': 5278, 'itch': 5279, 'derekisnormal': 5280, 'scarf': 5281, 'mango': 5282, 'waist': 5283, 'aj': 5284, 'swagggg': 5285, 'dayum': 5286, 'hidey': 5287, 'michellemalkin': 5288, 'breitbartnews': 5289, 'drrrruuuu': 5290, '1041219': 5291, 'wipe': 5292, 'pieces': 5293, 'kanyewest': 5294, 'ali': 5295, 'reds': 5296, 'maria': 5297, '34': 5298, 'trusting': 5299, 'searching': 5300, 'yadirasarmiento': 5301, 'screw': 5302, 'capotoheaven': 5303, 'trees': 5304, 'nerdatcooltable': 5305, \"ma'am\": 5306, 'stinky': 5307, 'wannabe': 5308, \"ol'\": 5309, 'cj': 5310, 'prime': 5311, 'ken': 5312, 'bugatti': 5313, 'turd': 5314, 'snoleezey801': 5315, 'tay': 5316, 'basis': 5317, 'worrying': 5318, 'harlem': 5319, 'ae': 5320, 'bizzle': 5321, 'dragonflyjonez': 5322, 'dej': 5323, 'loaf': 5324, 'oops': 5325, 'olive': 5326, 'lilthickgawdess': 5327, \"nothin'\": 5328, 'stressing': 5329, 'gregabbott': 5330, 'legends': 5331, 'heauxmersimpson': 5332, 'chu': 5333, 'hoping': 5334, 'interest': 5335, 'tacky': 5336, 'somehow': 5337, 'subject': 5338, 'smiling': 5339, 'butts': 5340, 'froze': 5341, 'adopted': 5342, 'dumped': 5343, 'latry': 5344, 'dildo': 5345, 'cough': 5346, 'laceeybugg': 5347, 'cost': 5348, 'roach': 5349, 'merica': 5350, 'buddies': 5351, 'warning': 5352, 'closest': 5353, 'filling': 5354, 'workin': 5355, 'spine': 5356, 'pete96': 5357, '69': 5358, 'proseish': 5359, 'wishing': 5360, 'boney': 5361, 'thin': 5362, 'fredosantana300': 5363, 'patty': 5364, 'curly': 5365, 'toys': 5366, 'biden': 5367, 'yezidi': 5368, 'jumps': 5369, 'finishing': 5370, 'rickiroma': 5371, 'stabbed': 5372, 'deeznutsdoe': 5373, 'usher': 5374, 'guala': 5375, 'titles': 5376, 'yaself': 5377, 'fucced': 5378, 'poly': 5379, 'champ': 5380, 'bold': 5381, 'witchu': 5382, 'blacknerdjade': 5383, 'rivera': 5384, 'unemployed': 5385, 'shainarakia': 5386, 'offend': 5387, '1markus': 5388, 'chips': 5389, 'boa': 5390, 'roommate': 5391, 'opinions': 5392, 'load': 5393, 'thursdays': 5394, 'clark6': 5395, 'swim': 5396, 'goldfish': 5397, 'miller': 5398, '47': 5399, 'howard': 5400, \"'bout\": 5401, '127938': 5402, 'suggest': 5403, 'mas': 5404, 'toms': 5405, 'supported': 5406, 'salmon': 5407, 'rough': 5408, 'lex': 5409, 'actor': 5410, 'completely': 5411, 'society': 5412, 'organization': 5413, 'khloe': 5414, '6thgrader': 5415, 'bullets': 5416, 'equality': 5417, 'motherfuckers': 5418, 'insane': 5419, 'brittany': 5420, 'berg': 5421, 'daunfuqwitable1': 5422, 'bjayblast': 5423, \"they've\": 5424, 'teens': 5425, 'nest': 5426, 'bin': 5427, 'rope': 5428, 'polls': 5429, 'steps': 5430, 'mute': 5431, 'liq': 5432, 'igiveemnathan': 5433, 'griffin': 5434, 'bragging': 5435, 'socass': 5436, 'curvables': 5437, 'salt': 5438, 'braids': 5439, 'snail': 5440, 'frankiejgrande': 5441, 'gene': 5442, 'baeelectronica': 5443, 'fitting': 5444, '128167': 5445, 'theseanyv': 5446, 'smdh': 5447, 'ryancommakerry': 5448, 'shawn': 5449, '128163': 5450, 'madison': 5451, 'badd': 5452, '2013': 5453, 'darkie': 5454, 'swing': 5455, 'foodpornsx': 5456, 'nail': 5457, 'dated': 5458, 'invited': 5459, 'knight': 5460, 'slings': 5461, 'arrows': 5462, 'conceited': 5463, 'benefits': 5464, \"we've\": 5465, 'jundishes': 5466, 'dalton': 5467, 'ryann': 5468, 'chevy': 5469, 'floppy': 5470, 'brandy': 5471, 'powers': 5472, 'gospel': 5473, \"trippin'\": 5474, 'handicapped': 5475, 'gates': 5476, 'mass': 5477, 'inbox': 5478, 'bossy': 5479, 'knicks': 5480, 'rag': 5481, 'laying': 5482, 'referring': 5483, 'error': 5484, '127925': 5485, 'marcfoor4': 5486, 'forward': 5487, 'heavy': 5488, 'karlie': 5489, 'kfc': 5490, 'sight': 5491, 'everybodyhatesx': 5492, 'superhero': 5493, 'politicians': 5494, 'chin': 5495, 'rams': 5496, 'fails': 5497, 'teapot': 5498, 'victory': 5499, 'legacy': 5500, 'flaw': 5501, 'abs': 5502, 'pooh': 5503, 'saxon': 5504, 'earrings': 5505, 'fantastic': 5506, 'africa': 5507, 'hacked': 5508, '127796': 5509, 'tat': 5510, 'mccann': 5511, '2pac': 5512, 'miracle': 5513, 'baltsneakershow': 5514, \"day'\": 5515, 'babes': 5516, 'dedication': 5517, 'rayiopez': 5518, 'firemunky': 5519, '1577': 5520, '127807': 5521, '9889': 5522, 'beginning': 5523, 'rug': 5524, 'tmacc': 5525, 'gfg': 5526, 'tryhardsilva': 5527, 'snip': 5528, 'stories': 5529, 'hubby': 5530, '128095': 5531, 'leopard': 5532, 'exit': 5533, 'yellows': 5534, 'romney': 5535, 'packed': 5536, 'witness': 5537, 'eggo': 5538, 'coworker': 5539, 'pancake': 5540, 'ding': 5541, 'davidam': 5542, '127919': 5543, 'craziest': 5544, '728': 5545, 'smarter': 5546, 'powder': 5547, 'crushed': 5548, 'jennahnorberg': 5549, 'tunchi': 5550, 'ogtreez': 5551, 'melted': 5552, 'anastacia': 5553, 'mufucka': 5554, 'nohoesnextdoor': 5555, 'mymangot2jobs': 5556, 'stephen': 5557, 'condom': 5558, 'brenda': 5559, 'gaga': 5560, 'raising': 5561, 'danger': 5562, 'bragadayjah': 5563, 'rko': 5564, 'ikesizzle': 5565, 'songz': 5566, 'photoshop': 5567, '52': 5568, \"world's\": 5569, 'me2': 5570, 'benjibrown1': 5571, 'govt': 5572, 'posing': 5573, 'textin': 5574, 'demons': 5575, 'mrfoolycooly': 5576, 'nawl': 5577, 'acl': 5578, 'thousands': 5579, '2much': 5580, 'andrew': 5581, 'stroke': 5582, 'eternalhbic': 5583, 'wonderful': 5584, '127773': 5585, 'brake': 5586, 'attorney': 5587, 'plmpcess': 5588, 'refs': 5589, 'messed': 5590, 'shaving': 5591, 'spraying': 5592, 'victorsmith90': 5593, 'stud': 5594, 'olivia': 5595, '14th': 5596, 'newly': 5597, 'whom': 5598, 'extremely': 5599, 'hol': 5600, 'liltunechi': 5601, 'rebellious': 5602, 'insults': 5603, 'yuhh': 5604, 'rapperssaid': 5605, 'hunger': 5606, 'jaetips': 5607, 'lessons': 5608, '93': 5609, 'wifeys': 5610, 'sirrocobama': 5611, 'peachdulce': 5612, 'handful': 5613, 'hostess': 5614, 'mcadams': 5615, 'whalelookyhere': 5616, 'vampire': 5617, 'lmfaoooooooooo': 5618, 'hoeing': 5619, 'soldiers': 5620, 'pls': 5621, '03': 5622, 'prince': 5623, 'nikkiconner13': 5624, 'turner': 5625, 'finest': 5626, 'horn': 5627, 'spiritual': 5628, 'tomcatstraight': 5629, 'jamaica': 5630, 'wv': 5631, '127880': 5632, 'permanent': 5633, 'aight': 5634, 'rubyfakhoury': 5635, 'stonisnipezz': 5636, 'nooooo': 5637, 'yee': 5638, 'devilgrimz': 5639, 'cries': 5640, 'pnd': 5641, 'ivan': 5642, 'discipline': 5643, 'chipped': 5644, 'license': 5645, 'promised': 5646, 'tedcruz': 5647, 'popz': 5648, 'aim': 5649, 'rey': 5650, 'tease': 5651, 'datboyrayt': 5652, 'mmm': 5653, 'ciara': 5654, 'trigga': 5655, 'anderson': 5656, 'allow': 5657, 'towel': 5658, 'branninwgl': 5659, 'becoming': 5660, 'hearted': 5661, 'planned': 5662, 'consistent': 5663, 'parker': 5664, 'skating': 5665, 'bradley': 5666, 'hahahahahaha': 5667, 'bleed': 5668, '193': 5669, 'element': 5670, '67': 5671, 'sleepover': 5672, 'hoosierdaddy': 5673, '100granhman': 5674, 'section': 5675, 'theomaxximus': 5676, 'impressed': 5677, 'quickly': 5678, 'november': 5679, 'officialkingdre': 5680, 'soulja': 5681, 'nagging': 5682, 'undercover': 5683, 'moke': 5684, 'emotion': 5685, 'halftime': 5686, 'impression': 5687, 'allergies': 5688, 'personalities': 5689, 'lace': 5690, 'palin': 5691, 'creepgoddess': 5692, 'naezus': 5693, 'episodes': 5694, '232': 5695, 'typing': 5696, 'strangers': 5697, 'hahahah': 5698, 'jemelehill': 5699, 'panthers': 5700, 'perfection': 5701, 'villagebae': 5702, 'lab': 5703, 'jama': 5704, 'shoved': 5705, 'shock': 5706, 'bigsean': 5707, 'bitchdicknigga': 5708, 'reunion': 5709, 'airam12': 5710, 'lutsen': 5711, 'parr': 5712, 'hisorraya': 5713, 'gi': 5714, 'rapist': 5715, 'big10': 5716, 'dismissed': 5717, 'spin': 5718, 'santos': 5719, 'violets': 5720, 'jackson': 5721, 'horror': 5722, 'wyoming': 5723, 'bathing': 5724, 'tub': 5725, 'defendwallst': 5726, 'dirrttyydan': 5727, 'theofficialeg10': 5728, 'slippin': 5729, 'details': 5730, 'mullets': 5731, 'genuinely': 5732, 'ivettebrianna': 5733, 'avis': 5734, 'sentimental': 5735, 'hefner': 5736, 'moyizzy': 5737, 'races': 5738, 'wats': 5739, 'katy': 5740, 'fbi': 5741, 'liidurk': 5742, 'relevant': 5743, 'master11': 5744, '4s': 5745, 'tedofficialpage': 5746, 'shid': 5747, 'criminals': 5748, \"pussy's\": 5749, 'lasted': 5750, 'hidalgoparadise': 5751, 'jt': 5752, 'edouglas528': 5753, 'earl': 5754, 'livibadd88': 5755, 'sandals': 5756, 'uggs': 5757, 'ooo': 5758, 'landed': 5759, 'uglyassayekay': 5760, 'urbasicyabish': 5761, 'brilliant': 5762, 'jetsandaswisher': 5763, 'confront': 5764, 'stoopid': 5765, 'budget': 5766, 'rodriguez': 5767, 'jaylene': 5768, 'prove': 5769, 'grillo1': 5770, 'location': 5771, '44': 5772, 'cheers': 5773, 'covered': 5774, 'blizzylc': 5775, 'friggin': 5776, 'thefakeespn': 5777, 'stat': 5778, 'flames': 5779, 'lipstick': 5780, 'righteous': 5781, 'hiphop': 5782, 'denna': 5783, 'gingerash2013': 5784, 'threatening': 5785, 'nerds': 5786, 'hers': 5787, 'gladvillian': 5788, 'wonders': 5789, 'tropicaldrew': 5790, 'imtrillasfuk': 5791, '128171': 5792, 'physical': 5793, 'frame': 5794, 'ash': 5795, 'rows': 5796, 'religious': 5797, 'squash': 5798, 'donquixtote': 5799, 'aa': 5800, '1wayhustle': 5801, 'tap': 5802, 'tweets2sweet': 5803, 'keitholbermann': 5804, 'georgia': 5805, 'infant': 5806, 'buster': 5807, 'trail': 5808, 'nj': 5809, 'elijah': 5810, 'wo': 5811, 'toeing': 5812, 'floors': 5813, 'loyallamb85': 5814, 'coffincreepxx': 5815, 'sterling': 5816, 'cuhz': 5817, 'sadaclay': 5818, '530': 5819, 'jp': 5820, 'gentleman': 5821, 'neeksbethatguy': 5822, 'tonykivarkis': 5823, 'notevanlarkin': 5824, 'imtoomuch': 5825, 'hustle': 5826, '128010': 5827, 'godsmack': 5828, 'soundcloud': 5829, 'hooping': 5830, 'tj': 5831, 'eaglesnation': 5832, 'gardner': 5833, 'unfortunately': 5834, 'assholeofdayear': 5835, 'irony': 5836, 'justdoit': 5837, 'lmfaoooooo': 5838, 'pubesonfleek': 5839, 'bug': 5840, 'nate': 5841, 'jamesynba': 5842, 'register': 5843, 'thumb': 5844, 'temple': 5845, \"he'd\": 5846, 'niggaimtatted': 5847, 'hut': 5848, 'pussys': 5849, 'crayons': 5850, 'fold': 5851, 'beds': 5852, 'gouache': 5853, 'abuse': 5854, '20k': 5855, 'helping': 5856, 'jazzriley': 5857, 'cheeky': 5858, 'ballout057': 5859, 'associate': 5860, 'gangster': 5861, 'flyest': 5862, 'requirement': 5863, 'dissing': 5864, 'jerrilyn71': 5865, 'ridiculous': 5866, 'gloves': 5867, 'wheres': 5868, 'channing': 5869, 'mythical': 5870, 'muthafuckin': 5871, 'youth': 5872, 'taylorcaniff': 5873, 'messin': 5874, 'gray': 5875, 'basedchasen': 5876, 'hea': 5877, 'ak': 5878, '5am': 5879, 'swagner': 5880, '813': 5881, 'funeral': 5882, 'nurse': 5883, 'deeiiggee': 5884, 'destrothenoble': 5885, 'nekolin': 5886, 'darkies': 5887, 'dgaf': 5888, 'cartel': 5889, 'seniors': 5890, 'hateful': 5891, 'thenudesgod': 5892, 'brings': 5893, 'shmurda': 5894, 'forms': 5895, 'mullet': 5896, 'february': 5897, 'jennings': 5898, 'tonk': 5899, 'slips': 5900, 'riprick': 5901, \"hadn't\": 5902, 'taxi': 5903, 'mfa': 5904, 'feeder': 5905, 'apologizing': 5906, 'nat': 5907, 'cos': 5908, 'nailed': 5909, 'munching': 5910, 'trans': 5911, 'pineda': 5912, '954nole': 5913, 'edwards': 5914, 'cait': 5915, 'thedouch3': 5916, 'designed': 5917, 'hoop': 5918, 'blank': 5919, 'tropicalblanket': 5920, 'active': 5921, 'diversity': 5922, 'hallway': 5923, 'jayjuice22': 5924, 'mallymal': 5925, 'madi': 5926, 'liv': 5927, 'jc': 5928, '1221': 5929, 'koolz': 5930, 'matches': 5931, 'billythathird': 5932, 'fawking': 5933, 'pgammo': 5934, 'greene': 5935, 'speaks': 5936, 'bumped': 5937, 'filed': 5938, 'worker': 5939, 'shook': 5940, 'inspiring': 5941, '1041233': 5942, 'granny': 5943, 'quina': 5944, 'perspective': 5945, 'ivy': 5946, 'economy': 5947, 'youknowmaxwell': 5948, 'miguel': 5949, 'confirmed': 5950, 'zaneisclasker': 5951, 'bidenshairplugs': 5952, 'ipod': 5953, 'announce': 5954, 'authority': 5955, 'iowahawkblog': 5956, 'cripples': 5957, 'trayn1gga': 5958, 'shown': 5959, 'turnin': 5960, 'rylannwilliams': 5961, 'marylene58': 5962, 'angels': 5963, 'justdoitslow': 5964, 'mcdonald': 5965, 'wnba': 5966, 'itunes': 5967, 'catchin': 5968, 'mufuckas': 5969, 'noise': 5970, 'homophobic': 5971, 'anonymous': 5972, 'kenzieblake2015': 5973, 'steelers': 5974, 'sho': 5975, 'spics': 5976, 'islam': 5977, 'events': 5978, 'paradoxicalmike': 5979, 'particular': 5980, 'probs': 5981, 'farewell': 5982, 'danusaur': 5983, 'adidas': 5984, 'slides': 5985, 'zip': 5986, 'shelby': 5987, 'sandwiches': 5988, 'ronandfezsxm': 5989, 'waymoflydenu': 5990, 'pissing': 5991, 'usc': 5992, 'apologies': 5993, 'dattootiegurl': 5994, 'homes': 5995, 'idgt': 5996, 'clowney': 5997, 'worlds': 5998, 'lists': 5999, 'maggie': 6000, 'nerves': 6001, 'rell': 6002, 'produced': 6003, 'crushes': 6004, 'clique': 6005, 'okies': 6006, 'dana': 6007, 'desire': 6008, 'board': 6009, \"5's\": 6010, 'recap': 6011, 'walkoff': 6012, 'pearls': 6013, 'negativity': 6014, 'jordan536633': 6015, 'boobah': 6016, '128272': 6017, 'lane': 6018, 'skill': 6019, 'depends': 6020, 'awwwww': 6021, 'switcharoo': 6022, 'niggga': 6023, 'diary': 6024, 'bond': 6025, 'sav': 6026, 'latinas': 6027, '800': 6028, 'speakers': 6029, 'betting': 6030, 'protests': 6031, 'bombfantasyyy': 6032, 'jamming': 6033, 'luckily': 6034, 'amount': 6035, 'vampirrrra': 6036, 'rambo': 6037, 'mileycyrus': 6038, 'defeating': 6039, 'thincc': 6040, 'imjustceej': 6041, 'lighter': 6042, 'swore': 6043, 'protest': 6044, 'limp': 6045, '43': 6046, 'throats': 6047, 'arabia': 6048, 'horoscope': 6049, 'congress': 6050, 'youngrecklesss': 6051, 'olympics': 6052, 'effort': 6053, 'ke': 6054, 'justcurrieon': 6055, 'adrian1': 6056, 'knowsu': 6057, 'alu': 6058, 'pete': 6059, 'ramona': 6060, 'cramps': 6061, 'therealmfast': 6062, 'credentials': 6063, 'trial': 6064, 'kimw16': 6065, 'kanyebreast': 6066, \"shit's\": 6067, '40oz': 6068, 'longest': 6069, 'bath': 6070, \"ko'd\": 6071, 'dillema': 6072, 'wltrrr': 6073, 'vraag': 6074, 'zich': 6075, 'ge': 6076, 'drfreezeburnn': 6077, 'topics': 6078, 'absurd': 6079, 'leftist': 6080, 'catholic': 6081, 'westt': 6082, 'jamaican': 6083, '128154': 6084, 'shouldnt': 6085, 'fifa': 6086, 'shaelynspacyyy': 6087, 'lure': 6088, 'cucumber': 6089, 'dmv': 6090, 'norris': 6091, 'shoulder': 6092, 'preaching': 6093, 'randomly': 6094, 'ajay': 6095, 'cashier': 6096, 'illest': 6097, 'dragged': 6098, 'threaten': 6099, 'jury': 6100, 'chad': 6101, 'blu': 6102, 'phi': 6103, 'sentedcruz': 6104, 'ham': 6105, 'torijberman': 6106, 'bummy': 6107, 'xp': 6108, 'missbre': 6109, 'noindirect': 6110, 'ont': 6111, 'broski': 6112, 'jstac825': 6113, 'quest': 6114, 'sincerely': 6115, 'forrest': 6116, 'gump': 6117, 'participating': 6118, 'survival': 6119, 'ozzie': 6120, 'antonio': 6121, 'throwin': 6122, 'gifs': 6123, 'necessarily': 6124, 'puss': 6125, 'emails': 6126, 'mufuckin': 6127, 'depot': 6128, 'uhm': 6129, 'weer': 6130, 'lsu': 6131, 'concern': 6132, 'outlook': 6133, 'barber': 6134, 'vroomdet': 6135, 'lyfe': 6136, 'unfaithful': 6137, '37': 6138, 'meaner': 6139, 'rashad': 6140, 'mudda': 6141, 'oak': 6142, 'loveit': 6143, 'mid': 6144, 'destroy': 6145, 'crown': 6146, 'uchiha': 6147, 'sasuke': 6148, 'swings': 6149, 'wrapped': 6150, 'supply': 6151, 'channel': 6152, 'ast': 6153, 'lanahudsonnn': 6154, 'auto': 6155, 'eem': 6156, 'hc': 6157, 'content': 6158, 'cmon': 6159, 'label': 6160, 'risk': 6161, 'pays': 6162, 'iadorewomen': 6163, 'jealousy': 6164, 'leftover': 6165, 'nyjusdntgaf': 6166, 'vivalaquintaa': 6167, 'airsimba9': 6168, 'treslyon': 6169, 'shift': 6170, 'weaves': 6171, 'loll': 6172, 'sedsince81': 6173, 'jesuschrist': 6174, 'bigshaadswerver': 6175, 'culture': 6176, 'violent': 6177, 'dangerous': 6178, 'samromero95': 6179, 'alexadelsanter': 6180, 'harsh': 6181, '2a': 6182, 'creek': 6183, 'massive': 6184, 'vngelinaa': 6185, 'favoriting': 6186, 'sonic': 6187, 'riches': 6188, 'ogmaco': 6189, 'kstar': 6190, '128587': 6191, 'khaled': 6192, 'grande': 6193, 'jennnveee': 6194, 'leotard': 6195, 'panda': 6196, 'panera': 6197, 'sramirez07943': 6198, 'hunter': 6199, 'shik702': 6200, 'halfassed': 6201, 'longlivechris': 6202, 'hungarian': 6203, 'chamberlain': 6204, 'rolls': 6205, 'pledge': 6206, 'ancient': 6207, 'moreno': 6208, 'valley': 6209, 'bol': 6210, 'freddy': 6211, 'snd': 6212, 'unk': 6213, 'mornin': 6214, 'thatupsdude': 6215, 'pecan': 6216, 'darkness': 6217, 'vitamin': 6218, 'weekends': 6219, 'unto': 6220, 'dot': 6221, 'pulls': 6222, 'beware': 6223, 'getmeauxmoney': 6224, 'verseunanswered': 6225, 'disrespected': 6226, 'getcho': 6227, 'necks': 6228, 'feathers': 6229, 'cani': 6230, 'devante': 6231, 'friendship': 6232, 'grease': 6233, 'scalp': 6234, 'equals': 6235, 'needy': 6236, 'noo': 6237, 'qaeda': 6238, 'celebrating': 6239, 'vickybeanmr': 6240, 'vegasqueens': 6241, 'travis': 6242, 'yeiiowbang': 6243, 'dallyjackson': 6244, 'edm': 6245, 'hollyrfisher': 6246, 'goku': 6247, 'billion': 6248, 'toughen': 6249, 'lasts': 6250, 'raider': 6251, 'receive': 6252, 'ceeross': 6253, 'rants': 6254, 'anthem': 6255, 'ratata': 6256, 'blink': 6257, 'illinois': 6258, 'dolo': 6259, 'guilt': 6260, 'ends': 6261, 'fields': 6262, 'pennsylvania': 6263, 'ireland': 6264, 'witcho': 6265, 'trestiffer': 6266, 'manzan0': 6267, 'breathing': 6268, 'saves': 6269, 'elect': 6270, 'nominee': 6271, 'hardy': 6272, 'asl': 6273, 'wal': 6274, 'mart': 6275, 'slits': 6276, 'consist': 6277, 'thad': 6278, 'whiteboicoleman': 6279, 'crossing': 6280, '128700': 6281, 'rack': 6282, 'hardest': 6283, 'whatupag': 6284, 'hopping': 6285, 'lola': 6286, 'jessica': 6287, 'spoke': 6288, 'mutha': 6289, 'carlton': 6290, 'myalynn': 6291, 'versaceezy': 6292, 'bahaha': 6293, 'cheesy': 6294, 'versacesilk': 6295, 'flows': 6296, 'hahah': 6297, 'tons': 6298, 'soundtrack': 6299, 'crisis': 6300, 'opposed': 6301, 'dive': 6302, 'opp': 6303, 'wimp': 6304, 'bruised': 6305, 'jacob': 6306, '3b': 6307, 'roy': 6308, 'committed': 6309, '3d': 6310, 'boxingscene': 6311, '127752': 6312, 'swizzzy': 6313, 'scrawny': 6314, 'eagle': 6315, 'arent': 6316, 'sheesh': 6317, 'daddy17': 6318, 'offered': 6319, 'elizabethbatman': 6320, 'nem': 6321, 'harassing': 6322, 'skinnybee': 6323, 'kimkardashian': 6324, 'chandailbailey': 6325, 'hunturpls': 6326, 'alice': 6327, 'vivala': 6328, 'wig': 6329, 'itsyour': 6330, 'lbs': 6331, 'sweaters': 6332, 'tk': 6333, 'niece': 6334, 'soar': 6335, 'licking': 6336, 'gosling': 6337, 'sequoia': 6338, 'gabris': 6339, 'fenkellpayroll': 6340, 'virgilio': 6341, 'lla': 6342, 'erinscafe': 6343, 'counting': 6344, 'christians': 6345, 'rangers': 6346, 'trinna': 6347, 'karon': 6348, 'realwalliewall': 6349, 'sheet': 6350, 'nag': 6351, 'haired': 6352, 'amo': 6353, 'wr': 6354, 'oakland': 6355, 'announced': 6356, 'anastasiapacana': 6357, 'dammit': 6358, 'polite': 6359, 'bedroom': 6360, 'dogging': 6361, 'norapist': 6362, 'bombed': 6363, \"sheen's\": 6364, 'riri22barbie': 6365, 'jaibrooks1': 6366, 'environment': 6367, 'bracefacee': 6368, 'alicia': 6369, 'windturbines': 6370, 'dab': 6371, 'receipt': 6372, 'cow': 6373, 'rad': 6374, 'hypocritical': 6375, 'embarrassment': 6376, 'pos': 6377, 'attached': 6378, 'boxes': 6379, 'libs': 6380, 'virgo': 6381, 'thatboyace71': 6382, 'correctly': 6383, 'sometime': 6384, 'frank': 6385, 'johnnyfootbali': 6386, 'passes': 6387, 'radical': 6388, 'hogging': 6389, 'nam': 6390, 'tackle': 6391, 'stream': 6392, 'swallow': 6393, 'orders': 6394, 'ankle': 6395, 'rave': 6396, 'emo': 6397, 'dum': 6398, 'descended': 6399, 'outa': 6400, 'lizard': 6401, 'scratch': 6402, 'tutu': 6403, 'dean': 6404, 'jumbotron': 6405, 'spreading': 6406, 'dunked': 6407, 'celebrated': 6408, 'fudge': 6409, 'fit4lifemike': 6410, 'prevent': 6411, 'rubes': 6412, '1069thearrow': 6413, 'r5wuxa9jb6': 6414, 'lgbtq': 6415, 'handy': 6416, 'standard': 6417, 'attacks': 6418, 'daddies': 6419, 'gassing': 6420, 'swept': 6421, 'jenna': 6422, 'rasheed': 6423, 'hav': 6424, 'stopping': 6425, 'mondays': 6426, 'harmon': 6427, '10069': 6428, 'infected': 6429, 'sophomore': 6430, \"everyone's\": 6431, 'compare': 6432, 'juicygenie': 6433, 'poses': 6434, 'canada': 6435, 'paradise': 6436, 'piercing': 6437, 'esn': 6438, 'uncivilized': 6439, 'tattooed': 6440, 'forged': 6441, 'bankrupted': 6442, 'catering': 6443, 'baaaabyshaaaay': 6444, 'yassss': 6445, 'desk': 6446, 'spank': 6447, 'vicd713ent': 6448, 'ne': 6449, 'iamadamg': 6450, '2raw': 6451, 'okc': 6452, 'harden': 6453, 'erikaj00': 6454, 'hazel': 6455, 'uncr4fted': 6456, 'ballet': 6457, 'cruise': 6458, 'owner': 6459, 'littlenamms': 6460, 'dora': 6461, 'backpack': 6462, 'velvethammer': 6463, 'dodged': 6464, 'mis': 6465, 'heavily': 6466, 'gopblackchick': 6467, 'mentioned': 6468, 'cockroaches': 6469, 'cola': 6470, 'world214': 6471, 'slimgirl': 6472, 'probz': 6473, 'firefight': 6474, 'cinco': 6475, 'siri': 6476, 'accent': 6477, 'disney': 6478, 'prayers': 6479, 'lnyhbt': 6480, 'tgdn': 6481, 'humanity': 6482, 'elder': 6483, 'elise': 6484, 'sesh': 6485, 'jacobbbacker': 6486, 'mryungone': 6487, 'hughes': 6488, 'bittytang': 6489, 'svenstweet': 6490, 'religion': 6491, 'sheryl': 6492, '10024': 6493, \"playin'\": 6494, 'kermit': 6495, 'motor': 6496, 'regret': 6497, 'pitbull': 6498, 'normally': 6499, 'vivalakash': 6500, 'salacioussully': 6501, '75': 6502, 'gonn': 6503, '127482': 6504, '127480': 6505, 'primary': 6506, 'khan': 6507, 'snake': 6508, 'brad': 6509, 'funnyjulius': 6510, 'pony': 6511, 'singer': 6512, 'iank12': 6513, 'frohorsemen': 6514, 'outfits': 6515, 'upppppp': 6516, 'curb': 6517, 'carrying': 6518, 'perm': 6519, 'checked': 6520, 'hall': 6521, 'pinche': 6522, 'cornfrmr': 6523, 'goon': 6524, 'kash': 6525, 'stackz': 6526, 'domworldpeace': 6527, 'denkt': 6528, 'wel': 6529, 'vomit': 6530, 'chile': 6531, 'shouts': 6532, 'messi': 6533, 'neymar': 6534, 'dailysexsupply': 6535, 'westside': 6536, 'hooked': 6537, 'potential': 6538, '128178': 6539, 'yoooo': 6540, 'chaldeancutie': 6541, 'rome': 6542, 'strength': 6543, 'banks': 6544, 'header': 6545, 'clinic': 6546, 'lategrllishaa': 6547, 'dissin': 6548, \"china's\": 6549, 'gillis': 6550, 'infidelpamelalc': 6551, 'chasin': 6552, 'yfly23': 6553, 'flexing': 6554, 'chiefs': 6555, 'tiffany': 6556, 'ss': 6557, 'worms': 6558, 'properly': 6559, 'password': 6560, 'tricking': 6561, 'craigslistlove': 6562, 'lent': 6563, 'amandabynes': 6564, 'served': 6565, 'caitnicole3': 6566, 'ruin': 6567, 'whoelsebutkey': 6568, 'whiney': 6569, 'mikeb': 6570, 'jakesiwy': 6571, 'moanin': 6572, \"zone'nn\": 6573, 'dodgers': 6574, 'tyg235': 6575, 'griff': 6576, 'mcnarstle': 6577, 'titan21mtzzz': 6578, 'vegeta': 6579, 'roads': 6580, 'lack': 6581, 'knowledge': 6582, 'twisted': 6583, 'loses': 6584, 'butthurt': 6585, 'firecashman': 6586, 'jumpers': 6587, 'partying': 6588, 'rino': 6589, 'rand': 6590, 'xenoss': 6591, 'stylezkey354': 6592, 'catfished': 6593, 'drippin': 6594, 'grapes': 6595, 'murica': 6596, 'postprettypussy': 6597, 'organic': 6598, 'department': 6599, 'starve': 6600, 'xmas': 6601, 'engagement': 6602, 'knob': 6603, 'titan4ever2488': 6604, 'codes': 6605, 'dodge': 6606, 'weights': 6607, 'thong': 6608, 'seein': 6609, \"5'8\": 6610, 'grows': 6611, 'exposing': 6612, 'embrace': 6613, 'roast': 6614, 'thatboyado': 6615, 'hungrier': 6616, 'banging': 6617, 'drmalvo': 6618, 'fee': 6619, 'styles': 6620, 'soulless': 6621, 'honda': 6622, 'stronger': 6623, 'fists': 6624, 'ronnie': 6625, 'ichiro': 6626, 'felicity182': 6627, 'swishas': 6628, 'erbs': 6629, 'pennythegoat': 6630, 'madamecrystalb': 6631, 'wreck': 6632, 'logo': 6633, 'surfboard101': 6634, 'vomitdatruth': 6635, 'triplecz': 6636, '3g': 6637, 'degenerateartist': 6638, 'rates': 6639, 'rocking': 6640, 'prepared': 6641, 'rotten': 6642, 'expose': 6643, 'curled': 6644, 'mint': 6645, 'agreement': 6646, 'brothas': 6647, 'tinker': 6648, 'soldier': 6649, 'jumper': 6650, 'gung': 6651, 'afghanistan': 6652, 'james3': 6653, 'khalilreed': 6654, 'thoe': 6655, '10052': 6656, 'denver': 6657, 'blazethegreat': 6658, 'jcash': 6659, 'tamm': 6660, 'ibarra95': 6661, 'unfair': 6662, '1corinthians126': 6663, 'hangover': 6664, 'upstate': 6665, 'embarrassed': 6666, 'sneaks': 6667, 'bumblebee': 6668, 'garcialaura': 6669, 'almightyvinny': 6670, 'fightsonvine': 6671, 'stab': 6672, 'prey': 6673, 'candy9': 6674, 'twinkle': 6675, 'sellin': 6676, 'waar': 6677, 'zijn': 6678, 'virgins': 6679, 'bobbybudnic': 6680, 'td': 6681, 'russelltpot': 6682, 'waddup': 6683, 'legendary': 6684, 'cheats': 6685, 'wiggas': 6686, 'whiteangelss84': 6687, 'fri': 6688, 'vuitton': 6689, 'soggy': 6690, 'default': 6691, 'wolf': 6692, 'hash': 6693, 'spark': 6694, 'nyy': 6695, 'reminds': 6696, 'topic': 6697, 'jorge': 6698, 'b0ss561': 6699, 'bugs': 6700, 'slightly': 6701, 'cracked': 6702, 'host': 6703, 'personally': 6704, 'bail': 6705, 'sins': 6706, 'bryan': 6707, 'cornbread': 6708, 'sunshine': 6709, 'rock76': 6710, 'shamargothoes': 6711, 'ruthless': 6712, 'sounding': 6713, 'tweetlikeagiri': 6714, 'stylish': 6715, 'cthagod': 6716, 'budden': 6717, 'madd': 6718, 'wifed': 6719, 'suffer': 6720, 'wbdyllon': 6721, 'femaies': 6722, 'volunteer': 6723, 'tommy': 6724, 'acid': 6725, 'hairs': 6726, '128565': 6727, 'jar': 6728, 'pp': 6729, 'curl': 6730, 'bruises': 6731, 'rays': 6732, 'hobby': 6733, 'ton': 6734, 'err': 6735, 'rolling': 6736, 'calories': 6737, 'funnyorfact': 6738, 'toy': 6739, 'nay': 6740, 'duhh': 6741, 'mellie': 6742, '128124': 6743, 'directv': 6744, 'gangsters': 6745, 'wilde': 6746, 'suspect': 6747, 'perarl': 6748, 'mosoknowso': 6749, 'schulzgrayson': 6750, 'sheseauxsaditty': 6751, '128566': 6752, 'captured': 6753, 'involved': 6754, 'shefeelsd': 6755, 'toppy': 6756, 'manstagram': 6757, 'corners': 6758, 'widd': 6759, 'fronting': 6760, 'hunned': 6761, 'jaydillz': 6762, 'twin': 6763, 'imgorgeous': 6764, 'greek': 6765, 'chili': 6766, 'nobodycare': 6767, 'hiphopisdeaddd': 6768, '98': 6769, 'cambreezy': 6770, 'simonson': 6771, 'thedrunkstory': 6772, 'advanced': 6773, 'cristiannt': 6774, 'leb': 6775, 'wacko': 6776, 'delicious': 6777, 'unnecessary': 6778, 'scarlett': 6779, 'touchin': 6780, 'optimisticdoom': 6781, 'divorce': 6782, 'duty': 6783, '128066': 6784, 'frustrated': 6785, 'innings': 6786, 'bunnies': 6787, 'dontkiara': 6788, 'screenshots': 6789, 'psh': 6790, 'sits': 6791, 'slappin': 6792, 'leads': 6793, 'limited': 6794, 'zoe': 6795, 'letsargueboxing': 6796, 'creator': 6797, 'chvmpagne': 6798, 'grades': 6799, 'onna': 6800, 'thejokerxo': 6801, 'refuses': 6802, 'marathon': 6803, 'peppers': 6804, 'rting': 6805, 'diamonds': 6806, 'forced': 6807, 'foxx': 6808, 'proves': 6809, \"y'all's\": 6810, 'tfeh': 6811, 'microwave': 6812, 'failure': 6813, 'hedge': 6814, 'traphouseeee': 6815, '128547': 6816, 'payin': 6817, 'dylan': 6818, 'convinced': 6819, 'beattyjustin': 6820, 'kyoppcoalition': 6821, 'alien': 6822, 'imnottwitfamous': 6823, \"lil'\": 6824, 'hideous': 6825, 'stain': 6826, 'sharpie': 6827, 'rank': 6828, 'killquana': 6829, 'itskingdee': 6830, 'blacc': 6831, 'wicked': 6832, 'themayormatt': 6833, '85': 6834, 'baller': 6835, 'logan': 6836, 'kris': 6837, 'ward': 6838, 'anotha': 6839, '500': 6840, 'stores': 6841, 'goldnsilvercoin': 6842, 'b0ssladyre': 6843, 'michaelgt03': 6844, 'gal': 6845, 'ariaunadavon': 6846, 'ninja': 6847, 'misplaced': 6848, 'multi': 6849, 'fuss': 6850, '1041243': 6851, 'mills02': 6852, 'renaissancejay': 6853, 'kayla': 6854, 'goatraplines': 6855, 'wale': 6856, 'lava': 6857, 'division': 6858, 'pouring': 6859, 'ayee': 6860, 'rooting': 6861, 'kerry': 6862, 'urkindofbrand': 6863, 'friendzone': 6864, 'sings': 6865, 'maya': 6866, 'muh': 6867, 'gooooo': 6868, 'karlos': 6869, 'budah': 6870, 'therapy': 6871, 'betawards': 6872, 'dripping': 6873, 'henry': 6874, 'flick': 6875, 'motivation': 6876, 'subs': 6877, 'honestyhour': 6878, 'peso': 6879, 'charity': 6880, '58385': 6881, 'asss': 6882, 'fatter': 6883, 'london': 6884, 'salomanizor': 6885, 'hrs': 6886, 'picks': 6887, 'options': 6888, 'multiple': 6889, 'niga': 6890, 'ditch': 6891, 'badge': 6892, 'fewjr': 6893, 'pau': 6894, 'caelang15': 6895, 'bakegriffin': 6896, 'tiemyduragboo': 6897, 'wedont': 6898, 'smokereg': 6899, 'armed': 6900, 'boil': 6901, 'cantbelocal': 6902, 'nonsense': 6903, 'perhaps': 6904, 'ijs': 6905, 'informed': 6906, 'steph': 6907, 'nosey': 6908, 'rj': 6909, 'kwagiheath': 6910, 'considering': 6911, 'lifetime': 6912, 'choking': 6913, 'hiagokoury': 6914, 'macmiller': 6915, 'rappin': 6916, 'haitian': 6917, 'dif': 6918, 'tweekin': 6919, 'squid': 6920, 'meh': 6921, 'shrugs': 6922, 'magical': 6923, 'joel': 6924, 'tru': 6925, 'anisa': 6926, 'brightest': 6927, 'lawyer': 6928, 'clan': 6929, 'process': 6930, 'jets': 6931, 'galaxy': 6932, 'brains': 6933, 'niggaa': 6934, 'wallet': 6935, 'egypt': 6936, 'wade': 6937, 'icarleybby': 6938, 'strait': 6939, 'ayeeee': 6940, 'hobsondarlene': 6941, 'curls': 6942, 'skanks': 6943, 'assault': 6944, 'tomb': 6945, 'kekepalmer': 6946, 'describes': 6947, 'tanks': 6948, 'wccorosen': 6949, 'ratchets': 6950, 'mayer': 6951, 'specifically': 6952, 'neo': 6953, 'verbally': 6954, 'abrupt': 6955, 'cho': 6956, 'pineapple': 6957, 'superior': 6958, 'pr3ttyn33': 6959, 'brendacoyt': 6960, '90s': 6961, '128035': 6962, 'twelve': 6963, 'dea': 6964, 'whale': 6965, \"here's\": 6966, 'soooooo': 6967, \"ho's\": 6968, 'bleacherreport': 6969, 'dash': 6970, 'instant': 6971, 'alert': 6972, 'deeper': 6973, 'dnumberbefore2': 6974, 'whites': 6975, 'rockprincess818': 6976, 'studied': 6977, 'arvindkejriwal': 6978, 'interviews': 6979, 'cbsthismorning': 6980, 'hunnit': 6981, 'stuntin': 6982, 'flooding': 6983, 'aloha': 6984, 'clippers': 6985, 'chuuu': 6986, 'alfredo': 6987, 'funnier': 6988, 'circus': 6989, 'brighterdays': 6990, 'solution': 6991, '128118': 6992, 'wallah': 6993, 'brat': 6994, 'clit': 6995, 'characters': 6996, 'poke': 6997, 'dignifiedpurity': 6998, 'adamschein': 6999, 'eff': 7000, 'wednesday': 7001, 'timbs': 7002, 'customers': 7003, 'connects': 7004, 'afterwards': 7005, 'jada': 7006, 'broward': 7007, 'jennahord12': 7008, 'mrste617': 7009, 'clip': 7010, 'loosing': 7011, 'tnasty4teen': 7012, 'abstractlife': 7013, 'dominiloka': 7014, 'bm': 7015, 'karl': 7016, 'fran': 7017, 'lolz': 7018, 'bong': 7019, 'swearing': 7020, 'tacalifornia': 7021, 'beenbasedb': 7022, '127800': 7023, '9728': 7024, 'billy': 7025, 'function': 7026, 'sotrippywhit': 7027, 'charger': 7028, '1041184': 7029, 'tan1aaa': 7030, \"son's\": 7031, 'lettherainefall': 7032, 'shovel': 7033, 'mediacrooks': 7034, 'signing': 7035, 'wid': 7036, 'mosquito': 7037, 'vontethekidd': 7038, 'troymadden': 7039, 'tiger': 7040, 'education': 7041, 'responses': 7042, 'mud': 7043, 'threatened': 7044, 'bacc': 7045, 'daveswerve': 7046, 'yooo': 7047, 'posts': 7048, 'gilbert': 7049, 'carrot': 7050, 'lifeasbros': 7051, 'dafuq': 7052, 'hilariousbubble': 7053, 'esteem': 7054, 'vivalajuicyy69': 7055, 'ajalapilgrim': 7056, '9899': 7057, 'row': 7058, 'todays': 7059, 'rappersaid': 7060, 'tech': 7061, 'guycodes': 7062, 'hundred': 7063, 'tibaburger': 7064, 'worldcup2014': 7065, 'atblackface': 7066, 'skank': 7067, 'gurley': 7068, 'independent': 7069, 'citizen': 7070, 'nilaja': 7071, 'smokinonkaya': 7072, 'thehighestpeak': 7073, 'dory': 7074, 'ayeee': 7075, 'trolls': 7076, 'foo': 7077, 'salon': 7078, 'peckerwoods': 7079, 'hurricanesensei': 7080, 'apply': 7081, 'raff': 7082, 'allstar': 7083, 'jumping': 7084, 'bridge': 7085, 'thicke': 7086, 'meds': 7087, '127383': 7088, 'koolqueef': 7089, 'afternoon': 7090, 'rumors': 7091, 'plies': 7092, 'rody': 7093, 'ryancruz': 7094, 'nuggets': 7095, 'spacejam': 7096, 'teeg': 7097, 'disrespecting': 7098, 'boot': 7099, 'blankets': 7100, 'pacers': 7101, 'combo': 7102, 'proudly': 7103, 'delusional': 7104, 'murk': 7105, 'represent': 7106, 'featuring': 7107, 'chrisjones': 7108, 'downtown': 7109, 'ou': 7110, 'elected': 7111, 'wesorrjames': 7112, 'lha': 7113, 'youu': 7114, 'lovelifeest13': 7115, 'moses': 7116, 'workers': 7117, 'pokemon': 7118, 'tendencies': 7119, 'whatsoever': 7120, 'nuthin': 7121, 'arlisdonotchill': 7122, 'thatdamnham': 7123, 'relief': 7124, 'nelly': 7125, 'iight': 7126, 'debating': 7127, 'max': 7128, 'memphis': 7129, 'privilege': 7130, 'keef': 7131, 'sweats': 7132, 'headphones': 7133, 'hag': 7134, 'schoolfession': 7135, 'cable': 7136, 'faker': 7137, 'scroll': 7138, 'lobby': 7139, 'nerissaloren': 7140, 'reggie': 7141, 'spineless': 7142, 'lewis': 7143, 'shutcho': 7144, 'lib': 7145, 'mains': 7146, 'gutter': 7147, 'follower': 7148, 'fvck': 7149, \"'the\": 7150, 'poonsoaker': 7151, 'tmz': 7152, 'chalmers': 7153, 'jaime': 7154, 'itsnotadam': 7155, 'grammar': 7156, 'imik': 7157, 'bothered': 7158, 'publicly': 7159, 'sweetheart': 7160, 'keeper': 7161, 'minds': 7162, 'bigboybeezy': 7163, 'projects': 7164, 'election2014': 7165, 'significant': 7166, 'mutual': 7167, 'concede': 7168, 'celebrities': 7169, 'wing': 7170, 'theirs': 7171, 'hunters': 7172, 'x2': 7173, 'wiggy': 7174, 'uhh': 7175, 'nile': 7176, 'san9993': 7177, 'jazminejanay': 7178, 'nashville': 7179, 'hangin': 7180, 'squirting': 7181, 'members': 7182, \"o'clock\": 7183, 'wink': 7184, 'geno': 7185, 'recruiting': 7186, 'sagittarius': 7187, '10am': 7188, 'palomino52': 7189, 'omar': 7190, 'minimum': 7191, 'sat': 7192, 'scrap': 7193, 'choices': 7194, 'skirt': 7195, 'ineyealee': 7196, 'jake': 7197, 'otha': 7198, 'trevaughnlg': 7199, 'itssongoku': 7200, 'compliments': 7201, 'buzz': 7202, 'lemon': 7203, 'ayy': 7204, '128037': 7205, 'prefer': 7206, 'diponline': 7207, 'islamic': 7208, 'although': 7209, 'dictionary': 7210, 'somwhere': 7211, 'bbc': 7212, 'starving': 7213, \"'distribution\": 7214, 'n9exnuvhks': 7215, 'inner': 7216, 'treshon': 7217, 'scrooge': 7218, 'labor': 7219, 'wb': 7220, 'luvv': 7221, '3x': 7222, 'rishaawilliams': 7223, 'rachh': 7224, 'noneshallpass97': 7225, 'darealalexinla': 7226, 'precious': 7227, 'robinson': 7228, 'cano': 7229, 'bleach': 7230, 'slipping': 7231, 'loco': 7232, 'baes': 7233, 'helmets': 7234, 'harm': 7235, \"where'd\": 7236, '1605': 7237, 'hopper': 7238, 'lisforlex': 7239, 'mattress': 7240, 'concerned': 7241, 'wisdom': 7242, 'turndowndre': 7243, 'kushdaddycorr': 7244, 'anger': 7245, 'vineforthebyrd': 7246, 'cutest': 7247, 'bella': 7248, 'dread': 7249, 'bullying': 7250, 'darwinjames125': 7251, 'licker': 7252, 'martinez': 7253, 'hopeful': 7254, 'brutal': 7255, \"b's\": 7256, 'derekjeter': 7257, 'paris': 7258, 'cssalazar15': 7259, 'trainers': 7260, 'easiest': 7261, 'net': 7262, 'cases': 7263, 'peeps': 7264, 'doesn': 7265, 'quanb24': 7266, 'oddbeast': 7267, 'former': 7268, '128123': 7269, 'parts': 7270, 'ita': 7271, '128029': 7272, 'stash': 7273, 'habits': 7274, 'ihop': 7275, 'ummm': 7276, 'eater': 7277, 'lynn': 7278, 'judges': 7279, 'sorrynotsorry': 7280, 'mommajjojo': 7281, 'louisville': 7282, 'rpopbox': 7283, 'grrizziy': 7284, 'ri': 7285, 'motha': 7286, 'vibing': 7287, 'btown': 7288, 'witout': 7289, 'racists': 7290, \"must've\": 7291, 'heh': 7292, 'bich': 7293, 'progress': 7294, 'muscle': 7295, 'sock': 7296, 'std': 7297, 'lap': 7298, 'poster': 7299, 'jewish': 7300, 'tampon': 7301, 'mothers': 7302, 'poll': 7303, 'hunting': 7304, 'watchlikeaking': 7305, 'zayzillaaa': 7306, 'va': 7307, 'wojtata': 7308, 'niggerfag': 7309, 'escort': 7310, 'therealalonig': 7311, 'awill': 7312, '2reckless': 7313, 'salsa': 7314, 'jimnorton': 7315, 'appointment': 7316, 'pacer': 7317, 'ahora': 7318, 'womans': 7319, '1nonlydirtymike': 7320, 'goldiemack': 7321, 'laundry': 7322, 'marco': 7323, 'tetherball': 7324, 'scores': 7325, 'creating': 7326, 'victim': 7327, 'mommie': 7328, '128043': 7329, 'replies': 7330, 'dame': 7331, 'downstairs': 7332, 'cheatin': 7333, 'radar': 7334, 'anime': 7335, 'click': 7336, 'hogg': 7337, 'follows': 7338, '10004': 7339, 'skit': 7340, 'dv': 7341, 'remain': 7342, 'lmaoooooooo': 7343, \"'blue\": 7344, \"clues'\": 7345, 'interference': 7346, '127813': 7347, 'liberal1': 7348, 'whitecholo23': 7349, 'voices': 7350, 'shrek': 7351, 'jpantsdotcom': 7352, 'realtony': 7353, 'naaaaa': 7354, 'proofread': 7355, 'edited': 7356, 'congratulate': 7357, 'mixing': 7358, '365': 7359, 'keisha': 7360, 'cinegram': 7361, 'narnfraud': 7362, 'choppa': 7363, 'blackjeezuss': 7364, 'empirestatebldg': 7365, 'ballot': 7366, 'meowmariss': 7367, \"daddy's\": 7368, 'employees': 7369, 'maxnostalgia': 7370, 'counter': 7371, 'becky': 7372, 'rezlife3': 7373, 'stunk': 7374, 'rickyngan': 7375, 'casey': 7376, 'matthews': 7377, 'ruffled': 7378, 'combination': 7379, 'bestie': 7380, 'borderline': 7381, 'rust': 7382, 'farrakhan': 7383, 'thetime': 7384, 'fightin': 7385, 'slayerific13': 7386, 'skelton': 7387, 'daisymcgarr': 7388, 'bb': 7389, 'asia': 7390, 'stewart': 7391, 'alcoholism': 7392, 'meeeeee': 7393, 'unprotected': 7394, 'chaber': 7395, 'cushite': 7396, 'keyshia': 7397, 'twitta': 7398, 'michaeljhudson': 7399, 'bicep': 7400, 'simons': 7401, 'ski': 7402, 'wohs': 7403, 'serv': 7404, 'specially': 7405, 'azalea': 7406, 'talleywacker': 7407, 'riri': 7408, 'layin': 7409, 'england': 7410, 'strawberry': 7411, 'sliced': 7412, 'powerful': 7413, 'duckin': 7414, 'fope': 7415, 'partake': 7416, 'leprechauns': 7417, 'slowdollaz': 7418, 'jamal': 7419, 'ode': 7420, 'dani': 7421, 'watdafckyoumean': 7422, 'cappdaprez': 7423, 'bent': 7424, 'chirping': 7425, 'stockboy': 7426, 'flaky': 7427, 'honesty': 7428, 'unpredictable': 7429, 'celestial': 7430, 'lcistj': 7431, 'dial': 7432, 'kaysavage': 7433, 'bowbow': 7434, 'cindielu': 7435, 'chosen': 7436, 'mlg': 7437, 'eastsidekris': 7438, 'mtv': 7439, 'stonyxx': 7440, 'thatirvnation': 7441, 'av': 7442, 'trimmed': 7443, 'csgo': 7444, 'uncleruckus': 7445, 'bd': 7446, 'ihavesex': 7447, 'russ': 7448, 'porno': 7449, 'greinke': 7450, 'kylie': 7451, 'stalkers': 7452, 'avatar': 7453, 'fuckas': 7454, 'deon1093': 7455, 'chi': 7456, 'cuttin': 7457, 'jacobryanbruhn': 7458, 'isellgreencards': 7459, 'sombody': 7460, 'charlesbarrkley': 7461, 'reserved': 7462, \"'stable\": 7463, 'enduring': 7464, \"units'\": 7465, 'julia': 7466, 'fisher': 7467, 'malikhasanimani': 7468, 'tagged': 7469, 'tragic': 7470, 'communion': 7471, 'awhile': 7472, 'oldyoung': 7473, 'pleases': 7474, 'attacking': 7475, 'abc': 7476, 'buff': 7477, 'brooooo': 7478, 'nigel': 7479, 'fukk': 7480, 'cnt': 7481, 'diplo': 7482, 'midy': 7483, 'datniggavegeta': 7484, 'fuckn': 7485, 'uboyrock17': 7486, 'asiahh': 7487, 'buses': 7488, 'deejay138': 7489, 'scarry': 7490, 'snowboarding': 7491, \"hoe's\": 7492, 'toeknee2gx': 7493, 'crop': 7494, 'underage': 7495, 'netherlands': 7496, 'groove': 7497, 'greaser': 7498, '305': 7499, 'cityboicoop': 7500, 'trained': 7501, 'digo13nieto': 7502, 'fry': 7503, 'seaside': 7504, 'thequeensoxill': 7505, 'russia': 7506, 'speculation': 7507, \"macy's\": 7508, 'capcom': 7509, '21st': 7510, 'hooks': 7511, 'youngricooo': 7512, 'tommycollins': 7513, 'wearerichnow': 7514, 'buffalobills': 7515, 'eburnns': 7516, 'worthy': 7517, 'fliirtnextdoor': 7518, 'happiest': 7519, 'biking': 7520, 'boomin': 7521, 'cgoodwoman': 7522, 'jim777': 7523, 'eyebrow': 7524, 'idolize': 7525, 'hentai': 7526, 'cruz1': 7527, 'candle': 7528, 'waits': 7529, 'asha': 7530, 'thegamecubeguy': 7531, 'classroom': 7532, 'peteyhoti': 7533, 'ogflash': 7534, 'sexiest': 7535, 'servers': 7536, 'larger': 7537, 'escorts': 7538, 'ted': 7539, 'fufu': 7540, 'mount': 7541, 'peaceful': 7542, 'notes': 7543, 'chasebasford': 7544, 'twaynesback': 7545, 'bites': 7546, 'robisrandomaf': 7547, 'cocked': 7548, 'exchange': 7549, 'chanelpuke': 7550, 'sarcasmleague': 7551, 'bdoe': 7552, 'zombies': 7553, 'barney': 7554, 'blockhead': 7555, 'sincerelytumblr': 7556, 'thecockiestman': 7557, 'coins': 7558, 'mme1636': 7559, 'andrea': 7560, 'michele': 7561, 'whopper': 7562, 'fanny': 7563, 'norrisdagod': 7564, 'lbum': 7565, 'fotos': 7566, 'mocking': 7567, 'coochie': 7568, 'bromine': 7569, 'holmium': 7570, 'burg': 7571, 'supports': 7572, 'hippiescrub': 7573, 'almartinez32': 7574, 'blatantly': 7575, 'curriculum': 7576, 'chrus': 7577, 'chu22': 7578, 'ryanriehle': 7579, 'chan': 7580, 'itsdc': 7581, 'juanndacut': 7582, 'mission': 7583, 'worries': 7584, 'commonwhitegiri': 7585, 'prettycha305': 7586, 'solely': 7587, 'scumbag': 7588, 'mugshot': 7589, 'mixtapes': 7590, 'juvenile': 7591, 'puppies': 7592, 'weis': 7593, 'disturbing': 7594, 'pusha': 7595, 'princessfaggit': 7596, 'technically': 7597, 'booties': 7598, 'halo': 7599, 'cassiusclay': 7600, 'youngtravo': 7601, 'badly': 7602, 'nicolejeanxoxo': 7603, 'djchubbeswagg': 7604, 'towherever': 7605, 'themav41': 7606, 'dumbest': 7607, 'trix2343': 7608, 'fergusonriot': 7609, 'knowww': 7610, 'righttt': 7611, 'lmfaooooooooooo': 7612, 'ruby': 7613, 'bunga': 7614, 'marker': 7615, 'latte': 7616, 'del': 7617, 'useful': 7618, 'clay': 7619, 'hammer': 7620, 'doddynyc': 7621, '8am': 7622, 'biology': 7623, 'trannys': 7624, 'hanger': 7625, 'df': 7626, 'amen': 7627, 'stupider': 7628, 'fin': 7629, 'severe': 7630, 'lesbians': 7631, 'yeet': 7632, 'mnleg': 7633, 'jessycaa': 7634, 'rubi': 7635, 'height': 7636, 'heavensway': 7637, 'juniormaye8': 7638, 'rev': 7639, 'dumbbbb': 7640, 'trippen': 7641, \"frontin'\": 7642, 'charlies': 7643, 'artistdata': 7644, '2oy4': 7645, 'bniceloco': 7646, 'waive': 7647, '29': 7648, 'fuckem': 7649, 'infested': 7650, 'hills': 7651, 'crawl': 7652, 'chilltweetss': 7653, 'hoosierstate': 7654, 'contest': 7655, 'marshallsots': 7656, 'theshardyrebel': 7657, 'coupe': 7658, 'versacecum': 7659, 'dearionbasedgod': 7660, 'cheefqueef': 7661, 'slop': 7662, 'brina': 7663, '127801': 7664, 'traveled': 7665, 'reflex': 7666, 'violet': 7667, 'berry': 7668, 'reverendgrim': 7669, 'titsofanarchy': 7670, 'pecker': 7671, 'buggin': 7672, 'wisconsin': 7673, 'maine': 7674, 'dakota': 7675, 'arizzleindacut': 7676, 'sphere': 7677, 'yourselves': 7678, 'promises': 7679, 'hawn24': 7680, 'bonus': 7681, 'hendrixoxo': 7682, 'spare': 7683, 'violetannt': 7684, 'hannahkubiak': 7685, 'beeasyjrizzy': 7686, 'sidewalk': 7687, 'laurenjauregui': 7688, 'eastern': 7689, 'praying': 7690, 'quathegreat': 7691, 'interests': 7692, 'theshugavery': 7693, 'travelnevada': 7694, 'jockey': 7695, 'deymouth': 7696, 'grindin': 7697, 'emmalouisasuttl': 7698, 'coors': 7699, 'yuck': 7700, 'thereval': 7701, 'baiting': 7702, 'retirement': 7703, 'ramboutit': 7704, 'tab': 7705, 'gmel': 7706, 'stones': 7707, 'limewire': 7708, 'latrobemark': 7709, '108': 7710, 'fucktards': 7711, 'gtfoh': 7712, '162': 7713, 'minimal': 7714, 'mcflurry': 7715, '15k': 7716, 'mack': 7717, 'flaws': 7718, 'ewwwwwww': 7719, 'bebalizz123': 7720, 'bagging': 7721, 'diapers': 7722, 'concussion': 7723, 'papaspaid': 7724, '1deep': 7725, 'williard': 7726, 'dempster': 7727, \"bruno's\": 7728, 'lucci': 7729, 'dpc': 7730, 'vinyl': 7731, 'trucker': 7732, 'adrienbroner': 7733, 'oldpics': 7734, 'cbfollowheidi': 7735, 'collegehumor': 7736, 'daishialopez': 7737, 'functioning': 7738, 'develop': 7739, 'illness': 7740, 'bijoudulcet': 7741, 'nbc': 7742, 'shikeattike': 7743, 'munchies': 7744, 'wintertime': 7745, 'nickname': 7746, 'tator': 7747, 'agent': 7748, 'latin': 7749, 'mcs': 7750, 'llama': 7751, 'ni': 7752, 'gino': 7753, 'sloth': 7754, 'trinidad': 7755, 'pus': 7756, 'cocksucker': 7757, 'bindle13': 7758, 'screamin': 7759, 'refusing': 7760, 'rot': 7761, 'canyon': 7762, 'dummies': 7763, 'allfucksgiven': 7764, 'forkicks': 7765, 'kuwait': 7766, 'erotic': 7767, 'combing': 7768, 'simmons': 7769, 'jonez': 7770, 'tuku': 7771, 'fckd': 7772, 'truuu': 7773, 'evby': 7774, 'sake': 7775, 'ban': 7776, 'politicsofamy': 7777, 'grudges': 7778, 'marshmallows': 7779, 'hows': 7780, 'drank': 7781, 'adults': 7782, 'tonybthrz': 7783, 'caked': 7784, 'flood': 7785, 'crave': 7786, 'ashleyypat17': 7787, 'ayyyyy': 7788, 'lakee': 7789, 'tire': 7790, 'lax': 7791, 'meijer': 7792, 'anderson4': 7793, 'niglets': 7794, 'dealers': 7795, 'americanwhitehm': 7796, 'dealt': 7797, 'cyber': 7798, 'realnoth': 7799, 'thareal': 7800, 'patpatbush': 7801, 'receipts': 7802, 'firebird': 7803, 'goons': 7804, 'mattyfatass': 7805, 'jukejuke': 7806, 'lance': 7807, 'zekncashe': 7808, 'serenity': 7809, 'sesame': 7810, 'jessecanon': 7811, 'zramsin': 7812, 'naramy22': 7813, 'facetime': 7814, 'umightnotgetin': 7815, 'beerandtacos': 7816, 'wethelastonesleft': 7817, 'cussing': 7818, 'datjollygirl': 7819, 'thetrackmamba': 7820, 'heather': 7821, 'direct': 7822, 'yaboyskeete': 7823, 'ponk': 7824, 'tide': 7825, 'requires': 7826, 'drakes': 7827, '0hallis0n': 7828, 'gab': 7829, 'treagle05': 7830, 'tomcat': 7831, 'pussybeezus': 7832, 'myfriendsrap': 7833, 'eattin': 7834, 'hoosier': 7835, 'fightciubs': 7836, 'resisting': 7837, 'movement': 7838, 'minor': 7839, 'publicity': 7840, 'bleedgreen': 7841, '127829': 7842, 'cheesus85': 7843, \"ysrah'al\": 7844, 'ariennajanee': 7845, 'jennifer': 7846, 'interrogation': 7847, 'amnesty': 7848, 'therealjohn': 7849, 'dangitstiff': 7850, 'lmaooooooooooo': 7851, 'depressing': 7852, 'darrion': 7853, 'meghan': 7854, 'goods': 7855, 'possibility': 7856, 'prime13': 7857, 'hello14': 7858, '63': 7859, 'subhuman': 7860, '99car': 7861, 'pornos': 7862, 'reich': 7863, 'milesm': 7864, 'courts': 7865, 'mofos': 7866, 'shaq': 7867, 'extensions': 7868, 'hugging': 7869, 'kj': 7870, 'objective': 7871, 'phrase': 7872, 'brandeis': 7873, \"o'\": 7874, 'connor': 7875, 'alfieheydrich': 7876, 'nicest': 7877, 'greet': 7878, 'wahine': 7879, 'nine': 7880, 'donkey': 7881, 'vip': 7882, '128058': 7883, 'melisa': 7884, 'scoring': 7885, 'alyssa': 7886, 'smokey': 7887, 'packs': 7888, 'chains': 7889, 'digiflorals': 7890, 'nightpurrowler': 7891, 'victoriakuhlman': 7892, 'kors': 7893, 'tristine214': 7894, 'juices': 7895, 'melts': 7896, 'fluffy': 7897, 'tatum': 7898, 'wizard': 7899, 'alleyesonkie': 7900, 'madea': 7901, 'kiara': 7902, 'peddoc63': 7903, 'carminezozzora': 7904, 'hauntingilinsky': 7905, 'gah': 7906, 'batch': 7907, 'calistrong': 7908, 'issa': 7909, 'diego': 7910, 'aplmom': 7911, 'betrayed': 7912, 'drier': 7913, 'hearings': 7914, 'pennant': 7915, 'hangout': 7916, 'alexyvette8': 7917, 'latifah': 7918, 'weaker': 7919, 'boyy': 7920, 'richardson': 7921, 'sponsor': 7922, 'elilake': 7923, 'scratches': 7924, 'lays': 7925, \"buddy's\": 7926, 'kate': 7927, 'ittt': 7928, 'profit': 7929, 'np': 7930, 'neighbor': 7931, 'dickhead': 7932, 'oprahsidenigga': 7933, 'crank': 7934, 'freebies': 7935, 'boxers': 7936, 'obey': 7937, 'sets': 7938, 'yooocaly': 7939, 'italy': 7940, 'stomp': 7941, 'christymack': 7942, 'chested': 7943, 'bokoo': 7944, 'streams': 7945, 'acaciabrinley': 7946, 'itzbreak': 7947, 'drose': 7948, 'disappeared': 7949, 'darealdip': 7950, 'retired': 7951, 'natalieschroyer': 7952, 'vacay': 7953, 'komt': 7954, 'rachiesoul': 7955, 'patterns': 7956, 'lightskins': 7957, 'refund': 7958, 'raging': 7959, 'rescue': 7960, 'homohulk': 7961, 'sadity': 7962, 'lawless': 7963, 'abby': 7964, 'kitt': 7965, 'montrell': 7966, 'admitted': 7967, 'allergic': 7968, 'niagra': 7969, 'bron': 7970, 'kelseyyvirginia': 7971, 'elbow': 7972, 'stare': 7973, 'submissive': 7974, 'amateur': 7975, 'imhis': 7976, 'assignment': 7977, 'sidbury': 7978, 'flooded': 7979, 'savannaasanford': 7980, 'wesdurham': 7981, 'exploding': 7982, 'ducks': 7983, 'mccoy': 7984, '128114': 7985, 'teasing': 7986, 'gobble': 7987, 'thomasnye1': 7988, 'danced': 7989, 'bums': 7990, 'uoeno': 7991, 'tootsies': 7992, 'rbigwood': 7993, 'spilt': 7994, 'simonsamuels': 7995, 'shmoney': 7996, 'menshumor': 7997, 'senatorreid': 7998, 'smoothly': 7999, 'dimi': 8000, 'artale': 8001, 'ginzos': 8002, 'emergen': 8003, 'gaggin': 8004, 'laggin': 8005, 'debt': 8006, 'harassment': 8007, '128150': 8008, 'blaxxxican': 8009, 'invest': 8010, 'cosby': 8011, 'entitled': 8012, 'esj': 8013, 'leon': 8014, 'noah': 8015, 'instructions': 8016, 'jj': 8017, 'rotate': 8018, 'rehab': 8019, 'saramariewelch': 8020, 'omfgarsal': 8021, 'gen': 8022, 'layer': 8023, 'trojan': 8024, 'computerworld': 8025, 'guardianinternational': 8026, 'poli': 8027, 'celeb': 8028, 'jakes': 8029, 'tobinsupreme': 8030, 'me1st': 8031, 'circulating': 8032, 'tono': 8033, 'khalifa': 8034, 'ewwww': 8035, 'abou': 8036, '1969': 8037, 'mantle': 8038, 'alammus': 8039, 'carolina': 8040, 'aluminum': 8041, 'whistle': 8042, 'woodchuck20': 8043, 'ritz': 8044, 'gpa': 8045, 'painful': 8046, 'truths': 8047, 'script': 8048, 'seagull': 8049, 'bball': 8050, 'determined': 8051, 'condescending': 8052, 'cotto': 8053, '4l': 8054, 'payment': 8055, 'illegally': 8056, 'shops': 8057, 'erry': 8058, 'perform': 8059, 'faux': 8060, 'pundits': 8061, 'molester': 8062, 'darling': 8063, 'rutgers': 8064, 'brittneycordova': 8065, 'rhyme': 8066, 'tune': 8067, 'mayaangeloufro': 8068, 'serve': 8069, 'correctional': 8070, 'arroz': 8071, 'vaginal': 8072, 'forth': 8073, 'nolove': 8074, 'moreloud': 8075, 'grip': 8076, 'kd': 8077, '128137': 8078, 'tweeter': 8079, 'mitchvorce': 8080, 'sword': 8081, 'squeal': 8082, 'pearl': 8083, 'dancehall': 8084, 'frog': 8085, 'tattedpapichulo': 8086, 'elijahfnbaby': 8087, 'thanggg': 8088, 'idavey': 8089, 'pointing': 8090, 'motion': 8091, 'heyrmbr': 8092, 'neiltyson': 8093, 'kp': 8094, 'verizon': 8095, 'nugget69': 8096, 'ohvixen': 8097, 'logged': 8098, 'yeaa': 8099, 'jazzy': 8100, 'mrfourtwentyy': 8101, 'fckn': 8102, 'lawyers': 8103, 'semi': 8104, 'quantryse': 8105, 'hockeypuck55': 8106, 'quicc': 8107, 'expression': 8108, 'inkmyholebody': 8109, 'volunteers': 8110, 'typed': 8111, 'twan': 8112, 'victorb123': 8113, 'khshan': 8114, 'jeanne': 8115, 'alarm': 8116, 'description': 8117, 'gunnplay': 8118, 'masturbated': 8119, 'timtebow': 8120, 'fergie': 8121, 'deze': 8122, 'vigxrarts': 8123, 'headlock': 8124, 'ebony': 8125, 'ladygaga': 8126, 'katrina': 8127, 'bans': 8128, 'shawnirwin9': 8129, 'niggadoe': 8130, '1johnnycinco': 8131, 'trillvanillaaa': 8132, 'unbelievable': 8133, 'refused': 8134, 'punishment': 8135, 'dpalmyx3': 8136, 'lmfaooooooooo': 8137, 'bussin': 8138, 'theejenbunny': 8139, 'carxlito': 8140, 'irs': 8141, 'backup': 8142, 'fills': 8143, 'sunsentinel': 8144, 'endorses': 8145, 'floridians': 8146, 'ericwithahotdad': 8147, 'peters': 8148, 'skinnysowhat': 8149, 'herd': 8150, \"dm'd\": 8151, 'emanuel': 8152, 'wasps': 8153, 'breaded': 8154, 'splurge': 8155, 'chava': 8156, 'gyro': 8157, 'meeeee': 8158, 'ionn': 8159, 'jdellasperanza': 8160, 'thedrugtribe': 8161, 'charlieecai': 8162, 'whigger': 8163, 'codeword': 8164, 'fuq': 8165, 'actress': 8166, 'existence': 8167, 'angela': 8168, 'lat': 8169, 'childhood': 8170, 'swift': 8171, 'roid': 8172, 'graceishuman': 8173, 'mr1738': 8174, 'buttons': 8175, 'life12': 8176, 'inthekcmix': 8177, 'acted': 8178, 'ranae': 8179, 'lovelyatotheb': 8180, \"gator's\": 8181, 'briannalovesa': 8182, 'carried': 8183, 'protected': 8184, 'excessive': 8185, 'spreads': 8186, 'domestic': 8187, 'fashoo': 8188, '127876': 8189, '9924': 8190, '127877': 8191, 'yungtweetgod': 8192, 'politico': 8193, 'reelected': 8194, 'flgov': 8195, 'ciddyp': 8196, 'chloeonvine': 8197, 'ygjohnston': 8198, 'growup': 8199, 'wishin': 8200, 'remove': 8201, 'weakkkkkkkk': 8202, 'philadelphia': 8203, 'performance': 8204, 'stonethegreat23': 8205, 'ashy': 8206, 'footed': 8207, 'nigerian': 8208, 'burned': 8209, 'kalikushdoll': 8210, 'azlanthegoat': 8211, 'visits': 8212, \"'my\": 8213, 'tread': 8214, 'pin': 8215, 'planning': 8216, 'controlling': 8217, 'peen': 8218, 'goodness': 8219, 'gatsby': 8220, 'christooshifty': 8221, 'peeped': 8222, 'sticker': 8223, 'cheek': 8224, '128574': 8225, 'flats': 8226, 'polosi': 8227, 'nifo': 8228, '3some': 8229, 'betysweetcocker': 8230, 'carroll': 8231, 'lined': 8232, 'deliaparedez': 8233, 'pilar': 8234, 'keepitplur': 8235, 'approve': 8236, 'recorded': 8237, 'coop': 8238, 'jaaaaaade': 8239, 'mamas': 8240, 'terrorism': 8241, 'charges': 8242, 'hose': 8243, 'toddgunter': 8244, 'manages': 8245, 'inspirational': 8246, 'moemartin44': 8247, 'classics': 8248, 'drrake': 8249, 'terrified': 8250, 'promote': 8251, 'andreaa': 8252, 'olvera': 8253, 'therealtenski': 8254, 'nl': 8255, 'passenger': 8256, 'dun': 8257, 'bois': 8258, 'bucks': 8259, 'dong': 8260, 'gz': 8261, 'trayvon': 8262, 'remy': 8263, 'gwbush': 8264, 'homosexual': 8265, 'wrestlers': 8266, 'yardies': 8267, 'loan': 8268, 'gna': 8269, 'kappa': 8270, 'aquafina': 8271, 'joined': 8272, 'mushroom': 8273, 'amor': 8274, 'fir': 8275, 'switched': 8276, 'biatch': 8277, 'gaping': 8278, 'nhalegood': 8279, 'osvaldovause': 8280, 'lynch': 8281, 'hatred': 8282, 'flowing': 8283, 'papigabs': 8284, 'shmalec13': 8285, '128531': 8286, 'freegeezy17': 8287, 'densonkeith': 8288, 'johnfkennedy': 8289, 'conditions': 8290, 'harold': 8291, 'weep': 8292, 'stoney': 8293, 'counties': 8294, 'adambaldwin': 8295, 'possession': 8296, 'ceiling': 8297, 'affection': 8298, 'hugh': 8299, 'dablueprint': 8300, 'denzy': 8301, 'giannenichole': 8302, 'willie': 8303, 'uniforms': 8304, 'creepgawddess': 8305, 'lube': 8306, 'roots': 8307, '1000gramsbee': 8308, 'mclaffytaffy': 8309, 'pittsburgh': 8310, 'h8uhoes': 8311, 'lexy': 8312, 'versacetweetgod': 8313, 'memorial': 8314, 'offseason': 8315, 'corpse': 8316, 'shimmy': 8317, 'lyssa': 8318, 'indigenouspeoplesday': 8319, 'nomg': 8320, 'nigguhs': 8321, 'bung': 8322, 'spew': 8323, 'waahh': 8324, 'unhealthy': 8325, 'guevara': 8326, 'cooper': 8327, 'whens': 8328, 'fireworks': 8329, 'stubborn': 8330, 'headband': 8331, 'buss': 8332, 'strangepintura': 8333, 'yapping': 8334, 'thuggin': 8335, 'courtesy': 8336, 'happyhour': 8337, 'sodmg': 8338, 'worstraplyrlcs': 8339, 'slammed': 8340, 'birdie': 8341, 'kuczaaak': 8342, 'asapyams': 8343, 'creolebabybritt': 8344, 'tre': 8345, 'xianilee': 8346, 'randle': 8347, 'pushin': 8348, 'circumstances': 8349, 'react': 8350, 'powdered': 8351, 'cliff': 8352, 'sales': 8353, 'skyrocketed': 8354, 'fallen': 8355, 'contrary': 8356, 'cork': 8357, 'ashley': 8358, 'fatherless': 8359, 'shootas': 8360, 'diploma': 8361, 'freecev': 8362, 'raven': 8363, 'makenzies': 8364, 'microphone': 8365, 'exact': 8366, \"em'\": 8367, 'commonblackgiri': 8368, 'numba': 8369, 'bruda': 8370, 'aydontjudgeme': 8371, 'angelsamuels': 8372, 'logical': 8373, 'mocha': 8374, 'yaya': 8375, 'releases': 8376, 'theejustinholt': 8377, 'soho': 8378, 'froyo': 8379, 'scholar': 8380, 'chappelle': 8381, 'shed': 8382, 'garlic': 8383, 'flaps': 8384, 'lucas': 8385, 'rio': 8386, 'couples': 8387, 'arionnee': 8388, 'swung': 8389, 'dragonballdeez': 8390, 'tucking': 8391, 'prob': 8392, 'stoneipa': 8393, 'smelling': 8394, 'bouncer': 8395, 'wbu': 8396, 'freezing': 8397, 'convince': 8398, 'liver': 8399, 'balloons': 8400, 'lobster': 8401, 'labugg09': 8402, 'prairie': 8403, 'reaching': 8404, 'relieve': 8405, '1oo': 8406, 'ez': 8407, 'rachet': 8408, 'meth': 8409, 'discrimination': 8410, 'alanaaaaaa': 8411, 'peddicord8': 8412, 'twatching': 8413, 'claiborne': 8414, 'riwhey': 8415, '49': 8416, 'tooracist': 8417, 'herman': 8418, 'nyrblog': 8419, 'heeb': 8420, 'jstkeepscrollin': 8421, 'bosh': 8422, 'roscoedash': 8423, 'blackish': 8424, 'sided': 8425, 'hid': 8426, '11093': 8427, 'decaf': 8428, 'kindness': 8429, 'wht': 8430, 'tm': 8431, 'moccasin': 8432, 'houses': 8433, 'identify': 8434, 'indonesia': 8435, 'bombing': 8436, 'noobde': 8437, 'draws': 8438, 'scorpion': 8439, 'unbearabletier': 8440, 'beg': 8441, 'keyanalatricee': 8442, 'patt': 8443, 'secretly': 8444, 'smacked': 8445, 'interior': 8446, 'musty': 8447, \"rick's\": 8448, 'ispeak': 8449, 'sarcasms': 8450, 'yatchakhannah': 8451, 'viola': 8452, 'auntie': 8453, 'gmfu': 8454, 'surround': 8455, 'amish': 8456, 'cig': 8457, 'bish': 8458, 'kellienehls': 8459, 'xnikiaaa': 8460, 'shittiest': 8461, 'surfboard': 8462, 'devon': 8463, 'failing': 8464, 'realised': 8465, 'quad': 8466, 'bmorehumble': 8467, 'chugs': 8468, 'tielermlg': 8469, 'boogie': 8470, 'sayy': 8471, 'finessed': 8472, 'neon': 8473, 'jaymohr37': 8474, 'assholee813': 8475, 'wea': 8476, 'wealth': 8477, 'vincent': 8478, 'chokmah': 8479, 'makob': 8480, 'homegirls': 8481, 'jones2': 8482, 'starr': 8483, 'paste': 8484, 'props': 8485, 'flyin': 8486, 'temper': 8487, 'opposing': 8488, 'weakenednachos': 8489, 'enforcement': 8490, 'malware': 8491, 'pcworld': 8492, 'enforcem': 8493, 'il': 8494, 'signedtothestreets2': 8495, 'hiddencams': 8496, 'vcortesusmc': 8497, 'bastard': 8498, 'markb': 8499, \"boy's\": 8500, 'lu': 8501, 'whipping': 8502, 'grill': 8503, 'almostkanye': 8504, 'grindr': 8505, 'bosley': 8506, 'cereal': 8507, 'rosegoldracks': 8508, 'lkxox': 8509, 'telly': 8510, 'shell': 8511, 'poppa': 8512, 'catchers': 8513, 'lamest': 8514, 'posers': 8515, '2001': 8516, 'usa': 8517, 'confrontation': 8518, '3am': 8519, 'andyydotcom': 8520, 'blair': 8521, 'ihate': 8522, '58382': 8523, '128071': 8524, 'masses': 8525, 'fanboys': 8526, 'scoop': 8527, 'transformthursday': 8528, 'vegasshowgirls': 8529, 'jimmies': 8530, 'translated': 8531, 'ravenpeltier': 8532, 'thuglife': 8533, 'thejoelberggren': 8534, 'cryystalina': 8535, 'talkers': 8536, 'fvtboy': 8537, 'jtrevorhowerton': 8538, 'fixing': 8539, 'baabyd': 8540, 'brooo': 8541, 'xnastyy': 8542, 'tooeffincool': 8543, 'grabbing': 8544, 'ferrari': 8545, 'innat': 8546, 'category': 8547, 'lik': 8548, 'coverage': 8549, 'bliss': 8550, 'northside': 8551, 'dizzy': 8552, 'willstreakk': 8553, 'tycff10111': 8554, 'abusive': 8555, 'offering': 8556, 'encourage': 8557, 'groovy': 8558, 'xcorey21': 8559, 'ovo': 8560, 'manually': 8561, 'diabetes': 8562, 'rush': 8563, 'source': 8564, 'lemochamojito': 8565, 'don07052': 8566, 'spicy': 8567, 'brunette': 8568, 'zfearless': 8569, 'stoked': 8570, 'morgaanita': 8571, 'condition': 8572, 'bashed': 8573, 'belgrade': 8574, \"women's\": 8575, 'disappoint': 8576, 'indirectly': 8577, 'compton': 8578, 'harveywordman': 8579, 'befo': 8580, 'swerving': 8581, 'assed': 8582, 'competing': 8583, 'shethetruththo': 8584, 'hardball': 8585, 'imlesliechow': 8586, 'pho': 8587, 'bjs5555': 8588, 'enzi': 8589, 'tntweeters': 8590, 'cir': 8591, 'presidents': 8592, 'autyaut': 8593, '215': 8594, 'anayal8ter': 8595, 'uglyassderrick': 8596, 'grilled': 8597, 'castie': 8598, 'sickoe': 8599, 'theuncurvable': 8600, 'cemetery': 8601, 'within': 8602, 'unbothered': 8603, 'battling': 8604, 'drugsforsteph': 8605, 'allknowa': 8606, 'natalie': 8607, 'maratheemodel': 8608, 'heartofahustlah': 8609, 'muthafuckas': 8610, 'fucka': 8611, 'ummmm': 8612, 'winking': 8613, 'jobbe03': 8614, 'irritating': 8615, 'loudest': 8616, 'hitters': 8617, 'exempt': 8618, 'yankeestadium': 8619, 'boof': 8620, 'digging': 8621, 'frooooontin': 8622, 'sant': 8623, 'sumthin': 8624, 'reached': 8625, 'maximum': 8626, 'coakley': 8627, 'bruins': 8628, 'spots': 8629, 'pits': 8630, 'latino': 8631, 'janacek07': 8632, 'persianboi10': 8633, 'jay050709': 8634, 'jacking': 8635, 'playful': 8636, '1041205': 8637, 'horns': 8638, 'freaksandgeeks': 8639, 'nohands': 8640, 'swears': 8641, 'awk': 8642, 'terror': 8643, 'looooool': 8644, 'communism': 8645, 'broculture': 8646, 'fashioned': 8647, 'partnas': 8648, 'spitted': 8649, 'chrisjustjoking': 8650, 'clapping': 8651, 'adding': 8652, 'raaa': 8653, 'sunny': 8654, 'surrounded': 8655, 'spiders': 8656, 'bkraised718': 8657, 'exception': 8658, 'aurora': 8659, 'gottaluvlexci': 8660, 'boy420': 8661, 'brb': 8662, 'core': 8663, 'watson': 8664, 'liljohn': 8665, 'fnv9': 8666, 'danbilzerian': 8667, 'autumn': 8668, 'gotti': 8669, 'imaplainjane': 8670, 'branch': 8671, 'gobrowns': 8672, 'sadiiex': 8673, 'nwts': 8674, 'kikes': 8675, 'linebacker': 8676, 'listened': 8677, 'fierce': 8678, 'attendance': 8679, 'evolution': 8680, 'marks': 8681, 'contrarian': 8682, 'jfromhuntington': 8683, 'digits': 8684, 'alliemathews': 8685, 'sweetlou462': 8686, 'septembertha15': 8687, 'thetoddshow': 8688, 'puttin': 8689, 'gals': 8690, '127754': 8691, 'scheduled': 8692, 'teamsters': 8693, 'areas': 8694, 'nintendo': 8695, 'wetbacks': 8696, '4ever': 8697, 'picker': 8698, 'datnigga': 8699, 'laced': 8700, 'understanding': 8701, 'vdawg': 8702, 'hennessey': 8703, 'lin': 8704, 'mikes': 8705, 'autumnmaye': 8706, 'finnj97': 8707, 'lesser': 8708, 'stove': 8709, 'mason': 8710, 'thedevonclarke': 8711, 'scott25': 8712, 'braveconwarrior': 8713, 'graphic': 8714, 'massacred': 8715, 'pastor': 8716, 'parhambryce': 8717, 'lllexiss': 8718, 'lukejohnson06': 8719, 'laurenbeckkkk1': 8720, 'kirby': 8721, 'rbi': 8722, 'setting': 8723, 'lohanthony': 8724, 'sactownproidgy': 8725, 'speakcomedy': 8726, 'yunglucy': 8727, 'rosaalbae': 8728, 'hmmmm': 8729, 'fsu': 8730, 'bios': 8731, 'option': 8732, 'r3lentlsstr0ll': 8733, 'diplomatic': 8734, 'wrestling': 8735, 'stoned': 8736, \"sunday's\": 8737, 'playa': 8738, 'whi': 8739, 'vandalsavage': 8740, 'donnyoraha': 8741, 'partner': 8742, 'vengeful': 8743, 'putin': 8744, 'snapping': 8745, 'presents': 8746, 'milds': 8747, 'iambitchassness': 8748, 'yeswedid': 8749, 'trackstar275': 8750, 'ink': 8751, 'realer': 8752, 'sunset': 8753, 'mrcook': 8754, 'chelsea': 8755, 'elisa': 8756, 'thequeentommy': 8757, 'efilnikcufecin7': 8758, 'tristengqass': 8759, 'raps': 8760, 'mabelistocute': 8761, '8482': 8762, 'ahah': 8763, 'chykalet': 8764, 'jehnayy': 8765, 'disabled': 8766, 'westbrook': 8767, 'ileny13': 8768, 'gisellemaryy': 8769, 'secondary': 8770, 'mynamesryann': 8771, 'brunch': 8772, 'bikini': 8773, '62': 8774, 'thefaithanne': 8775, 'weakkk': 8776, 'cocalove': 8777, 'haley': 8778, 'honeysays': 8779, 'nipseyhussle': 8780, 'bria': 8781, 'smashing': 8782, 'unfortunate': 8783, 'rebelscience': 8784, 'whaddup': 8785, 'clouds': 8786, 'warriorrn61': 8787, 'natl': 8788, 'fi': 8789, 'jelly': 8790, 'gaming': 8791, 'warned': 8792, 'injuries': 8793, 'roman': 8794, 'iv': 8795, 'bakers': 8796, 'advicee': 8797, 'goosemon420er': 8798, 'leezy': 8799, 'deleting': 8800, 'lames': 8801, 'services': 8802, 'hooker': 8803, 'solyybee': 8804, 'reals': 8805, 'judgement': 8806, 'buu': 8807, 'garage': 8808, 'taunting': 8809, 'jeremy': 8810, 'brett': 8811, 'invisible': 8812, 'jaspen7': 8813, 'dominoes': 8814, 'velvet': 8815, 'underground': 8816, 'richhomiemeezy': 8817, '54oo': 8818, 'mauri': 8819, 'freeblizz': 8820, 'righteouz': 8821, 'growejr': 8822, 'trucks': 8823, 'supporter': 8824, 'bellabelcastro': 8825, 'thehermancain': 8826, 'jadegreenleaf': 8827, 'masturbate': 8828, 'accents': 8829, 'leeyoo': 8830, 'betodavidthomas': 8831, \"iggy's\": 8832, 'sextape': 8833, 'herb': 8834, 'singles': 8835, 'dicked': 8836, 'layaface': 8837, 'shrimp': 8838, 'dwarf': 8839, 'milkshakes': 8840, '54': 8841, 'perks': 8842, 'fourth': 8843, 'fuckkkk': 8844, 'pile': 8845, 'buffalo': 8846, '56': 8847, 'loop': 8848, 'dev': 8849, 'butler': 8850, 'destroyed': 8851, 'pactha': 8852, 'bitchkrieg': 8853, \"jenna's\": 8854, 'slang': 8855, 'selenaaaa': 8856, 'bruhh': 8857, 'damiergenesis': 8858, 'session': 8859, 'queensavage97': 8860, 'sushi': 8861, 'gladly': 8862, 'outback': 8863, 'tolerance': 8864, 'jennyjohnsonhi5': 8865, 'slutin': 8866, 'unsuccessful': 8867, 'wayyyyy': 8868, 'tommyreainigga': 8869, 'waves': 8870, 'ra': 8871, 'shia': 8872, 'chrissibaxter': 8873, 'appreciating': 8874, 'fence': 8875, 'damnit': 8876, 'angelo': 8877, 'ws': 8878, 'dust': 8879, 'humbled': 8880, 'freddyamazin': 8881, 'milz': 8882, 'satellite': 8883, 'writing': 8884, 'guynamedjordan': 8885, 'awww': 8886, 'frustration': 8887, 'clueless': 8888, 'wordpressdotcom': 8889, 'iixixiii': 8890, 'joking': 8891, 'greggutfeld': 8892, 'bing': 8893, 'zt': 8894, 'mailonline': 8895, 'vivalakristia': 8896, 'trippygalll': 8897, 'investigate': 8898, 'donthypeme': 8899, 'graduate': 8900, 'kinglekan90210': 8901, 'forgive': 8902, 'birthed': 8903, 'foriegn': 8904, 'stranded': 8905, 'banged': 8906, 'cheeseburger': 8907, 'sarahd': 8908, 'basedpapi1017': 8909, 'disappointed': 8910, 'imdatnigga': 8911, 'hairline': 8912, 'fvckmike': 8913, 'officials': 8914, 'booking': 8915, 'faget': 8916, 'jacklynannn': 8917, 'huntin': 8918, 'l7': 8919, 'sites': 8920, 'silences': 8921, 'intense': 8922, 'brickyardbeezy': 8923, 'voxpulchra': 8924, '1041653': 8925, 'bruno': 8926, 'preview': 8927, 'balance': 8928, 'annacoman2': 8929, 'principle': 8930, 'realraymondj': 8931, '127866': 8932, 'preppy': 8933, '127984': 8934, 'posterboi': 8935, 'defiantly': 8936, 'downs': 8937, 'theholykuran': 8938, 'veshaacouture': 8939, 'biker': 8940, 'haylebopp': 8941, 'cleaned': 8942, 'tornado': 8943, 'propose': 8944, 'motto': 8945, 'morele': 8946, 'soort': 8947, 'liar': 8948, 'rocko4real': 8949, 'waldo': 8950, '9898': 8951, 'pets': 8952, \"n'\": 8953, 'cocainemodel': 8954, 'ayeofool': 8955, 'gs': 8956, 'lob': 8957, 'fuckboirik': 8958, 'youza': 8959, 'fuckingcashbro': 8960, 'blown': 8961, \"snortin'\": 8962, 'fiji': 8963, 'equallydestruct': 8964, 'godly': 8965, 'shantrell': 8966, 'trillog': 8967, 'malik': 8968, 'lan': 8969, 'e250': 8970, 'amusing': 8971, 'scumbags': 8972, 'create': 8973, 'dewayneee': 8974, 'appreciated': 8975, 'conan': 8976, 'oct': 8977, 'mrpoonsoaker': 8978, 'replace': 8979, 'europeans': 8980, 'gallinofmilk': 8981, 'gitmo': 8982, 'iamhusk': 8983, '127873': 8984, 'jessespector': 8985, 'scenario': 8986, 'cleans': 8987, 'sprite': 8988, \"'what\": 8989, 'freeway': 8990, 'ghostattics': 8991, 'translation': 8992, 'transformer': 8993, 'gusta': 8994, 'shootin': 8995, 'wontgetme': 8996, 'santander': 8997, 'awfully': 8998, 'parrot': 8999, 'pitt': 9000, 'trainer': 9001, '127939': 9002, 'ajdougherty13': 9003, 'relaxed': 9004, 'geekin': 9005, 'abcbirds1': 9006, 'deadly': 9007, 'shelves': 9008, 'ndyy': 9009, 'awwww': 9010, 'winnin': 9011, 'xavier': 9012, 'krbfarms': 9013, 'abrown252': 9014, 'drafted': 9015, 'runyacheckup': 9016, 'uploaded': 9017, 'whitneynocrack': 9018, 'gretchen': 9019, 'umadddt': 9020, 'lht': 9021, '519': 9022, 'nigeria': 9023, 'bobbyshmurdags9': 9024, 'iambjraps': 9025, 'cheffin': 9026, 'girltimeusa': 9027, 'luda': 9028, '13th': 9029, 'yaboymj23': 9030, 'issued': 9031, 'noodles': 9032, 'dun54': 9033, 'ayeverb': 9034, 'annoyance': 9035, 'funkydineva': 9036, 'rivalry': 9037, 'mysportslegion': 9038, 'hobbit': 9039, 'needles': 9040, 'chemistry': 9041, 'felferrara': 9042, 'tiffanycarter': 9043, 'bizarre': 9044, \"qb's\": 9045, 'superpowers': 9046, 'ronniecaine': 9047, 'od': 9048, 'shoota1017': 9049, 'wae': 9050, 'sag': 9051, 'values': 9052, 'lifted': 9053, 'quitting': 9054, 'yaboyroshi': 9055, 'nsnapbacks': 9056, 'additional': 9057, '100s': 9058, 'faggit': 9059, 'toothless': 9060, 'berto': 9061, 'killsheredon': 9062, 'childishcudl': 9063, 'marc': 9064, 'kjthegreat': 9065, 'victor': 9066, 'serial': 9067, 'beside': 9068, 'heeeey': 9069, 'upload': 9070, 'nevada': 9071, 'repmycityx': 9072, 'meechisdead': 9073, 'golds': 9074, '10067': 9075, 'vg3': 9076, 'wearegiricodes': 9077, 'whatcha': 9078, 'mong': 9079, 'bho': 9080, 'rhyds': 9081, 'herrrrrr': 9082, 'pharary04': 9083, 'jitt': 9084, 'brizgotti': 9085, 'naacp': 9086, 'limits': 9087, 'partynextdoor': 9088, 'ciroc': 9089, 'niqqas': 9090, 'sativa87': 9091, 'ceo': 9092, 'lips57': 9093, 'djmemphis10': 9094, 'revolving': 9095, 'cycle': 9096, 'trentdamanz': 9097, 'ijrojo': 9098, '72': 9099, 'odd': 9100, '120': 9101, 'bdell1014': 9102, 'drives': 9103, 'rottenstench': 9104, 'keith': 9105, 'recess': 9106, 'realdonaldtrump': 9107, 'airmaxlad1': 9108, 'roster': 9109, 'flattering': 9110, 'jasmyncyniquee': 9111, 'asaakira': 9112, 'objects': 9113, \"rally's\": 9114, 'dogshit': 9115, 'quarterback': 9116, 'rudeboi': 9117, 'p0rsche': 9118, 'ptv': 9119, 'sws': 9120, 'bvb': 9121, 'deepest': 9122, 'bossmobbe': 9123, 'chellyhernandez': 9124, 'galactic': 9125, 'gummy': 9126, 'quan1t0': 9127, '61': 9128, 'slander': 9129, 'ohsnapsitsshaq': 9130, 'psa': 9131, 'reduced': 9132, 'weenis': 9133, 'swingin': 9134, 'grocery': 9135, 'transactionrap': 9136, 'naomi': 9137, 'carpet': 9138, 'kleopatra': 9139, 'ivory': 9140, 'nubile': 9141, 'heartlle': 9142, 'meetthepress': 9143, 'phrases': 9144, 'relative': 9145, 'traitors': 9146, 'outrage': 9147, 'phony': 9148, 'tomato': 9149, 'uncletweet': 9150, 'kimball': 9151, 'rofl': 9152, 'dezdlt': 9153, 'ogmarcusc': 9154, 'clintswiftness': 9155, 'carnival': 9156, 'ting': 9157, 'ascii': 9158, 'tubes': 9159, 'urs': 9160, 'seeds': 9161, 'lime': 9162, 'cici': 9163, 'wwwobert': 9164, 'tytytooflyy': 9165, 'ct': 9166, 'murphy3': 9167, 'randy': 9168, 'mewtwo': 9169, '1043291': 9170, 'brooks': 9171, 'jazminesmazmine': 9172, 'carterboy': 9173, 'leake': 9174, 'cheetah': 9175, 'sitcom': 9176, 'sleytmf': 9177, 'chav': 9178, 'sockfetish': 9179, 'stinking': 9180, 'brotha': 9181, 'cooling': 9182, 'spaceplankton': 9183, '128105': 9184, 'zee': 9185, 'slid': 9186, 'chrome': 9187, 'skype': 9188, 'miranda': 9189, 'mills': 9190, 'ginger': 9191, 'yagurlbubblez87': 9192, 'justsaying': 9193, 'drool': 9194, 'kittty': 9195, 'jpg': 9196, 'nosfiend215': 9197, 'madonna': 9198, 'snakes': 9199, 'faisal': 9200, 'nizam': 9201, 'irritate': 9202, 'w1lliam': 9203, 'boyz': 9204, 'koniikonn': 9205, 'michydoe': 9206, 'event': 9207, 'thebardockobama': 9208, 'similar': 9209, 'penguingraham': 9210, 'nflonfox': 9211, 'yds': 9212, 'thebombshellll': 9213, 'vivalaleexx': 9214, 'espndaniel': 9215, 'basedomg': 9216, 'pictured': 9217, 'abraham': 9218, 'lincoln': 9219, 'cowboysnation': 9220, 'ilove': 9221, 'kendra': 9222, 'decides': 9223, 'notions': 9224, 'menace': 9225, 'ginamariez': 9226, 'jessie': 9227, 'wheat': 9228, 'bayou': 9229, 'drinker': 9230, 'slash': 9231, 'native': 9232, 'wags': 9233, 'jeffersons': 9234, 'stow': 9235, 'isaidnick': 9236, 'ebomb26': 9237, 'mrgeology': 9238, 'douchebag': 9239, 'orator': 9240, 'shawnharvey0': 9241, 'freakoslam93': 9242, 'ibs': 9243, 'irritable': 9244, 'ai': 9245, 'meow': 9246, 'karlieu123': 9247, 'perpetually': 9248, 'hoodbibie': 9249, 'realizing': 9250, 'jared': 9251, 'geez': 9252, 'jdhayworth': 9253, 'licked': 9254, 'zvckslvt3r704': 9255, 'wodeh': 9256, 'chanel': 9257, 'anncoulter': 9258, 'lois': 9259, 'lerner': 9260, 'susie': 9261, 'scruffdaddy': 9262, 'meter': 9263, 'rigged': 9264, 'strangleme': 9265, 'dyslexia': 9266, 'meekmill': 9267, 'celtics': 9268, 'destiny': 9269, 'dessert': 9270, 'patch': 9271, 'canceled': 9272, 'heavensenttynae': 9273, 'spectacle': 9274, 'display': 9275, 'bblu': 9276, \"ludacris's\": 9277, 'mflury30': 9278, 'savior': 9279, 'ncoleycole': 9280, 'kiki': 9281, 'joseline': 9282, 'vodkapapixo': 9283, 'chewing': 9284, 'tasty': 9285, 'kingcvpital': 9286, 'whits': 9287, 'mccarthy': 9288, 'biceps': 9289, 'blueprint': 9290, 'acoustic': 9291, 'domes': 9292, 'hallways': 9293, 'devin': 9294, 'stats': 9295, 'iz': 9296, 'visually': 9297, 'gifted': 9298, 'meech': 9299, 'steelobrim': 9300, \"church's\": 9301, 'strips': 9302, 'laffy': 9303, 'linda': 9304, 'cotydankh': 9305, 'glitter': 9306, 'tracy': 9307, 'chainz': 9308, 'tarah': 9309, 'smellin': 9310, 'birdhouse': 9311, 'pasta': 9312, 'pesky': 9313, 'taxes': 9314, 'huf': 9315, 'sweatshirt': 9316, 'hebrew': 9317, '1dittlinger': 9318, 'diggin': 9319, 'meek': 9320, 'xanaxdreams': 9321, 'inhale': 9322, 'semester': 9323, 'ericwooden21': 9324, 'theo': 9325, 'swooped': 9326, 'scrubs': 9327, 'soil': 9328, 'prihncess': 9329, 'mill': 9330, 'opposite': 9331, 'mojizel': 9332, 'recipe': 9333, 'palm': 9334, 'sidehoenextdoor': 9335, 'rupaulsdragrace': 9336, 'barb': 9337, 'cave': 9338, 'dantoomey2': 9339, 'skillet': 9340, 'sierra': 9341, 'burrito': 9342, 'victorrico3': 9343, 'petrie22': 9344, 'catholics': 9345, 'europe': 9346, 'zorro': 9347, 'unknown': 9348, 'overnight': 9349, 'delivery': 9350, 'coolin': 9351, 'bloods': 9352, 'deja': 9353, 'alexrojas': 9354, 'intelligence': 9355, 'airlines': 9356, 'universe': 9357, 'sandy': 9358, 'seasonal': 9359, 'l1ldebbie': 9360, 'lockdown': 9361, 'murrman5': 9362, 'psychic': 9363, 'milkshake': 9364, '1am': 9365, 'vikyfdez15': 9366, 'shouldve': 9367, 'applebees': 9368, 'stains': 9369, 'impressions': 9370, 'ent': 9371, 'moenkiana': 9372, 'theme': 9373, 'brendagisselca': 9374, \"girl's\": 9375, 'climb': 9376, 'swap': 9377, \"minaj's\": 9378, 'confess': 9379, 'borders': 9380, 'flower': 9381, 'mizzcreme': 9382, 'heartbroken': 9383, 'tonycranshaw22': 9384, 'lien': 9385, 'possibly': 9386, 'crunk': 9387, 'sucky': 9388, 'toronto': 9389, 'attraction': 9390, 'steel': 9391, 'truestory': 9392, 'tipped': 9393, 'rosestokoe': 9394, 'gonewithkalijah': 9395, 'desperately': 9396, 'seeking': 9397, 'hoesaaay': 9398, 'gordon': 9399, 'ayyyethatschubb': 9400, 'rojustdgaf': 9401, 'midniteboss': 9402, 'curving': 9403, 'xpoppinwheelies': 9404, 'americ00n': 9405, 'monkeys': 9406, 'wib': 9407, 'jaywiz614': 9408, 'escobar': 9409, 'mackgotti': 9410, '2blunts1jorge': 9411, 'meets': 9412, 'hoodcomedy': 9413, 'dimes': 9414, 'approved': 9415, 'dah': 9416, 'mindatease': 9417, 'jaytwofly': 9418, 'universal': 9419, 'civil': 9420, 'edit': 9421, 'bobble': 9422, \"avi's\": 9423, 'azealiabanks': 9424, 'igother': 9425, 'ghettoviine': 9426, 'buckets': 9427, 'trophy': 9428, 'karmendanielle': 9429, 'lahhh': 9430, 'kidnapped': 9431, 'probl': 9432, 'creampie': 9433, 'buzzfeed': 9434, 'photographer': 9435, 'couldnt': 9436, 'needing': 9437, 'cocks': 9438, 'zachthorpe78': 9439, 'weallknowa': 9440, 'hooligans': 9441, 'boned': 9442, 'pluggedinpiff': 9443, 'activity': 9444, 'inurselisa': 9445, 'anticvlum': 9446, 'deer': 9447, 'gravy': 9448, 'pear': 9449, 'pudding': 9450, 'mightyy23': 9451, 'depend': 9452, 'towns': 9453, \"else's\": 9454, 'fairflattaxnow': 9455, 'wongs': 9456, 'incidents': 9457, 'burbs': 9458, 'gahdamn': 9459, 'mistress': 9460, 'jtrimbl3': 9461, 'rainaluvsa': 9462, 'rating': 9463, 'par': 9464, 'letsgoyankees': 9465, 'bbw': 9466, 'mnyves': 9467, 'cirocbwoy': 9468, 'snitching': 9469, 'offa': 9470, 'najmaaa': 9471, 'lool': 9472, 'comp10tx': 9473, 'unarmed': 9474, 'gferguson8': 9475, 'pullout': 9476, 'teflondon4200': 9477, 'ba': 9478, 'feinsandnydn': 9479, 'ranger': 9480, 'prospects': 9481, 'madre': 9482, 'waymothegod': 9483, 'iowa': 9484, 'ufuckin': 9485, 'comedyposts': 9486, 'laughs': 9487, 'bigdaddysniper': 9488, 'benihana': 9489, 'homiez': 9490, 'eddy': 9491, 'sucha': 9492, 'pinstripes': 9493, 'bleeding': 9494, 'photography': 9495, 'eventually': 9496, 'nu': 9497, 'stays': 9498, 'ihitmodelsraw': 9499, 'bronem': 9500, 'muhammed': 9501, 'derrick': 9502, 'qui': 9503, 'heisman': 9504, 'notgrimey': 9505, 'sarahr': 9506, '82': 9507, 'vacation': 9508, 'wld': 9509, 'ncpostgrad': 9510, 'tipping': 9511, 'freshmanadvice': 9512, 'tombradysego': 9513, 'oklahoma': 9514, 'someones': 9515, 'yennno': 9516, 'scandalabc': 9517, 'drudge': 9518, 'bladder': 9519, 'helloween': 9520, 'sweeping': 9521, 'declared': 9522, 'allegiance': 9523, 'talented': 9524, 'witch': 9525, '2chainz': 9526, 'lifes': 9527, 'posed': 9528, 'uptownraised': 9529, 'fortunate': 9530, 'haydenhill13': 9531, 'indeed': 9532, 'stunningstina': 9533, 'cdfu': 9534, 'bslfe': 9535, 'acab': 9536, 'hump': 9537, 'littlepuffin': 9538, '3times': 9539, 'yeaimmaboss': 9540, 'brave': 9541, 'buyin': 9542, 'replaced': 9543, 'adviljr': 9544, 'backs': 9545, 'challenges': 9546, 'wealthy': 9547, 'jballinbutts420': 9548, 'jamie': 9549, '128535': 9550, 'wildin': 9551, 'ke2yourheart': 9552, 'rarehiphoppic': 9553, 'scanning': 9554, 'juanyeeze': 9555, 'wuz': 9556, 'mop': 9557, 'leezusleeko': 9558, \"actin'\": 9559, 'ponies': 9560, 'joshhandsomee87': 9561, 'whiggers': 9562, 'xx': 9563, 'infront': 9564, 'likka': 9565, 'caesar': 9566, 'asialacap': 9567, 'hopsin': 9568, 'lupe': 9569, 'vonrichter': 9570, 'ovaries': 9571, 'struck': 9572, '128681': 9573, 'yasssss': 9574, 'web': 9575, 'noooooooo': 9576, 'uncomfortable': 9577, 'waters': 9578, 'chollie': 9579, 'isa': 9580, 'elements': 9581, 'belief': 9582, 'herfarm': 9583, 'rely': 9584, 'weirdos': 9585, 'hustling': 9586, 'twenties': 9587, 'lynkinthedog': 9588, 'sweg': 9589, 'vewxyz': 9590, 'vegan': 9591, 'tketterhagen': 9592, 'trys': 9593, 'fools': 9594, 'sample': 9595, 'govjaynixon': 9596, 'alexxx': 9597, 'carr18': 9598, 'moments': 9599, 'fazeybaby': 9600, 'johansson': 9601, '688': 9602, 'hermaphrodite': 9603, 'viagra': 9604, 'vernnotice': 9605, 'glue': 9606, 'regarding': 9607, 'midsole': 9608, 'chow': 9609, 'brianndominguez': 9610, 'gasoline': 9611, 'woahitsjulian': 9612, 'm203': 9613, 'mints': 9614, 'untouchable': 9615, 'donniewahlberg': 9616, 'sockin': 9617, 'phoenix': 9618, 'monogamous': 9619, 'outlawdipper': 9620, '128108': 9621, 'rameyhoe': 9622, \"governor's\": 9623, 'grandpas': 9624, 'osu': 9625, 'omgitsbabyjoe': 9626, 'closely': 9627, 'treats': 9628, 'weidie1211': 9629, 'fuzzies': 9630, 'obieonehhh': 9631, 'tonymartinezz15': 9632, 'httr': 9633, 'hugged': 9634, 'asians': 9635, 'diff': 9636, 'palmers': 9637, 'reid': 9638, 'townhallcom': 9639, 'erudite1914': 9640, 'sf': 9641, 'halfricannnnn': 9642, 'foxandfriends': 9643, 'viewing': 9644, 'blackmanusa': 9645, 'jody': 9646, 'wouldn': 9647, 'militant': 9648, 'nicolee': 9649, 'strikes': 9650, 'yansii': 9651, 'shoves': 9652, 'odds': 9653, 'smelled': 9654, 'null': 9655, 'johntherealman': 9656, 'bmorepocahontas': 9657, 'broner': 9658, 'thi': 9659, 'cloydrivers': 9660, 'diycookery': 9661, 'l8v3': 9662, 'blake': 9663, 'yalls': 9664, 'severed': 9665, 'zneezy2good': 9666, 'hitler': 9667, 'savannacurry': 9668, 'kc': 9669, \"5'7\": 9670, 'roo': 9671, 'insanity': 9672, 'postbadbitches': 9673, 'besos': 9674, 'thankin': 9675, 'copped': 9676, 'lander': 9677, 'caged': 9678, 'blues': 9679, 'erica': 9680, 'dietrich1892': 9681, 'dollas': 9682, 'liamgeraldshone': 9683, 'arannicolwhufc': 9684, 'dsaend': 9685, 'brandonprust8': 9686, 'menstruai': 9687, 'wesgod': 9688, 'smaller': 9689, 'briefs': 9690, 'boonies': 9691, 'skies': 9692, 'meme': 9693, 'mssashabelle': 9694, 'beiber': 9695, 'ifwedate': 9696, 'jareerkassis': 9697, 'consensus': 9698, 'mids': 9699, 'areforkids': 9700, 'pitch': 9701, 'dedepayton': 9702, 'lesamonroe': 9703, 'wyo': 9704, 'chesterfield': 9705, 'backyard': 9706, 'jigaboo': 9707, 'refrigerator': 9708, 'floralelephants': 9709, 'ambulance': 9710, 'flee': 9711, 'danielsizelove': 9712, 'lulu': 9713, 'poppy': 9714, 'killem': 9715, 'sportspickle': 9716, 'modern': 9717, 'joba': 9718, 'isaabbellla': 9719, 'commence': 9720, 'edgar': 9721, '128047': 9722, 'despise': 9723, 'joining': 9724, 'affordable': 9725, 'teabag': 9726, 'hulk': 9727, 'mcdonavins': 9728, 'nerdy': 9729, 'director': 9730, 'rachelereilly': 9731, 'uncalled': 9732, 'iampikey': 9733, 'punjab': 9734, 'kk': 9735, 'stew4': 9736, 'whiteboytatted': 9737, 'philosophy': 9738, 'abused': 9739, 'playen': 9740, 'agenda': 9741, 'jesjosie': 9742, 'dinosaurs': 9743, 'nicks': 9744, '10longdong': 9745, 'oscars': 9746, 'soni99a': 9747, 'n0tsteven': 9748, '4200savage': 9749, 'yfn': 9750, 'nesha': 9751, 'wobble': 9752, 'yummy': 9753, 'clerk': 9754, 'packages': 9755, 'japan': 9756, 'mode': 9757, 'policy': 9758, 'bigga': 9759, 'decipher': 9760, 'summerdawn': 9761, 'rejected': 9762, 'havnt': 9763, 'eccentricity': 9764, 'proper': 9765, 'wrists': 9766, 'ayyee': 9767, 'vonte': 9768, 'deiukesionai': 9769, 'emily': 9770, 'fuckkk': 9771, 'purposes': 9772, 'thirty': 9773, 'ibanexx': 9774, 'stinks': 9775, 'cameras': 9776, 'chilled': 9777, 'jestonaelives': 9778, 'casserole': 9779, '1999': 9780, 'braves': 9781, 'bretvondehl': 9782, 'resorting': 9783, 'badnewsbridget': 9784, 'royceda59': 9785, \"6'\": 9786, 'excitement': 9787, 'teena': 9788, 'sailor': 9789, 'sincere18': 9790, 'listing': 9791, 'enuff': 9792, 'tying': 9793, 'barefoot': 9794, 'allisonnamaya': 9795, 'ideas': 9796, 'lifting': 9797, 'dub': 9798, 'batman': 9799, 'msbtxo': 9800, 'included': 9801, 'journalist': 9802, 'twenty': 9803, 'riot': 9804, 'conf': 9805, 'prov': 9806, 'psycho': 9807, 'shvkxir': 9808, 'jayzoverrated': 9809, 'freestyles': 9810, 'justify': 9811, 'mariano': 9812, 'elvis': 9813, 'mysteriously': 9814, 'psychology': 9815, 'rocked': 9816, 'wieners': 9817, '10k': 9818, 'etsy': 9819, 'thebloodshow': 9820, 'plant': 9821, 'northwestimperative': 9822, 'jstarrtweets': 9823, 'mansionelan': 9824, 'insert': 9825, 'myspace': 9826, 'upside': 9827, 'justreiatabie': 9828, 'jm': 9829, 'morgansmith': 9830, 'curvy': 9831, 'mfka': 9832, 'virginity': 9833, 'prejudice': 9834, 'preconceived': 9835, 'interactions': 9836, 'occasions': 9837, 'thriiiuminati': 9838, 'constancio': 9839, 'wrestle': 9840, 'damnitcorn': 9841, 'stressful': 9842, 'peoples': 9843, 'littlecball': 9844, 'austinmahone': 9845, 'fkn': 9846, 'sneeze': 9847, 'ebgbz1': 9848, 'practically': 9849, 'contain': 9850, 'deadline': 9851, 'karaoke': 9852, \"who'd\": 9853, 'kallme': 9854, 'corylafon': 9855, 'gvmby': 9856, 'lmfaoooooooooooo': 9857, 'ios': 9858, 'jetsgreen': 9859, 'beenslimm': 9860, 'charcoal': 9861, '7s': 9862, 'owned': 9863, 'infamous': 9864, 'kool': 9865, '2many': 9866, 'maserati': 9867, 'gate': 9868, 'arkansas': 9869, 'mash': 9870, 'jaykelz': 9871, 'yacht': 9872, 'kenya': 9873, 'yellin': 9874, 'afta': 9875, 'hangs': 9876, 'boiling': 9877, 'sandwhich': 9878, 'whooped': 9879, 'gunsense': 9880, 'momsdemand': 9881, 'ezra': 9882, 'toward': 9883, 'identifies': 9884, 'awwwwww': 9885, 'kaep': 9886, 'menu': 9887, 'thealexflores10': 9888, 'thy': 9889, 'zenterrorist86': 9890, 'seahopke': 9891, 'blakeanthony98': 9892, 'management': 9893, 'elway': 9894, 'arrogant': 9895, 'txtn': 9896, 'speakin': 9897, 'removes': 9898, 'alexfromtarget': 9899, 'icewear': 9900, 'vezzo': 9901, 'politeasshole': 9902, 'waited': 9903, 'claire': 9904, 'mtaraban': 9905, 'ayejayydoe': 9906, 'ft': 9907, 'trends': 9908, 'chingonabe': 9909, 'mjs79': 9910, 'genos': 9911, 'niggs': 9912, 'tebow': 9913, 'skinnykenny13': 9914, 'commando': 9915, 'georgiathenewsa': 9916, 'brenddan': 9917, 'krabby': 9918, 'retire': 9919, 'chit': 9920, 'warriors': 9921, 'bench': 9922, 'infidelalie': 9923, 'itakeovertls': 9924, 'bojieasx': 9925, 'dubstep': 9926, 'zelno96': 9927, 'squirrels': 9928, 'historygoon': 9929, 'democracy': 9930, 'heterosexuals': 9931, 'breeders': 9932, 'becuz': 9933, 'aymrcarter': 9934, 'mens': 9935, 'greco': 9936, 'dose': 9937, 'beethoven': 9938, 'pe': 9939, 'simp': 9940, 'beardedgemini': 9941, 'colder': 9942, 'disappear': 9943, 'efethegoddess': 9944, 'ohemmeg': 9945, 'stereotypes': 9946, 'wu': 9947, 'tang': 9948, 'disbelief': 9949, 'gracie': 9950, 'thejadednyer': 9951, 'insects': 9952, 'hmianturner': 9953, 'contribute': 9954, 'poccets': 9955, 'fuking': 9956, 'otbva': 9957, 'raiders': 9958, 'nasshrodriguez': 9959, 'linndaroose': 9960, 'tighten': 9961, '600': 9962, 'squirter': 9963, 'twitters': 9964, 'mijo': 9965, 'lgi': 9966, 'brelston': 9967, 'awakening': 9968, 'allsportsbruh': 9969, 'cheerios': 9970, 'slidin': 9971, 'ties': 9972, 'nickswagypyoung': 9973, 'fooled': 9974, '96': 9975, '128164': 9976, 'peterclifford1': 9977, 'tad': 9978, 'certainly': 9979, 'manijeetwa': 9980, 'koolassk': 9981, 'egotheicon': 9982, '3amado': 9983, 'carrillo': 9984, 'wayans': 9985, 'dustinhooper225': 9986, 'iamjazz': 9987, 'harbor': 9988, 'turtles': 9989, 'differentlevels': 9990, 'egyptians': 9991, 'kushite': 9992, 'haunt': 9993, 'paulmoon8': 9994, 'yurista4life': 9995, 'twiterdeze': 9996, 'hound': 9997, 'rats': 9998, 'vrtwxrk': 9999, 'yungchipotle': 10000, 'planks': 10001, 'quads': 10002, 'pecs': 10003, 'hennyheathen': 10004, 'sperrys': 10005, 'fab': 10006, 'gatewood': 10007, '1041222': 10008, 'pimping': 10009, 'pacific': 10010, 'hulkamania': 10011, 'coz': 10012, 'lovexlilyy': 10013, 'aj0427': 10014, 'therealoweifie': 10015, 'kissmysmilee': 10016, 'tilt': 10017, 'brakes': 10018, 'iscoutgirls': 10019, 'd6': 10020, '9b': 10021, 'edge': 10022, 'drowning': 10023, 'library': 10024, 'pour': 10025, 'anabsurdbird': 10026, \"anyone's\": 10027, 'apollo': 10028, 'gduenez': 10029, 'panchoftf': 10030, '0beythelau': 10031, 'coldhearted9': 10032, 'silky': 10033, 'cair': 10034, 'realjtp': 10035, 'leggsmania': 10036, \"what'd\": 10037, 'barn': 10038, 'chased': 10039, 'ovotiluoverdose': 10040, 'mistaturk5': 10041, 'raghead': 10042, 'hajihuntingpat': 10043, 'mila': 10044, 'kunis': 10045, 'runner': 10046, 'skipping': 10047, 'degenerate': 10048, 'valerie': 10049, 'jarrett': 10050, 'obamacare': 10051, 'chadjordan23': 10052, 'cutie': 10053, 'kingulyssesiv': 10054, 'lickin': 10055, 'republicann': 10056, 'snipes': 10057, 'forehead': 10058, 'launcher': 10059, 'stoolpresidente': 10060, 'sofancyy': 10061, 'itskiaraaaa': 10062, 'zt0mm': 10063, 'fetish': 10064, 'abel312': 10065, 'fallenloki': 10066, 'baked': 10067, 'sprouts': 10068, 'flirtin': 10069, 'therealyoungzel': 10070, 'naming': 10071, 'danvii': 10072, 'allowing': 10073, 'fritzy': 10074, 'lompartayy': 10075, 'grape': 10076, 'mein': 10077, 'ko': 10078, 'conclusions': 10079, 'intvw': 10080, 'mittromney': 10081, 'rightous': 10082, 'bih': 10083, 'bitched': 10084, 'tonydecola': 10085, 'frankthetank215': 10086, 'jperzell': 10087, 'laker': 10088, 'maher': 10089, 'jimachterfeld': 10090, 'peteypab620': 10091, 'maxmayo77': 10092, 'hoesss': 10093, 'idiotic': 10094, 'roc': 10095, 'oc': 10096, 'faghettios': 10097, 'kong': 10098, 'mothafuckin': 10099, 'trapped': 10100, 'stackin': 10101, 'benzino': 10102, '127821': 10103, 'grumpy': 10104, '97': 10105, 'a47': 10106, 'pedophile': 10107, 'hoo': 10108, 'kit': 10109, 'reconciliation': 10110, 'lovers': 10111, 'gellebeaux': 10112, 'game7': 10113, 'brandonernandez': 10114, 'ignorealllaws': 10115, 'fosters': 10116, 'scooby': 10117, 'gardens': 10118, 'prematurely': 10119, 'preacher': 10120, 'grams': 10121, 'noworriezzzz': 10122, 'blueeyebeaner': 10123, 'sausage': 10124, 'chatter': 10125, 'kidnapping': 10126, 'ganks': 10127, 'ikea': 10128, 'perezhilton': 10129, 'path': 10130, 'eonline': 10131, 'kimberlyyaye': 10132, 'crip': 10133, 'frost': 10134, 'amazinmixbeauti': 10135, 'silverware': 10136, 'dough': 10137, 'beavis': 10138, 'butthead': 10139, 'mdsaab1': 10140, 'studlydubly': 10141, 'brianmc630': 10142, 'itsmegrizz': 10143, 'currieburry': 10144, 'tyzebruh': 10145, 'demanding': 10146, 'gawd': 10147, 'ennuitimes': 10148, 'clever': 10149, 'cashman': 10150, 'conclusion': 10151, 'klsouth': 10152, 'didi23': 10153, 'dappermuke': 10154, 'vans': 10155, 'braces': 10156, 'spiteful': 10157, 'stoprush': 10158, 'peta': 10159, 'downfall': 10160, 'sympathize': 10161, 'dummy': 10162, 'someonebelow': 10163, 'prices': 10164, 'aunts': 10165, 'chickengeorge': 10166, 'jumbo': 10167, 'makem': 10168, 'arbogucci': 10169, 'phelps': 10170, 'filter': 10171, 'kickin': 10172, 'cmnw86': 10173, 'drowned': 10174, 'martins': 10175, 'indi': 10176, 'perfume': 10177, 'stingy': 10178, 'hawaiinshirts': 10179, 'tonydennis': 10180, 'pickett': 10181, 'chops': 10182, 'conscious': 10183, 'cheerleader': 10184, 'dragons': 10185, 'nickelback': 10186, 'turnout': 10187, 'maccabeez': 10188, 'ambernicolee05': 10189, 'chaser': 10190, 'joerogan': 10191, 'sassyharryballs': 10192, '1ubb': 10193, '1visionamd': 10194, 'joshmtz1199': 10195, 'toddler': 10196, 'austinburge44': 10197, 'starkfreeordie': 10198, 'pjs': 10199, 'oo': 10200, 'annoy': 10201, 'antglizzygg': 10202, 'theyello1': 10203, 'jean': 10204, 'therealiman': 10205, 'sonia': 10206, 'criticises': 10207, 'happily': 10208, 'pizzabeforehoes': 10209, 'uppers': 10210, 'consideration': 10211, 'mace': 10212, 'overtime': 10213, 'si': 10214, 'humbleteej': 10215, 'rips': 10216, \"g's\": 10217, 'income': 10218, 'aleksssa': 10219, 'jade': 10220, 'handled': 10221, 'solodahsystem': 10222, 'jefdabest': 10223, 'cranberry': 10224, 'micheals': 10225, 'ramon': 10226, 'godfather': 10227, 'stiffer': 10228, 'irene': 10229, 'thanx': 10230, 'chappell': 10231, 'floydmayweather': 10232, 'items': 10233, 'coilegefessions': 10234, 'pork': 10235, 'forcin': 10236, 'michigannews13': 10237, 'taxis': 10238, 'bettinavla': 10239, 'slurs': 10240, \"'09\": 10241, 'phenomenal': 10242, 'kia': 10243, 'sarahpalinusa': 10244, 'comedianjayski': 10245, 'poem': 10246, 'f4': 10247, 'nsa': 10248, 'possum': 10249, 'wackson': 10250, 'fashioniskei': 10251, 'fleebiscuit': 10252, 'japs': 10253, '315': 10254, 'amazingtiming': 10255, 'swamp': 10256, 'cants': 10257, 'cept': 10258, \"one's\": 10259, 'humans': 10260, 'serge': 10261, 'burns': 10262, 'saint': 10263, 'durags4eva': 10264, 'bland': 10265, 'kansas': 10266, 'lu103': 10267, 'playcrazy': 10268, 'dalifestyle': 10269, 'yummys': 10270, 'strocorleone': 10271, 'lmmfao': 10272, 'pa': 10273, 'choked': 10274, 'angle': 10275, 'alas': 10276, 'debates': 10277, 'kingcorey': 10278, 'deshawn': 10279, 'reek': 10280, 'kendramarie91': 10281, 'andy': 10282, 'naira': 10283, 'albert21': 10284, 'ceto': 10285, 'lurk': 10286, 'bitchess': 10287, 'coaches': 10288, 'tuh': 10289, 'jammin': 10290, 'squares': 10291, 'thigh': 10292, 'gaps': 10293, 'iamyaokhari': 10294, 'talibkweli': 10295, 'tapes': 10296, '9981': 10297, '127344': 10298, 'factory': 10299, 'lucy': 10300, 'mister': 10301, 'thecrewfinest': 10302, 'stump': 10303, 'bestf': 10304, 'campbell': 10305, 'ondat': 10306, 'othershit': 10307, 'bitterchick': 10308, 'wedges': 10309, 'laydeesweets': 10310, 'sofa': 10311, 'deemed': 10312, 'jac': 10313, '0beyyourmaster': 10314, 'nigggapino': 10315, 'dority': 10316, 'trout': 10317, 'katiepavlich': 10318, 'entirely': 10319, 'britneyspears': 10320, 'marble': 10321, 'troubleman': 10322, 'mskeekee90s': 10323, 'yh': 10324, 'x33': 10325, 'muthafucka': 10326, 'calfee': 10327, 'yoo': 10328, 'overbites': 10329, 'lcl03': 10330, 'angus': 10331, \"'wow\": 10332, 'believed': 10333, 'germany': 10334, 'skylar': 10335, 'roof': 10336, 'unexplainable': 10337, 'understands': 10338, 'hahahahaha': 10339, 'darienbaby': 10340, 'increase': 10341, 'heller': 10342, 'kane': 10343, 'kaya': 10344, 'transformers': 10345, 'ps3': 10346, 'eurotrash': 10347, 'yungill314': 10348, 'cumin': 10349, 'blackhilton': 10350, 'noway': 10351, 'kylekallgren': 10352, 'bridifferent': 10353, 'ride907': 10354, 'spits': 10355, 'fite': 10356, 'baabyshaay': 10357, 'studies': 10358, 'cutter': 10359, 'floating': 10360, 'gameday': 10361, 'arrive': 10362, 'batting': 10363, 'audizzle': 10364, 'approaching': 10365, 'hm': 10366, 'baskgod': 10367, \"baker's\": 10368, 'fisherman': 10369, 'gaza': 10370, 'fixitjesus': 10371, \"poppin'\": 10372, 'vondreaam': 10373, 'promo': 10374, \"90's\": 10375, 'senator': 10376, 'coleduff24': 10377, 'colemcdowell2': 10378, 'prostitute': 10379, 'josephtheflyguy': 10380, 'banjo': 10381, 'quenchyagirl': 10382, 'adorebellaaa': 10383, 'southwest': 10384, 'bubba': 10385, 'lordwillin': 10386, 'nugget': 10387, 'setup': 10388, 'dunkin': 10389, 'donuts': 10390, 'ispeakmut': 10391, 'blackorchidm16': 10392, 'vivalamarley': 10393, 'grinand': 10394, 'snitches': 10395, 'pumps': 10396, 'cutler': 10397, 'celtic': 10398, 'quiz': 10399, 'payed': 10400, 'werd': 10401, 'youuu': 10402, 'lanebelgarde': 10403, 'nekkohbk': 10404, 'hellobaphomet': 10405, 'bougie': 10406, 'uptmillz': 10407, 'eakaerick': 10408, 'youngpaper': 10409, 'filters': 10410, 'chrismcdowell': 10411, 'apartment': 10412, 'publix': 10413, 'port': 10414, 'pushes': 10415, 'capricorn': 10416, 'zp3': 10417, 'gratata': 10418, 'jennaferjenbub': 10419, 'chelseypaige42': 10420, 'cleats': 10421, 'arabellaann': 10422, 'aghh': 10423, 'rianscalia': 10424, 'dini': 10425, 'tougher': 10426, 'manchester': 10427, 'ky': 10428, 'coldest': 10429, 'broganwebber': 10430, 'pt': 10431, '128096': 10432, 'kemora': 10433, 'bbflockajames': 10434, 'schoolboyq': 10435, 'krazy': 10436, 'duct': 10437, 'tablet': 10438, 'lowest': 10439, 'grabbed': 10440, 'wrist': 10441, 'whyyousoshort': 10442, 'whippin': 10443, 'volleyball': 10444, 'therealicetre': 10445, 'chokes': 10446, 'rft': 10447, 'sheeple': 10448, 'tvs': 10449, 'raunchy': 10450, 'sakurako': 10451, 'bekkalina13': 10452, 'mleew17': 10453, 'aap': 10454, 'kaepernick': 10455, 'waldokillz3': 10456, 'foodbibie': 10457, 'grandehead': 10458, 'girardi': 10459, 'cdiddy': 10460, 'fukd': 10461, 'nelson': 10462, 'rolex': 10463, 'ayylmaoanod': 10464, 'ut': 10465, 'timatheracer': 10466, 'aj2amazing': 10467, 'sammich': 10468, 'fendi': 10469, 'milesfan79': 10470, 'resides': 10471, 'callherebby': 10472, 'napturallydev': 10473, 'cloudz': 10474, 'mariam': 10475, 'deadass': 10476, 'sharkeisha': 10477, 'ogsitti': 10478, \"hatin'\": 10479, 'peer': 10480, 'blackrepublican': 10481, 'spike': 10482, 'girlz': 10483, 'resolution': 10484, 'brief': 10485, 'godbody': 10486, 'ream': 10487, 'willy': 10488, 'arrogance': 10489, 'kiante': 10490, 'bgc': 10491, 'onto': 10492, 'ii': 10493, 'rover': 10494, 'figuring': 10495, \"'believe\": 10496, \"over'\": 10497, 'sb': 10498, 'tch': 10499, 'holyspirit': 10500, 'joshua': 10501, 'peanuts': 10502, 'articulate': 10503, 'aura': 10504, 'yourewelcome': 10505, 'tonedagawd': 10506, 'shi': 10507, '58381': 10508, 'missy': 10509, 'confuse': 10510, 'oldirtyjesus': 10511, 'gentle': 10512, 'han': 10513, 'vofd': 10514, '128679': 10515, 'lactose': 10516, 'glow': 10517, 'xhollywoodcourt': 10518, 'secretary': 10519, 'billions': 10520, \"murphy's\": 10521, 'breeding': 10522, 'dearleader10': 10523, 'askwhy05': 10524, 'eliminated': 10525, 'zoom': 10526, 'lezzzbehonest': 10527, '2yrs': 10528, 'robdelaney': 10529, 'vizyisignant': 10530, 'ltf': 10531, 'explode': 10532, 'whack': 10533, 'brookebrooklyn': 10534, 'ayoo': 10535, '127969': 10536, 'slice': 10537, 'sharana': 10538, '2parasites': 10539, 'bun': 10540, 'maple': 10541, 'maddieevaans': 10542, 'guessing': 10543, 'sickipedia': 10544, 'youn': 10545, 'dynamite': 10546, 'heres': 10547, 'ab': 10548, 'directly': 10549, 'royalty': 10550, 'nobility': 10551, '6months': 10552, 'corrupt': 10553, 'cattle': 10554, 'whatsashirt': 10555, 'highschool': 10556, '128034': 10557, 'resistant': 10558, 'matty': 10559, 'sleeve': 10560, 'freckles': 10561, 'smelt': 10562, 'picky': 10563, 'maycie32': 10564, 'catalog': 10565, 'scissor': 10566, 'flo': 10567, 'mrwest': 10568, 'aerin': 10569, 'ud': 10570, 'arcticfox2016': 10571, '128519': 10572, 'annoyed': 10573, 'kingjvsh': 10574, 'hen314': 10575, 'alec': 10576, 'austin12': 10577, 'thinner': 10578, 'greghillwaaf': 10579, 'georgegia': 10580, 'yessssss': 10581, 'day200': 10582, 'marywcvb': 10583, 'swampscott': 10584, 'wcvbpoli': 10585, 'oi': 10586, 'thatassholealan': 10587, 'sme': 10588, 'formal': 10589, 'fingered': 10590, \"doin'\": 10591, 'nighas': 10592, 'natitude': 10593, 'leandr321': 10594, '1takehov': 10595, 'jayallday612': 10596, 'jays': 10597, 'alla': 10598, 'josecanseco': 10599, 'hoodrats': 10600, 'muhhfuckin': 10601, 'sgt': 10602, 'coughing': 10603, 'tortoise': 10604, 'dumbto': 10605, 'prosper': 10606, 'hollow': 10607, 'doit': 10608, 'keri': 10609, \"'92\": 10610, 'perot': 10611, 'leiacatherinexx': 10612, 'skippy': 10613, 'lighten': 10614, 'stafford': 10615, 'megatron': 10616, 'cmchat': 10617, 'stations': 10618, 'spelled': 10619, 'thadisreal': 10620, 'raining': 10621, 'mx': 10622, 'determine': 10623, 'burner': 10624, 'janay': 10625, 'caramel': 10626, 'broadcast': 10627, 'challenger': 10628, 'flaming': 10629, 'educated': 10630, 'witnessed': 10631, 'fiberglass': 10632, 'whitney': 10633, 'wrecked': 10634, '128570': 10635, 'partial': 10636, 'workshop': 10637, 'lumponthegrind': 10638, 'sch': 10639, 'tinder': 10640, 'iamshady': 10641, 'talent': 10642, 'tempted': 10643, 'ios8': 10644, 'gb': 10645, 'partners': 10646, 'lifenewshq': 10647, 'theater': 10648, 'thoo': 10649, 'vandalize': 10650, 'callme': 10651, 'jetson': 10652, 'hickey': 10653, 'cud': 10654, 'checkin': 10655, 'blessings': 10656, 'eb': 10657, 'apthecreated': 10658, 'josephbananas': 10659, 'rethink': 10660, 'brandontierney': 10661, '214bighappy': 10662, 'dwn': 10663, 'erykahminor': 10664, 'aaryneliza': 10665, 'toast': 10666, 'outcha': 10667, 'amsterdam': 10668, 'fortune': 10669, 'focusing': 10670, 'erything': 10671, 'donts': 10672, 'hannahtherapper': 10673, 'yunglust': 10674, 'toothed': 10675, 'danram70': 10676, '4get': 10677, 'totes': 10678, 'mayday': 10679, 'slicing': 10680, 'buddha': 10681, 'aren': 10682, 'justsayin': 10683, \"'ouija'\": 10684, 'tia': 10685, 'nerd': 10686, 'stops': 10687, 'specific': 10688, 'suburban': 10689, 'louiev': 10690, 'io': 10691, 'veteran': 10692, 'mtvhottest': 10693, \"smith's\": 10694, 'nazi': 10695, 'headache': 10696, 'aekulze': 10697, 'syd': 10698, 'renae': 10699, 'bathrobes': 10700, 'cruising': 10701, 'jockin': 10702, 'foreverandix': 10703, 'msjoseline': 10704, 'parasitic': 10705, 'whose': 10706, 'darealkha': 10707, 'approach': 10708, 'paychecks': 10709, 'bon': 10710, \"party's\": 10711, 'starvin': 10712, 'lars': 10713, 'bugattibeez': 10714, 'malibu': 10715, 'professional': 10716, 'lunaraps': 10717, 'adderall': 10718, '128186': 10719, 'faceyspace': 10720, 'segment': 10721, 'rudyjay711': 10722, 'atg': 10723, 'notsosweetpea': 10724, 'ssickstory': 10725, '2k14': 10726, 'calculate': 10727, 'circumference': 10728, 'privileges': 10729, 'ashton': 10730, '275yungsimmie': 10731, 'progressive': 10732, 'guwop': 10733, 'snobby': 10734, 'bootygangcult': 10735, 'stroking': 10736, 'pros': 10737, 'situations': 10738, 'erv': 10739, 'marley': 10740, 'chichi': 10741, 'penn': 10742, 'spending': 10743, 'jmanziel2': 10744, 'vietnam': 10745, \"m's\": 10746, 'celibate': 10747, '9729': 10748, 'shaggy': 10749, 'puremonotheist': 10750, 'bemetor8': 10751, 'uniteblue': 10752, 'puppets': 10753, 'intentionally': 10754, 'jalenhendricks4': 10755, 'warrior': 10756, 'engaged': 10757, 'yank': 10758, 'stamps': 10759, '87': 10760, 'gmalko1': 10761, 'uv': 10762, 'illegals': 10763, 'bradleey': 10764, 'visiting': 10765, 'anthonybialy': 10766, 'maryland': 10767, 'feministajones': 10768, 'grizzly': 10769, 'polar': 10770, 'caleb': 10771, 'silk': 10772, '55st': 10773, 'impressive': 10774, 'erbody': 10775, 'brandnewandrew': 10776, 'granted': 10777, 'chavodagreat': 10778, 'duckydynamo': 10779, 'trethreat': 10780, 'backdoor': 10781, 'maaan': 10782, 'milwaukee': 10783, 'wished': 10784, 'ellsbury': 10785, 'envy': 10786, 'bytches': 10787, 'willyroast2': 10788, 'laurabehnke': 10789, 'yoliethejew': 10790, 'zeeti': 10791, 'machinegunkelly': 10792, 'executive': 10793, 'dairy': 10794, 'gota': 10795, \"dee's\": 10796, 'sighs': 10797, 'rival': 10798, 'tense': 10799, 'madddd': 10800, 'venue': 10801, 'tubby': 10802, 'manual': 10803, 'stefanie': 10804, \"5'o\": 10805, 'puedo': 10806, 'babee': 10807, 'tpot': 10808, 'dada': 10809, 'liberation': 10810, 'wooden': 10811, 'illionaire': 10812, 'mayormcginn': 10813, 'pollos': 10814, \"l'ast\": 10815, 'estaban': 10816, '237': 10817, 'indycar': 10818, 'nogs': 10819, 'zog': 10820, 'notification': 10821, 'socially': 10822, 'mcshay': 10823, 'healthy': 10824, 'mydicklscailed': 10825, 'downloading': 10826, 'reminded': 10827, 'toddkincannon': 10828, 'dingy': 10829, 'bama': 10830, 'ic': 10831, 'metaphor': 10832, 'policies': 10833, 'vital': 10834, 'cmpunk': 10835, 'feeding': 10836, 'kendall': 10837, 'downloaded': 10838, 'waving': 10839, '1589': 10840, '1608': 10841, '1591': 10842, '1583': 10843, '1571': 10844, '1581': 10845, '1588': 10846, '1576': 10847, 'drinkin': 10848, 'cjayytaughther': 10849, 'donut': 10850, 'bj': 10851, 'tehduckii': 10852, 'ballhawk': 10853, 'xtruthseekerx': 10854, 'nutts': 10855, 'kobebryant': 10856, 'hampton': 10857, 'junior': 10858, 'subbing': 10859, 'izthat': 10860, 'revis': 10861, 'laptop': 10862, 'redheadray': 10863, 'elizabeth': 10864, 'bluejays': 10865, \"amber's\": 10866, 'illmak3ufamous': 10867, 'stature': 10868, '27th': 10869, 'cheezmoejenkinz': 10870, 'amongst': 10871, 'miragotthejuice': 10872, 'woah': 10873, 'crazzzyyyyyy': 10874, 'kimchanel': 10875, 'direction': 10876, 'waynedupreeshow': 10877, 'straightcash08': 10878, 'hospital': 10879, 'tizzimarie': 10880, 'slushes': 10881, '127815': 10882, 'fugazi3011': 10883, 'hologram': 10884, 'laridodi': 10885, 'nit': 10886, 'jennyreyes42': 10887, 'invented': 10888, 'livestream': 10889, 'fe': 10890, 'some1': 10891, 'otp': 10892, 'jaymcnuggets': 10893, 'ohhhhh': 10894, 'foam': 10895, 'suspend': 10896, 'alexiscarfield': 10897, 'billperiman': 10898, 'joes': 10899, 'cologne': 10900, 'tednugent': 10901, 'werent': 10902, 'wigga32': 10903, 'heeft': 10904, 'ramesh': 10905, 'jerry': 10906, 'llab': 10907, 'saddybey': 10908, 'prayforjack': 10909, 'administration': 10910, 'tneut10': 10911, 'waitress': 10912, 'chic': 10913, 'caddy': 10914, 'igivepussycpr': 10915, 'honchopikasoe': 10916, 'dezzzybo': 10917, 'rogers': 10918, 'waitin': 10919, 'angelic': 10920, 'bb16': 10921, 'vehicle': 10922, 'fisted': 10923, 'nicekicks': 10924, 'dawggg': 10925, 'vibrator': 10926, 'itaint': 10927, 'recount': 10928, 'pisces': 10929, \"anybody's\": 10930, 'trunks': 10931, 'dominican': 10932, \"george's\": 10933, 'augustalsina': 10934, 'jimtalbot1963': 10935, 'theharris338': 10936, 'deaths': 10937, 'kevhoeee916': 10938, 'creoleblood': 10939, 'tre123': 10940, 'sidekick': 10941, 'alexdavisraps': 10942, 'webbie': 10943, 'xtaygottii': 10944, 'taefrmutw': 10945, 'lml': 10946, 'collegehoops': 10947, 'dirtyeaffiliate': 10948, 'indirect': 10949, 'subbin': 10950, 'shooters': 10951, '1043357': 10952, 'iq': 10953, 'fvnxy': 10954, 'forthemen': 10955, '420': 10956, 'kingshelton': 10957, 'inevitably': 10958, 'traditionally': 10959, 'golly': 10960, 'cruel': 10961, 'kep0ne': 10962, 'rudy': 10963, 'ducking': 10964, 'yeaaaaahhhh': 10965, 'burkhart': 10966, 'indian': 10967, 'yumiyoko': 10968, 'cher': 10969, 'trophies': 10970, 'kaaat': 10971, 'skate': 10972, 'arrived': 10973, 'unt': 10974, 'bumble': 10975, 'vermontproblems': 10976, 'dodo': 10977, '2016': 10978, 'prez': 10979, 'worldnetdaily': 10980, 'quints': 10981, 'settled': 10982, 'surf': 10983, 'marrie': 10984, 'tipsy': 10985, 'mild': 10986, 'hahahaaha': 10987, 'smackin': 10988, 'kidnap': 10989, 'brotherbill7': 10990, '131st': 10991, 'coolatta': 10992, 'bengals': 10993, '450': 10994, 'wayyyy': 10995, 'returns': 10996, 'designs': 10997, 'poff': 10998, \"men's\": 10999, 'cristian': 11000, 'dior': 11001, 'groupies': 11002, 'rickygervais': 11003, 'hack': 11004, 'jodeci': 11005, 'danabashcnn': 11006, 'kindergarten': 11007, 'goreing': 11008, 'lambo': 11009, 'uninformed': 11010, 'theerniie': 11011, 'jerseyzbest74': 11012, 'badder': 11013, 'tower': 11014, 'puerto': 11015, 'rican': 11016, 'fuckboy': 11017, 'thechriscates': 11018, 'cqminaj': 11019, \"french's\": 11020, 'kenosha': 11021, 'orientation': 11022, 'provide': 11023, 'brush': 11024, 'unhappy': 11025, 'taffy': 11026, 'raepaelmunturo': 11027, 'lv': 11028, 'hv': 11029, 'gansitos': 11030, 'cussed': 11031, 'casino': 11032, 'doug': 11033, 'stewie': 11034, 'rippin': 11035, 'bellaangeletti': 11036, 'pheonix': 11037, 'justleshay': 11038, 'purposely': 11039, 'ins': 11040, 'matthometeam': 11041, 'frequently': 11042, 'mcrib': 11043, 'popitfor': 11044, 'tyrick': 11045, '39': 11046, 'banning': 11047, 'fuckkkkk': 11048, 'jarievee': 11049, \"family's\": 11050, 'chantel': 11051, 'austinbedsaul': 11052, 'gelato': 11053, 'hive': 11054, 'packet': 11055, 'fishin': 11056, 'omgitskaric': 11057, 'scar': 11058, 'pzfeed': 11059, 'russnelligan': 11060, 'introducing': 11061, 'dak': 11062, 'canifuckornah': 11063, 'pacmanjonez': 11064, 'trentskii': 11065, 'ripping': 11066, 'dolphrudager': 11067, 'incident': 11068, 'freetopher': 11069, 'careless': 11070, '2b': 11071, 'greatscottnyc': 11072, '128575': 11073, 'aram2432': 11074, 'peppermint': 11075, 'icumyouleave': 11076, '666': 11077, 'ow': 11078, 'worldseries': 11079, 'attracted': 11080, \"tomorrow's\": 11081, 'bloomington': 11082, 'sliwinski': 11083, 'thatindianbruh': 11084, 'keiveeb': 11085, 'savanaharanda': 11086, 'pres': 11087, '3k': 11088, 'thangs': 11089, 'rights': 11090, 'rabehchararah1': 11091, 'promotion': 11092, 'sheep': 11093, 'nemo': 11094, 'gig': 11095, 'myniggakushy': 11096, 'politically': 11097, 'autistic': 11098, 'brainwashed': 11099, 'minus': 11100, 'coco': 11101, 'beening': 11102, 'hay': 11103, 'getup': 11104, 'pr': 11105, 'nuteila': 11106, 'homeboys': 11107, 'offset': 11108, 'meaghanyockey': 11109, 'eaaaazzzz': 11110, 'piers': 11111, '128125': 11112, 'dumps': 11113, 'vacante': 11114, 'mums': 11115, 'research': 11116, 'kingxxlopez': 11117, 'roberts': 11118, 'boiled': 11119, 'chello': 11120, 'grounds': 11121, 'cab': 11122, 'aryan': 11123, 'weston': 11124, 'greaterthn': 11125, 'leggo': 11126, 'yeezus': 11127, 'samples': 11128, 'patrol': 11129, 'queendev': 11130, 'camels': 11131, 'ostriches': 11132, 'accused': 11133, 'lurkin': 11134, 'soldier1eaodgrn': 11135, 'hermoufpiece': 11136, '2manylouboutins': 11137, 'espinosa': 11138, '10068': 11139, 'southernshirt': 11140, 'athletes': 11141, 'will123': 11142, 'william': 11143, 'dylan72892': 11144, '58399': 11145, 'acquire': 11146, 'solarte': 11147, 'lifelong': 11148, 'rightful': 11149, 'aaronworthing': 11150, 'icampintense': 11151, 'carolcnn': 11152, 'agrees': 11153, 'carol': 11154, 'farrar': 11155, 'turk': 11156, 'bears': 11157, 'lester': 11158, \"bitch's\": 11159, 'treyzupzay': 11160, 'dattboiiraq': 11161, 'leagues': 11162, 'surely': 11163, 'kingof334mobb': 11164, 'daberellla': 11165, 'marcostc': 11166, 'iwatch': 11167, 'hoodrat': 11168, 'durham': 11169, 'tar': 11170, 'rugbysocklad': 11171, 'vday': 11172, 'egregious': 11173, 'esp': 11174, 'chuckers': 11175, 'wallstwatkins': 11176, '49ers': 11177, 'tender': 11178, 'tater': 11179, 'horrific': 11180, 'eliminate': 11181, 'giggles': 11182, 'updated': 11183, 'obsession': 11184, 'effective': 11185, 'ayyy': 11186, 'dianaaaxo': 11187, 'biting': 11188, 'titans': 11189, 'stomped': 11190, '10th': 11191, 'ze': 11192, 'ongesteld': 11193, 'pearlblueyes': 11194, 'rbomem': 11195, 'nan': 11196, 'fuuuuuck': 11197, 'freeyungnwild': 11198, 'realydotgdot': 11199, 'headless': 11200, 'deen': 11201, 'faze': 11202, 'womp': 11203, 'parched': 11204, 'renew': 11205, 'arabic': 11206, 'karrueche': 11207, 'refrain': 11208, 'angelhaze': 11209, '49ant': 11210, 'nabilabuamirah': 11211, 'tioo': 11212, '161': 11213, 'www': 11214, 'crys': 11215, 'kae': 11216, 'recycling': 11217, 'tittyflex': 11218, 'valuable': 11219, 'jezzzz': 11220, 'gd': 11221, 'couldve': 11222, 'le3ggg': 11223, 'respectful': 11224, 'anelylove': 11225, 'pissin': 11226, 'dirkalisic': 11227, 'rammed': 11228, 'anotherpotheadd': 11229, 'tit': 11230, 'skrr': 11231, 'crumbs': 11232, 'bhmuo4x4vu': 11233, 'zoebarton3': 11234, 'eaters': 11235, 'ganglandabby': 11236, 'favors': 11237, '22duces20': 11238, 'loveme': 11239, 'ccobey': 11240, 'bengali': 11241, 'medal': 11242, 'sfvsstl': 11243, 'aaron': 11244, 'raychielovesu': 11245, 'raggedy': 11246, 'lineup': 11247, 'soriano': 11248, 'goooood': 11249, 'carne': 11250, 'heartbreak': 11251, 'inspiration': 11252, 'royaltyclubvp': 11253, 'shaft': 11254, '1941': 11255, 'intensedesire': 11256, 'realjohnbrannon': 11257, 'fallontonight': 11258, 'ashanti': 11259, 'lmbo': 11260, 'amymek': 11261, 'warsaw': 11262, 'anepicname': 11263, 'andrewjburns1': 11264, 'ox': 11265, 'maiapapayyya': 11266, 'sheeba': 11267, 'gee': 11268, 'tribute': 11269, 'incase': 11270, 'steadmanterri': 11271, 'marshall': 11272, 'hides': 11273, 'musings': 11274, 'mon': 11275, 'gabriel': 11276, 'montoya': 11277, 'athletic': 11278, 'jullie': 11279, 'kuch': 11280, 'nhl': 11281, 'ign': 11282, 'iamshiraq': 11283, 'werewolf': 11284, 'moscato': 11285, 'gaines': 11286, 'snatched': 11287, 'watchu': 11288, 'juan': 11289, 'executed': 11290, 'adogg': 11291, 'explaining': 11292, 'slimthugga': 11293, 'convos': 11294, 'mayonnaise': 11295, 'hanson': 11296, 'djceeloss': 11297, 'hyping': 11298, 'aerinblazin': 11299, 'therealsaigon': 11300, 'frances': 11301, 'application': 11302, 'bjames055': 11303, 'iran': 11304, 'mitt': 11305, 'cheez': 11306, 'iii': 11307, 'freestyle': 11308, 'herk87': 11309, 'mozzarella': 11310, 'redd': 11311, 'sleepin': 11312, \"money's\": 11313, 'leading': 11314, 'seed': 11315, 'nf': 11316, 'xanshawty': 11317, 'rahshauna': 11318, 'overly': 11319, 'drc': 11320, 'rene': 11321, 'gadecowboy': 11322, 'nipsey': 11323, 'flexed': 11324, 'chop': 11325, 'str8up': 11326, 'convenient': 11327, 'climate': 11328, 'jewels': 11329, 'tellmeboutlove': 11330, '70s': 11331, 'drunken': 11332, 'playground': 11333, 'potent': 11334, 'racks': 11335, 'matthops82': 11336, 'balvarezzzz': 11337, 'lor': 11338, 'hillbilliety': 11339, 'keyshbechillin': 11340, 'kenneth': 11341, 'joan': 11342, 'mccloskey': 11343, 'thus': 11344, 'lindsay': 11345, 'lohan': 11346, '128103': 11347, 'gnarles': 11348, 'moulinyan': 11349, 'memorabilia': 11350, 'prettygrl': 11351, 'junk': 11352, 'depressed': 11353, 'glowstruck': 11354, 'sharpton': 11355, 'weiner': 11356, 'ave': 11357, 'patvpeters': 11358, 'mercy': 11359, 'sprayed': 11360, 'nevadapr': 11361, 'woridstarfunnyy': 11362, 'thas': 11363, 'flyer': 11364, 'schoolers': 11365, 'vj44': 11366, 'wingstop': 11367, 'imsolk': 11368, 'badnradbrad': 11369, 'breezy': 11370, 'vader': 11371, 'yoda': 11372, 'col': 11373, 'extended': 11374, 'blaze': 11375, 'enemies': 11376, 'skins': 11377, 'qtna': 11378, 'k8': 11379, 'urhighnesss': 11380, 'fuckk': 11381, 'relaxing': 11382, 'rocket': 11383, 'courage': 11384, 'dozen': 11385, 'promoters': 11386, 'southpark': 11387, 'allhailtaron': 11388, 'petite': 11389, 'antijokejamal': 11390, 'yada': 11391, 'gwb': 11392, 'appointee': 11393, 'infections': 11394, 'asshat': 11395, 'avengers': 11396, 'sammytbh': 11397, 'gona': 11398, 'felon': 11399, 'medicine': 11400, 'weakndmlg': 11401, 'champaign': 11402, 'snipers': 11403, \"boyfriend's\": 11404, 'korean': 11405, 'dancers': 11406, '175': 11407, 'dolphins': 11408, 'cabinet': 11409, 'uck': 11410, 'zoned': 11411, 'cheater': 11412, '9835': 11413, 'tryhardalby': 11414, 'nov': 11415, 'warzone': 11416, 'mxllxvv': 11417, 'amgllcceo': 11418, 'lovemedarlingg': 11419, 'shaa': 11420, 'jenkins': 11421, 'tier': 11422, 'ana': 11423, 'ioana': 11424, 'mckean': 11425, 'briiixo': 11426, 'tisk': 11427, 'raving': 11428, 'tick': 11429, '9918': 11430, 'rooftops': 11431, 'lessonswithkate': 11432, '128119': 11433, 'appearance': 11434, 'fgcu': 11435, \"sharkeisha'd\": 11436, 'yaz': 11437, 'bussiness': 11438, 'commented': 11439, 'robbins': 11440, 'cheerleading': 11441, 'dopeshitonly': 11442, 'oral': 11443, 'taurusismagic': 11444, \"taurus's\": 11445, 'beibers': 11446, 'gfyrq2vfyz': 11447, 'legendfuck': 11448, 'thinknmoney': 11449, 'wendys': 11450, 'tacobell': 11451, 'porkchop': 11452, 'canned': 11453, 'carrots': 11454, 'celery': 11455, 'cayenne': 11456, 'ntxprogressive': 11457, 'swiftee': 11458, 'disturbed': 11459, 'askd': 11460, 'forsake': 11461, \"6'9\": 11462, 'bywatergal': 11463, 'capped': 11464, 'hof': 11465, '9am': 11466, 'chalked': 11467, 'amina': 11468, 'steiny31': 11469, 'mekv4wyjvq': 11470, 'chillllll': 11471, 'ouutttt': 11472, 'aaymee29': 11473, 'bussing': 11474, 'f7d0mxcexj': 11475, 'humming': 11476, 'jstewcoolcat': 11477, 'taiquaniesha': 11478, '3a5qgki97b': 11479, 'simplylucylu': 11480, 'mouths': 11481, 'snowday2014': 11482, 'queenbitchhhh': 11483, 'hellocupkake': 11484, 'soaked': 11485, 'sinked': 11486, 'linc': 11487, '3foyaywlws': 11488, 'ntac': 11489, 'eileen': 11490, 'dahlia': 11491, 'coll': 11492, 'h0dyebvnzb': 11493, 'runna': 11494, 'ng5': 11495, 'calomitchell': 11496, 'alexisdiamond': 11497, 'ajayb': 11498, 'sheswatspoppin': 11499, 'letters': 11500, 'bachelor': 11501, 'stooped': 11502, 'blackboard': 11503, 'disc': 11504, 'ovalames': 11505, 'responds': 11506, 'scc8stdmgu': 11507, 'nui9ujvfa2': 11508, 'tasogarenoraiko': 11509, 'damara': 11510, 'gladiola': 11511, \"dog's\": 11512, 'therealkevinmcb': 11513, 'sauerkraut': 11514, 'saul': 11515, 'nikkinigro22': 11516, 'toyamiani': 11517, 'shakestweetz': 11518, 'philbarron': 11519, 'javachik': 11520, 'infection': 11521, 'xxcdqvzi9t': 11522, 'niggerous': 11523, 'lodycash': 11524, 'dove': 11525, 'attainable': 11526, 'telephone': 11527, 'lapdances': 11528, 'whothatbe': 11529, 'lae': 11530, 'savenohoes': 11531, 'z3p8sxqtt3': 11532, 'commments': 11533, 'fqcwzhmjom': 11534, 'ajbernal17': 11535, 'tfotrkw25v': 11536, 'bitchimasavage': 11537, 'btmlynnkzp': 11538, 'nimrod': 11539, 'getrkod': 11540, '6xpnyr1jbn': 11541, 'encountered': 11542, 'tegan': 11543, 'sara': 11544, 'shortsaid': 11545, 'mydadatthestore': 11546, 'northsidegreg': 11547, 'opieradio': 11548, 'thrill3r': 11549, 'selina': 11550, 'dabbagh': 11551, 'hermanos': 11552, 'heisenberg': 11553, 'redron100': 11554, 'method': 11555, 'colonial': 11556, 'employed': 11557, 'playbook': 11558, 'qvc': 11559, 'shortcake': 11560, 'stacked': 11561, 'spunge': 11562, 'strawberries': 11563, 'freshly': 11564, 'happyhumpday': 11565, 'r8jsymib5b': 11566, 'derekpayne': 11567, 'boyyyyy': 11568, \"mama's\": 11569, '2qy0dqokmg': 11570, 'fixitjesusx': 11571, 'tyracountryman': 11572, 'prissyneeer': 11573, 'yahoofinance': 11574, 'stocks': 11575, 'mrmlxacoxx': 11576, 'brew': 11577, 'fic4fnrutz': 11578, '5thharmony': 11579, 'user': 11580, 'tuitillidie': 11581, 'icepick': 11582, 'mosh': 11583, 'uu': 11584, '116': 11585, 'shyhoof': 11586, 'umbralfox': 11587, 'feyote': 11588, 'lamashtu': 11589, 'orgies': 11590, 'cakebosslex': 11591, 'laughatproblems': 11592, 'jdxid5i9dk': 11593, 'crocker': 11594, 'unprovoked': 11595, 'dissenters': 11596, 'joederosacomedy': 11597, 'patiently': 11598, 'awaiting': 11599, 'longlivelilray': 11600, 'titanfall': 11601, 'rolly': 11602, 'forbes': 11603, 'mammals': 11604, 'reptiles': 11605, 'amphibians': 11606, 'vanished': 11607, '1970': 11608, 'mimizth0oz': 11609, 'monicawarren16': 11610, 'pumprules': 11611, 'imkadie': 11612, 'revlon': 11613, 'lesserfilms': 11614, 'zsaazfl0p5': 11615, 'blvcksxul': 11616, 'vao8ovq4xm': 11617, 'tron': 11618, 'patsgonnasubtweet': 11619, 'toddstarnes': 11620, 'representative': 11621, 'teammarlo': 11622, 'smsc86mnbc': 11623, 'lwdxrvjceu': 11624, 'xsimoneeeeeeeee': 11625, 'trillzo': 11626, 'qmg': 11627, 'shoreline': 11628, 'parakeet': 11629, 'bq3cbipk6s': 11630, 'revolutionuk': 11631, 'torturers': 11632, 'dutchess': 11633, 'yhanaaaa': 11634, 'dthang': 11635, 'bill215': 11636, 'nel': 11637, 'ayden': 11638, 'cuteeeee': 11639, 'audacity': 11640, 'kenzayye': 11641, 'ruga': 11642, 'bussed': 11643, 'kenlypls': 11644, 'skeetworld': 11645, 'iacceptnudes': 11646, 'skiny': 11647, 'obutta': 11648, 'justspeedy': 11649, 'sqvyksdkwu': 11650, 'domhowx': 11651, 'dwps7b4xju': 11652, 'pollute': 11653, 'scuf': 11654, 'frail': 11655, 'performed': 11656, 'torn': 11657, '2000': 11658, 'cmre24': 11659, 'sweets': 11660, 'ponder': 11661, 'myriad': 11662, 'l7zmxiyvqy': 11663, \"tee's\": 11664, 'stephghost': 11665, 'dondonboi': 11666, 'mos': 11667, 'brittbritt': 11668, 'naay': 11669, 'wexican': 11670, 'georjay': 11671, 'zoeboi03': 11672, 'bofl': 11673, 'y3sybsvpv4': 11674, 'thebovee': 11675, 'imdevincarlson': 11676, 'bynum': 11677, 'waived': 11678, 'missloloko': 11679, 'p4jodam2fm': 11680, 'shiit': 11681, 'r4fldz5sin': 11682, 'treyspears3': 11683, 'lowlife': 11684, 'shoulders': 11685, 'foto': 11686, 'imapython': 11687, 'bieg': 11688, 'vymitsncen': 11689, 'jaleesaraex': 11690, 'jenner': 11691, 'zj2guu0pcm': 11692, 'stacy': 11693, 'lattisaw': 11694, '127802': 11695, '127774': 11696, '128132': 11697, 'jxqontfiuq': 11698, 'mykalaj': 11699, 'whitakerc54': 11700, '1goodlookingman': 11701, 'mesmart029': 11702, 'highfromthe90s': 11703, 'moneyhg': 11704, 'jaspoo': 11705, 'treybizzy': 11706, 'weres': 11707, 'viplounge901': 11708, 'nolinenowait': 11709, 'meetmethere': 11710, 'zqvgmlzqfe': 11711, 'sneakerhead226': 11712, 'stephdamartian': 11713, 'endearing': 11714, 'judgepeopleatschoolday': 11715, 'therealtootie': 11716, 'backwoods': 11717, 'woe': 11718, 'ldr5s3kpng': 11719, 'dace': 11720, 'wafg8eyygm': 11721, 'n4bzyk1dh4': 11722, 'tweettully': 11723, 's0xwgflj9c': 11724, \"alexa's\": 11725, 'racistaf': 11726, 'procrastination': 11727, 'montagkeys': 11728, 'googling': 11729, 'nair': 11730, 'dome': 11731, \"ds's\": 11732, 'diy': 11733, 'tbtweets': 11734, 'uvs9e1gxpf': 11735, 'michane': 11736, '6cgdxrzo8w': 11737, 'friended': 11738, 'lightweight': 11739, 'heavyweight': 11740, 'grail': 11741, 'vacations': 11742, 'pusses': 11743, 'wah': 11744, 'aidkdmztln': 11745, 'igbanamibani': 11746, 'devjayaintshit': 11747, 'tsb0xljrny': 11748, 'jusguapo': 11749, 'scandai': 11750, 'suzi8loaoe': 11751, 'loyalpeopleonly': 11752, '1ti5k1f1sf': 11753, 'amend': 11754, 'freed': 11755, 'loophole': 11756, 'rayhudson': 11757, 'bestthe': 11758, 'pious': 11759, 'scarlet': 11760, 'winds': 11761, 'sobbing': 11762, 'reaganchanel': 11763, 'aaliyah': 11764, 'clout': 11765, 'jwreich142': 11766, 'iw9wpg1sfy': 11767, 'twostarscoob': 11768, 'treal': 11769, 'urmagesty': 11770, 'aussiegrit': 11771, 'httbu4omzy': 11772, 'webber': 11773, 'fiawec': 11774, '6hcota': 11775, 'farmers': 11776, 'gleesh': 11777, 'fukks': 11778, 'eryday': 11779, 'weloveki': 11780, 'ryesvyai2u': 11781, 'liltwist': 11782, '4xkufnzc': 11783, 'mold': 11784, 'harrassed': 11785, 'tlk': 11786, 'mch': 11787, 'mikeymageee': 11788, 'babidi': 11789, 'exercise': 11790, 'ewh': 11791, 'darthdanaa': 11792, 'spankeddd': 11793, 'theellemac': 11794, 'essence': 11795, 'calamity': 11796, 'unpunished': 11797, 'p7zwaoxi4l': 11798, 'shabbashone': 11799, 'gmula': 11800, 'cheweing': 11801, 'sniffey': 11802, 'dickdankstardly': 11803, 'ffpu1w': 11804, 'yvngrvpvnzel': 11805, 'sundy': 11806, 'lhs': 11807, '9eagkxdgh5': 11808, 'jayfacts': 11809, 'camilleftansel': 11810, 'deletes': 11811, 'ginyu': 11812, 'stuff4blackppl': 11813, 'c0mmonly': 11814, 'scorpiogans93': 11815, 'ecliptik': 11816, 'xcx': 11817, 'imshawntee': 11818, 'wishfulthinking': 11819, 'dessib': 11820, 'rehashing': 11821, 'itstoofuckingeasy': 11822, 'doper': 11823, 'purrdylaylayxxx': 11824, 'waisted': 11825, 'loudly': 11826, 'rosa': 11827, 'mexicano': 11828, 'thegamerkingkev': 11829, 'magaluf': 11830, 'probly': 11831, 'entertained': 11832, 'saadthesav': 11833, 'vfn1is7wx3': 11834, 'wishfulll': 11835, 'stagbechillin': 11836, 'diaries': 11837, 'katgraham': 11838, 'slowbros': 11839, 'shanafin34': 11840, 'tanner': 11841, 'otl': 11842, 'coochcakes': 11843, 'mypotnab': 11844, 'pant': 11845, 'listener': 11846, 'novacancies': 11847, 'zeetisgirls': 11848, 'tgqzqszji1': 11849, 'thirst22': 11850, 'justifying': 11851, 'mynameshouldbe': 11852, 'kerrythekilla': 11853, 'doublerornothin': 11854, 'gtflfgrmtz': 11855, 'krug': 11856, 'zoepassion': 11857, 'williamb': 11858, 'mixyarts': 11859, 'employee': 11860, 'xplicitcontent': 11861, 'tractors': 11862, 'dickburritoz': 11863, 'founder': 11864, 'marvel': 11865, 'eternallygrateful': 11866, 'ayyyeeee': 11867, 'babbbyyy': 11868, 'wexicanafro702': 11869, 'niggasuprized': 11870, 'nicarrag': 11871, 'geeking': 11872, 'nachumlist': 11873, 'nwgij1mjia': 11874, 'trace': 11875, 'talkhawkz': 11876, 'kmm': 11877, 'yuppie': 11878, 'pshh': 11879, 'anarcho': 11880, 'anarchism': 11881, 'grouping': 11882, 'individuals': 11883, 'iy6gro4t8z': 11884, 'gag': 11885, 'clappmeat': 11886, 'cbel8h29e1': 11887, 'scrotum': 11888, 'pandaapussy': 11889, 'cockiest': 11890, 'suits': 11891, 'dispute': 11892, 'grasswire': 11893, 'fpd': 11894, 'sennasheed': 11895, 'puiwlunbiz': 11896, 'gts': 11897, 'fatbellybella': 11898, 'solangeknowles': 11899, 'stevenadamswv': 11900, 'tumbled': 11901, 'bleachers': 11902, 'nikkiiibeeee': 11903, 'ohhhh': 11904, 'flavorpill': 11905, 'yisiai6s': 11906, 'nme': 11907, 'omgitsjudiee': 11908, 'vb8c2pjnvi': 11909, 'jerkin': 11910, 'quinn': 11911, 'bt7hf28u0d': 11912, 'richhomiekevin': 11913, 'kenna': 11914, 'robby': 11915, 'gorgeouss': 11916, 'kee': 11917, 'withfinesse': 11918, '4got': 11919, 'kohkohbxtchzz': 11920, 'anuglynigga': 11921, 'innocentmarina6': 11922, 'scented': 11923, 'bobbyrosee': 11924, 'farfrmaverage': 11925, 'lowkeygado': 11926, 'vocals': 11927, 'whse': 11928, 'mgr': 11929, 'girlboy': 11930, 'ay30mayne': 11931, 'mindless': 11932, 'aubreykelson': 11933, \"'ell\": 11934, \"shin's\": 11935, 'iamryanraw': 11936, 'whoisjayhall': 11937, '8rbdheia': 11938, 'dipset': 11939, 'kenn': 11940, 'tonethaman55': 11941, 'eww': 11942, 'titanshomer': 11943, 'gallon': 11944, 'winks': 11945, 'kxllcity': 11946, 'brodywaynelyles': 11947, 'thugnasty': 11948, 'beenflynsolo': 11949, 'funnnnnnn': 11950, 'christianvansly': 11951, 'barca': 11952, 'restricton': 11953, 'revoked': 11954, 'functionally': 11955, 'boazziz': 11956, 'tyrinflyguy': 11957, 'younngmel': 11958, 'rainier': 11959, 'obamac0re': 11960, 'kimcampano': 11961, 'soah0z1juv': 11962, '10milekid': 11963, 'paixj': 11964, 'scoonz': 11965, \"crush's\": 11966, 'screenname': 11967, 'stared': 11968, 'mutts': 11969, 'e0jva37bim': 11970, 'wrks': 11971, 'presentation': 11972, 'feedme': 11973, 'lildoll': 11974, 'morgandaylee': 11975, 'eidolon': 11976, 'ebooks': 11977, 'dreamt': 11978, 'lavalourry': 11979, 'indentured': 11980, 'servant': 11981, 'foodpornphotos': 11982, 'yboqrrtjyt': 11983, 'd4bpfhpj6x': 11984, 'esurancesave30': 11985, 'modrojojo': 11986, 'dttzplipkm': 11987, 'lma': 11988, 'sirratchettness': 11989, 'trea': 11990, 'ultragoogle': 11991, 'puto': 11992, 'usweekly': 11993, 'asaptwelvyy': 11994, 'danielm023': 11995, 'bonesaw00': 11996, 'moree': 11997, 'kevnasto': 11998, 'barge': 11999, 'describing': 12000, 'feeeeeling': 12001, 'feelliiiing': 12002, 'msu': 12003, 'reassess': 12004, 'izzo': 12005, 'daugherty': 12006, 'munn': 12007, 'twatch': 12008, 'ybejeff': 12009, 'wgihekh5qb': 12010, 'ohkwcg9ldw': 12011, 'taughtyouwell': 12012, '6tzyxgvqzv': 12013, 'abitiixmhz': 12014, 'hawkin': 12015, \"ritta's\": 12016, 'chicoflicoflame': 12017, 'cribs': 12018, 'iguanas': 12019, 'lickmegently': 12020, 'bq3g01rxkn': 12021, 'holysmokes': 12022, 'doubleaiv': 12023, 'yaboykip': 12024, '56jkqioepe': 12025, 'bashing': 12026, 'barcelona': 12027, 'alexa': 12028, 'bkent': 12029, '3xinzjnm2u': 12030, 'fant4stic63': 12031, 'chazer': 12032, \"lyte's\": 12033, 'csitaly': 12034, 'ts3': 12035, 'mirajane': 12036, 'strauss': 12037, 'sims': 12038, 'b4i8eimux2': 12039, 'seanrosssapp': 12040, 'bespectacle': 12041, 'mourning': 12042, 'cultural': 12043, 'zeitgeist': 12044, 'jaclyndeeter': 12045, 'chriscurtis410': 12046, 'steines': 12047, 'bjohnson613': 12048, 'moneybaby': 12049, 'barrack': 12050, 'encourages': 12051, 'suiting': 12052, 'scotty160': 12053, 'surrender': 12054, 'divinity': 12055, 'conquerors': 12056, 'apocalypse': 12057, '9qv5rsy1p3': 12058, 'michaeldbirch': 12059, 'prettyndhated': 12060, 'deraydavis': 12061, 'richiesuavee': 12062, 'zjjyrgcz9y': 12063, 'ahmiryoung': 12064, 'lmaosofunny': 12065, '5xwhydp7u8': 12066, 'chasemylovex': 12067, 'tcujpkoc': 12068, 'supahot': 12069, 'fohead': 12070, 'nb5vgdssgi': 12071, 'ravenalegria13': 12072, 'prattprattpratt': 12073, 'smirnoff': 12074, 'utcoach': 12075, 'brit': 12076, 'stratton': 12077, 'justification': 12078, 'a6giljee4x': 12079, 'uniiquemariee': 12080, 'o5orzo1o19': 12081, 'ambition': 12082, 'n1irving': 12083, 'addin': 12084, 'dcsu5vqbpl': 12085, 'fabulousanimals': 12086, 'kienzle': 12087, 'j5pa2bou23': 12088, 'brwnskingirly': 12089, 'aggravating': 12090, 'supportive': 12091, 'madamecurry': 12092, 'beethetranny': 12093, '33mleny': 12094, 'mztlpgx4ur': 12095, 'chimpout': 12096, 'summers': 12097, 'aged': 12098, 'salvadoran': 12099, 'metlife': 12100, 'coincidence': 12101, 'adrenaline': 12102, 'godlovesuglyy': 12103, 'dobetter': 12104, 'daijak': 12105, 'cocainecowboy': 12106, 'queenshaun': 12107, 'juicelessess': 12108, 'rustymk2': 12109, 'michaelbrown': 12110, 'flashy': 12111, 'ttukingsbury': 12112, 'morphing': 12113, 'nd2ytjkxgv': 12114, 'thinkingofjacob': 12115, 'macdemy': 12116, 'czeo': 12117, 'worldwarzee': 12118, 'teewat': 12119, 'brawl': 12120, 'holidays': 12121, 'so9c7g3fq5': 12122, 'zertec': 12123, 'poak': 12124, 'pamaj': 12125, 'mightymorph': 12126, 'peckers': 12127, 'thattallcashier': 12128, 'ehasselbeck': 12129, 'jock': 12130, '95rdo7rhvq': 12131, 'bankroll': 12132, 'rhetorically': 12133, 'cpac2014': 12134, 'illesttam': 12135, 'oxa8iqqfjr': 12136, 'l3xdyjypji': 12137, 'beanie': 12138, 'uy012hkz9q': 12139, 'lmfaohilarious': 12140, 'lmk3tx5vic': 12141, 'e60': 12142, 'neat': 12143, 'cinnnthia': 12144, 'lameassnerd': 12145, 'banqq': 12146, '1jayee': 12147, 'itskeejay': 12148, 'gast': 12149, 'whaaaaaat': 12150, 'cromotoasted': 12151, 'cantkeepup': 12152, 'chapters': 12153, 'pregnancy': 12154, 'professortrav': 12155, 'marcsx9': 12156, 'flatfoot': 12157, 'thenitpickster': 12158, 'recognition': 12159, 'bpdqqpogae': 12160, 'thrillamickilla': 12161, 'joedelawolfpack': 12162, 'caycifish': 12163, 'shaylovesya': 12164, 'wayyyeee': 12165, 'livinglegend': 12166, 'faints': 12167, 'desusnice': 12168, 'resumes': 12169, 'frosstyy': 12170, 'littlest': 12171, 'antoniofrench': 12172, '2have': 12173, 'credibilityshot': 12174, 'justice4mikebrown': 12175, 'brittish': 12176, 'aaliyahhhm': 12177, 'forte': 12178, 'trucked': 12179, 'bi9rbvjtun': 12180, 'greatnegrodamus': 12181, 'falcants': 12182, 'blakedabasedson': 12183, 'forevermem85': 12184, \"'spanish\": 12185, \"orange'\": 12186, 'wikiparaz': 12187, 'adorianloveee': 12188, 'oixhg4jtv8': 12189, 'h8lgitfyie': 12190, 'powercumminmax': 12191, 'fuel': 12192, 'dieselstation': 12193, 'blackrichyrich': 12194, 'elleeebeee': 12195, 'rafidangelo': 12196, 'hoppondis': 12197, 'k7wqlawrwm': 12198, 'westvirginia': 12199, 'ocd': 12200, 'dbco': 12201, 'kyliejenner': 12202, 'cipwztvnuo': 12203, 'sassisissy': 12204, 'gouged': 12205, 'harmless': 12206, 'fetus': 12207, 'jahmall': 12208, 'blueunicorns': 12209, 'eivjyapkud': 12210, 'upstairs': 12211, 'ignorantlesbian': 12212, 'nickleberry': 12213, 'drako': 12214, '713': 12215, 'fatality': 12216, 'i3drcdivn8': 12217, 'holt3': 12218, 'bergbrain': 12219, \"aren'tcha\": 12220, 'jessyca': 12221, 'daysi': 12222, 'anony386': 12223, 'turntolive': 12224, 'tweenki': 12225, 'causung': 12226, 'mischief': 12227, 'maizenblue23': 12228, 'girltalk26': 12229, 'arrogantori': 12230, 'chrissynich': 12231, 'uppity': 12232, 'siding': 12233, 'kinggki': 12234, 'sholl': 12235, 'trev': 12236, 'wakeuppeeps1': 12237, 'orig': 12238, \"'everything'\": 12239, 'preemasterflex': 12240, '128684': 12241, '127864': 12242, 'alg': 12243, \"stuntin'\": 12244, 'hawkblogger': 12245, 'jags': 12246, 'mtupombe': 12247, '8rfdwxcz3g': 12248, 'richxinxflavor': 12249, 'bossydiva': 12250, 'natethaalmighty': 12251, 'thw': 12252, 'fargo': 12253, 'aquarium': 12254, 'drift': 12255, '365oqx2stx': 12256, 'sfvcndhwzv': 12257, 'pinkiedeville': 12258, 'capt': 12259, 'slapa': 12260, 'spvogfyxzt': 12261, 'brocktonbitch': 12262, 'tina': 12263, 'staff': 12264, 'waverly': 12265, 'ly': 12266, 'akyqk2': 12267, 'emuhmr3jze': 12268, 'iubloomington': 12269, 'australian': 12270, 'c1cpzmzeqr': 12271, 'conchgunny': 12272, 'thumper': 12273, 'dehydrated': 12274, 'bortleskombat': 12275, 'stormwarning': 12276, 'builtbyucf': 12277, 'chargeon': 12278, 'splitting': 12279, 'poles': 12280, 'jakeeye3': 12281, 'femaletexts': 12282, 'xfrnq6um1o': 12283, 'joscarjr': 12284, 'paullemat': 12285, 'shutemdown': 12286, 'xgy7gigon8': 12287, 'morgantayler': 12288, 'debsflpx': 12289, 'sensible': 12290, 'statistic': 12291, 'passdapiff': 12292, 'lilty4real': 12293, 'm5v4xkg7by': 12294, 'otdsfinest': 12295, 'yahhhhhh': 12296, 'yahhhh': 12297, 'crackerboyy': 12298, 'crept': 12299, \"hobbit's\": 12300, 'vomited': 12301, 'trembling': 12302, 'onadreamchase': 12303, 'datexehmm': 12304, 'intimidate': 12305, 'doctorofthedead': 12306, 'poems': 12307, 'hampshire': 12308, 'fenkell': 12309, 'vxbjg26gsz': 12310, 'rodd': 12311, 'kennies': 12312, 'notices': 12313, 'hahahahahahaha': 12314, 'youneed': 12315, 'jasmine': 12316, 'amaaari': 12317, 'beamiller': 12318, 'suspended': 12319, 'orb': 12320, 'ohv7xbr6wo': 12321, 'design': 12322, 'thatsafact': 12323, 'thugginlegally': 12324, 'michelleobama': 12325, 'elitist': 12326, 'yellabeautykc': 12327, 'bigel179': 12328, 'metronorth': 12329, 'toobad': 12330, 'metsfan': 12331, 'queensallday': 12332, 'cokefuckedyou': 12333, 'insomnia': 12334, 'bxtch': 12335, 'otg': 12336, 'kapo': 12337, 'inly': 12338, 'juvie': 12339, 'lrihendry': 12340, 'cupp': 12341, 'u8nlywefio': 12342, 'marrying': 12343, 'judiebaby': 12344, 'vnxthny': 12345, 'keshonna': 12346, 'alexander': 12347, 'robb': 12348, 'alexiss': 12349, 'diii': 12350, 'tashh': 12351, 'x0': 12352, 'gwkbq3l0s4': 12353, 'pantiedropin': 12354, 'canttrustanyone': 12355, 'hatefakepeople': 12356, 'f7hxndz1hy': 12357, 'indonesian': 12358, 'bollywood': 12359, 'consents': 12360, '9lporcb8w0': 12361, 'chooses': 12362, 'keim': 12363, 'x02xmavequ': 12364, 'tra': 12365, 'baldhead': 12366, 'cuzz': 12367, 'briahna': 12368, 'timmyn90': 12369, 'winnnnnnnnn': 12370, 'informant': 12371, '3ocxpxlydt': 12372, 'assholejaay': 12373, 'evaluate': 12374, 'mlbfancave': 12375, 'konerko': 12376, 'st6qgjy0j6': 12377, '7zbgvh': 12378, 'dreamshakesbn': 12379, 'collar': 12380, 'badassjae': 12381, 'x41q6luh37': 12382, 'd4icvcz1bk': 12383, 'noiseymusic': 12384, 'beatles': 12385, 'yoonea': 12386, 'justcallmetajj': 12387, 'tone314': 12388, 'banner': 12389, 'doop': 12390, \"richie's\": 12391, 'rascally': 12392, 'firefighters': 12393, 'biggovernment': 12394, 'oy': 12395, 'vey': 12396, 'weazy': 12397, 'birdman': 12398, 'wxnx94bzoc': 12399, 'tretyler': 12400, 'okiecops': 12401, 'boujieassmeena': 12402, 'addicted2guys': 12403, 'simplyaddictedtoguys': 12404, '1jl4hi8zmf': 12405, 's0kavo4d3e': 12406, 'trav': 12407, 'semaj': 12408, 'hoee': 12409, 'tiffanyluxride': 12410, 'saviassstr33tz': 12411, 'snails': 12412, 'pace': 12413, 'yofwm': 12414, '128347': 12415, 'americaanti': 12416, 'breeolson': 12417, 'gingerbeard66': 12418, 'robbyohn': 12419, 'kimberley': 12420, 'scariest': 12421, 'oitscrunch': 12422, 'manddddddd': 12423, 'lawsofsex': 12424, 'dyked': 12425, '6ssxopuhge': 12426, 'overdoing': 12427, 'bunnyasmin1125': 12428, 'deemarieeeee': 12429, 'nomatter': 12430, 'confrused': 12431, 'yogottikom': 12432, 'flea': 12433, 'wilds': 12434, 'fk': 12435, 'nannie': 12436, 'mariachi': 12437, 'prettyflacko21': 12438, 'mhaiphrpbn': 12439, 'tmroja': 12440, 'gogetit': 12441, 'keongetsbitches': 12442, 'bananasunshinee': 12443, 'slouch': 12444, 'randypawlik': 12445, 'tshirts': 12446, 'quezada': 12447, 'carlos7': 12448, 'blissfully': 12449, 'thinker': 12450, 'chump': 12451, 'elvisknievil': 12452, 'hover': 12453, \"children's\": 12454, 'dependence': 12455, 'celeynichole': 12456, 'lathered': 12457, 'sulunatdigga': 12458, 'deiongottastfu': 12459, 'bracken': 12460, 'fakes1z2wl': 12461, 'simonslives': 12462, 'recordstoreday': 12463, 'theeditors': 12464, 'musicmatters': 12465, 'nbkhcg0bzq': 12466, 'teez': 12467, 'fez': 12468, 'lids': 12469, 'ronniebquotes': 12470, 'bucky': 12471, 'bpfz7sl2mp': 12472, 'constituants': 12473, 'txxiddohd2': 12474, 'chood': 12475, 'charleyhood': 12476, 'platinums': 12477, 'satisfy': 12478, 'hollor': 12479, 'esem': 12480, '7j0hm1lp97': 12481, 'bestofnike': 12482, 'nikeporn': 12483, 'nn4vo90htj': 12484, 'dori': 12485, '128032': 12486, 'grr': 12487, 'ickblah': 12488, 'congestion': 12489, 'bloaty': 12490, '2hr': 12491, 'whineytweet': 12492, 'scripted': 12493, 'lyrically': 12494, 'tot': 12495, 'tightey': 12496, 'xlbhdjfbf4': 12497, 'thekylehardy': 12498, 'emilysteers': 12499, 'xoxoclauudia': 12500, 'yassssss': 12501, 'fattyytooraw': 12502, 'ontario': 12503, 'cypher': 12504, 'skool': 12505, 'como': 12506, 'delgado': 12507, 'yocomo': 12508, 'poko': 12509, 'shuggajets': 12510, 'iaintasiantho': 12511, 'inzezv9a1n': 12512, 'relaxer': 12513, 'flowy': 12514, 'kubiak': 12515, 'painkillers': 12516, 'b0ujib00ty': 12517, 'prope': 12518, 'quis': 12519, '2turntup': 12520, 'tylerzirhut': 12521, 'nevvvvva': 12522, 'fazededo': 12523, 'rejects': 12524, 'fempop': 12525, 'kxng': 12526, 'jase': 12527, 'bremarie17': 12528, 'gxdlyvisuals': 12529, 'i2hyinfidw': 12530, 'riptre96': 12531, 'tsallabt': 12532, 'nastycopper': 12533, 'blurry': 12534, 'likkadawgg': 12535, 'g3muxm2ldx': 12536, 'mcnair': 12537, 'jgpiw1kder': 12538, 'hxhassan': 12539, 'hajjaj': 12540, 'ajmi': 12541, 'airport': 12542, 'zmlokfwdql': 12543, '8hkc56j7c9': 12544, 'icuffhoodrats': 12545, 'babyanimalpics': 12546, 'bathtime': 12547, '7kpwadlf0r': 12548, 'awwwwe': 12549, 'k6j3nmrmzw': 12550, 'bratwurst': 12551, 'idisrespecthoez': 12552, 'godofmilfs': 12553, 'dukefan': 12554, 'kentuckyfanpage': 12555, 'losses': 12556, 'pickin': 12557, 'snapchatt': 12558, 'skinny215': 12559, 'natedavvg': 12560, 'anyhow': 12561, '405': 12562, 'ewuin0jt3y': 12563, 'brentlanders6': 12564, 'quasi': 12565, 'whiteironband': 12566, 'stuffkaysays': 12567, 'fatboyswagg347': 12568, 'millon': 12569, 'slag': 12570, 'canucks': 12571, 'generalization': 12572, 'lexxxilove': 12573, 'suckas': 12574, 'iphones': 12575, \"s'mores\": 12576, 'avail': 12577, 'kissesxx': 12578, 'dealership': 12579, 'brenduh': 12580, 'blacking': 12581, 'wifing': 12582, 'officers': 12583, 'culyanyq': 12584, 'lecturing': 12585, 'vercetti': 12586, 'nybo16rmsh': 12587, 'saucyjames': 12588, 'squads': 12589, 'lungfiber': 12590, 'ohmygod': 12591, 'internets': 12592, 'remixes': 12593, 'charlene': 12594, 'thisisricklol': 12595, 'lethal': 12596, 'cocktail': 12597, 'unreported': 12598, 'cdc': 12599, 'mo2m6q3xtt': 12600, '1josh': 12601, 'warwick3': 12602, 'pinchsuckblow': 12603, 'lmoa': 12604, 'errbody': 12605, '0ufahhyrue': 12606, 'tricethatruth': 12607, 'alexgc24t4': 12608, 'pirelli': 12609, 'whit': 12610, 'loosen': 12611, 'thestrangelog': 12612, 'nerf': 12613, \"mf's\": 12614, \"6'5\": 12615, 'gooddeed': 12616, 'livefromthe': 12617, 'incessant': 12618, 'balt': 12619, 'mr2damngood4u': 12620, 'tink': 12621, 'lookatathehood': 12622, 'nightclubs': 12623, 'crackheads': 12624, 'ilongdickhoes': 12625, 'cw5uoqx4ds': 12626, 'watkinsraequan': 12627, 'navy': 12628, 'cassandra': 12629, 'haahaa': 12630, 'jcope12003': 12631, 'msmansk': 12632, 'boycottcriminalintent': 12633, 'kl5kbdibkh': 12634, 'murked': 12635, 'judged': 12636, 'whitepower': 12637, 'whitbreezy': 12638, 'mistakin': 12639, 'hardwood': 12640, 'cou2wq5l4q': 12641, 'shemoansnookie': 12642, 'gayathomedad': 12643, 'jerking': 12644, 'firework': 12645, 'agricouture': 12646, 'ringkledsuccess': 12647, 'badgalcash': 12648, 'qv1ruzgsfj': 12649, 'mbw44': 12650, 'luzerne': 12651, 'troy': 12652, 'balenceeaga': 12653, 'aienneluckera': 12654, 'q5yhjtbcnr': 12655, 'shaylay': 12656, 'uyvc2qdg': 12657, 'l20music': 12658, 'salutemyrainbow': 12659, 'iheartme': 12660, 'wleerpcv': 12661, 'hysteria': 12662, 'onset': 12663, 'shang': 12664, 'prettyflvck0': 12665, 'rentals': 12666, '128665': 12667, 'oooh': 12668, 'not1fuckisgiven': 12669, 'g0fgrx7dju': 12670, 'naybahoods': 12671, 'hfnsbupwma': 12672, 'lawrence': 12673, 'th7nniwju8': 12674, 'lawful': 12675, 'vivaronron': 12676, 'yadadpipesmaggs': 12677, 'zhojnaokme': 12678, 'esophagus': 12679, 'coldhearted': 12680, 'neverlovingsomeoneagain': 12681, 'dontneedanyone': 12682, 'donald': 12683, 'helloookrisssy': 12684, 'witta': 12685, 'summa': 12686, 'lyingggggg': 12687, 'jusfinlbieber': 12688, 'wheeltod': 12689, 'bul6issmfh': 12690, 'gezzy504': 12691, 'dayma': 12692, 'micaela': 12693, 'aygeraldjay': 12694, 'fyk1xebgv7': 12695, 'stevenson': 12696, 'foreverschmoked': 12697, 'vertical': 12698, 'horizontal': 12699, 'steakhouse': 12700, 'dogg': 12701, 'ooberly': 12702, 'richbitxh': 12703, 'highwaisted': 12704, 'maxima': 12705, 'brandonjw02': 12706, 'nheecj7ukb': 12707, 'dswizzle': 12708, 'rugarickrockers': 12709, 'entrance': 12710, '45fv79cv0z': 12711, 'tweebest': 12712, 'shantybear': 12713, \"kenzie's\": 12714, \"lol'd\": 12715, 'itsdomanic': 12716, 'decks': 12717, 'pooci': 12718, 'btweekin': 12719, '88the7ezp7': 12720, 'uccrushes': 12721, 'trenton': 12722, 'gossman': 12723, 'steffyballin': 12724, 'poole': 12725, 'layovers': 12726, 'pablyandrew': 12727, 'mccartney': 12728, 'ehssecretadmire': 12729, 'cartermarteeny': 12730, 'unnforgivable': 12731, 'turnthatshituplouder': 12732, '59': 12733, 'histo': 12734, 'breaker': 12735, 'sweaty': 12736, 'jedah': 12737, 'kyyckry6qk': 12738, 'ninodaplug': 12739, 'davethegaybaby': 12740, 'remembering': 12741, 'quirks': 12742, 'webster': 12743, 'andrizzy': 12744, 'dhsjournal': 12745, 'cp': 12746, 'spaz': 12747, 'g77bwiax7f': 12748, 'congregate': 12749, 'curtin': 12750, 'harvest14': 12751, 'brentjff': 12752, 'rgetr4tv4s': 12753, 'coolgirl71899': 12754, 'bitchplease': 12755, 'uqq0k8h89l': 12756, 'zeller': 12757, 'nominating': 12758, 'kwe5j13o9b': 12759, 'winksosa': 12760, 'aintshitsweet': 12761, 'rakwon': 12762, 'ogod': 12763, '5mnxkvayot': 12764, 'esco': 12765, 'coffeemanelliot': 12766, 'aryanliving': 12767, 'acres': 12768, 'makerr': 12769, 'itsonlyjess': 12770, 'lukefriendyy': 12771, 'anddone': 12772, 'familys': 12773, 'ovoxo': 12774, 'alamillo': 12775, 'faaaaggggottttt': 12776, 'buc': 12777, \"ee's\": 12778, 'traptized': 12779, 'vjxacsafxt': 12780, 'yahweh': 12781, 'shadow': 12782, 'hovers': 12783, 'wxes0dqrp9': 12784, 'julesdanesy': 12785, 'presses': 12786, 'stri': 12787, 'youz': 12788, 'kaffirs': 12789, 'hairdo': 12790, 'lmwqj1etoa': 12791, 'okummsjeyi': 12792, 'weakass': 12793, 'drex': 12794, 'hudson': 12795, 'mascato': 12796, 'bryceserna': 12797, 'justoneasian': 12798, 'facilitate': 12799, 'jacuzzi': 12800, 'idonttrustem': 12801, 'antiamnesty': 12802, 'appsame': 12803, 'whitehouse': 12804, 'naturalized': 12805, 'citizenship': 12806, 'origin': 12807, 'specialed24': 12808, 'mqpqzlgckf': 12809, 'zelda': 12810, 'cp88aa7pms': 12811, 'rayrayospeciial': 12812, 'patrickkimmis': 12813, 'white1979': 12814, 'rotary': 12815, 'tgrozay': 12816, 'bffl': 12817, 'krillz': 12818, 'aanpsujmyi': 12819, 'velcro': 12820, 'cricket': 12821, 'sierrabernia': 12822, 't2g': 12823, 'cincokilby': 12824, 'locals': 12825, 'lynnn': 12826, 'whascameradan': 12827, 'tuned': 12828, 'noon': 12829, 'keezy': 12830, 'ooooow': 12831, 'addressed': 12832, 'pregnancies': 12833, 'clinchmtn316': 12834, 'sixonesixband': 12835, \"gary's\": 12836, 'rickspringfield': 12837, \"'gary's\": 12838, \"girl'\": 12839, 'alexis': 12840, 'mahnal': 12841, 'wu7r3obxhr': 12842, '718queens': 12843, 'handcuff': 12844, '445': 12845, 'alchohol': 12846, 'backward': 12847, 'littlemissariee': 12848, 'dickmatized': 12849, 'appetite': 12850, 'lettuce': 12851, 'aliyahkorea': 12852, 'whiteculture': 12853, 'thekushzombie': 12854, \"mello's\": 12855, 'expendable': 12856, \"beverley's\": 12857, 'mariancristinax': 12858, 'spazzed': 12859, 'jiz': 12860, 'lambs': 12861, 'nyjets': 12862, 'icebucketchallenge': 12863, 'patriots': 12864, 'jimmyfallon': 12865, 'hadria': 12866, 'z09qlimxge': 12867, 'sugarshai2': 12868, 'wedontlovehoes': 12869, 'hinojosa214': 12870, 'helotes': 12871, 'flexes': 12872, 'protesting': 12873, 'gos': 12874, 'fergerson': 12875, 'iesofab': 12876, 'bossbitchdaphne': 12877, 'taytuckfuck': 12878, 'englandbailey': 12879, 'vzygni9qtq': 12880, 'medaoriginbitch': 12881, 'commission': 12882, 'tubed': 12883, 'surfing': 12884, 'wavesliding': 12885, 'waterwalker': 12886, 'notkook': 12887, 'vii3smgrm3': 12888, 'hahahahahahahahaha': 12889, '50centmovie': 12890, 'beforeiselfdestruct': 12891, 'aychmoore': 12892, 'loans': 12893, 'mandaxll2963': 12894, 'dadamnbone': 12895, 'njzfinest': 12896, 'decreasing': 12897, 'n9cth1jrda': 12898, \"95's\": 12899, 'ughh': 12900, 'tommrow': 12901, 'controllin': 12902, 'iconic': 12903, 'thebossunicorn': 12904, 'yanoozaj': 12905, 'lvg': 12906, 'welbeck': 12907, 'arsenal': 12908, 'soundtracktoky': 12909, 'inkedup': 12910, 'spartacunt': 12911, 'usps': 12912, 'mskeshera': 12913, \"'d\": 12914, 'jimmymciver': 12915, '68w': 12916, 'jeffrey': 12917, 'dommer': 12918, 'mitrykizer': 12919, 'cokvne': 12920, 'ploppy74': 12921, 'mammy': 12922, 'scoreless': 12923, 'bambino': 12924, 'opponents': 12925, 'failstate': 12926, 'prissypisces': 12927, 'mrluckytoyou': 12928, 'ragingbabe': 12929, 'journal': 12930, 'whiteboyceezy': 12931, 'charcharkuhlman': 12932, 'parks': 12933, 'rec': 12934, 'tenijieth': 12935, 'pomegranate': 12936, 'carterazoo': 12937, 'pansy': 12938, 'daniellathepimp': 12939, 'rrrozn5bdy': 12940, 'validated': 12941, 'niccib': 12942, 'rattlesnake': 12943, 'rattlers': 12944, 'pwfo8jhaoa': 12945, 'connorray': 12946, 'elliptical': 12947, 'mystical': 12948, 'idclogan': 12949, 'dougiyfe': 12950, 'ogsmoky': 12951, 'supercos7': 12952, 'cavemaninc': 12953, 'db103173': 12954, 'percentages': 12955, '128201': 12956, 'rockiefresh': 12957, 'costly': 12958, 'boit': 12959, 'whheeet': 12960, 'sportswithjohn': 12961, 'alves': 12962, 'referee': 12963, 'animeking420': 12964, '2times': 12965, 'relo': 12966, 'coolstoryisaac': 12967, 'bethune': 12968, 'cookman': 12969, 'mecause1mrae': 12970, 'anzueto': 12971, 'mackey15': 12972, 'skinheadrob': 12973, 'thesicthem': 12974, 'averaicon': 12975, 'lrishgiri': 12976, 'oakridgestars': 12977, 'izzyjsmom': 12978, 'iambo': 12979, 'asideofbacon': 12980, 'f1sh': 12981, 'justcallmebrit': 12982, 'xtraxtralex': 12983, 'disgusted': 12984, 'lilmissrightie': 12985, 'benghazis': 12986, 'imaspiderg': 12987, 'ghettoannabelle': 12988, 'highfiveohtwo': 12989, 'gregooglymoogly': 12990, 'crashed': 12991, 'zekedafreekk': 12992, 'contemplate': 12993, 'fuh': 12994, 'amyklobuchar': 12995, 'spookyblack': 12996, 'gladbagflow': 12997, 'fuckwatyuhherrd': 12998, '7pm': 12999, 'cogitoergobibo': 13000, 'penske': 13001, 'wouldmakealottasense': 13002, 'samknight1': 13003, 'saletan': 13004, 'jeffreygoldberg': 13005, \"jeff's\": 13006, 'prisoners': 13007, 'rnetkfxm7f': 13008, 'teabagged': 13009, 'openwide': 13010, 'caveman': 13011, 'nnn': 13012, 'cumwiththewind': 13013, '4thofjulyfly': 13014, 'dominicanraf': 13015, 'uimf6sdi': 13016, 'bestproadvice': 13017, 'zwnbhpdz8e': 13018, 'tattooing': 13019, 'onionsports': 13020, 'unveil': 13021, 'monument': 13022, 'vv6urct4jd': 13023, 'gwbnhdyhml': 13024, 'imdaddytho': 13025, 'beckwith74': 13026, 'bodmonting': 13027, 'cholas': 13028, 'jessitron': 13029, 'bsilverstrim77': 13030, '127940': 13031, 'w7qbm72oyo': 13032, 'yohidef': 13033, 'centuries': 13034, 'zuko': 13035, 'qfdbbu4hpv': 13036, 'noun': 13037, 'perverted': 13038, 'airplane': 13039, 'wheretheyheadsat': 13040, 'lqvldxowsh': 13041, 'tansformers4': 13042, 'yessesmith': 13043, 'damnfoodporn': 13044, 'foodporn': 13045, 'q6evcvm3so': 13046, 'zfunk007': 13047, 'twangnation': 13048, '2002': 13049, 'waylon': 13050, 'traypizzy': 13051, \"dressin'\": 13052, 'nubianreine': 13053, 'anyday': 13054, 'xomaryjeanxo': 13055, 'gyyeayzrjy': 13056, 'sirjakel': 13057, 'jrock': 13058, 'bkwhx83fkw': 13059, 'hahahahah': 13060, 'tep': 13061, 'chitown': 13062, 'sb2014': 13063, 'gd0ya153rl': 13064, 'costs': 13065, 'exit47': 13066, 'aborted': 13067, 'seafood': 13068, 'unrespectable': 13069, 'drizzown': 13070, 'rickjamesbitch': 13071, 'killaaakam': 13072, 'gassin': 13073, 'bp': 13074, 'msrock4ever': 13075, 'mcconnell': 13076, 'parasite': 13077, 'voteblue': 13078, 'alisonforky': 13079, 'lunatic': 13080, 'joshin7': 13081, 'gtz13': 13082, 'airing': 13083, 'rutba': 13084, 'anbar': 13085, 'province': 13086, 'k6j37j2sgl': 13087, 'yeent': 13088, 'dubz': 13089, 'pals': 13090, 'stoplivingafuckinglie': 13091, 'hatredisincreasing': 13092, 'neanudda': 13093, 'constantine': 13094, 'g00n': 13095, 'uughh': 13096, 'uuuu': 13097, 'farted': 13098, 'kittykins': 13099, 'widows': 13100, 'irsuns': 13101, 'tcsiji6a0d': 13102, 'pcrossvol': 13103, 'unsolicited': 13104, 'unaffiliated': 13105, 'fitted': 13106, 'girbuad': 13107, 'straps': 13108, 'mystikalgod666': 13109, 'ufqhqsc7xv': 13110, 'ajam': 13111, 'corruptamerica': 13112, 'kappas': 13113, 'iota': 13114, 'professors': 13115, 'luree': 13116, 'batter': 13117, 'jewis': 13118, 'battering': 13119, 'ss4': 13120, 'vivelacourtney': 13121, 'f6exlrz8vd': 13122, 'ww': 13123, 'nycs': 13124, 'syst': 13125, 'clubinsomnia': 13126, 'kayhay14': 13127, 'brrr': 13128, 'dichter': 13129, 'sint': 13130, 'gebeuren': 13131, 'racistischer': 13132, 'drek': 13133, 'nagenoeg': 13134, 'alleen': 13135, 'prozwartepieten': 13136, 'hoek': 13137, 'engvolk': 13138, 'dizzleofficial': 13139, 'inna': 13140, 'rhythm': 13141, 'theonlycorae': 13142, 'dicking': 13143, 'pv18': 13144, 'antiglib': 13145, 'nateyfu123': 13146, 'zb1zwn0jet': 13147, 'hand2dahairline': 13148, 'hkxebfwdyz': 13149, 'theprinceperez': 13150, \"messi's\": 13151, 'tripled': 13152, 'hollowdadonlom': 13153, 'bi6fgp5vgo': 13154, 'westwest': 13155, 'phampel': 13156, 'woohoo': 13157, 'flawwssss': 13158, 'runn': 13159, 'bartending': 13160, 'bartender': 13161, 'pains': 13162, '3redspositives': 13163, 'duttyogshake': 13164, 'g0kl3zbtao': 13165, 'droolin': 13166, 'boutchu': 13167, 'stares': 13168, 'stahp': 13169, 'shinypb': 13170, 'grim': 13171, 'freckle': 13172, 'expects': 13173, 'everycunt': 13174, 'hisself': 13175, 'comprehension': 13176, 'mitchell': 13177, 'rosee': 13178, 'considerate': 13179, 'imnotmakingitup': 13180, 'fashi0nista': 13181, 'pregame': 13182, 'speeches': 13183, 'therainbowgirlz': 13184, 'fuxker': 13185, 'gln': 13186, 'capotej': 13187, 'caylanashlee': 13188, 'gramatically': 13189, 'silverswright': 13190, 'diggabitch': 13191, 'shanked': 13192, 'pancreas': 13193, 'outdoor': 13194, 'fu6aggzhqd': 13195, 'motherofbraylon': 13196, '9855': 13197, 'twaimz': 13198, 'thqcheerios': 13199, 'ywj1i0wma9': 13200, 'laddied': 13201, 'wsfights': 13202, 'ndm5dyslcf': 13203, 'chcgo': 13204, 'blck': 13205, 'pstr': 13206, 'dth': 13207, 'ovr': 13208, 'endorsement': 13209, 'gger': 13210, 'vcbwzkyedv': 13211, 'flemingryan5': 13212, 'brianstann': 13213, 'jimdaves': 13214, 'spohtpl8uv': 13215, 'stevemartintogo': 13216, 'utragers': 13217, 'colt': 13218, 'hookem': 13219, '128002': 13220, 'thoroughly': 13221, 'intoxicated': 13222, 'thinccin': 13223, 'kristajaymfc': 13224, 'orgasm': 13225, 'yurugly': 13226, 'commonmankfan': 13227, 'ogjaredh': 13228, 'thatkevinsmith': 13229, 'jenschwalbach': 13230, 'kevinsmith': 13231, 'sunelite1': 13232, 'emotionalswag15': 13233, 'thatchriseckert': 13234, 'jacqueline': 13235, 'pohlman2': 13236, 'consciousfuck': 13237, 'ipedbpbjm5': 13238, 'qsgycvcvap': 13239, 'gameofarmsamc': 13240, 'exciting': 13241, \"kill't\": 13242, 'devontracy': 13243, 'thatwayimove': 13244, 'lnqdazijjk': 13245, 'bosxe': 13246, 'trinaaa': 13247, 'katrinaaaa': 13248, 'checha': 13249, 'babyspittle': 13250, 'kimmyincali': 13251, 'martinishark': 13252, 'f3t97ymmd5': 13253, 'wavykirk': 13254, 'courtaintshit': 13255, 'hives': 13256, 'wettest': 13257, 'nassau': 13258, 'stability': 13259, \"starters'\": 13260, '330': 13261, 'frankieboyle': 13262, 'clegg': 13263, 'miliband': 13264, 'fuwop': 13265, 'tucsonchld': 13266, 'eden': 13267, 'i12sing': 13268, 'jooooooked': 13269, 'topmodelciara': 13270, 'allyhaaaaa': 13271, 'lemmie': 13272, 'mrdelightfullll': 13273, 'cameron92': 13274, 'xobrandy': 13275, 'curtains': 13276, 'cheyycheyy8': 13277, 'ogmonday': 13278, 'betdat': 13279, 'fucccccckn': 13280, '1fn2tegzhh': 13281, 'darthmaverick7': 13282, 'xcntrik': 13283, 'religulous': 13284, 'chrispyosh': 13285, 'seeeexxaaaay': 13286, 'unpleasant': 13287, 'behaviors': 13288, 'participants': 13289, 'njjga7s5lq': 13290, 'magellan': 13291, 'physguy2': 13292, 'submix8c': 13293, 'purchases': 13294, 'motives': 13295, 'iwantout': 13296, 'vez': 13297, 'japoneses': 13298, 'crearon': 13299, 'atrapaba': 13300, 'ladrones': 13301, 'primero': 13302, 'khzl8pfgct': 13303, 'ff': 13304, 'truthandfashion': 13305, 'adorezoey': 13306, 'dipping': 13307, 'creamy': 13308, 'melanin': 13309, 'khsv319gh9': 13310, 'francisco': 13311, 'a1rwick': 13312, 'spiff': 13313, 'bumpkin': 13314, 'abpfzgju': 13315, 'jax': 13316, 'randos': 13317, \"zoe's\": 13318, 'breebree1731': 13319, \"'two\": 13320, \"men'\": 13321, 'kvmdogdclq': 13322, 'littlekeee': 13323, 'britnigiles': 13324, 'youweaktho': 13325, \"6'1\": 13326, 'steroid': 13327, 'forgiving': 13328, 'busterposey': 13329, \"takin'\": 13330, 'collection': 13331, 'decreased': 13332, 'feeds': 13333, 'arafa': 13334, 'holiest': 13335, 'pilgrimage': 13336, '46yfuflyzv': 13337, '210': 13338, 'garin': 13339, 'laughter': 13340, 'beenlame': 13341, 'holler': 13342, 'lelittlelisa': 13343, 'fxckabbie': 13344, 'cellnbuu': 13345, 'golfwangslut25': 13346, 'motivated': 13347, 'thedrewm3': 13348, 'zzzzzz': 13349, 'predict': 13350, 'compensate': 13351, 'joel9one': 13352, 'zimas': 13353, 'dreaf': 13354, 'goddamit': 13355, 'xcla5xpmlx': 13356, 'riddmccoy': 13357, 'patton': 13358, 'bestfriends': 13359, 'stvepvmzzz': 13360, 'ravenkiann': 13361, 'u3pzev9e9q': 13362, 'faammoverall': 13363, 'goldwhippp': 13364, 'missvoshay': 13365, 'vaientinescards': 13366, 'y75aw0olm3': 13367, 'ooooo': 13368, 'aamu': 13369, 'maggietanquary': 13370, 'reptile': 13371, 'jsyaogup4s': 13372, 'mothafucker': 13373, 'mmmhmmm': 13374, 'facade': 13375, 'mbxvss': 13376, 'dommoneek': 13377, 'yoooooouuuu': 13378, 'okrah': 13379, 'bammy': 13380, 'moochie': 13381, 'mmpfeii': 13382, 'comedypics': 13383, '2qk4i1frts': 13384, 'crazyy': 13385, 'slight': 13386, 'loops': 13387, 'aftertaste': 13388, 'freeajay': 13389, 'blackberrytroll': 13390, 'pompous': 13391, 'mayweathercotto': 13392, 'meechgod': 13393, 'wheretheyatdo': 13394, 'santi': 13395, 'bamoose12': 13396, 'moneyhighpapi': 13397, 'keyshawn': 13398, 'kellyosbourne': 13399, 'dietcarmel': 13400, 'jlewyville': 13401, 'nations': 13402, 'ge6tnhxzaf': 13403, \"stephenking's\": 13404, 'bossace555': 13405, '6pm': 13406, 'poiintguard': 13407, 'twootwentyone12': 13408, 'youregayif': 13409, '1227jarred': 13410, 'hal3ygang': 13411, 'beggin': 13412, 'microwaves': 13413, 'catchup': 13414, 'falicia': 13415, 'xxehphwwwr': 13416, 'creepyscout': 13417, '128115': 13418, 'kecfnjyrwe': 13419, 'goodmanwood': 13420, 'snowpatricksday': 13421, 'lively': 13422, 'snitched': 13423, 'facility': 13424, 'sponge': 13425, 'newborn': 13426, 'habichuelas': 13427, 'gweficrebh': 13428, 'samirahusic': 13429, 'whata': 13430, 'genes': 13431, 'yungnaughti': 13432, 'hhom4nxakd': 13433, 'queefing': 13434, 'grouch': 13435, 'gauge': 13436, 'thomasemmanuelm': 13437, 'colts': 13438, 'chuassup': 13439, 'masika': 13440, 'pleeeease': 13441, 'ruckin': 13442, 'uh6osapcmw': 13443, 'translucent': 13444, \"vi's\": 13445, 'airbag': 13446, 'kristenbitess': 13447, 'cristinacetino': 13448, 'trueeee': 13449, 'hy': 13450, 'sarayeagley': 13451, 'caffenate': 13452, \"dave's\": 13453, 'cleadventures': 13454, 'adamjferraro': 13455, 'dorky': 13456, 'streit': 13457, 'threehoez': 13458, 'poboy': 13459, 'themattanderson': 13460, 'taser': 13461, 'badshah200': 13462, 'stlabubadu': 13463, 'threat2': 13464, 'apostate': 13465, 'kufar': 13466, 'cld': 13467, 'wshh': 13468, 'squeaky': 13469, 'influenced': 13470, 'imguccinizz': 13471, 'circular': 13472, 'vhia': 13473, 'camanderson31': 13474, 'dceni33': 13475, \"tour's\": 13476, 'underachieved': 13477, 'uhxtogp4jz': 13478, 'neil': 13479, 'schiffer': 13480, 'tcobryce': 13481, 'spazz': 13482, 'awf': 13483, 'ahahahaa': 13484, 'dickie': 13485, 'audrianareye': 13486, 'fleece': 13487, 'dyyvrejam3': 13488, 'tiff': 13489, 'nysanimal': 13490, \"donovan's\": 13491, 'sarkisian': 13492, 'quits': 13493, 'joosdsubir': 13494, 'checker': 13495, 'antbreezyobb': 13496, 'princesslexii16': 13497, 'hairypotterz': 13498, 'dougherty06': 13499, 'mackwop': 13500, 'opinionated': 13501, 'moar': 13502, \"lebron's\": 13503, 'gsghizmdmw': 13504, 'walterthecat121': 13505, 'galliumrblx': 13506, 'marqsback': 13507, 'xzi': 13508, 'hiimanasshole': 13509, 'dustine82394': 13510, 'jammer9hunna': 13511, 'jumanji8': 13512, '26th': 13513, 'fuckwhatyouheard': 13514, 'abortionfunds': 13515, 'grateful': 13516, 'profound': 13517, 'hospitality': 13518, 'patients': 13519, 'distances': 13520, 'primomars': 13521, 'slo': 13522, 'litebrite': 13523, 'antzinherpantz': 13524, 'tagjue7mr7': 13525, 'xdalovelytishai': 13526, 'mollies': 13527, 'rozay': 13528, 'goyzfou46i': 13529, 'angeel14': 13530, 'roofs': 13531, 'lvcnedp4pt': 13532, 'cnnbrk': 13533, 'darriondadon': 13534, 'omgod': 13535, 'kobeshia': 13536, '2bfbfbvlva': 13537, 'lhha': 13538, 'beardedbearsman': 13539, '007beardownjedi': 13540, 'afl': 13541, 'bearbrother': 13542, 'chiquito': 13543, 'helenkeller': 13544, 'keos': 13545, 'glenn': 13546, 'grohl': 13547, 'wineprobz': 13548, 'niggad': 13549, 'benshapiro': 13550, 'babel': 13551, 'parkerwidly': 13552, 'thankgod': 13553, 'lindseylove': 13554, '2jcql8pflc': 13555, 'artiequitter': 13556, 'shooby': 13557, 'toxicityy1': 13558, 'gwen': 13559, \"stefani's\": 13560, 'hilary': 13561, 'duff': 13562, 'judg': 13563, 'bbs': 13564, 'addict': 13565, 'jzsuschrist': 13566, 'gentrified': 13567, '100band': 13568, 'pyhscopathic': 13569, 'blacklisted': 13570, 'tehgodclan': 13571, 'xuccwoetmn': 13572, 'sayrayarriaga': 13573, 'nyomi': 13574, 'banxxx': 13575, 'jewros': 13576, 'wzymxoljnt': 13577, 'azl9o3pyze': 13578, 'donatella': 13579, 'inspires': 13580, 'thatfuckmemoment': 13581, 'rains': 13582, 'thr': 13583, 'shakey': 13584, 'lmaoatdosehoes': 13585, 'illwill': 13586, 'marcellusrexxx': 13587, 'bitchimgoonin': 13588, 'yoooodem': 13589, 'fxi7gkauh2': 13590, 'goood': 13591, 'psfpugys1g': 13592, 'willed': 13593, 'instance': 13594, \"twinkie's\": 13595, 'sacred': 13596, 'hekterr': 13597, 'michelleb': 13598, 'kaqtvvq6gg': 13599, \"gwale'\": 13600, 'gwalas': 13601, 'tonygetsbjs': 13602, 'whatta': 13603, 'inky': 13604, 'cancelled': 13605, \"lerner's\": 13606, 'editorial': 13607, 't21z2ybzlq': 13608, 'asvab': 13609, 'youngmintono': 13610, 'yptxvbb3sk': 13611, 'monahan': 13612, 'schressful': 13613, 'numbersdnt': 13614, 'pontotoc2': 13615, 'hs3nifmuek': 13616, '21ccincinnati': 13617, 'vehicles': 13618, 'princedemitri': 13619, 'theweek': 13620, 'russlljones': 13621, 'hitchens': 13622, 'atheist': 13623, 'elyssajankowski': 13624, 'comedytextings': 13625, 'shantelb': 13626, 'september': 13627, 'melt': 13628, 'romantic': 13629, 'storybook': 13630, 'closes': 13631, 'dl390sbteq': 13632, 'muthaf': 13633, 'scriptures': 13634, 'hymns': 13635, 'ketamine': 13636, 'stalin': 13637, 'waspfacts': 13638, 'treaty': 13639, 'kratataaaaa': 13640, 'hrvjzuxlyw': 13641, 'yungretweet': 13642, 'justdreaa': 13643, 'hollywoodlavish': 13644, 'mickdaddy': 13645, 'dtqgxjkjv7': 13646, 'yunheaux': 13647, 'infest': 13648, 'diandrasaysso': 13649, 'andre': 13650, \"3000's\": 13651, 'megamindnick': 13652, 'respectbox': 13653, 'lefthooklounge': 13654, '1041223': 13655, '1503': 13656, 'radiator': 13657, '3xx': 13658, '1nknfzqbo9': 13659, 'sped': 13660, 'trapfuhrer': 13661, 'jx7mc32bkv': 13662, 'pl7qsas15b': 13663, 'backstabbing': 13664, 'deceives': 13665, 'bourne': 13666, 'gadgets': 13667, '1oohx1y6xt': 13668, 'iihcpfiyqu': 13669, \"scramblin'\": 13670, 'gordonshuckrow': 13671, 'credibility': 13672, 'franchein': 13673, 'fajitas': 13674, 'lolzzz': 13675, 'reveals': 13676, 'hiv': 13677, '11wd': 13678, 'coughlan616': 13679, 'zionist': 13680, 'antisemite': 13681, 'taymaegotem': 13682, 'itslostdory': 13683, 'swimmin': 13684, 'dreamthievin': 13685, 'portrays': 13686, 'unsolved': 13687, 'mysteries': 13688, '228': 13689, 'agen': 13690, 'dazs': 13691, 'alexbenovich': 13692, '2500': 13693, 'kellinquinn': 13694, 'creamteam': 13695, 'cockbreath': 13696, 'zeke': 13697, 'hunneemolassess': 13698, 'pwoosy': 13699, 'jezzy': 13700, 'britain': 13701, 'coalition': 13702, '5gjsmrfzwj': 13703, 'mastr': 13704, 'lovebelow': 13705, 'bdvg': 13706, '1pmagspkud': 13707, 'realsexnotes': 13708, 'titl': 13709, 'masahiro': 13710, '155': 13711, '128240': 13712, 'vjegtjep3x': 13713, 'fifacom': 13714, 'pepe': 13715, 'outstanding': 13716, 'tackles': 13717, 'trillmnded': 13718, 'mattlacasse': 13719, 'swiper252': 13720, 'nazario1017': 13721, 'andreberto': 13722, 'peds': 13723, 'kingdomofwench': 13724, 'scr': 13725, 'itsjustthai': 13726, '3ozxud8ytd': 13727, 'gravity': 13728, 'gxpfolusxb': 13729, 'india': 13730, 'defying': 13731, 'dgcmlfsirh': 13732, 'vyw3fswwdv': 13733, 'mrrickyguevara': 13734, '5000': 13735, 'g3kmmz4jt6': 13736, 'jimmys': 13737, 'yusufyuie': 13738, 'cary': 13739, 'williamsc': 13740, 'bearing': 13741, 'itsjusmejojo': 13742, 'angelalonz': 13743, 'evem': 13744, 'shmoke': 13745, 'ilgdaily': 13746, 'rarest': 13747, 'ramboe': 13748, 'xrklonwzgn': 13749, 'campaignseason': 13750, 'mikeofdoom': 13751, 'muxtc1fhmh': 13752, 'transformed': 13753, 'oevmkoqh9s': 13754, 'hi56c9n': 13755, 'ondave': 13756, 'supa': 13757, 'lfsvymmqtn': 13758, 'lilrambo': 13759, 'dollvsh': 13760, 'alexiswoa': 13761, 'moniqve': 13762, 'complemented': 13763, 'choppin': 13764, 'whitetrash': 13765, 'markoketchuck': 13766, \"girls'\": 13767, 'suckmy': 13768, 'volnation': 13769, 'hopemcclintock': 13770, 'muzzle': 13771, 'yolspkhic0': 13772, 'lettybro': 13773, 'ezadick': 13774, 'flyers4cup': 13775, 'smartphone': 13776, \"passerby's\": 13777, 'somebodys': 13778, 'pr0bs': 13779, '00am': 13780, 'midgetmadz': 13781, 'isolated': 13782, 'hamster': 13783, 'lemarquand': 13784, 'slaughters': 13785, '2escape': 13786, 'hallucinate': 13787, 'skimp': 13788, 'poemsporn': 13789, \"rihanna's\": 13790, \"black'\": 13791, '86zvjuzjlr': 13792, 'solidarity': 13793, 'poking': 13794, 'sourpinkk': 13795, 'excites': 13796, 'perfectionist': 13797, 'whisperdispatch': 13798, \"'don't\": 13799, \"me'\": 13800, 'esqpoliti': 13801, 'kiingvon': 13802, 'clvrfboqbl': 13803, 'psf2q4wuqs': 13804, 'playn': 13805, 'prayingforgems': 13806, 'apparel': 13807, 'annie': 13808, 'illogical': 13809, 'sodano': 13810, 'swagggbro': 13811, 'kiaspeaks': 13812, 'tracking': 13813, 'pertile': 13814, 'zipperheads': 13815, 'irlfatty': 13816, 'sklph3ttog': 13817, 'thotermelon': 13818, 'tr1ll': 13819, 'tmrw': 13820, 'l00py': 13821, \"mata'i\": 13822, 'ngeli': 13823, 'stems': 13824, 'yajairab2': 13825, 'ikatrice': 13826, 'wolfpackalan': 13827, 'weaaak': 13828, 'charloosss': 13829, 'nicoleariel': 13830, 'daryl': 13831, 'michone': 13832, 'jajuan': 13833, 'cofield': 13834, 'premiere': 13835, 'dpd': 13836, 'braxton': 13837, 'regularly': 13838, 'rkk5vawij1': 13839, 'jsndxuypdn': 13840, 'omarion': 13841, 'sco': 13842, 'forit': 13843, 'manlookakeedy': 13844, 'lrmbwfpmae': 13845, 'thankful': 13846, 'rebuild': 13847, 'hermosaalma': 13848, 'mpazq3jswf': 13849, 'qutada': 13850, 'impeccable': 13851, 'daedeezyy': 13852, 'hit4475tyz': 13853, 'pounded': 13854, 'cmacswjn5a': 13855, 'gypsydylann': 13856, 'anandpradhan': 13857, 'kavita': 13858, 'krishnan': 13859, 'anand': 13860, 'salwar': 13861, 'digvijaysingh': 13862, 'jeffjam': 13863, 'ambitiousbree': 13864, 'trueee': 13865, 'tracee': 13866, 'chihuahuas': 13867, 'luke5sos': 13868, 'himse': 13869, 'nfltalkrt': 13870, 'scro': 13871, \"lot's\": 13872, 'tards': 13873, 'arlingtondems': 13874, 'arlington': 13875, 'sowhatsides': 13876, 'winningassnick': 13877, 'divorces': 13878, 'handcuffs': 13879, 'fernandooo': 13880, 'manga': 13881, 'nerdistdotcom': 13882, 'mifvotd': 13883, 'reebok': 13884, 'diabetic': 13885, 'cubvn': 13886, 'ligzdounj5': 13887, 'gbosmg': 13888, 'pumping': 13889, 'crownher': 13890, '1stzodiacsign': 13891, 'steeloh': 13892, 'belasco': 13893, 'daraunn': 13894, 'joshuataddac': 13895, 'tonyo97': 13896, 'fades': 13897, 'tyreon': 13898, 'gjk1979': 13899, 'fluutekies': 13900, 'moniquesparla': 13901, 'maanden': 13902, 'pers': 13903, 'stel': 13904, 'hoeren': 13905, 'gaan': 13906, 'vrsl': 13907, 'owes': 13908, 'jaredlikelndn': 13909, 'fullacharisma': 13910, 'unkept': 13911, 'daithidenogla': 13912, 'panhandle': 13913, 'overlords': 13914, 'yokels': 13915, 'numb': 13916, 'infiltration': 13917, 'priesthood': 13918, \"'dying\": 13919, \"laughing'\": 13920, \"'girly\": 13921, \"man'\": 13922, 'lldrxlzeus': 13923, 'hughspliffner': 13924, 'coolers': 13925, 'mlswmlarkf': 13926, 'yaoooooooo': 13927, 'mawnin': 13928, 'worldzwrestling': 13929, 'sirasshole': 13930, 'karrenchi': 13931, 'firmeprincess': 13932, 'kizzygotdajuice': 13933, 'clyapq2ret': 13934, 'rubberband': 13935, 'psi': 13936, 'girlfriendnotes': 13937, 'artificial': 13938, 'markhalperin': 13939, 'wsjopinion': 13940, 'crystalina': 13941, 'veyjlyxhzt': 13942, 'drizzy': 13943, 'ad4': 13944, 'shiannealvarez': 13945, 'scarborough': 13946, \"countin'\": 13947, 'compares': 13948, '128156': 13949, 'fmjlvmeqdo': 13950, 'anjel': 13951, 'naaaawwwww': 13952, 'ockxaythak': 13953, 'hahahahaa': 13954, 'annnie': 13955, '62urisgiq1': 13956, 'dailyrapfacts': 13957, 'djmustard': 13958, 'revdennismiller': 13959, 'shuts': 13960, 'libdog': 13961, 'bark': 13962, 'punt': 13963, 'cuncher': 13964, 'tailgating': 13965, 'lanes': 13966, 'wilma': 13967, 'panty': 13968, 'nylon': 13969, '35otesnwmx': 13970, 'cixgilkksw': 13971, 'itsmeesperanza': 13972, 'xezfp0uyba': 13973, 'mybuttsweats': 13974, 'artalegaspare': 13975, 'flameeee': 13976, 'iammariahj': 13977, 'ggas': 13978, 'xy6v2ytyas': 13979, 'mileage': 13980, 'bucking': 13981, 'reeds': 13982, 'zluketheduke': 13983, 'hammered': 13984, 'dasianah': 13985, 'frankiee': 13986, '559': 13987, 'presidentialpounding': 13988, 'jimmerfredette': 13989, 'rained': 13990, 'atmosphere': 13991, 'deser': 13992, 'yeahhhhhhh': 13993, 'okkkk': 13994, 'raygine': 13995, 'wept': 13996, 'thurmanmunson': 13997, 'thedingojohnson': 13998, 'killall': 13999, 'simps': 14000, 'skinnier': 14001, 'relating': 14002, 'aasthaxoxo': 14003, 'ohkay': 14004, 'allegedly': 14005, 'lh4uzqxbei': 14006, 'echeloninsights': 14007, 'greeneggs': 14008, 'c3': 14009, 'twerkn4boba': 14010, '3eigzh6q13': 14011, 'raincaudillo': 14012, 'infinity': 14013, 'vintagevixen': 14014, 'ally': 14015, 'mkellyredmen25': 14016, 'xyivsrbsop': 14017, 'thatguynorman': 14018, 'migue': 14019, 'pantoja': 14020, 'mccann23': 14021, 'achilles': 14022, 'badmatatan': 14023, 'tb06nygmcv': 14024, 'greatgawd': 14025, 'ncrusade': 14026, 'godmaniac': 14027, 'ajbk4life1': 14028, 'crushing': 14029, 'firm': 14030, 'choosy': 14031, 'poisoning': 14032, 'kissme': 14033, 'tooo': 14034, 'u9duc84iws': 14035, 'izzy': 14036, 'beaadawgg': 14037, 'trashiest': 14038, 'mortgage': 14039, 'trassshhh': 14040, 'obeamen': 14041, \"13's\": 14042, 'whatareollies': 14043, 'friendzoned': 14044, 'daaaaaaaam': 14045, 'eharmoniee': 14046, 'bucs': 14047, 'shroom': 14048, 'soulfulbrotha': 14049, 'alicianotalisha': 14050, 'bugalou': 14051, 'signsofcockblockin': 14052, 'tribexyunglion': 14053, 'fuckniggahs': 14054, \"when's\": 14055, 'loveablepinky': 14056, 'dinero': 14057, 'citi': 14058, 'ghxxmb3m': 14059, 'daniellecarr01': 14060, 'victoriasecret': 14061, 'ibnlkwuuns': 14062, 'tommymanson': 14063, 'locations': 14064, 'bbyotneebn': 14065, 'sandoval': 14066, 'e35igelt4w': 14067, 'ella': 14068, 'fraser': 14069, 'instinct': 14070, 'originvlepic': 14071, 'lilty': 14072, 'bigggdickbandit': 14073, 'mckooley': 14074, 'vuulibrary': 14075, \"shakespeare's\": 14076, 'shakespearean': 14077, 'jsy3uffaib': 14078, '01vjzqnahh': 14079, 'gabbyella': 14080, 'rae16': 14081, 'aching': 14082, 'suckers': 14083, 'sofunny': 14084, 'straightup': 14085, 'tera1patrick': 14086, \"don'\": 14087, 'rahleefranklin': 14088, 'ksiqmy4w8d': 14089, 'complains': 14090, 'cuba': 14091, 'culwvpcpa7': 14092, 'meals': 14093, 'csvndy': 14094, 'thottyglo': 14095, 'ursi7ajump': 14096, 'allbad': 14097, 'tainted': 14098, 'whut': 14099, 'breakup': 14100, 'goodmoring': 14101, 'cr4zyf0ru': 14102, 'carlafinch': 14103, 'cellular': 14104, 'gutssidious': 14105, 'pinchbach': 14106, 'rspectmy': 14107, 'cone': 14108, 'bainbridge': 14109, 'isl': 14110, 'ferry': 14111, 'coaching': 14112, 'playcalling': 14113, 'ags': 14114, 'indefensible': 14115, 'bluntsnextdoor': 14116, 'cnlv5nwnxz': 14117, 'rallycap': 14118, 'naam': 14119, 'engels': 14120, 'doods': 14121, 'dacht': 14122, 'eerst': 14123, 'iets': 14124, 'gargamel': 14125, 'heet': 14126, 'oja': 14127, 'azrael': 14128, 'j8b2jaadxk': 14129, 'jigging': 14130, 'yayabad1': 14131, 'ranking': 14132, 'streaks': 14133, 'combed': 14134, 'o3hika2fin': 14135, 'emd': 14136, 'he19tifqfx': 14137, 'smithmuffins': 14138, 'gradeschool': 14139, 'unforgiving': 14140, 'ceramic': 14141, 'queenveronica': 14142, 'mingling': 14143, 'olenohoes': 14144, 'bouncing': 14145, 'maverick': 14146, 'communicating': 14147, 'comrade': 14148, 'imperialist': 14149, '38gz1jerps': 14150, 'riananewman': 14151, 'prevented': 14152, 'camerondurant15': 14153, 'opea4': 14154, 'actionlljackson': 14155, 'natsukun1': 14156, 'teamrealbooty': 14157, 'vchxqgmbde': 14158, 'stocking': 14159, 'denton': 14160, \"wendy's\": 14161, 'qz3hge': 14162, 'bitchiedior': 14163, \"molly's\": 14164, 'folllowesteban': 14165, 'franch': 14166, 'heffa': 14167, 'inspirenaima': 14168, 'mendous23': 14169, 'rhapsody': 14170, 'kyhoopsbuzz': 14171, 'draftexpress': 14172, 'cauley': 14173, 'stein': 14174, 'poythress': 14175, 'harrison': 14176, 'dakari': 14177, 'robber': 14178, 'uuq0bw6vju': 14179, 'jacksonbynum': 14180, 'ashhruggiero': 14181, 'bitchniggabob': 14182, 'ayeeeee': 14183, '5bfusp9bfn': 14184, 'nickjspada': 14185, 'averagexbishop': 14186, 'rcummings8': 14187, 'chiko600': 14188, 'onebadcreation': 14189, '6dimz71mpv': 14190, 'hooouseee': 14191, 'immaculate': 14192, 'gabbella03': 14193, 'epps': 14194, 'auburnnn': 14195, 'klansman': 14196, 'michhelleashley': 14197, 'realbigasian': 14198, 'hoed': 14199, 'itsjustshay': 14200, 'twisttwizzy': 14201, 'snoopdogg': 14202, 'comets': 14203, 'chrissfmori': 14204, 'sharply': 14205, 'icysoleonline': 14206, 'blaz3': 14207, 'wtl': 14208, 'xi': 14209, 'dailytiz': 14210, 'socialize': 14211, 'redmillennial': 14212, 'ioc': 14213, 'esxkwb4qnh': 14214, 'j12': 14215, 'youwillnotbetakenseriouslyif': 14216, 'kedollarsignha': 14217, 'teyanataylor': 14218, 'stunning': 14219, 'n5z': 14220, 'wegomakeit': 14221, 'frum': 14222, 'dividendmaster': 14223, 'grandmama': 14224, '6zuxaqeavl': 14225, 'budapecanshellz': 14226, \"rice'd\": 14227, 'tx51afhddf': 14228, 'xofantasybby': 14229, 'nuestrabellezalatina': 14230, 'yooooo': 14231, 'bowyer': 14232, 'knighter01': 14233, 'caution': 14234, 'boisterous': 14235, 'belligerent': 14236, 'buffaloes': 14237, 'alliterationtuesday': 14238, 'damnismartallofasudden': 14239, 'thatniggacris': 14240, 'gorillaleo': 14241, 'tymoore': 14242, 'necakytdi1': 14243, 'handicap': 14244, 'johnwells': 14245, '5reiztq2ls': 14246, 'youlove': 14247, 'girrrrl': 14248, 'crazzzzy': 14249, 'wintersmith': 14250, 'invading': 14251, 'chiminea': 14252, 'saintrph': 14253, 'kimmarcumtexas': 14254, 'peas': 14255, 'ibuprofen': 14256, 'xixmcmlxxxv': 14257, 'mouthlikelicka': 14258, 'onlyattheducksgame': 14259, 'psjohnson23': 14260, 'votingmatters': 14261, 'rohan': 14262, 'oneshadowlove': 14263, 'learnsomethingeveryday': 14264, 'callemlikeiseeem': 14265, 'groovymovie': 14266, '95bbmgjijf': 14267, 'ajkfan': 14268, 'blogging': 14269, 'rube': 14270, 'ibchrismoses': 14271, 'counted': 14272, 'i9txjsdozz': 14273, 'nevalyric': 14274, 'jeancartier': 14275, 'reasonswecantbetogether': 14276, 'traceydee98': 14277, 'meeshdc': 14278, 'condemning': 14279, 'abuser': 14280, 'versacegawdd': 14281, 'liddo': 14282, 'shorty10': 14283, 'trillsteez': 14284, 'sincerelylivy': 14285, 'keiffer': 14286, 'mentioning': 14287, 'nutty': 14288, 'niff': 14289, 'shai': 14290, 'mrcouture': 14291, 'impregnating': 14292, 'jmk0728': 14293, 'urjndmgdrj': 14294, 'likwidcyance': 14295, 'hayyylayyy': 14296, 'merit': 14297, 'goddess': 14298, 'lameapocalypses': 14299, 'eisme6kxks': 14300, 'nano': 14301, 'istg': 14302, 'havemercyyy': 14303, 'wkczwwg6': 14304, 'looters': 14305, 'ebt': 14306, 'chrispalmernba': 14307, 'udonis': 14308, 'deepapi1800': 14309, 'pickled': 14310, '0xkfnw3luf': 14311, 'zedd': 14312, 'kingsha': 14313, 'mugga': 14314, 'brandynasty': 14315, 'jasonmoriarty13': 14316, 'dans': 14317, 'teelaydee': 14318, 'unwrap': 14319, 'outraged': 14320, 'earlobe': 14321, 'smuts': 14322, 'weeedith': 14323, 'boooty': 14324, 'pedro': 14325, 'conmanbo': 14326, 'lastgreatstand': 14327, 'vinchi3': 14328, 'ove': 14329, 'dasani': 14330, 'suga': 14331, 'titts69': 14332, 'succsess': 14333, 'sanctity': 14334, 'graveyard': 14335, 'erikacarissa': 14336, 'furbush': 14337, 'whydidigoogle': 14338, 'zlyouell': 14339, 'spongebobvlnes': 14340, 'cavanagh': 14341, 'anathema': 14342, 'merch': 14343, 'aquatic': 14344, 'bleekbrown': 14345, 'miramar': 14346, \"arizona's\": 14347, 'obv': 14348, 'steep': 14349, 'pothead': 14350, 'worldstarbests': 14351, 'ihqgu7dp5m': 14352, 'prone': 14353, 'alibaba': 14354, 'meg': 14355, \"whitman's\": 14356, \"freakin'\": 14357, 'vlnhyahaew': 14358, \"ballin'\": 14359, 'sonofgod': 14360, 'lel': 14361, 'carlavanderwaal': 14362, 'jaymaroley': 14363, 'syrie': 14364, 'volg': 14365, 'partisangirl': 14366, 'zij': 14367, 'vandaan': 14368, 'zal': 14369, 'precies': 14370, 'uitleggen': 14371, 'believes': 14372, 'amazinnana': 14373, 'twhj0w1qjq': 14374, 'sarcasticc': 14375, 'kiela': 14376, '5ht61nmjj3': 14377, 'iheart': 14378, 'youkeish': 14379, 'heauxs': 14380, 'framp': 14381, 'penguin': 14382, 'irregulargawd': 14383, 'ravioli': 14384, 'betterthanamobster': 14385, 'pzdoesar': 14386, 'quechele': 14387, 'hispanics': 14388, 'swayhasanswers': 14389, 'nolovee': 14390, 'lovablee': 14391, 'tyy': 14392, 'nebuladallas': 14393, 'amberrrnicollle': 14394, 'mightyfar': 14395, 'ufcs': 14396, 'organize': 14397, 'destination': 14398, 'vacarro': 14399, 'iba': 14400, 'global': 14401, 'mfw': 14402, 'scripture': 14403, '9zdsku0lbo': 14404, 'methnotweed': 14405, 'ovaaaaaa': 14406, 'tinatbh': 14407, 'ej': 14408, 'sirraycharles': 14409, 'mstamarshawnice': 14410, 'enon': 14411, 'reformed': 14412, 'igotdrunkand': 14413, 'cecil': 14414, 'heck': 14415, 'ssnalerts': 14416, '46': 14417, 'mmkygcyvg1': 14418, 'sayfie': 14419, 'flapol': 14420, 'olsen': 14421, 'nascara': 14422, 'laneishaaaa': 14423, 'awee': 14424, '4tr0n3': 14425, 'anitaphilmar': 14426, 'asmsg': 14427, 'erotica': 14428, 'shortstory': 14429, 't6lum': 14430, 'reconsider': 14431, 'irepfrisco': 14432, 'neontreezz': 14433, 'pocbeauty': 14434, 'doublestandard': 14435, 'likewhatyousea': 14436, 'wykh16plek': 14437, 'prosperindia': 14438, 'ak49': 14439, 'oath': 14440, \"valentine's\": 14441, 'jaded': 14442, 'zvjroxgndq': 14443, 'mommymonday': 14444, 'jenerationpr': 14445, 'theskimm': 14446, 'dingyyybritt': 14447, 'americanmirror': 14448, 'praedor': 14449, 'mandylougraham': 14450, 'beyoutiful': 14451, 'pris': 14452, 'fd5cioehgg': 14453, 'wagz': 14454, 'alexrice': 14455, 'figuratively': 14456, 'speicher': 14457, 'h1hjhynby2': 14458, 'kknd87mv4b': 14459, 'kag0xfdd1s': 14460, 'rodriguezliam': 14461, 'hayybacon': 14462, 'phizzyph0': 14463, 'twitterlessalex': 14464, 'utilties': 14465, 'ppppoppin': 14466, 'poppers': 14467, 'bitchezzz': 14468, 'talkmaster': 14469, 'nunn': 14470, 'founders': 14471, 'constitut': 14472, 'hoff': 14473, 'lykqlhq0wt': 14474, 'halibut': 14475, 'iamyoungroc': 14476, 'freshrhymes': 14477, 'jerksquad': 14478, 'slowstir': 14479, 'ull': 14480, 'femalejokerhoee': 14481, 'margiefaye': 14482, 'kzonqkfvtb': 14483, 'fuckssss': 14484, 'motherfuckas': 14485, 'trbopwkaug': 14486, 'moneygang': 14487, 'maggot': 14488, 'sac': 14489, 'fuckemx3': 14490, 'cuteciothes': 14491, 'shelbie': 14492, 'competitive': 14493, 'primetimelewis': 14494, 'needasnickersanda2piece': 14495, '6xrobdfztk': 14496, 'varsity': 14497, 'ironwood': 14498, 'samjalexander': 14499, 'cpyo5yp005': 14500, 'primetime': 14501, 'astronaut': 14502, 'artprize': 14503, 'ladysofchoice': 14504, 'bamaboyybrandon': 14505, 'egp': 14506, 'guamo': 14507, 'sonicboombrad': 14508, 'dickpunch': 14509, 'chadmatz': 14510, 'rachelcoursey': 14511, 'alexamees2': 14512, 'goodbadguytim': 14513, 'billmanoussakis': 14514, 'sinclair': 14515, '919prince': 14516, '2f2rerrgsm': 14517, 'ywegzs78om': 14518, '6eelumjbme': 14519, 'haifuckedyogirl': 14520, 'ksazoyurxv': 14521, 'housecracka': 14522, 'artbylecardin': 14523, 'amy0813amy': 14524, 'kaedashian': 14525, 'purrls': 14526, 'dopechubbychick': 14527, 'eager': 14528, 'nathirhussein': 14529, \"qaeda's\": 14530, 'viacom': 14531, 'enron': 14532, 'deliver': 14533, 'temptation': 14534, 'fullawhite': 14535, 'wey': 14536, 'stanking': 14537, 'dank': 14538, 'rileyybryn': 14539, 'sheaa': 14540, 'lgtw3awmeh': 14541, 'ukulele': 14542, 'foreverrrr': 14543, 'younnnnng': 14544, 'flask': 14545, 'greyfoxxx': 14546, 'vegetarian': 14547, '6oyslovekeena': 14548, 'jbrendaro30': 14549, 'zgabrail': 14550, 'ramsin1995': 14551, 'gabeeli8': 14552, 'jacob2times': 14553, 'nigggaaa': 14554, 'geezzzus': 14555, 'eveldick': 14556, 'ruizmaria15': 14557, 'marvelcomicswag': 14558, 'hunky': 14559, 'juliesczesny': 14560, 'chrisloesch': 14561, 'saddened': 14562, 'didntdonuffin': 14563, 'dreaaalove': 14564, 'missjia': 14565, 'harryslaststand': 14566, 'armisticeday': 14567, 'absent': 14568, 'tae627': 14569, 'frito': 14570, 'tecoremix': 14571, 'headbutt': 14572, 'evelyn': 14573, 'youcanhaveher': 14574, 'dami3n00': 14575, 'yctt56cxk5': 14576, 'nawwww': 14577, 'couuuuuch': 14578, 'gkzj7qndif': 14579, '4psdx11uu1': 14580, 'shojoaie': 14581, 'gauntlet': 14582, 'slygirl08': 14583, \"smokin'\": 14584, 'bathsalt': 14585, 'valeriemaria2': 14586, 'krueger': 14587, 'wheneva': 14588, 'letsquotecomedy': 14589, 'ltdbnlmovu': 14590, 'rawrrr': 14591, 'boob': 14592, 'itakeshitfromnoone': 14593, 'tbhbooty': 14594, 'vory1vgh4u': 14595, 'hahahaa': 14596, 'differently': 14597, 'ahahahha': 14598, 'b6kosbmzbz': 14599, 'insulate': 14600, 'improve': 14601, 'empirical': 14602, 'outcomes': 14603, 'phenomenally': 14604, 'dale': 14605, 'ajerned': 14606, 'pbs': 14607, 'impulse9': 14608, 'gogh': 14609, '81': 14610, 'kdebryk5er': 14611, 'wce': 14612, 'coliegeprobs': 14613, 'atypicalfemaie': 14614, 'oottkuxkra': 14615, 'guareenteed': 14616, '4hzzrqjhaq': 14617, 'le1r8tiwd1': 14618, 'ksteven37': 14619, 'kf6pgzvh5g': 14620, 'jayballout': 14621, 'onlywantonenight': 14622, '312': 14623, 'ooxhczfgjp': 14624, 'croquettes': 14625, 'snappin': 14626, 'bouncin': 14627, 'jordyxrivera': 14628, 'hoodjesusyo': 14629, 'sinner': 14630, 'jemima': 14631, 'pand': 14632, 'pizzas': 14633, 'lineman': 14634, 'committe': 14635, 'copying': 14636, \"miami's\": 14637, 'b19': 14638, 'obeymy': 14639, 'realness': 14640, 'okonokbscv': 14641, 'patarnold95': 14642, 'mannycovarrubia': 14643, 'jewlzsantana': 14644, 'mizzo': 14645, 'mikemastroccco': 14646, 'toddknife': 14647, 'npvp80gfh6': 14648, 'whohurtyou': 14649, 'fosho': 14650, 'addicting': 14651, 'iceyy505': 14652, 'sangelina': 14653, 'clutchlikemj': 14654, 'marckoo': 14655, 'youzza': 14656, 'jacsonbevens': 14657, 'markkiszla': 14658, '3hsvtyoxff': 14659, 'hiddencam': 14660, 'bt8c6qqctd': 14661, 'timoteoshonesto': 14662, \"spinelli's\": 14663, 'thinh': 14664, 'conto': 14665, 'rooseveltchaun': 14666, 'x4o0wmatws': 14667, 'oven': 14668, 'sshitty': 14669, 'datguybren': 14670, 'haleyjoanis': 14671, 'shud': 14672, '0malbndkn9': 14673, 'resolutionary': 14674, 'crabtree': 14675, 'prettyne': 14676, 'whodey8182': 14677, 'mobute': 14678, 'gubernatorial': 14679, 'k1olu522ft': 14680, '0ddment': 14681, 'laflaregodjosh': 14682, 'abbywiseman1': 14683, 'codeejames': 14684, 'slaps': 14685, 'xfbbm7cjty': 14686, 'cdashray': 14687, 'cvnlm1i3ls': 14688, 'pwilliamsd': 14689, 'hry3svlwgs': 14690, 'druggedvibes': 14691, 'whaaat': 14692, 'hibachi': 14693, 'swat': 14694, 'freeelchapo': 14695, \"montana's\": 14696, 'kassidypeek': 14697, 'growword': 14698, 'nicoleyyrosiee': 14699, 'baseba': 14700, 'tinytino842': 14701, 'x8jllf0fa9': 14702, 'tarynupsheets': 14703, 'theangryafrican': 14704, 'kiyxni': 14705, 'maidana': 14706, 'dmeis72': 14707, 'snag': 14708, 'masterchefjunior': 14709, 'tiaramescudi': 14710, 'owieee': 14711, 'gangsterfeels': 14712, \"bush's\": 14713, 'trackstar15': 14714, 'simplyforkicks': 14715, 'helps': 14716, 'oop': 14717, 'grs': 14718, 'bowling': 14719, 'mrfrankocean': 14720, 'managers': 14721, 'shmoove': 14722, 'brandontweets': 14723, 'mjrypfcjpd': 14724, 'munro': 14725, 'lettyguerrero3': 14726, 'stating': 14727, 'shared': 14728, 'resort': 14729, 'reclaim': 14730, 'bona': 14731, 'fides': 14732, 'coleflexxx': 14733, 'fingering': 14734, '128203': 14735, 'ahki117': 14736, 'k1ngmello': 14737, 'ravie': 14738, 'loso': 14739, 'daytime': 14740, 'w8sh2alvia': 14741, 'ljejfufulk': 14742, 'kvgoxkn9vg': 14743, 'tweetbelow': 14744, 'swur': 14745, '1042469': 14746, '1043353': 14747, 'mxwtt9h4nc': 14748, 'intellectsrus': 14749, 'textnow': 14750, 'netanyahu': 14751, 'incitement': 14752, \"7'1\": 14753, 'naynooski': 14754, 'kboavz': 14755, 'whacking': 14756, 'newyorkcity': 14757, 'bwanaaa': 14758, 'bechtel': 14759, 'nandotrash': 14760, 'averycash': 14761, 'coal': 14762, 'tharock10': 14763, 'imalagirl': 14764, 'backtobriality': 14765, 'overlyliked': 14766, \"pecker's\": 14767, 'ceelos': 14768, 'ho3': 14769, 'angelsoswavey': 14770, \"tillmans'\": 14771, 'jcal': 14772, 'blessedmannie': 14773, 'alluring': 14774, 'beyondtomcat': 14775, 'jnunchuckfuck': 14776, 'festivals': 14777, 'godddddd': 14778, 'pannies': 14779, 'sylviaobell': 14780, 'misstannaebaby': 14781, '58400': 14782, 'pricless': 14783, 'qmu2um1nc3': 14784, 'janky': 14785, 'boygoten': 14786, 'n7kp7ds198': 14787, 'chiefcaitlin': 14788, 'mikeaveli': 14789, 'tonyjetsfoo': 14790, 'hahahahahahahahahaahah': 14791, 'notorioussulo': 14792, 'imagination': 14793, 'jfo4eczmul': 14794, 'pilgrims': 14795, 'irelatesgirl': 14796, 'ai00uoleez': 14797, 'sisson11noah': 14798, 'freexvidi': 14799, '663399becca': 14800, '8b0ftjgost': 14801, 'trapwavey': 14802, 'cameron5833': 14803, 'fruits': 14804, 'diana': 14805, 'boyzzzzzz': 14806, 'wbaqq5vfpd': 14807, 'tore': 14808, 'domizdope': 14809, 'shanedennis37': 14810, 'meshia': 14811, 'toooo': 14812, 'jtimberlake': 14813, 'cabaret': 14814, 'jt2020tour': 14815, '602strangeangel': 14816, 'swags': 14817, 'deeray': 14818, 'purp': 14819, 'receivers': 14820, 'sirstern': 14821, 'bruise': 14822, 'begs': 14823, 'hcd2ru78ph': 14824, 'riptheogkoolaid': 14825, 'youngamari': 14826, 'errday': 14827, 'sumtime': 14828, 'pachino': 14829, 'praising': 14830, 'celebs': 14831, '60k': 14832, 'dyi': 14833, 'jaunthegoat': 14834, 'jaerawww': 14835, 'escalators': 14836, 'whizkhidk': 14837, 'amberadamzzz': 14838, 'curiosity': 14839, 'chanice': 14840, 'belaire': 14841, 'arguin': 14842, 'slutttt': 14843, 'lyl': 14844, 'vogue': 14845, 'formally': 14846, 'allthingsfresh3': 14847, '416': 14848, 'kendricklamar': 14849, 'lyzs1pu25i': 14850, 'athem': 14851, 'ilk': 14852, 'creation': 14853, 'overbreeding': 14854, 'caciteamordie': 14855, 'orp642pomf': 14856, 'fadeaway': 14857, 'mrnationwide': 14858, 'shmapplemen': 14859, 'arrsted': 14860, '5tnwq2e7q5': 14861, 'risking': 14862, 'nadinelumley': 14863, 'hajihuntinggrl': 14864, 'thirlrection': 14865, 'gringo': 14866, 'barbaraf321': 14867, 'thirtybirdy': 14868, \"wayne's\": 14869, 'ceilings': 14870, 'stupidbitches': 14871, 'looklike': 14872, 'shiiiiiit': 14873, 'yujjdmtdc4': 14874, 'teets6': 14875, \"'absolved'\": 14876, 'suburbs': 14877, 'erybody': 14878, 'sicilianinheels': 14879, 'y3lla': 14880, 'roseee': 14881, 'dnrcmkg5oo': 14882, 'linch': 14883, 'crowned': 14884, 'ghoul': 14885, 'ducey': 14886, 'rhymes': 14887, 'douchy': 14888, 'azgov': 14889, 'azvotes': 14890, 'o6': 14891, 'jst': 14892, \"dn't\": 14893, 'cellar': 14894, 'yeterday': 14895, 'breely216': 14896, 'recommended': 14897, 'magnet': 14898, 'saimigi': 14899, 'sparklelikezen': 14900, 'kidnapyogranny': 14901, 'entertains': 14902, 'donttryme': 14903, 'bitchmode': 14904, 'testme': 14905, 'ky9fi39zux': 14906, 'runwithcharlie': 14907, 'wy': 14908, 'tiny2youhoes': 14909, 'naawww': 14910, 'militarytimes': 14911, 'generals': 14912, 'manhood': 14913, '3wypsnrlu3': 14914, 'sgp': 14915, 'nydiamarie': 14916, 'bub': 14917, 'ayfgkvdezi': 14918, 'kingdineroo': 14919, 'o0rraj8vij': 14920, 'sublet': 14921, 'shitfahdsays': 14922, 'wuzzername': 14923, 'financially': 14924, 'zerah': 14925, 'chariots': 14926, 'mare': 14927, 'lpbeb04j4r': 14928, 'carcarroni': 14929, 'sincerest': 14930, 'jayswaggkillah': 14931, 'jackies': 14932, 'blondeproblems': 14933, 'pombuenaa': 14934, 'tommahoney91': 14935, 'placing': 14936, 'judgemental': 14937, 'regrets': 14938, 'hiiighem143': 14939, 'missunfoolish': 14940, 'bentancur': 14941, 'agrisbhy': 14942, 'gma': 14943, 'j3uf1tyubo': 14944, 'flame': 14945, 'grannywinkle': 14946, 'carryon': 14947, 'prolli': 14948, 'ymcmb': 14949, 'antville': 14950, 'phila': 14951, 'randell': 14952, 'chaaaauncey': 14953, 'shego': 14954, 'dexters': 14955, 'rabbit': 14956, 'timmy': 14957, \"turner's\": 14958, 'volumes': 14959, 'lydsortiz': 14960, 'cashin': 14961, 'qa4o9dr4vp': 14962, 'pribski86': 14963, 'pandaenchilada': 14964, 'tomyfutureson': 14965, 'brokanese': 14966, 'houdiniofcod': 14967, 'bsbhforum': 14968, 'beatthehabs': 14969, 'nyr': 14970, 'okvhwhy3vh': 14971, 'canadiensmtl': 14972, 'satisfying': 14973, 'climbing': 14974, 'crazyyy': 14975, 'hfktledkpa': 14976, 'glads': 14977, 'soyvice': 14978, 'toddirwin1': 14979, 'forgetabout': 14980, 'nye': 14981, 'data': 14982, 'makennam': 14983, 'u4dfp2xj9b': 14984, 'wouldve': 14985, 'gottaphilme': 14986, 'fbfr8trtoy': 14987, 'neodaregularguy': 14988, 'cookin': 14989, 'u0yhwkd34c': 14990, '0xhpbrl9eq': 14991, 'ih8lightskins': 14992, 'inferior': 14993, 'myjim': 14994, 'aintslim': 14995, 'sahge1wgas': 14996, 'lynchiewcvb': 14997, 'martha': 14998, 'breathes': 14999, 'stankin': 15000, 'pushy': 15001, 'maintain': 15002, 'arzysauced': 15003, 'robbed': 15004, '95toinfinite': 15005, 'yesallmen': 15006, 'stucc': 15007, 'krisinizu': 15008, 'ronnie2k': 15009, 'pharrell': 15010, 'tge': 15011, 'yayyyy': 15012, 'lemilfu1': 15013, 'lickmywhooooop': 15014, 'dejaaleeann': 15015, 'coleman2': 15016, 'hogannohulk': 15017, 'terrance': 15018, 'checkmylingo': 15019, 'kingpin': 15020, 'drgbekvzun': 15021, 'shakilaahh': 15022, 'm6anq9cqs9': 15023, 'jgalt666': 15024, 'exploiting': 15025, 'repubs': 15026, 'surgeon': 15027, 'itspoochflair': 15028, 'titsandlickher': 15029, 'lbozmlfbox': 15030, 'darthputinkgb': 15031, 'ranked': 15032, 'alongside': 15033, 'lech': 15034, '322': 15035, '281': 15036, '0yboiklkbt': 15037, 'daggerbyte': 15038, 'sewn': 15039, 'iethaldose': 15040, 'musta': 15041, 'foodtown': 15042, 'sincerelyayla': 15043, 'idntluvhoes': 15044, 'schoolboycole': 15045, 'chelsearaine': 15046, 'cooper907': 15047, 'mueller': 15048, 'reason18': 15049, 'smoothie': 15050, 'straws': 15051, 'ssparklesdaily': 15052, 'souls': 15053, 'survivors': 15054, 'mrinfernushd': 15055, 'builders': 15056, 'naomidanielson': 15057, 'rkaqn0grqe': 15058, 'kilt': 15059, 'glizzygang': 15060, 'shampooing': 15061, 'bangin': 15062, 'freshprince': 15063, 'summertime': 15064, '128559': 15065, 'hibbert': 15066, 'dillard': 15067, 'bruhkiarathrowd': 15068, 'darkliquanigga': 15069, 'concentrate': 15070, 'gforgent': 15071, 'sickdrawings': 15072, 'tcprvbgspt': 15073, 'fax': 15074, '147': 15075, 'sittn': 15076, 'justified': 15077, 'stub': 15078, '1300': 15079, 'eastsidedame': 15080, 'moneyhabitz17': 15081, 'hillbillys': 15082, 'tlmothyy': 15083, 'g5yjyjeoem': 15084, 'yaaboyshiki': 15085, 'tarantulas': 15086, 'fzrodl': 15087, 'gilda': 15088, 'radner': 15089, 'markroundtreejr': 15090, 'rnvd2nlcdr': 15091, 'amcwalkingdead': 15092, 'joselopez222': 15093, 'bellos': 15094, 'napk': 15095, 'upk': 15096, 'turf': 15097, '2ldiha2a3a': 15098, 'aydren': 15099, 'stupidest': 15100, 'dblockdeuce': 15101, 'unusualfactpage': 15102, 'observational': 15103, 'solving': 15104, 'vinny2vicious': 15105, 'scottyplagues': 15106, 'dancingxburrito': 15107, 'reganleahhh': 15108, 'happycolumbusday': 15109, 'karlmarx': 15110, 'colonialism': 15111, 'centreville': 15112, 'cville': 15113, 'hq4q6zfwjh': 15114, 'fgkf5auklo': 15115, 'pucksk8r': 15116, 'ware': 15117, 'photoset': 15118, 'sziqi92sbv': 15119, 'steveeearley': 15120, 'thechaseusa': 15121, 'marklabbett': 15122, 'thugging': 15123, 'software': 15124, 'request': 15125, 'damages': 15126, 'shedreamsthed': 15127, 'iloveyou': 15128, 'bruhhhhh': 15129, 'teenagesleuth': 15130, 'jayjroc': 15131, 'elan': 15132, '1ic1h0ib8u': 15133, 'mrstories': 15134, 'alexissixela': 15135, 'arizonasfinest6': 15136, 'lordflaconegro': 15137, 'youknowme': 15138, 'tupactopus': 15139, 'weenie': 15140, 'jrs': 15141, 'sunburnt': 15142, 'awwbroyouahhoe': 15143, 'oldbrooklynjim': 15144, 'believeland': 15145, 'boutcha': 15146, 'ceeismee': 15147, 'autozone': 15148, 'wiper': 15149, 'tifqceests': 15150, '2dhlgxcvg2': 15151, 'zachirving': 15152, 'messinwithsasquach': 15153, 'chip216': 15154, 'nas': 15155, \"baby's\": 15156, 'cashmere': 15157, 'nasir': 15158, 'bosslifepiff': 15159, 'swagg': 15160, 'smokeabluntdgaf': 15161, 'haiimbreanna': 15162, 'ancestor': 15163, 'derail': 15164, 'hotdogs': 15165, 'woridstarrrr': 15166, 'ew029ozxvg': 15167, 'katiebentel': 15168, 'pretti': 15169, 'mr2fjyugtn': 15170, '128182': 15171, 'thejigisup': 15172, '8w9ag3bx1a': 15173, \"'above\": 15174, \"fray'\": 15175, \"'they're\": 15176, \"same'\": 15177, 'mushy': 15178, 'moderate': 15179, 'interject': 15180, 'taddsaelee': 15181, 'wuss': 15182, 'workouthumor': 15183, 'jik7ofqmbe': 15184, 'advantage': 15185, 'tinks': 15186, 'jennymccarthy': 15187, 'slumber': 15188, 'weaving': 15189, 'raided': 15190, \"nicki's\": 15191, '0panscimew': 15192, 'workaholicadam': 15193, 'splashed': 15194, 'splashgang': 15195, 'bryancranston': 15196, 'joepesci': 15197, 'stolenbases': 15198, 'circled': 15199, 'freeladdin': 15200, 'dfkymadk3b': 15201, 'baldheadass': 15202, 'rs9jj9psc3': 15203, 'busters': 15204, 'blameamotherfucker': 15205, 'holdmyheart': 15206, 'ahs': 15207, 'freakshow': 15208, 'exjon': 15209, 'misdeeds': 15210, 'koskinen': 15211, 'freddie': 15212, 'swallowmychakra': 15213, 'brookeschade': 15214, 'piperleigh': 15215, 'cass': 15216, 'deee': 15217, 'baylee247': 15218, 'loyalheart': 15219, '220': 15220, 'cuteforfall': 15221, 'd3blsbpryd': 15222, 'goodlucc': 15223, 'rancho': 15224, 'impersonators': 15225, 'adopting': 15226, 'j3usrlfo9a': 15227, 'leezythewarrior': 15228, 'erykahrogers': 15229, 'adnanespn': 15230, 'ahl': 15231, 'aeros': 15232, 'transplanted': 15233, 'slikhawk': 15234, 'gohawks': 15235, '0injjm374v': 15236, 'awnser': 15237, 'hknkpj8ugu': 15238, 'fazedavls': 15239, 'wvyy': 15240, 'haze': 15241, 'fazeoutcst': 15242, 'gobbledy': 15243, '51st': 15244, 'chiraq': 15245, 'laziest': 15246, 'noregrets': 15247, 'fuckboylog': 15248, 'superweak': 15249, 'denim': 15250, 'showysantoro': 15251, 'mendes': 15252, 'ueonoyungjumbo': 15253, 'gabriella': 15254, 'birthd': 15255, 'csfigyqut4': 15256, 'trappin': 15257, 'mcbaybeh1218': 15258, 'reesezamora': 15259, 'daxmw23': 15260, 'dax': 15261, 'tounge': 15262, '1kellibelle': 15263, 'burritos': 15264, 'vabtwin8211': 15265, 'raymond': 15266, 'felton': 15267, 'beckdeemyg': 15268, 'cok3coke': 15269, 'koed': 15270, 'fuckgm': 15271, 'hbcu': 15272, 'throwback': 15273, 'jfcthdedcz': 15274, 'knotch': 15275, 'weddle': 15276, 'jzbccsn75h': 15277, 'cracks': 15278, 'puddy': 15279, 'itsbrooke': 15280, 'xpauwp43oa': 15281, 'assigned': 15282, 'yanked': 15283, 'rjvovoo53l': 15284, 'goofstroop': 15285, 'kxngfrxsh': 15286, 'mah': 15287, 'monroedoll': 15288, 'eatmytweetzz': 15289, 'noisy': 15290, 'moeeaseyamind': 15291, 'mckenzie': 15292, 'notcute': 15293, 'sparkling': 15294, 'npx7gltmst': 15295, 'ogbitchh': 15296, 'soccersammie': 15297, 'wifioverhoes': 15298, 'scoon': 15299, 'instagrams': 15300, 'christeaa': 15301, 'babbyyy': 15302, 'colinfreeze': 15303, 'aimv7gib24': 15304, 'mlnestel': 15305, 'ajuau5ywiv': 15306, 'kirbys08': 15307, 'swagdollz': 15308, 'aubrey': 15309, 'rappe': 15310, 'trey3': 15311, 'thugmon3yy': 15312, 'noturavurage': 15313, 'barter': 15314, 'notrapd2tite': 15315, 'savings': 15316, 'visibility': 15317, 'yungethiopian': 15318, 'mugs': 15319, 'dominiquecs': 15320, 'ooooostopflexingforigandtwitter': 15321, 'casually': 15322, \"'ff'\": 15323, 'fking': 15324, 'foofighters': 15325, 'sweatercamila': 15326, 'dedicate': 15327, 'rhode': 15328, 'gagatom1': 15329, 'malefoot': 15330, '4qe1hdkk8i': 15331, 't5': 15332, 'harris': 15333, 'route': 15334, 'grier': 15335, 'uf': 15336, 'chula': 15337, 'vista': 15338, 'nripmcpnge': 15339, \"chavez's\": 15340, 'glove': 15341, 'bussy': 15342, 'mrtriskaideka': 15343, 'handstand': 15344, 'bunk': 15345, 'bqwlz5mbso': 15346, '100x': 15347, 'jasminee': 15348, 'gamboa': 15349, 'medusa': 15350, 'alxjames10': 15351, 'carton': 15352, 'stuf': 15353, 'therisingstar23': 15354, 'chair': 15355, 'negroizzle': 15356, 'iheinz2012': 15357, 'overture': 15358, 'izziorizzi': 15359, 'jaymesshaylan': 15360, 'fuuck': 15361, 'jalens': 15362, 'mrrrrrrr': 15363, 'bind': 15364, 'providing': 15365, 'lexiisounique': 15366, 'weaselfbaby': 15367, 'xddlyr1apq': 15368, 'kiersten': 15369, '158fcon7sd': 15370, 'yograndmabitch': 15371, 'zuvwccn0iv': 15372, 'wt5ssof9rw': 15373, 'tayknosbest': 15374, 'overdoselove': 15375, 'bootylord': 15376, 'teanna': 15377, 'trump': 15378, 'cleaner': 15379, 'hy9cty37sw': 15380, 'paajzu0um4': 15381, 'shelbylavelle': 15382, 'givenchy': 15383, 'kcrwtbcqzd': 15384, 'wxkj826b1e': 15385, 'thirsting': 15386, 'wordscience': 15387, 'gwenyth': 15388, 'armybulldog20': 15389, 'acmehandle': 15390, 'russians': 15391, 'rebels': 15392, 'surprises': 15393, 'cuhh': 15394, 'uma': 15395, 'notworldstar': 15396, 'llvitxwemx': 15397, 'mflagginski': 15398, 'milwaukie': 15399, 'bikes': 15400, \"dui's\": 15401, 'lassie': 15402, 'greggs': 15403, 'generous': 15404, 'ufrr2rdcxm': 15405, 'pessimistic': 15406, 'malibubarbie': 15407, 'prattling': 15408, 'apache': 15409, 'jimjefferies': 15410, 'otis': 15411, 'redding': 15412, 'eemoneee': 15413, 'girlboo': 15414, 'tinslee': 15415, 'reagan': 15416, '65533': 15417, 'toljqdxee3': 15418, 'dnd': 15419, 'xpress': 15420, 'rmautzjcpy': 15421, 'basedanarchy': 15422, 'twbse6eij7': 15423, 'xya7alduhu': 15424, 'keebithalal': 15425, 'loganswarning': 15426, 'islamofascist': 15427, 'retort': 15428, 'idiocy': 15429, 'shun': 15430, 'stokes': 15431, 'inches': 15432, 'rney': 15433, 'gallup': 15434, 'iamjayuno': 15435, 'shuddup': 15436, 'lifeasababe': 15437, 'phillytheboss': 15438, 'fkinlive': 15439, 'mjr': 15440, 'guinness': 15441, 'douc': 15442, 'gearin': 15443, 'clashes': 15444, 'materialgurlxo': 15445, 'raajans': 15446, 'hberghattie': 15447, 'snkscoyote': 15448, 'progs': 15449, 'relegate': 15450, \"reid's\": 15451, 'boutique': 15452, 'exlibris': 15453, 'blaspheme': 15454, 'banters': 15455, 'bossd': 15456, 'strings': 15457, 'originally': 15458, 'perro5070': 15459, 'thrillllllllll': 15460, 'orchetect': 15461, \"35'\": 15462, 'pon3': 15463, 'cameo': 15464, 'tngseason4finale': 15465, 'ttzsxbts74': 15466, 'hipsterbreeez': 15467, '270': 15468, 'aravosis': 15469, 'wad': 15470, 'capital': 15471, 'dloesch': 15472, \"jordan's\": 15473, 'lovelydomo': 15474, 'saquurmezi': 15475, 'flier': 15476, 'canary': 15477, 'bradley22': 15478, 'roniqueraw32': 15479, 'seymour': 15480, '1puccv8t97': 15481, 'witches': 15482, 'vwt4i9poc2': 15483, 'badluckbella': 15484, 'chelousmuch': 15485, \"4'\": 15486, 'okoruoni': 15487, 'u0fdwrv17y': 15488, 'levis': 15489, 'snapback': 15490, 'castle': 15491, 'youuuuuu': 15492, 'holdmypursegirl': 15493, 'idfwu': 15494, 'dych': 15495, 'bsrwtmkw87': 15496, '2fine4cheapwine': 15497, 'yahoo': 15498, 'nraai6dhvx': 15499, 'brunswickbecooo': 15500, 'moffettmm': 15501, 'sim': 15502, 'pronounced': 15503, 'campkevin': 15504, 'donttouchme': 15505, 'kourtj3000': 15506, 'leeandrea': 15507, 'johnfaheyiii': 15508, 'frankxlz': 15509, 'autoworid': 15510, 'venom': 15511, 'i8egmnkaj9': 15512, 'wifebeater': 15513, 'islamnation': 15514, 'leticiamvrie': 15515, 'completes': 15516, 'motif': 15517, 'gasbag': 15518, 'peak': 15519, 'joins': 15520, 'tnszm31m9z': 15521, 'kenzie': 15522, 'burnnotice': 15523, 'isaidthatshit': 15524, 'lmfaoooooooooooooooo': 15525, '2chainzlyrics': 15526, 'pztst16cew': 15527, 'jewelxo': 15528, 'katie': 15529, 'panicking': 15530, 'wwn': 15531, 'vanishing': 15532, 'glennsoucy1': 15533, 'collector': 15534, 'vtc661dc65': 15535, 'ian1': 15536, 'helenyvonnem': 15537, 'biiiiiiiitch': 15538, 'niggggg': 15539, 'jcharles25': 15540, 'tkelce': 15541, 'shananigans': 15542, 'rickraze': 15543, 'pxwlzkwacs': 15544, 'gett': 15545, \"that'd\": 15546, 'pdiglrbhjz': 15547, 'swirl': 15548, 'aaahhhhh': 15549, 'iameviltebow': 15550, 'trapwithronnie': 15551, 'titanium': 15552, \"'winter'\": 15553, 'rrkxbwg1u4': 15554, '1042390': 15555, 'atlienz404': 15556, 'nmoxkm4pwx': 15557, 'corrinybug': 15558, 'laminate': 15559, 'richhomieroya': 15560, 'emasculating': 15561, 'savagesaiyan4': 15562, 'emosquad2k10': 15563, 'realerthanplies': 15564, '10006': 15565, 'bakarit': 15566, 'liquidate': 15567, 'gtwmjmgt': 15568, 'cecetooshort': 15569, \"exe's\": 15570, 'siuxrh5sms': 15571, 'beam': 15572, 'heavens': 15573, 'dtb': 15574, 'mikeypdacav5': 15575, 'mirandawigley': 15576, 'edenbaby101': 15577, 'gifts': 15578, 'lffy5hvcna': 15579, 'neskorikkenneth': 15580, 'ylvtluzsi0': 15581, 'bias': 15582, 'bulldogged': 15583, 'sceoqiqbme': 15584, 'sticking': 15585, \"fluzzy07's\": 15586, 'preferably': 15587, 'beautywins': 15588, 'luvgoodspliff': 15589, 'og3ay5x7lg': 15590, 'h5p2yxsu1h': 15591, 'swab': 15592, 'hannahpike': 15593, 'sisternoles': 15594, 'truuuooooth': 15595, 'rodill': 15596, 'materialistic': 15597, '128054': 15598, 'bullllllshiiiiitttt': 15599, 'onlybiebs1d': 15600, 'belieber': 15601, 'majjinn': 15602, 'feliciawolfee': 15603, 'echo': 15604, 'paranoia': 15605, 'tents': 15606, 'appeared': 15607, 'daesh': 15608, 'mosul': 15609, 'gh3ebbfb3t': 15610, 'kevinkoski': 15611, 'tebowing': 15612, 'favre': 15613, 'exp': 15614, 'blowback': 15615, 'allly': 15616, 'sunn': 15617, 'existent': 15618, 'marcsesslernfl': 15619, 'chunk': 15620, 'lifechanging': 15621, 'moonlit': 15622, 'whiskey': 15623, 'ridicule': 15624, 'mothafucka': 15625, 'flaidfirnruht': 15626, 'dfa73': 15627, 'hellyeahcalum': 15628, 'instyle': 15629, 'transfered': 15630, 'lucyyluux': 15631, 'therealjrsmith': 15632, 'misters206': 15633, 'decoy': 15634, 'geoffsheen760': 15635, 'geoffhatespuppies': 15636, 'repressed': 15637, 'memories': 15638, 'countermoonbat': 15639, 'aske': 15640, 'lysettemariee': 15641, 'xzimpx': 15642, 'bitten': 15643, 'wif': 15644, 'regents': 15645, 'virtually': 15646, 'protections': 15647, 'persons': 15648, 'acceptance': 15649, 'alabamian': 15650, 'caramelkushh': 15651, 'wyandanch': 15652, 'hildismom': 15653, '6onyrmggnd': 15654, 'redmeat': 15655, 'analyyxo': 15656, 'paige': 15657, 'transcends': 15658, 'grandstanding': 15659, 'compels': 15660, 'dangers': 15661, '9hkpdwq7vr': 15662, 'mattwalshblog': 15663, 'jeremyclarkson': 15664, 'vocies': 15665, 'lockthatbitchup': 15666, 'liberienne': 15667, 'b1b': 15668, 'lancer': 15669, 'cue': 15670, \"left's\": 15671, 'savx': 15672, 'byrdy': 15673, 'thinklikerandy': 15674, 'toq4bfwnzg': 15675, 'funnyjokebook': 15676, 'idddhppjiu': 15677, 'rfradsham': 15678, 'garcia13': 15679, 'officialvondell': 15680, 'mygirlfriendnotallowedto': 15681, 'vinyldanyl': 15682, 'bleedinglsd': 15683, '1yimftrtzw': 15684, 'semimooch': 15685, 'whatnot': 15686, 'hotsausage': 15687, 'iza7lil1oz': 15688, 'lilbro': 15689, 'x4f6va7g5q': 15690, 'tylerssooclutch': 15691, 'khaliefer97': 15692, 'brandonescaler': 15693, 'playachris': 15694, 'jaredfayne': 15695, 'darahkcarter': 15696, 'woot': 15697, 'completed': 15698, 'sixth': 15699, 'rd81tnco4f': 15700, 'luvvida': 15701, 'antsoo305': 15702, 'lexii': 15703, 'vaginafvce': 15704, 'basedlordjesus': 15705, 'crucify': 15706, 'zoyz9pc1eh': 15707, 'mattietrump97': 15708, 'jairusbyrd': 15709, 'neworleans': 15710, '0000000000000': 15711, 'fuckbyrd': 15712, 'whone': 15713, 'bangbangbirdgang': 15714, 'scottpelley': 15715, 'bobschieffer': 15716, 'ntx': 15717, 'thelovely': 15718, 'jtsijbulvc': 15719, 'enuf': 15720, 'cells': 15721, 'theellenshow': 15722, 'ratchetness': 15723, 'priss': 15724, 'venting': 15725, 'insight': 15726, 'dcplod': 15727, 'sharia': 15728, 'boils': 15729, 'fundamentalists': 15730, 'oppressors': 15731, 'persecu': 15732, 'danifreshh': 15733, 'shardae85yahoo': 15734, 'liquior': 15735, 'forgets': 15736, 'dblite': 15737, 'charm': 15738, 'openwrt': 15739, 'arduino': 15740, 'yun': 15741, 'gyp': 15742, '4jrj1ezc1s': 15743, 'analicialouise': 15744, 'tevin': 15745, 'zdwd3l8m': 15746, '1wsyi6gdvp': 15747, 'bulbasuar': 15748, 'angelaaau': 15749, 'deztinis': 15750, 'yob': 15751, '3spfhbbkvd': 15752, 'fitemeirl1v1': 15753, 'humxnerror': 15754, 'alfarkh': 15755, 'interrupted': 15756, 'sharpening': 15757, 'knives': 15758, 'germanshepher10': 15759, 'crookedwren': 15760, 'allahpundit': 15761, 'jammiewf': 15762, 'shockingly': 15763, 'devoured': 15764, 'wyis0lvdsi': 15765, 'roe': 15766, 'flightrisk': 15767, 'repulsivetool': 15768, 'kingsimi': 15769, '7d0jeamuvf': 15770, '128537': 15771, 'nicknamed': 15772, 'duke': 15773, 'politicallaughs': 15774, 'explosion': 15775, 'ww2': 15776, 'navajo': 15777, 'ouxoqdhmid': 15778, 'caress': 15779, 'runners': 15780, 'h6e278e85s': 15781, 'imnotaplayertho': 15782, 'jbhjmpy1gx': 15783, 'jaaziel': 15784, 'angles': 15785, 'vinniepolitan': 15786, 'creeper': 15787, 'parthenon': 15788, 'jesseabrego': 15789, 'freeballoutpartypart3': 15790, 'quotable': 15791, 'thnk': 15792, 'wishywashy': 15793, 'gl': 15794, 'l2fm9cfgfw': 15795, \"titty'd\": 15796, 'dickgregory': 15797, 'tsjmaq62yb': 15798, 'parasites': 15799, 'weeaboo': 15800, 'gears': 15801, 'squirtin': 15802, 'rebecca7054': 15803, 'caitlinbartlett': 15804, '2pp9rbohy4': 15805, 'directtv': 15806, 'blackout': 15807, 'thingsnottodoonafirstdate': 15808, 'anoyin': 15809, 'wuzzy': 15810, 'gi9on86igv': 15811, 'hlkdtsgkwu': 15812, 'define': 15813, 'samtrap84': 15814, 'spanks': 15815, 'zzzentropy': 15816, 'mig': 15817, 'uel04': 15818, 'feelins': 15819, 'iukrtw2icw': 15820, 'clutchaction': 15821, 'cory': 15822, 'illmatic': 15823, 'cambryh': 15824, 'sweettay': 15825, 'tableninemutant': 15826, '007hertzrumble': 15827, 'qyn1bc7mxs': 15828, 'cooooool': 15829, 'niiiieeegggaaa': 15830, 'rob215': 15831, 'cdnballjunkie': 15832, 'ibaka': 15833, 'dexluger': 15834, 'u1dqv3eev3': 15835, 'xfr1crxwsm': 15836, 'whenrappersaids': 15837, 'wf': 15838, 'reaper': 15839, 'drones': 15840, 'pinpoint': 15841, 'ibsczelxxe': 15842, 'shellet1986': 15843, \"chillin'\": 15844, 'shavonne': 15845, 'colorful': 15846, 'wavy': 15847, 'chinatown': 15848, 'bulldozed': 15849, 'reed': 15850, 'cluck': 15851, 'lifeflightgirl': 15852, 'spouse': 15853, 'pubeless': 15854, 'runt': 15855, \"surfboard'n\": 15856, '0iex8q4wml': 15857, 'iycmi': 15858, 'x6yljemn': 15859, 'theperfectanswer': 15860, '8pm': 15861, 'shessoblessed': 15862, 'cnas': 15863, 'istricer': 15864, 'hosers': 15865, 'bigdaddycooter': 15866, 'staircase': 15867, 'mayra2563': 15868, 'jpayneancap': 15869, 'sybilll': 15870, 'diannewing2': 15871, 'mylibertymygun': 15872, 'sdalexander11': 15873, 'aoakleyc': 15874, 'prog': 15875, 'vishaldagod': 15876, 'deandre': 15877, 'ewerickson': 15878, 'ayemr': 15879, 'foreman': 15880, 'blackjesus': 15881, 'aaronmacgruder': 15882, 'summit': 15883, 'imonmylevelgtb': 15884, 'staristhefuture': 15885, 'fathom': 15886, 'zn1a0gstpc': 15887, 'hii': 15888, 'pamschep': 15889, 'spamblocked': 15890, 'spewing': 15891, 'calfreedommom': 15892, 'ralphyboyusa': 15893, 'scottddolan': 15894, 'masturbation': 15895, 'mastu': 15896, 'ofggmlxqaj': 15897, 'countryredbelle': 15898, 'hint': 15899, 'dminion25': 15900, 'experimenting': 15901, 'ships': 15902, 'hwkfme75kx': 15903, 'rltlvygptl': 15904, 'thornton25': 15905, 'thegawd': 15906, 'holyjacob': 15907, 'inbaltimore': 15908, 'everyby': 15909, 'ilikewgw': 15910, 'lbvs': 15911, 'justicechrist': 15912, 'chillasstweets': 15913, 'pointdexter': 15914, 'dkk6yjtjfu': 15915, 'odee': 15916, 'things4flppl': 15917, 'fvxxk': 15918, 'finds': 15919, 'koozie': 15920, 'd6sbsyann2': 15921, 'underwear': 15922, 'calld': 15923, 'usen': 15924, 'jawga': 15925, 'officialdthrash': 15926, 'jawgaboyz': 15927, 'px9cn8fcw5': 15928, 'igns': 15929, 'omfgitsoscar': 15930, 'scottydoesntn0': 15931, 'char': 15932, 'broiled': 15933, 'saut': 15934, 'spinach': 15935, 'artichoke': 15936, 'vwjwlghrgo': 15937, 'countin': 15938, 'finalist': 15939, 'pice': 15940, 'felling': 15941, 'zlarge20': 15942, '128': 15943, 'ughvrrdirz': 15944, \"50's\": 15945, 'yeridzee': 15946, 'drewbillionaire': 15947, \"rarri's\": 15948, 'imfinatweetthat': 15949, 'sneakerpics23': 15950, \"6's\": 15951, 'jx9dd9oahy': 15952, 'ezzzylove': 15953, 'cathedral': 15954, 'mosque': 15955, '4ahp4t86bp': 15956, 'mobengalfan': 15957, 'disl': 15958, 'automatic': 15959, 'mikehoho': 15960, 'itdircnt7y': 15961, 'kitkat': 15962, 'discriminate': 15963, 'cookie86': 15964, '128052': 15965, 'gypos': 15966, 'overused': 15967, 'imessage': 15968, 'greekpharaoh': 15969, 'truefriendsarebasictogether': 15970, 'savethesehos': 15971, 'skechers': 15972, 'vqluspyqmo': 15973, 'bitchimastunna': 15974, 'griot': 15975, 'molesters': 15976, 'pajamas': 15977, 'udigg': 15978, 'annijohnesce': 15979, 'sweeter': 15980, 'gushin': 15981, 'dreadheadkidd69': 15982, 'einvs4yqpf': 15983, 'anarchy': 15984, '5nwxpqxhnf': 15985, 'dreadheadari': 15986, 'wheet': 15987, 'academic': 15988, 'righties': 15989, 'cons': 15990, 'dadonherself': 15991, 'caseofthekink': 15992, 'lauchiemac': 15993, 'sexism': 15994, 'neemjemoeder': 15995, 'steek': 15996, 'vinger': 15997, 'neus': 15998, 'zelfde': 15999, 'nato': 16000, 'stenigt': 16001, 'vrouwen': 16002, 'bosjes': 16003, 'forcing': 16004, 'stockman': 16005, 'rawest': 16006, 'escape': 16007, '128309': 16008, 'jvi4xrffod': 16009, 'humplayproblems': 16010, 'lucricus': 16011, 'dagger': 16012, 'dty2geavke': 16013, 'otters': 16014, 'nainpwxtjc': 16015, 'bbbnnnnnnas': 16016, 'lasagna': 16017, 'shawnhindriix': 16018, 'phatty': 16019, 'takeyaah': 16020, 'jhaocx1mtd': 16021, 'missknf': 16022, 'oxycontin': 16023, \"wearin'\": 16024, 'oxymoron': 16025, 'dikes': 16026, 'cinammon': 16027, 'caiivs': 16028, 'walken4gop': 16029, 'anderson6benton': 16030, 'myownfriend': 16031, 'knee': 16032, 'advances': 16033, '2008': 16034, 'triton': 16035, 'transmission': 16036, 'd5gic83k0v': 16037, 'spittin': 16038, \"johnson's\": 16039, 'aschops': 16040, 'esquire': 16041, 'llishah': 16042, 'acronym': 16043, 'kolinskyy': 16044, 'hikes': 16045, 'atomic': 16046, 'naziabee': 16047, 'grimy': 16048, 'uniquelytierra': 16049, 'tywahlbrink': 16050, 'stuffing': 16051, 'megancammalleri': 16052, 'perkins': 16053, 'shewili': 16054, 'acut5et3tu': 16055, 'angelo25': 16056, 'lovecarolina': 16057, 'ikeepitrealer': 16058, 'jayz': 16059, 'zayn': 16060, 'reel': 16061, 'ainna': 16062, 'michaelpshipley': 16063, '8242': 16064, 'sohostyle': 16065, 'tn2m01a1iq': 16066, '127839': 16067, 'foodie': 16068, 'klttygirl': 16069, 'rosters': 16070, 'moovin': 16071, 'hoovas': 16072, '1040784': 16073, 'darlincory': 16074, 'gufkoy44tk': 16075, '3n7m4pfnmx': 16076, 'windpushedgrass': 16077, 'pallbearers': 16078, 'flawged': 16079, 'ni2oqv0njd': 16080, 'coppo': 16081, 'zoo757': 16082, 'disrespectfulty': 16083, 'g8m1teyzpt': 16084, 'kingdomminded': 16085, 'raver': 16086, 'venn': 16087, 'diagram': 16088, 'intersection': 16089, 'carmelioanthony': 16090, 'witchuuuu': 16091, 'hannahjoeckel': 16092, 'thefuckery': 16093, 'preeeeeeeach': 16094, 'kivnaaa': 16095, 'oss': 16096, 'sloppily': 16097, \"again'\": 16098, 'whosflyy': 16099, 'ofcourse': 16100, 'dingbat': 16101, 'iluvdrugz': 16102, 'wagwuan': 16103, 'thatshitdoesntlookgood': 16104, 'raced': 16105, \"chara's\": 16106, 'sporting': 16107, 'yowza': 16108, 'bigbootyprobs': 16109, 'pnolia': 16110, 'getchoassoutdatcloset': 16111, 'cocoa': 16112, 'puffs': 16113, \"another's\": 16114, 'lpynvqwxxx': 16115, 'isignmyownboobs': 16116, 'meezytk': 16117, 'wc5tr4uhs6': 16118, 'ayostew': 16119, 'kirogx': 16120, 'bazinga': 16121, 'demo': 16122, 'derby': 16123, 'affleck': 16124, 'nrana777': 16125, 'saina': 16126, 'faal': 16127, 'martian': 16128, 'mulah': 16129, 'mrrichierich': 16130, 'proudlyliberal2': 16131, 'funqxo8o4o': 16132, 'youngscrap': 16133, 'dj3srlwbtk': 16134, 'asiqg6ebpb': 16135, 'chisme': 16136, 'toothbrush': 16137, 'gnargie': 16138, 'uloue2qx3p': 16139, 'uhcokee': 16140, 'davidbcohen1': 16141, 'seanspicer': 16142, 'bostonglobe': 16143, 'fightnightx': 16144, 'nmf4life': 16145, 'garcia': 16146, 'jrlikeswhisky': 16147, 'zwithr': 16148, 'stegosaurus': 16149, 'hissed': 16150, 'pterodactyl': 16151, 'rex': 16152, 'livestock': 16153, 'decades': 16154, 'atysyc': 16155, 'redeem': 16156, 'letsbereal': 16157, 'terryisbetter': 16158, 'realmarycarey': 16159, 'dolvett': 16160, 'jillian': 16161, 'christinekktv': 16162, 'arapahoe': 16163, 'basin': 16164, 'lovelandskiarea': 16165, 'cowx': 16166, 'skiseason': 16167, 'horseradish': 16168, 'ponytail': 16169, 'dyed': 16170, 'tiddy': 16171, 'ronesha': 16172, 'igot': 16173, 'pg': 16174, 'kiaaxo': 16175, 'sweetbre': 16176, 'beingmsdaisy': 16177, 'uzvnxqfmfn': 16178, 'xyngdzldrb': 16179, 'bandanas': 16180, 'meee': 16181, 'brite': 16182, 'bagpipes': 16183, 'pollution': 16184, 'sneaking': 16185, 'umbrella': 16186, 'portsmouth': 16187, 'yostknowsmost': 16188, 'idowntown': 16189, 'dariusjulion': 16190, 'neonics': 16191, 'kestrel': 16192, 'lowes': 16193, 'ecowed': 16194, 'cartier': 16195, 'tweegrams': 16196, 'landraa': 16197, 'goodhuh': 16198, 'lw0mhdj7cg': 16199, 'qoxkqbyxhe': 16200, 'kelseyreneee': 16201, 'qtiptheabstract': 16202, 'inductee': 16203, 'adina': 16204, 'staywavybruh': 16205, 'shaqualidaemommy': 16206, 'barackeishamommy': 16207, 'gioisblack': 16208, 'ojkzjkgvxl': 16209, 'atownbrown08': 16210, 'callen': 16211, 'niggar': 16212, 'gasp': 16213, 'lovelyaumeri': 16214, \"dat's\": 16215, 'ivanj': 16216, 'reyes': 16217, 'mercurian': 16218, 'retrograde': 16219, 'affecting': 16220, 'kayfliii': 16221, 'electricity': 16222, 'sblmnl': 16223, 'crmnl': 16224, \"month's\": 16225, 'clubbing': 16226, 'takeoff': 16227, 'yagirlsmalls': 16228, 'robbiegallinis': 16229, 'nigorprobz': 16230, 'maaaaannnn': 16231, 'undesirables': 16232, 'overseas': 16233, 'opatz1': 16234, 'starlavafox': 16235, 'accurately': 16236, 'australia': 16237, 'chanting': 16238, 'xyzxv5lzs1': 16239, '8rle3jnr': 16240, 'goproud': 16241, 'tonestradamus': 16242, 'dx79nxkll9': 16243, 'faction': 16244, 'lovey': 16245, 'chefboirlee': 16246, 'sundays': 16247, 'weiners': 16248, 'chandlerparsons': 16249, 'hall32': 16250, 'claw': 16251, 'coreystweetnass': 16252, 'yyq2d6jujd': 16253, 'dattniggamatt': 16254, '7ealhuta02': 16255, 'tagging': 16256, 'lordknows': 16257, 'l2ipe6uvqh': 16258, 'icewataa': 16259, 'reception': 16260, \"love'em\": 16261, 'grapevine': 16262, 'lewisville': 16263, 'hearin': 16264, 'tuff': 16265, 'fuccd': 16266, 'masteroshi': 16267, 'migosconcert': 16268, 'hotnigga': 16269, 'ernest': 16270, 'drivemy': 16271, 'lexis': 16272, 'candace00': 16273, 'sqt1tpnelm': 16274, 'tyleroakley': 16275, 'jojo': 16276, 'y4yic38qws': 16277, 'toomessedup': 16278, '9gw3iybyh3': 16279, 'chicagotribune': 16280, 'shortened': 16281, 'kryshazeyy': 16282, 'feyenody': 16283, 'ja': 16284, 'zo': 16285, 'ieder': 16286, \"'t\": 16287, 'zijne': 16288, 'zaken': 16289, 'mag': 16290, 'mij': 16291, 'noemen': 16292, 'wilt': 16293, 'namelijk': 16294, 'erg': 16295, 'vrijheid': 16296, 'meningsuiting': 16297, 'igbbreezy': 16298, 'lxddifeexw': 16299, 'oliviadesanfoot': 16300, 'greyhound': 16301, 'bermuda': 16302, 'trackinblackkev': 16303, 'beejohns1': 16304, 'dismiss': 16305, 'beaten': 16306, 'watches': 16307, 'juveunited': 16308, 'subbed': 16309, 'diva': 16310, 'xmaiya': 16311, 'xmonike': 16312, 'gusunger': 16313, 'releasing': 16314, 'spiritualized': 16315, 'booskerz': 16316, 'pi064ylhf6': 16317, 'scottdeyager': 16318, 'photshopped': 16319, 'pinhead': 16320, 'johngalt': 16321, 'pistons': 16322, 'dylanhornick': 16323, 'rivvv': 16324, 'bailing': 16325, 'cheeseburgers': 16326, 'imahomie': 16327, 'chea': 16328, 'neomd71': 16329, 'duel': 16330, 'tnt': 16331, 'acdc': 16332, 'adbxqltdjj': 16333, 'rake': 16334, 'illuminati': 16335, \"'how\": 16336, \"now'\": 16337, 'truckshorsesdog': 16338, 'coincky': 16339, '53bnmfyqza': 16340, 'missundersto': 16341, 'naughtyturnons': 16342, 'cuposyrup': 16343, 'twee': 16344, 'zoejoiner': 16345, 'beurs': 16346, '9c4i4w7q7d': 16347, 'tensing': 16348, 'arse': 16349, 'bandz': 16350, 'frenemies': 16351, 'shacking': 16352, 'perpetual': 16353, 'fornication': 16354, 'h0urrtndfz': 16355, 'helga': 16356, 'heyarnold': 16357, 'sinf': 16358, 'd1': 16359, 'imaginary23': 16360, 'grimey': 16361, 'miketattaglia': 16362, 'pfeif': 16363, 'fireball': 16364, 'sponsored': 16365, 'alfwpumnls': 16366, 'illegallybadd': 16367, 'notflappybird': 16368, 'deion': 16369, 'mvo': 16370, 'imgonzoe': 16371, 'itskayven': 16372, 'responsibility': 16373, 'derrickjaxn': 16374, 'refers': 16375, 'tjl0326': 16376, 'jnh': 16377, 'sophi': 16378, 'smithaaaaaa': 16379, 'vern': 16380, 'gregorykohler': 16381, 'chasingstaxx': 16382, \"hoe'd\": 16383, 'hd': 16384, 'bearfaced': 16385, 'yusa': 16386, 'hoez4sale': 16387, 'hanna': 16388, 'doped': 16389, 'plaza': 16390, 'rileyaintshit': 16391, 'lebrons': 16392, 'nachopicasso': 16393, 'poopin': 16394, 'ironing': 16395, 'katiier': 16396, 'dykey': 16397, 'nobeynobe': 16398, 'markie': 16399, 'mxgcccahsc': 16400, 'toyaaa': 16401, 'excite': 16402, 'hazelebaby': 16403, 'godprotectshisangels': 16404, 'sips': 16405, 'ayyyyyyeeeeee': 16406, 'kmagalyv': 16407, 'artillery909': 16408, 'vnmdsat7gs': 16409, 'zohdaa': 16410, 'cpabry': 16411, 'deranged': 16412, 'iamniarich': 16413, 'b1qbndpxdv': 16414, 'badskinwavyhair': 16415, 'sugarcode': 16416, 'kiid': 16417, 'thatguy': 16418, 'utterly': 16419, 'crawford96m': 16420, 'tedgibson': 16421, 'xjayyandrew': 16422, 'pam': 16423, 'jaredreve': 16424, 'prick': 16425, 'shanti': 16426, 'peidroh': 16427, '85swwyxmnz': 16428, 'grace': 16429, 'rodgers': 16430, 'chews': 16431, 'versaceameezy': 16432, '0mk1w8reak': 16433, 'youlovelena': 16434, 'rolltide916': 16435, 'ambitious': 16436, 'sharae': 16437, 'peed': 16438, 'wejg4ikgim': 16439, 'redbone9922': 16440, 'iamextra': 16441, 'chrisgeidner': 16442, 'mandate': 16443, 'unconstitutional': 16444, 'injun': 16445, 'bitterness': 16446, 'workaholicblake': 16447, 'squidward': 16448, 'ijacwo6ob8': 16449, 'tasting': 16450, '10x90': 16451, 'fzb57ysxvz': 16452, '3fpjqjvjuh': 16453, 'rosco': 16454, 'hitter': 16455, 'blkarab24': 16456, 'tropicth': 16457, 'pens': 16458, 'jmac': 16459, 'au': 16460, 'brocklesnitch': 16461, 'qquit': 16462, 'queenc': 16463, 'thestrangest': 16464, 'keirranicolee': 16465, 'wojtkiw': 16466, 'alfie': 16467, 'edclv': 16468, 'q1uhzepiyw': 16469, 'unnagroundking': 16470, 'joshhelaku': 16471, 'hysterical': 16472, 'amara': 16473, 'ioeno': 16474, 'ovomar23': 16475, 'yelln': 16476, 'whatup': 16477, 'combmyafro': 16478, 'unpregnant': 16479, 'vinitahegwood': 16480, 'afboycie': 16481, 'brocklesnar': 16482, 'daft': 16483, 'continually': 16484, 'enjoyyaday': 16485, 'powerofthep': 16486, '8qla3jsglg': 16487, 'horoscopes': 16488, 'bel': 16489, 'bino': 16490, '128209': 16491, 'ksecus': 16492, 'tankees': 16493, 'governing': 16494, 'stockmantheliar': 16495, 'mfdwxmg8ic': 16496, 'taysymonee': 16497, 'platinum': 16498, 'jihadist': 16499, 'crosshairs': 16500, 'usagov': 16501, 'endangered': 16502, 'ojscnnmyem': 16503, 'funnie': 16504, 'theeeee': 16505, 'tbsd5jbjzx': 16506, 'bms': 16507, 'thadcastle': 16508, 'incredibly': 16509, 'sandraguzman': 16510, 'motomoto': 16511, 'noblockheads': 16512, 'idivwbjqpa': 16513, 'caseytu88662466': 16514, 'jab': 16515, 'mtmcly': 16516, 'tricycle': 16517, 'erin': 16518, 'cuntface': 16519, 'efsvjpqrwq': 16520, 'brittanyaflores': 16521, 'hereyezlow': 16522, 'legionary1488': 16523, 'jomavaesjos': 16524, 'ebloa': 16525, 'savingnohoes': 16526, '6wvjrc3m1q': 16527, 'garylopez': 16528, 'nighha': 16529, 'fuckheads': 16530, 'draketakecare12': 16531, 'fumble': 16532, 'reeled': 16533, 'washingtonpost': 16534, 'v3n67gs5mw': 16535, 'jocsoriano': 16536, 'lunches': 16537, 'shirleeey': 16538, 'jg0ol54ney': 16539, 'salome110thebe1': 16540, 'sabdaddyy': 16541, 'xournvvayp': 16542, 'liberalism': 16543, 'fritag': 16544, 'junkie': 16545, 'rocawe': 16546, 'sankpanksimona': 16547, 'skirts': 16548, 'fhhbbrmybn': 16549, 'perved': 16550, 'djweezlove': 16551, 'versi': 16552, 'whatskillfeed': 16553, '2r8wqge8cr': 16554, 'vasquez': 16555, 'dfcuknawesum': 16556, 'levi': 16557, 'picslip': 16558, 'iphone6': 16559, 'd1tbytc7qb': 16560, 'jhud': 16561, \"'bae\": 16562, \"him'\": 16563, '2kbsxamddg': 16564, 'eszjsuqyiq': 16565, 'lilgrim': 16566, '4dafame': 16567, 'tekken': 16568, 'pgachampionship': 16569, 'stevemaxboxing': 16570, 'egotistical': 16571, 'raid': 16572, 'emmyhighr0ller': 16573, 'cyberobama': 16574, 'xxsarafina': 16575, 'comedianspank': 16576, 'rotherdam': 16577, 'rapejihad': 16578, 'coverup': 16579, 'sacrificed': 16580, 'altar': 16581, 'correctness': 16582, 'pf': 16583, 'pedo': 16584, 'rdgyg6gurv': 16585, 'justlove': 16586, 'nohate': 16587, 'legoheeadd': 16588, 'chrisrmz95': 16589, 'misskeiparker': 16590, 'weekndjammin': 16591, 'sheeeeeit': 16592, 'bologna': 16593, 'invent': 16594, 'karessanv': 16595, 'itzsweetz': 16596, 'ooop': 16597, 'qt': 16598, 'w5g2zhzku6': 16599, 'sydneesmalling': 16600, 'howdydowdy11': 16601, 'gaywad': 16602, 'sweetiepaii': 16603, 'a7x': 16604, 'adtr': 16605, 'bmth': 16606, 'ymas': 16607, '182': 16608, 'tdg': 16609, 'mcr': 16610, 'everyon': 16611, 'johnlacarbiere': 16612, 'lattimes': 16613, 'theroachdean': 16614, 'toodangerous': 16615, 'tyxhqzqnqr': 16616, 'switches': 16617, 'butteryassrobb': 16618, 'krispy': 16619, 'kreme': 16620, 'claimed': 16621, 'waxy': 16622, 'soften': 16623, 'unnatural': 16624, 'dietschmiet': 16625, 'yrnreggie': 16626, 'fcqfdki4zn': 16627, 'doyou': 16628, \"read'em\": 16629, 'laynesmithh': 16630, 'springbreak': 16631, 'jaredlambert21': 16632, \"brandon's\": 16633, 'penisgravy': 16634, '63fmrf0g5j': 16635, 'lucybeeee': 16636, 'seatbelts': 16637, 'beeping': 16638, 'kaaaytate': 16639, 'vanessa32m': 16640, 'performers': 16641, 'hahahaahahahaha': 16642, 'v6ibgutmwq': 16643, 'xojennygirl': 16644, 'marack': 16645, 'marackaf': 16646, 'cornball': 16647, 'cjfz9dauyl': 16648, 'brandonbaray': 16649, 'kaleigh': 16650, 'mcnasty': 16651, 'progress4ohio': 16652, 'overheard': 16653, 'movers': 16654, 'gpbi04yobq': 16655, 'evb17dyunt': 16656, 'fnthefive': 16657, 'creativity': 16658, 'wierdness': 16659, 'shedontbelongtoyou': 16660, 'shebelongstotheworld': 16661, \"rex's\": 16662, 'sawdust': 16663, 'sodium': 16664, 'unsavory': 16665, 'rbk': 16666, 'steviej': 16667, 'plainblack': 16668, 'hbic': 16669, 'overripe': 16670, 'eggplants': 16671, 'shakiyateniece': 16672, 'erdikken': 16673, 'fads': 16674, 'martens': 16675, 'girbaud': 16676, 'accountants': 16677, 'jncos': 16678, 'domin': 16679, 'bubzayy': 16680, 'x1r34fmeae': 16681, 'shimshammy': 16682, 'toov1uty6h': 16683, 'tycihd6pkw': 16684, 'soccerboy': 16685, '04': 16686, 'rapaboutcereal': 16687, 'eyb3b08btm': 16688, 'godhimseif': 16689, 'kurt': 16690, 'cobain': 16691, 'feelinmarvelous': 16692, 'tameka': 16693, 'bb16zachrance': 16694, 'drugfree': 16695, 'datzme': 16696, \"86'd\": 16697, 'tribalfollow': 16698, 'trains': 16699, '1bad': 16700, 'uk3ba': 16701, 'thatsjuuja': 16702, 'pinkducktwist': 16703, 'makemespazz': 16704, 'thekingsimp': 16705, 'arhyscamu6': 16706, 'victoriag3618': 16707, 'm4w': 16708, 'generate': 16709, 'nodejs': 16710, 'node': 16711, 'lrjwdfhv7t': 16712, '11k': 16713, 'stillmatic': 16714, 'ray7': 16715, 'superheroreport': 16716, 'rf5dtvqwi6': 16717, 'monica': 16718, \"don'tbedumb\": 16719, 'ltao': 16720, 'hayyllss': 16721, 'mmyar': 16722, 'invites': 16723, 'teased': 16724, 'romanowski': 16725, 'daddysammy24': 16726, 'cashhaddict': 16727, 'coneee': 16728, 'jerseywolfgod': 16729, 'mornings': 16730, 'tinyboatclub': 16731, 'asa': 16732, 'rodmarley44': 16733, 'robbery': 16734, 'michalasmith4': 16735, 'michealallen72': 16736, 'xdcuusba2f': 16737, 'honeybadger': 16738, 'vacant': 16739, 'phonies': 16740, 'trixx': 16741, 'itsjustlindaa': 16742, 'xojaclyn': 16743, 'ollie': 16744, 'izkoa2xb': 16745, 'jhafe': 16746, 'officiallyshay': 16747, 'dds': 16748, 'odb': 16749, 'mma': 16750, 'aflcio': 16751, 'emoney25': 16752, 'imjustdede': 16753, 'metroboomin': 16754, 'monstertape': 16755, '03as6bgqec': 16756, '8aqxiyg6ov': 16757, 'mitchmancuso': 16758, 'brantprintup': 16759, 'tun': 16760, 'redtvvitter': 16761, 'w4zzhr6kum': 16762, 'soomajor': 16763, 'witten': 16764, 'lmfaoooooooooooooooooo': 16765, 'jessietorr': 16766, 'slants': 16767, 'hindis': 16768, 'moslems': 16769, 'xkch9wjuag': 16770, 'kendavidoff': 16771, \"mlb's\": 16772, 'enymsaj': 16773, 'whoraisedyou': 16774, 'theboss': 16775, 'leslie': 16776, 'rounding': 16777, 'panel': 16778, '1995': 16779, 'hoeslovekitty': 16780, 'shadowbeatz': 16781, 'inc': 16782, 'kyr': 16783, 'sp33dy': 16784, 'prettychels': 16785, 'boringgggg': 16786, 'kqmbzm7h8y': 16787, 'teamgoku': 16788, 'thxm7hjo07': 16789, 'alexisxisabel': 16790, 'stunna': 16791, 'idunno': 16792, 'imjustvee': 16793, 'muthafxcka': 16794, 'billyrunaway': 16795, 'danovskis': 16796, 'unorthodex': 16797, 'elbasedparko': 16798, 'vgjyhn4bvt': 16799, 'versacelaflare': 16800, 'dontforget': 16801, 'sosadtoday': 16802, 'kmurder1000': 16803, 'duuuuuuu': 16804, 'rdaonqvr1h': 16805, '4nem': 16806, 'uxszexguju': 16807, 'violation': 16808, 'jreebo': 16809, 'feqxgn0w6i': 16810, 'tylercarter4l': 16811, 'anunnakigod': 16812, 'ylkr2gej1z': 16813, 'maplerow': 16814, 'spellings': 16815, 'ilikegirlsdaily': 16816, 'makeitknasty': 16817, 'justan0th3r': 16818, 'enti': 16819, 'nits': 16820, 'mygirlcannot': 16821, 'ichrisp': 16822, 'alwaysonwatch': 16823, 'globalforceforgood': 16824, 'yaaaas': 16825, 'yaaaaaas': 16826, 'enlarge': 16827, 'kierstenhammond': 16828, 'salondotcom': 16829, 'foolishreporter': 16830, 'missouri11': 16831, 'insecurities': 16832, 'lamborghinibow': 16833, 'burnett': 16834, 'dainah': 16835, 'fadedf0rever': 16836, 'skndndnddnd': 16837, '4atrkjt0gp': 16838, 'jsonmytweet': 16839, 'muurdasteven': 16840, 'buttsigns': 16841, 'wpia0bvgju': 16842, 'yjpsmas4k2': 16843, 'cockeyed': 16844, '5iiive': 16845, 'sb4': 16846, 'e8baxoypgg': 16847, 'id4xcmv9zu': 16848, \"why're\": 16849, 'jumpmastere8': 16850, 'dmcgowen1776': 16851, 'visitorvisiting': 16852, 'slapabitch': 16853, '2jvckobnb8': 16854, 'jvp731': 16855, 'keselowski': 16856, 'mattkenseth': 16857, 'newman': 16858, 'mckayllaa': 16859, 'beth4158': 16860, 'scoop82294': 16861, 'bitchyest': 16862, 'bestofmessages': 16863, 'kiaoqyr3i4': 16864, 'daniellesayswha': 16865, 'xtima': 16866, 'gwenstefani': 16867, 'babydontlie': 16868, 'aintitjayy': 16869, 'slithered': 16870, 'coil': 16871, 'whackko': 16872, 'ikno': 16873, 'outdoorpoolparty': 16874, 'e72ikjofmg': 16875, 'ikayking': 16876, 'i9zs1oud0i': 16877, 'julian': 16878, 'jval': 16879, 'istandwithrand': 16880, 'leaders': 16881, 'bachmann': 16882, 'thegoodlife': 16883, 'fitzgerald': 16884, '79': 16885, 'strolling': 16886, 'bru': 16887, 'infuriated': 16888, 'requests': 16889, 'pilots': 16890, 'participated': 16891, 'bombings': 16892, 'yalll': 16893, 'swankpatrone': 16894, 'nonexistent': 16895, 'letterman': 16896, 'puddle': 16897, 'midwestxpride': 16898, 'thatloserbrooke': 16899, 'hvn6knce6d': 16900, 'tianna': 16901, 'iacovone': 16902, 'moneypulatief': 16903, 'globalriot': 16904, 'nee': 16905, 'langdurig': 16906, 'gepest': 16907, 'worden': 16908, 'zoals': 16909, 'zei': 16910, 'kiem': 16911, 'smoren': 16912, 'vb': 16913, 'optreden': 16914, 'brewers': 16915, 'disparagement': 16916, 'hoelpcbbg6': 16917, 'vguclaennt': 16918, 'shosdu7ryp': 16919, 'crystalinag': 16920, 'yellitout': 16921, 'louud': 16922, 'latodd': 16923, 'niggaaaaa': 16924, 'inkoverhoes': 16925, 'raejeanhightowe': 16926, 'swuu': 16927, 'thegod': 16928, 'edits': 16929, 'findin': 16930, 'hayleyy': 16931, 'savageater': 16932, 'trigonometric': 16933, 'clzcdxx': 16934, 'elf': 16935, 'rarebreedkena': 16936, 'braid': 16937, 'gelled': 16938, 'dashiki': 16939, 'discussion': 16940, 'baylor': 16941, 'mcclearyb0y': 16942, 'fatandfly88': 16943, 'fuckyea': 16944, 'uggboots': 16945, 'jellydoughnuts': 16946, 'vvit8hp40t': 16947, 'kq0r0a7z2g': 16948, 'divonte': 16949, 'rayrice': 16950, 'ohshititsrandy': 16951, 'rauruw7my6': 16952, 'seperate': 16953, 'elza': 16954, 'whipppppppen': 16955, 'drifting': 16956, 'waqamr4bgu': 16957, 'stephan': 16958, 'cutlers': 16959, 'yeathtsmybitch': 16960, 'freaknation69': 16961, 'kg17wwi0vx': 16962, 'disparaging': 16963, 'dariendaywalt': 16964, 'goddam': 16965, 'lovezanda': 16966, 'things4whiteppl': 16967, '55bxg7pbng': 16968, 'uno': 16969, 'lilonosnitch': 16970, 'thareallilwang': 16971, 'prettytreazure': 16972, 'detroitplayer': 16973, 'estupid': 16974, 'cement': 16975, 'taxing': 16976, 'gobbling': 16977, 'eph4': 16978, 'constitutional': 16979, 'contempt': 16980, 'roppmotnbd': 16981, 'princetootrippy': 16982, 'tunes': 16983, 'maintenance': 16984, 'vhr6190': 16985, 'nudesforjordy': 16986, 'tattedhms': 16987, 'hml': 16988, 'brogod': 16989, 'gahdamnanimal': 16990, 'biscuits': 16991, 'rasengan': 16992, 'gejuiy1xg0': 16993, 'thatssoryannn': 16994, 'jackwadeshow': 16995, 'accuses': 16996, 'dictated': 16997, 'corp': 16998, 'crhedrys': 16999, 'stopwhitepeople2014': 17000, 'keegdcjs5k': 17001, 'glorifying': 17002, 'clyburn': 17003, 'jaaaayr': 17004, 'auburn': 17005, 'gary': 17006, \"sheffield's\": 17007, 'thotology': 17008, 'bossmanran': 17009, 'notmorris': 17010, 'thirstin': 17011, 'confidence': 17012, \"ross'\": 17013, 'dukeofzamunda': 17014, 'leto': 17015, 'unrecognizable': 17016, 'levimitchell': 17017, 'mickeyblowsyourmind': 17018, 'bpgdvs8qd2': 17019, 'revelations': 17020, 'tarikusalim': 17021, 'thebashionista': 17022, 'blushin': 17023, 'mc3josh': 17024, 'masterchef': 17025, 'cocomilan18': 17026, 'gotdamnchat': 17027, 'tbpcqwngqf': 17028, 'permatrippin': 17029, 'kdfhdx8ydt': 17030, 'nzhxa8gua5': 17031, '2playa': 17032, '01': 17033, \"'community\": 17034, \"organizer'\": 17035, 'docket': 17036, \"'misery'\": 17037, 'undeniable': 17038, 'breakherdown': 17039, 'xicana': 17040, 'bqiu9q7qjv': 17041, 'yungobg': 17042, 'wu0ard7yif': 17043, 'sfgiants': 17044, 'bumgarner': 17045, 'roids': 17046, 'yungpineapple': 17047, '7cva8grvds': 17048, 'iammaliachigh': 17049, 'backpagepussy': 17050, 'boast': 17051, 'uo': 17052, 'mulroyms': 17053, 'explore': 17054, '321': 17055, 'ger0ipabpa': 17056, 'thatsovictorzzz': 17057, 'truuuuuuuuuuu': 17058, 'nhyodspp': 17059, 'youngmiddleeric': 17060, 'killas': 17061, 'peruse': 17062, 'braved': 17063, 'temperatures': 17064, 'levisnink': 17065, 'uidvqxuge2': 17066, 'seymor': 17067, 'buccs': 17068, 'fangs': 17069, 'spooky': 17070, 'oreocookieballs': 17071, 'i3iyrl72sd': 17072, 'wnzbh': 17073, 'jacksparenohoe': 17074, 'iamenidcoleslaw': 17075, 'squirt': 17076, 'geyser': 17077, 'gunsandcrayons': 17078, 'wcgjoudeue': 17079, 'eegee': 17080, 'prescription': 17081, 'refill': 17082, 'tuckermustdie': 17083, 'nfabyildkx': 17084, 'bai': 17085, '313': 17086, 'coosie11': 17087, 'toulababy': 17088, '71ivr8islk': 17089, 'starstunnatbgh': 17090, 'thedukeknight': 17091, 'suedelounge': 17092, 'richgirls': 17093, 'b00gie': 17094, 'itslexishope': 17095, 'toed': 17096, 'unanswerdverses': 17097, 'alex05241': 17098, 'hannah': 17099, 'dkiqodlaop': 17100, 'stanky': 17101, 'explainananimeplotbadly': 17102, 'futuristic': 17103, 'butterpecantan': 17104, 'pbn': 17105, 'theyloveblaq': 17106, 'athea': 17107, 'onnat': 17108, 'tanktopshotta': 17109, \"drug's\": 17110, 'fearful': 17111, 'wrath': 17112, 'christianity': 17113, 'perversion': 17114, 'bows': 17115, 'multiculturalism': 17116, 'vietnamese': 17117, 'ching': 17118, 'chong': 17119, 'trillasskass': 17120, 'we46wo15ni': 17121, \"kill'em\": 17122, \"bob's\": 17123, 'crispy': 17124, 'smiilze': 17125, 'accepted': 17126, 'wired': 17127, 'nza3zuwugp': 17128, 'p8f8gmkufy': 17129, 'kittygurl9714': 17130, 'outduels': 17131, 'keuchel': 17132, 'finale': 17133, 'hijjauktjn': 17134, 'mingtong007': 17135, 'drita': 17136, 'drawers': 17137, \"whatupag's\": 17138, 'draymond': 17139, 'alunwj9sck': 17140, 'notreallygryan': 17141, 'lyrical': 17142, 'carlybaejepsen': 17143, 'lisp': 17144, 'juicedballs': 17145, 'gently': 17146, 'mikeoe7765': 17147, 'talentless': 17148, 'skag': 17149, 'malfunction': 17150, 'almighty': 17151, 'workouts': 17152, 'suite': 17153, 'bulletdeezy': 17154, 'ass2fat': 17155, 'thundathighs': 17156, 'jellyrolls': 17157, 'imstillsexy': 17158, 'wbur': 17159, 'smuggler': 17160, 'highway': 17161, 'ux4anxeawd': 17162, 'youngin': 17163, 'devineleven': 17164, 'tights': 17165, 'agrovelax26': 17166, 'kesha': 17167, 'zerohedge': 17168, 'nar': 17169, 'g6az9ryubq': 17170, 'princeeric11': 17171, 'reasonsiunfollowedyou': 17172, 'makepeace': 17173, 'donno': 17174, 'demz': 17175, 'gurll': 17176, 'wheneminemsaid': 17177, 'eminem': 17178, 'emkb7osgqd': 17179, 'slur': 17180, 'reserve': 17181, 'xb4dkwuoki': 17182, 'speakerboehner': 17183, 'karlrove': 17184, 'frankluntz': 17185, 'buckcherry': 17186, 'juniors': 17187, 'harrell': 17188, 'maffue': 17189, 'choosinh': 17190, \"let''r\": 17191, 'shad': 17192, 'larryelder': 17193, 'alberto': 17194, 'gonzales': 17195, 'lexilanxon': 17196, 'coffybrownchi': 17197, 'refunds': 17198, 'hozay': 17199, 'ileanageorgina': 17200, 'enriquuee': 17201, 'luxurious': 17202, 'oreolove': 17203, 'stufoflegend': 17204, 'hog': 17205, 'scottyrackss': 17206, 'snfaf5uxxb': 17207, \"radke's\": 17208, 'fronz': 17209, 'kels': 17210, 'oneill': 17211, 'taylors': 17212, 'thaelleword': 17213, 'exhale': 17214, 'brokehomielyn': 17215, 'qzc87dra9a': 17216, 'leadoff': 17217, 'jdollasignnn': 17218, 'slumlord': 17219, 'kod': 17220, 'gabebaxter': 17221, 'iamlaryn': 17222, 'prize': 17223, 'mana': 17224, 'brandiiii': 17225, 'balloon': 17226, 'float': 17227, 'brainwash': 17228, 'harveyyy': 17229, 'yungkatana': 17230, 'spannerhead29': 17231, 'vertrellcarter': 17232, 'rtnba': 17233, 'qctplxhexm': 17234, 'downey': 17235, 'ese': 17236, 'miro': 17237, 'prayin': 17238, 'morgans': 17239, 'zappa': 17240, \"60's\": 17241, 'joker': 17242, \"ye'll\": 17243, 'awwsome': 17244, 'spinrilla': 17245, 'owxtdrkwbc': 17246, 'ajcolemanbaby': 17247, 'worryin': 17248, 'munnaaaa': 17249, 'c7wp1bluuk': 17250, 'alwayznpolo': 17251, 'elongated': 17252, 'dactyl': 17253, 'taythebaddie': 17254, 'thefactsbook': 17255, 'sharea40ounce': 17256, 'youmad': 17257, 'glock': 17258, '128044': 17259, 't0wnbyvlrz': 17260, 'professorx': 17261, 'mndspeak88': 17262, 'greysanatomy': 17263, 'fernandezice': 17264, 'hmo9bxol0x': 17265, '0xdlxtoci8': 17266, 'gresham': 17267, 'barbarian': 17268, 'typogawd': 17269, 'angellongoria1': 17270, 'fernvndooo': 17271, 'downgraded': 17272, 'xddd': 17273, 'amrhein': 17274, 'bonner': 17275, 'lookout': 17276, '4realroy': 17277, 'nugs': 17278, '127795': 17279, 'chefboyrnach': 17280, 'goni': 17281, 'saga': 17282, 'morris': 17283, 'dreamy': 17284, 'rplxlayloj': 17285, 'forevernee': 17286, 'justcallme': 17287, 'reckless': 17288, 'awscuefwky': 17289, 'thotbucket': 17290, 'allahs': 17291, 'crest': 17292, \"wench's\": 17293, 'tp1sa5u8uo': 17294, 'zion': 17295, 'sterne': 17296, 'gracebr92073005': 17297, 'bushmeat': 17298, 'txwench': 17299, '13yr': 17300, 'traumatized': 17301, 'cassie': 17302, 'laine': 17303, 'massages': 17304, 'rmqklh1aez': 17305, 'o7rexl0teu': 17306, 'nhatty': 17307, 'ice49ers': 17308, 'popsley': 17309, '83ar': 17310, 'n8v2johm': 17311, 'temples': 17312, 'dominickle': 17313, 'overlymanlymann': 17314, 'petting': 17315, 'aftermath': 17316, 'reminding': 17317, 'yahdontsay': 17318, 'quarters': 17319, 'o3k4wlrztp': 17320, 'captfaggotpants': 17321, 'plaid': 17322, 'vhr6vz8zr1': 17323, 'lalageminiland': 17324, 'jhazethagod': 17325, 'whomp': 17326, 'rileycooper': 17327, 'i2ose': 17328, 'jayonnazarate': 17329, 'ayooo': 17330, 'moee': 17331, 'xezf7cj5qt': 17332, 'ofhdirector': 17333, 'tnicolle': 17334, 'rauzi': 17335, 'equally': 17336, 'modavis': 17337, 'mgzjpp0rfs': 17338, 'tbhmoose': 17339, 'almond': 17340, 'flour': 17341, 'xzzfdolzdn': 17342, 'yungblasiann': 17343, '6minu5kdei': 17344, '1smedia': 17345, 'figgthzk0l': 17346, 'peterpandacat': 17347, 'pissrs': 17348, 'hickeys': 17349, '4l4wtsnkig': 17350, 'gwop': 17351, 'prenuptial': 17352, 'ecvvmwfh88': 17353, 'hockeydrunk': 17354, 'snickers': 17355, 'stopitnow': 17356, 'jameson': 17357, 'induced': 17358, 'biscuit': 17359, 'savethebs': 17360, 'tailor': 17361, 'muttered': 17362, 'aloud': 17363, 'jennyyhernandez': 17364, 'downloads': 17365, 'gocruise': 17366, 'bllod': 17367, 'shuffle': 17368, 'paco': 17369, 'erintaylor14': 17370, 'brios82': 17371, 'geta': 17372, 'hennhenn430': 17373, 'katiedodds15': 17374, 'twajtr8evj': 17375, 'spandex': 17376, 'pollito': 17377, 'cruzaba': 17378, 'frontera': 17379, 'tropieza': 17380, 'oxcoyauji1': 17381, 'zones': 17382, 'sr1zcehx': 17383, 'khdz1vdnsk': 17384, 'menino': 17385, 'vdaowlzksv': 17386, 'jakeg': 17387, 'twittah': 17388, 'mykall': 17389, 'asfck': 17390, 'mrtqx99g5l': 17391, 'qjjvynwqio': 17392, 'karazopfi': 17393, 'officialcnote': 17394, 'vcme41ismg': 17395, 'highland': 17396, 'bitchk': 17397, 'sweaterweather': 17398, 'booty4ever': 17399, 'zptckqybam': 17400, 'thedillon1': 17401, 'travel': 17402, 'nawfside': 17403, 'noll': 17404, 'tt': 17405, 'thatgirlkhaila': 17406, 'ver': 17407, 'ctmwgweknl': 17408, 'jants': 17409, 'bedtime': 17410, 'searchin': 17411, 'presidentrjrock': 17412, '650': 17413, 'jrsbbq': 17414, 'villains': 17415, 'selectively': 17416, 'advantages': 17417, 'disre': 17418, 'stir': 17419, 'rockstar': 17420, 'hospitalized': 17421, 'tackled': 17422, 'reflections': 17423, 'shiver': 17424, 'sessions': 17425, 'brickk': 17426, 'ycg': 17427, 'zrbdumjqu8': 17428, '57608': 17429, 'ariluvsall': 17430, 'verusfacts': 17431, '81pvuhnhat': 17432, 'rackedupshad': 17433, 'cuss': 17434, 'pkxb40jtto': 17435, 'ohyeahtrip': 17436, 'bitchmedia': 17437, 'momz': 17438, 'kristynedwards': 17439, 'penguins': 17440, 'missabby': 17441, 'patapon': 17442, 'ushishi': 17443, 'beatboxing': 17444, 'uppa': 17445, 'americanized': 17446, 'hlko2lnsux': 17447, 'balanced': 17448, 'latter': 17449, 'stealurgirlbush': 17450, 'hunnids': 17451, 'w9qi4bilkt': 17452, 'twotone': 17453, 'registration': 17454, '2005': 17455, 'mded4a2soy': 17456, 'mzs0fibadazz': 17457, 'rellz': 17458, '128173': 17459, 'walrus': 17460, 'paints': 17461, 'crochet': 17462, 'butterfly': 17463, 'ladybug': 17464, 'edging': 17465, 'trim': 17466, 'fotjbqwyeg': 17467, '9jkaywgevz': 17468, 'zac': 17469, \"efron's\": 17470, 'noshame': 17471, 'gayboyproblems': 17472, 'greece': 17473, 'thesimpsons': 17474, 'ethehustla': 17475, 'ripple': 17476, 'djphilip': 17477, '128214': 17478, 'bathe': 17479, 'hayden1': 17480, 'holtz': 17481, 'beverly': 17482, 'unfathomable': 17483, 'hilarity': 17484, 'vibewithme': 17485, 'inniz': 17486, 'jvbir': 17487, 'brownskinliquor': 17488, 'jburnone': 17489, '6fa2iixs6m': 17490, 'transhuman': 17491, 'emperorira': 17492, 'vjvxwlrjop': 17493, 'strapped': 17494, 'papp': 17495, 'itssjayda': 17496, 'leaisalioness': 17497, 'uykb0t3fba': 17498, 'gish': 17499, 'youboysingreen': 17500, 'bateman': 17501, 'thesupernegro': 17502, 'remotely': 17503, 'appealing': 17504, 'tkwwapczgr': 17505, 'rollypolly1x': 17506, 'whoo': 17507, 'owl': 17508, 'potter': 17509, '1nfsh5sccr': 17510, 'whiteboyyx01': 17511, 'eachotha': 17512, 'mfas': 17513, 'dontgetit': 17514, 'rename': 17515, 'blvd': 17516, 'ryantburnss': 17517, 'goalkeeper': 17518, 'khadijzah': 17519, 'naaa': 17520, 'maddd': 17521, 'diein': 17522, 'reganpate': 17523, 'i8dis': 17524, 'map': 17525, 'resilient': 17526, 'techn9ne': 17527, 'tsvumw92hu': 17528, 'skater': 17529, 'mitrebox': 17530, 'voter': 17531, 'lilylovescamel': 17532, 'auroraabartlett': 17533, 'rckxynwtvx': 17534, '2uawushhye': 17535, 'kmoquality': 17536, 'scholen': 17537, 'directie': 17538, 'leerkrachten': 17539, 'pest': 17540, 'kunt': 17541, 'voorstellen': 17542, 'groot': 17543, 'pestproblematiek': 17544, 'onder': 17545, 'leerlingen': 17546, 'therealquilly': 17547, 'designing': 17548, 'zippers': 17549, 'sbs': 17550, 'papirawaf': 17551, 'garciac28': 17552, 'jamiewinn4': 17553, 'electrifying': 17554, 'hennessy': 17555, 'honeybooboo': 17556, 'gazelles': 17557, 'stephenking': 17558, 'tittyslapme': 17559, 'wtdcshx': 17560, 'dd214': 17561, 'zrgrizz': 17562, 'paling': 17563, 'blessjesuslove': 17564, 'belated': 17565, 'sixty': 17566, 'fifth': 17567, 'agnes': 17568, 'kingsleeynyc': 17569, 'hectic': 17570, 'nab': 17571, 'mawson38': 17572, 'avg': 17573, 'pointstacked': 17574, 'steviegarcia11': 17575, 'loooool': 17576, 'weve': 17577, 'pharaoh': 17578, 'sarcophagus': 17579, 'silverdome': 17580, 'ballroom': 17581, 'neillsville': 17582, 'hobo': 17583, 'nephews': 17584, 'chompers': 17585, 'candyass': 17586, 'euros': 17587, 'tossed': 17588, 'depresseddarth': 17589, 'm9unrz6syr': 17590, 'jaaayleno': 17591, 'teamignant': 17592, 'flytv': 17593, 'lolatl': 17594, '3nkvbpr9qr': 17595, 'leikant': 17596, 'sneakersex': 17597, 'trainersex': 17598, 'tubivxbxco': 17599, 'scallies': 17600, 'dan1ellep': 17601, 'treatin': 17602, 'trvpgxdx': 17603, 'daquan': 17604, 'swallowed': 17605, 'darky': 17606, 'boondocks': 17607, 'ug647wuie4': 17608, 'kingdakkar': 17609, 'hzmf5mayva': 17610, 'amyrosekathryn': 17611, 'painted': 17612, '8pyhwe4l8s': 17613, 'ucfgawd': 17614, \"a'shanni\": 17615, 'frisbee': 17616, 'l4aocjczsh': 17617, 'noma2300': 17618, 'preservative': 17619, 'growth': 17620, 'usda': 17621, 'darf': 17622, 'kevinkong713': 17623, 'woridstarfvnny': 17624, 'alysssa': 17625, '2qysct5ink': 17626, 'voiceofapatriot': 17627, \"god's\": 17628, 'bachman': 17629, 'dontae': 17630, 'yaknow': 17631, 'brees': 17632, 'evysf5jfkt': 17633, 'jetpacks': 17634, 'buncha': 17635, 'mucka': 17636, 'reno': 17637, 'cowgirl': 17638, 'nitc': 17639, \"'james\": 17640, \"x'\": 17641, 'cultist': 17642, 'bf90amgwpo': 17643, 'cuteemergency': 17644, '1800deeznuts': 17645, 'sterile': 17646, 'viewfromboxseat': 17647, 'lotto': 17648, 'moniqueeedavis': 17649, 'newyorkologist': 17650, 'autographed': 17651, '1928': 17652, 'mm2niigp9x': 17653, 'deadspin': 17654, 'colombia': 17655, 'jeut1isq1f': 17656, 'babineaux': 17657, 'iongotnotype': 17658, 'maxicat': 17659, 'moceubrutf': 17660, 'u8uk4v7nwn': 17661, 'knvcklepvck': 17662, 'omf': 17663, 'hokuboku': 17664, 'tierrraaaaa': 17665, 'gvldrve': 17666, 'lyi': 17667, 'supahfienmode': 17668, 'smokes': 17669, 'ipostdickprints': 17670, 'morningmika': 17671, 'alightskinnigga': 17672, 'ynbwcmgeb4': 17673, 'kinds': 17674, 'slurp': 17675, 'firstly': 17676, 'secondly': 17677, 'youd': 17678, 'lenoirauteur': 17679, 'kushdahgodd': 17680, 'mula': 17681, 'urstruly': 17682, 'actors': 17683, 'a9ynuopyvy': 17684, 'doctorhawrse': 17685, 'torriable': 17686, 'kimburrleeeanne': 17687, 'marginalize': 17688, 'favstartweets': 17689, 'bastino': 17690, '128661': 17691, 'shitmybosssays': 17692, 'diishaidiamond': 17693, 'ripienaar': 17694, 'presenters': 17695, 'mlky9zsen2': 17696, 'murdershe': 17697, 'c4leigh': 17698, 'pronounce': 17699, 'zycuodiwkz': 17700, 'bethanylynn': 17701, \"almightydavehunna's\": 17702, 'qfk2jhstc4': 17703, 'shmedium': 17704, 'fakes': 17705, 'cre': 17706, 'l46q7moggr': 17707, 'audio': 17708, 'x70otlh3': 17709, '75zovjewyh': 17710, 'f3vaux9stw': 17711, 'devilfzyq': 17712, 'devilelyie': 17713, 'tehdevilclan': 17714, 'kristinhersh': 17715, 'wyatt': 17716, '106': 17717, '0300': 17718, 'rapbars': 17719, 'errrnigga': 17720, 'ackin': 17721, 'tumbirrelate': 17722, 'oqfyogsldx': 17723, 'paccage': 17724, 'delivered': 17725, 'babydaddy': 17726, 'sellis1994': 17727, 'nickehlers01': 17728, 'coryritter': 17729, 'rtoohill': 17730, 'farmersims': 17731, 'agronomist': 17732, 'mei': 17733, 'haruka': 17734, 'jncmczefss': 17735, 'dishing': 17736, 'pts': 17737, 'gbush': 17738, 'spliff': 17739, 'goldbonequeen': 17740, 'gbleighton': 17741, '94': 17742, 'stalled': 17743, 'tbhstop': 17744, 'salmeron': 17745, 'karltonhinez': 17746, 'jshcalderon': 17747, 'msfoxybaby': 17748, 'imaddictedto': 17749, 'truuuuuu': 17750, 'redemption': 17751, 'censor': 17752, 'patio': 17753, 'hammers': 17754, 'twe3vy0bk5': 17755, 'suddenlink': 17756, 'guppies': 17757, '302': 17758, 'thevibeking': 17759, 'condone': 17760, 'baethingape': 17761, 'okr3seyfbj': 17762, 'fitcchh': 17763, 'litetally': 17764, 'yesiamstillsalty': 17765, 'chnxcplzwr': 17766, 'noyvous': 17767, 'meatloaf': 17768, 'cobbler': 17769, 'fhc': 17770, 'therealjuicyj': 17771, 'projectpathcp': 17772, 'ian0012': 17773, 'hens': 17774, 'doves': 17775, 'partridge': 17776, 'miembrotropa': 17777, 'kinks': 17778, 'clarifying': 17779, 'istonertweets': 17780, 'pacino718': 17781, 'crucifixio': 17782, 'hqige3cqna': 17783, 'handshake': 17784, 'jasonastley': 17785, 'shmediumproblems': 17786, 'linkup': 17787, 'bobgnarlee': 17788, 'whereisperry': 17789, 'fr1aaiv42x': 17790, 'prr9jkrbsp': 17791, 'lovelesslovely': 17792, 'kwitchabichen25': 17793, 'aklve': 17794, 'erasing': 17795, 'accessible': 17796, 'uvjgbcpcbu': 17797, 'discredited': 17798, 'factual': 17799, 'moocher': 17800, 'bain': 17801, 'rx8ynpg1yd': 17802, 'harass': 17803, 'holographic': 17804, 'tiffanirenee3': 17805, 'kxhzjwg4ii': 17806, 'jordiiin': 17807, 'intimidated': 17808, 'mussels': 17809, 'str888': 17810, 'owipharaoh': 17811, 'yflfubj2po': 17812, 'lnmyopinion': 17813, 'kip': 17814, 'tokuda': 17815, 'niggerize': 17816, 'pd': 17817, 'cbazzthagreat': 17818, 'hygiene': 17819, 'flinch': 17820, 'a7xdemery': 17821, 'w5atfrslkk': 17822, 'drilled': 17823, 'z7ksrfpmz9': 17824, 'staking': 17825, 'simultaneously': 17826, 'jazwau': 17827, 'kishtwistemup': 17828, '126': 17829, 'svg7diiczg': 17830, 'librarianknight': 17831, 'templars': 17832, 'natashablah': 17833, 'derooo': 17834, 'stopitfive': 17835, 'misfits': 17836, 'simone': 17837, 'saddest': 17838, 'stony': 17839, 'brook': 17840, 'stephenwildboy': 17841, 'mik3ipnle6': 17842, 'grandmoma': 17843, 'charmin': 17844, 'jiggas': 17845, 'premature': 17846, 'jfkirtley': 17847, '1961': 17848, '76': 17849, '08': 17850, 'nedrock83': 17851, 'protocol': 17852, 'thier': 17853, 'iammissramirez': 17854, 'fcfsbvaphh': 17855, 'awint94': 17856, 'tourching': 17857, 'dentist': 17858, 'gums': 17859, 'receding': 17860, 'warn': 17861, 'deamor': 17862, 'iyanla': 17863, 'intrrvention': 17864, 'mattwho': 17865, 'randycaliboi': 17866, 'rwvyvpye2n': 17867, 'iitweet': 17868, 'yulurk': 17869, 'bnightengale': 17870, 'scouts': 17871, 'amck73': 17872, 'prenup': 17873, \"'magine\": 17874, 'nacho': 17875, 'doritos': 17876, 'thewagnerer': 17877, 'ashtonmartin97': 17878, 'whitfordzach29': 17879, 'kummar': 17880, 'muthaafuckin': 17881, 'kayyy': 17882, 'hirin': 17883, 'f0ntmvcdio': 17884, 'mikecheck': 17885, '123': 17886, 'bosleyxavier': 17887, 'acre': 17888, 'atoma87': 17889, 'mn0tf3dgo7': 17890, 'whitttoocold': 17891, 'n9vwx4r9yn': 17892, 'alisha': 17893, 'deadjake': 17894, 'amped': 17895, 'dreading': 17896, 'ifmrpjgyic': 17897, 'stvtch': 17898, 'shamu': 17899, 'seaword': 17900, 'trotin': 17901, 'thotin': 17902, 'spotted': 17903, 'durag': 17904, 'monumental': 17905, 'duraghistoryweek': 17906, 'mikedevrnja': 17907, 'gayd69': 17908, 'handsomeesco': 17909, 'chelsiielynn': 17910, '40yiw6e2ch': 17911, 'stresses': 17912, 'suzidodt': 17913, 'lmyhrbkxzx': 17914, 'shines': 17915, '3fp2pg85mb': 17916, '11088': 17917, 'pen': 17918, 'oldpicsarchive': 17919, 'stiddhk3wt': 17920, 'ckrzrwvfz0': 17921, 'xgingeravenger': 17922, 'lacks': 17923, 'introduce': 17924, 'jacaxeltlu': 17925, 'otvw1vldpy': 17926, 'nichollsodeon': 17927, 'pudingtane': 17928, 'washingtondc': 17929, 'slackin': 17930, 'jemapelledalila': 17931, '6iuthyvhqm': 17932, 'bellaafoxx': 17933, \"ez's\": 17934, 'fours': 17935, 'doggy': 17936, 'alexvelazquez49': 17937, 'jordyn': 17938, 'sophiefairman1': 17939, 'wisewords': 17940, 'amaurer13': 17941, 'superrrrmcnasty': 17942, 'ashwhole': 17943, 'terrylee': 17944, 'wiqgndxgnm': 17945, 'dangerously': 17946, 'pdaburei': 17947, 'protrill': 17948, 'afp': 17949, 'helpful': 17950, 'parenthetical': 17951, 'explanation': 17952, 'zkqg5wfe5r': 17953, 'keithscho': 17954, 'innocence': 17955, 'lesxo': 17956, 'gregorious13': 17957, 'dumpsters': 17958, 'vibelord': 17959, 'theblacknerd': 17960, 'northern': 17961, 'undefeated': 17962, 'promoter': 17963, 'abstraktalante': 17964, 'toppin2': 17965, 'carmen': 17966, 'nlds': 17967, 'bayleigh': 17968, 'cooliedaggera': 17969, 'wobn': 17970, 'wefo': 17971, 'thingspeoplesay': 17972, 'fatamypost': 17973, 'hokis': 17974, 'pokis': 17975, 'rorschach7': 17976, 'waiters': 17977, 'utter': 17978, 'blowme': 17979, 'wavey': 17980, 'neecol': 17981, 'hellaratchet': 17982, 'backpacks': 17983, 'polopowell': 17984, 'bham': 17985, 'saltyblackbroad': 17986, 'eisenbackemily': 17987, 'americaspasttime': 17988, 'qwyenton': 17989, 'claudialena8': 17990, 'kannon': 17991, 'stephengoetz2': 17992, 'ix03vrk0ki': 17993, 'ayeedeb': 17994, 'eccfbqzlkz': 17995, 'nhl14': 17996, 'indylovee': 17997, 'tyle': 17998, 'risbmdzy26': 17999, 'fye': 18000, 'recycled': 18001, 'loy': 18002, 'knia': 18003, 'amareee': 18004, '7riwuwamlz': 18005, 'bitzy': 18006, 'percocet': 18007, 'ualjxapmkj': 18008, 'kaaaat': 18009, 'lowe': 18010, 'd5yxgliokl': 18011, 'treszthebest': 18012, 'xfactorau': 18013, 'swamper60': 18014, 'helloweenorg': 18015, 'tw0jeexqty': 18016, 'sumbody': 18017, 'darksknstruggle': 18018, 'hwm427bw7v': 18019, 'pseudobread': 18020, 'sassytbh': 18021, 'tracksideonline': 18022, 'th3j35t3r': 18023, '23y': 18024, \"anonymous'\": 18025, 'gth': 18026, 'professionally': 18027, 'untalented': 18028, 'nicki3pretty': 18029, 'classless': 18030, 'zksyuwv8qv': 18031, 'allyssasss': 18032, 'heidil': 18033, 'pigfucking': 18034, 'itsjustme7o7': 18035, 'mzkerievans': 18036, 'ctbauza': 18037, 'loveoohyie': 18038, 'skyylevelmedia': 18039, 'holipalooza': 18040, 'ashaa': 18041, 'cuteness': 18042, 'glitch': 18043, 'evolves': 18044, 'vnz5v4vfsm': 18045, 'believethat': 18046, 'cantknockthahussle': 18047, 'cobenotkobe': 18048, 'orderin': 18049, 'truuuuuuuuue': 18050, 'edd': 18051, 'akarekt': 18052, 'holdmycrown': 18053, 'daniellurrr': 18054, 'nateclark': 18055, 'ajade': 18056, 'gabrielle': 18057, 'extras': 18058, 'chantegooden': 18059, 'blackkhippiee': 18060, 'jadenleann': 18061, 'o8jozokfei': 18062, 'boko': 18063, 'haram': 18064, 'guiltypleasure': 18065, 'here4timis': 18066, 'shiiii': 18067, 'ind1von4jh': 18068, 'kevinkevmooney': 18069, 'lellerbe': 18070, 'talofabreeze': 18071, 'dfe8mf2q28': 18072, 'homeland': 18073, 'landofthefree': 18074, 'midterms': 18075, 'ihatemoon': 18076, 'simplyaj22': 18077, 'damian': 18078, 'therealcvl': 18079, 'coryholmes24': 18080, 'kbye': 18081, 'conjuring': 18082, 'insidious': 18083, 'davidalderman77': 18084, 'gonetofar': 18085, 'gsmmkwz7hc': 18086, 'ahhh23': 18087, 'merk': 18088, 'gigg423': 18089, 'psherm07': 18090, 'echoeserrant': 18091, 'jstines3': 18092, 'barbershop': 18093, 'manny': 18094, 'bermudez2': 18095, 'captelliott': 18096, 'nfn': 18097, 'junndem': 18098, 'laurenmane': 18099, 'dmxplroaj2': 18100, 'idochips': 18101, 'badonka': 18102, 'ankh': 18103, 'bbhairs': 18104, 'minority': 18105, 'vagitarian': 18106, 'homer': 18107, 'antsyinpantsy': 18108, 'chillin662': 18109, \"boosie's\": 18110, 'bethiphopawards': 18111, 'germansquidd': 18112, 'funkqdelic': 18113, 'flaka': 18114, 'traphouseeeeeeee': 18115, 'torrez': 18116, 'caudillo': 18117, 'riyastunna': 18118, 'bestadvice': 18119, 'lens': 18120, 'locexe8rcd': 18121, 'nxj4qqgmx2': 18122, 'queenittybitty': 18123, 'drugzzz': 18124, 'thebrandymedel': 18125, 'gabrielleheaton': 18126, 'fucccckkkkkk': 18127, 'jusxdoit': 18128, \"hangin'\": 18129, 'dreadheadxx': 18130, 'hallon': 18131, 'jewelery': 18132, 'shinin': 18133, 'gpcyv2jyry': 18134, 'shrekkalove': 18135, 'omiexo': 18136, 'mybabyisallgrownup': 18137, 'quid': 18138, 'muthafukin': 18139, 'reacting': 18140, 'vain': 18141, \"females'\": 18142, 'context': 18143, 'trentonstewart': 18144, 'serio': 18145, 'wassuo': 18146, 'feud': 18147, 'chiief': 18148, 'pboy562': 18149, 'princegreenjr': 18150, 'spartacus': 18151, 'spinellis': 18152, 'louisvillepurge': 18153, 'imthatsubieguy': 18154, \"hester's\": 18155, 'bhasfurter': 18156, '0j96w8ofmq': 18157, 'rasheedibrahim': 18158, 'lirryfeelsugh': 18159, 'jeggings': 18160, 'carrabis': 18161, 'napoli': 18162, 'toughest': 18163, '5h': 18164, 'cockybelichick': 18165, 'kisstherings': 18166, 'harmonica': 18167, 'fzvwc7askw': 18168, 'tsmith4569': 18169, 'pritchett': 18170, 'kathygriffin': 18171, 'oldmanro': 18172, 'animated': 18173, \"hoe'n\": 18174, 'rhinerunit': 18175, 'tranquillity': 18176, 'daddykn0wsbest': 18177, 'weirdstyle': 18178, 'awfy': 18179, 'mattrbennett209': 18180, 'fakest': 18181, 'lhq8guciaw': 18182, 'deseanjackson11': 18183, 'deangelohall23': 18184, 'imakittttyy': 18185, 'supernatural': 18186, 'fuckedd': 18187, 'haleybeeee': 18188, 'mostdoubt3d6': 18189, 'emilymorring': 18190, 'upholds': 18191, 'detest': 18192, 'loqueellassaben': 18193, 'esa': 18194, 'gente': 18195, 'odia': 18196, '8zr3e0ysoe': 18197, 'teeaduh': 18198, 'ethnicity': 18199, 'obito': 18200, 'grats': 18201, 'haye': 18202, 'cheetos': 18203, 'naewoodster': 18204, 'mjayskillz': 18205, 'mw5kaojkxb': 18206, 'peaches': 18207, 'whitetears': 18208, 'lessonoftheday': 18209, 'codizzlleee': 18210, 'canibus': 18211, 'imt': 18212, 'joell': 18213, 'krs': 18214, 'asvholejay': 18215, 'imsledgren': 18216, 'yearbook': 18217, 'mannydiesel': 18218, 'artoffloyd': 18219, 'terrell': 18220, 'owens': 18221, \"''single\": 18222, \"af''\": 18223, 'gibbs': 18224, 'stroll': 18225, 'jerome': 18226, 'expiration': 18227, 'teddydeljones': 18228, 'saraschaefer1': 18229, 'douglas': 18230, 'alysiarianh': 18231, 'cambron': 18232, 'zibnjmiilj': 18233, 'submitted': 18234, 'notoriousjb': 18235, 'jlrapkdlys': 18236, 'jersrswhue': 18237, 'thebootycluh': 18238, 'xoxomooky': 18239, 'yoursel': 18240, 'thotpockets': 18241, 'blakk': 18242, \"victims'\": 18243, 'families': 18244, 'bounty': 18245, 'ghat': 18246, 'oomfs': 18247, 'hardin': 18248, 'hsn': 18249, 'allovevie': 18250, 'waaaaannnnnt': 18251, 'bigbagofscum': 18252, 'md': 18253, 'diagnosis': 18254, '911': 18255, 'regard': 18256, 'esex': 18257, 'ruskii': 18258, 'mabathoana': 18259, 'ljspagnoli': 18260, \"'post\": 18261, \"minute'\": 18262, 'erjmvef996': 18263, 'bossliyah': 18264, 'peekin': 18265, 'tl352dmt1n': 18266, '128053': 18267, 'ryaaaan': 18268, 'freudian': 18269, 'farquaad': 18270, 'screwdrivers': 18271, 'toque': 18272, 'canadianisms': 18273, 'lufacmlo20': 18274, 'nationalpost': 18275, 'ygaddie': 18276, 'giacier': 18277, 'wett': 18278, 'lopez': 18279, 'lo520': 18280, 'baldpussy': 18281, 'hoeass': 18282, '4g85sn1afx': 18283, 'fergusonoctober': 18284, 'refight': 18285, 'awhooker': 18286, 'cisheteros': 18287, 'darne': 18288, 'thedemocrats': 18289, 'dumbasses': 18290, 'shills': 18291, 'senmikelee': 18292, 'mocked': 18293, \"mccain's\": 18294, 'standtall': 18295, 'worldcup': 18296, 'kaylonnnnn': 18297, 'tdill11': 18298, 'dreamgirlsonly': 18299, 'w43kps9zp0': 18300, 'realfortes': 18301, 'isn': 18302, '7vh4typmht': 18303, 'tvrczo99oe': 18304, 'juliansantomaur': 18305, '74ulxaf': 18306, 'mccain': 18307, 'carny': 18308, 'zt690bktri': 18309, 'peterdavidsonii': 18310, 'lillian': 18311, 'catfishin': 18312, 'briangaar': 18313, 'tyranny': 18314, 'gawker': 18315, \"congressman's\": 18316, 'ltzwujc0vs': 18317, 'collaborating': 18318, 'oray': 18319, 'hijack': 18320, 'presser': 18321, 'z2wko9ripz': 18322, 'hokage': 18323, 'noreggieallow': 18324, 'alll': 18325, '9doibskt17': 18326, 'tkdfighter': 18327, 'barajas': 18328, '8xqcxuo': 18329, 'kmojddil7h': 18330, 'suchy': 18331, 'youcansitwithus': 18332, 'boldest': 18333, 'unapologetiicb': 18334, 'eazy': 18335, 'emilyanne': 18336, 'charlseykay': 18337, 'homeee': 18338, 'lilimaeee': 18339, 'splitsecond84': 18340, 'strictlykeyz': 18341, 'ynevereleven': 18342, 'cs': 18343, '9btg26mlgu': 18344, 'iluvfashion618': 18345, 'rewrite': 18346, 'remarriage': 18347, 'lilmrsspiffy': 18348, 'gvfpk65ah5': 18349, 'eaton': 18350, 'honn': 18351, 'thexbone': 18352, 'twitch': 18353, 'insists': 18354, 'tylerschuster88': 18355, 'jordan23junkies': 18356, 'speckled': 18357, 'rilantis': 18358, '1732': 18359, 'sloot': 18360, 'bitchslapthursdays': 18361, '2nite': 18362, 'iggohwewfh': 18363, '2hood2bgud': 18364, 'rawritstaraa': 18365, 'worsum': 18366, 'yfucn0dwzq': 18367, 'untouchablevick': 18368, '20th': 18369, 'mls': 18370, 'p0rnopuppy': 18371, 'waynebrady': 18372, 'mono': 18373, 'ypvntydu28': 18374, 'jrohrcockblock': 18375, 'johnnyrohrcock': 18376, 'redscarebot': 18377, '9773': 18378, 'lnqnpchcia': 18379, 'masturbating': 18380, 'itskilla': 18381, 'petertrvjillo': 18382, 'queenshyba': 18383, 'imoverseas': 18384, 'disqualified': 18385, 'carin': 18386, 'enterin': 18387, 'j0mael': 18388, 'nz74wbsdbh': 18389, 'unhinged': 18390, 'xblackoutbarbie': 18391, 'chhicoo': 18392, 'k7myvflwfg': 18393, 'bluebloods': 18394, 'perched': 18395, 'odhq52qile': 18396, 'pissinindabedassboy': 18397, 'checcin': 18398, 'administrators': 18399, 'lorenzoluciano': 18400, 'blasted': 18401, 'shaunroberts': 18402, 'concrete': 18403, '516jake': 18404, 'hungover': 18405, 'yyyyyeelllloooowwwwww': 18406, 'mudjug1': 18407, 'dbh': 18408, 'hje7v4awdw': 18409, 'jboxjohnson': 18410, 'nsanemujer': 18411, \"'damn\": 18412, \"'newest\": 18413, \"privilege'\": 18414, 'zlpfzsitom': 18415, 'cenopant': 18416, 'bec': 18417, 'beli': 18418, 'ved': 18419, 'superbowl': 18420, 'cleaners': 18421, 'dam0n': 18422, 'youresilly': 18423, 'pettycrocker': 18424, 'jawn': 18425, \"donte's\": 18426, 'woahrach': 18427, 'emotionaaaal': 18428, 'breathtaker': 18429, '31': 18430, 'tupacselenas': 18431, 'imy': 18432, 'winzvfxdl8': 18433, 'quinthegreat': 18434, 'lucki': 18435, 'jhbqhpup2m': 18436, \"somethin'\": 18437, 'hyped': 18438, 'hayseed': 18439, 'yaselves': 18440, 'jcyzzmkcfu': 18441, 'simplyalize': 18442, 'xonayyy': 18443, 'ugglyyy': 18444, 'cvjadmypg6': 18445, 'lasthurrahthendietstarts': 18446, 'canker': 18447, 'sores': 18448, 'hinder': 18449, 'pocahontias': 18450, 'easter420': 18451, 'terri': 18452, 'fwuh5pvnjk': 18453, 'invr9wnccv': 18454, 'transaparent': 18455, 'bypass': 18456, 'fennecuskitsune': 18457, 'glenladen': 18458, 'wutkarina': 18459, 'bruceforce': 18460, 'biunts': 18461, 'jkatz': 18462, 'kaylee': 18463, 'binion14': 18464, 'beeetzzz': 18465, 'seasoning': 18466, 'saldana': 18467, '69zrz3mmnm': 18468, 'kthxbai': 18469, 'williamfbrasky': 18470, 'therandomboner': 18471, 'efromthelost': 18472, 'doggpound': 18473, 'baske': 18474, 'luisaco': 18475, 'somaya': 18476, 'reece': 18477, 'hunnnney': 18478, 'censored': 18479, 'wowwww': 18480, 'purplecaine': 18481, 'satirical': 18482, 'handjob': 18483, 'mbrtvpuakt': 18484, 'wrfv9ld6eo': 18485, 'spiderman': 18486, 'thristy': 18487, \"walgreen's\": 18488, 'dye': 18489, 'naughty': 18490, 'iggaoog0k7': 18491, 'packing': 18492, 'savant': 18493, 'lissa': 18494, 'sassylibrarian1': 18495, 'taotao': 18496, 'salupa': 18497, 'tingtingbabyyyy': 18498, 'detroitsweets': 18499, 'viper5816': 18500, 'sen': 18501, 'bjowvabwhi': 18502, 'mjdwarner': 18503, 'sexin': 18504, 'aliyahgrubb': 18505, 'msudawg11': 18506, 'whizzing': 18507, 'ritzcrackers': 18508, \"'hockey'\": 18509, 'crazycats': 18510, 'a5zbvdxapx': 18511, 'windoowww': 18512, 'brettcanfly': 18513, 'bleaching': 18514, 'sonsofanarchy': 18515, 'hunninck': 18516, 'alexpappas': 18517, 'electronic': 18518, 'qtpehb2sex': 18519, 'morningmoneyben': 18520, 'peshmerga': 18521, 'heave': 18522, 'brightened': 18523, 'donnellrawlings': 18524, 'jetter': 18525, '200k': 18526, 'haymon': 18527, 'tarver': 18528, 'eazy26': 18529, 'baldheaded': 18530, 'fdyojpt9xg': 18531, 'installment': 18532, 'smashavelli': 18533, 'howdhow': 18534, 'idkmadz': 18535, 'vin17bricksquad': 18536, 'submarine': 18537, 'karenrfm': 18538, 'parenting': 18539, 'wrench': 18540, 'rooseveltspbs': 18541, 'dvrtime': 18542, 'wcve': 18543, 'knegandhiespn': 18544, 'jrstws': 18545, 'qnoftherealm': 18546, 'savvyhuman': 18547, 'scdorn': 18548, 'yrwol7': 18549, 'plainunamerican': 18550, 'erickinnc': 18551, 'puterprsn': 18552, 'tomwfry': 18553, 'kampeas': 18554, 'resign': 18555, 'dayannaa': 18556, 'yelp': 18557, '9hifdczwqy': 18558, 'rubinreport': 18559, 'turnipforwhat': 18560, 'turnip': 18561, 'succession': 18562, 'chrislhayes': 18563, 'jfk': 18564, 'responsibilities': 18565, '7ufnj2njhp': 18566, 'kriscope95': 18567, 'goodkidleo': 18568, 'itchin': 18569, 'sallybitesalot': 18570, 'oakleaf': 18571, 'vh1pnut': 18572, '2015seniorprobs': 18573, 'exceptional': 18574, 'shiteee': 18575, 'hilariousselfie': 18576, 'snt2iomhgr': 18577, 'jacobs': 18578, 'flintstone': 18579, 'jlm': 18580, 'hitman': 18581, 'julie': 18582, 'falloutbird': 18583, 'chvzwtvltg': 18584, 'maryjane': 18585, 't9dstikwch': 18586, 'brandi': 18587, 'biglovemusic': 18588, 'richhomielexx': 18589, 'tryanna': 18590, 'yaboysloth': 18591, 'naughtyboymusic': 18592, 'rangatang': 18593, 'nvr': 18594, 'virginnnn': 18595, 'ratchet2english': 18596, 'adamharmon': 18597, 'jeffjeffallen': 18598, 'xkf59tovck': 18599, 'fruity': 18600, 'quaffing': 18601, 'steaming': 18602, 'br1mjkk8dz': 18603, 'lilnino': 18604, 'sistas': 18605, '128562': 18606, 'wheezy': 18607, 'chronic': 18608, 'hypothesiz': 18609, 'prime3': 18610, 'whoooo': 18611, 'bck': 18612, 'tolkienproverb': 18613, 'sorrow': 18614, 'abels': 18615, 'masochist': 18616, 'gfohputvhp': 18617, 'schmucc': 18618, 'cloutgod': 18619, 'cob': 18620, 'tunj': 18621, 'twofucks': 18622, 'ucmj': 18623, 'mouthpiece': 18624, \"dad's\": 18625, 'supper': 18626, 'makedclisten': 18627, 'baxiffkd9w': 18628, 'ellehueyxiv': 18629, 'charliesheen': 18630, 'childrens': 18631, 'ferkin': 18632, 'selfcuttinggirl': 18633, 'dunce': 18634, \"kill'lees\": 18635, 'bloodofjupiter': 18636, '8zcjww56zz': 18637, 'vjcf0r6thu': 18638, 'datdudetorey': 18639, 'basics': 18640, 'knowyourplace': 18641, 'forgiato': 18642, 'tweef': 18643, 'llkuz6vtai': 18644, '7zr8daxng4': 18645, 'httpjaebee': 18646, 'depression': 18647, 'gettn': 18648, 'babynacca': 18649, 'faz': 18650, 'ilovedrunkgirls': 18651, 'dseanassafool': 18652, 'ypggsf64ea': 18653, 'blanking': 18654, 'beroyalkc': 18655, 'plbyuqgerg': 18656, 'empowered': 18657, 'chalecarlo5': 18658, 'haircuts': 18659, 'testicoli': 18660, 'glocks': 18661, 'choppas': 18662, 'mettadamnfool': 18663, 'moonwp': 18664, 'k2tu1s85t6': 18665, 'naaaa': 18666, 'scottvtracy': 18667, 'abuyazidmuawiya': 18668, 'amustafaanbari1': 18669, 'reinforcing': 18670, 'stereotype': 18671, 'uneducated': 18672, '159': 18673, 'finer': 18674, 'herassfat': 18675, 'madness': 18676, 'flde7s4slc': 18677, 'classact23': 18678, 'darkkent27': 18679, 'nipsllp': 18680, 'xriykfgg3q': 18681, 'whitepeopletalk': 18682, 'tortillas': 18683, 'whoops': 18684, 'snuggly': 18685, 'cersei': 18686, 'valued': 18687, 'itsyesie': 18688, 'yoiorosa': 18689, 'damonddawg': 18690, 'peek': 18691, \"tyga's\": 18692, 'tygabars': 18693, \"rt'in\": 18694, 'rpo0quumbm': 18695, 'rosegoldbenzo': 18696, 'jactionj': 18697, 'forf': 18698, 'lnfiicted': 18699, 'younggizzle': 18700, 'ed1': 18701, 'ed2': 18702, 'caliqueeen14': 18703, 'byers': 18704, 'whecp5kdci': 18705, 'southcarolina': 18706, 'lmaoooooooooooo': 18707, 'giftedhussle94': 18708, 'trefreedawg': 18709, 'mayaangelou': 18710, 'reassurance': 18711, 'babymama': 18712, '4gkgam6aeo': 18713, 'beji': 18714, 'funnysayings': 18715, 'information': 18716, 'johnydeep': 18717, 'hahha': 18718, 'glossy': 18719, 'onnaa': 18720, 'mccubbin': 18721, 'nicetry': 18722, 'sarccasmictw': 18723, 'shiiittt': 18724, 'snitchn': 18725, 'ralphy': 18726, 'aakwohdfgv': 18727, '8hdtphph51': 18728, 'marines': 18729, 'bgally17': 18730, 'teammate': 18731, 'earning': 18732, 'figures': 18733, 'thursty': 18734, 'mikeheadlyy': 18735, 'mahammad': 18736, '3w8gyp4vuz': 18737, 'samross58': 18738, 'parseltounge': 18739, 'basilisk': 18740, 'girlslovedrugs': 18741, 'caitlin': 18742, 'billcosby': 18743, '2qttvwwicy': 18744, 'cosbymeme': 18745, '72imb6rfzn': 18746, 'thefitgawd': 18747, '0idy5oskrf': 18748, 'randymower': 18749, 'kirstenkraft': 18750, 'triffling': 18751, 'thebananafacts': 18752, \"khalifas's\": 18753, 'madstatic414': 18754, 'saulewright': 18755, 'gq': 18756, \"nuttin'\": 18757, 'topblokebill': 18758, 'arii': 18759, 'nv': 18760, 'pghisydeyb': 18761, 'farting': 18762, 'basketballs': 18763, 'doseofoc': 18764, 'dshmee': 18765, 'emilywcvb': 18766, 'newscenter': 18767, 'projecting': 18768, 'margin': 18769, '1qc9q6p1cl': 18770, 'dne': 18771, 'indiamone': 18772, 'officialreplay': 18773, 'captaincoximus': 18774, 'signal': 18775, 'coexist': 18776, 'meshal': 18777, 'occupiers': 18778, 'briannachevonne': 18779, '2gether': 18780, 'squeezemebaby': 18781, 'ronaldo': 18782, 'ahaaaaa': 18783, 'mywife': 18784, 'althea': 18785, 'nieceyy': 18786, 'handing': 18787, 'guides': 18788, 'manuals': 18789, '7thsa7v26i': 18790, 'osnapitzthorne': 18791, 'trendingtopiic': 18792, 'johnnnyamor': 18793, 'tjonjljym4': 18794, 'chilly': 18795, 'chancellor': 18796, 'viwmjjjxot': 18797, 'dafuckinunicorn': 18798, 'moooob': 18799, 'vxkcg4ygxf': 18800, 'laaahstyeb': 18801, 'generic': 18802, 'blindside': 18803, 'eases': 18804, 'squishy': 18805, 'pulp': 18806, 'goligoski': 18807, 'sill': 18808, 'mcgrath': 18809, 'celebratin': 18810, 'heartache': 18811, 'swiperthefaux': 18812, 'fbz29anavh': 18813, 'kenaiviveros': 18814, 'versharky': 18815, 'alexschnider': 18816, 'niiice': 18817, 'schinder': 18818, 'discou': 18819, 'lowwwww': 18820, 'thatniggakent': 18821, 'ohhh': 18822, '9931vyw9ff': 18823, 'lfwc3lsrjo': 18824, 'cheeseball': 18825, 'reggieripbam': 18826, 'lajazz7': 18827, 'conservativela': 18828, 'earnest': 18829, 'wagons': 18830, 'roodee': 18831, 'bautista': 18832, '11th': 18833, 'rmcelhenney': 18834, 'whichever': 18835, 'awarde': 18836, 'cent': 18837, 'humpin': 18838, 'oojqabwfwj': 18839, 'deno': 18840, 'kaitlyninst0ne': 18841, 'clich': 18842, 'juliesnark': 18843, 'theoregonianboo': 18844, 'repbonamici': 18845, 'forbid': 18846, 'dougbenson': 18847, 'lucasbros': 18848, 'roryscovel': 18849, 'surprising': 18850, 'bravschi': 18851, 'thew': 18852, 'soak': 18853, 'ukcdym7kbx': 18854, 'television': 18855, 'council': 18856, \"'scandal'\": 18857, 'y3gnt4l7vc': 18858, 'keishagreyxxx': 18859, 'daydream': 18860, 'powerball': 18861, 'evanatyaneck': 18862, 'expire': 18863, 'f1abraham': 18864, 'itsawrap': 18865, 'axemanthemovie': 18866, 'jostontheney': 18867, '127916': 18868, '127909': 18869, 'wright955': 18870, 'tarzan': 18871, 'lgmsbs4s68': 18872, 'callers': 18873, 'dunk': 18874, 'yrds': 18875, 'janbaloch45': 18876, 'pakistani': 18877, 'kasur': 18878, 'jrxpbsl05y': 18879, 'veritaz': 18880, 'marvisirmed': 18881, 'goshno': 18882, 'aliyanazki': 18883, 'knox': 18884, 'squirtnetwork': 18885, 'getfree': 18886, 'sence': 18887, 'responding': 18888, 'petehelm': 18889, 'sting': 18890, 'burying': 18891, 'su2hnfq6s8': 18892, 'mellopsycho': 18893, 'whacker': 18894, 'katewhinehall': 18895, 'butchered': 18896, 'mzkimberz': 18897, 'lew': 18898, 'differ': 18899, 'mayhemmiller': 18900, 'excessively': 18901, 'appointed': 18902, 'ggchanel': 18903, 'jigsaw': 18904, 'brrrrangadang': 18905, 'charliea': 18906, 'landez07': 18907, 'agony': 18908, 'uni': 18909, 'suuuucks': 18910, 'girly': 18911, 'atound': 18912, 'midsection': 18913, 'rowdy': 18914, 'jonnnycashh': 18915, 'iforeign': 18916, 'allaboutashley': 18917, 'sophisticated': 18918, 'tanajiamonay': 18919, 'yxmhy17o1u': 18920, 'cope': 18921, 'dimple': 18922, 'yungin': 18923, 'gshit': 18924, 'blitz': 18925, 'knot': 18926, 'fiirting': 18927, 'jzkkivuvjc': 18928, 'flawgen': 18929, 'slimthickchicks': 18930, 'qmhkkqh8hg': 18931, 'drvglordkush': 18932, 'xffuo73q3a': 18933, 'bitchbuh': 18934, 'stable': 18935, \"boo'd\": 18936, 'gaf': 18937, 'howardroper': 18938, 'remarks': 18939, 'dvabpmgqjo': 18940, 'fm7udyku': 18941, 'udkcfhbuiz': 18942, 'emojii': 18943, 'zizfh2ffrd': 18944, 'pygmie': 18945, 'thisdayinmetal': 18946, 'apr': 18947, '29th': 18948, '1997': 18949, 'waspofficial': 18950, 'taketheaddiction': 18951, 'mytorturedeyes': 18952, 'heavymetal': 18953, 'analyzer': 18954, 'whitman': 18955, 'bullskickass': 18956, 'bullsnation': 18957, 'struggling': 18958, 'hilton': 18959, 'gonabe': 18960, 'kirchner7': 18961, 'slllick': 18962, 'droided': 18963, 'dro': 18964, 'droid': 18965, 'drum': 18966, 'yeer': 18967, 'craigcalcaterra': 18968, 'balkamania': 18969, 'iaintgottarap': 18970, 'ead': 18971, 'rita': 18972, 'applebum': 18973, 'dexter': 18974, 'tr4pb0y': 18975, '653te4suhr': 18976, 'linnlondon1': 18977, 'ufcajnnqtz': 18978, '6jo2sayr96': 18979, 'ariestheog': 18980, 'supposedly': 18981, 'mlfucqiifa': 18982, 'uopgipopws': 18983, 'kayreneeee': 18984, 'lighting': 18985, '2wj4wdd0': 18986, 'flyeaglesnation': 18987, 'wacker': 18988, 'itswaltbitch': 18989, 'phoney': 18990, 'legion': 18991, 'isneeze': 18992, 'jessielee1028': 18993, 'hawkdaddy300': 18994, 'gavinmhawks21': 18995, 'llvlllvlx': 18996, 'se2xidtmif': 18997, 'yvbjunotxe': 18998, 'imcnasty': 18999, 'gamoot': 19000, 'nexusaltase': 19001, 'spoilmeharder': 19002, 'greta': 19003, 'trvvp': 19004, 'lc5gsfovxs': 19005, 'auditorium': 19006, 'v8tgqheag8': 19007, 'mz': 19008, 'sworn': 19009, 'prim': 19010, 'bobcostas': 19011, 'skankymunter': 19012, 'emmasayshai': 19013, 'icanhashtaghoweveriwant': 19014, 'walshnyc': 19015, 'ecu754zhkk': 19016, 'versharma': 19017, '8z0b7ocmqp': 19018, 'butthole': 19019, 'crushwb': 19020, 'tornadoes': 19021, 'monetary': 19022, 'feisty': 19023, 'puckluckbitch': 19024, 'relaxvibes': 19025, 'factsaboutpigs': 19026, 'gallons': 19027, 'calvin2000': 19028, 'concerning': 19029, 'katiecouric': 19030, 'forwd': 19031, 'sluttish': 19032, 'c7h0tfjdet': 19033, 'julio': 19034, 'isurdaddy': 19035, 'steam': 19036, 'millionaires': 19037, 'iprincechance': 19038, 'jreynolds': 19039, 'cafebabybull': 19040, '1whgfzbukr': 19041, 'idgf': 19042, '3waezgcovi': 19043, 'coltforty2gone': 19044, 'endzone': 19045, 'federal': 19046, 'proposed': 19047, 'awb': 19048, 'antigun': 19049, 'osoplain': 19050, 'crumble': 19051, 'advicetowriters': 19052, 'angelou': 19053, 'poetry': 19054, 'rematch': 19055, 'renfro': 19056, 'adawg2016': 19057, 'adawg': 19058, 'pussyed': 19059, 'lowery': 19060, 'dirtyimage': 19061, 'honcho': 19062, 'hiden': 19063, 'hunkie': 19064, 'subtweeted': 19065, 'mikeyblackheart': 19066, 'defends': 19067, '1armaun': 19068, 'erase': 19069, 'implants': 19070, 'dd5iu85lpx': 19071, 'superb': 19072, 'haywood': 19073, 'unanswered': 19074, 'cutie98': 19075, \"'views\": 19076, 'brace': 19077, 'chrissy': 19078, 'cindy': 19079, 'nower': 19080, 'defenition': 19081, 'neiman': 19082, 'markus': 19083, 'hustlas': 19084, 'tekiaa': 19085, 'dgaffff': 19086, 's6yj748if1': 19087, 'fruitsnack': 19088, 'diggztblb': 19089, 'ocsudvn5hy': 19090, 'rbcrxmrtqp': 19091, '12pck': 19092, 'gottem': 19093, 'juheard': 19094, 'leogarris': 19095, 'ratha': 19096, 'brittanny188': 19097, 'goldiggers': 19098, '1776': 19099, 'withaprettyface': 19100, 'lizziecuevas': 19101, 'yfrog': 19102, 'h300cwrj': 19103, 'channels': 19104, 'comebacks': 19105, 'cm': 19106, 'utlr': 19107, 'o0sk0sm40f': 19108, 'drewmking': 19109, 'joely': 19110, '7flyy': 19111, '404': 19112, '394': 19113, '1570': 19114, 'sevenflyy': 19115, 'lust': 19116, 'lxjmbctgjj': 19117, 'thealexp': 19118, 'hitching': 19119, 'jazzyclarks': 19120, 'ilywhitesiders': 19121, 'xjaai': 19122, 'disfigure': 19123, 'oweesheredd': 19124, '9veupu85wj': 19125, 'brianhopecomedy': 19126, 'babbbygirl0317': 19127, 'bearly': 19128, 'kingtaylorxx': 19129, 'cameltoes': 19130, 'foes': 19131, 'neiallure': 19132, 'damestr8cash': 19133, 'irejectslimhoes': 19134, 'hanginwitcoop': 19135, 'eery': 19136, '7ctlw9enjx': 19137, 'beheader': 19138, 'sotloff': 19139, \"'arab\": 19140, \"collector'\": 19141, 'rl7f2qv56f': 19142, 'thingamabobs': 19143, 'cashkillem': 19144, '2fuxrzevtp': 19145, 'leafs': 19146, 'earlychristmas': 19147, 'looting': 19148, 'lupoqat2r9': 19149, 'sonnen': 19150, 'omw': 19151, 'litigiousmind': 19152, 'getemkee': 19153, 'igotem': 19154, \"10's\": 19155, 'llvvzz': 19156, 'mascot': 19157, 'lavishlolaaaaaa': 19158, '58407': 19159, 'mojo4life': 19160, 'gmaslsk': 19161, 'tinkers': 19162, 'spouting': 19163, 'xobeauty': 19164, 'chelleeee': 19165, 'dannycatsteve': 19166, 'chupacabra': 19167, 'fuxk': 19168, 'gwhnz0jcb1': 19169, 'baesongz': 19170, 'ahmed': 19171, 'olympic': 19172, 'gangbanged': 19173, 'mandingos': 19174, 'wboundurant92': 19175, 'eeerik23': 19176, 'cleggzta': 19177, 'dickau': 19178, 'aleeed': 19179, 'doperthanyola': 19180, 'fivefifths': 19181, 'twantargaryen': 19182, 'hh50p5pytx': 19183, 'kaylendenise': 19184, 'retweeettt': 19185, '1000x': 19186, 'perpetrate': 19187, 'sameeee': 19188, 'jf6u54cmw3': 19189, 'sacks': 19190, 'limelight': 19191, 'trillbillgates': 19192, 'honors': 19193, 'm09dow96rw': 19194, 'vanish': 19195, 'w2n19vgbv3': 19196, 'reflected': 19197, 'pbebt': 19198, 'msblaqstallion': 19199, 'committee': 19200, 'dailymail': 19201, \"doctor's\": 19202, 'apt': 19203, 'masks': 19204, 'atkloiqfzz': 19205, 'hvbhwjrken': 19206, 'vintagebaublesnbits': 19207, 'ii0v4lbsqk': 19208, 'erinsabersix': 19209, 'bandos': 19210, 'slayer': 19211, 'helm': 19212, 'droppies': 19213, 'detailed': 19214, 'taylorgrisbhy': 19215, 'judgmen': 19216, 'metalhammer': 19217, 'maiden': 19218, 'busking': 19219, 'balham': 19220, 'nikkigentry843': 19221, 'gr627ldfaa': 19222, 'parachute': 19223, 'postin': 19224, 'brownskinn': 19225, 'rickyscamp': 19226, 'tsunami': 19227, 'extramarital': 19228, 'commute': 19229, 'sneake': 19230, 'dynasty': 19231, 'madchad412': 19232, 'milan': 19233, 'lucic': 19234, 'kkpzgl': 19235, 'anxious': 19236, 'stu': 19237, 'wizards': 19238, 'scanbc': 19239, 'crisp': 19240, 'yasminmarie23': 19241, 's5yvav8g7l': 19242, 'lawwwddd': 19243, 'labeled': 19244, 'douchetard': 19245, 'butterball': 19246, 'babygirl': 19247, 'cheetahxcheeks': 19248, 'nvlzkshgaa': 19249, 'amirite': 19250, 'bigot': 19251, 'dawnnadukes': 19252, 'votewendydavis': 19253, 'lnaew8ccod': 19254, 'iamcache': 19255, 'mza361': 19256, 'vast': 19257, 'skits': 19258, 'thump': 19259, 'terrywigley': 19260, 'vbd4zhjrof': 19261, 'assness': 19262, 'persists': 19263, 'aqcgkbxkcm': 19264, 'selfmadee': 19265, 'wya': 19266, 'brick': 19267, 'gushy': 19268, 'kelvinkayyy': 19269, 'bruv': 19270, 'welcum': 19271, 'niggur': 19272, 'umpoptart': 19273, 'krabs': 19274, 'cents': 19275, '128161': 19276, 'qf0exo9m5o': 19277, 'pu7uqxjfmc': 19278, 'felonsplease': 19279, 'fug': 19280, 'caddilac': 19281, 'luxury': 19282, 'mcgetbizzy': 19283, 'ww3xbbujg7': 19284, 'beeeitch': 19285, 'niccol3': 19286, 'balless': 19287, 'swaagg': 19288, 'sabrinaaaaa': 19289, 'cocoqte': 19290, 'supbishes': 19291, 'joanna52011': 19292, 'lettuceprey8': 19293, 'bghtsjipne': 19294, 'carmeloanthony': 19295, 'coool': 19296, 'dine': 19297, 'parkside': 19298, 'rlly': 19299, 'thatguybryant28': 19300, 'speaker': 19301, 'awareness': 19302, 'preservation': 19303, 'thegoodgodabove': 19304, 'sideways': 19305, 'wizdom': 19306, 'ledbetter': 19307, 'boris': 19308, 'fagjo': 19309, 'bran': 19310, 'nurturing': 19311, 'psq': 19312, 'loadupp': 19313, 'faithfull': 19314, \"bae's\": 19315, 'cyejv5l608': 19316, 'natyyg': 19317, 'kanyeshrug': 19318, 'hollyrpeete': 19319, 'pots': 19320, 'shesleslee': 19321, '1proudmahomiee': 19322, '15iziryymj': 19323, 'kingxstoney': 19324, 'penitentiary': 19325, 'benjaminnorton': 19326, 'nazis': 19327, 'aqsa': 19328, 'monkbent': 19329, 'yoboijackson': 19330, 'ozwashere': 19331, 'liftingprobz': 19332, '8ike4m29co': 19333, 'stonernan': 19334, 'bewbzy': 19335, 'm8': 19336, 'crotch': 19337, 'igniting': 19338, \"'06\": 19339, 'commenting': 19340, 'mauriokart': 19341, 'shethepete': 19342, 'sourpowerdre': 19343, 'bravo615': 19344, \"battery's\": 19345, 'luckylucci5': 19346, 'notpresly': 19347, 'dmt': 19348, 'mtvuk': 19349, 'directioners': 19350, \"1d's\": 19351, 'zaynmalik': 19352, 'tomlinson': 19353, 'stealmygirl': 19354, 'soebnlr8re': 19355, 'mitchellharri': 19356, 'immune': 19357, 'tyeonhi': 19358, 'maths': 19359, 'the1dscoop': 19360, 'omy': 19361, 'tdwp327': 19362, 'pigments': 19363, 'extracted': 19364, 'coccus': 19365, 'costa': 19366, 'cochineal': 19367, 'insect': 19368, 'ohhhme': 19369, 'sandpaper': 19370, 'swearingsport': 19371, \"pirlo's\": 19372, 'tennis': 19373, 'shag': 19374, 'vv6mzpq4ju': 19375, 'trickin': 19376, 'girlposts': 19377, 'kenzo': 19378, 'obnoxiously': 19379, 'yrfdaiooyz': 19380, 'czth5nhudu': 19381, 'goodz': 19382, 'seeeeee': 19383, 'glitteryglossy': 19384, 'jmc2488': 19385, 'tb12fan': 19386, 'jakeburnsmfc': 19387, 'officialbskip': 19388, 'daaamn': 19389, 'kingtralle': 19390, 'lpptofmj5r': 19391, 'vqgezmmwws': 19392, 'gle9rsfkwj': 19393, 'caritoguey': 19394, \"02'\": 19395, 'scuffs': 19396, \"12's\": 19397, 'walkerjensen': 19398, 'yaaaasssss': 19399, \"buhlowin'\": 19400, 'darrenrovell': 19401, 'gravweldon': 19402, 'kvzhlmcsls': 19403, 'darion': 19404, 'composure': 19405, 'crawfish': 19406, 'inherribs': 19407, 'bul': 19408, 'roethlisberger': 19409, 'expunged': 19410, 'span': 19411, 'xze0u7guzm': 19412, 'ijustbechillinn': 19413, 'boppin': 19414, 'reaffirms': 19415, 'melissatweets': 19416, \"christie's\": 19417, 'bridgegate': 19418, \"perry's\": 19419, 'matt29': 19420, '38': 19421, 'texarkana': 19422, 'osipbkpr9h': 19423, '252': 19424, 'ber': 19425, 'playboyg': 19426, 'v9ebkqytsu': 19427, 'ihuntgoblins': 19428, 'sinatraa': 19429, 'altosteel115': 19430, 'tm28mh5xg2': 19431, 'renamed': 19432, 'zonedmoan': 19433, 'letmeknow': 19434, 'returnthefavor': 19435, 'illino': 19436, 'candielissa': 19437, 'twitrless': 19438, 'elissareillys': 19439, 'helenkimfitz76': 19440, 'tiathegawd': 19441, 'b6opj6d25y': 19442, \"ian's\": 19443, 'sheboundta': 19444, 'developed': 19445, 'theaveragerocks': 19446, 'snort': 19447, 'whitesidemzu': 19448, 'whispers': 19449, 'commandments': 19450, '85z6pyxgpj': 19451, 'abbey': 19452, 'kuck': 19453, 'bigfatdave': 19454, 'guncontrol': 19455, 'statist': 19456, 'mkl': 19457, 'flyguychanze': 19458, 'spectate': 19459, 'outgoing': 19460, 'atlantic': 19461, 'redundant': 19462, 'funnyogtweets': 19463, 'tyzuro7qr5': 19464, 'dcx': 19465, 'umjpu8gt': 19466, 'chew': 19467, 'footer': 19468, 'chemicalkidss': 19469, 'fqyxljyiet': 19470, 'bigquinn': 19471, 'diego11': 19472, 'volcano': 19473, 'kailanlee': 19474, 'bruuuuuuh': 19475, 'marines1994': 19476, 'daggone': 19477, 'jkbridgeturstraight': 19478, 'ohhwhoops': 19479, 'prints': 19480, 'xbl': 19481, 'nexxx': 19482, 'obrien': 19483, '2fbkhkqija': 19484, 'bamoose': 19485, 'prophet': 19486, 'woxmzrzbrb': 19487, 'manner': 19488, 'victimized': 19489, 'cursed': 19490, 'brethren': 19491, \"let'r\": 19492, 'sarahlevitz': 19493, 'profeten': 19494, \"'m\": 19495, 'niemand': 19496, 'exacte': 19497, 'leeftijden': 19498, 'aicha': 19499, 'opeens': 19500, 'zelfs': 19501, 'oud': 19502, 'rhiannamator': 19503, 'stephanie': 19504, 'fkkk': 19505, 'sez': 19506, 'unfunny': 19507, 'pandering': 19508, 'jizzbag': 19509, 'vakill': 19510, 'nrmc483m': 19511, 'ohso': 19512, 'suiradkilam': 19513, 'sd': 19514, 'redskinsblow': 19515, 'bekysawyer': 19516, 'awwadorabie': 19517, 'w7yr5xklsc': 19518, 'marzzz': 19519, 'jpizzle651': 19520, 'z9cgljtkow': 19521, 'lmmfaooooo': 19522, 'mstseeet4r': 19523, 'yankee7kid': 19524, 'underperformance': 19525, 'umps': 19526, 'allan': 19527, 'gatorades': 19528, 'puddings': 19529, 'pringles': 19530, '2live': 19531, 'michelebachmann': 19532, 'kncwbpc8ez': 19533, 'kylereinders': 19534, 'lvrking': 19535, 'emilyfaye2': 19536, 'signature': 19537, 'profusely': 19538, 'offensively': 19539, 'bitchhh': 19540, 'luis3baez': 19541, 'belle': 19542, 'spoilt': 19543, 'ohwell': 19544, 'islands': 19545, 'tlkn': 19546, 'lamp': 19547, 'fussy': 19548, 'weeknds': 19549, 'gothic': 19550, 'mshomicide': 19551, 'tommyshiner': 19552, 'bishop': 19553, 'screenshotting': 19554, 'powlengmawi': 19555, 'nakalagay': 19556, 'ng': 19557, 'handout': 19558, 'tapos': 19559, 'lalagay': 19560, 'pad': 19561, 'qtiteze7bh': 19562, 'nudhr': 19563, 'awad': 19564, 'excellent': 19565, 'sociological': 19566, 'yungbabydad': 19567, 'randallsomia': 19568, 'violate': 19569, 'chrisfromwalmart': 19570, 'l0xtpsig8z': 19571, 'niamani': 19572, 'clemheem': 19573, 'ood1r2wvu6': 19574, 'danicafjelstul': 19575, 'realistt': 19576, 'squirtology': 19577, 'xoo7ajnd8y': 19578, 'ladarinaintshit': 19579, 'jalapenobright': 19580, 'r9gmmimako': 19581, 'cactus': 19582, 'thatscomplex': 19583, 'uhaon0tjdw': 19584, 'thebatman': 19585, 'halftimespeech': 19586, 'ming': 19587, 'mhs': 19588, 'nomeatballs': 19589, 'glorify': 19590, 'walkerkpt': 19591, 'prediction': 19592, 'shambles': 19593, 'gosh': 19594, 'chynaakdave': 19595, 'meldigio': 19596, \"y'alls\": 19597, 'dopeboy': 19598, 'ryantravers1': 19599, 'fend': 19600, 'manpower': 19601, 'nerdkiller669': 19602, 'shareefkeyes': 19603, 'treadmill': 19604, 'therealwesjames': 19605, 'bayjackson3': 19606, 'f0pgdalfaa': 19607, 'santagati': 19608, 'visionary': 19609, 'tokyojetz': 19610, \"settin'\": 19611, 'esq': 19612, 'phallic': 19613, 'wibbler': 19614, 'relentiessness': 19615, 'gbr2yv669y': 19616, 'downie': 19617, 'mimosas': 19618, 'carrahs': 19619, 'elmaestro1': 19620, 'clicquot': 19621, 'stripey': 19622, 'starkville': 19623, 'zaytovenn': 19624, 'shiddd': 19625, 'iwantfranny': 19626, 'cpt': 19627, 'prtini': 19628, 'pr20chat': 19629, 'eze12373': 19630, 'oooooo': 19631, '9dqlu7dzry': 19632, 'patties': 19633, 'acaciamakayla': 19634, 'capuano': 19635, 'ipynkaqufz': 19636, 'statuses': 19637, 'tb1tmsvtrq': 19638, 'sunyhd': 19639, 'abouta': 19640, '30pm': 19641, 'reaaallly': 19642, 'reddroostermann': 19643, 'poked': 19644, 'fredseviltwin': 19645, 'leen': 19646, 'thatnycshit': 19647, 'bitchesbelike': 19648, 'newyorkgirlsbelike': 19649, 'hoodbitches': 19650, 'akelvoneal': 19651, 'fraud': 19652, 'sassymermaidxo': 19653, 'mdflbr': 19654, 'vbar': 19655, 'stmarksplace': 19656, 'eastvillage': 19657, 'richmahogany': 19658, 'piubuqxb9y': 19659, 'jc2theq': 19660, 'thevrefs': 19661, 'slanguage': 19662, 'encrusted': 19663, 'expressing': 19664, 'mxbgfpvicf': 19665, 'webantonyt': 19666, 'basedjane': 19667, 'annalise': 19668, 'brotherdiabeats': 19669, 'cuzzo': 19670, 'blackbeauty515': 19671, 'ufywcc9xci': 19672, 'gregyballs': 19673, 'calles': 19674, 'acmobbdeep': 19675, 'madsbennett': 19676, 'h8uqdrjecb': 19677, 'thoughtkendali': 19678, 'lk8w8jjgli': 19679, 'eaterrrrrrrrr': 19680, 'offends': 19681, 'suddenly': 19682, 'soiknowitsreal': 19683, 'outlawed': 19684, 'rediculed': 19685, 'vilified': 19686, \"president's\": 19687, 'amusement': 19688, 'fratfession': 19689, 'sigma': 19690, 'epsilon': 19691, 'thekitchensheat': 19692, 'errrrything': 19693, 'jello': 19694, 'andhiphop': 19695, 'acne': 19696, 'ballininhd': 19697, 'justfemaie': 19698, 'cheatingadvice': 19699, 'natezoo919': 19700, 'seantheterrible': 19701, 'accordingly': 19702, 'meathead': 19703, 'freddurst': 19704, 'iec6bdqzow': 19705, 'toma': 19706, 'eso': 19707, 'panama': 19708, 'khole': 19709, 'raul': 19710, 'leura': 19711, 'candid': 19712, 'hidden': 19713, 'ikpj0etz71': 19714, 'sariyadaniellee': 19715, 'sues': 19716, 'y0sja0dyfm': 19717, 'tweetmetfout': 19718, 'kodydgpgja': 19719, 'lavintagetribe': 19720, 'coles': 19721, 'immigrant': 19722, 'medellin': 19723, 'marielevisual': 19724, 'trapmama': 19725, 'boobiejohnson': 19726, 'shadows': 19727, 'darkest': 19728, 'tikiti': 19729, 'ashtray': 19730, '8ze8aqy0': 19731, 'tinypinkisboss': 19732, 'jennybaquing': 19733, 'centered': 19734, 'gr8': 19735, 'reshell': 19736, 'fp3r6mkbac': 19737, 'bsa': 19738, 'theboondocks': 19739, 'residents': 19740, '3carryonitems': 19741, 'gran': 19742, 'serves': 19743, 'shool': 19744, 'kati': 19745, 'dupree843': 19746, '1upxvdjjna': 19747, 'csnchicago': 19748, 'bullstalk': 19749, 'kurdish': 19750, 'bomber': 19751, 'kobane': 19752, 'undermines': 19753, 'mythology': 19754, 'colleges': 19755, 'gaggle': 19756, 'whyyyyy': 19757, 'voguet': 19758, 'anat': 19759, 'ndmelhuwcg': 19760, 'jewelry': 19761, 'bugout': 19762, 'nipping': 19763, 'rbojwlariq': 19764, 'twig': 19765, 'ramonastewart': 19766, 'yahariah': 19767, 'septicais': 19768, 'qpzx198vnt': 19769, 'boooooi': 19770, 'tmi': 19771, 'upenn': 19772, 'inspected': 19773, 'products': 19774, 'justdome': 19775, '128664': 19776, 'impresses': 19777, 'bjwalkinrivers': 19778, 'arella': 19779, 'pedicures': 19780, 'mediocre': 19781, 'basura': 19782, 'littlelinnda': 19783, 'floridalex51': 19784, 'pummel': 19785, 'clearlyspoken': 19786, 'bxtches': 19787, 'lowworldsfinest': 19788, 'yid': 19789, 'nid': 19790, 'omer': 19791, 'asik': 19792, 'murky': 19793, 'isu': 19794, 'ticker': 19795, 'twtr': 19796, 'bepatient': 19797, \"link's\": 19798, 'honeyydip': 19799, 'gingersospicy': 19800, 'highofftatianna': 19801, 'mrzsixtrue': 19802, 'gangstaz': 19803, 'wives': 19804, 'leczepivs7': 19805, 'veronicalewis': 19806, 'squander': 19807, 'swaggy': 19808, 'bigmeat2000': 19809, 'deepthroatmike': 19810, 'h5matjyfga': 19811, 'alatrice16': 19812, 'bride': 19813, 'mlvassallo': 19814, 'savin': 19815, 'huggins': 19816, 'massah': 19817, 'luvin': 19818, \"jamammi's\": 19819, 'fakin': 19820, 'funk': 19821, 's5wznkhjw4': 19822, 'vanluvz1': 19823, \"we'd\": 19824, 'karina': 19825, 'lanemichelle': 19826, 'kickit': 19827, 'reevesjunya': 19828, 'miavenise': 19829, 'stewart9': 19830, 'g0ldeng0ddess': 19831, 'marriott': 19832, 'desean': 19833, 'freefaceridess': 19834, 'lzlunyh5xo': 19835, 'xk1rpf1npy': 19836, 'davidly62793584': 19837, 'taughtmeh': 19838, 'tearing': 19839, 'groundzero1984': 19840, 'gamer': 19841, 'os': 19842, 'malloryynfante': 19843, 'turtlewoman777': 19844, 'respectors': 19845, 'unthawed': 19846, 'xernee18': 19847, 'wednesdaydreams': 19848, 'miseducated411': 19849, 'kingdom': 19850, 'yahshua': 19851, 'ekepsjwcyu': 19852, 'jameswinfield': 19853, 'eaglesfan167': 19854, '5hrs': 19855, 'polarisclub': 19856, 'loyalist': 19857, 'plea': 19858, 'ktthegod': 19859, 'revaluate': 19860, 'strung': 19861, 'pragathiguru': 19862, 'viswa': 19863, 'moulie': 19864, 'antiheroko': 19865, 'vinnycrack': 19866, 'dhrvcnrr1h': 19867, 'scrape': 19868, 'keltor': 19869, 'phuneas': 19870, 'candace': 19871, 'sentences': 19872, 'checkmyaura': 19873, 'malik07': 19874, 'alaquannd': 19875, '251': 19876, 'rs': 19877, 'atspace': 19878, 'mrredmartian': 19879, 'reeks': 19880, 'lexluthordaking': 19881, 'soulmates': 19882, 'vinladen2': 19883, 'allowance': 19884, 'singl': 19885, 'tunechi': 19886, 'playersmy': 19887, 'shooter': 19888, 'iph': 19889, 'unholy': 19890, 'melobaby': 19891, 'qs': 19892, 'pixie': 19893, 'monnetteee': 19894, 'romeo': 19895, 'opwarriorteam': 19896, 'militarymonday': 19897, '9dv04wk': 19898, 'senseiquan': 19899, 'superficial': 19900, 'kin2p59nje': 19901, \"mtzra'ym\": 19902, 'inheritance': 19903, 'ethiopians': 19904, 'mitchsunderland': 19905, 'superhe': 19906, 'elenaraquel': 19907, 'izzayy': 19908, 'codelez': 19909, 'jaydokter': 19910, 'xa48tcxiao': 19911, 'everyo': 19912, 'asiacakesss': 19913, 'microwaveable': 19914, 'slickem': 19915, 'igggggy': 19916, 'yoi': 19917, 'cuzzints': 19918, 'bol1dby4ol': 19919, 'ummmsassy': 19920, '3m1brilvfp': 19921, 'asserted': 19922, 'yesallwomen': 19923, 'p6v3xpxnrz': 19924, '128560': 19925, '128122': 19926, 'dalli': 19927, 'sr0chfxl4g': 19928, 'tourists': 19929, 'meadow': 19930, 'gasping': 19931, 'matress': 19932, 'retrolivin': 19933, 'burdis': 19934, 'nickgoldapp': 19935, 'nebraska': 19936, 'feztht70s': 19937, 'owne': 19938, 'weightiifters': 19939, 'rubs': 19940, 'michellecole': 19941, 'snortcourt13': 19942, 'tripleaaayy1995': 19943, 'allen21': 19944, 'jbake0622': 19945, 'shakiraevanss': 19946, 'criticize': 19947, 'fuuuck': 19948, 'mrlondon': 19949, 'awjdyd8uzk': 19950, 'amburger': 19951, 'ismashedyogurl': 19952, 'jonathan': 19953, 'justkorey': 19954, 'chasencashe': 19955, \"tap'n\": 19956, 'thenymphotweets': 19957, 'hickies': 19958, 'levar': 19959, 'burton': 19960, 'shatner': 19961, 'millz5': 19962, 'spotlightasiaa': 19963, 'snapped': 19964, 'glkgtqig15': 19965, 'konnnichiwa': 19966, 'havana': 19967, 'plsfl84cdp': 19968, 'iftheygunnedmedown': 19969, 'xwmkac1aw6': 19970, 'toolbox': 19971, 'adrianmayer99': 19972, 'josephnoonan2': 19973, 'backed': 19974, 'babyy': 19975, 'moaaaanin': 19976, 'rnic': 19977, 'trishaann': 19978, 'hov': 19979, 'ashlynohma': 19980, 'dmd': 19981, 'favalorogfavs': 19982, 'wenh08': 19983, 'erybdyhatesriss': 19984, 'sarcasm': 19985, 'ch4bricktamland': 19986, 'ch4brianfantana': 19987, 'hiiphop': 19988, 'watchmyjumper': 19989, 'whitish': 19990, 'tp': 19991, 'freeblazegawd': 19992, 'lmsoooo': 19993, 'wolves': 19994, 'askdems': 19995, 'caucus': 19996, 'subordinate': 19997, 'daiya': 19998, 'nagore': 19999, '7a44fxx8oy': 20000, 'polliepopthadj': 20001, 'onlyy': 20002, 'fuckked': 20003, 'whamm': 20004, 'fridays': 20005, 'honking': 20006, 'meyakardashian': 20007, 'dayd': 20008, 'kxngtae': 20009, 'getyourlife': 20010, 'nbnbgycfmi': 20011, 'ehavior': 20012, 'gerry': 20013, '6lyzrxj5wn': 20014, 'ashactually': 20015, 'suave': 20016, 'mfer': 20017, 'quavostuntin': 20018, 'sssshhhhh': 20019, '1starflow': 20020, 'dadee': 20021, '6wi3epalwo': 20022, 'sorryimnicki': 20023, 'pubes': 20024, 'deprecating': 20025, 'straights': 20026, 'allies': 20027, 'lakeshow73': 20028, 'optimism': 20029, 'enxadasfelipe': 20030, 'kayci': 20031, 'cal': 20032, 'alanah': 20033, 'coding': 20034, 'snorted': 20035, 'presence': 20036, 'coworkers': 20037, 'denzel': 20038, 'weighing': 20039, '145lbs': 20040, 'nobodyknowshisrace': 20041, 'jesscorsoncle': 20042, 'sitter': 20043, 'northeast': 20044, 'clepets': 20045, 'clevelan': 20046, 'cumkwats': 20047, 'cooch': 20048, 'itching': 20049, 'uti': 20050, 'stilettos': 20051, '61zy8cc47j': 20052, 'firestone': 20053, \"guy's\": 20054, 'swirlg0ddess': 20055, 'truefriendtuesday': 20056, '7dsz3vcysz': 20057, 'dlogue22': 20058, 'lipstickjovie': 20059, 'beyoncehair': 20060, 'omgggg': 20061, 'drslaten': 20062, 'hackers': 20063, 'shoplifters': 20064, 'tataaa': 20065, 'dieing': 20066, 'x1qgftkb4o': 20067, 'jacey': 20068, 'bff': 20069, 'overdue': 20070, 'biiimurray': 20071, 'storage': 20072, 'spacecraft': 20073, 'jonica': 20074, '55th': 20075, 'patisdope': 20076, 'dliming35': 20077, 'heykeifer': 20078, 'mike97': 20079, 'pounding': 20080, 'pulsing': 20081, 'thrills': 20082, 'lvodrmiwih': 20083, 'eda': 20084, 'gzzrzjvvlv': 20085, 'airjack3': 20086, 'saggy': 20087, 'sullystyle': 20088, 'c3n6vkd0': 20089, 'blinkers': 20090, 'moveoutmyway': 20091, 'fur': 20092, 'gla': 20093, 'rooster': 20094, 'mcsully': 20095, 'chrisworldpeace': 20096, 'drastically': 20097, 'rescued': 20098, 'ad7yy4cuqt': 20099, 'roasts': 20100, 'publishes': 20101, 'hvvfxypmhm': 20102, 'blooded': 20103, 'devydevblack': 20104, 'tbhjust': 20105, '128227': 20106, 'oddess': 20107, \"tyler's\": 20108, 'aaliyahh': 20109, 'ideepudj': 20110, 'instating': 20111, 'kvioaiepcb': 20112, 'willyc14': 20113, 'urbie': 20114, 'singlebecause': 20115, 'tgold32': 20116, 'connorbradley': 20117, 'robbin': 20118, 'schoolboyg': 20119, 'dreamvillainous': 20120, 'samistonge': 20121, 'kenobino': 20122, 'shoveling': 20123, 'californiadmv': 20124, 'amyalkon': 20125, 'admins': 20126, \"kids'\": 20127, 'funds': 20128, 'chloeforsale': 20129, 'wigg': 20130, 'kyleefagnola': 20131, 'iammarshall27': 20132, 'vzwsupport': 20133, 's3': 20134, '4g': 20135, 'flossinlawson11': 20136, 'headace': 20137, 'summ': 20138, 'jm4biagxu8': 20139, '3cij': 20140, 'odlew11': 20141, 'starzz2929': 20142, 'ieatheartsbitch': 20143, 'conrad': 20144, 'doinv': 20145, 'lightskinned': 20146, 'gremlin': 20147, 'gjulio34': 20148, 'heterochromia': 20149, 'iridum': 20150, 'itsmeekmill': 20151, 'kingteej': 20152, 'mlrt': 20153, 'jgabsss': 20154, 'stacey': 20155, 'pdlg46rjol': 20156, 'evaaaa': 20157, 'notesforgirlz': 20158, 'd4opanpwzb': 20159, 'peopletoavoid': 20160, 'nypost': 20161, 'ved4yyztok': 20162, 'hahahahahah': 20163, '6kn7pztgl8': 20164, 'vhfbltqlnv': 20165, 'goldkamp247': 20166, 'spurrier': 20167, 'sorta': 20168, 'payroll': 20169, 'targeted': 20170, 'realthreat': 20171, 'nv5qbzaviv': 20172, 'uuuup': 20173, 'oghm5uyvuc': 20174, 'manor': 20175, 'zs05enjjwm': 20176, 'teammates': 20177, 'dimelouxaoh': 20178, 'austinrea': 20179, 'christopher': 20180, 'pitched': 20181, 'maddiekreykrey': 20182, 'cbahf9r9xd': 20183, 'recession': 20184, 'danielgennaoui': 20185, 'gi2rrlgro6': 20186, 'wildlife': 20187, 'racked': 20188, 'diggins86': 20189, 'itssdaviddd': 20190, 'rell1hundo': 20191, 'hipotle': 20192, 'teeeerenee': 20193, 'relavent': 20194, 'pattern': 20195, 'bac': 20196, 'certainlt': 20197, 'paddies': 20198, 'shvkeir': 20199, 'suess': 20200, 'godiva': 20201, 'osypnadyto': 20202, 'tweetz': 20203, 'ronsonsolaqa': 20204, '8madf35zxe': 20205, 'rocketeer': 20206, 'cardboard': 20207, 'carries': 20208, 'fleeing': 20209, 'tidyterrorist': 20210, 'sb3u1xpeg4': 20211, '92flicl627': 20212, \"mom's\": 20213, 'arena': 20214, 'iwaited5yearsforfobandiallgotwasthisshittyarena': 20215, 'sykeeee': 20216, 'boogawolf': 20217, 'westyourmajesty': 20218, 'thebravebird': 20219, 'yourenotmytype': 20220, 'fresher': 20221, 'pennsylvanians': 20222, 'itsdollycouture': 20223, 'oijizl0naf': 20224, 'nudesaremylife': 20225, 'beeee': 20226, 'bonnet': 20227, 'dewd': 20228, 'jakiekoelewijn': 20229, 'littlecbeadles': 20230, 'tajacasanova': 20231, 'macy': 20232, 'engweiler': 20233, 'nataiiaxxx': 20234, 'phatsyeo215': 20235, 'e96cq8kkbo': 20236, 'akayankeee': 20237, '36': 20238, 'staggering': 20239, 'chulo25': 20240, 'montreal': 20241, 'brussels': 20242, 'cheddar': 20243, 'chives': 20244, 'xsgw1ksqcw': 20245, 'mervin': 20246, 'skrabah': 20247, 'jyw85vmp8k': 20248, 'noshtickzone': 20249, 'kuntakayne': 20250, 'disperse': 20251, 'bassem': 20252, 'masri': 20253, 'nezzie': 20254, 'nezz': 20255, 'fixupmayte': 20256, 'vainhumility': 20257, 'littledebbie': 20258, 'ooilml6m': 20259, 'boutcrazed': 20260, 'cartels': 20261, 'crackhead': 20262, 'sbpart01': 20263, 'melodybrooke11': 20264, 'nests': 20265, 'downspouts': 20266, 'manichakr': 20267, 'itni': 20268, 'bahaduri': 20269, 'hamesha': 20270, 'marne': 20271, 'tayyar': 20272, 'rehte': 20273, 'genetnbarockbox': 20274, 'jumpin': 20275, 'roodawg1971': 20276, 'mrfayoh': 20277, 'khanye': 20278, 'sas2afoundation': 20279, 'chirpin': 20280, 'itwas': 20281, 'jrsmith12': 20282, 'jaynovel': 20283, 'mesquito': 20284, 'poped': 20285, 'phocus': 20286, 'bossshltonly': 20287, 'o7uskcmfcd': 20288, 'chillroppy': 20289, 'bvdgxl': 20290, '2z2jlzyjum': 20291, 'rebelganja': 20292, 'ashlynnfullmer': 20293, 'ueqoeylafp': 20294, 'lmfaaoo': 20295, 'lexhound': 20296, '87pest': 20297, 'pickers': 20298, 'unselfish': 20299, 'existentialism': 20300, 'depth': 20301, 'mtvhottestlanadelrey': 20302, 'seanmdav': 20303, 'blakehounshell': 20304, 'barrels': 20305, 'denzie': 20306, 'clapclapclap': 20307, 'lakeshowqueen': 20308, 'koktvopvp1': 20309, 'bsoyll83iz': 20310, 'x6koqsvcua': 20311, 'agdacoroner': 20312, 'iwlag2j5sl': 20313, \"'every\": 20314, \"it'\": 20315, 'joeo670': 20316, 'bernsein': 20317, 'bernstine': 20318, 'threesomethursdays': 20319, '7xwop3y2': 20320, 'illbreatheyouin': 20321, 'gqf2dombtd': 20322, 'gypmatic45': 20323, 'newsfeed': 20324, 'basedlarock': 20325, 'thedondrew': 20326, 'premiumpete': 20327, 'mw9qxg3vfw': 20328, 'prrskknqrv': 20329, 'basedgvbe': 20330, 'stormydaniels': 20331, 'filing': 20332, 'ispfemme': 20333, '1tzpbhgmhp': 20334, 'rtgifs': 20335, 'dominique': 20336, '360': 20337, 'vs6e3z0c2u': 20338, 'blessedale': 20339, 'danwolken': 20340, 'integrity': 20341, 'a29mllx62b': 20342, 'drestiles': 20343, 'saira': 20344, 'legislature': 20345, 'v01w8uamjy': 20346, 'katey': 20347, 'voka': 20348, 'xendaya': 20349, 'crazzzy': 20350, '1976': 20351, 'fixit': 20352, 'nreid27': 20353, 'ebonyrogue': 20354, 'tierra': 20355, 'mannypacquiao': 20356, 'linguini': 20357, 'fancily': 20358, 'teenage': 20359, 'drknioe6vh': 20360, 'stopsavinthesehoes': 20361, 'manbeardrgn': 20362, 'unqualified': 20363, 'appeal': 20364, 'smokedoutquille': 20365, 'zbuo9zoj2e': 20366, 'ojvrdy': 20367, 'bloked': 20368, 'thebikeman99': 20369, 'nanticoke': 20370, 'attended': 20371, 'lehigh': 20372, 'deeeez': 20373, 'crackerjhak': 20374, 'leeniepunkin': 20375, 'qkk26wyvfc': 20376, 'shameless': 20377, 'bugoutsss': 20378, 'unis': 20379, 'tent': 20380, 'spendin': 20381, 'morningstusesh': 20382, '10aminfairview': 20383, 'guiltyzoe': 20384, 'joecaroselli1': 20385, 'clods': 20386, 'toetancchamon': 20387, 'checken': 20388, 'ging': 20389, \"zo'n\": 20390, 'heftige': 20391, 'wond': 20392, 'verwacht': 20393, 'heftig': 20394, 'sterkte': 20395, 'beterschap': 20396, 'hoor': 20397, 'schooldance': 20398, 'duval': 20399, 'mikepps': 20400, 'principal': 20401, 'joyce': 20402, 'peasant': 20403, 'ceoo': 20404, 'posltlvevlbe': 20405, 'mrheadlock101': 20406, 'ispeakespinal': 20407, 'seing': 20408, 'youse': 20409, 'fvfx': 20410, 'numerous': 20411, 'amounts': 20412, 'wendygav': 20413, 'promoting': 20414, 'dolt': 20415, 'dispossession': 20416, 'v14jktlz': 20417, 'reconquista': 20418, 'iifetip': 20419, '40w2a8qlby': 20420, 'prima': 20421, 'doma': 20422, 'focal': 20423, 'wacthh': 20424, 'taywest': 20425, '39yopnqqau': 20426, 'leche14': 20427, 'ucejayy': 20428, 'badgaltitii': 20429, 'markhoppus': 20430, 'mmy': 20431, 'flavio': 20432, 'deuces': 20433, 'pcmvjqxmuz': 20434, \"answer's\": 20435, 'mayoral': 20436, 'rwhgmrlazx': 20437, 'coreyroyalty': 20438, 'gigantic': 20439, 'alternate': 20440, 'lhhatl': 20441, 'nobetternoworst': 20442, 'swahili': 20443, 'suaw': 20444, 'mars': 20445, 'debarge': 20446, 'sodaa': 20447, 'brownandspicey': 20448, '0qc5mz3pdl': 20449, 'rosta': 20450, 'cloydriverspics': 20451, \"flowin'\": 20452, \"shown'\": 20453, 'shotgunned': 20454, 'mer': 20455, 'osay': 20456, 'fangsbites': 20457, 'the506': 20458, 'tkm8l9ty': 20459, 'identified': 20460, 'abdurahman': 20461, 'britani': 20462, 'ksowd8rrck': 20463, 'grwn': 20464, 'loven': 20465, 'guapoaficionado': 20466, 'bitchkittyv': 20467, \"'95\": 20468, 'utes': 20469, 'playboy': 20470, 'hipsters': 20471, 'ants': 20472, 'sneweather': 20473, 'tiredoftyranny': 20474, 'commander': 20475, 'roadside': 20476, 'detonate': 20477, 'hollygroveshawn': 20478, 'theasacrawford': 20479, 'longexposure': 20480, 'lightwriting': 20481, 'um8lbsd6p9': 20482, 'genuinelyot': 20483, \"wiz's\": 20484, 'beautysraj': 20485, 'g6xgmaqk52': 20486, 'reiddh': 20487, 'j0shlegend': 20488, 'contribution': 20489, 'financial': 20490, 'forrt': 20491, 'choosable': 20492, 'willmcavoyacn': 20493, 'firstworldproblems': 20494, 'juxtaposition': 20495, 'evettecoleman': 20496, 'curing': 20497, 'forthebros': 20498, 'nbyjumikqa': 20499, 'doestaxxx': 20500, 'sus': 20501, 'kourtne': 20502, 'dinora': 20503, 'javelinablue': 20504, 'mdjacksondallas': 20505, 'kennettdems': 20506, 'aireekatk': 20507, 'vienna': 20508, 'yy1gj6oeds': 20509, 'pussay': 20510, 'usgiazsdwv': 20511, 'imsosouthern706': 20512, 'alledged': 20513, 'frenchman': 20514, 'algeria': 20515, 'trapfui': 20516, 'sven': 20517, 'hij': 20518, 'lichter': 20519, 'kleur': 20520, 'beter': 20521, 'kompas': 20522, 'werkt': 20523, 'kleurenblind': 20524, 'allymarshalll': 20525, 'riddance': 20526, 'deqbjlftxz': 20527, 'sion': 20528, 'mao': 20529, 'jeffblogwell': 20530, 'menstrual': 20531, 'pads': 20532, 'theatlantic': 20533, 'escapes': 20534, 'q9yuyvel': 20535, 'theatlanticwire': 20536, \"'2'\": 20537, 'ostfobgufa': 20538, 'espnnewyork': 20539, 'nerdlifethuggin': 20540, 'lawtooraw': 20541, 'xa5ing0sc6': 20542, 'bugging': 20543, 'athietechamp': 20544, 'fanduel': 20545, 'juliadbrock': 20546, 'fg': 20547, 'impacted': 20548, 'deflect': 20549, 'iambobo': 20550, 'gonorrhea': 20551, 'realityybites': 20552, 'rj1vix7vcz': 20553, 'callmedaishaa': 20554, 'pocahontas': 20555, 'alliebruner': 20556, 'uncles': 20557, 'tropicalkyle': 20558, 'toodles': 20559, 'daaamian': 20560, 'visible': 20561, 'uglyhxes': 20562, 'chyna': 20563, 'pricklypear': 20564, 'fa02a3avxq': 20565, 'shrinks': 20566, 'jessicacassell1': 20567, 'spiritweek': 20568, 'badonkadonks': 20569, 'dontcallmekyrie': 20570, 'chinitaaah': 20571, 'strippin': 20572, 'blrn8dzya3': 20573, '1b822azxiq': 20574, 'megynkelly': 20575, 'autopsies': 20576, 'tattedbrunettex': 20577, 'deedee': 20578, \"timmy's\": 20579, 'asaplex': 20580, 'drugssss': 20581, 'dawgs': 20582, 'dopekorean': 20583, 'thesexiertwin': 20584, 'leaf': 20585, 'arsed': 20586, 'nisa': 20587, 'nikkilenn': 20588, 'saggin': 20589, 'goatideas': 20590, 'frappuccino': 20591, 'o3qj8m1nff': 20592, 'bailed': 20593, 'sammyk1429': 20594, 'fvckteej': 20595, 'cooney': 20596, 'uknow': 20597, 'happenings': 20598, 'prettymillz': 20599, 'ysl': 20600, 'stephencdo': 20601, 'potosino': 20602, 'talibanshawtyy': 20603, 'bullshitin': 20604, 'chughes717': 20605, 'greeted': 20606, 'shantaughtuwell': 20607, 'infrastructure': 20608, 'misread': 20609, 'marmalade': 20610, 'greatful': 20611, 'postietweet': 20612, 'servicematters': 20613, 'psengvyxrw': 20614, 'chriscarlinsny': 20615, 'l7lhrusg3n': 20616, 'snowman': 20617, 'nohazardnoparty': 20618, 'pibbzyx': 20619, 'mclaren': 20620, 'dexfrost23': 20621, 'lexi': 20622, 'ksamx1jpfv': 20623, 'activism': 20624, 'desolation': 20625, 'smaug': 20626, 'bilbo': 20627, 'hobbits': 20628, 'lotr': 20629, 'haggling': 20630, 'capitalism': 20631, 'receatter': 20632, 'indiegamepickuplines': 20633, 'migosatl': 20634, 'betterlatethannever': 20635, 'biebs': 20636, \"choosin'\": 20637, 'spammed': 20638, \"'why\": 20639, \"lie'\": 20640, 'donefeedup': 20641, 'delbert': 20642, 'belton': 20643, 'maryforbes14': 20644, 'enemiesofdonnaj': 20645, 'stephannanson': 20646, 'shrug': 20647, 'fandomapology': 20648, '5sosfamand1dfandomfollowparty': 20649, 'schoolgirl': 20650, 'minami': 20651, 'asaka': 20652, 'dnxblkrq45': 20653, 'jhene': 20654, 'aiko': 20655, 'drewbrees': 20656, 'czarzellem': 20657, 'vuiture': 20658, '5etorg5gbt': 20659, 'chrisprobst11': 20660, 'thorsyndirgard': 20661, 'mattancheyta': 20662, 'eyelid': 20663, 'spasming': 20664, 'mascara': 20665, 'jaygorgeous': 20666, 'cocakoula': 20667, 'feenin': 20668, 'koula': 20669, 'devonceeknowles': 20670, 'elxi5kys5b': 20671, 'organizing': 20672, 'chloe': 20673, '4p3mk58gc4': 20674, 'biz': 20675, 'bumps': 20676, 'admirable': 20677, 'birdddd': 20678, 'nikkiinick22': 20679, 'danilonavarro85': 20680, 'eclojovwg7': 20681, 'gostampsgo84': 20682, 'kg4hunnid': 20683, 'genosmith7': 20684, 'ht9szl3b24': 20685, 'pappadeaux': 20686, 'scampi': 20687, 'qfqyc7g7px': 20688, 'jazz': 20689, 'corporations': 20690, 'realthickjazz': 20691, 'thatsryann': 20692, 'zonozi': 20693, 'salamancode': 20694, 'rhjsll9i9f': 20695, 'blisstabitha': 20696, 'homeowner': 20697, 'attacked': 20698, 'vluewugclg': 20699, 'kingkwama': 20700, 'jerryrscuba': 20701, 'motown': 20702, 'differentials': 20703, 'robfee': 20704, 'narcissistic': 20705, 'counton24': 20706, 'helll': 20707, 'paulyy2': 20708, 'chr': 20709, 'chaannyyyy': 20710, 'cart': 20711, 'yeeyee': 20712, 'mowder03': 20713, 'emilie': 20714, 'runofplay': 20715, 'ronkieshietta': 20716, 'brandonondrums': 20717, 'damm': 20718, 'grader': 20719, \"usin'\": 20720, 'weavetrip': 20721, 'sails': 20722, 'sufaj32': 20723, 'cargo': 20724, 'trevso': 20725, 'istandy': 20726, 'garytweets': 20727, 'punny': 20728, 'garricka': 20729, 'sandiego': 20730, 'qmuiepcljc': 20731, 'orlando': 20732, 'bumpy': 20733, 'kaaarlizzy': 20734, 'livinglegend10': 20735, 'herlipstho': 20736, 'keepupwithle': 20737, 'xkyo6drmsh': 20738, 'breakkkk': 20739, 'shoryy': 20740, 'yupp': 20741, 'qluuajl': 20742, 'f5': 20743, 'mraugustaisina': 20744, '9pm': 20745, 'franquitouno': 20746, '2fj7wrdtq3': 20747, 'bayonettes': 20748, \"som'n\": 20749, '9ld1hwz1bu': 20750, 'fountains': 20751, 'bitchassness': 20752, 'moedeloach': 20753, 'dreamgirl': 20754, 'mckee': 20755, 'wooonnnttt': 20756, 'yaaasss': 20757, 'lovemsliz': 20758, 'megankjanes23': 20759, 'richardengel': 20760, 'thefunnyvine': 20761, 'cagp3niofd': 20762, 'brothaluke': 20763, 'expand': 20764, 'missyy': 20765, 'dontouch': 20766, 'skulls': 20767, 'vcsnp9ejv9': 20768, '1captaindrew': 20769, 'supp': 20770, 'misterdimmadome': 20771, 'spiked': 20772, 'hollerin': 20773, 'a1sdhby8xt': 20774, 'dodging': 20775, '9o31krmeso': 20776, 'deodorant': 20777, 'landonvanbus': 20778, 'ballsack': 20779, 'frankthefob': 20780, 'primo': 20781, 'sept': 20782, 'michiganst': 20783, 'nicky0472': 20784, 'rickahyatt': 20785, 'manchurian': 20786, 'amigo': 20787, 'eatmytattoos': 20788, 'lissette': 20789, 'glz': 20790, 'iamsaintbryan': 20791, 'bowersocknick': 20792, 'scruffy': 20793, 'favourite': 20794, 'mrhoopa23': 20795, 'gill': 20796, 'tournament': 20797, 'elated': 20798, 'creative': 20799, 'protegykid': 20800, 'dfosx3xkqa': 20801, 'gotdayum': 20802, 'sophhh': 20803, 'hermione': 20804, 'chamber': 20805, 'twerkteam': 20806, 'beefin': 20807, 'dealer': 20808, 'cackling': 20809, 'baddiewhitt': 20810, 'mirijuana': 20811, 'lmaoooooooooooooooooooo': 20812, 'kidnoble': 20813, 'believing': 20814, 'oitnbhumor': 20815, '0yzgrtegaq': 20816, 'induztriouz': 20817, 'believer': 20818, 'joystick': 20819, 'cx': 20820, 'tiara': 20821, 'rachelle': 20822, 'hydrant': 20823, 'lizzardjurado': 20824, 'b10oreo': 20825, 'ooze': 20826, '7dbmdas6om': 20827, 'tnd': 20828, 'atrocities': 20829, 'auramea': 20830, 'verses': 20831, 'norma': 20832, 'lagerfeld': 20833, 'changin': 20834, 'jank': 20835, 'foles': 20836, '9ers': 20837, 'whatabarber': 20838, 'cohwer': 20839, 'stanford': 20840, 'hiteshrangra': 20841, 'kejriwal': 20842, 'yok': 20843, 'beaviscumia': 20844, 'jimmysdong': 20845, 'emmskayy': 20846, 'pedestal': 20847, 'careers': 20848, \"boston's\": 20849, 'brotherhood': 20850, '4ifjwoesdr': 20851, 'yourhoesstink': 20852, 'theracistdoctor': 20853, 'drew4130': 20854, 'mailgal2000': 20855, 'sewer': 20856, 'bkbap': 20857, 'contributes': 20858, 'politsoutherner': 20859, 'leahmeyer49': 20860, 'moderation': 20861, 'empresstata': 20862, 'affair': 20863, 'hollywoood': 20864, 'hotphillyboi': 20865, 'zcjlhvshoz': 20866, 'mlperkinsjr': 20867, 'kinglute': 20868, 'welldamndymo': 20869, 'yourside': 20870, 'gdkelijah': 20871, 'xr0hgold5m': 20872, 'ammo': 20873, 'sarabiaerik': 20874, 'zachreini': 20875, \"molly'd\": 20876, \"mornin'\": 20877, 'ribo333': 20878, 'secupp': 20879, 'savannah': 20880, 'cimarron': 20881, 'allll': 20882, \"'lawlessness'\": 20883, 'qptreda6yv': 20884, 'nom': 20885, 'douchekevin': 20886, 'jizzatthescene': 20887, 'argylegray': 20888, 'flowcity': 20889, 'overpowered': 20890, 'igg': 20891, 'aired': 20892, 'dickheads': 20893, 'liiilbxrde': 20894, 'elisabethepps': 20895, 'lexus': 20896, 'johnel': 20897, 'metro': 20898, 'closing': 20899, 'edshclcjrk': 20900, 'jsadass': 20901, 'hittsblunt': 20902, 'ypwo5rqwld': 20903, 'valeriaaa': 20904, '111': 20905, 'ninooo': 20906, 'bitxhes': 20907, 'socked': 20908, 'alco': 20909, 'chestnut': 20910, 'welcomehome': 20911, 'rickey0511': 20912, 'hx1wghjazy': 20913, 'summer2014': 20914, 'wilw': 20915, 'shorter': 20916, 'mel': 20917, 'gibson': 20918, 'elmo': 20919, 'jch9hqvlpl': 20920, 'smasey': 20921, 'ibepocahontas': 20922, 'mastersleepy': 20923, 'juco': 20924, 'smallest': 20925, \"d1's\": 20926, 'noone': 20927, 'brucewayneakia': 20928, '0lrdpized0': 20929, '128658': 20930, 'threatenwho': 20931, 'pringlezxii': 20932, 'ballbagsteve': 20933, 'jasperdolphin': 20934, 'oltimebaseball': 20935, 'pauloneillyes': 20936, 'leyahhhh': 20937, 'saambrowning': 20938, 'wclemons': 20939, 'ingredients': 20940, 'caribbean': 20941, 'jerked': 20942, 'vicmackey': 20943, 'theshield': 20944, 'terry': 20945, 'condawg907': 20946, 'fuckry': 20947, 'achosenword': 20948, 'showers': 20949, 'weepy': 20950, 'fog': 20951, 'boburnham': 20952, 'straggots': 20953, 'fightpacquiao': 20954, 'tegustaaa': 20955, 'uw': 20956, 'harmssy': 20957, 'strangekeith': 20958, 'quanndadon': 20959, 'blessedarti': 20960, 'jamboree': 20961, 'cmi': 20962, \"thatangrynigga's\": 20963, 'pk0nejiovh': 20964, 'mahxnesthot': 20965, 'noap': 20966, 'tiffncompany': 20967, 'maca': 20968, 'liessss': 20969, 'asheyk': 20970, 'ballgame': 20971, 'gready': 20972, 'stayclassay': 20973, 'lizabeth': 20974, 'jgardenofeden': 20975, 'kysportsradio': 20976, 'ryanlemond': 20977, 'listeners': 20978, 'alcoholics': 20979, '127861': 20980, 'therealtahiry': 20981, 'brianstelter': 20982, 'advertised': 20983, 'neverrr': 20984, '3mins': 20985, 'ajoyaaa': 20986, 'alp': 20987, 'andrewluck23': 20988, 'ocare': 20989, 'independents': 20990, 'flgovscott': 20991, 'mohawk': 20992, 'scrub': 20993, 'tacal': 20994, 'uncouth': 20995, 'uncivilised': 20996, 'sentenced': 20997, 'tianaroseee': 20998, 'trina': 20999, '2013shit': 21000, 'hornyfuck': 21001, 'datingtrick': 21002, 'mannnn': 21003, 'kialloyd22': 21004, \"name's\": 21005, 'djevilone': 21006, 'woodlands': 21007, '7gebzu4paz': 21008, 'wwl05orih6': 21009, 'duunkk': 21010, 'huntsthewind': 21011, 'ahmadblack35': 21012, 'kristin': 21013, 'nikole': 21014, 'falcons': 21015, 'htuk4uszjo': 21016, 'pees': 21017, 'nookie': 21018, 'girllll': 21019, 'shoppin': 21020, 'knife': 21021, 'launches': 21022, 'qtr6lzcsdj': 21023, 'restrictions': 21024, 'ud5xkianvt': 21025, 'spencelynn': 21026, 'deuterostomes': 21027, 'favorited': 21028, '128573': 21029, 'macon': 21030, 'rinky': 21031, 'accompanied': 21032, 'aixoa7m7bt': 21033, 'cebros': 21034, 'dirtyxluxury': 21035, '17th': 21036, 'mutations': 21037, 'proliferation': 21038, 'djsliime': 21039, 'clai': 21040, 'chirps': 21041, 'glows': 21042, 'headsyoulose': 21043, 'jqpzfti14w': 21044, 'fuckhistattoos': 21045, 'celebovickotf': 21046, '2girls1richard': 21047, 'thereaipinkyxxx': 21048, 'simonee': 21049, '9taj2ouscc': 21050, 'breaking11': 21051, 'phantomgourmet': 21052, 'baileys': 21053, 'suggestions': 21054, 'darkmeathook': 21055, 'braisin': 21056, 'goldenarmada': 21057, 'uwmbpcomne': 21058, 'earlybird': 21059, 'sunrise': 21060, 'thebird': 21061, 'jerryreed': 21062, 'kuvq8upwuw': 21063, 'dathighyellaguy': 21064, 'jack2time': 21065, 'cuckoldcock': 21066, 'molotovhowdy': 21067, 'scott1023': 21068, 'yrvqjxeyqo': 21069, 'dj5kvo7rsr': 21070, 'seeding': 21071, 'fuse': 21072, 'amireldouh': 21073, 'jwheels3': 21074, 'volume': 21075, 'kuz': 21076, 'gtm': 21077, 'muzzled': 21078, 'fis8qnvlxu': 21079, 'examinercom': 21080, 'gstar': 21081, 'suspenders': 21082, 'superstars': 21083, 'sett': 21084, 'profane': 21085, 'bwahahahahahah': 21086, 'dy7qt1jtlg': 21087, 'polish': 21088, 'chipping': 21089, 'twitterlurking': 21090, 'rsberto': 21091, 'haiti': 21092, 'cigarsnscotch': 21093, 'ashleyrike': 21094, 'flops': 21095, 'haliemaranda': 21096, 'retarted': 21097, '128652': 21098, 'beekayns': 21099, 'proficient': 21100, 'memorization': 21101, 'patr': 21102, 'jdsvcgqfqn': 21103, 'nansemond': 21104, 'yasser': 21105, 'hajar': 21106, 'undergroundculture': 21107, 'stoop': 21108, 'julius': 21109, 'brooklynnmsb': 21110, 'uptown': 21111, 'byrd': 21112, 'azh2ql6lwn': 21113, 'vkdkoeklxz': 21114, 'lemming': 21115, 'havoc': 21116, 'garfield': 21117, 'yeahhhhhh': 21118, 'followin': 21119, 'djxvx': 21120, 'luckylancej': 21121, 'drmayaangelou': 21122, 'tryina': 21123, 'snapchats': 21124, 'sirens': 21125, 't33': 21126, 'krizanovic': 21127, 'ipostbadtweets': 21128, 'missyankee': 21129, 'sportsteamnews': 21130, 'decimate': 21131, 'l9vmdnoxpg': 21132, 'macklemroe': 21133, 'cussdjesrk': 21134, 'robda64': 21135, 'lungs': 21136, 'imredhoe': 21137, 'mainline': 21138, 'radiofreenorthwest': 21139, '218': 21140, 'covington': 21141, 'reads': 21142, 't9jyhancpr': 21143, 'cdn0deycko': 21144, 'truckpartstores': 21145, 'intended': 21146, 'convoy': 21147, 'dbro800': 21148, 'saulsof1lthy': 21149, 'isadore911': 21150, '21cvasquez': 21151, 'tased': 21152, 'dimejii': 21153, 'wizkid': 21154, 'nsxaacj4jg': 21155, 'naijaxclusive': 21156, 'vines': 21157, 'blvkout': 21158, 'empressraw': 21159, 'xfn5gaurxm': 21160, 'linnykravtiz': 21161, 'mona': 21162, 'lisa': 21163, 'dj3odvdap0': 21164, 'sooooooooooooo': 21165, 'p2x2qbejoh': 21166, 'rgbqesssha': 21167, 'solo36': 21168, 'causes': 21169, 'thejess': 21170, 'lynne': 21171, 'itzmeggo': 21172, 'imtall': 21173, 'brandonjennings': 21174, 'bushalmighty': 21175, 'officialmckell': 21176, 'andrenickatina': 21177, 'macdonalds': 21178, 'devilish': 21179, '2day': 21180, 'homey': 21181, 'arkgfy02pt': 21182, 'holyfield67': 21183, 'accidents': 21184, 'ieds': 21185, 'detonated': 21186, 'juphsx1zps': 21187, 'taratalksmoney': 21188, 'eljefedejefes4c': 21189, 'residimples': 21190, 'osjvjzjxcg': 21191, 'jaylynnkoliba': 21192, '3hunnad': 21193, 'nisha': 21194, 'wrestler': 21195, 'homegrown': 21196, 'babyjaypops': 21197, 'mfers': 21198, '127379': 21199, \"17'\": 21200, '128275': 21201, '127382': 21202, 'nogovy': 21203, 'blackgirls': 21204, 'i2nnm1z1': 21205, 'loool': 21206, 'kfan': 21207, 'vikings': 21208, 'droids': 21209, 'tonipmusic': 21210, 'woahh': 21211, 'ahha': 21212, 'youuuuuuuu': 21213, 'heypoopbutt': 21214, 'braxxxedelic': 21215, 'sugapuss': 21216, 'shibermetimbers': 21217, 'func': 21218, 'fucccccccked': 21219, 'druggys': 21220, 'dopest': 21221, 'kiralajasmine': 21222, 'rikanya': 21223, 'd15': 21224, 'pleasant': 21225, 'mostdope6995': 21226, 'pupaplqnhk': 21227, 'ecuador': 21228, 'consprcy': 21229, 'pppssshhh': 21230, 'aintnobread': 21231, 'es': 21232, 'creepingsharia': 21233, 'syrian': 21234, 'lfhcto8777': 21235, 'jamiedupree': 21236, 'heyyayled': 21237, 'thecheapone': 21238, 'adventure': 21239, 'atm': 21240, 'upwards': 21241, 'itsbeebitch': 21242, 'georganaaa': 21243, 'noragrets': 21244, 'alsonobeermoney': 21245, 'ronny': 21246, 'kamm': 21247, 'tylersteak89': 21248, 'caboose': 21249, 'granniewinkle': 21250, '35ossuuwnh': 21251, 'bdoulaoblongata': 21252, 'ympzhmzuxg': 21253, 'vonta624': 21254, 'lildickytweets': 21255, 'eugene': 21256, 'kjzh0u4usz': 21257, 'christrondsen': 21258, 'im5band': 21259, 'askim5': 21260, 'squirrel': 21261, \"depp's\": 21262, 'partayyyy': 21263, 'eldorato': 21264, 'cashhhhhh': 21265, 'secured': 21266, 'hail': 21267, 'lp9xd7qrzp': 21268, 'adays': 21269, 'napa': 21270, 'fewer': 21271, 'injured': 21272, 'bucketlist': 21273, 'theyaintknow': 21274, 'doppz': 21275, 'parry': 21276, 'salting': 21277, 'inda': 21278, 'ovoshubham': 21279, 'fattrel': 21280, 'mindcertified': 21281, 'jalendgaf': 21282, 'courtniclark': 21283, 'democr': 21284, 'thotful': 21285, 'attempts': 21286, 'mundy': 21287, 'joshyohe': 21288, 'trib': 21289, 'orpik': 21290, 'ovi': 21291, 'singers': 21292, 'kangaroo': 21293, 'taelar': 21294, 'hkmtwgp9ah': 21295, 'somethinzfuckee': 21296, 'traybonmartin': 21297, 'airrogance': 21298, 'famousnileearls': 21299, 'jcttrnurm0': 21300, 'lilhakbeatz': 21301, 'returnofthemarc': 21302, 'tosoon': 21303, 'evanaleks': 21304, 'upl2zyn5v1': 21305, 'baseddevjay': 21306, 'jabbcaesar': 21307, 'yungturd': 21308, 'levine': 21309, 'ceallaighaine': 21310, 'heal': 21311, 'dancerproblems': 21312, 'instantly': 21313, 'deeeeaaaadd': 21314, 'bg3uwdpznn': 21315, 'guyspictures': 21316, 'dewe9ttuz5': 21317, 'evens': 21318, 'daylight': 21319, 'zeemonstaa': 21320, 'fukn': 21321, 'sdoocy': 21322, 'outnumbered': 21323, 'thankfully': 21324, 'dismembered': 21325, '745': 21326, 'mckenzienoel': 21327, 'dubtheproducer': 21328, 'defence': 21329, 'gk5wbobjtc': 21330, 'sheboons': 21331, 'vinny': 21332, 'kkarleigh': 21333, 'toein': 21334, 'adddisonn': 21335, 'kamri': 21336, 'notoyota': 21337, 'felz': 21338, 'ramaxe1965': 21339, 'dubya': 21340, 'hugmakeem': 21341, 'tuhhnaeee': 21342, 'forevea': 21343, 'yt': 21344, 'received': 21345, 'meanie': 21346, 'trelaire1st': 21347, 'kmordnezrz': 21348, 'village': 21349, 'dono': 21350, 'auroramwj': 21351, 'marylmcaffry': 21352, 'bbanimals': 21353, 'mutation': 21354, 'genealogy': 21355, 'convoluted': 21356, 'currieries': 21357, 'slaughtered': 21358, 'extinction': 21359, 'wdmjeff': 21360, 'gravel': 21361, 'prominent': 21362, 'forums': 21363, '9vafk90dou': 21364, \"john's\": 21365, \"assoc's\": 21366, 'xfsezszu0m': 21367, 'beforeitsnews': 21368, 'foodlovers': 21369, '2idh4bato1': 21370, 'dalmesquita13': 21371, 'finallygotanude': 21372, 'hippie': 21373, 'abstract': 21374, 'thinkers': 21375, 'goddesslaney': 21376, 'lajouetreine': 21377, 'welding': 21378, 'wombraider773': 21379, 'hofsportstalk': 21380, '4sqz7tvp4v': 21381, 'pierce': 21382, 'drained': 21383, \"we'ont\": 21384, 'versanche': 21385, 'jazqui': 21386, 'partially': 21387, 'h456d': 21388, 'bjymdfo7pf': 21389, 'fucktardmobile': 21390, '8e3kxegmjo': 21391, 'diverged': 21392, '246': 21393, 'tunheimr': 21394, 'harleyyyquinn': 21395, 'tweaker': 21396, 'crackas': 21397, 'gimmeablackemoji': 21398, 'pusssy': 21399, 'hairlessss': 21400, 'chrisbickert': 21401, 'gooks': 21402, 'bryannaaaaaa': 21403, 'bearer': 21404, 'shaw': 21405, 'thecomedyhumor': 21406, 'moxmrsoov9': 21407, 'jacklayton': 21408, 'pins': 21409, 'tinyurl': 21410, 'dmt397': 21411, 'dreamchasers2': 21412, 'sasquatch': 21413, 'osama': 21414, 'binladen': 21415, 'jiggyjust': 21416, 'nankdatthang': 21417, 'lovesexdeath': 21418, 'mafenske': 21419, \"noah's\": 21420, 'arc': 21421, 'ngecuwehhb': 21422, 'michaelarenella': 21423, 'drunkatchurch': 21424, 'mzyummydread': 21425, 'sculpture': 21426, '5izmlkvzzv': 21427, 'hornymen': 21428, 'clarenceville': 21429, 'thuggery': 21430, 'burnating': 21431, 'thatch': 21432, 'cottages': 21433, 'j3dziwbdt0': 21434, 'badguy': 21435, 'eliwallach': 21436, 'breakingbad': 21437, 'noose': 21438, 'rigs': 21439, 'leevancleef': 21440, 'biological': 21441, 'taxpayer': 21442, 'funded': 21443, 'ivanpah': 21444, 'xpxehne29e': 21445, 'rachaelkbrown': 21446, 'billybutlerkc': 21447, 'sc4k': 21448, 'annual': 21449, 'luncheon': 21450, 'renhotels': 21451, 'ericgordon': 21452, 'uj721fmsxb': 21453, 'kuntimkeesh': 21454, 'diggins': 21455, 'paolo': 21456, 'cockneys': 21457, 'killzone': 21458, 'depending': 21459, 'wams': 21460, 'rig': 21461, \"goose's\": 21462, 'caddyshack': 21463, 'pretentious': 21464, 'poisonedkissx3': 21465, '999': 21466, 'gillbowski7': 21467, 'masiblatnoy': 21468, 'drobaby': 21469, 'fuckkn': 21470, 'cluuuuub': 21471, 'tonyhilfiger': 21472, 'cs9dfgl7ew': 21473, 'lippert': 21474, 'overpass': 21475, 'rus': 21476, 'ifshecantsuckthedickright': 21477, 'spankin': 21478, 'yaboyboone': 21479, 'andrews': 21480, 'bigxcool': 21481, '9zwr3o33iu': 21482, 'commas': 21483, 'eeeen': 21484, 'victoriadahl': 21485, 'donnajherren': 21486, \"motherfucker's\": 21487, 'happening': 21488, 'mguiducci': 21489, 'nickbrown85': 21490, 'wts6nm3egc': 21491, 'beyoncesgedtest': 21492, 'connect': 21493, 'lfu19f4ovk': 21494, 'wackkkkk': 21495, 'fwy': 21496, 'nydailynews': 21497, 'lifestyles': 21498, 'magnum': 21499, 'emmaleeeparkerr': 21500, 'mutant': 21501, 'molssyo': 21502, 'hahahahahahah': 21503, 'bishhhhhh': 21504, 'waasup': 21505, 'morphed': 21506, 'notyourrealpapa': 21507, 'thingsiliketodo': 21508, 'serenading': 21509, 'fardousaa': 21510, 'drreams': 21511, 'eqocianz77': 21512, 'donapollosan': 21513, 'controlled': 21514, 'courtneysuvak': 21515, 'xloyaltome': 21516, 'guccimanequote1': 21517, 'nautiwashere': 21518, 'parsons': 21519, 'niggass': 21520, 'associates': 21521, 'goofball': 21522, 'rockwell': 21523, 'lynchberg': 21524, 'armo': 21525, '5lfxmdyu2g': 21526, 'sajeffress': 21527, 'okaaaaay': 21528, 'ucla': 21529, 'nolackingg': 21530, 'grhtdie9dz': 21531, 'themoeeee': 21532, 'starbuckssanae': 21533, 'plagiarists': 21534, 'porcelina33': 21535, 'rashidgill5': 21536, 'razahussain101': 21537, 'shyyyyyt': 21538, 'shayalicious': 21539, 'fulltime': 21540, 'toodopeforlife': 21541, 'lmfaooooooopoooooo': 21542, 'djkayyohh': 21543, 'e5kllhp0cv': 21544, 'lilbaddiee': 21545, 'naaaaaaaa': 21546, 'baseballfact': 21547, \"steinbrenner's\": 21548, 'interfere': 21549, 'promising': 21550, 'percolate': 21551, 'kcraigwell': 21552, 'mrnwachukwu': 21553, 'coasting': 21554, 'jpkdkpbjxh': 21555, 'thecheekyd': 21556, 'imaunicorn': 21557, '0xljzwbtkr': 21558, 'patchy': 21559, 'jusdontblowmyhi': 21560, 'barking': 21561, 'pascuzzo': 21562, '438f': 21563, 'viewers': 21564, \"tlc's\": 21565, 'chilli': 21566, 'bullied': 21567, 'moustache': 21568, 'wintervphillips': 21569, 'steals': 21570, 'controls': 21571, 'ginagaus': 21572, 'crossbow': 21573, 'soulyodeler': 21574, 'cadillac': 21575, 'ocho': 21576, 'mahoganylov3': 21577, 'kingdominicus': 21578, 'jsdmsucdm0': 21579, 'flyover': 21580, 'antoinettea': 21581, '15a': 21582, 'amazed': 21583, 'resilience': 21584, 'mafreedom': 21585, 'connection': 21586, 'legitimizing': 21587, \"std's\": 21588, 'deviancy': 21589, 'digital': 21590, 'thorpe': 21591, 'xiqirbq7mp': 21592, 'smuggled': 21593, 'tunnel': 21594, 'digger': 21595, 'suffering': 21596, 'hamas': 21597, 'jusiee1yhk': 21598, 'themuslimissue': 21599, 'ihvxyab2vn': 21600, 'dearawkward': 21601, 'skyrim': 21602, '5tasiq5yo8': 21603, 'femaleproblems': 21604, 'vibemagazine': 21605, 'notorious': 21606, 'wallace': 21607, '3kzjj7nqpp': 21608, 'wownc0a70p': 21609, 'unofficial': 21610, 'bounced': 21611, 'rabies': 21612, \"hoppin'\": 21613, 'unlimited': 21614, '54vf2r3s3a': 21615, 'dcolbray88': 21616, 'ohkillem': 21617, 'spay': 21618, 'djvlad': 21619, 'halls': 21620, 'ojnxhoigdw': 21621, '24k': 21622, 'rillos': 21623, 'sexyunderhere': 21624, 'asides': 21625, 'huskies': 21626, 'conductor': 21627, 'mandatory': 21628, \"phone's\": 21629, 'suprised': 21630, 'segwaysurfer': 21631, 'lemzsfqvel': 21632, 'b4jcmctewq': 21633, 'irwinhype': 21634, 'apolonio': 21635, '3niswlpnec': 21636, 'shanetallant': 21637, 'thriving': 21638, 'economic': 21639, 'sector': 21640, 'wobbles': 21641, 'anointed': 21642, 'djdmt': 21643, 'discontinued': 21644, 'bansky': 21645, 'trips': 21646, 'retirin': 21647, 'paused': 21648, 'pqedosoglo': 21649, 'flowdaddy24': 21650, 'rinko0': 21651, 'brad80': 21652, '0biwankobe': 21653, 'zielonkoo': 21654, 'peterbyers24': 21655, 'datdude': 21656, 'zp': 21657, 'waco': 21658, 'kylamock2': 21659, 'ashcrackk': 21660, 'weirdlilthingz': 21661, 'cain': 21662, 'chippewaskylark': 21663, 'critique': 21664, '32ft': 21665, 'greatwhite': 21666, 'okaysomaybeimlying': 21667, 'butiwasfishing': 21668, 'n86ew3zhep': 21669, 'flyguyerv': 21670, 'jhannahhh': 21671, \"zimmerman's\": 21672, 'courtney': 21673, 'ifthepurgewasreal': 21674, 'madam': 21675, 'wu6jitce0u': 21676, 'pornpunter': 21677, 'jprbhuxfdp': 21678, 'pettigrew33': 21679, 'dault24': 21680, 'ktit': 21681, '418': 21682, 'aaronbaxter9': 21683, 'venti': 21684, 'iced': 21685, 'snappy': 21686, 'mikeluckas': 21687, 'kazooie': 21688, 'tongues': 21689, 'campos': 21690, 'uli': 21691, 'hesgay': 21692, 'kuhnatekuhnite': 21693, \"talkin'\": 21694, \"gettin'\": 21695, \"one'a\": 21696, 'tches': 21697, 'thinkn': 21698, 'mybrotherskeeper': 21699, 'burrgos': 21700, 'rickandmorty': 21701, 'booya': 21702, 'queendulaaa': 21703, 'wwyd': 21704, 'springtraining': 21705, 'outfield': 21706, 'rp3gz6mdbf': 21707, 'yankeeson': 21708, 'tcjhtfxbhc': 21709, 'lamlildurk': 21710, 'smilin': 21711, 'meli': 21712, 'mybaby': 21713, 'a27c1xuezp': 21714, 'charliedayquote': 21715, 'viet': 21716, 'colman': 21717, 'chatted': 21718, 'votes': 21719, '9artp5ymbs': 21720, 'itsmekevin10': 21721, 'josie618': 21722, 'zaidsaracini': 21723, 'geometry': 21724, 'ciaraaas': 21725, 'd23mkpgmxu': 21726, 'marieeee': 21727, 'bufua1pr8v': 21728, 'jammer': 21729, 'groups': 21730, 'keegs': 21731, 'furyk': 21732, 'thememorialtournament': 21733, 'flow935': 21734, 'soca': 21735, '239rell': 21736, '2million': 21737, 'floodsyatl': 21738, 'zariavonmars': 21739, 'cuue9vvc2m': 21740, 'clevesmith': 21741, 'wolfgangabedeus': 21742, 'cheddar85': 21743, 'carburetor': 21744, 'foyer': 21745, 'c10': 21746, 'rebuilt': 21747, 'everybodys': 21748, 'stoni': 21749, 'possiblydana': 21750, '6lvif0nurf': 21751, 'dtavohn269': 21752, 'storm': 21753, 'brewing': 21754, 'paulsmitheringa': 21755, 'taxman206': 21756, 'realkidlegend': 21757, 'timing': 21758, \"timing's\": 21759, '1041681': 21760, '1041629': 21761, 'oy4x1yxhze': 21762, 'fuckkennyj': 21763, 'feliciano': 21764, 'c00ntact': 21765, 'kevini': 21766, 'bumcia': 21767, 'xalmdxr2a3': 21768, 'nolan': 21769, 'rising': 21770, 'nerping': 21771, 'holidayseasonlive': 21772, 'shyglizzy': 21773, 'pygosk0qcp': 21774, 'manchild1077': 21775, 'speedwagon': 21776, 'fatbands': 21777, 'elliottgianaris': 21778, 'rifles': 21779, 'knuckle': 21780, 'honorary': 21781, 'yoked': 21782, 'foamposites': 21783, 'yxpesfmg8f': 21784, 'youngblackbitch': 21785, 'raspy': 21786, 'lifeofsin': 21787, 'theeepp': 21788, 'likeeee': 21789, 'mobbin': 21790, 'phalaenadispar': 21791, 'mrridethruthad': 21792, 'intention': 21793, 'yuckhalin': 21794, 'cookiecocaine': 21795, 'shaikethatass': 21796, '738up5plia': 21797, 'int': 21798, 'carolinebakkk': 21799, 'bumblebees': 21800, 'satisfies': 21801, 'replay': 21802, 'missmulgra': 21803, '5spmg': 21804, 'ggl': 21805, 'w58q6hr20j': 21806, 'byes': 21807, 'claraoswined': 21808, 'raincoat': 21809, 'contrast': 21810, 'icon': 21811, 'nogoodmichael': 21812, 'realerik': 21813, 'funfetti': 21814, '128538': 21815, 'brickannn': 21816, 'toodope': 21817, 'try8lvyo9o': 21818, 'nishachante': 21819, 'lilmissstoney': 21820, 'yezhxqvy02': 21821, 'shmurdagang': 21822, 'mchastain81': 21823, 'theworldstories': 21824, 'therealcortlan': 21825, 'zachbooty': 21826, 'dresser': 21827, 'goldigging': 21828, 'uncircumcised': 21829, 'rudebwoyroscoe': 21830, 'looney': 21831, 'literate': 21832, 'grounded': 21833, 'andyserkis': 21834, 'owgocjxpxs': 21835, 'computerscience': 21836, 'imadeherwise': 21837, 'petey': 21838, 'pablo': 21839, 'freek': 21840, 'leek': 21841, '4lokos': 21842, 'tokmetzis': 21843, 'dreigdwergen': 21844, 'haatsmurfen': 21845, 'roze': 21846, 'khmer': 21847, 'slagveld': 21848, 'lhvkkkhqdf': 21849, 'decorrespondent': 21850, 'chloekosik': 21851, 'kaylamauser': 21852, 'dpylqzg1': 21853, 'tcaputo44': 21854, 'wordsofadvice': 21855, 'restricted': 21856, 'decodnlyfe': 21857, 'larellj': 21858, 'fellaz': 21859, 'ortizjunior': 21860, 'acewuzhere': 21861, '6am': 21862, 'hl6swlygfv': 21863, 'outtheordinary1': 21864, 'p0wers': 21865, 'egoatizm': 21866, 'blaztful': 21867, 'luubgl9y5u': 21868, 'mvps': 21869, 'eaglesandheat': 21870, 'bpfillherup': 21871, 'soleuniv': 21872, 'nings': 21873, 'naadectqak': 21874, 'larryx2010': 21875, 'tmt': 21876, 'baconparadox': 21877, 'gallop': 21878, 'mmkay': 21879, 'plurizard': 21880, 'bridges': 21881, 'grudge': 21882, 'simms': 21883, 'deluxe': 21884, 'timin': 21885, 'smalltownproblems': 21886, 'neversaiditwasabadthing': 21887, 'brooksndunn': 21888, 'kimble': 21889, 'zyelon': 21890, 'bovprgb4w9': 21891, 'lmaoatbasics': 21892, 'dimpledjoint': 21893, 'curtyndacut': 21894, 'reallyhighideas': 21895, 'sportsdude53': 21896, 'redlegs': 21897, 'uyjgzux4cc': 21898, 'crippled': 21899, 'sixes': 21900, 'kliontiii': 21901, 'usual': 21902, 'gangsta': 21903, 'kingmiller': 21904, 'standn': 21905, 'megann': 21906, 'cuteasstab': 21907, 'porcha': 21908, 'hollar': 21909, '2trippymcneely': 21910, 'vindictive': 21911, 'dawson': 21912, 'mighta': 21913, 'gail': 21914, 'lebouf': 21915, 'whynot': 21916, 'taradise': 21917, 'terrifying': 21918, 'kateelliottsff': 21919, 'oiixcfos3m': 21920, \"olivia's\": 21921, 'fitz': 21922, 'batshit': 21923, 'theryanadams': 21924, 'getatme': 21925, 'fuckmongo': 21926, 'naynayismongo': 21927, 'leviticus': 21928, '58': 21929, 'zoakn1zlhm': 21930, 'eviljeanyis': 21931, 'thewhite': 21932, 'stainless': 21933, 'appliances': 21934, 'h7b0pl8t2h': 21935, \"watchin'\": 21936, \"makin'\": 21937, 'linguine': 21938, 'paulgeorge': 21939, '2qwepnux': 21940, 'advise': 21941, 'uprjy6n48k': 21942, 'imikedunn': 21943, 'rhonda': 21944, 'rousey': 21945, 'winn': 21946, 'dixie': 21947, 'thief': 21948, 'foolin': 21949, 'sqaud9rell': 21950, 'grvndbxrry': 21951, 'unattended': 21952, 'fertile': 21953, 'deans': 21954, 'paulizzo2': 21955, 'homsec': 21956, 'lyndag1963': 21957, 'harf': 21958, 'dept': 21959, 'paltrow': 21960, 'swanny': 21961, '1onlysolo': 21962, 'josepheach': 21963, 'emand': 21964, \"veryone's\": 21965, 'oney': 21966, 'bjects': 21967, 'ollectively': 21968, 'edistributed': 21969, 'heir': 21970, 'upporters': 21971, 'whoistie': 21972, 'stooping': 21973, 'vv4dumme4a': 21974, 'goodgraces': 21975, 'zdgte9gvzx': 21976, '3kpy22pi0e': 21977, 'ariza': 21978, 'andrewtaran': 21979, 'nicolleashby': 21980, 'chewy': 21981, 'pager': 21982, 'abed': 21983, 'nursing': 21984, '128585': 21985, 'taughtu': 21986, 'treydoe': 21987, 'hallderik': 21988, 'rwzr': 21989, 'treyjohnican': 21990, 'facingreality': 21991, 'ratedtfxrtaylor': 21992, 'cooties': 21993, 'herpes': 21994, 'reed8608': 21995, '15minute': 21996, 'kaileenrenee': 21997, 'nationaldoughnutday': 21998, '5fjforyy2e': 21999, 'sheriff': 22000, 'directing': 22001, 'beautifully': 22002, 'hxhsharingan666': 22003, 'davidlyon1690': 22004, 'shannonmacleod': 22005, 'primes': 22006, 'dominated': 22007, 'lbj': 22008, \"mj's\": 22009, 'unn': 22010, 'timbvtcher': 22011, 'lp': 22012, 'vinylgasm': 22013, 'machined': 22014, 'platter': 22015, 'teamfluffnevabluff': 22016, 'athletics': 22017, 'finallevel': 22018, '17k': 22019, 'cutespartacus': 22020, 'retriever': 22021, 'otraupdates2015': 22022, 'rumours': 22023, 'touring': 22024, 'otra': 22025, 'tabather': 22026, 'ynf': 22027, 'troypanamera': 22028, 'negrorayrice': 22029, 'mademyselfher': 22030, 'eeeeeeeee': 22031, 'polotags20': 22032, 'lessgirl': 22033, 'jaxon1114': 22034, 'f1choia21g': 22035, 'holmezz': 22036, 'prop8': 22037, 'mannnnn': 22038, 'beautifulcallen': 22039, 'iite': 22040, 'beverlynohills': 22041, 'tyra': 22042, '128091': 22043, 'loveandhiphop': 22044, 'dannyyy': 22045, 'samafuckinga': 22046, 'naishaa': 22047, 'sunflowertrue13': 22048, 'styled': 22049, 'endless': 22050, 'kimbosabe': 22051, 'possibles': 22052, 'ohhmyytodd': 22053, 'icodymontana': 22054, 'xdannyxbrownx': 22055, 'capitalized': 22056, 'evolving': 22057, 'yeahhhmans': 22058, 'commongaytweets': 22059, 'byeeeee': 22060, 'dammed': 22061, 'chitlings': 22062, 'alisonkent': 22063, 'montlake': 22064, 'sc3ajxcirb': 22065, 'lorde': 22066, \"'red\": 22067, \"lines'\": 22068, 'princesshil21': 22069, 'alexishope': 22070, 'dolph': 22071, 'traphouseryan': 22072, 'keeled': 22073, 'pm5aa6plw0': 22074, 'casio': 22075, 'datguy': 22076, 'shescreams': 22077, 'mami': 22078, 'jakeysinclair': 22079, 'kamenmypants': 22080, 'assless': 22081, 'chaps': 22082, 'gavin': 22083, 'mcinnes': 22084, \"gov't\": 22085, 'healthcare': 22086, \"down's\": 22087, 'baez': 22088, 'blurbette': 22089, 'thepbg': 22090, 'tanishalixpussy': 22091, 'denominator': 22092, 'knodell': 22093, 'vandyke': 22094, 'arod': 22095, 'pluck': 22096, 'yessme': 22097, 'shay': 22098, 'sunglasses': 22099, 'prepare': 22100, 'krystalschnutz': 22101, 'randomthought': 22102, 'randomthot': 22103, 'shitiwouldneverdo': 22104, 'sycksyllables': 22105, 'l8wqzduzze': 22106, 'willywelfare': 22107, 'buschi': 22108, 'butters': 22109, 'lamont21225': 22110, \"timberland's\": 22111, 'edmondson': 22112, 'm4jtngejth': 22113, 'mray9729': 22114, 'annamarixae': 22115, 'yessss': 22116, '128147': 22117, \"caleb's\": 22118, \"hanna's\": 22119, 'hotmessundergrd': 22120, 'impromptu': 22121, 'madflyentist': 22122, 'pugs': 22123, 'sweetpotatertot': 22124, 'sexist': 22125, 'x3bwnm3jii': 22126, 'cyfyre': 22127, 'itssamcollins': 22128, '9elp4xye9d': 22129, 'itweet4uglyppl': 22130, 'kirbymouf': 22131, 'rmpharris': 22132, 'tremper': 22133, 'bi6hop': 22134, 'pimpslapncow': 22135, '4sabx0mcus': 22136, 'phillip': 22137, 'tee92': 22138, 'armani': 22139, 'jeopardy': 22140, 'tbqjhev08b': 22141, 'donovan': 22142, \"dvd's\": 22143, 'droppin': 22144, '2realmacdatfee': 22145, 'jigga504': 22146, 'turt': 22147, 'gn': 22148, 'riots': 22149, 'xxxraiderch1cka': 22150, 'dq9ykqfv': 22151, 'lokihulibele': 22152, 'aamaadmiparty': 22153, 'maoists': 22154, 'congies': 22155, 'gloryyyy18': 22156, 'conceived': 22157, 'proboscis': 22158, 'greenmile': 22159, 'yw299xjzb2': 22160, 'tweetfrmthesole': 22161, 'joribunni': 22162, 'whet': 22163, 'carpool': 22164, 'waved': 22165, 'bootlegged': 22166, 'connycarvajal': 22167, 'ricochavo': 22168, 'aero': 22169, 'finesse': 22170, 'fredabrahams': 22171, 'spies': 22172, 'facetious': 22173, 'straighten': 22174, 'jorgegones': 22175, 'xeitpkalob': 22176, 'ruinacomedian': 22177, 'lapdance': 22178, 'honeysuckle': 22179, 'tav': 22180, 'canonically': 22181, 'equivalent': 22182, 'aretha': 22183, 'wilnerness590': 22184, 'jmart96': 22185, 'outman': 22186, 'relievers': 22187, 'shaded': 22188, 'musedbymusic': 22189, 'sonup': 22190, 'qp': 22191, 'llamf': 22192, 'boiz': 22193, 'mandela': 22194, \"'them'\": 22195, 'jazsy': 22196, 'celebrityleakedphotos': 22197, 'wierd': 22198, 'dewis14': 22199, 'totheov': 22200, 'dbrad': 22201, 'peckadelic': 22202, 'bgulll1611': 22203, 'whammers': 22204, 'shinobicelsius': 22205, 'kicks0l0gy': 22206, 'brony': 22207, 'equestriagirls': 22208, 'oxdictionary': 22209, 'suckfuckit': 22210, 'dtxqjtqmsd': 22211, 'havok': 22212, 'tna': 22213, 'impact': 22214, 'obispo': 22215, 'coburn': 22216, 'chiefkeef3oo': 22217, 'kilaurenk': 22218, \"'bitches'\": 22219, 'individually': 22220, 'katt': 22221, 'letmicahdown': 22222, 'fridayfaves': 22223, 'onebillionbucks': 22224, 'pinksapph': 22225, 'welcomed': 22226, 'reflects': 22227, 'behi': 22228, 'amhistorymuseum': 22229, 'gggdk3kov7': 22230, 'sorries': 22231, 'heyjaiiiii': 22232, 'halfcrazy610': 22233, 'lotion': 22234, 'orajel': 22235, 'cheaters': 22236, 'maaco': 22237, 'nq56zkpjhj': 22238, 'idgafmode': 22239, 'freecb': 22240, 'discourage': 22241, 'development': 22242, 'maqdisi': 22243, 'theorist': 22244, 'lakeshorejohnny': 22245, 'eliot': 22246, 'mmmmmether': 22247, 'shanniganssss14': 22248, 'emagsy21': 22249, 'wmhs': 22250, 'jhonenv': 22251, '8ynqyyaojo': 22252, 'mykel': 22253, 'jtlzergxi0': 22254, 'receptionist': 22255, 'jamesblunt': 22256, 'blackeyelined': 22257, 'crayon': 22258, 'sanabria': 22259, 'notfeeding': 22260, 'stencil': 22261, 'typeface': 22262, 'font': 22263, 'ateam': 22264, 'ghnenlmlje': 22265, 'fernando': 22266, '822': 22267, \"rockin'\": 22268, \"rollin'\": 22269, \"swaggin'\": 22270, 'lop': 22271, 'on9hex5l4t': 22272, 'manatti23': 22273, 'boner': 22274, 'adrien': 22275, 'freckbars': 22276, 'kurtbusiek': 22277, 'oft': 22278, 'blackoutninja15': 22279, 'chrisbrownn14': 22280, 'eskimo': 22281, 'images': 22282, 'gentrification': 22283, 'clicc': 22284, 'melissastetten': 22285, \"lovin'\": 22286, 'iamxjones': 22287, '9hyk5v0p': 22288, 'bamberdelver': 22289, 'lees': 22290, 'gepeste': 22291, 'jongen': 22292, 'probeert': 22293, 'verdedigen': 22294, 'ingezonden': 22295, 'volkskrant': 22296, 'pesten': 22297, 'academiemm': 22298, 'aod': 22299, 'gahbage': 22300, 'invoke': 22301, '3yrcyc9ezc': 22302, 'rtextralife': 22303, 'nerdreign': 22304, 'nilly': 22305, 'undignified': 22306, 'sprint': 22307, 'transfer': 22308, 'dawdling': 22309, 'lease': 22310, 'agoooo': 22311, 'beause': 22312, 'halfway': 22313, 'cremes': 22314, 'resurrected': 22315, 'howler': 22316, 'mrhoratiosanz': 22317, 'vin': 22318, 'scully': 22319, 'liesaboutvinscully': 22320, 'cxslug': 22321, 'ccs': 22322, 'argenivee': 22323, 'boo22': 22324, 'sinexderek': 22325, 'millerthagod': 22326, \"'forget\": 22327, \"'bad\": 22328, \"war'\": 22329, 'cairo': 22330, \"'pockistan\": 22331, 'morale': 22332, 'lilbrisko': 22333, 'relatabie': 22334, 'blade': 22335, 'everynight': 22336, 'switcheroo': 22337, 'smalltits': 22338, 'stepdad': 22339, 'ay6grntouw': 22340, 'jharmelink182': 22341, 'asipof': 22342, 'revolt': 22343, 'npbdpk0cqz': 22344, 'deemayweather': 22345, 'shitneyw0rd': 22346, 'georgekelleyjr': 22347, \"parent's\": 22348, 'midwestmiles': 22349, 'fined': 22350, 'jz2wrvaxai': 22351, 'dedicating': 22352, 'buckcity': 22353, 'thatlatsonkidd': 22354, 'souvenir': 22355, 'andreajmarkley': 22356, 'gantaro47': 22357, 'libtards': 22358, 'steaks': 22359, 'birdman5star': 22360, 'ju': 22361, 'reign': 22362, 'yrn': 22363, 'corbynkelly13': 22364, 'bracelets': 22365, 'tannermcdowell': 22366, 'orozco23': 22367, 'longhairdontcare': 22368, 'countrygirl': 22369, 'lovethisgirl': 22370, 'llw3imtcug': 22371, 'dominic': 22372, 'oeralv45gi': 22373, 'holdin': 22374, 'hocus': 22375, 'pocus': 22376, 'teampowerstroke': 22377, 'dispose': 22378, 'truthbetold': 22379, 'biackiechan': 22380, 'curtdatnigga': 22381, '128252': 22382, 'keebler': 22383, 'elves': 22384, 'legalized': 22385, 'stopbeingsober': 22386, 'rampage': 22387, 'hotzgeor': 22388, 'workforce': 22389, 'nc': 22390, 'thomtillis': 22391, 'mikelahenry': 22392, 'wuteva': 22393, 'marvelous': 22394, 'elliott': 22395, 'punchin': 22396, 'bigstaxxboss': 22397, 'courting': 22398, 'thefatkidjames': 22399, 'maliktender': 22400, 'gayer': 22401, 'mindofamadd': 22402, 'melillitay': 22403, 'bettyboo': 22404, 'queenoni': 22405, '1future': 22406, 'reginapucket': 22407, '6nqmor8ybc': 22408, 'attackoftitan': 22409, 'adultswim': 22410, 'lipsdriprubies': 22411, 'youhavejustbeenblocked': 22412, '9917': 22413, 'sayitaintchey': 22414, 'intolerant': 22415, \"'honor'\": 22416, 'barbecue': 22417, \"'grills\": 22418, \"out'\": 22419, \"apaches'\": 22420, 'mm': 22421, 'markrothschild1': 22422, 'nofear3136': 22423, 'lanna70115': 22424, 'taylorlopez96': 22425, 'harleighpurolla': 22426, 'estradax187': 22427, 'bclaymoore': 22428, \"girlfriend's\": 22429, 'mopes': 22430, 'explainafilmplotbadly': 22431, 'kekelovingmytwo': 22432, 'pmorglh2kp': 22433, 'lisaaross': 22434, 'rik': 22435, 'fiair': 22436, 'fyz1bpwxgw': 22437, 'mdnate': 22438, 'bolanddrummer': 22439, \"'coffee\": 22440, \"shop'\": 22441, 'fireflies': 22442, 'shameful': 22443, 'cuner': 22444, 'shenikaroberts': 22445, '57361': 22446, 'butttttttt': 22447, 't9u4vgwjwv': 22448, 'reblog': 22449, 'birffday': 22450, 'lyricsyouliketoscream': 22451, 'bulling': 22452, 'lashes': 22453, 'mystroapollo': 22454, 'twitterhoney': 22455, 'kap12284': 22456, 'umpire': 22457, 'logging': 22458, 'shakez843': 22459, 'bartenders': 22460, 'impo02ge65': 22461, 'refresh': 22462, 'dhimmi': 22463, 'mayor': 22464, \"murray's\": 22465, \"city's\": 22466, 'angelenagoley': 22467, 'nt3pabmwsm': 22468, 'jmhz8sczf0': 22469, 'stepheeezyy': 22470, 'nicolas': 22471, 'unrolls': 22472, 'babyxshad': 22473, 'shotmoistboyce': 22474, 'tweetlikelexi': 22475, 'cruelladetrill': 22476, 'howw': 22477, 'yutwatching': 22478, 'hadley106': 22479, 'zimm16': 22480, 'bailey': 22481, 'nationalcomingoutday': 22482, '01takesthelead': 22483, 'whipers': 22484, 'ponzi': 22485, 'scheme': 22486, 's7aoy8adsi': 22487, 'witnessing': 22488, 'magnedeth': 22489, 'favoritism': 22490, 'stellatex': 22491, 'mansplaining': 22492, 'adios': 22493, 'rose1': 22494, 'dunleavy': 22495, 'dadude1914': 22496, 'guest': 22497, 'ziggybadass': 22498, 'jbrownsugaa': 22499, 'patient': 22500, \"jeter's\": 22501, 'i5obsnjj': 22502, 'linaahmadi': 22503, 'jonjanke': 22504, 'maxi': 22505, 'dweeb': 22506, 'giannaamarieeee': 22507, 'frizzle18': 22508, 'stupidspecs': 22509, 'rainbow': 22510, 'seventeen': 22511, 'ainnn': 22512, 'halotgmg': 22513, 'hacky': 22514, 'parisburned': 22515, 'yuu': 22516, 'hinouchi': 22517, 'creamed': 22518, 'elxktxi1lv': 22519, 'askaboutbrandy': 22520, 'hauling': 22521, 'juiceman': 22522, 'pursue': 22523, 'wdmc': 22524, 'rhion': 22525, 'xcy9qe5yab': 22526, \"6'0\": 22527, 'lmgkduxzy7': 22528, 'officiala1king': 22529, '2t1ukudqbw': 22530, 'hsadkzcain': 22531, 'game6': 22532, 'torturebaseball': 22533, 'anthonycampos23': 22534, 'headaches': 22535, 'reactions': 22536, 'jq3rb6gyqh': 22537, 'biggg': 22538, 'mackkk': 22539, 'thesportsjudge': 22540, 'rocephin': 22541, 'wavee': 22542, 'cooopster98': 22543, 'chase123456718': 22544, 'realffriends': 22545, 'aesthetic': 22546, 'cyopcv8oq8': 22547, 'dreadywhiteboy': 22548, 'jwanurebay': 22549, 'thotmouths': 22550, 'aqkgorauxx': 22551, 'huggies': 22552, 'livlopezzz': 22553, 'molwf0py': 22554, 'femalelogic': 22555, 'alias': 22556, 'backless': 22557, 'dressess': 22558, 'funnyortips': 22559, 'yuddsljbqn': 22560, 'tcby': 22561, 'jackireininga': 22562, 'auvqnogvdy': 22563, 'biiiiitch': 22564, 'gundeathjournal': 22565, 'ackdoc': 22566, 'bcuz': 22567, 'crooks': 22568, 'cougar': 22569, 'wyf4ew32hf': 22570, 'fettii': 22571, '58143': 22572, '58113': 22573, '128213': 22574, '128218': 22575, 'odotkay': 22576, \"mother's\": 22577, '24hrs': 22578, 'enervated': 22579, 'oddfuckingtaco': 22580, 'jasper': 22581, 'nightvaleradio': 22582, 'looming': 22583, 'oily': 22584, 'bulbous': 22585, 'shrieking': 22586, 'pong': 22587, 'shorrtstop': 22588, 'crumb': 22589, 'yaa': 22590, 'brooke': 22591, 'pinkie': 22592, 'milkthecity': 22593, 'respecttheculture': 22594, 'lfpq4fhr9f': 22595, 'reginaldspears': 22596, 'brantly': 22597, 'ashleyasatu': 22598, 'uglass': 22599, 'realmarkhenning': 22600, 'qypvikcrfy': 22601, 'staygetnutty': 22602, 'trutherbot': 22603, 'capacitor': 22604, 'wadi': 22605, 'iiarwatch': 22606, 'hypebeastaustin': 22607, 'jqualley': 22608, 'yesssss': 22609, 'feelinyurthroat': 22610, 'beta': 22611, 'daedavidavie': 22612, 'ee2l5': 22613, 'fuhk': 22614, 'rstffagdwy': 22615, 'mika': 22616, 'dougnut': 22617, 'mummies': 22618, 'barks': 22619, 'thiiiiiiis': 22620, \"daughter's\": 22621, \"vet's\": 22622, 'callaway': 22623, 'urdaddy936192': 22624, 'lum1996': 22625, 'littered': 22626, 'colorado': 22627, 'lawmakers': 22628, 'legislation': 22629, 'shwqyb76pw': 22630, 'coreywhitejr3': 22631, 'upp': 22632, 'bellybutton': 22633, '1983': 22634, 'staciaburbidge': 22635, 'accelerated': 22636, 'warholian': 22637, 'notion': 22638, 'wrinkled': 22639, 'krispies': 22640, 'crackling': 22641, 'flciking': 22642, 'beanrozay': 22643, 'tokyo': 22644, 'tnkthemonstah': 22645, 'de9o4ttths': 22646, 'approximating': 22647, 'ragdoll': 22648, 'cosplay': 22649, 'kingcurtisjayy': 22650, 'drumstick': 22651, 'acn8j59r6b': 22652, 'yoshortyma': 22653, 'hesitation': 22654, 'uxepa9lvi5': 22655, 'blacked': 22656, 'alyssawiens': 22657, 'iameastatlanta': 22658, 'constantini': 22659, \"imflyinjryan's\": 22660, 'cruze2014': 22661, 'tutors': 22662, 'tas': 22663, 'tomar': 22664, 'prod': 22665, 'whsvgrantcruise': 22666, 'sanity': 22667, 'therfore': 22668, 'collectively': 22669, 'lag': 22670, 'fredrpvasquez': 22671, 'binniemouse': 22672, 'callmebuffy': 22673, 'rellyonsmash': 22674, 'jiggy': 22675, 'bl0ndeb1tch': 22676, 'yessssssss': 22677, 'rode': 22678, 'murderhigashi': 22679, 'tweetlikeyourbestfriend': 22680, 'lilkrebs': 22681, 'tinkkbaddass': 22682, '7wq5qzsils': 22683, 'danielle': 22684, 'overpriced': 22685, 'saya': 22686, 'natsukawa': 22687, 'japaneses': 22688, 'e1va9eiiz3': 22689, 'lastqueen': 22690, 'kamkamluvsblk': 22691, 'ghettogirls': 22692, 'yigkbrldhb': 22693, 'wilkos': 22694, 'agqwqzwtzx': 22695, 'watcha': 22696, 'believes116': 22697, 'ichoosetobeabstinent': 22698, 'supervisors': 22699, 'oysters': 22700, 'fatty': 22701, 'badddddd': 22702, 'morehart': 22703, 'cjc': 22704, 'joshuatyl0r': 22705, 'bcs': 22706, '314': 22707, 'revenue': 22708, 'georgecarlinsez': 22709, 'manure': 22710, 'hankwilliams': 22711, 'xkwon1l0nb': 22712, 'koreyona': 22713, 'regionally': 22714, 'distracted': 22715, 'lvxbxmgstd': 22716, 'michaelangelo': 22717, 'yaaaaaaasss': 22718, 'theyellonegro': 22719, 't4war9g8ct': 22720, 'spite': 22721, 'debmuhfknvera': 22722, 'dregambiino': 22723, 'swfpgrbliv': 22724, 'sooner': 22725, 'corie': 22726, 'intrigue': 22727, 'scotch': 22728, 'krenshaw': 22729, 'kiarithestone': 22730, 'intercept': 22731, 'equations': 22732, 'scrambled': 22733, 'erikxrosa': 22734, 'skurting': 22735, 'dtllzlxmpf': 22736, \"barry's\": 22737, 'brownshirts': 22738, 'punks': 22739, 'chant': 22740, '9nburmtj': 22741, 'hansolosson': 22742, 'toaster': 22743, 'ssb5erhd': 22744, 'mirah': 22745, '101': 22746, 'j0lwd4s9d5': 22747, 'damcgrizzlybear': 22748, 'pkzmkn2wko': 22749, 'thenotoriousd': 22750, 'fuccck': 22751, 'rn6nnnynxv': 22752, 'jae': 22753, 'mellow': 22754, 'tieddd': 22755, 'ywr': 22756, 'speedy': 22757, \"gif's\": 22758, 'newser': 22759, 'castabignet': 22760, 'illist': 22761, 'iamlekan': 22762, 'damolabond': 22763, \"cooder's\": 22764, 'loyalshawn': 22765, 'gallagher': 22766, 'xfleezus': 22767, 'sp5zrufvkl': 22768, 'braceface': 22769, 'chaos': 22770, 'showofhands': 22771, 'heights': 22772, 'dyckman': 22773, 'yells': 22774, 'commits': 22775, 'grounder': 22776, 'innin': 22777, 'vnksmith16': 22778, 'iamricolove': 22779, 'contortionist': 22780, 'thir': 22781, 'stoppaonline': 22782, 'kirkobangz': 22783, 'unreal': 22784, 'cdnrod': 22785, 'preventing': 22786, 'in2': 22787, 'i70shutdown': 22788, 'myers12': 22789, 'lilywalshh': 22790, 'dacing': 22791, 'impactparasite': 22792, 'niggerfood': 22793, 'niggerperson': 22794, 'betty': 22795, 'boop': 22796, 'technology': 22797, 'fiascos': 22798, 'illegitimate': 22799, 'usabillofrights': 22800, 'psychological': 22801, 'warfare': 22802, 'dhimmis': 22803, 'm8zlty0fzs': 22804, 'forces': 22805, 'nicholas': 22806, 'ted33': 22807, 'vh4tnekvtp': 22808, 'michonne': 22809, 'gutted': 22810, 'huff': 22811, 'kofi': 22812, 'forming': 22813, 'tfti': 22814, 'gregg': 22815, 'nastiest': 22816, '7su1uifuns': 22817, 'arosati96': 22818, 'bromance': 22819, 'qechhko42q': 22820, 'theblondebetch': 22821, 'nikedownluis15': 22822, 'tayhaswagg': 22823, 'truuuu': 22824, 'pazzsince95': 22825, 'celrcwziq3': 22826, 'jcsayre19': 22827, 'heelcastle': 22828, 'newnewgotbandz': 22829, 'p3heuboqbu': 22830, 'apology': 22831, 'semitic': 22832, 'byers12094': 22833, 'lj': 22834, 'rebellblume': 22835, 'sigrlukdaa': 22836, \"i'mma\": 22837, 'classiertrash': 22838, 'nenosmarma': 22839, 'andrewzoudo': 22840, 'janisjayy': 22841, 'knoww': 22842, 'gedddit': 22843, 'yoooou': 22844, 'boowhop': 22845, 'dearfeministmen': 22846, 'sacrificing': 22847, 'nkotb': 22848, 'blockheads': 22849, 'drugulaa': 22850, 'virus': 22851, 'whatwouldyouchangeaboutyourpast': 22852, 'comb': 22853, 'beards': 22854, 'pitching': 22855, \"'new\": 22856, \"boyfriend'\": 22857, '915': 22858, 'hannahalisee': 22859, 'hans': 22860, 'fbd': 22861, 'gedmelle': 22862, 'screamn': 22863, 'freemoneymelle': 22864, 'declothed': 22865, 'wln': 22866, 'gry': 22867, 'thatniggatroy': 22868, 'traplord': 22869, \"reese's\": 22870, 'f5rur3rklu': 22871, 'kooleycobain': 22872, 'likin': 22873, 'allegations': 22874, 'naive': 22875, 'fawx': 22876, 'conceded': 22877, 'ilusm': 22878, 'thekizzler': 22879, 'ble': 22880, 'medz4u': 22881, 'kattpacwilliams': 22882, 'trading': 22883, 'pla': 22884, 'thatgapeach': 22885, 'abadbitchcost': 22886, 'dcowboys2188': 22887, 'weeden': 22888, \"moe's\": 22889, 'taypaynay': 22890, 'xoxokellylynn': 22891, 'bundles': 22892, 'ev': 22893, 'ccm3aoisbp': 22894, 'lavarwalker': 22895, 'preparations': 22896, 'wintergirl93': 22897, \"tahmooressi's\": 22898, \"preezy's\": 22899, 'danielleekendra': 22900, 'sweetromance': 22901, 'redeemed1952': 22902, 'azws': 22903, 'i8urbitch': 22904, '1uphno3iip': 22905, 'perk': 22906, 'cashandboobies': 22907, 'alcoholic': 22908, 'downed': 22909, 'fyps': 22910, 'ugliness': 22911, 'badi': 22912, 'avengerstratus': 22913, 'pale': 22914, 'crangrape': 22915, 'whys': 22916, 'striped': 22917, 'tshirt': 22918, 'shocks': 22919, 'bitemy': 22920, 'charliedaniels': 22921, 'bombay': 22922, 'polly': 22923, 'zc8mlwneuc': 22924, 'ceut': 22925, 'bushco': 22926, \"o'neill\": 22927, 'trashing': 22928, 'gnarlsdarkley': 22929, 'fuckyouisaac': 22930, 'badgalzolanski': 22931, 'acehudsonjr': 22932, 'translates': 22933, 'submarines': 22934, 'kaboom': 22935, 'applaud': 22936, 'witha': 22937, 'abundance': 22938, 'esckmotrent': 22939, 'nextttt': 22940, 'xjkudt4bub': 22941, 'gem': 22942, 'lkjnb7uzmt': 22943, 'swaggverified': 22944, 'tyjust': 22945, 'liketre': 22946, 'roeee': 22947, 'pep': 22948, '201': 22949, 'rillo': 22950, 'virginiayumyum': 22951, 'fare': 22952, 'supermarket': 22953, 'kimikvi0': 22954, 'educating': 22955, 'rea': 22956, 'sza': 22957, 'cyb3rvibes': 22958, 'sejlasmajlovic': 22959, '1wt6bblidp': 22960, 'cdfuuu': 22961, 'fucknigga': 22962, 'tsgnews': 22963, 'collegian': 22964, 'teletubby': 22965, 'theft': 22966, 'leftovers': 22967, 'shawnda': 22968, 'kats': 22969, 'fezbandname': 22970, 'jimnastikowski': 22971, '3quarters2day': 22972, 'fvnpe7ukn7': 22973, 'specialty': 22974, 'dou': 22975, 'nowashington': 22976, 'lamps': 22977, 'yungralphmaejor': 22978, '250': 22979, 'yards': 22980, 'trashhhhhhhh': 22981, 'xii': 22982, 'citygirl': 22983, 'plaquemine': 22984, 'lydia': 22985, 'joltng': 22986, 'niger': 22987, 'fantasyfootballproblems': 22988, 'lizardlicktowin': 22989, 'cmchatlive': 22990, '2get': 22991, 'censorship': 22992, 'empowering': 22993, 'censoring': 22994, 'wholesale': 22995, 'sneakin': 22996, 'cocaina': 22997, 'customs': 22998, 'thedoniv': 22999, 'dogethedog': 23000, 'potassium': 23001, 'xinhdwytqs': 23002, 'royalswagg': 23003, 'wnbfuiuu04': 23004, 'yobritttany': 23005, 'wagon': 23006, 'terren': 23007, 'merky': 23008, 'huffposttaste': 23009, 'flavor': 23010, 'k8zup4ynzf': 23011, 'amuzatglx8': 23012, 'yourfavposts': 23013, 'd5dphkwi2l': 23014, 'ticked': 23015, 'guardian': 23016, 'argentina': 23017, 'twirling': 23018, 'towels': 23019, 'ijifh5fvo0': 23020, 'getty': 23021, 'rckp': 23022, 'tacopablo': 23023, 'dollaz': 23024, 'krispy717': 23025, 'melodicthunder': 23026, 'ishaboibrandon': 23027, 'kevinhart2reai': 23028, 'advertising': 23029, 'garner': 23030, '412': 23031, 'heyyyyyyyyyyy': 23032, 'toucherandrich': 23033, 'callmeshay': 23034, 'whammmmed': 23035, 'swervee': 23036, 'thk9mnqtrg': 23037, 'tp05ia7jbx': 23038, 'onedirection': 23039, 'amas': 23040, '9o1zfvlezv': 23041, 'richardbspencer': 23042, 'senrandpaul': 23043, 'zpkimh9ftg': 23044, 'bothers': 23045, 'jinxy': 23046, 'shaquita': 23047, 'wichard': 23048, 'fella': 23049, 'warrenholstein': 23050, 'mentallity': 23051, 'gucci10i7': 23052, 'traprinthions': 23053, '500k': 23054, 'spends': 23055, 'selves': 23056, 'neebaddazz': 23057, 'geddit': 23058, 'missvain': 23059, 'sirturn3r': 23060, 'waddupivy': 23061, 'yamming': 23062, 'gwendolync28': 23063, 'we7obtketb': 23064, 'clients': 23065, 'alexdunlapnfl': 23066, 'klbj': 23067, 'outlast': 23068, 'eduardo': 23069, 'nunez': 23070, 'adamsandy52': 23071, 'landoup': 23072, 'showtimemajed': 23073, 'mauroranallo': 23074, 'sandos': 23075, 'ripwhitney': 23076, 'fink': 23077, 'bonita': 23078, '57933': 23079, '58167': 23080, 'tolerant': 23081, 'trillbain': 23082, 'adamrotter': 23083, 'prust': 23084, 'fz6lxcs3ok': 23085, 'mtlhockey': 23086, 'inboxing': 23087, 'kiking': 23088, 'dming': 23089, 'snapchatting': 23090, 'emailing': 23091, 'hmsguy': 23092, \"rahal's\": 23093, 'isaiah': 23094, 'fasting': 23095, 'misszindzi': 23096, 'shining': 23097, '127775': 23098, 'ekwnl6bau4': 23099, 'thrillx3': 23100, 'burkes': 23101, 'hpxudcuneq': 23102, 'thekiddfranky': 23103, 'sew': 23104, 'macbeth870': 23105, 'bowebergdahl': 23106, 'lopsided': 23107, 'nanette': 23108, 'fairly': 23109, 'herbal': 23110, 'thepharaoh': 23111, 'zapollo0803': 23112, 'mildlydarkskin': 23113, 'inspect': 23114, 'impeachment': 23115, 'vocab': 23116, 'plasma': 23117, 'addiction': 23118, 'arguement': 23119, 'argurment': 23120, 'switzerland': 23121, 'willow': 23122, 'pocohontas': 23123, 'cellophane': 23124, 'formula': 23125, 'ryanh': 23126, 'muk': 23127, 'ceasar': 23128, 'rjakagunner': 23129, 'worship': 23130, 'lpietrantonio': 23131, 'bpg': 23132, 'ybkalo': 23133, 'd4xajbeib1': 23134, 'janet': 23135, 'calzone': 23136, \"amaris'\": 23137, 'sadisticbitch': 23138, \"'hello'\": 23139, 'seymourblanco': 23140, 'rlrnybfedt': 23141, 'onetimeformoet': 23142, 'truetorontogirl': 23143, 'rwd': 23144, '5ugfhrdrxt': 23145, 'trickz': 23146, 'zaycoolaf': 23147, 'intervals': 23148, 'tbwonqmnjv': 23149, 'nunub': 23150, 'cracking': 23151, '7vxuf6w048': 23152, 'mcwilliamsbrett': 23153, 'msaprylj': 23154, 'papale': 23155, 'beacg': 23156, 'bod': 23157, 'pussyjuices': 23158, 'rebukedsagacity': 23159, '2jvetnqnaa': 23160, 'whad6vfago': 23161, 'danaperino': 23162, '7vjwdcdtxv': 23163, 'chuckie': 23164, 'leetreble': 23165, 'goldielocks512': 23166, 'thelovemaster': 23167, 'tbdidtyott': 23168, 'mug': 23169, 'pow2shkwiz': 23170, 'defeats': 23171, 'gpr1hqlen2': 23172, 'gayle': 23173, 'japped': 23174, '8ironz85': 23175, 'trel': 23176, 'dnumberbefore': 23177, 'itsdrecord': 23178, 'undo': 23179, 'captioned': 23180, 'stephenstone4': 23181, 'jimboberson': 23182, 'skullmandible': 23183, 'newsflash': 23184, 'easton': 23185, 'pburg': 23186, 'diseases': 23187, 'trillions': 23188, 'kiantedevuan': 23189, 'mwxqnjm4so': 23190, 'sadr': 23191, 'baghdad': 23192, 'onslaught': 23193, 'l2xzruqwkp': 23194, 'chasemychucks': 23195, 'nopopularity': 23196, 'looove': 23197, 'popeyes': 23198, 'gladyouregone': 23199, '4l1fe': 23200, '6tiqtx': 23201, 'comparing': 23202, 'maxon': 23203, 'maxoff5': 23204, 'freeky': 23205, 'killsemaj': 23206, 'o7q3cmdpnt': 23207, 'j906t5ze2r': 23208, 'uon': 23209, 'a2rbvebeg1': 23210, 'pissyopants1': 23211, 'ayymartt': 23212, 'tweetnasschiqk': 23213, '2months': 23214, 'phaedra': 23215, 'mariah': 23216, 'katmurda': 23217, 'z4p52lbfek': 23218, 'cigs': 23219, 'blackredsoxfan': 23220, 'elderlwm': 23221, 'ps': 23222, 'iruddyou': 23223, 'majestic': 23224, 'gotonelessproblemwithoutya': 23225, 'ekfovvcwht': 23226, 'dinguling': 23227, 'woodpusha': 23228, 'tylerdunn22': 23229, 'crissstaaaaal': 23230, 'xchaazelle': 23231, 'poohsavage': 23232, 'especial': 23233, 'winnie': 23234, '0gexxj3svv': 23235, 'lockers': 23236, 'tvvitterroasts': 23237, 'maddie': 23238, 'karissa': 23239, 'cierra': 23240, 'protestant': 23241, 'lands': 23242, 'harryrellofonte': 23243, 'durin': 23244, 'kalay': 23245, 'laay': 23246, 'w1jet7eybj': 23247, 'reloaded': 23248, 'ypi52s4dtc': 23249, 'dolly': 23250, 'parton': 23251, 'centeral': 23252, 'moyles': 23253, 'fellani': 23254, 'rvp': 23255, 'siralexferguson': 23256, 'manchesterunited': 23257, 'manchesterderby': 23258, 'mufc': 23259, 'endlesslove': 23260, 'initial': 23261, 'drugz': 23262, '77stephanieg77': 23263, 'portable': 23264, 'allllll': 23265, 'aloneinmyownwar': 23266, 'uploading': 23267, 'majorleauge': 23268, 'worshipped': 23269, 'kaaygq': 23270, 'elennamichelle': 23271, 'pearl4': 23272, 'blocklist': 23273, 'convert': 23274, 'topless': 23275, '7n5x9fyvip': 23276, 'ezraxdavis': 23277, 'lornalovesmatt': 23278, 'delon03': 23279, 'aaryn': 23280, 'looser': 23281, 'mmadifresh': 23282, 'witchsistah': 23283, 'keepdatshit100': 23284, 'straatvogels': 23285, 'twittering': 23286, 'wruocdvkjt': 23287, 'huffpostimpact': 23288, '8853': 23289, 'djgs6rgdfv': 23290, 'learnt': 23291, 'bbcradio2': 23292, 'marvelmaliks': 23293, 'scootiemcb': 23294, 'pablomucholive': 23295, '37738921': 23296, 'fraternize': 23297, 'reasonswhywedontgetalong': 23298, 'natexhate': 23299, 'hogan': 23300, \"picka'nanny\": 23301, 'zoomed': 23302, 'layvbieiml': 23303, 'maddslander': 23304, '8eq3xb8cjb': 23305, 'ibezo': 23306, 'flopping': 23307, 'pup': 23308, '305mayor': 23309, 'katieloukarl': 23310, 'graduating': 23311, 'soprised': 23312, 'guccccci': 23313, 'peckin': 23314, 'porto': 23315, 'ricans': 23316, 'arab': 23317, 'axin': 23318, 'slickvick47': 23319, 'itstattoos': 23320, 'flamingo': 23321, 'anita': 23322, 'farid': 23323, 'angjly': 23324, 'hazelinaaax3': 23325, 'hrbek': 23326, 'kristiexox3': 23327, 'reverend': 23328, 'befriend': 23329, 'accountable': 23330, 'noelleonfox7': 23331, 'protestors': 23332, 'txxnmbpooa': 23333, 'revisit': 23334, 'skim': 23335, 'faggot696969': 23336, 'fuckherrightinthepussy': 23337, 'iijeriichoii': 23338, 'ewihbsqek8': 23339, 'shinigami': 23340, 'donaire': 23341, 'beleiber': 23342, '40xjwfjbvl': 23343, 'yandy': 23344, 'bentaterb': 23345, 'shayisdabomb': 23346, 'rainbowblake': 23347, 'hoein': 23348, 'pablofunes': 23349, 'oversized': 23350, 'reppin': 23351, 'ewing': 23352, '6z7snf26xh': 23353, 'freeeeezing': 23354, 'namaste': 23355, 'energetic': 23356, 'pickinupgirls': 23357, 'parris69': 23358, 'outterspaceswag': 23359, 'chipchipperson': 23360, 'chippah': 23361, 'kandiraven': 23362, 'oowe': 23363, 'eba': 23364, 'sandman': 23365, 'rochaaxx': 23366, 'stephanieschall': 23367, 'reinhard96': 23368, 'grin': 23369, 'bipolar': 23370, 'pyrex': 23371, 'whooooo': 23372, 'chelsey': 23373, 'chepa': 23374, 'irma': 23375, 'usage': 23376, 'scored': 23377, 'pimpchampaign': 23378, 'zigzagsxkush': 23379, 'pokemons': 23380, 'likee': 23381, 'callemgt': 23382, 'dex': 23383, 'diehard': 23384, 'debacle': 23385, 'hittehblunt': 23386, 'closeup': 23387, 'bkyeouwwv2': 23388, 'traditional': 23389, 'religions': 23390, 'johnny55perez': 23391, 'iguess': 23392, 'theyll': 23393, 'iudvnqckb4': 23394, 'gotchya': 23395, 'savannahx': 23396, 'chart': 23397, 'cheerstokellin': 23398, 'nicee': 23399, 'elmarauder': 23400, 'lightest': 23401, 'shiiiit': 23402, 'pontiac': 23403, 'holmes': 23404, 'gotsta': 23405, 'danwashburn': 23406, 'muammar': 23407, 'gaddafi': 23408, '7g70popw': 23409, 'sai': 23410, 'anywaaaaaays': 23411, 'pzpi8ruq4f': 23412, 'englishbrit123': 23413, 'smoker': 23414, 'h2rqf5oqwb': 23415, 'alllll': 23416, 'boojieque': 23417, 'webbmadethis': 23418, 'veronikahumbert': 23419, 'ultraviolence': 23420, '533flbvwqh': 23421, 'texashumor': 23422, 'kuzie': 23423, 'pools': 23424, 'glenbrittle': 23425, 'isle': 23426, 'skye': 23427, 'scotland': 23428, 'cyi6xsvn97': 23429, 'overpaid': 23430, 'improving': 23431, 'astrology': 23432, 'iamtreyu': 23433, 'itsfrankybitch': 23434, 'priyaohol': 23435, 'ykyfijzgsi': 23436, 'xmvtz0gtpp': 23437, 'ringless': 23438, 'barkley': 23439, 'bestsagittarius': 23440, 'compassionate': 23441, 'zaybillions': 23442, \"kayne's\": 23443, 'ibsffuqag4': 23444, 'cur': 23445, '2014alyssa': 23446, 'rnixx': 23447, 'kardashians': 23448, 'courtneyykay': 23449, 'cuming': 23450, 'sooooooooooon': 23451, 'zima': 23452, 'zaymxsdza3': 23453, 'cuhcuhcraig': 23454, 'kawhi': 23455, 'leonard': 23456, 'pharaohs': 23457, 'jmc2er32ka': 23458, '5xvpwwfrub': 23459, 'jadedbypolitics': 23460, 'coondawg68': 23461, 'sheen300': 23462, 'burrow': 23463, 'olmelonhead': 23464, '21wovyb50m': 23465, 'hahahhahaa': 23466, 'princebama': 23467, 'enngram': 23468, 'sloppery': 23469, 'nasawatch': 23470, 'tweetsoutloud': 23471, 'dsn50': 23472, 'nasasocial': 23473, 'onvuqns7ht': 23474, 'attempting': 23475, 'acknowledging': 23476, 'princessofwifi': 23477, 'rgg9iduvsi': 23478, 'phillips': 23479, 'bobmuellerwkrn': 23480, 'patsfanjoe32': 23481, 'yungxprnce': 23482, 'uhmime9psw': 23483, 'benched': 23484, 'vg3nbxetzp': 23485, 'jeffduncan': 23486, 'jsu': 23487, 'xnx2xegacm': 23488, 'skid': 23489, 'kix': 23490, 'cinderella': 23491, 'jovi': 23492, 'leppard': 23493, 'whitesnake': 23494, 'vinnie': 23495, 'invasion': 23496, 'ratt': 23497, 'scorpions': 23498, 'treydayy': 23499, 'pajama': 23500, 'djuvhsby84': 23501, 'hoodsbuttcrack': 23502, 'vegebitemeash': 23503, 'ethiopian': 23504, 'buyfoodlittleguy': 23505, 'whaaaat': 23506, 'wdywt': 23507, 'dkyqcnruno': 23508, 'toujoours': 23509, 'maddiedelahouss': 23510, 'nafxa8pdpa': 23511, 'byte': 23512, 'y3jyj2yf4l': 23513, 'conservativebyt': 23514, 'gygrzycijq': 23515, 'dolangang': 23516, 'lyssaboo': 23517, 'noheels': 23518, 'nspan17': 23519, 'pencils': 23520, 'sharpened': 23521, 'sharpen': 23522, '0s8phidlge': 23523, 'uglier': 23524, 'markudall2014': 23525, 'corygardner': 23526, 'sportswatch': 23527, 'judgmentalnyer': 23528, 'eveisapisces': 23529, '2charmss': 23530, 'chruch': 23531, 'fuckthesehoes': 23532, 'slate': 23533, 'legisl': 23534, 'stack': 23535, '1poloboy': 23536, 'lacz1e6tg7': 23537, 'asapcruz': 23538, 'kanyeeeeeee': 23539, 'fatass': 23540, 'waaay': 23541, 'chevrolet': 23542, 'legroom': 23543, 'ventilation': 23544, 'girllssues': 23545, 'gtfohhhhh': 23546, 'hiitaylorblake': 23547, 'xej8yv16mn': 23548, 'mumbo': 23549, 'bryanroxall': 23550, 'freshness': 23551, 'clocked': 23552, 'krustyiscute': 23553, 'paidinfull': 23554, 'brennonthekidd': 23555, 'rislnwwier': 23556, 'mac18': 23557, 'sheppast': 23558, 'groves': 23559, 'dorks': 23560, 'magnets': 23561, 'tmaeleen': 23562, 'mortimer': 23563, 'wiigjosh': 23564, 'iowa51005': 23565, 'tc': 23566, 'live2014': 23567, 'complimentary': 23568, 'snytv': 23569, 'yaaboijimmy': 23570, 'jvx0phe6po': 23571, 'wowsopunny': 23572, 'zloaj7tjy6': 23573, 'bpshow': 23574, 'currenttv': 23575, 'sportsgrind': 23576, 'simulator': 23577, 'chopper': 23578, 'bk': 23579, 'alison': 23580, 'nlisa': 23581, 'discussing': 23582, 'bes': 23583, 'blubloods': 23584, 'cbsnews': 23585, 'cbs': 23586, \"nog's\": 23587, 'hlghkey': 23588, 'defensive': 23589, 'dwig': 23590, 'klejdys': 23591, \"'hustlin'\": 23592, \"people'\": 23593, \"'revenge\": 23594, 'brits': 23595, 'stognerallie': 23596, 'bernstein': 23597, 'blocks': 23598, 'barley': 23599, 'snuff': 23600, 'prostitutes': 23601, 'brookenicole': 23602, 'questionoftheday': 23603, 'jesstoth': 23604, 'arrogantiii': 23605, 'racheldoesstuff': 23606, 'luuuuube': 23607, 'luuuube': 23608, 'dental': 23609, 'idriphelicks': 23610, 'farts': 23611, 'opuvgy5bjf': 23612, 'jaygrant': 23613, 'overboard': 23614, 'iayanna': 23615, 'o5v2e4lftm': 23616, 'fpjqpch99k': 23617, 'suckedoff': 23618, 'v2l7gmva8t': 23619, 'bathrobe': 23620, 'victorias': 23621, 'crittamo': 23622, 'swishers': 23623, 'romeriohall': 23624, 'nigor': 23625, 'jayfucknharris': 23626, 'youuuuu': 23627, 'fap': 23628, 'th6qoq4nep': 23629, 'trilla': 23630, \"victoria's\": 23631, 'earthwormslim': 23632, 'allowin': 23633, '2play': 23634, 'briceokc': 23635, 'gfys': 23636, 'laurenramirez16': 23637, 'satsuiyeshadou': 23638, 'bangs': 23639, 'memoriesofidots': 23640, 'dtla': 23641, 'theeaglefazi': 23642, '83': 23643, 'balochistan': 23644, 'sindh': 23645, '4l0mrpditf': 23646, 'simoncowell': 23647, 'p8hvkhrh2n': 23648, 'dnb0q5phvk': 23649, 'rayban': 23650, '128270': 23651, '128294': 23652, '128174': 23653, 'libertarians': 23654, 'revolution': 23655, 'crewz76': 23656, 'offs': 23657, 'misscleobb': 23658, 'brendonvbb12': 23659, 'rachels': 23660, 'rach': 23661, 'snutty': 23662, 'capitalizing': 23663, 'blond': 23664, 'ijtjvyy2vy': 23665, 'brazzen': 23666, 'unabashed': 23667, 'xtra': 23668, 'peezy': 23669, 'wankin': 23670, 'dropolo': 23671, 'datfullerkid': 23672, 'gimped': 23673, 'eruditetina': 23674, 'orgleader': 23675, 'revjjackson': 23676, 'mikebrown': 23677, 'ddaaawwgggffaaaccee': 23678, 'cccaalldddeerooonn': 23679, 'aktin': 23680, 'felt4dnd': 23681, 'harbison92': 23682, 'zwaaad': 23683, 'yeahh': 23684, 'youmynigga': 23685, 'appropriately': 23686, 'barkingcarnival': 23687, 'sgb9ryvdmb': 23688, 'gulfwings14': 23689, 'zlatan': 23690, 'dreamed': 23691, 'ng0gywaehf': 23692, 'cr8yfmktmg': 23693, 'pinkchocolatebk': 23694, 'loldyrus': 23695, 'fad': 23696, 'sakuras': 23697, 'january': 23698, 'wuwbyu2oyj': 23699, 'bedrock': 23700, 'vianka': 23701, 'jesuslovinj': 23702, 'diettime': 23703, 'suckmybenjamin': 23704, 'twatchin': 23705, 'nie': 23706, 'tooth': 23707, 'bandit': 23708, 'realzachk0enn': 23709, 'bubblegum': 23710, '6pack': 23711, 'iamjonahhili': 23712, 'notsheriffwoody': 23713, 'hawking': 23714, 'wq5yxwghd9': 23715, 'gabalini': 23716, 'fonda': 23717, 'reliever': 23718, 'recommend': 23719, 'missmollylo': 23720, 'historically': 23721, 'mando': 23722, 'shalewis09': 23723, 'degrading': 23724, 'junebugg': 23725, 'hags12': 23726, 'notoriousb': 23727, 'durtmchurtt': 23728, 'conway': 23729, 'twitty': 23730, 'hernandez719': 23731, 'balla': 23732, 'bellys': 23733, 'tamed': 23734, 'cajuncharm': 23735, 'elcinpoyrazlar': 23736, 'ufrcldiovx': 23737, 'markham': 23738, 'zukwj2ve2d': 23739, 'jog': 23740, 'saab1': 23741, 'jawad89': 23742, 'igo': 23743, 'brokeback': 23744, 'crzy4tay': 23745, 'youve': 23746, 'stephicans': 23747, 'mhmm': 23748, 'dineroloco': 23749, 'newzhuddle': 23750, 'ibethathigh': 23751, 'nickbratton3': 23752, 'shaegreyyy': 23753, 'gbe': 23754, 'banger': 23755, 'freewop': 23756, 'freeslick': 23757, 'kdy74ohutw': 23758, 'yeaaa': 23759, 'tambout': 23760, \"jesus'll\": 23761, 'thorough': 23762, 'heroine': 23763, 'pakistan': 23764, 'goldietaylor': 23765, 'thegrio': 23766, 'unify': 23767, 'eco': 23768, 'billmaher': 23769, 'sparrer': 23770, 'doeeee': 23771, 'millercoors': 23772, 'hy0ung': 23773, 'zippy1981': 23774, 'voretaq7': 23775, 'tdd': 23776, 'pov': 23777, 'linux': 23778, 'kernel': 23779, 'gnu': 23780, 'hurd': 23781, 'seasons': 23782, 'russel': 23783, 'carlos': 23784, 'ruiz': 23785, 'milesthompson': 23786, 'goauche': 23787, 'g3ze8bqlpg': 23788, 'robertgbeckel': 23789, 'andreatantaros': 23790, 'thefive': 23791, 'mandingo': 23792, 'iv9801': 23793, 'thmypfexic': 23794, 'hxmlrj1w6m': 23795, 'nigeldixon1': 23796, 'itskeeshkapeesh': 23797, 'bowlegged': 23798, 'deformed': 23799, 'moccabitchx3': 23800, 'kinkygoose': 23801, 'mangos': 23802, 'jingo': 23803, 'gobuycomb': 23804, 'krisannin': 23805, 'bauer': 23806, '24lad': 23807, 'usrealitycheck': 23808, '2ukcoicd9q': 23809, 'whorefandom': 23810, 'repgutierrez': 23811, 'rusty': 23812, 'axe': 23813, 'djlouis12': 23814, 'urinnerdevil': 23815, 'yje9lunwvp': 23816, 'fuckyou': 23817, 'rage': 23818, 'hiccup': 23819, 'portray': 23820, '6kjgd0z1x2': 23821, 'mcdoubles': 23822, 'soulsurvivor': 23823, 'zakbauer': 23824, 'zak': 23825, 'nbfaarxvrp': 23826, 'temptations': 23827, 'jomousley80': 23828, 'pilchards': 23829, 'krackerwheat': 23830, 'repeating': 23831, '6oldar': 23832, 'lovelyweird0': 23833, 'xmnim9yivn': 23834, 'drewhite3': 23835, 'annually': 23836, 'webb': 23837, 'wcvbkelleyt': 23838, 'adrianalisett': 23839, 'zulema': 23840, 'mayo': 23841, 'condiment': 23842, 'jakeywakeyz': 23843, 'brooksbeau': 23844, 'spree': 23845, 'followmebeau': 23846, 'wuw': 23847, 'wun': 23848, 'naturalbadassss': 23849, 'khamillkilroy': 23850, 'uhz1qkcrje': 23851, 'stepped': 23852, 'luaboo': 23853, \"6'2\": 23854, 'asslxrd': 23855, 'batters': 23856, 'corinne': 23857, 'sauer': 23858, 'yvngherbo': 23859, 'prayinforgems': 23860, 'damonethedon': 23861, 'rennystevens': 23862, 'messyyy': 23863, 'jamesyoucunt': 23864, '4zsxc': 23865, 'imhim': 23866, 'cutthroat': 23867, 'freshmen': 23868, 'nea': 23869, 'superi0r': 23870, '422': 23871, 'myassholesowet': 23872, 'aca': 23873, 'laralogan': 23874, 'adrienne': 23875, 'bailon': 23876, 'dkiswinning': 23877, 'gameplan': 23878, 'sicc': 23879, 'kaylaa': 23880, 'gdiiwrdgno': 23881, 'semper': 23882, 'fiibitch': 23883, 'farra': 23884, 'mikaylahh': 23885, '128048': 23886, 'ctrembz': 23887, 'unchained': 23888, 'hxyyujmorm': 23889, 'potentially': 23890, 'agitprop': 23891, 'parting': 23892, 'southside': 23893, 'moneychaserr': 23894, 'zrn': 23895, 'portland': 23896, 'affiliation': 23897, 'thickkkkkk': 23898, 'a3rmyfnus4': 23899, 'danablack55st': 23900, 'creativeblair': 23901, 'striveforlight': 23902, 'guidelines': 23903, 'vinegar': 23904, 'tal': 23905, 'white12': 23906, 'tools': 23907, 'candacevon': 23908, 'lifewitry': 23909, 'i8zxwkxk71': 23910, 'queenthottie': 23911, 'mahanain': 23912, 'dionairish': 23913, 'azaelia': 23914, 'soalmondie': 23915, 'aoas': 23916, 'mitchbattiste': 23917, 'iamjayla': 23918, 'oharrd': 23919, \"i''d\": 23920, 'mighty': 23921, 'saran': 23922, 'hoesscreamtessa': 23923, 'bankrolls': 23924, 'sammiches': 23925, 'kutztown': 23926, '128135': 23927, 'grisham': 23928, 'reneashac': 23929, 'nehmebazzi': 23930, 'roosters': 23931, 'svl305': 23932, 'leemcastro': 23933, 'blogger': 23934, 'moxy': 23935, 'slobin': 23936, \"i'\": 23937, 'caseyveggies': 23938, 'smite': 23939, 'charlemagne': 23940, 'daa': 23941, 'sluttyboy': 23942, 'keem': 23943, 'eie8d8c5cj': 23944, 'lataa': 23945, 'thancc': 23946, 'pimpinnpanderin': 23947, 'cleary': 23948, 'proofs': 23949, 'mvgt4l8': 23950, '1pbgyaow3n': 23951, 'glynjackson2': 23952, 'basss': 23953, 'meeeeeee': 23954, 'hypebeasts': 23955, 'scope': 23956, 'ywaq3hg0wf': 23957, '05235fd083ad408': 23958, 'mantanuskathunderfuck': 23959, 'sativadominant': 23960, 'tdjuj7q0qj': 23961, '6zwo2a5wgi': 23962, 'wimmie': 23963, 'shithole': 23964, 'summfest': 23965, 'rivera9roberto': 23966, '1ortiz1': 23967, 'opalrose4ursoul': 23968, 'prollu': 23969, 'finlife54': 23970, 'vontey': 23971, 'jeremyplatt': 23972, 'michelleharnois': 23973, 'spunk': 23974, 'witdiigcye': 23975, 'blholla': 23976, 'surething': 23977, 'esl': 23978, 'ease': 23979, 'coleymonique': 23980, 'brandan420': 23981, 'mainetheck': 23982, 'iexaminetitties': 23983, 'strictly': 23984, 'sportsnation': 23985, 'jacoby': 23986, 'rumor': 23987, 'cabr': 23988, 'y6pfs0kpvz': 23989, 'mentoring': 23990, 'pocapetite': 23991, 'emers': 23992, 'bossmelle': 23993, 'cheques': 23994, 'jediknightwing': 23995, 'pornstars': 23996, 'unfollwed': 23997, 'knifes': 23998, 'ieatlightskins': 23999, 'monseehuerta': 24000, 'instrumental': 24001, 'my5ojyz8w9': 24002, 'parkour': 24003, 'existing': 24004, 'bestofworldstar': 24005, 'ijs0b0vtoy': 24006, 'monique': 24007, 'rebeccaisfresh': 24008, 'rxrowjmbw0': 24009, 'jcastrosieira': 24010, 'kkdh6dtlfl': 24011, 'teamboosieboo': 24012, 'h4nur7zzb8': 24013, 'cjjsanchez': 24014, 'delao': 24015, \"khloee's\": 24016, '127912': 24017, 'tyndjcsq': 24018, 'icejjfish': 24019, 'flashbacks': 24020, 'gotmollylove': 24021, 'addressing': 24022, 'gvldenbeauty': 24023, 'woozy': 24024, 'billratchet': 24025, 'vottomanempire': 24026, 'stache': 24027, 'ndfootball': 24028, 'imcoollike': 24029, 'cofgrtw9br': 24030, 'downgrade': 24031, 'jayin': 24032, 'carey': 24033, 'ventura': 24034, 'ei': 24035, 'procreate': 24036, 'amys22cents': 24037, 'fitsnews': 24038, 'zpypjbu5yu': 24039, 'pooest': 24040, 'puppet': 24041, 'thenewsat': 24042, 'newsatquestions': 24043, 'jesse': 24044, 'pinkman': 24045, 'differences': 24046, 'drizzyswerve96': 24047, '0kkaren': 24048, 'homestand': 24049, '5ntacrq43m': 24050, 'shayna1': 24051, 'cared': 24052, 'actrist': 24053, 'sheebonyblack': 24054, 'hotkommodity05': 24055, 'ywz59nbnr7': 24056, 'backbone': 24057, 'kailscooper': 24058, 'restaurants': 24059, 'tmpbyyjgfl': 24060, 'branding': 24061, 'irratating': 24062, 'henderson': 24063, 'kilgore': 24064, 'longview': 24065, '128151': 24066, \"that've\": 24067, \"cuffin'\": 24068, 'bothering': 24069, 'bbrowne69': 24070, 'aliciaalexis209': 24071, 'cater': 24072, 'ja8t60vgge': 24073, 'youngprince': 24074, 'engaging': 24075, 'equipment': 24076, 'nansemonds': 24077, 'gutierrez': 24078, 'alf': 24079, 'antonio10': 24080, 'miguelito': 24081, 'sorry4thewait': 24082, 'quotinghistory': 24083, 'sadonna': 24084, 'rae': 24085, 'tissue': 24086, 'whatupwxll': 24087, 'dhem': 24088, 'mrmason251': 24089, 'mahoganylox': 24090, '03otpzxcbi': 24091, 'yaniggabuu': 24092, 'janemba': 24093, 'beijing': 24094, 'guoan': 24095, 'eeseor7iba': 24096, 'highsociety26': 24097, 'drayaface': 24098, 'malaysiapargo': 24099, 'attire': 24100, 'basketballwivesla': 24101, 'drayamondays': 24102, 'mala': 24103, 'barry': 24104, 'hearne': 24105, 'rononealdc': 24106, 'efxqnxeewq': 24107, 'ddictedtohoes': 24108, 'xqyjbkzanv': 24109, 'mgeminiquotes': 24110, 'qjipw0syeh': 24111, 'trulycece': 24112, 'deletin': 24113, 'memes': 24114, 'buckwheat': 24115, 'porky': 24116, 'bo96nels2p': 24117, 'raanonsense': 24118, 'trillycjuicy': 24119, 'tourneys': 24120, 'schmanged': 24121, 'fanboying': 24122, 'ratios': 24123, 'fromtheshwa': 24124, 'frogger': 24125, 'drunktalk': 24126, 'easportsfifa': 24127, 'amazin': 24128, 'celebrations': 24129, 'gawdd': 24130, 'throwed': 24131, 'brolic': 24132, 'c0ooydnq4m': 24133, 'sydneysantana': 24134, 'sparked': 24135, 'nluzgqv3eq': 24136, 'redfernave': 24137, 'trulyguy': 24138, 'betray': 24139, '8hnw9qewsm': 24140, 'merely': 24141, 'scientific': 24142, 'indicator': 24143, 'indiviuals': 24144, 'gmanistbe': 24145, '1ndiana': 24146, 'cheralynvb': 24147, 'lauriemckinley': 24148, 'smthng': 24149, 'evidence': 24150, 'midwest': 24151, 'blackymiles': 24152, 'baking': 24153, 'hydrogen': 24154, 'peroxide': 24155, 'washer': 24156, 'haneema': 24157, 'whiteprivilege': 24158, 'mutateroos': 24159, 'seminoles': 24160, 'seminole': 24161, 'tribe': 24162, 'goodies': 24163, 'ditto': 24164, '3pm': 24165, 'tic': 24166, 'tacs': 24167, 'takingbacksunda': 24168, 'nycgreenfield': 24169, 'lsarsour': 24170, 'yepitstrey': 24171, 'wsimdnbbjr': 24172, 'telephones': 24173, 'knockin': 24174, 'dent': 24175, 'cwhqm47v6t': 24176, 'quisiera': 24177, 'amarte': 24178, 'dijo': 24179, 'nunnie': 24180, 'luiesanches': 24181, 'almightyburr': 24182, 'humonthese': 24183, 'bender': 24184, 'jn8exkxf': 24185, 'alanmilner': 24186, 'alqueda': 24187, 'darren': 24188, 'htfgjj7kyt': 24189, 'hilareejay': 24190, 'dolls': 24191, 'lhvgnyzckr': 24192, 'morganwelborn': 24193, 'wvjoe911': 24194, 'hkmfpnruku': 24195, 'nemesis': 24196, 'stigma': 24197, 'remov': 24198, 'heynessagirl': 24199, 'yahhtriick': 24200, 'zigeuner': 24201, 'rapists': 24202, 'michiganmade': 24203, 'bases': 24204, 'petunia': 24205, 'aliciadaniella8': 24206, 'heyy': 24207, 'sheisjasnicole': 24208, 'walls': 24209, 'inflammed': 24210, 'yawl': 24211, 'aspirations': 24212, 'ohsodestinee': 24213, 'mobilesuitwaifu': 24214, 'pacos': 24215, 'idt': 24216, 'greatrt': 24217, 'keyawnagallatin': 24218, 'usmayors': 24219, 'senfeinstein': 24220, 'unleashes': 24221, 'dos': 24222, 'dando': 24223, 'vueltas': 24224, 'poller': 24225, 'mientras': 24226, 'cocinando': 24227, 'cuando': 24228, 'fxeeajmyfz': 24229, 'opportunities': 24230, 'goprograndprix': 24231, 'regularassron': 24232, 'mukeworld': 24233, '630': 24234, '362': 24235, '5206': 24236, 'jordan54': 24237, 'weilanthony': 24238, 'extradressing': 24239, 'beyonceland': 24240, 'gala': 24241, 'proposal': 24242, 'cox': 24243, 'conjugate': 24244, 'graceexo': 24245, 'turndown': 24246, 'follin': 24247, 'noleydunlap': 24248, 'rightway2': 24249, \"luu's\": 24250, 'dtjy9rhtdf': 24251, 'justwordsx': 24252, 'trece': 24253, 'guaranteed': 24254, 'quicker': 24255, 'demographics': 24256, 'vhy5s2apcn': 24257, 'xpdotjdot': 24258, '6wkvvpsxqp': 24259, 'pgsvqt9p2d': 24260, 'focused': 24261, 'hellondascale': 24262, '5kzqxf7zg9': 24263, 'nochillscottyd': 24264, 'grahams': 24265, 'yattabing': 24266, 'trades': 24267, 'cluelessnigga': 24268, 'admiralackbar3': 24269, 'allahthefairy': 24270, 'tayyibn': 24271, 'pdikbrvcj8': 24272, 'fal': 24273, 'tunchei': 24274, 'badblogger69': 24275, 'wenchbucket': 24276, 'acealford': 24277, 'baseddizenn': 24278, 'lq0xiuqjmr': 24279, 'reluctantly': 24280, 'culturally': 24281, 'babiesdressup': 24282, 'dmklk4k147': 24283, 'jumosq': 24284, 'zachkruse2': 24285, 'sobs': 24286, 'kiper': 24287, 'explained': 24288, 'dips': 24289, 'ceencrumpets': 24290, 'dywanwii': 24291, 'scotja2': 24292, 'imasavagebruh': 24293, 'slingy': 24294, 'salamander': 24295, 'tweeti': 24296, 'pahahaha': 24297, 'emergency': 24298, 'extend': 24299, 'pinky': 24300, 'lilfridayhoe': 24301, 'etellurian': 24302, 'bicycle': 24303, 'tiderecruits101': 24304, 'gibsons': 24305, 'organs': 24306, 'fuckiphones': 24307, 'alondra': 24308, 'possess': 24309, 'jflocka': 24310, 'coping': 24311, 'tycotatts': 24312, 'geekylesbianscientists': 24313, 'theblairbetch': 24314, 'douglasrichardsonships': 24315, 'zahyxtavvo': 24316, 'populated': 24317, 'concourse': 24318, 'mistaken': 24319, 'm90w9n1zbt': 24320, 'ceelo': 24321, 'ranch': 24322, 'dgk': 24323, 'chainskibum': 24324, 'sikorskey': 24325, 'anaya': 24326, 'crowther': 24327, 'fredericks': 24328, 'shawnzie3': 24329, 'foxtrot': 24330, 'kilo': 24331, 'wutkinda': 24332, 'ceeeleee': 24333, 'shitted': 24334, 'gurls': 24335, 'ckillatrippy': 24336, 'moniierozay': 24337, 'robprovince': 24338, 'hypocrites': 24339, 'migsmichelen': 24340, 'illusivehaven': 24341, 'shhhh': 24342, 'unhealed': 24343, 'wounds': 24344, '1nonlykeisha': 24345, 'vinnyguadagnino': 24346, 'sarahninjaginga': 24347, 'mshkl': 24348, '1574': 24349, '1603': 24350, '1606': 24351, '1586': 24352, '1548': 24353, '1582': 24354, '1578': 24355, '1593': 24356, '1594': 24357, '1590': 24358, '1607': 24359, '0lowkclb': 24360, 'ilysm': 24361, '128640': 24362, 'wyeisha': 24363, 'definemeee': 24364, 'vnpacheco21': 24365, 'xoxoclaire': 24366, 'treyhunter': 24367, 'medgmon': 24368, 'steezy': 24369, 'alexistiefa': 24370, 'theyself': 24371, 'truu': 24372, 'mjkeenan': 24373, 'kayt27': 24374, 'stephpaulus': 24375, 'jindal': 24376, 'enhanced': 24377, 'w0cyecqklo': 24378, 'qvqfto6vut': 24379, '253hippy': 24380, 'chanseydarapper': 24381, 'dwyanewade': 24382, 'makeyourownway': 24383, 'wayofwade': 24384, 'wastedenergy': 24385, 'ogelizabeth': 24386, 'socialite': 24387, 'dragrace': 24388, 'dragqueen': 24389, 'hdd8tbmyaj': 24390, 'joeysulipeck': 24391, 'myfoxmemphis': 24392, 'taylorr': 24393, 'newlegendaryera': 24394, 'unrealistic': 24395, 'marvz': 24396, 'subliminal': 24397, 'disses': 24398, 'forver': 24399, 'tripleogi': 24400, 'successfully': 24401, 'jacquebland': 24402, 'pointed': 24403, 'impartial': 24404, 'proceeds': 24405, 'm8l0nvaim2': 24406, 'whateverduuude': 24407, 'gbithc': 24408, 'hunny': 24409, 'chargers': 24410, 'boltupdoe': 24411, 'alanisnews': 24412, 'setlist': 24413, 'mainestatepier': 24414, 'td3bi3ev2g': 24415, 'sonned': 24416, 'rink': 24417, '8fk8lgxand': 24418, 'austinnn': 24419, 'balled': 24420, 'unintended': 24421, 'consequences': 24422, 'regulations': 24423, 'trays': 24424, 'uneaten': 24425, 'aamjhhow7y': 24426, 'guesss': 24427, '1041190': 24428, 'kibabjj': 24429, 'benito': 24430, 'xsotoxevelynx': 24431, 'yuhhh': 24432, 'tel': 24433, 'sneakbo': 24434, 'stormzy1': 24435, 'lucioxnava': 24436, 'ashamador': 24437, \"fo'\": 24438, 'muthaufckin': 24439, 'desiee': 24440, 'codyaveresch': 24441, 'brushes': 24442, 'bugattis': 24443, 'stundentpainters': 24444, 'nowwww': 24445, 'bangbros': 24446, 'abartick': 24447, 'aqua': 24448, 'p50wtgrz8a': 24449, 'x0jdphnw53': 24450, 'heisme': 24451, 'iamhim': 24452, 'jooselhynn': 24453, 'subnorbot1': 24454, 'puta': 24455, 'carlosnoodles': 24456, 'denote': 24457, '5s': 24458, 'nitro': 24459, 'm4': 24460, 'collossal': 24461, 'caykelly16': 24462, 'madisonearhart': 24463, 'reps': 24464, 'o13': 24465, 'leftists': 24466, '9eyi0k8w': 24467, 'gcan28': 24468, 'jeremywgr': 24469, 'ceycdvz4w5': 24470, 'alexi': 24471, 'yes117': 24472, 'apablo29': 24473, 'bibliography': 24474, 'hadnt': 24475, 'lighters': 24476, 'jusangel': 24477, 'mphqak2qeg': 24478, '675': 24479, 'fuckittt': 24480, 'schooling': 24481, \"92'\": 24482, 'wondertrade': 24483, 'wobbuffet': 24484, 'bongripbo': 24485, 'muhammad': 24486, 'crook': 24487, 'crisco': 24488, \"punctuation's\": 24489, 'patchouli': 24490, 'drbrewwatkins': 24491, 'dwyd4rrm7v': 24492, 'poloswagmaster': 24493, 'judkins': 24494, 'fzuxlpcmpv': 24495, 'taymy': 24496, 'shelbieperdue': 24497, 'romero': 24498, 'dmkbghai1z': 24499, 'silencer': 24500, 'cfl': 24501, 'lb': 24502, 'solomon': 24503, 'elimimian': 24504, 'opponent': 24505, 'eyjinwiwwe': 24506, 'nenakelly': 24507, 'runways': 24508, 'belo': 24509, 'usgeminis': 24510, 'obsessing': 24511, 'yooslim': 24512, 'talki': 24513, 'lybr3': 24514, 'miserably': 24515, 'crappy': 24516, 'initiative': 24517, 'riverajustin': 24518, 'soxandjox': 24519, 'g8rvuhcebn': 24520, 'plixi': 24521, '60040730': 24522, \"psycho's\": 24523, 'walkinghashtag': 24524, 'dumbcollegefun': 24525, 'rook': 24526, 'progressing': 24527, 'lustboy': 24528, 'kakao': 24529, 'tsm': 24530, 'msparka1': 24531, 'florence': 24532, '4dm8fpcb2d': 24533, 'wekdl09bq5': 24534, 'talents': 24535, 'unbecoming': 24536, 'grimes': 24537, 'trob': 24538, 'juandameskin': 24539, 'crw': 24540, 'materialized': 24541, 'atom': 24542, 'filtering': 24543, 'a9k3hjjgg9': 24544, '7pzrbwx0nu': 24545, 'claritin': 24546, 'wann': 24547, 'rebound': 24548, 'paigehardesty': 24549, 'rcooley123': 24550, 'apnsvg35uf': 24551, '10hsw': 24552, 'myluca01': 24553, 'denisgorman': 24554, 'peddle': 24555, 'cussss': 24556, 'doesss': 24557, 'sharpener': 24558, 'doghouse': 24559, 'baddie': 24560, 'nvuhknan5m': 24561, 'relates': 24562, 'noonecares': 24563, 'knwin': 24564, 'skull': 24565, 'vdajfvlwyp': 24566, 'yptz9o4sis': 24567, 'anne': 24568, 'measure': 24569, 'saymyname': 24570, 'triggatrav187': 24571, 'diz': 24572, 'mentalities': 24573, 'bolin': 24574, 'mykvh': 24575, 'homophobia': 24576, 'therealgeorgez': 24577, 'sperm': 24578, 'byejaliee5sos': 24579, 'inferred': 24580, 'coachktola': 24581, 'supremacist': 24582, 'fergus': 24583, 'mfoani': 24584, 'pleaseee': 24585, 'redhead': 24586, 'resolve': 24587, 'taylorlynn': 24588, 'ceee': 24589, 'pellucidstyles': 24590, 'littlechelleeee': 24591, 'gabbys': 24592, 'qualitywords': 24593, 'oeauxmar': 24594, 'fucboy': 24595, 'spirituals': 24596, 'applebee': 24597, 'motel': 24598, 'silverbirdusa': 24599, 'elsewhere': 24600, 'globe': 24601, 'orbit': 24602, '2more': 24603, \"d'usse\": 24604, 'gambit': 24605, 'serpas': 24606, 'penetrated': 24607, '8ye0rtk7xc': 24608, 'mistressofsham': 24609, 'enlarged': 24610, 'grandeftlou': 24611, '127868': 24612, 'thetumblrposts': 24613, 'idol': 24614, '6ovxrttxtn': 24615, 'vnr60mjfo6': 24616, 'danielmtz1997': 24617, 'rzfhabwtsv': 24618, 'dymondmarie1': 24619, 'somthinboutsara': 24620, 'harrington': 24621, 'swam': 24622, 'birdieb420': 24623, 'nowb': 24624, 'newscommenter': 24625, 'gatewaypundit': 24626, 'tiffantasticc': 24627, '5eva': 24628, 'chamsface4music': 24629, 'jtfooooo': 24630, 'curlyhairkilla': 24631, \"somebody's\": 24632, 'vinehumor': 24633, 'crashing': 24634, 'kuldr4mabp': 24635, 'littlelouie33': 24636, 'zooted': 24637, 'lifted23': 24638, 'dx': 24639, 'golilstacy': 24640, 'dkqhxpgokp': 24641, 'nadiaxo': 24642, 'lillivonschtupp': 24643, '13damage': 24644, 'brazenmodels': 24645, 'magazine': 24646, 'chromeasome': 24647, 'ionlygoraw': 24648, 'wsozqw8ynt': 24649, 'ch3burashka': 24650, 'uya': 24651, 'vivmmxii': 24652, '1mannyonly': 24653, 'milesss': 24654, 'som': 24655, 'tomcrean': 24656, 'creanandcrimson': 24657, 'shayconnnor': 24658, 'jonsweethearts': 24659, 'argie': 24660, 'alexiisstarr': 24661, 'occupyslu': 24662, 'shythugg': 24663, 'deolacola': 24664, 'dwade': 24665, 'cm55jy52j4': 24666, 'schieffer': 24667, 'smitten': 24668, '1965': 24669, 'freshcigarette': 24670, 'witmyrudeass': 24671, 'hawt': 24672, 'shessuchadoll': 24673, 'drewwhosurdaddy': 24674, 'w7tej28anr': 24675, 'amoz1939': 24676, 'haiku': 24677, 'mijikai': 24678, 'goldflacko': 24679, 'tjohngang': 24680, 'sd8uht4dny': 24681, 'fifty': 24682, 'angiecuh': 24683, 'squaw': 24684, 'insidejoke': 24685, 'daney': 24686, 'smurf': 24687, 'hellfire': 24688, 'missiles': 24689, 'vaporize': 24690, 'brownboy': 24691, 'yojhan174': 24692, 'indyfam': 24693, 'mrrigginss': 24694, 'cheapest': 24695, 'buter': 24696, 'syrup': 24697, 'jjloveup': 24698, 'keonamoore': 24699, 'bidness': 24700, 'klokus': 24701, '1ia8nx6zrs': 24702, 'icumnpeace': 24703, \"'looking\": 24704, \"glasses'\": 24705, 'kel': 24706, 'antoinette8': 24707, 'dipex': 24708, 'yrichn': 24709, 'basedgodtobi': 24710, 'bf8bgcaoei': 24711, 'g4k2dz4wsv': 24712, 'newest': 24713, 'incarnation': 24714, 'dequaan': 24715, 'khid': 24716, 'zay': 24717, 'zu1uoyqf9u': 24718, 'therealkiss': 24719, 'chojis': 24720, '2mw': 24721, 'sevenone': 24722, 'bmdsvmc3rc': 24723, 'belgian': 24724, 'pookiehuny': 24725, 'endoftheworldconfessions': 24726, 'nhl13': 24727, 'chiefgaming': 24728, 'scraped': 24729, 'creamm': 24730, 'texaskid1980': 24731, 'sociopath': 24732, 'chadruhlig': 24733, 'collinaudre': 24734, 'refurbished': 24735, 'mrspinkyyyy': 24736, 'truebake': 24737, 'hou': 24738, 'meetushere': 24739, '06olvik6ld': 24740, '128027': 24741, '128036': 24742, 'htownzoutlaw713': 24743, 'keshawn': 24744, 'soooooooooo': 24745, 'lounge': 24746, 'blaqdior': 24747, 'hpmiss': 24748, 'clubbb': 24749, 'shitter': 24750, 'gape': 24751, 'solopo82': 24752, 'furrystoat': 24753, 'nohomo': 24754, 'sexuality': 24755, 'chef': 24756, 'ltomasiello75': 24757, 'lift': 24758, 'angie': 24759, 'goodwood': 24760, 'clippings': 24761, 'thotslovenike': 24762, 'lgreiner3': 24763, 'raycewarden': 24764, 'bigjohn': 24765, 'studd': 24766, 'repcon': 24767, 'belindaav': 24768, 'keymikeskully': 24769, 'whe': 24770, 'oe0vjuopwd': 24771, 'panomera': 24772, 'lipstickyoda': 24773, 'respectable': 24774, 'igottfanss': 24775, 'wfantrades': 24776, 'nonsensical': 24777, 'gaggler': 24778, 'baggin': 24779, 'och': 24780, 'wonderbaarlijk': 24781, 'jan': 24782, 'alweer': 24783, 'marokkaanse': 24784, 'bner': 24785, 'aan': 24786, 'stok': 24787, 'fatima': 24788, 'lamyea': 24789, 'tofik': 24790, 'abdelka': 24791, 'gevonden': 24792, 'copied': 24793, 'emilyboomboom': 24794, 'jjusmaxx': 24795, 'wined': 24796, 'dined': 24797, \"wild'ning\": 24798, 'rajput': 24799, 'hindu': 24800, 'shivsainik': 24801, 'shri': 24802, 'jadhav': 24803, 'rameshjadhav': 24804, 'broadcasters': 24805, 'exsposin': 24806, '30s': 24807, '40s': 24808, 'medrano420': 24809, 'allielexilove': 24810, 'carmel': 24811, 'vincestaples': 24812, 'ptnszx6nid': 24813, 'joenbc': 24814, 'felony': 24815, 'collect': 24816, 'records': 24817, 'commentators': 24818, 'sliding': 24819, 'wheresshitgoing': 24820, 'arabspring': 24821, 'lonlontheone': 24822, 'workproblems': 24823, 'workflow': 24824, 'byebitch': 24825, 'gqzunhcvd3': 24826, 'carsontyler85': 24827, 'betterwithpets': 24828, 'teamdonny': 24829, 'joshkline1992': 24830, 'grls': 24831, 'princesses': 24832, 'yeaaah': 24833, 'tryhard': 24834, 'oomef': 24835, 'trillkvle': 24836, 'delivers': 24837, 'cigars': 24838, 'mkkberger': 24839, 'mlwberger': 24840, 'bigbergerc': 24841, 'thornton': 24842, 'dannytanner': 24843, 'i2qgswipdc': 24844, 'abdashcole': 24845, '4x4': 24846, 'raptor': 24847, '70k': 24848, 'uabiqvi6a6': 24849, 'raqqa': 24850, 'sem25live': 24851, 'dionprimo': 24852, 'departed': 24853, 'ricknothing': 24854, 'gender': 24855, 'neutral': 24856, 'whatttt': 24857, 'ag2pearl': 24858, 'k4iweugnyx': 24859, 'researched': 24860, 'elicit': 24861, 'kevineffinskaff': 24862, 'stuft': 24863, 'tylannol': 24864, 'spiller': 24865, 'hoovers': 24866, 'survived': 24867, 'swine': 24868, 'bloomberg': 24869, 'laindiekid': 24870, 'selfiesonselfies': 24871, 'fcmlvtigbl': 24872, 'plasticdom': 24873, 'scronybitch': 24874, 'indxgo': 24875, 'youngscooter': 24876, 'vid': 24877, 'attn': 24878, 'frisk': 24879, 'protesters': 24880, 'systematically': 24881, 'dispersed': 24882, 'jabroni': 24883, 'vdpiq8zuxo': 24884, 'xtee': 24885, 'ohx': 24886, 'rontheanchorman': 24887, 'aidaapple14': 24888, 'nigca': 24889, 'puzzy': 24890, 'czxrv9to4a': 24891, 'kay25': 24892, 'whiteypants11': 24893, 'dull': 24894, 'peers': 24895, 'speeding': 24896, 'krakin': 24897, 'ipem': 24898, 'lgcm88hsnp': 24899, 'grandadjfreeman': 24900, 'withou': 24901, 'adhjngzvpg': 24902, 'decatur': 24903, 'mead': 24904, 'embrrased': 24905, 'beatbox': 24906, 'kinkymuslim': 24907, 'reminiscin': 24908, 'swinger': 24909, 'sported': 24910, 'icrawley': 24911, 'planted': 24912, 'wick': 24913, 'itsgirllcode': 24914, 'osagqo567k': 24915, 'sprays': 24916, 'febreeze': 24917, 'neni': 24918, 'graduated': 24919, 'ssbeirne': 24920, 'lakeerie': 24921, 'ttl10nqbzj': 24922, '10thingsthatgetsonmynerves': 24923, \"beggin'\": 24924, 'teamsky': 24925, 'allezwiggo': 24926, 'vroomfroome': 24927, 'gocav': 24928, 'tdf12': 24929, 'xthemaddhatter': 24930, 'polierburrr': 24931, 'r0seaddams': 24932, 'wwsinej': 24933, 'kanyefaaces': 24934, 'kn1ykrw4j4': 24935, 'somebodies': 24936, 'gardy': 24937, 'yardy': 24938, \"cutler's\": 24939, '666joselopez': 24940, 'victorasap': 24941, 'n9dmdtvwts': 24942, 'wickett': 24943, 'langkeaton': 24944, 'ons': 24945, 'bcwit2nuz5': 24946, 'pooned': 24947, 'upppp': 24948, 'poser': 24949, 'taria': 24950, 'filterless': 24951, 'dari': 24952, 'chvrchs': 24953, 'lilfrenchy': 24954, 'trentlilweezy': 24955, 'nx2tqimo2a': 24956, 'burke113': 24957, 'donthebear': 24958, 'onstar': 24959, 'liixxmzndz': 24960, 'brz8imk5vk': 24961, 'capitalt': 24962, 'starin': 24963, \"huntin'\": 24964, 'npiq0js5uz': 24965, 'idontclaimhoes': 24966, 'mimistheone': 24967, 'kazooook': 24968, 'daofficialprime': 24969, 'elisha40hands': 24970, 'dkellz34': 24971, 'dinolich': 24972, 'evolutionary': 24973, 'claudiavice': 24974, 'despises': 24975, 'argentino': 24976, 'derekt529': 24977, 'dondelarente': 24978, 'kandi': 24979, 'burress': 24980, 'fuxing': 24981, 'xscape': 24982, 'iaughatmypain': 24983, 'bunz': 24984, 'cyberbullouing': 24985, 'olds': 24986, \"'''\": 24987, 'rasgyut6pj': 24988, 'qwxb4wbfzq': 24989, 'shirley': 24990, 'rhinestoned': 24991, 'thenetherlands': 24992, 'unwashed': 24993, 'conanobrien': 24994, 'aiiamericangiri': 24995, 'fec': 24996, 'guards': 24997, 'pve5nnaokv': 24998, 'wiunion': 24999, 'nico': 25000, 'somehoee': 25001, 'bernadettvajda': 25002, 'gingers': 25003, '934': 25004, '8616': 25005, 'downsouthoutlaw': 25006, '0i54t117x9': 25007, 'ovoxokatie': 25008, 'foodtabloid': 25009, 'ij0idcaqml': 25010, 'xbrandi': 25011, 'kyn7izfw4i': 25012, 'oharias': 25013, 'cringe': 25014, 'lnb2uxxqem': 25015, 'squeeze': 25016, 'tendilkar': 25017, '6nokkwikrl': 25018, 'athlete': 25019, 'congressman': 25020, 'dfndcqwdax': 25021, 'joanwalsh': 25022, 'kenohtoopretty': 25023, 'toyed': 25024, 'jc8azqu6nr': 25025, 'skimaskjojo': 25026, 'birdcage': 25027, 'byyyyyyrrrrrrrrrrrrr': 25028, 'sfsneeejayy': 25029, 'prolyy': 25030, 'bigdaddytise': 25031, 'bmb': 25032, 'felecia': 25033, \"savin'\": 25034, 'betteraretulips': 25035, 'cramping': 25036, 'ebs': 25037, 'fallon': 25038, 'prank': 25039, 'xnzkzlly4g': 25040, 'choochieee': 25041, 'whiskeyqueeen': 25042, 'dickin': 25043, 'thecelebrittany': 25044, 'unbutton': 25045, 'godsgracelove': 25046, '15thingsilove': 25047, 'wraps': 25048, 'jayymfcarter': 25049, 'nroth44': 25050, 'concession': 25051, 'mvhectyuys': 25052, 'coronadior': 25053, 'hunching': 25054, 'nhldevils': 25055, 'henrique': 25056, 'njdevils': 25057, '06': 25058, 'regulation': 25059, 'danicim': 25060, 'nkyathappala': 25061, 'gottagetthe30': 25062, 'ohhnickharmon': 25063, 'chats': 25064, 'rocafella123': 25065, 'vocabulary': 25066, 'fapplebee': 25067, 'sylvieamx': 25068, 'rigghhht': 25069, 'kevinlove': 25070, 'aixvatjqxu': 25071, 'ayungin': 25072, '9acino': 25073, 'chicagobulls': 25074, 'sharaplus2': 25075, 'askaugust': 25076, 'princevelly': 25077, 'androgyneadvent': 25078, 'mildly': 25079, 'justdoj': 25080, 'wessern': 25081, '4lmtfnl2iy': 25082, 'kittycopter': 25083, 'attendants': 25084, 'instructed': 25085, 'intension': 25086, 'soetoro': 25087, 'downsize': 25088, \"'oppressive'\": 25089, 'thebsharp': 25090, 'lodmtpapi': 25091, 'dt9nua4u7a': 25092, 'ulclfuf8nc': 25093, '1rxyqoosm0': 25094, 'stark': 25095, 'roberto': 25096, 'plow': 25097, 'hwbwj9ui': 25098, 'flvshy5': 25099, 'plaq': 25100, 'infinitely': 25101, 'couldbeeashia': 25102, '128590': 25103, '128117': 25104, 'calumlove1997': 25105, 'havti': 25106, 'kawasaki': 25107, 'flyyimpact': 25108, 'lopezbrittaney': 25109, 'thejanicexxx': 25110, 'nataleovrerytng': 25111, 'foreverrrjadaaa': 25112, 'evandmyers': 25113, 'nineinchessoft': 25114, 'benghazzi': 25115, 'nws': 25116, 'michael4h2o': 25117, 'inmate': 25118, 'sums': 25119, \"lebronjames'\": 25120, 'a68mtzqoel': 25121, 'bmrzfwstva': 25122, 'komo': 25123, '50ye6jaadu': 25124, 'swimming': 25125, 'lawyering': 25126, 'cmbgaming11': 25127, 'beechhd': 25128, 'theclairebear36': 25129, 'chocgirl': 25130, 'tramp': 25131, 'majornews911': 25132, 'massachusetts': 25133, 'su9jblplro': 25134, 'shantaughther': 25135, 'marchmadness': 25136, 'ho3micide': 25137, 'foreverfamous': 25138, 'qm5xdxnqyn': 25139, 'ballardtheg': 25140, 'ohmyev': 25141, 'justific': 25142, 'keepingupw': 25143, 'suhh': 25144, 'selenas': 25145, 'y6x6eagw20': 25146, 'owne1235': 25147, 'cydgoop9yz': 25148, 'way2fengshui': 25149, '2tonedasupastar': 25150, 'zwrimdzqnv': 25151, 'wesley': 25152, 'responsible': 25153, 'itslevelstoothisshit': 25154, 'bakedbeansbro': 25155, 'gvgmjj6vyi': 25156, 'playlist': 25157, 'reggaeton': 25158, 'bachata': 25159, 'jams': 25160, 'ronstackin': 25161, 'blogredmachine': 25162, 'joeyvotto': 25163, 'wassssupsarah': 25164, 'imnussie': 25165, 'disconnected': 25166, 'shmediums': 25167, 'hanima': 25168, 'thastonernation': 25169, 'ezo2quqvhu': 25170, '1043360': 25171, '4owe': 25172, 'gaielrpdik': 25173, 'lesterrnem': 25174, 'lacs': 25175, 'musclezauber': 25176, \"gun's\": 25177, 'thatd': 25178, 'creativecarley': 25179, 'youaremoreattractive': 25180, 'marsh': 25181, 'mellows': 25182, 'mcfarlene': 25183, 'nissa': 25184, 'jadee': 25185, 'valonfox13': 25186, 'av9ypjtwxn': 25187, '6jtlueuqkg': 25188, 'hostesses': 25189, 'itsmekylewayne': 25190, 'alicia112794': 25191, 'broadwaymensa': 25192, 'jalen': 25193, '5wxgkbcm29': 25194, 'thisty': 25195, 'slapp': 25196, 'daiinuh': 25197, 'kgokey17': 25198, 'stubbs': 25199, 'kushed': 25200, '8lrhrzcauk': 25201, 'buckeyewearing': 25202, 'bestsongtohavesexto': 25203, 'bangbang': 25204, 'crc': 25205, 'puravida': 25206, 'dcagrh4sle': 25207, 'miquelpaniscus': 25208, 'arcusgreatapes': 25209, 'graspunep': 25210, 'ritual': 25211, 'directions': 25212, 'minutesme': 25213, 'txu9nmwqha': 25214, 'maricelabela': 25215, 'michaelfraughto': 25216, 'misskaee': 25217, 'mrdavidross': 25218, 'wogxy8wjiw': 25219, 'bbillions': 25220, 'handshakes': 25221, 'owr6bjozz4': 25222, 'emmanillanilla': 25223, '3tk3usclwd': 25224, 'corybandz': 25225, 'itat': 25226, 'upay': 25227, 'twincitytyson': 25228, 'spatoon': 25229, 'rashaansalaami': 25230, 'concepts': 25231, 'jamesdajewison': 25232, 'jewbacca': 25233, 'lb274gh': 25234, 'imperial': 25235, 'preparing': 25236, 'willbur64': 25237, 'wolzgotbolz': 25238, 'suzan': 25239, \"'you'd\": 25240, \"woman'\": 25241, 'diaryofamadblackwoman': 25242, 'triccin': 25243, 'bvsedxjesus': 25244, 'uncleblazer': 25245, 'kathyislovely': 25246, \"'che\": 25247, 'madeadonplay': 25248, 'iyqrbn2amf': 25249, 'kingston': 25250, 'oxfbmrtocs': 25251, 'bigbbrown': 25252, 'halfjewish': 25253, 'stills': 25254, '6uowecbuqo': 25255, 'rational': 25256, 'transmitter': 25257, 'realdjtv': 25258, 'cycdbhbxkq': 25259, 'dongs': 25260, 'ihopeitssuposetobetonight': 25261, 'rubbers': 25262, 'hidevon': 25263, 'ayoteeshh': 25264, 'stonnaaaaa': 25265, '127810': 25266, 'naenae': 25267, 'pn': 25268, 'stayfoqused': 25269, 'vagfax': 25270, 'dombeets': 25271, 'fastballs': 25272, 'giuliani': 25273, 'ejpdwls5qj': 25274, 'reedzy': 25275, 'lima': 25276, 'fears': 25277, \"rayevernham's\": 25278, 'americarna': 25279, 'appearances': 25280, 'reproduce': 25281, 'alyssamichh': 25282, 'yungdipio': 25283, 'rafter': 25284, 'bleedingtrap': 25285, 'thefatamy': 25286, 'laurasimpson19': 25287, 'jdjohnson7': 25288, 'tow': 25289, 'johndeere': 25290, '4455': 25291, 'ifinqwvrad': 25292, 'dnainfochi': 25293, 'replacing': 25294, 'boundary': 25295, \"park's\": 25296, 'variety': 25297, 'migratory': 25298, 'stroked': 25299, 'theroot': 25300, 'ev4xgi5pgc': 25301, 'i6xs8hcnrb': 25302, 'laaaeee': 25303, 'regina': 25304, 'bttoczqk5s': 25305, 'twittwithjosh': 25306, 'vitriol': 25307, 'creates': 25308, 'libtard': 25309, 'dicklicker': 25310, 'fudg': 25311, 'skippylongdick': 25312, 'reall': 25313, \"'minimum\": 25314, \"fee'\": 25315, 'gjkxmziizs': 25316, 'funccy': 25317, 'murdaaamike': 25318, 'dahliafoxx': 25319, 'baddiebelladona': 25320, 'jaiiiiibree': 25321, 'hayes2345': 25322, 'pokeflute': 25323, 'yfn3pdmdy1': 25324, 'hitmanholla': 25325, 'hitm': 25326, 'bradleyc': 25327, 'dlc': 25328, 'cruisin': 25329, \"64'\": 25330, 'laurarosencohen': 25331, 'askdrmann': 25332, 'amici': 25333, 'behalf': 25334, 'valentin': 25335, 'espnmag': 25336, 'msuwxc3tyx': 25337, 'spon': 25338, 'lolahas': 25339, '336': 25340, 'geale': 25341, 'gealemundine2': 25342, 'ship': 25343, \"bitchin'\": 25344, 'ucghry7zge': 25345, 'shetrillaryc': 25346, 'expectations': 25347, 'likejordangaf': 25348, 'genetics': 25349, 'unnnnn': 25350, 'cenasux43': 25351, 'thebrianmo': 25352, 'allusion': 25353, 'robertbarber64': 25354, 'tapatio': 25355, 'flake': 25356, 'salutemiswag': 25357, 'simplyperfectt': 25358, 'rgja7cfoit': 25359, 'val': 25360, 'trashyyy': 25361, 'taexchanae': 25362, 'suure': 25363, 'nogermswanted': 25364, 'wgyl5upjqq': 25365, 'mikie360': 25366, '30k': 25367, '7pqs8a2zlt': 25368, 'estellerbabe': 25369, 'airs': 25370, 'ballots': 25371, 'youknowdoby': 25372, 'nallah': 25373, 'mckenxcassie': 25374, 'jawdan': 25375, 'bbm': 25376, 'michaelsafady': 25377, 'ybcsutdgmw': 25378, 'nnwums32b4': 25379, 'whispering': 25380, 'hoadie1006': 25381, 'vermontgirlsbelike': 25382, 'thisisvt': 25383, 'wflzyxmvk6': 25384, 'actresses': 25385, 'pissy': 25386, 'itrapwatermelon': 25387, 'tweety': 25388, 'jbnonm3n1p': 25389, 'pause': 25390, 'cornerboyp': 25391, 'tklxuuxo': 25392, 'dontarguejustacceptit': 25393, 'onthiscloud': 25394, 'sexmatical': 25395, 'wgvceponh8': 25396, 'purchased': 25397, \"grandfather's\": 25398, 'weirdtweets': 25399, 'bjergsen': 25400, 'rune': 25401, 'sofpizzie': 25402, 'geokthree': 25403, 'derecho': 25404, 'thunderstorm': 25405, 'wvwx': 25406, 'thurl': 25407, 'twayne1010': 25408, \"manson's\": 25409, 'fiancee': 25410, 'difficult': 25411, 'honeymoon': 25412, 'xmfcv9rmv5': 25413, 'halawa0402': 25414, 'kqrmhszmpj': 25415, 'sternshow': 25416, 'lookng': 25417, \"lee's\": 25418, '4getaboutit': 25419, 'damnfucknee': 25420, 'roasting': 25421, 'thuggchelseaa': 25422, '7niebl9xqr': 25423, 'iss': 25424, 'nymphos': 25425, 'kade': 25426, 'melton': 25427, 'triesto': 25428, 'austinz18': 25429, 'dracula': 25430, 'axes': 25431, 'roro': 25432, 'sophie': 25433, 'actuarialreport': 25434, 'involve': 25435, '1o7ajdbjlc': 25436, 'magicjuice': 25437, 'giantduck': 25438, 'pittsburghduck': 25439, 'wpxi': 25440, 'nofliter': 25441, 'duckburgh': 25442, 'anax2lzcri': 25443, 'cjduchesneau': 25444, 'bair': 25445, \"century's\": 25446, 'voiced': 25447, 'farrahisawhore': 25448, 'persianfarrah': 25449, 'heals': 25450, 'onlyhiphopfacts': 25451, 'bambam': 25452, 'plyin': 25453, 'bitchbeeasy': 25454, 'sterling31': 25455, 'jeremiahkoeking': 25456, 'certificates': 25457, 'completion': 25458, '128195': 25459, 'ironic': 25460, 'trashcan': 25461, 'ooxlexx': 25462, 'fxckashuk': 25463, 'kicker': 25464, '10yrs': 25465, 'hazelnut': 25466, 'marmar': 25467, 'shottie': 25468, 'dacoolestlame': 25469, 'bcu': 25470, 'ucf': 25471, 'growin': 25472, \"manning's\": 25473, 'remarkable': 25474, '477': 25475, 'completions': 25476, 'isfdudu9bx': 25477, 'fukniccas': 25478, 'therealmugatu': 25479, 'deet02': 25480, 'mikenapoli25': 25481, 'motorcycle': 25482, 'seeeeen': 25483, 'faceeeee': 25484, 'maa': 25485, 'codyflitcraft': 25486, 'persian': 25487, 'bitvj': 25488, 'funnyguy': 25489, 'poffalicious': 25490, 'andrewbryant': 25491, 'sewing': 25492, 'presentable': 25493, 'isisfeminism': 25494, 'sn5kuwmx78': 25495, 'zednanreh': 25496, 'inmyzoneeee': 25497, 'so4copppu9': 25498, 'nahhhhh': 25499, '1200': 25500, 'markadkins2': 25501, 'projectdrugs': 25502, 'ebr': 25503, 'chiefington': 25504, 'wc': 25505, 'babbbbbbyyyy': 25506, 'gojackets973': 25507, 'gtvt1': 25508, '2necklaceez': 25509, 'yaaa': 25510, 'applies': 25511, 'snooty': 25512, 'spence1reed': 25513, 'qzxi0iufcf': 25514, 'vanessa': 25515, '127805': 25516, 'ssn': 25517, 'poon': 25518, 'thomkins': 25519, 'couldntbehappier': 25520, 'vaca': 25521, 'grotesmurf0': 25522, 'illmartino': 25523, 'kangucup3': 25524, 'goh': 25525, 'anoniemeaso': 25526, 'pauze': 25527, 'steeds': 25528, 'hoofdstuk': 25529, 'haal': 25530, \"m'n\": 25531, 'thotsnextdoor': 25532, 'wetness': 25533, 'tong': 25534, 'joshraggs': 25535, 'nooworrriess': 25536, 'vape': 25537, 'zannlxrd': 25538, 'announcing': 25539, 'bender3395': 25540, 'waynesworld171': 25541, 'svsu': 25542, 'lexieeller': 25543, 'mohamed': 25544, 'trustin': 25545, 'svs8idzjyp': 25546, 'commune': 25547, 'railroad': 25548, 'roseanne': 25549, 'zzzquil': 25550, 'potpwincess': 25551, 'durant': 25552, 'bakedbrotatoes': 25553, 'eg6gxggzfc': 25554, 'jalenrose': 25555, 'ped': 25556, 'users': 25557, 'sketchball': 25558, 'brendanschaub': 25559, 'mart88': 25560, 'jaheim': 25561, 'donell': 25562, 'ginuwine': 25563, 'dru': 25564, 'bullshittin': 25565, 'bevo': 25566, 'unzip': 25567, 'limitlessmudi': 25568, 'yodeddyugly': 25569, 'overgrown': 25570, '1rbjohben6': 25571, 'terrorfranchise': 25572, 'chung': 25573, '128282': 25574, 'trait': 25575, 'donlemoncnn': 25576, 'platform': 25577, 'simplycaitlin': 25578, 'muching': 25579, 'ticket': 25580, 'marrybel': 25581, 'shiii': 25582, \"bf's\": 25583, 'flirts': 25584, 'realgilbert': 25585, 'alexaschwerer': 25586, 'jennchesss': 25587, 'saraluvvxxx': 25588, 'glennalfonso': 25589, 'tym2jd7h3z': 25590, 'whenarappersaid': 25591, 'zkvwfk18d0': 25592, 'landontours': 25593, 'wud': 25594, '3136139299': 25595, 'jetzlyfe412': 25596, 'darksklndrake': 25597, 'uujeaxzbyw': 25598, 'floridaprimary': 25599, 'pouch': 25600, 'ily2': 25601, 'tuq0uad8bk': 25602, 'josesitoriveraa': 25603, 'seater': 25604, 'yokohamas': 25605, 'vogues': 25606, 'glued': 25607, 'toosoon': 25608, 'crusader': 25609, 'pharr': 25610, 'thebank': 25611, 'forgivemehera': 25612, \"'i\": 25613, \"myself'\": 25614, 'blacclabelle': 25615, 'blessedyaszay': 25616, 'iwanttopunchpeoplewho': 25617, 'designswithsoul': 25618, 'sexxistud': 25619, 'absoulxo': 25620, \"boolin'\": 25621, 'bando': 25622, 'claes': 25623, 'qc5if6g4fg': 25624, 'y89oj5yh9m': 25625, 'rellos': 25626, 'yaaagirlllmeggx': 25627, 'kaylynkitz': 25628, 'hears': 25629, 'cg': 25630, 'flagged': 25631, 'frf23wllbv': 25632, 'lispy': 25633, 'tara': 25634, 'jiovanni': 25635, 'lanaecute': 25636, 'zrastall17': 25637, 'eloquently': 25638, 'stated': 25639, 'coughlin': 25640, 'geriatric': 25641, 'kerrtheresa': 25642, 'moderator': 25643, 'jbsoprano': 25644, 'elegant': 25645, 'ouxwbytut6': 25646, 'frenzy': 25647, 'sassycrass': 25648, 'mcnab': 25649, 'losoworld': 25650, 'nikka': 25651, 'iheinz201': 25652, '30th': 25653, 'awaaaaay': 25654, 'putya': 25655, 'onit': 25656, 'staples': 25657, 'yankeeography': 25658, \"d'backs\": 25659, 'hurrrr': 25660, 'mrwoofless': 25661, \"let'em\": 25662, '2ssss': 25663, 'gbbiob1ots': 25664, 'lhhny': 25665, 'ratcheticity': 25666, 'browngal': 25667, 'kfhj8lwhbs': 25668, 'lexxx': 25669, 'ruger': 25670, 'lg83fwldwp': 25671, 'terribly': 25672, 'goldie': 25673, 'brim': 25674, 'howlilwayneraps': 25675, 'cycltbkpno': 25676, 'jonesss': 25677, 'childishgarbino': 25678, \"danny's\": 25679, 'fkdeyzqt': 25680, 'makamj': 25681, 'qualities': 25682, '6hofblxaul': 25683, 'sisssyhaymaan': 25684, 'queenalyzee': 25685, 'dignity': 25686, 'killpiffy': 25687, 'pataki': 25688, 'dealmethtokids': 25689, 'sae': 25690, 'feeld': 25691, 'kawkin': 25692, 'beeotch': 25693, 'oomruo1obi': 25694, 'tinnytimm': 25695, '128558': 25696, 'gey': 25697, 'subsciously': 25698, 'karmenkarma': 25699, 'kimkxxx': 25700, 'tristan': 25701, 'berri': 25702, 'youknowrilynn': 25703, 'amandatatexxx': 25704, 'happybirthdaytome': 25705, 'badlvck': 25706, 'karynhalpin': 25707, 'foreskins': 25708, 'circumcise': 25709, 'foreskin': 25710, 'govs310': 25711, 'lemonade': 25712, 'mandymarin': 25713, 'ceyb1b3rf0': 25714, 'niejiryg7u': 25715, 'lightbill': 25716, 'scab': 25717, 'sweatshop': 25718, '128677': 25719, 'nofuks007': 25720, 'vinnyliarda': 25721, 'fuckdimmy': 25722, 'vinnysnotmadon': 25723, 'billgetsbuns': 25724, 'baeemot812': 25725, 'somexlcan': 25726, 'jehsee': 25727, 'hath': 25728, 'fanfare': 25729, 'sherinavictoria': 25730, 'waaaaay': 25731, 'shawnnasanford': 25732, 'meganmonday13': 25733, 'kelsss': 25734, 'pooped': 25735, \"niro's\": 25736, 'thiizz': 25737, 'hornyjhb': 25738, 'zvymcxquta': 25739, 'bornhvstler': 25740, 'hoethea': 25741, 'kfocht735': 25742, 'combining': 25743, 'nflbadwitch': 25744, 'thejazzybelle': 25745, 'sortabad': 25746, 'scripps': 25747, \"'knaidel'\": 25748, 'rashodjackson': 25749, 'nbcsports': 25750, 'ejected': 25751, 'substance': 25752, '7c3ekgdovb': 25753, 'jesslaw': 25754, \"uncle's\": 25755, 'backflip': 25756, 'thissssssss': 25757, '2fly3xl': 25758, 'registering': 25759, 'hzaorfuv5x': 25760, \"'shawty'\": 25761, 'paintings': 25762, 'mythological': 25763, 'byeeee': 25764, 'cuunthiaaa': 25765, 'snuck': 25766, '3tilinfinity': 25767, 'kto40': 25768, 'cgt4fkr2yx': 25769, 'removing': 25770, 'choir': 25771, 'aj5hwhprwc': 25772, 'shelbymccurry': 25773, 'whitekidwraps': 25774, 'aurabogado': 25775, 'protocols': 25776, 'wuh': 25777, 'guzxabjixj': 25778, 'scholarship': 25779, 'luther': 25780, 'littlejohn': 25781, 'halp': 25782, 'amazement': 25783, 'smileitsalexx': 25784, 'mhmmm': 25785, 'jenetteeem': 25786, 'afr2nspcpi': 25787, 'asshats': 25788, 'islamophobe': 25789, 'gohard': 25790, 'daddy9': 25791, 'hadddd': 25792, 'bagged': 25793, 'mojogreen1217': 25794, 'tuck': 25795, 'j1pwlaercu': 25796, 'slightlyadjusted': 25797, 'alls': 25798, 'feebito': 25799, 'lonernigga': 25800, 'longestmonday': 25801, 'declare': 25802, '217': 25803, 'hehehehehe': 25804, 'l8cuvnznwm': 25805, 'bitchnigga': 25806, 'bla': 25807, 'plash': 25808, 'kathleenparker': 25809, 'c4jnqwp9dw': 25810, 'melecht': 25811, 'apartheid': 25812, 'pedestrian': 25813, 'bowf': 25814, 'twerktape': 25815, '5d42kqvo50': 25816, 'secondline': 25817, 'bridgewater': 25818, 'clowns': 25819, '169': 25820, 'afuehring': 25821, 'fenna': 25822, 'ryannotsheckler': 25823, '0tkum7lh1f': 25824, 'scrum': 25825, 'fallsevens': 25826, 'distonga': 25827, 'niniwubbsme': 25828, 'rugby': 25829, '6vufvao2ek': 25830, 'zykerria': 25831, '8ha6xac0h5': 25832, 'upd': 25833, 'dik': 25834, 'suker': 25835, 'morganx3blowin': 25836, 'turnoff': 25837, 'jaxx': 25838, 'staxx': 25839, 'baranosky': 25840, \"'constitutionalists'\": 25841, 'ratify': 25842, 'centerpiece': 25843, 'comeout': 25844, 'scubakitteh': 25845, 'du': 25846, '1ck21iveup': 25847, 'gassss': 25848, 'carterreynolds': 25849, 'mahone': 25850, 'd4enqkdswr': 25851, 'thatkid': 25852, 'vicente': 25853, 'diamondbacks': 25854, 'mmmprexton': 25855, 'ramzyjay': 25856, 'ballzahoy': 25857, 'killers': 25858, 'appreciation': 25859, 'startin': 25860, 'justjomartinez': 25861, 'vidal': 25862, 'lucia': 25863, 'mobjoe': 25864, 'ottomattic': 25865, 'dollywood': 25866, 'jllkzbhyoy': 25867, 'jllve': 25868, 'munafal777': 25869, 'cumminssamantha': 25870, 'barbienixon': 25871, 'reneexomarie': 25872, 'markiiejay': 25873, 'feverspell': 25874, '1dgroupiegossip': 25875, 'bundle': 25876, 'percy': 25877, 'harvin': 25878, 'shxt': 25879, 'davidortiz': 25880, 'robs': 25881, '3xapayzbge': 25882, 'capitolevan': 25883, 'linsanity22': 25884, 'derrrrrrr': 25885, 'showman': 25886, 'norbit': 25887, 'ohhhchad': 25888, 'gorge': 25889, 'iambillyshears': 25890, 'luvvs': 25891, \"katy's\": 25892, 'firehouse': 25893, 'hasta': 25894, 'oiidxkl32a': 25895, 'traplordhoe': 25896, 'dw7fu9l9y2': 25897, 'fukkitsbrittney': 25898, 'proofgelato': 25899, 'raspberry': 25900, 'gin': 25901, 'sorbet': 25902, 'gelatocart': 25903, 'pookie': 25904, '1usagrunt': 25905, 'sasha': 25906, 'atfierce': 25907, 'queenkhia': 25908, 'cherrybby': 25909, 'inmiddleschool': 25910, 'js8ulddznl': 25911, 'smackhighaz': 25912, 'seton': 25913, 'theonlybdavey': 25914, 'uggo': 25915, 'thevinenation': 25916, '1xv2fyehze': 25917, 'iamthatprettymf': 25918, 'shenellyb': 25919, 'wzbdbi0f9k': 25920, 'bi1rq6a1ur': 25921, 'myhips': 25922, 'dntlie': 25923, 'wantttt': 25924, 'phreshagu': 25925, 'visionaryj': 25926, \"sellin'\": 25927, 'truudayyb': 25928, 'scarface': 25929, 'datniggat': 25930, 'crenshaw': 25931, 'dblbyvx0pl': 25932, 'themanoncampus': 25933, '5hawtyyy': 25934, 'myunpopularopinion': 25935, 'averyrondinelli': 25936, 'competition': 25937, 'pacmansback': 25938, 'typos': 25939, 'h76rptl8wq': 25940, 'hittas': 25941, 'hj8gaffzam': 25942, 'brionnanicole': 25943, 'revive': 25944, 'helton': 25945, 'pulledpork': 25946, 'babyjesus': 25947, 'lilsmokey': 25948, 'prettygirl92': 25949, 'thisisyoungdj': 25950, 'janitor': 25951, 'michellelevin': 25952, 'karynpolito': 25953, 'declares': 25954, 'charlieforgov': 25955, 'hykwrvd': 25956, 'unconscious': 25957, 'vincesports': 25958, 'collegegameday': 25959, 'ness': 25960, 'chappelleshow': 25961, 'russonpolitics': 25962, 'magov': 25963, 'gabejgonzalez': 25964, 'leija': 25965, '140': 25966, 'jonnyfcknblaze': 25967, 'lpcs9abo7w': 25968, 'philwotg': 25969, 'whitest': 25970, 'e3m6tujnhf': 25971, 'theironpony': 25972, 'kfqy4oufgo': 25973, 'q0wswxe7fw': 25974, 'sosaonthebeat': 25975, 'bosox': 25976, 'pistols': 25977, 'hustlers': 25978, 'lundenm': 25979, 'wherzdabudd': 25980, 'alneezy': 25981, 'mauimescudi': 25982, 'bytch': 25983, 'jose': 25984, 'eandlksbpm': 25985, 'anniec0429': 25986, 'attitud': 25987, 'entmagazine': 25988, 'magisto': 25989, 'digitalskeptic': 25990, 'testing': 25991, 'tomarnold': 25992, 'cand': 25993, \"yesterday's\": 25994, 'hernandezeli': 25995, 'jproskowglobal': 25996, 'profiling': 25997, 'wallofthewasatch': 25998, 'sista': 25999, 'eeeeeen': 26000, 'deadcollision': 26001, '1h08fxpkkq': 26002, 'fuckfriendzones': 26003, 'scoutingforfifa': 26004, 'theburntchip': 26005, 'joelburtfifa': 26006, 'jpizzlefifa': 26007, 'lavidajeannette': 26008, 'wonkasm': 26009, 'winchstrracin': 26010, 'wyatt11w': 26011, 'hootie': 26012, 'joservmirez': 26013, 'calvii': 26014, 'troncat1003': 26015, 'uoon09k1dq': 26016, 'boosierene': 26017, 'corayma': 26018, 'luivillesluggah': 26019, 'guido': 26020, 'pattyfuckingboges': 26021, '3mxbxezqxr': 26022, 'jlojpg': 26023, 'trapgurlron': 26024, 'collabs': 26025, 'booyyyyyy': 26026, 'lowkeystoner': 26027, '127946': 26028, 'fatguythe': 26029, 'flop': 26030, 'yankeeswfan': 26031, 'scout': 26032, 'prado': 26033, 'underrated': 26034, 'debbie': 26035, 'initiate': 26036, 'sair': 26037, 'ashit': 26038, 'lashana': 26039, 'sinead': 26040, 'littlgfunk': 26041, 'uhhdrugs': 26042, 'bu': 26043, 'ovpwk9i3': 26044, 'jewtanski': 26045, 'frownie': 26046, 'blinders': 26047, 'oppurtunity': 26048, 'freshfaces': 26049, 'chivasgee': 26050, 'swole': 26051, 'shelbyritner': 26052, 'whoooooaaa': 26053, 'wmz8s3j6ig': 26054, 'hull': 26055, 'fcbarcelona': 26056, 'strikers': 26057, 'clasico': 26058, 've6rhxss4x': 26059, 'yjhuba6huw': 26060, 'eleven8': 26061, 'illmissu': 26062, 'dragonballz': 26063, 'cashoutmolly': 26064, 'crusts': 26065, 'bummed': 26066, 'networking': 26067, 'schwaggy': 26068, 'lms': 26069, 'thomas16v': 26070, 'ayefuckwoody': 26071, 'coryburgess87': 26072, \"5'3\": 26073, 'warthog': 26074, 'meowed': 26075, 'nocturnal': 26076, 'toughbreak': 26077, 'huggin': 26078, 'utah': 26079, 'polynesians': 26080, 'selxnaa': 26081, \"'stranger\": 26082, \"danger'\": 26083, 'cuteoverloads': 26084, '128018': 26085, 'gmk5dbjajq': 26086, 'pours': 26087, 'inners': 26088, 'cages': 26089, 'boominator': 26090, 'cureourcountry': 26091, 'clinton': 26092, 'hillaryslosers': 26093, 'candidates': 26094, 'r8fjtcsj5o': 26095, 'sendin': 26096, 'realscottietee': 26097, 'dlrk2i04ho': 26098, 'wildcards': 26099, 'neice': 26100, 'lrydtd5mqb': 26101, 'marilyn': 26102, 'munster': 26103, 'tdot': 26104, 'italians': 26105, 'mangia': 26106, 'italianproblems': 26107, 'leggy': 26108, 'lfkqrc0zxn': 26109, 'pebbles2day': 26110, 'popularcritic1': 26111, 'fredrogers75': 26112, 'judgmentalgay': 26113, 'yaaas': 26114, 'hunty': 26115, 'slaaaayy': 26116, 'handbook': 26117, 'infiltrate': 26118, 'gkp1vg6pnw': 26119, 'charleeredz13': 26120, 'july': 26121, 'yey8ml5snk': 26122, 'celebration': 26123, 'cleef': 26124, 'arples': 26125, 'disposed': 26126, 'rin49m54fk': 26127, 'resurrection': 26128, 'ginzo': 26129, 'terminated': 26130, \"rice's\": 26131, 'repeatedly': 26132, 'hurling': 26133, '50k': 26134, 'm4akvz4jgd': 26135, 'thickest': 26136, 'a6r9u18efs': 26137, 'juwanna': 26138, 'theafricansiren': 26139, 'suspicious': 26140, 'melle': 26141, 'theblacktictac': 26142, 'timberlake': 26143, 'traplordgrant': 26144, 'reused': 26145, 'grind2times': 26146, 'prettymofocka': 26147, 'garytiffany': 26148, 'rsherman': 26149, 'doodoo': 26150, 'katelynbarnes3': 26151, 'wmruwtwuje': 26152, 'onedirectum': 26153, 'dirtyskimask': 26154, 'karmic': 26155, 'jusy': 26156, 'hjnv01ntgb': 26157, 'danlukas12': 26158, 'tiarasoboojie': 26159, 'meaty': 26160, 'itsjustjill': 26161, 'repudiated': 26162, '2u10aolkxg': 26163, 'hodgeasia': 26164, 'rosie': 26165, 'politicususa': 26166, 'dobt': 26167, 'woww': 26168, '5yr': 26169, 'tr1zz': 26170, 'horrified': 26171, 'convicting': 26172, 'vytcij5s3v': 26173, 'lovearmeireee': 26174, 'sparkles': 26175, 'hallelujah': 26176, 'inktober': 26177, 'oldpainting': 26178, 'happysunday': 26179, 'l73hik0iz8': 26180, 'ayeeexo': 26181, 'wtfuxupjessie': 26182, 'unclaimed': 26183, 'macin': 26184, 'crackin': 26185, '1stblocklokee': 26186, 'butterfliesblue': 26187, 'chyd7jrgxy': 26188, 'payton': 26189, 'ptd5rapztd': 26190, 'julialeungg': 26191, 'maycie': 26192, 'belmore': 26193, 'profiles': 26194, 'privacy': 26195, 'chaniiyyaa': 26196, 'luvcake': 26197, 'damontda': 26198, 'natemurdoch': 26199, 'jackdatow2335': 26200, 'mkpest002': 26201, 'oandapests': 26202, 'bayless': 26203, 'chucktodd': 26204, 'doorstep': 26205, 'melodies': 26206, 'usin': 26207, 'hamburgers': 26208, 'koolqueeftribute': 26209, 'bumoose': 26210, 'lowkeychayy': 26211, 'justjor': 26212, 'sirtweak': 26213, 'duncanville': 26214, 'peeping': 26215, 'asagiraffes': 26216, 'yaatsf52tu': 26217, 'saertjemirror': 26218, 'asains': 26219, 'miketaylorshow': 26220, 'fallinginthedraft': 26221, 'excusemydank': 26222, 'ndhqmn3lvu': 26223, 'wakes': 26224, 'simulation': 26225, 'zc3k9ndb1t': 26226, 'aeropostale': 26227, 'gamed': 26228, 'bronzebomber': 26229, 'ckbs6wczu1': 26230, 'anchors': 26231, 'mharrisperry': 26232, 'roxy': 26233, '128315': 26234, 'pnoaawenkv': 26235, 'dif6d6eyin': 26236, 'joeyg': 26237, '145': 26238, 'raqithunda': 26239, 'badgering': 26240, 'ethic': 26241, 'submission': 26242, 'johnbishop100': 26243, 'inconspicuous': 26244, 'kqyizmzb': 26245, 'robe': 26246, 'randall': 26247, 'penetrate': 26248, 'introduced': 26249, 'izzetheproducer': 26250, \"chaney's\": 26251, 'pthwskjhdy': 26252, 'trayvonmartin': 26253, 'referred': 26254, 'peeper1016': 26255, 'preferring': 26256, 'jla': 26257, 'charmarie': 26258, 'aerosmith': 26259, 'dreamon': 26260, 'ledzeppelin': 26261, 'usaezlcs5v': 26262, 'datboysmokeyy': 26263, 'pwi': 26264, 'radiotour': 26265, 'duchess': 26266, 'cambridge': 26267, '8vvnu9drfm': 26268, 'tdf': 26269, 'mizz310': 26270, 'goldenbella': 26271, 'beautyofasinner': 26272, 'jocelynb': 26273, 'gettemm': 26274, 'rwsurfergirl': 26275, 'trashbucketchallenge': 26276, 'matthasthemusic': 26277, 'selfpaidyayo': 26278, 'maco': 26279, 'agru': 26280, 'crewwww': 26281, 'lovenati': 26282, 'gluton': 26283, 'uhfrocircus': 26284, 'c9ti4fkskn': 26285, 'staten': 26286, 'cnnmoney': 26287, 'pflatel2sx': 26288, 'lastqueencyn': 26289, 'ddjsb5itcd': 26290, 'bots': 26291, 'moisessp14': 26292, 'lightskingawdd': 26293, 'shaaaaayy': 26294, 'sicken': 26295, 'flings': 26296, 'cap1': 26297, 'theplasticpope': 26298, 'iamkatjohnson': 26299, 'kriegsson': 26300, 'traditions': 26301, 'bryt': 26302, 'juanadog': 26303, 'dallying': 26304, 'dilly': 26305, 'exclusively': 26306, 'varepall': 26307, 'i8nolg9m6o': 26308, 'evader': 26309, 'weedhumor': 26310, 'gateway': 26311, 'increased': 26312, 'daydaaaaaa': 26313, 'myy': 26314, 'learning': 26315, '4vqh4zbwml': 26316, 'bandana': 26317, 'orian': 26318, 'pfft': 26319, 'pacman': 26320, 'lakers4life24': 26321, '127827': 26322, 'realjonathanp': 26323, 'ohyounancihuh': 26324, 'bsd': 26325, \"'worst\": 26326, \"ever'\": 26327, \"'pro'\": 26328, '0ntcwbrmmk': 26329, '2aueveeawn': 26330, 'imediatly': 26331, 'tynerthixk': 26332, 'piercethetit': 26333, 'offsetyrn': 26334, 'quavo': 26335, 'perro': 26336, 'byee': 26337, 'iverrishaa': 26338, 'gottttta': 26339, 'madddddd': 26340, 'calc': 26341, 'indication': 26342, 'bigots': 26343, 'idaho': 26344, 'ordinance': 26345, 'referendum': 26346, 'toryexxmwi': 26347, 'lgbt': 26348, 'shyswag69': 26349, 'torres5salvador': 26350, 'upgrade': 26351, 'summm': 26352, 'kxyix': 26353, 'lcxancilleri': 26354, 'j23app': 26355, 'feb': 26356, 'retro': 26357, 'remastered': 26358, '314254': 26359, '003': 26360, 'nboaxg1s19': 26361, 'hippieproblemz': 26362, 'headstand': 26363, 'mjcandance': 26364, 'devoted2mariah': 26365, 'bettathanleruns': 26366, 'mznursebee14': 26367, 'pyroballypoops': 26368, 'taesavage': 26369, 'elizbian': 26370, 'austdun': 26371, 'privaledge': 26372, 'mammas': 26373, \"wcw's\": 26374, 'magician': 26375, 'n5uucdtdxt': 26376, 'dilemma617': 26377, 'tonyrobbins': 26378, 'gambling': 26379, 'cashflowho': 26380, 'dreamchaser': 26381, 'creature': 26382, 'teenagers': 26383, 'tommayydoee': 26384, 'unsold': 26385, 'thrift': 26386, 'kourt': 26387, 'infamouscoryog': 26388, 'kapitan': 26389, 'bodiedxo': 26390, 'pullup': 26391, '40st': 26392, 'h2hv64h9wh': 26393, 'othot': 26394, 'kitlange': 26395, 'oppressing': 26396, 'shoving': 26397, 'cburrandjamal': 26398, 'hackin': 26399, 'datruthh': 26400, 'thelaurenway': 26401, 'threesomes': 26402, 'stencils': 26403, '7yvxijmmcp': 26404, 'fvckzaina': 26405, 'jl7j8xpiih': 26406, 'icyunv': 26407, 'shakia': 26408, 'keno': 26409, 'chowder': 26410, 'bowls': 26411, 'steveersh': 26412, 'halfbakd': 26413, 'ikickbabies': 26414, 'pedroballout': 26415, 'apeezybaby': 26416, \"year's\": 26417, 'nye14': 26418, 'drunkinlove': 26419, 'fsga5wtkxn': 26420, 'gonzalez': 26421, 'username': 26422, 'johnathan': 26423, 'manup': 26424, 'yaris': 26425, 'reachtheeclimax': 26426, 'usaa': 26427, 'goaliebill328': 26428, 'sarobards': 26429, 'julesofthesmile': 26430, 'neliuspamela': 26431, 'publiusscion': 26432, 'jixwxexnie': 26433, 'vernon1488': 26434, 'zuai7qwbir': 26435, 'yaseenxkahn': 26436, 'hdm': 26437, 'beemsperfect': 26438, 'fckin': 26439, 'studhardt22': 26440, 'cannoli': 26441, 'oeijhsqc2d': 26442, 'dabbba': 26443, 'pinchehonkey': 26444, 'tractor': 26445, 'parked': 26446, 'tonysinchak': 26447, 'marijauna': 26448, 'wannnnaaa': 26449, 'koolestbreeze': 26450, 'iw06cceknd': 26451, 'theladygamer': 26452, 'bryanbalsamo': 26453, 'llewyn': 26454, 'abound': 26455, 'mongerls': 26456, 'slum': 26457, '1488': 26458, 'therealduxy': 26459, 'tkfan01': 26460, 'jeezus': 26461, 'lashontae': 26462, 'westsideallure': 26463, \"redman's\": 26464, \"nephew's\": 26465, 'condeezy3': 26466, 'swimm': 26467, 'uuuuhhuuhhhhhp': 26468, 'sierrabell15': 26469, 'toooooo': 26470, 'trashasstweets': 26471, 'rbxh33ounm': 26472, 'beigegawdd': 26473, 'softer': 26474, 'aurie': 26475, 'esxbexvkes': 26476, 'campaignmindy': 26477, 'trickinggawd': 26478, 'ljrqrdbmfi': 26479, 'wills': 26480, 'bishhh': 26481, 'andtits23': 26482, 'dreamcast': 26483, 'thegoodfella': 26484, 'mahdyymahd': 26485, 'bizness': 26486, 'heree': 26487, 'h0cft5wcbv': 26488, 'ouch': 26489, 'damola49': 26490, 'ademulla': 26491, 'gayest': 26492, 'fuckd': 26493, 'amoreshonta': 26494, 'westdontcare': 26495, 'spoken': 26496, 'txccy3xiec': 26497, 'jadefiree': 26498, 'ralph': 26499, 'fabric': 26500, \"'n\": 26501, 'grandest': 26502, '5wordsaftersex': 26503, 'onlyinamichaelmyersmovie': 26504, 'iike': 26505, \"handin'\": 26506, 'announcers': 26507, 'dickhole': 26508, 'qbs': 26509, 'hucked': 26510, 'bkplt6d9ax': 26511, 'luccixo': 26512, 'o0agdd9fqh': 26513, 'ofjlxao5sf': 26514, 'joints': 26515, 'sone': 26516, 'baths': 26517, 'qcrta7h80x': 26518, 'pummeled': 26519, 'qsdw8mqnsl': 26520, 'ruinadessert': 26521, 'comedytruth': 26522, 'nosie': 26523, 'assign': 26524, 'klvyupthatsm3': 26525, 'giselle': 26526, 'horan13': 26527, 'lmp5beplvy': 26528, 'jwilko7': 26529, 'collinflemons': 26530, 'liberalphenom': 26531, \"gz's\": 26532, 'prosecution': 26533, 'thomasaroberts': 26534, 'whiff': 26535, 'liiuglymane': 26536, 't5urisxndf': 26537, 'quenching': 26538, 'fountain': 26539, 'dgkadriann': 26540, 'jizcalifuh': 26541, 'ronele': 26542, 'nevadamuseum': 26543, 'nevadahumpday': 26544, 'sinai': 26545, 'beheads': 26546, \"'spies\": 26547, \"jews'\": 26548, '3cdoseli1k': 26549, 'sunkissedsexii': 26550, 'ouuua': 26551, 'siana': 26552, 'namu': 26553, \"ta'e\": 26554, \"ramsey's\": 26555, 'rojas': 26556, 'zahra': 26557, 'extender': 26558, 'tlc': 26559, 'drdolittle': 26560, 'trwmr3hg8v': 26561, 'idont': 26562, 'nevawhodat': 26563, 'lonz': 26564, 'cliftonsings': 26565, 'klitschko': 26566, 'kubrats': 26567, \"comin'\": 26568, 'mg2sre0jr8': 26569, 'jogonzalez': 26570, 'shinglewarf': 26571, 'zlzg6sjbbh': 26572, 'helliesmalls': 26573, '80arx0qjxz': 26574, 'corybooker': 26575, 'areuseriousrn': 26576, 'cloudydino': 26577, 'therealcoolie': 26578, 'kaos': 26579, 'tig': 26580, 'bitties': 26581, \"hillary's\": 26582, 'verbal': 26583, 'aggressive': 26584, 'imyella': 26585, 'schleeeeeeeeeeppppppp': 26586, 'wildblood817': 26587, 'juggling': 26588, 'grinded': 26589, 'amcon': 26590, 'ro4reals': 26591, 'nichytay': 26592, 'xxminijokerxx': 26593, 'iemn1u0gm5': 26594, 'michaeljdelaney': 26595, 'viixxiv': 26596, 'gwt19xixuz': 26597, 'odale': 26598, 'ese118': 26599, 'powercouple': 26600, 'rises': 26601, 'happppppy': 26602, 'birthdayyyy': 26603, 'yatu7pbshx': 26604, 'chokers': 26605, 'curfew': 26606, 'blangblangsich': 26607, 'comfy': 26608, 'ldb9afwvdm': 26609, 'jkfldghi': 26610, 'tittie': 26611, 'chitlins': 26612, 'drinkbreak': 26613, 'ghostriderj1': 26614, 'digit': 26615, 'phuckedfame': 26616, '127817': 26617, 'cfhis3l8bt': 26618, 'ohhdatsbrucie': 26619, 'bixxhmakemerich': 26620, 'sweetkixx': 26621, 'ofmine': 26622, 'infatuation': 26623, 'dawngoodspeed': 26624, 'defiance': 26625, 'alextalksback': 26626, '8fqp7fpb': 26627, 'confined': 26628, 'yerrp08': 26629, 'svvage': 26630, 'ebolian': 26631, 'themilkman57': 26632, 'talkier': 26633, 'mannykream': 26634, 'fuckcamoclark': 26635, 'sydhinton922': 26636, 'ramonroblesjr': 26637, 'baton': 26638, 'rouge': 26639, 'ajohnson': 26640, 'mbmoonshine': 26641, '5jzh1bhwwk': 26642, 'oliviamrose': 26643, 'mixxed': 26644, 'ahoy': 26645, 'nobod': 26646, 'xdavilunax': 26647, 'xbone': 26648, 'muny': 26649, 'spokesman': 26650, 'whops': 26651, 'jamaicajones': 26652, 'headley': 26653, 'padres': 26654, 'yangervis': 26655, 'rafael': 26656, 'depaula': 26657, '8bippvuvzr': 26658, 'pickup': 26659, 'ect': 26660, 'dooeogirog': 26661, 'pipethefckdown': 26662, 'tones': 26663, 'terio': 26664, 'lnsightful': 26665, 'kindergarden': 26666, 'stooooned': 26667, 'khou': 26668, 'longhorn': 26669, 'logos': 26670, \"players'\": 26671, 'hvnujt6ss2': 26672, 'liltreprod': 26673, 'freemarket': 26674, 'bangladesh': 26675, 'randpaul': 26676, 'gdlcpwdnoo': 26677, 'miketinnes': 26678, 'corrcomm': 26679, 'assaulting': 26680, 'wifiandporn': 26681, 'llaboutbenji': 26682, 'ihatestevensing': 26683, 'annnna': 26684, 'dav69': 26685, 'williep252': 26686, 'fuckthesteelers': 26687, '9vemnxduql': 26688, 'imxnii': 26689, 'pacsun': 26690, 'midlaner': 26691, 'waledayday24': 26692, 'cancerous': 26693, 'timrosscomedy': 26694, 'craig12': 26695, 'gunrunning': 26696, 'savvgrace': 26697, '5cunhfd79o': 26698, 'smith64': 26699, 'dabgodbaby': 26700, 'moneyyoung': 26701, 'evn': 26702, 'retared': 26703, 'notifications': 26704, 'gie': 26705, 'getlost': 26706, 'hillgasm': 26707, 'crutches': 26708, 'sleezy': 26709, 'asphalt': 26710, 'hollah': 26711, 'lauramartyy': 26712, 'coltscommunity': 26713, 'nflcolts': 26714, 'indystar': 26715, 'chuckstrong': 26716, 'goldswagger': 26717, '6q5wm3vu': 26718, 'erickruiz45': 26719, '7aidualc9': 26720, 'slater': 26721, 'd26': 26722, 'soxs': 26723, \"it'd\": 26724, 'bx2mxv2oso': 26725, 'ripcaps': 26726, 'pye': 26727, 'loxodonta': 26728, 'antisemitism': 26729, 'condemns': 26730, 'vp': 26731, 'shylocks': 26732, 'freemax': 26733, 'skitdaddle': 26734, 'bxslcshjhe': 26735, 'ahhhahahaha': 26736, 'diarrhea': 26737, 'jonhorsthoyer': 26738, 'redeeming': 26739, \"'only\": 26740, 'ilovemytroops': 26741, 'senatortimscott': 26742, 'trillasfvck': 26743, 'jazzybo': 26744, 'z6hq1kq6ib': 26745, 'consequence': 26746, '60s': 26747, 'negroes': 26748, 'czickenshack': 26749, 'skidmark': 26750, 'tighty': 26751, 'whities': 26752, 'uncrustables': 26753, 'keelivinlavish': 26754, 'xtno13tnus': 26755, 'flossing': 26756, 'laser': 26757, 'beam26': 26758, 'snoopaintlion': 26759, 'zoneing': 26760, 'omen': 26761, 'romans': 26762, 'trojans': 26763, 'velweb': 26764, 'vitamins': 26765, 'heimlich': 26766, 'maneuver': 26767, 'biertempfeltrib': 26768, 'jimbowdenespnxm': 26769, 'polanco': 26770, 'glam': 26771, 'transtrenda': 26772, 'fronted': 26773, 'prelude': 26774, 'xochaton': 26775, 'bubbafishh': 26776, 'mikcakers': 26777, 'mrszookeeper': 26778, 'g20': 26779, \"'might'\": 26780, '0bama': 26781, 'ronda': 26782, 'tuf': 26783, 'naya': 26784, 'aljctstl82': 26785, 'nessie': 26786, 'kevkid79': 26787, 'oyster': 26788, 'danieebro': 26789, 'cowards': 26790, 'sparky': 26791, 'almightyalijah': 26792, 'igq8v6rihh': 26793, 'dasmacker': 26794, 'caps': 26795, 'rickandbubba': 26796, 'wl3mtg': 26797, 'sigmas': 26798, 'zrexxx': 26799, 'recieve': 26800, 'homelessbitch': 26801, 'jamesanddaniel': 26802, 'janoskians': 26803, 'janoskianator': 26804, 'vbyrd': 26805, 'microsoft': 26806, 'papo': 26807, 'fonseca': 26808, 'seinfeld2000': 26809, 't7gcsmcylb': 26810, 'boujjhetto': 26811, 'dislikes': 26812, 'sm1rsmolez': 26813, 'sarahecarroll': 26814, 'population': 26815, 'pettyfcknann': 26816, 'gimmmmmie': 26817, 'selfmadephat': 26818, 'circulated': 26819, 'pun8fnvbal': 26820, 'johnsterling': 26821, 'klena57': 26822, 'unfriended': 26823, 'pouyalilpou': 26824, 'fk5vzalc54': 26825, 'elonuniversity': 26826, 'wulfpacksam83': 26827, 'giantraiderking': 26828, 'lyricsaidso': 26829, 'camopearls': 26830, 'hollering': 26831, 'makeit': 26832, 'amiller': 26833, 'hoodieallen': 26834, 'hoodies': 26835, 'f3ujcyj4of': 26836, 'pw': 26837, 'dicc': 26838, 'weknow': 26839, 'disingenuous': 26840, 'anon': 26841, 'lesleysuttling': 26842, 'chicodelainky': 26843, 'writer': 26844, 'untrue': 26845, 'betwn': 26846, 'traps': 26847, 'gif': 26848, 'url': 26849, 'woodall': 26850, 'andrewtylerdick': 26851, 'zwhite93': 26852, 'wildcat': 26853, 'murray': 26854, 'smug': 26855, 'lemur': 26856, 'brandincooks': 26857, 'tracker': 26858, 'aeuekmhkqx': 26859, 'scottlinnen': 26860, 'trench': 26861, 'fedora': 26862, 'anellesofia': 26863, 'oxtails': 26864, 'blasphemy': 26865, 'boneless': 26866, 'maarycatherinee': 26867, 'dawqq': 26868, 'frosted': 26869, 'lipgloss': 26870, 'surge': 26871, 'flakes': 26872, 'noddin': 26873, 'bryce': 26874, 'f0mzqjwcrp': 26875, 'icing': 26876, 'xpqktltnkh': 26877, 'vntonx': 26878, 'k9lv3mfx1m': 26879, 'pussayyy': 26880, 'realed': 26881, 'kater': 26882, 'ahsfreakshow': 26883, 'a1lovely': 26884, 'shannon': 26885, 'guccii1017': 26886, 'autograph': 26887, 'scheelp': 26888, 'lzl0jlhdvk': 26889, 'funsizedyogi': 26890, 'theblackvoice': 26891, 'wwltv': 26892, 'arrow': 26893, 'q1kqt6stwl': 26894, 'dunces': 26895, 'groom': 26896, 'voters': 26897, 'thedumbestteabagger': 26898, \"ugg's\": 26899, 'theshoebible': 26900, 'steamed': 26901, 'greens': 26902, 'compassion': 26903, 'thrones': 26904, 'suchaprick': 26905, 'hopehegetskilled': 26906, 'represents': 26907, 'thedickuno': 26908, 'har': 26909, 'sactownprodigy': 26910, 'mavs': 26911, 'cowgirls': 26912, 'frumpy': 26913, 'iamnicklminaj': 26914, 'heinz': 26915, 'selectionsunday': 26916, '2for5': 26917, 'abam30gsk4': 26918, 'tootiedee': 26919, 'audible': 26920, 'omha': 26921, 'beyondbanksy': 26922, 'breakingnews': 26923, 'streetart': 26924, 'graffiti': 26925, 'mural': 26926, 'duo': 26927, 'etamcru': 26928, 'washpost': 26929, \"crist's\": 26930, 'xanax': 26931, 'zibllnm1zs': 26932, 'otonir2yex': 26933, \"worryin'\": 26934, 'tyjoncuffee': 26935, 'traphoussseeeee': 26936, 'cloudy': 26937, 'goldrush': 26938, 'in2014': 26939, 'leighvl': 26940, 'rasta': 26941, 'joleendoreen': 26942, 'baylaagottabody': 26943, 'bbcollins32': 26944, 'nastyy': 26945, 'farto': 26946, 'whenrappersaid': 26947, 'trife': 26948, 'pqvjievqza': 26949, 'wavygodd': 26950, 'wellheeledking': 26951, 'loganwarner12': 26952, 'prodsjewel': 26953, 'sreadthepeace': 26954, 'yungmindless': 26955, 'peacepunkprince': 26956, 'ephrwxmbhr': 26957, 'tonktrippin': 26958, 'mariehippy': 26959, 'stevenlevandows': 26960, 'giantsniners85': 26961, 'squirrelly': 26962, 'on1y': 26963, \"tf'\": 26964, 'joshuahall': 26965, 'irie': 26966, 'parodies': 26967, 'asinine': 26968, 'condemn': 26969, 'm6cnv3ysmv': 26970, 'humorisaweapon': 26971, 'jonnyfootbali': 26972, 'touchdowns': 26973, 'guidos': 26974, 'themoreyouknow': 26975, 'treymcgruder233': 26976, 'ea': 26977, 'watt': 26978, 'irielee12': 26979, 'chuchi': 26980, 'tylergposey': 26981, 'ianbohen': 26982, 'berzerker': 26983, 'zchbqxfa0g': 26984, 'ungreatful': 26985, 'mah5h': 26986, 'ouju8laxr1': 26987, 'y09waoe4em': 26988, 'emmgoldla': 26989, 'jennaamendolare': 26990, '42': 26991, 'nurses': 26992, 'philthycleo': 26993, 'statin': 26994, 'fowls': 26995, 'drunkystory': 26996, 'seauxcocoa': 26997, 'm10eezy': 26998, 'repping': 26999, 'affiliated': 27000, 'drawin': 27001, 'aiobo34baa': 27002, 'wooooow': 27003, 'moesdeph': 27004, 'samsung': 27005, 'sincethecubswonaworldseries': 27006, 'bighomiemarkie': 27007, 'wtmf': 27008, 'thunderpunched': 27009, 'fuccn': 27010, 'pdplive': 27011, '7xcl4kyiuv': 27012, 'lifeofshan': 27013, 'zcnp1ljoow': 27014, 'shitless': 27015, 'mam': 27016, 'ren': 27017, 'doet': 27018, 'haar': 27019, 'rol': 27020, 'vragen': 27021, 'uit': 27022, 'sunnyignant': 27023, 'huj': 27024, 'jayyrosayy': 27025, 'jess': 27026, 'boddies': 27027, 'chapsnat': 27028, 'raslfxof5d': 27029, 'smilesbakedthis': 27030, 'tellyjellybelly': 27031, \"water's\": 27032, 'symptoms': 27033, 'boos': 27034, 'brwnskinbeaute': 27035, 'psvch': 27036, 'skidmarks': 27037, 'matterbate': 27038, 'uzi': 27039, 'sipping': 27040, 'slurpee': 27041, 'bottoms': 27042, 'kidfivevibes': 27043, 'titled': 27044, 'brokenpiecesmsc': 27045, 'gdoublet': 27046, 'finntasticccc': 27047, 'pumpkinheaddd': 27048, 'tittielift': 27049, 'soopsoo': 27050, 'healed': 27051, 'missions': 27052, 'universally': 27053, 'sepinwall': 27054, 'fxx': 27055, 'simpsons': 27056, 'bart': 27057, 'springfield': 27058, 'consecutive': 27059, 'jon3s': 27060, 'kimorablac': 27061, '3filnpwcwe': 27062, 'andyherren': 27063, 'aarynelizagries': 27064, 'influential': 27065, 'notashley': 27066, 'docked': 27067, 'icelestial': 27068, 'vsgcwtn4j6': 27069, 'blndsundoll4mj': 27070, 'kiarasmallzz': 27071, 'tiene': 27072, 'cansada': 27073, 'mrtruthandsoul': 27074, 'hookup': 27075, 'horseman': 27076, 'clangloisss': 27077, 'sarakateee': 27078, 'fazeisgay': 27079, 'messiah': 27080, 'erikawcvb': 27081, 'marthacoakley': 27082, '11am': 27083, 'swaaggyyv': 27084, 'clash': 27085, 'clans': 27086, 'kamikaze': 27087, 'sotribe': 27088, 'kasey': 27089, 'wheretheyatdoe': 27090, 'jamesnasty': 27091, 'gfs': 27092, 'katelyn': 27093, 'lomax': 27094, 'thefunnyvines': 27095, 'xuve34qenh': 27096, 'britbritt22': 27097, 'friendzoneceo': 27098, 'espect': 27099, 'kanyes': 27100, 'pimpbillclinton': 27101, 'tareksaadmisr': 27102, 'krfe8nxwnz': 27103, 'ktkasey': 27104, 'paceys': 27105, 'whatwashedoing': 27106, 'blac': 27107, \"chyna's\": 27108, 'mackinaintceezy': 27109, '0b0pz8j4cm': 27110, 'kierstens': 27111, '128025': 27112, 'layers': 27113, \"satan's\": 27114, 'philiciaaaa': 27115, 'druggzz': 27116, 'welt': 27117, '100000': 27118, 'validation': 27119, 'bbqd': 27120, 'truuuchains': 27121, 'opulent': 27122, 'conversing': 27123, 'trustnunbut100s': 27124, 'hayfever': 27125, 'succulant': 27126, 'cums': 27127, 'epba8t5afi': 27128, 'bandworld1': 27129, 'eyez': 27130, 'wiganzlad': 27131, 'markycrumb': 27132, 'mqczuxlbtt': 27133, 'nuggas': 27134, 'sumgurl07': 27135, 'itweetfacts': 27136, 'z4u6npordz': 27137, 'xmason4lifex': 27138, 'tqmmnmkcyn': 27139, 'mytweets': 27140, 'ptqa8lzqea': 27141, 'cooned': 27142, 'wheretheydothatat': 27143, 'if4k4v74ro': 27144, 'tbhjuststop': 27145, 'broncos': 27146, 'kendracae': 27147, 'mustash': 27148, 'sbacilio1224': 27149, 'neta': 27150, 'onikallah': 27151, '60hiebfwic': 27152, 'bnp': 27153, 'overrun': 27154, 'mongrels': 27155, 'perish': 27156, 'tcthegreat1': 27157, 'mawdern': 27158, 'shonni': 27159, \"'these\": 27160, 'mesha': 27161, 'nojas': 27162, 'rq978': 27163, 'pambesteder': 27164, 'tarascan68': 27165, 'klcsgy9jpw': 27166, 'saan': 27167, 'minorities': 27168, 'criminally': 27169, 'inclined': 27170, 'nittyscottmc': 27171, '75uftruvdz': 27172, 'trakkboidelf': 27173, 'linkedin': 27174, 'uw3r0snjvk': 27175, 'lyinest': 27176, 'district': 27177, 'yhe': 27178, 'kinloch': 27179, 'maaaaan': 27180, 'useemitch': 27181, 'knooooooow': 27182, 'nouhxhlsha': 27183, 'x2pac': 27184, 'thuglord': 27185, 'poison': 27186, 'tactgear': 27187, 'flawed': 27188, 'chp': 27189, 'brpd': 27190, 'jammy': 27191, 'purnt': 27192, 'vintagebeezy15': 27193, 'luhv': 27194, 'hoodrichkeem': 27195, 'glimpses': 27196, 'bridesmaids': 27197, 'bestroommateever': 27198, 'heffner': 27199, 'rexy25': 27200, 'civic': 27201, 'lx': 27202, '180k': 27203, 'tylawson3': 27204, 'p0psson': 27205, 'iamlexj': 27206, 'halloweencostume': 27207, '2uzoh6frzg': 27208, 'fuckahs': 27209, 'hbt2013mm': 27210, 'wwtdd': 27211, 'gabourey': 27212, 'sidibe': 27213, 'instigate': 27214, 'involving': 27215, 'jefe': 27216, 'killah': 27217, 'gmjkolmcyq': 27218, 'juywznabp5': 27219, 'exe': 27220, 'ibskeealii': 27221, 'longlive': 27222, 'shinylipz': 27223, 'roulette': 27224, 'ilovetmills': 27225, 'driswitdacake': 27226, 'fwu': 27227, 'gc': 27228, 'dmxsot02qg': 27229, 'doprettyshiz': 27230, 'larissa': 27231, '39fpsgb7hk': 27232, 'slinkjohnson': 27233, 'patent': 27234, 'disposable': 27235, 'sanitary': 27236, 'discreet': 27237, 'thingsiwillteachmychild': 27238, 'legapsi06': 27239, '10mins': 27240, 'hyu': 27241, '4yyvxesnur': 27242, 'rodney': 27243, 'tamar': 27244, 'k2ibflgs4z': 27245, 'peeabut': 27246, 'queenallyssa': 27247, 'poeticallylucky': 27248, 'witchcraft': 27249, 'mrbrenbren': 27250, 'maaannnnn': 27251, \"runnin'\": 27252, 'janeypew': 27253, 'r4apersec': 27254, 'runoff': 27255, 'sacc': 27256, 'a875silva': 27257, 'rocki': 27258, 'biddin': 27259, 'jkqld5vodm': 27260, 'thejoeyswoll': 27261, 'badnewsali': 27262, 'rednexican69': 27263, 'iamqueenlatifah': 27264, 'plated': 27265, 'letz': 27266, 'vocal': 27267, 'nagasaki': 27268, 'hiroshima': 27269, 'emoto': 27270, 'ch0xfvekz9': 27271, 'neveragain': 27272, 'izflyudugs': 27273, 'nooooooo': 27274, 'hattiesburg': 27275, 'dmvfollowers': 27276, 'yokidaintmine': 27277, 'liquid': 27278, 'photographed': 27279, 'q0sm89oolh': 27280, 'der': 27281, 'roadrunnin': 27282, 'w7vkbt2nbp': 27283, 'dbrend99': 27284, 'classiest': 27285, 'playe': 27286, 'grrr': 27287, 'iiiirb': 27288, 'banko': 27289, 'ronneagle': 27290, 'tomboy': 27291, 'barbies': 27292, 'itsyahboiray': 27293, 'smutted': 27294, 'jis': 27295, 'shepnewsteam': 27296, 'commitment': 27297, 'lyb3thm199': 27298, 'iwillstillrise': 27299, 'gatornation': 27300, 'tees': 27301, 'charlezhussle81': 27302, 'francisjstn': 27303, 'riverside': 27304, 'nonstop': 27305, 'toryrvgxr': 27306, 'gjxthtpjpu': 27307, 'filthiest': 27308, 'ju84cixp7z': 27309, 'almightycboogie': 27310, 'benbornreadysmu': 27311, 'buffets': 27312, 'datnigpriest': 27313, 'youss': 27314, 'izgkpcqio0': 27315, 'jessmelkum': 27316, 'saidtina': 27317, 'levitating': 27318, 'lousiville': 27319, 'insufferable': 27320, 'sexualgifss': 27321, '1vhc9lqskg': 27322, 'oneandonlytina': 27323, 'ditched': 27324, 'ki': 27325, 'geezuss562': 27326, '2sassymom': 27327, 'emoticons': 27328, 'motorola': 27329, 'lachlan': 27330, 'lgzzyusekz': 27331, '2jcvv7qxqf': 27332, 'mayarsharkawi': 27333, 'jtwuu9cysr': 27334, 'begbie': 27335, 'donated': 27336, 'pigeons': 27337, 'flocking': 27338, 'selfiequeenbri': 27339, 'section90ssoul': 27340, 'korrect973': 27341, 'myth': 27342, 'cm9jhhk41y': 27343, 'soulflower': 27344, 'swishaas': 27345, 'tikoamg': 27346, 'conoc': 27347, 'tus': 27348, 'ojos': 27349, 'vivir': 27350, 'ellos': 27351, 'rllllytired': 27352, 'ratchetest': 27353, 'oval': 27354, 'fuckeveryword': 27355, 'backtrack': 27356, 'seanphathaway': 27357, 'lrtkaqjuc3g': 27358, 'diaval': 27359, 'virtue': 27360, 'socosopretty': 27361, 'bandwagons': 27362, 'that1kidzi': 27363, 'ohioans': 27364, 'clowned': 27365, 'teamed': 27366, 'fillwerrell': 27367, 'penne': 27368, 'kelsey': 27369, 'cantstandyou': 27370, 'mfsasso': 27371, 'segregation': 27372, 'lynching': 27373, 'suffrage': 27374, 'retake': 27375, 'junglefeverfren': 27376, 'sheeeratchet': 27377, 'qhohalwqj2': 27378, 'okcupid': 27379, 'hbf2xza0ke': 27380, 'beth': 27381, 'jazsmin': 27382, 'dalvina': 27383, 'iget': 27384, 'handlers': 27385, 'gotbunns': 27386, 'adressed': 27387, 'quilzel': 27388, 'erecycle': 27389, '6lrxiqsi8b': 27390, 'yannapyt': 27391, 'tweetgamelazy': 27392, 'thatsfoodporn': 27393, 'obytemi3ed': 27394, 'whass': 27395, 'hannin': 27396, 'ashmarie': 27397, 'appropriate': 27398, 'aydanmccoy': 27399, 'jessicachasmar': 27400, 'blogged': 27401, 'homos': 27402, 'mje5kvl7rf': 27403, 'hermosa': 27404, 'takeme2china': 27405, 'peagles14': 27406, 'y4dxfh8nlv': 27407, 'bookie': 27408, 'johnelhadleyjr': 27409, 'festival': 27410, 'threes': 27411, 'gus': 27412, '802': 27413, 'cripes': 27414, 'a3gpdurama': 27415, 'luisenriquez94': 27416, 'zd3vctxgxh': 27417, 'xidfepyyie': 27418, '3much4thesehoez': 27419, 'ursula': 27420, 'h07mrmawxp': 27421, 'moniee': 27422, 'twpg0xxwbb': 27423, 'lowcountry': 27424, 'bitchhhhhhh': 27425, 'committ': 27426, 'cite': 27427, 'realbobbyjay': 27428, 'losthistories': 27429, 'histories': 27430, 'smithsonianapa': 27431, \"travvv's\": 27432, 'axm9pcw95t': 27433, 'mat': 27434, 'sumthinnueee': 27435, 'yoooooooooooooo': 27436, 'schlumped': 27437, 'squaaaaad': 27438, 'hinrich': 27439, 'b1gsean21': 27440, 'hellen': 27441, 'keller': 27442, 'tightgripp': 27443, 'snows': 27444, 'broaddayjay': 27445, 'thermals': 27446, 'sophiero3': 27447, 'everrrrrrr': 27448, 'sangin': 27449, 'grammy': 27450, 'saudiasade': 27451, '5200lora': 27452, 'sheanxiv': 27453, 'brussel': 27454, 'cordon': 27455, 'bleu': 27456, 'foods': 27457, 'precisely': 27458, 'withdac': 27459, 'camblunt': 27460, 'e12ylm2yva': 27461, 'luvkittensdaily': 27462, '5zmzvt0sul': 27463, 'bh': 27464, 'oliviagobert': 27465, 'quanny': 27466, 'pagenaud': 27467, 'davidjones720': 27468, 'zucchini': 27469, 'wc4ub0un6b': 27470, 'andnowihaveebola': 27471, 'alissawasheree': 27472, 'thickumms': 27473, 'monetkittrell': 27474, 'spaceship': 27475, 'angrywillhelms': 27476, 'intellectually': 27477, 'nlcs': 27478, 'loveamari': 27479, 'nelsoncanache': 27480, 'plm': 27481, 'qgnhildttv': 27482, 'herps': 27483, 'jt12': 27484, 'lookinnnass': 27485, 'whiskers': 27486, 'ellie': 27487, 'teas': 27488, 'cafeshaw': 27489, 'teezy': 27490, 'eit': 27491, 'nateklempa': 27492, 'rootsportspit': 27493, 'wvu': 27494, 'aaronthegoat': 27495, 'dvzegkebgv': 27496, 'intheovenjews': 27497, 'slavecatcher88': 27498, 'ovenjew': 27499, 'jaworskimeats': 27500, 'clevelandfans': 27501, 'clevelandpride': 27502, 'clevelandbrowns': 27503, 'clevelandsports': 27504, 'gm4h': 27505, 'notokay': 27506, 'vaginaaholic': 27507, 'deeschronicles': 27508, 'kannie': 27509, 'vonnie': 27510, 'crissi': 27511, 'hawaii': 27512, '3rdeyechillin': 27513, 'opnminds': 27514, 'declined': 27515, 'henessey': 27516, 'pounder': 27517, 'nottin': 27518, 'msmyag': 27519, 'simpsonsqotd': 27520, 'kearney': 27521, 'dk7rcqm1fs': 27522, 'yongguk': 27523, 'ajumma': 27524, 'ambitiouscam': 27525, 'yunglex3': 27526, 'iamswagnificant': 27527, 'taylorrdiane': 27528, 'foreplaying': 27529, 'flavaaaaa': 27530, 'xntftnwuvd': 27531, 'cf': 27532, 'beltran': 27533, 'dh': 27534, 'lf': 27535, '1b': 27536, 'rf': 27537, 'cornrows': 27538, 'littlemspaige': 27539, 'sizes': 27540, 'bigtits': 27541, 'preggie': 27542, 'swollen': 27543, 'itcpebcem4': 27544, 'klutzy': 27545, '9975ts': 27546, 'senwarren': 27547, 'conscienceless': 27548, 'criminal': 27549, 'ruley': 27550, 'ry': 27551, 'dayton': 27552, 'spokes': 27553, 'hous': 27554, 'ua5gs1jalf': 27555, 'walkout': 27556, 'sketch': 27557, 'onlybiirdstweet': 27558, 'louder': 27559, 'ruled': 27560, 'quilathediva': 27561, 'assets': 27562, 'ncpd8usljf': 27563, 'sidelined': 27564, 'amandaner': 27565, 'ryanhoover': 27566, 'geek': 27567, 'iamjamienicole': 27568, 'horizon': 27569, 'aishamoodmills': 27570, '6tklgup2wh': 27571, 'nqsyeqhgoz': 27572, 'grrrr': 27573, 'isoldyodaddrugs': 27574, '128247': 27575, 'ucskiwfg10': 27576, 'xvwl4rgd7u': 27577, 'chanaee': 27578, 'b5xbkamv4x': 27579, 'bel7unzglt': 27580, 'i1rnkjmkeu': 27581, 'gorgeousera': 27582, 'sonoma': 27583, 'gutto': 27584, 'mabelsay': 27585, 'crowds': 27586, 'bandannas': 27587, 'tess': 27588, 'stepakoff': 27589, 'traitorous': 27590, 'pelosi': 27591, 'parading': 27592, 'bloodboiling': 27593, 'prettyxeyes': 27594, 'fyi': 27595, 'r9juot4bgq': 27596, 'bvttousaibonez': 27597, 'scottiken': 27598, 'tgr0z': 27599, 'ithinkthatway': 27600, 'obvu5zn3zc': 27601, 'ladybitch': 27602, '8n9mi46cbu': 27603, 'austinthaintern': 27604, 'koiyatheperv': 27605, 'koiya': 27606, 'lastwordevan': 27607, 'eligible': 27608, 'ulcer': 27609, 'whoisashanti': 27610, 'kw': 27611, 'q1yv6rhl0l': 27612, 'whyvee': 27613, 'georgegalloway': 27614, 'wmn': 27615, 'covers': 27616, 'neighbour': 27617, 'veil': 27618, 'sarajevo': 27619, 'burden': 27620, 'britt': 27621, 'judy': 27622, 'coreykeyz': 27623, 'si8g1mzpgs': 27624, 'gwdrums': 27625, \"creed's\": 27626, 'barackomamba': 27627, 'mtzjaac0w2': 27628, 'michaelblackson': 27629, 'griner': 27630, 'mlbtraderumors': 27631, '6dtdxdi6ul': 27632, 'mommas': 27633, 'geeze': 27634, 'winnnn': 27635, 'underwood': 27636, 'dop3sweet': 27637, 'ohk': 27638, 'koko': 27639, 'shaven': 27640, \"billyjoel's\": 27641, 'ngzhimyvsf': 27642, 'marshe': 27643, 'yeaboo': 27644, 'princessalyssxo': 27645, 'swagishsternes': 27646, 'detroitche': 27647, 'shabbacranks': 27648, 'gangbang': 27649, 'corysayfukem': 27650, 'refreshin': 27651, 'tsa': 27652, \"darby's\": 27653, 'etdkzfrrzk': 27654, 'sholzbee': 27655, 'doristafoya1': 27656, 'jagauress': 27657, 'walter': 27658, 'lynnemrnp': 27659, 'cartridge': 27660, 'wrongfilmquotes': 27661, 'euphoric': 27662, 'ensnf9rgph': 27663, 'rilgvboghl': 27664, 'lymmanny': 27665, 'tooturntnacho': 27666, 'atrue': 27667, '1kqnw4lj': 27668, '165': 27669, 'tydollasign': 27670, 'torch': 27671, 'drain': 27672, 'albinos': 27673, 'astigmatisms': 27674, 'spasms': 27675, 'blindness': 27676, 'faults': 27677, 'mckinseey': 27678, 'greener': 27679, 'kxnggerald': 27680, 'marcusbutlertv': 27681, 'cinema': 27682, 'craziestfreaks': 27683, 'moans': 27684, 'gumzv3ikdj': 27685, 'nytimes': 27686, 'task': 27687, 'ch': 27688, 'purelyfootball': 27689, 'kimabakken': 27690, 'almeria': 27691, 'shaydmvsfinest': 27692, 'unblock': 27693, 'vv3qdto7mg': 27694, 'comcast': 27695, 'puderbaugh': 27696, 'wwc': 27697, 'u3kkrlwoqk': 27698, 'ilostmysanity': 27699, '5earthquake': 27700, 'ymqwtsvd0h': 27701, 'hjhdyhdhlgjdftilh': 27702, 'pubsubs': 27703, 'adessences': 27704, 'tzanchan86': 27705, 'genocide': 27706, 'combatants': 27707, 'krisdarebel': 27708, 'dsdfeji65u': 27709, 'c7r3wrcpk0': 27710, 'sexualgxfs': 27711, 'f1tjl9xnct': 27712, 'ahve': 27713, 'arcade': 27714, 'lexxinnn': 27715, 'torture': 27716, 'murderer': 27717, 'monopoly': 27718, 'swipe': 27719, 'deuce1990': 27720, 'notre': 27721, 'frtmyhu7bl': 27722, 'hires': 27723, 'gypsies': 27724, 'breeds': 27725, 'nigglets': 27726, 'femaiestruggle': 27727, 'poxpyq5eiy': 27728, 'damianhuffaker': 27729, 'kiddin': 27730, 'taylerhatesyou': 27731, 'theo17100': 27732, 'byj1hoyhmg': 27733, 'schlabach': 27734, 'mcmurphyespn': 27735, 'ywvvg51z6w': 27736, 'shoutouts': 27737, 'jeffgallardo9': 27738, 'sonali1123': 27739, 'hwiplpuxpq': 27740, 'kiaranicole': 27741, 'joaries': 27742, 'wingatelfc': 27743, 'chanchan': 27744, 'peruvian': 27745, 'jdimenstein': 27746, 'jagexlyon': 27747, 'adoreelenaa': 27748, 'damoniwantyou': 27749, 'tvd': 27750, 'theoriginals': 27751, 'ooc': 27752, 'belowthaabelt': 27753, 'venus': 27754, 'dylxnl': 27755, 'chrvw9dpca': 27756, 'jhuff': 27757, 'sexreiationship': 27758, 'socialist': 27759, \"lookin'\": 27760, 'daniellaparella': 27761, 'patrickstpierre': 27762, 'emm': 27763, 'thtniggaxzavier': 27764, \"c's\": 27765, \"e's\": 27766, '1cc7gu4e7o': 27767, 'heelys': 27768, 'glides': 27769, 'breezysofresh24': 27770, '151': 27771, 'rum': 27772, \"google's\": 27773, 'sprees': 27774, 'andrewwayne2': 27775, 'ballers': 27776, 'starters': 27777, 'hoopin': 27778, 'itsdlow': 27779, 'mobilesuitkwamz': 27780, 'muhfugginjkells': 27781, 'misflame': 27782, 'deathcorebabe': 27783, 'phonics': 27784, 'lyciaaa': 27785, \"gf's\": 27786, 'wees': 27787, '128038': 27788, 'specky': 27789, 'lesbo': 27790, 'coolcunts': 27791, 'absoluteyvile': 27792, '2013faves': 27793, 'grahamorama': 27794, 'c6nhwublxn': 27795, 'cesar': 27796, 'wtx': 27797, 'ufgatorfamily': 27798, 'lj168ktccp': 27799, 'loveourwomen': 27800, 'kinglister10': 27801, 'loveeee': 27802, 'itscheese': 27803, 'churchofbasebal': 27804, 'officialsmith': 27805, 'fox8': 27806, \"jerkin'\": 27807, '293ymzdmun': 27808, 'lovemydogduck': 27809, 'toofab': 27810, 'warner': 27811, 'films': 27812, 'starring': 27813, 'breasts': 27814, 'reduction': 27815, 'onions': 27816, 'fdc54x3cb0': 27817, 'whith': 27818, '3peat': 27819, 'waaaaaa': 27820, 'kok': 27821, 'unreads': 27822, 'msgs': 27823, 'bwtis': 27824, 'sympathy': 27825, 'crazyassholes': 27826, 'oblige': 27827, 'kboydee': 27828, 'spikedfins': 27829, 'xbla': 27830, 'tg': 27831, 'hawks': 27832, 'nittiyayo': 27833, 'spectin': 27834, 'strvp': 27835, 'inmysexdreams': 27836, 'agreasymonkey': 27837, 'clerkofoxford': 27838, 'calendars': 27839, \"'winter's\": 27840, 'ihrckecqda': 27841, 'tq1ies1jlg': 27842, 'disagree': 27843, 'loyalest': 27844, 'clyde': 27845, 'fadeall': 27846, 'ballerlifee': 27847, 'hawkinsusa': 27848, 'pvtruest': 27849, 'nevertrustabitch': 27850, \"wild'n\": 27851, 'journalists': 27852, 'lmersj8sti': 27853, 'yardieboyheem': 27854, 'lov': 27855, 'badmon': 27856, 'rios1': 27857, 'fac': 27858, 'discounts': 27859, 'lowww': 27860, 'fareal': 27861, 'espa': 27862, '127831': 27863, 'veeveeveeveevee': 27864, 'bidens': 27865, 'soxdawg': 27866, 'rawr': 27867, 'skinrubberboi': 27868, 'frenchscally': 27869, '5idq3r5akz': 27870, 'ton3zz': 27871, 'thatboysmurf': 27872, 'idontbekaren': 27873, 'kelseysocrazy': 27874, 'dhk7eu97dc': 27875, 'advance': 27876, 'chronicles': 27877, 'notint': 27878, 'jetlife': 27879, 'sirbhill': 27880, 'wetter': 27881, 'mernin': 27882, '3zptpqfktl': 27883, 'spld2zible': 27884, 'thejudyann': 27885, '8oxlqvqbrc': 27886, \"judyann's\": 27887, 'calvin': 27888, 'annis': 27889, '8s0cil5z': 27890, 'menaa1': 27891, 'duggy': 27892, 'laat': 27893, 'zihni': 27894, 'ozdil': 27895, 'gemene': 27896, 'trollen': 27897, 'durven': 27898, 'mening': 27899, 'twijfel': 27900, 'nemen': 27901, 'zegje': 27902, 'stacymungo': 27903, 'loriisright': 27904, '3fyosi28jm': 27905, 'ronniemack12': 27906, 'charged': 27907, 'littering': 27908, 'hummus': 27909, 'broccoli': 27910, 'omgitstamz': 27911, 'screenshot': 27912, 'j8jdic3wvg': 27913, 'pjphvgw4f2': 27914, 'tonynolanlive': 27915, 'java': 27916, 'scrapehouse': 27917, 'spankxboogey': 27918, 'tmlt': 27919, 'tryhardtee': 27920, 'franks': 27921, 'dramadough': 27922, 'narabprettyass': 27923, 'liftin': 27924, 'dampness': 27925, 'arturo': 27926, 'amandashow': 27927, 'dvr': 27928, 'wj0nycel8h': 27929, 'ahaaaa': 27930, 'duhhrt': 27931, 'bengybenfrank': 27932, 'lauderdale': 27933, 'prettyboss': 27934, 'sarcassmlol': 27935, 'jinkies': 27936, 'velma': 27937, '5bbmhaphrd': 27938, '10x': 27939, 'obnoxious': 27940, 'steezhoe': 27941, 'btchs': 27942, 'gne': 27943, 'fwher': 27944, '36cvhp6c70': 27945, 'diversion': 27946, 'malnourished': 27947, 'dxpperjay': 27948, 'wobbled': 27949, 'dhoopin32': 27950, 'awoke': 27951, 'abreumegan': 27952, 'factor': 27953, 'yooperslayer': 27954, 'stayliftedd': 27955, 'independentt': 27956, 'gaggggg': 27957, 'dropdeadfred11': 27958, 'w0lfhaleighh': 27959, 'leavitt96': 27960, 'shaves': 27961, 'somethings': 27962, 'rinds': 27963, 'yoh': 27964, 'deme': 27965, 'gallo': 27966, 'asadita': 27967, 'madurito': 27968, 'milca': 27969, 'dvds': 27970, 'justhad': 27971, 'disliking': 27972, 'dbn': 27973, 'kev': 27974, '7s0v4pm7ib': 27975, 'soab': 27976, 'ree2': 27977, 'grigio': 27978, 'mathanugg': 27979, 'copacetic': 27980, 'riseofthefags69': 27981, 'quake': 27982, 'makeanothahov': 27983, 'deeply': 27984, 'devotedly': 27985, 'marlon': 27986, 'frankie': 27987, 'lexxaye': 27988, 'dp': 27989, 'penetration': 27990, 'flappybirdisruiningmylife': 27991, 'bktrack': 27992, 'adubbffamous': 27993, '4meshewill': 27994, 'fukkk': 27995, 'dere': 27996, 'tufflove1': 27997, 'predictable': 27998, 'flokid88': 27999, 'benballer': 28000, 'jayboogie': 28001, 'imagrumpycat': 28002, 'p9mmbzqmih': 28003, 'axelandrewsss': 28004, 'tyrxny': 28005, 'kaila': 28006, 'daddy001': 28007, 'cootchee': 28008, 'adorbs': 28009, 'litter': 28010, 'coldcace': 28011, 'redha': 28012, 'lari': 28013, 'hampered': 28014, 'nusra': 28015, 'fatwas': 28016, 'coupon': 28017, 'lolololol': 28018, 'bhzrswkiy1': 28019, 'blueblueshair': 28020, 'l8gne4xxzg': 28021, 'ruff': 28022, 'mn4zfw3p5g': 28023, 'shesaddicted2me': 28024, 'iamdizzy': 28025, 'sonsof': 28026, 'realnigger': 28027, 'qualitaties': 28028, 'realtimewwii': 28029, '6000': 28030, 'rail': 28031, 'treblinka': 28032, 'gamma': 28033, \"11's\": 28034, 'lkzlqqj7w1': 28035, 'collin': 28036, 'geer': 28037, 'cooks': 28038, 'cheesed': 28039, 'musicians': 28040, 'paullowry42': 28041, 'ranger1325': 28042, 'whined': 28043, 'vexedmentals': 28044, 'treati': 28045, 'imknownasdevin': 28046, 'sandles': 28047, 'itsjustmexo': 28048, 'uknomynamebxtch': 28049, 'oubad': 28050, 'countryass': 28051, 'ticiaverveer': 28052, 'meroe': 28053, 'sudan': 28054, 'rulers': 28055, 'occupied': 28056, 'choate': 28057, 'braidedcocks': 28058, 'veryproudofya': 28059, 'poppunksucks': 28060, 'fantasygames': 28061, 'sno': 28062, 'bop': 28063, 'idonthavetimefor': 28064, 'bankheist': 28065, 'cartoons': 28066, 'wlvtlggdpg': 28067, 'dorian': 28068, 'misssneed': 28069, 'weavuschrist': 28070, 'marcusdenton': 28071, '50s': 28072, '20s': 28073, 'baybay': 28074, 'colarbearr': 28075, 'hoeslovemytweet': 28076, 'richhomiejuan': 28077, \"donald's\": 28078, 'runuldorants': 28079, 'convenience': 28080, 'keystone': 28081, 'qwestsidefoolay': 28082, '1nzdvtqsuy': 28083, 'jb': 28084, 'barker10': 28085, 'tworxrojei': 28086, 'iosarfs3ro': 28087, 'livylohan': 28088, 'trappa': 28089, 'seanability': 28090, 'bitchier': 28091, '299': 28092, 'huns': 28093, 'uztkgawtfm': 28094, 'thegodmother': 28095, 'weeekend': 28096, 'mardi': 28097, 'gras': 28098, 'blaccstone': 28099, 'bury': 28100, 'kathy': 28101, 'doermer': 28102, 'vent': 28103, 'bentley': 28104, 'lmaoooooooooooooooooooooooooooo': 28105, 'ovgenocide': 28106, 'angieex3': 28107, \"grandma's\": 28108, 'zv8zsmhnlm': 28109, 'keauram': 28110, 'whitegoddesss': 28111, 'repost': 28112, 'gcsrbhqoqp': 28113, 'jaredphillis': 28114, 'fckyolifestyle': 28115, 'op5stgzx2k': 28116, 'qx7bzlfh': 28117, 'kingwalt': 28118, 'w93': 28119, 'snry6a7vyb': 28120, 'prettyjade': 28121, 'xcaramel': 28122, 'jonesx': 28123, '41fpnfeovb': 28124, '215potter': 28125, 'jerseys': 28126, 'scaffoldjocky': 28127, 'toby': 28128, 'mongoloid': 28129, 'preciate': 28130, 'myfriendbriana': 28131, 'roberto0oo0': 28132, 'fury': 28133, 'davidprice': 28134, 'lanky': 28135, 'sochittasal': 28136, 'dijonay': 28137, 'vanity': 28138, 'sofuckingswazye': 28139, 'bmxuyp8ehh': 28140, 'darnell': 28141, 'kodymark1': 28142, 'thelibraicon': 28143, 'wenotsocks': 28144, 'smacks': 28145, 'mnymknmich': 28146, 'robertenders': 28147, 'nsngq3q0': 28148, 'united': 28149, 'rpseqjd3': 28150, 'kannslac': 28151, 'boyyyyyy': 28152, 'sydswag2': 28153, 'uckin': 28154, 'freebees': 28155, 'funnyquotees': 28156, 'turbo': 28157, 'notoriousbeep': 28158, 'justinswift7oh2': 28159, 'arial': 28160, 'exercising': 28161, 'n3dnrsi352': 28162, 'taylorsimonee': 28163, 'norwalk': 28164, 'dodger': 28165, 'letsmakeitawkward': 28166, 'justmadeitawkward': 28167, 'basedlightskin': 28168, 'wgd3mnd55v': 28169, 'knickrumors': 28170, 'superstar': 28171, 'mattharvey33': 28172, 'knickstape': 28173, 'g5fqgte2s0': 28174, 'delaylay': 28175, 'mommemusthaves': 28176, 'mmmh': 28177, 'bptrtxcel0': 28178, 'kristincruz': 28179, 'exmoshow': 28180, 'romyraves': 28181, 'bling': 28182, 'lamarxo': 28183, 'teeritz': 28184, 'martinis': 28185, 'euro': 28186, 'cutienamedkitty': 28187, 'stonecold': 28188, 'pattychocmilk': 28189, 'loizi6fm6u': 28190, 'whosjuly': 28191, 'chaserojo': 28192, 'richarddeitsch': 28193, 'y3llab3lla88': 28194, 'macc': 28195, 'maccin': 28196, 'ogeezlouise': 28197, 'lyndsay': 28198, 'mobile': 28199, 'jrgg9eq4xv': 28200, 'uesygaqlhx': 28201, 'alexlundry': 28202, 'dejloaf': 28203, 'popup82': 28204, 'wires': 28205, 'concentration': 28206, 'shreddybrady': 28207, '1aih4bfcxk': 28208, 'joshbuddy': 28209, 'intrigues': 28210, 'repulses': 28211, 'boxer': 28212, 'ahhhh': 28213, \"niqqa's\": 28214, 'iamannay': 28215, 'lmaosjdusubejs': 28216, 'shph98kzoy': 28217, 'erikcochrane': 28218, 'lukethetruth': 28219, 'iiiiiiinnnnnn': 28220, 'mh46xxnu0n': 28221, 'charging': 28222, 'omgggggggggg': 28223, 'fing': 28224, 'anorexic': 28225, 'mirrorweirdnews': 28226, 'showering': 28227, 'viral': 28228, 'cwc0b0z9pb': 28229, 'rt27criqzj': 28230, 'rm0ksy99bc': 28231, 'thewayoftheid': 28232, 'sans': 28233, 'classically': 28234, 'vinceschilling': 28235, 'vince': 28236, 'natives': 28237, 'regards': 28238, 'oluwakaponeski': 28239, 'ontop': 28240, '2pofgc7ohc': 28241, 'jaymewes': 28242, '8e0aqmial8': 28243, 'wxvvtem0fc': 28244, 'darrionmarz': 28245, 'iamthedannibal': 28246, 'rdqdymvkjt': 28247, 'jt6qxws0km': 28248, 'dominiquepurdy': 28249, 'huffy': 28250, 'mouthed': 28251, 'girlbye': 28252, 'hoodstarz': 28253, 'jaytee': 28254, 'wompers': 28255, 'scoundrels': 28256, 'o1pkdhyax9': 28257, 'scmkp1nygu': 28258, 'kinsl3y': 28259, 'bre': 28260, \"free'd\": 28261, 'audeldavid': 28262, 'elleszczepanski': 28263, 'alley': 28264, 'raccoon': 28265, 'ducked': 28266, 'lid': 28267, 'khorasan': 28268, 'invention': 28269, \"deion's\": 28270, 'thnxx1lc1m': 28271, 'fascist': 28272, 'danieldavidlee': 28273, 'xoxoshima': 28274, 'slimy': 28275, 'andreshakti': 28276, 'stim': 28277, 'eeek': 28278, 'kinklive': 28279, '41apcwsmqn': 28280, 'bookertweet': 28281, 'djpga7qay5': 28282, 'bryanhoch': 28283, '113': 28284, 'pitchers': 28285, 'eddiekinggg': 28286, 'assistance': 28287, 'monstrous': 28288, 'sheemteam97': 28289, '127468': 28290, '127463': 28291, 'christin': 28292, 'wholesome': 28293, 'bogus': 28294, 'fvckfresh': 28295, 'unread': 28296, 'utzj6i5uhj': 28297, 'paulabruederle': 28298, 'mybad': 28299, 'smpitrczsa': 28300, 'realsexaddicts': 28301, '9832': 28302, 'renegadecut': 28303, 'renegade': 28304, 'snowpiercer': 28305, 'analysis': 28306, 'joon': 28307, 'sci': 28308, 'ynt9zs0': 28309, 'advil': 28310, 'dontbemad': 28311, 'boycott': 28312, 'changethename': 28313, 'changethemascot': 28314, 'baestation': 28315, 'p43u1qubwk': 28316, 'drizzytaughtbre': 28317, 'aubreychester': 28318, 'youda': 28319, 'teamzimmerman': 28320, 'oversteppin': 28321, 'boundires': 28322, 'mix3ddchickk': 28323, 'donny': 28324, 'casual': 28325, 'jrmepckcqs': 28326, \"friends'\": 28327, 'hostel': 28328, 'tvvitterfamouse': 28329, '761mk9zkci': 28330, 'yungfree504': 28331, 'alk': 28332, 'baqotivity': 28333, 'cringiest': 28334, 'cprice': 28335, 'channnteeel': 28336, 'demolishing': 28337, 'awydbjxks4': 28338, 'gy9urbtq1q': 28339, 'wsj': 28340, '50tysonrap': 28341, 'bigd757': 28342, 'medication': 28343, \"postin'\": 28344, \"thinkin'\": 28345, 'africans': 28346, 'yeyo478': 28347, 'helenbabeey': 28348, 'h0ixjzh0tz': 28349, 'evaluation': 28350, \"nothing's\": 28351, 'bigchapo': 28352, '4ch': 28353, 'merched': 28354, 'kz3eij4ugm': 28355, 'delphrano': 28356, \"berto's\": 28357, \"upsher's\": 28358, 'bronertaylor': 28359, 'zayyswanson': 28360, 'emanimilan': 28361, 'sapete': 28362, 'vi': 28363, 'odio': 28364, 'finito': 28365, 'chrisis': 28366, 'botta': 28367, 'conversatin': 28368, 'nelsontavares82': 28369, 'nyrangers': 28370, 'bruinsfan': 28371, 'sarahksilverman': 28372, 'wackest': 28373, 'sllmshady': 28374, 'hailie': 28375, 'vlpr7tmcas': 28376, 'rockets': 28377, 'allllllll': 28378, 'naptural': 28379, 'vubkmfqyaj': 28380, 'reiatethings': 28381, 'parlay': 28382, 'wesideconnect': 28383, 'arbitrarydesign': 28384, 'jehu': 28385, 'michaelsayeth': 28386, 'anarchists': 28387, 'vaginas': 28388, 'bbcandice': 28389, 'dorothy5334': 28390, 'joygrenade': 28391, 'bigmamaatee': 28392, 'aspiring': 28393, 'aioifhxdmt': 28394, 'firstballot': 28395, 'unanimous': 28396, 'aaaaaaaaand': 28397, 'begins': 28398, 'rileydakafka': 28399, 'turmoil': 28400, 'lantern': 28401, 'regroup': 28402, 'loveeeee': 28403, 'efcuttin': 28404, 'clownin': 28405, 'theacetjshow': 28406, \"kim's\": 28407, 'hereforeb': 28408, 'ekdsi8pqdd': 28409, 'kaetlin': 28410, 'sterm26': 28411, 'realjameswoods': 28412, '1muneyy': 28413, 'justinhall3434': 28414, 'n0gu5j7dqx': 28415, 'ahhhhh': 28416, 'vg9m9lskel': 28417, 'kuroda': 28418, 'bigcatcooke': 28419, 'elite8': 28420, 'awaits': 28421, 'sweet16': 28422, 'keyboard': 28423, 'basebaiivines': 28424, 'pine': 28425, 'pjrkjeay6h': 28426, 'thefunnyteens': 28427, 'ltr4gi5muv': 28428, 'doj': 28429, 'obgyn': 28430, 'utw': 28431, 'zwttsb9cc1': 28432, 'likea': 28433, 'wunna': 28434, '2rhn5hpasb': 28435, 'rowboy': 28436, 'tpnmbd6z': 28437, 'resulting': 28438, 'mw3': 28439, 'hbjdgvenxa': 28440, \"father's\": 28441, 'getlostfakebitch': 28442, 'interchangeable': 28443, 'bezel': 28444, 'thatsaproblem': 28445, 'pmo': 28446, 'climaxed': 28447, 'denies': 28448, 'contacting': 28449, 'qhra6oalrr': 28450, 'marsasteenhoek': 28451, '4vhc5o7rz5': 28452, '9xjtimrcsg': 28453, 'buflo': 28454, 'soomonique': 28455, 'tonnnnniiiiiiggggghhht': 28456, 'magnums': 28457, '773': 28458, 'cellphone': 28459, 'sadomisogynist': 28460, \"mo'ne\": 28461, \"joke's\": 28462, 'heidypalma21': 28463, 'archielacombe': 28464, 'coolstorysam': 28465, 'morgannndee': 28466, 'defect': 28467, 'nahhhhhh': 28468, 'xcallmeziaa': 28469, 'scratched': 28470, 'lilshwenda': 28471, 'marioolvera94': 28472, 'lxk0yycvr4': 28473, 'trelekidd': 28474, 'jabarithegreat': 28475, '4uvjjbeqdd': 28476, 'moonsnlullabies': 28477, 'laleaa': 28478, 'dayreeee': 28479, 'hookahdrive': 28480, 'linnyitssn': 28481, 'towers': 28482, 'stockton': 28483, 'fatherrr': 28484, 'chaco': 28485, 'abduction': 28486, 'linked': 28487, 'x6sip3woxb': 28488, 'joshrogin': 28489, 'salsteelo': 28490, 'victorleachavez': 28491, 'aries': 28492, 'taurus': 28493, 'scorpio': 28494, 'aq': 28495, 'blur': 28496, 'anarchistrev': 28497, 'rallying': 28498, 'heyshelby': 28499, 'griiind': 28500, 'luuuuuuv': 28501, 'interception': 28502, 'dubbing': 28503, 'ejthr33': 28504, '1rudeassninja': 28505, 'gettinit': 28506, 'carleycarllz': 28507, 'yflu32xh': 28508, 'chesteredits': 28509, 'nacbiller': 28510, 'psyqo': 28511, 'bbcwhorship': 28512, 'zficqys3dy': 28513, 'c4': 28514, 'iamtysonbettis': 28515, 'bitchsides': 28516, 'ihy': 28517, \"'doctor'\": 28518, 'examine': 28519, 'testicles': 28520, 'painlessly': 28521, 'rayyyzor': 28522, '100gram': 28523, 'delight': 28524, 'poptart': 28525, 'honeybun': 28526, 's6znlvlvli': 28527, 'chatt': 28528, 'jc4bkbe8vt': 28529, 'seoredondo': 28530, 'by1j7hmq3z': 28531, 'chiefope': 28532, 'badcombinations': 28533, 'lilbyrdy': 28534, 'magically': 28535, \"vic's\": 28536, 'lmpa15kaiz': 28537, 'leynachristina': 28538, 'chrysta': 28539, 'zombie': 28540, 'raaain': 28541, 'weyheymariam': 28542, 'drk5c0txtq': 28543, 'dbab': 28544, 'holloway': 28545, '12th': 28546, 'cgx3hnak9a': 28547, 'firefighter': 28548, 'iknow': 28549, 'stopp': 28550, 'whateva': 28551, 'letsdancemofos': 28552, 'markkelly1983': 28553, 'swatted': 28554, 'imback': 28555, 'newtwitter': 28556, 'emmadiabetes': 28557, 'daps': 28558, 'swinging': 28559, 'warped': 28560, 'yayyyyy': 28561, 'gaaaaaaaaaaaay': 28562, 'bayleebork': 28563, 'broneadams': 28564, 'idf': 28565, 'istandwithisr': 28566, 'kem': 28567, 'megaldon': 28568, '2013taughtme': 28569, 'zjyxci9ram': 28570, 'wvnextin6': 28571, 'darealwalt': 28572, 'thegooglefactz': 28573, 'yokbfilthy': 28574, 'aone': 28575, 'reptar': 28576, 'carpedehope': 28577, 'everybodyhatesv': 28578, 'jaelynbeeee': 28579, 'justinclark': 28580, \"ahmed's\": 28581, 'core4': 28582, 'bl2v1v2n9t': 28583, 'troubadour': 28584, 'takeit': 28585, 'cerious': 28586, '1vtqx9ioxk': 28587, 'cosabandonada': 28588, 'parque': 28589, 'atracciones': 28590, 'abandonado': 28591, 'dn0jiid4f4': 28592, 'grub': 28593, 'nxpjprhsbu': 28594, 'gaymarriage': 28595, \"pharaoh's\": 28596, 'eminoelle': 28597, 'ppint': 28598, 'pimpsquadjones': 28599, 'biggmoe': 28600, 'fund': 28601, 'worldseriesgame6': 28602, 'jens': 28603, '6g7jnmow': 28604, 'museum': 28605, 'admission': 28606, 'lilly': 28607, 'w9ctzkcxcj': 28608, 'starrhall': 28609, 'speechless': 28610, 'kraut': 28611, 'towelhead': 28612, 'albertogomez51': 28613, 'nomaambundy92': 28614, \"no's\": 28615, 'darkkskys': 28616, 'hoppin': 28617, 'centaur': 28618, 'ughhh': 28619, 'kelllllllllvin': 28620, 'ottawapolitico': 28621, 'edict': 28622, \"govt's\": 28623, '6chtqnr3mu': 28624, 'inbed': 28625, 'poppadom': 28626, 'livinthedream': 28627, 'justawana': 28628, 'vhsbg4bjrg': 28629, 'cmencarini': 28630, 'latinkings': 28631, 'mulatta': 28632, 'thejournalista': 28633, 'huny': 28634, 'gwarbucks': 28635, 'tygress': 28636, 'draggn': 28637, 'tgere': 28638, 'frozed': 28639, 'ericbaetsle': 28640, 'bahr': 28641, 'coolio': 28642, 'jcapswgr': 28643, 'semen': 28644, 'steez': 28645, 'rir': 28646, 'nashgrier': 28647, 'goshawk': 28648, 'accipiter': 28649, 'tachiro': 28650, 'accipitridae': 28651, 'fou': 28652, 't9xi8iwocs': 28653, 'optimusodd': 28654, 'intimidator': 28655, 'bvsedchink': 28656, 'skateboarding': 28657, 'vbczp6hmt7': 28658, 'amjemiebenn': 28659, 'k0394o7z8d': 28660, 'glaad': 28661, 'crappyfactsare': 28662, 'buns': 28663, 'chemical': 28664, 'azodicarbonamide': 28665, 'mats': 28666, \"kingborgman's\": 28667, 'engine': 28668, 'colon': 28669, 'gigzo0ntpd': 28670, 'ttevy': 28671, 'mikemike2real': 28672, \"ariana's\": 28673, 'poof': 28674, 'vamoose': 28675, 'layouts': 28676, 'omadoee': 28677, 'torrence': 28678, 'bons': 28679, 'jennytripletit': 28680, 'theorem': 28681, 'assumptions': 28682, 'mariopalush': 28683, 'ukof7k2rrh': 28684, 'blackkingz': 28685, 'ezuqc2knyg': 28686, 'muscles': 28687, 'rosiezaya1': 28688, 'immigration': 28689, 'dabxkiddjoe': 28690, 'redtail': 28691, 'tjanr2pb': 28692, 'zachsafteryou': 28693, 'freedomfrayed': 28694, 'strapdafool': 28695, '24s': 28696, 'insulted': 28697, 'jordanwright23': 28698, 'motoroboated': 28699, 'respecting': 28700, 'bookoutbj': 28701, 'duper': 28702, 'generations': 28703, 'complement': 28704, 'judahworldchamp': 28705, 'faking': 28706, 'dives': 28707, 'divers': 28708, 'wor': 28709, 'joshuaxallen': 28710, '2011': 28711, 'spoopy': 28712, 'oqvp80eghx': 28713, 'claimin': 28714, 'darker': 28715, 'mygotti': 28716, 'easter': 28717, 'nfg': 28718, 'wge': 28719, 'findtheeggs': 28720, 'eggsareinherass': 28721, 'pnqlgwznd3': 28722, 'faggs': 28723, 'disability': 28724, 'foams': 28725, 'nh': 28726, 'httrdcrising': 28727, 'johncoleglover': 28728, 'yourstruelysam': 28729, 'ih8uhoes': 28730, 'nekko': 28731, 'hbk': 28732, 'justinrogo01': 28733, 'boooooooo': 28734, 'ahahahh': 28735, 'ping': 28736, 'pang': 28737, 'uza': 28738, 'maas': 28739, 'sharkette': 28740, 'toothpaste': 28741, 'm00n': 28742, 'jtl7uis2ym': 28743, 'mcc10ud': 28744, '1043214': 28745, 'james01': 28746, 'cp24': 28747, 'whatimcraving': 28748, 'siblings': 28749, 'witty': 28750, 'charming': 28751, 'pastors': 28752, 'lords': 28753, 'titaaar15': 28754, 'crystalkethry': 28755, 'comics': 28756, 'tydunne': 28757, \"con't\": 28758, 'stickers': 28759, 'nametags': 28760, 'indicate': 28761, 'preferred': 28762, 'pronouns': 28763, 'aidangee1': 28764, 'w3prpiahzq': 28765, 'jperez003': 28766, 'djsir': 28767, 'freshley': 28768, 'whataburger': 28769, 'dwsyb5boda': 28770, 'f0pvulnf4c': 28771, 'icantmiss': 28772, 'pantera': 28773, 'srn5yc16': 28774, 'chrisrock': 28775, 'amizzyy': 28776, \"mino's\": 28777, 'daboss': 28778, 'qr3oegnjli': 28779, 'virginities': 28780, 'explosions': 28781, 'xndseanx': 28782, 'moshing': 28783, 'avoiding': 28784, 'rubber': 28785, 'awwadorable': 28786, '8wy8gdjiej': 28787, 'k3l15zobgz': 28788, 'hemightbejason': 28789, 'marca': 28790, 'sodamntrue': 28791, 'plannedsickdays': 28792, \"djk's\": 28793, 'wiki': 28794, 'sadderdre': 28795, 'poeticgenius19': 28796, 'headass': 28797, 'somewhat': 28798, 'collage': 28799, 'cartiers': 28800, 'deigo': 28801, 'maegan': 28802, 'dta': 28803, 'mlbstatoftheday': 28804, '1914': 28805, '91': 28806, '121': 28807, 'tuneluciano': 28808, 'prego': 28809, 'crunch': 28810, 'shesoviciouzz': 28811, 'warwith1gun': 28812, 'bib': 28813, 'bunnycocaine': 28814, 'factz': 28815, 'battled': 28816, 'hong': 28817, 'godamn': 28818, 'lamasterboy': 28819, 'columbine': 28820, 'whoppin': 28821, 'blocced': 28822, 'embassy': 28823, \"nato's\": 28824, 'xklxbyxzbg': 28825, 'fstow': 28826, 'bore': 28827, 'kyulqzobc6': 28828, 'nathanmbennett2': 28829, 'scheming': 28830, 'yawlknow': 28831, 'shirty': 28832, 'murderin': 28833, 'norte': 28834, 'gru': 28835, 'scootin': 28836, 'yeahhhh': 28837, 'flotation': 28838, 'device': 28839, 'kimberlymt413': 28840, 'assure': 28841, 'asvprvchel': 28842, 'beautiifulvixen': 28843, 'trippinc': 28844, 'surfer': 28845, 'bk5unhqo3z': 28846, 'koedj': 28847, 'dvpedreams': 28848, 'diamondloudkush': 28849, 'theonetruedisco': 28850, 'jackelope': 28851, 'unicorn': 28852, 'pegasus': 28853, 'marketwisenick': 28854, 'mandylea25': 28855, '2klonqhsi9': 28856, '9lcmve9i1m': 28857, 'witdajuice': 28858, 'fu4dbqeotn': 28859, 'vivian': 28860, 'isminihoran': 28861, 'clifford': 28862, 'angllee2500': 28863, 'offending': 28864, 'pacc': 28865, 'tol': 28866, 'on4s': 28867, 'trued': 28868, 'roles': 28869, 'queenreenie': 28870, 'tbm1dil55n': 28871, 'imdiketurner': 28872, 'dwdg7dnwxw': 28873, 'thekingscottyd': 28874, 'theorlandojones': 28875, 'runeshashamia': 28876, 'mzlola': 28877, 'pentagon': 28878, 'ey7lmc5i2w': 28879, 'lenses': 28880, 'uberfoxy': 28881, 'ronanfarrow': 28882, 'principles': 28883, 'jackiengvyen': 28884, 'blahblah': 28885, 'dounealdy': 28886, 'jnnqwisao5': 28887, 'bass': 28888, 'hankjohnson11': 28889, 'fishes': 28890, 'dock': 28891, 'mclovin': 28892, 'crystalfbadd': 28893, 'itselmosworld': 28894, 'just2savage': 28895, 'gee24': 28896, 'xiibyte': 28897, 'argus': 28898, 'kebinblodgett': 28899, 'minivan': 28900, 'selection': 28901, 'necessity': 28902, \"arabia's\": 28903, 'sarry': 28904, 'postseasons': 28905, 'bigmoneyniquee': 28906, 'ginadeb0': 28907, 'fumny': 28908, 'powers2014': 28909, 'tn6': 28910, 'diane': 28911, 'red2blue': 28912, 'knocks': 28913, 'rihannaglfs': 28914, 'epdgxmzksr': 28915, 'shank': 28916, 'ceviche': 28917, \"ann's\": 28918, 'qhkesdvizr': 28919, 'retweetin': 28920, '916': 28921, 'steele': 28922, 'iz75pey71z': 28923, \"fool's\": 28924, '2gglyhm8qc': 28925, 'stapler': 28926, 'etaks2evil': 28927, '3529gvbxkt': 28928, 'satanspearl': 28929, 'snowthaproduct': 28930, \"d'angelo\": 28931, 'niceeeguy': 28932, 'itsqwan': 28933, 'slowjams': 28934, 'neveradullmoment': 28935, 'withthesebitches': 28936, 'liyahm0ne': 28937, 'imangie': 28938, 'pravikingdino': 28939, 'crazygirlgab': 28940, 'sacrament': 28941, '17andlovinit': 28942, 'dandelions': 28943, 'pickme': 28944, 'jokersupdates': 28945, 'snob': 28946, 'toco': 28947, \"diana's\": 28948, \"tannehill's\": 28949, 'kyanne': 28950, 'darrenburton': 28951, 'recyclables': 28952, 'yassssssssss': 28953, '103': 28954, 'defies': 28955, 'youpeople': 28956, 'jxtvd6dvdu': 28957, 'weibo': 28958, 'censors': 28959, '87nsk91rjr': 28960, 'j3aakxwife': 28961, 'parkerhouk1': 28962, 'niggahyfenasian': 28963, 'indy': 28964, 'titz': 28965, 'goldbar': 28966, 'ouuuuufffff': 28967, 'louisiana': 28968, 'fiya': 28969, 'greenfestival': 28970, '640': 28971, 'scdzndk2aq': 28972, 'itstheboomshow': 28973, 'fricknawesome': 28974, 'heifer': 28975, 'jhuuzpgr': 28976, 'uganda': 28977, 'freemasonry': 28978, 'kylelewsader': 28979, 'savingthesehoes': 28980, 'bullpen': 28981, 'irl': 28982, 'remake': 28983, 'dcyoungfly': 28984, 'dirtymoney24': 28985, 'teamignat': 28986, 'bab': 28987, 'mgr10pz8ij': 28988, 'trevaughn3': 28989, 'gusandrews': 28990, 'lambdamoo': 28991, 'patbeeh95': 28992, 'glittery': 28993, 'sharkhoes': 28994, 'tooting': 28995, 'paraphernalia': 28996, 'balkan': 28997, 'hyposhitical': 28998, 'forevs': 28999, 'mcknight': 29000, 'accolades': 29001, 'theechaco': 29002, 'danawhite': 29003, 'hoppk92': 29004, 'shutupandplay': 29005, 'louisck': 29006, 'capri': 29007, 'vth4r762': 29008, 'teaches': 29009, 'crowe': 29010, 'fashow': 29011, 'loads': 29012, 'kvngmelly': 29013, 'vdis3ghg6t': 29014, 'itstylerstarr': 29015, 'wrenching': 29016, 'west2quick': 29017, 'yawns': 29018, 'teamgladney': 29019, 'lamee': 29020, '3phonekibagami': 29021, '3phone': 29022, 'gunplayrob187': 29023, 'bigbootybishopp': 29024, 'lassen': 29025, 'youll': 29026, 'peterose': 29027, 'dimaggio': 29028, 'indians': 29029, 'streak': 29030, 'duncanidunno': 29031, 'windshields': 29032, 'coorslightca': 29033, 'drinkers': 29034, \"we'r\": 29035, 'underchilde': 29036, 'swingers': 29037, 'kuntrytawk93': 29038, 'deadgrl': 29039, 'reprint': 29040, 'davidcomanhidy': 29041, 'centerplate': 29042, 'cruelty': 29043, 'saveanimals': 29044, 'petition': 29045, 't07kz5myev': 29046, 'nayminaj': 29047, 'weaaakkk': 29048, 'mgkyd': 29049, 'saluting': 29050, 'swagfags': 29051, 'tots': 29052, 'usz8gjnzl0': 29053, 'yolac': 29054, 'mywaafd1yb': 29055, 'rollingwithtrin': 29056, 'knowwww': 29057, 'shepissglitter': 29058, 'facial': 29059, 'facialized': 29060, 'kd9nu3tmwz': 29061, 'theericglife': 29062, 'lqxvllvzhj': 29063, 'turtlemcnasty': 29064, 'prayer': 29065, 'hajj': 29066, '5ee3edxuoa': 29067, 'heroineaddict': 29068, \"'twin\": 29069, \"peaks'\": 29070, \"outdoors'\": 29071, 'aemkmikoyf': 29072, 'dallywaggz12': 29073, 'v6v0d77obm': 29074, 'lovehim': 29075, '128121': 29076, 'ayysian': 29077, 'coronas': 29078, 'spiffytwiley': 29079, \"sessy's\": 29080, 'overplayed': 29081, 'itv': 29082, 'accessorize': 29083, 'f8ydxkaz': 29084, 'smartest': 29085, 'mortal': 29086, 'kombat': 29087, 'liu': 29088, 'kang': 29089, 'exjvkjcxez': 29090, 'andresdavid': 29091, 'privileged': 29092, 'almuirsi': 29093, 'plotting': 29094, 'hilly': 29095, '127874': 29096, '127856': 29097, '1kane': 29098, 'dbtcv0fbn1': 29099, 'loveable': 29100, 'aizah': 29101, 'sapiosexual': 29102, 'neutron': 29103, 'intellectual': 29104, 'chainwax': 29105, 'serena': 29106, 'mcoznht7n2': 29107, 'swaqmagician': 29108, 'dasss': 29109, 'tayisbae': 29110, 'stiligucci': 29111, 'spxrklybubbles': 29112, 'yams': 29113, 'anywere': 29114, 'thecooleyshow': 29115, 'schitt': 29116, 'nijel': 29117, 'mpoindc': 29118, 'waxman': 29119, 'leduff': 29120, 'gottliebshow': 29121, 'sbnationnba': 29122, 'c8d3sjoupj': 29123, 'medzzzx': 29124, 'tsnzjgpye4': 29125, 'skeeerra': 29126, 'ourcofe': 29127, 'ordination': 29128, 'weaken': 29129, 'kikistfu': 29130, 'elastic': 29131, 'haylgroot': 29132, 'jennholly': 29133, 'whoscherry': 29134, 'allzmicelz': 29135, 'dwkd2djorv': 29136, 'erinfbaaby': 29137, '2chainzz2pumps': 29138, 'ybxifwtugu': 29139, 'ihgu1zuyzt': 29140, 'brownandbella': 29141, 'yassssssssssssss': 29142, 'blakeshelton': 29143, 'yasxoqnlea': 29144, 'ajbruno14': 29145, 'ravenconnell': 29146, 'clfrew27': 29147, 'schargel': 29148, 'sukmysweetness': 29149, 'waldon': 29150, 'onlife': 29151, 'lonnie': 29152, 'swilla': 29153, 'meetin': 29154, 'bdarnon': 29155, 'moldy': 29156, 'wobbly': 29157, 'lti96azjwk': 29158, 'longlivetylerd': 29159, '3xneg5mnrk': 29160, 'measly': 29161, '506': 29162, 'gaaybriel': 29163, 'magicjohnson': 29164, 'prettytea': 29165, 'obscurespinosa': 29166, 'aluy9eo3xk': 29167, 'tajmahal': 29168, 'padrino': 29169, 'abellaxxx': 29170, '1800s': 29171, 'beliefs': 29172, 'frankensteinmd': 29173, 'kikme': 29174, 'heismybitch': 29175, 'demimariemorin': 29176, 'imustbestupid': 29177, 'dodges': 29178, 'blyyoltp0k': 29179, 'hiyathanda': 29180, 'alps': 29181, 'detroitgirls': 29182, 'umchillbreaux': 29183, 'flabby': 29184, 'turrible': 29185, 'rachijuana': 29186, 'shackelford': 29187, 'whoapollo': 29188, 'doyourgoogles': 29189, 'mitch': 29190, 'krebs14': 29191, 'giannarromano': 29192, 'mj2307': 29193, 'vivamexico': 29194, 'handles': 29195, 'hp': 29196, 'shifting': 29197, 'maddiston': 29198, 'sumblime': 29199, 'indiangiver': 29200, 'crooklynxdodger': 29201, 'bizzy': 29202, 'qs9xueu1va': 29203, 'bradmich4real': 29204, 'questioniaskmyself': 29205, 'solve': 29206, 'ryandolan123': 29207, '2lkukctpf0': 29208, 'lxrdlvndxn': 29209, 't7rujtkei1': 29210, 'therby': 29211, \"cruise's\": 29212, \"'tiger\": 29213, \"blood'\": 29214, 'josephdburns34': 29215, 'realjackneisen': 29216, 'fuccccck': 29217, '1041216': 29218, 'jayare': 29219, 'sarahmcintiree': 29220, 'ultimately': 29221, 'drboycewatkins1': 29222, 'minstrel': 29223, 'youngdg': 29224, 'princessmorggan': 29225, 'billyeichner': 29226, 'tomcruise': 29227, 'shitttt': 29228, 'contrarian11': 29229, 'msg': 29230, '1990': 29231, 'dunking': 29232, 'juelz': 29233, 'brandonspears': 29234, 'limber': 29235, 'limbo': 29236, 'd1sinceday1': 29237, 'spatula': 29238, 'jfish13': 29239, '35nmr4auqg': 29240, 'yrpgm7jc1s': 29241, 'uberbuilshit': 29242, 'concluded': 29243, 'lilboodyjudy': 29244, 'lekarmasucre': 29245, 'learnteachwin': 29246, 'omgdizzystarz': 29247, 'boxed': 29248, 'rellokid': 29249, 'fruitcake': 29250, 'nahhh': 29251, 'omwaed2pcj': 29252, 'leoncountrybwoy': 29253, 'yute': 29254, 'brows': 29255, 'darg': 29256, 'idonthaveone': 29257, 'insensitive': 29258, 'occdissent': 29259, 'coulter': 29260, 'gettingreal': 29261, 'jayiiuminati': 29262, 'ucicsx5vus': 29263, 'itold': 29264, 'sickgirl12345': 29265, 'nn4odizr8l': 29266, 'mvckfadden': 29267, 'doltyourselfs': 29268, 'annacoman': 29269, 'jacobyellsbury': 29270, 'hkiwy': 29271, 'geewillikers': 29272, 'r6uewfur8w': 29273, 'eugh': 29274, 'tacorell': 29275, 'desserts': 29276, 'lizeth0714': 29277, \"nc's\": 29278, 'getyamindright': 29279, 'fckwatchuthink': 29280, 'rubbin': 29281, 'reacts': 29282, 'ww3': 29283, 'dontesydnor': 29284, 'iizydfbzcg': 29285, 'chrisssssyxo': 29286, 'lice': 29287, 'copperpeony': 29288, 'libshateus': 29289, 'carni': 29290, 'oxy': 29291, 'conleyfanclub': 29292, 'risengrind': 29293, '558ewp9vf0': 29294, 'popebeloud': 29295, 'grandhustla': 29296, 'atlanticcity': 29297, 'minutemanx1776': 29298, 'theyknownotwhat': 29299, 'mayberryjustin': 29300, 'allforcountry': 29301, 'lilmissprepper': 29302, 'ritzy': 29303, 'glinsan1': 29304, \"some'n\": 29305, 'iugyrimr4d': 29306, 'csg4oopgky': 29307, 'squeakkgod': 29308, 'opps': 29309, 'fusionrocks': 29310, 'jumabr': 29311, 'disposition': 29312, 'kinghendo95': 29313, 'upcoming': 29314, 'kingofthehill': 29315, 'alaysiamichelle': 29316, 'slickbackjr': 29317, 'kkuzv5pddr': 29318, 'nostalgic': 29319, 'keke': 29320, 'seeee': 29321, 'phontigallo': 29322, 'vqhwqhvnwb': 29323, 'cowardly': 29324, 'sulerte26': 29325, 'rsmi4p7o6u': 29326, 'letr': 29327, 'lifee': 29328, 'trapgrampa': 29329, 'bingo': 29330, '510988': 29331, 'jleydcegf0': 29332, 'typically': 29333, 'erwin': 29334, 'tw9nl5hkmt': 29335, 'ebhgjhbgjbejfb': 29336, 'ach': 29337, 'websingle': 29338, 'xxxxx8898': 29339, 'marylandunempins': 29340, 'landunem': 29341, \"diss'n\": 29342, 'starter': 29343, 'ceefourdaartist': 29344, 'frendafox': 29345, 'melinwy': 29346, 'noahcrothman': 29347, 'shadonhendrix': 29348, 'flowerlela': 29349, 'glodupshawdy': 29350, 'manonthe': 29351, 'ninathegoat': 29352, 'yungrape': 29353, 'conceitednorezn': 29354, 'nw': 29355, 'youoksis': 29356, 'defecate': 29357, 'j4ckmull': 29358, 'zolmguj5hk': 29359, 'mynamesahmed': 29360, 'tonyr0ckyhorror': 29361, 'bandmankevo': 29362, 'legiqn': 29363, 'tatyanashells': 29364, 'suspects': 29365, 'uighurs': 29366, '58idicahzt': 29367, 'uighur': 29368, 'prc': 29369, 'tylerfucks': 29370, 'ayyceethegreat': 29371, 'noreigastacks': 29372, 'unansweredquot': 29373, 'teirra': 29374, \"siah's\": 29375, 'ranchers': 29376, 'reportedly': 29377, '1vynd9zbph': 29378, 'docs': 29379, 'crutch': 29380, 'psychiatry': 29381, 'immoral': 29382, \"matt's\": 29383, 'pushinuproses': 29384, 'shea': 29385, 'moisture': 29386, 'cvs': 29387, 'vee': 29388, 'djsuggablack': 29389, 'skiers': 29390, 'offers': 29391, 'otj5uxqbna': 29392, 'slothng': 29393, 'corleyhuff': 29394, 'vitchhhh': 29395, 'hudoha6yqe': 29396, 'takendown': 29397, 'yappin': 29398, 'polis': 29399, 'hazard': 29400, 'rac': 29401, 'snakecharmsdump': 29402, '4b427dqzcv': 29403, 'mallenokc': 29404, 'royceyoung': 29405, 'realkiddsmyllz': 29406, '4wasting': 29407, 'deepinhergut': 29408, 'led': 29409, 'stunner': 29410, 'covrtneyyy': 29411, 'gimmi': 29412, 'mkonvchg4r': 29413, 'istayradasshit': 29414, 'mwie7fkbu0': 29415, 'foreall': 29416, 'pimpunclejoe': 29417, 'mygoalfor2012': 29418, 'unhoe': 29419, 'raerecum': 29420, '808noheartbreak': 29421, 'thatboyking': 29422, 'extremegifs': 29423, 'ug3p4d9bsk': 29424, 'troyave': 29425, 'guessin': 29426, 'garland': 29427, 'hahhaha': 29428, 'kevantee': 29429, 'alexnolan1990': 29430, 'claddos': 29431, 'takutaneka': 29432, 'regankelly91': 29433, 'lensed': 29434, 'sunnies': 29435, 'licks': 29436, 'kostaskarelis': 29437, 'cincy': 29438, 'stillcle': 29439, 'cleallday': 29440, 'amandamarcotte': 29441, 'interrupt': 29442, 'quibble': 29443, 'derailing': 29444, 'goldmind': 29445, 'clayton': 29446, 'jenn99': 29447, 'curlsgoddess': 29448, 'bankruptcy': 29449, 'thor': 29450, 'chubbygirlgod': 29451, 'uaf57jyioi': 29452, 'abrehamdadi': 29453, 'tic14tac': 29454, 'dreammn': 29455, 'expectomichaela': 29456, 'messaged': 29457, 'lezgnik': 29458, 'nvln1xlinw': 29459, 'fuccseth': 29460, 'keg': 29461, 'mukk3bottu': 29462, 'vipperloid': 29463, 'tl2nfxorsu': 29464, 'photoshopped': 29465, 'smmfh': 29466, '5e2fkq3q2t': 29467, '89hh52pcue': 29468, 'schooigiri': 29469, 'cuties': 29470, 'c7hj3dvngp': 29471, 'eggnog': 29472, 'k4frl2vw7e': 29473, 'thedailyshow': 29474, 'ado': 29475, 'fock': 29476, 'downlow': 29477, 'anibeeezy': 29478, 'life091': 29479, 'anntelnaes': 29480, 'ktnbyutykw': 29481, 'bam00se': 29482, 'tina16': 29483, 'towie': 29484, 'yu3xkxbcyt': 29485, 'charlieking85': 29486, 'kellconnolly': 29487, 'mus': 29488, 'resolved': 29489, 'brooooooo': 29490, 'kaaspiet': 29491, 'bloempiet': 29492, 'gekkigheid': 29493, 'meer': 29494, 'simpele': 29495, 'oplossing': 29496, 'tegen': 29497, 'racisme': 29498, 'maken': 29499, 'zolang': 29500, 'blanke': 29501, 'beslissing': 29502, 'oghasnt': 29503, 'fru': 29504, 'lox': 29505, 'cheyennewright': 29506, 'villasenor': 29507, 'gucci1017': 29508, 'described': 29509, 'go1xtsuv6o': 29510, 'briwh0': 29511, 'cloudprojection': 29512, \"epps's\": 29513, \"coach's\": 29514, 'lvgfvbqkdz': 29515, 'sorority': 29516, 'mintue': 29517, 'cdfuuuu': 29518, 'dirtyyyy': 29519, 'zaksitton': 29520, 'downnnn': 29521, 'hillllll': 29522, 'utampa': 29523, 'rapeyass': 29524, 'fireinfreetown': 29525, 'nets': 29526, 'flhippie': 29527, 'phantom': 29528, 'hwkj01': 29529, 'pushinweight': 29530, 'dmankow69': 29531, 'astropatriot': 29532, 'blasio': 29533, 'nypd': 29534, 'yoouuuuu': 29535, 'gautreau': 29536, 'babyydrey': 29537, 'isint': 29538, 'kyranadiya': 29539, 'h1ubsvbkgl': 29540, 'cockyblackguy': 29541, 'ssippihippie': 29542, 'vhgexgipas': 29543, 'thatdamntwerk1': 29544, 'laidback': 29545, 'p2lr0nko6o': 29546, 'sydneys': 29547, 'reneaa': 29548, 'mikeygotsteeze': 29549, '8805': 29550, 'zj3zyduxko': 29551, 'lloyd': 29552, '1bigmick': 29553, 'quintessential': 29554, 'embodiment': 29555, 'femininity': 29556, '1marsb': 29557, 'patriotsorg': 29558, 'ragheads': 29559, 'tym': 29560, 'lyt': 29561, 'budahound': 29562, 'kathrynbruscobk': 29563, 'fposfldoxw': 29564, 'bloombergnews': 29565, 'eh6i7dojuz': 29566, 'apevontarskin': 29567, 'sith': 29568, 'jedi': 29569, 'micdrop': 29570, 'onyur': 29571, 'imethan': 29572, 'gregory': 29573, 'eyy': 29574, 'intonetheylust': 29575, 'abouttime': 29576, 'zq8utplyfk': 29577, 'initials': 29578, 'tfv1cztr': 29579, 'youngcon1266': 29580, 'enlist': 29581, 'cxzfajqufv': 29582, 'uuecu3abqv': 29583, 'aldofelix': 29584, 'boyyyyyyyy': 29585, 'burry': 29586, 'x5fesfa1vb': 29587, 'sanders': 29588, 'watered': 29589, 'justlexis': 29590, 'darthvenn': 29591, '34dcwjkvef': 29592, 'jzl7filv0q': 29593, 'vending': 29594, 'treaters': 29595, 'therealaaw': 29596, 'chuckling': 29597, 'revealing': 29598, 'hernandez': 29599, 'kevinedwardsjr': 29600, 'ddebrinar': 29601, 'nayarivera': 29602, 'mickieemoscoto': 29603, 'oclexcsgsp': 29604, 'heyitskitten': 29605, '57423': 29606, '58380': 29607, '57607': 29608, '7yaydate': 29609, 'jxgbwz8bho': 29610, 'infio': 29611, 'eppemqfxxo': 29612, 'wherearetheynow': 29613, 'anjahlamarie': 29614, 'pussyfootin': 29615, 'xxxmas': 29616, 'claws': 29617, 'flexfoee': 29618, 'okvjxdl7zw': 29619, 'crashes': 29620, 'selibus': 29621, 'jaykollskstp': 29622, 'fuming': 29623, \"nature's\": 29624, 'majesty': 29625, 'crab': 29626, 'alaska': 29627, 'ia5kfou2b3': 29628, 'botch': 29629, 'rural': 29630, 'fleeto': 29631, 'ilovemakonnen': 29632, \"l's\": 29633, 'appleciderpapi': 29634, 'godievel': 29635, 'deepaul19': 29636, 'jsimsromance': 29637, \"teacher's\": 29638, 'abel': 29639, 'brawd': 29640, 'needle': 29641, 'lollollol': 29642, '5xmvcyiluw': 29643, 'antijokeapple': 29644, 'grad': 29645, 'powblocks': 29646, 'olgadontshred': 29647, 'kingdingdong22': 29648, 'jz4lyhsrhc': 29649, 'bmarshall': 29650, 'wassupbeama': 29651, 'lancethespoken': 29652, 'chiefsatwar': 29653, 'loren': 29654, 'oq3jnn7fwo': 29655, 'whitlock': 29656, 'pti': 29657, 'prinncesskimm': 29658, 'lookwhogotit': 29659, \"upton's\": 29660, 'leaked': 29661, '11015': 29662, 'bw7lda56mi': 29663, 'swztntfdgn': 29664, 'espnsecondtake': 29665, 'h0wappsmgg': 29666, 'micheleod1': 29667, 'flipthesenate': 29668, 'chicagopolitics': 29669, 'birdgang316': 29670, 'birdgang': 29671, 'wic': 29672, 'verniemack': 29673, 'partyprobs': 29674, 'spoiling': 29675, 'mashphatrabbit': 29676, 'baldly': 29677, 'erykadamitio': 29678, 'candee': 29679, 'chaantellie': 29680, 'pussya': 29681, 'giv3a': 29682, 'chirp': 29683, 'teamiphone': 29684, 'tec': 29685, 'bootyyyyyy': 29686, '1v1': 29687, 'behaved': 29688, \"mommy's\": 29689, 'audition': 29690, 'mcflurries': 29691, 'proudmom': 29692, '9hfnsmalcu': 29693, 'loyallll': 29694, 'pskinny31': 29695, 'crazier': 29696, 'wops': 29697, 'kristen': 29698, 'fonjofdzjc': 29699, 'clorox': 29700, 'rothstein': 29701, 'lm': 29702, 'ponderous': 29703, 'philhughes': 29704, 'vrtg3dtnxc': 29705, 'credits': 29706, 'amazes': 29707, 'theorangecone': 29708, 'nevertrustt': 29709, 'amcoiny0wg': 29710, 'zakkmcdaniel': 29711, 'roadrage': 29712, 'fckwhatyathink': 29713, 'ages': 29714, 'splurgb': 29715, 'nuffin': 29716, 'tumblrfunniest': 29717, 'paperball': 29718, '215e0h0ps9': 29719, 'muafucka': 29720, 'bloopersinlife': 29721, 'bldnkqugf3': 29722, 'theycallmenavy': 29723, 'aswaad88': 29724, 'flash7414': 29725, 'oso': 29726, 'drettab': 29727, 'loverhateme': 29728, \"brown's\": 29729, 'kelsiebelsi': 29730, 'vntxnius': 29731, '127935': 29732, 'chloetarantino': 29733, 'oaybfejh54': 29734, 'asillypsycho': 29735, 'fredbrooklyn': 29736, 'doublegunschip': 29737, 'crowded': 29738, 'hott': 29739, 'heru': 29740, 'horus': 29741, 'jaymohrsports': 29742, 'pigd': 29743, 'bluer': 29744, 'denabitch': 29745, \"was't\": 29746, 'eckman': 29747, '127812': 29748, 'stamp': 29749, 'jenebooks': 29750, 'whistgoddess': 29751, 'ogs': 29752, 'earthpix': 29753, 'xnralt1phm': 29754, '410': 29755, 'mal': 29756, 'amarierubio': 29757, 'commonwhitegrl': 29758, 'asyjv2k4tt': 29759, 'lenadunham': 29760, 'nutjob': 29761, 'kontra402': 29762, 'pfsnlm07il': 29763, 'hells': 29764, \"pigs'\": 29765, 'montulos': 29766, 'busto': 29767, 'tonygoldwyn': 29768, 'mynameisarii': 29769, 'yamanakavalerio': 29770, 'normingtontj': 29771, 'ferg7': 29772, 'mictorrance': 29773, 'keyair': 29774, 'zachpiecowiak': 29775, 'juiceman829': 29776, 'realmichaelkay': 29777, 'anilkohli54': 29778, 'madhutrehan': 29779, 'sard': 29780, 'azmonsoon': 29781, 'azflooding': 29782, 'ratchetandsassy': 29783, 'familyguyonfox': 29784, 'bodybymalone': 29785, 'cmcek4h6cv': 29786, 'lrg': 29787, 'sweetalliee': 29788, 'youngchug': 29789, 'liberal2': 29790, \"'til\": 29791, 'thtsher': 29792, 'oodbptgv1n': 29793, 'yungxsmba': 29794, 'linniekravitz': 29795, 'wesgodlaflare': 29796, 'dasmycxodb': 29797, 'sniffsockslad': 29798, 'xydb1rchxh': 29799, 'gethenian': 29800, 'ffffffffffffuck': 29801, 'baratheon': 29802, 'rebellions': 29803, 'firearmsdaily': 29804, 'statistics': 29805, 'fd': 29806, 'mydickneedscpr': 29807, 'eefthf0tvb': 29808, 'asthma': 29809, 'johnny3': 29810, 'hpguilty': 29811, 'larson': 29812, 'stevestreza': 29813, \"'member\": 29814, 'quadraphonic': 29815, 'stereo': 29816, 'harveylevintmz': 29817, 'sly309': 29818, 'likemicah': 29819, 'hunneds': 29820, 'letsgetit': 29821, 'breddifferent': 29822, 'juumane': 29823, 'cranky': 29824, 'shortcut': 29825, 'berrydabody': 29826, 'desrve': 29827, 'pgwashere': 29828, 'lyvvvm': 29829, 'belts': 29830, 'wallets': 29831, 'nurbstheocho8': 29832, '864ii0yiov': 29833, 'honk': 29834, 'gallery': 29835, 'enterprise': 29836, 'pz55t90z': 29837, 'luvpug': 29838, \"pickin'\": 29839, 'ldxnpohlyd': 29840, \"sti's\": 29841, 'farwells': 29842, \"bo's\": 29843, 'dolfyadolf': 29844, 'machinery': 29845, 'dinero700k': 29846, 'tinashe': 29847, 'singlelife': 29848, 'teddybear': 29849, 'mybeautyy': 29850, 'wtfdawkins': 29851, \"osama's\": 29852, 'relatabowl': 29853, 'jz9itvjck0': 29854, 'tube': 29855, 'bola': 29856, 'sturgis': 29857, 'dracheofficial': 29858, 'alt': 29859, 'programs': 29860, 'boyyy': 29861, 'sexxielexxie': 29862, 'solochills': 29863, 'thomas71096': 29864, 'mush': 29865, 'kassigod': 29866, 'alfanolisa': 29867, '1791': 29868, 'mariachappellen': 29869, 'baiters': 29870, 'alienaum': 29871, 'hackey': 29872, 'sacker': 29873, 'jacker': 29874, 'slapper': 29875, 'hoefact': 29876, '03sohp4p41': 29877, 'nikesnshit': 29878, 'standby': 29879, 'arctic': 29880, 'rivenbarkyahoo': 29881, 'hale': 29882, 'leaning': 29883, 'hebronville': 29884, 'orchids': 29885, 'vddie': 29886, 'elementjetson': 29887, 'mothafuggin': 29888, '20pics': 29889, 'themostannoyingthingsinlife': 29890, 'accord': 29891, 'nadixo': 29892, 'joelxmontoya': 29893, 'y21pyz5rai': 29894, 'missrobinv': 29895, 'mythoughts': 29896, 'thinkpieces': 29897, 'vnnforum': 29898, 'marxist': 29899, 'promoted': 29900, 'semitism': 29901, 'incentive': 29902, 'entertainment': 29903, 'partaking': 29904, 'l8qx8rmjrg': 29905, 'robfernau': 29906, 'piled': 29907, 'bunnydahoney': 29908, 'activist': 29909, 'farcical': 29910, 'rudepost': 29911, '0zsu3zqixd': 29912, 'idfk': 29913, 'pinada': 29914, \"nobody's\": 29915, 'lopezwhs': 29916, 'mcoy': 29917, 'stopit': 29918, 'uayef5mb0p': 29919, 'adultery': 29920, 'sheheen': 29921, 'probation': 29922, 'phenomenalro': 29923, 'lilwayne': 29924, 'itsjordyyyn': 29925, 'guide': 29926, 'rovers': 29927, 'porkers': 29928, 'bcniggas': 29929, 'niggaaaaaa': 29930, 'bolton': 29931, 'beamers': 29932, 'benzes': 29933, 'porches': 29934, 'imported': 29935, 'supermanu': 29936, 'nbasuperheroes': 29937, 'deeds': 29938, 'wher': 29939, 'pacernation': 29940, 'breadsticks': 29941, 'joseph': 29942, 'rinche': 29943, 'oogna1zncr': 29944, '128511': 29945, 'barnicle': 29946, 'oj': 29947, 'ratings': 29948, 'steaight': 29949, '1043293': 29950, 'bigmac6374': 29951, 'waanderlusting': 29952, 'lwhzwbqbzk': 29953, 'bdftuen6rm': 29954, 'tolerating': 29955, 'xsalute': 29956, 'baddazz': 29957, 'conformation': 29958, 'manage': 29959, 'cankles': 29960, 'billieboymitch': 29961, 'jeremyadams': 29962, 'badadvicedog': 29963, 'starks': 29964, 'dannymndz93': 29965, 'pogue': 29966, 'exblrnsyzv': 29967, 'mitchtierney': 29968, 'bossed': 29969, 'sweetakin': 29970, 'privately': 29971, 'taped': 29972, 'conversations': 29973, 'echbhike': 29974, 'xavi': 29975, 'hrheyyoirp': 29976, 'cwc2lwcv3t': 29977, 'y0kt02hlm1': 29978, 'exceptionally': 29979, 'successes': 29980, 'vastly': 29981, 'boehner': 29982, 'pucture': 29983, 'twit': 29984, 'posh': 29985, 'gratitude': 29986, 'partna': 29987, '2weeks': 29988, 'kcamp427': 29989, 'slums': 29990, 'unapologetic4': 29991, 'cocainemouth': 29992, 'raynexxx': 29993, 'garrisonstudio': 29994, 'saltlife13': 29995, 'bitchjones92': 29996, 'worshiping': 29997, 'r37cejcjou': 29998, 'grusty': 29999, 'sacto': 30000, 'cheetahbluntz': 30001, 'shhhhh': 30002, 'kenfolk': 30003, 'limousine': 30004, 'latex': 30005, 'twolvegirl': 30006, 'truedetective': 30007, 'stephmcmahon': 30008, 'checkpoint': 30009, 'berlin': 30010, '0l0kg': 30011, 'skraw': 30012, 'fgwrog4tpu': 30013, 'hawkeye': 30014, 'shara': 30015, 'bocgeogaddi': 30016, 'combined': 30017, 'honda200': 30018, 'zg6x4gdyrz': 30019, 'sleigh': 30020, 'cortez': 30021, 'truesmokeryfb': 30022, 'jalenwanna': 30023, 'unicorns': 30024, 'sclafani': 30025, 'sisteena': 30026, 'khernns': 30027, 'lordemusic': 30028, 'curator': 30029, 'mockingjay': 30030, 'notjohnross': 30031, 'marclamonthill': 30032, 'humping': 30033, 'rong': 30034, 'badbish': 30035, 'rollaan': 30036, \"2000's\": 30037, 'buds': 30038, 'broiler': 30039, 'bradshaw': 30040, 'pimpc': 30041, 'majorslander': 30042, 'drakelistener': 30043, 'drnrdx': 30044, 'brandonfxrd': 30045, 'tocj1wxryk': 30046, 'kpips': 30047, 'maxabrahms': 30048, 'kaseymizell': 30049, 'bpjwl1ao2e': 30050, 'hotwata': 30051, 'ibekev': 30052, 'googly': 30053, 'horsepower': 30054, 'burnthewitchxo': 30055, 'panamonos': 30056, 'asco': 30057, 'heyyy': 30058, 'fabulousjonna': 30059, 'helly': 30060, 'kellerman': 30061, 'scorecards': 30062, 'stoppage': 30063, 'amh': 30064, '1126': 30065, 'dominiggaaa': 30066, 'reallyaintshit': 30067, '3p9chkhey8': 30068, 'merrie': 30069, 'emluwbbogw': 30070, 'y1hlibjqmn': 30071, 'themichaelrock': 30072, 'cw': 30073, 'finders': 30074, 'keepers': 30075, 'hines': 30076, 'dankychan88': 30077, 'wokeup': 30078, 'shutupcrybaby': 30079, 'cantor': 30080, 'qjyuw4ox0o': 30081, \"killin'\": 30082, 'nbp': 30083, 'zephthegreat': 30084, 'lara': 30085, 'canelo': 30086, 'illroots': 30087, 'ramlogan': 30088, 'uwi': 30089, 'elisaa': 30090, 'therealkeyvone': 30091, 'tel1967': 30092, 'darn': 30093, 'vddjq4l0mg': 30094, 'queenhoneyc': 30095, 'nicoromero23': 30096, 'ih': 30097, 'wassuh': 30098, 'timers': 30099, 'maps': 30100, 'charts': 30101, 'leap': 30102, 'woridstarcomedy': 30103, 'pfmrduhoxb': 30104, 'adderallhadme': 30105, 'wminpn64m2': 30106, 'peice': 30107, 'dualwieldkatana': 30108, 'dwghtga936': 30109, 'h0sqoptyfx': 30110, \"x's\": 30111, 'abc7': 30112, 'evu04p6sur': 30113, 'porsche': 30114, 'extendo': 30115, 'extension': 30116, 'gaywrites': 30117, 'highlights': 30118, 'xzq9xmaqtf': 30119, 'mafiosoro': 30120, 'bigobundles': 30121, '200lbs': 30122, 'attempted': 30123, 'yeast': 30124, 'monistat': 30125, 'vj45zl1zkf': 30126, 'jonnietherotten': 30127, 'qpde1l6zai': 30128, 'tino': 30129, \"bambino'\": 30130, 'marlins': 30131, 'mova': 30132, 'therealrickyb21': 30133, 'sfirsvdy': 30134, 'rewarded': 30135, 'naeluckyass': 30136, 'ilovebigtracy': 30137, 'talkinfgalot': 30138, 'kunta': 30139, 'kintes': 30140, 'veqzf9ik6q': 30141, 'shapely': 30142, 'manbooty': 30143, 'redbonejasssy': 30144, 'bloodbloodbiood': 30145, 'kylerea03': 30146, 'pharmacist': 30147, 'stillwai': 30148, 'thankyouariana': 30149, 'wweglfs': 30150, '8oypyjygve': 30151, 'carefree': 30152, 'liviin': 30153, 'karlina': 30154, 'kittie': 30155, 'theschwagqueen': 30156, 'jaaay': 30157, \"8's\": 30158, 'codghostsscrims': 30159, 'shawnabner': 30160, 'jmattear': 30161, 'franchise': 30162, 'appreciates': 30163, 'missbrionline': 30164, 'lanipopchicago': 30165, 'mfn': 30166, 'itunesmusic': 30167, 'zag': 30168, 'wii': 30169, 'controller': 30170, 'pleadin': 30171, '5ths': 30172, 'awesomeness': 30173, 'mahoghanyxo': 30174, 'tracieeeeee': 30175, 'wha': 30176, 'showtime': 30177, 'southchicago': 30178, 'englewood': 30179, 'ibyepassdeshoes': 30180, 'theyoungdread': 30181, 'vouch': 30182, 'flowaaabomb': 30183, 'sapphire': 30184, '18k': 30185, 'alexandra': 30186, 'emerald': 30187, '5j3lrxgrcn': 30188, 'therapist': 30189, 'irrational': 30190, 'dynamite8503': 30191, 'snipe': 30192, 'weavilynmonroe': 30193, 'tylercottam14': 30194, 'suge': 30195, 'fucksuge': 30196, 'shortstop': 30197, '5nhtjox': 30198, 'parkatie': 30199, 'lindnld': 30200, 'assss': 30201, 'crystalcheyenne': 30202, 'asaprelli': 30203, 'fvckin': 30204, 'hustlaz': 30205, 'hittaz': 30206, 'nsme': 30207, 'redskind': 30208, 'deemef': 30209, 'kart': 30210, 'cupcakes': 30211, 'tighter': 30212, 'elses': 30213, 'xxviii': 30214, 'liii': 30215, 'thicker': 30216, 'mustaches': 30217, 'cuzimdaddy': 30218, '5feet': 30219, '0inches': 30220, 'immspeed': 30221, 'freebandversace': 30222, 'shiiiid': 30223, 'sumptin': 30224, 'b245js': 30225, 'dolled': 30226, 'voodoo': 30227, 'dolphin': 30228, 'ninerfans': 30229, 'pier': 30230, '5pm': 30231, 'heckle': 30232, 'franciscans': 30233, 'lrtc1': 30234, 'magnus': 30235, 'particularly': 30236, 'unhelpful': 30237, 'gillette': 30238, 'ambeerrxoxo': 30239, 'treysongzson': 30240, 'bestassbestface': 30241, 'boatbuilder': 30242, 'ecosystem': 30243, 'iideaiid': 30244, 'jquiiin': 30245, 'jebidiah': 30246, 'yolk': 30247, 'broski519': 30248, 'f2oycfk90s': 30249, 'stunningvisual': 30250, 'rileyy': 30251, 'babyyy': 30252, 'itslendaddy': 30253, 'cantista': 30254, 'henereyg': 30255, 'sfx': 30256, 'cape': 30257, 'rikababey': 30258, 'theyalltatifans': 30259, 'beeguwop': 30260, 'barbie': 30261, 'sw3rkocw1c': 30262, 'facto': 30263, 'shaunasayomi': 30264, 'cjdt987aqf': 30265, 'deeswaggyjay93': 30266, 'boozer': 30267, 'mydick': 30268, 'suckthat': 30269, 'crudddhxhh': 30270, 'otw': 30271, 'theoscars2014': 30272, 'ineogli7g9': 30273, 'trillion': 30274, 'br7el4zxrw': 30275, 'tenebris': 30276, 'cor': 30277, 'rogue': 30278, 'xmen': 30279, 'shoning': 30280, 'emma3156': 30281, 'hoggin': 30282, '58373': 30283, 'thongs': 30284, 'avlwkkd8rw': 30285, 'ihqswj9vog': 30286, 'johnniegoings': 30287, 'saraelizabethj4': 30288, 'kamaalrkhan': 30289, 'apka': 30290, 'waise': 30291, 'bhi': 30292, 'khatam': 30293, 'chukka': 30294, 'amar': 30295, 'singh': 30296, 'kejr': 30297, 'persona': 30298, 'briii': 30299, 'classmates': 30300, 'cpr': 30301, 'certification': 30302, 'reallly': 30303, 'goodday': 30304, 'inboxes': 30305, 'switchedatbirth': 30306, 'drippn': 30307, 'qztnw6cdki': 30308, 'voltorb': 30309, '7cwatskjwc': 30310, 'uflorida': 30311, 'gatorzonefb': 30312, 'mcgee': 30313, 'wvdlscodvw': 30314, '922': 30315, 'smashes': 30316, 'bxqd30z6nb': 30317, 'gbgjiuiref': 30318, 'warningfragile': 30319, 'disgu': 30320, 'tkncash1': 30321, 'wildbills': 30322, 'djholiday': 30323, 'kvlpjsua4f': 30324, 'od1mquudnn': 30325, 'ghostwritamusic': 30326, 'wil': 30327, 'brunzilla': 30328, 'torres': 30329, 'imgorejess': 30330, 'danielbiltmore': 30331, 'heroic': 30332, 'tbgyikpv1e': 30333, 'bisexual': 30334, 'lobstrthinktank': 30335, 'assumed': 30336, 'dennisssbeauty': 30337, 'vivalazulema': 30338, 'photoshopping': 30339, '007m': 30340, 'asidebitchmadethis': 30341, 'pkvtascecv': 30342, 'khloewithouthec': 30343, 'typicalminions': 30344, 'lplayefi7q': 30345, 'sullivanmcpig': 30346, 'captcha': 30347, 'bot': 30348, 'angrybraveheart': 30349, 'sheikhkhalifapm': 30350, 'mtn': 30351, 'ore': 30352, 'lexc': 30353, 'iamkilo': 30354, 'ufo': 30355, '0124jessi': 30356, 'wrd': 30357, 'bobbyhorai': 30358, 'fucksamattawithyou': 30359, 'titanic': 30360, 'jonnybones': 30361, 'lop1ly4hvs': 30362, 'atheistfront': 30363, 'cutrealty': 30364, 'athe1stp0wer': 30365, 'whitesonly': 30366, 'hb3ujalky2': 30367, 'confident': 30368, 'amjyek77qa': 30369, 'damnear': 30370, 'aboutstrafe': 30371, 'nexsmitsky': 30372, 'jihadistjoe': 30373, 'honour': 30374, 'slaughter': 30375, 'dudewithahighkd': 30376, 'jeffreyhaas': 30377, 'juddnation': 30378, 'fartin': 30379, 'uglyni99ah': 30380, 'smashin': 30381, 'flaco': 30382, 'errybody': 30383, 'sandler': 30384, 'comedian': 30385, 'tamela': 30386, 'unaccomplished': 30387, 'secretasianman': 30388, 'maven': 30389, 'iamdriven': 30390, 'hdrealtor': 30391, 'garnettujl': 30392, 'jonnytooswollen': 30393, 'caylinwillis': 30394, 'kennedyleighxxx': 30395, 'poetic': 30396, 'bakedalaska': 30397, 'wxgtxa7sya': 30398, 'adrizzzle': 30399, 'iqixxx1znv': 30400, 'trinity': 30401, 'sacramento': 30402, 'cpsqueak': 30403, 'behave': 30404, 'tibridotcom': 30405, 'monogrammedprep': 30406, 'jhqpwop4wk': 30407, 'lookingformore': 30408, 'hlqal7cigf': 30409, 'rapdreams': 30410, 'niallofficial': 30411, 'suns': 30412, 'wembley': 30413, 'barrackobama': 30414, 'unexceptional': 30415, 'clingers': 30416, 'drippen': 30417, 'vanillaaaaa': 30418, 'killaaaa': 30419, 'youngcoke': 30420, 'stevennn17': 30421, 'hydro': 30422, 'squarebutts': 30423, 'monn': 30424, 'neyyy': 30425, 'benton': 30426, 'carve': 30427, 'killakev27': 30428, 'paparockk': 30429, 't5zkmd8xeh': 30430, 'sipped': 30431, 'droppers': 30432, 'jackthejokster': 30433, 'jtj2jjtfto': 30434, 'bbl': 30435, 'xm': 30436, 'menace2society': 30437, 'reconnaissance': 30438, 'luccivee': 30439, 'ryeordie': 30440, 'mikelreparaz': 30441, 'p9jddvsrvb': 30442, 'newwww': 30443, 'oedkehyyxj': 30444, 'zwengersierra': 30445, 'braxcity29': 30446, 'obregon': 30447, 'sophia': 30448, 'freeman1': 30449, 'token': 30450, 'ft5c4yhrag': 30451, 'frosting': 30452, \"devil's\": 30453, 'mdizzle9000': 30454, 'msvavavoom': 30455, 'bout2gocrazy': 30456, 'aintnolevelz2disshit': 30457, 'nzubuc2qpr': 30458, 'englandlauren': 30459, 'iain4harrison': 30460, 'oliviaboncic': 30461, 'marcus2kings': 30462, 'takeover': 30463, '4euk80ulis': 30464, 'scoob3y': 30465, 'returnto1776': 30466, 'zj1mk6w7ef': 30467, 'whooping': 30468, 'carmeelacuuh': 30469, 'tickle': 30470, 'tiano': 30471, 'vinnyrants': 30472, 'jerks': 30473, 'janpham': 30474, 'maxdelacruz8': 30475, 'thx': 30476, 'combine': 30477, 'su5ixwrthq': 30478, 'deecatanz': 30479, 'gwvanykzoo': 30480, 'fqquxtxhbo': 30481, 'aleahmonique': 30482, 'factsionary': 30483, 'gwylpgc9lp': 30484, 'trianglesoul': 30485, 'countless': 30486, 'documentary': 30487, 'kvrmaa': 30488, 'studyfn': 30489, 'vlzed': 30490, 'marlsoul': 30491, 'katefrancesss': 30492, 'kaylahprettymom': 30493, 'girlllaaaa': 30494, 'truulifewisdom': 30495, 'gott': 30496, 'seriouslee': 30497, '128008': 30498, 'photogenic': 30499, 'smiie': 30500, 'fgtzqwnsxk': 30501, 'wienerherzog': 30502, 'handyman': 30503, 'andersondrlja': 30504, 'wearerepublicnotregime': 30505, 'impeachobama': 30506, 'proactive': 30507, 'watchers': 30508, 'prosecutors': 30509, 'zimmy': 30510, 'traytray': 30511, 'blastmccurdy': 30512, 'hemroid': 30513, 'graepharoah': 30514, 'w9zpjfk93r': 30515, 'tampico': 30516, 'squawk': 30517, 'dfl': 30518, 'winkler': 30519, 'bleat': 30520, 'principals': 30521, 'schlauds': 30522, 'crowing': 30523, 'jrsalzman': 30524, 'dammitslimm': 30525, 'dustincarter16': 30526, 'bnasty00037': 30527, 'assjpg': 30528, 'bigbrotherleak': 30529, 'emmaleeenaa': 30530, 'tmobile': 30531, 'ferocious': 30532, 'danica': 30533, 'epidemic': 30534, 'fees': 30535, 'verb': 30536, 'throught': 30537, 'spawn': 30538, 'selenaelisandra': 30539, 'df4vfusqzj': 30540, 'mrperfect': 30541, 'realscozayy': 30542, 'nnf': 30543, 'barrass': 30544, 'meez': 30545, 'hitin': 30546, 'comebacktoreality': 30547, 'qdfhyalka1': 30548, 'niggieesmalls': 30549, 'harrrrd': 30550, 'highh': 30551, 'nikecaptain': 30552, 'implying': 30553, 'cierravillela': 30554, 'luchiecapone': 30555, 'mayasvritaa': 30556, 'sooooooo': 30557, 'monsta': 30558, '2vhaceq4': 30559, 'texashickspanic': 30560, 'unfilling': 30561, 'mnf': 30562, 'makeitsndgood': 30563, 'khaye': 30564, 'freakin': 30565, 'hillzzz': 30566, 'nessauzc': 30567, '128094': 30568, 'zactly': 30569, 'joique': 30570, 'mariejosegmh': 30571, 'dwb666': 30572, 'tegenwoordig': 30573, 'vlees': 30574, 'eet': 30575, 'hussein': 30576, 'sane': 30577, 'ravenxmiyagi': 30578, 'muffie': 30579, 'arthur': 30580, 'avery': 30581, 'pbu9nlxanp': 30582, 'allieperalta': 30583, 'pushaxrocca': 30584, 'mceh9g6rmu': 30585, 'zzkagxivlu': 30586, 'sloots': 30587, 'realsheembacc': 30588, 'proton': 30589, 'century': 30590, 'snotty': 30591, 'houuuse': 30592, 'lancejw113': 30593, 'loyalboy': 30594, 'royalriahh': 30595, 'brandonbeslydin': 30596, 'southridge': 30597, 'caseykim12': 30598, 'prevention': 30599, '127770': 30600, 'catholicmomva': 30601, 'neal': 30602, 'dewing': 30603, 'ot': 30604, 'daliasza': 30605, 'gambino': 30606, '8ejohdldd9': 30607, 'reasonable': 30608, 'tastiest': 30609, 'goldee': 30610, 'locx': 30611, 'snipesjr': 30612, 'tigolbittiesxo': 30613, 'sephora': 30614, 'forest': 30615, 'shittt': 30616, 'liyyy': 30617, 'sthemisfit': 30618, 'missbl0ndee': 30619, 'forestgump': 30620, 'glowing': 30621, 'erkusr3q': 30622, 'breebgorgeous': 30623, 'championship': 30624, 'cuffyofee': 30625, \"houston's\": 30626, 'digestive': 30627, 'portlandia': 30628, 'putabirdonit': 30629, 'mightymouse105': 30630, 'mallett': 30631, 'yungtfti': 30632, 'eeeeeee': 30633, 'ashkardash': 30634, 'juicewayne': 30635, '8jwgmv4yet': 30636, 'cinndyyxoxo': 30637, 'briannniloo': 30638, 'fetching': 30639, 'ruining': 30640, 'omggggg': 30641, 'gudnight': 30642, 'star1': 30643, 'smoothes': 30644, 'nook': 30645, 'cranny': 30646, 'tightness': 30647, 'vandtrailroad': 30648, 'didyouknow': 30649, 'comstock': 30650, 'lode': 30651, 'largest': 30652, 'wealthiest': 30653, 'bynes': 30654, 'slamming': 30655, 'hellootitty': 30656, 'federalboobieinspector': 30657, 'wxlgv8xkdx': 30658, 'lyric': 30659, 'trvpunzill': 30660, 'marsvalo': 30661, 'strawberrycoca': 30662, 'krunkchip': 30663, 'mcgirt': 30664, 'kingliibax': 30665, 'zdf98bpf94': 30666, 'doggie': 30667, 'vsoqnuoh5v': 30668, 'ifollowlesbians': 30669, 'candles': 30670, 'thingys': 30671, 'chelseaxlaser': 30672, 'sawpjdtign': 30673, 'jimmycollinsss': 30674, 'iamcolinquinn': 30675, 'reboot': 30676, 'natal': 30677, 'mendoz': 30678, 'kaitlinfryer': 30679, 'oleeeee': 30680, 'tamu': 30681, 'wfopitei': 30682, 'ypqpmdpfgg': 30683, 'basketballpics': 30684, 'accnt': 30685, 'outtapocketjuju': 30686, '2qjljj6tk5': 30687, 'caghblkaxq': 30688, 'packers': 30689, 'tonymoore': 30690, 'expired': 30691, 'nationalcatday': 30692, 'climatechange': 30693, 'huntley': 30694, 'vodkathoughts': 30695, 'powered': 30696, 'leighkillian': 30697, 'themightylayman': 30698, 'afrotino': 30699, 'davidian': 30700, 'aprivilege': 30701, 'happend': 30702, 'dekalb': 30703, 'enstjlxb2h': 30704, 'hermit': 30705, 'thrush': 30706, 'ashez29': 30707, 'mskyleighmarie': 30708, 'gotnohoes': 30709, 'ubftgh262o': 30710, 'omfgmeezy': 30711, 'dp4': 30712, 'hinvxbup31': 30713, 'bonfire': 30714, 'ronson': 30715, 'staytrippyyyy': 30716, 'chinaafricablog': 30717, 'relations': 30718, \"'china\": 30719, \"allure'\": 30720, '7dwjovmeb': 30721, 'itsupwitpc': 30722, 'brody': 30723, 'bungie': 30724, 'givng': 30725, 'nno': 30726, 'caratcutclarity': 30727, 'creationofjay': 30728, 'yeezy': 30729, 'shiesty': 30730, 'kingrichyyyy': 30731, 'nofly': 30732, 'zone8': 30733, 'hudgens': 30734, 'blowed': 30735, 'idiotolympics': 30736, 'brianfromwork': 30737, 'thatonegirlpink': 30738, 'tuquick': 30739, 'pik': 30740, 'biebz': 30741, 'jereme': 30742, 'b1yhx9zusv': 30743, 'intelwire': 30744, 'daretnzr': 30745, 'settlling': 30746, 'settling': 30747, 'db7siri8qg': 30748, 'nmua12yr2w': 30749, 'qi1yqnmemw': 30750, 'lorenasgonzalez': 30751, 'assemblywoman': 30752, 'unionmember': 30753, 'laborday': 30754, 'mariaisab3lla': 30755, 'therealelp': 30756, 'hacks': 30757, 'philhecken': 30758, 'borgore': 30759, 'alphabet': 30760, 'gables': 30761, 'makesamproud': 30762, 'trapgodcon': 30763, 'terryak907': 30764, 'olmstead': 30765, 'g3bok10pjz': 30766, 'lpfjviwrqn': 30767, 'tehreelhov': 30768, 'buttholeteeth': 30769, 'mickalabickham': 30770, 'mickeychristmas': 30771, 'vmas': 30772, 'melky': 30773, 'roleplayinggames': 30774, 'seeks': 30775, 'studly': 30776, 'emailed': 30777, 'eversotweetly4u': 30778, \"klain's\": 30779, 'dampen': 30780, 'mushrooming': 30781, 'fallout': 30782, 'heading': 30783, 'chipmunk': 30784, 'ugottaeattheass': 30785, 'vastmfjphu': 30786, 'alesiahenderson': 30787, 'soy': 30788, 'brent': 30789, 'michellemcaffey': 30790, 'stern': 30791, 'elevators': 30792, 'inediblefood': 30793, 'quickscoping': 30794, 'drumlin': 30795, 'iucrwofdts': 30796, 'hotdoc87': 30797, 'disown': 30798, 'm1qiwk4xzg': 30799, 'womenshumor': 30800, 'lexisperez': 30801, 'bigg': 30802, 'boss23': 30803, 'kf6pxgkjxr': 30804, 'muhlackk': 30805, 'vics': 30806, 'ydzyr4dvs4': 30807, 'andymilonakis': 30808, \"beyonce's\": 30809, 'officialzyon777': 30810, 'd6irwminqo': 30811, 'dbankss': 30812, 'orr': 30813, 'chanelleleee': 30814, 'dcxdftjsjt': 30815, 'timbers': 30816, 'follownova': 30817, 'jasongregory674': 30818, 'devondude1234': 30819, 'bigjonbul': 30820, 'knowingly': 30821, 'secluded': 30822, 'balmy': 30823, 'tripppped': 30824, 'historyinpics': 30825, 'allied': 30826, 'atop': 30827, 'balcony': 30828, 'chancellery': 30829, 'fred': 30830, 'ramage': 30831, '1945': 30832, 'hltkroqrys': 30833, 'jaystacks25': 30834, 'prettyblaack': 30835, 'overthinking': 30836, 'arranged': 30837, 'jmellor432': 30838, 'redbook': 30839, 'deals': 30840, 'specials': 30841, 'yurpx99hdb': 30842, 'gainz': 30843, 'mirin': 30844, 'blowy': 30845, 'eatting': 30846, 'hba': 30847, 'breeze': 30848, 'guwopp1017': 30849, \"'eff\": 30850, 'wendy': 30851, \"davis'\": 30852, 'wapbchhuru': 30853, 'caraabastow': 30854, 'hehehe': 30855, 'bloke': 30856, 'scares': 30857, 'bruhhhh': 30858, 'moody': 30859, 'dadsbeingsilly': 30860, 'sandusky': 30861, 'quahog': 30862, 'uajukcoafv': 30863, 'mollyx': 30864, 'kirstynehbu': 30865, 'chaboylilbill': 30866, 'lightup': 30867, 'sketchers': 30868, 'blinding': 30869, 'goldiethegamma': 30870, 'cloprestiwfan': 30871, 'slot': 30872, 'itslenyybitch': 30873, 'classicpict': 30874, 'zstrqbpwpw': 30875, 'officialamiyah': 30876, 'xpsegyefcb': 30877, 'slittin': 30878, 'meljya6qsp': 30879, 'pennies': 30880, 'shill': 30881, 'tragedy': 30882, 'acknowledged': 30883, 'ican': 30884, 'onlyb': 30885, 'nika': 30886, 'ktpowers98': 30887, 'sotoo': 30888, 'mikethestatey': 30889, 'sequester': 30890, 'gero': 30891, 'victoriaaokk': 30892, 'amennn': 30893, 'womenlovebrickz': 30894, 'baathists': 30895, \"supporters'\": 30896, 'authentic': 30897, 'allisons': 30898, 'whyihateinstagram': 30899, 'thygoat': 30900, 'itsvinnydoe': 30901, 'sharonmperalta': 30902, 'tittied': 30903, 'doughboyfreco': 30904, 'hahahhaha': 30905, 'jcsqhezorl': 30906, 'hbmostdope': 30907, 'llcoolj': 30908, 'somethingigetalot': 30909, 'hawaiian': 30910, 'gulping': 30911, 'ochocinco': 30912, 'cadaver': 30913, 'niggasblike': 30914, 'o5ezd8fsq9': 30915, 'kyles': 30916, 'khloekardashian': 30917, 'oliver': 30918, 'rosecrans': 30919, \"bridget's\": 30920, 'oal9wljmge': 30921, 'webbers': 30922, 'dmilz4': 30923, 'sz13': 30924, 'vnds': 30925, 'restorers': 30926, 'separation': 30927, 'fogged': 30928, 'yc81vg2kg1': 30929, 'onlyrosee': 30930, 'tricksnipers': 30931, '89': 30932, 'sewage': 30933, 'worstpeanutsspecialever': 30934, 'contacted': 30935, 'ridley': 30936, 'olivialuu3': 30937, 'emmysetter14': 30938, 'saterlyt': 30939, 'shoz': 30940, 'bayg': 30941, 'ul': 30942, 'revalution': 30943, 'expandin': 30944, 'dalailamaposts': 30945, 'paulconroy': 30946, 'lezarub': 30947, 'tragedy6358': 30948, 'hobokarl': 30949, 'rambling': 30950, 'lustful': 30951, 'a5': 30952, 'itsdavedude': 30953, '2yuidrln3k': 30954, 'z8gaiwllye': 30955, 'meeedd': 30956, 'trapicalgod': 30957, '6u2kbykq2n': 30958, 'protecting': 30959, 'requesting': 30960, 'mouthwork': 30961, 'peaceloveweed': 30962, 'belvita': 30963, 'dcvvetxeq1': 30964, 'newton': 30965, 'hotshot': 30966, 'kaewhy270': 30967, 'heyzeus666': 30968, 'hairychestsdoee': 30969, 'solutions': 30970, '127804': 30971, '127913': 30972, '49kywznotu': 30973, 'ghettobird1er': 30974, 'sashaa': 30975, 'axl': 30976, 'robot': 30977, 'harrryaf': 30978, 'pmfr5eopwo': 30979, 'lurking': 30980, '128179': 30981, 'iinky': 30982, 'chiefwuk': 30983, 'otf': 30984, 'unswole': 30985, 'harrysboylouis': 30986, 'curveme': 30987, 'alvarezjackee': 30988, 'ballardddd': 30989, 'victorgee97': 30990, 'lyyssaaaaaa': 30991, 'timber': 30992, 'thesaidabdi': 30993, 'clicks': 30994, 'tucked': 30995, 'mavkus': 30996, 'victooreeuhhh': 30997, 'fumingturnip': 30998, 'betcha': 30999, 'intensity': 31000, 'bankhead': 31001, \"marlboro's\": 31002, 'cit': 31003, 'mobb': 31004, 'missyantzah': 31005, 'jacquibreed': 31006, 'conserv': 31007, 'tribune': 31008, '5gt6zvgqxy': 31009, 'bucketsproverbs': 31010, 'huh4hbkywy': 31011, \"tim's\": 31012, 'nyquil': 31013, 'baptism': 31014, '4xgeqmrzq5': 31015, 'javiethecreator': 31016, 'awfulbot': 31017, 'sashanexx': 31018, 'lymlquclwj': 31019, 'nathaniel': 31020, 'schoo': 31021, 'scho': 31022, 'sta': 31023, 'hom': 31024, 'bryanstars': 31025, 'relapse': 31026, 'symphony': 31027, 'parade': 31028, 'paramore': 31029, 'hegs': 31030, 'clubmetro': 31031, 'globalgrindnews': 31032, 'n6ucidnuuu': 31033, 'receptacle': 31034, 'limbs': 31035, 'blackchiquitita': 31036, 'thatmanpalmer': 31037, 'buttcheek': 31038, 'yn6guyouq6': 31039, 'stevoburns561': 31040, 'imswaveynshit': 31041, 'bestoffod': 31042, 'vu3xnalags': 31043, 'duke27': 31044, 'mistakes': 31045, 'officialccane': 31046, 'naah': 31047, 'upton': 31048, 'usmnthistory': 31049, 'usmnt': 31050, 'groupofdeath': 31051, 'despite': 31052, 'ger': 31053, 'theegreekgod': 31054, 'qna9ogveww': 31055, 'freshestcrook': 31056, 'mamatosha': 31057, 'bulb': 31058, 'sexwith': 31059, 'sockson': 31060, 'salaayah': 31061, 'chai': 31062, 'istaylowkey': 31063, 'plnmhgu4yy': 31064, 'bdubs': 31065, 'bellefemlavie': 31066, 'brzlcfy7xe': 31067, 'cocainebungy': 31068, 'doughnuts': 31069, 'kaymckinneyy': 31070, 'sawed': 31071, 'freeee': 31072, 'tristabee': 31073, 'stephanielazox': 31074, 'creepiest': 31075, 'hellobrooklynn': 31076, 'sparing': 31077, 'q3fskcy6l2': 31078, 'xleaaahh': 31079, 'itslegzzyo': 31080, 'crownthatbitch': 31081, 'xlxdfzxs9s': 31082, 'e3hhznthrk': 31083, 'az5950': 31084, 'blasianbytch': 31085, 'rhiannonrevolts': 31086, 'dickfurari': 31087, 'malt': 31088, 'h0jgortnf8': 31089, 'yungrajee': 31090, 'jaybeetrendz': 31091, 're2pect': 31092, 'jameznate': 31093, 'sinsofmyfather': 31094, 'ery': 31095, 'itslizkhalifa': 31096, 'theeesickestkid': 31097, 'sel': 31098, 'richiedev': 31099, 'converses': 31100, 'rooms': 31101, 'reevaluate': 31102, 'gorg': 31103, 'anggxo': 31104, 'june': 31105, 'mfvcmym': 31106, 'svo': 31107, 'staceynodash': 31108, 'parallel': 31109, 'mylife': 31110, 'tmundal': 31111, 'moist': 31112, 'bint': 31113, 'lobbed': 31114, 'chels': 31115, 'crafty': 31116, 'cheatsoflife': 31117, 'vgneo1t1tg': 31118, 'fiawless': 31119, 'slumpin': 31120, 'nesby': 31121, 'chubb': 31122, '5dimes': 31123, 'greaseball': 31124, 'jenneracosta': 31125, 'denying': 31126, 'pears': 31127, 'gracias': 31128, 'por': 31129, 'jugar': 31130, 'corazon': 31131, 'ganarle': 31132, 'tommylasorda': 31133, '3fytvuznzb': 31134, 'swill': 31135, 'protection': 31136, 'savagejayy': 31137, 'lilbrownbear330': 31138, 'gaffeoke': 31139, 'bigbird': 31140, 'existed': 31141, 'creators': 31142, 'sodomy': 31143, 'saqlawiya': 31144, 'mua87becca': 31145, 'prvncesssss': 31146, 'lilnas': 31147, 'annnnd': 31148, 'mwootey420': 31149, 'chael': 31150, 'suplexin': 31151, 'duhhvenuhh': 31152, 'k3bzbnyw5h': 31153, 'pornandcole': 31154, 'eyyyy': 31155, '8kuzapfcmf': 31156, 'hum': 31157, '5hhrflfp13': 31158, 'sofia': 31159, 'atf': 31160, 'prosecuting': 31161, 'confirm': 31162, 'g27status': 31163, 'superheroes': 31164, 'mooks': 31165, 'gooder': 31166, 'whiteknight': 31167, 'geminis': 31168, 'intro': 31169, '2pltxgqiqe': 31170, 'thenaimaw': 31171, 'flighty': 31172, 'ayoooitsjelly': 31173, 'tack': 31174, \"linin'\": 31175, 'ccancel14': 31176, 'daveyy': 31177, 'realwizkhalifa': 31178, 'fraudulent': 31179, 'zuxdnp3xr1': 31180, 'diaryofaboss': 31181, 'benjis': 31182, 'nothinglikeit15': 31183, 'mhm': 31184, 'helgasfishtales': 31185, 'kimlau': 31186, 'sq': 31187, 'ogkels': 31188, 'dugoutlegends': 31189, 'fractures': 31190, '130': 31191, 'ironhorse': 31192, 'o6sofyoh': 31193, 'optic': 31194, 'nadeshot': 31195, 'prosyndicate': 31196, 'qwcuna7vcv': 31197, 'wrongwaybennett': 31198, 'southerners': 31199, 'itsjaylaaa': 31200, 'bitchez': 31201, 'masque': 31202, 'biased': 31203, 'yzs9dqvqdv': 31204, 'korsczurek': 31205, 'koala': 31206, 'kangaroos': 31207, 'emu': 31208, 'thnx': 31209, 'twdkckktaz': 31210, 'darkskinobama': 31211, 'showarrive': 31212, 'tkos': 31213, 'jayten9': 31214, 'alway': 31215, 'nuffsaid15': 31216, '9ukd8wtz6x': 31217, 'saveahoe': 31218, 'vite': 31219, 'partay': 31220, 'rager': 31221, 'inkmehoe': 31222, 'amazingatheist': 31223, 'flailing': 31224, 'incoherently': 31225, \"you'r\": 31226, 'hoze': 31227, 'custy': 31228, 'nicsarantos': 31229, 'biggreek79': 31230, 'baskett': 31231, 'myassholepops': 31232, 'qbdbmshjg7': 31233, 'yolythegod': 31234, 'inconsistent': 31235, 'badongle': 31236, 'j9oc6an2': 31237, 'heterosexual': 31238, '5k': 31239, 'linaa': 31240, 'eddz': 31241, 'kxngnandi': 31242, 'doobie': 31243, 'nardiadoee': 31244, 'santosvictorero': 31245, 'cpac': 31246, 'shannityshair': 31247, 'thefriddle': 31248, 'glock4piper': 31249, 'alleygirl2409': 31250, 'anacortes': 31251, 'dwammm': 31252, 'freeybb': 31253, 'gather': 31254, 'lifeas': 31255, 'tnkidsfoodporn': 31256, 'iamkingrico': 31257, 'cougar745iii': 31258, 'stereotypi': 31259, '4550empire': 31260, 'quintinmvp': 31261, 'soetan': 31262, 'planetpob': 31263, 'quita': 31264, 'mayasolovely': 31265, 'worldseriesgame3': 31266, 'pence': 31267, 'vyvanse': 31268, 'm9wynrltwz': 31269, 'funnel': 31270, 'nopedo': 31271, 'itsz': 31272, 'princessz': 31273, 'bongwynnn': 31274, 'susannewhite': 31275, 'savoury': 31276, 'jusabadgirl': 31277, 'kasiaaa': 31278, 'twittahcween': 31279, 'degrade': 31280, 'shuuutt': 31281, 'iittt': 31282, 'nwax': 31283, '0a2dy3vzkm': 31284, 'painting': 31285, 'tailorlamar': 31286, 'monthly': 31287, 'misterrrager': 31288, '03pgoqqjys': 31289, 'soarie1017': 31290, 'ispeakcomedy': 31291, 'iubl31qn6y': 31292, 'colormeprettyyy': 31293, 'tavia': 31294, 'luckyl3ft': 31295, 'julisa': 31296, 'erinblair': 31297, 'w13nfgbhsb': 31298, 'selecta': 31299, 'hadda': 31300, 'soccergrlprobs': 31301, \"germany's\": 31302, 'lametears': 31303, 'rted': 31304, 'ramos': 31305, 'grandfather': 31306, 'hahahahahahahahahahaha': 31307, 'co69': 31308, \"neighbor's\": 31309, \"friend's\": 31310, 'lordjamar': 31311, \"40's\": 31312, 'beardednixon': 31313, 'poont': 31314, 'seductiveally': 31315, 'sunstylesshinex': 31316, 'dopealbanian': 31317, '127769': 31318, '127776': 31319, 'billionairecrow': 31320, 'neelahrelates': 31321, 'chadmfverbeck': 31322, 'richnow': 31323, 'prople': 31324, 'rbesofii': 31325, 'gtln1tpmgi': 31326, 'fins': 31327, 'finnegan': 31328, 'certified': 31329, 'baileymw22': 31330, 'chvntre': 31331, 'brackin': 31332, 'bity': 31333, 'boolin': 31334, 'bleedin': 31335, 'lexipost30': 31336, 'girll': 31337, '2afight': 31338, 'iw6ht090s8': 31339, 'rednationrising': 31340, 'rujnu1l7t8': 31341, 'bibie': 31342, 'sw0a1hqhyy': 31343, 'quadriplegic': 31344, 'foolishsmoker': 31345, '07': 31346, 'donnydinero': 31347, 'awwe': 31348, 'perf': 31349, 'palestinians': 31350, 'boner4tuna': 31351, 'tcc': 31352, 'grouchy': 31353, 'vortmax29': 31354, 'llmajer': 31355, 'dmb1031': 31356, 'frogtox': 31357, 'kishkaandpipiks': 31358, 'lenny': 31359, 'kenwood': 31360, 'youngbuddhabruh': 31361, 'rxtjwwkfhj': 31362, 'simplest': 31363, 'salomaesadiqa': 31364, 'sethmacfarlane': 31365, 'endeth': 31366, 'bundy': 31367, 'deeharris': 31368, 'cruzanchoklate': 31369, 'dgooods': 31370, 'skykardashian': 31371, 'ome23y': 31372, 'edgewood': 31373, '3jk4kr44x3': 31374, 'digaveliavelife': 31375, 'sneakerluke': 31376, 'mikeymikerowave': 31377, 'joecushkush': 31378, 'motivate': 31379, 'mitch77c': 31380, 'cottage': 31381, 'peppa': 31382, 'barbeeequeee': 31383, 'ueon': 31384, 'kilmeade': 31385, 'pharaohjas': 31386, '127378': 31387, 'dyeay2t5aa': 31388, 'thehangingwire': 31389, 'natty': 31390, 'danikawillow': 31391, 'plantation': 31392, 'cravings': 31393, '1on1': 31394, 'l1ltr4p': 31395, 'kaepernick7': 31396, 'wavvvy': 31397, 'whoswilly': 31398, 'khyzzer1': 31399, 'markdbrown0824': 31400, 'prioritized': 31401, 'worldtraveis': 31402, '2tytqj3fec': 31403, \"cigarillo's\": 31404, 'imdatdudefish': 31405, 'thotgoals': 31406, 'dalilaaaaaa': 31407, 'nu6gjyqdjj': 31408, 'gatordwqam': 31409, 'agholor': 31410, 'avelindner': 31411, 'yanno': 31412, 'colds': 31413, 'suuuck': 31414, 'justusabbott': 31415, 'challange': 31416, 'nanoseconds': 31417, 'maid': 31418, 'longmoneytonyy': 31419, 'lildebo2391': 31420, 'dragonball': 31421, 'lakerstv': 31422, 'scrimmage': 31423, '3njzfytc1r': 31424, 'caused': 31425, 'repetitively': 31426, 'dstacks': 31427, 'cyc9madjpq': 31428, 'dina51814': 31429, 'stripesallure': 31430, 'incomplete': 31431, '127887': 31432, 'officialsed': 31433, 'suckerfreewes': 31434, 'moodym0lly': 31435, 'atcha': 31436, 'zhou': 31437, 'sm': 31438, 'joh2guy': 31439, 'bundyranch': 31440, 'alexissert': 31441, 'hottest': 31442, 'ladykiller': 31443, 'marchese': 31444, 'gambler': 31445, 'gmk': 31446, 'brianduroha1': 31447, 'natlfascist88': 31448, 'waspnse': 31449, 'xba6wwvo7m': 31450, 'monique504q': 31451, 'byekandace': 31452, 'kstills': 31453, 'crownkingz': 31454, 'lancaster': 31455, 'itsclaribelyo': 31456, 'hibernating': 31457, 'fredo': 31458, 'jonahair23': 31459, 'chris2x': 31460, 'vccamelraces': 31461, 'chicothewolf': 31462, 'davidpullsbitches': 31463, 'tweetsomethingyougetalot': 31464, 'noodle': 31465, 'snl': 31466, 'tenure': 31467, 'mijdg6x6uc': 31468, 'npratc': 31469, 'grapefruit': 31470, 'hashtags': 31471, 'makeshitup': 31472, 'bigdickdoane': 31473, 'dork': 31474, 'estellleeee': 31475, 'mosa': 31476, 'coca': 31477, 'thefrogod': 31478, 'inspired': 31479, \"drake's\": 31480, 'vaulgcpkis': 31481, 'nickcoyne001': 31482, 'ladymercia': 31483, \"'terror\": 31484, \"twins'\": 31485, 'brides': 31486, 'trhnmdvncm': 31487, 'hiimjorib': 31488, 'seagulls': 31489, 'congo': 31490, 'wnna': 31491, \"'comin\": 31492, 'joked': 31493, 'peels': 31494, 'vitaminsemen': 31495, 'nicely': 31496, 'puig': 31497, 'twothumbsupdgaf': 31498, 'shutting': 31499, 'dinherfriends': 31500, 'lethalbizzle': 31501, 'timmurphyy': 31502, 'ultra': 31503, 'zing': 31504, 'tamishaa': 31505, 'chefpolio': 31506, 'glljaqb6ty': 31507, 'gerfingerpoken2': 31508, 'millionaire': 31509, 'hillaryclinton': 31510, 'hillary2016': 31511, 'flightless': 31512, 'teardrop': 31513, 'spewed': 31514, 'husbandry': 31515, 'hitched': 31516, 'misty': 31517, 'felonious': 31518, 'munk': 31519, 'tossing': 31520, '98lb': 31521, 'rubio': 31522, 'thundering': 31523, 'malachic1997': 31524, 'converse': 31525, '9203': 31526, 'dominion': 31527, 'gabrielastarr': 31528, 'aceves': 31529, 'sabathia': 31530, 'priscocbs': 31531, '1xxguktjp8': 31532, 'mikeprysner': 31533, 'cvublngxkj': 31534, 'kiaramariexo': 31535, '1krock': 31536, 'czj5npifki': 31537, \"cnn's\": 31538, 'correspondent': 31539, 'lamessican': 31540, 'confirms': 31541, 'textith': 31542, 'yaboytosh': 31543, 'chandraingram95': 31544, 'thrkaobdvj': 31545, 'nqylxquloc': 31546, 'madisonbeck143': 31547, 'f2l8dpbres': 31548, 'bette': 31549, 'andyheybro': 31550, 'distant': 31551, 'dried': 31552, 'guitars': 31553, 'jai': 31554, 'eew': 31555, 'carrrr': 31556, 'marsdablackman': 31557, 'creak': 31558, 'brute': 31559, 'knockout': 31560, 'mikeimbriano': 31561, 'donnas': 31562, 'kourtney': 31563, 'jrwrz': 31564, 'velvethoopd': 31565, 'ecs7nlekka': 31566, 'eomrmqwnqt': 31567, 'bryanna': 31568, '1bree': 31569, 'bree': 31570, 'vaeflare': 31571, 'noble': 31572, 'steampunk': 31573, 'seryx9v': 31574, 'calliou': 31575, 'jesseleesoffer': 31576, 'talltrappin88': 31577, 'riptallt': 31578, 'damnlifepics': 31579, 'qwufy11crq': 31580, 'slicknet': 31581, 'netmag': 31582, 'gotcha': 31583, 'sexing': 31584, 'fawfulfan': 31585, 'bigkahuna919191': 31586, 'alfranken': 31587, 'katiefraaancis': 31588, 'uptight': 31589, 'illi708': 31590, 'biggiebossmane': 31591, 'dustincmc': 31592, 'kevinkillsthngs': 31593, 'zshn94ok9s': 31594, 'plkfb3lnem': 31595, 'patrickquelo': 31596, '20mins': 31597, 'stilljohnca': 31598, 'carded': 31599, '00pm': 31600, 'preoccupied': 31601, 'gnuts': 31602, 'ashspeaks': 31603, '4zkmor7sn8': 31604, '1eye': 31605, 'sngynagulc': 31606, 'sydney': 31607, 'farmer': 31608, 'rightinher': 31609, 'pssy': 31610, '3yw7mhlrhu': 31611, 'boootyyyyy': 31612, 'neeeeed': 31613, 'heinie': 31614, 'thuged': 31615, 'basednafrican': 31616, 'cp2c1iqria': 31617, 'yexystusm8': 31618, 'princexfbgm': 31619, 'relationshipgoals': 31620, '9z9pxvnf89': 31621, 'thediorhomie': 31622, 'deltron': 31623, 'brookbristow': 31624, 'bigassmoustache': 31625, 'taylanicolexo': 31626, '23vnds': 31627, 'miracles': 31628, 'eecezjrx6c': 31629, 'tonyclevenger': 31630, 'trainvideo': 31631, 'polygamist': 31632, 'nastybaby': 31633, 'shhh': 31634, 'deerin': 31635, 'maokzqlaos': 31636, 'tigerwoods': 31637, 'rickie': 31638, 'shitstache': 31639, 'putts': 31640, 'roulettista': 31641, 'mertesacker': 31642, 'caldito': 31643, 'estuvo': 31644, 'snuggle': 31645, 'snuggie': 31646, 'queeee': 31647, 'riiikkooo': 31648, 'paymon': 31649, 'xoxox': 31650, 'shanequintero': 31651, 'kegals': 31652, 'sandcowboy31': 31653, 'pffttt': 31654, '<pad>': 0}\n"
          ]
        }
      ]
    },
    {
      "cell_type": "code",
      "source": [
        "#for italian\n",
        "X_train_ita = tf.keras.utils.pad_sequences(X_train_ita, maxlen=SEQ_LENGTH)\n",
        "X_test_ita = tf.keras.utils.pad_sequences(X_test_ita, maxlen=SEQ_LENGTH)"
      ],
      "metadata": {
        "id": "qOKJMaeXttcV"
      },
      "execution_count": 33,
      "outputs": []
    },
    {
      "cell_type": "code",
      "source": [
        "#for english\n",
        "X_train_en = tf.keras.utils.pad_sequences(X_train_en, maxlen=SEQ_LENGTH)\n",
        "X_test_en = tf.keras.utils.pad_sequences(X_test_en, maxlen=SEQ_LENGTH)"
      ],
      "metadata": {
        "id": "9UL6HbxQd2bn"
      },
      "execution_count": 34,
      "outputs": []
    },
    {
      "cell_type": "code",
      "source": [
        "len(X_train_en[76])"
      ],
      "metadata": {
        "colab": {
          "base_uri": "https://localhost:8080/"
        },
        "id": "ONHZoC9YmqiA",
        "outputId": "b6070132-efb2-4353-d8f6-93f0ce37aa93"
      },
      "execution_count": 35,
      "outputs": [
        {
          "output_type": "execute_result",
          "data": {
            "text/plain": [
              "300"
            ]
          },
          "metadata": {},
          "execution_count": 35
        }
      ]
    },
    {
      "cell_type": "markdown",
      "source": [
        "## Create the \"local\" embedding matrix\n",
        "\n",
        "Now that we have:\n",
        "- Embedding list\n",
        "- Dictionary word → embedding id\n",
        "- Local id representation of the words extracted from the tweets\n",
        "\n",
        "We need to create the link between our found words and their representation in our multilingual embedding space.\n",
        "\n",
        "We create an embedding matrix where each row contains the embedding of the word indexed by its row number (local id)."
      ],
      "metadata": {
        "id": "wp1hFCIJOBVH"
      }
    },
    {
      "cell_type": "code",
      "source": [
        "def create_embedding_matrix(target_word2id, embedding_word2id, embeddings, num_rows, num_columns):\n",
        "    embedding_matrix = np.zeros((num_rows, num_columns))\n",
        "    for word, i in target_word2id.items():\n",
        "        if i >= num_rows:\n",
        "            break\n",
        "        if word in embedding_word2id:\n",
        "            embedding_matrix[i] = embeddings[embedding_word2id[word]]\n",
        "    return embedding_matrix"
      ],
      "metadata": {
        "id": "S30rkshBhn71"
      },
      "execution_count": 36,
      "outputs": []
    },
    {
      "cell_type": "code",
      "source": [
        "word2id_en = t.word_index\n",
        "word2id_it = t.word_index\n",
        "\n",
        "embedding_matrix_it = create_embedding_matrix(word2id_it, embedding_word2id_it, embeddings_it, VOCABULARY_SIZE+INDEX_FROM-1, EMBEDDING_DIM)\n",
        "embedding_matrix_en = create_embedding_matrix(word2id_en, embedding_word2id_en, embeddings_en, VOCABULARY_SIZE+INDEX_FROM-1, EMBEDDING_DIM)"
      ],
      "metadata": {
        "id": "oqBoJGyueD-8"
      },
      "execution_count": 37,
      "outputs": []
    },
    {
      "cell_type": "code",
      "source": [
        "embedding_matrix_it"
      ],
      "metadata": {
        "colab": {
          "base_uri": "https://localhost:8080/"
        },
        "id": "McKo8Gg8uVCQ",
        "outputId": "3d4a9093-eb9f-4d53-a575-1f0b7aec7b88"
      },
      "execution_count": 38,
      "outputs": [
        {
          "output_type": "execute_result",
          "data": {
            "text/plain": [
              "array([[0., 0., 0., ..., 0., 0., 0.],\n",
              "       [0., 0., 0., ..., 0., 0., 0.],\n",
              "       [0., 0., 0., ..., 0., 0., 0.],\n",
              "       ...,\n",
              "       [0., 0., 0., ..., 0., 0., 0.],\n",
              "       [0., 0., 0., ..., 0., 0., 0.],\n",
              "       [0., 0., 0., ..., 0., 0., 0.]])"
            ]
          },
          "metadata": {},
          "execution_count": 38
        }
      ]
    },
    {
      "cell_type": "code",
      "source": [
        "embedding_matrix_en"
      ],
      "metadata": {
        "colab": {
          "base_uri": "https://localhost:8080/"
        },
        "id": "WygrIqSSiqjE",
        "outputId": "6aa1add2-a373-4680-db5e-d289c1efb972"
      },
      "execution_count": 39,
      "outputs": [
        {
          "output_type": "execute_result",
          "data": {
            "text/plain": [
              "array([[ 0.        ,  0.        ,  0.        , ...,  0.        ,\n",
              "         0.        ,  0.        ],\n",
              "       [ 0.        ,  0.        ,  0.        , ...,  0.        ,\n",
              "         0.        ,  0.        ],\n",
              "       [ 0.        ,  0.        ,  0.        , ...,  0.        ,\n",
              "         0.        ,  0.        ],\n",
              "       ...,\n",
              "       [ 0.        ,  0.        ,  0.        , ...,  0.        ,\n",
              "         0.        ,  0.        ],\n",
              "       [ 0.        ,  0.        ,  0.        , ...,  0.        ,\n",
              "         0.        ,  0.        ],\n",
              "       [-0.0351215 , -0.00150842, -0.0316762 , ..., -0.00704453,\n",
              "        -0.0127666 ,  0.00424343]])"
            ]
          },
          "metadata": {},
          "execution_count": 39
        }
      ]
    },
    {
      "cell_type": "markdown",
      "source": [
        "## Baseline"
      ],
      "metadata": {
        "id": "fkWAVdMDCzgu"
      }
    },
    {
      "cell_type": "markdown",
      "source": [],
      "metadata": {
        "id": "V4vGvJIBEC5X"
      }
    },
    {
      "cell_type": "code",
      "source": [
        "from sklearn.naive_bayes import BernoulliNB\n",
        "\n",
        "nb_clf = BernoulliNB()\n",
        "nb_clf.fit(X_train_en, Y_train_en)"
      ],
      "metadata": {
        "colab": {
          "base_uri": "https://localhost:8080/",
          "height": 75
        },
        "id": "PLwHi8VfEEVL",
        "outputId": "30a8b75b-5c96-4bf4-a96a-fade1036065f"
      },
      "execution_count": 40,
      "outputs": [
        {
          "output_type": "execute_result",
          "data": {
            "text/plain": [
              "BernoulliNB()"
            ],
            "text/html": [
              "<style>#sk-container-id-1 {color: black;background-color: white;}#sk-container-id-1 pre{padding: 0;}#sk-container-id-1 div.sk-toggleable {background-color: white;}#sk-container-id-1 label.sk-toggleable__label {cursor: pointer;display: block;width: 100%;margin-bottom: 0;padding: 0.3em;box-sizing: border-box;text-align: center;}#sk-container-id-1 label.sk-toggleable__label-arrow:before {content: \"▸\";float: left;margin-right: 0.25em;color: #696969;}#sk-container-id-1 label.sk-toggleable__label-arrow:hover:before {color: black;}#sk-container-id-1 div.sk-estimator:hover label.sk-toggleable__label-arrow:before {color: black;}#sk-container-id-1 div.sk-toggleable__content {max-height: 0;max-width: 0;overflow: hidden;text-align: left;background-color: #f0f8ff;}#sk-container-id-1 div.sk-toggleable__content pre {margin: 0.2em;color: black;border-radius: 0.25em;background-color: #f0f8ff;}#sk-container-id-1 input.sk-toggleable__control:checked~div.sk-toggleable__content {max-height: 200px;max-width: 100%;overflow: auto;}#sk-container-id-1 input.sk-toggleable__control:checked~label.sk-toggleable__label-arrow:before {content: \"▾\";}#sk-container-id-1 div.sk-estimator input.sk-toggleable__control:checked~label.sk-toggleable__label {background-color: #d4ebff;}#sk-container-id-1 div.sk-label input.sk-toggleable__control:checked~label.sk-toggleable__label {background-color: #d4ebff;}#sk-container-id-1 input.sk-hidden--visually {border: 0;clip: rect(1px 1px 1px 1px);clip: rect(1px, 1px, 1px, 1px);height: 1px;margin: -1px;overflow: hidden;padding: 0;position: absolute;width: 1px;}#sk-container-id-1 div.sk-estimator {font-family: monospace;background-color: #f0f8ff;border: 1px dotted black;border-radius: 0.25em;box-sizing: border-box;margin-bottom: 0.5em;}#sk-container-id-1 div.sk-estimator:hover {background-color: #d4ebff;}#sk-container-id-1 div.sk-parallel-item::after {content: \"\";width: 100%;border-bottom: 1px solid gray;flex-grow: 1;}#sk-container-id-1 div.sk-label:hover label.sk-toggleable__label {background-color: #d4ebff;}#sk-container-id-1 div.sk-serial::before {content: \"\";position: absolute;border-left: 1px solid gray;box-sizing: border-box;top: 0;bottom: 0;left: 50%;z-index: 0;}#sk-container-id-1 div.sk-serial {display: flex;flex-direction: column;align-items: center;background-color: white;padding-right: 0.2em;padding-left: 0.2em;position: relative;}#sk-container-id-1 div.sk-item {position: relative;z-index: 1;}#sk-container-id-1 div.sk-parallel {display: flex;align-items: stretch;justify-content: center;background-color: white;position: relative;}#sk-container-id-1 div.sk-item::before, #sk-container-id-1 div.sk-parallel-item::before {content: \"\";position: absolute;border-left: 1px solid gray;box-sizing: border-box;top: 0;bottom: 0;left: 50%;z-index: -1;}#sk-container-id-1 div.sk-parallel-item {display: flex;flex-direction: column;z-index: 1;position: relative;background-color: white;}#sk-container-id-1 div.sk-parallel-item:first-child::after {align-self: flex-end;width: 50%;}#sk-container-id-1 div.sk-parallel-item:last-child::after {align-self: flex-start;width: 50%;}#sk-container-id-1 div.sk-parallel-item:only-child::after {width: 0;}#sk-container-id-1 div.sk-dashed-wrapped {border: 1px dashed gray;margin: 0 0.4em 0.5em 0.4em;box-sizing: border-box;padding-bottom: 0.4em;background-color: white;}#sk-container-id-1 div.sk-label label {font-family: monospace;font-weight: bold;display: inline-block;line-height: 1.2em;}#sk-container-id-1 div.sk-label-container {text-align: center;}#sk-container-id-1 div.sk-container {/* jupyter's `normalize.less` sets `[hidden] { display: none; }` but bootstrap.min.css set `[hidden] { display: none !important; }` so we also need the `!important` here to be able to override the default hidden behavior on the sphinx rendered scikit-learn.org. See: https://github.com/scikit-learn/scikit-learn/issues/21755 */display: inline-block !important;position: relative;}#sk-container-id-1 div.sk-text-repr-fallback {display: none;}</style><div id=\"sk-container-id-1\" class=\"sk-top-container\"><div class=\"sk-text-repr-fallback\"><pre>BernoulliNB()</pre><b>In a Jupyter environment, please rerun this cell to show the HTML representation or trust the notebook. <br />On GitHub, the HTML representation is unable to render, please try loading this page with nbviewer.org.</b></div><div class=\"sk-container\" hidden><div class=\"sk-item\"><div class=\"sk-estimator sk-toggleable\"><input class=\"sk-toggleable__control sk-hidden--visually\" id=\"sk-estimator-id-1\" type=\"checkbox\" checked><label for=\"sk-estimator-id-1\" class=\"sk-toggleable__label sk-toggleable__label-arrow\">BernoulliNB</label><div class=\"sk-toggleable__content\"><pre>BernoulliNB()</pre></div></div></div></div></div>"
            ]
          },
          "metadata": {},
          "execution_count": 40
        }
      ]
    },
    {
      "cell_type": "code",
      "source": [
        "test_ds_predicted = nb_clf.predict(X_test_en)\n",
        "test_ds_predicted"
      ],
      "metadata": {
        "colab": {
          "base_uri": "https://localhost:8080/"
        },
        "id": "jgKLHcADERHz",
        "outputId": "d7682071-9e68-48d8-ab92-ee6a6004629c"
      },
      "execution_count": 41,
      "outputs": [
        {
          "output_type": "execute_result",
          "data": {
            "text/plain": [
              "array([1, 1, 1, ..., 1, 1, 1])"
            ]
          },
          "metadata": {},
          "execution_count": 41
        }
      ]
    },
    {
      "cell_type": "code",
      "source": [
        "from sklearn import metrics\n",
        "print(metrics.classification_report(Y_test_en,test_ds_predicted))"
      ],
      "metadata": {
        "colab": {
          "base_uri": "https://localhost:8080/"
        },
        "id": "6km44DDnEV3s",
        "outputId": "47279d9f-0bec-429f-8152-a651bec03d66"
      },
      "execution_count": 42,
      "outputs": [
        {
          "output_type": "stream",
          "name": "stdout",
          "text": [
            "              precision    recall  f1-score   support\n",
            "\n",
            "           0       0.23      0.37      0.28       851\n",
            "           1       0.85      0.73      0.79      4106\n",
            "\n",
            "    accuracy                           0.67      4957\n",
            "   macro avg       0.54      0.55      0.53      4957\n",
            "weighted avg       0.74      0.67      0.70      4957\n",
            "\n"
          ]
        }
      ]
    },
    {
      "cell_type": "markdown",
      "source": [
        "## LSTM Model\n",
        "\n",
        "From: https://github.com/mdabashar/Deep-Learning-Algorithms/blob/master/LSTM%20Hate%20Speech%20Detection.ipynb\n",
        "\n",
        "BASELINE: https://www.researchgate.net/figure/Baseline-LSTM-model-architecture_fig2_363399494"
      ],
      "metadata": {
        "id": "bpfTasTC8ZAq"
      }
    },
    {
      "cell_type": "code",
      "source": [
        "WEIGHTS = embedding_matrix_en #embedding_matrix_it\n",
        "\n",
        "#baseline LSTM architecture from the paper\n",
        "def lstm_model(embedding_matrix=WEIGHTS, input_length = SEQ_LENGTH):\n",
        "    input = keras.layers.Input(shape=(SEQ_LENGTH,), dtype='int32')\n",
        "    encoder = keras.layers.Embedding(VOCABULARY_SIZE+INDEX_FROM-1, EMBEDDING_DIM, weights=[embedding_matrix], input_length=input_length, trainable=False)(input)\n",
        "    x = keras.layers.Bidirectional(keras.layers.LSTM(32, dropout=0.5, return_sequences=True))(encoder)\n",
        "    x = keras.layers.Bidirectional(keras.layers.LSTM(64, dropout=0.5,return_sequences=True))(x)\n",
        "    x = keras.layers.Flatten()(x)\n",
        "    x = keras.layers.Dense(64)(x)\n",
        "    x = keras.layers.Dense(1)(x)\n",
        "    output = keras.layers.Activation('sigmoid')(x)\n",
        "    model = Model(inputs=[input], outputs=[output])\n",
        "    model.compile(loss='binary_crossentropy', optimizer='adam', metrics=['accuracy']) #adamW\n",
        "    return model\n",
        "\n",
        "lstm_model = lstm_model()\n",
        "lstm_model.summary()"
      ],
      "metadata": {
        "colab": {
          "base_uri": "https://localhost:8080/"
        },
        "id": "U8UwntEi8bOx",
        "outputId": "6a8a2418-b7bc-40dc-dec8-dd744f193c4b"
      },
      "execution_count": 43,
      "outputs": [
        {
          "output_type": "stream",
          "name": "stdout",
          "text": [
            "Model: \"model\"\n",
            "_________________________________________________________________\n",
            " Layer (type)                Output Shape              Param #   \n",
            "=================================================================\n",
            " input_1 (InputLayer)        [(None, 300)]             0         \n",
            "                                                                 \n",
            " embedding (Embedding)       (None, 300, 300)          3000600   \n",
            "                                                                 \n",
            " bidirectional (Bidirectiona  (None, 300, 64)          85248     \n",
            " l)                                                              \n",
            "                                                                 \n",
            " bidirectional_1 (Bidirectio  (None, 300, 128)         66048     \n",
            " nal)                                                            \n",
            "                                                                 \n",
            " flatten (Flatten)           (None, 38400)             0         \n",
            "                                                                 \n",
            " dense (Dense)               (None, 64)                2457664   \n",
            "                                                                 \n",
            " dense_1 (Dense)             (None, 1)                 65        \n",
            "                                                                 \n",
            " activation (Activation)     (None, 1)                 0         \n",
            "                                                                 \n",
            "=================================================================\n",
            "Total params: 5,609,625\n",
            "Trainable params: 2,609,025\n",
            "Non-trainable params: 3,000,600\n",
            "_________________________________________________________________\n"
          ]
        }
      ]
    },
    {
      "cell_type": "code",
      "source": [
        "from sklearn.utils.class_weight import compute_class_weight\n",
        "\n",
        "class_weights = compute_class_weight(class_weight = \"balanced\", classes = np.unique(Y_train_en), y = Y_train_en)\n",
        "class_weights = dict(zip(np.unique(Y_train_en), class_weights))\n",
        "class_weights"
      ],
      "metadata": {
        "colab": {
          "base_uri": "https://localhost:8080/"
        },
        "id": "etXERPWGIy4O",
        "outputId": "7750a2d9-62a4-4213-ab0f-655af3970ac7"
      },
      "execution_count": 44,
      "outputs": [
        {
          "output_type": "execute_result",
          "data": {
            "text/plain": [
              "{0: 2.9930555555555554, 1: 0.6002785515320335}"
            ]
          },
          "metadata": {},
          "execution_count": 44
        }
      ]
    },
    {
      "cell_type": "code",
      "source": [
        "NUM_EPOCHS=20\n",
        "BATCH_SIZE=32\n",
        "\n",
        "earlystop = EarlyStopping(monitor='val_loss', patience=2)\n",
        "\n",
        "lstm_model.fit(X_train_en, Y_train_en, validation_data=(X_test_en, Y_test_en), epochs=NUM_EPOCHS, batch_size=BATCH_SIZE, callbacks=[earlystop], class_weight=class_weights)\n",
        "\n",
        "print(\"\\n\")\n",
        "\n",
        "# Final evaluation of the model\n",
        "scores = lstm_model.evaluate(X_test_en, Y_test_en)\n",
        "print(\"Accuracy: %.2f%%\" % (scores[1]*100))"
      ],
      "metadata": {
        "colab": {
          "base_uri": "https://localhost:8080/"
        },
        "id": "49l06MzbAUWk",
        "outputId": "4f8273ca-68d7-4edb-9422-b99e6819e499"
      },
      "execution_count": 45,
      "outputs": [
        {
          "output_type": "stream",
          "name": "stdout",
          "text": [
            "Epoch 1/20\n",
            "620/620 [==============================] - 43s 46ms/step - loss: 0.3303 - accuracy: 0.8533 - val_loss: 0.1816 - val_accuracy: 0.9209\n",
            "Epoch 2/20\n",
            "620/620 [==============================] - 31s 50ms/step - loss: 0.2381 - accuracy: 0.8968 - val_loss: 0.2848 - val_accuracy: 0.8810\n",
            "Epoch 3/20\n",
            "620/620 [==============================] - 26s 42ms/step - loss: 0.2099 - accuracy: 0.9065 - val_loss: 0.2080 - val_accuracy: 0.9149\n",
            "\n",
            "\n",
            "155/155 [==============================] - 4s 24ms/step - loss: 0.2080 - accuracy: 0.9149\n",
            "Accuracy: 91.49%\n"
          ]
        }
      ]
    },
    {
      "cell_type": "code",
      "source": [
        "#Predict\n",
        "y_prediction = lstm_model.predict(X_test_en)\n",
        "y_prediction = (y_prediction >= 0.5).astype(int)\n",
        "\n",
        "#Create confusion matrix and normalizes it over predicted (columns)\n",
        "cm = confusion_matrix(Y_test_en, y_prediction , normalize='pred')\n",
        "\n",
        "disp = ConfusionMatrixDisplay(confusion_matrix=cm)\n",
        "disp.plot()\n",
        "plt.show()"
      ],
      "metadata": {
        "colab": {
          "base_uri": "https://localhost:8080/",
          "height": 467
        },
        "id": "mUzRChU2b5Y8",
        "outputId": "6d00df0a-cf31-460a-96b4-2b0990050ff0"
      },
      "execution_count": 46,
      "outputs": [
        {
          "output_type": "stream",
          "name": "stdout",
          "text": [
            "155/155 [==============================] - 4s 15ms/step\n"
          ]
        },
        {
          "output_type": "display_data",
          "data": {
            "text/plain": [
              "<Figure size 640x480 with 2 Axes>"
            ],
            "image/png": "[encoded data removed]"
          },
          "metadata": {}
        }
      ]
    },
    {
      "cell_type": "code",
      "source": [
        "fake_tweet = \"i fucking love pizza\"\n",
        "fake_tweet = t.texts_to_sequences([fake_tweet])\n",
        "fake_tweet = tf.keras.utils.pad_sequences(fake_tweet, maxlen=SEQ_LENGTH)\n",
        "\n",
        "lstm_model.predict(fake_tweet)"
      ],
      "metadata": {
        "colab": {
          "base_uri": "https://localhost:8080/"
        },
        "id": "MFOkazh2gw3X",
        "outputId": "906549cd-1a56-402f-bc6d-6a3262516bd8"
      },
      "execution_count": 47,
      "outputs": [
        {
          "output_type": "stream",
          "name": "stdout",
          "text": [
            "1/1 [==============================] - 0s 32ms/step\n"
          ]
        },
        {
          "output_type": "execute_result",
          "data": {
            "text/plain": [
              "array([[0.90556604]], dtype=float32)"
            ]
          },
          "metadata": {},
          "execution_count": 47
        }
      ]
    },
    {
      "cell_type": "markdown",
      "source": [
        "## Definition of the model\n",
        "\n",
        "Basic convolutional network taken from [this blog](https://machinelearningmastery.com/predict-sentiment-movie-reviews-using-deep-learning/), single-value output ranging from 0 to 1 indicating if its a hate speech tweet or not.\n",
        "\n",
        "Convolutional neural networks were designed to honor the spatial structure in image data while being robust to the position and orientation of learned objects in the scene.\n",
        "\n",
        "This same principle can be used on sequences, such as the one-dimensional sequence of words in a movie review. The same properties that make the CNN model attractive for learning to recognize objects in images can help to learn structure in paragraphs of words, namely the techniques invariance to the specific position of features."
      ],
      "metadata": {
        "id": "67Tz8V3zPDZ0"
      }
    },
    {
      "cell_type": "code",
      "source": [
        "WEIGHTS = embedding_matrix_en #embedding_matrix_it\n",
        "\n",
        "# Model\n",
        "model = Sequential()\n",
        "# ------\n",
        "model.add(keras.layers.Embedding(VOCABULARY_SIZE+INDEX_FROM-1, EMBEDDING_DIM, input_length=SEQ_LENGTH, weights=[WEIGHTS], trainable=False))\n",
        "# ------\n",
        "model.add(keras.layers.Conv1D(filters=32, kernel_size=3, padding='same', activation='relu'))\n",
        "model.add(keras.layers.MaxPooling1D(pool_size=2))\n",
        "model.add(keras.layers.Flatten())\n",
        "model.add(keras.layers.Dense(250, activation='relu'))\n",
        "model.add(keras.layers.Dense(1, activation='sigmoid'))\n",
        "\n",
        "# Compile\n",
        "model.compile(loss='binary_crossentropy', optimizer='adam', metrics=['accuracy'])\n",
        "\n",
        "print(model.summary())"
      ],
      "metadata": {
        "colab": {
          "base_uri": "https://localhost:8080/"
        },
        "id": "qr8-ooyVj56r",
        "outputId": "a3470625-8417-49fd-cec8-4dff76ac1176"
      },
      "execution_count": null,
      "outputs": [
        {
          "output_type": "stream",
          "name": "stdout",
          "text": [
            "Model: \"sequential\"\n",
            "_________________________________________________________________\n",
            " Layer (type)                Output Shape              Param #   \n",
            "=================================================================\n",
            " embedding_3 (Embedding)     (None, 300, 300)          3000600   \n",
            "                                                                 \n",
            " conv1d (Conv1D)             (None, 300, 32)           28832     \n",
            "                                                                 \n",
            " max_pooling1d (MaxPooling1D  (None, 150, 32)          0         \n",
            " )                                                               \n",
            "                                                                 \n",
            " flatten (Flatten)           (None, 4800)              0         \n",
            "                                                                 \n",
            " dense_3 (Dense)             (None, 250)               1200250   \n",
            "                                                                 \n",
            " dense_4 (Dense)             (None, 1)                 251       \n",
            "                                                                 \n",
            "=================================================================\n",
            "Total params: 4,229,933\n",
            "Trainable params: 1,229,333\n",
            "Non-trainable params: 3,000,600\n",
            "_________________________________________________________________\n",
            "None\n"
          ]
        }
      ]
    },
    {
      "cell_type": "code",
      "source": [
        "NUM_EPOCHS=5\n",
        "BATCH_SIZE=64\n",
        "\n",
        "earlystop = EarlyStopping(monitor='val_loss', patience=2)\n",
        "\n",
        "model.fit(X_train_en, Y_train_en, validation_data=(X_test_en, Y_test_en),\n",
        "          epochs=NUM_EPOCHS, batch_size=BATCH_SIZE, callbacks=[earlystop], class_weight=class_weights )\n",
        "\n",
        "print(\"\\n\")\n",
        "\n",
        "# Final evaluation of the model\n",
        "scores = model.evaluate(X_test_en, Y_test_en)\n",
        "print(\"Accuracy: %.2f%%\" % (scores[1]*100))"
      ],
      "metadata": {
        "colab": {
          "base_uri": "https://localhost:8080/"
        },
        "id": "3qKxqpfYlcvt",
        "outputId": "5b9a2b76-f526-4d2d-b22a-cc0f428f534a"
      },
      "execution_count": null,
      "outputs": [
        {
          "output_type": "stream",
          "name": "stdout",
          "text": [
            "Epoch 1/5\n",
            "310/310 [==============================] - 9s 8ms/step - loss: 0.3087 - accuracy: 0.8616 - val_loss: 0.2369 - val_accuracy: 0.9028\n",
            "Epoch 2/5\n",
            "310/310 [==============================] - 2s 6ms/step - loss: 0.1627 - accuracy: 0.9276 - val_loss: 0.1826 - val_accuracy: 0.9215\n",
            "Epoch 3/5\n",
            "310/310 [==============================] - 1s 5ms/step - loss: 0.1320 - accuracy: 0.9404 - val_loss: 0.1628 - val_accuracy: 0.9308\n",
            "Epoch 4/5\n",
            "310/310 [==============================] - 1s 5ms/step - loss: 0.1051 - accuracy: 0.9522 - val_loss: 0.1680 - val_accuracy: 0.9354\n",
            "Epoch 5/5\n",
            "310/310 [==============================] - 1s 5ms/step - loss: 0.0783 - accuracy: 0.9644 - val_loss: 0.1911 - val_accuracy: 0.9350\n",
            "\n",
            "\n",
            "155/155 [==============================] - 1s 4ms/step - loss: 0.1911 - accuracy: 0.9350\n",
            "Accuracy: 93.50%\n"
          ]
        }
      ]
    },
    {
      "cell_type": "code",
      "source": [
        "#Predict\n",
        "y_prediction = model.predict(X_test_en)\n",
        "y_prediction = (y_prediction >= 0.5).astype(int)\n",
        "\n",
        "\n",
        "#Create confusion matrix and normalizes it over predicted (columns)\n",
        "cm = confusion_matrix(Y_test_en, y_prediction , normalize='pred')\n",
        "\n",
        "disp = ConfusionMatrixDisplay(confusion_matrix=cm)\n",
        "disp.plot()\n",
        "plt.show()"
      ],
      "metadata": {
        "colab": {
          "base_uri": "https://localhost:8080/",
          "height": 467
        },
        "id": "NmVR4eT1QkLn",
        "outputId": "9f2360c9-cddb-4b97-97ff-f52e4cf0011f"
      },
      "execution_count": null,
      "outputs": [
        {
          "output_type": "stream",
          "name": "stdout",
          "text": [
            "155/155 [==============================] - 0s 2ms/step\n"
          ]
        },
        {
          "output_type": "display_data",
          "data": {
            "text/plain": [
              "<Figure size 640x480 with 2 Axes>"
            ],
            "image/png": "[encoded data removed]"
          },
          "metadata": {}
        }
      ]
    },
    {
      "cell_type": "code",
      "source": [
        "subset = 10\n",
        "ground_truth_subset = Y_test_ita[:subset]\n",
        "prediction_subset = predicted_labels[:subset]\n",
        "text_subset = test_ita['text'].iloc[:subset]  #Non penso faccia lo stesso subset di ground_truth_subset\n",
        "\n",
        "for i in range (0, subset):\n",
        "  #TODO VEDERE DEL TESTO\n",
        "  print(\"Sample %d - Actual: %d, Predicted: %d\" % (i+1, ground_truth_subset[i], prediction_subset[i]))"
      ],
      "metadata": {
        "colab": {
          "base_uri": "https://localhost:8080/",
          "height": 240
        },
        "id": "c3KXVrLmviqy",
        "outputId": "93aa8156-2da1-47d5-9b7d-ae3fab91cbbd"
      },
      "execution_count": null,
      "outputs": [
        {
          "output_type": "error",
          "ename": "NameError",
          "evalue": "ignored",
          "traceback": [
            "\u001b[0;31m---------------------------------------------------------------------------\u001b[0m",
            "\u001b[0;31mNameError\u001b[0m                                 Traceback (most recent call last)",
            "\u001b[0;32m<ipython-input-90-bbd18ac8bd9a>\u001b[0m in \u001b[0;36m<cell line: 3>\u001b[0;34m()\u001b[0m\n\u001b[1;32m      1\u001b[0m \u001b[0msubset\u001b[0m \u001b[0;34m=\u001b[0m \u001b[0;36m10\u001b[0m\u001b[0;34m\u001b[0m\u001b[0;34m\u001b[0m\u001b[0m\n\u001b[1;32m      2\u001b[0m \u001b[0mground_truth_subset\u001b[0m \u001b[0;34m=\u001b[0m \u001b[0mY_test_ita\u001b[0m\u001b[0;34m[\u001b[0m\u001b[0;34m:\u001b[0m\u001b[0msubset\u001b[0m\u001b[0;34m]\u001b[0m\u001b[0;34m\u001b[0m\u001b[0;34m\u001b[0m\u001b[0m\n\u001b[0;32m----> 3\u001b[0;31m \u001b[0mprediction_subset\u001b[0m \u001b[0;34m=\u001b[0m \u001b[0mpredicted_labels\u001b[0m\u001b[0;34m[\u001b[0m\u001b[0;34m:\u001b[0m\u001b[0msubset\u001b[0m\u001b[0;34m]\u001b[0m\u001b[0;34m\u001b[0m\u001b[0;34m\u001b[0m\u001b[0m\n\u001b[0m\u001b[1;32m      4\u001b[0m \u001b[0mtext_subset\u001b[0m \u001b[0;34m=\u001b[0m \u001b[0mtest_ita\u001b[0m\u001b[0;34m[\u001b[0m\u001b[0;34m'text'\u001b[0m\u001b[0;34m]\u001b[0m\u001b[0;34m.\u001b[0m\u001b[0miloc\u001b[0m\u001b[0;34m[\u001b[0m\u001b[0;34m:\u001b[0m\u001b[0msubset\u001b[0m\u001b[0;34m]\u001b[0m  \u001b[0;31m#Non penso faccia lo stesso subset di ground_truth_subset\u001b[0m\u001b[0;34m\u001b[0m\u001b[0;34m\u001b[0m\u001b[0m\n\u001b[1;32m      5\u001b[0m \u001b[0;34m\u001b[0m\u001b[0m\n",
            "\u001b[0;31mNameError\u001b[0m: name 'predicted_labels' is not defined"
          ]
        }
      ]
    },
    {
      "cell_type": "markdown",
      "source": [
        "### Some tests"
      ],
      "metadata": {
        "id": "5Kcvw-h_IT4k"
      }
    },
    {
      "cell_type": "code",
      "source": [
        "id = 15\n",
        "tweet = np.array([X_test_en[id]])\n",
        "\n",
        "print(test_en.iloc[id]['tweet'], \" | \", test_en.iloc[id]['hate_speech'])\n",
        "model.predict(tweet)"
      ],
      "metadata": {
        "colab": {
          "base_uri": "https://localhost:8080/"
        },
        "id": "k_Ta47lHsI9t",
        "outputId": "0a87a46f-7c8e-49e0-c261-f98fe21aef0e"
      },
      "execution_count": null,
      "outputs": [
        {
          "output_type": "stream",
          "name": "stdout",
          "text": [
            "got a bitch so bad you can't afford to fuck  |  1\n",
            "1/1 [==============================] - 0s 21ms/step\n"
          ]
        },
        {
          "output_type": "execute_result",
          "data": {
            "text/plain": [
              "array([[0.9999397]], dtype=float32)"
            ]
          },
          "metadata": {},
          "execution_count": 91
        }
      ]
    },
    {
      "cell_type": "code",
      "source": [
        "fake_tweet = \"i fucking love pizzaaaaaaaaaaaaaaaa!!!!\"\n",
        "fake_tweet = t.texts_to_sequences([fake_tweet])\n",
        "fake_tweet = tf.keras.utils.pad_sequences(fake_tweet, maxlen=SEQ_LENGTH)\n",
        "\n",
        "model.predict(fake_tweet)"
      ],
      "metadata": {
        "colab": {
          "base_uri": "https://localhost:8080/"
        },
        "id": "mBuoGjfeHZeM",
        "outputId": "4ff6a901-4dfa-404b-c30e-caee4b49c9b1"
      },
      "execution_count": null,
      "outputs": [
        {
          "output_type": "stream",
          "name": "stdout",
          "text": [
            "1/1 [==============================] - 0s 31ms/step\n"
          ]
        },
        {
          "output_type": "execute_result",
          "data": {
            "text/plain": [
              "array([[0.99789876]], dtype=float32)"
            ]
          },
          "metadata": {},
          "execution_count": 96
        }
      ]
    },
    {
      "cell_type": "code",
      "source": [
        "word2id_it = {word: idx+INDEX_FROM for idx, word in enumerate(top_n_list('it', VOCABULARY_SIZE))}\n",
        "word2id_it[\"<pad>\"] = 0\n",
        "word2id_it[\"<start>\"] = 2\n",
        "word2id_it[\"<unk>\"] = 1\n",
        "\n",
        "embedding_matrix_it = create_embedding_matrix(word2id_it, embedding_word2id_it, embeddings_it, VOCABULARY_SIZE+INDEX_FROM-1, EMBEDDING_DIM)"
      ],
      "metadata": {
        "id": "YUkTTheZJas3"
      },
      "execution_count": null,
      "outputs": []
    },
    {
      "cell_type": "code",
      "source": [
        "model.layers[0].set_weights([embedding_matrix_it])"
      ],
      "metadata": {
        "id": "QC3jUmFzK2GI"
      },
      "execution_count": null,
      "outputs": []
    },
    {
      "cell_type": "code",
      "source": [
        "#Predict\n",
        "y_prediction = model.predict(X_test_ita)\n",
        "y_prediction = (y_prediction >= 0.5).astype(int)\n",
        "\n",
        "\n",
        "#Create confusion matrix and normalizes it over predicted (columns)\n",
        "cm = confusion_matrix(Y_test_ita, y_prediction , normalize='pred')\n",
        "\n",
        "disp = ConfusionMatrixDisplay(confusion_matrix=cm)\n",
        "disp.plot()\n",
        "plt.show()"
      ],
      "metadata": {
        "colab": {
          "base_uri": "https://localhost:8080/",
          "height": 467
        },
        "id": "WhgMlSpnK52S",
        "outputId": "84126344-2510-41e2-e011-0a4ce48edc81"
      },
      "execution_count": null,
      "outputs": [
        {
          "output_type": "stream",
          "name": "stdout",
          "text": [
            "74/74 [==============================] - 1s 16ms/step\n"
          ]
        },
        {
          "output_type": "display_data",
          "data": {
            "text/plain": [
              "<Figure size 640x480 with 2 Axes>"
            ],
            "image/png": "[encoded data removed]"
          },
          "metadata": {}
        }
      ]
    },
    {
      "cell_type": "code",
      "source": [
        "fake_tweet = \"\"\n",
        "fake_tweet = t.texts_to_sequences([fake_tweet])\n",
        "fake_tweet = tf.keras.utils.pad_sequences(fake_tweet, maxlen=SEQ_LENGTH)\n",
        "\n",
        "model.predict(fake_tweet)"
      ],
      "metadata": {
        "colab": {
          "base_uri": "https://localhost:8080/"
        },
        "id": "CSPVlNCKOMJt",
        "outputId": "374c8e5f-949c-4945-8cfc-7bfa6cb990f6"
      },
      "execution_count": null,
      "outputs": [
        {
          "output_type": "stream",
          "name": "stdout",
          "text": [
            "1/1 [==============================] - 0s 24ms/step\n"
          ]
        },
        {
          "output_type": "execute_result",
          "data": {
            "text/plain": [
              "array([[0.4097121]], dtype=float32)"
            ]
          },
          "metadata": {},
          "execution_count": 100
        }
      ]
    },
    {
      "cell_type": "markdown",
      "source": [
        "alora\n",
        "\n",
        "non funziona molto bene anche se ho seguito per bene tutto quello che fa il tipo\n",
        "\n",
        "1. secondo me è proprio per differenze linguistiche, teoricamente con i pesi dell'embedding in inglese ha capito come classificare i tweet riconoscendo la presenza di certe parole, e di conseguenza la loro posizione nello spazio dell'embedding\n",
        "  \n",
        "  cambiando l'embedding lui si aspetta di trovare parole brutte in certe posizioni spaziali con determinate relazioni che probabilmente non si preservano nello spazio italiano\n",
        "\n",
        "2. nonostante i risultati sia in inglese che in ita non siano poi così male, secondo me non performa comunque bene, ma credo la motivazione sia 50/50 dati e modello\n",
        "\n",
        "3. i dati non sono un gran chè (come sono classificati) e con il nostro modello semplice semplice secondo me scegle le label in maniera conservativa, sparando 1 appena trova una minima parolaccia\n",
        "\n",
        "4. in italiano non ho la più pallida idea di cosa reputi parolaccia, puoi scrivere le peggio cose e non lo labellllerà come offesa, sus......\n",
        "\n",
        "update rispetto qua sopra\n",
        "\n",
        "1. Non è vero, ho dimostrato che l'embedding è quello multilingual, quindi fico, parole più o meno nella stessa posizione poichè lo spazio è \"allineato\"\n",
        "\n",
        "  Il problema è che l'allineamento non è perfetto, cercando per NN si trovano le parole, ma ovviamente non sono vicine vicine, probabilmente questo nel modello fa si che la sua convinzione nel define qualcosa hate sia meno forte rispetto che in inglese, tipo poco sopra 0.5\n",
        "\n",
        "2. in realtà no, dipende dal modello. Essendo cnn come detto cerca corrispondenze spaziali e quindi secondo me ha imparato a riconoscere certe parole come \"nono word\" e ogni volta che le trova aumenta notevolmente la probabilità di essere classificato hs (e.g i fucking love pizzzza)\n",
        "\n",
        "3. forse si i dati non sono un granchè, e labella in maniera conservativa come detto in punto 2. Il vero problema forse sta anche nella differenza di come sono le frasi in italiano rispetto l'inglese. Forse in eng gli insulti sono più diretti/semplici (?) mentre in italiano sono molto più lunghi e boh incentrati sui migranti/politica (?)\n",
        "\n",
        "4. Confermo :)\n"
      ],
      "metadata": {
        "id": "lbZNBPhoQAdv"
      }
    },
    {
      "cell_type": "markdown",
      "source": [
        "---\n",
        "\n",
        "# TODO\n",
        "\n",
        "- stampicciare modificando la rete LSTM (se abbiamo voglia anche la cnn)\n",
        "- abbiamo gestico class imbalance in naive baises?\n",
        "- facciamo un pelo di random undersampling(?)\n",
        "- METTERE NOSTRO CARO AMICO BERT, multilinguale sta volta\n",
        "\n",
        "---"
      ],
      "metadata": {
        "id": "AXGWeO8-jHsG"
      }
    },
    {
      "cell_type": "code",
      "source": [
        "model_checkpoint = \"bert-base-multilingual-cased\""
      ],
      "metadata": {
        "id": "coHihnOLeJtA"
      },
      "execution_count": 225,
      "outputs": []
    },
    {
      "cell_type": "code",
      "source": [
        "tokenizer = AutoTokenizer.from_pretrained(model_checkpoint)"
      ],
      "metadata": {
        "id": "4UvH1RKJdww4"
      },
      "execution_count": 226,
      "outputs": []
    },
    {
      "cell_type": "code",
      "source": [
        "hg_train_en = datasets.Dataset(pa.Table.from_pandas(train_en))\n",
        "hg_test_en = datasets.Dataset(pa.Table.from_pandas(test_en))\n",
        "\n",
        "hg_test_ita = datasets.Dataset(pa.Table.from_pandas(test_ita))\n",
        "\n",
        "hg_ds = datasets.DatasetDict({\"train\":hg_train_en, \"test\":hg_test_en})\n",
        "\n",
        "hg_ds[\"train\"] = hg_ds[\"train\"].remove_columns([\"__index_level_0__\"]) # remove unwanted column\n",
        "hg_ds[\"test\"] = hg_ds[\"test\"].remove_columns([\"__index_level_0__\"]) # remove unwanted column\n",
        "hg_ds[\"train\"] = hg_ds[\"test\"].rename_column(\"hate_speech\", \"label\")\n",
        "hg_ds[\"test\"] = hg_ds[\"test\"].rename_column(\"hate_speech\", \"label\")"
      ],
      "metadata": {
        "id": "PlhMjT6BoMOU"
      },
      "execution_count": 227,
      "outputs": []
    },
    {
      "cell_type": "code",
      "source": [
        "hg_ds"
      ],
      "metadata": {
        "colab": {
          "base_uri": "https://localhost:8080/"
        },
        "id": "TUFT6pl-oq78",
        "outputId": "96358f1f-721a-4c48-ebda-7454f0ff4704"
      },
      "execution_count": 228,
      "outputs": [
        {
          "output_type": "execute_result",
          "data": {
            "text/plain": [
              "DatasetDict({\n",
              "    train: Dataset({\n",
              "        features: ['label', 'tweet'],\n",
              "        num_rows: 4957\n",
              "    })\n",
              "    test: Dataset({\n",
              "        features: ['label', 'tweet'],\n",
              "        num_rows: 4957\n",
              "    })\n",
              "})"
            ]
          },
          "metadata": {},
          "execution_count": 228
        }
      ]
    },
    {
      "cell_type": "code",
      "source": [
        "def preprocess_functions(batch):\n",
        "  # Tokenize the input data\n",
        "  return tokenizer(\n",
        "    batch[\"tweet\"],\n",
        "    #max_length=SEQ_LENGTH,\n",
        "    #padding=True,\n",
        "    truncation=True)"
      ],
      "metadata": {
        "id": "g--0QGEZo_sU"
      },
      "execution_count": 229,
      "outputs": []
    },
    {
      "cell_type": "code",
      "source": [
        "tokenized_datasets_en = hg_ds.map(preprocess_functions, batch_size=32, batched=True)\n",
        "#tokenized_datasets_en.set_format(type=\"tensorflow\", columns=[\"input_ids\", \"attention_mask\"])"
      ],
      "metadata": {
        "colab": {
          "base_uri": "https://localhost:8080/",
          "height": 17,
          "referenced_widgets": [
            "fb0d77b645fe4ab3b22ed3dd305e425d",
            "7523d6f7ef174e07984899d20a7b5ee5",
            "189cece37cf64725a6c0c92e3c065737",
            "e7c579cfa5f24a23a41d0bbf99887acb",
            "38336bac8e734118b9f36444c3d729be",
            "98ea132020b44b0bb950d34667017741",
            "6e0fe298543d42ff91290ba47470cb2b",
            "57d525939dcc4ba08dbcda2828fb0a8a",
            "699734122f184e21b3a403f20362ce6a",
            "39e53f0f7248431280781df7f7cc8fbe",
            "8a7ff3f866fe48eba755ead20e07df0a",
            "765735018a744c20ad58549a6e55e225",
            "a0130f345211471baea225b9895775d9",
            "6e473df4672a4923a86b66fc378ba779",
            "ebaffbdcc590441bb3b3288ef3b1f42e",
            "263804c78d2f43f995630f0d08e86856",
            "b5c2079a4c7b4d459e4af66d5c63296b",
            "d000e1c415124f239701fdc39d955e89",
            "ad408975742a40b8a698ca5a06e0652a",
            "9618c5fadefe4511887e8aec84124e71",
            "3f4d2d6358254ed58b8dfb39c2a4c601",
            "93f290bf200a44eb9acacb8486395f51"
          ]
        },
        "id": "gYXCqH7ZpwMk",
        "outputId": "de0a0c0e-4b1e-4dbd-f4f1-670b25aef1a1"
      },
      "execution_count": 230,
      "outputs": [
        {
          "output_type": "display_data",
          "data": {
            "text/plain": [
              "Map:   0%|          | 0/4957 [00:00<?, ? examples/s]"
            ],
            "application/vnd.jupyter.widget-view+json": {
              "version_major": 2,
              "version_minor": 0,
              "model_id": "fb0d77b645fe4ab3b22ed3dd305e425d"
            }
          },
          "metadata": {}
        },
        {
          "output_type": "display_data",
          "data": {
            "text/plain": [
              "Map:   0%|          | 0/4957 [00:00<?, ? examples/s]"
            ],
            "application/vnd.jupyter.widget-view+json": {
              "version_major": 2,
              "version_minor": 0,
              "model_id": "765735018a744c20ad58549a6e55e225"
            }
          },
          "metadata": {}
        }
      ]
    },
    {
      "cell_type": "code",
      "source": [
        "tokenized_datasets_en"
      ],
      "metadata": {
        "colab": {
          "base_uri": "https://localhost:8080/"
        },
        "id": "0JECYMkqqAQV",
        "outputId": "4fa8179c-a39a-4a59-a452-8e61db75fa81"
      },
      "execution_count": 231,
      "outputs": [
        {
          "output_type": "execute_result",
          "data": {
            "text/plain": [
              "DatasetDict({\n",
              "    train: Dataset({\n",
              "        features: ['label', 'tweet', 'input_ids', 'token_type_ids', 'attention_mask'],\n",
              "        num_rows: 4957\n",
              "    })\n",
              "    test: Dataset({\n",
              "        features: ['label', 'tweet', 'input_ids', 'token_type_ids', 'attention_mask'],\n",
              "        num_rows: 4957\n",
              "    })\n",
              "})"
            ]
          },
          "metadata": {},
          "execution_count": 231
        }
      ]
    },
    {
      "cell_type": "code",
      "source": [
        "tokenized_datasets_en['train'][0]"
      ],
      "metadata": {
        "colab": {
          "base_uri": "https://localhost:8080/"
        },
        "id": "i24yALqYlVRr",
        "outputId": "f30b057e-884b-4622-b28e-90ac7508f359"
      },
      "execution_count": 232,
      "outputs": [
        {
          "output_type": "execute_result",
          "data": {
            "text/plain": [
              "{'label': 1,\n",
              " 'tweet': 'These customers are fucking crazy this bitch said God will smite me because her dumbass locked herself out of her account.',\n",
              " 'input_ids': [101,\n",
              "  13252,\n",
              "  49260,\n",
              "  10301,\n",
              "  11005,\n",
              "  72453,\n",
              "  171,\n",
              "  29948,\n",
              "  10157,\n",
              "  10531,\n",
              "  17684,\n",
              "  10269,\n",
              "  12415,\n",
              "  14015,\n",
              "  11337,\n",
              "  39709,\n",
              "  12704,\n",
              "  10911,\n",
              "  12373,\n",
              "  10485,\n",
              "  54892,\n",
              "  21322,\n",
              "  10107,\n",
              "  79601,\n",
              "  10336,\n",
              "  32262,\n",
              "  10950,\n",
              "  10108,\n",
              "  10485,\n",
              "  23200,\n",
              "  119,\n",
              "  102],\n",
              " 'token_type_ids': [0,\n",
              "  0,\n",
              "  0,\n",
              "  0,\n",
              "  0,\n",
              "  0,\n",
              "  0,\n",
              "  0,\n",
              "  0,\n",
              "  0,\n",
              "  0,\n",
              "  0,\n",
              "  0,\n",
              "  0,\n",
              "  0,\n",
              "  0,\n",
              "  0,\n",
              "  0,\n",
              "  0,\n",
              "  0,\n",
              "  0,\n",
              "  0,\n",
              "  0,\n",
              "  0,\n",
              "  0,\n",
              "  0,\n",
              "  0,\n",
              "  0,\n",
              "  0,\n",
              "  0,\n",
              "  0,\n",
              "  0],\n",
              " 'attention_mask': [1,\n",
              "  1,\n",
              "  1,\n",
              "  1,\n",
              "  1,\n",
              "  1,\n",
              "  1,\n",
              "  1,\n",
              "  1,\n",
              "  1,\n",
              "  1,\n",
              "  1,\n",
              "  1,\n",
              "  1,\n",
              "  1,\n",
              "  1,\n",
              "  1,\n",
              "  1,\n",
              "  1,\n",
              "  1,\n",
              "  1,\n",
              "  1,\n",
              "  1,\n",
              "  1,\n",
              "  1,\n",
              "  1,\n",
              "  1,\n",
              "  1,\n",
              "  1,\n",
              "  1,\n",
              "  1,\n",
              "  1]}"
            ]
          },
          "metadata": {},
          "execution_count": 232
        }
      ]
    },
    {
      "cell_type": "code",
      "source": [
        "model = TFAutoModelForSequenceClassification.from_pretrained(\n",
        "    model_checkpoint, num_labels=2\n",
        ")"
      ],
      "metadata": {
        "colab": {
          "base_uri": "https://localhost:8080/"
        },
        "id": "4KYEaYTHf_rx",
        "outputId": "407b0c47-905a-4a96-bd7b-e0b42e259d75"
      },
      "execution_count": 233,
      "outputs": [
        {
          "output_type": "stream",
          "name": "stderr",
          "text": [
            "All PyTorch model weights were used when initializing TFBertForSequenceClassification.\n",
            "\n",
            "Some weights or buffers of the TF 2.0 model TFBertForSequenceClassification were not initialized from the PyTorch model and are newly initialized: ['classifier.weight', 'classifier.bias']\n",
            "You should probably TRAIN this model on a down-stream task to be able to use it for predictions and inference.\n"
          ]
        }
      ]
    },
    {
      "cell_type": "code",
      "source": [
        "from transformers import DataCollatorWithPadding\n",
        "\n",
        "data_collator = DataCollatorWithPadding(tokenizer=tokenizer, return_tensors=\"tf\")"
      ],
      "metadata": {
        "id": "l3P4WFwwxGZ6"
      },
      "execution_count": 234,
      "outputs": []
    },
    {
      "cell_type": "code",
      "source": [
        "tf_train_set = tokenized_datasets_en[\"train\"].to_tf_dataset(\n",
        "    columns=[\"attention_mask\", \"input_ids\", \"label\"],\n",
        "    shuffle=True,\n",
        "    batch_size=16,\n",
        "    collate_fn=data_collator\n",
        ")\n",
        "\n",
        "tf_test_set = tokenized_datasets_en[\"test\"].to_tf_dataset(\n",
        "    columns=[\"attention_mask\", \"input_ids\", \"label\"],\n",
        "    shuffle=False,\n",
        "    batch_size=16,\n",
        "    collate_fn=data_collator\n",
        ")"
      ],
      "metadata": {
        "colab": {
          "base_uri": "https://localhost:8080/"
        },
        "id": "gaHbNXHdxeq8",
        "outputId": "b446fd9b-a052-4e60-e2b4-7cc5e1b6624a"
      },
      "execution_count": 235,
      "outputs": [
        {
          "output_type": "stream",
          "name": "stderr",
          "text": [
            "You're using a BertTokenizerFast tokenizer. Please note that with a fast tokenizer, using the `__call__` method is faster than using a method to encode the text followed by a call to the `pad` method to get a padded encoding.\n"
          ]
        }
      ]
    },
    {
      "cell_type": "code",
      "source": [
        "from transformers import create_optimizer\n",
        "\n",
        "batch_size = 16\n",
        "num_epochs = 5\n",
        "batches_per_epoch = len(tokenized_datasets_en[\"train\"]) // batch_size\n",
        "total_train_steps = int(batches_per_epoch * num_epochs)\n",
        "optimizer, schedule = create_optimizer(init_lr=2e-5, num_warmup_steps=0, num_train_steps=total_train_steps)"
      ],
      "metadata": {
        "id": "B0m6uViWr7k7"
      },
      "execution_count": 236,
      "outputs": []
    },
    {
      "cell_type": "code",
      "source": [
        "lista = list(class_weights.values())\n",
        "w = tf.gather(lista, 0)\n",
        "loss = w * 0.23423\n",
        "loss"
      ],
      "metadata": {
        "colab": {
          "base_uri": "https://localhost:8080/"
        },
        "id": "m4miy5E6AQU9",
        "outputId": "61b12e7b-62a3-4ef3-a625-5c4b561c2470"
      },
      "execution_count": 256,
      "outputs": [
        {
          "output_type": "execute_result",
          "data": {
            "text/plain": [
              "<tf.Tensor: shape=(), dtype=float64, numpy=0.7010634027777777>"
            ]
          },
          "metadata": {},
          "execution_count": 256
        }
      ]
    },
    {
      "cell_type": "code",
      "source": [
        "def weightedLoss(weights=tf.constant([1,1])):\n",
        "\n",
        "    def innerLoss(true, pred):\n",
        "        w = tf.gather(weights, true) #(batch, labels, 1)\n",
        "       # w = tf.reshape(w, (-1,label)) #(batch, labels)\n",
        "\n",
        "        loss = tf.keras.losses.BinaryCrossentropy(true, pred) #(batch, labels)\n",
        "        loss = w * loss\n",
        "\n",
        "        return loss\n",
        "\n",
        "    return innerLoss"
      ],
      "metadata": {
        "id": "3HIBL753-WWv"
      },
      "execution_count": 257,
      "outputs": []
    },
    {
      "cell_type": "code",
      "source": [
        "def create_weighted_binary_crossentropy(zero_weight, one_weight):\n",
        "\n",
        "    def weighted_binary_crossentropy(y_true, y_pred):\n",
        "\n",
        "        # Original binary crossentropy (see losses.py):\n",
        "        # K.mean(K.binary_crossentropy(y_true, y_pred), axis=-1)\n",
        "\n",
        "        # Calculate the binary crossentropy\n",
        "        b_ce = K.binary_crossentropy(y_true, y_pred)\n",
        "\n",
        "        # Apply the weights\n",
        "        weight_vector = y_true * one_weight + (1. - y_true) * zero_weight\n",
        "        weighted_b_ce = weight_vector * b_ce\n",
        "\n",
        "        # Return the mean error\n",
        "        return K.mean(weighted_b_ce)\n",
        "\n",
        "    return weighted_binary_crossentropy"
      ],
      "metadata": {
        "id": "bLMmQ0MZCQ45"
      },
      "execution_count": null,
      "outputs": []
    },
    {
      "cell_type": "code",
      "source": [
        "class_weights.get(0)"
      ],
      "metadata": {
        "colab": {
          "base_uri": "https://localhost:8080/"
        },
        "id": "gdeY5h0kIiJ5",
        "outputId": "1c8092e0-9e7c-4998-acc2-96eddc430459"
      },
      "execution_count": 284,
      "outputs": [
        {
          "output_type": "execute_result",
          "data": {
            "text/plain": [
              "2.9930555555555554"
            ]
          },
          "metadata": {},
          "execution_count": 284
        }
      ]
    },
    {
      "cell_type": "code",
      "source": [
        "def weighted_binary_crossentropy(y_true, y_pred):\n",
        "    # Apply weights based on class labels\n",
        "    weights = y_true * class_weights.get(0) + (1 - y_true) * class_weights.get(1)\n",
        "    weights = tf.cast(weights, tf.float32)\n",
        "    loss = tf.keras.losses.SparseCategoricalCrossentropy(from_logits=True)\n",
        "    weighted_loss = loss(y_true, y_pred) * weights\n",
        "    return tf.keras.metrics.Mean(name='weighted_loss')(weighted_loss)"
      ],
      "metadata": {
        "id": "0v54SpqRLSIt"
      },
      "execution_count": 337,
      "outputs": []
    },
    {
      "cell_type": "code",
      "source": [
        "def weighted_binary_crossentropy(y_true, y_pred):     # Apply weights based on class labels\n",
        "  weights = y_true * class_weights.get(0) + (1 - y_true) * class_weights.get(1)\n",
        "  loss = tf.keras.losses.SparseCategoricalCrossentropy(from_logits=True)\n",
        "  weighted_loss = loss(y_true, y_pred) * weights\n",
        "  return tf.keras.metrics.Mean(weighted_loss)"
      ],
      "metadata": {
        "id": "7PyiNEu4Phzo"
      },
      "execution_count": 328,
      "outputs": []
    },
    {
      "cell_type": "code",
      "source": [
        "list(class_weights.values())"
      ],
      "metadata": {
        "colab": {
          "base_uri": "https://localhost:8080/"
        },
        "id": "zhiy57do_rZf",
        "outputId": "c16eec62-7072-46e9-c9f0-ff83bb712c01"
      },
      "execution_count": 283,
      "outputs": [
        {
          "output_type": "execute_result",
          "data": {
            "text/plain": [
              "[2.9930555555555554, 0.6002785515320335]"
            ]
          },
          "metadata": {},
          "execution_count": 283
        }
      ]
    },
    {
      "cell_type": "code",
      "source": [
        "loss = tf.keras.losses.SparseCategoricalCrossentropy(from_logits=True)\n",
        "#loss = tf.keras.losses.BinaryCrossentropy(from_logits = True)\n",
        "\n",
        "model.compile(optimizer=optimizer, loss=weighted_binary_crossentropy)"
      ],
      "metadata": {
        "id": "ftOKWMWUxzGy"
      },
      "execution_count": 338,
      "outputs": []
    },
    {
      "cell_type": "code",
      "source": [
        "model.fit(x=tf_train_set, validation_data=tf_test_set, epochs=3)"
      ],
      "metadata": {
        "colab": {
          "base_uri": "https://localhost:8080/",
          "height": 879
        },
        "id": "m-ICbAdvsP9W",
        "outputId": "6f236862-ae22-43f5-b0bc-488ff8927011"
      },
      "execution_count": 339,
      "outputs": [
        {
          "output_type": "stream",
          "name": "stdout",
          "text": [
            "Epoch 1/3\n"
          ]
        },
        {
          "output_type": "error",
          "ename": "ValueError",
          "evalue": "ignored",
          "traceback": [
            "\u001b[0;31m---------------------------------------------------------------------------\u001b[0m",
            "\u001b[0;31mValueError\u001b[0m                                Traceback (most recent call last)",
            "\u001b[0;32m<ipython-input-339-95ccc96bd211>\u001b[0m in \u001b[0;36m<cell line: 1>\u001b[0;34m()\u001b[0m\n\u001b[0;32m----> 1\u001b[0;31m \u001b[0mmodel\u001b[0m\u001b[0;34m.\u001b[0m\u001b[0mfit\u001b[0m\u001b[0;34m(\u001b[0m\u001b[0mx\u001b[0m\u001b[0;34m=\u001b[0m\u001b[0mtf_train_set\u001b[0m\u001b[0;34m,\u001b[0m \u001b[0mvalidation_data\u001b[0m\u001b[0;34m=\u001b[0m\u001b[0mtf_test_set\u001b[0m\u001b[0;34m,\u001b[0m \u001b[0mepochs\u001b[0m\u001b[0;34m=\u001b[0m\u001b[0;36m3\u001b[0m\u001b[0;34m)\u001b[0m\u001b[0;34m\u001b[0m\u001b[0;34m\u001b[0m\u001b[0m\n\u001b[0m",
            "\u001b[0;32m/usr/local/lib/python3.10/dist-packages/keras/utils/traceback_utils.py\u001b[0m in \u001b[0;36merror_handler\u001b[0;34m(*args, **kwargs)\u001b[0m\n\u001b[1;32m     68\u001b[0m             \u001b[0;31m# To get the full stack trace, call:\u001b[0m\u001b[0;34m\u001b[0m\u001b[0;34m\u001b[0m\u001b[0m\n\u001b[1;32m     69\u001b[0m             \u001b[0;31m# `tf.debugging.disable_traceback_filtering()`\u001b[0m\u001b[0;34m\u001b[0m\u001b[0;34m\u001b[0m\u001b[0m\n\u001b[0;32m---> 70\u001b[0;31m             \u001b[0;32mraise\u001b[0m \u001b[0me\u001b[0m\u001b[0;34m.\u001b[0m\u001b[0mwith_traceback\u001b[0m\u001b[0;34m(\u001b[0m\u001b[0mfiltered_tb\u001b[0m\u001b[0;34m)\u001b[0m \u001b[0;32mfrom\u001b[0m \u001b[0;32mNone\u001b[0m\u001b[0;34m\u001b[0m\u001b[0;34m\u001b[0m\u001b[0m\n\u001b[0m\u001b[1;32m     71\u001b[0m         \u001b[0;32mfinally\u001b[0m\u001b[0;34m:\u001b[0m\u001b[0;34m\u001b[0m\u001b[0;34m\u001b[0m\u001b[0m\n\u001b[1;32m     72\u001b[0m             \u001b[0;32mdel\u001b[0m \u001b[0mfiltered_tb\u001b[0m\u001b[0;34m\u001b[0m\u001b[0;34m\u001b[0m\u001b[0m\n",
            "\u001b[0;32m/usr/local/lib/python3.10/dist-packages/keras/engine/training.py\u001b[0m in \u001b[0;36mtf__train_function\u001b[0;34m(iterator)\u001b[0m\n\u001b[1;32m     13\u001b[0m                 \u001b[0;32mtry\u001b[0m\u001b[0;34m:\u001b[0m\u001b[0;34m\u001b[0m\u001b[0;34m\u001b[0m\u001b[0m\n\u001b[1;32m     14\u001b[0m                     \u001b[0mdo_return\u001b[0m \u001b[0;34m=\u001b[0m \u001b[0;32mTrue\u001b[0m\u001b[0;34m\u001b[0m\u001b[0;34m\u001b[0m\u001b[0m\n\u001b[0;32m---> 15\u001b[0;31m                     \u001b[0mretval_\u001b[0m \u001b[0;34m=\u001b[0m \u001b[0mag__\u001b[0m\u001b[0;34m.\u001b[0m\u001b[0mconverted_call\u001b[0m\u001b[0;34m(\u001b[0m\u001b[0mag__\u001b[0m\u001b[0;34m.\u001b[0m\u001b[0mld\u001b[0m\u001b[0;34m(\u001b[0m\u001b[0mstep_function\u001b[0m\u001b[0;34m)\u001b[0m\u001b[0;34m,\u001b[0m \u001b[0;34m(\u001b[0m\u001b[0mag__\u001b[0m\u001b[0;34m.\u001b[0m\u001b[0mld\u001b[0m\u001b[0;34m(\u001b[0m\u001b[0mself\u001b[0m\u001b[0;34m)\u001b[0m\u001b[0;34m,\u001b[0m \u001b[0mag__\u001b[0m\u001b[0;34m.\u001b[0m\u001b[0mld\u001b[0m\u001b[0;34m(\u001b[0m\u001b[0miterator\u001b[0m\u001b[0;34m)\u001b[0m\u001b[0;34m)\u001b[0m\u001b[0;34m,\u001b[0m \u001b[0;32mNone\u001b[0m\u001b[0;34m,\u001b[0m \u001b[0mfscope\u001b[0m\u001b[0;34m)\u001b[0m\u001b[0;34m\u001b[0m\u001b[0;34m\u001b[0m\u001b[0m\n\u001b[0m\u001b[1;32m     16\u001b[0m                 \u001b[0;32mexcept\u001b[0m\u001b[0;34m:\u001b[0m\u001b[0;34m\u001b[0m\u001b[0;34m\u001b[0m\u001b[0m\n\u001b[1;32m     17\u001b[0m                     \u001b[0mdo_return\u001b[0m \u001b[0;34m=\u001b[0m \u001b[0;32mFalse\u001b[0m\u001b[0;34m\u001b[0m\u001b[0;34m\u001b[0m\u001b[0m\n",
            "\u001b[0;32m/usr/local/lib/python3.10/dist-packages/transformers/modeling_tf_utils.py\u001b[0m in \u001b[0;36mtrain_step\u001b[0;34m(self, data)\u001b[0m\n\u001b[1;32m   1693\u001b[0m \u001b[0;34m\u001b[0m\u001b[0m\n\u001b[1;32m   1694\u001b[0m         \u001b[0;31m# Run backwards pass.\u001b[0m\u001b[0;34m\u001b[0m\u001b[0;34m\u001b[0m\u001b[0m\n\u001b[0;32m-> 1695\u001b[0;31m         \u001b[0mself\u001b[0m\u001b[0;34m.\u001b[0m\u001b[0moptimizer\u001b[0m\u001b[0;34m.\u001b[0m\u001b[0mminimize\u001b[0m\u001b[0;34m(\u001b[0m\u001b[0mloss\u001b[0m\u001b[0;34m,\u001b[0m \u001b[0mself\u001b[0m\u001b[0;34m.\u001b[0m\u001b[0mtrainable_variables\u001b[0m\u001b[0;34m,\u001b[0m \u001b[0mtape\u001b[0m\u001b[0;34m=\u001b[0m\u001b[0mtape\u001b[0m\u001b[0;34m)\u001b[0m\u001b[0;34m\u001b[0m\u001b[0;34m\u001b[0m\u001b[0m\n\u001b[0m\u001b[1;32m   1696\u001b[0m \u001b[0;34m\u001b[0m\u001b[0m\n\u001b[1;32m   1697\u001b[0m         \u001b[0mself\u001b[0m\u001b[0;34m.\u001b[0m\u001b[0mcompiled_metrics\u001b[0m\u001b[0;34m.\u001b[0m\u001b[0mupdate_state\u001b[0m\u001b[0;34m(\u001b[0m\u001b[0my\u001b[0m\u001b[0;34m,\u001b[0m \u001b[0my_pred\u001b[0m\u001b[0;34m,\u001b[0m \u001b[0msample_weight\u001b[0m\u001b[0;34m)\u001b[0m\u001b[0;34m\u001b[0m\u001b[0;34m\u001b[0m\u001b[0m\n",
            "\u001b[0;31mValueError\u001b[0m: in user code:\n\n    File \"/usr/local/lib/python3.10/dist-packages/keras/engine/training.py\", line 1284, in train_function  *\n        return step_function(self, iterator)\n    File \"/usr/local/lib/python3.10/dist-packages/keras/engine/training.py\", line 1268, in step_function  **\n        outputs = model.distribute_strategy.run(run_step, args=(data,))\n    File \"/usr/local/lib/python3.10/dist-packages/keras/engine/training.py\", line 1249, in run_step  **\n        outputs = model.train_step(data)\n    File \"/usr/local/lib/python3.10/dist-packages/transformers/modeling_tf_utils.py\", line 1695, in train_step\n        self.optimizer.minimize(loss, self.trainable_variables, tape=tape)\n    File \"/usr/local/lib/python3.10/dist-packages/keras/optimizers/optimizer.py\", line 543, in minimize\n        self.apply_gradients(grads_and_vars)\n    File \"/usr/local/lib/python3.10/dist-packages/keras/optimizers/optimizer.py\", line 1173, in apply_gradients\n        grads_and_vars = self.aggregate_gradients(grads_and_vars)\n    File \"/usr/local/lib/python3.10/dist-packages/keras/optimizers/optimizer.py\", line 1139, in aggregate_gradients\n        return optimizer_utils.all_reduce_sum_gradients(grads_and_vars)\n    File \"/usr/local/lib/python3.10/dist-packages/keras/optimizers/utils.py\", line 33, in all_reduce_sum_gradients\n        filtered_grads_and_vars = filter_empty_gradients(grads_and_vars)\n    File \"/usr/local/lib/python3.10/dist-packages/keras/optimizers/utils.py\", line 77, in filter_empty_gradients\n        raise ValueError(\n\n    ValueError: No gradients provided for any variable: (['tf_bert_for_sequence_classification_4/bert/embeddings/word_embeddings/weight:0', 'tf_bert_for_sequence_classification_4/bert/embeddings/token_type_embeddings/embeddings:0', 'tf_bert_for_sequence_classification_4/bert/embeddings/position_embeddings/embeddings:0', 'tf_bert_for_sequence_classification_4/bert/embeddings/LayerNorm/gamma:0', 'tf_bert_for_sequence_classification_4/bert/embeddings/LayerNorm/beta:0', 'tf_bert_for_sequence_classification_4/bert/encoder/layer_._0/attention/self/query/kernel:0', 'tf_bert_for_sequence_classification_4/bert/encoder/layer_._0/attention/self/query/bias:0', 'tf_bert_for_sequence_classification_4/bert/encoder/layer_._0/attention/self/key/kernel:0', 'tf_bert_for_sequence_classification_4/bert/encoder/layer_._0/attention/self/key/bias:0', 'tf_bert_for_sequence_classification_4/bert/encoder/layer_._0/attention/self/value/kernel:0', 'tf_bert_for_sequence_classification_4/bert/encoder/layer_._0/attention/self/value/bias:0', 'tf_bert_for_sequence_classification_4/bert/encoder/layer_._0/attention/output/dense/kernel:0', 'tf_bert_for_sequence_classification_4/bert/encoder/layer_._0/attention/output/dense/bias:0', 'tf_bert_for_sequence_classification_4/bert/encoder/layer_._0/attention/output/LayerNorm/gamma:0', 'tf_bert_for_sequence_classification_4/bert/encoder/layer_._0/attention/output/LayerNorm/beta:0', 'tf_bert_for_sequence_classification_4/bert/encoder/layer_._0/intermediate/dense/kern...\n"
          ]
        }
      ]
    },
    {
      "cell_type": "code",
      "source": [
        "sentences = [\n",
        "    \"I love pizza!\",\n",
        "    \"I fucking love pizza!!!11!1!!\"\n",
        "]"
      ],
      "metadata": {
        "id": "hzFSDq021HNE"
      },
      "execution_count": null,
      "outputs": []
    },
    {
      "cell_type": "code",
      "source": [
        "tokenized = tokenizer(sentences, return_tensors=\"np\", padding=\"longest\")\n",
        "\n",
        "outputs = model(tokenized).logits\n",
        "\n",
        "classifications = np.argmax(outputs, axis=1)\n",
        "print(classifications)"
      ],
      "metadata": {
        "id": "UHBes-7a0xbS"
      },
      "execution_count": null,
      "outputs": []
    }
  ]
}